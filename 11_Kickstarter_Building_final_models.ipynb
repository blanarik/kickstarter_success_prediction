{
 "cells": [
  {
   "cell_type": "code",
   "execution_count": 1,
   "metadata": {
    "collapsed": true
   },
   "outputs": [],
   "source": [
    "%matplotlib inline\n",
    "import pandas as pd\n",
    "import seaborn as sns\n",
    "import matplotlib.pyplot as plt\n",
    "\n",
    "from sklearn import metrics\n",
    "from sklearn.metrics import recall_score\n",
    "from sklearn.metrics import precision_score\n",
    "\n",
    "from sklearn.feature_selection import RFECV\n",
    "\n",
    "from sklearn.model_selection import GridSearchCV\n",
    "\n",
    "from sklearn.utils import class_weight\n",
    "from imblearn.over_sampling import RandomOverSampler\n",
    "from imblearn.under_sampling import RandomUnderSampler\n",
    "\n",
    "from collections import Counter\n",
    "\n",
    "from sklearn.ensemble import GradientBoostingClassifier"
   ]
  },
  {
   "cell_type": "code",
   "execution_count": 2,
   "metadata": {
    "collapsed": true
   },
   "outputs": [],
   "source": [
    "df_results = pd.DataFrame()"
   ]
  },
  {
   "cell_type": "code",
   "execution_count": 3,
   "metadata": {
    "collapsed": true
   },
   "outputs": [],
   "source": [
    "# metrics for each class + weighted average (- bad impact)\n",
    "# micro f1 = accuracy\n",
    "def print_metrics(cls, X_test, y_test, balancing, phase_num):\n",
    "    global df_results\n",
    "    \n",
    "    predicted = cls.predict(X_test)\n",
    "    sns.heatmap(metrics.confusion_matrix(y_test, predicted), annot=True, fmt='g', annot_kws={\"size\": 16})\n",
    "    print('accuracy: ',metrics.accuracy_score(y_test, predicted))\n",
    "    print()\n",
    "    print(metrics.classification_report(y_test, predicted))\n",
    "    print('macro precision: ',metrics.precision_score(y_test, predicted, average='macro'))\n",
    "    print('micro precision: ',metrics.precision_score(y_test, predicted, average='micro'))\n",
    "    print()\n",
    "    print('micro recall: ',metrics.recall_score(y_test, predicted, average='micro'))\n",
    "    print('macro recall: ',metrics.recall_score(y_test, predicted, average='macro'))\n",
    "    print()\n",
    "    print('micro f1: ',metrics.f1_score(y_test, predicted, average='micro'))\n",
    "    print('macro f1: ',metrics.f1_score(y_test, predicted, average='macro'))\n",
    "    \n",
    "    df_result = pd.DataFrame({\n",
    "        'Fáza': [phase_num],\n",
    "        \n",
    "        'Vyváženie': [balancing],\n",
    "        \n",
    "        'S': [round(metrics.accuracy_score(y_test, predicted), 2)],\n",
    "        \n",
    "        'P_0': [round(precision_score(y_test, cls.predict(X_test), average=None)[0], 2)],\n",
    "        'P_1': [round(precision_score(y_test, cls.predict(X_test), average=None)[1], 2)],\n",
    "        'P_2': [round(precision_score(y_test, cls.predict(X_test), average=None)[2], 2)],\n",
    "        'P_3': [round(precision_score(y_test, cls.predict(X_test), average=None)[3], 2)],\n",
    "        \n",
    "        'Ú_0': [round(recall_score(y_test, cls.predict(X_test), average=None)[0], 2)],\n",
    "        'Ú_1': [round(recall_score(y_test, cls.predict(X_test), average=None)[1], 2)],\n",
    "        'Ú_2': [round(recall_score(y_test, cls.predict(X_test), average=None)[2], 2)],\n",
    "        'Ú_3': [round(recall_score(y_test, cls.predict(X_test), average=None)[3], 2)],\n",
    "        \n",
    "        'F1_makro': [round(metrics.f1_score(y_test, predicted, average='macro'), 2)],\n",
    "    })\n",
    "        \n",
    "    df_results = df_results.append(df_result, ignore_index=True)\n",
    "    \n",
    "    plt.show()"
   ]
  },
  {
   "cell_type": "code",
   "execution_count": 4,
   "metadata": {
    "collapsed": true
   },
   "outputs": [],
   "source": [
    "# tuning these HP\n",
    "params = {\n",
    "    'learning_rate': [0.12, 0.1, 0.08, 0.01, 0.2],\n",
    "    'n_estimators': [150, 100, 50],\n",
    "    'max_depth': [1, 2, 3, 4, 5],\n",
    "    'random_state': [64],\n",
    "}"
   ]
  },
  {
   "cell_type": "markdown",
   "metadata": {},
   "source": [
    "# Creating final datasets"
   ]
  },
  {
   "cell_type": "markdown",
   "metadata": {},
   "source": [
    "## Categorical data"
   ]
  },
  {
   "cell_type": "code",
   "execution_count": 5,
   "metadata": {
    "collapsed": true
   },
   "outputs": [],
   "source": [
    "# prepare categorical features (one hot encoded)\n",
    "categorical_train = pd.read_csv('data/split/transformed/train_categories.csv', index_col=0)\n",
    "categorical_test = pd.read_csv('data/split/transformed/test_categories.csv', index_col=0)\n",
    "categorical_cv = pd.read_csv('data/split/transformed/cv_categories.csv', index_col=0)"
   ]
  },
  {
   "cell_type": "code",
   "execution_count": 6,
   "metadata": {},
   "outputs": [
    {
     "data": {
      "text/plain": [
       "(18296, 60)"
      ]
     },
     "execution_count": 6,
     "metadata": {},
     "output_type": "execute_result"
    }
   ],
   "source": [
    "categorical_train.shape"
   ]
  },
  {
   "cell_type": "code",
   "execution_count": 7,
   "metadata": {},
   "outputs": [
    {
     "data": {
      "text/plain": [
       "(6099, 60)"
      ]
     },
     "execution_count": 7,
     "metadata": {},
     "output_type": "execute_result"
    }
   ],
   "source": [
    "categorical_test.shape"
   ]
  },
  {
   "cell_type": "code",
   "execution_count": 8,
   "metadata": {},
   "outputs": [
    {
     "data": {
      "text/plain": [
       "(6100, 60)"
      ]
     },
     "execution_count": 8,
     "metadata": {},
     "output_type": "execute_result"
    }
   ],
   "source": [
    "categorical_cv.shape"
   ]
  },
  {
   "cell_type": "markdown",
   "metadata": {},
   "source": [
    "## LSA groups"
   ]
  },
  {
   "cell_type": "code",
   "execution_count": 9,
   "metadata": {
    "collapsed": true
   },
   "outputs": [],
   "source": [
    "# prepare LSA groups\n",
    "lsa_train = pd.read_csv('data/split/nlp/min_max_df/train_lsa.csv', index_col=0)\n",
    "lsa_test = pd.read_csv('data/split/nlp/min_max_df/test_lsa.csv', index_col=0)\n",
    "lsa_cv = pd.read_csv('data/split/nlp/min_max_df/cv_lsa.csv', index_col=0)\n",
    "\n",
    "# contained in static+dynamic data\n",
    "lsa_train.drop(['ratio_running_duration'], axis=1, inplace=True)\n",
    "lsa_test.drop(['ratio_running_duration'], axis=1, inplace=True)\n",
    "lsa_cv.drop(['ratio_running_duration'], axis=1, inplace=True)\n",
    "\n",
    "# rename columns\n",
    "lsa_train.rename(columns= lambda x: 'LSA_' + str(x), inplace=True)\n",
    "lsa_test.rename(columns= lambda x: 'LSA_' + str(x), inplace=True)\n",
    "lsa_cv.rename(columns= lambda x: 'LSA_' + str(x), inplace=True)"
   ]
  },
  {
   "cell_type": "code",
   "execution_count": 10,
   "metadata": {},
   "outputs": [
    {
     "data": {
      "text/plain": [
       "(18296, 25)"
      ]
     },
     "execution_count": 10,
     "metadata": {},
     "output_type": "execute_result"
    }
   ],
   "source": [
    "lsa_train.shape"
   ]
  },
  {
   "cell_type": "code",
   "execution_count": 11,
   "metadata": {
    "scrolled": true
   },
   "outputs": [
    {
     "data": {
      "text/plain": [
       "(6099, 25)"
      ]
     },
     "execution_count": 11,
     "metadata": {},
     "output_type": "execute_result"
    }
   ],
   "source": [
    "lsa_test.shape"
   ]
  },
  {
   "cell_type": "code",
   "execution_count": 12,
   "metadata": {},
   "outputs": [
    {
     "data": {
      "text/plain": [
       "(6100, 25)"
      ]
     },
     "execution_count": 12,
     "metadata": {},
     "output_type": "execute_result"
    }
   ],
   "source": [
    "lsa_cv.shape"
   ]
  },
  {
   "cell_type": "markdown",
   "metadata": {},
   "source": [
    "## LDA topics"
   ]
  },
  {
   "cell_type": "code",
   "execution_count": 13,
   "metadata": {
    "collapsed": true
   },
   "outputs": [],
   "source": [
    "# prepare LDA topics\n",
    "lda_train = pd.read_csv('data/split/nlp/train_lda25.csv', index_col=0)\n",
    "lda_test = pd.read_csv('data/split/nlp/test_lda25.csv', index_col=0)\n",
    "lda_cv = pd.read_csv('data/split/nlp/cv_lda25.csv', index_col=0)\n",
    "\n",
    "# contained in static+dynamic data\n",
    "lda_train.drop(['ratio_running_duration'], axis=1, inplace=True)\n",
    "lda_test.drop(['ratio_running_duration'], axis=1, inplace=True)\n",
    "lda_cv.drop(['ratio_running_duration'], axis=1, inplace=True)\n",
    "\n",
    "# rename columns\n",
    "lda_train.rename(columns= lambda x: 'LDA_' + str(x), inplace=True)\n",
    "lda_test.rename(columns= lambda x: 'LDA_' + str(x), inplace=True)\n",
    "lda_cv.rename(columns= lambda x: 'LDA_' + str(x), inplace=True)"
   ]
  },
  {
   "cell_type": "code",
   "execution_count": 14,
   "metadata": {},
   "outputs": [
    {
     "data": {
      "text/plain": [
       "(18296, 25)"
      ]
     },
     "execution_count": 14,
     "metadata": {},
     "output_type": "execute_result"
    }
   ],
   "source": [
    "lda_train.shape"
   ]
  },
  {
   "cell_type": "code",
   "execution_count": 15,
   "metadata": {
    "scrolled": true
   },
   "outputs": [
    {
     "data": {
      "text/plain": [
       "(6099, 25)"
      ]
     },
     "execution_count": 15,
     "metadata": {},
     "output_type": "execute_result"
    }
   ],
   "source": [
    "lda_test.shape"
   ]
  },
  {
   "cell_type": "code",
   "execution_count": 16,
   "metadata": {},
   "outputs": [
    {
     "data": {
      "text/plain": [
       "(6100, 25)"
      ]
     },
     "execution_count": 16,
     "metadata": {},
     "output_type": "execute_result"
    }
   ],
   "source": [
    "lda_cv.shape"
   ]
  },
  {
   "cell_type": "markdown",
   "metadata": {},
   "source": [
    "## Original data (no scaling, no normalization)\n",
    "\n",
    "We use only original data for the final models as we will only use GradientBoostingClassifier performs similarily with original and transformed data (maybe a bit better with original data)."
   ]
  },
  {
   "cell_type": "code",
   "execution_count": 17,
   "metadata": {},
   "outputs": [],
   "source": [
    "# prepare original data \n",
    "train = pd.read_csv('data/split/transformed/train_original.csv', index_col=0)\n",
    "test = pd.read_csv('data/split/transformed/test_original.csv', index_col=0)\n",
    "cv = pd.read_csv('data/split/transformed/cv_original.csv', index_col=0)\n",
    "\n",
    "# merge with categorical, lsa and lda\n",
    "train = pd.concat([train, categorical_train, lsa_train, lda_train], axis=1)\n",
    "test = pd.concat([test, categorical_test, lsa_test, lda_test], axis=1)\n",
    "cv = pd.concat([cv, categorical_cv, lsa_cv, lda_cv], axis=1)"
   ]
  },
  {
   "cell_type": "code",
   "execution_count": 18,
   "metadata": {},
   "outputs": [
    {
     "data": {
      "text/plain": [
       "(18296, 152)"
      ]
     },
     "execution_count": 18,
     "metadata": {},
     "output_type": "execute_result"
    }
   ],
   "source": [
    "train.shape"
   ]
  },
  {
   "cell_type": "code",
   "execution_count": 19,
   "metadata": {},
   "outputs": [
    {
     "data": {
      "text/plain": [
       "(6099, 152)"
      ]
     },
     "execution_count": 19,
     "metadata": {},
     "output_type": "execute_result"
    }
   ],
   "source": [
    "test.shape"
   ]
  },
  {
   "cell_type": "code",
   "execution_count": 20,
   "metadata": {},
   "outputs": [
    {
     "data": {
      "text/plain": [
       "(6100, 152)"
      ]
     },
     "execution_count": 20,
     "metadata": {},
     "output_type": "execute_result"
    }
   ],
   "source": [
    "cv.shape"
   ]
  },
  {
   "cell_type": "code",
   "execution_count": 21,
   "metadata": {},
   "outputs": [
    {
     "name": "stdout",
     "output_type": "stream",
     "text": [
      "<class 'pandas.core.frame.DataFrame'>\n",
      "Int64Index: 18296 entries, 0 to 18295\n",
      "Data columns (total 152 columns):\n",
      "average_pledge                           18296 non-null float64\n",
      "backers_count                            18296 non-null int64\n",
      "category_position                        18296 non-null int64\n",
      "days_duration                            18296 non-null int64\n",
      "days_preparation                         18296 non-null int64\n",
      "days_remaining                           18296 non-null int64\n",
      "days_running                             18296 non-null int64\n",
      "db_duration                              18296 non-null int64\n",
      "goal                                     18296 non-null float64\n",
      "pledged                                  18296 non-null float64\n",
      "ratio_pledged_goal                       18296 non-null float64\n",
      "ratio_running_duration                   18296 non-null float64\n",
      "staff_pick                               18296 non-null int64\n",
      "usd_goal                                 18296 non-null int64\n",
      "usd_pledged                              18296 non-null float64\n",
      "faq_count_while_scraping                 18296 non-null float64\n",
      "comments_count_creator_while_scraping    18296 non-null float64\n",
      "comments_count_public_while_scraping     18296 non-null float64\n",
      "updates_count_while_scraping             18296 non-null float64\n",
      "updates_likes_sum_while_scraping         18296 non-null float64\n",
      "updates_likes_mean_while_scraping        18296 non-null float64\n",
      "updates_likes_min_while_scraping         18296 non-null float64\n",
      "updates_likes_max_while_scraping         18296 non-null float64\n",
      "updates_likes_median_while_scraping      18296 non-null float64\n",
      "deadline_year                            18296 non-null int64\n",
      "deadline_month                           18296 non-null int64\n",
      "deadline_day                             18296 non-null int64\n",
      "deadline_dayofweek                       18296 non-null int64\n",
      "deadline_hour                            18296 non-null int64\n",
      "launch_year                              18296 non-null int64\n",
      "launch_month                             18296 non-null int64\n",
      "launch_day                               18296 non-null int64\n",
      "launch_dayofweek                         18296 non-null int64\n",
      "launch_hour                              18296 non-null int64\n",
      "image_count                              18296 non-null int64\n",
      "video_kickstarter_count                  18296 non-null int64\n",
      "video_youtube_count                      18296 non-null int64\n",
      "video_count                              18296 non-null int64\n",
      "audio_count                              18296 non-null int64\n",
      "other_embeded_count                      18296 non-null int64\n",
      "blurb_words                              18296 non-null int64\n",
      "class                                    18296 non-null int64\n",
      "category_parent_art                      18296 non-null int64\n",
      "category_parent_comics                   18296 non-null int64\n",
      "category_parent_crafts                   18296 non-null int64\n",
      "category_parent_dance                    18296 non-null int64\n",
      "category_parent_design                   18296 non-null int64\n",
      "category_parent_fashion                  18296 non-null int64\n",
      "category_parent_film & video             18296 non-null int64\n",
      "category_parent_food                     18296 non-null int64\n",
      "category_parent_games                    18296 non-null int64\n",
      "category_parent_journalism               18296 non-null int64\n",
      "category_parent_music                    18296 non-null int64\n",
      "category_parent_photography              18296 non-null int64\n",
      "category_parent_publishing               18296 non-null int64\n",
      "category_parent_technology               18296 non-null int64\n",
      "category_parent_theater                  18296 non-null int64\n",
      "country_AT                               18296 non-null int64\n",
      "country_AU                               18296 non-null int64\n",
      "country_BE                               18296 non-null int64\n",
      "country_CA                               18296 non-null int64\n",
      "country_CH                               18296 non-null int64\n",
      "country_DE                               18296 non-null int64\n",
      "country_DK                               18296 non-null int64\n",
      "country_ES                               18296 non-null int64\n",
      "country_FR                               18296 non-null int64\n",
      "country_GB                               18296 non-null int64\n",
      "country_HK                               18296 non-null int64\n",
      "country_IE                               18296 non-null int64\n",
      "country_IT                               18296 non-null int64\n",
      "country_JP                               18296 non-null int64\n",
      "country_LU                               18296 non-null int64\n",
      "country_MX                               18296 non-null int64\n",
      "country_NL                               18296 non-null int64\n",
      "country_NO                               18296 non-null int64\n",
      "country_NZ                               18296 non-null int64\n",
      "country_SE                               18296 non-null int64\n",
      "country_SG                               18296 non-null int64\n",
      "country_US                               18296 non-null int64\n",
      "currency_AUD                             18296 non-null int64\n",
      "currency_CAD                             18296 non-null int64\n",
      "currency_CHF                             18296 non-null int64\n",
      "currency_DKK                             18296 non-null int64\n",
      "currency_EUR                             18296 non-null int64\n",
      "currency_GBP                             18296 non-null int64\n",
      "currency_HKD                             18296 non-null int64\n",
      "currency_JPY                             18296 non-null int64\n",
      "currency_MXN                             18296 non-null int64\n",
      "currency_NOK                             18296 non-null int64\n",
      "currency_NZD                             18296 non-null int64\n",
      "currency_SEK                             18296 non-null int64\n",
      "currency_SGD                             18296 non-null int64\n",
      "currency_USD                             18296 non-null int64\n",
      "location_type_Country                    18296 non-null int64\n",
      "location_type_County                     18296 non-null int64\n",
      "location_type_Estate                     18296 non-null int64\n",
      "location_type_Island                     18296 non-null int64\n",
      "location_type_LocalAdmin                 18296 non-null int64\n",
      "location_type_Miscellaneous              18296 non-null int64\n",
      "location_type_Suburb                     18296 non-null int64\n",
      "location_type_Town                       18296 non-null int64\n",
      "location_type_Zip                        18296 non-null int64\n",
      "LSA_0                                    18296 non-null float64\n",
      "LSA_1                                    18296 non-null float64\n",
      "LSA_2                                    18296 non-null float64\n",
      "LSA_3                                    18296 non-null float64\n",
      "LSA_4                                    18296 non-null float64\n",
      "LSA_5                                    18296 non-null float64\n",
      "LSA_6                                    18296 non-null float64\n",
      "LSA_7                                    18296 non-null float64\n",
      "LSA_8                                    18296 non-null float64\n",
      "LSA_9                                    18296 non-null float64\n",
      "LSA_10                                   18296 non-null float64\n",
      "LSA_11                                   18296 non-null float64\n",
      "LSA_12                                   18296 non-null float64\n",
      "LSA_13                                   18296 non-null float64\n",
      "LSA_14                                   18296 non-null float64\n",
      "LSA_15                                   18296 non-null float64\n",
      "LSA_16                                   18296 non-null float64\n",
      "LSA_17                                   18296 non-null float64\n",
      "LSA_18                                   18296 non-null float64\n",
      "LSA_19                                   18296 non-null float64\n",
      "LSA_20                                   18296 non-null float64\n",
      "LSA_21                                   18296 non-null float64\n",
      "LSA_22                                   18296 non-null float64\n",
      "LSA_23                                   18296 non-null float64\n",
      "LSA_24                                   18296 non-null float64\n",
      "LDA_0                                    18296 non-null float64\n",
      "LDA_1                                    18296 non-null float64\n",
      "LDA_2                                    18296 non-null float64\n",
      "LDA_3                                    18296 non-null float64\n",
      "LDA_4                                    18296 non-null float64\n",
      "LDA_5                                    18296 non-null float64\n",
      "LDA_6                                    18296 non-null float64\n",
      "LDA_7                                    18296 non-null float64\n",
      "LDA_8                                    18296 non-null float64\n",
      "LDA_9                                    18296 non-null float64\n",
      "LDA_10                                   18296 non-null float64\n",
      "LDA_11                                   18296 non-null float64\n",
      "LDA_12                                   18296 non-null float64\n",
      "LDA_13                                   18296 non-null float64\n",
      "LDA_14                                   18296 non-null float64\n",
      "LDA_15                                   18296 non-null float64\n",
      "LDA_16                                   18296 non-null float64\n",
      "LDA_17                                   18296 non-null float64\n",
      "LDA_18                                   18296 non-null float64\n",
      "LDA_19                                   18296 non-null float64\n",
      "LDA_20                                   18296 non-null float64\n",
      "LDA_21                                   18296 non-null float64\n",
      "LDA_22                                   18296 non-null float64\n",
      "LDA_23                                   18296 non-null float64\n",
      "LDA_24                                   18296 non-null float64\n",
      "dtypes: float64(65), int64(87)\n",
      "memory usage: 21.4 MB\n"
     ]
    }
   ],
   "source": [
    "train.info(max_cols=200)"
   ]
  },
  {
   "cell_type": "code",
   "execution_count": 22,
   "metadata": {
    "collapsed": true
   },
   "outputs": [],
   "source": [
    "train.to_csv('data/final/train.csv')\n",
    "test.to_csv('data/final/test.csv')\n",
    "cv.to_csv('data/final/cv.csv')"
   ]
  },
  {
   "cell_type": "code",
   "execution_count": null,
   "metadata": {
    "collapsed": true
   },
   "outputs": [],
   "source": []
  },
  {
   "cell_type": "markdown",
   "metadata": {},
   "source": [
    "## First stage 0-25% of campaign duration"
   ]
  },
  {
   "cell_type": "code",
   "execution_count": 69,
   "metadata": {
    "collapsed": true
   },
   "outputs": [],
   "source": [
    "phase_num = 1"
   ]
  },
  {
   "cell_type": "code",
   "execution_count": 79,
   "metadata": {},
   "outputs": [
    {
     "data": {
      "text/plain": [
       "(6284, 151)"
      ]
     },
     "execution_count": 79,
     "metadata": {},
     "output_type": "execute_result"
    }
   ],
   "source": [
    "features = pd.read_csv('data/final/train.csv', index_col=0)\n",
    "df = pd.read_csv('data/final/test.csv', index_col=0)\n",
    "features = features.append(df, ignore_index=True)\n",
    "\n",
    "features = features[features['ratio_running_duration'] < 25]\n",
    "\n",
    "labels = features['class']\n",
    "features = features.drop('class', axis=1)\n",
    "\n",
    "features.shape"
   ]
  },
  {
   "cell_type": "code",
   "execution_count": 80,
   "metadata": {},
   "outputs": [
    {
     "data": {
      "text/plain": [
       "(1572, 151)"
      ]
     },
     "execution_count": 80,
     "metadata": {},
     "output_type": "execute_result"
    }
   ],
   "source": [
    "featuresCV = pd.read_csv('data/final/cv.csv', index_col=0)\n",
    "\n",
    "featuresCV = featuresCV[featuresCV['ratio_running_duration'] < 25]\n",
    "\n",
    "labelsCV = featuresCV['class']\n",
    "featuresCV = featuresCV.drop('class', axis=1)\n",
    "\n",
    "featuresCV.shape"
   ]
  },
  {
   "cell_type": "markdown",
   "metadata": {},
   "source": [
    "### Feature selection"
   ]
  },
  {
   "cell_type": "code",
   "execution_count": 26,
   "metadata": {},
   "outputs": [
    {
     "name": "stdout",
     "output_type": "stream",
     "text": [
      "Wall time: 1h 32min 50s\n"
     ]
    }
   ],
   "source": [
    "%%time\n",
    "# remove highly corelated data\n",
    "features.drop(['db_duration', 'goal'], axis=1, inplace=True)\n",
    "\n",
    "# Recursive feature elimination using GBC with default parameters\n",
    "selected_features = []\n",
    "all_features = features.columns.tolist()\n",
    "estimator = GradientBoostingClassifier(random_state=64)\n",
    "selector = RFECV(estimator, step=1, cv=5, n_jobs=-1, scoring='accuracy')\n",
    "selector = selector.fit(features, labels)\n",
    "\n",
    "for i, support in zip(range(len(selector.support_)), selector.support_):\n",
    "    if support:\n",
    "        selected_features.append(all_features[i])"
   ]
  },
  {
   "cell_type": "code",
   "execution_count": 88,
   "metadata": {},
   "outputs": [
    {
     "data": {
      "text/plain": [
       "['average_pledge',\n",
       " 'backers_count',\n",
       " 'category_position',\n",
       " 'days_duration',\n",
       " 'days_preparation',\n",
       " 'days_remaining',\n",
       " 'days_running',\n",
       " 'pledged',\n",
       " 'ratio_pledged_goal',\n",
       " 'ratio_running_duration',\n",
       " 'usd_goal',\n",
       " 'usd_pledged',\n",
       " 'comments_count_public_while_scraping',\n",
       " 'updates_likes_sum_while_scraping',\n",
       " 'updates_likes_max_while_scraping',\n",
       " 'deadline_day',\n",
       " 'deadline_hour',\n",
       " 'launch_month',\n",
       " 'launch_day',\n",
       " 'launch_hour',\n",
       " 'image_count',\n",
       " 'blurb_words',\n",
       " 'category_parent_fashion',\n",
       " 'location_type_Miscellaneous',\n",
       " 'LSA_0',\n",
       " 'LSA_1',\n",
       " 'LSA_2',\n",
       " 'LSA_3',\n",
       " 'LSA_4',\n",
       " 'LSA_5',\n",
       " 'LSA_6',\n",
       " 'LSA_7',\n",
       " 'LSA_8',\n",
       " 'LSA_9',\n",
       " 'LSA_10',\n",
       " 'LSA_11',\n",
       " 'LSA_12',\n",
       " 'LSA_13',\n",
       " 'LSA_14',\n",
       " 'LSA_15',\n",
       " 'LSA_16',\n",
       " 'LSA_17',\n",
       " 'LSA_18',\n",
       " 'LSA_19',\n",
       " 'LSA_20',\n",
       " 'LSA_21',\n",
       " 'LSA_22',\n",
       " 'LSA_23',\n",
       " 'LSA_24',\n",
       " 'LDA_0',\n",
       " 'LDA_1',\n",
       " 'LDA_2',\n",
       " 'LDA_3',\n",
       " 'LDA_4',\n",
       " 'LDA_5',\n",
       " 'LDA_6',\n",
       " 'LDA_7',\n",
       " 'LDA_8',\n",
       " 'LDA_9',\n",
       " 'LDA_10',\n",
       " 'LDA_11',\n",
       " 'LDA_12',\n",
       " 'LDA_13',\n",
       " 'LDA_14',\n",
       " 'LDA_15',\n",
       " 'LDA_16',\n",
       " 'LDA_17',\n",
       " 'LDA_18',\n",
       " 'LDA_19',\n",
       " 'LDA_20',\n",
       " 'LDA_21',\n",
       " 'LDA_22',\n",
       " 'LDA_23',\n",
       " 'LDA_24']"
      ]
     },
     "execution_count": 88,
     "metadata": {},
     "output_type": "execute_result"
    }
   ],
   "source": [
    "selected_features"
   ]
  },
  {
   "cell_type": "code",
   "execution_count": 89,
   "metadata": {},
   "outputs": [
    {
     "data": {
      "text/plain": [
       "(6284, 74)"
      ]
     },
     "execution_count": 89,
     "metadata": {},
     "output_type": "execute_result"
    }
   ],
   "source": [
    "features = features[selected_features]\n",
    "features.shape"
   ]
  },
  {
   "cell_type": "code",
   "execution_count": 90,
   "metadata": {},
   "outputs": [
    {
     "data": {
      "text/plain": [
       "(1572, 74)"
      ]
     },
     "execution_count": 90,
     "metadata": {},
     "output_type": "execute_result"
    }
   ],
   "source": [
    "featuresCV = featuresCV[selected_features]\n",
    "featuresCV.shape"
   ]
  },
  {
   "cell_type": "code",
   "execution_count": 91,
   "metadata": {},
   "outputs": [
    {
     "data": {
      "text/plain": [
       "True    74\n",
       "dtype: int64"
      ]
     },
     "execution_count": 91,
     "metadata": {},
     "output_type": "execute_result"
    }
   ],
   "source": [
    "pd.Series(features.columns == featuresCV.columns).value_counts()"
   ]
  },
  {
   "cell_type": "markdown",
   "metadata": {},
   "source": [
    "### Training"
   ]
  },
  {
   "cell_type": "markdown",
   "metadata": {},
   "source": [
    "#### Unbalanced"
   ]
  },
  {
   "cell_type": "code",
   "execution_count": 32,
   "metadata": {
    "collapsed": true
   },
   "outputs": [],
   "source": [
    "gs = GridSearchCV(GradientBoostingClassifier(), params, scoring='accuracy', cv=5, n_jobs=-1, error_score=0)"
   ]
  },
  {
   "cell_type": "code",
   "execution_count": 33,
   "metadata": {},
   "outputs": [
    {
     "name": "stdout",
     "output_type": "stream",
     "text": [
      "Wall time: 36min 31s\n"
     ]
    },
    {
     "data": {
      "text/plain": [
       "GridSearchCV(cv=5, error_score=0,\n",
       "       estimator=GradientBoostingClassifier(criterion='friedman_mse', init=None,\n",
       "              learning_rate=0.1, loss='deviance', max_depth=3,\n",
       "              max_features=None, max_leaf_nodes=None,\n",
       "              min_impurity_decrease=0.0, min_impurity_split=None,\n",
       "              min_samples_leaf=1, min_samples_split=2,\n",
       "              min_weight_fraction_leaf=0.0, n_estimators=100,\n",
       "              presort='auto', random_state=None, subsample=1.0, verbose=0,\n",
       "              warm_start=False),\n",
       "       fit_params=None, iid=True, n_jobs=-1,\n",
       "       param_grid={'learning_rate': [0.12, 0.1, 0.08, 0.01, 0.2], 'n_estimators': [150, 100, 50], 'max_depth': [1, 2, 3, 4, 5], 'random_state': [64]},\n",
       "       pre_dispatch='2*n_jobs', refit=True, return_train_score='warn',\n",
       "       scoring='accuracy', verbose=0)"
      ]
     },
     "execution_count": 33,
     "metadata": {},
     "output_type": "execute_result"
    }
   ],
   "source": [
    "%%time\n",
    "gs.fit(features, labels)"
   ]
  },
  {
   "cell_type": "code",
   "execution_count": 34,
   "metadata": {},
   "outputs": [
    {
     "name": "stderr",
     "output_type": "stream",
     "text": [
      "C:\\Users\\Patrik\\Anaconda3\\lib\\site-packages\\sklearn\\model_selection\\_search.py:761: DeprecationWarning: The grid_scores_ attribute was deprecated in version 0.18 in favor of the more elaborate cv_results_ attribute. The grid_scores_ attribute will not be available from 0.20\n",
      "  DeprecationWarning)\n"
     ]
    },
    {
     "data": {
      "text/plain": [
       "[mean: 0.74523, std: 0.00487, params: {'learning_rate': 0.08, 'max_depth': 3, 'n_estimators': 150, 'random_state': 64},\n",
       " mean: 0.74491, std: 0.00371, params: {'learning_rate': 0.08, 'max_depth': 3, 'n_estimators': 100, 'random_state': 64},\n",
       " mean: 0.74475, std: 0.00301, params: {'learning_rate': 0.2, 'max_depth': 1, 'n_estimators': 100, 'random_state': 64},\n",
       " mean: 0.74459, std: 0.00766, params: {'learning_rate': 0.12, 'max_depth': 3, 'n_estimators': 100, 'random_state': 64},\n",
       " mean: 0.74459, std: 0.00552, params: {'learning_rate': 0.1, 'max_depth': 3, 'n_estimators': 100, 'random_state': 64},\n",
       " mean: 0.74411, std: 0.00453, params: {'learning_rate': 0.2, 'max_depth': 1, 'n_estimators': 150, 'random_state': 64},\n",
       " mean: 0.74395, std: 0.00770, params: {'learning_rate': 0.08, 'max_depth': 4, 'n_estimators': 100, 'random_state': 64},\n",
       " mean: 0.74379, std: 0.00757, params: {'learning_rate': 0.12, 'max_depth': 3, 'n_estimators': 150, 'random_state': 64},\n",
       " mean: 0.74348, std: 0.00644, params: {'learning_rate': 0.1, 'max_depth': 3, 'n_estimators': 50, 'random_state': 64},\n",
       " mean: 0.74348, std: 0.00651, params: {'learning_rate': 0.08, 'max_depth': 4, 'n_estimators': 50, 'random_state': 64}]"
      ]
     },
     "execution_count": 34,
     "metadata": {},
     "output_type": "execute_result"
    }
   ],
   "source": [
    "sorted(gs.grid_scores_, key=lambda x: x.mean_validation_score, reverse=True)[:10]"
   ]
  },
  {
   "cell_type": "code",
   "execution_count": 35,
   "metadata": {},
   "outputs": [
    {
     "data": {
      "text/plain": [
       "GradientBoostingClassifier(criterion='friedman_mse', init=None,\n",
       "              learning_rate=0.08, loss='deviance', max_depth=3,\n",
       "              max_features=None, max_leaf_nodes=None,\n",
       "              min_impurity_decrease=0.0, min_impurity_split=None,\n",
       "              min_samples_leaf=1, min_samples_split=2,\n",
       "              min_weight_fraction_leaf=0.0, n_estimators=150,\n",
       "              presort='auto', random_state=64, subsample=1.0, verbose=0,\n",
       "              warm_start=False)"
      ]
     },
     "execution_count": 35,
     "metadata": {},
     "output_type": "execute_result"
    }
   ],
   "source": [
    "best_unbalanced = gs.best_estimator_\n",
    "best_unbalanced"
   ]
  },
  {
   "cell_type": "code",
   "execution_count": 36,
   "metadata": {},
   "outputs": [
    {
     "name": "stdout",
     "output_type": "stream",
     "text": [
      "accuracy:  0.756997455471\n",
      "\n",
      "             precision    recall  f1-score   support\n",
      "\n",
      "          1       0.87      0.97      0.91       659\n",
      "          2       0.53      0.41      0.46       209\n",
      "          3       0.60      0.60      0.60       336\n",
      "          4       0.79      0.73      0.75       368\n",
      "\n",
      "avg / total       0.75      0.76      0.75      1572\n",
      "\n",
      "macro precision:  0.695165566841\n",
      "micro precision:  0.756997455471\n",
      "\n",
      "micro recall:  0.756997455471\n",
      "macro recall:  0.674632788335\n",
      "\n",
      "micro f1:  0.756997455471\n",
      "macro f1:  0.681871384378\n"
     ]
    },
    {
     "data": {
      "image/png": "[encoded data removed]",
      "text/plain": [
       "<matplotlib.figure.Figure at 0x1b64ac49a90>"
      ]
     },
     "metadata": {},
     "output_type": "display_data"
    }
   ],
   "source": [
    "print_metrics(best_unbalanced, featuresCV, labelsCV, 'žiadne', phase_num)"
   ]
  },
  {
   "cell_type": "markdown",
   "metadata": {},
   "source": [
    "#### Class weights"
   ]
  },
  {
   "cell_type": "code",
   "execution_count": 37,
   "metadata": {
    "collapsed": true
   },
   "outputs": [],
   "source": [
    "labels_weights = class_weight.compute_sample_weight('balanced', labels)"
   ]
  },
  {
   "cell_type": "code",
   "execution_count": 38,
   "metadata": {
    "collapsed": true
   },
   "outputs": [],
   "source": [
    "gs = GridSearchCV(GradientBoostingClassifier(), params, scoring='accuracy', cv=5, n_jobs=-1, error_score=0)"
   ]
  },
  {
   "cell_type": "code",
   "execution_count": 39,
   "metadata": {},
   "outputs": [
    {
     "name": "stdout",
     "output_type": "stream",
     "text": [
      "Wall time: 38min 7s\n"
     ]
    },
    {
     "data": {
      "text/plain": [
       "GridSearchCV(cv=5, error_score=0,\n",
       "       estimator=GradientBoostingClassifier(criterion='friedman_mse', init=None,\n",
       "              learning_rate=0.1, loss='deviance', max_depth=3,\n",
       "              max_features=None, max_leaf_nodes=None,\n",
       "              min_impurity_decrease=0.0, min_impurity_split=None,\n",
       "              min_samples_leaf=1, min_samples_split=2,\n",
       "              min_weight_fraction_leaf=0.0, n_estimators=100,\n",
       "              presort='auto', random_state=None, subsample=1.0, verbose=0,\n",
       "              warm_start=False),\n",
       "       fit_params=None, iid=True, n_jobs=-1,\n",
       "       param_grid={'learning_rate': [0.12, 0.1, 0.08, 0.01, 0.2], 'n_estimators': [150, 100, 50], 'max_depth': [1, 2, 3, 4, 5], 'random_state': [64]},\n",
       "       pre_dispatch='2*n_jobs', refit=True, return_train_score='warn',\n",
       "       scoring='accuracy', verbose=0)"
      ]
     },
     "execution_count": 39,
     "metadata": {},
     "output_type": "execute_result"
    }
   ],
   "source": [
    "%%time\n",
    "gs.fit(features, labels, sample_weight=labels_weights)"
   ]
  },
  {
   "cell_type": "code",
   "execution_count": 40,
   "metadata": {},
   "outputs": [
    {
     "name": "stderr",
     "output_type": "stream",
     "text": [
      "C:\\Users\\Patrik\\Anaconda3\\lib\\site-packages\\sklearn\\model_selection\\_search.py:761: DeprecationWarning: The grid_scores_ attribute was deprecated in version 0.18 in favor of the more elaborate cv_results_ attribute. The grid_scores_ attribute will not be available from 0.20\n",
      "  DeprecationWarning)\n"
     ]
    },
    {
     "data": {
      "text/plain": [
       "[mean: 0.73838, std: 0.01143, params: {'learning_rate': 0.08, 'max_depth': 3, 'n_estimators': 150, 'random_state': 64},\n",
       " mean: 0.73822, std: 0.01352, params: {'learning_rate': 0.08, 'max_depth': 4, 'n_estimators': 150, 'random_state': 64},\n",
       " mean: 0.73759, std: 0.01392, params: {'learning_rate': 0.08, 'max_depth': 4, 'n_estimators': 100, 'random_state': 64},\n",
       " mean: 0.73504, std: 0.01247, params: {'learning_rate': 0.12, 'max_depth': 4, 'n_estimators': 150, 'random_state': 64},\n",
       " mean: 0.73488, std: 0.01271, params: {'learning_rate': 0.2, 'max_depth': 5, 'n_estimators': 150, 'random_state': 64},\n",
       " mean: 0.73456, std: 0.01480, params: {'learning_rate': 0.12, 'max_depth': 3, 'n_estimators': 150, 'random_state': 64},\n",
       " mean: 0.73440, std: 0.01009, params: {'learning_rate': 0.12, 'max_depth': 4, 'n_estimators': 100, 'random_state': 64},\n",
       " mean: 0.73409, std: 0.01272, params: {'learning_rate': 0.1, 'max_depth': 5, 'n_estimators': 150, 'random_state': 64},\n",
       " mean: 0.73377, std: 0.01365, params: {'learning_rate': 0.08, 'max_depth': 3, 'n_estimators': 100, 'random_state': 64},\n",
       " mean: 0.73377, std: 0.01443, params: {'learning_rate': 0.2, 'max_depth': 5, 'n_estimators': 100, 'random_state': 64}]"
      ]
     },
     "execution_count": 40,
     "metadata": {},
     "output_type": "execute_result"
    }
   ],
   "source": [
    "sorted(gs.grid_scores_, key=lambda x: x.mean_validation_score, reverse=True)[:10]"
   ]
  },
  {
   "cell_type": "code",
   "execution_count": 41,
   "metadata": {},
   "outputs": [
    {
     "data": {
      "text/plain": [
       "GradientBoostingClassifier(criterion='friedman_mse', init=None,\n",
       "              learning_rate=0.08, loss='deviance', max_depth=3,\n",
       "              max_features=None, max_leaf_nodes=None,\n",
       "              min_impurity_decrease=0.0, min_impurity_split=None,\n",
       "              min_samples_leaf=1, min_samples_split=2,\n",
       "              min_weight_fraction_leaf=0.0, n_estimators=150,\n",
       "              presort='auto', random_state=64, subsample=1.0, verbose=0,\n",
       "              warm_start=False)"
      ]
     },
     "execution_count": 41,
     "metadata": {},
     "output_type": "execute_result"
    }
   ],
   "source": [
    "best_weighted = gs.best_estimator_\n",
    "best_weighted"
   ]
  },
  {
   "cell_type": "code",
   "execution_count": 42,
   "metadata": {},
   "outputs": [
    {
     "name": "stdout",
     "output_type": "stream",
     "text": [
      "accuracy:  0.732188295165\n",
      "\n",
      "             precision    recall  f1-score   support\n",
      "\n",
      "          1       0.90      0.90      0.90       659\n",
      "          2       0.42      0.59      0.49       209\n",
      "          3       0.61      0.51      0.56       336\n",
      "          4       0.78      0.72      0.75       368\n",
      "\n",
      "avg / total       0.75      0.73      0.74      1572\n",
      "\n",
      "macro precision:  0.677252192081\n",
      "micro precision:  0.732188295165\n",
      "\n",
      "micro recall:  0.732188295165\n",
      "macro recall:  0.679035904228\n",
      "\n",
      "micro f1:  0.732188295165\n",
      "macro f1:  0.673075236261\n"
     ]
    },
    {
     "data": {
      "image/png": "[encoded data removed]",
      "text/plain": [
       "<matplotlib.figure.Figure at 0x1b64c15fbe0>"
      ]
     },
     "metadata": {},
     "output_type": "display_data"
    }
   ],
   "source": [
    "print_metrics(best_weighted, featuresCV, labelsCV, 'váhovanie', phase_num)"
   ]
  },
  {
   "cell_type": "markdown",
   "metadata": {},
   "source": [
    "#### Oversampling"
   ]
  },
  {
   "cell_type": "code",
   "execution_count": 43,
   "metadata": {},
   "outputs": [
    {
     "name": "stdout",
     "output_type": "stream",
     "text": [
      "[(1, 2617), (2, 2617), (3, 2617), (4, 2617)]\n"
     ]
    }
   ],
   "source": [
    "ros = RandomOverSampler(random_state=64)\n",
    "features_sampled, labels_sampled = ros.fit_sample(features, labels)\n",
    "print(sorted(Counter(labels_sampled).items()))"
   ]
  },
  {
   "cell_type": "code",
   "execution_count": 44,
   "metadata": {},
   "outputs": [
    {
     "data": {
      "text/plain": [
       "(10468, 74)"
      ]
     },
     "execution_count": 44,
     "metadata": {},
     "output_type": "execute_result"
    }
   ],
   "source": [
    "features_sampled = pd.DataFrame(features_sampled)\n",
    "features_sampled.columns = features.columns\n",
    "features_sampled.shape"
   ]
  },
  {
   "cell_type": "code",
   "execution_count": 45,
   "metadata": {
    "collapsed": true
   },
   "outputs": [],
   "source": [
    "gs = GridSearchCV(GradientBoostingClassifier(), params, scoring='accuracy', cv=5, n_jobs=-1, error_score=0)"
   ]
  },
  {
   "cell_type": "code",
   "execution_count": 46,
   "metadata": {},
   "outputs": [
    {
     "name": "stdout",
     "output_type": "stream",
     "text": [
      "Wall time: 1h 16min 52s\n"
     ]
    },
    {
     "data": {
      "text/plain": [
       "GridSearchCV(cv=5, error_score=0,\n",
       "       estimator=GradientBoostingClassifier(criterion='friedman_mse', init=None,\n",
       "              learning_rate=0.1, loss='deviance', max_depth=3,\n",
       "              max_features=None, max_leaf_nodes=None,\n",
       "              min_impurity_decrease=0.0, min_impurity_split=None,\n",
       "              min_samples_leaf=1, min_samples_split=2,\n",
       "              min_weight_fraction_leaf=0.0, n_estimators=100,\n",
       "              presort='auto', random_state=None, subsample=1.0, verbose=0,\n",
       "              warm_start=False),\n",
       "       fit_params=None, iid=True, n_jobs=-1,\n",
       "       param_grid={'learning_rate': [0.12, 0.1, 0.08, 0.01, 0.2], 'n_estimators': [150, 100, 50], 'max_depth': [1, 2, 3, 4, 5], 'random_state': [64]},\n",
       "       pre_dispatch='2*n_jobs', refit=True, return_train_score='warn',\n",
       "       scoring='accuracy', verbose=0)"
      ]
     },
     "execution_count": 46,
     "metadata": {},
     "output_type": "execute_result"
    }
   ],
   "source": [
    "%%time\n",
    "gs.fit(features_sampled, labels_sampled)"
   ]
  },
  {
   "cell_type": "code",
   "execution_count": 47,
   "metadata": {},
   "outputs": [
    {
     "name": "stderr",
     "output_type": "stream",
     "text": [
      "C:\\Users\\Patrik\\Anaconda3\\lib\\site-packages\\sklearn\\model_selection\\_search.py:761: DeprecationWarning: The grid_scores_ attribute was deprecated in version 0.18 in favor of the more elaborate cv_results_ attribute. The grid_scores_ attribute will not be available from 0.20\n",
      "  DeprecationWarning)\n"
     ]
    },
    {
     "data": {
      "text/plain": [
       "[mean: 0.93093, std: 0.04037, params: {'learning_rate': 0.2, 'max_depth': 5, 'n_estimators': 150, 'random_state': 64},\n",
       " mean: 0.92596, std: 0.04200, params: {'learning_rate': 0.2, 'max_depth': 5, 'n_estimators': 100, 'random_state': 64},\n",
       " mean: 0.92358, std: 0.03934, params: {'learning_rate': 0.12, 'max_depth': 5, 'n_estimators': 150, 'random_state': 64},\n",
       " mean: 0.92014, std: 0.04009, params: {'learning_rate': 0.2, 'max_depth': 4, 'n_estimators': 150, 'random_state': 64},\n",
       " mean: 0.91708, std: 0.03901, params: {'learning_rate': 0.1, 'max_depth': 5, 'n_estimators': 150, 'random_state': 64},\n",
       " mean: 0.90667, std: 0.03559, params: {'learning_rate': 0.12, 'max_depth': 5, 'n_estimators': 100, 'random_state': 64},\n",
       " mean: 0.90457, std: 0.03969, params: {'learning_rate': 0.08, 'max_depth': 5, 'n_estimators': 150, 'random_state': 64},\n",
       " mean: 0.89845, std: 0.03679, params: {'learning_rate': 0.2, 'max_depth': 4, 'n_estimators': 100, 'random_state': 64},\n",
       " mean: 0.89463, std: 0.03472, params: {'learning_rate': 0.1, 'max_depth': 5, 'n_estimators': 100, 'random_state': 64},\n",
       " mean: 0.89434, std: 0.03570, params: {'learning_rate': 0.2, 'max_depth': 5, 'n_estimators': 50, 'random_state': 64}]"
      ]
     },
     "execution_count": 47,
     "metadata": {},
     "output_type": "execute_result"
    }
   ],
   "source": [
    "sorted(gs.grid_scores_, key=lambda x: x.mean_validation_score, reverse=True)[:10]"
   ]
  },
  {
   "cell_type": "code",
   "execution_count": 48,
   "metadata": {
    "collapsed": true
   },
   "outputs": [],
   "source": [
    "best_oversampled = gs.best_estimator_"
   ]
  },
  {
   "cell_type": "code",
   "execution_count": 49,
   "metadata": {},
   "outputs": [
    {
     "name": "stdout",
     "output_type": "stream",
     "text": [
      "accuracy:  0.739185750636\n",
      "\n",
      "             precision    recall  f1-score   support\n",
      "\n",
      "          1       0.87      0.93      0.90       659\n",
      "          2       0.45      0.44      0.45       209\n",
      "          3       0.58      0.59      0.59       336\n",
      "          4       0.79      0.71      0.75       368\n",
      "\n",
      "avg / total       0.74      0.74      0.74      1572\n",
      "\n",
      "macro precision:  0.67538508554\n",
      "micro precision:  0.739185750636\n",
      "\n",
      "micro recall:  0.739185750636\n",
      "macro recall:  0.66662178935\n",
      "\n",
      "micro f1:  0.739185750636\n",
      "macro f1:  0.670192054374\n"
     ]
    },
    {
     "data": {
      "image/png": "[encoded data removed]",
      "text/plain": [
       "<matplotlib.figure.Figure at 0x1b64c2d34e0>"
      ]
     },
     "metadata": {},
     "output_type": "display_data"
    }
   ],
   "source": [
    "print_metrics(best_oversampled, featuresCV, labelsCV, 'nadvzorkovanie', phase_num)"
   ]
  },
  {
   "cell_type": "markdown",
   "metadata": {},
   "source": [
    "#### Undersampling"
   ]
  },
  {
   "cell_type": "code",
   "execution_count": 50,
   "metadata": {},
   "outputs": [
    {
     "name": "stdout",
     "output_type": "stream",
     "text": [
      "[(1, 832), (2, 832), (3, 832), (4, 832)]\n"
     ]
    }
   ],
   "source": [
    "rus = RandomUnderSampler(random_state=64)\n",
    "features_sampled, labels_sampled = rus.fit_sample(features, labels)\n",
    "print(sorted(Counter(labels_sampled).items()))"
   ]
  },
  {
   "cell_type": "code",
   "execution_count": 51,
   "metadata": {},
   "outputs": [
    {
     "data": {
      "text/plain": [
       "(3328, 74)"
      ]
     },
     "execution_count": 51,
     "metadata": {},
     "output_type": "execute_result"
    }
   ],
   "source": [
    "features_sampled = pd.DataFrame(features_sampled)\n",
    "features_sampled.columns = features.columns\n",
    "features_sampled.shape"
   ]
  },
  {
   "cell_type": "code",
   "execution_count": 52,
   "metadata": {},
   "outputs": [],
   "source": [
    "gs = GridSearchCV(GradientBoostingClassifier(), params, scoring='accuracy', cv=5, n_jobs=-1, error_score=0)"
   ]
  },
  {
   "cell_type": "code",
   "execution_count": 53,
   "metadata": {},
   "outputs": [
    {
     "name": "stdout",
     "output_type": "stream",
     "text": [
      "Wall time: 21min 32s\n"
     ]
    },
    {
     "data": {
      "text/plain": [
       "GridSearchCV(cv=5, error_score=0,\n",
       "       estimator=GradientBoostingClassifier(criterion='friedman_mse', init=None,\n",
       "              learning_rate=0.1, loss='deviance', max_depth=3,\n",
       "              max_features=None, max_leaf_nodes=None,\n",
       "              min_impurity_decrease=0.0, min_impurity_split=None,\n",
       "              min_samples_leaf=1, min_samples_split=2,\n",
       "              min_weight_fraction_leaf=0.0, n_estimators=100,\n",
       "              presort='auto', random_state=None, subsample=1.0, verbose=0,\n",
       "              warm_start=False),\n",
       "       fit_params=None, iid=True, n_jobs=-1,\n",
       "       param_grid={'learning_rate': [0.12, 0.1, 0.08, 0.01, 0.2], 'n_estimators': [150, 100, 50], 'max_depth': [1, 2, 3, 4, 5], 'random_state': [64]},\n",
       "       pre_dispatch='2*n_jobs', refit=True, return_train_score='warn',\n",
       "       scoring='accuracy', verbose=0)"
      ]
     },
     "execution_count": 53,
     "metadata": {},
     "output_type": "execute_result"
    }
   ],
   "source": [
    "%%time\n",
    "gs.fit(features_sampled, labels_sampled)"
   ]
  },
  {
   "cell_type": "code",
   "execution_count": 54,
   "metadata": {},
   "outputs": [
    {
     "name": "stderr",
     "output_type": "stream",
     "text": [
      "C:\\Users\\Patrik\\Anaconda3\\lib\\site-packages\\sklearn\\model_selection\\_search.py:761: DeprecationWarning: The grid_scores_ attribute was deprecated in version 0.18 in favor of the more elaborate cv_results_ attribute. The grid_scores_ attribute will not be available from 0.20\n",
      "  DeprecationWarning)\n"
     ]
    },
    {
     "data": {
      "text/plain": [
       "[mean: 0.68660, std: 0.00918, params: {'learning_rate': 0.2, 'max_depth': 1, 'n_estimators': 150, 'random_state': 64},\n",
       " mean: 0.68600, std: 0.00976, params: {'learning_rate': 0.2, 'max_depth': 1, 'n_estimators': 100, 'random_state': 64},\n",
       " mean: 0.68540, std: 0.01602, params: {'learning_rate': 0.12, 'max_depth': 2, 'n_estimators': 150, 'random_state': 64},\n",
       " mean: 0.68540, std: 0.01637, params: {'learning_rate': 0.2, 'max_depth': 2, 'n_estimators': 100, 'random_state': 64},\n",
       " mean: 0.68510, std: 0.01224, params: {'learning_rate': 0.1, 'max_depth': 2, 'n_estimators': 150, 'random_state': 64},\n",
       " mean: 0.68269, std: 0.01347, params: {'learning_rate': 0.12, 'max_depth': 2, 'n_estimators': 100, 'random_state': 64},\n",
       " mean: 0.68239, std: 0.01320, params: {'learning_rate': 0.2, 'max_depth': 2, 'n_estimators': 150, 'random_state': 64},\n",
       " mean: 0.68209, std: 0.01607, params: {'learning_rate': 0.08, 'max_depth': 2, 'n_estimators': 150, 'random_state': 64},\n",
       " mean: 0.68209, std: 0.01765, params: {'learning_rate': 0.08, 'max_depth': 2, 'n_estimators': 100, 'random_state': 64},\n",
       " mean: 0.68149, std: 0.01288, params: {'learning_rate': 0.1, 'max_depth': 4, 'n_estimators': 100, 'random_state': 64}]"
      ]
     },
     "execution_count": 54,
     "metadata": {},
     "output_type": "execute_result"
    }
   ],
   "source": [
    "sorted(gs.grid_scores_, key=lambda x: x.mean_validation_score, reverse=True)[:10]"
   ]
  },
  {
   "cell_type": "code",
   "execution_count": 55,
   "metadata": {},
   "outputs": [
    {
     "data": {
      "text/plain": [
       "GradientBoostingClassifier(criterion='friedman_mse', init=None,\n",
       "              learning_rate=0.2, loss='deviance', max_depth=1,\n",
       "              max_features=None, max_leaf_nodes=None,\n",
       "              min_impurity_decrease=0.0, min_impurity_split=None,\n",
       "              min_samples_leaf=1, min_samples_split=2,\n",
       "              min_weight_fraction_leaf=0.0, n_estimators=150,\n",
       "              presort='auto', random_state=64, subsample=1.0, verbose=0,\n",
       "              warm_start=False)"
      ]
     },
     "execution_count": 55,
     "metadata": {},
     "output_type": "execute_result"
    }
   ],
   "source": [
    "best_undersampled = gs.best_estimator_\n",
    "best_undersampled"
   ]
  },
  {
   "cell_type": "code",
   "execution_count": 56,
   "metadata": {},
   "outputs": [
    {
     "name": "stdout",
     "output_type": "stream",
     "text": [
      "accuracy:  0.719465648855\n",
      "\n",
      "             precision    recall  f1-score   support\n",
      "\n",
      "          1       0.90      0.89      0.90       659\n",
      "          2       0.40      0.60      0.48       209\n",
      "          3       0.59      0.47      0.52       336\n",
      "          4       0.77      0.71      0.74       368\n",
      "\n",
      "avg / total       0.74      0.72      0.72      1572\n",
      "\n",
      "macro precision:  0.664582803025\n",
      "micro precision:  0.719465648855\n",
      "\n",
      "micro recall:  0.719465648855\n",
      "macro recall:  0.666412055124\n",
      "\n",
      "micro f1:  0.719465648855\n",
      "macro f1:  0.658424352869\n"
     ]
    },
    {
     "data": {
      "image/png": "[encoded data removed]",
      "text/plain": [
       "<matplotlib.figure.Figure at 0x1b64c0d6908>"
      ]
     },
     "metadata": {},
     "output_type": "display_data"
    }
   ],
   "source": [
    "print_metrics(best_undersampled, featuresCV, labelsCV, 'podvzorkovanie', phase_num)"
   ]
  },
  {
   "cell_type": "markdown",
   "metadata": {},
   "source": [
    "### Best configuration (primary: accuracy, secondary: macro F1)"
   ]
  },
  {
   "cell_type": "code",
   "execution_count": 68,
   "metadata": {},
   "outputs": [
    {
     "data": {
      "text/html": [
       "<div>\n",
       "<style>\n",
       "    .dataframe thead tr:only-child th {\n",
       "        text-align: right;\n",
       "    }\n",
       "\n",
       "    .dataframe thead th {\n",
       "        text-align: left;\n",
       "    }\n",
       "\n",
       "    .dataframe tbody tr th {\n",
       "        vertical-align: top;\n",
       "    }\n",
       "</style>\n",
       "<table border=\"1\" class=\"dataframe\">\n",
       "  <thead>\n",
       "    <tr style=\"text-align: right;\">\n",
       "      <th></th>\n",
       "      <th>Fáza</th>\n",
       "      <th>Vyváženie</th>\n",
       "      <th>S</th>\n",
       "      <th>P_0</th>\n",
       "      <th>P_1</th>\n",
       "      <th>P_2</th>\n",
       "      <th>P_3</th>\n",
       "      <th>Ú_0</th>\n",
       "      <th>Ú_1</th>\n",
       "      <th>Ú_2</th>\n",
       "      <th>Ú_3</th>\n",
       "      <th>F1_makro</th>\n",
       "    </tr>\n",
       "  </thead>\n",
       "  <tbody>\n",
       "    <tr>\n",
       "      <th>0</th>\n",
       "      <td>1</td>\n",
       "      <td>žiadne</td>\n",
       "      <td>0.76</td>\n",
       "      <td>0.87</td>\n",
       "      <td>0.53</td>\n",
       "      <td>0.60</td>\n",
       "      <td>0.79</td>\n",
       "      <td>0.97</td>\n",
       "      <td>0.41</td>\n",
       "      <td>0.60</td>\n",
       "      <td>0.73</td>\n",
       "      <td>0.68</td>\n",
       "    </tr>\n",
       "    <tr>\n",
       "      <th>2</th>\n",
       "      <td>1</td>\n",
       "      <td>oversampling</td>\n",
       "      <td>0.74</td>\n",
       "      <td>0.87</td>\n",
       "      <td>0.45</td>\n",
       "      <td>0.58</td>\n",
       "      <td>0.79</td>\n",
       "      <td>0.93</td>\n",
       "      <td>0.44</td>\n",
       "      <td>0.59</td>\n",
       "      <td>0.71</td>\n",
       "      <td>0.67</td>\n",
       "    </tr>\n",
       "    <tr>\n",
       "      <th>1</th>\n",
       "      <td>1</td>\n",
       "      <td>váhovanie</td>\n",
       "      <td>0.73</td>\n",
       "      <td>0.90</td>\n",
       "      <td>0.42</td>\n",
       "      <td>0.61</td>\n",
       "      <td>0.78</td>\n",
       "      <td>0.90</td>\n",
       "      <td>0.59</td>\n",
       "      <td>0.51</td>\n",
       "      <td>0.72</td>\n",
       "      <td>0.67</td>\n",
       "    </tr>\n",
       "    <tr>\n",
       "      <th>3</th>\n",
       "      <td>1</td>\n",
       "      <td>undersampling</td>\n",
       "      <td>0.72</td>\n",
       "      <td>0.90</td>\n",
       "      <td>0.40</td>\n",
       "      <td>0.59</td>\n",
       "      <td>0.77</td>\n",
       "      <td>0.89</td>\n",
       "      <td>0.60</td>\n",
       "      <td>0.47</td>\n",
       "      <td>0.71</td>\n",
       "      <td>0.66</td>\n",
       "    </tr>\n",
       "  </tbody>\n",
       "</table>\n",
       "</div>"
      ],
      "text/plain": [
       "   Fáza      Vyváženie     S   P_0   P_1   P_2   P_3   Ú_0   Ú_1   Ú_2   Ú_3  \\\n",
       "0     1         žiadne  0.76  0.87  0.53  0.60  0.79  0.97  0.41  0.60  0.73   \n",
       "2     1   oversampling  0.74  0.87  0.45  0.58  0.79  0.93  0.44  0.59  0.71   \n",
       "1     1      váhovanie  0.73  0.90  0.42  0.61  0.78  0.90  0.59  0.51  0.72   \n",
       "3     1  undersampling  0.72  0.90  0.40  0.59  0.77  0.89  0.60  0.47  0.71   \n",
       "\n",
       "   F1_makro  \n",
       "0      0.68  \n",
       "2      0.67  \n",
       "1      0.67  \n",
       "3      0.66  "
      ]
     },
     "execution_count": 68,
     "metadata": {},
     "output_type": "execute_result"
    }
   ],
   "source": [
    "df_results[['Fáza','Vyváženie','S','P_0','P_1','P_2','P_3','Ú_0','Ú_1','Ú_2','Ú_3', 'F1_makro']] \\\n",
    ".sort_values(by=['Fáza', 'S', 'F1_makro'], ascending=False)"
   ]
  },
  {
   "cell_type": "code",
   "execution_count": 61,
   "metadata": {},
   "outputs": [
    {
     "data": {
      "text/plain": [
       "GradientBoostingClassifier(criterion='friedman_mse', init=None,\n",
       "              learning_rate=0.08, loss='deviance', max_depth=3,\n",
       "              max_features=None, max_leaf_nodes=None,\n",
       "              min_impurity_decrease=0.0, min_impurity_split=None,\n",
       "              min_samples_leaf=1, min_samples_split=2,\n",
       "              min_weight_fraction_leaf=0.0, n_estimators=150,\n",
       "              presort='auto', random_state=64, subsample=1.0, verbose=0,\n",
       "              warm_start=False)"
      ]
     },
     "execution_count": 61,
     "metadata": {},
     "output_type": "execute_result"
    }
   ],
   "source": [
    "best = best_unbalanced\n",
    "best"
   ]
  },
  {
   "cell_type": "code",
   "execution_count": 70,
   "metadata": {
    "scrolled": false
   },
   "outputs": [
    {
     "data": {
      "text/html": [
       "<div>\n",
       "<style>\n",
       "    .dataframe thead tr:only-child th {\n",
       "        text-align: right;\n",
       "    }\n",
       "\n",
       "    .dataframe thead th {\n",
       "        text-align: left;\n",
       "    }\n",
       "\n",
       "    .dataframe tbody tr th {\n",
       "        vertical-align: top;\n",
       "    }\n",
       "</style>\n",
       "<table border=\"1\" class=\"dataframe\">\n",
       "  <thead>\n",
       "    <tr style=\"text-align: right;\">\n",
       "      <th></th>\n",
       "      <th>názov črty</th>\n",
       "      <th>dôležitosť</th>\n",
       "    </tr>\n",
       "  </thead>\n",
       "  <tbody>\n",
       "    <tr>\n",
       "      <th>8</th>\n",
       "      <td>ratio_pledged_goal</td>\n",
       "      <td>0.194008</td>\n",
       "    </tr>\n",
       "    <tr>\n",
       "      <th>10</th>\n",
       "      <td>usd_goal</td>\n",
       "      <td>0.040100</td>\n",
       "    </tr>\n",
       "    <tr>\n",
       "      <th>9</th>\n",
       "      <td>ratio_running_duration</td>\n",
       "      <td>0.027154</td>\n",
       "    </tr>\n",
       "    <tr>\n",
       "      <th>30</th>\n",
       "      <td>LSA_6</td>\n",
       "      <td>0.024368</td>\n",
       "    </tr>\n",
       "    <tr>\n",
       "      <th>50</th>\n",
       "      <td>LDA_1</td>\n",
       "      <td>0.021664</td>\n",
       "    </tr>\n",
       "    <tr>\n",
       "      <th>29</th>\n",
       "      <td>LSA_5</td>\n",
       "      <td>0.020299</td>\n",
       "    </tr>\n",
       "    <tr>\n",
       "      <th>53</th>\n",
       "      <td>LDA_4</td>\n",
       "      <td>0.019012</td>\n",
       "    </tr>\n",
       "    <tr>\n",
       "      <th>63</th>\n",
       "      <td>LDA_14</td>\n",
       "      <td>0.018956</td>\n",
       "    </tr>\n",
       "    <tr>\n",
       "      <th>0</th>\n",
       "      <td>average_pledge</td>\n",
       "      <td>0.017454</td>\n",
       "    </tr>\n",
       "    <tr>\n",
       "      <th>7</th>\n",
       "      <td>pledged</td>\n",
       "      <td>0.017066</td>\n",
       "    </tr>\n",
       "    <tr>\n",
       "      <th>49</th>\n",
       "      <td>LDA_0</td>\n",
       "      <td>0.017050</td>\n",
       "    </tr>\n",
       "    <tr>\n",
       "      <th>57</th>\n",
       "      <td>LDA_8</td>\n",
       "      <td>0.016986</td>\n",
       "    </tr>\n",
       "    <tr>\n",
       "      <th>26</th>\n",
       "      <td>LSA_2</td>\n",
       "      <td>0.016736</td>\n",
       "    </tr>\n",
       "    <tr>\n",
       "      <th>33</th>\n",
       "      <td>LSA_9</td>\n",
       "      <td>0.016137</td>\n",
       "    </tr>\n",
       "    <tr>\n",
       "      <th>40</th>\n",
       "      <td>LSA_16</td>\n",
       "      <td>0.015596</td>\n",
       "    </tr>\n",
       "    <tr>\n",
       "      <th>4</th>\n",
       "      <td>days_preparation</td>\n",
       "      <td>0.014817</td>\n",
       "    </tr>\n",
       "    <tr>\n",
       "      <th>69</th>\n",
       "      <td>LDA_20</td>\n",
       "      <td>0.014388</td>\n",
       "    </tr>\n",
       "    <tr>\n",
       "      <th>72</th>\n",
       "      <td>LDA_23</td>\n",
       "      <td>0.014123</td>\n",
       "    </tr>\n",
       "    <tr>\n",
       "      <th>58</th>\n",
       "      <td>LDA_9</td>\n",
       "      <td>0.013836</td>\n",
       "    </tr>\n",
       "    <tr>\n",
       "      <th>6</th>\n",
       "      <td>days_running</td>\n",
       "      <td>0.013735</td>\n",
       "    </tr>\n",
       "    <tr>\n",
       "      <th>59</th>\n",
       "      <td>LDA_10</td>\n",
       "      <td>0.013727</td>\n",
       "    </tr>\n",
       "    <tr>\n",
       "      <th>70</th>\n",
       "      <td>LDA_21</td>\n",
       "      <td>0.013590</td>\n",
       "    </tr>\n",
       "    <tr>\n",
       "      <th>27</th>\n",
       "      <td>LSA_3</td>\n",
       "      <td>0.013379</td>\n",
       "    </tr>\n",
       "    <tr>\n",
       "      <th>68</th>\n",
       "      <td>LDA_19</td>\n",
       "      <td>0.013322</td>\n",
       "    </tr>\n",
       "    <tr>\n",
       "      <th>67</th>\n",
       "      <td>LDA_18</td>\n",
       "      <td>0.013205</td>\n",
       "    </tr>\n",
       "    <tr>\n",
       "      <th>11</th>\n",
       "      <td>usd_pledged</td>\n",
       "      <td>0.012594</td>\n",
       "    </tr>\n",
       "    <tr>\n",
       "      <th>20</th>\n",
       "      <td>image_count</td>\n",
       "      <td>0.012585</td>\n",
       "    </tr>\n",
       "    <tr>\n",
       "      <th>1</th>\n",
       "      <td>backers_count</td>\n",
       "      <td>0.012198</td>\n",
       "    </tr>\n",
       "    <tr>\n",
       "      <th>34</th>\n",
       "      <td>LSA_10</td>\n",
       "      <td>0.011668</td>\n",
       "    </tr>\n",
       "    <tr>\n",
       "      <th>52</th>\n",
       "      <td>LDA_3</td>\n",
       "      <td>0.011413</td>\n",
       "    </tr>\n",
       "    <tr>\n",
       "      <th>...</th>\n",
       "      <td>...</td>\n",
       "      <td>...</td>\n",
       "    </tr>\n",
       "    <tr>\n",
       "      <th>43</th>\n",
       "      <td>LSA_19</td>\n",
       "      <td>0.008404</td>\n",
       "    </tr>\n",
       "    <tr>\n",
       "      <th>61</th>\n",
       "      <td>LDA_12</td>\n",
       "      <td>0.008173</td>\n",
       "    </tr>\n",
       "    <tr>\n",
       "      <th>46</th>\n",
       "      <td>LSA_22</td>\n",
       "      <td>0.008082</td>\n",
       "    </tr>\n",
       "    <tr>\n",
       "      <th>60</th>\n",
       "      <td>LDA_11</td>\n",
       "      <td>0.008075</td>\n",
       "    </tr>\n",
       "    <tr>\n",
       "      <th>37</th>\n",
       "      <td>LSA_13</td>\n",
       "      <td>0.008017</td>\n",
       "    </tr>\n",
       "    <tr>\n",
       "      <th>55</th>\n",
       "      <td>LDA_6</td>\n",
       "      <td>0.007879</td>\n",
       "    </tr>\n",
       "    <tr>\n",
       "      <th>47</th>\n",
       "      <td>LSA_23</td>\n",
       "      <td>0.007788</td>\n",
       "    </tr>\n",
       "    <tr>\n",
       "      <th>71</th>\n",
       "      <td>LDA_22</td>\n",
       "      <td>0.007694</td>\n",
       "    </tr>\n",
       "    <tr>\n",
       "      <th>17</th>\n",
       "      <td>launch_month</td>\n",
       "      <td>0.007357</td>\n",
       "    </tr>\n",
       "    <tr>\n",
       "      <th>38</th>\n",
       "      <td>LSA_14</td>\n",
       "      <td>0.007190</td>\n",
       "    </tr>\n",
       "    <tr>\n",
       "      <th>54</th>\n",
       "      <td>LDA_5</td>\n",
       "      <td>0.007154</td>\n",
       "    </tr>\n",
       "    <tr>\n",
       "      <th>32</th>\n",
       "      <td>LSA_8</td>\n",
       "      <td>0.007149</td>\n",
       "    </tr>\n",
       "    <tr>\n",
       "      <th>24</th>\n",
       "      <td>LSA_0</td>\n",
       "      <td>0.006929</td>\n",
       "    </tr>\n",
       "    <tr>\n",
       "      <th>73</th>\n",
       "      <td>LDA_24</td>\n",
       "      <td>0.006523</td>\n",
       "    </tr>\n",
       "    <tr>\n",
       "      <th>62</th>\n",
       "      <td>LDA_13</td>\n",
       "      <td>0.006212</td>\n",
       "    </tr>\n",
       "    <tr>\n",
       "      <th>21</th>\n",
       "      <td>blurb_words</td>\n",
       "      <td>0.006207</td>\n",
       "    </tr>\n",
       "    <tr>\n",
       "      <th>25</th>\n",
       "      <td>LSA_1</td>\n",
       "      <td>0.006205</td>\n",
       "    </tr>\n",
       "    <tr>\n",
       "      <th>36</th>\n",
       "      <td>LSA_12</td>\n",
       "      <td>0.006045</td>\n",
       "    </tr>\n",
       "    <tr>\n",
       "      <th>18</th>\n",
       "      <td>launch_day</td>\n",
       "      <td>0.005743</td>\n",
       "    </tr>\n",
       "    <tr>\n",
       "      <th>31</th>\n",
       "      <td>LSA_7</td>\n",
       "      <td>0.005527</td>\n",
       "    </tr>\n",
       "    <tr>\n",
       "      <th>19</th>\n",
       "      <td>launch_hour</td>\n",
       "      <td>0.005482</td>\n",
       "    </tr>\n",
       "    <tr>\n",
       "      <th>13</th>\n",
       "      <td>updates_likes_sum_while_scraping</td>\n",
       "      <td>0.005268</td>\n",
       "    </tr>\n",
       "    <tr>\n",
       "      <th>56</th>\n",
       "      <td>LDA_7</td>\n",
       "      <td>0.005152</td>\n",
       "    </tr>\n",
       "    <tr>\n",
       "      <th>16</th>\n",
       "      <td>deadline_hour</td>\n",
       "      <td>0.005003</td>\n",
       "    </tr>\n",
       "    <tr>\n",
       "      <th>22</th>\n",
       "      <td>category_parent_fashion</td>\n",
       "      <td>0.004510</td>\n",
       "    </tr>\n",
       "    <tr>\n",
       "      <th>23</th>\n",
       "      <td>location_type_Miscellaneous</td>\n",
       "      <td>0.004458</td>\n",
       "    </tr>\n",
       "    <tr>\n",
       "      <th>12</th>\n",
       "      <td>comments_count_public_while_scraping</td>\n",
       "      <td>0.003960</td>\n",
       "    </tr>\n",
       "    <tr>\n",
       "      <th>3</th>\n",
       "      <td>days_duration</td>\n",
       "      <td>0.003466</td>\n",
       "    </tr>\n",
       "    <tr>\n",
       "      <th>14</th>\n",
       "      <td>updates_likes_max_while_scraping</td>\n",
       "      <td>0.002859</td>\n",
       "    </tr>\n",
       "    <tr>\n",
       "      <th>15</th>\n",
       "      <td>deadline_day</td>\n",
       "      <td>0.002694</td>\n",
       "    </tr>\n",
       "  </tbody>\n",
       "</table>\n",
       "<p>74 rows × 2 columns</p>\n",
       "</div>"
      ],
      "text/plain": [
       "                              názov črty  dôležitosť\n",
       "8                     ratio_pledged_goal    0.194008\n",
       "10                              usd_goal    0.040100\n",
       "9                 ratio_running_duration    0.027154\n",
       "30                                 LSA_6    0.024368\n",
       "50                                 LDA_1    0.021664\n",
       "29                                 LSA_5    0.020299\n",
       "53                                 LDA_4    0.019012\n",
       "63                                LDA_14    0.018956\n",
       "0                         average_pledge    0.017454\n",
       "7                                pledged    0.017066\n",
       "49                                 LDA_0    0.017050\n",
       "57                                 LDA_8    0.016986\n",
       "26                                 LSA_2    0.016736\n",
       "33                                 LSA_9    0.016137\n",
       "40                                LSA_16    0.015596\n",
       "4                       days_preparation    0.014817\n",
       "69                                LDA_20    0.014388\n",
       "72                                LDA_23    0.014123\n",
       "58                                 LDA_9    0.013836\n",
       "6                           days_running    0.013735\n",
       "59                                LDA_10    0.013727\n",
       "70                                LDA_21    0.013590\n",
       "27                                 LSA_3    0.013379\n",
       "68                                LDA_19    0.013322\n",
       "67                                LDA_18    0.013205\n",
       "11                           usd_pledged    0.012594\n",
       "20                           image_count    0.012585\n",
       "1                          backers_count    0.012198\n",
       "34                                LSA_10    0.011668\n",
       "52                                 LDA_3    0.011413\n",
       "..                                   ...         ...\n",
       "43                                LSA_19    0.008404\n",
       "61                                LDA_12    0.008173\n",
       "46                                LSA_22    0.008082\n",
       "60                                LDA_11    0.008075\n",
       "37                                LSA_13    0.008017\n",
       "55                                 LDA_6    0.007879\n",
       "47                                LSA_23    0.007788\n",
       "71                                LDA_22    0.007694\n",
       "17                          launch_month    0.007357\n",
       "38                                LSA_14    0.007190\n",
       "54                                 LDA_5    0.007154\n",
       "32                                 LSA_8    0.007149\n",
       "24                                 LSA_0    0.006929\n",
       "73                                LDA_24    0.006523\n",
       "62                                LDA_13    0.006212\n",
       "21                           blurb_words    0.006207\n",
       "25                                 LSA_1    0.006205\n",
       "36                                LSA_12    0.006045\n",
       "18                            launch_day    0.005743\n",
       "31                                 LSA_7    0.005527\n",
       "19                           launch_hour    0.005482\n",
       "13      updates_likes_sum_while_scraping    0.005268\n",
       "56                                 LDA_7    0.005152\n",
       "16                         deadline_hour    0.005003\n",
       "22               category_parent_fashion    0.004510\n",
       "23           location_type_Miscellaneous    0.004458\n",
       "12  comments_count_public_while_scraping    0.003960\n",
       "3                          days_duration    0.003466\n",
       "14      updates_likes_max_while_scraping    0.002859\n",
       "15                          deadline_day    0.002694\n",
       "\n",
       "[74 rows x 2 columns]"
      ]
     },
     "execution_count": 70,
     "metadata": {},
     "output_type": "execute_result"
    }
   ],
   "source": [
    "importances = pd.DataFrame()\n",
    "for i, name, importance in zip(range(len(features.columns)), features.columns, best.feature_importances_):\n",
    "    importances.loc[i, 'názov črty'] = name\n",
    "    importances.loc[i, 'dôležitosť'] = importance\n",
    "    \n",
    "importances.sort_values(by='dôležitosť', ascending=False).to_csv('results/importances'+ str(phase_num) +'.csv')\n",
    "importances.sort_values(by='dôležitosť', ascending=False)"
   ]
  },
  {
   "cell_type": "markdown",
   "metadata": {},
   "source": [
    "### Save confusion matrices"
   ]
  },
  {
   "cell_type": "code",
   "execution_count": 86,
   "metadata": {},
   "outputs": [
    {
     "data": {
      "image/png": "[encoded data removed]",
      "text/plain": [
       "<matplotlib.figure.Figure at 0x1b64f7d9518>"
      ]
     },
     "metadata": {},
     "output_type": "display_data"
    }
   ],
   "source": [
    "sns.set(style='whitegrid')\n",
    "fig, ax = plt.subplots(nrows=2, ncols=2, sharex=False, sharey=False, figsize=(10, 8))\n",
    "\n",
    "sns.heatmap(metrics.confusion_matrix(labelsCV, best_unbalanced.predict(featuresCV)), annot=True, fmt='g', annot_kws={\"size\": 16}, ax=ax[0][0])\n",
    "ax[0][0].set(xlabel='', ylabel='', title='bez vyvažovania')\n",
    "\n",
    "sns.heatmap(metrics.confusion_matrix(labelsCV, best_weighted.predict(featuresCV)), annot=True, fmt='g', annot_kws={\"size\": 16}, ax=ax[0][1])\n",
    "ax[0][1].set(xlabel='', ylabel='', title='váhovanie')\n",
    "\n",
    "sns.heatmap(metrics.confusion_matrix(labelsCV, best_oversampled.predict(featuresCV)), annot=True, fmt='g', annot_kws={\"size\": 16}, ax=ax[1][0])\n",
    "ax[1][0].set(xlabel='', ylabel='', title='nadvzorkovanie')\n",
    "\n",
    "sns.heatmap(metrics.confusion_matrix(labelsCV, best_undersampled.predict(featuresCV)), annot=True, fmt='g', annot_kws={\"size\": 16}, ax=ax[1][1])\n",
    "ax[1][1].set(xlabel='', ylabel='', title='podvzorkovanie')\n",
    "\n",
    "fig.savefig('img/matrices1.png', dpi=400)"
   ]
  },
  {
   "cell_type": "code",
   "execution_count": 72,
   "metadata": {},
   "outputs": [],
   "source": [
    "df_results[['Fáza','Vyváženie','S','P_0','P_1','P_2','P_3','Ú_0','Ú_1','Ú_2','Ú_3', 'F1_makro']].to_csv('results/final.csv')"
   ]
  },
  {
   "cell_type": "markdown",
   "metadata": {},
   "source": [
    "## Second stage 25-50% of campaign duration"
   ]
  },
  {
   "cell_type": "code",
   "execution_count": 92,
   "metadata": {
    "collapsed": true
   },
   "outputs": [],
   "source": [
    "phase_num = 2"
   ]
  },
  {
   "cell_type": "code",
   "execution_count": 93,
   "metadata": {},
   "outputs": [
    {
     "data": {
      "text/plain": [
       "(6231, 151)"
      ]
     },
     "execution_count": 93,
     "metadata": {},
     "output_type": "execute_result"
    }
   ],
   "source": [
    "features = pd.read_csv('data/final/train.csv', index_col=0)\n",
    "df = pd.read_csv('data/final/test.csv', index_col=0)\n",
    "features = features.append(df, ignore_index=True)\n",
    "\n",
    "features = features[(features['ratio_running_duration'] < 50) & (features['ratio_running_duration'] >= 25)]\n",
    "\n",
    "labels = features['class']\n",
    "features = features.drop('class', axis=1)\n",
    "\n",
    "features.shape"
   ]
  },
  {
   "cell_type": "code",
   "execution_count": 94,
   "metadata": {},
   "outputs": [
    {
     "data": {
      "text/plain": [
       "(1558, 151)"
      ]
     },
     "execution_count": 94,
     "metadata": {},
     "output_type": "execute_result"
    }
   ],
   "source": [
    "featuresCV = pd.read_csv('data/final/cv.csv', index_col=0)\n",
    "\n",
    "featuresCV = featuresCV[(featuresCV['ratio_running_duration'] < 50) & (featuresCV['ratio_running_duration'] >= 25)]\n",
    "\n",
    "labelsCV = featuresCV['class']\n",
    "featuresCV = featuresCV.drop('class', axis=1)\n",
    "\n",
    "featuresCV.shape"
   ]
  },
  {
   "cell_type": "markdown",
   "metadata": {},
   "source": [
    "### Feature selection"
   ]
  },
  {
   "cell_type": "code",
   "execution_count": 95,
   "metadata": {},
   "outputs": [
    {
     "name": "stdout",
     "output_type": "stream",
     "text": [
      "Wall time: 1h 25min 53s\n"
     ]
    }
   ],
   "source": [
    "%%time\n",
    "# remove highly corelated data\n",
    "features.drop(['db_duration', 'goal'], axis=1, inplace=True)\n",
    "\n",
    "# Recursive feature elimination using GBC with default parameters\n",
    "selected_features = []\n",
    "all_features = features.columns.tolist()\n",
    "estimator = GradientBoostingClassifier(random_state=64)\n",
    "selector = RFECV(estimator, step=1, cv=5, n_jobs=-1, scoring='accuracy')\n",
    "selector = selector.fit(features, labels)\n",
    "\n",
    "for i, support in zip(range(len(selector.support_)), selector.support_):\n",
    "    if support:\n",
    "        selected_features.append(all_features[i])"
   ]
  },
  {
   "cell_type": "code",
   "execution_count": 96,
   "metadata": {},
   "outputs": [
    {
     "data": {
      "text/plain": [
       "['average_pledge',\n",
       " 'backers_count',\n",
       " 'category_position',\n",
       " 'days_preparation',\n",
       " 'days_remaining',\n",
       " 'days_running',\n",
       " 'pledged',\n",
       " 'ratio_pledged_goal',\n",
       " 'ratio_running_duration',\n",
       " 'staff_pick',\n",
       " 'usd_goal',\n",
       " 'usd_pledged',\n",
       " 'faq_count_while_scraping',\n",
       " 'comments_count_creator_while_scraping',\n",
       " 'comments_count_public_while_scraping',\n",
       " 'updates_count_while_scraping',\n",
       " 'updates_likes_sum_while_scraping',\n",
       " 'updates_likes_mean_while_scraping',\n",
       " 'updates_likes_min_while_scraping',\n",
       " 'updates_likes_max_while_scraping',\n",
       " 'updates_likes_median_while_scraping',\n",
       " 'deadline_month',\n",
       " 'deadline_day',\n",
       " 'deadline_dayofweek',\n",
       " 'deadline_hour',\n",
       " 'launch_month',\n",
       " 'launch_day',\n",
       " 'launch_dayofweek',\n",
       " 'launch_hour',\n",
       " 'image_count',\n",
       " 'video_kickstarter_count',\n",
       " 'video_youtube_count',\n",
       " 'video_count',\n",
       " 'blurb_words',\n",
       " 'category_parent_art',\n",
       " 'category_parent_comics',\n",
       " 'category_parent_crafts',\n",
       " 'category_parent_dance',\n",
       " 'category_parent_fashion',\n",
       " 'category_parent_film & video',\n",
       " 'category_parent_journalism',\n",
       " 'category_parent_music',\n",
       " 'category_parent_photography',\n",
       " 'category_parent_technology',\n",
       " 'category_parent_theater',\n",
       " 'country_BE',\n",
       " 'country_CA',\n",
       " 'country_DE',\n",
       " 'country_ES',\n",
       " 'country_NL',\n",
       " 'currency_NZD',\n",
       " 'currency_SEK',\n",
       " 'currency_USD',\n",
       " 'location_type_County',\n",
       " 'location_type_Estate',\n",
       " 'location_type_Suburb',\n",
       " 'location_type_Town',\n",
       " 'LSA_0',\n",
       " 'LSA_1',\n",
       " 'LSA_2',\n",
       " 'LSA_3',\n",
       " 'LSA_4',\n",
       " 'LSA_5',\n",
       " 'LSA_6',\n",
       " 'LSA_7',\n",
       " 'LSA_8',\n",
       " 'LSA_9',\n",
       " 'LSA_10',\n",
       " 'LSA_11',\n",
       " 'LSA_12',\n",
       " 'LSA_13',\n",
       " 'LSA_14',\n",
       " 'LSA_15',\n",
       " 'LSA_16',\n",
       " 'LSA_17',\n",
       " 'LSA_18',\n",
       " 'LSA_19',\n",
       " 'LSA_20',\n",
       " 'LSA_21',\n",
       " 'LSA_22',\n",
       " 'LSA_23',\n",
       " 'LSA_24',\n",
       " 'LDA_0',\n",
       " 'LDA_1',\n",
       " 'LDA_2',\n",
       " 'LDA_3',\n",
       " 'LDA_4',\n",
       " 'LDA_5',\n",
       " 'LDA_6',\n",
       " 'LDA_7',\n",
       " 'LDA_8',\n",
       " 'LDA_9',\n",
       " 'LDA_10',\n",
       " 'LDA_11',\n",
       " 'LDA_12',\n",
       " 'LDA_13',\n",
       " 'LDA_14',\n",
       " 'LDA_15',\n",
       " 'LDA_16',\n",
       " 'LDA_17',\n",
       " 'LDA_18',\n",
       " 'LDA_19',\n",
       " 'LDA_20',\n",
       " 'LDA_21',\n",
       " 'LDA_22',\n",
       " 'LDA_23',\n",
       " 'LDA_24']"
      ]
     },
     "execution_count": 96,
     "metadata": {},
     "output_type": "execute_result"
    }
   ],
   "source": [
    "selected_features"
   ]
  },
  {
   "cell_type": "code",
   "execution_count": 97,
   "metadata": {},
   "outputs": [
    {
     "data": {
      "text/plain": [
       "(6231, 107)"
      ]
     },
     "execution_count": 97,
     "metadata": {},
     "output_type": "execute_result"
    }
   ],
   "source": [
    "features = features[selected_features]\n",
    "features.shape"
   ]
  },
  {
   "cell_type": "code",
   "execution_count": 98,
   "metadata": {},
   "outputs": [
    {
     "data": {
      "text/plain": [
       "(1558, 107)"
      ]
     },
     "execution_count": 98,
     "metadata": {},
     "output_type": "execute_result"
    }
   ],
   "source": [
    "featuresCV = featuresCV[selected_features]\n",
    "featuresCV.shape"
   ]
  },
  {
   "cell_type": "code",
   "execution_count": 99,
   "metadata": {},
   "outputs": [
    {
     "data": {
      "text/plain": [
       "True    107\n",
       "dtype: int64"
      ]
     },
     "execution_count": 99,
     "metadata": {},
     "output_type": "execute_result"
    }
   ],
   "source": [
    "pd.Series(features.columns == featuresCV.columns).value_counts()"
   ]
  },
  {
   "cell_type": "markdown",
   "metadata": {},
   "source": [
    "### Training"
   ]
  },
  {
   "cell_type": "markdown",
   "metadata": {},
   "source": [
    "#### Unbalanced"
   ]
  },
  {
   "cell_type": "code",
   "execution_count": 100,
   "metadata": {
    "collapsed": true
   },
   "outputs": [],
   "source": [
    "gs = GridSearchCV(GradientBoostingClassifier(), params, scoring='accuracy', cv=5, n_jobs=-1, error_score=0)"
   ]
  },
  {
   "cell_type": "code",
   "execution_count": 101,
   "metadata": {},
   "outputs": [
    {
     "name": "stdout",
     "output_type": "stream",
     "text": [
      "Wall time: 45min 10s\n"
     ]
    },
    {
     "data": {
      "text/plain": [
       "GridSearchCV(cv=5, error_score=0,\n",
       "       estimator=GradientBoostingClassifier(criterion='friedman_mse', init=None,\n",
       "              learning_rate=0.1, loss='deviance', max_depth=3,\n",
       "              max_features=None, max_leaf_nodes=None,\n",
       "              min_impurity_decrease=0.0, min_impurity_split=None,\n",
       "              min_samples_leaf=1, min_samples_split=2,\n",
       "              min_weight_fraction_leaf=0.0, n_estimators=100,\n",
       "              presort='auto', random_state=None, subsample=1.0, verbose=0,\n",
       "              warm_start=False),\n",
       "       fit_params=None, iid=True, n_jobs=-1,\n",
       "       param_grid={'learning_rate': [0.12, 0.1, 0.08, 0.01, 0.2], 'n_estimators': [150, 100, 50], 'max_depth': [1, 2, 3, 4, 5], 'random_state': [64]},\n",
       "       pre_dispatch='2*n_jobs', refit=True, return_train_score='warn',\n",
       "       scoring='accuracy', verbose=0)"
      ]
     },
     "execution_count": 101,
     "metadata": {},
     "output_type": "execute_result"
    }
   ],
   "source": [
    "%%time\n",
    "gs.fit(features, labels)"
   ]
  },
  {
   "cell_type": "code",
   "execution_count": 102,
   "metadata": {},
   "outputs": [
    {
     "name": "stderr",
     "output_type": "stream",
     "text": [
      "C:\\Users\\Patrik\\Anaconda3\\lib\\site-packages\\sklearn\\model_selection\\_search.py:761: DeprecationWarning: The grid_scores_ attribute was deprecated in version 0.18 in favor of the more elaborate cv_results_ attribute. The grid_scores_ attribute will not be available from 0.20\n",
      "  DeprecationWarning)\n"
     ]
    },
    {
     "data": {
      "text/plain": [
       "[mean: 0.82122, std: 0.00834, params: {'learning_rate': 0.08, 'max_depth': 5, 'n_estimators': 50, 'random_state': 64},\n",
       " mean: 0.82122, std: 0.00424, params: {'learning_rate': 0.01, 'max_depth': 4, 'n_estimators': 150, 'random_state': 64},\n",
       " mean: 0.82106, std: 0.00814, params: {'learning_rate': 0.08, 'max_depth': 4, 'n_estimators': 50, 'random_state': 64},\n",
       " mean: 0.82090, std: 0.00651, params: {'learning_rate': 0.1, 'max_depth': 4, 'n_estimators': 150, 'random_state': 64},\n",
       " mean: 0.82090, std: 0.00661, params: {'learning_rate': 0.08, 'max_depth': 4, 'n_estimators': 100, 'random_state': 64},\n",
       " mean: 0.82074, std: 0.00611, params: {'learning_rate': 0.1, 'max_depth': 4, 'n_estimators': 50, 'random_state': 64},\n",
       " mean: 0.82057, std: 0.00383, params: {'learning_rate': 0.08, 'max_depth': 2, 'n_estimators': 100, 'random_state': 64},\n",
       " mean: 0.82041, std: 0.00709, params: {'learning_rate': 0.1, 'max_depth': 4, 'n_estimators': 100, 'random_state': 64},\n",
       " mean: 0.82041, std: 0.00870, params: {'learning_rate': 0.1, 'max_depth': 5, 'n_estimators': 50, 'random_state': 64},\n",
       " mean: 0.82025, std: 0.00610, params: {'learning_rate': 0.12, 'max_depth': 4, 'n_estimators': 50, 'random_state': 64}]"
      ]
     },
     "execution_count": 102,
     "metadata": {},
     "output_type": "execute_result"
    }
   ],
   "source": [
    "sorted(gs.grid_scores_, key=lambda x: x.mean_validation_score, reverse=True)[:10]"
   ]
  },
  {
   "cell_type": "code",
   "execution_count": 103,
   "metadata": {},
   "outputs": [
    {
     "data": {
      "text/plain": [
       "GradientBoostingClassifier(criterion='friedman_mse', init=None,\n",
       "              learning_rate=0.08, loss='deviance', max_depth=5,\n",
       "              max_features=None, max_leaf_nodes=None,\n",
       "              min_impurity_decrease=0.0, min_impurity_split=None,\n",
       "              min_samples_leaf=1, min_samples_split=2,\n",
       "              min_weight_fraction_leaf=0.0, n_estimators=50,\n",
       "              presort='auto', random_state=64, subsample=1.0, verbose=0,\n",
       "              warm_start=False)"
      ]
     },
     "execution_count": 103,
     "metadata": {},
     "output_type": "execute_result"
    }
   ],
   "source": [
    "best_unbalanced = gs.best_estimator_\n",
    "best_unbalanced"
   ]
  },
  {
   "cell_type": "code",
   "execution_count": 104,
   "metadata": {},
   "outputs": [
    {
     "name": "stdout",
     "output_type": "stream",
     "text": [
      "accuracy:  0.810654685494\n",
      "\n",
      "             precision    recall  f1-score   support\n",
      "\n",
      "          1       0.92      0.98      0.95       626\n",
      "          2       0.60      0.52      0.56       198\n",
      "          3       0.66      0.72      0.69       360\n",
      "          4       0.87      0.77      0.82       374\n",
      "\n",
      "avg / total       0.81      0.81      0.81      1558\n",
      "\n",
      "macro precision:  0.763717166043\n",
      "micro precision:  0.810654685494\n",
      "\n",
      "micro recall:  0.810654685494\n",
      "macro recall:  0.746934198212\n",
      "\n",
      "micro f1:  0.810654685494\n",
      "macro f1:  0.75328102489\n"
     ]
    },
    {
     "data": {
      "image/png": "[encoded data removed]",
      "text/plain": [
       "<matplotlib.figure.Figure at 0x1b64fe90438>"
      ]
     },
     "metadata": {},
     "output_type": "display_data"
    }
   ],
   "source": [
    "print_metrics(best_unbalanced, featuresCV, labelsCV, 'žiadne', phase_num)"
   ]
  },
  {
   "cell_type": "markdown",
   "metadata": {},
   "source": [
    "#### Class weights"
   ]
  },
  {
   "cell_type": "code",
   "execution_count": 105,
   "metadata": {
    "collapsed": true
   },
   "outputs": [],
   "source": [
    "labels_weights = class_weight.compute_sample_weight('balanced', labels)"
   ]
  },
  {
   "cell_type": "code",
   "execution_count": 106,
   "metadata": {
    "collapsed": true
   },
   "outputs": [],
   "source": [
    "gs = GridSearchCV(GradientBoostingClassifier(), params, scoring='accuracy', cv=5, n_jobs=-1, error_score=0)"
   ]
  },
  {
   "cell_type": "code",
   "execution_count": 107,
   "metadata": {},
   "outputs": [
    {
     "name": "stdout",
     "output_type": "stream",
     "text": [
      "Wall time: 42min 7s\n"
     ]
    },
    {
     "data": {
      "text/plain": [
       "GridSearchCV(cv=5, error_score=0,\n",
       "       estimator=GradientBoostingClassifier(criterion='friedman_mse', init=None,\n",
       "              learning_rate=0.1, loss='deviance', max_depth=3,\n",
       "              max_features=None, max_leaf_nodes=None,\n",
       "              min_impurity_decrease=0.0, min_impurity_split=None,\n",
       "              min_samples_leaf=1, min_samples_split=2,\n",
       "              min_weight_fraction_leaf=0.0, n_estimators=100,\n",
       "              presort='auto', random_state=None, subsample=1.0, verbose=0,\n",
       "              warm_start=False),\n",
       "       fit_params=None, iid=True, n_jobs=-1,\n",
       "       param_grid={'learning_rate': [0.12, 0.1, 0.08, 0.01, 0.2], 'n_estimators': [150, 100, 50], 'max_depth': [1, 2, 3, 4, 5], 'random_state': [64]},\n",
       "       pre_dispatch='2*n_jobs', refit=True, return_train_score='warn',\n",
       "       scoring='accuracy', verbose=0)"
      ]
     },
     "execution_count": 107,
     "metadata": {},
     "output_type": "execute_result"
    }
   ],
   "source": [
    "%%time\n",
    "gs.fit(features, labels, sample_weight=labels_weights)"
   ]
  },
  {
   "cell_type": "code",
   "execution_count": 108,
   "metadata": {},
   "outputs": [
    {
     "name": "stderr",
     "output_type": "stream",
     "text": [
      "C:\\Users\\Patrik\\Anaconda3\\lib\\site-packages\\sklearn\\model_selection\\_search.py:761: DeprecationWarning: The grid_scores_ attribute was deprecated in version 0.18 in favor of the more elaborate cv_results_ attribute. The grid_scores_ attribute will not be available from 0.20\n",
      "  DeprecationWarning)\n"
     ]
    },
    {
     "data": {
      "text/plain": [
       "[mean: 0.82025, std: 0.01046, params: {'learning_rate': 0.12, 'max_depth': 5, 'n_estimators': 50, 'random_state': 64},\n",
       " mean: 0.81897, std: 0.00953, params: {'learning_rate': 0.08, 'max_depth': 5, 'n_estimators': 50, 'random_state': 64},\n",
       " mean: 0.81849, std: 0.00908, params: {'learning_rate': 0.1, 'max_depth': 5, 'n_estimators': 50, 'random_state': 64},\n",
       " mean: 0.81817, std: 0.00481, params: {'learning_rate': 0.01, 'max_depth': 4, 'n_estimators': 150, 'random_state': 64},\n",
       " mean: 0.81801, std: 0.00920, params: {'learning_rate': 0.08, 'max_depth': 5, 'n_estimators': 100, 'random_state': 64},\n",
       " mean: 0.81785, std: 0.00997, params: {'learning_rate': 0.12, 'max_depth': 3, 'n_estimators': 100, 'random_state': 64},\n",
       " mean: 0.81785, std: 0.00641, params: {'learning_rate': 0.12, 'max_depth': 5, 'n_estimators': 100, 'random_state': 64},\n",
       " mean: 0.81785, std: 0.00771, params: {'learning_rate': 0.1, 'max_depth': 5, 'n_estimators': 150, 'random_state': 64},\n",
       " mean: 0.81785, std: 0.00848, params: {'learning_rate': 0.08, 'max_depth': 4, 'n_estimators': 100, 'random_state': 64},\n",
       " mean: 0.81769, std: 0.00843, params: {'learning_rate': 0.08, 'max_depth': 3, 'n_estimators': 100, 'random_state': 64}]"
      ]
     },
     "execution_count": 108,
     "metadata": {},
     "output_type": "execute_result"
    }
   ],
   "source": [
    "sorted(gs.grid_scores_, key=lambda x: x.mean_validation_score, reverse=True)[:10]"
   ]
  },
  {
   "cell_type": "code",
   "execution_count": 109,
   "metadata": {},
   "outputs": [
    {
     "data": {
      "text/plain": [
       "GradientBoostingClassifier(criterion='friedman_mse', init=None,\n",
       "              learning_rate=0.12, loss='deviance', max_depth=5,\n",
       "              max_features=None, max_leaf_nodes=None,\n",
       "              min_impurity_decrease=0.0, min_impurity_split=None,\n",
       "              min_samples_leaf=1, min_samples_split=2,\n",
       "              min_weight_fraction_leaf=0.0, n_estimators=50,\n",
       "              presort='auto', random_state=64, subsample=1.0, verbose=0,\n",
       "              warm_start=False)"
      ]
     },
     "execution_count": 109,
     "metadata": {},
     "output_type": "execute_result"
    }
   ],
   "source": [
    "best_weighted = gs.best_estimator_\n",
    "best_weighted"
   ]
  },
  {
   "cell_type": "code",
   "execution_count": 110,
   "metadata": {},
   "outputs": [
    {
     "name": "stdout",
     "output_type": "stream",
     "text": [
      "accuracy:  0.806803594352\n",
      "\n",
      "             precision    recall  f1-score   support\n",
      "\n",
      "          1       0.93      0.97      0.95       626\n",
      "          2       0.55      0.58      0.56       198\n",
      "          3       0.67      0.68      0.67       360\n",
      "          4       0.88      0.78      0.83       374\n",
      "\n",
      "avg / total       0.81      0.81      0.81      1558\n",
      "\n",
      "macro precision:  0.756416166834\n",
      "micro precision:  0.806803594352\n",
      "\n",
      "micro recall:  0.806803594352\n",
      "macro recall:  0.751308233624\n",
      "\n",
      "micro f1:  0.806803594352\n",
      "macro f1:  0.752761439162\n"
     ]
    },
    {
     "data": {
      "image/png": "[encoded data removed]",
      "text/plain": [
       "<matplotlib.figure.Figure at 0x1b64f9624a8>"
      ]
     },
     "metadata": {},
     "output_type": "display_data"
    }
   ],
   "source": [
    "print_metrics(best_weighted, featuresCV, labelsCV, 'váhovanie', phase_num)"
   ]
  },
  {
   "cell_type": "markdown",
   "metadata": {},
   "source": [
    "#### Oversampling"
   ]
  },
  {
   "cell_type": "code",
   "execution_count": 111,
   "metadata": {},
   "outputs": [
    {
     "name": "stdout",
     "output_type": "stream",
     "text": [
      "[(1, 2519), (2, 2519), (3, 2519), (4, 2519)]\n"
     ]
    }
   ],
   "source": [
    "ros = RandomOverSampler(random_state=64)\n",
    "features_sampled, labels_sampled = ros.fit_sample(features, labels)\n",
    "print(sorted(Counter(labels_sampled).items()))"
   ]
  },
  {
   "cell_type": "code",
   "execution_count": 112,
   "metadata": {},
   "outputs": [
    {
     "data": {
      "text/plain": [
       "(10076, 107)"
      ]
     },
     "execution_count": 112,
     "metadata": {},
     "output_type": "execute_result"
    }
   ],
   "source": [
    "features_sampled = pd.DataFrame(features_sampled)\n",
    "features_sampled.columns = features.columns\n",
    "features_sampled.shape"
   ]
  },
  {
   "cell_type": "code",
   "execution_count": 113,
   "metadata": {
    "collapsed": true
   },
   "outputs": [],
   "source": [
    "gs = GridSearchCV(GradientBoostingClassifier(), params, scoring='accuracy', cv=5, n_jobs=-1, error_score=0)"
   ]
  },
  {
   "cell_type": "code",
   "execution_count": 114,
   "metadata": {},
   "outputs": [
    {
     "name": "stdout",
     "output_type": "stream",
     "text": [
      "Wall time: 1h 28min 53s\n"
     ]
    },
    {
     "data": {
      "text/plain": [
       "GridSearchCV(cv=5, error_score=0,\n",
       "       estimator=GradientBoostingClassifier(criterion='friedman_mse', init=None,\n",
       "              learning_rate=0.1, loss='deviance', max_depth=3,\n",
       "              max_features=None, max_leaf_nodes=None,\n",
       "              min_impurity_decrease=0.0, min_impurity_split=None,\n",
       "              min_samples_leaf=1, min_samples_split=2,\n",
       "              min_weight_fraction_leaf=0.0, n_estimators=100,\n",
       "              presort='auto', random_state=None, subsample=1.0, verbose=0,\n",
       "              warm_start=False),\n",
       "       fit_params=None, iid=True, n_jobs=-1,\n",
       "       param_grid={'learning_rate': [0.12, 0.1, 0.08, 0.01, 0.2], 'n_estimators': [150, 100, 50], 'max_depth': [1, 2, 3, 4, 5], 'random_state': [64]},\n",
       "       pre_dispatch='2*n_jobs', refit=True, return_train_score='warn',\n",
       "       scoring='accuracy', verbose=0)"
      ]
     },
     "execution_count": 114,
     "metadata": {},
     "output_type": "execute_result"
    }
   ],
   "source": [
    "%%time\n",
    "gs.fit(features_sampled, labels_sampled)"
   ]
  },
  {
   "cell_type": "code",
   "execution_count": 115,
   "metadata": {},
   "outputs": [
    {
     "name": "stderr",
     "output_type": "stream",
     "text": [
      "C:\\Users\\Patrik\\Anaconda3\\lib\\site-packages\\sklearn\\model_selection\\_search.py:761: DeprecationWarning: The grid_scores_ attribute was deprecated in version 0.18 in favor of the more elaborate cv_results_ attribute. The grid_scores_ attribute will not be available from 0.20\n",
      "  DeprecationWarning)\n"
     ]
    },
    {
     "data": {
      "text/plain": [
       "[mean: 0.95038, std: 0.03356, params: {'learning_rate': 0.12, 'max_depth': 5, 'n_estimators': 150, 'random_state': 64},\n",
       " mean: 0.94889, std: 0.03664, params: {'learning_rate': 0.2, 'max_depth': 5, 'n_estimators': 150, 'random_state': 64},\n",
       " mean: 0.94800, std: 0.03707, params: {'learning_rate': 0.2, 'max_depth': 5, 'n_estimators': 100, 'random_state': 64},\n",
       " mean: 0.94591, std: 0.03480, params: {'learning_rate': 0.2, 'max_depth': 4, 'n_estimators': 150, 'random_state': 64},\n",
       " mean: 0.94541, std: 0.03350, params: {'learning_rate': 0.1, 'max_depth': 5, 'n_estimators': 150, 'random_state': 64},\n",
       " mean: 0.93956, std: 0.03177, params: {'learning_rate': 0.12, 'max_depth': 5, 'n_estimators': 100, 'random_state': 64},\n",
       " mean: 0.93817, std: 0.03079, params: {'learning_rate': 0.08, 'max_depth': 5, 'n_estimators': 150, 'random_state': 64},\n",
       " mean: 0.93261, std: 0.03075, params: {'learning_rate': 0.2, 'max_depth': 5, 'n_estimators': 50, 'random_state': 64},\n",
       " mean: 0.93182, std: 0.02986, params: {'learning_rate': 0.1, 'max_depth': 5, 'n_estimators': 100, 'random_state': 64},\n",
       " mean: 0.93142, std: 0.03150, params: {'learning_rate': 0.2, 'max_depth': 4, 'n_estimators': 100, 'random_state': 64}]"
      ]
     },
     "execution_count": 115,
     "metadata": {},
     "output_type": "execute_result"
    }
   ],
   "source": [
    "sorted(gs.grid_scores_, key=lambda x: x.mean_validation_score, reverse=True)[:10]"
   ]
  },
  {
   "cell_type": "code",
   "execution_count": 116,
   "metadata": {
    "collapsed": true
   },
   "outputs": [],
   "source": [
    "best_oversampled = gs.best_estimator_"
   ]
  },
  {
   "cell_type": "code",
   "execution_count": 117,
   "metadata": {},
   "outputs": [
    {
     "name": "stdout",
     "output_type": "stream",
     "text": [
      "accuracy:  0.807445442875\n",
      "\n",
      "             precision    recall  f1-score   support\n",
      "\n",
      "          1       0.93      0.98      0.95       626\n",
      "          2       0.56      0.56      0.56       198\n",
      "          3       0.66      0.69      0.68       360\n",
      "          4       0.87      0.77      0.82       374\n",
      "\n",
      "avg / total       0.81      0.81      0.81      1558\n",
      "\n",
      "macro precision:  0.757106823133\n",
      "micro precision:  0.807445442875\n",
      "\n",
      "micro recall:  0.807445442875\n",
      "macro recall:  0.748059421029\n",
      "\n",
      "micro f1:  0.807445442875\n",
      "macro f1:  0.751505881467\n"
     ]
    },
    {
     "data": {
      "image/png": "[encoded data removed]",
      "text/plain": [
       "<matplotlib.figure.Figure at 0x1b64ea00ac8>"
      ]
     },
     "metadata": {},
     "output_type": "display_data"
    }
   ],
   "source": [
    "print_metrics(best_oversampled, featuresCV, labelsCV, 'nadvzorkovanie', phase_num)"
   ]
  },
  {
   "cell_type": "markdown",
   "metadata": {},
   "source": [
    "#### Undersampling"
   ]
  },
  {
   "cell_type": "code",
   "execution_count": 118,
   "metadata": {},
   "outputs": [
    {
     "name": "stdout",
     "output_type": "stream",
     "text": [
      "[(1, 756), (2, 756), (3, 756), (4, 756)]\n"
     ]
    }
   ],
   "source": [
    "rus = RandomUnderSampler(random_state=64)\n",
    "features_sampled, labels_sampled = rus.fit_sample(features, labels)\n",
    "print(sorted(Counter(labels_sampled).items()))"
   ]
  },
  {
   "cell_type": "code",
   "execution_count": 119,
   "metadata": {},
   "outputs": [
    {
     "data": {
      "text/plain": [
       "(3024, 107)"
      ]
     },
     "execution_count": 119,
     "metadata": {},
     "output_type": "execute_result"
    }
   ],
   "source": [
    "features_sampled = pd.DataFrame(features_sampled)\n",
    "features_sampled.columns = features.columns\n",
    "features_sampled.shape"
   ]
  },
  {
   "cell_type": "code",
   "execution_count": 120,
   "metadata": {
    "collapsed": true
   },
   "outputs": [],
   "source": [
    "gs = GridSearchCV(GradientBoostingClassifier(), params, scoring='accuracy', cv=5, n_jobs=-1, error_score=0)"
   ]
  },
  {
   "cell_type": "code",
   "execution_count": 121,
   "metadata": {},
   "outputs": [
    {
     "name": "stdout",
     "output_type": "stream",
     "text": [
      "Wall time: 23min 31s\n"
     ]
    },
    {
     "data": {
      "text/plain": [
       "GridSearchCV(cv=5, error_score=0,\n",
       "       estimator=GradientBoostingClassifier(criterion='friedman_mse', init=None,\n",
       "              learning_rate=0.1, loss='deviance', max_depth=3,\n",
       "              max_features=None, max_leaf_nodes=None,\n",
       "              min_impurity_decrease=0.0, min_impurity_split=None,\n",
       "              min_samples_leaf=1, min_samples_split=2,\n",
       "              min_weight_fraction_leaf=0.0, n_estimators=100,\n",
       "              presort='auto', random_state=None, subsample=1.0, verbose=0,\n",
       "              warm_start=False),\n",
       "       fit_params=None, iid=True, n_jobs=-1,\n",
       "       param_grid={'learning_rate': [0.12, 0.1, 0.08, 0.01, 0.2], 'n_estimators': [150, 100, 50], 'max_depth': [1, 2, 3, 4, 5], 'random_state': [64]},\n",
       "       pre_dispatch='2*n_jobs', refit=True, return_train_score='warn',\n",
       "       scoring='accuracy', verbose=0)"
      ]
     },
     "execution_count": 121,
     "metadata": {},
     "output_type": "execute_result"
    }
   ],
   "source": [
    "%%time\n",
    "gs.fit(features_sampled, labels_sampled)"
   ]
  },
  {
   "cell_type": "code",
   "execution_count": 122,
   "metadata": {},
   "outputs": [
    {
     "name": "stderr",
     "output_type": "stream",
     "text": [
      "C:\\Users\\Patrik\\Anaconda3\\lib\\site-packages\\sklearn\\model_selection\\_search.py:761: DeprecationWarning: The grid_scores_ attribute was deprecated in version 0.18 in favor of the more elaborate cv_results_ attribute. The grid_scores_ attribute will not be available from 0.20\n",
      "  DeprecationWarning)\n"
     ]
    },
    {
     "data": {
      "text/plain": [
       "[mean: 0.77447, std: 0.00895, params: {'learning_rate': 0.08, 'max_depth': 3, 'n_estimators': 50, 'random_state': 64},\n",
       " mean: 0.77414, std: 0.00699, params: {'learning_rate': 0.12, 'max_depth': 3, 'n_estimators': 50, 'random_state': 64},\n",
       " mean: 0.77282, std: 0.00654, params: {'learning_rate': 0.01, 'max_depth': 4, 'n_estimators': 150, 'random_state': 64},\n",
       " mean: 0.77216, std: 0.00731, params: {'learning_rate': 0.08, 'max_depth': 2, 'n_estimators': 50, 'random_state': 64},\n",
       " mean: 0.77149, std: 0.00311, params: {'learning_rate': 0.1, 'max_depth': 3, 'n_estimators': 50, 'random_state': 64},\n",
       " mean: 0.76918, std: 0.00487, params: {'learning_rate': 0.1, 'max_depth': 5, 'n_estimators': 100, 'random_state': 64},\n",
       " mean: 0.76918, std: 0.00997, params: {'learning_rate': 0.08, 'max_depth': 4, 'n_estimators': 50, 'random_state': 64},\n",
       " mean: 0.76885, std: 0.00649, params: {'learning_rate': 0.08, 'max_depth': 3, 'n_estimators': 100, 'random_state': 64},\n",
       " mean: 0.76885, std: 0.01051, params: {'learning_rate': 0.08, 'max_depth': 5, 'n_estimators': 50, 'random_state': 64},\n",
       " mean: 0.76852, std: 0.01272, params: {'learning_rate': 0.01, 'max_depth': 3, 'n_estimators': 150, 'random_state': 64}]"
      ]
     },
     "execution_count": 122,
     "metadata": {},
     "output_type": "execute_result"
    }
   ],
   "source": [
    "sorted(gs.grid_scores_, key=lambda x: x.mean_validation_score, reverse=True)[:10]"
   ]
  },
  {
   "cell_type": "code",
   "execution_count": 123,
   "metadata": {},
   "outputs": [
    {
     "data": {
      "text/plain": [
       "GradientBoostingClassifier(criterion='friedman_mse', init=None,\n",
       "              learning_rate=0.08, loss='deviance', max_depth=3,\n",
       "              max_features=None, max_leaf_nodes=None,\n",
       "              min_impurity_decrease=0.0, min_impurity_split=None,\n",
       "              min_samples_leaf=1, min_samples_split=2,\n",
       "              min_weight_fraction_leaf=0.0, n_estimators=50,\n",
       "              presort='auto', random_state=64, subsample=1.0, verbose=0,\n",
       "              warm_start=False)"
      ]
     },
     "execution_count": 123,
     "metadata": {},
     "output_type": "execute_result"
    }
   ],
   "source": [
    "best_undersampled = gs.best_estimator_\n",
    "best_undersampled"
   ]
  },
  {
   "cell_type": "code",
   "execution_count": 124,
   "metadata": {},
   "outputs": [
    {
     "name": "stdout",
     "output_type": "stream",
     "text": [
      "accuracy:  0.793324775353\n",
      "\n",
      "             precision    recall  f1-score   support\n",
      "\n",
      "          1       0.94      0.96      0.95       626\n",
      "          2       0.51      0.66      0.58       198\n",
      "          3       0.66      0.61      0.64       360\n",
      "          4       0.86      0.76      0.81       374\n",
      "\n",
      "avg / total       0.80      0.79      0.80      1558\n",
      "\n",
      "macro precision:  0.743644914278\n",
      "micro precision:  0.793324775353\n",
      "\n",
      "micro recall:  0.793324775353\n",
      "macro recall:  0.748037364815\n",
      "\n",
      "micro f1:  0.793324775353\n",
      "macro f1:  0.742430122288\n"
     ]
    },
    {
     "data": {
      "image/png": "[encoded data removed]",
      "text/plain": [
       "<matplotlib.figure.Figure at 0x1b64f952828>"
      ]
     },
     "metadata": {},
     "output_type": "display_data"
    }
   ],
   "source": [
    "print_metrics(best_undersampled, featuresCV, labelsCV, 'podvzorkovanie', phase_num)"
   ]
  },
  {
   "cell_type": "markdown",
   "metadata": {},
   "source": [
    "### Best configuration (primary: accuracy, secondary: macro F1)"
   ]
  },
  {
   "cell_type": "code",
   "execution_count": 125,
   "metadata": {},
   "outputs": [
    {
     "data": {
      "text/html": [
       "<div>\n",
       "<style>\n",
       "    .dataframe thead tr:only-child th {\n",
       "        text-align: right;\n",
       "    }\n",
       "\n",
       "    .dataframe thead th {\n",
       "        text-align: left;\n",
       "    }\n",
       "\n",
       "    .dataframe tbody tr th {\n",
       "        vertical-align: top;\n",
       "    }\n",
       "</style>\n",
       "<table border=\"1\" class=\"dataframe\">\n",
       "  <thead>\n",
       "    <tr style=\"text-align: right;\">\n",
       "      <th></th>\n",
       "      <th>Fáza</th>\n",
       "      <th>Vyváženie</th>\n",
       "      <th>S</th>\n",
       "      <th>P_0</th>\n",
       "      <th>P_1</th>\n",
       "      <th>P_2</th>\n",
       "      <th>P_3</th>\n",
       "      <th>Ú_0</th>\n",
       "      <th>Ú_1</th>\n",
       "      <th>Ú_2</th>\n",
       "      <th>Ú_3</th>\n",
       "      <th>F1_makro</th>\n",
       "    </tr>\n",
       "  </thead>\n",
       "  <tbody>\n",
       "    <tr>\n",
       "      <th>4</th>\n",
       "      <td>2</td>\n",
       "      <td>žiadne</td>\n",
       "      <td>0.81</td>\n",
       "      <td>0.92</td>\n",
       "      <td>0.60</td>\n",
       "      <td>0.66</td>\n",
       "      <td>0.87</td>\n",
       "      <td>0.98</td>\n",
       "      <td>0.52</td>\n",
       "      <td>0.72</td>\n",
       "      <td>0.77</td>\n",
       "      <td>0.75</td>\n",
       "    </tr>\n",
       "    <tr>\n",
       "      <th>5</th>\n",
       "      <td>2</td>\n",
       "      <td>váhovanie</td>\n",
       "      <td>0.81</td>\n",
       "      <td>0.93</td>\n",
       "      <td>0.55</td>\n",
       "      <td>0.67</td>\n",
       "      <td>0.88</td>\n",
       "      <td>0.97</td>\n",
       "      <td>0.58</td>\n",
       "      <td>0.68</td>\n",
       "      <td>0.78</td>\n",
       "      <td>0.75</td>\n",
       "    </tr>\n",
       "    <tr>\n",
       "      <th>6</th>\n",
       "      <td>2</td>\n",
       "      <td>nadvzorkovanie</td>\n",
       "      <td>0.81</td>\n",
       "      <td>0.93</td>\n",
       "      <td>0.56</td>\n",
       "      <td>0.66</td>\n",
       "      <td>0.87</td>\n",
       "      <td>0.98</td>\n",
       "      <td>0.56</td>\n",
       "      <td>0.69</td>\n",
       "      <td>0.77</td>\n",
       "      <td>0.75</td>\n",
       "    </tr>\n",
       "    <tr>\n",
       "      <th>7</th>\n",
       "      <td>2</td>\n",
       "      <td>podvzorkovanie</td>\n",
       "      <td>0.79</td>\n",
       "      <td>0.94</td>\n",
       "      <td>0.51</td>\n",
       "      <td>0.66</td>\n",
       "      <td>0.86</td>\n",
       "      <td>0.96</td>\n",
       "      <td>0.66</td>\n",
       "      <td>0.61</td>\n",
       "      <td>0.76</td>\n",
       "      <td>0.74</td>\n",
       "    </tr>\n",
       "    <tr>\n",
       "      <th>0</th>\n",
       "      <td>1</td>\n",
       "      <td>žiadne</td>\n",
       "      <td>0.76</td>\n",
       "      <td>0.87</td>\n",
       "      <td>0.53</td>\n",
       "      <td>0.60</td>\n",
       "      <td>0.79</td>\n",
       "      <td>0.97</td>\n",
       "      <td>0.41</td>\n",
       "      <td>0.60</td>\n",
       "      <td>0.73</td>\n",
       "      <td>0.68</td>\n",
       "    </tr>\n",
       "    <tr>\n",
       "      <th>2</th>\n",
       "      <td>1</td>\n",
       "      <td>oversampling</td>\n",
       "      <td>0.74</td>\n",
       "      <td>0.87</td>\n",
       "      <td>0.45</td>\n",
       "      <td>0.58</td>\n",
       "      <td>0.79</td>\n",
       "      <td>0.93</td>\n",
       "      <td>0.44</td>\n",
       "      <td>0.59</td>\n",
       "      <td>0.71</td>\n",
       "      <td>0.67</td>\n",
       "    </tr>\n",
       "    <tr>\n",
       "      <th>1</th>\n",
       "      <td>1</td>\n",
       "      <td>váhovanie</td>\n",
       "      <td>0.73</td>\n",
       "      <td>0.90</td>\n",
       "      <td>0.42</td>\n",
       "      <td>0.61</td>\n",
       "      <td>0.78</td>\n",
       "      <td>0.90</td>\n",
       "      <td>0.59</td>\n",
       "      <td>0.51</td>\n",
       "      <td>0.72</td>\n",
       "      <td>0.67</td>\n",
       "    </tr>\n",
       "    <tr>\n",
       "      <th>3</th>\n",
       "      <td>1</td>\n",
       "      <td>undersampling</td>\n",
       "      <td>0.72</td>\n",
       "      <td>0.90</td>\n",
       "      <td>0.40</td>\n",
       "      <td>0.59</td>\n",
       "      <td>0.77</td>\n",
       "      <td>0.89</td>\n",
       "      <td>0.60</td>\n",
       "      <td>0.47</td>\n",
       "      <td>0.71</td>\n",
       "      <td>0.66</td>\n",
       "    </tr>\n",
       "  </tbody>\n",
       "</table>\n",
       "</div>"
      ],
      "text/plain": [
       "   Fáza       Vyváženie     S   P_0   P_1   P_2   P_3   Ú_0   Ú_1   Ú_2   Ú_3  \\\n",
       "4     2          žiadne  0.81  0.92  0.60  0.66  0.87  0.98  0.52  0.72  0.77   \n",
       "5     2       váhovanie  0.81  0.93  0.55  0.67  0.88  0.97  0.58  0.68  0.78   \n",
       "6     2  nadvzorkovanie  0.81  0.93  0.56  0.66  0.87  0.98  0.56  0.69  0.77   \n",
       "7     2  podvzorkovanie  0.79  0.94  0.51  0.66  0.86  0.96  0.66  0.61  0.76   \n",
       "0     1          žiadne  0.76  0.87  0.53  0.60  0.79  0.97  0.41  0.60  0.73   \n",
       "2     1    oversampling  0.74  0.87  0.45  0.58  0.79  0.93  0.44  0.59  0.71   \n",
       "1     1       váhovanie  0.73  0.90  0.42  0.61  0.78  0.90  0.59  0.51  0.72   \n",
       "3     1   undersampling  0.72  0.90  0.40  0.59  0.77  0.89  0.60  0.47  0.71   \n",
       "\n",
       "   F1_makro  \n",
       "4      0.75  \n",
       "5      0.75  \n",
       "6      0.75  \n",
       "7      0.74  \n",
       "0      0.68  \n",
       "2      0.67  \n",
       "1      0.67  \n",
       "3      0.66  "
      ]
     },
     "execution_count": 125,
     "metadata": {},
     "output_type": "execute_result"
    }
   ],
   "source": [
    "df_results[['Fáza','Vyváženie','S','P_0','P_1','P_2','P_3','Ú_0','Ú_1','Ú_2','Ú_3', 'F1_makro']] \\\n",
    ".sort_values(by=['Fáza', 'S', 'F1_makro'], ascending=False)"
   ]
  },
  {
   "cell_type": "code",
   "execution_count": 126,
   "metadata": {},
   "outputs": [
    {
     "data": {
      "text/plain": [
       "GradientBoostingClassifier(criterion='friedman_mse', init=None,\n",
       "              learning_rate=0.08, loss='deviance', max_depth=5,\n",
       "              max_features=None, max_leaf_nodes=None,\n",
       "              min_impurity_decrease=0.0, min_impurity_split=None,\n",
       "              min_samples_leaf=1, min_samples_split=2,\n",
       "              min_weight_fraction_leaf=0.0, n_estimators=50,\n",
       "              presort='auto', random_state=64, subsample=1.0, verbose=0,\n",
       "              warm_start=False)"
      ]
     },
     "execution_count": 126,
     "metadata": {},
     "output_type": "execute_result"
    }
   ],
   "source": [
    "best = best_unbalanced\n",
    "best"
   ]
  },
  {
   "cell_type": "code",
   "execution_count": 127,
   "metadata": {
    "scrolled": false
   },
   "outputs": [
    {
     "data": {
      "text/html": [
       "<div>\n",
       "<style>\n",
       "    .dataframe thead tr:only-child th {\n",
       "        text-align: right;\n",
       "    }\n",
       "\n",
       "    .dataframe thead th {\n",
       "        text-align: left;\n",
       "    }\n",
       "\n",
       "    .dataframe tbody tr th {\n",
       "        vertical-align: top;\n",
       "    }\n",
       "</style>\n",
       "<table border=\"1\" class=\"dataframe\">\n",
       "  <thead>\n",
       "    <tr style=\"text-align: right;\">\n",
       "      <th></th>\n",
       "      <th>názov črty</th>\n",
       "      <th>dôležitosť</th>\n",
       "    </tr>\n",
       "  </thead>\n",
       "  <tbody>\n",
       "    <tr>\n",
       "      <th>7</th>\n",
       "      <td>ratio_pledged_goal</td>\n",
       "      <td>4.291494e-01</td>\n",
       "    </tr>\n",
       "    <tr>\n",
       "      <th>0</th>\n",
       "      <td>average_pledge</td>\n",
       "      <td>2.045852e-02</td>\n",
       "    </tr>\n",
       "    <tr>\n",
       "      <th>10</th>\n",
       "      <td>usd_goal</td>\n",
       "      <td>2.034916e-02</td>\n",
       "    </tr>\n",
       "    <tr>\n",
       "      <th>1</th>\n",
       "      <td>backers_count</td>\n",
       "      <td>1.813570e-02</td>\n",
       "    </tr>\n",
       "    <tr>\n",
       "      <th>106</th>\n",
       "      <td>LDA_24</td>\n",
       "      <td>1.464045e-02</td>\n",
       "    </tr>\n",
       "    <tr>\n",
       "      <th>91</th>\n",
       "      <td>LDA_9</td>\n",
       "      <td>1.367263e-02</td>\n",
       "    </tr>\n",
       "    <tr>\n",
       "      <th>11</th>\n",
       "      <td>usd_pledged</td>\n",
       "      <td>1.338685e-02</td>\n",
       "    </tr>\n",
       "    <tr>\n",
       "      <th>96</th>\n",
       "      <td>LDA_14</td>\n",
       "      <td>1.174503e-02</td>\n",
       "    </tr>\n",
       "    <tr>\n",
       "      <th>83</th>\n",
       "      <td>LDA_1</td>\n",
       "      <td>1.128907e-02</td>\n",
       "    </tr>\n",
       "    <tr>\n",
       "      <th>100</th>\n",
       "      <td>LDA_18</td>\n",
       "      <td>1.109476e-02</td>\n",
       "    </tr>\n",
       "    <tr>\n",
       "      <th>8</th>\n",
       "      <td>ratio_running_duration</td>\n",
       "      <td>1.052207e-02</td>\n",
       "    </tr>\n",
       "    <tr>\n",
       "      <th>63</th>\n",
       "      <td>LSA_6</td>\n",
       "      <td>1.046813e-02</td>\n",
       "    </tr>\n",
       "    <tr>\n",
       "      <th>102</th>\n",
       "      <td>LDA_20</td>\n",
       "      <td>1.039601e-02</td>\n",
       "    </tr>\n",
       "    <tr>\n",
       "      <th>92</th>\n",
       "      <td>LDA_10</td>\n",
       "      <td>1.038564e-02</td>\n",
       "    </tr>\n",
       "    <tr>\n",
       "      <th>97</th>\n",
       "      <td>LDA_15</td>\n",
       "      <td>1.034078e-02</td>\n",
       "    </tr>\n",
       "    <tr>\n",
       "      <th>76</th>\n",
       "      <td>LSA_19</td>\n",
       "      <td>1.010877e-02</td>\n",
       "    </tr>\n",
       "    <tr>\n",
       "      <th>77</th>\n",
       "      <td>LSA_20</td>\n",
       "      <td>1.001961e-02</td>\n",
       "    </tr>\n",
       "    <tr>\n",
       "      <th>79</th>\n",
       "      <td>LSA_22</td>\n",
       "      <td>9.909274e-03</td>\n",
       "    </tr>\n",
       "    <tr>\n",
       "      <th>6</th>\n",
       "      <td>pledged</td>\n",
       "      <td>9.760242e-03</td>\n",
       "    </tr>\n",
       "    <tr>\n",
       "      <th>66</th>\n",
       "      <td>LSA_9</td>\n",
       "      <td>9.463202e-03</td>\n",
       "    </tr>\n",
       "    <tr>\n",
       "      <th>3</th>\n",
       "      <td>days_preparation</td>\n",
       "      <td>9.108146e-03</td>\n",
       "    </tr>\n",
       "    <tr>\n",
       "      <th>99</th>\n",
       "      <td>LDA_17</td>\n",
       "      <td>9.036116e-03</td>\n",
       "    </tr>\n",
       "    <tr>\n",
       "      <th>69</th>\n",
       "      <td>LSA_12</td>\n",
       "      <td>8.843033e-03</td>\n",
       "    </tr>\n",
       "    <tr>\n",
       "      <th>80</th>\n",
       "      <td>LSA_23</td>\n",
       "      <td>8.790733e-03</td>\n",
       "    </tr>\n",
       "    <tr>\n",
       "      <th>90</th>\n",
       "      <td>LDA_8</td>\n",
       "      <td>8.430084e-03</td>\n",
       "    </tr>\n",
       "    <tr>\n",
       "      <th>72</th>\n",
       "      <td>LSA_15</td>\n",
       "      <td>8.313122e-03</td>\n",
       "    </tr>\n",
       "    <tr>\n",
       "      <th>73</th>\n",
       "      <td>LSA_16</td>\n",
       "      <td>8.121545e-03</td>\n",
       "    </tr>\n",
       "    <tr>\n",
       "      <th>86</th>\n",
       "      <td>LDA_4</td>\n",
       "      <td>7.866328e-03</td>\n",
       "    </tr>\n",
       "    <tr>\n",
       "      <th>88</th>\n",
       "      <td>LDA_6</td>\n",
       "      <td>7.713287e-03</td>\n",
       "    </tr>\n",
       "    <tr>\n",
       "      <th>2</th>\n",
       "      <td>category_position</td>\n",
       "      <td>7.644730e-03</td>\n",
       "    </tr>\n",
       "    <tr>\n",
       "      <th>...</th>\n",
       "      <td>...</td>\n",
       "      <td>...</td>\n",
       "    </tr>\n",
       "    <tr>\n",
       "      <th>37</th>\n",
       "      <td>category_parent_dance</td>\n",
       "      <td>1.569821e-03</td>\n",
       "    </tr>\n",
       "    <tr>\n",
       "      <th>35</th>\n",
       "      <td>category_parent_comics</td>\n",
       "      <td>1.425378e-03</td>\n",
       "    </tr>\n",
       "    <tr>\n",
       "      <th>56</th>\n",
       "      <td>location_type_Town</td>\n",
       "      <td>1.380601e-03</td>\n",
       "    </tr>\n",
       "    <tr>\n",
       "      <th>41</th>\n",
       "      <td>category_parent_music</td>\n",
       "      <td>1.291025e-03</td>\n",
       "    </tr>\n",
       "    <tr>\n",
       "      <th>18</th>\n",
       "      <td>updates_likes_min_while_scraping</td>\n",
       "      <td>1.200136e-03</td>\n",
       "    </tr>\n",
       "    <tr>\n",
       "      <th>12</th>\n",
       "      <td>faq_count_while_scraping</td>\n",
       "      <td>1.142267e-03</td>\n",
       "    </tr>\n",
       "    <tr>\n",
       "      <th>47</th>\n",
       "      <td>country_DE</td>\n",
       "      <td>1.002722e-03</td>\n",
       "    </tr>\n",
       "    <tr>\n",
       "      <th>17</th>\n",
       "      <td>updates_likes_mean_while_scraping</td>\n",
       "      <td>9.054820e-04</td>\n",
       "    </tr>\n",
       "    <tr>\n",
       "      <th>25</th>\n",
       "      <td>launch_month</td>\n",
       "      <td>8.602467e-04</td>\n",
       "    </tr>\n",
       "    <tr>\n",
       "      <th>31</th>\n",
       "      <td>video_youtube_count</td>\n",
       "      <td>8.580573e-04</td>\n",
       "    </tr>\n",
       "    <tr>\n",
       "      <th>20</th>\n",
       "      <td>updates_likes_median_while_scraping</td>\n",
       "      <td>8.293422e-04</td>\n",
       "    </tr>\n",
       "    <tr>\n",
       "      <th>53</th>\n",
       "      <td>location_type_County</td>\n",
       "      <td>7.539340e-04</td>\n",
       "    </tr>\n",
       "    <tr>\n",
       "      <th>51</th>\n",
       "      <td>currency_SEK</td>\n",
       "      <td>7.350567e-04</td>\n",
       "    </tr>\n",
       "    <tr>\n",
       "      <th>19</th>\n",
       "      <td>updates_likes_max_while_scraping</td>\n",
       "      <td>7.277802e-04</td>\n",
       "    </tr>\n",
       "    <tr>\n",
       "      <th>48</th>\n",
       "      <td>country_ES</td>\n",
       "      <td>6.079597e-04</td>\n",
       "    </tr>\n",
       "    <tr>\n",
       "      <th>50</th>\n",
       "      <td>currency_NZD</td>\n",
       "      <td>6.071028e-04</td>\n",
       "    </tr>\n",
       "    <tr>\n",
       "      <th>52</th>\n",
       "      <td>currency_USD</td>\n",
       "      <td>5.904471e-04</td>\n",
       "    </tr>\n",
       "    <tr>\n",
       "      <th>30</th>\n",
       "      <td>video_kickstarter_count</td>\n",
       "      <td>5.556656e-04</td>\n",
       "    </tr>\n",
       "    <tr>\n",
       "      <th>36</th>\n",
       "      <td>category_parent_crafts</td>\n",
       "      <td>5.452143e-04</td>\n",
       "    </tr>\n",
       "    <tr>\n",
       "      <th>43</th>\n",
       "      <td>category_parent_technology</td>\n",
       "      <td>5.154885e-04</td>\n",
       "    </tr>\n",
       "    <tr>\n",
       "      <th>9</th>\n",
       "      <td>staff_pick</td>\n",
       "      <td>3.469113e-04</td>\n",
       "    </tr>\n",
       "    <tr>\n",
       "      <th>34</th>\n",
       "      <td>category_parent_art</td>\n",
       "      <td>3.412211e-04</td>\n",
       "    </tr>\n",
       "    <tr>\n",
       "      <th>55</th>\n",
       "      <td>location_type_Suburb</td>\n",
       "      <td>3.220603e-04</td>\n",
       "    </tr>\n",
       "    <tr>\n",
       "      <th>39</th>\n",
       "      <td>category_parent_film &amp; video</td>\n",
       "      <td>2.929560e-04</td>\n",
       "    </tr>\n",
       "    <tr>\n",
       "      <th>40</th>\n",
       "      <td>category_parent_journalism</td>\n",
       "      <td>2.778857e-04</td>\n",
       "    </tr>\n",
       "    <tr>\n",
       "      <th>13</th>\n",
       "      <td>comments_count_creator_while_scraping</td>\n",
       "      <td>1.256738e-04</td>\n",
       "    </tr>\n",
       "    <tr>\n",
       "      <th>45</th>\n",
       "      <td>country_BE</td>\n",
       "      <td>7.874325e-05</td>\n",
       "    </tr>\n",
       "    <tr>\n",
       "      <th>46</th>\n",
       "      <td>country_CA</td>\n",
       "      <td>1.704976e-05</td>\n",
       "    </tr>\n",
       "    <tr>\n",
       "      <th>49</th>\n",
       "      <td>country_NL</td>\n",
       "      <td>7.124852e-08</td>\n",
       "    </tr>\n",
       "    <tr>\n",
       "      <th>54</th>\n",
       "      <td>location_type_Estate</td>\n",
       "      <td>0.000000e+00</td>\n",
       "    </tr>\n",
       "  </tbody>\n",
       "</table>\n",
       "<p>107 rows × 2 columns</p>\n",
       "</div>"
      ],
      "text/plain": [
       "                                názov črty    dôležitosť\n",
       "7                       ratio_pledged_goal  4.291494e-01\n",
       "0                           average_pledge  2.045852e-02\n",
       "10                                usd_goal  2.034916e-02\n",
       "1                            backers_count  1.813570e-02\n",
       "106                                 LDA_24  1.464045e-02\n",
       "91                                   LDA_9  1.367263e-02\n",
       "11                             usd_pledged  1.338685e-02\n",
       "96                                  LDA_14  1.174503e-02\n",
       "83                                   LDA_1  1.128907e-02\n",
       "100                                 LDA_18  1.109476e-02\n",
       "8                   ratio_running_duration  1.052207e-02\n",
       "63                                   LSA_6  1.046813e-02\n",
       "102                                 LDA_20  1.039601e-02\n",
       "92                                  LDA_10  1.038564e-02\n",
       "97                                  LDA_15  1.034078e-02\n",
       "76                                  LSA_19  1.010877e-02\n",
       "77                                  LSA_20  1.001961e-02\n",
       "79                                  LSA_22  9.909274e-03\n",
       "6                                  pledged  9.760242e-03\n",
       "66                                   LSA_9  9.463202e-03\n",
       "3                         days_preparation  9.108146e-03\n",
       "99                                  LDA_17  9.036116e-03\n",
       "69                                  LSA_12  8.843033e-03\n",
       "80                                  LSA_23  8.790733e-03\n",
       "90                                   LDA_8  8.430084e-03\n",
       "72                                  LSA_15  8.313122e-03\n",
       "73                                  LSA_16  8.121545e-03\n",
       "86                                   LDA_4  7.866328e-03\n",
       "88                                   LDA_6  7.713287e-03\n",
       "2                        category_position  7.644730e-03\n",
       "..                                     ...           ...\n",
       "37                   category_parent_dance  1.569821e-03\n",
       "35                  category_parent_comics  1.425378e-03\n",
       "56                      location_type_Town  1.380601e-03\n",
       "41                   category_parent_music  1.291025e-03\n",
       "18        updates_likes_min_while_scraping  1.200136e-03\n",
       "12                faq_count_while_scraping  1.142267e-03\n",
       "47                              country_DE  1.002722e-03\n",
       "17       updates_likes_mean_while_scraping  9.054820e-04\n",
       "25                            launch_month  8.602467e-04\n",
       "31                     video_youtube_count  8.580573e-04\n",
       "20     updates_likes_median_while_scraping  8.293422e-04\n",
       "53                    location_type_County  7.539340e-04\n",
       "51                            currency_SEK  7.350567e-04\n",
       "19        updates_likes_max_while_scraping  7.277802e-04\n",
       "48                              country_ES  6.079597e-04\n",
       "50                            currency_NZD  6.071028e-04\n",
       "52                            currency_USD  5.904471e-04\n",
       "30                 video_kickstarter_count  5.556656e-04\n",
       "36                  category_parent_crafts  5.452143e-04\n",
       "43              category_parent_technology  5.154885e-04\n",
       "9                               staff_pick  3.469113e-04\n",
       "34                     category_parent_art  3.412211e-04\n",
       "55                    location_type_Suburb  3.220603e-04\n",
       "39            category_parent_film & video  2.929560e-04\n",
       "40              category_parent_journalism  2.778857e-04\n",
       "13   comments_count_creator_while_scraping  1.256738e-04\n",
       "45                              country_BE  7.874325e-05\n",
       "46                              country_CA  1.704976e-05\n",
       "49                              country_NL  7.124852e-08\n",
       "54                    location_type_Estate  0.000000e+00\n",
       "\n",
       "[107 rows x 2 columns]"
      ]
     },
     "execution_count": 127,
     "metadata": {},
     "output_type": "execute_result"
    }
   ],
   "source": [
    "importances = pd.DataFrame()\n",
    "for i, name, importance in zip(range(len(features.columns)), features.columns, best.feature_importances_):\n",
    "    importances.loc[i, 'názov črty'] = name\n",
    "    importances.loc[i, 'dôležitosť'] = importance\n",
    "    \n",
    "importances.sort_values(by='dôležitosť', ascending=False).to_csv('results/importances'+ str(phase_num) +'.csv')\n",
    "importances.sort_values(by='dôležitosť', ascending=False)"
   ]
  },
  {
   "cell_type": "markdown",
   "metadata": {},
   "source": [
    "### Save confusion matrices"
   ]
  },
  {
   "cell_type": "code",
   "execution_count": 129,
   "metadata": {},
   "outputs": [
    {
     "data": {
      "image/png": "[encoded data removed]",
      "text/plain": [
       "<matplotlib.figure.Figure at 0x1b64de9a2b0>"
      ]
     },
     "metadata": {},
     "output_type": "display_data"
    }
   ],
   "source": [
    "sns.set(style='whitegrid')\n",
    "fig, ax = plt.subplots(nrows=2, ncols=2, sharex=False, sharey=False, figsize=(10, 8))\n",
    "\n",
    "sns.heatmap(metrics.confusion_matrix(labelsCV, best_unbalanced.predict(featuresCV)), annot=True, fmt='g', annot_kws={\"size\": 16}, ax=ax[0][0])\n",
    "ax[0][0].set(xlabel='', ylabel='', title='bez vyvažovania')\n",
    "\n",
    "sns.heatmap(metrics.confusion_matrix(labelsCV, best_weighted.predict(featuresCV)), annot=True, fmt='g', annot_kws={\"size\": 16}, ax=ax[0][1])\n",
    "ax[0][1].set(xlabel='', ylabel='', title='váhovanie')\n",
    "\n",
    "sns.heatmap(metrics.confusion_matrix(labelsCV, best_oversampled.predict(featuresCV)), annot=True, fmt='g', annot_kws={\"size\": 16}, ax=ax[1][0])\n",
    "ax[1][0].set(xlabel='', ylabel='', title='nadvzorkovanie')\n",
    "\n",
    "sns.heatmap(metrics.confusion_matrix(labelsCV, best_undersampled.predict(featuresCV)), annot=True, fmt='g', annot_kws={\"size\": 16}, ax=ax[1][1])\n",
    "ax[1][1].set(xlabel='', ylabel='', title='podvzorkovanie')\n",
    "\n",
    "fig.savefig('img/matrices2.png', dpi=400)"
   ]
  },
  {
   "cell_type": "code",
   "execution_count": 130,
   "metadata": {
    "collapsed": true
   },
   "outputs": [],
   "source": [
    "df_results[['Fáza','Vyváženie','S','P_0','P_1','P_2','P_3','Ú_0','Ú_1','Ú_2','Ú_3', 'F1_makro']].to_csv('results/final.csv')"
   ]
  },
  {
   "cell_type": "markdown",
   "metadata": {},
   "source": [
    "## Third stage 50-75% of campaign duration"
   ]
  },
  {
   "cell_type": "code",
   "execution_count": 131,
   "metadata": {
    "collapsed": true
   },
   "outputs": [],
   "source": [
    "phase_num = 3"
   ]
  },
  {
   "cell_type": "code",
   "execution_count": 132,
   "metadata": {},
   "outputs": [
    {
     "data": {
      "text/plain": [
       "(6192, 151)"
      ]
     },
     "execution_count": 132,
     "metadata": {},
     "output_type": "execute_result"
    }
   ],
   "source": [
    "features = pd.read_csv('data/final/train.csv', index_col=0)\n",
    "df = pd.read_csv('data/final/test.csv', index_col=0)\n",
    "features = features.append(df, ignore_index=True)\n",
    "\n",
    "features = features[(features['ratio_running_duration'] < 75) & (features['ratio_running_duration'] >= 50)]\n",
    "\n",
    "labels = features['class']\n",
    "features = features.drop('class', axis=1)\n",
    "\n",
    "features.shape"
   ]
  },
  {
   "cell_type": "code",
   "execution_count": 133,
   "metadata": {},
   "outputs": [
    {
     "data": {
      "text/plain": [
       "(1548, 151)"
      ]
     },
     "execution_count": 133,
     "metadata": {},
     "output_type": "execute_result"
    }
   ],
   "source": [
    "featuresCV = pd.read_csv('data/final/cv.csv', index_col=0)\n",
    "\n",
    "featuresCV = featuresCV[(featuresCV['ratio_running_duration'] < 75) & (featuresCV['ratio_running_duration'] >= 50)]\n",
    "\n",
    "labelsCV = featuresCV['class']\n",
    "featuresCV = featuresCV.drop('class', axis=1)\n",
    "\n",
    "featuresCV.shape"
   ]
  },
  {
   "cell_type": "markdown",
   "metadata": {},
   "source": [
    "### Feature selection"
   ]
  },
  {
   "cell_type": "code",
   "execution_count": 134,
   "metadata": {},
   "outputs": [
    {
     "name": "stdout",
     "output_type": "stream",
     "text": [
      "Wall time: 1h 30min 13s\n"
     ]
    }
   ],
   "source": [
    "%%time\n",
    "# remove highly corelated data\n",
    "features.drop(['db_duration', 'goal'], axis=1, inplace=True)\n",
    "\n",
    "# Recursive feature elimination using GBC with default parameters\n",
    "selected_features = []\n",
    "all_features = features.columns.tolist()\n",
    "estimator = GradientBoostingClassifier(random_state=64)\n",
    "selector = RFECV(estimator, step=1, cv=5, n_jobs=-1, scoring='accuracy')\n",
    "selector = selector.fit(features, labels)\n",
    "\n",
    "for i, support in zip(range(len(selector.support_)), selector.support_):\n",
    "    if support:\n",
    "        selected_features.append(all_features[i])"
   ]
  },
  {
   "cell_type": "code",
   "execution_count": 135,
   "metadata": {},
   "outputs": [
    {
     "data": {
      "text/plain": [
       "['average_pledge',\n",
       " 'backers_count',\n",
       " 'category_position',\n",
       " 'days_preparation',\n",
       " 'pledged',\n",
       " 'ratio_pledged_goal',\n",
       " 'ratio_running_duration',\n",
       " 'usd_goal',\n",
       " 'usd_pledged',\n",
       " 'comments_count_creator_while_scraping',\n",
       " 'comments_count_public_while_scraping',\n",
       " 'updates_likes_mean_while_scraping',\n",
       " 'deadline_hour',\n",
       " 'image_count',\n",
       " 'video_kickstarter_count',\n",
       " 'category_parent_fashion',\n",
       " 'category_parent_theater',\n",
       " 'LSA_0',\n",
       " 'LSA_1',\n",
       " 'LSA_2',\n",
       " 'LSA_3',\n",
       " 'LSA_4',\n",
       " 'LSA_5',\n",
       " 'LSA_6',\n",
       " 'LSA_9',\n",
       " 'LSA_10',\n",
       " 'LSA_11',\n",
       " 'LSA_12',\n",
       " 'LSA_13',\n",
       " 'LSA_14',\n",
       " 'LSA_15',\n",
       " 'LSA_16',\n",
       " 'LSA_17',\n",
       " 'LSA_18',\n",
       " 'LSA_19',\n",
       " 'LSA_21',\n",
       " 'LSA_22',\n",
       " 'LSA_23',\n",
       " 'LSA_24',\n",
       " 'LDA_0',\n",
       " 'LDA_1',\n",
       " 'LDA_2',\n",
       " 'LDA_3',\n",
       " 'LDA_4',\n",
       " 'LDA_6',\n",
       " 'LDA_7',\n",
       " 'LDA_8',\n",
       " 'LDA_9',\n",
       " 'LDA_10',\n",
       " 'LDA_11',\n",
       " 'LDA_12',\n",
       " 'LDA_13',\n",
       " 'LDA_14',\n",
       " 'LDA_15',\n",
       " 'LDA_16',\n",
       " 'LDA_17',\n",
       " 'LDA_18',\n",
       " 'LDA_19',\n",
       " 'LDA_20',\n",
       " 'LDA_21',\n",
       " 'LDA_22',\n",
       " 'LDA_23',\n",
       " 'LDA_24']"
      ]
     },
     "execution_count": 135,
     "metadata": {},
     "output_type": "execute_result"
    }
   ],
   "source": [
    "selected_features"
   ]
  },
  {
   "cell_type": "code",
   "execution_count": 136,
   "metadata": {},
   "outputs": [
    {
     "data": {
      "text/plain": [
       "(6192, 63)"
      ]
     },
     "execution_count": 136,
     "metadata": {},
     "output_type": "execute_result"
    }
   ],
   "source": [
    "features = features[selected_features]\n",
    "features.shape"
   ]
  },
  {
   "cell_type": "code",
   "execution_count": 137,
   "metadata": {},
   "outputs": [
    {
     "data": {
      "text/plain": [
       "(1548, 63)"
      ]
     },
     "execution_count": 137,
     "metadata": {},
     "output_type": "execute_result"
    }
   ],
   "source": [
    "featuresCV = featuresCV[selected_features]\n",
    "featuresCV.shape"
   ]
  },
  {
   "cell_type": "code",
   "execution_count": 138,
   "metadata": {},
   "outputs": [
    {
     "data": {
      "text/plain": [
       "True    63\n",
       "dtype: int64"
      ]
     },
     "execution_count": 138,
     "metadata": {},
     "output_type": "execute_result"
    }
   ],
   "source": [
    "pd.Series(features.columns == featuresCV.columns).value_counts()"
   ]
  },
  {
   "cell_type": "markdown",
   "metadata": {},
   "source": [
    "### Training"
   ]
  },
  {
   "cell_type": "markdown",
   "metadata": {},
   "source": [
    "#### Unbalanced"
   ]
  },
  {
   "cell_type": "code",
   "execution_count": 139,
   "metadata": {
    "collapsed": true
   },
   "outputs": [],
   "source": [
    "gs = GridSearchCV(GradientBoostingClassifier(), params, scoring='accuracy', cv=5, n_jobs=-1, error_score=0)"
   ]
  },
  {
   "cell_type": "code",
   "execution_count": 140,
   "metadata": {},
   "outputs": [
    {
     "name": "stdout",
     "output_type": "stream",
     "text": [
      "Wall time: 29min 55s\n"
     ]
    },
    {
     "data": {
      "text/plain": [
       "GridSearchCV(cv=5, error_score=0,\n",
       "       estimator=GradientBoostingClassifier(criterion='friedman_mse', init=None,\n",
       "              learning_rate=0.1, loss='deviance', max_depth=3,\n",
       "              max_features=None, max_leaf_nodes=None,\n",
       "              min_impurity_decrease=0.0, min_impurity_split=None,\n",
       "              min_samples_leaf=1, min_samples_split=2,\n",
       "              min_weight_fraction_leaf=0.0, n_estimators=100,\n",
       "              presort='auto', random_state=None, subsample=1.0, verbose=0,\n",
       "              warm_start=False),\n",
       "       fit_params=None, iid=True, n_jobs=-1,\n",
       "       param_grid={'learning_rate': [0.12, 0.1, 0.08, 0.01, 0.2], 'n_estimators': [150, 100, 50], 'max_depth': [1, 2, 3, 4, 5], 'random_state': [64]},\n",
       "       pre_dispatch='2*n_jobs', refit=True, return_train_score='warn',\n",
       "       scoring='accuracy', verbose=0)"
      ]
     },
     "execution_count": 140,
     "metadata": {},
     "output_type": "execute_result"
    }
   ],
   "source": [
    "%%time\n",
    "gs.fit(features, labels)"
   ]
  },
  {
   "cell_type": "code",
   "execution_count": 141,
   "metadata": {},
   "outputs": [
    {
     "name": "stderr",
     "output_type": "stream",
     "text": [
      "C:\\Users\\Patrik\\Anaconda3\\lib\\site-packages\\sklearn\\model_selection\\_search.py:761: DeprecationWarning: The grid_scores_ attribute was deprecated in version 0.18 in favor of the more elaborate cv_results_ attribute. The grid_scores_ attribute will not be available from 0.20\n",
      "  DeprecationWarning)\n"
     ]
    },
    {
     "data": {
      "text/plain": [
       "[mean: 0.85950, std: 0.00413, params: {'learning_rate': 0.1, 'max_depth': 2, 'n_estimators': 150, 'random_state': 64},\n",
       " mean: 0.85901, std: 0.00421, params: {'learning_rate': 0.1, 'max_depth': 2, 'n_estimators': 100, 'random_state': 64},\n",
       " mean: 0.85869, std: 0.00493, params: {'learning_rate': 0.12, 'max_depth': 2, 'n_estimators': 50, 'random_state': 64},\n",
       " mean: 0.85869, std: 0.00694, params: {'learning_rate': 0.1, 'max_depth': 2, 'n_estimators': 50, 'random_state': 64},\n",
       " mean: 0.85853, std: 0.00578, params: {'learning_rate': 0.08, 'max_depth': 2, 'n_estimators': 50, 'random_state': 64},\n",
       " mean: 0.85804, std: 0.00426, params: {'learning_rate': 0.08, 'max_depth': 1, 'n_estimators': 100, 'random_state': 64},\n",
       " mean: 0.85804, std: 0.00501, params: {'learning_rate': 0.08, 'max_depth': 2, 'n_estimators': 150, 'random_state': 64},\n",
       " mean: 0.85788, std: 0.00439, params: {'learning_rate': 0.12, 'max_depth': 2, 'n_estimators': 100, 'random_state': 64},\n",
       " mean: 0.85788, std: 0.00602, params: {'learning_rate': 0.2, 'max_depth': 1, 'n_estimators': 100, 'random_state': 64},\n",
       " mean: 0.85772, std: 0.00492, params: {'learning_rate': 0.1, 'max_depth': 1, 'n_estimators': 100, 'random_state': 64}]"
      ]
     },
     "execution_count": 141,
     "metadata": {},
     "output_type": "execute_result"
    }
   ],
   "source": [
    "sorted(gs.grid_scores_, key=lambda x: x.mean_validation_score, reverse=True)[:10]"
   ]
  },
  {
   "cell_type": "code",
   "execution_count": 142,
   "metadata": {},
   "outputs": [
    {
     "data": {
      "text/plain": [
       "GradientBoostingClassifier(criterion='friedman_mse', init=None,\n",
       "              learning_rate=0.1, loss='deviance', max_depth=2,\n",
       "              max_features=None, max_leaf_nodes=None,\n",
       "              min_impurity_decrease=0.0, min_impurity_split=None,\n",
       "              min_samples_leaf=1, min_samples_split=2,\n",
       "              min_weight_fraction_leaf=0.0, n_estimators=150,\n",
       "              presort='auto', random_state=64, subsample=1.0, verbose=0,\n",
       "              warm_start=False)"
      ]
     },
     "execution_count": 142,
     "metadata": {},
     "output_type": "execute_result"
    }
   ],
   "source": [
    "best_unbalanced = gs.best_estimator_\n",
    "best_unbalanced"
   ]
  },
  {
   "cell_type": "code",
   "execution_count": 143,
   "metadata": {},
   "outputs": [
    {
     "name": "stdout",
     "output_type": "stream",
     "text": [
      "accuracy:  0.850775193798\n",
      "\n",
      "             precision    recall  f1-score   support\n",
      "\n",
      "          1       0.96      0.99      0.97       684\n",
      "          2       0.70      0.66      0.68       190\n",
      "          3       0.69      0.75      0.72       343\n",
      "          4       0.88      0.77      0.82       331\n",
      "\n",
      "avg / total       0.85      0.85      0.85      1548\n",
      "\n",
      "macro precision:  0.808553110323\n",
      "micro precision:  0.850775193798\n",
      "\n",
      "micro recall:  0.850775193798\n",
      "macro recall:  0.793904383907\n",
      "\n",
      "micro f1:  0.850775193798\n",
      "macro f1:  0.799883306775\n"
     ]
    },
    {
     "data": {
      "image/png": "[encoded data removed]",
      "text/plain": [
       "<matplotlib.figure.Figure at 0x1b64deb6860>"
      ]
     },
     "metadata": {},
     "output_type": "display_data"
    }
   ],
   "source": [
    "print_metrics(best_unbalanced, featuresCV, labelsCV, 'žiadne', phase_num)"
   ]
  },
  {
   "cell_type": "markdown",
   "metadata": {},
   "source": [
    "#### Class weights"
   ]
  },
  {
   "cell_type": "code",
   "execution_count": 144,
   "metadata": {
    "collapsed": true
   },
   "outputs": [],
   "source": [
    "labels_weights = class_weight.compute_sample_weight('balanced', labels)"
   ]
  },
  {
   "cell_type": "code",
   "execution_count": 145,
   "metadata": {
    "collapsed": true
   },
   "outputs": [],
   "source": [
    "gs = GridSearchCV(GradientBoostingClassifier(), params, scoring='accuracy', cv=5, n_jobs=-1, error_score=0)"
   ]
  },
  {
   "cell_type": "code",
   "execution_count": 146,
   "metadata": {},
   "outputs": [
    {
     "name": "stdout",
     "output_type": "stream",
     "text": [
      "Wall time: 30min 23s\n"
     ]
    },
    {
     "data": {
      "text/plain": [
       "GridSearchCV(cv=5, error_score=0,\n",
       "       estimator=GradientBoostingClassifier(criterion='friedman_mse', init=None,\n",
       "              learning_rate=0.1, loss='deviance', max_depth=3,\n",
       "              max_features=None, max_leaf_nodes=None,\n",
       "              min_impurity_decrease=0.0, min_impurity_split=None,\n",
       "              min_samples_leaf=1, min_samples_split=2,\n",
       "              min_weight_fraction_leaf=0.0, n_estimators=100,\n",
       "              presort='auto', random_state=None, subsample=1.0, verbose=0,\n",
       "              warm_start=False),\n",
       "       fit_params=None, iid=True, n_jobs=-1,\n",
       "       param_grid={'learning_rate': [0.12, 0.1, 0.08, 0.01, 0.2], 'n_estimators': [150, 100, 50], 'max_depth': [1, 2, 3, 4, 5], 'random_state': [64]},\n",
       "       pre_dispatch='2*n_jobs', refit=True, return_train_score='warn',\n",
       "       scoring='accuracy', verbose=0)"
      ]
     },
     "execution_count": 146,
     "metadata": {},
     "output_type": "execute_result"
    }
   ],
   "source": [
    "%%time\n",
    "gs.fit(features, labels, sample_weight=labels_weights)"
   ]
  },
  {
   "cell_type": "code",
   "execution_count": 147,
   "metadata": {},
   "outputs": [
    {
     "name": "stderr",
     "output_type": "stream",
     "text": [
      "C:\\Users\\Patrik\\Anaconda3\\lib\\site-packages\\sklearn\\model_selection\\_search.py:761: DeprecationWarning: The grid_scores_ attribute was deprecated in version 0.18 in favor of the more elaborate cv_results_ attribute. The grid_scores_ attribute will not be available from 0.20\n",
      "  DeprecationWarning)\n"
     ]
    },
    {
     "data": {
      "text/plain": [
       "[mean: 0.85481, std: 0.00301, params: {'learning_rate': 0.12, 'max_depth': 5, 'n_estimators': 150, 'random_state': 64},\n",
       " mean: 0.85449, std: 0.00396, params: {'learning_rate': 0.1, 'max_depth': 2, 'n_estimators': 100, 'random_state': 64},\n",
       " mean: 0.85449, std: 0.00448, params: {'learning_rate': 0.08, 'max_depth': 2, 'n_estimators': 150, 'random_state': 64},\n",
       " mean: 0.85401, std: 0.00360, params: {'learning_rate': 0.12, 'max_depth': 2, 'n_estimators': 100, 'random_state': 64},\n",
       " mean: 0.85320, std: 0.00403, params: {'learning_rate': 0.12, 'max_depth': 5, 'n_estimators': 100, 'random_state': 64},\n",
       " mean: 0.85304, std: 0.00553, params: {'learning_rate': 0.1, 'max_depth': 1, 'n_estimators': 150, 'random_state': 64},\n",
       " mean: 0.85287, std: 0.00401, params: {'learning_rate': 0.12, 'max_depth': 1, 'n_estimators': 150, 'random_state': 64},\n",
       " mean: 0.85255, std: 0.00305, params: {'learning_rate': 0.08, 'max_depth': 5, 'n_estimators': 150, 'random_state': 64},\n",
       " mean: 0.85239, std: 0.00401, params: {'learning_rate': 0.1, 'max_depth': 1, 'n_estimators': 100, 'random_state': 64},\n",
       " mean: 0.85223, std: 0.00460, params: {'learning_rate': 0.2, 'max_depth': 1, 'n_estimators': 100, 'random_state': 64}]"
      ]
     },
     "execution_count": 147,
     "metadata": {},
     "output_type": "execute_result"
    }
   ],
   "source": [
    "sorted(gs.grid_scores_, key=lambda x: x.mean_validation_score, reverse=True)[:10]"
   ]
  },
  {
   "cell_type": "code",
   "execution_count": 148,
   "metadata": {},
   "outputs": [
    {
     "data": {
      "text/plain": [
       "GradientBoostingClassifier(criterion='friedman_mse', init=None,\n",
       "              learning_rate=0.12, loss='deviance', max_depth=5,\n",
       "              max_features=None, max_leaf_nodes=None,\n",
       "              min_impurity_decrease=0.0, min_impurity_split=None,\n",
       "              min_samples_leaf=1, min_samples_split=2,\n",
       "              min_weight_fraction_leaf=0.0, n_estimators=150,\n",
       "              presort='auto', random_state=64, subsample=1.0, verbose=0,\n",
       "              warm_start=False)"
      ]
     },
     "execution_count": 148,
     "metadata": {},
     "output_type": "execute_result"
    }
   ],
   "source": [
    "best_weighted = gs.best_estimator_\n",
    "best_weighted"
   ]
  },
  {
   "cell_type": "code",
   "execution_count": 149,
   "metadata": {},
   "outputs": [
    {
     "name": "stdout",
     "output_type": "stream",
     "text": [
      "accuracy:  0.844315245478\n",
      "\n",
      "             precision    recall  f1-score   support\n",
      "\n",
      "          1       0.96      0.98      0.97       684\n",
      "          2       0.67      0.71      0.69       190\n",
      "          3       0.69      0.73      0.71       343\n",
      "          4       0.87      0.76      0.81       331\n",
      "\n",
      "avg / total       0.85      0.84      0.84      1548\n",
      "\n",
      "macro precision:  0.799332583513\n",
      "micro precision:  0.844315245478\n",
      "\n",
      "micro recall:  0.844315245478\n",
      "macro recall:  0.794309533776\n",
      "\n",
      "micro f1:  0.844315245478\n",
      "macro f1:  0.795505404126\n"
     ]
    },
    {
     "data": {
      "image/png": "[encoded data removed]",
      "text/plain": [
       "<matplotlib.figure.Figure at 0x1b64f9cd278>"
      ]
     },
     "metadata": {},
     "output_type": "display_data"
    }
   ],
   "source": [
    "print_metrics(best_weighted, featuresCV, labelsCV, 'váhovanie', phase_num)"
   ]
  },
  {
   "cell_type": "markdown",
   "metadata": {},
   "source": [
    "#### Oversampling"
   ]
  },
  {
   "cell_type": "code",
   "execution_count": 150,
   "metadata": {},
   "outputs": [
    {
     "name": "stdout",
     "output_type": "stream",
     "text": [
      "[(1, 2628), (2, 2628), (3, 2628), (4, 2628)]\n"
     ]
    }
   ],
   "source": [
    "ros = RandomOverSampler(random_state=64)\n",
    "features_sampled, labels_sampled = ros.fit_sample(features, labels)\n",
    "print(sorted(Counter(labels_sampled).items()))"
   ]
  },
  {
   "cell_type": "code",
   "execution_count": 151,
   "metadata": {},
   "outputs": [
    {
     "data": {
      "text/plain": [
       "(10512, 63)"
      ]
     },
     "execution_count": 151,
     "metadata": {},
     "output_type": "execute_result"
    }
   ],
   "source": [
    "features_sampled = pd.DataFrame(features_sampled)\n",
    "features_sampled.columns = features.columns\n",
    "features_sampled.shape"
   ]
  },
  {
   "cell_type": "code",
   "execution_count": 152,
   "metadata": {
    "collapsed": true
   },
   "outputs": [],
   "source": [
    "gs = GridSearchCV(GradientBoostingClassifier(), params, scoring='accuracy', cv=5, n_jobs=-1, error_score=0)"
   ]
  },
  {
   "cell_type": "code",
   "execution_count": 153,
   "metadata": {},
   "outputs": [
    {
     "name": "stdout",
     "output_type": "stream",
     "text": [
      "Wall time: 1h 35s\n"
     ]
    },
    {
     "data": {
      "text/plain": [
       "GridSearchCV(cv=5, error_score=0,\n",
       "       estimator=GradientBoostingClassifier(criterion='friedman_mse', init=None,\n",
       "              learning_rate=0.1, loss='deviance', max_depth=3,\n",
       "              max_features=None, max_leaf_nodes=None,\n",
       "              min_impurity_decrease=0.0, min_impurity_split=None,\n",
       "              min_samples_leaf=1, min_samples_split=2,\n",
       "              min_weight_fraction_leaf=0.0, n_estimators=100,\n",
       "              presort='auto', random_state=None, subsample=1.0, verbose=0,\n",
       "              warm_start=False),\n",
       "       fit_params=None, iid=True, n_jobs=-1,\n",
       "       param_grid={'learning_rate': [0.12, 0.1, 0.08, 0.01, 0.2], 'n_estimators': [150, 100, 50], 'max_depth': [1, 2, 3, 4, 5], 'random_state': [64]},\n",
       "       pre_dispatch='2*n_jobs', refit=True, return_train_score='warn',\n",
       "       scoring='accuracy', verbose=0)"
      ]
     },
     "execution_count": 153,
     "metadata": {},
     "output_type": "execute_result"
    }
   ],
   "source": [
    "%%time\n",
    "gs.fit(features_sampled, labels_sampled)"
   ]
  },
  {
   "cell_type": "code",
   "execution_count": 154,
   "metadata": {},
   "outputs": [
    {
     "name": "stderr",
     "output_type": "stream",
     "text": [
      "C:\\Users\\Patrik\\Anaconda3\\lib\\site-packages\\sklearn\\model_selection\\_search.py:761: DeprecationWarning: The grid_scores_ attribute was deprecated in version 0.18 in favor of the more elaborate cv_results_ attribute. The grid_scores_ attribute will not be available from 0.20\n",
      "  DeprecationWarning)\n"
     ]
    },
    {
     "data": {
      "text/plain": [
       "[mean: 0.96433, std: 0.02513, params: {'learning_rate': 0.2, 'max_depth': 5, 'n_estimators': 150, 'random_state': 64},\n",
       " mean: 0.96357, std: 0.02488, params: {'learning_rate': 0.2, 'max_depth': 4, 'n_estimators': 150, 'random_state': 64},\n",
       " mean: 0.96328, std: 0.02559, params: {'learning_rate': 0.2, 'max_depth': 5, 'n_estimators': 100, 'random_state': 64},\n",
       " mean: 0.96309, std: 0.02586, params: {'learning_rate': 0.12, 'max_depth': 5, 'n_estimators': 150, 'random_state': 64},\n",
       " mean: 0.96033, std: 0.02514, params: {'learning_rate': 0.1, 'max_depth': 5, 'n_estimators': 150, 'random_state': 64},\n",
       " mean: 0.95529, std: 0.02232, params: {'learning_rate': 0.12, 'max_depth': 5, 'n_estimators': 100, 'random_state': 64},\n",
       " mean: 0.95462, std: 0.02404, params: {'learning_rate': 0.2, 'max_depth': 4, 'n_estimators': 100, 'random_state': 64},\n",
       " mean: 0.95367, std: 0.02383, params: {'learning_rate': 0.08, 'max_depth': 5, 'n_estimators': 150, 'random_state': 64},\n",
       " mean: 0.94977, std: 0.02296, params: {'learning_rate': 0.12, 'max_depth': 4, 'n_estimators': 150, 'random_state': 64},\n",
       " mean: 0.94844, std: 0.02283, params: {'learning_rate': 0.2, 'max_depth': 5, 'n_estimators': 50, 'random_state': 64}]"
      ]
     },
     "execution_count": 154,
     "metadata": {},
     "output_type": "execute_result"
    }
   ],
   "source": [
    "sorted(gs.grid_scores_, key=lambda x: x.mean_validation_score, reverse=True)[:10]"
   ]
  },
  {
   "cell_type": "code",
   "execution_count": 155,
   "metadata": {
    "collapsed": true
   },
   "outputs": [],
   "source": [
    "best_oversampled = gs.best_estimator_"
   ]
  },
  {
   "cell_type": "code",
   "execution_count": 156,
   "metadata": {},
   "outputs": [
    {
     "name": "stdout",
     "output_type": "stream",
     "text": [
      "accuracy:  0.844315245478\n",
      "\n",
      "             precision    recall  f1-score   support\n",
      "\n",
      "          1       0.96      0.99      0.97       684\n",
      "          2       0.67      0.69      0.68       190\n",
      "          3       0.69      0.72      0.71       343\n",
      "          4       0.87      0.76      0.81       331\n",
      "\n",
      "avg / total       0.85      0.84      0.84      1548\n",
      "\n",
      "macro precision:  0.797436854132\n",
      "micro precision:  0.844315245478\n",
      "\n",
      "micro recall:  0.844315245478\n",
      "macro recall:  0.791874870552\n",
      "\n",
      "micro f1:  0.844315245478\n",
      "macro f1:  0.793614585036\n"
     ]
    },
    {
     "data": {
      "image/png": "[encoded data removed]",
      "text/plain": [
       "<matplotlib.figure.Figure at 0x1b64d13c630>"
      ]
     },
     "metadata": {},
     "output_type": "display_data"
    }
   ],
   "source": [
    "print_metrics(best_oversampled, featuresCV, labelsCV, 'nadvzorkovanie', phase_num)"
   ]
  },
  {
   "cell_type": "markdown",
   "metadata": {},
   "source": [
    "#### Undersampling"
   ]
  },
  {
   "cell_type": "code",
   "execution_count": 157,
   "metadata": {},
   "outputs": [
    {
     "name": "stdout",
     "output_type": "stream",
     "text": [
      "[(1, 813), (2, 813), (3, 813), (4, 813)]\n"
     ]
    }
   ],
   "source": [
    "rus = RandomUnderSampler(random_state=64)\n",
    "features_sampled, labels_sampled = rus.fit_sample(features, labels)\n",
    "print(sorted(Counter(labels_sampled).items()))"
   ]
  },
  {
   "cell_type": "code",
   "execution_count": 158,
   "metadata": {},
   "outputs": [
    {
     "data": {
      "text/plain": [
       "(3252, 63)"
      ]
     },
     "execution_count": 158,
     "metadata": {},
     "output_type": "execute_result"
    }
   ],
   "source": [
    "features_sampled = pd.DataFrame(features_sampled)\n",
    "features_sampled.columns = features.columns\n",
    "features_sampled.shape"
   ]
  },
  {
   "cell_type": "code",
   "execution_count": 159,
   "metadata": {
    "collapsed": true
   },
   "outputs": [],
   "source": [
    "gs = GridSearchCV(GradientBoostingClassifier(), params, scoring='accuracy', cv=5, n_jobs=-1, error_score=0)"
   ]
  },
  {
   "cell_type": "code",
   "execution_count": 160,
   "metadata": {},
   "outputs": [
    {
     "name": "stdout",
     "output_type": "stream",
     "text": [
      "Wall time: 17min 12s\n"
     ]
    },
    {
     "data": {
      "text/plain": [
       "GridSearchCV(cv=5, error_score=0,\n",
       "       estimator=GradientBoostingClassifier(criterion='friedman_mse', init=None,\n",
       "              learning_rate=0.1, loss='deviance', max_depth=3,\n",
       "              max_features=None, max_leaf_nodes=None,\n",
       "              min_impurity_decrease=0.0, min_impurity_split=None,\n",
       "              min_samples_leaf=1, min_samples_split=2,\n",
       "              min_weight_fraction_leaf=0.0, n_estimators=100,\n",
       "              presort='auto', random_state=None, subsample=1.0, verbose=0,\n",
       "              warm_start=False),\n",
       "       fit_params=None, iid=True, n_jobs=-1,\n",
       "       param_grid={'learning_rate': [0.12, 0.1, 0.08, 0.01, 0.2], 'n_estimators': [150, 100, 50], 'max_depth': [1, 2, 3, 4, 5], 'random_state': [64]},\n",
       "       pre_dispatch='2*n_jobs', refit=True, return_train_score='warn',\n",
       "       scoring='accuracy', verbose=0)"
      ]
     },
     "execution_count": 160,
     "metadata": {},
     "output_type": "execute_result"
    }
   ],
   "source": [
    "%%time\n",
    "gs.fit(features_sampled, labels_sampled)"
   ]
  },
  {
   "cell_type": "code",
   "execution_count": 161,
   "metadata": {},
   "outputs": [
    {
     "name": "stderr",
     "output_type": "stream",
     "text": [
      "C:\\Users\\Patrik\\Anaconda3\\lib\\site-packages\\sklearn\\model_selection\\_search.py:761: DeprecationWarning: The grid_scores_ attribute was deprecated in version 0.18 in favor of the more elaborate cv_results_ attribute. The grid_scores_ attribute will not be available from 0.20\n",
      "  DeprecationWarning)\n"
     ]
    },
    {
     "data": {
      "text/plain": [
       "[mean: 0.81765, std: 0.00812, params: {'learning_rate': 0.1, 'max_depth': 1, 'n_estimators': 100, 'random_state': 64},\n",
       " mean: 0.81673, std: 0.00830, params: {'learning_rate': 0.2, 'max_depth': 1, 'n_estimators': 150, 'random_state': 64},\n",
       " mean: 0.81611, std: 0.00760, params: {'learning_rate': 0.08, 'max_depth': 2, 'n_estimators': 50, 'random_state': 64},\n",
       " mean: 0.81550, std: 0.00806, params: {'learning_rate': 0.08, 'max_depth': 1, 'n_estimators': 150, 'random_state': 64},\n",
       " mean: 0.81488, std: 0.00651, params: {'learning_rate': 0.12, 'max_depth': 1, 'n_estimators': 100, 'random_state': 64},\n",
       " mean: 0.81488, std: 0.00547, params: {'learning_rate': 0.12, 'max_depth': 2, 'n_estimators': 50, 'random_state': 64},\n",
       " mean: 0.81458, std: 0.00879, params: {'learning_rate': 0.08, 'max_depth': 1, 'n_estimators': 100, 'random_state': 64},\n",
       " mean: 0.81427, std: 0.00667, params: {'learning_rate': 0.12, 'max_depth': 1, 'n_estimators': 150, 'random_state': 64},\n",
       " mean: 0.81427, std: 0.00798, params: {'learning_rate': 0.1, 'max_depth': 1, 'n_estimators': 150, 'random_state': 64},\n",
       " mean: 0.81427, std: 0.00771, params: {'learning_rate': 0.1, 'max_depth': 2, 'n_estimators': 50, 'random_state': 64}]"
      ]
     },
     "execution_count": 161,
     "metadata": {},
     "output_type": "execute_result"
    }
   ],
   "source": [
    "sorted(gs.grid_scores_, key=lambda x: x.mean_validation_score, reverse=True)[:10]"
   ]
  },
  {
   "cell_type": "code",
   "execution_count": 162,
   "metadata": {},
   "outputs": [
    {
     "data": {
      "text/plain": [
       "GradientBoostingClassifier(criterion='friedman_mse', init=None,\n",
       "              learning_rate=0.1, loss='deviance', max_depth=1,\n",
       "              max_features=None, max_leaf_nodes=None,\n",
       "              min_impurity_decrease=0.0, min_impurity_split=None,\n",
       "              min_samples_leaf=1, min_samples_split=2,\n",
       "              min_weight_fraction_leaf=0.0, n_estimators=100,\n",
       "              presort='auto', random_state=64, subsample=1.0, verbose=0,\n",
       "              warm_start=False)"
      ]
     },
     "execution_count": 162,
     "metadata": {},
     "output_type": "execute_result"
    }
   ],
   "source": [
    "best_undersampled = gs.best_estimator_\n",
    "best_undersampled"
   ]
  },
  {
   "cell_type": "code",
   "execution_count": 163,
   "metadata": {},
   "outputs": [
    {
     "name": "stdout",
     "output_type": "stream",
     "text": [
      "accuracy:  0.837855297158\n",
      "\n",
      "             precision    recall  f1-score   support\n",
      "\n",
      "          1       0.98      0.96      0.97       684\n",
      "          2       0.60      0.81      0.69       190\n",
      "          3       0.71      0.68      0.69       343\n",
      "          4       0.87      0.77      0.82       331\n",
      "\n",
      "avg / total       0.85      0.84      0.84      1548\n",
      "\n",
      "macro precision:  0.788754987546\n",
      "micro precision:  0.837855297158\n",
      "\n",
      "micro recall:  0.837855297158\n",
      "macro recall:  0.803531555578\n",
      "\n",
      "micro f1:  0.837855297158\n",
      "macro f1:  0.791574359388\n"
     ]
    },
    {
     "data": {
      "image/png": "[encoded data removed]",
      "text/plain": [
       "<matplotlib.figure.Figure at 0x1b64f811668>"
      ]
     },
     "metadata": {},
     "output_type": "display_data"
    }
   ],
   "source": [
    "print_metrics(best_undersampled, featuresCV, labelsCV, 'podvzorkovanie', phase_num)"
   ]
  },
  {
   "cell_type": "markdown",
   "metadata": {},
   "source": [
    "### Best configuration (primary: accuracy, secondary: macro F1)"
   ]
  },
  {
   "cell_type": "code",
   "execution_count": 164,
   "metadata": {},
   "outputs": [
    {
     "data": {
      "text/html": [
       "<div>\n",
       "<style>\n",
       "    .dataframe thead tr:only-child th {\n",
       "        text-align: right;\n",
       "    }\n",
       "\n",
       "    .dataframe thead th {\n",
       "        text-align: left;\n",
       "    }\n",
       "\n",
       "    .dataframe tbody tr th {\n",
       "        vertical-align: top;\n",
       "    }\n",
       "</style>\n",
       "<table border=\"1\" class=\"dataframe\">\n",
       "  <thead>\n",
       "    <tr style=\"text-align: right;\">\n",
       "      <th></th>\n",
       "      <th>Fáza</th>\n",
       "      <th>Vyváženie</th>\n",
       "      <th>S</th>\n",
       "      <th>P_0</th>\n",
       "      <th>P_1</th>\n",
       "      <th>P_2</th>\n",
       "      <th>P_3</th>\n",
       "      <th>Ú_0</th>\n",
       "      <th>Ú_1</th>\n",
       "      <th>Ú_2</th>\n",
       "      <th>Ú_3</th>\n",
       "      <th>F1_makro</th>\n",
       "    </tr>\n",
       "  </thead>\n",
       "  <tbody>\n",
       "    <tr>\n",
       "      <th>8</th>\n",
       "      <td>3</td>\n",
       "      <td>žiadne</td>\n",
       "      <td>0.85</td>\n",
       "      <td>0.96</td>\n",
       "      <td>0.70</td>\n",
       "      <td>0.69</td>\n",
       "      <td>0.88</td>\n",
       "      <td>0.99</td>\n",
       "      <td>0.66</td>\n",
       "      <td>0.75</td>\n",
       "      <td>0.77</td>\n",
       "      <td>0.80</td>\n",
       "    </tr>\n",
       "    <tr>\n",
       "      <th>9</th>\n",
       "      <td>3</td>\n",
       "      <td>váhovanie</td>\n",
       "      <td>0.84</td>\n",
       "      <td>0.96</td>\n",
       "      <td>0.67</td>\n",
       "      <td>0.69</td>\n",
       "      <td>0.87</td>\n",
       "      <td>0.98</td>\n",
       "      <td>0.71</td>\n",
       "      <td>0.73</td>\n",
       "      <td>0.76</td>\n",
       "      <td>0.80</td>\n",
       "    </tr>\n",
       "    <tr>\n",
       "      <th>10</th>\n",
       "      <td>3</td>\n",
       "      <td>nadvzorkovanie</td>\n",
       "      <td>0.84</td>\n",
       "      <td>0.96</td>\n",
       "      <td>0.67</td>\n",
       "      <td>0.69</td>\n",
       "      <td>0.87</td>\n",
       "      <td>0.99</td>\n",
       "      <td>0.69</td>\n",
       "      <td>0.72</td>\n",
       "      <td>0.76</td>\n",
       "      <td>0.79</td>\n",
       "    </tr>\n",
       "    <tr>\n",
       "      <th>11</th>\n",
       "      <td>3</td>\n",
       "      <td>podvzorkovanie</td>\n",
       "      <td>0.84</td>\n",
       "      <td>0.98</td>\n",
       "      <td>0.60</td>\n",
       "      <td>0.71</td>\n",
       "      <td>0.87</td>\n",
       "      <td>0.96</td>\n",
       "      <td>0.81</td>\n",
       "      <td>0.68</td>\n",
       "      <td>0.77</td>\n",
       "      <td>0.79</td>\n",
       "    </tr>\n",
       "    <tr>\n",
       "      <th>4</th>\n",
       "      <td>2</td>\n",
       "      <td>žiadne</td>\n",
       "      <td>0.81</td>\n",
       "      <td>0.92</td>\n",
       "      <td>0.60</td>\n",
       "      <td>0.66</td>\n",
       "      <td>0.87</td>\n",
       "      <td>0.98</td>\n",
       "      <td>0.52</td>\n",
       "      <td>0.72</td>\n",
       "      <td>0.77</td>\n",
       "      <td>0.75</td>\n",
       "    </tr>\n",
       "    <tr>\n",
       "      <th>5</th>\n",
       "      <td>2</td>\n",
       "      <td>váhovanie</td>\n",
       "      <td>0.81</td>\n",
       "      <td>0.93</td>\n",
       "      <td>0.55</td>\n",
       "      <td>0.67</td>\n",
       "      <td>0.88</td>\n",
       "      <td>0.97</td>\n",
       "      <td>0.58</td>\n",
       "      <td>0.68</td>\n",
       "      <td>0.78</td>\n",
       "      <td>0.75</td>\n",
       "    </tr>\n",
       "    <tr>\n",
       "      <th>6</th>\n",
       "      <td>2</td>\n",
       "      <td>nadvzorkovanie</td>\n",
       "      <td>0.81</td>\n",
       "      <td>0.93</td>\n",
       "      <td>0.56</td>\n",
       "      <td>0.66</td>\n",
       "      <td>0.87</td>\n",
       "      <td>0.98</td>\n",
       "      <td>0.56</td>\n",
       "      <td>0.69</td>\n",
       "      <td>0.77</td>\n",
       "      <td>0.75</td>\n",
       "    </tr>\n",
       "    <tr>\n",
       "      <th>7</th>\n",
       "      <td>2</td>\n",
       "      <td>podvzorkovanie</td>\n",
       "      <td>0.79</td>\n",
       "      <td>0.94</td>\n",
       "      <td>0.51</td>\n",
       "      <td>0.66</td>\n",
       "      <td>0.86</td>\n",
       "      <td>0.96</td>\n",
       "      <td>0.66</td>\n",
       "      <td>0.61</td>\n",
       "      <td>0.76</td>\n",
       "      <td>0.74</td>\n",
       "    </tr>\n",
       "    <tr>\n",
       "      <th>0</th>\n",
       "      <td>1</td>\n",
       "      <td>žiadne</td>\n",
       "      <td>0.76</td>\n",
       "      <td>0.87</td>\n",
       "      <td>0.53</td>\n",
       "      <td>0.60</td>\n",
       "      <td>0.79</td>\n",
       "      <td>0.97</td>\n",
       "      <td>0.41</td>\n",
       "      <td>0.60</td>\n",
       "      <td>0.73</td>\n",
       "      <td>0.68</td>\n",
       "    </tr>\n",
       "    <tr>\n",
       "      <th>2</th>\n",
       "      <td>1</td>\n",
       "      <td>oversampling</td>\n",
       "      <td>0.74</td>\n",
       "      <td>0.87</td>\n",
       "      <td>0.45</td>\n",
       "      <td>0.58</td>\n",
       "      <td>0.79</td>\n",
       "      <td>0.93</td>\n",
       "      <td>0.44</td>\n",
       "      <td>0.59</td>\n",
       "      <td>0.71</td>\n",
       "      <td>0.67</td>\n",
       "    </tr>\n",
       "    <tr>\n",
       "      <th>1</th>\n",
       "      <td>1</td>\n",
       "      <td>váhovanie</td>\n",
       "      <td>0.73</td>\n",
       "      <td>0.90</td>\n",
       "      <td>0.42</td>\n",
       "      <td>0.61</td>\n",
       "      <td>0.78</td>\n",
       "      <td>0.90</td>\n",
       "      <td>0.59</td>\n",
       "      <td>0.51</td>\n",
       "      <td>0.72</td>\n",
       "      <td>0.67</td>\n",
       "    </tr>\n",
       "    <tr>\n",
       "      <th>3</th>\n",
       "      <td>1</td>\n",
       "      <td>undersampling</td>\n",
       "      <td>0.72</td>\n",
       "      <td>0.90</td>\n",
       "      <td>0.40</td>\n",
       "      <td>0.59</td>\n",
       "      <td>0.77</td>\n",
       "      <td>0.89</td>\n",
       "      <td>0.60</td>\n",
       "      <td>0.47</td>\n",
       "      <td>0.71</td>\n",
       "      <td>0.66</td>\n",
       "    </tr>\n",
       "  </tbody>\n",
       "</table>\n",
       "</div>"
      ],
      "text/plain": [
       "    Fáza       Vyváženie     S   P_0   P_1   P_2   P_3   Ú_0   Ú_1   Ú_2  \\\n",
       "8      3          žiadne  0.85  0.96  0.70  0.69  0.88  0.99  0.66  0.75   \n",
       "9      3       váhovanie  0.84  0.96  0.67  0.69  0.87  0.98  0.71  0.73   \n",
       "10     3  nadvzorkovanie  0.84  0.96  0.67  0.69  0.87  0.99  0.69  0.72   \n",
       "11     3  podvzorkovanie  0.84  0.98  0.60  0.71  0.87  0.96  0.81  0.68   \n",
       "4      2          žiadne  0.81  0.92  0.60  0.66  0.87  0.98  0.52  0.72   \n",
       "5      2       váhovanie  0.81  0.93  0.55  0.67  0.88  0.97  0.58  0.68   \n",
       "6      2  nadvzorkovanie  0.81  0.93  0.56  0.66  0.87  0.98  0.56  0.69   \n",
       "7      2  podvzorkovanie  0.79  0.94  0.51  0.66  0.86  0.96  0.66  0.61   \n",
       "0      1          žiadne  0.76  0.87  0.53  0.60  0.79  0.97  0.41  0.60   \n",
       "2      1    oversampling  0.74  0.87  0.45  0.58  0.79  0.93  0.44  0.59   \n",
       "1      1       váhovanie  0.73  0.90  0.42  0.61  0.78  0.90  0.59  0.51   \n",
       "3      1   undersampling  0.72  0.90  0.40  0.59  0.77  0.89  0.60  0.47   \n",
       "\n",
       "     Ú_3  F1_makro  \n",
       "8   0.77      0.80  \n",
       "9   0.76      0.80  \n",
       "10  0.76      0.79  \n",
       "11  0.77      0.79  \n",
       "4   0.77      0.75  \n",
       "5   0.78      0.75  \n",
       "6   0.77      0.75  \n",
       "7   0.76      0.74  \n",
       "0   0.73      0.68  \n",
       "2   0.71      0.67  \n",
       "1   0.72      0.67  \n",
       "3   0.71      0.66  "
      ]
     },
     "execution_count": 164,
     "metadata": {},
     "output_type": "execute_result"
    }
   ],
   "source": [
    "df_results[['Fáza','Vyváženie','S','P_0','P_1','P_2','P_3','Ú_0','Ú_1','Ú_2','Ú_3', 'F1_makro']] \\\n",
    ".sort_values(by=['Fáza', 'S', 'F1_makro'], ascending=False)"
   ]
  },
  {
   "cell_type": "code",
   "execution_count": 165,
   "metadata": {},
   "outputs": [
    {
     "data": {
      "text/plain": [
       "GradientBoostingClassifier(criterion='friedman_mse', init=None,\n",
       "              learning_rate=0.1, loss='deviance', max_depth=2,\n",
       "              max_features=None, max_leaf_nodes=None,\n",
       "              min_impurity_decrease=0.0, min_impurity_split=None,\n",
       "              min_samples_leaf=1, min_samples_split=2,\n",
       "              min_weight_fraction_leaf=0.0, n_estimators=150,\n",
       "              presort='auto', random_state=64, subsample=1.0, verbose=0,\n",
       "              warm_start=False)"
      ]
     },
     "execution_count": 165,
     "metadata": {},
     "output_type": "execute_result"
    }
   ],
   "source": [
    "best = best_unbalanced\n",
    "best"
   ]
  },
  {
   "cell_type": "code",
   "execution_count": 166,
   "metadata": {
    "scrolled": false
   },
   "outputs": [
    {
     "data": {
      "text/html": [
       "<div>\n",
       "<style>\n",
       "    .dataframe thead tr:only-child th {\n",
       "        text-align: right;\n",
       "    }\n",
       "\n",
       "    .dataframe thead th {\n",
       "        text-align: left;\n",
       "    }\n",
       "\n",
       "    .dataframe tbody tr th {\n",
       "        vertical-align: top;\n",
       "    }\n",
       "</style>\n",
       "<table border=\"1\" class=\"dataframe\">\n",
       "  <thead>\n",
       "    <tr style=\"text-align: right;\">\n",
       "      <th></th>\n",
       "      <th>názov črty</th>\n",
       "      <th>dôležitosť</th>\n",
       "    </tr>\n",
       "  </thead>\n",
       "  <tbody>\n",
       "    <tr>\n",
       "      <th>5</th>\n",
       "      <td>ratio_pledged_goal</td>\n",
       "      <td>0.267784</td>\n",
       "    </tr>\n",
       "    <tr>\n",
       "      <th>46</th>\n",
       "      <td>LDA_8</td>\n",
       "      <td>0.025658</td>\n",
       "    </tr>\n",
       "    <tr>\n",
       "      <th>0</th>\n",
       "      <td>average_pledge</td>\n",
       "      <td>0.025105</td>\n",
       "    </tr>\n",
       "    <tr>\n",
       "      <th>40</th>\n",
       "      <td>LDA_1</td>\n",
       "      <td>0.025074</td>\n",
       "    </tr>\n",
       "    <tr>\n",
       "      <th>41</th>\n",
       "      <td>LDA_2</td>\n",
       "      <td>0.022893</td>\n",
       "    </tr>\n",
       "    <tr>\n",
       "      <th>4</th>\n",
       "      <td>pledged</td>\n",
       "      <td>0.018957</td>\n",
       "    </tr>\n",
       "    <tr>\n",
       "      <th>7</th>\n",
       "      <td>usd_goal</td>\n",
       "      <td>0.018376</td>\n",
       "    </tr>\n",
       "    <tr>\n",
       "      <th>23</th>\n",
       "      <td>LSA_6</td>\n",
       "      <td>0.018321</td>\n",
       "    </tr>\n",
       "    <tr>\n",
       "      <th>20</th>\n",
       "      <td>LSA_3</td>\n",
       "      <td>0.017335</td>\n",
       "    </tr>\n",
       "    <tr>\n",
       "      <th>8</th>\n",
       "      <td>usd_pledged</td>\n",
       "      <td>0.017109</td>\n",
       "    </tr>\n",
       "    <tr>\n",
       "      <th>42</th>\n",
       "      <td>LDA_3</td>\n",
       "      <td>0.016965</td>\n",
       "    </tr>\n",
       "    <tr>\n",
       "      <th>28</th>\n",
       "      <td>LSA_13</td>\n",
       "      <td>0.016662</td>\n",
       "    </tr>\n",
       "    <tr>\n",
       "      <th>31</th>\n",
       "      <td>LSA_16</td>\n",
       "      <td>0.016490</td>\n",
       "    </tr>\n",
       "    <tr>\n",
       "      <th>17</th>\n",
       "      <td>LSA_0</td>\n",
       "      <td>0.016378</td>\n",
       "    </tr>\n",
       "    <tr>\n",
       "      <th>48</th>\n",
       "      <td>LDA_10</td>\n",
       "      <td>0.016285</td>\n",
       "    </tr>\n",
       "    <tr>\n",
       "      <th>13</th>\n",
       "      <td>image_count</td>\n",
       "      <td>0.015457</td>\n",
       "    </tr>\n",
       "    <tr>\n",
       "      <th>1</th>\n",
       "      <td>backers_count</td>\n",
       "      <td>0.014821</td>\n",
       "    </tr>\n",
       "    <tr>\n",
       "      <th>52</th>\n",
       "      <td>LDA_14</td>\n",
       "      <td>0.014522</td>\n",
       "    </tr>\n",
       "    <tr>\n",
       "      <th>25</th>\n",
       "      <td>LSA_10</td>\n",
       "      <td>0.014514</td>\n",
       "    </tr>\n",
       "    <tr>\n",
       "      <th>35</th>\n",
       "      <td>LSA_21</td>\n",
       "      <td>0.014111</td>\n",
       "    </tr>\n",
       "    <tr>\n",
       "      <th>50</th>\n",
       "      <td>LDA_12</td>\n",
       "      <td>0.014005</td>\n",
       "    </tr>\n",
       "    <tr>\n",
       "      <th>18</th>\n",
       "      <td>LSA_1</td>\n",
       "      <td>0.013738</td>\n",
       "    </tr>\n",
       "    <tr>\n",
       "      <th>22</th>\n",
       "      <td>LSA_5</td>\n",
       "      <td>0.013074</td>\n",
       "    </tr>\n",
       "    <tr>\n",
       "      <th>2</th>\n",
       "      <td>category_position</td>\n",
       "      <td>0.013032</td>\n",
       "    </tr>\n",
       "    <tr>\n",
       "      <th>56</th>\n",
       "      <td>LDA_18</td>\n",
       "      <td>0.013031</td>\n",
       "    </tr>\n",
       "    <tr>\n",
       "      <th>49</th>\n",
       "      <td>LDA_11</td>\n",
       "      <td>0.012827</td>\n",
       "    </tr>\n",
       "    <tr>\n",
       "      <th>54</th>\n",
       "      <td>LDA_16</td>\n",
       "      <td>0.012619</td>\n",
       "    </tr>\n",
       "    <tr>\n",
       "      <th>47</th>\n",
       "      <td>LDA_9</td>\n",
       "      <td>0.012000</td>\n",
       "    </tr>\n",
       "    <tr>\n",
       "      <th>62</th>\n",
       "      <td>LDA_24</td>\n",
       "      <td>0.011687</td>\n",
       "    </tr>\n",
       "    <tr>\n",
       "      <th>21</th>\n",
       "      <td>LSA_4</td>\n",
       "      <td>0.011671</td>\n",
       "    </tr>\n",
       "    <tr>\n",
       "      <th>...</th>\n",
       "      <td>...</td>\n",
       "      <td>...</td>\n",
       "    </tr>\n",
       "    <tr>\n",
       "      <th>6</th>\n",
       "      <td>ratio_running_duration</td>\n",
       "      <td>0.010623</td>\n",
       "    </tr>\n",
       "    <tr>\n",
       "      <th>58</th>\n",
       "      <td>LDA_20</td>\n",
       "      <td>0.010444</td>\n",
       "    </tr>\n",
       "    <tr>\n",
       "      <th>37</th>\n",
       "      <td>LSA_23</td>\n",
       "      <td>0.010412</td>\n",
       "    </tr>\n",
       "    <tr>\n",
       "      <th>33</th>\n",
       "      <td>LSA_18</td>\n",
       "      <td>0.010294</td>\n",
       "    </tr>\n",
       "    <tr>\n",
       "      <th>60</th>\n",
       "      <td>LDA_22</td>\n",
       "      <td>0.010138</td>\n",
       "    </tr>\n",
       "    <tr>\n",
       "      <th>59</th>\n",
       "      <td>LDA_21</td>\n",
       "      <td>0.010134</td>\n",
       "    </tr>\n",
       "    <tr>\n",
       "      <th>55</th>\n",
       "      <td>LDA_17</td>\n",
       "      <td>0.009576</td>\n",
       "    </tr>\n",
       "    <tr>\n",
       "      <th>26</th>\n",
       "      <td>LSA_11</td>\n",
       "      <td>0.009305</td>\n",
       "    </tr>\n",
       "    <tr>\n",
       "      <th>29</th>\n",
       "      <td>LSA_14</td>\n",
       "      <td>0.009110</td>\n",
       "    </tr>\n",
       "    <tr>\n",
       "      <th>38</th>\n",
       "      <td>LSA_24</td>\n",
       "      <td>0.008973</td>\n",
       "    </tr>\n",
       "    <tr>\n",
       "      <th>24</th>\n",
       "      <td>LSA_9</td>\n",
       "      <td>0.008632</td>\n",
       "    </tr>\n",
       "    <tr>\n",
       "      <th>3</th>\n",
       "      <td>days_preparation</td>\n",
       "      <td>0.008572</td>\n",
       "    </tr>\n",
       "    <tr>\n",
       "      <th>32</th>\n",
       "      <td>LSA_17</td>\n",
       "      <td>0.008239</td>\n",
       "    </tr>\n",
       "    <tr>\n",
       "      <th>45</th>\n",
       "      <td>LDA_7</td>\n",
       "      <td>0.007973</td>\n",
       "    </tr>\n",
       "    <tr>\n",
       "      <th>34</th>\n",
       "      <td>LSA_19</td>\n",
       "      <td>0.007801</td>\n",
       "    </tr>\n",
       "    <tr>\n",
       "      <th>9</th>\n",
       "      <td>comments_count_creator_while_scraping</td>\n",
       "      <td>0.007690</td>\n",
       "    </tr>\n",
       "    <tr>\n",
       "      <th>10</th>\n",
       "      <td>comments_count_public_while_scraping</td>\n",
       "      <td>0.007488</td>\n",
       "    </tr>\n",
       "    <tr>\n",
       "      <th>44</th>\n",
       "      <td>LDA_6</td>\n",
       "      <td>0.007375</td>\n",
       "    </tr>\n",
       "    <tr>\n",
       "      <th>19</th>\n",
       "      <td>LSA_2</td>\n",
       "      <td>0.007292</td>\n",
       "    </tr>\n",
       "    <tr>\n",
       "      <th>16</th>\n",
       "      <td>category_parent_theater</td>\n",
       "      <td>0.006931</td>\n",
       "    </tr>\n",
       "    <tr>\n",
       "      <th>15</th>\n",
       "      <td>category_parent_fashion</td>\n",
       "      <td>0.006865</td>\n",
       "    </tr>\n",
       "    <tr>\n",
       "      <th>57</th>\n",
       "      <td>LDA_19</td>\n",
       "      <td>0.006827</td>\n",
       "    </tr>\n",
       "    <tr>\n",
       "      <th>51</th>\n",
       "      <td>LDA_13</td>\n",
       "      <td>0.006067</td>\n",
       "    </tr>\n",
       "    <tr>\n",
       "      <th>36</th>\n",
       "      <td>LSA_22</td>\n",
       "      <td>0.005526</td>\n",
       "    </tr>\n",
       "    <tr>\n",
       "      <th>53</th>\n",
       "      <td>LDA_15</td>\n",
       "      <td>0.005345</td>\n",
       "    </tr>\n",
       "    <tr>\n",
       "      <th>39</th>\n",
       "      <td>LDA_0</td>\n",
       "      <td>0.004777</td>\n",
       "    </tr>\n",
       "    <tr>\n",
       "      <th>27</th>\n",
       "      <td>LSA_12</td>\n",
       "      <td>0.004753</td>\n",
       "    </tr>\n",
       "    <tr>\n",
       "      <th>11</th>\n",
       "      <td>updates_likes_mean_while_scraping</td>\n",
       "      <td>0.003909</td>\n",
       "    </tr>\n",
       "    <tr>\n",
       "      <th>43</th>\n",
       "      <td>LDA_4</td>\n",
       "      <td>0.002865</td>\n",
       "    </tr>\n",
       "    <tr>\n",
       "      <th>12</th>\n",
       "      <td>deadline_hour</td>\n",
       "      <td>0.002365</td>\n",
       "    </tr>\n",
       "  </tbody>\n",
       "</table>\n",
       "<p>63 rows × 2 columns</p>\n",
       "</div>"
      ],
      "text/plain": [
       "                               názov črty  dôležitosť\n",
       "5                      ratio_pledged_goal    0.267784\n",
       "46                                  LDA_8    0.025658\n",
       "0                          average_pledge    0.025105\n",
       "40                                  LDA_1    0.025074\n",
       "41                                  LDA_2    0.022893\n",
       "4                                 pledged    0.018957\n",
       "7                                usd_goal    0.018376\n",
       "23                                  LSA_6    0.018321\n",
       "20                                  LSA_3    0.017335\n",
       "8                             usd_pledged    0.017109\n",
       "42                                  LDA_3    0.016965\n",
       "28                                 LSA_13    0.016662\n",
       "31                                 LSA_16    0.016490\n",
       "17                                  LSA_0    0.016378\n",
       "48                                 LDA_10    0.016285\n",
       "13                            image_count    0.015457\n",
       "1                           backers_count    0.014821\n",
       "52                                 LDA_14    0.014522\n",
       "25                                 LSA_10    0.014514\n",
       "35                                 LSA_21    0.014111\n",
       "50                                 LDA_12    0.014005\n",
       "18                                  LSA_1    0.013738\n",
       "22                                  LSA_5    0.013074\n",
       "2                       category_position    0.013032\n",
       "56                                 LDA_18    0.013031\n",
       "49                                 LDA_11    0.012827\n",
       "54                                 LDA_16    0.012619\n",
       "47                                  LDA_9    0.012000\n",
       "62                                 LDA_24    0.011687\n",
       "21                                  LSA_4    0.011671\n",
       "..                                    ...         ...\n",
       "6                  ratio_running_duration    0.010623\n",
       "58                                 LDA_20    0.010444\n",
       "37                                 LSA_23    0.010412\n",
       "33                                 LSA_18    0.010294\n",
       "60                                 LDA_22    0.010138\n",
       "59                                 LDA_21    0.010134\n",
       "55                                 LDA_17    0.009576\n",
       "26                                 LSA_11    0.009305\n",
       "29                                 LSA_14    0.009110\n",
       "38                                 LSA_24    0.008973\n",
       "24                                  LSA_9    0.008632\n",
       "3                        days_preparation    0.008572\n",
       "32                                 LSA_17    0.008239\n",
       "45                                  LDA_7    0.007973\n",
       "34                                 LSA_19    0.007801\n",
       "9   comments_count_creator_while_scraping    0.007690\n",
       "10   comments_count_public_while_scraping    0.007488\n",
       "44                                  LDA_6    0.007375\n",
       "19                                  LSA_2    0.007292\n",
       "16                category_parent_theater    0.006931\n",
       "15                category_parent_fashion    0.006865\n",
       "57                                 LDA_19    0.006827\n",
       "51                                 LDA_13    0.006067\n",
       "36                                 LSA_22    0.005526\n",
       "53                                 LDA_15    0.005345\n",
       "39                                  LDA_0    0.004777\n",
       "27                                 LSA_12    0.004753\n",
       "11      updates_likes_mean_while_scraping    0.003909\n",
       "43                                  LDA_4    0.002865\n",
       "12                          deadline_hour    0.002365\n",
       "\n",
       "[63 rows x 2 columns]"
      ]
     },
     "execution_count": 166,
     "metadata": {},
     "output_type": "execute_result"
    }
   ],
   "source": [
    "importances = pd.DataFrame()\n",
    "for i, name, importance in zip(range(len(features.columns)), features.columns, best.feature_importances_):\n",
    "    importances.loc[i, 'názov črty'] = name\n",
    "    importances.loc[i, 'dôležitosť'] = importance\n",
    "    \n",
    "importances.sort_values(by='dôležitosť', ascending=False).to_csv('results/importances'+ str(phase_num) +'.csv')\n",
    "importances.sort_values(by='dôležitosť', ascending=False)"
   ]
  },
  {
   "cell_type": "markdown",
   "metadata": {},
   "source": [
    "### Save confusion matrices"
   ]
  },
  {
   "cell_type": "code",
   "execution_count": 167,
   "metadata": {},
   "outputs": [
    {
     "data": {
      "image/png": "[encoded data removed]",
      "text/plain": [
       "<matplotlib.figure.Figure at 0x1b64fe02080>"
      ]
     },
     "metadata": {},
     "output_type": "display_data"
    }
   ],
   "source": [
    "sns.set(style='whitegrid')\n",
    "fig, ax = plt.subplots(nrows=2, ncols=2, sharex=False, sharey=False, figsize=(10, 8))\n",
    "\n",
    "sns.heatmap(metrics.confusion_matrix(labelsCV, best_unbalanced.predict(featuresCV)), annot=True, fmt='g', annot_kws={\"size\": 16}, ax=ax[0][0])\n",
    "ax[0][0].set(xlabel='', ylabel='', title='bez vyvažovania')\n",
    "\n",
    "sns.heatmap(metrics.confusion_matrix(labelsCV, best_weighted.predict(featuresCV)), annot=True, fmt='g', annot_kws={\"size\": 16}, ax=ax[0][1])\n",
    "ax[0][1].set(xlabel='', ylabel='', title='váhovanie')\n",
    "\n",
    "sns.heatmap(metrics.confusion_matrix(labelsCV, best_oversampled.predict(featuresCV)), annot=True, fmt='g', annot_kws={\"size\": 16}, ax=ax[1][0])\n",
    "ax[1][0].set(xlabel='', ylabel='', title='nadvzorkovanie')\n",
    "\n",
    "sns.heatmap(metrics.confusion_matrix(labelsCV, best_undersampled.predict(featuresCV)), annot=True, fmt='g', annot_kws={\"size\": 16}, ax=ax[1][1])\n",
    "ax[1][1].set(xlabel='', ylabel='', title='podvzorkovanie')\n",
    "\n",
    "fig.savefig('img/matrices3.png', dpi=400)"
   ]
  },
  {
   "cell_type": "code",
   "execution_count": 168,
   "metadata": {
    "collapsed": true
   },
   "outputs": [],
   "source": [
    "df_results[['Fáza','Vyváženie','S','P_0','P_1','P_2','P_3','Ú_0','Ú_1','Ú_2','Ú_3', 'F1_makro']].to_csv('results/final.csv')"
   ]
  },
  {
   "cell_type": "markdown",
   "metadata": {},
   "source": [
    "## Fourth stage 75-100% of campaign duration"
   ]
  },
  {
   "cell_type": "code",
   "execution_count": 169,
   "metadata": {
    "collapsed": true
   },
   "outputs": [],
   "source": [
    "phase_num = 4"
   ]
  },
  {
   "cell_type": "code",
   "execution_count": 170,
   "metadata": {},
   "outputs": [
    {
     "data": {
      "text/plain": [
       "(5688, 151)"
      ]
     },
     "execution_count": 170,
     "metadata": {},
     "output_type": "execute_result"
    }
   ],
   "source": [
    "features = pd.read_csv('data/final/train.csv', index_col=0)\n",
    "df = pd.read_csv('data/final/test.csv', index_col=0)\n",
    "features = features.append(df, ignore_index=True)\n",
    "\n",
    "features = features[(features['ratio_running_duration'] < 100) & (features['ratio_running_duration'] >= 75)]\n",
    "\n",
    "labels = features['class']\n",
    "features = features.drop('class', axis=1)\n",
    "\n",
    "features.shape"
   ]
  },
  {
   "cell_type": "code",
   "execution_count": 171,
   "metadata": {},
   "outputs": [
    {
     "data": {
      "text/plain": [
       "(1422, 151)"
      ]
     },
     "execution_count": 171,
     "metadata": {},
     "output_type": "execute_result"
    }
   ],
   "source": [
    "featuresCV = pd.read_csv('data/final/cv.csv', index_col=0)\n",
    "\n",
    "featuresCV = featuresCV[(featuresCV['ratio_running_duration'] < 100) & (featuresCV['ratio_running_duration'] >= 75)]\n",
    "\n",
    "labelsCV = featuresCV['class']\n",
    "featuresCV = featuresCV.drop('class', axis=1)\n",
    "\n",
    "featuresCV.shape"
   ]
  },
  {
   "cell_type": "markdown",
   "metadata": {},
   "source": [
    "### Feature selection"
   ]
  },
  {
   "cell_type": "code",
   "execution_count": 172,
   "metadata": {},
   "outputs": [
    {
     "name": "stdout",
     "output_type": "stream",
     "text": [
      "Wall time: 1h 24min 36s\n"
     ]
    }
   ],
   "source": [
    "%%time\n",
    "# remove highly corelated data\n",
    "features.drop(['db_duration', 'goal'], axis=1, inplace=True)\n",
    "\n",
    "# Recursive feature elimination using GBC with default parameters\n",
    "selected_features = []\n",
    "all_features = features.columns.tolist()\n",
    "estimator = GradientBoostingClassifier(random_state=64)\n",
    "selector = RFECV(estimator, step=1, cv=5, n_jobs=-1, scoring='accuracy')\n",
    "selector = selector.fit(features, labels)\n",
    "\n",
    "for i, support in zip(range(len(selector.support_)), selector.support_):\n",
    "    if support:\n",
    "        selected_features.append(all_features[i])"
   ]
  },
  {
   "cell_type": "code",
   "execution_count": 173,
   "metadata": {},
   "outputs": [
    {
     "data": {
      "text/plain": [
       "['average_pledge',\n",
       " 'backers_count',\n",
       " 'pledged',\n",
       " 'ratio_pledged_goal',\n",
       " 'ratio_running_duration',\n",
       " 'usd_goal',\n",
       " 'usd_pledged',\n",
       " 'comments_count_public_while_scraping',\n",
       " 'deadline_day',\n",
       " 'image_count',\n",
       " 'audio_count',\n",
       " 'LSA_1',\n",
       " 'LSA_4',\n",
       " 'LSA_5',\n",
       " 'LSA_6',\n",
       " 'LSA_10',\n",
       " 'LSA_11',\n",
       " 'LSA_12',\n",
       " 'LSA_13',\n",
       " 'LSA_15',\n",
       " 'LSA_16',\n",
       " 'LSA_18',\n",
       " 'LSA_20',\n",
       " 'LSA_24',\n",
       " 'LDA_0',\n",
       " 'LDA_1',\n",
       " 'LDA_2',\n",
       " 'LDA_3',\n",
       " 'LDA_4',\n",
       " 'LDA_6',\n",
       " 'LDA_9',\n",
       " 'LDA_10',\n",
       " 'LDA_11',\n",
       " 'LDA_14',\n",
       " 'LDA_17',\n",
       " 'LDA_18',\n",
       " 'LDA_19',\n",
       " 'LDA_21',\n",
       " 'LDA_22',\n",
       " 'LDA_24']"
      ]
     },
     "execution_count": 173,
     "metadata": {},
     "output_type": "execute_result"
    }
   ],
   "source": [
    "selected_features"
   ]
  },
  {
   "cell_type": "code",
   "execution_count": 174,
   "metadata": {},
   "outputs": [
    {
     "data": {
      "text/plain": [
       "(5688, 40)"
      ]
     },
     "execution_count": 174,
     "metadata": {},
     "output_type": "execute_result"
    }
   ],
   "source": [
    "features = features[selected_features]\n",
    "features.shape"
   ]
  },
  {
   "cell_type": "code",
   "execution_count": 175,
   "metadata": {},
   "outputs": [
    {
     "data": {
      "text/plain": [
       "(1422, 40)"
      ]
     },
     "execution_count": 175,
     "metadata": {},
     "output_type": "execute_result"
    }
   ],
   "source": [
    "featuresCV = featuresCV[selected_features]\n",
    "featuresCV.shape"
   ]
  },
  {
   "cell_type": "code",
   "execution_count": 176,
   "metadata": {},
   "outputs": [
    {
     "data": {
      "text/plain": [
       "True    40\n",
       "dtype: int64"
      ]
     },
     "execution_count": 176,
     "metadata": {},
     "output_type": "execute_result"
    }
   ],
   "source": [
    "pd.Series(features.columns == featuresCV.columns).value_counts()"
   ]
  },
  {
   "cell_type": "markdown",
   "metadata": {},
   "source": [
    "### Training"
   ]
  },
  {
   "cell_type": "markdown",
   "metadata": {},
   "source": [
    "#### Unbalanced"
   ]
  },
  {
   "cell_type": "code",
   "execution_count": 177,
   "metadata": {
    "collapsed": true
   },
   "outputs": [],
   "source": [
    "gs = GridSearchCV(GradientBoostingClassifier(), params, scoring='accuracy', cv=5, n_jobs=-1, error_score=0)"
   ]
  },
  {
   "cell_type": "code",
   "execution_count": 178,
   "metadata": {},
   "outputs": [
    {
     "name": "stdout",
     "output_type": "stream",
     "text": [
      "Wall time: 18min 35s\n"
     ]
    },
    {
     "data": {
      "text/plain": [
       "GridSearchCV(cv=5, error_score=0,\n",
       "       estimator=GradientBoostingClassifier(criterion='friedman_mse', init=None,\n",
       "              learning_rate=0.1, loss='deviance', max_depth=3,\n",
       "              max_features=None, max_leaf_nodes=None,\n",
       "              min_impurity_decrease=0.0, min_impurity_split=None,\n",
       "              min_samples_leaf=1, min_samples_split=2,\n",
       "              min_weight_fraction_leaf=0.0, n_estimators=100,\n",
       "              presort='auto', random_state=None, subsample=1.0, verbose=0,\n",
       "              warm_start=False),\n",
       "       fit_params=None, iid=True, n_jobs=-1,\n",
       "       param_grid={'learning_rate': [0.12, 0.1, 0.08, 0.01, 0.2], 'n_estimators': [150, 100, 50], 'max_depth': [1, 2, 3, 4, 5], 'random_state': [64]},\n",
       "       pre_dispatch='2*n_jobs', refit=True, return_train_score='warn',\n",
       "       scoring='accuracy', verbose=0)"
      ]
     },
     "execution_count": 178,
     "metadata": {},
     "output_type": "execute_result"
    }
   ],
   "source": [
    "%%time\n",
    "gs.fit(features, labels)"
   ]
  },
  {
   "cell_type": "code",
   "execution_count": 179,
   "metadata": {},
   "outputs": [
    {
     "name": "stderr",
     "output_type": "stream",
     "text": [
      "C:\\Users\\Patrik\\Anaconda3\\lib\\site-packages\\sklearn\\model_selection\\_search.py:761: DeprecationWarning: The grid_scores_ attribute was deprecated in version 0.18 in favor of the more elaborate cv_results_ attribute. The grid_scores_ attribute will not be available from 0.20\n",
      "  DeprecationWarning)\n"
     ]
    },
    {
     "data": {
      "text/plain": [
       "[mean: 0.92141, std: 0.00609, params: {'learning_rate': 0.12, 'max_depth': 3, 'n_estimators': 150, 'random_state': 64},\n",
       " mean: 0.92018, std: 0.00621, params: {'learning_rate': 0.2, 'max_depth': 2, 'n_estimators': 150, 'random_state': 64},\n",
       " mean: 0.91966, std: 0.00707, params: {'learning_rate': 0.12, 'max_depth': 1, 'n_estimators': 100, 'random_state': 64},\n",
       " mean: 0.91966, std: 0.00583, params: {'learning_rate': 0.08, 'max_depth': 4, 'n_estimators': 50, 'random_state': 64},\n",
       " mean: 0.91966, std: 0.00425, params: {'learning_rate': 0.2, 'max_depth': 2, 'n_estimators': 100, 'random_state': 64},\n",
       " mean: 0.91948, std: 0.00779, params: {'learning_rate': 0.12, 'max_depth': 1, 'n_estimators': 150, 'random_state': 64},\n",
       " mean: 0.91948, std: 0.00831, params: {'learning_rate': 0.12, 'max_depth': 2, 'n_estimators': 50, 'random_state': 64},\n",
       " mean: 0.91948, std: 0.00685, params: {'learning_rate': 0.1, 'max_depth': 1, 'n_estimators': 150, 'random_state': 64},\n",
       " mean: 0.91948, std: 0.00785, params: {'learning_rate': 0.1, 'max_depth': 1, 'n_estimators': 100, 'random_state': 64},\n",
       " mean: 0.91948, std: 0.00460, params: {'learning_rate': 0.08, 'max_depth': 3, 'n_estimators': 150, 'random_state': 64}]"
      ]
     },
     "execution_count": 179,
     "metadata": {},
     "output_type": "execute_result"
    }
   ],
   "source": [
    "sorted(gs.grid_scores_, key=lambda x: x.mean_validation_score, reverse=True)[:10]"
   ]
  },
  {
   "cell_type": "code",
   "execution_count": 180,
   "metadata": {},
   "outputs": [
    {
     "data": {
      "text/plain": [
       "GradientBoostingClassifier(criterion='friedman_mse', init=None,\n",
       "              learning_rate=0.12, loss='deviance', max_depth=3,\n",
       "              max_features=None, max_leaf_nodes=None,\n",
       "              min_impurity_decrease=0.0, min_impurity_split=None,\n",
       "              min_samples_leaf=1, min_samples_split=2,\n",
       "              min_weight_fraction_leaf=0.0, n_estimators=150,\n",
       "              presort='auto', random_state=64, subsample=1.0, verbose=0,\n",
       "              warm_start=False)"
      ]
     },
     "execution_count": 180,
     "metadata": {},
     "output_type": "execute_result"
    }
   ],
   "source": [
    "best_unbalanced = gs.best_estimator_\n",
    "best_unbalanced"
   ]
  },
  {
   "cell_type": "code",
   "execution_count": 181,
   "metadata": {},
   "outputs": [
    {
     "name": "stdout",
     "output_type": "stream",
     "text": [
      "accuracy:  0.919831223629\n",
      "\n",
      "             precision    recall  f1-score   support\n",
      "\n",
      "          1       0.98      0.99      0.98       612\n",
      "          2       0.85      0.82      0.83       187\n",
      "          3       0.83      0.89      0.86       322\n",
      "          4       0.96      0.86      0.91       301\n",
      "\n",
      "avg / total       0.92      0.92      0.92      1422\n",
      "\n",
      "macro precision:  0.901645313214\n",
      "micro precision:  0.919831223629\n",
      "\n",
      "micro recall:  0.919831223629\n",
      "macro recall:  0.892612800091\n",
      "\n",
      "micro f1:  0.919831223629\n",
      "macro f1:  0.896195037549\n"
     ]
    },
    {
     "data": {
      "image/png": "[encoded data removed]",
      "text/plain": [
       "<matplotlib.figure.Figure at 0x1b64e854940>"
      ]
     },
     "metadata": {},
     "output_type": "display_data"
    }
   ],
   "source": [
    "print_metrics(best_unbalanced, featuresCV, labelsCV, 'žiadne', phase_num)"
   ]
  },
  {
   "cell_type": "markdown",
   "metadata": {},
   "source": [
    "#### Class weights"
   ]
  },
  {
   "cell_type": "code",
   "execution_count": 182,
   "metadata": {
    "collapsed": true
   },
   "outputs": [],
   "source": [
    "labels_weights = class_weight.compute_sample_weight('balanced', labels)"
   ]
  },
  {
   "cell_type": "code",
   "execution_count": 183,
   "metadata": {
    "collapsed": true
   },
   "outputs": [],
   "source": [
    "gs = GridSearchCV(GradientBoostingClassifier(), params, scoring='accuracy', cv=5, n_jobs=-1, error_score=0)"
   ]
  },
  {
   "cell_type": "code",
   "execution_count": 184,
   "metadata": {},
   "outputs": [
    {
     "name": "stdout",
     "output_type": "stream",
     "text": [
      "Wall time: 18min 34s\n"
     ]
    },
    {
     "data": {
      "text/plain": [
       "GridSearchCV(cv=5, error_score=0,\n",
       "       estimator=GradientBoostingClassifier(criterion='friedman_mse', init=None,\n",
       "              learning_rate=0.1, loss='deviance', max_depth=3,\n",
       "              max_features=None, max_leaf_nodes=None,\n",
       "              min_impurity_decrease=0.0, min_impurity_split=None,\n",
       "              min_samples_leaf=1, min_samples_split=2,\n",
       "              min_weight_fraction_leaf=0.0, n_estimators=100,\n",
       "              presort='auto', random_state=None, subsample=1.0, verbose=0,\n",
       "              warm_start=False),\n",
       "       fit_params=None, iid=True, n_jobs=-1,\n",
       "       param_grid={'learning_rate': [0.12, 0.1, 0.08, 0.01, 0.2], 'n_estimators': [150, 100, 50], 'max_depth': [1, 2, 3, 4, 5], 'random_state': [64]},\n",
       "       pre_dispatch='2*n_jobs', refit=True, return_train_score='warn',\n",
       "       scoring='accuracy', verbose=0)"
      ]
     },
     "execution_count": 184,
     "metadata": {},
     "output_type": "execute_result"
    }
   ],
   "source": [
    "%%time\n",
    "gs.fit(features, labels, sample_weight=labels_weights)"
   ]
  },
  {
   "cell_type": "code",
   "execution_count": 185,
   "metadata": {},
   "outputs": [
    {
     "name": "stderr",
     "output_type": "stream",
     "text": [
      "C:\\Users\\Patrik\\Anaconda3\\lib\\site-packages\\sklearn\\model_selection\\_search.py:761: DeprecationWarning: The grid_scores_ attribute was deprecated in version 0.18 in favor of the more elaborate cv_results_ attribute. The grid_scores_ attribute will not be available from 0.20\n",
      "  DeprecationWarning)\n"
     ]
    },
    {
     "data": {
      "text/plain": [
       "[mean: 0.91842, std: 0.00620, params: {'learning_rate': 0.12, 'max_depth': 3, 'n_estimators': 150, 'random_state': 64},\n",
       " mean: 0.91772, std: 0.00556, params: {'learning_rate': 0.12, 'max_depth': 4, 'n_estimators': 100, 'random_state': 64},\n",
       " mean: 0.91702, std: 0.00491, params: {'learning_rate': 0.12, 'max_depth': 4, 'n_estimators': 150, 'random_state': 64},\n",
       " mean: 0.91702, std: 0.00328, params: {'learning_rate': 0.08, 'max_depth': 4, 'n_estimators': 150, 'random_state': 64},\n",
       " mean: 0.91702, std: 0.00750, params: {'learning_rate': 0.2, 'max_depth': 4, 'n_estimators': 100, 'random_state': 64},\n",
       " mean: 0.91684, std: 0.00752, params: {'learning_rate': 0.1, 'max_depth': 3, 'n_estimators': 150, 'random_state': 64},\n",
       " mean: 0.91667, std: 0.00362, params: {'learning_rate': 0.1, 'max_depth': 4, 'n_estimators': 150, 'random_state': 64},\n",
       " mean: 0.91667, std: 0.00628, params: {'learning_rate': 0.08, 'max_depth': 4, 'n_estimators': 50, 'random_state': 64},\n",
       " mean: 0.91667, std: 0.00563, params: {'learning_rate': 0.2, 'max_depth': 4, 'n_estimators': 150, 'random_state': 64},\n",
       " mean: 0.91649, std: 0.00880, params: {'learning_rate': 0.12, 'max_depth': 2, 'n_estimators': 100, 'random_state': 64}]"
      ]
     },
     "execution_count": 185,
     "metadata": {},
     "output_type": "execute_result"
    }
   ],
   "source": [
    "sorted(gs.grid_scores_, key=lambda x: x.mean_validation_score, reverse=True)[:10]"
   ]
  },
  {
   "cell_type": "code",
   "execution_count": 186,
   "metadata": {},
   "outputs": [
    {
     "data": {
      "text/plain": [
       "GradientBoostingClassifier(criterion='friedman_mse', init=None,\n",
       "              learning_rate=0.12, loss='deviance', max_depth=3,\n",
       "              max_features=None, max_leaf_nodes=None,\n",
       "              min_impurity_decrease=0.0, min_impurity_split=None,\n",
       "              min_samples_leaf=1, min_samples_split=2,\n",
       "              min_weight_fraction_leaf=0.0, n_estimators=150,\n",
       "              presort='auto', random_state=64, subsample=1.0, verbose=0,\n",
       "              warm_start=False)"
      ]
     },
     "execution_count": 186,
     "metadata": {},
     "output_type": "execute_result"
    }
   ],
   "source": [
    "best_weighted = gs.best_estimator_\n",
    "best_weighted"
   ]
  },
  {
   "cell_type": "code",
   "execution_count": 187,
   "metadata": {},
   "outputs": [
    {
     "name": "stdout",
     "output_type": "stream",
     "text": [
      "accuracy:  0.919127988748\n",
      "\n",
      "             precision    recall  f1-score   support\n",
      "\n",
      "          1       0.98      0.98      0.98       612\n",
      "          2       0.81      0.87      0.84       187\n",
      "          3       0.84      0.88      0.86       322\n",
      "          4       0.96      0.86      0.91       301\n",
      "\n",
      "avg / total       0.92      0.92      0.92      1422\n",
      "\n",
      "macro precision:  0.897378363257\n",
      "micro precision:  0.919127988748\n",
      "\n",
      "micro recall:  0.919127988748\n",
      "macro recall:  0.898720414415\n",
      "\n",
      "micro f1:  0.919127988748\n",
      "macro f1:  0.897037093217\n"
     ]
    },
    {
     "data": {
      "image/png": "[encoded data removed]",
      "text/plain": [
       "<matplotlib.figure.Figure at 0x1b64c2d0320>"
      ]
     },
     "metadata": {},
     "output_type": "display_data"
    }
   ],
   "source": [
    "print_metrics(best_weighted, featuresCV, labelsCV, 'váhovanie', phase_num)"
   ]
  },
  {
   "cell_type": "markdown",
   "metadata": {},
   "source": [
    "#### Oversampling"
   ]
  },
  {
   "cell_type": "code",
   "execution_count": 188,
   "metadata": {},
   "outputs": [
    {
     "name": "stdout",
     "output_type": "stream",
     "text": [
      "[(1, 2481), (2, 2481), (3, 2481), (4, 2481)]\n"
     ]
    }
   ],
   "source": [
    "ros = RandomOverSampler(random_state=64)\n",
    "features_sampled, labels_sampled = ros.fit_sample(features, labels)\n",
    "print(sorted(Counter(labels_sampled).items()))"
   ]
  },
  {
   "cell_type": "code",
   "execution_count": 189,
   "metadata": {},
   "outputs": [
    {
     "data": {
      "text/plain": [
       "(9924, 40)"
      ]
     },
     "execution_count": 189,
     "metadata": {},
     "output_type": "execute_result"
    }
   ],
   "source": [
    "features_sampled = pd.DataFrame(features_sampled)\n",
    "features_sampled.columns = features.columns\n",
    "features_sampled.shape"
   ]
  },
  {
   "cell_type": "code",
   "execution_count": 190,
   "metadata": {
    "collapsed": true
   },
   "outputs": [],
   "source": [
    "gs = GridSearchCV(GradientBoostingClassifier(), params, scoring='accuracy', cv=5, n_jobs=-1, error_score=0)"
   ]
  },
  {
   "cell_type": "code",
   "execution_count": 191,
   "metadata": {},
   "outputs": [
    {
     "name": "stdout",
     "output_type": "stream",
     "text": [
      "Wall time: 36min 26s\n"
     ]
    },
    {
     "data": {
      "text/plain": [
       "GridSearchCV(cv=5, error_score=0,\n",
       "       estimator=GradientBoostingClassifier(criterion='friedman_mse', init=None,\n",
       "              learning_rate=0.1, loss='deviance', max_depth=3,\n",
       "              max_features=None, max_leaf_nodes=None,\n",
       "              min_impurity_decrease=0.0, min_impurity_split=None,\n",
       "              min_samples_leaf=1, min_samples_split=2,\n",
       "              min_weight_fraction_leaf=0.0, n_estimators=100,\n",
       "              presort='auto', random_state=None, subsample=1.0, verbose=0,\n",
       "              warm_start=False),\n",
       "       fit_params=None, iid=True, n_jobs=-1,\n",
       "       param_grid={'learning_rate': [0.12, 0.1, 0.08, 0.01, 0.2], 'n_estimators': [150, 100, 50], 'max_depth': [1, 2, 3, 4, 5], 'random_state': [64]},\n",
       "       pre_dispatch='2*n_jobs', refit=True, return_train_score='warn',\n",
       "       scoring='accuracy', verbose=0)"
      ]
     },
     "execution_count": 191,
     "metadata": {},
     "output_type": "execute_result"
    }
   ],
   "source": [
    "%%time\n",
    "gs.fit(features_sampled, labels_sampled)"
   ]
  },
  {
   "cell_type": "code",
   "execution_count": 192,
   "metadata": {},
   "outputs": [
    {
     "name": "stderr",
     "output_type": "stream",
     "text": [
      "C:\\Users\\Patrik\\Anaconda3\\lib\\site-packages\\sklearn\\model_selection\\_search.py:761: DeprecationWarning: The grid_scores_ attribute was deprecated in version 0.18 in favor of the more elaborate cv_results_ attribute. The grid_scores_ attribute will not be available from 0.20\n",
      "  DeprecationWarning)\n"
     ]
    },
    {
     "data": {
      "text/plain": [
       "[mean: 0.98378, std: 0.01260, params: {'learning_rate': 0.12, 'max_depth': 5, 'n_estimators': 150, 'random_state': 64},\n",
       " mean: 0.98378, std: 0.01286, params: {'learning_rate': 0.2, 'max_depth': 5, 'n_estimators': 150, 'random_state': 64},\n",
       " mean: 0.98327, std: 0.01275, params: {'learning_rate': 0.2, 'max_depth': 4, 'n_estimators': 150, 'random_state': 64},\n",
       " mean: 0.98297, std: 0.01355, params: {'learning_rate': 0.2, 'max_depth': 5, 'n_estimators': 100, 'random_state': 64},\n",
       " mean: 0.98247, std: 0.01363, params: {'learning_rate': 0.1, 'max_depth': 5, 'n_estimators': 150, 'random_state': 64},\n",
       " mean: 0.98156, std: 0.01228, params: {'learning_rate': 0.2, 'max_depth': 4, 'n_estimators': 100, 'random_state': 64},\n",
       " mean: 0.98126, std: 0.01320, params: {'learning_rate': 0.12, 'max_depth': 5, 'n_estimators': 100, 'random_state': 64},\n",
       " mean: 0.98065, std: 0.01307, params: {'learning_rate': 0.08, 'max_depth': 5, 'n_estimators': 150, 'random_state': 64},\n",
       " mean: 0.98005, std: 0.01307, params: {'learning_rate': 0.2, 'max_depth': 3, 'n_estimators': 150, 'random_state': 64},\n",
       " mean: 0.97884, std: 0.01309, params: {'learning_rate': 0.12, 'max_depth': 4, 'n_estimators': 150, 'random_state': 64}]"
      ]
     },
     "execution_count": 192,
     "metadata": {},
     "output_type": "execute_result"
    }
   ],
   "source": [
    "sorted(gs.grid_scores_, key=lambda x: x.mean_validation_score, reverse=True)[:10]"
   ]
  },
  {
   "cell_type": "code",
   "execution_count": 193,
   "metadata": {
    "collapsed": true
   },
   "outputs": [],
   "source": [
    "best_oversampled = gs.best_estimator_"
   ]
  },
  {
   "cell_type": "code",
   "execution_count": 194,
   "metadata": {},
   "outputs": [
    {
     "name": "stdout",
     "output_type": "stream",
     "text": [
      "accuracy:  0.92123769339\n",
      "\n",
      "             precision    recall  f1-score   support\n",
      "\n",
      "          1       0.98      0.99      0.99       612\n",
      "          2       0.84      0.84      0.84       187\n",
      "          3       0.84      0.88      0.86       322\n",
      "          4       0.96      0.87      0.91       301\n",
      "\n",
      "avg / total       0.92      0.92      0.92      1422\n",
      "\n",
      "macro precision:  0.901587291934\n",
      "micro precision:  0.92123769339\n",
      "\n",
      "micro recall:  0.92123769339\n",
      "macro recall:  0.896461765912\n",
      "\n",
      "micro f1:  0.92123769339\n",
      "macro f1:  0.898307212526\n"
     ]
    },
    {
     "data": {
      "image/png": "[encoded data removed]",
      "text/plain": [
       "<matplotlib.figure.Figure at 0x1b64d1033c8>"
      ]
     },
     "metadata": {},
     "output_type": "display_data"
    }
   ],
   "source": [
    "print_metrics(best_oversampled, featuresCV, labelsCV, 'nadvzorkovanie', phase_num)"
   ]
  },
  {
   "cell_type": "markdown",
   "metadata": {},
   "source": [
    "#### Undersampling"
   ]
  },
  {
   "cell_type": "code",
   "execution_count": 195,
   "metadata": {},
   "outputs": [
    {
     "name": "stdout",
     "output_type": "stream",
     "text": [
      "[(1, 741), (2, 741), (3, 741), (4, 741)]\n"
     ]
    }
   ],
   "source": [
    "rus = RandomUnderSampler(random_state=64)\n",
    "features_sampled, labels_sampled = rus.fit_sample(features, labels)\n",
    "print(sorted(Counter(labels_sampled).items()))"
   ]
  },
  {
   "cell_type": "code",
   "execution_count": 196,
   "metadata": {},
   "outputs": [
    {
     "data": {
      "text/plain": [
       "(2964, 40)"
      ]
     },
     "execution_count": 196,
     "metadata": {},
     "output_type": "execute_result"
    }
   ],
   "source": [
    "features_sampled = pd.DataFrame(features_sampled)\n",
    "features_sampled.columns = features.columns\n",
    "features_sampled.shape"
   ]
  },
  {
   "cell_type": "code",
   "execution_count": 197,
   "metadata": {
    "collapsed": true
   },
   "outputs": [],
   "source": [
    "gs = GridSearchCV(GradientBoostingClassifier(), params, scoring='accuracy', cv=5, n_jobs=-1, error_score=0)"
   ]
  },
  {
   "cell_type": "code",
   "execution_count": 198,
   "metadata": {},
   "outputs": [
    {
     "name": "stdout",
     "output_type": "stream",
     "text": [
      "Wall time: 10min 33s\n"
     ]
    },
    {
     "data": {
      "text/plain": [
       "GridSearchCV(cv=5, error_score=0,\n",
       "       estimator=GradientBoostingClassifier(criterion='friedman_mse', init=None,\n",
       "              learning_rate=0.1, loss='deviance', max_depth=3,\n",
       "              max_features=None, max_leaf_nodes=None,\n",
       "              min_impurity_decrease=0.0, min_impurity_split=None,\n",
       "              min_samples_leaf=1, min_samples_split=2,\n",
       "              min_weight_fraction_leaf=0.0, n_estimators=100,\n",
       "              presort='auto', random_state=None, subsample=1.0, verbose=0,\n",
       "              warm_start=False),\n",
       "       fit_params=None, iid=True, n_jobs=-1,\n",
       "       param_grid={'learning_rate': [0.12, 0.1, 0.08, 0.01, 0.2], 'n_estimators': [150, 100, 50], 'max_depth': [1, 2, 3, 4, 5], 'random_state': [64]},\n",
       "       pre_dispatch='2*n_jobs', refit=True, return_train_score='warn',\n",
       "       scoring='accuracy', verbose=0)"
      ]
     },
     "execution_count": 198,
     "metadata": {},
     "output_type": "execute_result"
    }
   ],
   "source": [
    "%%time\n",
    "gs.fit(features_sampled, labels_sampled)"
   ]
  },
  {
   "cell_type": "code",
   "execution_count": 199,
   "metadata": {},
   "outputs": [
    {
     "name": "stderr",
     "output_type": "stream",
     "text": [
      "C:\\Users\\Patrik\\Anaconda3\\lib\\site-packages\\sklearn\\model_selection\\_search.py:761: DeprecationWarning: The grid_scores_ attribute was deprecated in version 0.18 in favor of the more elaborate cv_results_ attribute. The grid_scores_ attribute will not be available from 0.20\n",
      "  DeprecationWarning)\n"
     ]
    },
    {
     "data": {
      "text/plain": [
       "[mean: 0.89372, std: 0.01306, params: {'learning_rate': 0.2, 'max_depth': 3, 'n_estimators': 150, 'random_state': 64},\n",
       " mean: 0.89238, std: 0.01170, params: {'learning_rate': 0.1, 'max_depth': 2, 'n_estimators': 150, 'random_state': 64},\n",
       " mean: 0.89238, std: 0.01304, params: {'learning_rate': 0.1, 'max_depth': 2, 'n_estimators': 50, 'random_state': 64},\n",
       " mean: 0.89170, std: 0.01043, params: {'learning_rate': 0.12, 'max_depth': 2, 'n_estimators': 100, 'random_state': 64},\n",
       " mean: 0.89170, std: 0.01426, params: {'learning_rate': 0.12, 'max_depth': 4, 'n_estimators': 150, 'random_state': 64},\n",
       " mean: 0.89170, std: 0.01090, params: {'learning_rate': 0.2, 'max_depth': 3, 'n_estimators': 100, 'random_state': 64},\n",
       " mean: 0.89136, std: 0.01373, params: {'learning_rate': 0.1, 'max_depth': 4, 'n_estimators': 100, 'random_state': 64},\n",
       " mean: 0.89136, std: 0.01398, params: {'learning_rate': 0.08, 'max_depth': 2, 'n_estimators': 100, 'random_state': 64},\n",
       " mean: 0.89136, std: 0.01156, params: {'learning_rate': 0.2, 'max_depth': 3, 'n_estimators': 50, 'random_state': 64},\n",
       " mean: 0.89103, std: 0.00907, params: {'learning_rate': 0.12, 'max_depth': 2, 'n_estimators': 150, 'random_state': 64}]"
      ]
     },
     "execution_count": 199,
     "metadata": {},
     "output_type": "execute_result"
    }
   ],
   "source": [
    "sorted(gs.grid_scores_, key=lambda x: x.mean_validation_score, reverse=True)[:10]"
   ]
  },
  {
   "cell_type": "code",
   "execution_count": 200,
   "metadata": {},
   "outputs": [
    {
     "data": {
      "text/plain": [
       "GradientBoostingClassifier(criterion='friedman_mse', init=None,\n",
       "              learning_rate=0.2, loss='deviance', max_depth=3,\n",
       "              max_features=None, max_leaf_nodes=None,\n",
       "              min_impurity_decrease=0.0, min_impurity_split=None,\n",
       "              min_samples_leaf=1, min_samples_split=2,\n",
       "              min_weight_fraction_leaf=0.0, n_estimators=150,\n",
       "              presort='auto', random_state=64, subsample=1.0, verbose=0,\n",
       "              warm_start=False)"
      ]
     },
     "execution_count": 200,
     "metadata": {},
     "output_type": "execute_result"
    }
   ],
   "source": [
    "best_undersampled = gs.best_estimator_\n",
    "best_undersampled"
   ]
  },
  {
   "cell_type": "code",
   "execution_count": 201,
   "metadata": {},
   "outputs": [
    {
     "name": "stdout",
     "output_type": "stream",
     "text": [
      "accuracy:  0.912798874824\n",
      "\n",
      "             precision    recall  f1-score   support\n",
      "\n",
      "          1       0.98      0.97      0.98       612\n",
      "          2       0.76      0.88      0.82       187\n",
      "          3       0.85      0.86      0.86       322\n",
      "          4       0.95      0.87      0.91       301\n",
      "\n",
      "avg / total       0.92      0.91      0.91      1422\n",
      "\n",
      "macro precision:  0.886979073101\n",
      "micro precision:  0.912798874824\n",
      "\n",
      "micro recall:  0.912798874824\n",
      "macro recall:  0.894554909625\n",
      "\n",
      "micro f1:  0.912798874824\n",
      "macro f1:  0.889263831316\n"
     ]
    },
    {
     "data": {
      "image/png": "[encoded data removed]",
      "text/plain": [
       "<matplotlib.figure.Figure at 0x1b64ea17710>"
      ]
     },
     "metadata": {},
     "output_type": "display_data"
    }
   ],
   "source": [
    "print_metrics(best_undersampled, featuresCV, labelsCV, 'podvzorkovanie', phase_num)"
   ]
  },
  {
   "cell_type": "markdown",
   "metadata": {},
   "source": [
    "### Best configuration (primary: accuracy, secondary: macro F1)"
   ]
  },
  {
   "cell_type": "code",
   "execution_count": 202,
   "metadata": {},
   "outputs": [
    {
     "data": {
      "text/html": [
       "<div>\n",
       "<style>\n",
       "    .dataframe thead tr:only-child th {\n",
       "        text-align: right;\n",
       "    }\n",
       "\n",
       "    .dataframe thead th {\n",
       "        text-align: left;\n",
       "    }\n",
       "\n",
       "    .dataframe tbody tr th {\n",
       "        vertical-align: top;\n",
       "    }\n",
       "</style>\n",
       "<table border=\"1\" class=\"dataframe\">\n",
       "  <thead>\n",
       "    <tr style=\"text-align: right;\">\n",
       "      <th></th>\n",
       "      <th>Fáza</th>\n",
       "      <th>Vyváženie</th>\n",
       "      <th>S</th>\n",
       "      <th>P_0</th>\n",
       "      <th>P_1</th>\n",
       "      <th>P_2</th>\n",
       "      <th>P_3</th>\n",
       "      <th>Ú_0</th>\n",
       "      <th>Ú_1</th>\n",
       "      <th>Ú_2</th>\n",
       "      <th>Ú_3</th>\n",
       "      <th>F1_makro</th>\n",
       "    </tr>\n",
       "  </thead>\n",
       "  <tbody>\n",
       "    <tr>\n",
       "      <th>12</th>\n",
       "      <td>4</td>\n",
       "      <td>žiadne</td>\n",
       "      <td>0.92</td>\n",
       "      <td>0.98</td>\n",
       "      <td>0.85</td>\n",
       "      <td>0.83</td>\n",
       "      <td>0.96</td>\n",
       "      <td>0.99</td>\n",
       "      <td>0.82</td>\n",
       "      <td>0.89</td>\n",
       "      <td>0.86</td>\n",
       "      <td>0.90</td>\n",
       "    </tr>\n",
       "    <tr>\n",
       "      <th>13</th>\n",
       "      <td>4</td>\n",
       "      <td>váhovanie</td>\n",
       "      <td>0.92</td>\n",
       "      <td>0.98</td>\n",
       "      <td>0.81</td>\n",
       "      <td>0.84</td>\n",
       "      <td>0.96</td>\n",
       "      <td>0.98</td>\n",
       "      <td>0.87</td>\n",
       "      <td>0.88</td>\n",
       "      <td>0.86</td>\n",
       "      <td>0.90</td>\n",
       "    </tr>\n",
       "    <tr>\n",
       "      <th>14</th>\n",
       "      <td>4</td>\n",
       "      <td>nadvzorkovanie</td>\n",
       "      <td>0.92</td>\n",
       "      <td>0.98</td>\n",
       "      <td>0.84</td>\n",
       "      <td>0.84</td>\n",
       "      <td>0.96</td>\n",
       "      <td>0.99</td>\n",
       "      <td>0.84</td>\n",
       "      <td>0.88</td>\n",
       "      <td>0.87</td>\n",
       "      <td>0.90</td>\n",
       "    </tr>\n",
       "    <tr>\n",
       "      <th>15</th>\n",
       "      <td>4</td>\n",
       "      <td>podvzorkovanie</td>\n",
       "      <td>0.91</td>\n",
       "      <td>0.98</td>\n",
       "      <td>0.76</td>\n",
       "      <td>0.85</td>\n",
       "      <td>0.95</td>\n",
       "      <td>0.97</td>\n",
       "      <td>0.88</td>\n",
       "      <td>0.86</td>\n",
       "      <td>0.87</td>\n",
       "      <td>0.89</td>\n",
       "    </tr>\n",
       "    <tr>\n",
       "      <th>8</th>\n",
       "      <td>3</td>\n",
       "      <td>žiadne</td>\n",
       "      <td>0.85</td>\n",
       "      <td>0.96</td>\n",
       "      <td>0.70</td>\n",
       "      <td>0.69</td>\n",
       "      <td>0.88</td>\n",
       "      <td>0.99</td>\n",
       "      <td>0.66</td>\n",
       "      <td>0.75</td>\n",
       "      <td>0.77</td>\n",
       "      <td>0.80</td>\n",
       "    </tr>\n",
       "    <tr>\n",
       "      <th>9</th>\n",
       "      <td>3</td>\n",
       "      <td>váhovanie</td>\n",
       "      <td>0.84</td>\n",
       "      <td>0.96</td>\n",
       "      <td>0.67</td>\n",
       "      <td>0.69</td>\n",
       "      <td>0.87</td>\n",
       "      <td>0.98</td>\n",
       "      <td>0.71</td>\n",
       "      <td>0.73</td>\n",
       "      <td>0.76</td>\n",
       "      <td>0.80</td>\n",
       "    </tr>\n",
       "    <tr>\n",
       "      <th>10</th>\n",
       "      <td>3</td>\n",
       "      <td>nadvzorkovanie</td>\n",
       "      <td>0.84</td>\n",
       "      <td>0.96</td>\n",
       "      <td>0.67</td>\n",
       "      <td>0.69</td>\n",
       "      <td>0.87</td>\n",
       "      <td>0.99</td>\n",
       "      <td>0.69</td>\n",
       "      <td>0.72</td>\n",
       "      <td>0.76</td>\n",
       "      <td>0.79</td>\n",
       "    </tr>\n",
       "    <tr>\n",
       "      <th>11</th>\n",
       "      <td>3</td>\n",
       "      <td>podvzorkovanie</td>\n",
       "      <td>0.84</td>\n",
       "      <td>0.98</td>\n",
       "      <td>0.60</td>\n",
       "      <td>0.71</td>\n",
       "      <td>0.87</td>\n",
       "      <td>0.96</td>\n",
       "      <td>0.81</td>\n",
       "      <td>0.68</td>\n",
       "      <td>0.77</td>\n",
       "      <td>0.79</td>\n",
       "    </tr>\n",
       "    <tr>\n",
       "      <th>4</th>\n",
       "      <td>2</td>\n",
       "      <td>žiadne</td>\n",
       "      <td>0.81</td>\n",
       "      <td>0.92</td>\n",
       "      <td>0.60</td>\n",
       "      <td>0.66</td>\n",
       "      <td>0.87</td>\n",
       "      <td>0.98</td>\n",
       "      <td>0.52</td>\n",
       "      <td>0.72</td>\n",
       "      <td>0.77</td>\n",
       "      <td>0.75</td>\n",
       "    </tr>\n",
       "    <tr>\n",
       "      <th>5</th>\n",
       "      <td>2</td>\n",
       "      <td>váhovanie</td>\n",
       "      <td>0.81</td>\n",
       "      <td>0.93</td>\n",
       "      <td>0.55</td>\n",
       "      <td>0.67</td>\n",
       "      <td>0.88</td>\n",
       "      <td>0.97</td>\n",
       "      <td>0.58</td>\n",
       "      <td>0.68</td>\n",
       "      <td>0.78</td>\n",
       "      <td>0.75</td>\n",
       "    </tr>\n",
       "    <tr>\n",
       "      <th>6</th>\n",
       "      <td>2</td>\n",
       "      <td>nadvzorkovanie</td>\n",
       "      <td>0.81</td>\n",
       "      <td>0.93</td>\n",
       "      <td>0.56</td>\n",
       "      <td>0.66</td>\n",
       "      <td>0.87</td>\n",
       "      <td>0.98</td>\n",
       "      <td>0.56</td>\n",
       "      <td>0.69</td>\n",
       "      <td>0.77</td>\n",
       "      <td>0.75</td>\n",
       "    </tr>\n",
       "    <tr>\n",
       "      <th>7</th>\n",
       "      <td>2</td>\n",
       "      <td>podvzorkovanie</td>\n",
       "      <td>0.79</td>\n",
       "      <td>0.94</td>\n",
       "      <td>0.51</td>\n",
       "      <td>0.66</td>\n",
       "      <td>0.86</td>\n",
       "      <td>0.96</td>\n",
       "      <td>0.66</td>\n",
       "      <td>0.61</td>\n",
       "      <td>0.76</td>\n",
       "      <td>0.74</td>\n",
       "    </tr>\n",
       "    <tr>\n",
       "      <th>0</th>\n",
       "      <td>1</td>\n",
       "      <td>žiadne</td>\n",
       "      <td>0.76</td>\n",
       "      <td>0.87</td>\n",
       "      <td>0.53</td>\n",
       "      <td>0.60</td>\n",
       "      <td>0.79</td>\n",
       "      <td>0.97</td>\n",
       "      <td>0.41</td>\n",
       "      <td>0.60</td>\n",
       "      <td>0.73</td>\n",
       "      <td>0.68</td>\n",
       "    </tr>\n",
       "    <tr>\n",
       "      <th>2</th>\n",
       "      <td>1</td>\n",
       "      <td>oversampling</td>\n",
       "      <td>0.74</td>\n",
       "      <td>0.87</td>\n",
       "      <td>0.45</td>\n",
       "      <td>0.58</td>\n",
       "      <td>0.79</td>\n",
       "      <td>0.93</td>\n",
       "      <td>0.44</td>\n",
       "      <td>0.59</td>\n",
       "      <td>0.71</td>\n",
       "      <td>0.67</td>\n",
       "    </tr>\n",
       "    <tr>\n",
       "      <th>1</th>\n",
       "      <td>1</td>\n",
       "      <td>váhovanie</td>\n",
       "      <td>0.73</td>\n",
       "      <td>0.90</td>\n",
       "      <td>0.42</td>\n",
       "      <td>0.61</td>\n",
       "      <td>0.78</td>\n",
       "      <td>0.90</td>\n",
       "      <td>0.59</td>\n",
       "      <td>0.51</td>\n",
       "      <td>0.72</td>\n",
       "      <td>0.67</td>\n",
       "    </tr>\n",
       "    <tr>\n",
       "      <th>3</th>\n",
       "      <td>1</td>\n",
       "      <td>undersampling</td>\n",
       "      <td>0.72</td>\n",
       "      <td>0.90</td>\n",
       "      <td>0.40</td>\n",
       "      <td>0.59</td>\n",
       "      <td>0.77</td>\n",
       "      <td>0.89</td>\n",
       "      <td>0.60</td>\n",
       "      <td>0.47</td>\n",
       "      <td>0.71</td>\n",
       "      <td>0.66</td>\n",
       "    </tr>\n",
       "  </tbody>\n",
       "</table>\n",
       "</div>"
      ],
      "text/plain": [
       "    Fáza       Vyváženie     S   P_0   P_1   P_2   P_3   Ú_0   Ú_1   Ú_2  \\\n",
       "12     4          žiadne  0.92  0.98  0.85  0.83  0.96  0.99  0.82  0.89   \n",
       "13     4       váhovanie  0.92  0.98  0.81  0.84  0.96  0.98  0.87  0.88   \n",
       "14     4  nadvzorkovanie  0.92  0.98  0.84  0.84  0.96  0.99  0.84  0.88   \n",
       "15     4  podvzorkovanie  0.91  0.98  0.76  0.85  0.95  0.97  0.88  0.86   \n",
       "8      3          žiadne  0.85  0.96  0.70  0.69  0.88  0.99  0.66  0.75   \n",
       "9      3       váhovanie  0.84  0.96  0.67  0.69  0.87  0.98  0.71  0.73   \n",
       "10     3  nadvzorkovanie  0.84  0.96  0.67  0.69  0.87  0.99  0.69  0.72   \n",
       "11     3  podvzorkovanie  0.84  0.98  0.60  0.71  0.87  0.96  0.81  0.68   \n",
       "4      2          žiadne  0.81  0.92  0.60  0.66  0.87  0.98  0.52  0.72   \n",
       "5      2       váhovanie  0.81  0.93  0.55  0.67  0.88  0.97  0.58  0.68   \n",
       "6      2  nadvzorkovanie  0.81  0.93  0.56  0.66  0.87  0.98  0.56  0.69   \n",
       "7      2  podvzorkovanie  0.79  0.94  0.51  0.66  0.86  0.96  0.66  0.61   \n",
       "0      1          žiadne  0.76  0.87  0.53  0.60  0.79  0.97  0.41  0.60   \n",
       "2      1    oversampling  0.74  0.87  0.45  0.58  0.79  0.93  0.44  0.59   \n",
       "1      1       váhovanie  0.73  0.90  0.42  0.61  0.78  0.90  0.59  0.51   \n",
       "3      1   undersampling  0.72  0.90  0.40  0.59  0.77  0.89  0.60  0.47   \n",
       "\n",
       "     Ú_3  F1_makro  \n",
       "12  0.86      0.90  \n",
       "13  0.86      0.90  \n",
       "14  0.87      0.90  \n",
       "15  0.87      0.89  \n",
       "8   0.77      0.80  \n",
       "9   0.76      0.80  \n",
       "10  0.76      0.79  \n",
       "11  0.77      0.79  \n",
       "4   0.77      0.75  \n",
       "5   0.78      0.75  \n",
       "6   0.77      0.75  \n",
       "7   0.76      0.74  \n",
       "0   0.73      0.68  \n",
       "2   0.71      0.67  \n",
       "1   0.72      0.67  \n",
       "3   0.71      0.66  "
      ]
     },
     "execution_count": 202,
     "metadata": {},
     "output_type": "execute_result"
    }
   ],
   "source": [
    "df_results[['Fáza','Vyváženie','S','P_0','P_1','P_2','P_3','Ú_0','Ú_1','Ú_2','Ú_3', 'F1_makro']] \\\n",
    ".sort_values(by=['Fáza', 'S', 'F1_makro'], ascending=False)"
   ]
  },
  {
   "cell_type": "code",
   "execution_count": 203,
   "metadata": {},
   "outputs": [
    {
     "data": {
      "text/plain": [
       "GradientBoostingClassifier(criterion='friedman_mse', init=None,\n",
       "              learning_rate=0.12, loss='deviance', max_depth=3,\n",
       "              max_features=None, max_leaf_nodes=None,\n",
       "              min_impurity_decrease=0.0, min_impurity_split=None,\n",
       "              min_samples_leaf=1, min_samples_split=2,\n",
       "              min_weight_fraction_leaf=0.0, n_estimators=150,\n",
       "              presort='auto', random_state=64, subsample=1.0, verbose=0,\n",
       "              warm_start=False)"
      ]
     },
     "execution_count": 203,
     "metadata": {},
     "output_type": "execute_result"
    }
   ],
   "source": [
    "best = best_unbalanced\n",
    "best"
   ]
  },
  {
   "cell_type": "code",
   "execution_count": 204,
   "metadata": {
    "scrolled": false
   },
   "outputs": [
    {
     "data": {
      "text/html": [
       "<div>\n",
       "<style>\n",
       "    .dataframe thead tr:only-child th {\n",
       "        text-align: right;\n",
       "    }\n",
       "\n",
       "    .dataframe thead th {\n",
       "        text-align: left;\n",
       "    }\n",
       "\n",
       "    .dataframe tbody tr th {\n",
       "        vertical-align: top;\n",
       "    }\n",
       "</style>\n",
       "<table border=\"1\" class=\"dataframe\">\n",
       "  <thead>\n",
       "    <tr style=\"text-align: right;\">\n",
       "      <th></th>\n",
       "      <th>názov črty</th>\n",
       "      <th>dôležitosť</th>\n",
       "    </tr>\n",
       "  </thead>\n",
       "  <tbody>\n",
       "    <tr>\n",
       "      <th>3</th>\n",
       "      <td>ratio_pledged_goal</td>\n",
       "      <td>0.277490</td>\n",
       "    </tr>\n",
       "    <tr>\n",
       "      <th>31</th>\n",
       "      <td>LDA_10</td>\n",
       "      <td>0.031919</td>\n",
       "    </tr>\n",
       "    <tr>\n",
       "      <th>20</th>\n",
       "      <td>LSA_16</td>\n",
       "      <td>0.029350</td>\n",
       "    </tr>\n",
       "    <tr>\n",
       "      <th>25</th>\n",
       "      <td>LDA_1</td>\n",
       "      <td>0.028414</td>\n",
       "    </tr>\n",
       "    <tr>\n",
       "      <th>28</th>\n",
       "      <td>LDA_4</td>\n",
       "      <td>0.027534</td>\n",
       "    </tr>\n",
       "    <tr>\n",
       "      <th>17</th>\n",
       "      <td>LSA_12</td>\n",
       "      <td>0.025423</td>\n",
       "    </tr>\n",
       "    <tr>\n",
       "      <th>37</th>\n",
       "      <td>LDA_21</td>\n",
       "      <td>0.025054</td>\n",
       "    </tr>\n",
       "    <tr>\n",
       "      <th>4</th>\n",
       "      <td>ratio_running_duration</td>\n",
       "      <td>0.024451</td>\n",
       "    </tr>\n",
       "    <tr>\n",
       "      <th>5</th>\n",
       "      <td>usd_goal</td>\n",
       "      <td>0.022782</td>\n",
       "    </tr>\n",
       "    <tr>\n",
       "      <th>0</th>\n",
       "      <td>average_pledge</td>\n",
       "      <td>0.022484</td>\n",
       "    </tr>\n",
       "    <tr>\n",
       "      <th>27</th>\n",
       "      <td>LDA_3</td>\n",
       "      <td>0.022113</td>\n",
       "    </tr>\n",
       "    <tr>\n",
       "      <th>26</th>\n",
       "      <td>LDA_2</td>\n",
       "      <td>0.021315</td>\n",
       "    </tr>\n",
       "    <tr>\n",
       "      <th>15</th>\n",
       "      <td>LSA_10</td>\n",
       "      <td>0.020844</td>\n",
       "    </tr>\n",
       "    <tr>\n",
       "      <th>36</th>\n",
       "      <td>LDA_19</td>\n",
       "      <td>0.020688</td>\n",
       "    </tr>\n",
       "    <tr>\n",
       "      <th>34</th>\n",
       "      <td>LDA_17</td>\n",
       "      <td>0.019920</td>\n",
       "    </tr>\n",
       "    <tr>\n",
       "      <th>12</th>\n",
       "      <td>LSA_4</td>\n",
       "      <td>0.018827</td>\n",
       "    </tr>\n",
       "    <tr>\n",
       "      <th>14</th>\n",
       "      <td>LSA_6</td>\n",
       "      <td>0.018499</td>\n",
       "    </tr>\n",
       "    <tr>\n",
       "      <th>18</th>\n",
       "      <td>LSA_13</td>\n",
       "      <td>0.018379</td>\n",
       "    </tr>\n",
       "    <tr>\n",
       "      <th>30</th>\n",
       "      <td>LDA_9</td>\n",
       "      <td>0.018029</td>\n",
       "    </tr>\n",
       "    <tr>\n",
       "      <th>16</th>\n",
       "      <td>LSA_11</td>\n",
       "      <td>0.017719</td>\n",
       "    </tr>\n",
       "    <tr>\n",
       "      <th>22</th>\n",
       "      <td>LSA_20</td>\n",
       "      <td>0.017706</td>\n",
       "    </tr>\n",
       "    <tr>\n",
       "      <th>35</th>\n",
       "      <td>LDA_18</td>\n",
       "      <td>0.017092</td>\n",
       "    </tr>\n",
       "    <tr>\n",
       "      <th>2</th>\n",
       "      <td>pledged</td>\n",
       "      <td>0.017088</td>\n",
       "    </tr>\n",
       "    <tr>\n",
       "      <th>38</th>\n",
       "      <td>LDA_22</td>\n",
       "      <td>0.017057</td>\n",
       "    </tr>\n",
       "    <tr>\n",
       "      <th>19</th>\n",
       "      <td>LSA_15</td>\n",
       "      <td>0.016932</td>\n",
       "    </tr>\n",
       "    <tr>\n",
       "      <th>13</th>\n",
       "      <td>LSA_5</td>\n",
       "      <td>0.016695</td>\n",
       "    </tr>\n",
       "    <tr>\n",
       "      <th>24</th>\n",
       "      <td>LDA_0</td>\n",
       "      <td>0.016579</td>\n",
       "    </tr>\n",
       "    <tr>\n",
       "      <th>6</th>\n",
       "      <td>usd_pledged</td>\n",
       "      <td>0.016431</td>\n",
       "    </tr>\n",
       "    <tr>\n",
       "      <th>32</th>\n",
       "      <td>LDA_11</td>\n",
       "      <td>0.016309</td>\n",
       "    </tr>\n",
       "    <tr>\n",
       "      <th>39</th>\n",
       "      <td>LDA_24</td>\n",
       "      <td>0.015985</td>\n",
       "    </tr>\n",
       "    <tr>\n",
       "      <th>23</th>\n",
       "      <td>LSA_24</td>\n",
       "      <td>0.014896</td>\n",
       "    </tr>\n",
       "    <tr>\n",
       "      <th>33</th>\n",
       "      <td>LDA_14</td>\n",
       "      <td>0.014430</td>\n",
       "    </tr>\n",
       "    <tr>\n",
       "      <th>29</th>\n",
       "      <td>LDA_6</td>\n",
       "      <td>0.014203</td>\n",
       "    </tr>\n",
       "    <tr>\n",
       "      <th>11</th>\n",
       "      <td>LSA_1</td>\n",
       "      <td>0.013985</td>\n",
       "    </tr>\n",
       "    <tr>\n",
       "      <th>8</th>\n",
       "      <td>deadline_day</td>\n",
       "      <td>0.012294</td>\n",
       "    </tr>\n",
       "    <tr>\n",
       "      <th>21</th>\n",
       "      <td>LSA_18</td>\n",
       "      <td>0.012101</td>\n",
       "    </tr>\n",
       "    <tr>\n",
       "      <th>10</th>\n",
       "      <td>audio_count</td>\n",
       "      <td>0.010838</td>\n",
       "    </tr>\n",
       "    <tr>\n",
       "      <th>1</th>\n",
       "      <td>backers_count</td>\n",
       "      <td>0.010693</td>\n",
       "    </tr>\n",
       "    <tr>\n",
       "      <th>9</th>\n",
       "      <td>image_count</td>\n",
       "      <td>0.010346</td>\n",
       "    </tr>\n",
       "    <tr>\n",
       "      <th>7</th>\n",
       "      <td>comments_count_public_while_scraping</td>\n",
       "      <td>0.007105</td>\n",
       "    </tr>\n",
       "  </tbody>\n",
       "</table>\n",
       "</div>"
      ],
      "text/plain": [
       "                              názov črty  dôležitosť\n",
       "3                     ratio_pledged_goal    0.277490\n",
       "31                                LDA_10    0.031919\n",
       "20                                LSA_16    0.029350\n",
       "25                                 LDA_1    0.028414\n",
       "28                                 LDA_4    0.027534\n",
       "17                                LSA_12    0.025423\n",
       "37                                LDA_21    0.025054\n",
       "4                 ratio_running_duration    0.024451\n",
       "5                               usd_goal    0.022782\n",
       "0                         average_pledge    0.022484\n",
       "27                                 LDA_3    0.022113\n",
       "26                                 LDA_2    0.021315\n",
       "15                                LSA_10    0.020844\n",
       "36                                LDA_19    0.020688\n",
       "34                                LDA_17    0.019920\n",
       "12                                 LSA_4    0.018827\n",
       "14                                 LSA_6    0.018499\n",
       "18                                LSA_13    0.018379\n",
       "30                                 LDA_9    0.018029\n",
       "16                                LSA_11    0.017719\n",
       "22                                LSA_20    0.017706\n",
       "35                                LDA_18    0.017092\n",
       "2                                pledged    0.017088\n",
       "38                                LDA_22    0.017057\n",
       "19                                LSA_15    0.016932\n",
       "13                                 LSA_5    0.016695\n",
       "24                                 LDA_0    0.016579\n",
       "6                            usd_pledged    0.016431\n",
       "32                                LDA_11    0.016309\n",
       "39                                LDA_24    0.015985\n",
       "23                                LSA_24    0.014896\n",
       "33                                LDA_14    0.014430\n",
       "29                                 LDA_6    0.014203\n",
       "11                                 LSA_1    0.013985\n",
       "8                           deadline_day    0.012294\n",
       "21                                LSA_18    0.012101\n",
       "10                           audio_count    0.010838\n",
       "1                          backers_count    0.010693\n",
       "9                            image_count    0.010346\n",
       "7   comments_count_public_while_scraping    0.007105"
      ]
     },
     "execution_count": 204,
     "metadata": {},
     "output_type": "execute_result"
    }
   ],
   "source": [
    "importances = pd.DataFrame()\n",
    "for i, name, importance in zip(range(len(features.columns)), features.columns, best.feature_importances_):\n",
    "    importances.loc[i, 'názov črty'] = name\n",
    "    importances.loc[i, 'dôležitosť'] = importance\n",
    "    \n",
    "importances.sort_values(by='dôležitosť', ascending=False).to_csv('results/importances'+ str(phase_num) +'.csv')\n",
    "importances.sort_values(by='dôležitosť', ascending=False)"
   ]
  },
  {
   "cell_type": "markdown",
   "metadata": {},
   "source": [
    "### Save confusion matrices"
   ]
  },
  {
   "cell_type": "code",
   "execution_count": 205,
   "metadata": {},
   "outputs": [
    {
     "data": {
      "image/png": "[encoded data removed]",
      "text/plain": [
       "<matplotlib.figure.Figure at 0x1b64c2c2048>"
      ]
     },
     "metadata": {},
     "output_type": "display_data"
    }
   ],
   "source": [
    "sns.set(style='whitegrid')\n",
    "fig, ax = plt.subplots(nrows=2, ncols=2, sharex=False, sharey=False, figsize=(10, 8))\n",
    "\n",
    "sns.heatmap(metrics.confusion_matrix(labelsCV, best_unbalanced.predict(featuresCV)), annot=True, fmt='g', annot_kws={\"size\": 16}, ax=ax[0][0])\n",
    "ax[0][0].set(xlabel='', ylabel='', title='bez vyvažovania')\n",
    "\n",
    "sns.heatmap(metrics.confusion_matrix(labelsCV, best_weighted.predict(featuresCV)), annot=True, fmt='g', annot_kws={\"size\": 16}, ax=ax[0][1])\n",
    "ax[0][1].set(xlabel='', ylabel='', title='váhovanie')\n",
    "\n",
    "sns.heatmap(metrics.confusion_matrix(labelsCV, best_oversampled.predict(featuresCV)), annot=True, fmt='g', annot_kws={\"size\": 16}, ax=ax[1][0])\n",
    "ax[1][0].set(xlabel='', ylabel='', title='nadvzorkovanie')\n",
    "\n",
    "sns.heatmap(metrics.confusion_matrix(labelsCV, best_undersampled.predict(featuresCV)), annot=True, fmt='g', annot_kws={\"size\": 16}, ax=ax[1][1])\n",
    "ax[1][1].set(xlabel='', ylabel='', title='podvzorkovanie')\n",
    "\n",
    "fig.savefig('img/matrices4.png', dpi=400)"
   ]
  },
  {
   "cell_type": "code",
   "execution_count": 206,
   "metadata": {
    "collapsed": true
   },
   "outputs": [],
   "source": [
    "df_results[['Fáza','Vyváženie','S','P_0','P_1','P_2','P_3','Ú_0','Ú_1','Ú_2','Ú_3', 'F1_makro']].to_csv('results/final.csv')"
   ]
  },
  {
   "cell_type": "code",
   "execution_count": null,
   "metadata": {
    "collapsed": true
   },
   "outputs": [],
   "source": []
  },
  {
   "cell_type": "markdown",
   "metadata": {},
   "source": [
    "# Experiments"
   ]
  },
  {
   "cell_type": "markdown",
   "metadata": {},
   "source": [
    "## 0-5% of campaign duration"
   ]
  },
  {
   "cell_type": "code",
   "execution_count": 207,
   "metadata": {},
   "outputs": [
    {
     "data": {
      "text/plain": [
       "(1570, 151)"
      ]
     },
     "execution_count": 207,
     "metadata": {},
     "output_type": "execute_result"
    }
   ],
   "source": [
    "features = pd.read_csv('data/final/train.csv', index_col=0)\n",
    "df = pd.read_csv('data/final/test.csv', index_col=0)\n",
    "features = features.append(df, ignore_index=True)\n",
    "\n",
    "features = features[features['ratio_running_duration'] < 5]\n",
    "\n",
    "labels = features['class']\n",
    "features = features.drop('class', axis=1)\n",
    "\n",
    "features.shape"
   ]
  },
  {
   "cell_type": "code",
   "execution_count": 208,
   "metadata": {},
   "outputs": [
    {
     "data": {
      "text/plain": [
       "(432, 151)"
      ]
     },
     "execution_count": 208,
     "metadata": {},
     "output_type": "execute_result"
    }
   ],
   "source": [
    "featuresCV = pd.read_csv('data/final/cv.csv', index_col=0)\n",
    "\n",
    "featuresCV = featuresCV[featuresCV['ratio_running_duration'] < 5]\n",
    "\n",
    "labelsCV = featuresCV['class']\n",
    "featuresCV = featuresCV.drop('class', axis=1)\n",
    "\n",
    "featuresCV.shape"
   ]
  },
  {
   "cell_type": "markdown",
   "metadata": {},
   "source": [
    "### Feature selection"
   ]
  },
  {
   "cell_type": "code",
   "execution_count": 209,
   "metadata": {},
   "outputs": [],
   "source": [
    "# use features selected for 0-25%\n",
    "\n",
    "selected_features = ['average_pledge',\n",
    " 'backers_count',\n",
    " 'category_position',\n",
    " 'days_duration',\n",
    " 'days_preparation',\n",
    " 'days_remaining',\n",
    " 'days_running',\n",
    " 'pledged',\n",
    " 'ratio_pledged_goal',\n",
    " 'ratio_running_duration',\n",
    " 'usd_goal',\n",
    " 'usd_pledged',\n",
    " 'comments_count_public_while_scraping',\n",
    " 'updates_likes_sum_while_scraping',\n",
    " 'updates_likes_max_while_scraping',\n",
    " 'deadline_day',\n",
    " 'deadline_hour',\n",
    " 'launch_month',\n",
    " 'launch_day',\n",
    " 'launch_hour',\n",
    " 'image_count',\n",
    " 'blurb_words',\n",
    " 'category_parent_fashion',\n",
    " 'location_type_Miscellaneous',\n",
    " 'LSA_0',\n",
    " 'LSA_1',\n",
    " 'LSA_2',\n",
    " 'LSA_3',\n",
    " 'LSA_4',\n",
    " 'LSA_5',\n",
    " 'LSA_6',\n",
    " 'LSA_7',\n",
    " 'LSA_8',\n",
    " 'LSA_9',\n",
    " 'LSA_10',\n",
    " 'LSA_11',\n",
    " 'LSA_12',\n",
    " 'LSA_13',\n",
    " 'LSA_14',\n",
    " 'LSA_15',\n",
    " 'LSA_16',\n",
    " 'LSA_17',\n",
    " 'LSA_18',\n",
    " 'LSA_19',\n",
    " 'LSA_20',\n",
    " 'LSA_21',\n",
    " 'LSA_22',\n",
    " 'LSA_23',\n",
    " 'LSA_24',\n",
    " 'LDA_0',\n",
    " 'LDA_1',\n",
    " 'LDA_2',\n",
    " 'LDA_3',\n",
    " 'LDA_4',\n",
    " 'LDA_5',\n",
    " 'LDA_6',\n",
    " 'LDA_7',\n",
    " 'LDA_8',\n",
    " 'LDA_9',\n",
    " 'LDA_10',\n",
    " 'LDA_11',\n",
    " 'LDA_12',\n",
    " 'LDA_13',\n",
    " 'LDA_14',\n",
    " 'LDA_15',\n",
    " 'LDA_16',\n",
    " 'LDA_17',\n",
    " 'LDA_18',\n",
    " 'LDA_19',\n",
    " 'LDA_20',\n",
    " 'LDA_21',\n",
    " 'LDA_22',\n",
    " 'LDA_23',\n",
    " 'LDA_24']"
   ]
  },
  {
   "cell_type": "code",
   "execution_count": 210,
   "metadata": {},
   "outputs": [
    {
     "data": {
      "text/plain": [
       "(1570, 74)"
      ]
     },
     "execution_count": 210,
     "metadata": {},
     "output_type": "execute_result"
    }
   ],
   "source": [
    "features = features[selected_features]\n",
    "features.shape"
   ]
  },
  {
   "cell_type": "code",
   "execution_count": 211,
   "metadata": {},
   "outputs": [
    {
     "data": {
      "text/plain": [
       "(432, 74)"
      ]
     },
     "execution_count": 211,
     "metadata": {},
     "output_type": "execute_result"
    }
   ],
   "source": [
    "featuresCV = featuresCV[selected_features]\n",
    "featuresCV.shape"
   ]
  },
  {
   "cell_type": "code",
   "execution_count": 212,
   "metadata": {},
   "outputs": [
    {
     "data": {
      "text/plain": [
       "True    74\n",
       "dtype: int64"
      ]
     },
     "execution_count": 212,
     "metadata": {},
     "output_type": "execute_result"
    }
   ],
   "source": [
    "pd.Series(features.columns == featuresCV.columns).value_counts()"
   ]
  },
  {
   "cell_type": "markdown",
   "metadata": {},
   "source": [
    "### Training"
   ]
  },
  {
   "cell_type": "markdown",
   "metadata": {},
   "source": [
    "#### Unbalanced"
   ]
  },
  {
   "cell_type": "code",
   "execution_count": 213,
   "metadata": {
    "collapsed": true
   },
   "outputs": [],
   "source": [
    "gs = GridSearchCV(GradientBoostingClassifier(), params, scoring='accuracy', cv=5, n_jobs=-1, error_score=0)"
   ]
  },
  {
   "cell_type": "code",
   "execution_count": 214,
   "metadata": {},
   "outputs": [
    {
     "name": "stdout",
     "output_type": "stream",
     "text": [
      "Wall time: 10min 2s\n"
     ]
    },
    {
     "data": {
      "text/plain": [
       "GridSearchCV(cv=5, error_score=0,\n",
       "       estimator=GradientBoostingClassifier(criterion='friedman_mse', init=None,\n",
       "              learning_rate=0.1, loss='deviance', max_depth=3,\n",
       "              max_features=None, max_leaf_nodes=None,\n",
       "              min_impurity_decrease=0.0, min_impurity_split=None,\n",
       "              min_samples_leaf=1, min_samples_split=2,\n",
       "              min_weight_fraction_leaf=0.0, n_estimators=100,\n",
       "              presort='auto', random_state=None, subsample=1.0, verbose=0,\n",
       "              warm_start=False),\n",
       "       fit_params=None, iid=True, n_jobs=-1,\n",
       "       param_grid={'learning_rate': [0.12, 0.1, 0.08, 0.01, 0.2], 'n_estimators': [150, 100, 50], 'max_depth': [1, 2, 3, 4, 5], 'random_state': [64]},\n",
       "       pre_dispatch='2*n_jobs', refit=True, return_train_score='warn',\n",
       "       scoring='accuracy', verbose=0)"
      ]
     },
     "execution_count": 214,
     "metadata": {},
     "output_type": "execute_result"
    }
   ],
   "source": [
    "%%time\n",
    "gs.fit(features, labels)"
   ]
  },
  {
   "cell_type": "code",
   "execution_count": 215,
   "metadata": {},
   "outputs": [
    {
     "name": "stderr",
     "output_type": "stream",
     "text": [
      "C:\\Users\\Patrik\\Anaconda3\\lib\\site-packages\\sklearn\\model_selection\\_search.py:761: DeprecationWarning: The grid_scores_ attribute was deprecated in version 0.18 in favor of the more elaborate cv_results_ attribute. The grid_scores_ attribute will not be available from 0.20\n",
      "  DeprecationWarning)\n"
     ]
    },
    {
     "data": {
      "text/plain": [
       "[mean: 0.68025, std: 0.01530, params: {'learning_rate': 0.12, 'max_depth': 1, 'n_estimators': 150, 'random_state': 64},\n",
       " mean: 0.67771, std: 0.01862, params: {'learning_rate': 0.12, 'max_depth': 1, 'n_estimators': 100, 'random_state': 64},\n",
       " mean: 0.67771, std: 0.02000, params: {'learning_rate': 0.1, 'max_depth': 1, 'n_estimators': 150, 'random_state': 64},\n",
       " mean: 0.67771, std: 0.01999, params: {'learning_rate': 0.1, 'max_depth': 1, 'n_estimators': 100, 'random_state': 64},\n",
       " mean: 0.67771, std: 0.01635, params: {'learning_rate': 0.2, 'max_depth': 1, 'n_estimators': 100, 'random_state': 64},\n",
       " mean: 0.67771, std: 0.01650, params: {'learning_rate': 0.2, 'max_depth': 1, 'n_estimators': 50, 'random_state': 64},\n",
       " mean: 0.67643, std: 0.01931, params: {'learning_rate': 0.08, 'max_depth': 1, 'n_estimators': 150, 'random_state': 64},\n",
       " mean: 0.67580, std: 0.01837, params: {'learning_rate': 0.08, 'max_depth': 1, 'n_estimators': 100, 'random_state': 64},\n",
       " mean: 0.67516, std: 0.02820, params: {'learning_rate': 0.12, 'max_depth': 2, 'n_estimators': 100, 'random_state': 64},\n",
       " mean: 0.67516, std: 0.01267, params: {'learning_rate': 0.2, 'max_depth': 1, 'n_estimators': 150, 'random_state': 64}]"
      ]
     },
     "execution_count": 215,
     "metadata": {},
     "output_type": "execute_result"
    }
   ],
   "source": [
    "sorted(gs.grid_scores_, key=lambda x: x.mean_validation_score, reverse=True)[:10]"
   ]
  },
  {
   "cell_type": "code",
   "execution_count": 216,
   "metadata": {},
   "outputs": [
    {
     "data": {
      "text/plain": [
       "GradientBoostingClassifier(criterion='friedman_mse', init=None,\n",
       "              learning_rate=0.12, loss='deviance', max_depth=1,\n",
       "              max_features=None, max_leaf_nodes=None,\n",
       "              min_impurity_decrease=0.0, min_impurity_split=None,\n",
       "              min_samples_leaf=1, min_samples_split=2,\n",
       "              min_weight_fraction_leaf=0.0, n_estimators=150,\n",
       "              presort='auto', random_state=64, subsample=1.0, verbose=0,\n",
       "              warm_start=False)"
      ]
     },
     "execution_count": 216,
     "metadata": {},
     "output_type": "execute_result"
    }
   ],
   "source": [
    "best_unbalanced = gs.best_estimator_\n",
    "best_unbalanced"
   ]
  },
  {
   "cell_type": "code",
   "execution_count": 217,
   "metadata": {},
   "outputs": [
    {
     "name": "stdout",
     "output_type": "stream",
     "text": [
      "accuracy:  0.666666666667\n",
      "\n",
      "             precision    recall  f1-score   support\n",
      "\n",
      "          1       0.78      0.92      0.85       182\n",
      "          2       0.26      0.17      0.20        42\n",
      "          3       0.49      0.47      0.48       104\n",
      "          4       0.71      0.62      0.66       104\n",
      "\n",
      "avg / total       0.64      0.67      0.65       432\n",
      "\n",
      "macro precision:  0.560441429802\n",
      "micro precision:  0.666666666667\n",
      "\n",
      "micro recall:  0.666666666667\n",
      "macro recall:  0.544070512821\n",
      "\n",
      "micro f1:  0.666666666667\n",
      "macro f1:  0.547358032268\n"
     ]
    },
    {
     "data": {
      "image/png": "[encoded data removed]",
      "text/plain": [
       "<matplotlib.figure.Figure at 0x1b64d3d4908>"
      ]
     },
     "metadata": {},
     "output_type": "display_data"
    }
   ],
   "source": [
    "print_metrics(best_unbalanced, featuresCV, labelsCV, 'žiadne', '0-5')"
   ]
  },
  {
   "cell_type": "markdown",
   "metadata": {},
   "source": [
    "## 5-10% of campaign duration"
   ]
  },
  {
   "cell_type": "code",
   "execution_count": 218,
   "metadata": {},
   "outputs": [
    {
     "data": {
      "text/plain": [
       "(975, 151)"
      ]
     },
     "execution_count": 218,
     "metadata": {},
     "output_type": "execute_result"
    }
   ],
   "source": [
    "features = pd.read_csv('data/final/train.csv', index_col=0)\n",
    "df = pd.read_csv('data/final/test.csv', index_col=0)\n",
    "features = features.append(df, ignore_index=True)\n",
    "\n",
    "features = features[(features['ratio_running_duration'] < 10) & (features['ratio_running_duration'] >= 5)]\n",
    "\n",
    "labels = features['class']\n",
    "features = features.drop('class', axis=1)\n",
    "\n",
    "features.shape"
   ]
  },
  {
   "cell_type": "code",
   "execution_count": 219,
   "metadata": {},
   "outputs": [
    {
     "data": {
      "text/plain": [
       "(260, 151)"
      ]
     },
     "execution_count": 219,
     "metadata": {},
     "output_type": "execute_result"
    }
   ],
   "source": [
    "featuresCV = pd.read_csv('data/final/cv.csv', index_col=0)\n",
    "\n",
    "featuresCV = featuresCV[(featuresCV['ratio_running_duration'] < 10) & (featuresCV['ratio_running_duration'] >= 5)]\n",
    "\n",
    "labelsCV = featuresCV['class']\n",
    "featuresCV = featuresCV.drop('class', axis=1)\n",
    "\n",
    "featuresCV.shape"
   ]
  },
  {
   "cell_type": "markdown",
   "metadata": {},
   "source": [
    "### Feature selection"
   ]
  },
  {
   "cell_type": "code",
   "execution_count": 220,
   "metadata": {
    "collapsed": true
   },
   "outputs": [],
   "source": [
    "# use features selected for 0-25%\n",
    "\n",
    "selected_features = ['average_pledge',\n",
    " 'backers_count',\n",
    " 'category_position',\n",
    " 'days_duration',\n",
    " 'days_preparation',\n",
    " 'days_remaining',\n",
    " 'days_running',\n",
    " 'pledged',\n",
    " 'ratio_pledged_goal',\n",
    " 'ratio_running_duration',\n",
    " 'usd_goal',\n",
    " 'usd_pledged',\n",
    " 'comments_count_public_while_scraping',\n",
    " 'updates_likes_sum_while_scraping',\n",
    " 'updates_likes_max_while_scraping',\n",
    " 'deadline_day',\n",
    " 'deadline_hour',\n",
    " 'launch_month',\n",
    " 'launch_day',\n",
    " 'launch_hour',\n",
    " 'image_count',\n",
    " 'blurb_words',\n",
    " 'category_parent_fashion',\n",
    " 'location_type_Miscellaneous',\n",
    " 'LSA_0',\n",
    " 'LSA_1',\n",
    " 'LSA_2',\n",
    " 'LSA_3',\n",
    " 'LSA_4',\n",
    " 'LSA_5',\n",
    " 'LSA_6',\n",
    " 'LSA_7',\n",
    " 'LSA_8',\n",
    " 'LSA_9',\n",
    " 'LSA_10',\n",
    " 'LSA_11',\n",
    " 'LSA_12',\n",
    " 'LSA_13',\n",
    " 'LSA_14',\n",
    " 'LSA_15',\n",
    " 'LSA_16',\n",
    " 'LSA_17',\n",
    " 'LSA_18',\n",
    " 'LSA_19',\n",
    " 'LSA_20',\n",
    " 'LSA_21',\n",
    " 'LSA_22',\n",
    " 'LSA_23',\n",
    " 'LSA_24',\n",
    " 'LDA_0',\n",
    " 'LDA_1',\n",
    " 'LDA_2',\n",
    " 'LDA_3',\n",
    " 'LDA_4',\n",
    " 'LDA_5',\n",
    " 'LDA_6',\n",
    " 'LDA_7',\n",
    " 'LDA_8',\n",
    " 'LDA_9',\n",
    " 'LDA_10',\n",
    " 'LDA_11',\n",
    " 'LDA_12',\n",
    " 'LDA_13',\n",
    " 'LDA_14',\n",
    " 'LDA_15',\n",
    " 'LDA_16',\n",
    " 'LDA_17',\n",
    " 'LDA_18',\n",
    " 'LDA_19',\n",
    " 'LDA_20',\n",
    " 'LDA_21',\n",
    " 'LDA_22',\n",
    " 'LDA_23',\n",
    " 'LDA_24']"
   ]
  },
  {
   "cell_type": "code",
   "execution_count": 221,
   "metadata": {},
   "outputs": [
    {
     "data": {
      "text/plain": [
       "(975, 74)"
      ]
     },
     "execution_count": 221,
     "metadata": {},
     "output_type": "execute_result"
    }
   ],
   "source": [
    "features = features[selected_features]\n",
    "features.shape"
   ]
  },
  {
   "cell_type": "code",
   "execution_count": 222,
   "metadata": {},
   "outputs": [
    {
     "data": {
      "text/plain": [
       "(260, 74)"
      ]
     },
     "execution_count": 222,
     "metadata": {},
     "output_type": "execute_result"
    }
   ],
   "source": [
    "featuresCV = featuresCV[selected_features]\n",
    "featuresCV.shape"
   ]
  },
  {
   "cell_type": "code",
   "execution_count": 223,
   "metadata": {},
   "outputs": [
    {
     "data": {
      "text/plain": [
       "True    74\n",
       "dtype: int64"
      ]
     },
     "execution_count": 223,
     "metadata": {},
     "output_type": "execute_result"
    }
   ],
   "source": [
    "pd.Series(features.columns == featuresCV.columns).value_counts()"
   ]
  },
  {
   "cell_type": "markdown",
   "metadata": {},
   "source": [
    "### Training"
   ]
  },
  {
   "cell_type": "markdown",
   "metadata": {},
   "source": [
    "#### Unbalanced"
   ]
  },
  {
   "cell_type": "code",
   "execution_count": 224,
   "metadata": {
    "collapsed": true
   },
   "outputs": [],
   "source": [
    "gs = GridSearchCV(GradientBoostingClassifier(), params, scoring='accuracy', cv=5, n_jobs=-1, error_score=0)"
   ]
  },
  {
   "cell_type": "code",
   "execution_count": 225,
   "metadata": {},
   "outputs": [
    {
     "name": "stdout",
     "output_type": "stream",
     "text": [
      "Wall time: 6min 44s\n"
     ]
    },
    {
     "data": {
      "text/plain": [
       "GridSearchCV(cv=5, error_score=0,\n",
       "       estimator=GradientBoostingClassifier(criterion='friedman_mse', init=None,\n",
       "              learning_rate=0.1, loss='deviance', max_depth=3,\n",
       "              max_features=None, max_leaf_nodes=None,\n",
       "              min_impurity_decrease=0.0, min_impurity_split=None,\n",
       "              min_samples_leaf=1, min_samples_split=2,\n",
       "              min_weight_fraction_leaf=0.0, n_estimators=100,\n",
       "              presort='auto', random_state=None, subsample=1.0, verbose=0,\n",
       "              warm_start=False),\n",
       "       fit_params=None, iid=True, n_jobs=-1,\n",
       "       param_grid={'learning_rate': [0.12, 0.1, 0.08, 0.01, 0.2], 'n_estimators': [150, 100, 50], 'max_depth': [1, 2, 3, 4, 5], 'random_state': [64]},\n",
       "       pre_dispatch='2*n_jobs', refit=True, return_train_score='warn',\n",
       "       scoring='accuracy', verbose=0)"
      ]
     },
     "execution_count": 225,
     "metadata": {},
     "output_type": "execute_result"
    }
   ],
   "source": [
    "%%time\n",
    "gs.fit(features, labels)"
   ]
  },
  {
   "cell_type": "code",
   "execution_count": 226,
   "metadata": {},
   "outputs": [
    {
     "name": "stderr",
     "output_type": "stream",
     "text": [
      "C:\\Users\\Patrik\\Anaconda3\\lib\\site-packages\\sklearn\\model_selection\\_search.py:761: DeprecationWarning: The grid_scores_ attribute was deprecated in version 0.18 in favor of the more elaborate cv_results_ attribute. The grid_scores_ attribute will not be available from 0.20\n",
      "  DeprecationWarning)\n"
     ]
    },
    {
     "data": {
      "text/plain": [
       "[mean: 0.74564, std: 0.02289, params: {'learning_rate': 0.08, 'max_depth': 3, 'n_estimators': 50, 'random_state': 64},\n",
       " mean: 0.74462, std: 0.02957, params: {'learning_rate': 0.12, 'max_depth': 3, 'n_estimators': 50, 'random_state': 64},\n",
       " mean: 0.74256, std: 0.02088, params: {'learning_rate': 0.1, 'max_depth': 1, 'n_estimators': 100, 'random_state': 64},\n",
       " mean: 0.74256, std: 0.02191, params: {'learning_rate': 0.08, 'max_depth': 3, 'n_estimators': 100, 'random_state': 64},\n",
       " mean: 0.74154, std: 0.01860, params: {'learning_rate': 0.1, 'max_depth': 2, 'n_estimators': 50, 'random_state': 64},\n",
       " mean: 0.74154, std: 0.01856, params: {'learning_rate': 0.08, 'max_depth': 3, 'n_estimators': 150, 'random_state': 64},\n",
       " mean: 0.74051, std: 0.02114, params: {'learning_rate': 0.12, 'max_depth': 1, 'n_estimators': 100, 'random_state': 64},\n",
       " mean: 0.74051, std: 0.01688, params: {'learning_rate': 0.12, 'max_depth': 2, 'n_estimators': 50, 'random_state': 64},\n",
       " mean: 0.74051, std: 0.01692, params: {'learning_rate': 0.1, 'max_depth': 1, 'n_estimators': 50, 'random_state': 64},\n",
       " mean: 0.73949, std: 0.02462, params: {'learning_rate': 0.1, 'max_depth': 3, 'n_estimators': 50, 'random_state': 64}]"
      ]
     },
     "execution_count": 226,
     "metadata": {},
     "output_type": "execute_result"
    }
   ],
   "source": [
    "sorted(gs.grid_scores_, key=lambda x: x.mean_validation_score, reverse=True)[:10]"
   ]
  },
  {
   "cell_type": "code",
   "execution_count": 227,
   "metadata": {},
   "outputs": [
    {
     "data": {
      "text/plain": [
       "GradientBoostingClassifier(criterion='friedman_mse', init=None,\n",
       "              learning_rate=0.08, loss='deviance', max_depth=3,\n",
       "              max_features=None, max_leaf_nodes=None,\n",
       "              min_impurity_decrease=0.0, min_impurity_split=None,\n",
       "              min_samples_leaf=1, min_samples_split=2,\n",
       "              min_weight_fraction_leaf=0.0, n_estimators=50,\n",
       "              presort='auto', random_state=64, subsample=1.0, verbose=0,\n",
       "              warm_start=False)"
      ]
     },
     "execution_count": 227,
     "metadata": {},
     "output_type": "execute_result"
    }
   ],
   "source": [
    "best_unbalanced = gs.best_estimator_\n",
    "best_unbalanced"
   ]
  },
  {
   "cell_type": "code",
   "execution_count": 228,
   "metadata": {},
   "outputs": [
    {
     "name": "stdout",
     "output_type": "stream",
     "text": [
      "accuracy:  0.742307692308\n",
      "\n",
      "             precision    recall  f1-score   support\n",
      "\n",
      "          1       0.84      0.98      0.90       110\n",
      "          2       0.46      0.14      0.21        43\n",
      "          3       0.62      0.75      0.68        60\n",
      "          4       0.74      0.72      0.73        47\n",
      "\n",
      "avg / total       0.71      0.74      0.71       260\n",
      "\n",
      "macro precision:  0.665719549662\n",
      "micro precision:  0.742307692308\n",
      "\n",
      "micro recall:  0.742307692308\n",
      "macro recall:  0.648689330215\n",
      "\n",
      "micro f1:  0.742307692308\n",
      "macro f1:  0.632763095545\n"
     ]
    },
    {
     "data": {
      "image/png": "[encoded data removed]",
      "text/plain": [
       "<matplotlib.figure.Figure at 0x1b64e928978>"
      ]
     },
     "metadata": {},
     "output_type": "display_data"
    }
   ],
   "source": [
    "print_metrics(best_unbalanced, featuresCV, labelsCV, 'žiadne', '0-5')"
   ]
  },
  {
   "cell_type": "markdown",
   "metadata": {},
   "source": [
    "## 20-25% of campaign duration"
   ]
  },
  {
   "cell_type": "code",
   "execution_count": 229,
   "metadata": {},
   "outputs": [
    {
     "data": {
      "text/plain": [
       "(1470, 151)"
      ]
     },
     "execution_count": 229,
     "metadata": {},
     "output_type": "execute_result"
    }
   ],
   "source": [
    "features = pd.read_csv('data/final/train.csv', index_col=0)\n",
    "df = pd.read_csv('data/final/test.csv', index_col=0)\n",
    "features = features.append(df, ignore_index=True)\n",
    "\n",
    "features = features[(features['ratio_running_duration'] < 25) & (features['ratio_running_duration'] >= 20)]\n",
    "\n",
    "labels = features['class']\n",
    "features = features.drop('class', axis=1)\n",
    "\n",
    "features.shape"
   ]
  },
  {
   "cell_type": "code",
   "execution_count": 230,
   "metadata": {},
   "outputs": [
    {
     "data": {
      "text/plain": [
       "(332, 151)"
      ]
     },
     "execution_count": 230,
     "metadata": {},
     "output_type": "execute_result"
    }
   ],
   "source": [
    "featuresCV = pd.read_csv('data/final/cv.csv', index_col=0)\n",
    "\n",
    "featuresCV = featuresCV[(featuresCV['ratio_running_duration'] < 25) & (featuresCV['ratio_running_duration'] >= 20)]\n",
    "\n",
    "labelsCV = featuresCV['class']\n",
    "featuresCV = featuresCV.drop('class', axis=1)\n",
    "\n",
    "featuresCV.shape"
   ]
  },
  {
   "cell_type": "markdown",
   "metadata": {},
   "source": [
    "### Feature selection"
   ]
  },
  {
   "cell_type": "code",
   "execution_count": 231,
   "metadata": {
    "collapsed": true
   },
   "outputs": [],
   "source": [
    "# use features selected for 0-25%\n",
    "\n",
    "selected_features = ['average_pledge',\n",
    " 'backers_count',\n",
    " 'category_position',\n",
    " 'days_duration',\n",
    " 'days_preparation',\n",
    " 'days_remaining',\n",
    " 'days_running',\n",
    " 'pledged',\n",
    " 'ratio_pledged_goal',\n",
    " 'ratio_running_duration',\n",
    " 'usd_goal',\n",
    " 'usd_pledged',\n",
    " 'comments_count_public_while_scraping',\n",
    " 'updates_likes_sum_while_scraping',\n",
    " 'updates_likes_max_while_scraping',\n",
    " 'deadline_day',\n",
    " 'deadline_hour',\n",
    " 'launch_month',\n",
    " 'launch_day',\n",
    " 'launch_hour',\n",
    " 'image_count',\n",
    " 'blurb_words',\n",
    " 'category_parent_fashion',\n",
    " 'location_type_Miscellaneous',\n",
    " 'LSA_0',\n",
    " 'LSA_1',\n",
    " 'LSA_2',\n",
    " 'LSA_3',\n",
    " 'LSA_4',\n",
    " 'LSA_5',\n",
    " 'LSA_6',\n",
    " 'LSA_7',\n",
    " 'LSA_8',\n",
    " 'LSA_9',\n",
    " 'LSA_10',\n",
    " 'LSA_11',\n",
    " 'LSA_12',\n",
    " 'LSA_13',\n",
    " 'LSA_14',\n",
    " 'LSA_15',\n",
    " 'LSA_16',\n",
    " 'LSA_17',\n",
    " 'LSA_18',\n",
    " 'LSA_19',\n",
    " 'LSA_20',\n",
    " 'LSA_21',\n",
    " 'LSA_22',\n",
    " 'LSA_23',\n",
    " 'LSA_24',\n",
    " 'LDA_0',\n",
    " 'LDA_1',\n",
    " 'LDA_2',\n",
    " 'LDA_3',\n",
    " 'LDA_4',\n",
    " 'LDA_5',\n",
    " 'LDA_6',\n",
    " 'LDA_7',\n",
    " 'LDA_8',\n",
    " 'LDA_9',\n",
    " 'LDA_10',\n",
    " 'LDA_11',\n",
    " 'LDA_12',\n",
    " 'LDA_13',\n",
    " 'LDA_14',\n",
    " 'LDA_15',\n",
    " 'LDA_16',\n",
    " 'LDA_17',\n",
    " 'LDA_18',\n",
    " 'LDA_19',\n",
    " 'LDA_20',\n",
    " 'LDA_21',\n",
    " 'LDA_22',\n",
    " 'LDA_23',\n",
    " 'LDA_24']"
   ]
  },
  {
   "cell_type": "code",
   "execution_count": 232,
   "metadata": {},
   "outputs": [
    {
     "data": {
      "text/plain": [
       "(1470, 74)"
      ]
     },
     "execution_count": 232,
     "metadata": {},
     "output_type": "execute_result"
    }
   ],
   "source": [
    "features = features[selected_features]\n",
    "features.shape"
   ]
  },
  {
   "cell_type": "code",
   "execution_count": 233,
   "metadata": {},
   "outputs": [
    {
     "data": {
      "text/plain": [
       "(332, 74)"
      ]
     },
     "execution_count": 233,
     "metadata": {},
     "output_type": "execute_result"
    }
   ],
   "source": [
    "featuresCV = featuresCV[selected_features]\n",
    "featuresCV.shape"
   ]
  },
  {
   "cell_type": "code",
   "execution_count": 234,
   "metadata": {},
   "outputs": [
    {
     "data": {
      "text/plain": [
       "True    74\n",
       "dtype: int64"
      ]
     },
     "execution_count": 234,
     "metadata": {},
     "output_type": "execute_result"
    }
   ],
   "source": [
    "pd.Series(features.columns == featuresCV.columns).value_counts()"
   ]
  },
  {
   "cell_type": "markdown",
   "metadata": {},
   "source": [
    "### Training"
   ]
  },
  {
   "cell_type": "markdown",
   "metadata": {},
   "source": [
    "#### Unbalanced"
   ]
  },
  {
   "cell_type": "code",
   "execution_count": 235,
   "metadata": {
    "collapsed": true
   },
   "outputs": [],
   "source": [
    "gs = GridSearchCV(GradientBoostingClassifier(), params, scoring='accuracy', cv=5, n_jobs=-1, error_score=0)"
   ]
  },
  {
   "cell_type": "code",
   "execution_count": 236,
   "metadata": {},
   "outputs": [
    {
     "name": "stdout",
     "output_type": "stream",
     "text": [
      "Wall time: 8min 50s\n"
     ]
    },
    {
     "data": {
      "text/plain": [
       "GridSearchCV(cv=5, error_score=0,\n",
       "       estimator=GradientBoostingClassifier(criterion='friedman_mse', init=None,\n",
       "              learning_rate=0.1, loss='deviance', max_depth=3,\n",
       "              max_features=None, max_leaf_nodes=None,\n",
       "              min_impurity_decrease=0.0, min_impurity_split=None,\n",
       "              min_samples_leaf=1, min_samples_split=2,\n",
       "              min_weight_fraction_leaf=0.0, n_estimators=100,\n",
       "              presort='auto', random_state=None, subsample=1.0, verbose=0,\n",
       "              warm_start=False),\n",
       "       fit_params=None, iid=True, n_jobs=-1,\n",
       "       param_grid={'learning_rate': [0.12, 0.1, 0.08, 0.01, 0.2], 'n_estimators': [150, 100, 50], 'max_depth': [1, 2, 3, 4, 5], 'random_state': [64]},\n",
       "       pre_dispatch='2*n_jobs', refit=True, return_train_score='warn',\n",
       "       scoring='accuracy', verbose=0)"
      ]
     },
     "execution_count": 236,
     "metadata": {},
     "output_type": "execute_result"
    }
   ],
   "source": [
    "%%time\n",
    "gs.fit(features, labels)"
   ]
  },
  {
   "cell_type": "code",
   "execution_count": 237,
   "metadata": {},
   "outputs": [
    {
     "name": "stderr",
     "output_type": "stream",
     "text": [
      "C:\\Users\\Patrik\\Anaconda3\\lib\\site-packages\\sklearn\\model_selection\\_search.py:761: DeprecationWarning: The grid_scores_ attribute was deprecated in version 0.18 in favor of the more elaborate cv_results_ attribute. The grid_scores_ attribute will not be available from 0.20\n",
      "  DeprecationWarning)\n"
     ]
    },
    {
     "data": {
      "text/plain": [
       "[mean: 0.78367, std: 0.01293, params: {'learning_rate': 0.01, 'max_depth': 2, 'n_estimators': 100, 'random_state': 64},\n",
       " mean: 0.78095, std: 0.02116, params: {'learning_rate': 0.08, 'max_depth': 1, 'n_estimators': 100, 'random_state': 64},\n",
       " mean: 0.78027, std: 0.01839, params: {'learning_rate': 0.12, 'max_depth': 1, 'n_estimators': 50, 'random_state': 64},\n",
       " mean: 0.78027, std: 0.01069, params: {'learning_rate': 0.01, 'max_depth': 3, 'n_estimators': 150, 'random_state': 64},\n",
       " mean: 0.77891, std: 0.01126, params: {'learning_rate': 0.1, 'max_depth': 2, 'n_estimators': 50, 'random_state': 64},\n",
       " mean: 0.77891, std: 0.01257, params: {'learning_rate': 0.01, 'max_depth': 2, 'n_estimators': 150, 'random_state': 64},\n",
       " mean: 0.77823, std: 0.01601, params: {'learning_rate': 0.1, 'max_depth': 1, 'n_estimators': 50, 'random_state': 64},\n",
       " mean: 0.77823, std: 0.01159, params: {'learning_rate': 0.08, 'max_depth': 2, 'n_estimators': 50, 'random_state': 64},\n",
       " mean: 0.77823, std: 0.00712, params: {'learning_rate': 0.01, 'max_depth': 3, 'n_estimators': 100, 'random_state': 64},\n",
       " mean: 0.77755, std: 0.02868, params: {'learning_rate': 0.12, 'max_depth': 1, 'n_estimators': 100, 'random_state': 64}]"
      ]
     },
     "execution_count": 237,
     "metadata": {},
     "output_type": "execute_result"
    }
   ],
   "source": [
    "sorted(gs.grid_scores_, key=lambda x: x.mean_validation_score, reverse=True)[:10]"
   ]
  },
  {
   "cell_type": "code",
   "execution_count": 238,
   "metadata": {},
   "outputs": [
    {
     "data": {
      "text/plain": [
       "GradientBoostingClassifier(criterion='friedman_mse', init=None,\n",
       "              learning_rate=0.01, loss='deviance', max_depth=2,\n",
       "              max_features=None, max_leaf_nodes=None,\n",
       "              min_impurity_decrease=0.0, min_impurity_split=None,\n",
       "              min_samples_leaf=1, min_samples_split=2,\n",
       "              min_weight_fraction_leaf=0.0, n_estimators=100,\n",
       "              presort='auto', random_state=64, subsample=1.0, verbose=0,\n",
       "              warm_start=False)"
      ]
     },
     "execution_count": 238,
     "metadata": {},
     "output_type": "execute_result"
    }
   ],
   "source": [
    "best_unbalanced = gs.best_estimator_\n",
    "best_unbalanced"
   ]
  },
  {
   "cell_type": "code",
   "execution_count": 239,
   "metadata": {},
   "outputs": [
    {
     "name": "stdout",
     "output_type": "stream",
     "text": [
      "accuracy:  0.765060240964\n",
      "\n",
      "             precision    recall  f1-score   support\n",
      "\n",
      "          1       0.92      0.98      0.95       137\n",
      "          2       0.59      0.43      0.50        51\n",
      "          3       0.49      0.62      0.55        64\n",
      "          4       0.85      0.72      0.78        80\n",
      "\n",
      "avg / total       0.77      0.77      0.76       332\n",
      "\n",
      "macro precision:  0.714792787684\n",
      "micro precision:  0.765060240964\n",
      "\n",
      "micro recall:  0.765060240964\n",
      "macro recall:  0.6898686847\n",
      "\n",
      "micro f1:  0.765060240964\n",
      "macro f1:  0.695626097036\n"
     ]
    },
    {
     "data": {
      "image/png": "[encoded data removed]",
      "text/plain": [
       "<matplotlib.figure.Figure at 0x1b64d0f2b38>"
      ]
     },
     "metadata": {},
     "output_type": "display_data"
    }
   ],
   "source": [
    "print_metrics(best_unbalanced, featuresCV, labelsCV, 'žiadne', '0-5')"
   ]
  },
  {
   "cell_type": "code",
   "execution_count": 240,
   "metadata": {},
   "outputs": [
    {
     "data": {
      "text/html": [
       "<div>\n",
       "<style>\n",
       "    .dataframe thead tr:only-child th {\n",
       "        text-align: right;\n",
       "    }\n",
       "\n",
       "    .dataframe thead th {\n",
       "        text-align: left;\n",
       "    }\n",
       "\n",
       "    .dataframe tbody tr th {\n",
       "        vertical-align: top;\n",
       "    }\n",
       "</style>\n",
       "<table border=\"1\" class=\"dataframe\">\n",
       "  <thead>\n",
       "    <tr style=\"text-align: right;\">\n",
       "      <th></th>\n",
       "      <th>F1_makro</th>\n",
       "      <th>Fáza</th>\n",
       "      <th>P_0</th>\n",
       "      <th>P_1</th>\n",
       "      <th>P_2</th>\n",
       "      <th>P_3</th>\n",
       "      <th>S</th>\n",
       "      <th>Vyváženie</th>\n",
       "      <th>Ú_0</th>\n",
       "      <th>Ú_1</th>\n",
       "      <th>Ú_2</th>\n",
       "      <th>Ú_3</th>\n",
       "    </tr>\n",
       "  </thead>\n",
       "  <tbody>\n",
       "    <tr>\n",
       "      <th>0</th>\n",
       "      <td>0.68</td>\n",
       "      <td>1</td>\n",
       "      <td>0.87</td>\n",
       "      <td>0.53</td>\n",
       "      <td>0.60</td>\n",
       "      <td>0.79</td>\n",
       "      <td>0.76</td>\n",
       "      <td>žiadne</td>\n",
       "      <td>0.97</td>\n",
       "      <td>0.41</td>\n",
       "      <td>0.60</td>\n",
       "      <td>0.73</td>\n",
       "    </tr>\n",
       "    <tr>\n",
       "      <th>1</th>\n",
       "      <td>0.67</td>\n",
       "      <td>1</td>\n",
       "      <td>0.90</td>\n",
       "      <td>0.42</td>\n",
       "      <td>0.61</td>\n",
       "      <td>0.78</td>\n",
       "      <td>0.73</td>\n",
       "      <td>váhovanie</td>\n",
       "      <td>0.90</td>\n",
       "      <td>0.59</td>\n",
       "      <td>0.51</td>\n",
       "      <td>0.72</td>\n",
       "    </tr>\n",
       "    <tr>\n",
       "      <th>2</th>\n",
       "      <td>0.67</td>\n",
       "      <td>1</td>\n",
       "      <td>0.87</td>\n",
       "      <td>0.45</td>\n",
       "      <td>0.58</td>\n",
       "      <td>0.79</td>\n",
       "      <td>0.74</td>\n",
       "      <td>oversampling</td>\n",
       "      <td>0.93</td>\n",
       "      <td>0.44</td>\n",
       "      <td>0.59</td>\n",
       "      <td>0.71</td>\n",
       "    </tr>\n",
       "    <tr>\n",
       "      <th>3</th>\n",
       "      <td>0.66</td>\n",
       "      <td>1</td>\n",
       "      <td>0.90</td>\n",
       "      <td>0.40</td>\n",
       "      <td>0.59</td>\n",
       "      <td>0.77</td>\n",
       "      <td>0.72</td>\n",
       "      <td>undersampling</td>\n",
       "      <td>0.89</td>\n",
       "      <td>0.60</td>\n",
       "      <td>0.47</td>\n",
       "      <td>0.71</td>\n",
       "    </tr>\n",
       "    <tr>\n",
       "      <th>4</th>\n",
       "      <td>0.75</td>\n",
       "      <td>2</td>\n",
       "      <td>0.92</td>\n",
       "      <td>0.60</td>\n",
       "      <td>0.66</td>\n",
       "      <td>0.87</td>\n",
       "      <td>0.81</td>\n",
       "      <td>žiadne</td>\n",
       "      <td>0.98</td>\n",
       "      <td>0.52</td>\n",
       "      <td>0.72</td>\n",
       "      <td>0.77</td>\n",
       "    </tr>\n",
       "    <tr>\n",
       "      <th>5</th>\n",
       "      <td>0.75</td>\n",
       "      <td>2</td>\n",
       "      <td>0.93</td>\n",
       "      <td>0.55</td>\n",
       "      <td>0.67</td>\n",
       "      <td>0.88</td>\n",
       "      <td>0.81</td>\n",
       "      <td>váhovanie</td>\n",
       "      <td>0.97</td>\n",
       "      <td>0.58</td>\n",
       "      <td>0.68</td>\n",
       "      <td>0.78</td>\n",
       "    </tr>\n",
       "    <tr>\n",
       "      <th>6</th>\n",
       "      <td>0.75</td>\n",
       "      <td>2</td>\n",
       "      <td>0.93</td>\n",
       "      <td>0.56</td>\n",
       "      <td>0.66</td>\n",
       "      <td>0.87</td>\n",
       "      <td>0.81</td>\n",
       "      <td>nadvzorkovanie</td>\n",
       "      <td>0.98</td>\n",
       "      <td>0.56</td>\n",
       "      <td>0.69</td>\n",
       "      <td>0.77</td>\n",
       "    </tr>\n",
       "    <tr>\n",
       "      <th>7</th>\n",
       "      <td>0.74</td>\n",
       "      <td>2</td>\n",
       "      <td>0.94</td>\n",
       "      <td>0.51</td>\n",
       "      <td>0.66</td>\n",
       "      <td>0.86</td>\n",
       "      <td>0.79</td>\n",
       "      <td>podvzorkovanie</td>\n",
       "      <td>0.96</td>\n",
       "      <td>0.66</td>\n",
       "      <td>0.61</td>\n",
       "      <td>0.76</td>\n",
       "    </tr>\n",
       "    <tr>\n",
       "      <th>8</th>\n",
       "      <td>0.80</td>\n",
       "      <td>3</td>\n",
       "      <td>0.96</td>\n",
       "      <td>0.70</td>\n",
       "      <td>0.69</td>\n",
       "      <td>0.88</td>\n",
       "      <td>0.85</td>\n",
       "      <td>žiadne</td>\n",
       "      <td>0.99</td>\n",
       "      <td>0.66</td>\n",
       "      <td>0.75</td>\n",
       "      <td>0.77</td>\n",
       "    </tr>\n",
       "    <tr>\n",
       "      <th>9</th>\n",
       "      <td>0.80</td>\n",
       "      <td>3</td>\n",
       "      <td>0.96</td>\n",
       "      <td>0.67</td>\n",
       "      <td>0.69</td>\n",
       "      <td>0.87</td>\n",
       "      <td>0.84</td>\n",
       "      <td>váhovanie</td>\n",
       "      <td>0.98</td>\n",
       "      <td>0.71</td>\n",
       "      <td>0.73</td>\n",
       "      <td>0.76</td>\n",
       "    </tr>\n",
       "    <tr>\n",
       "      <th>10</th>\n",
       "      <td>0.79</td>\n",
       "      <td>3</td>\n",
       "      <td>0.96</td>\n",
       "      <td>0.67</td>\n",
       "      <td>0.69</td>\n",
       "      <td>0.87</td>\n",
       "      <td>0.84</td>\n",
       "      <td>nadvzorkovanie</td>\n",
       "      <td>0.99</td>\n",
       "      <td>0.69</td>\n",
       "      <td>0.72</td>\n",
       "      <td>0.76</td>\n",
       "    </tr>\n",
       "    <tr>\n",
       "      <th>11</th>\n",
       "      <td>0.79</td>\n",
       "      <td>3</td>\n",
       "      <td>0.98</td>\n",
       "      <td>0.60</td>\n",
       "      <td>0.71</td>\n",
       "      <td>0.87</td>\n",
       "      <td>0.84</td>\n",
       "      <td>podvzorkovanie</td>\n",
       "      <td>0.96</td>\n",
       "      <td>0.81</td>\n",
       "      <td>0.68</td>\n",
       "      <td>0.77</td>\n",
       "    </tr>\n",
       "    <tr>\n",
       "      <th>12</th>\n",
       "      <td>0.90</td>\n",
       "      <td>4</td>\n",
       "      <td>0.98</td>\n",
       "      <td>0.85</td>\n",
       "      <td>0.83</td>\n",
       "      <td>0.96</td>\n",
       "      <td>0.92</td>\n",
       "      <td>žiadne</td>\n",
       "      <td>0.99</td>\n",
       "      <td>0.82</td>\n",
       "      <td>0.89</td>\n",
       "      <td>0.86</td>\n",
       "    </tr>\n",
       "    <tr>\n",
       "      <th>13</th>\n",
       "      <td>0.90</td>\n",
       "      <td>4</td>\n",
       "      <td>0.98</td>\n",
       "      <td>0.81</td>\n",
       "      <td>0.84</td>\n",
       "      <td>0.96</td>\n",
       "      <td>0.92</td>\n",
       "      <td>váhovanie</td>\n",
       "      <td>0.98</td>\n",
       "      <td>0.87</td>\n",
       "      <td>0.88</td>\n",
       "      <td>0.86</td>\n",
       "    </tr>\n",
       "    <tr>\n",
       "      <th>14</th>\n",
       "      <td>0.90</td>\n",
       "      <td>4</td>\n",
       "      <td>0.98</td>\n",
       "      <td>0.84</td>\n",
       "      <td>0.84</td>\n",
       "      <td>0.96</td>\n",
       "      <td>0.92</td>\n",
       "      <td>nadvzorkovanie</td>\n",
       "      <td>0.99</td>\n",
       "      <td>0.84</td>\n",
       "      <td>0.88</td>\n",
       "      <td>0.87</td>\n",
       "    </tr>\n",
       "    <tr>\n",
       "      <th>15</th>\n",
       "      <td>0.89</td>\n",
       "      <td>4</td>\n",
       "      <td>0.98</td>\n",
       "      <td>0.76</td>\n",
       "      <td>0.85</td>\n",
       "      <td>0.95</td>\n",
       "      <td>0.91</td>\n",
       "      <td>podvzorkovanie</td>\n",
       "      <td>0.97</td>\n",
       "      <td>0.88</td>\n",
       "      <td>0.86</td>\n",
       "      <td>0.87</td>\n",
       "    </tr>\n",
       "    <tr>\n",
       "      <th>16</th>\n",
       "      <td>0.55</td>\n",
       "      <td>0-5</td>\n",
       "      <td>0.78</td>\n",
       "      <td>0.26</td>\n",
       "      <td>0.49</td>\n",
       "      <td>0.71</td>\n",
       "      <td>0.67</td>\n",
       "      <td>žiadne</td>\n",
       "      <td>0.92</td>\n",
       "      <td>0.17</td>\n",
       "      <td>0.47</td>\n",
       "      <td>0.62</td>\n",
       "    </tr>\n",
       "    <tr>\n",
       "      <th>17</th>\n",
       "      <td>0.63</td>\n",
       "      <td>0-5</td>\n",
       "      <td>0.84</td>\n",
       "      <td>0.46</td>\n",
       "      <td>0.62</td>\n",
       "      <td>0.74</td>\n",
       "      <td>0.74</td>\n",
       "      <td>žiadne</td>\n",
       "      <td>0.98</td>\n",
       "      <td>0.14</td>\n",
       "      <td>0.75</td>\n",
       "      <td>0.72</td>\n",
       "    </tr>\n",
       "    <tr>\n",
       "      <th>18</th>\n",
       "      <td>0.70</td>\n",
       "      <td>0-5</td>\n",
       "      <td>0.92</td>\n",
       "      <td>0.59</td>\n",
       "      <td>0.49</td>\n",
       "      <td>0.85</td>\n",
       "      <td>0.77</td>\n",
       "      <td>žiadne</td>\n",
       "      <td>0.98</td>\n",
       "      <td>0.43</td>\n",
       "      <td>0.62</td>\n",
       "      <td>0.72</td>\n",
       "    </tr>\n",
       "  </tbody>\n",
       "</table>\n",
       "</div>"
      ],
      "text/plain": [
       "    F1_makro Fáza   P_0   P_1   P_2   P_3     S       Vyváženie   Ú_0   Ú_1  \\\n",
       "0       0.68    1  0.87  0.53  0.60  0.79  0.76          žiadne  0.97  0.41   \n",
       "1       0.67    1  0.90  0.42  0.61  0.78  0.73       váhovanie  0.90  0.59   \n",
       "2       0.67    1  0.87  0.45  0.58  0.79  0.74    oversampling  0.93  0.44   \n",
       "3       0.66    1  0.90  0.40  0.59  0.77  0.72   undersampling  0.89  0.60   \n",
       "4       0.75    2  0.92  0.60  0.66  0.87  0.81          žiadne  0.98  0.52   \n",
       "5       0.75    2  0.93  0.55  0.67  0.88  0.81       váhovanie  0.97  0.58   \n",
       "6       0.75    2  0.93  0.56  0.66  0.87  0.81  nadvzorkovanie  0.98  0.56   \n",
       "7       0.74    2  0.94  0.51  0.66  0.86  0.79  podvzorkovanie  0.96  0.66   \n",
       "8       0.80    3  0.96  0.70  0.69  0.88  0.85          žiadne  0.99  0.66   \n",
       "9       0.80    3  0.96  0.67  0.69  0.87  0.84       váhovanie  0.98  0.71   \n",
       "10      0.79    3  0.96  0.67  0.69  0.87  0.84  nadvzorkovanie  0.99  0.69   \n",
       "11      0.79    3  0.98  0.60  0.71  0.87  0.84  podvzorkovanie  0.96  0.81   \n",
       "12      0.90    4  0.98  0.85  0.83  0.96  0.92          žiadne  0.99  0.82   \n",
       "13      0.90    4  0.98  0.81  0.84  0.96  0.92       váhovanie  0.98  0.87   \n",
       "14      0.90    4  0.98  0.84  0.84  0.96  0.92  nadvzorkovanie  0.99  0.84   \n",
       "15      0.89    4  0.98  0.76  0.85  0.95  0.91  podvzorkovanie  0.97  0.88   \n",
       "16      0.55  0-5  0.78  0.26  0.49  0.71  0.67          žiadne  0.92  0.17   \n",
       "17      0.63  0-5  0.84  0.46  0.62  0.74  0.74          žiadne  0.98  0.14   \n",
       "18      0.70  0-5  0.92  0.59  0.49  0.85  0.77          žiadne  0.98  0.43   \n",
       "\n",
       "     Ú_2   Ú_3  \n",
       "0   0.60  0.73  \n",
       "1   0.51  0.72  \n",
       "2   0.59  0.71  \n",
       "3   0.47  0.71  \n",
       "4   0.72  0.77  \n",
       "5   0.68  0.78  \n",
       "6   0.69  0.77  \n",
       "7   0.61  0.76  \n",
       "8   0.75  0.77  \n",
       "9   0.73  0.76  \n",
       "10  0.72  0.76  \n",
       "11  0.68  0.77  \n",
       "12  0.89  0.86  \n",
       "13  0.88  0.86  \n",
       "14  0.88  0.87  \n",
       "15  0.86  0.87  \n",
       "16  0.47  0.62  \n",
       "17  0.75  0.72  \n",
       "18  0.62  0.72  "
      ]
     },
     "execution_count": 240,
     "metadata": {},
     "output_type": "execute_result"
    }
   ],
   "source": [
    "df_results"
   ]
  },
  {
   "cell_type": "code",
   "execution_count": null,
   "metadata": {
    "collapsed": true
   },
   "outputs": [],
   "source": []
  }
 ],
 "metadata": {
  "kernelspec": {
   "display_name": "Python 3",
   "language": "python",
   "name": "python3"
  },
  "language_info": {
   "codemirror_mode": {
    "name": "ipython",
    "version": 3
   },
   "file_extension": ".py",
   "mimetype": "text/x-python",
   "name": "python",
   "nbconvert_exporter": "python",
   "pygments_lexer": "ipython3",
   "version": "3.6.1"
  }
 },
 "nbformat": 4,
 "nbformat_minor": 2
}
