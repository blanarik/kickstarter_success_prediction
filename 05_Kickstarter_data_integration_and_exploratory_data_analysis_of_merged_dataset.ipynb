{
 "cells": [
  {
   "cell_type": "markdown",
   "metadata": {},
   "source": [
    "# Data integration\n",
    "\n",
    "Let's merge both datasets into a single dataset containing every possible piece of information and analyse this merged dataset."
   ]
  },
  {
   "cell_type": "markdown",
   "metadata": {},
   "source": [
    "Following columns were added (extracted) in this notebook:\n",
    "* class\n",
    "* data from 2nd dataset - columns starting with: db_, updates_, faq_ and comments_"
   ]
  },
  {
   "cell_type": "code",
   "execution_count": 1,
   "metadata": {
    "collapsed": true
   },
   "outputs": [],
   "source": [
    "import mysql.connector as sql\n",
    "import pandas as pd\n",
    "import seaborn as sns"
   ]
  },
  {
   "cell_type": "markdown",
   "metadata": {},
   "source": [
    "### First dataset - webrobots.io"
   ]
  },
  {
   "cell_type": "code",
   "execution_count": 2,
   "metadata": {},
   "outputs": [
    {
     "name": "stderr",
     "output_type": "stream",
     "text": [
      "C:\\Users\\Patrik\\Anaconda3\\lib\\site-packages\\IPython\\core\\interactiveshell.py:2717: DtypeWarning: Columns (51,52) have mixed types. Specify dtype option on import or set low_memory=False.\n",
      "  interactivity=interactivity, compiler=compiler, result=result)\n"
     ]
    }
   ],
   "source": [
    "df_projects = pd.read_csv('data/partly_analysed.csv', encoding='cp1252', index_col=0)"
   ]
  },
  {
   "cell_type": "markdown",
   "metadata": {},
   "source": [
    "### Second dataset"
   ]
  },
  {
   "cell_type": "code",
   "execution_count": 3,
   "metadata": {
    "collapsed": true
   },
   "outputs": [],
   "source": [
    "con = sql.connect(database='kickstarter2017', user='kickstarter', password='kickstarter')"
   ]
  },
  {
   "cell_type": "code",
   "execution_count": 4,
   "metadata": {},
   "outputs": [
    {
     "data": {
      "text/html": [
       "<div>\n",
       "<style>\n",
       "    .dataframe thead tr:only-child th {\n",
       "        text-align: right;\n",
       "    }\n",
       "\n",
       "    .dataframe thead th {\n",
       "        text-align: left;\n",
       "    }\n",
       "\n",
       "    .dataframe tbody tr th {\n",
       "        vertical-align: top;\n",
       "    }\n",
       "</style>\n",
       "<table border=\"1\" class=\"dataframe\">\n",
       "  <thead>\n",
       "    <tr style=\"text-align: right;\">\n",
       "      <th></th>\n",
       "      <th>project_id</th>\n",
       "      <th>url</th>\n",
       "      <th>name</th>\n",
       "      <th>status</th>\n",
       "      <th>project_we_love</th>\n",
       "      <th>category_id</th>\n",
       "      <th>subcategory_id</th>\n",
       "      <th>creators_url</th>\n",
       "      <th>location_id</th>\n",
       "      <th>pledged</th>\n",
       "      <th>...</th>\n",
       "      <th>description_short</th>\n",
       "      <th>description_full</th>\n",
       "      <th>video_url</th>\n",
       "      <th>image_url</th>\n",
       "      <th>faq_count</th>\n",
       "      <th>updates_count</th>\n",
       "      <th>comments_count</th>\n",
       "      <th>fb_comments_count</th>\n",
       "      <th>fb_shares_count</th>\n",
       "      <th>project_data</th>\n",
       "    </tr>\n",
       "  </thead>\n",
       "  <tbody>\n",
       "    <tr>\n",
       "      <th>0</th>\n",
       "      <td>7</td>\n",
       "      <td>https://www.kickstarter.com/projects/elenamoon...</td>\n",
       "      <td>You Down with YPP?</td>\n",
       "      <td>successful</td>\n",
       "      <td>0</td>\n",
       "      <td>1</td>\n",
       "      <td>1</td>\n",
       "      <td>https://www.kickstarter.com/projects/elenamoon...</td>\n",
       "      <td>7</td>\n",
       "      <td>1945.0</td>\n",
       "      <td>...</td>\n",
       "      <td>The Young Producers Project will work with you...</td>\n",
       "      <td>&lt;p&gt;&lt;b&gt;WE DID IT! BUT LET'S KEEP GOING!&lt;/b&gt; Tha...</td>\n",
       "      <td>https://ksr-video.imgix.net/projects/4694/vide...</td>\n",
       "      <td>https://ksr-ugc.imgix.net/assets/011/261/065/e...</td>\n",
       "      <td>0</td>\n",
       "      <td>3</td>\n",
       "      <td>3</td>\n",
       "      <td>0</td>\n",
       "      <td>0</td>\n",
       "      <td>{\"id\":1673627837,\"photo\":{\"key\":\"assets/011/26...</td>\n",
       "    </tr>\n",
       "    <tr>\n",
       "      <th>1</th>\n",
       "      <td>8</td>\n",
       "      <td>https://www.kickstarter.com/projects/146178436...</td>\n",
       "      <td>Season 6 of the Faroe Islands Podcast: The Out...</td>\n",
       "      <td>successful</td>\n",
       "      <td>0</td>\n",
       "      <td>1</td>\n",
       "      <td>1</td>\n",
       "      <td>https://www.kickstarter.com/projects/146178436...</td>\n",
       "      <td>8</td>\n",
       "      <td>2217.0</td>\n",
       "      <td>...</td>\n",
       "      <td>We&amp;#39;re heading back to the Faroes to record...</td>\n",
       "      <td>&lt;p&gt;We've made more than 200 episodes, but ther...</td>\n",
       "      <td>https://ksr-video.imgix.net/projects/952578/vi...</td>\n",
       "      <td>https://ksr-ugc.imgix.net/assets/011/684/575/e...</td>\n",
       "      <td>0</td>\n",
       "      <td>2</td>\n",
       "      <td>1</td>\n",
       "      <td>0</td>\n",
       "      <td>522</td>\n",
       "      <td>{\"id\":1984035314,\"photo\":{\"key\":\"assets/011/68...</td>\n",
       "    </tr>\n",
       "    <tr>\n",
       "      <th>2</th>\n",
       "      <td>9</td>\n",
       "      <td>https://www.kickstarter.com/projects/245752542...</td>\n",
       "      <td>refreshED</td>\n",
       "      <td>successful</td>\n",
       "      <td>0</td>\n",
       "      <td>1</td>\n",
       "      <td>1</td>\n",
       "      <td>https://www.kickstarter.com/projects/245752542...</td>\n",
       "      <td>10</td>\n",
       "      <td>544.0</td>\n",
       "      <td>...</td>\n",
       "      <td>refreshED is a podcast for those bold enough t...</td>\n",
       "      <td>&lt;p&gt;The Move:&lt;/p&gt;&lt;p&gt;Five years ago I embarked o...</td>\n",
       "      <td></td>\n",
       "      <td>https://ksr-ugc.imgix.net/assets/011/729/694/c...</td>\n",
       "      <td>0</td>\n",
       "      <td>2</td>\n",
       "      <td>2</td>\n",
       "      <td>0</td>\n",
       "      <td>39</td>\n",
       "      <td>{\"id\":1613957923,\"photo\":{\"key\":\"assets/011/72...</td>\n",
       "    </tr>\n",
       "    <tr>\n",
       "      <th>3</th>\n",
       "      <td>10</td>\n",
       "      <td>https://www.kickstarter.com/projects/143081511...</td>\n",
       "      <td>I Want To Be Heard!</td>\n",
       "      <td>successful</td>\n",
       "      <td>0</td>\n",
       "      <td>1</td>\n",
       "      <td>1</td>\n",
       "      <td>https://www.kickstarter.com/projects/143081511...</td>\n",
       "      <td>11</td>\n",
       "      <td>510.0</td>\n",
       "      <td>...</td>\n",
       "      <td>My dream is to be a host. I would like to own ...</td>\n",
       "      <td>&lt;p&gt;I recently graduated college and my ultimat...</td>\n",
       "      <td></td>\n",
       "      <td>https://ksr-ugc.imgix.net/assets/011/758/625/6...</td>\n",
       "      <td>0</td>\n",
       "      <td>0</td>\n",
       "      <td>1</td>\n",
       "      <td>0</td>\n",
       "      <td>4</td>\n",
       "      <td>{\"id\":1446980133,\"photo\":{\"key\":\"assets/011/75...</td>\n",
       "    </tr>\n",
       "    <tr>\n",
       "      <th>4</th>\n",
       "      <td>11</td>\n",
       "      <td>https://www.kickstarter.com/projects/786754763...</td>\n",
       "      <td>Latch Key Kids Podcast</td>\n",
       "      <td>successful</td>\n",
       "      <td>0</td>\n",
       "      <td>1</td>\n",
       "      <td>1</td>\n",
       "      <td>https://www.kickstarter.com/projects/786754763...</td>\n",
       "      <td>13</td>\n",
       "      <td>332.0</td>\n",
       "      <td>...</td>\n",
       "      <td>A podcast that relives and reviews cartoons of...</td>\n",
       "      <td>&lt;p&gt;Hi, my name Timothy James Earls, but please...</td>\n",
       "      <td></td>\n",
       "      <td>https://ksr-ugc.imgix.net/assets/011/745/304/3...</td>\n",
       "      <td>7</td>\n",
       "      <td>8</td>\n",
       "      <td>0</td>\n",
       "      <td>0</td>\n",
       "      <td>19</td>\n",
       "      <td>{\"id\":1805285154,\"photo\":{\"key\":\"assets/011/74...</td>\n",
       "    </tr>\n",
       "  </tbody>\n",
       "</table>\n",
       "<p>5 rows × 27 columns</p>\n",
       "</div>"
      ],
      "text/plain": [
       "   project_id                                                url  \\\n",
       "0           7  https://www.kickstarter.com/projects/elenamoon...   \n",
       "1           8  https://www.kickstarter.com/projects/146178436...   \n",
       "2           9  https://www.kickstarter.com/projects/245752542...   \n",
       "3          10  https://www.kickstarter.com/projects/143081511...   \n",
       "4          11  https://www.kickstarter.com/projects/786754763...   \n",
       "\n",
       "                                                name      status  \\\n",
       "0                                 You Down with YPP?  successful   \n",
       "1  Season 6 of the Faroe Islands Podcast: The Out...  successful   \n",
       "2                                          refreshED  successful   \n",
       "3                                I Want To Be Heard!  successful   \n",
       "4                             Latch Key Kids Podcast  successful   \n",
       "\n",
       "   project_we_love  category_id  subcategory_id  \\\n",
       "0                0            1               1   \n",
       "1                0            1               1   \n",
       "2                0            1               1   \n",
       "3                0            1               1   \n",
       "4                0            1               1   \n",
       "\n",
       "                                        creators_url  location_id  pledged  \\\n",
       "0  https://www.kickstarter.com/projects/elenamoon...            7   1945.0   \n",
       "1  https://www.kickstarter.com/projects/146178436...            8   2217.0   \n",
       "2  https://www.kickstarter.com/projects/245752542...           10    544.0   \n",
       "3  https://www.kickstarter.com/projects/143081511...           11    510.0   \n",
       "4  https://www.kickstarter.com/projects/786754763...           13    332.0   \n",
       "\n",
       "                         ...                          \\\n",
       "0                        ...                           \n",
       "1                        ...                           \n",
       "2                        ...                           \n",
       "3                        ...                           \n",
       "4                        ...                           \n",
       "\n",
       "                                   description_short  \\\n",
       "0  The Young Producers Project will work with you...   \n",
       "1  We&#39;re heading back to the Faroes to record...   \n",
       "2  refreshED is a podcast for those bold enough t...   \n",
       "3  My dream is to be a host. I would like to own ...   \n",
       "4  A podcast that relives and reviews cartoons of...   \n",
       "\n",
       "                                    description_full  \\\n",
       "0  <p><b>WE DID IT! BUT LET'S KEEP GOING!</b> Tha...   \n",
       "1  <p>We've made more than 200 episodes, but ther...   \n",
       "2  <p>The Move:</p><p>Five years ago I embarked o...   \n",
       "3  <p>I recently graduated college and my ultimat...   \n",
       "4  <p>Hi, my name Timothy James Earls, but please...   \n",
       "\n",
       "                                           video_url  \\\n",
       "0  https://ksr-video.imgix.net/projects/4694/vide...   \n",
       "1  https://ksr-video.imgix.net/projects/952578/vi...   \n",
       "2                                                      \n",
       "3                                                      \n",
       "4                                                      \n",
       "\n",
       "                                           image_url faq_count updates_count  \\\n",
       "0  https://ksr-ugc.imgix.net/assets/011/261/065/e...         0             3   \n",
       "1  https://ksr-ugc.imgix.net/assets/011/684/575/e...         0             2   \n",
       "2  https://ksr-ugc.imgix.net/assets/011/729/694/c...         0             2   \n",
       "3  https://ksr-ugc.imgix.net/assets/011/758/625/6...         0             0   \n",
       "4  https://ksr-ugc.imgix.net/assets/011/745/304/3...         7             8   \n",
       "\n",
       "   comments_count fb_comments_count fb_shares_count  \\\n",
       "0               3                 0               0   \n",
       "1               1                 0             522   \n",
       "2               2                 0              39   \n",
       "3               1                 0               4   \n",
       "4               0                 0              19   \n",
       "\n",
       "                                        project_data  \n",
       "0  {\"id\":1673627837,\"photo\":{\"key\":\"assets/011/26...  \n",
       "1  {\"id\":1984035314,\"photo\":{\"key\":\"assets/011/68...  \n",
       "2  {\"id\":1613957923,\"photo\":{\"key\":\"assets/011/72...  \n",
       "3  {\"id\":1446980133,\"photo\":{\"key\":\"assets/011/75...  \n",
       "4  {\"id\":1805285154,\"photo\":{\"key\":\"assets/011/74...  \n",
       "\n",
       "[5 rows x 27 columns]"
      ]
     },
     "execution_count": 4,
     "metadata": {},
     "output_type": "execute_result"
    }
   ],
   "source": [
    "df_db = pd.read_sql('SELECT * FROM kickstarter2017.kickstarter_project WHERE status LIKE \"failed\" or status LIKE \"successful\"', con)\n",
    "df_db.head()"
   ]
  },
  {
   "cell_type": "code",
   "execution_count": 5,
   "metadata": {},
   "outputs": [
    {
     "data": {
      "text/html": [
       "<div>\n",
       "<style>\n",
       "    .dataframe thead tr:only-child th {\n",
       "        text-align: right;\n",
       "    }\n",
       "\n",
       "    .dataframe thead th {\n",
       "        text-align: left;\n",
       "    }\n",
       "\n",
       "    .dataframe tbody tr th {\n",
       "        vertical-align: top;\n",
       "    }\n",
       "</style>\n",
       "<table border=\"1\" class=\"dataframe\">\n",
       "  <thead>\n",
       "    <tr style=\"text-align: right;\">\n",
       "      <th></th>\n",
       "      <th>project_id</th>\n",
       "      <th>url</th>\n",
       "      <th>name</th>\n",
       "      <th>status</th>\n",
       "      <th>project_we_love</th>\n",
       "      <th>category_id</th>\n",
       "      <th>subcategory_id</th>\n",
       "      <th>creators_url</th>\n",
       "      <th>location_id</th>\n",
       "      <th>pledged</th>\n",
       "      <th>...</th>\n",
       "      <th>description_short</th>\n",
       "      <th>description_full</th>\n",
       "      <th>video_url</th>\n",
       "      <th>image_url</th>\n",
       "      <th>faq_count</th>\n",
       "      <th>updates_count</th>\n",
       "      <th>comments_count</th>\n",
       "      <th>fb_comments_count</th>\n",
       "      <th>fb_shares_count</th>\n",
       "      <th>project_data</th>\n",
       "    </tr>\n",
       "  </thead>\n",
       "  <tbody>\n",
       "    <tr>\n",
       "      <th>108412</th>\n",
       "      <td>117020</td>\n",
       "      <td>https://www.kickstarter.com/projects/117359406...</td>\n",
       "      <td>Wm. Cofield Community and Celebration (October...</td>\n",
       "      <td>failed</td>\n",
       "      <td>0</td>\n",
       "      <td>14</td>\n",
       "      <td>145</td>\n",
       "      <td>https://www.kickstarter.com/projects/117359406...</td>\n",
       "      <td>2621</td>\n",
       "      <td>12503.0</td>\n",
       "      <td>...</td>\n",
       "      <td>As our cheeses age to perfection, we are raisi...</td>\n",
       "      <td>&lt;p&gt;We are very pleased with our progress so fa...</td>\n",
       "      <td>https://ksr-video.imgix.net/projects/2945646/v...</td>\n",
       "      <td></td>\n",
       "      <td>0</td>\n",
       "      <td>4</td>\n",
       "      <td>0</td>\n",
       "      <td>0</td>\n",
       "      <td>352</td>\n",
       "      <td>{\"id\":1250503860,\"photo\":{\"key\":\"assets/016/50...</td>\n",
       "    </tr>\n",
       "    <tr>\n",
       "      <th>108413</th>\n",
       "      <td>117021</td>\n",
       "      <td>https://www.kickstarter.com/projects/195679343...</td>\n",
       "      <td>Handcrafted Eco-Friendly Edible Spoon</td>\n",
       "      <td>failed</td>\n",
       "      <td>0</td>\n",
       "      <td>14</td>\n",
       "      <td>145</td>\n",
       "      <td>https://www.kickstarter.com/projects/195679343...</td>\n",
       "      <td>1611</td>\n",
       "      <td>192.0</td>\n",
       "      <td>...</td>\n",
       "      <td>Using the 35 yr old Family Recipe on EDIBLES, ...</td>\n",
       "      <td>&lt;div class=\"template asset\" contenteditable=\"f...</td>\n",
       "      <td>https://ksr-video.imgix.net/projects/3062569/v...</td>\n",
       "      <td></td>\n",
       "      <td>0</td>\n",
       "      <td>0</td>\n",
       "      <td>0</td>\n",
       "      <td>0</td>\n",
       "      <td>0</td>\n",
       "      <td>{\"id\":303069932,\"photo\":{\"key\":\"assets/017/846...</td>\n",
       "    </tr>\n",
       "    <tr>\n",
       "      <th>108414</th>\n",
       "      <td>117022</td>\n",
       "      <td>https://www.kickstarter.com/projects/848839972...</td>\n",
       "      <td>Aura&amp;#39;s Chocolate Bar | Small Batch Artisan...</td>\n",
       "      <td>failed</td>\n",
       "      <td>0</td>\n",
       "      <td>14</td>\n",
       "      <td>145</td>\n",
       "      <td>https://www.kickstarter.com/projects/848839972...</td>\n",
       "      <td>15</td>\n",
       "      <td>179.0</td>\n",
       "      <td>...</td>\n",
       "      <td>Chocolate lovers! Chocaholics! Let&amp;#39;s Build...</td>\n",
       "      <td>&lt;p&gt;&lt;b&gt;IN A NUTSHELL &lt;/b&gt;&lt;/p&gt;&lt;p&gt; Aura's Chocola...</td>\n",
       "      <td>https://ksr-video.imgix.net/projects/3058003/v...</td>\n",
       "      <td></td>\n",
       "      <td>0</td>\n",
       "      <td>0</td>\n",
       "      <td>0</td>\n",
       "      <td>0</td>\n",
       "      <td>32</td>\n",
       "      <td>{\"id\":282994137,\"photo\":{\"key\":\"assets/017/794...</td>\n",
       "    </tr>\n",
       "    <tr>\n",
       "      <th>108415</th>\n",
       "      <td>117023</td>\n",
       "      <td>https://www.kickstarter.com/projects/100984525...</td>\n",
       "      <td>Japanese Lunch Box Retail Shop</td>\n",
       "      <td>failed</td>\n",
       "      <td>0</td>\n",
       "      <td>14</td>\n",
       "      <td>145</td>\n",
       "      <td>https://www.kickstarter.com/projects/100984525...</td>\n",
       "      <td>650</td>\n",
       "      <td>0.0</td>\n",
       "      <td>...</td>\n",
       "      <td>Setup our own food factory and a selling spot</td>\n",
       "      <td>&lt;p&gt;We will use the money on seting up a Food F...</td>\n",
       "      <td></td>\n",
       "      <td>https://ksr-ugc.imgix.net/assets/017/864/128/f...</td>\n",
       "      <td>0</td>\n",
       "      <td>0</td>\n",
       "      <td>0</td>\n",
       "      <td>0</td>\n",
       "      <td>0</td>\n",
       "      <td>{\"id\":328068673,\"photo\":{\"key\":\"assets/017/864...</td>\n",
       "    </tr>\n",
       "    <tr>\n",
       "      <th>108416</th>\n",
       "      <td>117024</td>\n",
       "      <td>https://www.kickstarter.com/projects/556520025...</td>\n",
       "      <td>Original 90s Style Szechuan Nugget Dipping Sauce</td>\n",
       "      <td>failed</td>\n",
       "      <td>0</td>\n",
       "      <td>14</td>\n",
       "      <td>145</td>\n",
       "      <td>https://www.kickstarter.com/projects/556520025...</td>\n",
       "      <td>35</td>\n",
       "      <td>1407.0</td>\n",
       "      <td>...</td>\n",
       "      <td>Szechuan Sauce lives again! We reverse enginee...</td>\n",
       "      <td>&lt;div class=\"template asset\" contenteditable=\"f...</td>\n",
       "      <td>https://ksr-video.imgix.net/projects/3065194/v...</td>\n",
       "      <td></td>\n",
       "      <td>0</td>\n",
       "      <td>1</td>\n",
       "      <td>0</td>\n",
       "      <td>0</td>\n",
       "      <td>167</td>\n",
       "      <td>{\"id\":687096902,\"photo\":{\"key\":\"assets/017/878...</td>\n",
       "    </tr>\n",
       "  </tbody>\n",
       "</table>\n",
       "<p>5 rows × 27 columns</p>\n",
       "</div>"
      ],
      "text/plain": [
       "        project_id                                                url  \\\n",
       "108412      117020  https://www.kickstarter.com/projects/117359406...   \n",
       "108413      117021  https://www.kickstarter.com/projects/195679343...   \n",
       "108414      117022  https://www.kickstarter.com/projects/848839972...   \n",
       "108415      117023  https://www.kickstarter.com/projects/100984525...   \n",
       "108416      117024  https://www.kickstarter.com/projects/556520025...   \n",
       "\n",
       "                                                     name  status  \\\n",
       "108412  Wm. Cofield Community and Celebration (October...  failed   \n",
       "108413              Handcrafted Eco-Friendly Edible Spoon  failed   \n",
       "108414  Aura&#39;s Chocolate Bar | Small Batch Artisan...  failed   \n",
       "108415                     Japanese Lunch Box Retail Shop  failed   \n",
       "108416   Original 90s Style Szechuan Nugget Dipping Sauce  failed   \n",
       "\n",
       "        project_we_love  category_id  subcategory_id  \\\n",
       "108412                0           14             145   \n",
       "108413                0           14             145   \n",
       "108414                0           14             145   \n",
       "108415                0           14             145   \n",
       "108416                0           14             145   \n",
       "\n",
       "                                             creators_url  location_id  \\\n",
       "108412  https://www.kickstarter.com/projects/117359406...         2621   \n",
       "108413  https://www.kickstarter.com/projects/195679343...         1611   \n",
       "108414  https://www.kickstarter.com/projects/848839972...           15   \n",
       "108415  https://www.kickstarter.com/projects/100984525...          650   \n",
       "108416  https://www.kickstarter.com/projects/556520025...           35   \n",
       "\n",
       "        pledged                        ...                          \\\n",
       "108412  12503.0                        ...                           \n",
       "108413    192.0                        ...                           \n",
       "108414    179.0                        ...                           \n",
       "108415      0.0                        ...                           \n",
       "108416   1407.0                        ...                           \n",
       "\n",
       "                                        description_short  \\\n",
       "108412  As our cheeses age to perfection, we are raisi...   \n",
       "108413  Using the 35 yr old Family Recipe on EDIBLES, ...   \n",
       "108414  Chocolate lovers! Chocaholics! Let&#39;s Build...   \n",
       "108415      Setup our own food factory and a selling spot   \n",
       "108416  Szechuan Sauce lives again! We reverse enginee...   \n",
       "\n",
       "                                         description_full  \\\n",
       "108412  <p>We are very pleased with our progress so fa...   \n",
       "108413  <div class=\"template asset\" contenteditable=\"f...   \n",
       "108414  <p><b>IN A NUTSHELL </b></p><p> Aura's Chocola...   \n",
       "108415  <p>We will use the money on seting up a Food F...   \n",
       "108416  <div class=\"template asset\" contenteditable=\"f...   \n",
       "\n",
       "                                                video_url  \\\n",
       "108412  https://ksr-video.imgix.net/projects/2945646/v...   \n",
       "108413  https://ksr-video.imgix.net/projects/3062569/v...   \n",
       "108414  https://ksr-video.imgix.net/projects/3058003/v...   \n",
       "108415                                                      \n",
       "108416  https://ksr-video.imgix.net/projects/3065194/v...   \n",
       "\n",
       "                                                image_url faq_count  \\\n",
       "108412                                                            0   \n",
       "108413                                                            0   \n",
       "108414                                                            0   \n",
       "108415  https://ksr-ugc.imgix.net/assets/017/864/128/f...         0   \n",
       "108416                                                            0   \n",
       "\n",
       "       updates_count  comments_count fb_comments_count fb_shares_count  \\\n",
       "108412             4               0                 0             352   \n",
       "108413             0               0                 0               0   \n",
       "108414             0               0                 0              32   \n",
       "108415             0               0                 0               0   \n",
       "108416             1               0                 0             167   \n",
       "\n",
       "                                             project_data  \n",
       "108412  {\"id\":1250503860,\"photo\":{\"key\":\"assets/016/50...  \n",
       "108413  {\"id\":303069932,\"photo\":{\"key\":\"assets/017/846...  \n",
       "108414  {\"id\":282994137,\"photo\":{\"key\":\"assets/017/794...  \n",
       "108415  {\"id\":328068673,\"photo\":{\"key\":\"assets/017/864...  \n",
       "108416  {\"id\":687096902,\"photo\":{\"key\":\"assets/017/878...  \n",
       "\n",
       "[5 rows x 27 columns]"
      ]
     },
     "execution_count": 5,
     "metadata": {},
     "output_type": "execute_result"
    }
   ],
   "source": [
    "df_db.tail()"
   ]
  },
  {
   "cell_type": "code",
   "execution_count": 6,
   "metadata": {},
   "outputs": [
    {
     "name": "stdout",
     "output_type": "stream",
     "text": [
      "<class 'pandas.core.frame.DataFrame'>\n",
      "RangeIndex: 108417 entries, 0 to 108416\n",
      "Data columns (total 27 columns):\n",
      "db_project_id           108417 non-null int64\n",
      "db_url                  108417 non-null object\n",
      "db_name                 108417 non-null object\n",
      "db_status               108417 non-null object\n",
      "db_project_we_love      108417 non-null int64\n",
      "db_category_id          108417 non-null int64\n",
      "db_subcategory_id       108417 non-null int64\n",
      "db_creators_url         108417 non-null object\n",
      "db_location_id          108417 non-null int64\n",
      "db_pledged              108417 non-null float64\n",
      "db_goal                 108417 non-null float64\n",
      "db_currency             108417 non-null object\n",
      "db_backers_count        108417 non-null int64\n",
      "db_duration             108417 non-null int64\n",
      "db_start_time           53383 non-null object\n",
      "db_end_time             108399 non-null object\n",
      "db_hours_remaining      108417 non-null float64\n",
      "db_description_short    108417 non-null object\n",
      "db_description_full     108417 non-null object\n",
      "db_video_url            108417 non-null object\n",
      "db_image_url            108417 non-null object\n",
      "db_faq_count            108417 non-null int64\n",
      "db_updates_count        108417 non-null int64\n",
      "db_comments_count       108417 non-null int64\n",
      "db_fb_comments_count    108417 non-null int64\n",
      "db_fb_shares_count      108417 non-null int64\n",
      "db_project_data         108417 non-null object\n",
      "dtypes: float64(3), int64(12), object(12)\n",
      "memory usage: 22.3+ MB\n"
     ]
    }
   ],
   "source": [
    "# rename columns in df_db\n",
    "df_db.rename(columns=lambda name: 'db_'+name, inplace=True)\n",
    "df_db.info()"
   ]
  },
  {
   "cell_type": "code",
   "execution_count": 7,
   "metadata": {},
   "outputs": [
    {
     "name": "stdout",
     "output_type": "stream",
     "text": [
      "https://www.kickstarter.com/projects/1461784364/season-6-of-the-faroe-islands-podcast-the-outer-is\n",
      "season-6-of-the-faroe-islands-podcast-the-outer-is\n"
     ]
    }
   ],
   "source": [
    "# db_project_id is sequence\n",
    "# project names are not unique\n",
    "# project has more urls (we can have distinct urls in our two datasets)\n",
    "# but we could use project names contained in url for merging with first dataset as they ARE unique for each project\n",
    "print(df_db.loc[1, 'db_url'])\n",
    "print(df_db.loc[1, 'db_url'].split('/')[5])"
   ]
  },
  {
   "cell_type": "code",
   "execution_count": 8,
   "metadata": {},
   "outputs": [
    {
     "data": {
      "text/plain": [
       "'all-style-dance-battle-the-streak'"
      ]
     },
     "execution_count": 8,
     "metadata": {},
     "output_type": "execute_result"
    }
   ],
   "source": [
    "df_projects.loc[1, 'url_name']"
   ]
  },
  {
   "cell_type": "code",
   "execution_count": 9,
   "metadata": {
    "collapsed": true
   },
   "outputs": [],
   "source": [
    "# get url_name\n",
    "df_db['url_name'] = df_db.apply(lambda x: x['db_url'].split('/')[5], axis=1)"
   ]
  },
  {
   "cell_type": "code",
   "execution_count": 10,
   "metadata": {
    "collapsed": true
   },
   "outputs": [],
   "source": [
    "# merge first and second dataset\n",
    "df_merged = df_projects.merge(df_db, on='url_name')"
   ]
  },
  {
   "cell_type": "code",
   "execution_count": 11,
   "metadata": {},
   "outputs": [
    {
     "data": {
      "text/plain": [
       "31062"
      ]
     },
     "execution_count": 11,
     "metadata": {},
     "output_type": "execute_result"
    }
   ],
   "source": [
    "len(df_merged)"
   ]
  },
  {
   "cell_type": "code",
   "execution_count": 12,
   "metadata": {
    "collapsed": true
   },
   "outputs": [],
   "source": [
    "df_merged.to_csv('data/merged.csv')"
   ]
  },
  {
   "cell_type": "code",
   "execution_count": null,
   "metadata": {
    "collapsed": true
   },
   "outputs": [],
   "source": []
  },
  {
   "cell_type": "markdown",
   "metadata": {},
   "source": [
    "# Exploratory data analysis"
   ]
  },
  {
   "cell_type": "code",
   "execution_count": 13,
   "metadata": {
    "collapsed": true
   },
   "outputs": [],
   "source": [
    "%matplotlib inline\n",
    "import pandas as pd\n",
    "import numpy as np\n",
    "import scipy.stats as stats\n",
    "import matplotlib.pyplot as plt\n",
    "import seaborn as sns"
   ]
  },
  {
   "cell_type": "code",
   "execution_count": 14,
   "metadata": {},
   "outputs": [
    {
     "name": "stderr",
     "output_type": "stream",
     "text": [
      "C:\\Users\\Patrik\\Anaconda3\\lib\\site-packages\\IPython\\core\\interactiveshell.py:2717: DtypeWarning: Columns (51,52) have mixed types. Specify dtype option on import or set low_memory=False.\n",
      "  interactivity=interactivity, compiler=compiler, result=result)\n"
     ]
    }
   ],
   "source": [
    "df = pd.read_csv('data/merged.csv', encoding='latin1', index_col=0)"
   ]
  },
  {
   "cell_type": "code",
   "execution_count": 15,
   "metadata": {
    "collapsed": true
   },
   "outputs": [],
   "source": [
    "df.sort_index(axis=1, inplace=True)"
   ]
  },
  {
   "cell_type": "code",
   "execution_count": 16,
   "metadata": {
    "scrolled": false
   },
   "outputs": [
    {
     "name": "stdout",
     "output_type": "stream",
     "text": [
      "<class 'pandas.core.frame.DataFrame'>\n",
      "Int64Index: 31062 entries, 0 to 31061\n",
      "Data columns (total 102 columns):\n",
      "average_pledge               31062 non-null float64\n",
      "average_pledge_end           31062 non-null float64\n",
      "backers_count                31062 non-null int64\n",
      "backers_count_end            31062 non-null int64\n",
      "blurb                        31062 non-null object\n",
      "blurb_end                    31062 non-null object\n",
      "category                     31062 non-null object\n",
      "category_end                 31062 non-null object\n",
      "category_name                31062 non-null object\n",
      "category_name_end            31062 non-null object\n",
      "category_parent              31062 non-null object\n",
      "category_parent_end          31062 non-null object\n",
      "category_position            31062 non-null int64\n",
      "category_position_end        31062 non-null int64\n",
      "country                      31062 non-null object\n",
      "created_at                   31062 non-null int64\n",
      "creator                      31062 non-null object\n",
      "creator_end                  31062 non-null object\n",
      "creator_name                 31061 non-null object\n",
      "creator_name_end             31061 non-null object\n",
      "currency                     31062 non-null object\n",
      "currency_symbol              31062 non-null object\n",
      "currency_trailing_code       31062 non-null bool\n",
      "days_duration                31062 non-null int64\n",
      "days_preparation             31062 non-null int64\n",
      "days_remaining               31062 non-null int64\n",
      "days_running                 31062 non-null int64\n",
      "db_backers_count             31062 non-null int64\n",
      "db_category_id               31062 non-null int64\n",
      "db_comments_count            31062 non-null int64\n",
      "db_creators_url              31062 non-null object\n",
      "db_currency                  31062 non-null object\n",
      "db_description_full          31050 non-null object\n",
      "db_description_short         31062 non-null object\n",
      "db_duration                  31062 non-null int64\n",
      "db_end_time                  31062 non-null object\n",
      "db_faq_count                 31062 non-null int64\n",
      "db_fb_comments_count         31062 non-null int64\n",
      "db_fb_shares_count           31062 non-null int64\n",
      "db_goal                      31062 non-null float64\n",
      "db_hours_remaining           31062 non-null float64\n",
      "db_image_url                 21750 non-null object\n",
      "db_location_id               31062 non-null int64\n",
      "db_name                      31062 non-null object\n",
      "db_pledged                   31062 non-null float64\n",
      "db_project_data              30960 non-null object\n",
      "db_project_id                31062 non-null int64\n",
      "db_project_we_love           31062 non-null int64\n",
      "db_start_time                14140 non-null object\n",
      "db_status                    31062 non-null object\n",
      "db_subcategory_id            31062 non-null int64\n",
      "db_updates_count             31062 non-null int64\n",
      "db_url                       31062 non-null object\n",
      "db_video_url                 20608 non-null object\n",
      "deadline_end                 31062 non-null int64\n",
      "disable_communication        31062 non-null bool\n",
      "disable_communication_end    31062 non-null bool\n",
      "goal                         31062 non-null float64\n",
      "id                           31062 non-null int64\n",
      "launched_at                  31062 non-null int64\n",
      "location                     31062 non-null object\n",
      "location_end                 31062 non-null object\n",
      "location_is_root             31062 non-null bool\n",
      "location_name                31062 non-null object\n",
      "location_name_end            31062 non-null object\n",
      "location_state               31055 non-null object\n",
      "location_state_end           31056 non-null object\n",
      "location_type                31062 non-null object\n",
      "location_type_end            31062 non-null object\n",
      "name                         31062 non-null object\n",
      "name_end                     31062 non-null object\n",
      "photo                        31062 non-null object\n",
      "photo_end                    31062 non-null object\n",
      "pledged                      31062 non-null float64\n",
      "pledged_end                  31062 non-null float64\n",
      "profile                      31062 non-null object\n",
      "profile_end                  31062 non-null object\n",
      "ratio_pledged_end_goal       31062 non-null float64\n",
      "ratio_pledged_goal           31062 non-null float64\n",
      "ratio_running_duration       31062 non-null float64\n",
      "scraped_at                   31062 non-null int64\n",
      "slug                         31062 non-null object\n",
      "source_url                   31062 non-null object\n",
      "source_url_end               31062 non-null object\n",
      "spotlight                    31062 non-null bool\n",
      "spotlight_end                31062 non-null bool\n",
      "staff_pick                   27493 non-null object\n",
      "staff_pick_end               29263 non-null object\n",
      "state                        31062 non-null object\n",
      "state_changed_at             31062 non-null int64\n",
      "state_changed_at_end         31062 non-null int64\n",
      "state_end                    31062 non-null object\n",
      "static_usd_rate              31062 non-null float64\n",
      "static_usd_rate_end          31062 non-null float64\n",
      "url_name                     31062 non-null object\n",
      "urls                         31062 non-null object\n",
      "urls_end                     31062 non-null object\n",
      "urls_url                     31062 non-null object\n",
      "urls_url_end                 31062 non-null object\n",
      "usd_goal                     31062 non-null int64\n",
      "usd_pledged                  31062 non-null float64\n",
      "usd_pledged_end              31062 non-null float64\n",
      "dtypes: bool(6), float64(15), int64(28), object(53)\n",
      "memory usage: 23.2+ MB\n"
     ]
    }
   ],
   "source": [
    "df.info(max_cols=150)"
   ]
  },
  {
   "cell_type": "code",
   "execution_count": 17,
   "metadata": {},
   "outputs": [
    {
     "data": {
      "text/plain": [
       "360"
      ]
     },
     "execution_count": 17,
     "metadata": {},
     "output_type": "execute_result"
    }
   ],
   "source": [
    "len(df[df['usd_goal']<100])"
   ]
  },
  {
   "cell_type": "code",
   "execution_count": 18,
   "metadata": {
    "collapsed": true
   },
   "outputs": [],
   "source": [
    "# use only projects with goal 100 usd at least\n",
    "df = df[df['usd_goal']>=100]"
   ]
  },
  {
   "cell_type": "markdown",
   "metadata": {},
   "source": [
    "## inconsistencies"
   ]
  },
  {
   "cell_type": "code",
   "execution_count": 19,
   "metadata": {
    "scrolled": true
   },
   "outputs": [
    {
     "data": {
      "text/html": [
       "<div>\n",
       "<style>\n",
       "    .dataframe thead tr:only-child th {\n",
       "        text-align: right;\n",
       "    }\n",
       "\n",
       "    .dataframe thead th {\n",
       "        text-align: left;\n",
       "    }\n",
       "\n",
       "    .dataframe tbody tr th {\n",
       "        vertical-align: top;\n",
       "    }\n",
       "</style>\n",
       "<table border=\"1\" class=\"dataframe\">\n",
       "  <thead>\n",
       "    <tr style=\"text-align: right;\">\n",
       "      <th></th>\n",
       "      <th>days_duration</th>\n",
       "      <th>db_duration</th>\n",
       "      <th>url_name</th>\n",
       "      <th>days_running</th>\n",
       "    </tr>\n",
       "  </thead>\n",
       "  <tbody>\n",
       "    <tr>\n",
       "      <th>1199</th>\n",
       "      <td>59</td>\n",
       "      <td>45</td>\n",
       "      <td>ichristmas-in-paris-the-streets-the-people-the...</td>\n",
       "      <td>18</td>\n",
       "    </tr>\n",
       "    <tr>\n",
       "      <th>1537</th>\n",
       "      <td>52</td>\n",
       "      <td>45</td>\n",
       "      <td>sweetdate4u-business-helper-aide-aux-commercants</td>\n",
       "      <td>29</td>\n",
       "    </tr>\n",
       "    <tr>\n",
       "      <th>1617</th>\n",
       "      <td>44</td>\n",
       "      <td>30</td>\n",
       "      <td>perldancer-book</td>\n",
       "      <td>1</td>\n",
       "    </tr>\n",
       "    <tr>\n",
       "      <th>1789</th>\n",
       "      <td>40</td>\n",
       "      <td>35</td>\n",
       "      <td>le-bureau-connecte-par-martin-lecomte-mobilier...</td>\n",
       "      <td>4</td>\n",
       "    </tr>\n",
       "    <tr>\n",
       "      <th>3173</th>\n",
       "      <td>59</td>\n",
       "      <td>45</td>\n",
       "      <td>ellen-birath-band-album-2</td>\n",
       "      <td>45</td>\n",
       "    </tr>\n",
       "    <tr>\n",
       "      <th>3230</th>\n",
       "      <td>60</td>\n",
       "      <td>30</td>\n",
       "      <td>les-mondes-de-lessaim-un-roman-de-sf-avec-sa-b...</td>\n",
       "      <td>34</td>\n",
       "    </tr>\n",
       "    <tr>\n",
       "      <th>3706</th>\n",
       "      <td>49</td>\n",
       "      <td>50</td>\n",
       "      <td>tangibility-abstraction-exhibition</td>\n",
       "      <td>0</td>\n",
       "    </tr>\n",
       "    <tr>\n",
       "      <th>3710</th>\n",
       "      <td>59</td>\n",
       "      <td>60</td>\n",
       "      <td>holy-chalicedigital-print</td>\n",
       "      <td>12</td>\n",
       "    </tr>\n",
       "    <tr>\n",
       "      <th>3730</th>\n",
       "      <td>59</td>\n",
       "      <td>60</td>\n",
       "      <td>crear-cuadro-de-arte-contemporaneo-en-partida-...</td>\n",
       "      <td>6</td>\n",
       "    </tr>\n",
       "    <tr>\n",
       "      <th>3745</th>\n",
       "      <td>59</td>\n",
       "      <td>60</td>\n",
       "      <td>colormusik-the-music-of-bach-in-full-color</td>\n",
       "      <td>8</td>\n",
       "    </tr>\n",
       "    <tr>\n",
       "      <th>3751</th>\n",
       "      <td>59</td>\n",
       "      <td>60</td>\n",
       "      <td>panda-stickers</td>\n",
       "      <td>8</td>\n",
       "    </tr>\n",
       "    <tr>\n",
       "      <th>3774</th>\n",
       "      <td>59</td>\n",
       "      <td>60</td>\n",
       "      <td>look-here-camberwell-illustration-2016</td>\n",
       "      <td>14</td>\n",
       "    </tr>\n",
       "    <tr>\n",
       "      <th>3794</th>\n",
       "      <td>59</td>\n",
       "      <td>60</td>\n",
       "      <td>divine-monument</td>\n",
       "      <td>1</td>\n",
       "    </tr>\n",
       "    <tr>\n",
       "      <th>3795</th>\n",
       "      <td>59</td>\n",
       "      <td>60</td>\n",
       "      <td>divine-monument</td>\n",
       "      <td>55</td>\n",
       "    </tr>\n",
       "    <tr>\n",
       "      <th>3813</th>\n",
       "      <td>59</td>\n",
       "      <td>60</td>\n",
       "      <td>syn</td>\n",
       "      <td>1</td>\n",
       "    </tr>\n",
       "    <tr>\n",
       "      <th>3814</th>\n",
       "      <td>59</td>\n",
       "      <td>60</td>\n",
       "      <td>syn</td>\n",
       "      <td>55</td>\n",
       "    </tr>\n",
       "    <tr>\n",
       "      <th>3817</th>\n",
       "      <td>59</td>\n",
       "      <td>60</td>\n",
       "      <td>r4-botanicals-operation-save-glass</td>\n",
       "      <td>9</td>\n",
       "    </tr>\n",
       "    <tr>\n",
       "      <th>3827</th>\n",
       "      <td>59</td>\n",
       "      <td>60</td>\n",
       "      <td>flicker-by-jsmf</td>\n",
       "      <td>5</td>\n",
       "    </tr>\n",
       "    <tr>\n",
       "      <th>3828</th>\n",
       "      <td>59</td>\n",
       "      <td>60</td>\n",
       "      <td>flicker-by-jsmf</td>\n",
       "      <td>59</td>\n",
       "    </tr>\n",
       "    <tr>\n",
       "      <th>3840</th>\n",
       "      <td>59</td>\n",
       "      <td>60</td>\n",
       "      <td>chrissys-cruisin-creations</td>\n",
       "      <td>6</td>\n",
       "    </tr>\n",
       "    <tr>\n",
       "      <th>3853</th>\n",
       "      <td>59</td>\n",
       "      <td>60</td>\n",
       "      <td>plushmania</td>\n",
       "      <td>3</td>\n",
       "    </tr>\n",
       "    <tr>\n",
       "      <th>3854</th>\n",
       "      <td>59</td>\n",
       "      <td>60</td>\n",
       "      <td>plushmania</td>\n",
       "      <td>57</td>\n",
       "    </tr>\n",
       "    <tr>\n",
       "      <th>3883</th>\n",
       "      <td>59</td>\n",
       "      <td>60</td>\n",
       "      <td>richards-anime-emporium</td>\n",
       "      <td>1</td>\n",
       "    </tr>\n",
       "    <tr>\n",
       "      <th>3884</th>\n",
       "      <td>59</td>\n",
       "      <td>60</td>\n",
       "      <td>richards-anime-emporium</td>\n",
       "      <td>55</td>\n",
       "    </tr>\n",
       "    <tr>\n",
       "      <th>3895</th>\n",
       "      <td>59</td>\n",
       "      <td>60</td>\n",
       "      <td>phantom-of-the-opera-the-graphic-novel</td>\n",
       "      <td>2</td>\n",
       "    </tr>\n",
       "    <tr>\n",
       "      <th>3896</th>\n",
       "      <td>59</td>\n",
       "      <td>60</td>\n",
       "      <td>phantom-of-the-opera-the-graphic-novel</td>\n",
       "      <td>56</td>\n",
       "    </tr>\n",
       "    <tr>\n",
       "      <th>3907</th>\n",
       "      <td>59</td>\n",
       "      <td>60</td>\n",
       "      <td>create-free-high-quality-manga</td>\n",
       "      <td>8</td>\n",
       "    </tr>\n",
       "    <tr>\n",
       "      <th>3968</th>\n",
       "      <td>59</td>\n",
       "      <td>60</td>\n",
       "      <td>the-purrfect-brand-for-cats-and-people</td>\n",
       "      <td>5</td>\n",
       "    </tr>\n",
       "    <tr>\n",
       "      <th>3969</th>\n",
       "      <td>59</td>\n",
       "      <td>60</td>\n",
       "      <td>the-purrfect-brand-for-cats-and-people</td>\n",
       "      <td>59</td>\n",
       "    </tr>\n",
       "    <tr>\n",
       "      <th>4024</th>\n",
       "      <td>59</td>\n",
       "      <td>60</td>\n",
       "      <td>sul-filo-di-lana-ricuperiamo-la-lana-del-casen...</td>\n",
       "      <td>0</td>\n",
       "    </tr>\n",
       "    <tr>\n",
       "      <th>...</th>\n",
       "      <td>...</td>\n",
       "      <td>...</td>\n",
       "      <td>...</td>\n",
       "      <td>...</td>\n",
       "    </tr>\n",
       "    <tr>\n",
       "      <th>27100</th>\n",
       "      <td>28</td>\n",
       "      <td>20</td>\n",
       "      <td>goga</td>\n",
       "      <td>9</td>\n",
       "    </tr>\n",
       "    <tr>\n",
       "      <th>27418</th>\n",
       "      <td>23</td>\n",
       "      <td>21</td>\n",
       "      <td>dyan-kane-sould-out-super-cd-project-2</td>\n",
       "      <td>13</td>\n",
       "    </tr>\n",
       "    <tr>\n",
       "      <th>27476</th>\n",
       "      <td>27</td>\n",
       "      <td>30</td>\n",
       "      <td>a-one-man-show-at-the-carmel-sunset-center</td>\n",
       "      <td>1</td>\n",
       "    </tr>\n",
       "    <tr>\n",
       "      <th>27928</th>\n",
       "      <td>24</td>\n",
       "      <td>25</td>\n",
       "      <td>the-white-bike-production</td>\n",
       "      <td>2</td>\n",
       "    </tr>\n",
       "    <tr>\n",
       "      <th>28020</th>\n",
       "      <td>23</td>\n",
       "      <td>30</td>\n",
       "      <td>fan-art-outside-the-box</td>\n",
       "      <td>9</td>\n",
       "    </tr>\n",
       "    <tr>\n",
       "      <th>28203</th>\n",
       "      <td>28</td>\n",
       "      <td>29</td>\n",
       "      <td>sense-of-place-by-jose-davila</td>\n",
       "      <td>3</td>\n",
       "    </tr>\n",
       "    <tr>\n",
       "      <th>28503</th>\n",
       "      <td>31</td>\n",
       "      <td>35</td>\n",
       "      <td>al-my-brother</td>\n",
       "      <td>7</td>\n",
       "    </tr>\n",
       "    <tr>\n",
       "      <th>28942</th>\n",
       "      <td>32</td>\n",
       "      <td>30</td>\n",
       "      <td>switch-con-worlds-first-hdmi-hub-for-switch-an...</td>\n",
       "      <td>26</td>\n",
       "    </tr>\n",
       "    <tr>\n",
       "      <th>29077</th>\n",
       "      <td>52</td>\n",
       "      <td>40</td>\n",
       "      <td>expiringby-julian-shapiro-barnum-and-noelle-me...</td>\n",
       "      <td>36</td>\n",
       "    </tr>\n",
       "    <tr>\n",
       "      <th>29182</th>\n",
       "      <td>48</td>\n",
       "      <td>30</td>\n",
       "      <td>pindabear-enamel-pins-initial-launch</td>\n",
       "      <td>8</td>\n",
       "    </tr>\n",
       "    <tr>\n",
       "      <th>29203</th>\n",
       "      <td>32</td>\n",
       "      <td>30</td>\n",
       "      <td>the-unseen</td>\n",
       "      <td>15</td>\n",
       "    </tr>\n",
       "    <tr>\n",
       "      <th>29512</th>\n",
       "      <td>28</td>\n",
       "      <td>30</td>\n",
       "      <td>grade-a-greenhouse-project</td>\n",
       "      <td>0</td>\n",
       "    </tr>\n",
       "    <tr>\n",
       "      <th>29564</th>\n",
       "      <td>44</td>\n",
       "      <td>30</td>\n",
       "      <td>wicked-boxer-brewing-first-brewery-in-cypress-tx</td>\n",
       "      <td>8</td>\n",
       "    </tr>\n",
       "    <tr>\n",
       "      <th>29565</th>\n",
       "      <td>44</td>\n",
       "      <td>30</td>\n",
       "      <td>wicked-boxer-brewing-first-brewery-in-cypress-tx</td>\n",
       "      <td>39</td>\n",
       "    </tr>\n",
       "    <tr>\n",
       "      <th>29672</th>\n",
       "      <td>13</td>\n",
       "      <td>16</td>\n",
       "      <td>radio-peyizan</td>\n",
       "      <td>12</td>\n",
       "    </tr>\n",
       "    <tr>\n",
       "      <th>29747</th>\n",
       "      <td>60</td>\n",
       "      <td>40</td>\n",
       "      <td>the-joe-gransden-big-bands-latest-and-greatest...</td>\n",
       "      <td>1</td>\n",
       "    </tr>\n",
       "    <tr>\n",
       "      <th>29748</th>\n",
       "      <td>60</td>\n",
       "      <td>40</td>\n",
       "      <td>the-joe-gransden-big-bands-latest-and-greatest...</td>\n",
       "      <td>32</td>\n",
       "    </tr>\n",
       "    <tr>\n",
       "      <th>29749</th>\n",
       "      <td>52</td>\n",
       "      <td>45</td>\n",
       "      <td>nancy-kellys-mark-murphy-tribute-cd</td>\n",
       "      <td>12</td>\n",
       "    </tr>\n",
       "    <tr>\n",
       "      <th>29750</th>\n",
       "      <td>52</td>\n",
       "      <td>45</td>\n",
       "      <td>nancy-kellys-mark-murphy-tribute-cd</td>\n",
       "      <td>43</td>\n",
       "    </tr>\n",
       "    <tr>\n",
       "      <th>29778</th>\n",
       "      <td>31</td>\n",
       "      <td>30</td>\n",
       "      <td>studio-darkashter-start-dash</td>\n",
       "      <td>7</td>\n",
       "    </tr>\n",
       "    <tr>\n",
       "      <th>29925</th>\n",
       "      <td>31</td>\n",
       "      <td>30</td>\n",
       "      <td>great-stories-well-told</td>\n",
       "      <td>27</td>\n",
       "    </tr>\n",
       "    <tr>\n",
       "      <th>30173</th>\n",
       "      <td>32</td>\n",
       "      <td>30</td>\n",
       "      <td>the-sonnets</td>\n",
       "      <td>16</td>\n",
       "    </tr>\n",
       "    <tr>\n",
       "      <th>30327</th>\n",
       "      <td>40</td>\n",
       "      <td>30</td>\n",
       "      <td>y-hasta-la-muerte-amar-poemas-del-dia-de-muertos</td>\n",
       "      <td>19</td>\n",
       "    </tr>\n",
       "    <tr>\n",
       "      <th>30436</th>\n",
       "      <td>24</td>\n",
       "      <td>30</td>\n",
       "      <td>inter-pares-projects-autumn-residency-at-dance...</td>\n",
       "      <td>8</td>\n",
       "    </tr>\n",
       "    <tr>\n",
       "      <th>30486</th>\n",
       "      <td>40</td>\n",
       "      <td>30</td>\n",
       "      <td>gozpa-paz-y-moda</td>\n",
       "      <td>20</td>\n",
       "    </tr>\n",
       "    <tr>\n",
       "      <th>30549</th>\n",
       "      <td>30</td>\n",
       "      <td>20</td>\n",
       "      <td>saldra-el-sol-video</td>\n",
       "      <td>7</td>\n",
       "    </tr>\n",
       "    <tr>\n",
       "      <th>30617</th>\n",
       "      <td>46</td>\n",
       "      <td>30</td>\n",
       "      <td>withco-cocktails-fresh-ingredient-drink-mixers</td>\n",
       "      <td>22</td>\n",
       "    </tr>\n",
       "    <tr>\n",
       "      <th>30716</th>\n",
       "      <td>24</td>\n",
       "      <td>30</td>\n",
       "      <td>bring-jazz-back-to-chattanooga</td>\n",
       "      <td>10</td>\n",
       "    </tr>\n",
       "    <tr>\n",
       "      <th>30749</th>\n",
       "      <td>29</td>\n",
       "      <td>30</td>\n",
       "      <td>skyvenirs</td>\n",
       "      <td>14</td>\n",
       "    </tr>\n",
       "    <tr>\n",
       "      <th>31027</th>\n",
       "      <td>40</td>\n",
       "      <td>30</td>\n",
       "      <td>agua-musica-para-la-voz-arte-laboratorio-la-rueca</td>\n",
       "      <td>10</td>\n",
       "    </tr>\n",
       "  </tbody>\n",
       "</table>\n",
       "<p>3018 rows × 4 columns</p>\n",
       "</div>"
      ],
      "text/plain": [
       "       days_duration  db_duration  \\\n",
       "1199              59           45   \n",
       "1537              52           45   \n",
       "1617              44           30   \n",
       "1789              40           35   \n",
       "3173              59           45   \n",
       "3230              60           30   \n",
       "3706              49           50   \n",
       "3710              59           60   \n",
       "3730              59           60   \n",
       "3745              59           60   \n",
       "3751              59           60   \n",
       "3774              59           60   \n",
       "3794              59           60   \n",
       "3795              59           60   \n",
       "3813              59           60   \n",
       "3814              59           60   \n",
       "3817              59           60   \n",
       "3827              59           60   \n",
       "3828              59           60   \n",
       "3840              59           60   \n",
       "3853              59           60   \n",
       "3854              59           60   \n",
       "3883              59           60   \n",
       "3884              59           60   \n",
       "3895              59           60   \n",
       "3896              59           60   \n",
       "3907              59           60   \n",
       "3968              59           60   \n",
       "3969              59           60   \n",
       "4024              59           60   \n",
       "...              ...          ...   \n",
       "27100             28           20   \n",
       "27418             23           21   \n",
       "27476             27           30   \n",
       "27928             24           25   \n",
       "28020             23           30   \n",
       "28203             28           29   \n",
       "28503             31           35   \n",
       "28942             32           30   \n",
       "29077             52           40   \n",
       "29182             48           30   \n",
       "29203             32           30   \n",
       "29512             28           30   \n",
       "29564             44           30   \n",
       "29565             44           30   \n",
       "29672             13           16   \n",
       "29747             60           40   \n",
       "29748             60           40   \n",
       "29749             52           45   \n",
       "29750             52           45   \n",
       "29778             31           30   \n",
       "29925             31           30   \n",
       "30173             32           30   \n",
       "30327             40           30   \n",
       "30436             24           30   \n",
       "30486             40           30   \n",
       "30549             30           20   \n",
       "30617             46           30   \n",
       "30716             24           30   \n",
       "30749             29           30   \n",
       "31027             40           30   \n",
       "\n",
       "                                                url_name  days_running  \n",
       "1199   ichristmas-in-paris-the-streets-the-people-the...            18  \n",
       "1537    sweetdate4u-business-helper-aide-aux-commercants            29  \n",
       "1617                                     perldancer-book             1  \n",
       "1789   le-bureau-connecte-par-martin-lecomte-mobilier...             4  \n",
       "3173                           ellen-birath-band-album-2            45  \n",
       "3230   les-mondes-de-lessaim-un-roman-de-sf-avec-sa-b...            34  \n",
       "3706                  tangibility-abstraction-exhibition             0  \n",
       "3710                           holy-chalicedigital-print            12  \n",
       "3730   crear-cuadro-de-arte-contemporaneo-en-partida-...             6  \n",
       "3745          colormusik-the-music-of-bach-in-full-color             8  \n",
       "3751                                      panda-stickers             8  \n",
       "3774              look-here-camberwell-illustration-2016            14  \n",
       "3794                                     divine-monument             1  \n",
       "3795                                     divine-monument            55  \n",
       "3813                                                 syn             1  \n",
       "3814                                                 syn            55  \n",
       "3817                  r4-botanicals-operation-save-glass             9  \n",
       "3827                                     flicker-by-jsmf             5  \n",
       "3828                                     flicker-by-jsmf            59  \n",
       "3840                          chrissys-cruisin-creations             6  \n",
       "3853                                          plushmania             3  \n",
       "3854                                          plushmania            57  \n",
       "3883                             richards-anime-emporium             1  \n",
       "3884                             richards-anime-emporium            55  \n",
       "3895              phantom-of-the-opera-the-graphic-novel             2  \n",
       "3896              phantom-of-the-opera-the-graphic-novel            56  \n",
       "3907                      create-free-high-quality-manga             8  \n",
       "3968              the-purrfect-brand-for-cats-and-people             5  \n",
       "3969              the-purrfect-brand-for-cats-and-people            59  \n",
       "4024   sul-filo-di-lana-ricuperiamo-la-lana-del-casen...             0  \n",
       "...                                                  ...           ...  \n",
       "27100                                               goga             9  \n",
       "27418             dyan-kane-sould-out-super-cd-project-2            13  \n",
       "27476         a-one-man-show-at-the-carmel-sunset-center             1  \n",
       "27928                          the-white-bike-production             2  \n",
       "28020                            fan-art-outside-the-box             9  \n",
       "28203                      sense-of-place-by-jose-davila             3  \n",
       "28503                                      al-my-brother             7  \n",
       "28942  switch-con-worlds-first-hdmi-hub-for-switch-an...            26  \n",
       "29077  expiringby-julian-shapiro-barnum-and-noelle-me...            36  \n",
       "29182               pindabear-enamel-pins-initial-launch             8  \n",
       "29203                                         the-unseen            15  \n",
       "29512                         grade-a-greenhouse-project             0  \n",
       "29564   wicked-boxer-brewing-first-brewery-in-cypress-tx             8  \n",
       "29565   wicked-boxer-brewing-first-brewery-in-cypress-tx            39  \n",
       "29672                                      radio-peyizan            12  \n",
       "29747  the-joe-gransden-big-bands-latest-and-greatest...             1  \n",
       "29748  the-joe-gransden-big-bands-latest-and-greatest...            32  \n",
       "29749                nancy-kellys-mark-murphy-tribute-cd            12  \n",
       "29750                nancy-kellys-mark-murphy-tribute-cd            43  \n",
       "29778                       studio-darkashter-start-dash             7  \n",
       "29925                            great-stories-well-told            27  \n",
       "30173                                        the-sonnets            16  \n",
       "30327   y-hasta-la-muerte-amar-poemas-del-dia-de-muertos            19  \n",
       "30436  inter-pares-projects-autumn-residency-at-dance...             8  \n",
       "30486                                   gozpa-paz-y-moda            20  \n",
       "30549                                saldra-el-sol-video             7  \n",
       "30617     withco-cocktails-fresh-ingredient-drink-mixers            22  \n",
       "30716                     bring-jazz-back-to-chattanooga            10  \n",
       "30749                                          skyvenirs            14  \n",
       "31027  agua-musica-para-la-voz-arte-laboratorio-la-rueca            10  \n",
       "\n",
       "[3018 rows x 4 columns]"
      ]
     },
     "execution_count": 19,
     "metadata": {},
     "output_type": "execute_result"
    }
   ],
   "source": [
    "# there are problems with project duration \n",
    "# - in db, the duration was scraped,\n",
    "# - in first dataset, the duration was computed from timestams\n",
    "# However if we look at kickstarter, we will see the same problem, so there is no way to find out real duration.\n",
    "# Therefore we will keep both values.\n",
    "# https://www.kickstarter.com/projects/370420982/ichristmas-in-paris-the-streets-the-people-the-mar?ref=profile_created\n",
    "df[df['days_duration'] != df['db_duration']][['days_duration', 'db_duration', 'url_name', 'days_running']]"
   ]
  },
  {
   "cell_type": "markdown",
   "metadata": {},
   "source": [
    "### Dataset size"
   ]
  },
  {
   "cell_type": "code",
   "execution_count": 20,
   "metadata": {},
   "outputs": [
    {
     "data": {
      "text/plain": [
       "(30702, 102)"
      ]
     },
     "execution_count": 20,
     "metadata": {},
     "output_type": "execute_result"
    }
   ],
   "source": [
    "df.shape"
   ]
  },
  {
   "cell_type": "markdown",
   "metadata": {},
   "source": [
    "### Success rate"
   ]
  },
  {
   "cell_type": "code",
   "execution_count": 21,
   "metadata": {},
   "outputs": [
    {
     "data": {
      "text/plain": [
       "failed        16847\n",
       "successful    13855\n",
       "Name: state_end, dtype: int64"
      ]
     },
     "execution_count": 21,
     "metadata": {},
     "output_type": "execute_result"
    }
   ],
   "source": [
    "df['state_end'].value_counts()"
   ]
  },
  {
   "cell_type": "code",
   "execution_count": 22,
   "metadata": {},
   "outputs": [
    {
     "data": {
      "text/plain": [
       "failed        54.872647\n",
       "successful    45.127353\n",
       "Name: state_end, dtype: float64"
      ]
     },
     "execution_count": 22,
     "metadata": {},
     "output_type": "execute_result"
    }
   ],
   "source": [
    "df['state_end'].value_counts()/len(df)*100"
   ]
  },
  {
   "cell_type": "markdown",
   "metadata": {},
   "source": [
    "### Duration distribution"
   ]
  },
  {
   "cell_type": "code",
   "execution_count": 23,
   "metadata": {},
   "outputs": [
    {
     "data": {
      "text/plain": [
       "<matplotlib.text.Text at 0x21a11284cc0>"
      ]
     },
     "execution_count": 23,
     "metadata": {},
     "output_type": "execute_result"
    },
    {
     "data": {
      "image/png": "[encoded data removed]",
      "text/plain": [
       "<matplotlib.figure.Figure at 0x21af546c518>"
      ]
     },
     "metadata": {},
     "output_type": "display_data"
    }
   ],
   "source": [
    "df['days_duration'].hist(bins=20)\n",
    "#plt.yscale('log')\n",
    "plt.ylabel('count of projects')\n",
    "plt.xlabel('duration in days')\n",
    "plt.title('Distribution of campaign duration')"
   ]
  },
  {
   "cell_type": "markdown",
   "metadata": {},
   "source": [
    "### Days running distribution"
   ]
  },
  {
   "cell_type": "code",
   "execution_count": 24,
   "metadata": {},
   "outputs": [
    {
     "data": {
      "text/plain": [
       "<matplotlib.text.Text at 0x21a113a8d68>"
      ]
     },
     "execution_count": 24,
     "metadata": {},
     "output_type": "execute_result"
    },
    {
     "data": {
      "image/png": "[encoded data removed]",
      "text/plain": [
       "<matplotlib.figure.Figure at 0x21a1133cac8>"
      ]
     },
     "metadata": {},
     "output_type": "display_data"
    }
   ],
   "source": [
    "df['days_running'].hist(bins=10)\n",
    "plt.ylabel('count of projects')\n",
    "plt.xlabel('duration in days')\n",
    "plt.title('Distribution of campaign duration')"
   ]
  },
  {
   "cell_type": "markdown",
   "metadata": {},
   "source": [
    "### Days running / duration ratio\n",
    "\n",
    "We will predict project success in 4 stages (4 separate predicting models):\n",
    "* <0, 25) % of project duration,\n",
    "* <25, 50) % of project duration,\n",
    "* <50, 75) % of project duration,\n",
    "* <75, 100) % of project duration,"
   ]
  },
  {
   "cell_type": "code",
   "execution_count": 25,
   "metadata": {},
   "outputs": [
    {
     "data": {
      "text/plain": [
       "<matplotlib.text.Text at 0x21a124cb748>"
      ]
     },
     "execution_count": 25,
     "metadata": {},
     "output_type": "execute_result"
    },
    {
     "data": {
      "image/png": "[encoded data removed]",
      "text/plain": [
       "<matplotlib.figure.Figure at 0x21a124785f8>"
      ]
     },
     "metadata": {},
     "output_type": "display_data"
    }
   ],
   "source": [
    "(100*df['days_running']/df['days_duration']).hist(bins=4)\n",
    "plt.ylabel('count of projects')\n",
    "plt.xlabel('days running / duration ratio in %')\n",
    "plt.title('Distribution of days running / duration ratio')"
   ]
  },
  {
   "cell_type": "code",
   "execution_count": 26,
   "metadata": {},
   "outputs": [
    {
     "data": {
      "image/png": "[encoded data removed]",
      "text/plain": [
       "<matplotlib.figure.Figure at 0x21a1250e5c0>"
      ]
     },
     "metadata": {},
     "output_type": "display_data"
    }
   ],
   "source": [
    "sns.set(style='whitegrid')\n",
    "fig, ax = plt.subplots(figsize=(6,4))\n",
    "(100*df['days_running']/df['days_duration']).hist(bins=4, ec='black')\n",
    "plt.ylabel('Počet projektov')\n",
    "plt.xlabel('Pomer medzi počtom dní od začiatku kampane a dĺžkou kampane v %')\n",
    "#plt.title('Distribúcia pomeru medzi počtom dní od začiatku kampane a dĺžkou kampane v %')\n",
    "plt.xlim((0,100))\n",
    "plt.xticks([0,25,50,75,100])\n",
    "plt.savefig('histogram_2.png', dpi=400)"
   ]
  },
  {
   "cell_type": "markdown",
   "metadata": {},
   "source": [
    "### Goal distribution"
   ]
  },
  {
   "cell_type": "code",
   "execution_count": 27,
   "metadata": {},
   "outputs": [
    {
     "data": {
      "text/plain": [
       "<matplotlib.text.Text at 0x21a2926a5c0>"
      ]
     },
     "execution_count": 27,
     "metadata": {},
     "output_type": "execute_result"
    },
    {
     "data": {
      "image/png": "[encoded data removed]",
      "text/plain": [
       "<matplotlib.figure.Figure at 0x21a124ff630>"
      ]
     },
     "metadata": {},
     "output_type": "display_data"
    }
   ],
   "source": [
    "df['usd_goal'].hist(bins=50)\n",
    "plt.yscale('log')\n",
    "plt.ylabel('count of projects')\n",
    "plt.xlabel('duration in days')\n",
    "plt.title('Distribution of campaign duration')"
   ]
  },
  {
   "cell_type": "code",
   "execution_count": 28,
   "metadata": {},
   "outputs": [
    {
     "data": {
      "text/plain": [
       "<matplotlib.text.Text at 0x21a2d94fe10>"
      ]
     },
     "execution_count": 28,
     "metadata": {},
     "output_type": "execute_result"
    },
    {
     "data": {
      "image/png": "[encoded data removed]",
      "text/plain": [
       "<matplotlib.figure.Figure at 0x21a2825ad30>"
      ]
     },
     "metadata": {},
     "output_type": "display_data"
    }
   ],
   "source": [
    "sns.boxplot(data=df, x='db_status', y='usd_goal')\n",
    "#plt.yscale('log')\n",
    "plt.ylim([-10, 50000])\n",
    "plt.title('Distribution of goal with respect to final state')"
   ]
  },
  {
   "cell_type": "markdown",
   "metadata": {},
   "source": [
    "### Final money pledged / goal ratio\n",
    "\n",
    "Prediction classes  in %:\n",
    "\n",
    "<0, 10)\n",
    "<10, 100)\n",
    "<100, 120)\n",
    "<120, INF)"
   ]
  },
  {
   "cell_type": "code",
   "execution_count": 29,
   "metadata": {},
   "outputs": [
    {
     "data": {
      "text/plain": [
       "30448    37884.400000\n",
       "24012    10667.585680\n",
       "13403     9079.771784\n",
       "13404     9079.771784\n",
       "21380     8975.975976\n",
       "Name: ratio_pledged_end_goal, dtype: float64"
      ]
     },
     "execution_count": 29,
     "metadata": {},
     "output_type": "execute_result"
    }
   ],
   "source": [
    "df['ratio_pledged_end_goal'].sort_values(ascending=False).head()"
   ]
  },
  {
   "cell_type": "code",
   "execution_count": 30,
   "metadata": {},
   "outputs": [
    {
     "data": {
      "text/plain": [
       "13403                                 Nope 2.0 - Live Free\n",
       "13404                                 Nope 2.0 - Live Free\n",
       "24012    ZeTime: World's first smartwatch with hands ov...\n",
       "30448                                Modern Map Art Prints\n",
       "Name: name, dtype: object"
      ]
     },
     "execution_count": 30,
     "metadata": {},
     "output_type": "execute_result"
    }
   ],
   "source": [
    "df[df['ratio_pledged_end_goal'] > 9000]['name']"
   ]
  },
  {
   "cell_type": "code",
   "execution_count": 31,
   "metadata": {},
   "outputs": [
    {
     "data": {
      "text/plain": [
       "<matplotlib.text.Text at 0x21a2a429518>"
      ]
     },
     "execution_count": 31,
     "metadata": {},
     "output_type": "execute_result"
    },
    {
     "data": {
      "image/png": "[encoded data removed]",
      "text/plain": [
       "<matplotlib.figure.Figure at 0x21a2c924cf8>"
      ]
     },
     "metadata": {},
     "output_type": "display_data"
    }
   ],
   "source": [
    "bins = np.arange(0,370,10)\n",
    "\n",
    "fig, ax = plt.subplots(figsize=(15,6))\n",
    "_, bins, patches = plt.hist(np.clip(df['ratio_pledged_end_goal'], bins[0], bins[-1]), bins=bins)\n",
    "\n",
    "labels = [str(x) for x in np.arange(0,370,10)]\n",
    "labels[-1] = 'more'\n",
    "\n",
    "plt.xticks(np.arange(0,370,10), labels, rotation='horizontal')\n",
    "plt.xlim([0, 360])\n",
    "#plt.yscale('log')\n",
    "plt.ylabel('count of projects')\n",
    "plt.xlabel('final pledged / goal ratio in %')\n",
    "plt.title('Distribution of final money pledged / goal ratio')"
   ]
  },
  {
   "cell_type": "code",
   "execution_count": 32,
   "metadata": {
    "scrolled": false
   },
   "outputs": [
    {
     "data": {
      "text/plain": [
       "<matplotlib.text.Text at 0x21a2da472e8>"
      ]
     },
     "execution_count": 32,
     "metadata": {},
     "output_type": "execute_result"
    },
    {
     "data": {
      "image/png": "[encoded data removed]",
      "text/plain": [
       "<matplotlib.figure.Figure at 0x21a2d932438>"
      ]
     },
     "metadata": {},
     "output_type": "display_data"
    }
   ],
   "source": [
    "sns.boxplot(data=df, x='db_status', y='ratio_pledged_end_goal')\n",
    "#plt.yscale('log')\n",
    "plt.ylim([0, 300])\n",
    "plt.title('Distribution of final pledged/goal ratio in % with respect to final state')"
   ]
  },
  {
   "cell_type": "code",
   "execution_count": 33,
   "metadata": {},
   "outputs": [
    {
     "data": {
      "image/png": "[encoded data removed]",
      "text/plain": [
       "<matplotlib.figure.Figure at 0x21a2c9416a0>"
      ]
     },
     "metadata": {},
     "output_type": "display_data"
    }
   ],
   "source": [
    "bins = np.arange(0,220,10)\n",
    "sns.set(style='whitegrid')\n",
    "fig, ax = plt.subplots(figsize=(10,6))\n",
    "_, bins, patches = plt.hist(np.clip(df['ratio_pledged_end_goal'], bins[0], bins[-1]), bins=bins, ec='black')\n",
    "\n",
    "labels = [str(x) for x in np.arange(0,220,10)]\n",
    "labels[-1] = 'viac'\n",
    "\n",
    "plt.xticks(np.arange(0,220,10), labels, rotation='horizontal')\n",
    "plt.xlim([0, 210])\n",
    "plt.ylabel('Počet projektov')\n",
    "plt.xlabel('Pomer vyzbieraného množstva financií a cieľovej požadovanej čiastky v %')\n",
    "#plt.title('Distribúcia pomeru vyzbieraného množstva financií a cieľovej požadovanej čiastky v %')\n",
    "plt.savefig('histogram_1.png', dpi=400)"
   ]
  },
  {
   "cell_type": "code",
   "execution_count": 34,
   "metadata": {
    "scrolled": false
   },
   "outputs": [
    {
     "data": {
      "image/png": "[encoded data removed]",
      "text/plain": [
       "<matplotlib.figure.Figure at 0x21a2c800a20>"
      ]
     },
     "metadata": {},
     "output_type": "display_data"
    }
   ],
   "source": [
    "fig, ax = plt.subplots(figsize=(8,6))\n",
    "sns.set(style='whitegrid')\n",
    "sns.boxplot(data=df, x='db_status', y='ratio_pledged_end_goal')\n",
    "plt.xlabel('Úspešnosť projektov')\n",
    "plt.ylabel('Pomer vyzbieraného množstva financií a cieľovej požadovanej čiastky')\n",
    "plt.xticks([0,1],['úspešné projekty','neúspešné projekty'])\n",
    "plt.ylim([0, 300])\n",
    "#plt.title('Distribúcia pomeru vyzbieraného množstva financií a cieľovej požadovanej čiastky v % vzhľadom na úspešnosť projektov')\n",
    "plt.savefig('boxplot_1.png', dpi=400)"
   ]
  },
  {
   "cell_type": "code",
   "execution_count": 35,
   "metadata": {},
   "outputs": [
    {
     "data": {
      "text/plain": [
       "count    16847.000000\n",
       "mean         7.917617\n",
       "std         14.583675\n",
       "min          0.000000\n",
       "25%          0.020000\n",
       "50%          1.000000\n",
       "75%          8.725809\n",
       "max         99.997417\n",
       "Name: ratio_pledged_end_goal, dtype: float64"
      ]
     },
     "execution_count": 35,
     "metadata": {},
     "output_type": "execute_result"
    }
   ],
   "source": [
    "df[df['state_end'] == 'failed']['ratio_pledged_end_goal'].describe()"
   ]
  },
  {
   "cell_type": "code",
   "execution_count": 36,
   "metadata": {},
   "outputs": [
    {
     "data": {
      "text/plain": [
       "count    13855.000000\n",
       "mean       229.843097\n",
       "std        547.876890\n",
       "min        100.000000\n",
       "25%        105.244000\n",
       "50%        119.440500\n",
       "75%        178.333333\n",
       "max      37884.400000\n",
       "Name: ratio_pledged_end_goal, dtype: float64"
      ]
     },
     "execution_count": 36,
     "metadata": {},
     "output_type": "execute_result"
    }
   ],
   "source": [
    "df[df['state_end'] == 'successful']['ratio_pledged_end_goal'].describe()"
   ]
  },
  {
   "cell_type": "code",
   "execution_count": 37,
   "metadata": {},
   "outputs": [
    {
     "data": {
      "text/plain": [
       "12894"
      ]
     },
     "execution_count": 37,
     "metadata": {},
     "output_type": "execute_result"
    }
   ],
   "source": [
    "len(df[df['ratio_pledged_end_goal'] < 10])"
   ]
  },
  {
   "cell_type": "code",
   "execution_count": 38,
   "metadata": {},
   "outputs": [
    {
     "data": {
      "text/plain": [
       "3953"
      ]
     },
     "execution_count": 38,
     "metadata": {},
     "output_type": "execute_result"
    }
   ],
   "source": [
    "len(df[(df['ratio_pledged_end_goal'] >= 10) & (df['ratio_pledged_end_goal'] < 100)])"
   ]
  },
  {
   "cell_type": "code",
   "execution_count": 39,
   "metadata": {},
   "outputs": [
    {
     "data": {
      "text/plain": [
       "6983"
      ]
     },
     "execution_count": 39,
     "metadata": {},
     "output_type": "execute_result"
    }
   ],
   "source": [
    "len(df[(df['ratio_pledged_end_goal'] >= 100) & (df['ratio_pledged_end_goal'] < 120)])"
   ]
  },
  {
   "cell_type": "code",
   "execution_count": 40,
   "metadata": {},
   "outputs": [
    {
     "data": {
      "text/plain": [
       "6872"
      ]
     },
     "execution_count": 40,
     "metadata": {},
     "output_type": "execute_result"
    }
   ],
   "source": [
    "len(df[df['ratio_pledged_end_goal'] >= 120])"
   ]
  },
  {
   "cell_type": "code",
   "execution_count": null,
   "metadata": {
    "collapsed": true
   },
   "outputs": [],
   "source": []
  },
  {
   "cell_type": "markdown",
   "metadata": {},
   "source": [
    "## 0-25"
   ]
  },
  {
   "cell_type": "code",
   "execution_count": 41,
   "metadata": {},
   "outputs": [
    {
     "data": {
      "text/plain": [
       "7860"
      ]
     },
     "execution_count": 41,
     "metadata": {},
     "output_type": "execute_result"
    }
   ],
   "source": [
    "len(df[df['ratio_running_duration'] < 25])"
   ]
  },
  {
   "cell_type": "code",
   "execution_count": 42,
   "metadata": {},
   "outputs": [
    {
     "name": "stdout",
     "output_type": "stream",
     "text": [
      "Pearson correlation: 0.824\n"
     ]
    },
    {
     "data": {
      "image/png": "[encoded data removed]",
      "text/plain": [
       "<matplotlib.figure.Figure at 0x21a293d9f60>"
      ]
     },
     "metadata": {},
     "output_type": "display_data"
    }
   ],
   "source": [
    "sns.set(style='whitegrid')\n",
    "plt.subplots(figsize=(8,8))\n",
    "sns.regplot(x=\"ratio_pledged_goal\", y=\"ratio_pledged_end_goal\", data=df[df['ratio_running_duration'] < 25])\n",
    "print(\"Pearson correlation: %.3f\" % df[df['ratio_running_duration'] < 25]['ratio_pledged_goal'].corr(df[df['ratio_running_duration'] < 25]['ratio_pledged_end_goal']))\n",
    "#plt.xlim([0,9000])\n",
    "#plt.ylim([0,11000])\n",
    "plt.xlabel('Pomer vyzbieraného množstva financií a cieľovej požadovanej čiastky v prvej snímke v %')\n",
    "plt.ylabel('Pomer vyzbieraného množstva financií a cieľovej požadovanej čiastky v druhej snímke v %')\n",
    "#plt.title('Korelácia medzi pomermi vyzbieraného množstva financií a cieľovej požadovanej sumy jednotlivých snímok')\n",
    "plt.savefig('corr_1.png', dpi=400)"
   ]
  },
  {
   "cell_type": "markdown",
   "metadata": {
    "collapsed": true
   },
   "source": [
    "## 25-50"
   ]
  },
  {
   "cell_type": "code",
   "execution_count": 43,
   "metadata": {},
   "outputs": [
    {
     "data": {
      "text/plain": [
       "7791"
      ]
     },
     "execution_count": 43,
     "metadata": {},
     "output_type": "execute_result"
    }
   ],
   "source": [
    "len(df[(df['ratio_running_duration'] >= 25) & (df['ratio_running_duration'] < 50)])"
   ]
  },
  {
   "cell_type": "code",
   "execution_count": 44,
   "metadata": {},
   "outputs": [
    {
     "name": "stdout",
     "output_type": "stream",
     "text": [
      "Pearson correlation: 0.933\n"
     ]
    },
    {
     "data": {
      "image/png": "[encoded data removed]",
      "text/plain": [
       "<matplotlib.figure.Figure at 0x21a2fc6f588>"
      ]
     },
     "metadata": {},
     "output_type": "display_data"
    }
   ],
   "source": [
    "plt.subplots(figsize=(8,8))\n",
    "sns.regplot(x=\"ratio_pledged_goal\", y=\"ratio_pledged_end_goal\", data=df[(df['ratio_running_duration'] >= 25) & (df['ratio_running_duration'] < 50)])\n",
    "print(\"Pearson correlation: %.3f\" % df[(df['ratio_running_duration'] >= 25) & (df['ratio_running_duration'] < 50)]['ratio_pledged_goal'].corr(df[(df['ratio_running_duration'] >= 25) & (df['ratio_running_duration'] < 50)]['ratio_pledged_end_goal']))\n",
    "#plt.xlim([0,9000])\n",
    "#plt.ylim([0,11000])\n",
    "plt.xlabel('Pomer vyzbieraného množstva financií a cieľovej požadovanej čiastky v prvej snímke v %')\n",
    "plt.ylabel('Pomer vyzbieraného množstva financií a cieľovej požadovanej čiastky v druhej snímke v %')\n",
    "#plt.title('Korelácia medzi pomermi vyzbieraného množstva financií a cieľovej požadovanej sumy jednotlivých snímok')\n",
    "plt.savefig('corr_1.png', dpi=400)"
   ]
  },
  {
   "cell_type": "markdown",
   "metadata": {
    "collapsed": true
   },
   "source": [
    "## 50-75"
   ]
  },
  {
   "cell_type": "code",
   "execution_count": 45,
   "metadata": {},
   "outputs": [
    {
     "data": {
      "text/plain": [
       "7742"
      ]
     },
     "execution_count": 45,
     "metadata": {},
     "output_type": "execute_result"
    }
   ],
   "source": [
    "len(df[(df['ratio_running_duration'] >= 50) & (df['ratio_running_duration'] < 75)])"
   ]
  },
  {
   "cell_type": "code",
   "execution_count": 46,
   "metadata": {},
   "outputs": [
    {
     "name": "stdout",
     "output_type": "stream",
     "text": [
      "Pearson correlation: 0.983\n"
     ]
    },
    {
     "data": {
      "image/png": "[encoded data removed]",
      "text/plain": [
       "<matplotlib.figure.Figure at 0x21a31e08320>"
      ]
     },
     "metadata": {},
     "output_type": "display_data"
    }
   ],
   "source": [
    "plt.subplots(figsize=(8,8))\n",
    "sns.regplot(x=\"ratio_pledged_goal\", y=\"ratio_pledged_end_goal\", data=df[(df['ratio_running_duration'] >= 50) & (df['ratio_running_duration'] < 75)])\n",
    "print(\"Pearson correlation: %.3f\" % df[(df['ratio_running_duration'] >= 50) & (df['ratio_running_duration'] < 75)]['ratio_pledged_goal'].corr(df[(df['ratio_running_duration'] >= 50) & (df['ratio_running_duration'] < 75)]['ratio_pledged_end_goal']))\n",
    "#plt.xlim([0,9000])\n",
    "#plt.ylim([0,11000])\n",
    "plt.xlabel('Pomer vyzbieraného množstva financií a cieľovej požadovanej čiastky v prvej snímke v %')\n",
    "plt.ylabel('Pomer vyzbieraného množstva financií a cieľovej požadovanej čiastky v druhej snímke v %')\n",
    "#plt.title('Korelácia medzi pomermi vyzbieraného množstva financií a cieľovej požadovanej sumy jednotlivých snímok')\n",
    "plt.savefig('corr_1.png', dpi=400)"
   ]
  },
  {
   "cell_type": "code",
   "execution_count": 47,
   "metadata": {},
   "outputs": [
    {
     "data": {
      "text/plain": [
       "7113"
      ]
     },
     "execution_count": 47,
     "metadata": {},
     "output_type": "execute_result"
    }
   ],
   "source": [
    "len(df[(df['ratio_running_duration'] >= 75) & (df['ratio_running_duration'] < 100)])"
   ]
  },
  {
   "cell_type": "code",
   "execution_count": 48,
   "metadata": {},
   "outputs": [
    {
     "name": "stdout",
     "output_type": "stream",
     "text": [
      "Pearson correlation: 0.987\n"
     ]
    },
    {
     "data": {
      "image/png": "[encoded data removed]",
      "text/plain": [
       "<matplotlib.figure.Figure at 0x21a31eb4e80>"
      ]
     },
     "metadata": {},
     "output_type": "display_data"
    }
   ],
   "source": [
    "plt.subplots(figsize=(8,8))\n",
    "sns.regplot(x=\"ratio_pledged_goal\", y=\"ratio_pledged_end_goal\", data=df[(df['ratio_running_duration'] >= 75) & (df['ratio_running_duration'] < 100)])\n",
    "print(\"Pearson correlation: %.3f\" % df[(df['ratio_running_duration'] >= 75) & (df['ratio_running_duration'] < 100)]['ratio_pledged_goal'].corr(df[(df['ratio_running_duration'] >= 75) & (df['ratio_running_duration'] < 100)]['ratio_pledged_end_goal']))\n",
    "#plt.xlim([0,9000])\n",
    "#plt.ylim([0,11000])\n",
    "plt.xlabel('Pomer vyzbieraného množstva financií a cieľovej požadovanej čiastky v prvej snímke v %')\n",
    "plt.ylabel('Pomer vyzbieraného množstva financií a cieľovej požadovanej čiastky v druhej snímke v %')\n",
    "#plt.title('Korelácia medzi pomermi vyzbieraného množstva financií a cieľovej požadovanej sumy jednotlivých snímok')\n",
    "plt.savefig('corr_1.png', dpi=400)"
   ]
  },
  {
   "cell_type": "markdown",
   "metadata": {},
   "source": [
    "We expect the ratio_running_duration to be very usefull feature for prediction."
   ]
  },
  {
   "cell_type": "markdown",
   "metadata": {
    "collapsed": true
   },
   "source": [
    "\n",
    "# How about lower intervals?\n",
    "eg.\n",
    "* <0, 5)\n",
    "* <5, 10)\n",
    "* <10, 15)\n",
    "\n",
    "Predictions might be more accurate, but also less acurate as we would have less data for training."
   ]
  },
  {
   "cell_type": "code",
   "execution_count": 49,
   "metadata": {},
   "outputs": [
    {
     "data": {
      "text/plain": [
       "2004"
      ]
     },
     "execution_count": 49,
     "metadata": {},
     "output_type": "execute_result"
    }
   ],
   "source": [
    "len(df[(df['ratio_running_duration'] >= 0) & (df['ratio_running_duration'] < 5)])"
   ]
  },
  {
   "cell_type": "code",
   "execution_count": 50,
   "metadata": {},
   "outputs": [
    {
     "data": {
      "text/plain": [
       "1235"
      ]
     },
     "execution_count": 50,
     "metadata": {},
     "output_type": "execute_result"
    }
   ],
   "source": [
    "len(df[(df['ratio_running_duration'] >= 5) & (df['ratio_running_duration'] < 10)])"
   ]
  },
  {
   "cell_type": "code",
   "execution_count": 51,
   "metadata": {},
   "outputs": [
    {
     "data": {
      "text/plain": [
       "1607"
      ]
     },
     "execution_count": 51,
     "metadata": {},
     "output_type": "execute_result"
    }
   ],
   "source": [
    "len(df[(df['ratio_running_duration'] >= 10) & (df['ratio_running_duration'] < 15)])"
   ]
  },
  {
   "cell_type": "markdown",
   "metadata": {},
   "source": [
    "### Extract class labels"
   ]
  },
  {
   "cell_type": "code",
   "execution_count": 52,
   "metadata": {
    "collapsed": true
   },
   "outputs": [],
   "source": [
    "def get_class(ratio):\n",
    "    if (ratio >= 120):\n",
    "        return 4\n",
    "    elif (ratio >= 100):\n",
    "        return 3\n",
    "    elif (ratio >= 10):\n",
    "        return 2\n",
    "    else:\n",
    "        return 1"
   ]
  },
  {
   "cell_type": "code",
   "execution_count": 53,
   "metadata": {},
   "outputs": [
    {
     "data": {
      "text/plain": [
       "1    12894\n",
       "3     6983\n",
       "4     6872\n",
       "2     3953\n",
       "Name: class, dtype: int64"
      ]
     },
     "execution_count": 53,
     "metadata": {},
     "output_type": "execute_result"
    }
   ],
   "source": [
    "df['class'] = df['ratio_pledged_end_goal'].apply(get_class)\n",
    "df['class'].value_counts()"
   ]
  },
  {
   "cell_type": "code",
   "execution_count": 54,
   "metadata": {},
   "outputs": [
    {
     "data": {
      "text/plain": [
       "count    30702.000000\n",
       "mean        48.728617\n",
       "std         28.916223\n",
       "min          0.000000\n",
       "25%         23.529412\n",
       "50%         48.275862\n",
       "75%         73.333333\n",
       "max        100.000000\n",
       "Name: ratio_running_duration, dtype: float64"
      ]
     },
     "execution_count": 54,
     "metadata": {},
     "output_type": "execute_result"
    }
   ],
   "source": [
    "df['ratio_running_duration'].describe()"
   ]
  },
  {
   "cell_type": "markdown",
   "metadata": {},
   "source": [
    "### How many observations per class will there be for different intervals?"
   ]
  },
  {
   "cell_type": "code",
   "execution_count": 55,
   "metadata": {},
   "outputs": [
    {
     "name": "stdout",
     "output_type": "stream",
     "text": [
      "Days running / Duration: <0-100.1):\n",
      "total count:  30702\n",
      "1    12894\n",
      "3     6983\n",
      "4     6872\n",
      "2     3953\n",
      "Name: class, dtype: int64\n",
      "1    0.419973\n",
      "3    0.227444\n",
      "4    0.223829\n",
      "2    0.128754\n",
      "Name: class, dtype: float64\n",
      "\n",
      "Days running / Duration: <0-25):\n",
      "total count:  7860\n",
      "1    3278\n",
      "3    1776\n",
      "4    1765\n",
      "2    1041\n",
      "Name: class, dtype: int64\n",
      "1    0.417048\n",
      "3    0.225954\n",
      "4    0.224555\n",
      "2    0.132443\n",
      "Name: class, dtype: float64\n",
      "\n",
      "Days running / Duration: <25-50):\n",
      "total count:  7791\n",
      "1    3145\n",
      "4    1863\n",
      "3    1829\n",
      "2     954\n",
      "Name: class, dtype: int64\n",
      "1    0.403671\n",
      "4    0.239122\n",
      "3    0.234758\n",
      "2    0.122449\n",
      "Name: class, dtype: float64\n",
      "\n",
      "Days running / Duration: <50-75):\n",
      "total count:  7742\n",
      "1    3312\n",
      "3    1742\n",
      "4    1685\n",
      "2    1003\n",
      "Name: class, dtype: int64\n",
      "1    0.427796\n",
      "3    0.225006\n",
      "4    0.217644\n",
      "2    0.129553\n",
      "Name: class, dtype: float64\n",
      "\n",
      "Days running / Duration: <0-5):\n",
      "total count:  2004\n",
      "1    810\n",
      "4    471\n",
      "3    466\n",
      "2    257\n",
      "Name: class, dtype: int64\n",
      "1    0.404192\n",
      "4    0.235030\n",
      "3    0.232535\n",
      "2    0.128244\n",
      "Name: class, dtype: float64\n",
      "\n",
      "Days running / Duration: <5-10):\n",
      "total count:  1235\n",
      "1    519\n",
      "3    287\n",
      "4    264\n",
      "2    165\n",
      "Name: class, dtype: int64\n",
      "1    0.420243\n",
      "3    0.232389\n",
      "4    0.213765\n",
      "2    0.133603\n",
      "Name: class, dtype: float64\n",
      "\n",
      "Days running / Duration: <10-15):\n",
      "total count:  1607\n",
      "1    671\n",
      "3    371\n",
      "4    339\n",
      "2    226\n",
      "Name: class, dtype: int64\n",
      "1    0.417548\n",
      "3    0.230865\n",
      "4    0.210952\n",
      "2    0.140635\n",
      "Name: class, dtype: float64\n",
      "\n"
     ]
    }
   ],
   "source": [
    "for x,y in zip([0,0,25,50,0,5,10], [100.1, 25,50,75,5,10,15]):\n",
    "    print('Days running / Duration: <'+str(x)+'-'+str(y)+'):')\n",
    "    print('total count: ',len(df[(df['ratio_running_duration'] >= x) & (df['ratio_running_duration'] < y)]['class']))\n",
    "    print(df[(df['ratio_running_duration'] >= x) & (df['ratio_running_duration'] < y)]['class'].value_counts())\n",
    "    print(df[(df['ratio_running_duration'] >= x) & (df['ratio_running_duration'] < y)]['class'].value_counts(normalize=True))\n",
    "    print()"
   ]
  },
  {
   "cell_type": "code",
   "execution_count": 56,
   "metadata": {
    "collapsed": true
   },
   "outputs": [],
   "source": [
    "# class added\n",
    "\n",
    "df.to_csv('data/merged.csv')"
   ]
  },
  {
   "cell_type": "code",
   "execution_count": 57,
   "metadata": {},
   "outputs": [
    {
     "name": "stdout",
     "output_type": "stream",
     "text": [
      "<class 'pandas.core.frame.DataFrame'>\n",
      "Int64Index: 30702 entries, 0 to 31061\n",
      "Data columns (total 103 columns):\n",
      "average_pledge               30702 non-null float64\n",
      "average_pledge_end           30702 non-null float64\n",
      "backers_count                30702 non-null int64\n",
      "backers_count_end            30702 non-null int64\n",
      "blurb                        30702 non-null object\n",
      "blurb_end                    30702 non-null object\n",
      "category                     30702 non-null object\n",
      "category_end                 30702 non-null object\n",
      "category_name                30702 non-null object\n",
      "category_name_end            30702 non-null object\n",
      "category_parent              30702 non-null object\n",
      "category_parent_end          30702 non-null object\n",
      "category_position            30702 non-null int64\n",
      "category_position_end        30702 non-null int64\n",
      "country                      30702 non-null object\n",
      "created_at                   30702 non-null int64\n",
      "creator                      30702 non-null object\n",
      "creator_end                  30702 non-null object\n",
      "creator_name                 30701 non-null object\n",
      "creator_name_end             30701 non-null object\n",
      "currency                     30702 non-null object\n",
      "currency_symbol              30702 non-null object\n",
      "currency_trailing_code       30702 non-null bool\n",
      "days_duration                30702 non-null int64\n",
      "days_preparation             30702 non-null int64\n",
      "days_remaining               30702 non-null int64\n",
      "days_running                 30702 non-null int64\n",
      "db_backers_count             30702 non-null int64\n",
      "db_category_id               30702 non-null int64\n",
      "db_comments_count            30702 non-null int64\n",
      "db_creators_url              30702 non-null object\n",
      "db_currency                  30702 non-null object\n",
      "db_description_full          30691 non-null object\n",
      "db_description_short         30702 non-null object\n",
      "db_duration                  30702 non-null int64\n",
      "db_end_time                  30702 non-null object\n",
      "db_faq_count                 30702 non-null int64\n",
      "db_fb_comments_count         30702 non-null int64\n",
      "db_fb_shares_count           30702 non-null int64\n",
      "db_goal                      30702 non-null float64\n",
      "db_hours_remaining           30702 non-null float64\n",
      "db_image_url                 21414 non-null object\n",
      "db_location_id               30702 non-null int64\n",
      "db_name                      30702 non-null object\n",
      "db_pledged                   30702 non-null float64\n",
      "db_project_data              30600 non-null object\n",
      "db_project_id                30702 non-null int64\n",
      "db_project_we_love           30702 non-null int64\n",
      "db_start_time                13855 non-null object\n",
      "db_status                    30702 non-null object\n",
      "db_subcategory_id            30702 non-null int64\n",
      "db_updates_count             30702 non-null int64\n",
      "db_url                       30702 non-null object\n",
      "db_video_url                 20443 non-null object\n",
      "deadline_end                 30702 non-null int64\n",
      "disable_communication        30702 non-null bool\n",
      "disable_communication_end    30702 non-null bool\n",
      "goal                         30702 non-null float64\n",
      "id                           30702 non-null int64\n",
      "launched_at                  30702 non-null int64\n",
      "location                     30702 non-null object\n",
      "location_end                 30702 non-null object\n",
      "location_is_root             30702 non-null bool\n",
      "location_name                30702 non-null object\n",
      "location_name_end            30702 non-null object\n",
      "location_state               30695 non-null object\n",
      "location_state_end           30696 non-null object\n",
      "location_type                30702 non-null object\n",
      "location_type_end            30702 non-null object\n",
      "name                         30702 non-null object\n",
      "name_end                     30702 non-null object\n",
      "photo                        30702 non-null object\n",
      "photo_end                    30702 non-null object\n",
      "pledged                      30702 non-null float64\n",
      "pledged_end                  30702 non-null float64\n",
      "profile                      30702 non-null object\n",
      "profile_end                  30702 non-null object\n",
      "ratio_pledged_end_goal       30702 non-null float64\n",
      "ratio_pledged_goal           30702 non-null float64\n",
      "ratio_running_duration       30702 non-null float64\n",
      "scraped_at                   30702 non-null int64\n",
      "slug                         30702 non-null object\n",
      "source_url                   30702 non-null object\n",
      "source_url_end               30702 non-null object\n",
      "spotlight                    30702 non-null bool\n",
      "spotlight_end                30702 non-null bool\n",
      "staff_pick                   27172 non-null object\n",
      "staff_pick_end               28926 non-null object\n",
      "state                        30702 non-null object\n",
      "state_changed_at             30702 non-null int64\n",
      "state_changed_at_end         30702 non-null int64\n",
      "state_end                    30702 non-null object\n",
      "static_usd_rate              30702 non-null float64\n",
      "static_usd_rate_end          30702 non-null float64\n",
      "url_name                     30702 non-null object\n",
      "urls                         30702 non-null object\n",
      "urls_end                     30702 non-null object\n",
      "urls_url                     30702 non-null object\n",
      "urls_url_end                 30702 non-null object\n",
      "usd_goal                     30702 non-null int64\n",
      "usd_pledged                  30702 non-null float64\n",
      "usd_pledged_end              30702 non-null float64\n",
      "class                        30702 non-null int64\n",
      "dtypes: bool(6), float64(15), int64(29), object(53)\n",
      "memory usage: 24.4+ MB\n"
     ]
    }
   ],
   "source": [
    "df.info(max_cols=105)"
   ]
  },
  {
   "cell_type": "code",
   "execution_count": null,
   "metadata": {
    "collapsed": true
   },
   "outputs": [],
   "source": []
  },
  {
   "cell_type": "markdown",
   "metadata": {},
   "source": [
    "# Data integration (part 2)\n",
    "Merging other tables from 2nd dataset - get aggregated values from FAQ, Updates and Comments"
   ]
  },
  {
   "cell_type": "markdown",
   "metadata": {
    "collapsed": true
   },
   "source": [
    "## FAQ"
   ]
  },
  {
   "cell_type": "code",
   "execution_count": 58,
   "metadata": {
    "collapsed": true
   },
   "outputs": [],
   "source": [
    "con = sql.connect(database='kickstarter2017', user='kickstarter', password='kickstarter')"
   ]
  },
  {
   "cell_type": "code",
   "execution_count": 59,
   "metadata": {},
   "outputs": [
    {
     "data": {
      "text/html": [
       "<div>\n",
       "<style>\n",
       "    .dataframe thead tr:only-child th {\n",
       "        text-align: right;\n",
       "    }\n",
       "\n",
       "    .dataframe thead th {\n",
       "        text-align: left;\n",
       "    }\n",
       "\n",
       "    .dataframe tbody tr th {\n",
       "        vertical-align: top;\n",
       "    }\n",
       "</style>\n",
       "<table border=\"1\" class=\"dataframe\">\n",
       "  <thead>\n",
       "    <tr style=\"text-align: right;\">\n",
       "      <th></th>\n",
       "      <th>faq_id</th>\n",
       "      <th>question</th>\n",
       "      <th>answer</th>\n",
       "      <th>time</th>\n",
       "      <th>project_id</th>\n",
       "    </tr>\n",
       "  </thead>\n",
       "  <tbody>\n",
       "    <tr>\n",
       "      <th>0</th>\n",
       "      <td>1</td>\n",
       "      <td>How long will the podcast go on for?</td>\n",
       "      <td>&lt;p&gt;Till we run out of 90&amp;#39;s and late 80&amp;#39...</td>\n",
       "      <td>2014-07-15 14:37:00</td>\n",
       "      <td>11</td>\n",
       "    </tr>\n",
       "    <tr>\n",
       "      <th>1</th>\n",
       "      <td>2</td>\n",
       "      <td>What is the show format?</td>\n",
       "      <td>&lt;p&gt;Good Question! The format is casual review ...</td>\n",
       "      <td>2014-07-15 14:37:00</td>\n",
       "      <td>11</td>\n",
       "    </tr>\n",
       "    <tr>\n",
       "      <th>2</th>\n",
       "      <td>3</td>\n",
       "      <td>Are there any series that are not going to be ...</td>\n",
       "      <td>&lt;p&gt;One series that isn&amp;#39;t going to be revie...</td>\n",
       "      <td>2014-07-15 14:37:00</td>\n",
       "      <td>11</td>\n",
       "    </tr>\n",
       "    <tr>\n",
       "      <th>3</th>\n",
       "      <td>4</td>\n",
       "      <td>Why no Daria and Anime?</td>\n",
       "      <td>&lt;p&gt;Daria isn&amp;#39;t being reviewed on this show...</td>\n",
       "      <td>2014-07-15 14:37:00</td>\n",
       "      <td>11</td>\n",
       "    </tr>\n",
       "    <tr>\n",
       "      <th>4</th>\n",
       "      <td>5</td>\n",
       "      <td>When would shows release?</td>\n",
       "      <td>&lt;p&gt;LKKP shows will either be bi-weekly or mont...</td>\n",
       "      <td>2014-07-15 14:37:00</td>\n",
       "      <td>11</td>\n",
       "    </tr>\n",
       "  </tbody>\n",
       "</table>\n",
       "</div>"
      ],
      "text/plain": [
       "   faq_id                                           question  \\\n",
       "0       1               How long will the podcast go on for?   \n",
       "1       2                           What is the show format?   \n",
       "2       3  Are there any series that are not going to be ...   \n",
       "3       4                            Why no Daria and Anime?   \n",
       "4       5                          When would shows release?   \n",
       "\n",
       "                                              answer                time  \\\n",
       "0  <p>Till we run out of 90&#39;s and late 80&#39... 2014-07-15 14:37:00   \n",
       "1  <p>Good Question! The format is casual review ... 2014-07-15 14:37:00   \n",
       "2  <p>One series that isn&#39;t going to be revie... 2014-07-15 14:37:00   \n",
       "3  <p>Daria isn&#39;t being reviewed on this show... 2014-07-15 14:37:00   \n",
       "4  <p>LKKP shows will either be bi-weekly or mont... 2014-07-15 14:37:00   \n",
       "\n",
       "   project_id  \n",
       "0          11  \n",
       "1          11  \n",
       "2          11  \n",
       "3          11  \n",
       "4          11  "
      ]
     },
     "execution_count": 59,
     "metadata": {},
     "output_type": "execute_result"
    }
   ],
   "source": [
    "df_faq = pd.read_sql('SELECT * FROM kickstarter2017.kickstarter_faq', con)\n",
    "df_faq.head()"
   ]
  },
  {
   "cell_type": "code",
   "execution_count": 60,
   "metadata": {},
   "outputs": [
    {
     "data": {
      "text/plain": [
       "72343"
      ]
     },
     "execution_count": 60,
     "metadata": {},
     "output_type": "execute_result"
    }
   ],
   "source": [
    "len(df_faq)"
   ]
  },
  {
   "cell_type": "code",
   "execution_count": 61,
   "metadata": {},
   "outputs": [
    {
     "name": "stderr",
     "output_type": "stream",
     "text": [
      "C:\\Users\\Patrik\\Anaconda3\\lib\\site-packages\\IPython\\core\\interactiveshell.py:2717: DtypeWarning: Columns (87,88) have mixed types. Specify dtype option on import or set low_memory=False.\n",
      "  interactivity=interactivity, compiler=compiler, result=result)\n"
     ]
    }
   ],
   "source": [
    "df = pd.read_csv('data/merged.csv', encoding='latin1', index_col=0)"
   ]
  },
  {
   "cell_type": "code",
   "execution_count": 62,
   "metadata": {},
   "outputs": [
    {
     "data": {
      "text/html": [
       "<div>\n",
       "<style>\n",
       "    .dataframe thead tr:only-child th {\n",
       "        text-align: right;\n",
       "    }\n",
       "\n",
       "    .dataframe thead th {\n",
       "        text-align: left;\n",
       "    }\n",
       "\n",
       "    .dataframe tbody tr th {\n",
       "        vertical-align: top;\n",
       "    }\n",
       "</style>\n",
       "<table border=\"1\" class=\"dataframe\">\n",
       "  <thead>\n",
       "    <tr style=\"text-align: right;\">\n",
       "      <th></th>\n",
       "      <th>average_pledge</th>\n",
       "      <th>average_pledge_end</th>\n",
       "      <th>backers_count</th>\n",
       "      <th>backers_count_end</th>\n",
       "      <th>blurb</th>\n",
       "      <th>blurb_end</th>\n",
       "      <th>category</th>\n",
       "      <th>category_end</th>\n",
       "      <th>category_name</th>\n",
       "      <th>category_name_end</th>\n",
       "      <th>...</th>\n",
       "      <th>url_name</th>\n",
       "      <th>urls</th>\n",
       "      <th>urls_end</th>\n",
       "      <th>urls_url</th>\n",
       "      <th>urls_url_end</th>\n",
       "      <th>usd_goal</th>\n",
       "      <th>usd_pledged</th>\n",
       "      <th>usd_pledged_end</th>\n",
       "      <th>class</th>\n",
       "      <th>ID</th>\n",
       "    </tr>\n",
       "    <tr>\n",
       "      <th>ID</th>\n",
       "      <th></th>\n",
       "      <th></th>\n",
       "      <th></th>\n",
       "      <th></th>\n",
       "      <th></th>\n",
       "      <th></th>\n",
       "      <th></th>\n",
       "      <th></th>\n",
       "      <th></th>\n",
       "      <th></th>\n",
       "      <th></th>\n",
       "      <th></th>\n",
       "      <th></th>\n",
       "      <th></th>\n",
       "      <th></th>\n",
       "      <th></th>\n",
       "      <th></th>\n",
       "      <th></th>\n",
       "      <th></th>\n",
       "      <th></th>\n",
       "      <th></th>\n",
       "    </tr>\n",
       "  </thead>\n",
       "  <tbody>\n",
       "    <tr>\n",
       "      <th>0</th>\n",
       "      <td>57.818182</td>\n",
       "      <td>97.022989</td>\n",
       "      <td>22</td>\n",
       "      <td>87</td>\n",
       "      <td>Help SCDT fund their inaugural performance in ...</td>\n",
       "      <td>Help SCDT fund their inaugural performance in ...</td>\n",
       "      <td>{\"urls\":{\"web\":{\"discover\":\"http://www.kicksta...</td>\n",
       "      <td>{\"urls\":{\"web\":{\"discover\":\"http://www.kicksta...</td>\n",
       "      <td>Performances</td>\n",
       "      <td>Performances</td>\n",
       "      <td>...</td>\n",
       "      <td>sac-contemporary-dance-theatres-performance-re...</td>\n",
       "      <td>{\"web\":{\"project\":\"https://www.kickstarter.com...</td>\n",
       "      <td>{\"web\":{\"project\":\"https://www.kickstarter.com...</td>\n",
       "      <td>https://www.kickstarter.com/projects/911926086...</td>\n",
       "      <td>https://www.kickstarter.com/projects/911926086...</td>\n",
       "      <td>8000</td>\n",
       "      <td>1272.0</td>\n",
       "      <td>8441.0</td>\n",
       "      <td>3</td>\n",
       "      <td>0</td>\n",
       "    </tr>\n",
       "    <tr>\n",
       "      <th>1</th>\n",
       "      <td>0.000000</td>\n",
       "      <td>0.000000</td>\n",
       "      <td>0</td>\n",
       "      <td>0</td>\n",
       "      <td>This is where inspired dancers from all ages g...</td>\n",
       "      <td>This is where inspired dancers from all ages g...</td>\n",
       "      <td>{\"urls\":{\"web\":{\"discover\":\"http://www.kicksta...</td>\n",
       "      <td>{\"urls\":{\"web\":{\"discover\":\"http://www.kicksta...</td>\n",
       "      <td>Performances</td>\n",
       "      <td>Performances</td>\n",
       "      <td>...</td>\n",
       "      <td>all-style-dance-battle-the-streak</td>\n",
       "      <td>{\"web\":{\"project\":\"https://www.kickstarter.com...</td>\n",
       "      <td>{\"web\":{\"project\":\"https://www.kickstarter.com...</td>\n",
       "      <td>https://www.kickstarter.com/projects/122127184...</td>\n",
       "      <td>https://www.kickstarter.com/projects/122127184...</td>\n",
       "      <td>568</td>\n",
       "      <td>0.0</td>\n",
       "      <td>0.0</td>\n",
       "      <td>1</td>\n",
       "      <td>1</td>\n",
       "    </tr>\n",
       "  </tbody>\n",
       "</table>\n",
       "<p>2 rows × 104 columns</p>\n",
       "</div>"
      ],
      "text/plain": [
       "    average_pledge  average_pledge_end  backers_count  backers_count_end  \\\n",
       "ID                                                                         \n",
       "0        57.818182           97.022989             22                 87   \n",
       "1         0.000000            0.000000              0                  0   \n",
       "\n",
       "                                                blurb  \\\n",
       "ID                                                      \n",
       "0   Help SCDT fund their inaugural performance in ...   \n",
       "1   This is where inspired dancers from all ages g...   \n",
       "\n",
       "                                            blurb_end  \\\n",
       "ID                                                      \n",
       "0   Help SCDT fund their inaugural performance in ...   \n",
       "1   This is where inspired dancers from all ages g...   \n",
       "\n",
       "                                             category  \\\n",
       "ID                                                      \n",
       "0   {\"urls\":{\"web\":{\"discover\":\"http://www.kicksta...   \n",
       "1   {\"urls\":{\"web\":{\"discover\":\"http://www.kicksta...   \n",
       "\n",
       "                                         category_end category_name  \\\n",
       "ID                                                                    \n",
       "0   {\"urls\":{\"web\":{\"discover\":\"http://www.kicksta...  Performances   \n",
       "1   {\"urls\":{\"web\":{\"discover\":\"http://www.kicksta...  Performances   \n",
       "\n",
       "   category_name_end ...                                           url_name  \\\n",
       "ID                   ...                                                      \n",
       "0       Performances ...  sac-contemporary-dance-theatres-performance-re...   \n",
       "1       Performances ...                  all-style-dance-battle-the-streak   \n",
       "\n",
       "                                                 urls  \\\n",
       "ID                                                      \n",
       "0   {\"web\":{\"project\":\"https://www.kickstarter.com...   \n",
       "1   {\"web\":{\"project\":\"https://www.kickstarter.com...   \n",
       "\n",
       "                                             urls_end  \\\n",
       "ID                                                      \n",
       "0   {\"web\":{\"project\":\"https://www.kickstarter.com...   \n",
       "1   {\"web\":{\"project\":\"https://www.kickstarter.com...   \n",
       "\n",
       "                                             urls_url  \\\n",
       "ID                                                      \n",
       "0   https://www.kickstarter.com/projects/911926086...   \n",
       "1   https://www.kickstarter.com/projects/122127184...   \n",
       "\n",
       "                                         urls_url_end  usd_goal usd_pledged  \\\n",
       "ID                                                                            \n",
       "0   https://www.kickstarter.com/projects/911926086...      8000      1272.0   \n",
       "1   https://www.kickstarter.com/projects/122127184...       568         0.0   \n",
       "\n",
       "   usd_pledged_end class ID  \n",
       "ID                           \n",
       "0           8441.0     3  0  \n",
       "1              0.0     1  1  \n",
       "\n",
       "[2 rows x 104 columns]"
      ]
     },
     "execution_count": 62,
     "metadata": {},
     "output_type": "execute_result"
    }
   ],
   "source": [
    "# we need unique identifier of observations\n",
    "df['ID'] = df.index\n",
    "df.rename_axis('ID', inplace=True).head(2)"
   ]
  },
  {
   "cell_type": "code",
   "execution_count": 63,
   "metadata": {
    "scrolled": true
   },
   "outputs": [
    {
     "data": {
      "text/plain": [
       "21096"
      ]
     },
     "execution_count": 63,
     "metadata": {},
     "output_type": "execute_result"
    }
   ],
   "source": [
    "df_faq_merged = df.merge(df_faq, left_on='db_project_id', right_on='project_id', how='inner')\n",
    "len(df_faq_merged)"
   ]
  },
  {
   "cell_type": "code",
   "execution_count": 64,
   "metadata": {},
   "outputs": [
    {
     "data": {
      "text/html": [
       "<div>\n",
       "<style>\n",
       "    .dataframe thead tr:only-child th {\n",
       "        text-align: right;\n",
       "    }\n",
       "\n",
       "    .dataframe thead th {\n",
       "        text-align: left;\n",
       "    }\n",
       "\n",
       "    .dataframe tbody tr th {\n",
       "        vertical-align: top;\n",
       "    }\n",
       "</style>\n",
       "<table border=\"1\" class=\"dataframe\">\n",
       "  <thead>\n",
       "    <tr style=\"text-align: right;\">\n",
       "      <th></th>\n",
       "      <th>average_pledge</th>\n",
       "      <th>average_pledge_end</th>\n",
       "      <th>backers_count</th>\n",
       "      <th>backers_count_end</th>\n",
       "      <th>blurb</th>\n",
       "      <th>blurb_end</th>\n",
       "      <th>category</th>\n",
       "      <th>category_end</th>\n",
       "      <th>category_name</th>\n",
       "      <th>category_name_end</th>\n",
       "      <th>...</th>\n",
       "      <th>usd_goal</th>\n",
       "      <th>usd_pledged</th>\n",
       "      <th>usd_pledged_end</th>\n",
       "      <th>class</th>\n",
       "      <th>ID</th>\n",
       "      <th>faq_id</th>\n",
       "      <th>question</th>\n",
       "      <th>answer</th>\n",
       "      <th>time</th>\n",
       "      <th>project_id</th>\n",
       "    </tr>\n",
       "  </thead>\n",
       "  <tbody>\n",
       "    <tr>\n",
       "      <th>0</th>\n",
       "      <td>10.000000</td>\n",
       "      <td>10.000000</td>\n",
       "      <td>1</td>\n",
       "      <td>1</td>\n",
       "      <td>Need funds to buy materials, printing press, s...</td>\n",
       "      <td>Need funds to buy materials, printing press, s...</td>\n",
       "      <td>{\"urls\":{\"web\":{\"discover\":\"http://www.kicksta...</td>\n",
       "      <td>{\"urls\":{\"web\":{\"discover\":\"http://www.kicksta...</td>\n",
       "      <td>Illustration</td>\n",
       "      <td>Illustration</td>\n",
       "      <td>...</td>\n",
       "      <td>10000</td>\n",
       "      <td>10.0</td>\n",
       "      <td>10.0</td>\n",
       "      <td>1</td>\n",
       "      <td>22</td>\n",
       "      <td>48723</td>\n",
       "      <td>What will I do with the money?</td>\n",
       "      <td>&lt;p&gt;There are two major devices I need for my f...</td>\n",
       "      <td>2015-10-05 12:10:40</td>\n",
       "      <td>68318</td>\n",
       "    </tr>\n",
       "    <tr>\n",
       "      <th>1</th>\n",
       "      <td>62.380952</td>\n",
       "      <td>77.541667</td>\n",
       "      <td>21</td>\n",
       "      <td>24</td>\n",
       "      <td>My capstone project for media studies at Pitze...</td>\n",
       "      <td>My capstone project for media studies at Pitze...</td>\n",
       "      <td>{\"urls\":{\"web\":{\"discover\":\"http://www.kicksta...</td>\n",
       "      <td>{\"urls\":{\"web\":{\"discover\":\"http://www.kicksta...</td>\n",
       "      <td>Installations</td>\n",
       "      <td>Installations</td>\n",
       "      <td>...</td>\n",
       "      <td>800</td>\n",
       "      <td>1310.0</td>\n",
       "      <td>1861.0</td>\n",
       "      <td>4</td>\n",
       "      <td>54</td>\n",
       "      <td>48775</td>\n",
       "      <td>Can I donate a different amount than in the re...</td>\n",
       "      <td>&lt;p&gt;Yes, you can donate as much or as little as...</td>\n",
       "      <td>2015-10-12 14:50:50</td>\n",
       "      <td>68501</td>\n",
       "    </tr>\n",
       "  </tbody>\n",
       "</table>\n",
       "<p>2 rows × 109 columns</p>\n",
       "</div>"
      ],
      "text/plain": [
       "   average_pledge  average_pledge_end  backers_count  backers_count_end  \\\n",
       "0       10.000000           10.000000              1                  1   \n",
       "1       62.380952           77.541667             21                 24   \n",
       "\n",
       "                                               blurb  \\\n",
       "0  Need funds to buy materials, printing press, s...   \n",
       "1  My capstone project for media studies at Pitze...   \n",
       "\n",
       "                                           blurb_end  \\\n",
       "0  Need funds to buy materials, printing press, s...   \n",
       "1  My capstone project for media studies at Pitze...   \n",
       "\n",
       "                                            category  \\\n",
       "0  {\"urls\":{\"web\":{\"discover\":\"http://www.kicksta...   \n",
       "1  {\"urls\":{\"web\":{\"discover\":\"http://www.kicksta...   \n",
       "\n",
       "                                        category_end  category_name  \\\n",
       "0  {\"urls\":{\"web\":{\"discover\":\"http://www.kicksta...   Illustration   \n",
       "1  {\"urls\":{\"web\":{\"discover\":\"http://www.kicksta...  Installations   \n",
       "\n",
       "  category_name_end    ...     usd_goal usd_pledged  usd_pledged_end  class  \\\n",
       "0      Illustration    ...        10000        10.0             10.0      1   \n",
       "1     Installations    ...          800      1310.0           1861.0      4   \n",
       "\n",
       "   ID  faq_id                                           question  \\\n",
       "0  22   48723                     What will I do with the money?   \n",
       "1  54   48775  Can I donate a different amount than in the re...   \n",
       "\n",
       "                                              answer                time  \\\n",
       "0  <p>There are two major devices I need for my f... 2015-10-05 12:10:40   \n",
       "1  <p>Yes, you can donate as much or as little as... 2015-10-12 14:50:50   \n",
       "\n",
       "  project_id  \n",
       "0      68318  \n",
       "1      68501  \n",
       "\n",
       "[2 rows x 109 columns]"
      ]
     },
     "execution_count": 64,
     "metadata": {},
     "output_type": "execute_result"
    }
   ],
   "source": [
    "df_faq_merged.head(2)"
   ]
  },
  {
   "cell_type": "code",
   "execution_count": 65,
   "metadata": {},
   "outputs": [
    {
     "data": {
      "text/html": [
       "<div>\n",
       "<style>\n",
       "    .dataframe thead tr:only-child th {\n",
       "        text-align: right;\n",
       "    }\n",
       "\n",
       "    .dataframe thead th {\n",
       "        text-align: left;\n",
       "    }\n",
       "\n",
       "    .dataframe tbody tr th {\n",
       "        vertical-align: top;\n",
       "    }\n",
       "</style>\n",
       "<table border=\"1\" class=\"dataframe\">\n",
       "  <thead>\n",
       "    <tr style=\"text-align: right;\">\n",
       "      <th></th>\n",
       "      <th>scraped_at</th>\n",
       "      <th>scraped_at_datetime</th>\n",
       "    </tr>\n",
       "  </thead>\n",
       "  <tbody>\n",
       "    <tr>\n",
       "      <th>0</th>\n",
       "      <td>1446383344</td>\n",
       "      <td>2015-11-01 13:09:04</td>\n",
       "    </tr>\n",
       "    <tr>\n",
       "      <th>1</th>\n",
       "      <td>1446383344</td>\n",
       "      <td>2015-11-01 13:09:04</td>\n",
       "    </tr>\n",
       "  </tbody>\n",
       "</table>\n",
       "</div>"
      ],
      "text/plain": [
       "   scraped_at scraped_at_datetime\n",
       "0  1446383344 2015-11-01 13:09:04\n",
       "1  1446383344 2015-11-01 13:09:04"
      ]
     },
     "execution_count": 65,
     "metadata": {},
     "output_type": "execute_result"
    }
   ],
   "source": [
    "# convert unix timestamp to datetime of scraping\n",
    "df_faq_merged['scraped_at_datetime'] = pd.to_datetime(df_faq_merged['scraped_at'], unit='s')\n",
    "df_faq_merged[['scraped_at','scraped_at_datetime']].head(2)"
   ]
  },
  {
   "cell_type": "code",
   "execution_count": 66,
   "metadata": {},
   "outputs": [
    {
     "data": {
      "text/plain": [
       "17385"
      ]
     },
     "execution_count": 66,
     "metadata": {},
     "output_type": "execute_result"
    }
   ],
   "source": [
    "# filter only those faq that were added before datetime of scraping\n",
    "df_faq_merged = df_faq_merged[df_faq_merged['scraped_at_datetime'] > df_faq_merged['time']]\n",
    "len(df_faq_merged)"
   ]
  },
  {
   "cell_type": "code",
   "execution_count": 67,
   "metadata": {},
   "outputs": [
    {
     "data": {
      "text/html": [
       "<div>\n",
       "<style>\n",
       "    .dataframe thead tr:only-child th {\n",
       "        text-align: right;\n",
       "    }\n",
       "\n",
       "    .dataframe thead th {\n",
       "        text-align: left;\n",
       "    }\n",
       "\n",
       "    .dataframe tbody tr th {\n",
       "        vertical-align: top;\n",
       "    }\n",
       "</style>\n",
       "<table border=\"1\" class=\"dataframe\">\n",
       "  <thead>\n",
       "    <tr style=\"text-align: right;\">\n",
       "      <th></th>\n",
       "      <th>faq_count_while_scraping</th>\n",
       "    </tr>\n",
       "    <tr>\n",
       "      <th>ID</th>\n",
       "      <th></th>\n",
       "    </tr>\n",
       "  </thead>\n",
       "  <tbody>\n",
       "    <tr>\n",
       "      <th>22</th>\n",
       "      <td>1</td>\n",
       "    </tr>\n",
       "    <tr>\n",
       "      <th>54</th>\n",
       "      <td>1</td>\n",
       "    </tr>\n",
       "    <tr>\n",
       "      <th>95</th>\n",
       "      <td>2</td>\n",
       "    </tr>\n",
       "    <tr>\n",
       "      <th>99</th>\n",
       "      <td>3</td>\n",
       "    </tr>\n",
       "    <tr>\n",
       "      <th>100</th>\n",
       "      <td>1</td>\n",
       "    </tr>\n",
       "  </tbody>\n",
       "</table>\n",
       "</div>"
      ],
      "text/plain": [
       "     faq_count_while_scraping\n",
       "ID                           \n",
       "22                          1\n",
       "54                          1\n",
       "95                          2\n",
       "99                          3\n",
       "100                         1"
      ]
     },
     "execution_count": 67,
     "metadata": {},
     "output_type": "execute_result"
    }
   ],
   "source": [
    "# group by ID to get count of FAQ that were added before scraping\n",
    "df_faq_merged = df_faq_merged[['faq_id','ID']].groupby('ID').count().rename(index=str, columns={'faq_id': 'faq_count_while_scraping'})\n",
    "df_faq_merged.head()"
   ]
  },
  {
   "cell_type": "code",
   "execution_count": 68,
   "metadata": {
    "collapsed": true
   },
   "outputs": [],
   "source": [
    "df_faq_merged['ID'] = df_faq_merged.index.astype('int64')"
   ]
  },
  {
   "cell_type": "code",
   "execution_count": 69,
   "metadata": {},
   "outputs": [
    {
     "data": {
      "text/plain": [
       "3638"
      ]
     },
     "execution_count": 69,
     "metadata": {},
     "output_type": "execute_result"
    }
   ],
   "source": [
    "# number of projects that had at least 1 FAQ at time of web scraping\n",
    "len(df_faq_merged)"
   ]
  },
  {
   "cell_type": "code",
   "execution_count": 70,
   "metadata": {
    "collapsed": true
   },
   "outputs": [],
   "source": [
    "# add faq_count to df with observations\n",
    "df = df.merge(df_faq_merged, how='left', on='ID')"
   ]
  },
  {
   "cell_type": "code",
   "execution_count": 71,
   "metadata": {
    "collapsed": true
   },
   "outputs": [],
   "source": [
    "df['faq_count_while_scraping'] = df['faq_count_while_scraping'].fillna(0)"
   ]
  },
  {
   "cell_type": "code",
   "execution_count": 72,
   "metadata": {},
   "outputs": [
    {
     "data": {
      "text/plain": [
       "count    30702.000000\n",
       "mean         0.566250\n",
       "std          2.577895\n",
       "min          0.000000\n",
       "25%          0.000000\n",
       "50%          0.000000\n",
       "75%          0.000000\n",
       "max        120.000000\n",
       "Name: faq_count_while_scraping, dtype: float64"
      ]
     },
     "execution_count": 72,
     "metadata": {},
     "output_type": "execute_result"
    }
   ],
   "source": [
    "df['faq_count_while_scraping'].describe()"
   ]
  },
  {
   "cell_type": "code",
   "execution_count": 73,
   "metadata": {},
   "outputs": [
    {
     "data": {
      "text/plain": [
       "24297    kniterate-the-digital-knitting-machine\n",
       "Name: url_name, dtype: object"
      ]
     },
     "execution_count": 73,
     "metadata": {},
     "output_type": "execute_result"
    }
   ],
   "source": [
    "df[df['faq_count_while_scraping'] == 120]['url_name']"
   ]
  },
  {
   "cell_type": "code",
   "execution_count": 74,
   "metadata": {},
   "outputs": [
    {
     "data": {
      "text/plain": [
       "(-1, 1)"
      ]
     },
     "execution_count": 74,
     "metadata": {},
     "output_type": "execute_result"
    },
    {
     "data": {
      "image/png": "[encoded data removed]",
      "text/plain": [
       "<matplotlib.figure.Figure at 0x21a1f92fb38>"
      ]
     },
     "metadata": {},
     "output_type": "display_data"
    }
   ],
   "source": [
    "sns.boxplot(data=df, x='state_end', y='faq_count_while_scraping')\n",
    "plt.ylim([-1, 1])"
   ]
  },
  {
   "cell_type": "code",
   "execution_count": 75,
   "metadata": {
    "collapsed": true
   },
   "outputs": [],
   "source": [
    "df.to_csv('data/merged2.csv')"
   ]
  },
  {
   "cell_type": "code",
   "execution_count": null,
   "metadata": {
    "collapsed": true
   },
   "outputs": [],
   "source": []
  },
  {
   "cell_type": "markdown",
   "metadata": {},
   "source": [
    "## Comments"
   ]
  },
  {
   "cell_type": "code",
   "execution_count": 76,
   "metadata": {
    "collapsed": true
   },
   "outputs": [],
   "source": [
    "con = sql.connect(database='kickstarter2017', user='kickstarter', password='kickstarter')"
   ]
  },
  {
   "cell_type": "code",
   "execution_count": 77,
   "metadata": {},
   "outputs": [
    {
     "data": {
      "text/html": [
       "<div>\n",
       "<style>\n",
       "    .dataframe thead tr:only-child th {\n",
       "        text-align: right;\n",
       "    }\n",
       "\n",
       "    .dataframe thead th {\n",
       "        text-align: left;\n",
       "    }\n",
       "\n",
       "    .dataframe tbody tr th {\n",
       "        vertical-align: top;\n",
       "    }\n",
       "</style>\n",
       "<table border=\"1\" class=\"dataframe\">\n",
       "  <thead>\n",
       "    <tr style=\"text-align: right;\">\n",
       "      <th></th>\n",
       "      <th>time</th>\n",
       "      <th>author_is_creator</th>\n",
       "      <th>project_id</th>\n",
       "    </tr>\n",
       "  </thead>\n",
       "  <tbody>\n",
       "    <tr>\n",
       "      <th>0</th>\n",
       "      <td>2017-11-01 02:45:26</td>\n",
       "      <td>0</td>\n",
       "      <td>2</td>\n",
       "    </tr>\n",
       "    <tr>\n",
       "      <th>1</th>\n",
       "      <td>2017-11-01 01:20:01</td>\n",
       "      <td>0</td>\n",
       "      <td>2</td>\n",
       "    </tr>\n",
       "    <tr>\n",
       "      <th>2</th>\n",
       "      <td>2017-10-31 22:04:12</td>\n",
       "      <td>0</td>\n",
       "      <td>2</td>\n",
       "    </tr>\n",
       "    <tr>\n",
       "      <th>3</th>\n",
       "      <td>2017-10-31 20:57:47</td>\n",
       "      <td>0</td>\n",
       "      <td>2</td>\n",
       "    </tr>\n",
       "    <tr>\n",
       "      <th>4</th>\n",
       "      <td>2017-10-31 11:37:46</td>\n",
       "      <td>0</td>\n",
       "      <td>2</td>\n",
       "    </tr>\n",
       "  </tbody>\n",
       "</table>\n",
       "</div>"
      ],
      "text/plain": [
       "                 time  author_is_creator  project_id\n",
       "0 2017-11-01 02:45:26                  0           2\n",
       "1 2017-11-01 01:20:01                  0           2\n",
       "2 2017-10-31 22:04:12                  0           2\n",
       "3 2017-10-31 20:57:47                  0           2\n",
       "4 2017-10-31 11:37:46                  0           2"
      ]
     },
     "execution_count": 77,
     "metadata": {},
     "output_type": "execute_result"
    }
   ],
   "source": [
    "df_comm = pd.read_sql('SELECT time, author_is_creator, project_id FROM kickstarter2017.kickstarter_comment', con)\n",
    "df_comm.head()"
   ]
  },
  {
   "cell_type": "code",
   "execution_count": 78,
   "metadata": {},
   "outputs": [
    {
     "data": {
      "text/plain": [
       "2289836"
      ]
     },
     "execution_count": 78,
     "metadata": {},
     "output_type": "execute_result"
    }
   ],
   "source": [
    "len(df_comm)"
   ]
  },
  {
   "cell_type": "code",
   "execution_count": 79,
   "metadata": {},
   "outputs": [
    {
     "name": "stderr",
     "output_type": "stream",
     "text": [
      "C:\\Users\\Patrik\\Anaconda3\\lib\\site-packages\\IPython\\core\\interactiveshell.py:2717: DtypeWarning: Columns (87,88) have mixed types. Specify dtype option on import or set low_memory=False.\n",
      "  interactivity=interactivity, compiler=compiler, result=result)\n"
     ]
    }
   ],
   "source": [
    "df = pd.read_csv('data/merged2.csv', encoding='latin1', index_col=0)"
   ]
  },
  {
   "cell_type": "code",
   "execution_count": 80,
   "metadata": {},
   "outputs": [
    {
     "data": {
      "text/plain": [
       "744155"
      ]
     },
     "execution_count": 80,
     "metadata": {},
     "output_type": "execute_result"
    }
   ],
   "source": [
    "df_comm_merged = df.merge(df_comm, left_on='db_project_id', right_on='project_id', how='inner')\n",
    "len(df_comm_merged)"
   ]
  },
  {
   "cell_type": "code",
   "execution_count": 81,
   "metadata": {
    "collapsed": true
   },
   "outputs": [],
   "source": [
    "# convert unix timestamp to datetime of scraping\n",
    "df_comm_merged['scraped_at_datetime'] = pd.to_datetime(df_comm_merged['scraped_at'], unit='s')"
   ]
  },
  {
   "cell_type": "code",
   "execution_count": 82,
   "metadata": {},
   "outputs": [
    {
     "data": {
      "text/plain": [
       "161242"
      ]
     },
     "execution_count": 82,
     "metadata": {},
     "output_type": "execute_result"
    }
   ],
   "source": [
    "df_comm_merged = df_comm_merged[df_comm_merged['scraped_at_datetime'] > df_comm_merged['time']]\n",
    "len(df_comm_merged)"
   ]
  },
  {
   "cell_type": "code",
   "execution_count": 83,
   "metadata": {},
   "outputs": [
    {
     "data": {
      "text/plain": [
       "45828"
      ]
     },
     "execution_count": 83,
     "metadata": {},
     "output_type": "execute_result"
    }
   ],
   "source": [
    "df_comm_merged_creator = df_comm_merged[df_comm_merged['author_is_creator'] == 1]\n",
    "len(df_comm_merged_creator)"
   ]
  },
  {
   "cell_type": "code",
   "execution_count": 84,
   "metadata": {},
   "outputs": [
    {
     "data": {
      "text/plain": [
       "115414"
      ]
     },
     "execution_count": 84,
     "metadata": {},
     "output_type": "execute_result"
    }
   ],
   "source": [
    "df_comm_merged_public = df_comm_merged[df_comm_merged['author_is_creator'] == 0]\n",
    "len(df_comm_merged_public)"
   ]
  },
  {
   "cell_type": "code",
   "execution_count": 85,
   "metadata": {},
   "outputs": [
    {
     "data": {
      "text/html": [
       "<div>\n",
       "<style>\n",
       "    .dataframe thead tr:only-child th {\n",
       "        text-align: right;\n",
       "    }\n",
       "\n",
       "    .dataframe thead th {\n",
       "        text-align: left;\n",
       "    }\n",
       "\n",
       "    .dataframe tbody tr th {\n",
       "        vertical-align: top;\n",
       "    }\n",
       "</style>\n",
       "<table border=\"1\" class=\"dataframe\">\n",
       "  <thead>\n",
       "    <tr style=\"text-align: right;\">\n",
       "      <th></th>\n",
       "      <th>comments_count_creator_while_scraping</th>\n",
       "    </tr>\n",
       "    <tr>\n",
       "      <th>ID</th>\n",
       "      <th></th>\n",
       "    </tr>\n",
       "  </thead>\n",
       "  <tbody>\n",
       "    <tr>\n",
       "      <th>53</th>\n",
       "      <td>2</td>\n",
       "    </tr>\n",
       "    <tr>\n",
       "      <th>99</th>\n",
       "      <td>1</td>\n",
       "    </tr>\n",
       "    <tr>\n",
       "      <th>105</th>\n",
       "      <td>1</td>\n",
       "    </tr>\n",
       "    <tr>\n",
       "      <th>122</th>\n",
       "      <td>1</td>\n",
       "    </tr>\n",
       "    <tr>\n",
       "      <th>130</th>\n",
       "      <td>1</td>\n",
       "    </tr>\n",
       "  </tbody>\n",
       "</table>\n",
       "</div>"
      ],
      "text/plain": [
       "     comments_count_creator_while_scraping\n",
       "ID                                        \n",
       "53                                       2\n",
       "99                                       1\n",
       "105                                      1\n",
       "122                                      1\n",
       "130                                      1"
      ]
     },
     "execution_count": 85,
     "metadata": {},
     "output_type": "execute_result"
    }
   ],
   "source": [
    "# group by ID to get count of comments made by creator that were added before scraping\n",
    "df_comm_merged_creator = df_comm_merged_creator[['author_is_creator','ID']].groupby('ID').count().rename(index=str, columns={'author_is_creator': 'comments_count_creator_while_scraping'})\n",
    "df_comm_merged_creator.head()"
   ]
  },
  {
   "cell_type": "code",
   "execution_count": 86,
   "metadata": {},
   "outputs": [
    {
     "data": {
      "text/html": [
       "<div>\n",
       "<style>\n",
       "    .dataframe thead tr:only-child th {\n",
       "        text-align: right;\n",
       "    }\n",
       "\n",
       "    .dataframe thead th {\n",
       "        text-align: left;\n",
       "    }\n",
       "\n",
       "    .dataframe tbody tr th {\n",
       "        vertical-align: top;\n",
       "    }\n",
       "</style>\n",
       "<table border=\"1\" class=\"dataframe\">\n",
       "  <thead>\n",
       "    <tr style=\"text-align: right;\">\n",
       "      <th></th>\n",
       "      <th>comments_count_public_while_scraping</th>\n",
       "    </tr>\n",
       "    <tr>\n",
       "      <th>ID</th>\n",
       "      <th></th>\n",
       "    </tr>\n",
       "  </thead>\n",
       "  <tbody>\n",
       "    <tr>\n",
       "      <th>12</th>\n",
       "      <td>1</td>\n",
       "    </tr>\n",
       "    <tr>\n",
       "      <th>26</th>\n",
       "      <td>1</td>\n",
       "    </tr>\n",
       "    <tr>\n",
       "      <th>53</th>\n",
       "      <td>2</td>\n",
       "    </tr>\n",
       "    <tr>\n",
       "      <th>58</th>\n",
       "      <td>1</td>\n",
       "    </tr>\n",
       "    <tr>\n",
       "      <th>63</th>\n",
       "      <td>1</td>\n",
       "    </tr>\n",
       "  </tbody>\n",
       "</table>\n",
       "</div>"
      ],
      "text/plain": [
       "    comments_count_public_while_scraping\n",
       "ID                                      \n",
       "12                                     1\n",
       "26                                     1\n",
       "53                                     2\n",
       "58                                     1\n",
       "63                                     1"
      ]
     },
     "execution_count": 86,
     "metadata": {},
     "output_type": "execute_result"
    }
   ],
   "source": [
    "# group by ID to get count of comments made by public that were added before scraping\n",
    "df_comm_merged_public = df_comm_merged_public[['author_is_creator','ID']].groupby('ID').count().rename(index=str, columns={'author_is_creator': 'comments_count_public_while_scraping'})\n",
    "df_comm_merged_public.head()"
   ]
  },
  {
   "cell_type": "code",
   "execution_count": 87,
   "metadata": {},
   "outputs": [
    {
     "data": {
      "text/plain": [
       "4938"
      ]
     },
     "execution_count": 87,
     "metadata": {},
     "output_type": "execute_result"
    }
   ],
   "source": [
    "# number of projects that had at least 1 comment by creator at time of web scraping\n",
    "len(df_comm_merged_creator)"
   ]
  },
  {
   "cell_type": "code",
   "execution_count": 88,
   "metadata": {},
   "outputs": [
    {
     "data": {
      "text/plain": [
       "8283"
      ]
     },
     "execution_count": 88,
     "metadata": {},
     "output_type": "execute_result"
    }
   ],
   "source": [
    "# number of projects that had at least 1 comment by public at time of web scraping\n",
    "len(df_comm_merged_public)"
   ]
  },
  {
   "cell_type": "code",
   "execution_count": 89,
   "metadata": {
    "collapsed": true
   },
   "outputs": [],
   "source": [
    "# ids to join main df\n",
    "df_comm_merged_creator['ID'] = df_comm_merged_creator.index.astype('int64')\n",
    "df_comm_merged_public['ID'] = df_comm_merged_public.index.astype('int64')"
   ]
  },
  {
   "cell_type": "code",
   "execution_count": 90,
   "metadata": {
    "collapsed": true
   },
   "outputs": [],
   "source": [
    "# add both counts to df with observations\n",
    "df = df.merge(df_comm_merged_creator, how='left', on='ID')\n",
    "df = df.merge(df_comm_merged_public, how='left', on='ID')"
   ]
  },
  {
   "cell_type": "code",
   "execution_count": 91,
   "metadata": {
    "collapsed": true
   },
   "outputs": [],
   "source": [
    "df['comments_count_creator_while_scraping'] = df['comments_count_creator_while_scraping'].fillna(0)\n",
    "df['comments_count_public_while_scraping'] = df['comments_count_public_while_scraping'].fillna(0)"
   ]
  },
  {
   "cell_type": "code",
   "execution_count": 92,
   "metadata": {},
   "outputs": [
    {
     "data": {
      "text/html": [
       "<div>\n",
       "<style>\n",
       "    .dataframe thead tr:only-child th {\n",
       "        text-align: right;\n",
       "    }\n",
       "\n",
       "    .dataframe thead th {\n",
       "        text-align: left;\n",
       "    }\n",
       "\n",
       "    .dataframe tbody tr th {\n",
       "        vertical-align: top;\n",
       "    }\n",
       "</style>\n",
       "<table border=\"1\" class=\"dataframe\">\n",
       "  <thead>\n",
       "    <tr style=\"text-align: right;\">\n",
       "      <th></th>\n",
       "      <th>comments_count_creator_while_scraping</th>\n",
       "      <th>comments_count_public_while_scraping</th>\n",
       "    </tr>\n",
       "  </thead>\n",
       "  <tbody>\n",
       "    <tr>\n",
       "      <th>count</th>\n",
       "      <td>30702.000000</td>\n",
       "      <td>30702.000000</td>\n",
       "    </tr>\n",
       "    <tr>\n",
       "      <th>mean</th>\n",
       "      <td>1.492671</td>\n",
       "      <td>3.759169</td>\n",
       "    </tr>\n",
       "    <tr>\n",
       "      <th>std</th>\n",
       "      <td>12.045863</td>\n",
       "      <td>42.753896</td>\n",
       "    </tr>\n",
       "    <tr>\n",
       "      <th>min</th>\n",
       "      <td>0.000000</td>\n",
       "      <td>0.000000</td>\n",
       "    </tr>\n",
       "    <tr>\n",
       "      <th>25%</th>\n",
       "      <td>0.000000</td>\n",
       "      <td>0.000000</td>\n",
       "    </tr>\n",
       "    <tr>\n",
       "      <th>50%</th>\n",
       "      <td>0.000000</td>\n",
       "      <td>0.000000</td>\n",
       "    </tr>\n",
       "    <tr>\n",
       "      <th>75%</th>\n",
       "      <td>0.000000</td>\n",
       "      <td>1.000000</td>\n",
       "    </tr>\n",
       "    <tr>\n",
       "      <th>max</th>\n",
       "      <td>916.000000</td>\n",
       "      <td>4142.000000</td>\n",
       "    </tr>\n",
       "  </tbody>\n",
       "</table>\n",
       "</div>"
      ],
      "text/plain": [
       "       comments_count_creator_while_scraping  \\\n",
       "count                           30702.000000   \n",
       "mean                                1.492671   \n",
       "std                                12.045863   \n",
       "min                                 0.000000   \n",
       "25%                                 0.000000   \n",
       "50%                                 0.000000   \n",
       "75%                                 0.000000   \n",
       "max                               916.000000   \n",
       "\n",
       "       comments_count_public_while_scraping  \n",
       "count                          30702.000000  \n",
       "mean                               3.759169  \n",
       "std                               42.753896  \n",
       "min                                0.000000  \n",
       "25%                                0.000000  \n",
       "50%                                0.000000  \n",
       "75%                                1.000000  \n",
       "max                             4142.000000  "
      ]
     },
     "execution_count": 92,
     "metadata": {},
     "output_type": "execute_result"
    }
   ],
   "source": [
    "df[['comments_count_creator_while_scraping', 'comments_count_public_while_scraping']].describe()"
   ]
  },
  {
   "cell_type": "code",
   "execution_count": 93,
   "metadata": {},
   "outputs": [
    {
     "name": "stdout",
     "output_type": "stream",
     "text": [
      "Pearson correlation: 0.813\n"
     ]
    },
    {
     "data": {
      "image/png": "[encoded data removed]",
      "text/plain": [
       "<matplotlib.figure.Figure at 0x21b9a66f4e0>"
      ]
     },
     "metadata": {},
     "output_type": "display_data"
    }
   ],
   "source": [
    "sns.regplot(x=\"comments_count_public_while_scraping\", y=\"comments_count_creator_while_scraping\", data=df)\n",
    "print(\"Pearson correlation: %.3f\" % df['comments_count_public_while_scraping'].corr(df['comments_count_creator_while_scraping']))"
   ]
  },
  {
   "cell_type": "code",
   "execution_count": 94,
   "metadata": {},
   "outputs": [
    {
     "data": {
      "image/png": "[encoded data removed]",
      "text/plain": [
       "<matplotlib.figure.Figure at 0x21a367930b8>"
      ]
     },
     "metadata": {},
     "output_type": "display_data"
    }
   ],
   "source": [
    "df['comments_count_public_while_scraping'].hist(bins=10)\n",
    "df['comments_count_creator_while_scraping'].hist(bins=10)\n",
    "plt.yscale('log')"
   ]
  },
  {
   "cell_type": "code",
   "execution_count": 95,
   "metadata": {},
   "outputs": [
    {
     "data": {
      "text/plain": [
       "(-1, 10)"
      ]
     },
     "execution_count": 95,
     "metadata": {},
     "output_type": "execute_result"
    },
    {
     "data": {
      "image/png": "[encoded data removed]",
      "text/plain": [
       "<matplotlib.figure.Figure at 0x21a37917978>"
      ]
     },
     "metadata": {},
     "output_type": "display_data"
    }
   ],
   "source": [
    "sns.boxplot(data=df, x='state_end', y='comments_count_public_while_scraping')\n",
    "plt.ylim([-1, 10])"
   ]
  },
  {
   "cell_type": "code",
   "execution_count": 96,
   "metadata": {},
   "outputs": [
    {
     "data": {
      "text/plain": [
       "(-1, 10)"
      ]
     },
     "execution_count": 96,
     "metadata": {},
     "output_type": "execute_result"
    },
    {
     "data": {
      "image/png": "[encoded data removed]",
      "text/plain": [
       "<matplotlib.figure.Figure at 0x21a37917ef0>"
      ]
     },
     "metadata": {},
     "output_type": "display_data"
    }
   ],
   "source": [
    "sns.boxplot(data=df, x='state_end', y='comments_count_creator_while_scraping')\n",
    "plt.ylim([-1, 10])"
   ]
  },
  {
   "cell_type": "code",
   "execution_count": 97,
   "metadata": {
    "collapsed": true
   },
   "outputs": [],
   "source": [
    "df.to_csv('data/merged3.csv')"
   ]
  },
  {
   "cell_type": "code",
   "execution_count": null,
   "metadata": {
    "collapsed": true
   },
   "outputs": [],
   "source": []
  },
  {
   "cell_type": "markdown",
   "metadata": {},
   "source": [
    "## Updates"
   ]
  },
  {
   "cell_type": "code",
   "execution_count": 98,
   "metadata": {
    "collapsed": true
   },
   "outputs": [],
   "source": [
    "con = sql.connect(database='kickstarter2017', user='kickstarter', password='kickstarter')"
   ]
  },
  {
   "cell_type": "code",
   "execution_count": 99,
   "metadata": {},
   "outputs": [
    {
     "data": {
      "text/html": [
       "<div>\n",
       "<style>\n",
       "    .dataframe thead tr:only-child th {\n",
       "        text-align: right;\n",
       "    }\n",
       "\n",
       "    .dataframe thead th {\n",
       "        text-align: left;\n",
       "    }\n",
       "\n",
       "    .dataframe tbody tr th {\n",
       "        vertical-align: top;\n",
       "    }\n",
       "</style>\n",
       "<table border=\"1\" class=\"dataframe\">\n",
       "  <thead>\n",
       "    <tr style=\"text-align: right;\">\n",
       "      <th></th>\n",
       "      <th>time</th>\n",
       "      <th>likes</th>\n",
       "      <th>project_id</th>\n",
       "    </tr>\n",
       "  </thead>\n",
       "  <tbody>\n",
       "    <tr>\n",
       "      <th>0</th>\n",
       "      <td>2017-10-31 04:18:31</td>\n",
       "      <td>14</td>\n",
       "      <td>3</td>\n",
       "    </tr>\n",
       "    <tr>\n",
       "      <th>1</th>\n",
       "      <td>2017-09-20 02:51:48</td>\n",
       "      <td>0</td>\n",
       "      <td>6</td>\n",
       "    </tr>\n",
       "    <tr>\n",
       "      <th>2</th>\n",
       "      <td>2010-05-31 14:51:55</td>\n",
       "      <td>0</td>\n",
       "      <td>7</td>\n",
       "    </tr>\n",
       "    <tr>\n",
       "      <th>3</th>\n",
       "      <td>2010-05-26 08:54:30</td>\n",
       "      <td>0</td>\n",
       "      <td>7</td>\n",
       "    </tr>\n",
       "    <tr>\n",
       "      <th>4</th>\n",
       "      <td>2010-05-24 23:21:42</td>\n",
       "      <td>0</td>\n",
       "      <td>7</td>\n",
       "    </tr>\n",
       "  </tbody>\n",
       "</table>\n",
       "</div>"
      ],
      "text/plain": [
       "                 time  likes  project_id\n",
       "0 2017-10-31 04:18:31     14           3\n",
       "1 2017-09-20 02:51:48      0           6\n",
       "2 2010-05-31 14:51:55      0           7\n",
       "3 2010-05-26 08:54:30      0           7\n",
       "4 2010-05-24 23:21:42      0           7"
      ]
     },
     "execution_count": 99,
     "metadata": {},
     "output_type": "execute_result"
    }
   ],
   "source": [
    "df_updates = pd.read_sql('SELECT time, likes, project_id FROM kickstarter2017.kickstarter_update', con)\n",
    "df_updates.head()"
   ]
  },
  {
   "cell_type": "code",
   "execution_count": 100,
   "metadata": {},
   "outputs": [
    {
     "data": {
      "text/plain": [
       "599727"
      ]
     },
     "execution_count": 100,
     "metadata": {},
     "output_type": "execute_result"
    }
   ],
   "source": [
    "len(df_updates)"
   ]
  },
  {
   "cell_type": "code",
   "execution_count": 101,
   "metadata": {},
   "outputs": [
    {
     "name": "stderr",
     "output_type": "stream",
     "text": [
      "C:\\Users\\Patrik\\Anaconda3\\lib\\site-packages\\IPython\\core\\interactiveshell.py:2717: DtypeWarning: Columns (87,88) have mixed types. Specify dtype option on import or set low_memory=False.\n",
      "  interactivity=interactivity, compiler=compiler, result=result)\n"
     ]
    }
   ],
   "source": [
    "df = pd.read_csv('data/merged3.csv', encoding='latin1', index_col=0)"
   ]
  },
  {
   "cell_type": "code",
   "execution_count": 102,
   "metadata": {},
   "outputs": [
    {
     "data": {
      "text/plain": [
       "155910"
      ]
     },
     "execution_count": 102,
     "metadata": {},
     "output_type": "execute_result"
    }
   ],
   "source": [
    "df_updates_merged = df.merge(df_updates, left_on='db_project_id', right_on='project_id', how='inner')\n",
    "len(df_updates_merged)"
   ]
  },
  {
   "cell_type": "code",
   "execution_count": 103,
   "metadata": {
    "collapsed": true
   },
   "outputs": [],
   "source": [
    "# convert unix timestamp to datetime of scraping\n",
    "df_updates_merged['scraped_at_datetime'] = pd.to_datetime(df_updates_merged['scraped_at'], unit='s')"
   ]
  },
  {
   "cell_type": "code",
   "execution_count": 104,
   "metadata": {},
   "outputs": [
    {
     "data": {
      "text/plain": [
       "45023"
      ]
     },
     "execution_count": 104,
     "metadata": {},
     "output_type": "execute_result"
    }
   ],
   "source": [
    "df_updates_merged = df_updates_merged[df_updates_merged['scraped_at_datetime'] > df_updates_merged['time']]\n",
    "len(df_updates_merged)"
   ]
  },
  {
   "cell_type": "code",
   "execution_count": 105,
   "metadata": {
    "collapsed": true
   },
   "outputs": [],
   "source": [
    "# group by ID to get count of updates that were added before scraping\n",
    "# and statistics of likes per project\n",
    "df_updates_merged_count = df_updates_merged[['likes','ID']].groupby('ID').count().rename(index=str, columns={'likes': 'updates_count_while_scraping'})\n",
    "df_updates_merged_likes_sum = df_updates_merged[['likes','ID']].groupby('ID').sum().rename(index=str, columns={'likes': 'updates_likes_sum_while_scraping'})\n",
    "df_updates_merged_likes_mean = df_updates_merged[['likes','ID']].groupby('ID').mean().rename(index=str, columns={'likes': 'updates_likes_mean_while_scraping'})\n",
    "df_updates_merged_likes_min = df_updates_merged[['likes','ID']].groupby('ID').min().rename(index=str, columns={'likes': 'updates_likes_min_while_scraping'})\n",
    "df_updates_merged_likes_max = df_updates_merged[['likes','ID']].groupby('ID').max().rename(index=str, columns={'likes': 'updates_likes_max_while_scraping'})\n",
    "df_updates_merged_likes_median = df_updates_merged[['likes','ID']].groupby('ID').median().rename(index=str, columns={'likes': 'updates_likes_median_while_scraping'})"
   ]
  },
  {
   "cell_type": "code",
   "execution_count": 106,
   "metadata": {},
   "outputs": [
    {
     "data": {
      "text/plain": [
       "13742"
      ]
     },
     "execution_count": 106,
     "metadata": {},
     "output_type": "execute_result"
    }
   ],
   "source": [
    "# number of projects that had at least 1 update at time of web scraping\n",
    "len(df_updates_merged_count)"
   ]
  },
  {
   "cell_type": "code",
   "execution_count": 107,
   "metadata": {
    "collapsed": true
   },
   "outputs": [],
   "source": [
    "df_updates_merged_count['ID'] = df_updates_merged_count.index.astype('int64')\n",
    "df_updates_merged_likes_sum['ID'] = df_updates_merged_likes_sum.index.astype('int64')\n",
    "df_updates_merged_likes_mean['ID'] = df_updates_merged_likes_mean.index.astype('int64')\n",
    "df_updates_merged_likes_min['ID'] = df_updates_merged_likes_min.index.astype('int64')\n",
    "df_updates_merged_likes_max['ID'] = df_updates_merged_likes_max.index.astype('int64')\n",
    "df_updates_merged_likes_median['ID'] = df_updates_merged_likes_median.index.astype('int64')"
   ]
  },
  {
   "cell_type": "code",
   "execution_count": 108,
   "metadata": {
    "collapsed": true
   },
   "outputs": [],
   "source": [
    "# add all to df \n",
    "df = df.merge(df_updates_merged_count, how='left', on='ID')\n",
    "df = df.merge(df_updates_merged_likes_sum, how='left', on='ID')\n",
    "df = df.merge(df_updates_merged_likes_mean, how='left', on='ID')\n",
    "df = df.merge(df_updates_merged_likes_min, how='left', on='ID')\n",
    "df = df.merge(df_updates_merged_likes_max, how='left', on='ID')\n",
    "df = df.merge(df_updates_merged_likes_median, how='left', on='ID')"
   ]
  },
  {
   "cell_type": "code",
   "execution_count": 109,
   "metadata": {
    "collapsed": true
   },
   "outputs": [],
   "source": [
    "df['updates_count_while_scraping'] = df['updates_count_while_scraping'].fillna(0)\n",
    "df['updates_likes_sum_while_scraping'] = df['updates_likes_sum_while_scraping'].fillna(0)\n",
    "df['updates_likes_mean_while_scraping'] = df['updates_likes_mean_while_scraping'].fillna(0)\n",
    "df['updates_likes_min_while_scraping'] = df['updates_likes_min_while_scraping'].fillna(0)\n",
    "df['updates_likes_max_while_scraping'] = df['updates_likes_max_while_scraping'].fillna(0)\n",
    "df['updates_likes_median_while_scraping'] = df['updates_likes_median_while_scraping'].fillna(0)"
   ]
  },
  {
   "cell_type": "code",
   "execution_count": 110,
   "metadata": {},
   "outputs": [
    {
     "data": {
      "text/html": [
       "<div>\n",
       "<style>\n",
       "    .dataframe thead tr:only-child th {\n",
       "        text-align: right;\n",
       "    }\n",
       "\n",
       "    .dataframe thead th {\n",
       "        text-align: left;\n",
       "    }\n",
       "\n",
       "    .dataframe tbody tr th {\n",
       "        vertical-align: top;\n",
       "    }\n",
       "</style>\n",
       "<table border=\"1\" class=\"dataframe\">\n",
       "  <thead>\n",
       "    <tr style=\"text-align: right;\">\n",
       "      <th></th>\n",
       "      <th>updates_count_while_scraping</th>\n",
       "      <th>updates_likes_sum_while_scraping</th>\n",
       "      <th>updates_likes_mean_while_scraping</th>\n",
       "      <th>updates_likes_min_while_scraping</th>\n",
       "      <th>updates_likes_max_while_scraping</th>\n",
       "      <th>updates_likes_median_while_scraping</th>\n",
       "    </tr>\n",
       "  </thead>\n",
       "  <tbody>\n",
       "    <tr>\n",
       "      <th>count</th>\n",
       "      <td>30702.000000</td>\n",
       "      <td>30702.000000</td>\n",
       "      <td>30702.000000</td>\n",
       "      <td>30702.000000</td>\n",
       "      <td>30702.000000</td>\n",
       "      <td>30702.000000</td>\n",
       "    </tr>\n",
       "    <tr>\n",
       "      <th>mean</th>\n",
       "      <td>1.466452</td>\n",
       "      <td>4.634030</td>\n",
       "      <td>1.139718</td>\n",
       "      <td>0.692430</td>\n",
       "      <td>1.763045</td>\n",
       "      <td>1.077861</td>\n",
       "    </tr>\n",
       "    <tr>\n",
       "      <th>std</th>\n",
       "      <td>2.801007</td>\n",
       "      <td>23.544444</td>\n",
       "      <td>3.907283</td>\n",
       "      <td>2.680618</td>\n",
       "      <td>6.683536</td>\n",
       "      <td>3.687957</td>\n",
       "    </tr>\n",
       "    <tr>\n",
       "      <th>min</th>\n",
       "      <td>0.000000</td>\n",
       "      <td>0.000000</td>\n",
       "      <td>0.000000</td>\n",
       "      <td>0.000000</td>\n",
       "      <td>0.000000</td>\n",
       "      <td>0.000000</td>\n",
       "    </tr>\n",
       "    <tr>\n",
       "      <th>25%</th>\n",
       "      <td>0.000000</td>\n",
       "      <td>0.000000</td>\n",
       "      <td>0.000000</td>\n",
       "      <td>0.000000</td>\n",
       "      <td>0.000000</td>\n",
       "      <td>0.000000</td>\n",
       "    </tr>\n",
       "    <tr>\n",
       "      <th>50%</th>\n",
       "      <td>0.000000</td>\n",
       "      <td>0.000000</td>\n",
       "      <td>0.000000</td>\n",
       "      <td>0.000000</td>\n",
       "      <td>0.000000</td>\n",
       "      <td>0.000000</td>\n",
       "    </tr>\n",
       "    <tr>\n",
       "      <th>75%</th>\n",
       "      <td>2.000000</td>\n",
       "      <td>2.000000</td>\n",
       "      <td>1.000000</td>\n",
       "      <td>0.000000</td>\n",
       "      <td>1.000000</td>\n",
       "      <td>1.000000</td>\n",
       "    </tr>\n",
       "    <tr>\n",
       "      <th>max</th>\n",
       "      <td>64.000000</td>\n",
       "      <td>1269.000000</td>\n",
       "      <td>184.000000</td>\n",
       "      <td>182.000000</td>\n",
       "      <td>290.000000</td>\n",
       "      <td>184.000000</td>\n",
       "    </tr>\n",
       "  </tbody>\n",
       "</table>\n",
       "</div>"
      ],
      "text/plain": [
       "       updates_count_while_scraping  updates_likes_sum_while_scraping  \\\n",
       "count                  30702.000000                      30702.000000   \n",
       "mean                       1.466452                          4.634030   \n",
       "std                        2.801007                         23.544444   \n",
       "min                        0.000000                          0.000000   \n",
       "25%                        0.000000                          0.000000   \n",
       "50%                        0.000000                          0.000000   \n",
       "75%                        2.000000                          2.000000   \n",
       "max                       64.000000                       1269.000000   \n",
       "\n",
       "       updates_likes_mean_while_scraping  updates_likes_min_while_scraping  \\\n",
       "count                       30702.000000                      30702.000000   \n",
       "mean                            1.139718                          0.692430   \n",
       "std                             3.907283                          2.680618   \n",
       "min                             0.000000                          0.000000   \n",
       "25%                             0.000000                          0.000000   \n",
       "50%                             0.000000                          0.000000   \n",
       "75%                             1.000000                          0.000000   \n",
       "max                           184.000000                        182.000000   \n",
       "\n",
       "       updates_likes_max_while_scraping  updates_likes_median_while_scraping  \n",
       "count                      30702.000000                         30702.000000  \n",
       "mean                           1.763045                             1.077861  \n",
       "std                            6.683536                             3.687957  \n",
       "min                            0.000000                             0.000000  \n",
       "25%                            0.000000                             0.000000  \n",
       "50%                            0.000000                             0.000000  \n",
       "75%                            1.000000                             1.000000  \n",
       "max                          290.000000                           184.000000  "
      ]
     },
     "execution_count": 110,
     "metadata": {},
     "output_type": "execute_result"
    }
   ],
   "source": [
    "df[['updates_count_while_scraping', 'updates_likes_sum_while_scraping', 'updates_likes_mean_while_scraping', 'updates_likes_min_while_scraping', 'updates_likes_max_while_scraping', 'updates_likes_median_while_scraping']].describe()"
   ]
  },
  {
   "cell_type": "code",
   "execution_count": 111,
   "metadata": {
    "collapsed": true
   },
   "outputs": [],
   "source": [
    "df.to_csv('data/merged4.csv')"
   ]
  },
  {
   "cell_type": "code",
   "execution_count": 112,
   "metadata": {},
   "outputs": [
    {
     "name": "stdout",
     "output_type": "stream",
     "text": [
      "Pearson correlation: 0.271\n"
     ]
    },
    {
     "data": {
      "image/png": "[encoded data removed]",
      "text/plain": [
       "<matplotlib.figure.Figure at 0x21a1e7b9048>"
      ]
     },
     "metadata": {},
     "output_type": "display_data"
    }
   ],
   "source": [
    "sns.regplot(x=\"updates_count_while_scraping\", y=\"updates_likes_mean_while_scraping\", data=df)\n",
    "print(\"Pearson correlation: %.3f\" % df['updates_count_while_scraping'].corr(df['updates_likes_mean_while_scraping']))"
   ]
  },
  {
   "cell_type": "code",
   "execution_count": null,
   "metadata": {
    "collapsed": true
   },
   "outputs": [],
   "source": []
  },
  {
   "cell_type": "markdown",
   "metadata": {
    "collapsed": true
   },
   "source": [
    "# Exploratory data analysis (part 2)"
   ]
  },
  {
   "cell_type": "code",
   "execution_count": 113,
   "metadata": {
    "collapsed": true
   },
   "outputs": [],
   "source": [
    "plt.rcParams['figure.figsize'] = [16, 6]"
   ]
  },
  {
   "cell_type": "markdown",
   "metadata": {},
   "source": [
    "## Currency"
   ]
  },
  {
   "cell_type": "code",
   "execution_count": 114,
   "metadata": {},
   "outputs": [
    {
     "data": {
      "text/plain": [
       "<matplotlib.axes._subplots.AxesSubplot at 0x21b758ea208>"
      ]
     },
     "execution_count": 114,
     "metadata": {},
     "output_type": "execute_result"
    },
    {
     "data": {
      "image/png": "[encoded data removed]",
      "text/plain": [
       "<matplotlib.figure.Figure at 0x21b758d1668>"
      ]
     },
     "metadata": {},
     "output_type": "display_data"
    }
   ],
   "source": [
    "pd.crosstab(index=df[\"currency\"], columns=df['class']).plot.bar(stacked=False)"
   ]
  },
  {
   "cell_type": "markdown",
   "metadata": {},
   "source": [
    "## Country"
   ]
  },
  {
   "cell_type": "code",
   "execution_count": 115,
   "metadata": {},
   "outputs": [
    {
     "data": {
      "text/plain": [
       "<matplotlib.axes._subplots.AxesSubplot at 0x21b754ca198>"
      ]
     },
     "execution_count": 115,
     "metadata": {},
     "output_type": "execute_result"
    },
    {
     "data": {
      "image/png": "[encoded data removed]",
      "text/plain": [
       "<matplotlib.figure.Figure at 0x21bacefd2e8>"
      ]
     },
     "metadata": {},
     "output_type": "display_data"
    }
   ],
   "source": [
    "pd.crosstab(index=df[\"country\"], columns=df['class']).plot.bar(stacked=False)"
   ]
  },
  {
   "cell_type": "markdown",
   "metadata": {},
   "source": [
    "## Location type"
   ]
  },
  {
   "cell_type": "code",
   "execution_count": 116,
   "metadata": {},
   "outputs": [
    {
     "data": {
      "text/plain": [
       "<matplotlib.axes._subplots.AxesSubplot at 0x21b758d1da0>"
      ]
     },
     "execution_count": 116,
     "metadata": {},
     "output_type": "execute_result"
    },
    {
     "data": {
      "image/png": "[encoded data removed]",
      "text/plain": [
       "<matplotlib.figure.Figure at 0x21b3cb81550>"
      ]
     },
     "metadata": {},
     "output_type": "display_data"
    }
   ],
   "source": [
    "pd.crosstab(index=df[\"location_type\"], columns=df['class']).plot.bar(stacked=False)"
   ]
  },
  {
   "cell_type": "markdown",
   "metadata": {},
   "source": [
    "## Parent category"
   ]
  },
  {
   "cell_type": "code",
   "execution_count": 117,
   "metadata": {},
   "outputs": [
    {
     "data": {
      "text/plain": [
       "<matplotlib.axes._subplots.AxesSubplot at 0x21a37927fd0>"
      ]
     },
     "execution_count": 117,
     "metadata": {},
     "output_type": "execute_result"
    },
    {
     "data": {
      "image/png": "[encoded data removed]",
      "text/plain": [
       "<matplotlib.figure.Figure at 0x21b46f34048>"
      ]
     },
     "metadata": {},
     "output_type": "display_data"
    }
   ],
   "source": [
    "pd.crosstab(index=df[\"category_parent\"], columns=df['class']).plot.bar(stacked=False)"
   ]
  },
  {
   "cell_type": "markdown",
   "metadata": {},
   "source": [
    "## Category"
   ]
  },
  {
   "cell_type": "code",
   "execution_count": 118,
   "metadata": {},
   "outputs": [
    {
     "data": {
      "image/png": "[encoded data removed]",
      "text/plain": [
       "<matplotlib.figure.Figure at 0x21a1c5fc9b0>"
      ]
     },
     "metadata": {},
     "output_type": "display_data"
    }
   ],
   "source": [
    "# too many values\n",
    "plt.rcParams['figure.figsize'] = [80, 10]\n",
    "pd.crosstab(index=df[\"category_name\"], columns=df['class']).plot.bar(stacked=True)\n",
    "plt.rcParams['figure.figsize'] = [16, 6]"
   ]
  },
  {
   "cell_type": "markdown",
   "metadata": {},
   "source": [
    "## Staff pick"
   ]
  },
  {
   "cell_type": "code",
   "execution_count": 119,
   "metadata": {
    "collapsed": true
   },
   "outputs": [],
   "source": [
    "# in past there were no staff_pick badges so we set them to False\n",
    "df['staff_pick'] = df['staff_pick'].fillna(False)"
   ]
  },
  {
   "cell_type": "code",
   "execution_count": 120,
   "metadata": {
    "scrolled": false
   },
   "outputs": [
    {
     "data": {
      "text/plain": [
       "<matplotlib.axes._subplots.AxesSubplot at 0x21ad4efff28>"
      ]
     },
     "execution_count": 120,
     "metadata": {},
     "output_type": "execute_result"
    },
    {
     "data": {
      "image/png": "[encoded data removed]",
      "text/plain": [
       "<matplotlib.figure.Figure at 0x21ac9483f60>"
      ]
     },
     "metadata": {},
     "output_type": "display_data"
    }
   ],
   "source": [
    "pd.crosstab(index=df[\"staff_pick\"], columns=df['class']).plot.bar(stacked=False)"
   ]
  },
  {
   "cell_type": "code",
   "execution_count": null,
   "metadata": {
    "collapsed": true
   },
   "outputs": [],
   "source": []
  },
  {
   "cell_type": "code",
   "execution_count": 121,
   "metadata": {
    "collapsed": true
   },
   "outputs": [],
   "source": [
    "df.to_csv('data/merged4.csv')"
   ]
  },
  {
   "cell_type": "code",
   "execution_count": 122,
   "metadata": {},
   "outputs": [
    {
     "data": {
      "text/plain": [
       "creator_name               1\n",
       "creator_name_end           1\n",
       "db_description_full       11\n",
       "db_image_url            9288\n",
       "db_project_data          102\n",
       "db_start_time          16847\n",
       "db_video_url           10259\n",
       "location_state             7\n",
       "location_state_end         6\n",
       "staff_pick_end          1776\n",
       "dtype: int64"
      ]
     },
     "execution_count": 122,
     "metadata": {},
     "output_type": "execute_result"
    }
   ],
   "source": [
    "df.isnull().sum()[df.isnull().sum() > 0]"
   ]
  }
 ],
 "metadata": {
  "kernelspec": {
   "display_name": "Python 3",
   "language": "python",
   "name": "python3"
  },
  "language_info": {
   "codemirror_mode": {
    "name": "ipython",
    "version": 3
   },
   "file_extension": ".py",
   "mimetype": "text/x-python",
   "name": "python",
   "nbconvert_exporter": "python",
   "pygments_lexer": "ipython3",
   "version": "3.6.1"
  }
 },
 "nbformat": 4,
 "nbformat_minor": 2
}
