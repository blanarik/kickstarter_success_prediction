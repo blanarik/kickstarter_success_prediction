{
 "cells": [
  {
   "cell_type": "markdown",
   "metadata": {},
   "source": [
    "# Data integration\n",
    "\n",
    "Let's merge both datasets into a single dataset containing every possible piece of information and analyse this merged dataset."
   ]
  },
  {
   "cell_type": "code",
   "execution_count": 35,
   "metadata": {
    "collapsed": true
   },
   "outputs": [],
   "source": [
    "import mysql.connector as sql\n",
    "import pandas as pd\n",
    "import seaborn as sns"
   ]
  },
  {
   "cell_type": "markdown",
   "metadata": {},
   "source": [
    "### First dataset - webrobots.io"
   ]
  },
  {
   "cell_type": "code",
   "execution_count": 2,
   "metadata": {},
   "outputs": [
    {
     "name": "stderr",
     "output_type": "stream",
     "text": [
      "C:\\Users\\Patrik\\Anaconda3\\lib\\site-packages\\IPython\\core\\interactiveshell.py:2717: DtypeWarning: Columns (51,52) have mixed types. Specify dtype option on import or set low_memory=False.\n",
      "  interactivity=interactivity, compiler=compiler, result=result)\n"
     ]
    }
   ],
   "source": [
    "df_projects = pd.read_csv('data/partly_analysed.csv', encoding='cp1252', index_col=0)"
   ]
  },
  {
   "cell_type": "markdown",
   "metadata": {},
   "source": [
    "### Second dataset"
   ]
  },
  {
   "cell_type": "code",
   "execution_count": 36,
   "metadata": {
    "collapsed": true
   },
   "outputs": [],
   "source": [
    "con = sql.connect(database='kickstarter2017', user='kickstarter', password='kickstarter')"
   ]
  },
  {
   "cell_type": "code",
   "execution_count": 4,
   "metadata": {},
   "outputs": [
    {
     "data": {
      "text/html": [
       "<div>\n",
       "<style>\n",
       "    .dataframe thead tr:only-child th {\n",
       "        text-align: right;\n",
       "    }\n",
       "\n",
       "    .dataframe thead th {\n",
       "        text-align: left;\n",
       "    }\n",
       "\n",
       "    .dataframe tbody tr th {\n",
       "        vertical-align: top;\n",
       "    }\n",
       "</style>\n",
       "<table border=\"1\" class=\"dataframe\">\n",
       "  <thead>\n",
       "    <tr style=\"text-align: right;\">\n",
       "      <th></th>\n",
       "      <th>project_id</th>\n",
       "      <th>url</th>\n",
       "      <th>name</th>\n",
       "      <th>status</th>\n",
       "      <th>project_we_love</th>\n",
       "      <th>category_id</th>\n",
       "      <th>subcategory_id</th>\n",
       "      <th>creators_url</th>\n",
       "      <th>location_id</th>\n",
       "      <th>pledged</th>\n",
       "      <th>...</th>\n",
       "      <th>description_short</th>\n",
       "      <th>description_full</th>\n",
       "      <th>video_url</th>\n",
       "      <th>image_url</th>\n",
       "      <th>faq_count</th>\n",
       "      <th>updates_count</th>\n",
       "      <th>comments_count</th>\n",
       "      <th>fb_comments_count</th>\n",
       "      <th>fb_shares_count</th>\n",
       "      <th>project_data</th>\n",
       "    </tr>\n",
       "  </thead>\n",
       "  <tbody>\n",
       "    <tr>\n",
       "      <th>0</th>\n",
       "      <td>7</td>\n",
       "      <td>https://www.kickstarter.com/projects/elenamoon...</td>\n",
       "      <td>You Down with YPP?</td>\n",
       "      <td>successful</td>\n",
       "      <td>0</td>\n",
       "      <td>1</td>\n",
       "      <td>1</td>\n",
       "      <td>https://www.kickstarter.com/projects/elenamoon...</td>\n",
       "      <td>7</td>\n",
       "      <td>1945.0</td>\n",
       "      <td>...</td>\n",
       "      <td>The Young Producers Project will work with you...</td>\n",
       "      <td>&lt;p&gt;&lt;b&gt;WE DID IT! BUT LET'S KEEP GOING!&lt;/b&gt; Tha...</td>\n",
       "      <td>https://ksr-video.imgix.net/projects/4694/vide...</td>\n",
       "      <td>https://ksr-ugc.imgix.net/assets/011/261/065/e...</td>\n",
       "      <td>0</td>\n",
       "      <td>3</td>\n",
       "      <td>3</td>\n",
       "      <td>0</td>\n",
       "      <td>0</td>\n",
       "      <td>{\"id\":1673627837,\"photo\":{\"key\":\"assets/011/26...</td>\n",
       "    </tr>\n",
       "    <tr>\n",
       "      <th>1</th>\n",
       "      <td>8</td>\n",
       "      <td>https://www.kickstarter.com/projects/146178436...</td>\n",
       "      <td>Season 6 of the Faroe Islands Podcast: The Out...</td>\n",
       "      <td>successful</td>\n",
       "      <td>0</td>\n",
       "      <td>1</td>\n",
       "      <td>1</td>\n",
       "      <td>https://www.kickstarter.com/projects/146178436...</td>\n",
       "      <td>8</td>\n",
       "      <td>2217.0</td>\n",
       "      <td>...</td>\n",
       "      <td>We&amp;#39;re heading back to the Faroes to record...</td>\n",
       "      <td>&lt;p&gt;We've made more than 200 episodes, but ther...</td>\n",
       "      <td>https://ksr-video.imgix.net/projects/952578/vi...</td>\n",
       "      <td>https://ksr-ugc.imgix.net/assets/011/684/575/e...</td>\n",
       "      <td>0</td>\n",
       "      <td>2</td>\n",
       "      <td>1</td>\n",
       "      <td>0</td>\n",
       "      <td>522</td>\n",
       "      <td>{\"id\":1984035314,\"photo\":{\"key\":\"assets/011/68...</td>\n",
       "    </tr>\n",
       "    <tr>\n",
       "      <th>2</th>\n",
       "      <td>9</td>\n",
       "      <td>https://www.kickstarter.com/projects/245752542...</td>\n",
       "      <td>refreshED</td>\n",
       "      <td>successful</td>\n",
       "      <td>0</td>\n",
       "      <td>1</td>\n",
       "      <td>1</td>\n",
       "      <td>https://www.kickstarter.com/projects/245752542...</td>\n",
       "      <td>10</td>\n",
       "      <td>544.0</td>\n",
       "      <td>...</td>\n",
       "      <td>refreshED is a podcast for those bold enough t...</td>\n",
       "      <td>&lt;p&gt;The Move:&lt;/p&gt;&lt;p&gt;Five years ago I embarked o...</td>\n",
       "      <td></td>\n",
       "      <td>https://ksr-ugc.imgix.net/assets/011/729/694/c...</td>\n",
       "      <td>0</td>\n",
       "      <td>2</td>\n",
       "      <td>2</td>\n",
       "      <td>0</td>\n",
       "      <td>39</td>\n",
       "      <td>{\"id\":1613957923,\"photo\":{\"key\":\"assets/011/72...</td>\n",
       "    </tr>\n",
       "    <tr>\n",
       "      <th>3</th>\n",
       "      <td>10</td>\n",
       "      <td>https://www.kickstarter.com/projects/143081511...</td>\n",
       "      <td>I Want To Be Heard!</td>\n",
       "      <td>successful</td>\n",
       "      <td>0</td>\n",
       "      <td>1</td>\n",
       "      <td>1</td>\n",
       "      <td>https://www.kickstarter.com/projects/143081511...</td>\n",
       "      <td>11</td>\n",
       "      <td>510.0</td>\n",
       "      <td>...</td>\n",
       "      <td>My dream is to be a host. I would like to own ...</td>\n",
       "      <td>&lt;p&gt;I recently graduated college and my ultimat...</td>\n",
       "      <td></td>\n",
       "      <td>https://ksr-ugc.imgix.net/assets/011/758/625/6...</td>\n",
       "      <td>0</td>\n",
       "      <td>0</td>\n",
       "      <td>1</td>\n",
       "      <td>0</td>\n",
       "      <td>4</td>\n",
       "      <td>{\"id\":1446980133,\"photo\":{\"key\":\"assets/011/75...</td>\n",
       "    </tr>\n",
       "    <tr>\n",
       "      <th>4</th>\n",
       "      <td>11</td>\n",
       "      <td>https://www.kickstarter.com/projects/786754763...</td>\n",
       "      <td>Latch Key Kids Podcast</td>\n",
       "      <td>successful</td>\n",
       "      <td>0</td>\n",
       "      <td>1</td>\n",
       "      <td>1</td>\n",
       "      <td>https://www.kickstarter.com/projects/786754763...</td>\n",
       "      <td>13</td>\n",
       "      <td>332.0</td>\n",
       "      <td>...</td>\n",
       "      <td>A podcast that relives and reviews cartoons of...</td>\n",
       "      <td>&lt;p&gt;Hi, my name Timothy James Earls, but please...</td>\n",
       "      <td></td>\n",
       "      <td>https://ksr-ugc.imgix.net/assets/011/745/304/3...</td>\n",
       "      <td>7</td>\n",
       "      <td>8</td>\n",
       "      <td>0</td>\n",
       "      <td>0</td>\n",
       "      <td>19</td>\n",
       "      <td>{\"id\":1805285154,\"photo\":{\"key\":\"assets/011/74...</td>\n",
       "    </tr>\n",
       "  </tbody>\n",
       "</table>\n",
       "<p>5 rows × 27 columns</p>\n",
       "</div>"
      ],
      "text/plain": [
       "   project_id                                                url  \\\n",
       "0           7  https://www.kickstarter.com/projects/elenamoon...   \n",
       "1           8  https://www.kickstarter.com/projects/146178436...   \n",
       "2           9  https://www.kickstarter.com/projects/245752542...   \n",
       "3          10  https://www.kickstarter.com/projects/143081511...   \n",
       "4          11  https://www.kickstarter.com/projects/786754763...   \n",
       "\n",
       "                                                name      status  \\\n",
       "0                                 You Down with YPP?  successful   \n",
       "1  Season 6 of the Faroe Islands Podcast: The Out...  successful   \n",
       "2                                          refreshED  successful   \n",
       "3                                I Want To Be Heard!  successful   \n",
       "4                             Latch Key Kids Podcast  successful   \n",
       "\n",
       "   project_we_love  category_id  subcategory_id  \\\n",
       "0                0            1               1   \n",
       "1                0            1               1   \n",
       "2                0            1               1   \n",
       "3                0            1               1   \n",
       "4                0            1               1   \n",
       "\n",
       "                                        creators_url  location_id  pledged  \\\n",
       "0  https://www.kickstarter.com/projects/elenamoon...            7   1945.0   \n",
       "1  https://www.kickstarter.com/projects/146178436...            8   2217.0   \n",
       "2  https://www.kickstarter.com/projects/245752542...           10    544.0   \n",
       "3  https://www.kickstarter.com/projects/143081511...           11    510.0   \n",
       "4  https://www.kickstarter.com/projects/786754763...           13    332.0   \n",
       "\n",
       "                         ...                          \\\n",
       "0                        ...                           \n",
       "1                        ...                           \n",
       "2                        ...                           \n",
       "3                        ...                           \n",
       "4                        ...                           \n",
       "\n",
       "                                   description_short  \\\n",
       "0  The Young Producers Project will work with you...   \n",
       "1  We&#39;re heading back to the Faroes to record...   \n",
       "2  refreshED is a podcast for those bold enough t...   \n",
       "3  My dream is to be a host. I would like to own ...   \n",
       "4  A podcast that relives and reviews cartoons of...   \n",
       "\n",
       "                                    description_full  \\\n",
       "0  <p><b>WE DID IT! BUT LET'S KEEP GOING!</b> Tha...   \n",
       "1  <p>We've made more than 200 episodes, but ther...   \n",
       "2  <p>The Move:</p><p>Five years ago I embarked o...   \n",
       "3  <p>I recently graduated college and my ultimat...   \n",
       "4  <p>Hi, my name Timothy James Earls, but please...   \n",
       "\n",
       "                                           video_url  \\\n",
       "0  https://ksr-video.imgix.net/projects/4694/vide...   \n",
       "1  https://ksr-video.imgix.net/projects/952578/vi...   \n",
       "2                                                      \n",
       "3                                                      \n",
       "4                                                      \n",
       "\n",
       "                                           image_url faq_count updates_count  \\\n",
       "0  https://ksr-ugc.imgix.net/assets/011/261/065/e...         0             3   \n",
       "1  https://ksr-ugc.imgix.net/assets/011/684/575/e...         0             2   \n",
       "2  https://ksr-ugc.imgix.net/assets/011/729/694/c...         0             2   \n",
       "3  https://ksr-ugc.imgix.net/assets/011/758/625/6...         0             0   \n",
       "4  https://ksr-ugc.imgix.net/assets/011/745/304/3...         7             8   \n",
       "\n",
       "   comments_count fb_comments_count fb_shares_count  \\\n",
       "0               3                 0               0   \n",
       "1               1                 0             522   \n",
       "2               2                 0              39   \n",
       "3               1                 0               4   \n",
       "4               0                 0              19   \n",
       "\n",
       "                                        project_data  \n",
       "0  {\"id\":1673627837,\"photo\":{\"key\":\"assets/011/26...  \n",
       "1  {\"id\":1984035314,\"photo\":{\"key\":\"assets/011/68...  \n",
       "2  {\"id\":1613957923,\"photo\":{\"key\":\"assets/011/72...  \n",
       "3  {\"id\":1446980133,\"photo\":{\"key\":\"assets/011/75...  \n",
       "4  {\"id\":1805285154,\"photo\":{\"key\":\"assets/011/74...  \n",
       "\n",
       "[5 rows x 27 columns]"
      ]
     },
     "execution_count": 4,
     "metadata": {},
     "output_type": "execute_result"
    }
   ],
   "source": [
    "df_db = pd.read_sql('SELECT * FROM kickstarter2017.kickstarter_project WHERE status LIKE \"failed\" or status LIKE \"successful\"', con)\n",
    "df_db.head()"
   ]
  },
  {
   "cell_type": "code",
   "execution_count": 5,
   "metadata": {},
   "outputs": [
    {
     "data": {
      "text/html": [
       "<div>\n",
       "<style>\n",
       "    .dataframe thead tr:only-child th {\n",
       "        text-align: right;\n",
       "    }\n",
       "\n",
       "    .dataframe thead th {\n",
       "        text-align: left;\n",
       "    }\n",
       "\n",
       "    .dataframe tbody tr th {\n",
       "        vertical-align: top;\n",
       "    }\n",
       "</style>\n",
       "<table border=\"1\" class=\"dataframe\">\n",
       "  <thead>\n",
       "    <tr style=\"text-align: right;\">\n",
       "      <th></th>\n",
       "      <th>project_id</th>\n",
       "      <th>url</th>\n",
       "      <th>name</th>\n",
       "      <th>status</th>\n",
       "      <th>project_we_love</th>\n",
       "      <th>category_id</th>\n",
       "      <th>subcategory_id</th>\n",
       "      <th>creators_url</th>\n",
       "      <th>location_id</th>\n",
       "      <th>pledged</th>\n",
       "      <th>...</th>\n",
       "      <th>description_short</th>\n",
       "      <th>description_full</th>\n",
       "      <th>video_url</th>\n",
       "      <th>image_url</th>\n",
       "      <th>faq_count</th>\n",
       "      <th>updates_count</th>\n",
       "      <th>comments_count</th>\n",
       "      <th>fb_comments_count</th>\n",
       "      <th>fb_shares_count</th>\n",
       "      <th>project_data</th>\n",
       "    </tr>\n",
       "  </thead>\n",
       "  <tbody>\n",
       "    <tr>\n",
       "      <th>108412</th>\n",
       "      <td>117020</td>\n",
       "      <td>https://www.kickstarter.com/projects/117359406...</td>\n",
       "      <td>Wm. Cofield Community and Celebration (October...</td>\n",
       "      <td>failed</td>\n",
       "      <td>0</td>\n",
       "      <td>14</td>\n",
       "      <td>145</td>\n",
       "      <td>https://www.kickstarter.com/projects/117359406...</td>\n",
       "      <td>2621</td>\n",
       "      <td>12503.0</td>\n",
       "      <td>...</td>\n",
       "      <td>As our cheeses age to perfection, we are raisi...</td>\n",
       "      <td>&lt;p&gt;We are very pleased with our progress so fa...</td>\n",
       "      <td>https://ksr-video.imgix.net/projects/2945646/v...</td>\n",
       "      <td></td>\n",
       "      <td>0</td>\n",
       "      <td>4</td>\n",
       "      <td>0</td>\n",
       "      <td>0</td>\n",
       "      <td>352</td>\n",
       "      <td>{\"id\":1250503860,\"photo\":{\"key\":\"assets/016/50...</td>\n",
       "    </tr>\n",
       "    <tr>\n",
       "      <th>108413</th>\n",
       "      <td>117021</td>\n",
       "      <td>https://www.kickstarter.com/projects/195679343...</td>\n",
       "      <td>Handcrafted Eco-Friendly Edible Spoon</td>\n",
       "      <td>failed</td>\n",
       "      <td>0</td>\n",
       "      <td>14</td>\n",
       "      <td>145</td>\n",
       "      <td>https://www.kickstarter.com/projects/195679343...</td>\n",
       "      <td>1611</td>\n",
       "      <td>192.0</td>\n",
       "      <td>...</td>\n",
       "      <td>Using the 35 yr old Family Recipe on EDIBLES, ...</td>\n",
       "      <td>&lt;div class=\"template asset\" contenteditable=\"f...</td>\n",
       "      <td>https://ksr-video.imgix.net/projects/3062569/v...</td>\n",
       "      <td></td>\n",
       "      <td>0</td>\n",
       "      <td>0</td>\n",
       "      <td>0</td>\n",
       "      <td>0</td>\n",
       "      <td>0</td>\n",
       "      <td>{\"id\":303069932,\"photo\":{\"key\":\"assets/017/846...</td>\n",
       "    </tr>\n",
       "    <tr>\n",
       "      <th>108414</th>\n",
       "      <td>117022</td>\n",
       "      <td>https://www.kickstarter.com/projects/848839972...</td>\n",
       "      <td>Aura&amp;#39;s Chocolate Bar | Small Batch Artisan...</td>\n",
       "      <td>failed</td>\n",
       "      <td>0</td>\n",
       "      <td>14</td>\n",
       "      <td>145</td>\n",
       "      <td>https://www.kickstarter.com/projects/848839972...</td>\n",
       "      <td>15</td>\n",
       "      <td>179.0</td>\n",
       "      <td>...</td>\n",
       "      <td>Chocolate lovers! Chocaholics! Let&amp;#39;s Build...</td>\n",
       "      <td>&lt;p&gt;&lt;b&gt;IN A NUTSHELL &lt;/b&gt;&lt;/p&gt;&lt;p&gt; Aura's Chocola...</td>\n",
       "      <td>https://ksr-video.imgix.net/projects/3058003/v...</td>\n",
       "      <td></td>\n",
       "      <td>0</td>\n",
       "      <td>0</td>\n",
       "      <td>0</td>\n",
       "      <td>0</td>\n",
       "      <td>32</td>\n",
       "      <td>{\"id\":282994137,\"photo\":{\"key\":\"assets/017/794...</td>\n",
       "    </tr>\n",
       "    <tr>\n",
       "      <th>108415</th>\n",
       "      <td>117023</td>\n",
       "      <td>https://www.kickstarter.com/projects/100984525...</td>\n",
       "      <td>Japanese Lunch Box Retail Shop</td>\n",
       "      <td>failed</td>\n",
       "      <td>0</td>\n",
       "      <td>14</td>\n",
       "      <td>145</td>\n",
       "      <td>https://www.kickstarter.com/projects/100984525...</td>\n",
       "      <td>650</td>\n",
       "      <td>0.0</td>\n",
       "      <td>...</td>\n",
       "      <td>Setup our own food factory and a selling spot</td>\n",
       "      <td>&lt;p&gt;We will use the money on seting up a Food F...</td>\n",
       "      <td></td>\n",
       "      <td>https://ksr-ugc.imgix.net/assets/017/864/128/f...</td>\n",
       "      <td>0</td>\n",
       "      <td>0</td>\n",
       "      <td>0</td>\n",
       "      <td>0</td>\n",
       "      <td>0</td>\n",
       "      <td>{\"id\":328068673,\"photo\":{\"key\":\"assets/017/864...</td>\n",
       "    </tr>\n",
       "    <tr>\n",
       "      <th>108416</th>\n",
       "      <td>117024</td>\n",
       "      <td>https://www.kickstarter.com/projects/556520025...</td>\n",
       "      <td>Original 90s Style Szechuan Nugget Dipping Sauce</td>\n",
       "      <td>failed</td>\n",
       "      <td>0</td>\n",
       "      <td>14</td>\n",
       "      <td>145</td>\n",
       "      <td>https://www.kickstarter.com/projects/556520025...</td>\n",
       "      <td>35</td>\n",
       "      <td>1407.0</td>\n",
       "      <td>...</td>\n",
       "      <td>Szechuan Sauce lives again! We reverse enginee...</td>\n",
       "      <td>&lt;div class=\"template asset\" contenteditable=\"f...</td>\n",
       "      <td>https://ksr-video.imgix.net/projects/3065194/v...</td>\n",
       "      <td></td>\n",
       "      <td>0</td>\n",
       "      <td>1</td>\n",
       "      <td>0</td>\n",
       "      <td>0</td>\n",
       "      <td>167</td>\n",
       "      <td>{\"id\":687096902,\"photo\":{\"key\":\"assets/017/878...</td>\n",
       "    </tr>\n",
       "  </tbody>\n",
       "</table>\n",
       "<p>5 rows × 27 columns</p>\n",
       "</div>"
      ],
      "text/plain": [
       "        project_id                                                url  \\\n",
       "108412      117020  https://www.kickstarter.com/projects/117359406...   \n",
       "108413      117021  https://www.kickstarter.com/projects/195679343...   \n",
       "108414      117022  https://www.kickstarter.com/projects/848839972...   \n",
       "108415      117023  https://www.kickstarter.com/projects/100984525...   \n",
       "108416      117024  https://www.kickstarter.com/projects/556520025...   \n",
       "\n",
       "                                                     name  status  \\\n",
       "108412  Wm. Cofield Community and Celebration (October...  failed   \n",
       "108413              Handcrafted Eco-Friendly Edible Spoon  failed   \n",
       "108414  Aura&#39;s Chocolate Bar | Small Batch Artisan...  failed   \n",
       "108415                     Japanese Lunch Box Retail Shop  failed   \n",
       "108416   Original 90s Style Szechuan Nugget Dipping Sauce  failed   \n",
       "\n",
       "        project_we_love  category_id  subcategory_id  \\\n",
       "108412                0           14             145   \n",
       "108413                0           14             145   \n",
       "108414                0           14             145   \n",
       "108415                0           14             145   \n",
       "108416                0           14             145   \n",
       "\n",
       "                                             creators_url  location_id  \\\n",
       "108412  https://www.kickstarter.com/projects/117359406...         2621   \n",
       "108413  https://www.kickstarter.com/projects/195679343...         1611   \n",
       "108414  https://www.kickstarter.com/projects/848839972...           15   \n",
       "108415  https://www.kickstarter.com/projects/100984525...          650   \n",
       "108416  https://www.kickstarter.com/projects/556520025...           35   \n",
       "\n",
       "        pledged                        ...                          \\\n",
       "108412  12503.0                        ...                           \n",
       "108413    192.0                        ...                           \n",
       "108414    179.0                        ...                           \n",
       "108415      0.0                        ...                           \n",
       "108416   1407.0                        ...                           \n",
       "\n",
       "                                        description_short  \\\n",
       "108412  As our cheeses age to perfection, we are raisi...   \n",
       "108413  Using the 35 yr old Family Recipe on EDIBLES, ...   \n",
       "108414  Chocolate lovers! Chocaholics! Let&#39;s Build...   \n",
       "108415      Setup our own food factory and a selling spot   \n",
       "108416  Szechuan Sauce lives again! We reverse enginee...   \n",
       "\n",
       "                                         description_full  \\\n",
       "108412  <p>We are very pleased with our progress so fa...   \n",
       "108413  <div class=\"template asset\" contenteditable=\"f...   \n",
       "108414  <p><b>IN A NUTSHELL </b></p><p> Aura's Chocola...   \n",
       "108415  <p>We will use the money on seting up a Food F...   \n",
       "108416  <div class=\"template asset\" contenteditable=\"f...   \n",
       "\n",
       "                                                video_url  \\\n",
       "108412  https://ksr-video.imgix.net/projects/2945646/v...   \n",
       "108413  https://ksr-video.imgix.net/projects/3062569/v...   \n",
       "108414  https://ksr-video.imgix.net/projects/3058003/v...   \n",
       "108415                                                      \n",
       "108416  https://ksr-video.imgix.net/projects/3065194/v...   \n",
       "\n",
       "                                                image_url faq_count  \\\n",
       "108412                                                            0   \n",
       "108413                                                            0   \n",
       "108414                                                            0   \n",
       "108415  https://ksr-ugc.imgix.net/assets/017/864/128/f...         0   \n",
       "108416                                                            0   \n",
       "\n",
       "       updates_count  comments_count fb_comments_count fb_shares_count  \\\n",
       "108412             4               0                 0             352   \n",
       "108413             0               0                 0               0   \n",
       "108414             0               0                 0              32   \n",
       "108415             0               0                 0               0   \n",
       "108416             1               0                 0             167   \n",
       "\n",
       "                                             project_data  \n",
       "108412  {\"id\":1250503860,\"photo\":{\"key\":\"assets/016/50...  \n",
       "108413  {\"id\":303069932,\"photo\":{\"key\":\"assets/017/846...  \n",
       "108414  {\"id\":282994137,\"photo\":{\"key\":\"assets/017/794...  \n",
       "108415  {\"id\":328068673,\"photo\":{\"key\":\"assets/017/864...  \n",
       "108416  {\"id\":687096902,\"photo\":{\"key\":\"assets/017/878...  \n",
       "\n",
       "[5 rows x 27 columns]"
      ]
     },
     "execution_count": 5,
     "metadata": {},
     "output_type": "execute_result"
    }
   ],
   "source": [
    "df_db.tail()"
   ]
  },
  {
   "cell_type": "code",
   "execution_count": 9,
   "metadata": {},
   "outputs": [
    {
     "name": "stdout",
     "output_type": "stream",
     "text": [
      "https://www.kickstarter.com/projects/1461784364/season-6-of-the-faroe-islands-podcast-the-outer-is\n",
      "season-6-of-the-faroe-islands-podcast-the-outer-is\n"
     ]
    }
   ],
   "source": [
    "# project_id is sequence\n",
    "# project names are not unique\n",
    "# project has more urls (we can have distinct urls in our two datasets)\n",
    "# but we could use project names contained in url for merging with first dataset as they ARE unique for each project\n",
    "print(df_db.loc[1, 'url'])\n",
    "print(df_db.loc[1, 'url'].split('/')[5])"
   ]
  },
  {
   "cell_type": "code",
   "execution_count": 10,
   "metadata": {},
   "outputs": [
    {
     "data": {
      "text/plain": [
       "'all-style-dance-battle-the-streak'"
      ]
     },
     "execution_count": 10,
     "metadata": {},
     "output_type": "execute_result"
    }
   ],
   "source": [
    "df_projects.loc[1, 'url_name']"
   ]
  },
  {
   "cell_type": "code",
   "execution_count": 11,
   "metadata": {
    "collapsed": true
   },
   "outputs": [],
   "source": [
    "# get url_name\n",
    "df_db['url_name'] = df_db.apply(lambda x: x['url'].split('/')[5], axis=1)"
   ]
  },
  {
   "cell_type": "code",
   "execution_count": 12,
   "metadata": {
    "collapsed": true
   },
   "outputs": [],
   "source": [
    "# merge first and second dataset\n",
    "df_merged = df_projects.merge(df_db, on='url_name')"
   ]
  },
  {
   "cell_type": "code",
   "execution_count": 13,
   "metadata": {},
   "outputs": [
    {
     "data": {
      "text/plain": [
       "31062"
      ]
     },
     "execution_count": 13,
     "metadata": {},
     "output_type": "execute_result"
    }
   ],
   "source": [
    "len(df_merged)"
   ]
  },
  {
   "cell_type": "code",
   "execution_count": 14,
   "metadata": {
    "collapsed": true
   },
   "outputs": [],
   "source": [
    "df_merged.to_csv('data/merged.csv')"
   ]
  },
  {
   "cell_type": "code",
   "execution_count": null,
   "metadata": {
    "collapsed": true
   },
   "outputs": [],
   "source": []
  },
  {
   "cell_type": "markdown",
   "metadata": {},
   "source": [
    "# Exploratory data analysis"
   ]
  },
  {
   "cell_type": "code",
   "execution_count": 1,
   "metadata": {
    "collapsed": true
   },
   "outputs": [],
   "source": [
    "%matplotlib inline\n",
    "import pandas as pd\n",
    "import numpy as np\n",
    "import scipy.stats as stats\n",
    "import matplotlib.pyplot as plt\n",
    "import seaborn as sns"
   ]
  },
  {
   "cell_type": "code",
   "execution_count": 2,
   "metadata": {},
   "outputs": [
    {
     "name": "stderr",
     "output_type": "stream",
     "text": [
      "C:\\Users\\Patrik\\Anaconda3\\lib\\site-packages\\IPython\\core\\interactiveshell.py:2717: DtypeWarning: Columns (51,52) have mixed types. Specify dtype option on import or set low_memory=False.\n",
      "  interactivity=interactivity, compiler=compiler, result=result)\n"
     ]
    }
   ],
   "source": [
    "df = pd.read_csv('data/merged.csv', encoding='latin1', index_col=0)"
   ]
  },
  {
   "cell_type": "code",
   "execution_count": 3,
   "metadata": {},
   "outputs": [
    {
     "name": "stdout",
     "output_type": "stream",
     "text": [
      "<class 'pandas.core.frame.DataFrame'>\n",
      "Int64Index: 31062 entries, 0 to 31061\n",
      "Data columns (total 102 columns):\n",
      "backers_count_x                31062 non-null int64\n",
      "backers_count_end              31062 non-null int64\n",
      "blurb                          31062 non-null object\n",
      "blurb_end                      31062 non-null object\n",
      "category                       31062 non-null object\n",
      "category_end                   31062 non-null object\n",
      "category_name                  31062 non-null object\n",
      "category_name_end              31062 non-null object\n",
      "category_parent                31062 non-null object\n",
      "category_parent_end            31062 non-null object\n",
      "category_position              31062 non-null int64\n",
      "category_position_end          31062 non-null int64\n",
      "country                        31062 non-null object\n",
      "created_at                     31062 non-null int64\n",
      "creator                        31062 non-null object\n",
      "creator_end                    31062 non-null object\n",
      "creator_name                   31061 non-null object\n",
      "creator_name_end               31061 non-null object\n",
      "currency_x                     31062 non-null object\n",
      "currency_symbol                31062 non-null object\n",
      "currency_trailing_code         31062 non-null bool\n",
      "deadline_end                   31062 non-null int64\n",
      "disable_communication          31062 non-null bool\n",
      "disable_communication_end      31062 non-null bool\n",
      "goal_x                         31062 non-null float64\n",
      "id                             31062 non-null int64\n",
      "launched_at                    31062 non-null int64\n",
      "location                       31062 non-null object\n",
      "location_end                   31062 non-null object\n",
      "location_is_root               31062 non-null bool\n",
      "location_name                  31062 non-null object\n",
      "location_name_end              31062 non-null object\n",
      "location_state                 31055 non-null object\n",
      "location_state_end             31056 non-null object\n",
      "location_type                  31062 non-null object\n",
      "location_type_end              31062 non-null object\n",
      "name_x                         31062 non-null object\n",
      "name_end                       31062 non-null object\n",
      "photo                          31062 non-null object\n",
      "photo_end                      31062 non-null object\n",
      "pledged_x                      31062 non-null float64\n",
      "pledged_end                    31062 non-null float64\n",
      "profile                        31062 non-null object\n",
      "profile_end                    31062 non-null object\n",
      "scraped_at                     31062 non-null int64\n",
      "slug                           31062 non-null object\n",
      "source_url                     31062 non-null object\n",
      "source_url_end                 31062 non-null object\n",
      "spotlight                      31062 non-null bool\n",
      "spotlight_end                  31062 non-null bool\n",
      "staff_pick                     27493 non-null object\n",
      "staff_pick_end                 29263 non-null object\n",
      "state                          31062 non-null object\n",
      "state_changed_at               31062 non-null int64\n",
      "state_changed_at_end           31062 non-null int64\n",
      "state_end                      31062 non-null object\n",
      "static_usd_rate                31062 non-null float64\n",
      "static_usd_rate_end            31062 non-null float64\n",
      "urls                           31062 non-null object\n",
      "urls_end                       31062 non-null object\n",
      "urls_url                       31062 non-null object\n",
      "urls_url_end                   31062 non-null object\n",
      "usd_pledged                    31062 non-null float64\n",
      "usd_pledged_end                31062 non-null float64\n",
      "url_name                       31062 non-null object\n",
      "days_duration                  31062 non-null int64\n",
      "days_preparation               31062 non-null int64\n",
      "days_running                   31062 non-null int64\n",
      "days_remaining                 31062 non-null int64\n",
      "usd_goal                       31062 non-null int64\n",
      "percentage_pledged_goal        31062 non-null float64\n",
      "percentage_pledged_end_goal    31062 non-null float64\n",
      "average_pledge                 31062 non-null float64\n",
      "average_pledge_end             31062 non-null float64\n",
      "percentage_running_duration    31062 non-null int64\n",
      "project_id                     31062 non-null int64\n",
      "url                            31062 non-null object\n",
      "name_y                         31062 non-null object\n",
      "status                         31062 non-null object\n",
      "project_we_love                31062 non-null int64\n",
      "category_id                    31062 non-null int64\n",
      "subcategory_id                 31062 non-null int64\n",
      "creators_url                   31062 non-null object\n",
      "location_id                    31062 non-null int64\n",
      "pledged_y                      31062 non-null float64\n",
      "goal_y                         31062 non-null float64\n",
      "currency_y                     31062 non-null object\n",
      "backers_count_y                31062 non-null int64\n",
      "duration                       31062 non-null int64\n",
      "start_time                     14140 non-null object\n",
      "end_time                       31062 non-null object\n",
      "hours_remaining                31062 non-null float64\n",
      "description_short              31062 non-null object\n",
      "description_full               31050 non-null object\n",
      "video_url                      20608 non-null object\n",
      "image_url                      21750 non-null object\n",
      "faq_count                      31062 non-null int64\n",
      "updates_count                  31062 non-null int64\n",
      "comments_count                 31062 non-null int64\n",
      "fb_comments_count              31062 non-null int64\n",
      "fb_shares_count                31062 non-null int64\n",
      "project_data                   30960 non-null object\n",
      "dtypes: bool(6), float64(14), int64(29), object(53)\n",
      "memory usage: 23.2+ MB\n"
     ]
    }
   ],
   "source": [
    "df.info(max_cols=150)"
   ]
  },
  {
   "cell_type": "code",
   "execution_count": 4,
   "metadata": {},
   "outputs": [
    {
     "data": {
      "text/plain": [
       "0"
      ]
     },
     "execution_count": 4,
     "metadata": {},
     "output_type": "execute_result"
    }
   ],
   "source": [
    "len(df[df['days_duration'] > 60])"
   ]
  },
  {
   "cell_type": "code",
   "execution_count": 5,
   "metadata": {},
   "outputs": [
    {
     "data": {
      "text/plain": [
       "360"
      ]
     },
     "execution_count": 5,
     "metadata": {},
     "output_type": "execute_result"
    }
   ],
   "source": [
    "len(df[df['usd_goal']<100])"
   ]
  },
  {
   "cell_type": "code",
   "execution_count": 6,
   "metadata": {
    "collapsed": true
   },
   "outputs": [],
   "source": [
    "# use only projects with duration up to 60 and goal 100 usd at least\n",
    "df = df[(df['usd_goal']>=100) & (df['days_duration'] <= 60)]"
   ]
  },
  {
   "cell_type": "markdown",
   "metadata": {},
   "source": [
    "## TODO discover and resolve inconsistencies"
   ]
  },
  {
   "cell_type": "code",
   "execution_count": 7,
   "metadata": {
    "scrolled": true
   },
   "outputs": [
    {
     "data": {
      "text/html": [
       "<div>\n",
       "<style>\n",
       "    .dataframe thead tr:only-child th {\n",
       "        text-align: right;\n",
       "    }\n",
       "\n",
       "    .dataframe thead th {\n",
       "        text-align: left;\n",
       "    }\n",
       "\n",
       "    .dataframe tbody tr th {\n",
       "        vertical-align: top;\n",
       "    }\n",
       "</style>\n",
       "<table border=\"1\" class=\"dataframe\">\n",
       "  <thead>\n",
       "    <tr style=\"text-align: right;\">\n",
       "      <th></th>\n",
       "      <th>days_duration</th>\n",
       "      <th>duration</th>\n",
       "      <th>url_name</th>\n",
       "      <th>days_running</th>\n",
       "    </tr>\n",
       "  </thead>\n",
       "  <tbody>\n",
       "    <tr>\n",
       "      <th>1199</th>\n",
       "      <td>59</td>\n",
       "      <td>45</td>\n",
       "      <td>ichristmas-in-paris-the-streets-the-people-the...</td>\n",
       "      <td>18</td>\n",
       "    </tr>\n",
       "    <tr>\n",
       "      <th>1537</th>\n",
       "      <td>52</td>\n",
       "      <td>45</td>\n",
       "      <td>sweetdate4u-business-helper-aide-aux-commercants</td>\n",
       "      <td>29</td>\n",
       "    </tr>\n",
       "    <tr>\n",
       "      <th>1617</th>\n",
       "      <td>44</td>\n",
       "      <td>30</td>\n",
       "      <td>perldancer-book</td>\n",
       "      <td>1</td>\n",
       "    </tr>\n",
       "    <tr>\n",
       "      <th>1789</th>\n",
       "      <td>40</td>\n",
       "      <td>35</td>\n",
       "      <td>le-bureau-connecte-par-martin-lecomte-mobilier...</td>\n",
       "      <td>4</td>\n",
       "    </tr>\n",
       "    <tr>\n",
       "      <th>3173</th>\n",
       "      <td>59</td>\n",
       "      <td>45</td>\n",
       "      <td>ellen-birath-band-album-2</td>\n",
       "      <td>45</td>\n",
       "    </tr>\n",
       "    <tr>\n",
       "      <th>3230</th>\n",
       "      <td>60</td>\n",
       "      <td>30</td>\n",
       "      <td>les-mondes-de-lessaim-un-roman-de-sf-avec-sa-b...</td>\n",
       "      <td>34</td>\n",
       "    </tr>\n",
       "    <tr>\n",
       "      <th>3706</th>\n",
       "      <td>49</td>\n",
       "      <td>50</td>\n",
       "      <td>tangibility-abstraction-exhibition</td>\n",
       "      <td>0</td>\n",
       "    </tr>\n",
       "    <tr>\n",
       "      <th>3710</th>\n",
       "      <td>59</td>\n",
       "      <td>60</td>\n",
       "      <td>holy-chalicedigital-print</td>\n",
       "      <td>12</td>\n",
       "    </tr>\n",
       "    <tr>\n",
       "      <th>3730</th>\n",
       "      <td>59</td>\n",
       "      <td>60</td>\n",
       "      <td>crear-cuadro-de-arte-contemporaneo-en-partida-...</td>\n",
       "      <td>6</td>\n",
       "    </tr>\n",
       "    <tr>\n",
       "      <th>3745</th>\n",
       "      <td>59</td>\n",
       "      <td>60</td>\n",
       "      <td>colormusik-the-music-of-bach-in-full-color</td>\n",
       "      <td>8</td>\n",
       "    </tr>\n",
       "    <tr>\n",
       "      <th>3751</th>\n",
       "      <td>59</td>\n",
       "      <td>60</td>\n",
       "      <td>panda-stickers</td>\n",
       "      <td>8</td>\n",
       "    </tr>\n",
       "    <tr>\n",
       "      <th>3774</th>\n",
       "      <td>59</td>\n",
       "      <td>60</td>\n",
       "      <td>look-here-camberwell-illustration-2016</td>\n",
       "      <td>14</td>\n",
       "    </tr>\n",
       "    <tr>\n",
       "      <th>3794</th>\n",
       "      <td>59</td>\n",
       "      <td>60</td>\n",
       "      <td>divine-monument</td>\n",
       "      <td>1</td>\n",
       "    </tr>\n",
       "    <tr>\n",
       "      <th>3795</th>\n",
       "      <td>59</td>\n",
       "      <td>60</td>\n",
       "      <td>divine-monument</td>\n",
       "      <td>55</td>\n",
       "    </tr>\n",
       "    <tr>\n",
       "      <th>3813</th>\n",
       "      <td>59</td>\n",
       "      <td>60</td>\n",
       "      <td>syn</td>\n",
       "      <td>2</td>\n",
       "    </tr>\n",
       "    <tr>\n",
       "      <th>3814</th>\n",
       "      <td>59</td>\n",
       "      <td>60</td>\n",
       "      <td>syn</td>\n",
       "      <td>55</td>\n",
       "    </tr>\n",
       "    <tr>\n",
       "      <th>3817</th>\n",
       "      <td>59</td>\n",
       "      <td>60</td>\n",
       "      <td>r4-botanicals-operation-save-glass</td>\n",
       "      <td>9</td>\n",
       "    </tr>\n",
       "    <tr>\n",
       "      <th>3827</th>\n",
       "      <td>59</td>\n",
       "      <td>60</td>\n",
       "      <td>flicker-by-jsmf</td>\n",
       "      <td>5</td>\n",
       "    </tr>\n",
       "    <tr>\n",
       "      <th>3828</th>\n",
       "      <td>59</td>\n",
       "      <td>60</td>\n",
       "      <td>flicker-by-jsmf</td>\n",
       "      <td>59</td>\n",
       "    </tr>\n",
       "    <tr>\n",
       "      <th>3840</th>\n",
       "      <td>59</td>\n",
       "      <td>60</td>\n",
       "      <td>chrissys-cruisin-creations</td>\n",
       "      <td>6</td>\n",
       "    </tr>\n",
       "    <tr>\n",
       "      <th>3853</th>\n",
       "      <td>59</td>\n",
       "      <td>60</td>\n",
       "      <td>plushmania</td>\n",
       "      <td>3</td>\n",
       "    </tr>\n",
       "    <tr>\n",
       "      <th>3854</th>\n",
       "      <td>59</td>\n",
       "      <td>60</td>\n",
       "      <td>plushmania</td>\n",
       "      <td>57</td>\n",
       "    </tr>\n",
       "    <tr>\n",
       "      <th>3883</th>\n",
       "      <td>59</td>\n",
       "      <td>60</td>\n",
       "      <td>richards-anime-emporium</td>\n",
       "      <td>1</td>\n",
       "    </tr>\n",
       "    <tr>\n",
       "      <th>3884</th>\n",
       "      <td>59</td>\n",
       "      <td>60</td>\n",
       "      <td>richards-anime-emporium</td>\n",
       "      <td>55</td>\n",
       "    </tr>\n",
       "    <tr>\n",
       "      <th>3895</th>\n",
       "      <td>59</td>\n",
       "      <td>60</td>\n",
       "      <td>phantom-of-the-opera-the-graphic-novel</td>\n",
       "      <td>2</td>\n",
       "    </tr>\n",
       "    <tr>\n",
       "      <th>3896</th>\n",
       "      <td>59</td>\n",
       "      <td>60</td>\n",
       "      <td>phantom-of-the-opera-the-graphic-novel</td>\n",
       "      <td>56</td>\n",
       "    </tr>\n",
       "    <tr>\n",
       "      <th>3907</th>\n",
       "      <td>59</td>\n",
       "      <td>60</td>\n",
       "      <td>create-free-high-quality-manga</td>\n",
       "      <td>8</td>\n",
       "    </tr>\n",
       "    <tr>\n",
       "      <th>3968</th>\n",
       "      <td>59</td>\n",
       "      <td>60</td>\n",
       "      <td>the-purrfect-brand-for-cats-and-people</td>\n",
       "      <td>5</td>\n",
       "    </tr>\n",
       "    <tr>\n",
       "      <th>3969</th>\n",
       "      <td>59</td>\n",
       "      <td>60</td>\n",
       "      <td>the-purrfect-brand-for-cats-and-people</td>\n",
       "      <td>59</td>\n",
       "    </tr>\n",
       "    <tr>\n",
       "      <th>4024</th>\n",
       "      <td>59</td>\n",
       "      <td>60</td>\n",
       "      <td>sul-filo-di-lana-ricuperiamo-la-lana-del-casen...</td>\n",
       "      <td>0</td>\n",
       "    </tr>\n",
       "    <tr>\n",
       "      <th>...</th>\n",
       "      <td>...</td>\n",
       "      <td>...</td>\n",
       "      <td>...</td>\n",
       "      <td>...</td>\n",
       "    </tr>\n",
       "    <tr>\n",
       "      <th>27100</th>\n",
       "      <td>28</td>\n",
       "      <td>20</td>\n",
       "      <td>goga</td>\n",
       "      <td>9</td>\n",
       "    </tr>\n",
       "    <tr>\n",
       "      <th>27418</th>\n",
       "      <td>23</td>\n",
       "      <td>21</td>\n",
       "      <td>dyan-kane-sould-out-super-cd-project-2</td>\n",
       "      <td>14</td>\n",
       "    </tr>\n",
       "    <tr>\n",
       "      <th>27476</th>\n",
       "      <td>27</td>\n",
       "      <td>30</td>\n",
       "      <td>a-one-man-show-at-the-carmel-sunset-center</td>\n",
       "      <td>1</td>\n",
       "    </tr>\n",
       "    <tr>\n",
       "      <th>27928</th>\n",
       "      <td>24</td>\n",
       "      <td>25</td>\n",
       "      <td>the-white-bike-production</td>\n",
       "      <td>2</td>\n",
       "    </tr>\n",
       "    <tr>\n",
       "      <th>28020</th>\n",
       "      <td>23</td>\n",
       "      <td>30</td>\n",
       "      <td>fan-art-outside-the-box</td>\n",
       "      <td>9</td>\n",
       "    </tr>\n",
       "    <tr>\n",
       "      <th>28203</th>\n",
       "      <td>28</td>\n",
       "      <td>29</td>\n",
       "      <td>sense-of-place-by-jose-davila</td>\n",
       "      <td>3</td>\n",
       "    </tr>\n",
       "    <tr>\n",
       "      <th>28503</th>\n",
       "      <td>31</td>\n",
       "      <td>35</td>\n",
       "      <td>al-my-brother</td>\n",
       "      <td>8</td>\n",
       "    </tr>\n",
       "    <tr>\n",
       "      <th>28942</th>\n",
       "      <td>32</td>\n",
       "      <td>30</td>\n",
       "      <td>switch-con-worlds-first-hdmi-hub-for-switch-an...</td>\n",
       "      <td>26</td>\n",
       "    </tr>\n",
       "    <tr>\n",
       "      <th>29077</th>\n",
       "      <td>52</td>\n",
       "      <td>40</td>\n",
       "      <td>expiringby-julian-shapiro-barnum-and-noelle-me...</td>\n",
       "      <td>37</td>\n",
       "    </tr>\n",
       "    <tr>\n",
       "      <th>29182</th>\n",
       "      <td>48</td>\n",
       "      <td>30</td>\n",
       "      <td>pindabear-enamel-pins-initial-launch</td>\n",
       "      <td>8</td>\n",
       "    </tr>\n",
       "    <tr>\n",
       "      <th>29203</th>\n",
       "      <td>32</td>\n",
       "      <td>30</td>\n",
       "      <td>the-unseen</td>\n",
       "      <td>15</td>\n",
       "    </tr>\n",
       "    <tr>\n",
       "      <th>29512</th>\n",
       "      <td>28</td>\n",
       "      <td>30</td>\n",
       "      <td>grade-a-greenhouse-project</td>\n",
       "      <td>0</td>\n",
       "    </tr>\n",
       "    <tr>\n",
       "      <th>29564</th>\n",
       "      <td>44</td>\n",
       "      <td>30</td>\n",
       "      <td>wicked-boxer-brewing-first-brewery-in-cypress-tx</td>\n",
       "      <td>8</td>\n",
       "    </tr>\n",
       "    <tr>\n",
       "      <th>29565</th>\n",
       "      <td>44</td>\n",
       "      <td>30</td>\n",
       "      <td>wicked-boxer-brewing-first-brewery-in-cypress-tx</td>\n",
       "      <td>39</td>\n",
       "    </tr>\n",
       "    <tr>\n",
       "      <th>29672</th>\n",
       "      <td>13</td>\n",
       "      <td>16</td>\n",
       "      <td>radio-peyizan</td>\n",
       "      <td>12</td>\n",
       "    </tr>\n",
       "    <tr>\n",
       "      <th>29747</th>\n",
       "      <td>60</td>\n",
       "      <td>40</td>\n",
       "      <td>the-joe-gransden-big-bands-latest-and-greatest...</td>\n",
       "      <td>1</td>\n",
       "    </tr>\n",
       "    <tr>\n",
       "      <th>29748</th>\n",
       "      <td>60</td>\n",
       "      <td>40</td>\n",
       "      <td>the-joe-gransden-big-bands-latest-and-greatest...</td>\n",
       "      <td>32</td>\n",
       "    </tr>\n",
       "    <tr>\n",
       "      <th>29749</th>\n",
       "      <td>52</td>\n",
       "      <td>45</td>\n",
       "      <td>nancy-kellys-mark-murphy-tribute-cd</td>\n",
       "      <td>13</td>\n",
       "    </tr>\n",
       "    <tr>\n",
       "      <th>29750</th>\n",
       "      <td>52</td>\n",
       "      <td>45</td>\n",
       "      <td>nancy-kellys-mark-murphy-tribute-cd</td>\n",
       "      <td>44</td>\n",
       "    </tr>\n",
       "    <tr>\n",
       "      <th>29778</th>\n",
       "      <td>31</td>\n",
       "      <td>30</td>\n",
       "      <td>studio-darkashter-start-dash</td>\n",
       "      <td>7</td>\n",
       "    </tr>\n",
       "    <tr>\n",
       "      <th>29925</th>\n",
       "      <td>31</td>\n",
       "      <td>30</td>\n",
       "      <td>great-stories-well-told</td>\n",
       "      <td>27</td>\n",
       "    </tr>\n",
       "    <tr>\n",
       "      <th>30173</th>\n",
       "      <td>32</td>\n",
       "      <td>30</td>\n",
       "      <td>the-sonnets</td>\n",
       "      <td>16</td>\n",
       "    </tr>\n",
       "    <tr>\n",
       "      <th>30327</th>\n",
       "      <td>40</td>\n",
       "      <td>30</td>\n",
       "      <td>y-hasta-la-muerte-amar-poemas-del-dia-de-muertos</td>\n",
       "      <td>19</td>\n",
       "    </tr>\n",
       "    <tr>\n",
       "      <th>30436</th>\n",
       "      <td>24</td>\n",
       "      <td>30</td>\n",
       "      <td>inter-pares-projects-autumn-residency-at-dance...</td>\n",
       "      <td>8</td>\n",
       "    </tr>\n",
       "    <tr>\n",
       "      <th>30486</th>\n",
       "      <td>40</td>\n",
       "      <td>30</td>\n",
       "      <td>gozpa-paz-y-moda</td>\n",
       "      <td>20</td>\n",
       "    </tr>\n",
       "    <tr>\n",
       "      <th>30549</th>\n",
       "      <td>30</td>\n",
       "      <td>20</td>\n",
       "      <td>saldra-el-sol-video</td>\n",
       "      <td>7</td>\n",
       "    </tr>\n",
       "    <tr>\n",
       "      <th>30617</th>\n",
       "      <td>46</td>\n",
       "      <td>30</td>\n",
       "      <td>withco-cocktails-fresh-ingredient-drink-mixers</td>\n",
       "      <td>22</td>\n",
       "    </tr>\n",
       "    <tr>\n",
       "      <th>30716</th>\n",
       "      <td>24</td>\n",
       "      <td>30</td>\n",
       "      <td>bring-jazz-back-to-chattanooga</td>\n",
       "      <td>10</td>\n",
       "    </tr>\n",
       "    <tr>\n",
       "      <th>30749</th>\n",
       "      <td>29</td>\n",
       "      <td>30</td>\n",
       "      <td>skyvenirs</td>\n",
       "      <td>14</td>\n",
       "    </tr>\n",
       "    <tr>\n",
       "      <th>31027</th>\n",
       "      <td>40</td>\n",
       "      <td>30</td>\n",
       "      <td>agua-musica-para-la-voz-arte-laboratorio-la-rueca</td>\n",
       "      <td>11</td>\n",
       "    </tr>\n",
       "  </tbody>\n",
       "</table>\n",
       "<p>3018 rows × 4 columns</p>\n",
       "</div>"
      ],
      "text/plain": [
       "       days_duration  duration  \\\n",
       "1199              59        45   \n",
       "1537              52        45   \n",
       "1617              44        30   \n",
       "1789              40        35   \n",
       "3173              59        45   \n",
       "3230              60        30   \n",
       "3706              49        50   \n",
       "3710              59        60   \n",
       "3730              59        60   \n",
       "3745              59        60   \n",
       "3751              59        60   \n",
       "3774              59        60   \n",
       "3794              59        60   \n",
       "3795              59        60   \n",
       "3813              59        60   \n",
       "3814              59        60   \n",
       "3817              59        60   \n",
       "3827              59        60   \n",
       "3828              59        60   \n",
       "3840              59        60   \n",
       "3853              59        60   \n",
       "3854              59        60   \n",
       "3883              59        60   \n",
       "3884              59        60   \n",
       "3895              59        60   \n",
       "3896              59        60   \n",
       "3907              59        60   \n",
       "3968              59        60   \n",
       "3969              59        60   \n",
       "4024              59        60   \n",
       "...              ...       ...   \n",
       "27100             28        20   \n",
       "27418             23        21   \n",
       "27476             27        30   \n",
       "27928             24        25   \n",
       "28020             23        30   \n",
       "28203             28        29   \n",
       "28503             31        35   \n",
       "28942             32        30   \n",
       "29077             52        40   \n",
       "29182             48        30   \n",
       "29203             32        30   \n",
       "29512             28        30   \n",
       "29564             44        30   \n",
       "29565             44        30   \n",
       "29672             13        16   \n",
       "29747             60        40   \n",
       "29748             60        40   \n",
       "29749             52        45   \n",
       "29750             52        45   \n",
       "29778             31        30   \n",
       "29925             31        30   \n",
       "30173             32        30   \n",
       "30327             40        30   \n",
       "30436             24        30   \n",
       "30486             40        30   \n",
       "30549             30        20   \n",
       "30617             46        30   \n",
       "30716             24        30   \n",
       "30749             29        30   \n",
       "31027             40        30   \n",
       "\n",
       "                                                url_name  days_running  \n",
       "1199   ichristmas-in-paris-the-streets-the-people-the...            18  \n",
       "1537    sweetdate4u-business-helper-aide-aux-commercants            29  \n",
       "1617                                     perldancer-book             1  \n",
       "1789   le-bureau-connecte-par-martin-lecomte-mobilier...             4  \n",
       "3173                           ellen-birath-band-album-2            45  \n",
       "3230   les-mondes-de-lessaim-un-roman-de-sf-avec-sa-b...            34  \n",
       "3706                  tangibility-abstraction-exhibition             0  \n",
       "3710                           holy-chalicedigital-print            12  \n",
       "3730   crear-cuadro-de-arte-contemporaneo-en-partida-...             6  \n",
       "3745          colormusik-the-music-of-bach-in-full-color             8  \n",
       "3751                                      panda-stickers             8  \n",
       "3774              look-here-camberwell-illustration-2016            14  \n",
       "3794                                     divine-monument             1  \n",
       "3795                                     divine-monument            55  \n",
       "3813                                                 syn             2  \n",
       "3814                                                 syn            55  \n",
       "3817                  r4-botanicals-operation-save-glass             9  \n",
       "3827                                     flicker-by-jsmf             5  \n",
       "3828                                     flicker-by-jsmf            59  \n",
       "3840                          chrissys-cruisin-creations             6  \n",
       "3853                                          plushmania             3  \n",
       "3854                                          plushmania            57  \n",
       "3883                             richards-anime-emporium             1  \n",
       "3884                             richards-anime-emporium            55  \n",
       "3895              phantom-of-the-opera-the-graphic-novel             2  \n",
       "3896              phantom-of-the-opera-the-graphic-novel            56  \n",
       "3907                      create-free-high-quality-manga             8  \n",
       "3968              the-purrfect-brand-for-cats-and-people             5  \n",
       "3969              the-purrfect-brand-for-cats-and-people            59  \n",
       "4024   sul-filo-di-lana-ricuperiamo-la-lana-del-casen...             0  \n",
       "...                                                  ...           ...  \n",
       "27100                                               goga             9  \n",
       "27418             dyan-kane-sould-out-super-cd-project-2            14  \n",
       "27476         a-one-man-show-at-the-carmel-sunset-center             1  \n",
       "27928                          the-white-bike-production             2  \n",
       "28020                            fan-art-outside-the-box             9  \n",
       "28203                      sense-of-place-by-jose-davila             3  \n",
       "28503                                      al-my-brother             8  \n",
       "28942  switch-con-worlds-first-hdmi-hub-for-switch-an...            26  \n",
       "29077  expiringby-julian-shapiro-barnum-and-noelle-me...            37  \n",
       "29182               pindabear-enamel-pins-initial-launch             8  \n",
       "29203                                         the-unseen            15  \n",
       "29512                         grade-a-greenhouse-project             0  \n",
       "29564   wicked-boxer-brewing-first-brewery-in-cypress-tx             8  \n",
       "29565   wicked-boxer-brewing-first-brewery-in-cypress-tx            39  \n",
       "29672                                      radio-peyizan            12  \n",
       "29747  the-joe-gransden-big-bands-latest-and-greatest...             1  \n",
       "29748  the-joe-gransden-big-bands-latest-and-greatest...            32  \n",
       "29749                nancy-kellys-mark-murphy-tribute-cd            13  \n",
       "29750                nancy-kellys-mark-murphy-tribute-cd            44  \n",
       "29778                       studio-darkashter-start-dash             7  \n",
       "29925                            great-stories-well-told            27  \n",
       "30173                                        the-sonnets            16  \n",
       "30327   y-hasta-la-muerte-amar-poemas-del-dia-de-muertos            19  \n",
       "30436  inter-pares-projects-autumn-residency-at-dance...             8  \n",
       "30486                                   gozpa-paz-y-moda            20  \n",
       "30549                                saldra-el-sol-video             7  \n",
       "30617     withco-cocktails-fresh-ingredient-drink-mixers            22  \n",
       "30716                     bring-jazz-back-to-chattanooga            10  \n",
       "30749                                          skyvenirs            14  \n",
       "31027  agua-musica-para-la-voz-arte-laboratorio-la-rueca            11  \n",
       "\n",
       "[3018 rows x 4 columns]"
      ]
     },
     "execution_count": 7,
     "metadata": {},
     "output_type": "execute_result"
    }
   ],
   "source": [
    "df[df['days_duration'] != df['duration']][['days_duration', 'duration', 'url_name', 'days_running']]\n",
    "# https://www.kickstarter.com/projects/370420982/ichristmas-in-paris-the-streets-the-people-the-mar?ref=profile_created\n",
    "# kickstarter's problem"
   ]
  },
  {
   "cell_type": "markdown",
   "metadata": {},
   "source": [
    "### Dataset size"
   ]
  },
  {
   "cell_type": "code",
   "execution_count": 8,
   "metadata": {},
   "outputs": [
    {
     "data": {
      "text/plain": [
       "30702"
      ]
     },
     "execution_count": 8,
     "metadata": {},
     "output_type": "execute_result"
    }
   ],
   "source": [
    "len(df)"
   ]
  },
  {
   "cell_type": "markdown",
   "metadata": {},
   "source": [
    "### Success rate"
   ]
  },
  {
   "cell_type": "code",
   "execution_count": 9,
   "metadata": {},
   "outputs": [
    {
     "data": {
      "text/plain": [
       "failed        16847\n",
       "successful    13855\n",
       "Name: state_end, dtype: int64"
      ]
     },
     "execution_count": 9,
     "metadata": {},
     "output_type": "execute_result"
    }
   ],
   "source": [
    "df['state_end'].value_counts()"
   ]
  },
  {
   "cell_type": "code",
   "execution_count": 10,
   "metadata": {},
   "outputs": [
    {
     "data": {
      "text/plain": [
       "failed        54.872647\n",
       "successful    45.127353\n",
       "Name: state_end, dtype: float64"
      ]
     },
     "execution_count": 10,
     "metadata": {},
     "output_type": "execute_result"
    }
   ],
   "source": [
    "df['state_end'].value_counts()/len(df)*100"
   ]
  },
  {
   "cell_type": "markdown",
   "metadata": {},
   "source": [
    "### Duration distribution"
   ]
  },
  {
   "cell_type": "code",
   "execution_count": 11,
   "metadata": {},
   "outputs": [
    {
     "data": {
      "text/plain": [
       "<matplotlib.text.Text at 0x1fe02f88a90>"
      ]
     },
     "execution_count": 11,
     "metadata": {},
     "output_type": "execute_result"
    },
    {
     "data": {
      "image/png": "[encoded data removed]",
      "text/plain": [
       "<matplotlib.figure.Figure at 0x1fe49b2fe10>"
      ]
     },
     "metadata": {},
     "output_type": "display_data"
    }
   ],
   "source": [
    "df['days_duration'].hist(bins=20)\n",
    "#plt.yscale('log')\n",
    "plt.ylabel('count of projects')\n",
    "plt.xlabel('duration in days')\n",
    "plt.title('Distribution of campaign duration')"
   ]
  },
  {
   "cell_type": "code",
   "execution_count": 12,
   "metadata": {
    "collapsed": true
   },
   "outputs": [],
   "source": [
    "#df['duration'].value_counts().sort_index()"
   ]
  },
  {
   "cell_type": "markdown",
   "metadata": {},
   "source": [
    "### Days running distribution"
   ]
  },
  {
   "cell_type": "code",
   "execution_count": 13,
   "metadata": {},
   "outputs": [
    {
     "data": {
      "text/plain": [
       "<matplotlib.text.Text at 0x1fe03434748>"
      ]
     },
     "execution_count": 13,
     "metadata": {},
     "output_type": "execute_result"
    },
    {
     "data": {
      "image/png": "[encoded data removed]",
      "text/plain": [
       "<matplotlib.figure.Figure at 0x1fe030869e8>"
      ]
     },
     "metadata": {},
     "output_type": "display_data"
    }
   ],
   "source": [
    "df['days_running'].hist(bins=10)\n",
    "plt.ylabel('count of projects')\n",
    "plt.xlabel('duration in days')\n",
    "plt.title('Distribution of campaign duration')"
   ]
  },
  {
   "cell_type": "markdown",
   "metadata": {},
   "source": [
    "### Days running / duration ratio\n",
    "\n",
    "We will predict project success after 25, 50 and 75 % of duration"
   ]
  },
  {
   "cell_type": "code",
   "execution_count": 14,
   "metadata": {},
   "outputs": [
    {
     "data": {
      "text/plain": [
       "<matplotlib.text.Text at 0x1fe0358d0f0>"
      ]
     },
     "execution_count": 14,
     "metadata": {},
     "output_type": "execute_result"
    },
    {
     "data": {
      "image/png": "[encoded data removed]",
      "text/plain": [
       "<matplotlib.figure.Figure at 0x1fe3b46e080>"
      ]
     },
     "metadata": {},
     "output_type": "display_data"
    }
   ],
   "source": [
    "(100*df['days_running']/df['days_duration']).hist(bins=4)\n",
    "plt.ylabel('count of projects')\n",
    "plt.xlabel('days running / duration ratio in %')\n",
    "plt.title('Distribution of days running / duration ratio')"
   ]
  },
  {
   "cell_type": "code",
   "execution_count": 15,
   "metadata": {},
   "outputs": [
    {
     "data": {
      "image/png": "[encoded data removed]",
      "text/plain": [
       "<matplotlib.figure.Figure at 0x1fe035f1b00>"
      ]
     },
     "metadata": {},
     "output_type": "display_data"
    }
   ],
   "source": [
    "sns.set(style='whitegrid')\n",
    "fig, ax = plt.subplots(figsize=(6,4))\n",
    "(100*df['days_running']/df['days_duration']).hist(bins=4, ec='black')\n",
    "plt.ylabel('Počet projektov')\n",
    "plt.xlabel('Pomer medzi počtom dní od začiatku kampane a dĺžkou kampane v %')\n",
    "#plt.title('Distribúcia pomeru medzi počtom dní od začiatku kampane a dĺžkou kampane v %')\n",
    "plt.xlim((0,100))\n",
    "plt.xticks([0,25,50,75,100])\n",
    "plt.savefig('histogram_2.png', dpi=400)"
   ]
  },
  {
   "cell_type": "markdown",
   "metadata": {},
   "source": [
    "### Goal distribution"
   ]
  },
  {
   "cell_type": "code",
   "execution_count": 16,
   "metadata": {},
   "outputs": [
    {
     "data": {
      "text/plain": [
       "<matplotlib.text.Text at 0x1fe036e7be0>"
      ]
     },
     "execution_count": 16,
     "metadata": {},
     "output_type": "execute_result"
    },
    {
     "data": {
      "image/png": "[encoded data removed]",
      "text/plain": [
       "<matplotlib.figure.Figure at 0x1fe035bad30>"
      ]
     },
     "metadata": {},
     "output_type": "display_data"
    }
   ],
   "source": [
    "df['usd_goal'].hist(bins=50)\n",
    "plt.yscale('log')\n",
    "plt.ylabel('count of projects')\n",
    "plt.xlabel('duration in days')\n",
    "plt.title('Distribution of campaign duration')"
   ]
  },
  {
   "cell_type": "code",
   "execution_count": 17,
   "metadata": {},
   "outputs": [
    {
     "data": {
      "text/plain": [
       "<matplotlib.text.Text at 0x1fe03c3f978>"
      ]
     },
     "execution_count": 17,
     "metadata": {},
     "output_type": "execute_result"
    },
    {
     "data": {
      "image/png": "[encoded data removed]",
      "text/plain": [
       "<matplotlib.figure.Figure at 0x1fe03808908>"
      ]
     },
     "metadata": {},
     "output_type": "display_data"
    }
   ],
   "source": [
    "sns.boxplot(data=df, x='status', y='usd_goal')\n",
    "#plt.yscale('log')\n",
    "plt.ylim([-10, 50000])\n",
    "plt.title('Distribution of goal with respect to final state')"
   ]
  },
  {
   "cell_type": "markdown",
   "metadata": {},
   "source": [
    "### Money pledged / goal ratio\n",
    "\n",
    "Prediction classes:\n",
    "\n",
    "<0, 0.1)\n",
    "<0.1, 1)\n",
    "<1, 1.75)\n",
    "<1.75, INF)"
   ]
  },
  {
   "cell_type": "code",
   "execution_count": 18,
   "metadata": {
    "collapsed": true
   },
   "outputs": [],
   "source": [
    "df['pledged/goal'] = df['usd_pledged_end']/df['usd_goal']"
   ]
  },
  {
   "cell_type": "code",
   "execution_count": 19,
   "metadata": {},
   "outputs": [
    {
     "data": {
      "text/plain": [
       "30448    379.038066\n",
       "24012    106.675857\n",
       "13403     90.797718\n",
       "13404     90.797718\n",
       "21380     89.759760\n",
       "Name: pledged/goal, dtype: float64"
      ]
     },
     "execution_count": 19,
     "metadata": {},
     "output_type": "execute_result"
    }
   ],
   "source": [
    "df['pledged/goal'].sort_values(ascending=False).head()"
   ]
  },
  {
   "cell_type": "code",
   "execution_count": 20,
   "metadata": {},
   "outputs": [
    {
     "data": {
      "text/plain": [
       "24012    ZeTime: World's first smartwatch with hands ov...\n",
       "30448                                Modern Map Art Prints\n",
       "Name: name_x, dtype: object"
      ]
     },
     "execution_count": 20,
     "metadata": {},
     "output_type": "execute_result"
    }
   ],
   "source": [
    "df[df['pledged/goal'] > 100]['name_x']"
   ]
  },
  {
   "cell_type": "code",
   "execution_count": 21,
   "metadata": {},
   "outputs": [
    {
     "data": {
      "text/plain": [
       "<matplotlib.text.Text at 0x1fe03bea240>"
      ]
     },
     "execution_count": 21,
     "metadata": {},
     "output_type": "execute_result"
    },
    {
     "data": {
      "image/png": "[encoded data removed]",
      "text/plain": [
       "<matplotlib.figure.Figure at 0x1fe038a7b38>"
      ]
     },
     "metadata": {},
     "output_type": "display_data"
    }
   ],
   "source": [
    "bins = np.arange(0,370,10)\n",
    "\n",
    "fig, ax = plt.subplots(figsize=(15,6))\n",
    "_, bins, patches = plt.hist(np.clip(df['pledged/goal']*100, bins[0], bins[-1]), bins=bins)\n",
    "\n",
    "labels = [str(x) for x in np.arange(0,370,10)]\n",
    "labels[-1] = 'more'\n",
    "\n",
    "plt.xticks(np.arange(0,370,10), labels, rotation='horizontal')\n",
    "plt.xlim([0, 360])\n",
    "#plt.yscale('log')\n",
    "plt.ylabel('count of projects')\n",
    "plt.xlabel('pledged / goal ratio in %')\n",
    "plt.title('Distribution of money pledged / goal ratio')"
   ]
  },
  {
   "cell_type": "code",
   "execution_count": 22,
   "metadata": {
    "scrolled": false
   },
   "outputs": [
    {
     "data": {
      "text/plain": [
       "<matplotlib.text.Text at 0x1fe03d709b0>"
      ]
     },
     "execution_count": 22,
     "metadata": {},
     "output_type": "execute_result"
    },
    {
     "data": {
      "image/png": "[encoded data removed]",
      "text/plain": [
       "<matplotlib.figure.Figure at 0x1fe036ee9b0>"
      ]
     },
     "metadata": {},
     "output_type": "display_data"
    }
   ],
   "source": [
    "sns.boxplot(data=df, x='status', y='pledged/goal')\n",
    "#plt.yscale('log')\n",
    "plt.ylim([0, 3])\n",
    "plt.title('Distribution of goal with respect to final state')"
   ]
  },
  {
   "cell_type": "code",
   "execution_count": 23,
   "metadata": {},
   "outputs": [
    {
     "data": {
      "image/png": "[encoded data removed]",
      "text/plain": [
       "<matplotlib.figure.Figure at 0x1fe03bfd7b8>"
      ]
     },
     "metadata": {},
     "output_type": "display_data"
    }
   ],
   "source": [
    "bins = np.arange(0,220,10)\n",
    "sns.set(style='whitegrid')\n",
    "fig, ax = plt.subplots(figsize=(10,6))\n",
    "_, bins, patches = plt.hist(np.clip(df['pledged/goal']*100, bins[0], bins[-1]), bins=bins, ec='black')\n",
    "\n",
    "labels = [str(x) for x in np.arange(0,220,10)]\n",
    "labels[-1] = 'viac'\n",
    "\n",
    "plt.xticks(np.arange(0,220,10), labels, rotation='horizontal')\n",
    "plt.xlim([0, 210])\n",
    "plt.ylabel('Počet projektov')\n",
    "plt.xlabel('Pomer vyzbieraného množstva financií a cieľovej požadovanej čiastky v %')\n",
    "#plt.title('Distribúcia pomeru vyzbieraného množstva financií a cieľovej požadovanej čiastky v %')\n",
    "plt.savefig('histogram_1.png', dpi=400)"
   ]
  },
  {
   "cell_type": "code",
   "execution_count": 24,
   "metadata": {
    "collapsed": true
   },
   "outputs": [],
   "source": [
    "df['100'] = df['pledged/goal'] * 100"
   ]
  },
  {
   "cell_type": "code",
   "execution_count": 25,
   "metadata": {
    "scrolled": false
   },
   "outputs": [
    {
     "data": {
      "image/png": "[encoded data removed]",
      "text/plain": [
       "<matplotlib.figure.Figure at 0x1fe03afe390>"
      ]
     },
     "metadata": {},
     "output_type": "display_data"
    }
   ],
   "source": [
    "fig, ax = plt.subplots(figsize=(8,6))\n",
    "sns.set(style='whitegrid')\n",
    "sns.boxplot(data=df, x='status', y='100')\n",
    "plt.xlabel('Úspešnosť projektov')\n",
    "plt.ylabel('Pomer vyzbieraného množstva financií a cieľovej požadovanej čiastky')\n",
    "plt.xticks([0,1],['úspešné projekty','neúspešné projekty'])\n",
    "plt.ylim([0, 300])\n",
    "#plt.title('Distribúcia pomeru vyzbieraného množstva financií a cieľovej požadovanej čiastky v % vzhľadom na úspešnosť projektov')\n",
    "plt.savefig('boxplot_1.png', dpi=400)"
   ]
  },
  {
   "cell_type": "code",
   "execution_count": 26,
   "metadata": {},
   "outputs": [
    {
     "data": {
      "text/plain": [
       "count    16847.000000\n",
       "mean         0.079184\n",
       "std          0.145851\n",
       "min          0.000000\n",
       "25%          0.000200\n",
       "50%          0.010005\n",
       "75%          0.087262\n",
       "max          0.999974\n",
       "Name: pledged/goal, dtype: float64"
      ]
     },
     "execution_count": 26,
     "metadata": {},
     "output_type": "execute_result"
    }
   ],
   "source": [
    "df[df['state_end'] == 'failed']['pledged/goal'].describe()"
   ]
  },
  {
   "cell_type": "code",
   "execution_count": 27,
   "metadata": {},
   "outputs": [
    {
     "data": {
      "text/plain": [
       "count    13855.000000\n",
       "mean         2.298871\n",
       "std          5.480538\n",
       "min          1.000000\n",
       "25%          1.052600\n",
       "50%          1.194630\n",
       "75%          1.783333\n",
       "max        379.038066\n",
       "Name: pledged/goal, dtype: float64"
      ]
     },
     "execution_count": 27,
     "metadata": {},
     "output_type": "execute_result"
    }
   ],
   "source": [
    "df[df['state_end'] == 'successful']['pledged/goal'].describe()"
   ]
  },
  {
   "cell_type": "code",
   "execution_count": 28,
   "metadata": {},
   "outputs": [
    {
     "data": {
      "text/plain": [
       "12894"
      ]
     },
     "execution_count": 28,
     "metadata": {},
     "output_type": "execute_result"
    }
   ],
   "source": [
    "len(df[df['pledged/goal'] < 0.1])"
   ]
  },
  {
   "cell_type": "code",
   "execution_count": 29,
   "metadata": {},
   "outputs": [
    {
     "data": {
      "text/plain": [
       "3953"
      ]
     },
     "execution_count": 29,
     "metadata": {},
     "output_type": "execute_result"
    }
   ],
   "source": [
    "len(df[(df['pledged/goal'] >= 0.1) & (df['pledged/goal'] < 1)])"
   ]
  },
  {
   "cell_type": "code",
   "execution_count": 30,
   "metadata": {},
   "outputs": [
    {
     "data": {
      "text/plain": [
       "10304"
      ]
     },
     "execution_count": 30,
     "metadata": {},
     "output_type": "execute_result"
    }
   ],
   "source": [
    "len(df[(df['pledged/goal'] >= 1) & (df['pledged/goal'] < 1.75)])"
   ]
  },
  {
   "cell_type": "code",
   "execution_count": 31,
   "metadata": {},
   "outputs": [
    {
     "data": {
      "text/plain": [
       "3551"
      ]
     },
     "execution_count": 31,
     "metadata": {},
     "output_type": "execute_result"
    }
   ],
   "source": [
    "len(df[df['pledged/goal'] >= 1.75])"
   ]
  },
  {
   "cell_type": "code",
   "execution_count": null,
   "metadata": {
    "collapsed": true
   },
   "outputs": [],
   "source": []
  },
  {
   "cell_type": "code",
   "execution_count": 32,
   "metadata": {
    "collapsed": true
   },
   "outputs": [],
   "source": [
    "df['pledged/goal_live'] = df['usd_pledged']/df['usd_goal'] * 100\n",
    "df['pledged/goal'] = df['pledged/goal'] * 100"
   ]
  },
  {
   "cell_type": "markdown",
   "metadata": {},
   "source": [
    "## 0-25"
   ]
  },
  {
   "cell_type": "code",
   "execution_count": 34,
   "metadata": {
    "collapsed": true
   },
   "outputs": [],
   "source": [
    "df['time'] = (100*df['days_running']/df['days_duration'])"
   ]
  },
  {
   "cell_type": "code",
   "execution_count": 35,
   "metadata": {},
   "outputs": [
    {
     "data": {
      "text/plain": [
       "7778"
      ]
     },
     "execution_count": 35,
     "metadata": {},
     "output_type": "execute_result"
    }
   ],
   "source": [
    "len(df[df['time'] < 25])"
   ]
  },
  {
   "cell_type": "code",
   "execution_count": 36,
   "metadata": {},
   "outputs": [
    {
     "name": "stdout",
     "output_type": "stream",
     "text": [
      "Pearson correlation: 0.825\n"
     ]
    },
    {
     "data": {
      "image/png": "[encoded data removed]",
      "text/plain": [
       "<matplotlib.figure.Figure at 0x1fe03f224e0>"
      ]
     },
     "metadata": {},
     "output_type": "display_data"
    }
   ],
   "source": [
    "sns.set(style='whitegrid')\n",
    "plt.subplots(figsize=(8,8))\n",
    "sns.regplot(x=\"pledged/goal_live\", y=\"pledged/goal\", data=df[df['time'] < 25])\n",
    "print(\"Pearson correlation: %.3f\" % df[df['time'] < 25]['pledged/goal_live'].corr(df[df['time'] < 25]['pledged/goal']))\n",
    "#plt.xlim([0,9000])\n",
    "#plt.ylim([0,11000])\n",
    "plt.xlabel('Pomer vyzbieraného množstva financií a cieľovej požadovanej čiastky v prvej snímke v %')\n",
    "plt.ylabel('Pomer vyzbieraného množstva financií a cieľovej požadovanej čiastky v druhej snímke v %')\n",
    "#plt.title('Korelácia medzi pomermi vyzbieraného množstva financií a cieľovej požadovanej sumy jednotlivých snímok')\n",
    "plt.savefig('corr_1.png', dpi=400)"
   ]
  },
  {
   "cell_type": "markdown",
   "metadata": {
    "collapsed": true
   },
   "source": [
    "## 25-50"
   ]
  },
  {
   "cell_type": "code",
   "execution_count": 56,
   "metadata": {},
   "outputs": [
    {
     "data": {
      "text/plain": [
       "7782"
      ]
     },
     "execution_count": 56,
     "metadata": {},
     "output_type": "execute_result"
    }
   ],
   "source": [
    "len(df[(df['time'] >= 25) & (df['time'] < 50)])"
   ]
  },
  {
   "cell_type": "code",
   "execution_count": 59,
   "metadata": {},
   "outputs": [
    {
     "name": "stdout",
     "output_type": "stream",
     "text": [
      "Pearson correlation: 0.933\n"
     ]
    },
    {
     "data": {
      "image/png": "[encoded data removed]",
      "text/plain": [
       "<matplotlib.figure.Figure at 0x1260338ad68>"
      ]
     },
     "metadata": {},
     "output_type": "display_data"
    }
   ],
   "source": [
    "plt.subplots(figsize=(8,8))\n",
    "sns.regplot(x=\"pledged/goal_live\", y=\"pledged/goal\", data=df[(df['time'] >= 25) & (df['time'] < 50)])\n",
    "print(\"Pearson correlation: %.3f\" % df[(df['time'] >= 25) & (df['time'] < 50)]['pledged/goal_live'].corr(df[(df['time'] >= 25) & (df['time'] < 50)]['pledged/goal']))\n",
    "#plt.xlim([0,9000])\n",
    "#plt.ylim([0,11000])\n",
    "plt.xlabel('Pomer vyzbieraného množstva financií a cieľovej požadovanej čiastky v prvej snímke v %')\n",
    "plt.ylabel('Pomer vyzbieraného množstva financií a cieľovej požadovanej čiastky v druhej snímke v %')\n",
    "#plt.title('Korelácia medzi pomermi vyzbieraného množstva financií a cieľovej požadovanej sumy jednotlivých snímok')\n",
    "plt.savefig('corr_1.png', dpi=400)"
   ]
  },
  {
   "cell_type": "markdown",
   "metadata": {
    "collapsed": true
   },
   "source": [
    "## 50-75"
   ]
  },
  {
   "cell_type": "code",
   "execution_count": 57,
   "metadata": {},
   "outputs": [
    {
     "data": {
      "text/plain": [
       "7746"
      ]
     },
     "execution_count": 57,
     "metadata": {},
     "output_type": "execute_result"
    }
   ],
   "source": [
    "len(df[(df['time'] >= 50) & (df['time'] < 75)])"
   ]
  },
  {
   "cell_type": "code",
   "execution_count": 58,
   "metadata": {},
   "outputs": [
    {
     "name": "stdout",
     "output_type": "stream",
     "text": [
      "Pearson correlation: 0.983\n"
     ]
    },
    {
     "data": {
      "image/png": "[encoded data removed]",
      "text/plain": [
       "<matplotlib.figure.Figure at 0x12603285e48>"
      ]
     },
     "metadata": {},
     "output_type": "display_data"
    }
   ],
   "source": [
    "plt.subplots(figsize=(8,8))\n",
    "sns.regplot(x=\"pledged/goal_live\", y=\"pledged/goal\", data=df[(df['time'] >= 50) & (df['time'] < 75)])\n",
    "print(\"Pearson correlation: %.3f\" % df[(df['time'] >= 50) & (df['time'] < 75)]['pledged/goal_live'].corr(df[(df['time'] >= 50) & (df['time'] < 75)]['pledged/goal']))\n",
    "#plt.xlim([0,9000])\n",
    "#plt.ylim([0,11000])\n",
    "plt.xlabel('Pomer vyzbieraného množstva financií a cieľovej požadovanej čiastky v prvej snímke v %')\n",
    "plt.ylabel('Pomer vyzbieraného množstva financií a cieľovej požadovanej čiastky v druhej snímke v %')\n",
    "#plt.title('Korelácia medzi pomermi vyzbieraného množstva financií a cieľovej požadovanej sumy jednotlivých snímok')\n",
    "plt.savefig('corr_1.png', dpi=400)"
   ]
  },
  {
   "cell_type": "markdown",
   "metadata": {
    "collapsed": true
   },
   "source": [
    "# TODO \n",
    "# table - stage (0, 25, 50, 75) x class = 16 values\n",
    "# other intervals? 0 5 10 15 ?"
   ]
  }
 ],
 "metadata": {
  "kernelspec": {
   "display_name": "Python 3",
   "language": "python",
   "name": "python3"
  },
  "language_info": {
   "codemirror_mode": {
    "name": "ipython",
    "version": 3
   },
   "file_extension": ".py",
   "mimetype": "text/x-python",
   "name": "python",
   "nbconvert_exporter": "python",
   "pygments_lexer": "ipython3",
   "version": "3.6.1"
  }
 },
 "nbformat": 4,
 "nbformat_minor": 2
}
