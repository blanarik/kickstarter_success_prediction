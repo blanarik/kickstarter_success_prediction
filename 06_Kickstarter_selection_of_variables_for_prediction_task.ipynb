{
 "cells": [
  {
   "cell_type": "code",
   "execution_count": 1,
   "metadata": {
    "collapsed": true
   },
   "outputs": [],
   "source": [
    "%matplotlib inline\n",
    "import pandas as pd\n",
    "import matplotlib.pyplot as plt\n",
    "import seaborn as sns\n",
    "from sklearn import preprocessing\n",
    "import category_encoders as ce\n",
    "import json\n",
    "from pprint import pprint"
   ]
  },
  {
   "cell_type": "code",
   "execution_count": 2,
   "metadata": {},
   "outputs": [
    {
     "name": "stderr",
     "output_type": "stream",
     "text": [
      "C:\\Users\\Patrik\\Anaconda3\\lib\\site-packages\\IPython\\core\\interactiveshell.py:2717: DtypeWarning: Columns (87,88) have mixed types. Specify dtype option on import or set low_memory=False.\n",
      "  interactivity=interactivity, compiler=compiler, result=result)\n"
     ]
    }
   ],
   "source": [
    "df = pd.read_csv('data/merged4.csv', encoding='latin1', index_col=0)"
   ]
  },
  {
   "cell_type": "markdown",
   "metadata": {},
   "source": [
    "## Manually separating static and dynamic attributes\n",
    "Also remove:\n",
    "* **future data** = data that might be changed after end of a project's campaign or were not available at the time of the first scraping\n",
    "* **redundant/duplicate data** = data contained in both datasets\n",
    "* **useless data** = variables with single value (e.g. for all observations 'spotlight' is False), ids, names, json data, etc"
   ]
  },
  {
   "cell_type": "code",
   "execution_count": 3,
   "metadata": {
    "scrolled": false
   },
   "outputs": [
    {
     "name": "stdout",
     "output_type": "stream",
     "text": [
      "<class 'pandas.core.frame.DataFrame'>\n",
      "Int64Index: 30702 entries, 0 to 30701\n",
      "Data columns (total 113 columns):\n",
      "average_pledge                           30702 non-null float64\n",
      "average_pledge_end                       30702 non-null float64\n",
      "backers_count                            30702 non-null int64\n",
      "backers_count_end                        30702 non-null int64\n",
      "blurb                                    30702 non-null object\n",
      "blurb_end                                30702 non-null object\n",
      "category                                 30702 non-null object\n",
      "category_end                             30702 non-null object\n",
      "category_name                            30702 non-null object\n",
      "category_name_end                        30702 non-null object\n",
      "category_parent                          30702 non-null object\n",
      "category_parent_end                      30702 non-null object\n",
      "category_position                        30702 non-null int64\n",
      "category_position_end                    30702 non-null int64\n",
      "country                                  30702 non-null object\n",
      "created_at                               30702 non-null int64\n",
      "creator                                  30702 non-null object\n",
      "creator_end                              30702 non-null object\n",
      "creator_name                             30701 non-null object\n",
      "creator_name_end                         30701 non-null object\n",
      "currency                                 30702 non-null object\n",
      "currency_symbol                          30702 non-null object\n",
      "currency_trailing_code                   30702 non-null bool\n",
      "days_duration                            30702 non-null int64\n",
      "days_preparation                         30702 non-null int64\n",
      "days_remaining                           30702 non-null int64\n",
      "days_running                             30702 non-null int64\n",
      "db_backers_count                         30702 non-null int64\n",
      "db_category_id                           30702 non-null int64\n",
      "db_comments_count                        30702 non-null int64\n",
      "db_creators_url                          30702 non-null object\n",
      "db_currency                              30702 non-null object\n",
      "db_description_full                      30691 non-null object\n",
      "db_description_short                     30702 non-null object\n",
      "db_duration                              30702 non-null int64\n",
      "db_end_time                              30702 non-null object\n",
      "db_faq_count                             30702 non-null int64\n",
      "db_fb_comments_count                     30702 non-null int64\n",
      "db_fb_shares_count                       30702 non-null int64\n",
      "db_goal                                  30702 non-null float64\n",
      "db_hours_remaining                       30702 non-null float64\n",
      "db_image_url                             21414 non-null object\n",
      "db_location_id                           30702 non-null int64\n",
      "db_name                                  30702 non-null object\n",
      "db_pledged                               30702 non-null float64\n",
      "db_project_data                          30600 non-null object\n",
      "db_project_id                            30702 non-null int64\n",
      "db_project_we_love                       30702 non-null int64\n",
      "db_start_time                            13855 non-null object\n",
      "db_status                                30702 non-null object\n",
      "db_subcategory_id                        30702 non-null int64\n",
      "db_updates_count                         30702 non-null int64\n",
      "db_url                                   30702 non-null object\n",
      "db_video_url                             20443 non-null object\n",
      "deadline_end                             30702 non-null int64\n",
      "disable_communication                    30702 non-null bool\n",
      "disable_communication_end                30702 non-null bool\n",
      "goal                                     30702 non-null float64\n",
      "id                                       30702 non-null int64\n",
      "launched_at                              30702 non-null int64\n",
      "location                                 30702 non-null object\n",
      "location_end                             30702 non-null object\n",
      "location_is_root                         30702 non-null bool\n",
      "location_name                            30702 non-null object\n",
      "location_name_end                        30702 non-null object\n",
      "location_state                           30695 non-null object\n",
      "location_state_end                       30696 non-null object\n",
      "location_type                            30702 non-null object\n",
      "location_type_end                        30702 non-null object\n",
      "name                                     30702 non-null object\n",
      "name_end                                 30702 non-null object\n",
      "photo                                    30702 non-null object\n",
      "photo_end                                30702 non-null object\n",
      "pledged                                  30702 non-null float64\n",
      "pledged_end                              30702 non-null float64\n",
      "profile                                  30702 non-null object\n",
      "profile_end                              30702 non-null object\n",
      "ratio_pledged_end_goal                   30702 non-null float64\n",
      "ratio_pledged_goal                       30702 non-null float64\n",
      "ratio_running_duration                   30702 non-null float64\n",
      "scraped_at                               30702 non-null int64\n",
      "slug                                     30702 non-null object\n",
      "source_url                               30702 non-null object\n",
      "source_url_end                           30702 non-null object\n",
      "spotlight                                30702 non-null bool\n",
      "spotlight_end                            30702 non-null bool\n",
      "staff_pick                               30702 non-null object\n",
      "staff_pick_end                           28926 non-null object\n",
      "state                                    30702 non-null object\n",
      "state_changed_at                         30702 non-null int64\n",
      "state_changed_at_end                     30702 non-null int64\n",
      "state_end                                30702 non-null object\n",
      "static_usd_rate                          30702 non-null float64\n",
      "static_usd_rate_end                      30702 non-null float64\n",
      "url_name                                 30702 non-null object\n",
      "urls                                     30702 non-null object\n",
      "urls_end                                 30702 non-null object\n",
      "urls_url                                 30702 non-null object\n",
      "urls_url_end                             30702 non-null object\n",
      "usd_goal                                 30702 non-null int64\n",
      "usd_pledged                              30702 non-null float64\n",
      "usd_pledged_end                          30702 non-null float64\n",
      "class                                    30702 non-null int64\n",
      "ID                                       30702 non-null int64\n",
      "faq_count_while_scraping                 30702 non-null float64\n",
      "comments_count_creator_while_scraping    30702 non-null float64\n",
      "comments_count_public_while_scraping     30702 non-null float64\n",
      "updates_count_while_scraping             30702 non-null float64\n",
      "updates_likes_sum_while_scraping         30702 non-null float64\n",
      "updates_likes_mean_while_scraping        30702 non-null float64\n",
      "updates_likes_min_while_scraping         30702 non-null float64\n",
      "updates_likes_max_while_scraping         30702 non-null float64\n",
      "updates_likes_median_while_scraping      30702 non-null float64\n",
      "dtypes: bool(6), float64(24), int64(30), object(53)\n",
      "memory usage: 25.5+ MB\n"
     ]
    }
   ],
   "source": [
    "df.info(max_cols=120)"
   ]
  },
  {
   "cell_type": "code",
   "execution_count": 4,
   "metadata": {
    "collapsed": true
   },
   "outputs": [],
   "source": [
    "static_data = []\n",
    "dynamic_data = []\n",
    "useless_data = []"
   ]
  },
  {
   "cell_type": "markdown",
   "metadata": {},
   "source": [
    "### 1. average_pledge"
   ]
  },
  {
   "cell_type": "code",
   "execution_count": 5,
   "metadata": {
    "collapsed": true
   },
   "outputs": [],
   "source": [
    "dynamic_data.append('average_pledge')"
   ]
  },
  {
   "cell_type": "markdown",
   "metadata": {},
   "source": [
    "### 2. average_pledge_end"
   ]
  },
  {
   "cell_type": "code",
   "execution_count": 6,
   "metadata": {
    "collapsed": true
   },
   "outputs": [],
   "source": [
    "# future data\n",
    "useless_data.append('average_pledge_end')"
   ]
  },
  {
   "cell_type": "markdown",
   "metadata": {},
   "source": [
    "### 3. backers_count"
   ]
  },
  {
   "cell_type": "code",
   "execution_count": 7,
   "metadata": {
    "collapsed": true
   },
   "outputs": [],
   "source": [
    "dynamic_data.append('backers_count')"
   ]
  },
  {
   "cell_type": "markdown",
   "metadata": {},
   "source": [
    "### 4. backers_count_end"
   ]
  },
  {
   "cell_type": "code",
   "execution_count": 8,
   "metadata": {
    "collapsed": true
   },
   "outputs": [],
   "source": [
    "# future data\n",
    "useless_data.append('backers_count_end')"
   ]
  },
  {
   "cell_type": "markdown",
   "metadata": {},
   "source": [
    "### 5. blurb TODO NLP"
   ]
  },
  {
   "cell_type": "code",
   "execution_count": 9,
   "metadata": {
    "collapsed": true
   },
   "outputs": [],
   "source": [
    "static_data.append('blurb')"
   ]
  },
  {
   "cell_type": "markdown",
   "metadata": {},
   "source": [
    "### 6. blurb_end"
   ]
  },
  {
   "cell_type": "code",
   "execution_count": 10,
   "metadata": {
    "collapsed": true
   },
   "outputs": [],
   "source": [
    "# future data\n",
    "useless_data.append('blurb_end')"
   ]
  },
  {
   "cell_type": "markdown",
   "metadata": {},
   "source": [
    "### 7. category"
   ]
  },
  {
   "cell_type": "code",
   "execution_count": 11,
   "metadata": {},
   "outputs": [
    {
     "data": {
      "text/plain": [
       "'{\"urls\":{\"web\":{\"discover\":\"http://www.kickstarter.com/discover/categories/dance/performances\"}},\"color\":10917369,\"parent_id\":6,\"name\":\"Performances\",\"id\":254,\"position\":1,\"slug\":\"dance/performances\"}'"
      ]
     },
     "execution_count": 11,
     "metadata": {},
     "output_type": "execute_result"
    }
   ],
   "source": [
    "df.loc[1,'category']"
   ]
  },
  {
   "cell_type": "code",
   "execution_count": 12,
   "metadata": {
    "collapsed": true
   },
   "outputs": [],
   "source": [
    "# wrong format, useful data already extracted\n",
    "useless_data.append('category')"
   ]
  },
  {
   "cell_type": "markdown",
   "metadata": {},
   "source": [
    "### 8. category_end"
   ]
  },
  {
   "cell_type": "code",
   "execution_count": 13,
   "metadata": {
    "collapsed": true
   },
   "outputs": [],
   "source": [
    "# future data\n",
    "useless_data.append('category_end')"
   ]
  },
  {
   "cell_type": "markdown",
   "metadata": {},
   "source": [
    "### 9. category_name"
   ]
  },
  {
   "cell_type": "code",
   "execution_count": 14,
   "metadata": {
    "collapsed": true
   },
   "outputs": [],
   "source": [
    "static_data.append('category_name')"
   ]
  },
  {
   "cell_type": "markdown",
   "metadata": {},
   "source": [
    "### 10. category_name_end"
   ]
  },
  {
   "cell_type": "code",
   "execution_count": 15,
   "metadata": {
    "collapsed": true
   },
   "outputs": [],
   "source": [
    "# future data\n",
    "useless_data.append('category_name_end')"
   ]
  },
  {
   "cell_type": "markdown",
   "metadata": {},
   "source": [
    "### 11. category_parent"
   ]
  },
  {
   "cell_type": "code",
   "execution_count": 16,
   "metadata": {
    "collapsed": true
   },
   "outputs": [],
   "source": [
    "static_data.append('category_parent')"
   ]
  },
  {
   "cell_type": "markdown",
   "metadata": {},
   "source": [
    "### 12. category_parent_end"
   ]
  },
  {
   "cell_type": "code",
   "execution_count": 17,
   "metadata": {
    "collapsed": true
   },
   "outputs": [],
   "source": [
    "# future data\n",
    "useless_data.append('category_parent_end')"
   ]
  },
  {
   "cell_type": "markdown",
   "metadata": {},
   "source": [
    "### 13. category_position (= position of category in parent category)"
   ]
  },
  {
   "cell_type": "code",
   "execution_count": 18,
   "metadata": {},
   "outputs": [
    {
     "data": {
      "text/plain": [
       "4     4103\n",
       "3     3113\n",
       "1     2833\n",
       "2     2588\n",
       "5     2559\n",
       "7     2433\n",
       "10    2024\n",
       "6     1822\n",
       "9     1693\n",
       "14    1381\n",
       "8     1360\n",
       "11    1311\n",
       "12     938\n",
       "13     751\n",
       "15     698\n",
       "18     514\n",
       "17     260\n",
       "19     224\n",
       "16      97\n",
       "Name: category_position, dtype: int64"
      ]
     },
     "execution_count": 18,
     "metadata": {},
     "output_type": "execute_result"
    }
   ],
   "source": [
    "df.category_position.value_counts()"
   ]
  },
  {
   "cell_type": "code",
   "execution_count": 19,
   "metadata": {},
   "outputs": [
    {
     "data": {
      "text/plain": [
       "3    184\n",
       "Name: category_position, dtype: int64"
      ]
     },
     "execution_count": 19,
     "metadata": {},
     "output_type": "execute_result"
    }
   ],
   "source": [
    "# cookbooks are 3rd in category Food (see kickstarter)\n",
    "df[df.category_name == 'Cookbooks']['category_position'].value_counts()"
   ]
  },
  {
   "cell_type": "code",
   "execution_count": 20,
   "metadata": {},
   "outputs": [
    {
     "data": {
      "text/plain": [
       "Webseries    224\n",
       "Name: category_name, dtype: int64"
      ]
     },
     "execution_count": 20,
     "metadata": {},
     "output_type": "execute_result"
    }
   ],
   "source": [
    "# only Film & Video parent category contains 19 categories (19th is Webseries)\n",
    "df[df.category_position == 19]['category_name'].value_counts()"
   ]
  },
  {
   "cell_type": "code",
   "execution_count": 21,
   "metadata": {
    "collapsed": true
   },
   "outputs": [],
   "source": [
    "static_data.append('category_position')"
   ]
  },
  {
   "cell_type": "markdown",
   "metadata": {},
   "source": [
    "### 14. category_position_end"
   ]
  },
  {
   "cell_type": "code",
   "execution_count": 22,
   "metadata": {
    "collapsed": true
   },
   "outputs": [],
   "source": [
    "# future data\n",
    "useless_data.append('category_position_end')"
   ]
  },
  {
   "cell_type": "markdown",
   "metadata": {},
   "source": [
    "### 15. country"
   ]
  },
  {
   "cell_type": "code",
   "execution_count": 23,
   "metadata": {
    "collapsed": true
   },
   "outputs": [],
   "source": [
    "static_data.append('country')"
   ]
  },
  {
   "cell_type": "markdown",
   "metadata": {},
   "source": [
    "### 16. created_at"
   ]
  },
  {
   "cell_type": "code",
   "execution_count": 24,
   "metadata": {
    "collapsed": true
   },
   "outputs": [],
   "source": [
    "# timestamp, already used to extract days_preparation\n",
    "# not commonly accesible to public on website, therefore should not affect behavior\n",
    "useless_data.append('created_at')"
   ]
  },
  {
   "cell_type": "markdown",
   "metadata": {},
   "source": [
    "### 17. creator"
   ]
  },
  {
   "cell_type": "code",
   "execution_count": 25,
   "metadata": {},
   "outputs": [
    {
     "data": {
      "text/plain": [
       "'{\"urls\":{\"web\":{\"user\":\"https://www.kickstarter.com/profile/1221271849\"},\"api\":{\"user\":\"https://api.kickstarter.com/v1/users/1221271849?signature=1446480213.130b2f9d9454277a259bf219e9b6dea39bf2ac2f\"}},\"name\":\"Cassandra Kemper\",\"id\":1221271849,\"avatar\":{\"small\":\"https://ksr-ugc.imgix.net/avatars/18458965/10513971_562158447259130_1760610303_n.original.jpg?v=1445003326&w=80&h=80&fit=crop&auto=format&q=92&s=2ed4c6c88ff74c2750dbdeae1d34b953\",\"thumb\":\"https://ksr-ugc.imgix.net/avatars/18458965/10513971_562158447259130_1760610303_n.original.jpg?v=1445003326&w=40&h=40&fit=crop&auto=format&q=92&s=fb2f0e15152b11832b8e80706ce01890\",\"medium\":\"https://ksr-ugc.imgix.net/avatars/18458965/10513971_562158447259130_1760610303_n.original.jpg?v=1445003326&w=160&h=160&fit=crop&auto=format&q=92&s=043c24006839e18fadfbe74e7a5769a4\"}}'"
      ]
     },
     "execution_count": 25,
     "metadata": {},
     "output_type": "execute_result"
    }
   ],
   "source": [
    "df.loc[1, 'creator']"
   ]
  },
  {
   "cell_type": "code",
   "execution_count": 26,
   "metadata": {
    "collapsed": true
   },
   "outputs": [],
   "source": [
    "# nothing usefull here, wrong format\n",
    "useless_data.append('creator')"
   ]
  },
  {
   "cell_type": "markdown",
   "metadata": {},
   "source": [
    "### 18. creator_end"
   ]
  },
  {
   "cell_type": "code",
   "execution_count": 27,
   "metadata": {
    "collapsed": true
   },
   "outputs": [],
   "source": [
    "# nothing usefull here, wrong format\n",
    "useless_data.append('creator_end')"
   ]
  },
  {
   "cell_type": "markdown",
   "metadata": {},
   "source": [
    "### 19. creator_name"
   ]
  },
  {
   "cell_type": "code",
   "execution_count": 28,
   "metadata": {
    "collapsed": true
   },
   "outputs": [],
   "source": [
    "# useless\n",
    "useless_data.append('creator_name')"
   ]
  },
  {
   "cell_type": "markdown",
   "metadata": {},
   "source": [
    "### 20. creator_name_end"
   ]
  },
  {
   "cell_type": "code",
   "execution_count": 29,
   "metadata": {
    "collapsed": true
   },
   "outputs": [],
   "source": [
    "# useless\n",
    "useless_data.append('creator_name_end')"
   ]
  },
  {
   "cell_type": "markdown",
   "metadata": {},
   "source": [
    "### 21. currency"
   ]
  },
  {
   "cell_type": "code",
   "execution_count": 30,
   "metadata": {
    "collapsed": true
   },
   "outputs": [],
   "source": [
    "static_data.append('currency')"
   ]
  },
  {
   "cell_type": "markdown",
   "metadata": {},
   "source": [
    "### 22. currency_symbol"
   ]
  },
  {
   "cell_type": "code",
   "execution_count": 31,
   "metadata": {},
   "outputs": [
    {
     "data": {
      "text/plain": [
       "$      23695\n",
       "?       6308\n",
       "kr       544\n",
       "Fr       155\n",
       "Name: currency_symbol, dtype: int64"
      ]
     },
     "execution_count": 31,
     "metadata": {},
     "output_type": "execute_result"
    }
   ],
   "source": [
    "df.currency_symbol.value_counts()"
   ]
  },
  {
   "cell_type": "code",
   "execution_count": 32,
   "metadata": {
    "collapsed": true
   },
   "outputs": [],
   "source": [
    "# damaged and redundant data\n",
    "useless_data.append('currency_symbol')"
   ]
  },
  {
   "cell_type": "markdown",
   "metadata": {},
   "source": [
    "### 23. currency_trailing_code"
   ]
  },
  {
   "cell_type": "code",
   "execution_count": 33,
   "metadata": {
    "collapsed": true
   },
   "outputs": [],
   "source": [
    "# useless\n",
    "useless_data.append('currency_trailing_code')"
   ]
  },
  {
   "cell_type": "markdown",
   "metadata": {},
   "source": [
    "### 24. days_duration"
   ]
  },
  {
   "cell_type": "code",
   "execution_count": 34,
   "metadata": {
    "collapsed": true
   },
   "outputs": [],
   "source": [
    "static_data.append('days_duration')"
   ]
  },
  {
   "cell_type": "markdown",
   "metadata": {},
   "source": [
    "### 25. days_preparation"
   ]
  },
  {
   "cell_type": "code",
   "execution_count": 35,
   "metadata": {
    "collapsed": true
   },
   "outputs": [],
   "source": [
    "static_data.append('days_preparation')"
   ]
  },
  {
   "cell_type": "markdown",
   "metadata": {},
   "source": [
    "### 26. days_remaining"
   ]
  },
  {
   "cell_type": "code",
   "execution_count": 36,
   "metadata": {
    "collapsed": true
   },
   "outputs": [],
   "source": [
    "dynamic_data.append('days_remaining')"
   ]
  },
  {
   "cell_type": "markdown",
   "metadata": {},
   "source": [
    "### 27. days_running"
   ]
  },
  {
   "cell_type": "code",
   "execution_count": 37,
   "metadata": {
    "collapsed": true
   },
   "outputs": [],
   "source": [
    "dynamic_data.append('days_running')"
   ]
  },
  {
   "cell_type": "markdown",
   "metadata": {},
   "source": [
    "### 28. db_backers_count"
   ]
  },
  {
   "cell_type": "code",
   "execution_count": 38,
   "metadata": {
    "collapsed": true
   },
   "outputs": [],
   "source": [
    "# future data\n",
    "useless_data.append('db_backers_count')"
   ]
  },
  {
   "cell_type": "markdown",
   "metadata": {},
   "source": [
    "### 29. db_category_id"
   ]
  },
  {
   "cell_type": "code",
   "execution_count": 39,
   "metadata": {
    "collapsed": true
   },
   "outputs": [],
   "source": [
    "# useless (ordinal representation of parent category)\n",
    "useless_data.append('db_category_id')"
   ]
  },
  {
   "cell_type": "markdown",
   "metadata": {},
   "source": [
    "### 30. db_comments_count"
   ]
  },
  {
   "cell_type": "code",
   "execution_count": 40,
   "metadata": {
    "collapsed": true
   },
   "outputs": [],
   "source": [
    "# future data\n",
    "useless_data.append('db_comments_count')"
   ]
  },
  {
   "cell_type": "markdown",
   "metadata": {},
   "source": [
    "### 31. db_creators_url"
   ]
  },
  {
   "cell_type": "code",
   "execution_count": 41,
   "metadata": {
    "collapsed": true
   },
   "outputs": [],
   "source": [
    "useless_data.append('db_creators_url')"
   ]
  },
  {
   "cell_type": "markdown",
   "metadata": {},
   "source": [
    "### 32. db_currency"
   ]
  },
  {
   "cell_type": "code",
   "execution_count": 42,
   "metadata": {
    "collapsed": true
   },
   "outputs": [],
   "source": [
    "# damaged redundant data\n",
    "useless_data.append('db_currency')"
   ]
  },
  {
   "cell_type": "markdown",
   "metadata": {},
   "source": [
    "### 33. db_description_full TODO NLP + img,video count?"
   ]
  },
  {
   "cell_type": "code",
   "execution_count": 43,
   "metadata": {
    "collapsed": true
   },
   "outputs": [],
   "source": [
    "static_data.append('db_description_full')"
   ]
  },
  {
   "cell_type": "markdown",
   "metadata": {},
   "source": [
    "### 34. db_description_short"
   ]
  },
  {
   "cell_type": "code",
   "execution_count": 44,
   "metadata": {},
   "outputs": [
    {
     "data": {
      "text/html": [
       "<div>\n",
       "<style>\n",
       "    .dataframe thead tr:only-child th {\n",
       "        text-align: right;\n",
       "    }\n",
       "\n",
       "    .dataframe thead th {\n",
       "        text-align: left;\n",
       "    }\n",
       "\n",
       "    .dataframe tbody tr th {\n",
       "        vertical-align: top;\n",
       "    }\n",
       "</style>\n",
       "<table border=\"1\" class=\"dataframe\">\n",
       "  <thead>\n",
       "    <tr style=\"text-align: right;\">\n",
       "      <th></th>\n",
       "      <th>blurb</th>\n",
       "      <th>db_description_short</th>\n",
       "    </tr>\n",
       "  </thead>\n",
       "  <tbody>\n",
       "    <tr>\n",
       "      <th>13095</th>\n",
       "      <td>Everything you wished Outlook would do:  Docum...</td>\n",
       "      <td>Everything you wished Outlook would do: Docume...</td>\n",
       "    </tr>\n",
       "    <tr>\n",
       "      <th>30638</th>\n",
       "      <td>The Makers at LeapSpecies.Space will build off...</td>\n",
       "      <td>The Makers at LeapSpecies.Space will build off...</td>\n",
       "    </tr>\n",
       "    <tr>\n",
       "      <th>22005</th>\n",
       "      <td>We must forget everything.\\nWe must pretend al...</td>\n",
       "      <td>We must forget everything.We must pretend all ...</td>\n",
       "    </tr>\n",
       "    <tr>\n",
       "      <th>3995</th>\n",
       "      <td>L.A.'s best kept secret, Ate9 brings the bold ...</td>\n",
       "      <td>Now in it&amp;#39;s 4th season, Ate9 continues to ...</td>\n",
       "    </tr>\n",
       "    <tr>\n",
       "      <th>9131</th>\n",
       "      <td>Take Only Photographs, Leave Only Footprints. ...</td>\n",
       "      <td>Take Only Photographs, Leave Only Footprints. ...</td>\n",
       "    </tr>\n",
       "  </tbody>\n",
       "</table>\n",
       "</div>"
      ],
      "text/plain": [
       "                                                   blurb  \\\n",
       "13095  Everything you wished Outlook would do:  Docum...   \n",
       "30638  The Makers at LeapSpecies.Space will build off...   \n",
       "22005  We must forget everything.\\nWe must pretend al...   \n",
       "3995   L.A.'s best kept secret, Ate9 brings the bold ...   \n",
       "9131   Take Only Photographs, Leave Only Footprints. ...   \n",
       "\n",
       "                                    db_description_short  \n",
       "13095  Everything you wished Outlook would do: Docume...  \n",
       "30638  The Makers at LeapSpecies.Space will build off...  \n",
       "22005  We must forget everything.We must pretend all ...  \n",
       "3995   Now in it&#39;s 4th season, Ate9 continues to ...  \n",
       "9131   Take Only Photographs, Leave Only Footprints. ...  "
      ]
     },
     "execution_count": 44,
     "metadata": {},
     "output_type": "execute_result"
    }
   ],
   "source": [
    "df[df['blurb_end'] != df['db_description_short']][['blurb','db_description_short']].sample(5)"
   ]
  },
  {
   "cell_type": "code",
   "execution_count": 45,
   "metadata": {
    "collapsed": true
   },
   "outputs": [],
   "source": [
    "# redundant data\n",
    "useless_data.append('db_description_short')"
   ]
  },
  {
   "cell_type": "markdown",
   "metadata": {},
   "source": [
    "### 35. db_duration"
   ]
  },
  {
   "cell_type": "code",
   "execution_count": 46,
   "metadata": {
    "collapsed": true
   },
   "outputs": [],
   "source": [
    "# keep due to inconsistency with days_duration\n",
    "static_data.append('db_duration')"
   ]
  },
  {
   "cell_type": "markdown",
   "metadata": {},
   "source": [
    "### 36. db_end_time"
   ]
  },
  {
   "cell_type": "code",
   "execution_count": 47,
   "metadata": {
    "collapsed": true
   },
   "outputs": [],
   "source": [
    "# useless\n",
    "useless_data.append('db_end_time')"
   ]
  },
  {
   "cell_type": "markdown",
   "metadata": {},
   "source": [
    "### 37. db_faq_count"
   ]
  },
  {
   "cell_type": "code",
   "execution_count": 48,
   "metadata": {
    "collapsed": true
   },
   "outputs": [],
   "source": [
    "# future data\n",
    "useless_data.append('db_faq_count')"
   ]
  },
  {
   "cell_type": "markdown",
   "metadata": {},
   "source": [
    "### 38. db_fb_comments_count"
   ]
  },
  {
   "cell_type": "code",
   "execution_count": 49,
   "metadata": {},
   "outputs": [
    {
     "data": {
      "text/plain": [
       "count    30702.0\n",
       "mean         0.0\n",
       "std          0.0\n",
       "min          0.0\n",
       "25%          0.0\n",
       "50%          0.0\n",
       "75%          0.0\n",
       "max          0.0\n",
       "Name: db_fb_comments_count, dtype: float64"
      ]
     },
     "execution_count": 49,
     "metadata": {},
     "output_type": "execute_result"
    }
   ],
   "source": [
    "df['db_fb_comments_count'].describe()"
   ]
  },
  {
   "cell_type": "code",
   "execution_count": 50,
   "metadata": {
    "collapsed": true
   },
   "outputs": [],
   "source": [
    "# always 0\n",
    "useless_data.append('db_fb_comments_count')"
   ]
  },
  {
   "cell_type": "markdown",
   "metadata": {},
   "source": [
    "### 39. db_fb_shares_count TODO estimate"
   ]
  },
  {
   "cell_type": "code",
   "execution_count": 51,
   "metadata": {
    "collapsed": true
   },
   "outputs": [],
   "source": [
    "dynamic_data.append('db_fb_shares_count')"
   ]
  },
  {
   "cell_type": "markdown",
   "metadata": {},
   "source": [
    "### 40. db_goal"
   ]
  },
  {
   "cell_type": "code",
   "execution_count": 52,
   "metadata": {},
   "outputs": [
    {
     "data": {
      "text/plain": [
       "0"
      ]
     },
     "execution_count": 52,
     "metadata": {},
     "output_type": "execute_result"
    }
   ],
   "source": [
    "len(df[df['goal'] != df['db_goal']])"
   ]
  },
  {
   "cell_type": "code",
   "execution_count": 53,
   "metadata": {
    "collapsed": true
   },
   "outputs": [],
   "source": [
    "# redundant data\n",
    "useless_data.append('db_goal')"
   ]
  },
  {
   "cell_type": "markdown",
   "metadata": {},
   "source": [
    "### 41. db_hours_remaining"
   ]
  },
  {
   "cell_type": "code",
   "execution_count": 54,
   "metadata": {
    "collapsed": true
   },
   "outputs": [],
   "source": [
    "# useless data\n",
    "useless_data.append('db_hours_remaining')"
   ]
  },
  {
   "cell_type": "markdown",
   "metadata": {},
   "source": [
    "### 42. db_image_url TODO transform"
   ]
  },
  {
   "cell_type": "code",
   "execution_count": 55,
   "metadata": {
    "collapsed": true
   },
   "outputs": [],
   "source": [
    "static_data.append('db_image_url')"
   ]
  },
  {
   "cell_type": "markdown",
   "metadata": {},
   "source": [
    "### 43. db_location_id"
   ]
  },
  {
   "cell_type": "code",
   "execution_count": 56,
   "metadata": {},
   "outputs": [
    {
     "data": {
      "text/plain": [
       "5139"
      ]
     },
     "execution_count": 56,
     "metadata": {},
     "output_type": "execute_result"
    }
   ],
   "source": [
    "len(df['db_location_id'].value_counts())"
   ]
  },
  {
   "cell_type": "code",
   "execution_count": 57,
   "metadata": {
    "collapsed": true
   },
   "outputs": [],
   "source": [
    "# useless (ordinal representation of other columns)\n",
    "useless_data.append('db_location_id')"
   ]
  },
  {
   "cell_type": "markdown",
   "metadata": {},
   "source": [
    "### 44. db_name"
   ]
  },
  {
   "cell_type": "code",
   "execution_count": 58,
   "metadata": {
    "collapsed": true
   },
   "outputs": [],
   "source": [
    "# useless\n",
    "useless_data.append('db_name')"
   ]
  },
  {
   "cell_type": "markdown",
   "metadata": {},
   "source": [
    "### 45. db_pledged"
   ]
  },
  {
   "cell_type": "code",
   "execution_count": 59,
   "metadata": {
    "collapsed": true
   },
   "outputs": [],
   "source": [
    "# future data\n",
    "useless_data.append('db_pledged')"
   ]
  },
  {
   "cell_type": "markdown",
   "metadata": {},
   "source": [
    "### 46. db_project_data"
   ]
  },
  {
   "cell_type": "code",
   "execution_count": 60,
   "metadata": {
    "scrolled": true
   },
   "outputs": [],
   "source": [
    "row = 1\n",
    "dict_data = json.loads(df.loc[row, 'db_project_data'])\n",
    "#pprint(dict_data)"
   ]
  },
  {
   "cell_type": "code",
   "execution_count": 61,
   "metadata": {
    "collapsed": true
   },
   "outputs": [],
   "source": [
    "# usefull data already extracted\n",
    "useless_data.append('db_project_data')"
   ]
  },
  {
   "cell_type": "markdown",
   "metadata": {},
   "source": [
    "### 47. db_project_id"
   ]
  },
  {
   "cell_type": "code",
   "execution_count": 62,
   "metadata": {
    "collapsed": true
   },
   "outputs": [],
   "source": [
    "# useless\n",
    "useless_data.append('db_project_id')"
   ]
  },
  {
   "cell_type": "markdown",
   "metadata": {},
   "source": [
    "### 48. db_project_we_love"
   ]
  },
  {
   "cell_type": "code",
   "execution_count": 63,
   "metadata": {
    "collapsed": true
   },
   "outputs": [],
   "source": [
    "# future data\n",
    "useless_data.append('db_project_we_love')"
   ]
  },
  {
   "cell_type": "markdown",
   "metadata": {},
   "source": [
    "### 49. db_start_time"
   ]
  },
  {
   "cell_type": "code",
   "execution_count": 64,
   "metadata": {
    "collapsed": true
   },
   "outputs": [],
   "source": [
    "# useless\n",
    "useless_data.append('db_start_time')"
   ]
  },
  {
   "cell_type": "markdown",
   "metadata": {},
   "source": [
    "### 50. db_status"
   ]
  },
  {
   "cell_type": "code",
   "execution_count": 65,
   "metadata": {
    "collapsed": true
   },
   "outputs": [],
   "source": [
    "# useless, we use our own classes\n",
    "useless_data.append('db_status')"
   ]
  },
  {
   "cell_type": "markdown",
   "metadata": {},
   "source": [
    "### 51. db_subcategory_id"
   ]
  },
  {
   "cell_type": "code",
   "execution_count": 66,
   "metadata": {
    "collapsed": true
   },
   "outputs": [],
   "source": [
    "# ordinal representation of category_name\n",
    "useless_data.append('db_subcategory_id')"
   ]
  },
  {
   "cell_type": "markdown",
   "metadata": {},
   "source": [
    "### 52. db_updates_count"
   ]
  },
  {
   "cell_type": "code",
   "execution_count": 67,
   "metadata": {
    "collapsed": true
   },
   "outputs": [],
   "source": [
    "# future data\n",
    "useless_data.append('db_updates_count')"
   ]
  },
  {
   "cell_type": "markdown",
   "metadata": {},
   "source": [
    "### 53. db_url"
   ]
  },
  {
   "cell_type": "code",
   "execution_count": 68,
   "metadata": {
    "collapsed": true
   },
   "outputs": [],
   "source": [
    "# useless\n",
    "useless_data.append('db_url')"
   ]
  },
  {
   "cell_type": "markdown",
   "metadata": {},
   "source": [
    "### 54. db_video_url TODO transform"
   ]
  },
  {
   "cell_type": "code",
   "execution_count": 69,
   "metadata": {
    "collapsed": true
   },
   "outputs": [],
   "source": [
    "static_data.append('db_video_url')"
   ]
  },
  {
   "cell_type": "markdown",
   "metadata": {},
   "source": [
    "### 55. deadline_end  TODO extract features (+ add analysis)"
   ]
  },
  {
   "cell_type": "code",
   "execution_count": 70,
   "metadata": {
    "collapsed": true
   },
   "outputs": [],
   "source": [
    "# already used to extract days_duration and days_remaining\n",
    "static_data.append('deadline_end')"
   ]
  },
  {
   "cell_type": "markdown",
   "metadata": {},
   "source": [
    "### 56. disable_communication"
   ]
  },
  {
   "cell_type": "code",
   "execution_count": 71,
   "metadata": {},
   "outputs": [
    {
     "data": {
      "text/plain": [
       "count     30702\n",
       "unique        1\n",
       "top       False\n",
       "freq      30702\n",
       "Name: disable_communication, dtype: object"
      ]
     },
     "execution_count": 71,
     "metadata": {},
     "output_type": "execute_result"
    }
   ],
   "source": [
    "df['disable_communication'].describe()"
   ]
  },
  {
   "cell_type": "code",
   "execution_count": 72,
   "metadata": {
    "collapsed": true
   },
   "outputs": [],
   "source": [
    "# always False\n",
    "useless_data.append('disable_communication')"
   ]
  },
  {
   "cell_type": "markdown",
   "metadata": {},
   "source": [
    "### 57. disable_communication_end"
   ]
  },
  {
   "cell_type": "code",
   "execution_count": 73,
   "metadata": {
    "collapsed": true
   },
   "outputs": [],
   "source": [
    "# future data\n",
    "useless_data.append('disable_communication_end')"
   ]
  },
  {
   "cell_type": "markdown",
   "metadata": {},
   "source": [
    "### 58. goal"
   ]
  },
  {
   "cell_type": "code",
   "execution_count": 74,
   "metadata": {
    "collapsed": true
   },
   "outputs": [],
   "source": [
    "static_data.append('goal')"
   ]
  },
  {
   "cell_type": "markdown",
   "metadata": {},
   "source": [
    "### 59. id"
   ]
  },
  {
   "cell_type": "code",
   "execution_count": 75,
   "metadata": {
    "collapsed": true
   },
   "outputs": [],
   "source": [
    "# useless\n",
    "useless_data.append('id')"
   ]
  },
  {
   "cell_type": "markdown",
   "metadata": {},
   "source": [
    "### 60. launched_at  TODO extract features (+ add analysis)"
   ]
  },
  {
   "cell_type": "code",
   "execution_count": 76,
   "metadata": {
    "collapsed": true
   },
   "outputs": [],
   "source": [
    "# already used to extract days_preparation and days_running\n",
    "static_data.append('launched_at')"
   ]
  },
  {
   "cell_type": "markdown",
   "metadata": {},
   "source": [
    "### 61. location"
   ]
  },
  {
   "cell_type": "code",
   "execution_count": 77,
   "metadata": {
    "collapsed": true
   },
   "outputs": [],
   "source": [
    "# already used to extract data\n",
    "useless_data.append('location')"
   ]
  },
  {
   "cell_type": "markdown",
   "metadata": {},
   "source": [
    "### 62. location_end"
   ]
  },
  {
   "cell_type": "code",
   "execution_count": 78,
   "metadata": {
    "collapsed": true
   },
   "outputs": [],
   "source": [
    "# future data\n",
    "useless_data.append('location_end')"
   ]
  },
  {
   "cell_type": "markdown",
   "metadata": {},
   "source": [
    "### 63. location_is_root"
   ]
  },
  {
   "cell_type": "code",
   "execution_count": 79,
   "metadata": {},
   "outputs": [
    {
     "data": {
      "text/plain": [
       "count     30702\n",
       "unique        1\n",
       "top       False\n",
       "freq      30702\n",
       "Name: location_is_root, dtype: object"
      ]
     },
     "execution_count": 79,
     "metadata": {},
     "output_type": "execute_result"
    }
   ],
   "source": [
    "df.location_is_root.describe()"
   ]
  },
  {
   "cell_type": "code",
   "execution_count": 80,
   "metadata": {
    "collapsed": true
   },
   "outputs": [],
   "source": [
    "# always False\n",
    "useless_data.append('location_is_root')"
   ]
  },
  {
   "cell_type": "markdown",
   "metadata": {},
   "source": [
    "### 64. location_name"
   ]
  },
  {
   "cell_type": "code",
   "execution_count": 81,
   "metadata": {
    "collapsed": true
   },
   "outputs": [],
   "source": [
    "static_data.append('location_name')"
   ]
  },
  {
   "cell_type": "markdown",
   "metadata": {},
   "source": [
    "### 65. location_name_end"
   ]
  },
  {
   "cell_type": "code",
   "execution_count": 82,
   "metadata": {
    "collapsed": true
   },
   "outputs": [],
   "source": [
    "# future data\n",
    "useless_data.append('location_name_end')"
   ]
  },
  {
   "cell_type": "markdown",
   "metadata": {},
   "source": [
    "### 66. location_state"
   ]
  },
  {
   "cell_type": "code",
   "execution_count": 83,
   "metadata": {
    "collapsed": true
   },
   "outputs": [],
   "source": [
    "static_data.append('location_state')"
   ]
  },
  {
   "cell_type": "markdown",
   "metadata": {},
   "source": [
    "### 67. location_state_end"
   ]
  },
  {
   "cell_type": "code",
   "execution_count": 84,
   "metadata": {
    "collapsed": true
   },
   "outputs": [],
   "source": [
    "# future data\n",
    "useless_data.append('location_state_end')"
   ]
  },
  {
   "cell_type": "markdown",
   "metadata": {},
   "source": [
    "### 68. location_type"
   ]
  },
  {
   "cell_type": "code",
   "execution_count": 85,
   "metadata": {
    "collapsed": true
   },
   "outputs": [],
   "source": [
    "static_data.append('location_type')"
   ]
  },
  {
   "cell_type": "markdown",
   "metadata": {},
   "source": [
    "### 69. location_type_end"
   ]
  },
  {
   "cell_type": "code",
   "execution_count": 86,
   "metadata": {
    "collapsed": true
   },
   "outputs": [],
   "source": [
    "# future data\n",
    "useless_data.append('location_type_end')"
   ]
  },
  {
   "cell_type": "markdown",
   "metadata": {},
   "source": [
    "### 70. name"
   ]
  },
  {
   "cell_type": "code",
   "execution_count": 87,
   "metadata": {
    "collapsed": true
   },
   "outputs": [],
   "source": [
    "# useless\n",
    "useless_data.append('name')"
   ]
  },
  {
   "cell_type": "markdown",
   "metadata": {},
   "source": [
    "### 71. name_end"
   ]
  },
  {
   "cell_type": "code",
   "execution_count": 88,
   "metadata": {
    "collapsed": true
   },
   "outputs": [],
   "source": [
    "# useless\n",
    "useless_data.append('name_end')"
   ]
  },
  {
   "cell_type": "markdown",
   "metadata": {},
   "source": [
    "### 72. photo"
   ]
  },
  {
   "cell_type": "code",
   "execution_count": 89,
   "metadata": {},
   "outputs": [
    {
     "data": {
      "text/plain": [
       "'{\"small\":\"https://ksr-ugc.imgix.net/projects/2137299/photo-original.jpg?v=1444938200&w=160&h=120&fit=crop&auto=format&q=92&s=024364bb83f379e11d0ef29eafd2bb3a\",\"1536x1152\":\"https://ksr-ugc.imgix.net/projects/2137299/photo-original.jpg?v=1444938200&w=1536&h=1152&fit=crop&auto=format&q=92&s=30664a3df037a1672f4cd849f298ed5a\",\"thumb\":\"https://ksr-ugc.imgix.net/projects/2137299/photo-original.jpg?v=1444938200&w=40&h=30&fit=crop&auto=format&q=92&s=5556d33ffad29a3ff8f0e676a0ebeaeb\",\"1024x768\":\"https://ksr-ugc.imgix.net/projects/2137299/photo-original.jpg?v=1444938200&w=1024&h=768&fit=crop&auto=format&q=92&s=0baef5145af0d44caaebdffcecad8709\",\"med\":\"https://ksr-ugc.imgix.net/projects/2137299/photo-original.jpg?v=1444938200&w=266&h=200&fit=crop&auto=format&q=92&s=0e6f16d2bc45ce1925bc6661c340ced2\",\"key\":\"projects/2137299/photo-original.jpg\",\"ed\":\"https://ksr-ugc.imgix.net/projects/2137299/photo-original.jpg?v=1444938200&w=338&h=250&fit=crop&auto=format&q=92&s=f323d7eb379b5b563b9ef7e262fda6cd\",\"full\":\"https://ksr-ugc.imgix.net/projects/2137299/photo-original.jpg?v=1444938200&w=560&h=420&fit=crop&auto=format&q=92&s=825f4c82ac5c90198cfec30dbd490b68\",\"little\":\"https://ksr-ugc.imgix.net/projects/2137299/photo-original.jpg?v=1444938200&w=200&h=150&fit=crop&auto=format&q=92&s=a2d4d20a7acf175ab3b43c32901bf824\"}'"
      ]
     },
     "execution_count": 89,
     "metadata": {},
     "output_type": "execute_result"
    }
   ],
   "source": [
    "df.loc[1,'photo']"
   ]
  },
  {
   "cell_type": "code",
   "execution_count": 90,
   "metadata": {
    "collapsed": true
   },
   "outputs": [],
   "source": [
    "# wrong format, describes only 1 photo - redundant data\n",
    "useless_data.append('photo')"
   ]
  },
  {
   "cell_type": "markdown",
   "metadata": {},
   "source": [
    "### 73. photo_end"
   ]
  },
  {
   "cell_type": "code",
   "execution_count": 91,
   "metadata": {
    "collapsed": true
   },
   "outputs": [],
   "source": [
    "# useless, redundant\n",
    "useless_data.append('photo_end')"
   ]
  },
  {
   "cell_type": "markdown",
   "metadata": {},
   "source": [
    "### 74. pledged"
   ]
  },
  {
   "cell_type": "code",
   "execution_count": 92,
   "metadata": {
    "collapsed": true
   },
   "outputs": [],
   "source": [
    "dynamic_data.append('pledged')"
   ]
  },
  {
   "cell_type": "markdown",
   "metadata": {},
   "source": [
    "### 75. pledged_end"
   ]
  },
  {
   "cell_type": "code",
   "execution_count": 93,
   "metadata": {
    "collapsed": true
   },
   "outputs": [],
   "source": [
    "# future data\n",
    "useless_data.append('pledged_end')"
   ]
  },
  {
   "cell_type": "markdown",
   "metadata": {},
   "source": [
    "### 76. profile"
   ]
  },
  {
   "cell_type": "code",
   "execution_count": 94,
   "metadata": {},
   "outputs": [
    {
     "data": {
      "text/plain": [
       "'{\"background_image_opacity\":0.8,\"link_text_color\":null,\"state_changed_at\":1444938006,\"should_show_feature_image\":true,\"blurb\":null,\"background_color\":null,\"project_id\":2176873,\"name\":null,\"feature_image_attributes\":{\"image_urls\":{\"default\":\"https://ksr-ugc.imgix.net/projects/2137299/photo-original.jpg?v=1444938200&w=1536&h=1152&fit=crop&auto=format&q=92&s=30664a3df037a1672f4cd849f298ed5a\",\"baseball_card\":\"https://ksr-ugc.imgix.net/projects/2137299/photo-original.jpg?v=1444938200&w=1536&h=1152&fit=crop&auto=format&q=92&s=30664a3df037a1672f4cd849f298ed5a\"}},\"link_url\":null,\"show_feature_image\":false,\"id\":2176873,\"state\":\"inactive\",\"text_color\":null,\"link_text\":null,\"link_background_color\":null}'"
      ]
     },
     "execution_count": 94,
     "metadata": {},
     "output_type": "execute_result"
    }
   ],
   "source": [
    "df.loc[1, 'profile']"
   ]
  },
  {
   "cell_type": "code",
   "execution_count": 95,
   "metadata": {
    "collapsed": true
   },
   "outputs": [],
   "source": [
    "# wrong format, useless\n",
    "useless_data.append('profile')"
   ]
  },
  {
   "cell_type": "markdown",
   "metadata": {},
   "source": [
    "### 77. profile_end"
   ]
  },
  {
   "cell_type": "code",
   "execution_count": 96,
   "metadata": {
    "collapsed": true
   },
   "outputs": [],
   "source": [
    "# future data\n",
    "useless_data.append('profile_end')"
   ]
  },
  {
   "cell_type": "markdown",
   "metadata": {},
   "source": [
    "### 78. ratio_pledged_end_goal"
   ]
  },
  {
   "cell_type": "code",
   "execution_count": 97,
   "metadata": {
    "collapsed": true
   },
   "outputs": [],
   "source": [
    "# already used to extract class\n",
    "useless_data.append('ratio_pledged_end_goal')"
   ]
  },
  {
   "cell_type": "markdown",
   "metadata": {},
   "source": [
    "### 79. ratio_pledged_goal"
   ]
  },
  {
   "cell_type": "code",
   "execution_count": 98,
   "metadata": {
    "collapsed": true
   },
   "outputs": [],
   "source": [
    "dynamic_data.append('ratio_pledged_goal')"
   ]
  },
  {
   "cell_type": "markdown",
   "metadata": {},
   "source": [
    "### 80. ratio_running_duration"
   ]
  },
  {
   "cell_type": "code",
   "execution_count": 99,
   "metadata": {
    "collapsed": true
   },
   "outputs": [],
   "source": [
    "dynamic_data.append('ratio_running_duration')"
   ]
  },
  {
   "cell_type": "markdown",
   "metadata": {},
   "source": [
    "### 81. scraped_at"
   ]
  },
  {
   "cell_type": "code",
   "execution_count": 100,
   "metadata": {
    "collapsed": true
   },
   "outputs": [],
   "source": [
    "# already used to extract many features\n",
    "useless_data.append('scraped_at')"
   ]
  },
  {
   "cell_type": "markdown",
   "metadata": {},
   "source": [
    "### 82. slug"
   ]
  },
  {
   "cell_type": "code",
   "execution_count": 101,
   "metadata": {
    "collapsed": true
   },
   "outputs": [],
   "source": [
    "# useless\n",
    "useless_data.append('slug')"
   ]
  },
  {
   "cell_type": "markdown",
   "metadata": {},
   "source": [
    "### 83. source_url"
   ]
  },
  {
   "cell_type": "code",
   "execution_count": 102,
   "metadata": {
    "collapsed": true
   },
   "outputs": [],
   "source": [
    "# useless\n",
    "useless_data.append('source_url')"
   ]
  },
  {
   "cell_type": "markdown",
   "metadata": {},
   "source": [
    "### 84. source_url_end"
   ]
  },
  {
   "cell_type": "code",
   "execution_count": 103,
   "metadata": {
    "collapsed": true
   },
   "outputs": [],
   "source": [
    "# useless\n",
    "useless_data.append('source_url_end')"
   ]
  },
  {
   "cell_type": "markdown",
   "metadata": {},
   "source": [
    "### 85. spotlight"
   ]
  },
  {
   "cell_type": "code",
   "execution_count": 104,
   "metadata": {},
   "outputs": [
    {
     "data": {
      "text/plain": [
       "count     30702\n",
       "unique        1\n",
       "top       False\n",
       "freq      30702\n",
       "Name: spotlight, dtype: object"
      ]
     },
     "execution_count": 104,
     "metadata": {},
     "output_type": "execute_result"
    }
   ],
   "source": [
    "df.spotlight.describe()"
   ]
  },
  {
   "cell_type": "code",
   "execution_count": 105,
   "metadata": {
    "collapsed": true
   },
   "outputs": [],
   "source": [
    "# always False\n",
    "useless_data.append('spotlight')"
   ]
  },
  {
   "cell_type": "markdown",
   "metadata": {},
   "source": [
    "### 86. spotlight_end"
   ]
  },
  {
   "cell_type": "code",
   "execution_count": 106,
   "metadata": {
    "collapsed": true
   },
   "outputs": [],
   "source": [
    "# future data\n",
    "useless_data.append('spotlight_end')"
   ]
  },
  {
   "cell_type": "markdown",
   "metadata": {},
   "source": [
    "### 87. staff_pick"
   ]
  },
  {
   "cell_type": "code",
   "execution_count": 107,
   "metadata": {
    "collapsed": true
   },
   "outputs": [],
   "source": [
    "dynamic_data.append('staff_pick')"
   ]
  },
  {
   "cell_type": "markdown",
   "metadata": {},
   "source": [
    "### 88. staff_pick_end"
   ]
  },
  {
   "cell_type": "code",
   "execution_count": 108,
   "metadata": {
    "collapsed": true
   },
   "outputs": [],
   "source": [
    "# future data\n",
    "useless_data.append('staff_pick_end')"
   ]
  },
  {
   "cell_type": "markdown",
   "metadata": {},
   "source": [
    "### 89. state"
   ]
  },
  {
   "cell_type": "code",
   "execution_count": 109,
   "metadata": {},
   "outputs": [
    {
     "data": {
      "text/plain": [
       "count     30702\n",
       "unique        1\n",
       "top        live\n",
       "freq      30702\n",
       "Name: state, dtype: object"
      ]
     },
     "execution_count": 109,
     "metadata": {},
     "output_type": "execute_result"
    }
   ],
   "source": [
    "df.state.describe()"
   ]
  },
  {
   "cell_type": "code",
   "execution_count": 110,
   "metadata": {
    "collapsed": true
   },
   "outputs": [],
   "source": [
    "# always live\n",
    "useless_data.append('state')"
   ]
  },
  {
   "cell_type": "markdown",
   "metadata": {},
   "source": [
    "### 90. state_changed_at"
   ]
  },
  {
   "cell_type": "code",
   "execution_count": 111,
   "metadata": {
    "collapsed": true
   },
   "outputs": [],
   "source": [
    "# useless\n",
    "useless_data.append('state_changed_at')"
   ]
  },
  {
   "cell_type": "markdown",
   "metadata": {},
   "source": [
    "### 91. state_changed_at_end"
   ]
  },
  {
   "cell_type": "code",
   "execution_count": 112,
   "metadata": {
    "collapsed": true
   },
   "outputs": [],
   "source": [
    "# useless, future data\n",
    "useless_data.append('state_changed_at_end')"
   ]
  },
  {
   "cell_type": "markdown",
   "metadata": {},
   "source": [
    "### 92. state_end"
   ]
  },
  {
   "cell_type": "code",
   "execution_count": 113,
   "metadata": {
    "collapsed": true
   },
   "outputs": [],
   "source": [
    "# future data, we have our own prediction class\n",
    "useless_data.append('state_end')"
   ]
  },
  {
   "cell_type": "markdown",
   "metadata": {},
   "source": [
    "### 93. static_usd_rate"
   ]
  },
  {
   "cell_type": "code",
   "execution_count": 114,
   "metadata": {
    "collapsed": true
   },
   "outputs": [],
   "source": [
    "# already used for currency conversion to USD\n",
    "useless_data.append('static_usd_rate')"
   ]
  },
  {
   "cell_type": "markdown",
   "metadata": {},
   "source": [
    "### 94. static_usd_rate_end"
   ]
  },
  {
   "cell_type": "code",
   "execution_count": 115,
   "metadata": {
    "collapsed": true
   },
   "outputs": [],
   "source": [
    "# useless, future data\n",
    "useless_data.append('static_usd_rate_end')"
   ]
  },
  {
   "cell_type": "markdown",
   "metadata": {},
   "source": [
    "### 95. url_name"
   ]
  },
  {
   "cell_type": "code",
   "execution_count": 116,
   "metadata": {
    "collapsed": true
   },
   "outputs": [],
   "source": [
    "# useless\n",
    "useless_data.append('url_name')"
   ]
  },
  {
   "cell_type": "markdown",
   "metadata": {},
   "source": [
    "### 96. urls"
   ]
  },
  {
   "cell_type": "code",
   "execution_count": 117,
   "metadata": {},
   "outputs": [
    {
     "data": {
      "text/plain": [
       "'{\"web\":{\"project\":\"https://www.kickstarter.com/projects/1221271849/all-style-dance-battle-the-streak?ref=category\",\"rewards\":\"https://www.kickstarter.com/projects/1221271849/all-style-dance-battle-the-streak/rewards\"}}'"
      ]
     },
     "execution_count": 117,
     "metadata": {},
     "output_type": "execute_result"
    }
   ],
   "source": [
    "df.loc[1, 'urls']"
   ]
  },
  {
   "cell_type": "code",
   "execution_count": 118,
   "metadata": {
    "collapsed": true
   },
   "outputs": [],
   "source": [
    "# useless\n",
    "useless_data.append('urls')"
   ]
  },
  {
   "cell_type": "markdown",
   "metadata": {},
   "source": [
    "### 97. urls_end"
   ]
  },
  {
   "cell_type": "code",
   "execution_count": 119,
   "metadata": {
    "collapsed": true
   },
   "outputs": [],
   "source": [
    "# useless\n",
    "useless_data.append('urls_end')"
   ]
  },
  {
   "cell_type": "markdown",
   "metadata": {},
   "source": [
    "### 98. urls_url"
   ]
  },
  {
   "cell_type": "code",
   "execution_count": 120,
   "metadata": {
    "collapsed": true
   },
   "outputs": [],
   "source": [
    "# useless\n",
    "useless_data.append('urls_url')"
   ]
  },
  {
   "cell_type": "markdown",
   "metadata": {},
   "source": [
    "### 99. urls_url_end"
   ]
  },
  {
   "cell_type": "code",
   "execution_count": 121,
   "metadata": {
    "collapsed": true
   },
   "outputs": [],
   "source": [
    "# useless\n",
    "useless_data.append('urls_url_end')"
   ]
  },
  {
   "cell_type": "markdown",
   "metadata": {},
   "source": [
    "### 100. usd_goal"
   ]
  },
  {
   "cell_type": "code",
   "execution_count": 122,
   "metadata": {
    "collapsed": true
   },
   "outputs": [],
   "source": [
    "static_data.append('usd_goal')"
   ]
  },
  {
   "cell_type": "markdown",
   "metadata": {},
   "source": [
    "### 101. usd_pledged"
   ]
  },
  {
   "cell_type": "code",
   "execution_count": 123,
   "metadata": {
    "collapsed": true
   },
   "outputs": [],
   "source": [
    "dynamic_data.append('usd_pledged')"
   ]
  },
  {
   "cell_type": "markdown",
   "metadata": {},
   "source": [
    "### 102. usd_pledged_end"
   ]
  },
  {
   "cell_type": "code",
   "execution_count": 124,
   "metadata": {
    "collapsed": true
   },
   "outputs": [],
   "source": [
    "# future data\n",
    "useless_data.append('usd_pledged_end')"
   ]
  },
  {
   "cell_type": "markdown",
   "metadata": {},
   "source": [
    "### 103. class"
   ]
  },
  {
   "cell_type": "code",
   "execution_count": 125,
   "metadata": {
    "collapsed": true
   },
   "outputs": [],
   "source": [
    "# predicted class\n",
    "static_data.append('class')"
   ]
  },
  {
   "cell_type": "markdown",
   "metadata": {},
   "source": [
    "### 104. ID"
   ]
  },
  {
   "cell_type": "code",
   "execution_count": 126,
   "metadata": {
    "collapsed": true
   },
   "outputs": [],
   "source": [
    "# useless\n",
    "useless_data.append('ID')"
   ]
  },
  {
   "cell_type": "markdown",
   "metadata": {},
   "source": [
    "### 105. faq_count_while_scraping"
   ]
  },
  {
   "cell_type": "code",
   "execution_count": 127,
   "metadata": {
    "collapsed": true
   },
   "outputs": [],
   "source": [
    "dynamic_data.append('faq_count_while_scraping')"
   ]
  },
  {
   "cell_type": "markdown",
   "metadata": {},
   "source": [
    "### 106. comments_count_creator_while_scraping"
   ]
  },
  {
   "cell_type": "code",
   "execution_count": 128,
   "metadata": {
    "collapsed": true
   },
   "outputs": [],
   "source": [
    "dynamic_data.append('comments_count_creator_while_scraping')"
   ]
  },
  {
   "cell_type": "markdown",
   "metadata": {},
   "source": [
    "### 107. comments_count_public_while_scraping"
   ]
  },
  {
   "cell_type": "code",
   "execution_count": 129,
   "metadata": {
    "collapsed": true
   },
   "outputs": [],
   "source": [
    "dynamic_data.append('comments_count_public_while_scraping')"
   ]
  },
  {
   "cell_type": "markdown",
   "metadata": {},
   "source": [
    "### 108. updates_count_while_scraping"
   ]
  },
  {
   "cell_type": "code",
   "execution_count": 130,
   "metadata": {
    "collapsed": true
   },
   "outputs": [],
   "source": [
    "dynamic_data.append('updates_count_while_scraping')"
   ]
  },
  {
   "cell_type": "markdown",
   "metadata": {},
   "source": [
    "### 109. updates_likes_sum_while_scraping"
   ]
  },
  {
   "cell_type": "code",
   "execution_count": 131,
   "metadata": {
    "collapsed": true
   },
   "outputs": [],
   "source": [
    "dynamic_data.append('updates_likes_sum_while_scraping')"
   ]
  },
  {
   "cell_type": "markdown",
   "metadata": {},
   "source": [
    "### 110. updates_likes_mean_while_scraping"
   ]
  },
  {
   "cell_type": "code",
   "execution_count": 132,
   "metadata": {
    "collapsed": true
   },
   "outputs": [],
   "source": [
    "dynamic_data.append('updates_likes_mean_while_scraping')"
   ]
  },
  {
   "cell_type": "markdown",
   "metadata": {},
   "source": [
    "### 111. updates_likes_min_while_scraping"
   ]
  },
  {
   "cell_type": "code",
   "execution_count": 133,
   "metadata": {
    "collapsed": true
   },
   "outputs": [],
   "source": [
    "dynamic_data.append('updates_likes_min_while_scraping')"
   ]
  },
  {
   "cell_type": "markdown",
   "metadata": {},
   "source": [
    "### 112. updates_likes_max_while_scraping"
   ]
  },
  {
   "cell_type": "code",
   "execution_count": 134,
   "metadata": {
    "collapsed": true
   },
   "outputs": [],
   "source": [
    "dynamic_data.append('updates_likes_max_while_scraping')"
   ]
  },
  {
   "cell_type": "markdown",
   "metadata": {},
   "source": [
    "### 113. updates_likes_median_while_scraping"
   ]
  },
  {
   "cell_type": "code",
   "execution_count": 135,
   "metadata": {
    "collapsed": true
   },
   "outputs": [],
   "source": [
    "dynamic_data.append('updates_likes_median_while_scraping')"
   ]
  },
  {
   "cell_type": "code",
   "execution_count": 136,
   "metadata": {},
   "outputs": [
    {
     "data": {
      "text/plain": [
       "20"
      ]
     },
     "execution_count": 136,
     "metadata": {},
     "output_type": "execute_result"
    }
   ],
   "source": [
    "len(static_data)"
   ]
  },
  {
   "cell_type": "code",
   "execution_count": 137,
   "metadata": {},
   "outputs": [
    {
     "data": {
      "text/plain": [
       "19"
      ]
     },
     "execution_count": 137,
     "metadata": {},
     "output_type": "execute_result"
    }
   ],
   "source": [
    "len(dynamic_data)"
   ]
  },
  {
   "cell_type": "code",
   "execution_count": 138,
   "metadata": {},
   "outputs": [
    {
     "data": {
      "text/plain": [
       "74"
      ]
     },
     "execution_count": 138,
     "metadata": {},
     "output_type": "execute_result"
    }
   ],
   "source": [
    "len(useless_data)"
   ]
  },
  {
   "cell_type": "code",
   "execution_count": 139,
   "metadata": {},
   "outputs": [
    {
     "data": {
      "text/plain": [
       "['blurb',\n",
       " 'category_name',\n",
       " 'category_parent',\n",
       " 'category_position',\n",
       " 'country',\n",
       " 'currency',\n",
       " 'days_duration',\n",
       " 'days_preparation',\n",
       " 'db_description_full',\n",
       " 'db_duration',\n",
       " 'db_image_url',\n",
       " 'db_video_url',\n",
       " 'deadline_end',\n",
       " 'goal',\n",
       " 'launched_at',\n",
       " 'location_name',\n",
       " 'location_state',\n",
       " 'location_type',\n",
       " 'usd_goal',\n",
       " 'class']"
      ]
     },
     "execution_count": 139,
     "metadata": {},
     "output_type": "execute_result"
    }
   ],
   "source": [
    "static_data"
   ]
  },
  {
   "cell_type": "code",
   "execution_count": 140,
   "metadata": {},
   "outputs": [
    {
     "data": {
      "text/plain": [
       "['average_pledge',\n",
       " 'backers_count',\n",
       " 'days_remaining',\n",
       " 'days_running',\n",
       " 'db_fb_shares_count',\n",
       " 'pledged',\n",
       " 'ratio_pledged_goal',\n",
       " 'ratio_running_duration',\n",
       " 'staff_pick',\n",
       " 'usd_pledged',\n",
       " 'faq_count_while_scraping',\n",
       " 'comments_count_creator_while_scraping',\n",
       " 'comments_count_public_while_scraping',\n",
       " 'updates_count_while_scraping',\n",
       " 'updates_likes_sum_while_scraping',\n",
       " 'updates_likes_mean_while_scraping',\n",
       " 'updates_likes_min_while_scraping',\n",
       " 'updates_likes_max_while_scraping',\n",
       " 'updates_likes_median_while_scraping']"
      ]
     },
     "execution_count": 140,
     "metadata": {},
     "output_type": "execute_result"
    }
   ],
   "source": [
    "dynamic_data"
   ]
  },
  {
   "cell_type": "code",
   "execution_count": 141,
   "metadata": {
    "collapsed": true
   },
   "outputs": [],
   "source": [
    "df_selected = df.drop(useless_data, axis=1)"
   ]
  },
  {
   "cell_type": "code",
   "execution_count": 142,
   "metadata": {},
   "outputs": [
    {
     "name": "stdout",
     "output_type": "stream",
     "text": [
      "<class 'pandas.core.frame.DataFrame'>\n",
      "Int64Index: 30702 entries, 0 to 30701\n",
      "Data columns (total 39 columns):\n",
      "average_pledge                           30702 non-null float64\n",
      "backers_count                            30702 non-null int64\n",
      "blurb                                    30702 non-null object\n",
      "category_name                            30702 non-null object\n",
      "category_parent                          30702 non-null object\n",
      "category_position                        30702 non-null int64\n",
      "country                                  30702 non-null object\n",
      "currency                                 30702 non-null object\n",
      "days_duration                            30702 non-null int64\n",
      "days_preparation                         30702 non-null int64\n",
      "days_remaining                           30702 non-null int64\n",
      "days_running                             30702 non-null int64\n",
      "db_description_full                      30691 non-null object\n",
      "db_duration                              30702 non-null int64\n",
      "db_fb_shares_count                       30702 non-null int64\n",
      "db_image_url                             21414 non-null object\n",
      "db_video_url                             20443 non-null object\n",
      "deadline_end                             30702 non-null int64\n",
      "goal                                     30702 non-null float64\n",
      "launched_at                              30702 non-null int64\n",
      "location_name                            30702 non-null object\n",
      "location_state                           30695 non-null object\n",
      "location_type                            30702 non-null object\n",
      "pledged                                  30702 non-null float64\n",
      "ratio_pledged_goal                       30702 non-null float64\n",
      "ratio_running_duration                   30702 non-null float64\n",
      "staff_pick                               30702 non-null object\n",
      "usd_goal                                 30702 non-null int64\n",
      "usd_pledged                              30702 non-null float64\n",
      "class                                    30702 non-null int64\n",
      "faq_count_while_scraping                 30702 non-null float64\n",
      "comments_count_creator_while_scraping    30702 non-null float64\n",
      "comments_count_public_while_scraping     30702 non-null float64\n",
      "updates_count_while_scraping             30702 non-null float64\n",
      "updates_likes_sum_while_scraping         30702 non-null float64\n",
      "updates_likes_mean_while_scraping        30702 non-null float64\n",
      "updates_likes_min_while_scraping         30702 non-null float64\n",
      "updates_likes_max_while_scraping         30702 non-null float64\n",
      "updates_likes_median_while_scraping      30702 non-null float64\n",
      "dtypes: float64(15), int64(12), object(12)\n",
      "memory usage: 10.6+ MB\n"
     ]
    }
   ],
   "source": [
    "df_selected.info()"
   ]
  },
  {
   "cell_type": "code",
   "execution_count": 143,
   "metadata": {
    "collapsed": true
   },
   "outputs": [],
   "source": [
    "df_selected.to_csv('data/selected_data.csv')"
   ]
  },
  {
   "cell_type": "markdown",
   "metadata": {},
   "source": [
    "# Data pre-processing"
   ]
  },
  {
   "cell_type": "markdown",
   "metadata": {},
   "source": [
    "## Sampling"
   ]
  },
  {
   "cell_type": "markdown",
   "metadata": {},
   "source": [
    "## Outlier detection"
   ]
  },
  {
   "cell_type": "markdown",
   "metadata": {},
   "source": [
    "## Missing values resolution"
   ]
  },
  {
   "cell_type": "code",
   "execution_count": 144,
   "metadata": {},
   "outputs": [
    {
     "name": "stdout",
     "output_type": "stream",
     "text": [
      "<class 'pandas.core.frame.DataFrame'>\n",
      "Int64Index: 30702 entries, 0 to 30701\n",
      "Data columns (total 20 columns):\n",
      "blurb                  30702 non-null object\n",
      "category_name          30702 non-null object\n",
      "category_parent        30702 non-null object\n",
      "category_position      30702 non-null int64\n",
      "country                30702 non-null object\n",
      "currency               30702 non-null object\n",
      "days_duration          30702 non-null int64\n",
      "days_preparation       30702 non-null int64\n",
      "db_description_full    30691 non-null object\n",
      "db_duration            30702 non-null int64\n",
      "db_image_url           21414 non-null object\n",
      "db_video_url           20443 non-null object\n",
      "deadline_end           30702 non-null int64\n",
      "goal                   30702 non-null float64\n",
      "launched_at            30702 non-null int64\n",
      "location_name          30702 non-null object\n",
      "location_state         30695 non-null object\n",
      "location_type          30702 non-null object\n",
      "usd_goal               30702 non-null int64\n",
      "class                  30702 non-null int64\n",
      "dtypes: float64(1), int64(8), object(11)\n",
      "memory usage: 6.2+ MB\n"
     ]
    }
   ],
   "source": [
    "df[static_data].info()"
   ]
  },
  {
   "cell_type": "code",
   "execution_count": 145,
   "metadata": {},
   "outputs": [
    {
     "data": {
      "text/html": [
       "<div>\n",
       "<style>\n",
       "    .dataframe thead tr:only-child th {\n",
       "        text-align: right;\n",
       "    }\n",
       "\n",
       "    .dataframe thead th {\n",
       "        text-align: left;\n",
       "    }\n",
       "\n",
       "    .dataframe tbody tr th {\n",
       "        vertical-align: top;\n",
       "    }\n",
       "</style>\n",
       "<table border=\"1\" class=\"dataframe\">\n",
       "  <thead>\n",
       "    <tr style=\"text-align: right;\">\n",
       "      <th></th>\n",
       "      <th>url_name</th>\n",
       "      <th>location_name</th>\n",
       "      <th>location_state</th>\n",
       "      <th>location_type</th>\n",
       "      <th>country</th>\n",
       "    </tr>\n",
       "  </thead>\n",
       "  <tbody>\n",
       "    <tr>\n",
       "      <th>3054</th>\n",
       "      <td>the-white-desert-wildlife-and-antarctica-photo...</td>\n",
       "      <td>Antarctica</td>\n",
       "      <td>NaN</td>\n",
       "      <td>Country</td>\n",
       "      <td>US</td>\n",
       "    </tr>\n",
       "    <tr>\n",
       "      <th>7903</th>\n",
       "      <td>music-video-makedonsko-devojce-jazz-version</td>\n",
       "      <td>Skopje</td>\n",
       "      <td>NaN</td>\n",
       "      <td>Town</td>\n",
       "      <td>DE</td>\n",
       "    </tr>\n",
       "    <tr>\n",
       "      <th>16683</th>\n",
       "      <td>oualichi-gold-caribbean-erotica</td>\n",
       "      <td>Philipsburg</td>\n",
       "      <td>NaN</td>\n",
       "      <td>Town</td>\n",
       "      <td>US</td>\n",
       "    </tr>\n",
       "    <tr>\n",
       "      <th>21286</th>\n",
       "      <td>new-album-kickstarter</td>\n",
       "      <td>Road Town</td>\n",
       "      <td>NaN</td>\n",
       "      <td>Town</td>\n",
       "      <td>US</td>\n",
       "    </tr>\n",
       "    <tr>\n",
       "      <th>30232</th>\n",
       "      <td>baby-chef-cookbook-and-app-with-healthy-recipe...</td>\n",
       "      <td>Skopje</td>\n",
       "      <td>NaN</td>\n",
       "      <td>Town</td>\n",
       "      <td>AU</td>\n",
       "    </tr>\n",
       "    <tr>\n",
       "      <th>30347</th>\n",
       "      <td>ninos-otomies-le-cantan-al-papa-francisco</td>\n",
       "      <td>Vatican City</td>\n",
       "      <td>NaN</td>\n",
       "      <td>Town</td>\n",
       "      <td>MX</td>\n",
       "    </tr>\n",
       "    <tr>\n",
       "      <th>30389</th>\n",
       "      <td>portraits-of-place-in-antarctica-ii</td>\n",
       "      <td>Antarctica</td>\n",
       "      <td>NaN</td>\n",
       "      <td>Country</td>\n",
       "      <td>US</td>\n",
       "    </tr>\n",
       "  </tbody>\n",
       "</table>\n",
       "</div>"
      ],
      "text/plain": [
       "                                                url_name location_name  \\\n",
       "3054   the-white-desert-wildlife-and-antarctica-photo...    Antarctica   \n",
       "7903         music-video-makedonsko-devojce-jazz-version        Skopje   \n",
       "16683                    oualichi-gold-caribbean-erotica   Philipsburg   \n",
       "21286                              new-album-kickstarter     Road Town   \n",
       "30232  baby-chef-cookbook-and-app-with-healthy-recipe...        Skopje   \n",
       "30347          ninos-otomies-le-cantan-al-papa-francisco  Vatican City   \n",
       "30389                portraits-of-place-in-antarctica-ii    Antarctica   \n",
       "\n",
       "      location_state location_type country  \n",
       "3054             NaN       Country      US  \n",
       "7903             NaN          Town      DE  \n",
       "16683            NaN          Town      US  \n",
       "21286            NaN          Town      US  \n",
       "30232            NaN          Town      AU  \n",
       "30347            NaN          Town      MX  \n",
       "30389            NaN       Country      US  "
      ]
     },
     "execution_count": 145,
     "metadata": {},
     "output_type": "execute_result"
    }
   ],
   "source": [
    "df[df['location_state'].isnull()][['url_name', 'location_name', 'location_state', 'location_type', 'country']]"
   ]
  },
  {
   "cell_type": "code",
   "execution_count": 146,
   "metadata": {
    "collapsed": true
   },
   "outputs": [],
   "source": [
    "df.loc[3054, 'location_state'] = 'None'\n",
    "df.loc[7903, 'location_state'] = 'Macedonia'\n",
    "df.loc[16683, 'location_state'] = 'Sint Maarten (Dutch part)'\n",
    "df.loc[21286, 'location_state'] = 'Virgin Islands, U.S. '\n",
    "df.loc[30232, 'location_state'] = 'Macedonia'\n",
    "df.loc[30347, 'location_state'] = 'Vatican City'\n",
    "df.loc[30389, 'location_state'] = 'None'"
   ]
  },
  {
   "cell_type": "code",
   "execution_count": 147,
   "metadata": {},
   "outputs": [
    {
     "data": {
      "text/html": [
       "<div>\n",
       "<style>\n",
       "    .dataframe thead tr:only-child th {\n",
       "        text-align: right;\n",
       "    }\n",
       "\n",
       "    .dataframe thead th {\n",
       "        text-align: left;\n",
       "    }\n",
       "\n",
       "    .dataframe tbody tr th {\n",
       "        vertical-align: top;\n",
       "    }\n",
       "</style>\n",
       "<table border=\"1\" class=\"dataframe\">\n",
       "  <thead>\n",
       "    <tr style=\"text-align: right;\">\n",
       "      <th></th>\n",
       "      <th>url_name</th>\n",
       "      <th>location_name</th>\n",
       "      <th>location_state</th>\n",
       "      <th>location_type</th>\n",
       "      <th>country</th>\n",
       "    </tr>\n",
       "  </thead>\n",
       "  <tbody>\n",
       "  </tbody>\n",
       "</table>\n",
       "</div>"
      ],
      "text/plain": [
       "Empty DataFrame\n",
       "Columns: [url_name, location_name, location_state, location_type, country]\n",
       "Index: []"
      ]
     },
     "execution_count": 147,
     "metadata": {},
     "output_type": "execute_result"
    }
   ],
   "source": [
    "df[df['location_state'].isnull()][['url_name', 'location_name', 'location_state', 'location_type', 'country']]"
   ]
  },
  {
   "cell_type": "markdown",
   "metadata": {},
   "source": [
    "# Feature engineering"
   ]
  },
  {
   "cell_type": "markdown",
   "metadata": {},
   "source": [
    "## Feature extraction"
   ]
  },
  {
   "cell_type": "markdown",
   "metadata": {},
   "source": [
    "### 1. deadline"
   ]
  },
  {
   "cell_type": "code",
   "execution_count": 148,
   "metadata": {},
   "outputs": [
    {
     "data": {
      "text/html": [
       "<div>\n",
       "<style>\n",
       "    .dataframe thead tr:only-child th {\n",
       "        text-align: right;\n",
       "    }\n",
       "\n",
       "    .dataframe thead th {\n",
       "        text-align: left;\n",
       "    }\n",
       "\n",
       "    .dataframe tbody tr th {\n",
       "        vertical-align: top;\n",
       "    }\n",
       "</style>\n",
       "<table border=\"1\" class=\"dataframe\">\n",
       "  <thead>\n",
       "    <tr style=\"text-align: right;\">\n",
       "      <th></th>\n",
       "      <th>url_name</th>\n",
       "      <th>deadline_end</th>\n",
       "      <th>deadline_datetime</th>\n",
       "      <th>db_end_time</th>\n",
       "    </tr>\n",
       "  </thead>\n",
       "  <tbody>\n",
       "    <tr>\n",
       "      <th>13391</th>\n",
       "      <td>blue-lives-matter-usa-wooden-plaque</td>\n",
       "      <td>1471561207</td>\n",
       "      <td>2016-08-18 23:00:07</td>\n",
       "      <td>2016-08-18</td>\n",
       "    </tr>\n",
       "    <tr>\n",
       "      <th>18921</th>\n",
       "      <td>my-photography-art-website-setup-horizonphotog...</td>\n",
       "      <td>1482972396</td>\n",
       "      <td>2016-12-29 00:46:36</td>\n",
       "      <td>2016-12-28</td>\n",
       "    </tr>\n",
       "    <tr>\n",
       "      <th>9701</th>\n",
       "      <td>the-willow-consort-prague-tour-2016</td>\n",
       "      <td>1464361408</td>\n",
       "      <td>2016-05-27 15:03:28</td>\n",
       "      <td>2016-05-27</td>\n",
       "    </tr>\n",
       "    <tr>\n",
       "      <th>13118</th>\n",
       "      <td>mana-modular-new-way-to-build-your-dream-mixin...</td>\n",
       "      <td>1470243404</td>\n",
       "      <td>2016-08-03 16:56:44</td>\n",
       "      <td>2016-08-03</td>\n",
       "    </tr>\n",
       "    <tr>\n",
       "      <th>21468</th>\n",
       "      <td>best-of-commodore-amiga-demoscene-funding-2017</td>\n",
       "      <td>1491807475</td>\n",
       "      <td>2017-04-10 06:57:55</td>\n",
       "      <td>2017-04-10</td>\n",
       "    </tr>\n",
       "  </tbody>\n",
       "</table>\n",
       "</div>"
      ],
      "text/plain": [
       "                                                url_name  deadline_end  \\\n",
       "13391                blue-lives-matter-usa-wooden-plaque    1471561207   \n",
       "18921  my-photography-art-website-setup-horizonphotog...    1482972396   \n",
       "9701                 the-willow-consort-prague-tour-2016    1464361408   \n",
       "13118  mana-modular-new-way-to-build-your-dream-mixin...    1470243404   \n",
       "21468     best-of-commodore-amiga-demoscene-funding-2017    1491807475   \n",
       "\n",
       "        deadline_datetime db_end_time  \n",
       "13391 2016-08-18 23:00:07  2016-08-18  \n",
       "18921 2016-12-29 00:46:36  2016-12-28  \n",
       "9701  2016-05-27 15:03:28  2016-05-27  \n",
       "13118 2016-08-03 16:56:44  2016-08-03  \n",
       "21468 2017-04-10 06:57:55  2017-04-10  "
      ]
     },
     "execution_count": 148,
     "metadata": {},
     "output_type": "execute_result"
    }
   ],
   "source": [
    "# convert unix timestamp to datetime of scraping\n",
    "df['deadline_datetime'] = pd.to_datetime(df['deadline_end'], unit='s')\n",
    "df[['url_name','deadline_end','deadline_datetime', 'db_end_time']].sample(5)"
   ]
  },
  {
   "cell_type": "markdown",
   "metadata": {},
   "source": [
    "#### 1.1 year"
   ]
  },
  {
   "cell_type": "code",
   "execution_count": 149,
   "metadata": {
    "collapsed": true
   },
   "outputs": [],
   "source": [
    "df['deadline_year'] = df['deadline_datetime'].dt.year"
   ]
  },
  {
   "cell_type": "code",
   "execution_count": 150,
   "metadata": {},
   "outputs": [
    {
     "data": {
      "text/plain": [
       "<matplotlib.axes._subplots.AxesSubplot at 0x13002464320>"
      ]
     },
     "execution_count": 150,
     "metadata": {},
     "output_type": "execute_result"
    },
    {
     "data": {
      "image/png": "[encoded data removed]",
      "text/plain": [
       "<matplotlib.figure.Figure at 0x130024895c0>"
      ]
     },
     "metadata": {},
     "output_type": "display_data"
    }
   ],
   "source": [
    "pd.crosstab(index=df['deadline_year'], columns=df['state_end']).plot.bar(stacked=False, color=['orange', 'royalblue'], figsize=(20,10))"
   ]
  },
  {
   "cell_type": "markdown",
   "metadata": {},
   "source": [
    "#### 1.2 month"
   ]
  },
  {
   "cell_type": "code",
   "execution_count": 151,
   "metadata": {
    "collapsed": true
   },
   "outputs": [],
   "source": [
    "df['deadline_month'] = df['deadline_datetime'].dt.month"
   ]
  },
  {
   "cell_type": "code",
   "execution_count": 152,
   "metadata": {},
   "outputs": [
    {
     "data": {
      "text/plain": [
       "<matplotlib.axes._subplots.AxesSubplot at 0x13002489b38>"
      ]
     },
     "execution_count": 152,
     "metadata": {},
     "output_type": "execute_result"
    },
    {
     "data": {
      "image/png": "[encoded data removed]",
      "text/plain": [
       "<matplotlib.figure.Figure at 0x13002e76080>"
      ]
     },
     "metadata": {},
     "output_type": "display_data"
    }
   ],
   "source": [
    "pd.crosstab(index=df['deadline_month'], columns=df['state_end']).plot.bar(stacked=False, color=['orange', 'royalblue'], figsize=(20,10))"
   ]
  },
  {
   "cell_type": "markdown",
   "metadata": {},
   "source": [
    "#### 1.3 day"
   ]
  },
  {
   "cell_type": "code",
   "execution_count": 153,
   "metadata": {
    "collapsed": true
   },
   "outputs": [],
   "source": [
    "df['deadline_day'] = df['deadline_datetime'].dt.day"
   ]
  },
  {
   "cell_type": "code",
   "execution_count": 154,
   "metadata": {},
   "outputs": [
    {
     "data": {
      "text/plain": [
       "<matplotlib.axes._subplots.AxesSubplot at 0x130031efeb8>"
      ]
     },
     "execution_count": 154,
     "metadata": {},
     "output_type": "execute_result"
    },
    {
     "data": {
      "image/png": "[encoded data removed]",
      "text/plain": [
       "<matplotlib.figure.Figure at 0x13003232a20>"
      ]
     },
     "metadata": {},
     "output_type": "display_data"
    }
   ],
   "source": [
    "pd.crosstab(index=df['deadline_day'], columns=df['state_end']).plot.bar(stacked=False, color=['orange', 'royalblue'], figsize=(20,10))"
   ]
  },
  {
   "cell_type": "markdown",
   "metadata": {},
   "source": [
    "#### 1.4 day of week"
   ]
  },
  {
   "cell_type": "code",
   "execution_count": 155,
   "metadata": {
    "collapsed": true
   },
   "outputs": [],
   "source": [
    "df['deadline_dayofweek'] = df['deadline_datetime'].dt.dayofweek"
   ]
  },
  {
   "cell_type": "code",
   "execution_count": 156,
   "metadata": {},
   "outputs": [
    {
     "data": {
      "text/plain": [
       "<matplotlib.axes._subplots.AxesSubplot at 0x13022561780>"
      ]
     },
     "execution_count": 156,
     "metadata": {},
     "output_type": "execute_result"
    },
    {
     "data": {
      "image/png": "[encoded data removed]",
      "text/plain": [
       "<matplotlib.figure.Figure at 0x13022573be0>"
      ]
     },
     "metadata": {},
     "output_type": "display_data"
    }
   ],
   "source": [
    "pd.crosstab(index=df['deadline_dayofweek'], columns=df['state_end']).plot.bar(stacked=False, color=['orange', 'royalblue'], figsize=(20,10))"
   ]
  },
  {
   "cell_type": "markdown",
   "metadata": {},
   "source": [
    "#### 1.5 hour"
   ]
  },
  {
   "cell_type": "code",
   "execution_count": 157,
   "metadata": {
    "collapsed": true
   },
   "outputs": [],
   "source": [
    "df['deadline_hour'] = df['deadline_datetime'].dt.hour"
   ]
  },
  {
   "cell_type": "code",
   "execution_count": 158,
   "metadata": {},
   "outputs": [
    {
     "data": {
      "text/plain": [
       "<matplotlib.axes._subplots.AxesSubplot at 0x130224dd710>"
      ]
     },
     "execution_count": 158,
     "metadata": {},
     "output_type": "execute_result"
    },
    {
     "data": {
      "image/png": "[encoded data removed]",
      "text/plain": [
       "<matplotlib.figure.Figure at 0x13022598358>"
      ]
     },
     "metadata": {},
     "output_type": "display_data"
    }
   ],
   "source": [
    "pd.crosstab(index=df['deadline_hour'], columns=df['state_end']).plot.bar(stacked=False, color=['orange', 'royalblue'], figsize=(20,10))"
   ]
  },
  {
   "cell_type": "markdown",
   "metadata": {},
   "source": [
    "### 2. start"
   ]
  },
  {
   "cell_type": "code",
   "execution_count": 159,
   "metadata": {},
   "outputs": [
    {
     "data": {
      "text/html": [
       "<div>\n",
       "<style>\n",
       "    .dataframe thead tr:only-child th {\n",
       "        text-align: right;\n",
       "    }\n",
       "\n",
       "    .dataframe thead th {\n",
       "        text-align: left;\n",
       "    }\n",
       "\n",
       "    .dataframe tbody tr th {\n",
       "        vertical-align: top;\n",
       "    }\n",
       "</style>\n",
       "<table border=\"1\" class=\"dataframe\">\n",
       "  <thead>\n",
       "    <tr style=\"text-align: right;\">\n",
       "      <th></th>\n",
       "      <th>url_name</th>\n",
       "      <th>launched_at</th>\n",
       "      <th>launch_datetime</th>\n",
       "      <th>db_start_time</th>\n",
       "    </tr>\n",
       "  </thead>\n",
       "  <tbody>\n",
       "    <tr>\n",
       "      <th>6076</th>\n",
       "      <td>bring-me-mishis-strudel</td>\n",
       "      <td>1456931788</td>\n",
       "      <td>2016-03-02 15:16:28</td>\n",
       "      <td>NaN</td>\n",
       "    </tr>\n",
       "    <tr>\n",
       "      <th>1341</th>\n",
       "      <td>tales-a-cautionary-story-about-heroin-addiction</td>\n",
       "      <td>1444510736</td>\n",
       "      <td>2015-10-10 20:58:56</td>\n",
       "      <td>2015-10-10</td>\n",
       "    </tr>\n",
       "    <tr>\n",
       "      <th>12988</th>\n",
       "      <td>angelarium-book-of-watchers</td>\n",
       "      <td>1467293380</td>\n",
       "      <td>2016-06-30 13:29:40</td>\n",
       "      <td>2016-06-30</td>\n",
       "    </tr>\n",
       "    <tr>\n",
       "      <th>13196</th>\n",
       "      <td>sky-reach-youth-space-initiative</td>\n",
       "      <td>1467139585</td>\n",
       "      <td>2016-06-28 18:46:25</td>\n",
       "      <td>NaN</td>\n",
       "    </tr>\n",
       "    <tr>\n",
       "      <th>27032</th>\n",
       "      <td>nocturne-2</td>\n",
       "      <td>1496598222</td>\n",
       "      <td>2017-06-04 17:43:42</td>\n",
       "      <td>2017-06-04</td>\n",
       "    </tr>\n",
       "  </tbody>\n",
       "</table>\n",
       "</div>"
      ],
      "text/plain": [
       "                                              url_name  launched_at  \\\n",
       "6076                           bring-me-mishis-strudel   1456931788   \n",
       "1341   tales-a-cautionary-story-about-heroin-addiction   1444510736   \n",
       "12988                      angelarium-book-of-watchers   1467293380   \n",
       "13196                 sky-reach-youth-space-initiative   1467139585   \n",
       "27032                                       nocturne-2   1496598222   \n",
       "\n",
       "          launch_datetime db_start_time  \n",
       "6076  2016-03-02 15:16:28           NaN  \n",
       "1341  2015-10-10 20:58:56    2015-10-10  \n",
       "12988 2016-06-30 13:29:40    2016-06-30  \n",
       "13196 2016-06-28 18:46:25           NaN  \n",
       "27032 2017-06-04 17:43:42    2017-06-04  "
      ]
     },
     "execution_count": 159,
     "metadata": {},
     "output_type": "execute_result"
    }
   ],
   "source": [
    "# convert unix timestamp to datetime\n",
    "df['launch_datetime'] = pd.to_datetime(df['launched_at'], unit='s')\n",
    "df[['url_name','launched_at','launch_datetime', 'db_start_time']].sample(5)"
   ]
  },
  {
   "cell_type": "markdown",
   "metadata": {},
   "source": [
    "#### 2.1 year"
   ]
  },
  {
   "cell_type": "code",
   "execution_count": 160,
   "metadata": {
    "collapsed": true
   },
   "outputs": [],
   "source": [
    "df['launch_year'] = df['launch_datetime'].dt.year"
   ]
  },
  {
   "cell_type": "code",
   "execution_count": 161,
   "metadata": {},
   "outputs": [
    {
     "data": {
      "text/plain": [
       "<matplotlib.axes._subplots.AxesSubplot at 0x1302e631da0>"
      ]
     },
     "execution_count": 161,
     "metadata": {},
     "output_type": "execute_result"
    },
    {
     "data": {
      "image/png": "[encoded data removed]",
      "text/plain": [
       "<matplotlib.figure.Figure at 0x130225fe860>"
      ]
     },
     "metadata": {},
     "output_type": "display_data"
    }
   ],
   "source": [
    "pd.crosstab(index=df['launch_year'], columns=df['state_end']).plot.bar(stacked=False, color=['orange', 'royalblue'], figsize=(20,10))"
   ]
  },
  {
   "cell_type": "markdown",
   "metadata": {},
   "source": [
    "#### 2.2 month"
   ]
  },
  {
   "cell_type": "code",
   "execution_count": 162,
   "metadata": {
    "collapsed": true
   },
   "outputs": [],
   "source": [
    "df['launch_month'] = df['launch_datetime'].dt.month"
   ]
  },
  {
   "cell_type": "code",
   "execution_count": 163,
   "metadata": {},
   "outputs": [
    {
     "data": {
      "text/plain": [
       "<matplotlib.axes._subplots.AxesSubplot at 0x1302e7bc908>"
      ]
     },
     "execution_count": 163,
     "metadata": {},
     "output_type": "execute_result"
    },
    {
     "data": {
      "image/png": "[encoded data removed]",
      "text/plain": [
       "<matplotlib.figure.Figure at 0x13022517ac8>"
      ]
     },
     "metadata": {},
     "output_type": "display_data"
    }
   ],
   "source": [
    "pd.crosstab(index=df['deadline_month'], columns=df['state_end']).plot.bar(stacked=False, color=['orange', 'royalblue'], figsize=(20,10))"
   ]
  },
  {
   "cell_type": "markdown",
   "metadata": {},
   "source": [
    "#### 2.3 day"
   ]
  },
  {
   "cell_type": "code",
   "execution_count": 164,
   "metadata": {
    "collapsed": true
   },
   "outputs": [],
   "source": [
    "df['launch_day'] = df['launch_datetime'].dt.day"
   ]
  },
  {
   "cell_type": "code",
   "execution_count": 165,
   "metadata": {},
   "outputs": [
    {
     "data": {
      "text/plain": [
       "<matplotlib.axes._subplots.AxesSubplot at 0x1302e897b70>"
      ]
     },
     "execution_count": 165,
     "metadata": {},
     "output_type": "execute_result"
    },
    {
     "data": {
      "image/png": "[encoded data removed]",
      "text/plain": [
       "<matplotlib.figure.Figure at 0x1302e8a04e0>"
      ]
     },
     "metadata": {},
     "output_type": "display_data"
    }
   ],
   "source": [
    "pd.crosstab(index=df['deadline_day'], columns=df['state_end']).plot.bar(stacked=False, color=['orange', 'royalblue'], figsize=(20,10))"
   ]
  },
  {
   "cell_type": "markdown",
   "metadata": {},
   "source": [
    "#### 2.4 day of week"
   ]
  },
  {
   "cell_type": "code",
   "execution_count": 166,
   "metadata": {
    "collapsed": true
   },
   "outputs": [],
   "source": [
    "df['launch_dayofweek'] = df['launch_datetime'].dt.dayofweek"
   ]
  },
  {
   "cell_type": "code",
   "execution_count": 167,
   "metadata": {},
   "outputs": [
    {
     "data": {
      "text/plain": [
       "<matplotlib.axes._subplots.AxesSubplot at 0x1302f299ac8>"
      ]
     },
     "execution_count": 167,
     "metadata": {},
     "output_type": "execute_result"
    },
    {
     "data": {
      "image/png": "[encoded data removed]",
      "text/plain": [
       "<matplotlib.figure.Figure at 0x1302f2ad828>"
      ]
     },
     "metadata": {},
     "output_type": "display_data"
    }
   ],
   "source": [
    "pd.crosstab(index=df['deadline_dayofweek'], columns=df['state_end']).plot.bar(stacked=False, color=['orange', 'royalblue'], figsize=(20,10))"
   ]
  },
  {
   "cell_type": "markdown",
   "metadata": {},
   "source": [
    "#### 2.5 hour"
   ]
  },
  {
   "cell_type": "code",
   "execution_count": 168,
   "metadata": {
    "collapsed": true
   },
   "outputs": [],
   "source": [
    "df['launch_hour'] = df['launch_datetime'].dt.hour"
   ]
  },
  {
   "cell_type": "code",
   "execution_count": 169,
   "metadata": {},
   "outputs": [
    {
     "data": {
      "text/plain": [
       "<matplotlib.axes._subplots.AxesSubplot at 0x1302f944b70>"
      ]
     },
     "execution_count": 169,
     "metadata": {},
     "output_type": "execute_result"
    },
    {
     "data": {
      "image/png": "[encoded data removed]",
      "text/plain": [
       "<matplotlib.figure.Figure at 0x1302f8efcc0>"
      ]
     },
     "metadata": {},
     "output_type": "display_data"
    }
   ],
   "source": [
    "pd.crosstab(index=df['deadline_hour'], columns=df['state_end']).plot.bar(stacked=False, color=['orange', 'royalblue'], figsize=(20,10))"
   ]
  },
  {
   "cell_type": "code",
   "execution_count": null,
   "metadata": {
    "collapsed": true
   },
   "outputs": [],
   "source": []
  },
  {
   "cell_type": "code",
   "execution_count": null,
   "metadata": {
    "collapsed": true
   },
   "outputs": [],
   "source": []
  },
  {
   "cell_type": "markdown",
   "metadata": {},
   "source": [
    "### 3. facebook shares"
   ]
  },
  {
   "cell_type": "code",
   "execution_count": 170,
   "metadata": {
    "collapsed": true
   },
   "outputs": [],
   "source": [
    "plt.rcParams['figure.figsize'] = (20,10)"
   ]
  },
  {
   "cell_type": "code",
   "execution_count": 171,
   "metadata": {},
   "outputs": [
    {
     "data": {
      "text/plain": [
       "count     30702.000000\n",
       "mean        382.737411\n",
       "std        1825.706968\n",
       "min           0.000000\n",
       "25%           9.000000\n",
       "50%          77.000000\n",
       "75%         290.000000\n",
       "max      108071.000000\n",
       "Name: db_fb_shares_count, dtype: float64"
      ]
     },
     "execution_count": 171,
     "metadata": {},
     "output_type": "execute_result"
    }
   ],
   "source": [
    "df['db_fb_shares_count'].describe()"
   ]
  },
  {
   "cell_type": "code",
   "execution_count": 172,
   "metadata": {},
   "outputs": [
    {
     "data": {
      "text/plain": [
       "<matplotlib.axes._subplots.AxesSubplot at 0x1302fcac2e8>"
      ]
     },
     "execution_count": 172,
     "metadata": {},
     "output_type": "execute_result"
    },
    {
     "data": {
      "image/png": "[encoded data removed]",
      "text/plain": [
       "<matplotlib.figure.Figure at 0x13022644e10>"
      ]
     },
     "metadata": {},
     "output_type": "display_data"
    }
   ],
   "source": [
    "sns.boxplot(data=df, y='db_fb_shares_count', x='class')"
   ]
  },
  {
   "cell_type": "code",
   "execution_count": 173,
   "metadata": {},
   "outputs": [
    {
     "data": {
      "text/plain": [
       "(-100, 1600)"
      ]
     },
     "execution_count": 173,
     "metadata": {},
     "output_type": "execute_result"
    },
    {
     "data": {
      "image/png": "[encoded data removed]",
      "text/plain": [
       "<matplotlib.figure.Figure at 0x1302f5a3898>"
      ]
     },
     "metadata": {},
     "output_type": "display_data"
    }
   ],
   "source": [
    "sns.boxplot(data=df, y='db_fb_shares_count', x='class')\n",
    "plt.ylim((-100,1600))"
   ]
  },
  {
   "cell_type": "code",
   "execution_count": 174,
   "metadata": {},
   "outputs": [
    {
     "data": {
      "text/plain": [
       "db_fb_shares_count                       1.000000\n",
       "usd_pledged_end                          0.532433\n",
       "pledged_end                              0.476600\n",
       "db_pledged                               0.476600\n",
       "usd_pledged                              0.475299\n",
       "backers_count_end                        0.455001\n",
       "pledged                                  0.435585\n",
       "db_comments_count                        0.425622\n",
       "backers_count                            0.415224\n",
       "updates_likes_max_while_scraping         0.363069\n",
       "updates_likes_sum_while_scraping         0.359394\n",
       "updates_likes_mean_while_scraping        0.352924\n",
       "updates_likes_median_while_scraping      0.343648\n",
       "comments_count_public_while_scraping     0.336174\n",
       "comments_count_creator_while_scraping    0.316102\n",
       "updates_likes_min_while_scraping         0.286362\n",
       "db_faq_count                             0.263134\n",
       "ratio_pledged_end_goal                   0.239336\n",
       "db_updates_count                         0.236754\n",
       "faq_count_while_scraping                 0.232721\n",
       "ratio_pledged_goal                       0.205294\n",
       "db_project_we_love                       0.181728\n",
       "class                                    0.173188\n",
       "db_backers_count                         0.164343\n",
       "spotlight_end                            0.156468\n",
       "updates_count_while_scraping             0.154693\n",
       "average_pledge                           0.101872\n",
       "average_pledge_end                       0.087273\n",
       "launch_dayofweek                         0.037559\n",
       "days_preparation                         0.032268\n",
       "                                           ...   \n",
       "launch_hour                              0.011658\n",
       "deadline_day                             0.008830\n",
       "deadline_year                            0.008469\n",
       "launch_month                             0.006028\n",
       "launch_year                              0.005129\n",
       "days_remaining                           0.004887\n",
       "launch_day                               0.004534\n",
       "id                                       0.004148\n",
       "days_duration                            0.003892\n",
       "db_goal                                  0.003539\n",
       "goal                                     0.003539\n",
       "scraped_at                               0.003205\n",
       "launched_at                              0.003136\n",
       "state_changed_at                         0.003136\n",
       "usd_goal                                 0.003117\n",
       "state_changed_at_end                     0.002897\n",
       "deadline_end                             0.002897\n",
       "deadline_dayofweek                       0.002497\n",
       "db_duration                              0.002459\n",
       "ratio_running_duration                   0.002290\n",
       "days_running                             0.001043\n",
       "ID                                       0.000825\n",
       "static_usd_rate                          0.000796\n",
       "static_usd_rate_end                      0.000792\n",
       "db_fb_comments_count                          NaN\n",
       "db_hours_remaining                            NaN\n",
       "disable_communication                         NaN\n",
       "disable_communication_end                     NaN\n",
       "location_is_root                              NaN\n",
       "spotlight                                     NaN\n",
       "Name: db_fb_shares_count, Length: 70, dtype: float64"
      ]
     },
     "execution_count": 174,
     "metadata": {},
     "output_type": "execute_result"
    }
   ],
   "source": [
    "df.corr()['db_fb_shares_count'].abs().sort_values(ascending=False)"
   ]
  },
  {
   "cell_type": "code",
   "execution_count": 175,
   "metadata": {},
   "outputs": [
    {
     "name": "stdout",
     "output_type": "stream",
     "text": [
      "Pearson correlation: 0.532\n"
     ]
    },
    {
     "data": {
      "image/png": "[encoded data removed]",
      "text/plain": [
       "<matplotlib.figure.Figure at 0x1300323fa58>"
      ]
     },
     "metadata": {},
     "output_type": "display_data"
    }
   ],
   "source": [
    "attr = 'usd_pledged_end' \n",
    "sns.regplot(x=\"db_fb_shares_count\", y=attr, data=df)\n",
    "print(\"Pearson correlation: %.3f\" % df['db_fb_shares_count'].corr(df[attr]))"
   ]
  },
  {
   "cell_type": "code",
   "execution_count": 176,
   "metadata": {},
   "outputs": [
    {
     "data": {
      "text/plain": [
       "8859           udoo-x86-the-most-powerful-maker-board-ever\n",
       "8860           udoo-x86-the-most-powerful-maker-board-ever\n",
       "18063                      scream-a-new-beginning-fan-film\n",
       "19863          tenkiv-nexus-solving-the-clean-water-crisis\n",
       "23745    zetime-worlds-first-smartwatch-with-hands-over...\n",
       "Name: url_name, dtype: object"
      ]
     },
     "execution_count": 176,
     "metadata": {},
     "output_type": "execute_result"
    }
   ],
   "source": [
    "df[df.db_fb_shares_count > 60000]['url_name']"
   ]
  },
  {
   "cell_type": "markdown",
   "metadata": {},
   "source": [
    "### 4. count of images"
   ]
  },
  {
   "cell_type": "code",
   "execution_count": 177,
   "metadata": {},
   "outputs": [],
   "source": [
    "df['image_count'] = df['db_description_full'].apply(lambda x: str(x).count('<img'))"
   ]
  },
  {
   "cell_type": "code",
   "execution_count": 178,
   "metadata": {},
   "outputs": [
    {
     "data": {
      "text/plain": [
       "0      12543\n",
       "3       1428\n",
       "1       1410\n",
       "4       1340\n",
       "5       1240\n",
       "2       1224\n",
       "6       1106\n",
       "7        927\n",
       "8        833\n",
       "9        761\n",
       "10       701\n",
       "11       550\n",
       "12       540\n",
       "13       472\n",
       "14       420\n",
       "15       390\n",
       "16       369\n",
       "18       306\n",
       "17       287\n",
       "19       273\n",
       "20       249\n",
       "21       232\n",
       "22       213\n",
       "24       200\n",
       "23       193\n",
       "26       165\n",
       "25       160\n",
       "27       145\n",
       "28       130\n",
       "29       122\n",
       "       ...  \n",
       "81         5\n",
       "78         4\n",
       "92         4\n",
       "96         4\n",
       "83         4\n",
       "72         3\n",
       "75         3\n",
       "100        3\n",
       "69         3\n",
       "103        3\n",
       "86         3\n",
       "79         2\n",
       "76         2\n",
       "98         2\n",
       "84         2\n",
       "90         2\n",
       "87         2\n",
       "94         1\n",
       "77         1\n",
       "102        1\n",
       "112        1\n",
       "88         1\n",
       "91         1\n",
       "115        1\n",
       "120        1\n",
       "106        1\n",
       "185        1\n",
       "89         1\n",
       "82         1\n",
       "99         1\n",
       "Name: image_count, Length: 103, dtype: int64"
      ]
     },
     "execution_count": 178,
     "metadata": {},
     "output_type": "execute_result"
    }
   ],
   "source": [
    "df['image_count'].value_counts()"
   ]
  },
  {
   "cell_type": "code",
   "execution_count": 179,
   "metadata": {},
   "outputs": [
    {
     "data": {
      "text/html": [
       "<div>\n",
       "<style>\n",
       "    .dataframe thead tr:only-child th {\n",
       "        text-align: right;\n",
       "    }\n",
       "\n",
       "    .dataframe thead th {\n",
       "        text-align: left;\n",
       "    }\n",
       "\n",
       "    .dataframe tbody tr th {\n",
       "        vertical-align: top;\n",
       "    }\n",
       "</style>\n",
       "<table border=\"1\" class=\"dataframe\">\n",
       "  <thead>\n",
       "    <tr style=\"text-align: right;\">\n",
       "      <th></th>\n",
       "      <th>url_name</th>\n",
       "      <th>image_count</th>\n",
       "    </tr>\n",
       "  </thead>\n",
       "  <tbody>\n",
       "    <tr>\n",
       "      <th>19800</th>\n",
       "      <td>the-worlds-smartest-modular-wifi-bluetooth-wea...</td>\n",
       "      <td>185</td>\n",
       "    </tr>\n",
       "  </tbody>\n",
       "</table>\n",
       "</div>"
      ],
      "text/plain": [
       "                                                url_name  image_count\n",
       "19800  the-worlds-smartest-modular-wifi-bluetooth-wea...          185"
      ]
     },
     "execution_count": 179,
     "metadata": {},
     "output_type": "execute_result"
    }
   ],
   "source": [
    "df[df['image_count'] > 150][['url_name', 'image_count']]"
   ]
  },
  {
   "cell_type": "code",
   "execution_count": 180,
   "metadata": {
    "collapsed": true
   },
   "outputs": [],
   "source": [
    "static_data.append('image_count')"
   ]
  },
  {
   "cell_type": "markdown",
   "metadata": {},
   "source": [
    "### 5. count of videos"
   ]
  },
  {
   "cell_type": "markdown",
   "metadata": {},
   "source": [
    "#### 5.1 kickstarter videos"
   ]
  },
  {
   "cell_type": "code",
   "execution_count": 181,
   "metadata": {
    "collapsed": true
   },
   "outputs": [],
   "source": [
    "df['video_kickstarter_count'] = df['db_description_full'].apply(lambda x: str(x).count('<video'))"
   ]
  },
  {
   "cell_type": "code",
   "execution_count": 182,
   "metadata": {},
   "outputs": [
    {
     "data": {
      "text/plain": [
       "0     28166\n",
       "1      1461\n",
       "2       537\n",
       "3       208\n",
       "4       156\n",
       "5        64\n",
       "6        43\n",
       "7        34\n",
       "8        14\n",
       "9         8\n",
       "11        4\n",
       "12        3\n",
       "10        3\n",
       "13        1\n",
       "Name: video_kickstarter_count, dtype: int64"
      ]
     },
     "execution_count": 182,
     "metadata": {},
     "output_type": "execute_result"
    }
   ],
   "source": [
    "df['video_kickstarter_count'].value_counts()"
   ]
  },
  {
   "cell_type": "code",
   "execution_count": 183,
   "metadata": {
    "collapsed": true
   },
   "outputs": [],
   "source": [
    "static_data.append('video_kickstarter_count')"
   ]
  },
  {
   "cell_type": "markdown",
   "metadata": {},
   "source": [
    "#### 5.2 youtube videos"
   ]
  },
  {
   "cell_type": "code",
   "execution_count": 184,
   "metadata": {
    "collapsed": true
   },
   "outputs": [],
   "source": [
    "df['video_youtube_count'] = df['db_description_full'].apply(lambda x: str(x).count('src=\"https://www.youtube.com/embed/'))"
   ]
  },
  {
   "cell_type": "code",
   "execution_count": 185,
   "metadata": {},
   "outputs": [
    {
     "data": {
      "text/plain": [
       "0     28462\n",
       "1      1266\n",
       "2       422\n",
       "3       231\n",
       "4       145\n",
       "5        80\n",
       "6        42\n",
       "7        14\n",
       "8        11\n",
       "10        7\n",
       "11        6\n",
       "12        5\n",
       "9         4\n",
       "17        2\n",
       "13        2\n",
       "14        1\n",
       "16        1\n",
       "15        1\n",
       "Name: video_youtube_count, dtype: int64"
      ]
     },
     "execution_count": 185,
     "metadata": {},
     "output_type": "execute_result"
    }
   ],
   "source": [
    "df['video_youtube_count'].value_counts()"
   ]
  },
  {
   "cell_type": "code",
   "execution_count": 186,
   "metadata": {},
   "outputs": [
    {
     "data": {
      "text/plain": [
       "1728                      the-wearable-camera-for-athletes\n",
       "1789     7bot-a-powerful-desktop-robot-arm-for-future-i...\n",
       "16299    fizzics-waytap-untap-the-full-taste-of-beer-wi...\n",
       "Name: url_name, dtype: object"
      ]
     },
     "execution_count": 186,
     "metadata": {},
     "output_type": "execute_result"
    }
   ],
   "source": [
    "df[df['video_youtube_count'] > 15]['url_name']"
   ]
  },
  {
   "cell_type": "code",
   "execution_count": 187,
   "metadata": {
    "collapsed": true
   },
   "outputs": [],
   "source": [
    "static_data.append('video_youtube_count')"
   ]
  },
  {
   "cell_type": "markdown",
   "metadata": {},
   "source": [
    "#### 5.3 videos total (kickstarter + youtube)"
   ]
  },
  {
   "cell_type": "code",
   "execution_count": 188,
   "metadata": {
    "collapsed": true
   },
   "outputs": [],
   "source": [
    "df['video_count'] = df['video_kickstarter_count'] + df['video_youtube_count']"
   ]
  },
  {
   "cell_type": "code",
   "execution_count": 189,
   "metadata": {},
   "outputs": [
    {
     "data": {
      "text/plain": [
       "0     26310\n",
       "1      2305\n",
       "2       907\n",
       "3       457\n",
       "4       322\n",
       "5       163\n",
       "6       100\n",
       "7        37\n",
       "8        29\n",
       "9        24\n",
       "10       16\n",
       "11       11\n",
       "13        9\n",
       "12        7\n",
       "16        2\n",
       "19        1\n",
       "17        1\n",
       "14        1\n",
       "Name: video_count, dtype: int64"
      ]
     },
     "execution_count": 189,
     "metadata": {},
     "output_type": "execute_result"
    }
   ],
   "source": [
    "df['video_count'].value_counts()"
   ]
  },
  {
   "cell_type": "code",
   "execution_count": 190,
   "metadata": {
    "collapsed": true
   },
   "outputs": [],
   "source": [
    "static_data.append('video_count')"
   ]
  },
  {
   "cell_type": "markdown",
   "metadata": {},
   "source": [
    "### 6. count of audio"
   ]
  },
  {
   "cell_type": "code",
   "execution_count": 191,
   "metadata": {
    "collapsed": true
   },
   "outputs": [],
   "source": [
    "df['audio_count'] = df['db_description_full'].apply(lambda x: str(x).count('<audio'))"
   ]
  },
  {
   "cell_type": "code",
   "execution_count": 192,
   "metadata": {},
   "outputs": [
    {
     "data": {
      "text/plain": [
       "0     30299\n",
       "1       254\n",
       "2        64\n",
       "3        47\n",
       "4        16\n",
       "5         8\n",
       "6         5\n",
       "7         4\n",
       "8         2\n",
       "11        1\n",
       "10        1\n",
       "9         1\n",
       "Name: audio_count, dtype: int64"
      ]
     },
     "execution_count": 192,
     "metadata": {},
     "output_type": "execute_result"
    }
   ],
   "source": [
    "df['audio_count'].value_counts()"
   ]
  },
  {
   "cell_type": "code",
   "execution_count": 193,
   "metadata": {},
   "outputs": [
    {
     "data": {
      "text/plain": [
       "20143    professor-grownup-cthulhu-album-for-kids\n",
       "Name: url_name, dtype: object"
      ]
     },
     "execution_count": 193,
     "metadata": {},
     "output_type": "execute_result"
    }
   ],
   "source": [
    "df[df['audio_count'] > 10]['url_name']"
   ]
  },
  {
   "cell_type": "code",
   "execution_count": 194,
   "metadata": {
    "collapsed": true
   },
   "outputs": [],
   "source": [
    "static_data.append('audio_count')"
   ]
  },
  {
   "cell_type": "markdown",
   "metadata": {},
   "source": [
    "### 7. other embeded content"
   ]
  },
  {
   "cell_type": "code",
   "execution_count": 195,
   "metadata": {
    "collapsed": true
   },
   "outputs": [],
   "source": [
    "# can be literally anything - video, playlist, etc.\n",
    "df['other_embeded_count'] = df['db_description_full'].apply(lambda x: str(x).count('<iframe'))"
   ]
  },
  {
   "cell_type": "code",
   "execution_count": 196,
   "metadata": {
    "collapsed": true
   },
   "outputs": [],
   "source": [
    "df['other_embeded_count'] = (df['other_embeded_count'] - df['video_youtube_count'])"
   ]
  },
  {
   "cell_type": "code",
   "execution_count": 197,
   "metadata": {},
   "outputs": [
    {
     "data": {
      "text/plain": [
       " 0     29891\n",
       " 1       536\n",
       " 2       138\n",
       " 3        61\n",
       " 4        20\n",
       " 5        18\n",
       " 6        15\n",
       " 8         7\n",
       " 7         5\n",
       " 10        3\n",
       " 9         3\n",
       " 12        2\n",
       " 22        2\n",
       "-1         1\n",
       "Name: other_embeded_count, dtype: int64"
      ]
     },
     "execution_count": 197,
     "metadata": {},
     "output_type": "execute_result"
    }
   ],
   "source": [
    "df['other_embeded_count'].value_counts()"
   ]
  },
  {
   "cell_type": "code",
   "execution_count": 198,
   "metadata": {},
   "outputs": [
    {
     "data": {
      "text/plain": [
       "1003    brad-jurjens-first-solo-album\n",
       "Name: url_name, dtype: object"
      ]
     },
     "execution_count": 198,
     "metadata": {},
     "output_type": "execute_result"
    }
   ],
   "source": [
    "df[df['other_embeded_count'] < 0]['url_name']"
   ]
  },
  {
   "cell_type": "code",
   "execution_count": 199,
   "metadata": {},
   "outputs": [],
   "source": [
    "# there is no other embeded content - author did not use iframe as expected\n",
    "df.loc[1003, 'other_embeded_count'] = 0"
   ]
  },
  {
   "cell_type": "code",
   "execution_count": 200,
   "metadata": {
    "collapsed": true
   },
   "outputs": [],
   "source": [
    "static_data.append('other_embeded_count')"
   ]
  },
  {
   "cell_type": "code",
   "execution_count": null,
   "metadata": {
    "collapsed": true
   },
   "outputs": [],
   "source": []
  },
  {
   "cell_type": "markdown",
   "metadata": {},
   "source": [
    "## Feature transformation"
   ]
  },
  {
   "cell_type": "markdown",
   "metadata": {},
   "source": [
    "### 1. db_image_url"
   ]
  },
  {
   "cell_type": "markdown",
   "metadata": {},
   "source": [
    "Transform as follows:\n",
    "* 0 where url is missing\n",
    "* 1 otherwise"
   ]
  },
  {
   "cell_type": "code",
   "execution_count": 201,
   "metadata": {},
   "outputs": [
    {
     "data": {
      "text/plain": [
       "count                                                 21414\n",
       "unique                                                18820\n",
       "top       https://ksr-ugc.imgix.net/assets/012/412/223/7...\n",
       "freq                                                      3\n",
       "Name: db_image_url, dtype: object"
      ]
     },
     "execution_count": 201,
     "metadata": {},
     "output_type": "execute_result"
    }
   ],
   "source": [
    "df.db_image_url.describe()"
   ]
  },
  {
   "cell_type": "code",
   "execution_count": 202,
   "metadata": {
    "collapsed": true
   },
   "outputs": [],
   "source": [
    "df.db_image_url.fillna(0, inplace=True)"
   ]
  },
  {
   "cell_type": "code",
   "execution_count": 203,
   "metadata": {
    "collapsed": true
   },
   "outputs": [],
   "source": [
    "df.db_image_url = df.db_image_url.apply(lambda x: int(len(str(x)) > 1))"
   ]
  },
  {
   "cell_type": "code",
   "execution_count": 204,
   "metadata": {
    "collapsed": true
   },
   "outputs": [],
   "source": [
    "df.rename(index=str, columns={\"db_image_url\": \"db_image\"}, inplace=True)"
   ]
  },
  {
   "cell_type": "code",
   "execution_count": 205,
   "metadata": {},
   "outputs": [
    {
     "data": {
      "text/plain": [
       "1    21414\n",
       "0     9288\n",
       "Name: db_image, dtype: int64"
      ]
     },
     "execution_count": 205,
     "metadata": {},
     "output_type": "execute_result"
    }
   ],
   "source": [
    "df.db_image.value_counts()"
   ]
  },
  {
   "cell_type": "code",
   "execution_count": 206,
   "metadata": {
    "collapsed": true
   },
   "outputs": [],
   "source": [
    "static_data.remove('db_image_url')\n",
    "#static_data.append('db_image')"
   ]
  },
  {
   "cell_type": "code",
   "execution_count": 207,
   "metadata": {},
   "outputs": [
    {
     "data": {
      "text/plain": [
       "10                                                designed\n",
       "32         the-hue-colorlink-the-color-wheel-of-the-future\n",
       "43                            cairo-tattoo-convention-2015\n",
       "61                                 ggs-launch-to-animation\n",
       "62                       vellebe-ink-tattoos-and-piercings\n",
       "64                                   life-size-maze-puzzle\n",
       "81                                       nomi-get-drawn-in\n",
       "94               3-pixel-and-bead-crafts-sprites-for-all-0\n",
       "96             vudu-tarot-afro-caribbean-art-in-your-hands\n",
       "97                 game-and-digital-art-museum-and-gallery\n",
       "122      landscape-ring-with-six-stones-its-really-beau...\n",
       "125         the-wren-windsong-an-interactive-bonsai-studio\n",
       "127                                bodies-create-sculpture\n",
       "129                     maui-trapeze-flying-trapeze-school\n",
       "131               our-gift-for-the-future-canada-1867-2017\n",
       "135      faux-fest-the-greatest-music-festival-you-neve...\n",
       "145                            artworks-beautify-the-place\n",
       "147      elvis-inspires-irish-wall-of-death-eat-the-pea...\n",
       "163                        orgonite-healing-art-sculptures\n",
       "166                              the-art-of-german-impache\n",
       "168                               jason-stahl-seahawks-art\n",
       "170      portaplanter-healthier-easier-and-greener-plan...\n",
       "175               og-prints-startup-a-printmaking-campaign\n",
       "208                    start-up-funding-for-muriels-crafts\n",
       "215      the-vinyl-rescue-new-life-for-old-tunes-for-young\n",
       "219              flowers-by-number-diy-flower-arrangements\n",
       "234                                           classy-glass\n",
       "259           the-blind-raven-wands-and-wizarding-woodwork\n",
       "269      hazel-coppice-craftsman-hurdle-maker-and-craft...\n",
       "286                              nongre-crafts-and-culture\n",
       "                               ...                        \n",
       "30580    unirack-the-worlds-first-universal-rack-for-bi...\n",
       "30581    tabelt-the-innovate-carrying-strap-for-every-t...\n",
       "30594                                            phonecell\n",
       "30595                    project-titan-by-destroyer-brands\n",
       "30596    magphone-the-worlds-first-flawless-portable-phone\n",
       "30597                     ultimate-toolbox-security-system\n",
       "30598           olli-worlds-first-powered-smartphone-caddy\n",
       "30599     advanced-light-system-reduces-acne-and-blemishes\n",
       "30602                        armi-assistive-technology-arm\n",
       "30606    the-clampadre-usb-charger-add-on-for-wildland-...\n",
       "30608    wubs-case-ltd-phase-1-join-my-concept-to-proto...\n",
       "30609    lmp-for-christmas-light-up-your-home-with-our-...\n",
       "30612                                   16-beat-headphones\n",
       "30616                                      teddy-bear-time\n",
       "30617                          mix-duo-keep-on-listeningtm\n",
       "30621                               esp8266-internet-radio\n",
       "30622                    hussi-wire-and-wireless-earphones\n",
       "30623    waveg-monophonic-analog-synthesizer-step-seque...\n",
       "30624                    le-piano-phoenix-prestige-at-hand\n",
       "30638     robotics-by-simulation-based-ai-leapspeciesspace\n",
       "30641                       can-of-whoop-kickstart-the-can\n",
       "30644    one-earth-message-a-digital-voyager-golden-record\n",
       "30649         prolivio-the-coolest-headband-on-kickstarter\n",
       "30652            fresh-ups-the-freshest-insole-of-all-time\n",
       "30653    carah-the-stylish-safety-watch-help-is-just-a-...\n",
       "30658                headnoise-fit-never-miss-a-beat-again\n",
       "30661                      the-story-of-us-a-concept-album\n",
       "30664                                  the-thing-about-men\n",
       "30667    agua-musica-para-la-voz-arte-laboratorio-la-rueca\n",
       "30686    dusk-a-wave-of-words-across-the-uk-for-winter-...\n",
       "Name: url_name, Length: 5321, dtype: object"
      ]
     },
     "execution_count": 207,
     "metadata": {},
     "output_type": "execute_result"
    }
   ],
   "source": [
    "# wrong\n",
    "df[(df['db_image'] == 0) & (df['image_count'] !=0)]['url_name']"
   ]
  },
  {
   "cell_type": "markdown",
   "metadata": {},
   "source": [
    "### 2. db_video_url"
   ]
  },
  {
   "cell_type": "markdown",
   "metadata": {},
   "source": [
    "Transform as follows:\n",
    "* 0 where url is missing\n",
    "* 1 otherwise"
   ]
  },
  {
   "cell_type": "code",
   "execution_count": 208,
   "metadata": {},
   "outputs": [
    {
     "data": {
      "text/plain": [
       "count                                                 20443\n",
       "unique                                                17985\n",
       "top       https://ksr-video.imgix.net/projects/2377843/v...\n",
       "freq                                                      3\n",
       "Name: db_video_url, dtype: object"
      ]
     },
     "execution_count": 208,
     "metadata": {},
     "output_type": "execute_result"
    }
   ],
   "source": [
    "df.db_video_url.describe()"
   ]
  },
  {
   "cell_type": "code",
   "execution_count": 209,
   "metadata": {
    "collapsed": true
   },
   "outputs": [],
   "source": [
    "df.db_video_url.fillna(0, inplace=True)"
   ]
  },
  {
   "cell_type": "code",
   "execution_count": 210,
   "metadata": {
    "collapsed": true
   },
   "outputs": [],
   "source": [
    "df.db_video_url = df.db_video_url.apply(lambda x: int(len(str(x)) > 1))"
   ]
  },
  {
   "cell_type": "code",
   "execution_count": 211,
   "metadata": {
    "collapsed": true
   },
   "outputs": [],
   "source": [
    "df.rename(index=str, columns={\"db_video_url\": \"db_video\"}, inplace=True)"
   ]
  },
  {
   "cell_type": "code",
   "execution_count": 212,
   "metadata": {},
   "outputs": [
    {
     "data": {
      "text/plain": [
       "1    20443\n",
       "0    10259\n",
       "Name: db_video, dtype: int64"
      ]
     },
     "execution_count": 212,
     "metadata": {},
     "output_type": "execute_result"
    }
   ],
   "source": [
    "df.db_video.value_counts()"
   ]
  },
  {
   "cell_type": "code",
   "execution_count": 213,
   "metadata": {
    "collapsed": true
   },
   "outputs": [],
   "source": [
    "static_data.remove('db_video_url')\n",
    "#static_data.append('db_video')"
   ]
  },
  {
   "cell_type": "code",
   "execution_count": null,
   "metadata": {
    "collapsed": true
   },
   "outputs": [],
   "source": []
  },
  {
   "cell_type": "code",
   "execution_count": null,
   "metadata": {
    "collapsed": true
   },
   "outputs": [],
   "source": []
  },
  {
   "cell_type": "markdown",
   "metadata": {},
   "source": [
    "### 3. Categorical encoding"
   ]
  },
  {
   "cell_type": "code",
   "execution_count": null,
   "metadata": {
    "collapsed": true
   },
   "outputs": [],
   "source": []
  },
  {
   "cell_type": "code",
   "execution_count": 214,
   "metadata": {},
   "outputs": [
    {
     "name": "stdout",
     "output_type": "stream",
     "text": [
      "<class 'pandas.core.frame.DataFrame'>\n",
      "Index: 30702 entries, 0 to 30701\n",
      "Data columns (total 24 columns):\n",
      "blurb                      30702 non-null object\n",
      "category_name              30702 non-null object\n",
      "category_parent            30702 non-null object\n",
      "category_position          30702 non-null int64\n",
      "country                    30702 non-null object\n",
      "currency                   30702 non-null object\n",
      "days_duration              30702 non-null int64\n",
      "days_preparation           30702 non-null int64\n",
      "db_description_full        30691 non-null object\n",
      "db_duration                30702 non-null int64\n",
      "deadline_end               30702 non-null int64\n",
      "goal                       30702 non-null float64\n",
      "launched_at                30702 non-null int64\n",
      "location_name              30702 non-null object\n",
      "location_state             30702 non-null object\n",
      "location_type              30702 non-null object\n",
      "usd_goal                   30702 non-null int64\n",
      "class                      30702 non-null int64\n",
      "image_count                30702 non-null int64\n",
      "video_kickstarter_count    30702 non-null int64\n",
      "video_youtube_count        30702 non-null int64\n",
      "video_count                30702 non-null int64\n",
      "audio_count                30702 non-null int64\n",
      "other_embeded_count        30702 non-null int64\n",
      "dtypes: float64(1), int64(14), object(9)\n",
      "memory usage: 5.9+ MB\n"
     ]
    }
   ],
   "source": [
    "df[static_data].info()"
   ]
  },
  {
   "cell_type": "code",
   "execution_count": 215,
   "metadata": {
    "collapsed": true
   },
   "outputs": [],
   "source": [
    "data_to_encode = [\n",
    "    'category_name',\n",
    "    'category_parent',\n",
    "    'country',\n",
    "    'currency',\n",
    "    'location_name',\n",
    "    'location_state',\n",
    "    'location_type',\n",
    "]\n",
    "encoded = []"
   ]
  },
  {
   "cell_type": "code",
   "execution_count": 216,
   "metadata": {},
   "outputs": [
    {
     "name": "stdout",
     "output_type": "stream",
     "text": [
      "category_name 141 distinct values\n",
      "category_parent 15 distinct values\n",
      "country 22 distinct values\n",
      "currency 14 distinct values\n",
      "location_name 4705 distinct values\n",
      "location_state 609 distinct values\n",
      "location_type 9 distinct values\n"
     ]
    }
   ],
   "source": [
    "for column in data_to_encode:\n",
    "    print(column, len(df[column].value_counts()), 'distinct values')\n",
    "    encoder = ce.OrdinalEncoder()\n",
    "    df[column+'_num'] = encoder.fit_transform(df[[column]])\n",
    "    encoded.append(column+'_num')"
   ]
  },
  {
   "cell_type": "code",
   "execution_count": 217,
   "metadata": {},
   "outputs": [
    {
     "data": {
      "text/html": [
       "<div>\n",
       "<style>\n",
       "    .dataframe thead tr:only-child th {\n",
       "        text-align: right;\n",
       "    }\n",
       "\n",
       "    .dataframe thead th {\n",
       "        text-align: left;\n",
       "    }\n",
       "\n",
       "    .dataframe tbody tr th {\n",
       "        vertical-align: top;\n",
       "    }\n",
       "</style>\n",
       "<table border=\"1\" class=\"dataframe\">\n",
       "  <thead>\n",
       "    <tr style=\"text-align: right;\">\n",
       "      <th></th>\n",
       "      <th>category_name_num</th>\n",
       "      <th>category_parent_num</th>\n",
       "      <th>country_num</th>\n",
       "      <th>currency_num</th>\n",
       "      <th>location_name_num</th>\n",
       "      <th>location_state_num</th>\n",
       "      <th>location_type_num</th>\n",
       "    </tr>\n",
       "  </thead>\n",
       "  <tbody>\n",
       "    <tr>\n",
       "      <th>count</th>\n",
       "      <td>30702.000000</td>\n",
       "      <td>30702.000000</td>\n",
       "      <td>30702.000000</td>\n",
       "      <td>30702.000000</td>\n",
       "      <td>30702.000000</td>\n",
       "      <td>30702.000000</td>\n",
       "      <td>30702.000000</td>\n",
       "    </tr>\n",
       "    <tr>\n",
       "      <th>mean</th>\n",
       "      <td>59.717966</td>\n",
       "      <td>7.353169</td>\n",
       "      <td>2.274901</td>\n",
       "      <td>1.174679</td>\n",
       "      <td>850.636506</td>\n",
       "      <td>53.237053</td>\n",
       "      <td>0.240212</td>\n",
       "    </tr>\n",
       "    <tr>\n",
       "      <th>std</th>\n",
       "      <td>33.200639</td>\n",
       "      <td>3.909349</td>\n",
       "      <td>4.334961</td>\n",
       "      <td>2.340555</td>\n",
       "      <td>1133.612406</td>\n",
       "      <td>83.413457</td>\n",
       "      <td>0.876933</td>\n",
       "    </tr>\n",
       "    <tr>\n",
       "      <th>min</th>\n",
       "      <td>0.000000</td>\n",
       "      <td>0.000000</td>\n",
       "      <td>0.000000</td>\n",
       "      <td>0.000000</td>\n",
       "      <td>0.000000</td>\n",
       "      <td>0.000000</td>\n",
       "      <td>0.000000</td>\n",
       "    </tr>\n",
       "    <tr>\n",
       "      <th>25%</th>\n",
       "      <td>32.000000</td>\n",
       "      <td>4.000000</td>\n",
       "      <td>0.000000</td>\n",
       "      <td>0.000000</td>\n",
       "      <td>84.000000</td>\n",
       "      <td>9.000000</td>\n",
       "      <td>0.000000</td>\n",
       "    </tr>\n",
       "    <tr>\n",
       "      <th>50%</th>\n",
       "      <td>59.000000</td>\n",
       "      <td>8.000000</td>\n",
       "      <td>0.000000</td>\n",
       "      <td>0.000000</td>\n",
       "      <td>307.000000</td>\n",
       "      <td>22.000000</td>\n",
       "      <td>0.000000</td>\n",
       "    </tr>\n",
       "    <tr>\n",
       "      <th>75%</th>\n",
       "      <td>89.000000</td>\n",
       "      <td>11.000000</td>\n",
       "      <td>3.000000</td>\n",
       "      <td>1.000000</td>\n",
       "      <td>1163.000000</td>\n",
       "      <td>61.000000</td>\n",
       "      <td>0.000000</td>\n",
       "    </tr>\n",
       "    <tr>\n",
       "      <th>max</th>\n",
       "      <td>140.000000</td>\n",
       "      <td>14.000000</td>\n",
       "      <td>21.000000</td>\n",
       "      <td>13.000000</td>\n",
       "      <td>4704.000000</td>\n",
       "      <td>608.000000</td>\n",
       "      <td>8.000000</td>\n",
       "    </tr>\n",
       "  </tbody>\n",
       "</table>\n",
       "</div>"
      ],
      "text/plain": [
       "       category_name_num  category_parent_num   country_num  currency_num  \\\n",
       "count       30702.000000         30702.000000  30702.000000  30702.000000   \n",
       "mean           59.717966             7.353169      2.274901      1.174679   \n",
       "std            33.200639             3.909349      4.334961      2.340555   \n",
       "min             0.000000             0.000000      0.000000      0.000000   \n",
       "25%            32.000000             4.000000      0.000000      0.000000   \n",
       "50%            59.000000             8.000000      0.000000      0.000000   \n",
       "75%            89.000000            11.000000      3.000000      1.000000   \n",
       "max           140.000000            14.000000     21.000000     13.000000   \n",
       "\n",
       "       location_name_num  location_state_num  location_type_num  \n",
       "count       30702.000000        30702.000000       30702.000000  \n",
       "mean          850.636506           53.237053           0.240212  \n",
       "std          1133.612406           83.413457           0.876933  \n",
       "min             0.000000            0.000000           0.000000  \n",
       "25%            84.000000            9.000000           0.000000  \n",
       "50%           307.000000           22.000000           0.000000  \n",
       "75%          1163.000000           61.000000           0.000000  \n",
       "max          4704.000000          608.000000           8.000000  "
      ]
     },
     "execution_count": 217,
     "metadata": {},
     "output_type": "execute_result"
    }
   ],
   "source": [
    "df[encoded].describe()"
   ]
  },
  {
   "cell_type": "code",
   "execution_count": 218,
   "metadata": {},
   "outputs": [
    {
     "data": {
      "text/plain": [
       "array([ 141,   15,   22,   14, 4705,  609,    9])"
      ]
     },
     "execution_count": 218,
     "metadata": {},
     "output_type": "execute_result"
    }
   ],
   "source": [
    "enc = preprocessing.OneHotEncoder()\n",
    "enc.fit(df[encoded])\n",
    "\n",
    "# count of distinct values per each column\n",
    "enc.n_values_"
   ]
  },
  {
   "cell_type": "code",
   "execution_count": 219,
   "metadata": {},
   "outputs": [
    {
     "data": {
      "text/plain": [
       "array([   0,  141,  156,  178,  192, 4897, 5506, 5515], dtype=int32)"
      ]
     },
     "execution_count": 219,
     "metadata": {},
     "output_type": "execute_result"
    }
   ],
   "source": [
    "# index borders\n",
    "enc.feature_indices_"
   ]
  },
  {
   "cell_type": "code",
   "execution_count": 220,
   "metadata": {},
   "outputs": [
    {
     "data": {
      "text/html": [
       "<div>\n",
       "<style>\n",
       "    .dataframe thead tr:only-child th {\n",
       "        text-align: right;\n",
       "    }\n",
       "\n",
       "    .dataframe thead th {\n",
       "        text-align: left;\n",
       "    }\n",
       "\n",
       "    .dataframe tbody tr th {\n",
       "        vertical-align: top;\n",
       "    }\n",
       "</style>\n",
       "<table border=\"1\" class=\"dataframe\">\n",
       "  <thead>\n",
       "    <tr style=\"text-align: right;\">\n",
       "      <th></th>\n",
       "      <th>0</th>\n",
       "      <th>1</th>\n",
       "      <th>2</th>\n",
       "      <th>3</th>\n",
       "      <th>4</th>\n",
       "      <th>5</th>\n",
       "      <th>6</th>\n",
       "      <th>7</th>\n",
       "      <th>8</th>\n",
       "      <th>9</th>\n",
       "      <th>...</th>\n",
       "      <th>5505</th>\n",
       "      <th>5506</th>\n",
       "      <th>5507</th>\n",
       "      <th>5508</th>\n",
       "      <th>5509</th>\n",
       "      <th>5510</th>\n",
       "      <th>5511</th>\n",
       "      <th>5512</th>\n",
       "      <th>5513</th>\n",
       "      <th>5514</th>\n",
       "    </tr>\n",
       "  </thead>\n",
       "  <tbody>\n",
       "    <tr>\n",
       "      <th>0</th>\n",
       "      <td>1.0</td>\n",
       "      <td>0.0</td>\n",
       "      <td>0.0</td>\n",
       "      <td>0.0</td>\n",
       "      <td>0.0</td>\n",
       "      <td>0.0</td>\n",
       "      <td>0.0</td>\n",
       "      <td>0.0</td>\n",
       "      <td>0.0</td>\n",
       "      <td>0.0</td>\n",
       "      <td>...</td>\n",
       "      <td>0.0</td>\n",
       "      <td>1.0</td>\n",
       "      <td>0.0</td>\n",
       "      <td>0.0</td>\n",
       "      <td>0.0</td>\n",
       "      <td>0.0</td>\n",
       "      <td>0.0</td>\n",
       "      <td>0.0</td>\n",
       "      <td>0.0</td>\n",
       "      <td>0.0</td>\n",
       "    </tr>\n",
       "    <tr>\n",
       "      <th>1</th>\n",
       "      <td>1.0</td>\n",
       "      <td>0.0</td>\n",
       "      <td>0.0</td>\n",
       "      <td>0.0</td>\n",
       "      <td>0.0</td>\n",
       "      <td>0.0</td>\n",
       "      <td>0.0</td>\n",
       "      <td>0.0</td>\n",
       "      <td>0.0</td>\n",
       "      <td>0.0</td>\n",
       "      <td>...</td>\n",
       "      <td>0.0</td>\n",
       "      <td>1.0</td>\n",
       "      <td>0.0</td>\n",
       "      <td>0.0</td>\n",
       "      <td>0.0</td>\n",
       "      <td>0.0</td>\n",
       "      <td>0.0</td>\n",
       "      <td>0.0</td>\n",
       "      <td>0.0</td>\n",
       "      <td>0.0</td>\n",
       "    </tr>\n",
       "    <tr>\n",
       "      <th>2</th>\n",
       "      <td>1.0</td>\n",
       "      <td>0.0</td>\n",
       "      <td>0.0</td>\n",
       "      <td>0.0</td>\n",
       "      <td>0.0</td>\n",
       "      <td>0.0</td>\n",
       "      <td>0.0</td>\n",
       "      <td>0.0</td>\n",
       "      <td>0.0</td>\n",
       "      <td>0.0</td>\n",
       "      <td>...</td>\n",
       "      <td>0.0</td>\n",
       "      <td>1.0</td>\n",
       "      <td>0.0</td>\n",
       "      <td>0.0</td>\n",
       "      <td>0.0</td>\n",
       "      <td>0.0</td>\n",
       "      <td>0.0</td>\n",
       "      <td>0.0</td>\n",
       "      <td>0.0</td>\n",
       "      <td>0.0</td>\n",
       "    </tr>\n",
       "    <tr>\n",
       "      <th>3</th>\n",
       "      <td>1.0</td>\n",
       "      <td>0.0</td>\n",
       "      <td>0.0</td>\n",
       "      <td>0.0</td>\n",
       "      <td>0.0</td>\n",
       "      <td>0.0</td>\n",
       "      <td>0.0</td>\n",
       "      <td>0.0</td>\n",
       "      <td>0.0</td>\n",
       "      <td>0.0</td>\n",
       "      <td>...</td>\n",
       "      <td>0.0</td>\n",
       "      <td>1.0</td>\n",
       "      <td>0.0</td>\n",
       "      <td>0.0</td>\n",
       "      <td>0.0</td>\n",
       "      <td>0.0</td>\n",
       "      <td>0.0</td>\n",
       "      <td>0.0</td>\n",
       "      <td>0.0</td>\n",
       "      <td>0.0</td>\n",
       "    </tr>\n",
       "    <tr>\n",
       "      <th>4</th>\n",
       "      <td>1.0</td>\n",
       "      <td>0.0</td>\n",
       "      <td>0.0</td>\n",
       "      <td>0.0</td>\n",
       "      <td>0.0</td>\n",
       "      <td>0.0</td>\n",
       "      <td>0.0</td>\n",
       "      <td>0.0</td>\n",
       "      <td>0.0</td>\n",
       "      <td>0.0</td>\n",
       "      <td>...</td>\n",
       "      <td>0.0</td>\n",
       "      <td>1.0</td>\n",
       "      <td>0.0</td>\n",
       "      <td>0.0</td>\n",
       "      <td>0.0</td>\n",
       "      <td>0.0</td>\n",
       "      <td>0.0</td>\n",
       "      <td>0.0</td>\n",
       "      <td>0.0</td>\n",
       "      <td>0.0</td>\n",
       "    </tr>\n",
       "  </tbody>\n",
       "</table>\n",
       "<p>5 rows × 5515 columns</p>\n",
       "</div>"
      ],
      "text/plain": [
       "   0     1     2     3     4     5     6     7     8     9     ...   5505  \\\n",
       "0   1.0   0.0   0.0   0.0   0.0   0.0   0.0   0.0   0.0   0.0  ...    0.0   \n",
       "1   1.0   0.0   0.0   0.0   0.0   0.0   0.0   0.0   0.0   0.0  ...    0.0   \n",
       "2   1.0   0.0   0.0   0.0   0.0   0.0   0.0   0.0   0.0   0.0  ...    0.0   \n",
       "3   1.0   0.0   0.0   0.0   0.0   0.0   0.0   0.0   0.0   0.0  ...    0.0   \n",
       "4   1.0   0.0   0.0   0.0   0.0   0.0   0.0   0.0   0.0   0.0  ...    0.0   \n",
       "\n",
       "   5506  5507  5508  5509  5510  5511  5512  5513  5514  \n",
       "0   1.0   0.0   0.0   0.0   0.0   0.0   0.0   0.0   0.0  \n",
       "1   1.0   0.0   0.0   0.0   0.0   0.0   0.0   0.0   0.0  \n",
       "2   1.0   0.0   0.0   0.0   0.0   0.0   0.0   0.0   0.0  \n",
       "3   1.0   0.0   0.0   0.0   0.0   0.0   0.0   0.0   0.0  \n",
       "4   1.0   0.0   0.0   0.0   0.0   0.0   0.0   0.0   0.0  \n",
       "\n",
       "[5 rows x 5515 columns]"
      ]
     },
     "execution_count": 220,
     "metadata": {},
     "output_type": "execute_result"
    }
   ],
   "source": [
    "df_encoded_categorical = pd.DataFrame(enc.transform(df[encoded]).toarray())\n",
    "df_encoded_categorical.head()"
   ]
  },
  {
   "cell_type": "markdown",
   "metadata": {},
   "source": [
    "## Feature selection"
   ]
  },
  {
   "cell_type": "markdown",
   "metadata": {
    "collapsed": true
   },
   "source": [
    "apply PCA to df_encoded_categorical or its subparts?\n",
    "\n",
    "vs. to whole feature vector?"
   ]
  },
  {
   "cell_type": "code",
   "execution_count": 221,
   "metadata": {},
   "outputs": [
    {
     "name": "stdout",
     "output_type": "stream",
     "text": [
      "<class 'pandas.core.frame.DataFrame'>\n",
      "Index: 30702 entries, 0 to 30701\n",
      "Data columns (total 24 columns):\n",
      "blurb                      30702 non-null object\n",
      "category_name              30702 non-null object\n",
      "category_parent            30702 non-null object\n",
      "category_position          30702 non-null int64\n",
      "country                    30702 non-null object\n",
      "currency                   30702 non-null object\n",
      "days_duration              30702 non-null int64\n",
      "days_preparation           30702 non-null int64\n",
      "db_description_full        30691 non-null object\n",
      "db_duration                30702 non-null int64\n",
      "deadline_end               30702 non-null int64\n",
      "goal                       30702 non-null float64\n",
      "launched_at                30702 non-null int64\n",
      "location_name              30702 non-null object\n",
      "location_state             30702 non-null object\n",
      "location_type              30702 non-null object\n",
      "usd_goal                   30702 non-null int64\n",
      "class                      30702 non-null int64\n",
      "image_count                30702 non-null int64\n",
      "video_kickstarter_count    30702 non-null int64\n",
      "video_youtube_count        30702 non-null int64\n",
      "video_count                30702 non-null int64\n",
      "audio_count                30702 non-null int64\n",
      "other_embeded_count        30702 non-null int64\n",
      "dtypes: float64(1), int64(14), object(9)\n",
      "memory usage: 5.9+ MB\n"
     ]
    }
   ],
   "source": [
    "df[static_data].info()"
   ]
  },
  {
   "cell_type": "code",
   "execution_count": 222,
   "metadata": {
    "collapsed": true
   },
   "outputs": [],
   "source": [
    "df_static = df[static_data].select_dtypes(exclude=['object']).drop(['deadline_end', 'launched_at'], axis=1)"
   ]
  },
  {
   "cell_type": "code",
   "execution_count": 223,
   "metadata": {
    "collapsed": true
   },
   "outputs": [],
   "source": [
    "# change index types\n",
    "df_encoded_categorical.index = df_encoded_categorical.index.astype('int64')\n",
    "df_static.index = df_static.index.astype('int64')"
   ]
  },
  {
   "cell_type": "code",
   "execution_count": 224,
   "metadata": {
    "collapsed": true
   },
   "outputs": [],
   "source": [
    "df_static = df_static.join(df_encoded_categorical)"
   ]
  },
  {
   "cell_type": "code",
   "execution_count": 225,
   "metadata": {
    "collapsed": true
   },
   "outputs": [],
   "source": [
    "df_static.to_csv('data/static_01.csv')"
   ]
  },
  {
   "cell_type": "code",
   "execution_count": null,
   "metadata": {
    "collapsed": true
   },
   "outputs": [],
   "source": []
  }
 ],
 "metadata": {
  "kernelspec": {
   "display_name": "Python 3",
   "language": "python",
   "name": "python3"
  },
  "language_info": {
   "codemirror_mode": {
    "name": "ipython",
    "version": 3
   },
   "file_extension": ".py",
   "mimetype": "text/x-python",
   "name": "python",
   "nbconvert_exporter": "python",
   "pygments_lexer": "ipython3",
   "version": "3.6.1"
  }
 },
 "nbformat": 4,
 "nbformat_minor": 2
}
