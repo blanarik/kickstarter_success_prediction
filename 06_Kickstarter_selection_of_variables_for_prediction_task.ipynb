{
 "cells": [
  {
   "cell_type": "code",
   "execution_count": 191,
   "metadata": {
    "collapsed": true
   },
   "outputs": [],
   "source": [
    "%matplotlib inline\n",
    "import pandas as pd\n",
    "import matplotlib.pyplot as plt\n",
    "import seaborn as sns\n",
    "from sklearn import preprocessing\n",
    "import category_encoders as ce"
   ]
  },
  {
   "cell_type": "code",
   "execution_count": 192,
   "metadata": {},
   "outputs": [
    {
     "name": "stderr",
     "output_type": "stream",
     "text": [
      "C:\\Users\\Patrik\\Anaconda3\\lib\\site-packages\\IPython\\core\\interactiveshell.py:2717: DtypeWarning: Columns (87,88) have mixed types. Specify dtype option on import or set low_memory=False.\n",
      "  interactivity=interactivity, compiler=compiler, result=result)\n"
     ]
    }
   ],
   "source": [
    "df = pd.read_csv('data/merged4.csv', encoding='latin1', index_col=0)"
   ]
  },
  {
   "cell_type": "markdown",
   "metadata": {},
   "source": [
    "## Manually separating static and dynamic attributes\n",
    "Also remove:\n",
    "* **future data** = data that might be changed after end of a project's campaign or were not available at the time of the first scraping\n",
    "* **redundant/duplicate data** = data contained in both datasets\n",
    "* **useless data** = variables with single value (e.g. for all observations 'spotlight' is False), ids, names, json data, etc"
   ]
  },
  {
   "cell_type": "code",
   "execution_count": 193,
   "metadata": {
    "scrolled": false
   },
   "outputs": [
    {
     "name": "stdout",
     "output_type": "stream",
     "text": [
      "<class 'pandas.core.frame.DataFrame'>\n",
      "Int64Index: 30702 entries, 0 to 30701\n",
      "Data columns (total 113 columns):\n",
      "average_pledge                           30702 non-null float64\n",
      "average_pledge_end                       30702 non-null float64\n",
      "backers_count                            30702 non-null int64\n",
      "backers_count_end                        30702 non-null int64\n",
      "blurb                                    30702 non-null object\n",
      "blurb_end                                30702 non-null object\n",
      "category                                 30702 non-null object\n",
      "category_end                             30702 non-null object\n",
      "category_name                            30702 non-null object\n",
      "category_name_end                        30702 non-null object\n",
      "category_parent                          30702 non-null object\n",
      "category_parent_end                      30702 non-null object\n",
      "category_position                        30702 non-null int64\n",
      "category_position_end                    30702 non-null int64\n",
      "country                                  30702 non-null object\n",
      "created_at                               30702 non-null int64\n",
      "creator                                  30702 non-null object\n",
      "creator_end                              30702 non-null object\n",
      "creator_name                             30701 non-null object\n",
      "creator_name_end                         30701 non-null object\n",
      "currency                                 30702 non-null object\n",
      "currency_symbol                          30702 non-null object\n",
      "currency_trailing_code                   30702 non-null bool\n",
      "days_duration                            30702 non-null int64\n",
      "days_preparation                         30702 non-null int64\n",
      "days_remaining                           30702 non-null int64\n",
      "days_running                             30702 non-null int64\n",
      "db_backers_count                         30702 non-null int64\n",
      "db_category_id                           30702 non-null int64\n",
      "db_comments_count                        30702 non-null int64\n",
      "db_creators_url                          30702 non-null object\n",
      "db_currency                              30702 non-null object\n",
      "db_description_full                      30691 non-null object\n",
      "db_description_short                     30702 non-null object\n",
      "db_duration                              30702 non-null int64\n",
      "db_end_time                              30702 non-null object\n",
      "db_faq_count                             30702 non-null int64\n",
      "db_fb_comments_count                     30702 non-null int64\n",
      "db_fb_shares_count                       30702 non-null int64\n",
      "db_goal                                  30702 non-null float64\n",
      "db_hours_remaining                       30702 non-null float64\n",
      "db_image_url                             21414 non-null object\n",
      "db_location_id                           30702 non-null int64\n",
      "db_name                                  30702 non-null object\n",
      "db_pledged                               30702 non-null float64\n",
      "db_project_data                          30600 non-null object\n",
      "db_project_id                            30702 non-null int64\n",
      "db_project_we_love                       30702 non-null int64\n",
      "db_start_time                            13855 non-null object\n",
      "db_status                                30702 non-null object\n",
      "db_subcategory_id                        30702 non-null int64\n",
      "db_updates_count                         30702 non-null int64\n",
      "db_url                                   30702 non-null object\n",
      "db_video_url                             20443 non-null object\n",
      "deadline_end                             30702 non-null int64\n",
      "disable_communication                    30702 non-null bool\n",
      "disable_communication_end                30702 non-null bool\n",
      "goal                                     30702 non-null float64\n",
      "id                                       30702 non-null int64\n",
      "launched_at                              30702 non-null int64\n",
      "location                                 30702 non-null object\n",
      "location_end                             30702 non-null object\n",
      "location_is_root                         30702 non-null bool\n",
      "location_name                            30702 non-null object\n",
      "location_name_end                        30702 non-null object\n",
      "location_state                           30695 non-null object\n",
      "location_state_end                       30696 non-null object\n",
      "location_type                            30702 non-null object\n",
      "location_type_end                        30702 non-null object\n",
      "name                                     30702 non-null object\n",
      "name_end                                 30702 non-null object\n",
      "photo                                    30702 non-null object\n",
      "photo_end                                30702 non-null object\n",
      "pledged                                  30702 non-null float64\n",
      "pledged_end                              30702 non-null float64\n",
      "profile                                  30702 non-null object\n",
      "profile_end                              30702 non-null object\n",
      "ratio_pledged_end_goal                   30702 non-null float64\n",
      "ratio_pledged_goal                       30702 non-null float64\n",
      "ratio_running_duration                   30702 non-null float64\n",
      "scraped_at                               30702 non-null int64\n",
      "slug                                     30702 non-null object\n",
      "source_url                               30702 non-null object\n",
      "source_url_end                           30702 non-null object\n",
      "spotlight                                30702 non-null bool\n",
      "spotlight_end                            30702 non-null bool\n",
      "staff_pick                               30702 non-null object\n",
      "staff_pick_end                           28926 non-null object\n",
      "state                                    30702 non-null object\n",
      "state_changed_at                         30702 non-null int64\n",
      "state_changed_at_end                     30702 non-null int64\n",
      "state_end                                30702 non-null object\n",
      "static_usd_rate                          30702 non-null float64\n",
      "static_usd_rate_end                      30702 non-null float64\n",
      "url_name                                 30702 non-null object\n",
      "urls                                     30702 non-null object\n",
      "urls_end                                 30702 non-null object\n",
      "urls_url                                 30702 non-null object\n",
      "urls_url_end                             30702 non-null object\n",
      "usd_goal                                 30702 non-null int64\n",
      "usd_pledged                              30702 non-null float64\n",
      "usd_pledged_end                          30702 non-null float64\n",
      "class                                    30702 non-null int64\n",
      "ID                                       30702 non-null int64\n",
      "faq_count_while_scraping                 30702 non-null float64\n",
      "comments_count_creator_while_scraping    30702 non-null float64\n",
      "comments_count_public_while_scraping     30702 non-null float64\n",
      "updates_count_while_scraping             30702 non-null float64\n",
      "updates_likes_sum_while_scraping         30702 non-null float64\n",
      "updates_likes_mean_while_scraping        30702 non-null float64\n",
      "updates_likes_min_while_scraping         30702 non-null float64\n",
      "updates_likes_max_while_scraping         30702 non-null float64\n",
      "updates_likes_median_while_scraping      30702 non-null float64\n",
      "dtypes: bool(6), float64(24), int64(30), object(53)\n",
      "memory usage: 25.5+ MB\n"
     ]
    }
   ],
   "source": [
    "df.info(max_cols=120)"
   ]
  },
  {
   "cell_type": "code",
   "execution_count": 194,
   "metadata": {
    "collapsed": true
   },
   "outputs": [],
   "source": [
    "static_data = []\n",
    "dynamic_data = []\n",
    "useless_data = []"
   ]
  },
  {
   "cell_type": "markdown",
   "metadata": {},
   "source": [
    "### 1. average_pledge"
   ]
  },
  {
   "cell_type": "code",
   "execution_count": 195,
   "metadata": {
    "collapsed": true
   },
   "outputs": [],
   "source": [
    "dynamic_data.append('average_pledge')"
   ]
  },
  {
   "cell_type": "markdown",
   "metadata": {},
   "source": [
    "### 2. average_pledge_end"
   ]
  },
  {
   "cell_type": "code",
   "execution_count": 196,
   "metadata": {
    "collapsed": true
   },
   "outputs": [],
   "source": [
    "# future data\n",
    "useless_data.append('average_pledge_end')"
   ]
  },
  {
   "cell_type": "markdown",
   "metadata": {},
   "source": [
    "### 3. backers_count"
   ]
  },
  {
   "cell_type": "code",
   "execution_count": 197,
   "metadata": {
    "collapsed": true
   },
   "outputs": [],
   "source": [
    "dynamic_data.append('backers_count')"
   ]
  },
  {
   "cell_type": "markdown",
   "metadata": {},
   "source": [
    "### 4. backers_count_end"
   ]
  },
  {
   "cell_type": "code",
   "execution_count": 198,
   "metadata": {
    "collapsed": true
   },
   "outputs": [],
   "source": [
    "# future data\n",
    "useless_data.append('backers_count_end')"
   ]
  },
  {
   "cell_type": "markdown",
   "metadata": {},
   "source": [
    "### 5. blurb TODO NLP"
   ]
  },
  {
   "cell_type": "code",
   "execution_count": 199,
   "metadata": {
    "collapsed": true
   },
   "outputs": [],
   "source": [
    "static_data.append('blurb')"
   ]
  },
  {
   "cell_type": "markdown",
   "metadata": {},
   "source": [
    "### 6. blurb_end"
   ]
  },
  {
   "cell_type": "code",
   "execution_count": 200,
   "metadata": {
    "collapsed": true
   },
   "outputs": [],
   "source": [
    "# future data\n",
    "useless_data.append('blurb_end')"
   ]
  },
  {
   "cell_type": "markdown",
   "metadata": {},
   "source": [
    "### 7. category"
   ]
  },
  {
   "cell_type": "code",
   "execution_count": 201,
   "metadata": {},
   "outputs": [
    {
     "data": {
      "text/plain": [
       "'{\"urls\":{\"web\":{\"discover\":\"http://www.kickstarter.com/discover/categories/dance/performances\"}},\"color\":10917369,\"parent_id\":6,\"name\":\"Performances\",\"id\":254,\"position\":1,\"slug\":\"dance/performances\"}'"
      ]
     },
     "execution_count": 201,
     "metadata": {},
     "output_type": "execute_result"
    }
   ],
   "source": [
    "df.loc[1,'category']"
   ]
  },
  {
   "cell_type": "code",
   "execution_count": 202,
   "metadata": {
    "collapsed": true
   },
   "outputs": [],
   "source": [
    "# wrong format, useful data already extracted\n",
    "useless_data.append('category')"
   ]
  },
  {
   "cell_type": "markdown",
   "metadata": {},
   "source": [
    "### 8. category_end"
   ]
  },
  {
   "cell_type": "code",
   "execution_count": 203,
   "metadata": {
    "collapsed": true
   },
   "outputs": [],
   "source": [
    "# future data\n",
    "useless_data.append('category_end')"
   ]
  },
  {
   "cell_type": "markdown",
   "metadata": {},
   "source": [
    "### 9. category_name"
   ]
  },
  {
   "cell_type": "code",
   "execution_count": 204,
   "metadata": {
    "collapsed": true
   },
   "outputs": [],
   "source": [
    "static_data.append('category_name')"
   ]
  },
  {
   "cell_type": "markdown",
   "metadata": {},
   "source": [
    "### 10. category_name_end"
   ]
  },
  {
   "cell_type": "code",
   "execution_count": 205,
   "metadata": {
    "collapsed": true
   },
   "outputs": [],
   "source": [
    "# future data\n",
    "useless_data.append('category_name_end')"
   ]
  },
  {
   "cell_type": "markdown",
   "metadata": {},
   "source": [
    "### 11. category_parent"
   ]
  },
  {
   "cell_type": "code",
   "execution_count": 206,
   "metadata": {
    "collapsed": true
   },
   "outputs": [],
   "source": [
    "static_data.append('category_parent')"
   ]
  },
  {
   "cell_type": "markdown",
   "metadata": {},
   "source": [
    "### 12. category_parent_end"
   ]
  },
  {
   "cell_type": "code",
   "execution_count": 207,
   "metadata": {
    "collapsed": true
   },
   "outputs": [],
   "source": [
    "# future data\n",
    "useless_data.append('category_parent_end')"
   ]
  },
  {
   "cell_type": "markdown",
   "metadata": {},
   "source": [
    "### 13. category_position (= position of category in parent category)"
   ]
  },
  {
   "cell_type": "code",
   "execution_count": 208,
   "metadata": {},
   "outputs": [
    {
     "data": {
      "text/plain": [
       "4     4103\n",
       "3     3113\n",
       "1     2833\n",
       "2     2588\n",
       "5     2559\n",
       "7     2433\n",
       "10    2024\n",
       "6     1822\n",
       "9     1693\n",
       "14    1381\n",
       "8     1360\n",
       "11    1311\n",
       "12     938\n",
       "13     751\n",
       "15     698\n",
       "18     514\n",
       "17     260\n",
       "19     224\n",
       "16      97\n",
       "Name: category_position, dtype: int64"
      ]
     },
     "execution_count": 208,
     "metadata": {},
     "output_type": "execute_result"
    }
   ],
   "source": [
    "df.category_position.value_counts()"
   ]
  },
  {
   "cell_type": "code",
   "execution_count": 209,
   "metadata": {},
   "outputs": [
    {
     "data": {
      "text/plain": [
       "3    184\n",
       "Name: category_position, dtype: int64"
      ]
     },
     "execution_count": 209,
     "metadata": {},
     "output_type": "execute_result"
    }
   ],
   "source": [
    "# cookbooks are 3rd in category Food (see kickstarter)\n",
    "df[df.category_name == 'Cookbooks']['category_position'].value_counts()"
   ]
  },
  {
   "cell_type": "code",
   "execution_count": 210,
   "metadata": {},
   "outputs": [
    {
     "data": {
      "text/plain": [
       "Webseries    224\n",
       "Name: category_name, dtype: int64"
      ]
     },
     "execution_count": 210,
     "metadata": {},
     "output_type": "execute_result"
    }
   ],
   "source": [
    "# only Film & Video parent category contains 19 categories (19th is Webseries)\n",
    "df[df.category_position == 19]['category_name'].value_counts()"
   ]
  },
  {
   "cell_type": "code",
   "execution_count": 211,
   "metadata": {
    "collapsed": true
   },
   "outputs": [],
   "source": [
    "static_data.append('category_position')"
   ]
  },
  {
   "cell_type": "markdown",
   "metadata": {},
   "source": [
    "### 14. category_position_end"
   ]
  },
  {
   "cell_type": "code",
   "execution_count": 212,
   "metadata": {
    "collapsed": true
   },
   "outputs": [],
   "source": [
    "# future data\n",
    "useless_data.append('category_position_end')"
   ]
  },
  {
   "cell_type": "markdown",
   "metadata": {},
   "source": [
    "### 15. country"
   ]
  },
  {
   "cell_type": "code",
   "execution_count": 213,
   "metadata": {
    "collapsed": true
   },
   "outputs": [],
   "source": [
    "static_data.append('country')"
   ]
  },
  {
   "cell_type": "markdown",
   "metadata": {},
   "source": [
    "### 16. created_at"
   ]
  },
  {
   "cell_type": "code",
   "execution_count": 214,
   "metadata": {
    "collapsed": true
   },
   "outputs": [],
   "source": [
    "# timestamp, already used to extract days_preparation\n",
    "# not commonly accesible to public on website, therefore should not affect behavior\n",
    "useless_data.append('created_at')"
   ]
  },
  {
   "cell_type": "markdown",
   "metadata": {},
   "source": [
    "### 17. creator"
   ]
  },
  {
   "cell_type": "code",
   "execution_count": 215,
   "metadata": {},
   "outputs": [
    {
     "data": {
      "text/plain": [
       "'{\"urls\":{\"web\":{\"user\":\"https://www.kickstarter.com/profile/1221271849\"},\"api\":{\"user\":\"https://api.kickstarter.com/v1/users/1221271849?signature=1446480213.130b2f9d9454277a259bf219e9b6dea39bf2ac2f\"}},\"name\":\"Cassandra Kemper\",\"id\":1221271849,\"avatar\":{\"small\":\"https://ksr-ugc.imgix.net/avatars/18458965/10513971_562158447259130_1760610303_n.original.jpg?v=1445003326&w=80&h=80&fit=crop&auto=format&q=92&s=2ed4c6c88ff74c2750dbdeae1d34b953\",\"thumb\":\"https://ksr-ugc.imgix.net/avatars/18458965/10513971_562158447259130_1760610303_n.original.jpg?v=1445003326&w=40&h=40&fit=crop&auto=format&q=92&s=fb2f0e15152b11832b8e80706ce01890\",\"medium\":\"https://ksr-ugc.imgix.net/avatars/18458965/10513971_562158447259130_1760610303_n.original.jpg?v=1445003326&w=160&h=160&fit=crop&auto=format&q=92&s=043c24006839e18fadfbe74e7a5769a4\"}}'"
      ]
     },
     "execution_count": 215,
     "metadata": {},
     "output_type": "execute_result"
    }
   ],
   "source": [
    "df.loc[1, 'creator']"
   ]
  },
  {
   "cell_type": "code",
   "execution_count": 216,
   "metadata": {
    "collapsed": true
   },
   "outputs": [],
   "source": [
    "# nothing usefull here, wrong format\n",
    "useless_data.append('creator')"
   ]
  },
  {
   "cell_type": "markdown",
   "metadata": {},
   "source": [
    "### 18. creator_end"
   ]
  },
  {
   "cell_type": "code",
   "execution_count": 217,
   "metadata": {
    "collapsed": true
   },
   "outputs": [],
   "source": [
    "# nothing usefull here, wrong format\n",
    "useless_data.append('creator_end')"
   ]
  },
  {
   "cell_type": "markdown",
   "metadata": {},
   "source": [
    "### 19. creator_name"
   ]
  },
  {
   "cell_type": "code",
   "execution_count": 218,
   "metadata": {
    "collapsed": true
   },
   "outputs": [],
   "source": [
    "# useless\n",
    "useless_data.append('creator_name')"
   ]
  },
  {
   "cell_type": "markdown",
   "metadata": {},
   "source": [
    "### 20. creator_name_end"
   ]
  },
  {
   "cell_type": "code",
   "execution_count": 219,
   "metadata": {
    "collapsed": true
   },
   "outputs": [],
   "source": [
    "# useless\n",
    "useless_data.append('creator_name_end')"
   ]
  },
  {
   "cell_type": "markdown",
   "metadata": {},
   "source": [
    "### 21. currency"
   ]
  },
  {
   "cell_type": "code",
   "execution_count": 220,
   "metadata": {
    "collapsed": true
   },
   "outputs": [],
   "source": [
    "static_data.append('currency')"
   ]
  },
  {
   "cell_type": "markdown",
   "metadata": {},
   "source": [
    "### 22. currency_symbol"
   ]
  },
  {
   "cell_type": "code",
   "execution_count": 221,
   "metadata": {},
   "outputs": [
    {
     "data": {
      "text/plain": [
       "$      23695\n",
       "?       6308\n",
       "kr       544\n",
       "Fr       155\n",
       "Name: currency_symbol, dtype: int64"
      ]
     },
     "execution_count": 221,
     "metadata": {},
     "output_type": "execute_result"
    }
   ],
   "source": [
    "df.currency_symbol.value_counts()"
   ]
  },
  {
   "cell_type": "code",
   "execution_count": 222,
   "metadata": {
    "collapsed": true
   },
   "outputs": [],
   "source": [
    "# damaged and redundant data\n",
    "useless_data.append('currency_symbol')"
   ]
  },
  {
   "cell_type": "markdown",
   "metadata": {},
   "source": [
    "### 23. currency_trailing_code"
   ]
  },
  {
   "cell_type": "code",
   "execution_count": 223,
   "metadata": {
    "collapsed": true
   },
   "outputs": [],
   "source": [
    "# useless\n",
    "useless_data.append('currency_trailing_code')"
   ]
  },
  {
   "cell_type": "markdown",
   "metadata": {},
   "source": [
    "### 24. days_duration"
   ]
  },
  {
   "cell_type": "code",
   "execution_count": 224,
   "metadata": {
    "collapsed": true
   },
   "outputs": [],
   "source": [
    "static_data.append('days_duration')"
   ]
  },
  {
   "cell_type": "markdown",
   "metadata": {},
   "source": [
    "### 25. days_preparation"
   ]
  },
  {
   "cell_type": "code",
   "execution_count": 225,
   "metadata": {
    "collapsed": true
   },
   "outputs": [],
   "source": [
    "static_data.append('days_preparation')"
   ]
  },
  {
   "cell_type": "markdown",
   "metadata": {},
   "source": [
    "### 26. days_remaining"
   ]
  },
  {
   "cell_type": "code",
   "execution_count": 226,
   "metadata": {
    "collapsed": true
   },
   "outputs": [],
   "source": [
    "dynamic_data.append('days_remaining')"
   ]
  },
  {
   "cell_type": "markdown",
   "metadata": {},
   "source": [
    "### 27. days_running"
   ]
  },
  {
   "cell_type": "code",
   "execution_count": 227,
   "metadata": {
    "collapsed": true
   },
   "outputs": [],
   "source": [
    "dynamic_data.append('days_running')"
   ]
  },
  {
   "cell_type": "markdown",
   "metadata": {},
   "source": [
    "### 28. db_backers_count"
   ]
  },
  {
   "cell_type": "code",
   "execution_count": 228,
   "metadata": {
    "collapsed": true
   },
   "outputs": [],
   "source": [
    "# future data\n",
    "useless_data.append('db_backers_count')"
   ]
  },
  {
   "cell_type": "markdown",
   "metadata": {},
   "source": [
    "### 29. db_category_id"
   ]
  },
  {
   "cell_type": "code",
   "execution_count": 229,
   "metadata": {
    "collapsed": true
   },
   "outputs": [],
   "source": [
    "# useless (ordinal representation of parent category)\n",
    "useless_data.append('db_category_id')"
   ]
  },
  {
   "cell_type": "markdown",
   "metadata": {},
   "source": [
    "### 30. db_comments_count"
   ]
  },
  {
   "cell_type": "code",
   "execution_count": 230,
   "metadata": {
    "collapsed": true
   },
   "outputs": [],
   "source": [
    "# future data\n",
    "useless_data.append('db_comments_count')"
   ]
  },
  {
   "cell_type": "markdown",
   "metadata": {},
   "source": [
    "### 31. db_creators_url"
   ]
  },
  {
   "cell_type": "code",
   "execution_count": 231,
   "metadata": {
    "collapsed": true
   },
   "outputs": [],
   "source": [
    "useless_data.append('db_creators_url')"
   ]
  },
  {
   "cell_type": "markdown",
   "metadata": {},
   "source": [
    "### 32. db_currency"
   ]
  },
  {
   "cell_type": "code",
   "execution_count": 232,
   "metadata": {
    "collapsed": true
   },
   "outputs": [],
   "source": [
    "# damaged redundant data\n",
    "useless_data.append('db_currency')"
   ]
  },
  {
   "cell_type": "markdown",
   "metadata": {},
   "source": [
    "### 33. db_description_full TODO NLP + img,video count?"
   ]
  },
  {
   "cell_type": "code",
   "execution_count": 233,
   "metadata": {
    "collapsed": true
   },
   "outputs": [],
   "source": [
    "static_data.append('db_description_full')"
   ]
  },
  {
   "cell_type": "markdown",
   "metadata": {},
   "source": [
    "### 34. db_description_short"
   ]
  },
  {
   "cell_type": "code",
   "execution_count": 234,
   "metadata": {},
   "outputs": [
    {
     "data": {
      "text/html": [
       "<div>\n",
       "<style>\n",
       "    .dataframe thead tr:only-child th {\n",
       "        text-align: right;\n",
       "    }\n",
       "\n",
       "    .dataframe thead th {\n",
       "        text-align: left;\n",
       "    }\n",
       "\n",
       "    .dataframe tbody tr th {\n",
       "        vertical-align: top;\n",
       "    }\n",
       "</style>\n",
       "<table border=\"1\" class=\"dataframe\">\n",
       "  <thead>\n",
       "    <tr style=\"text-align: right;\">\n",
       "      <th></th>\n",
       "      <th>blurb</th>\n",
       "      <th>db_description_short</th>\n",
       "    </tr>\n",
       "  </thead>\n",
       "  <tbody>\n",
       "    <tr>\n",
       "      <th>1713</th>\n",
       "      <td>This free tech program will teach young coders...</td>\n",
       "      <td>This free tech program will teach young coders...</td>\n",
       "    </tr>\n",
       "    <tr>\n",
       "      <th>7296</th>\n",
       "      <td>An immersive theatre experience. A speakeasy a...</td>\n",
       "      <td>An immersive theatre experience. A speakeasy a...</td>\n",
       "    </tr>\n",
       "    <tr>\n",
       "      <th>24259</th>\n",
       "      <td>WooD?, Water only on Demand, is a hands-free r...</td>\n",
       "      <td>WooD?, Water only on Demand, is a hands-free r...</td>\n",
       "    </tr>\n",
       "    <tr>\n",
       "      <th>23951</th>\n",
       "      <td>London Burlesque Festival needs your support N...</td>\n",
       "      <td>London Burlesque Festival needs your support N...</td>\n",
       "    </tr>\n",
       "    <tr>\n",
       "      <th>27881</th>\n",
       "      <td>\"Everything You Need Is Inside You\" is a enlig...</td>\n",
       "      <td>&amp;quot;Everything You Need Is Inside You&amp;quot; ...</td>\n",
       "    </tr>\n",
       "  </tbody>\n",
       "</table>\n",
       "</div>"
      ],
      "text/plain": [
       "                                                   blurb  \\\n",
       "1713   This free tech program will teach young coders...   \n",
       "7296   An immersive theatre experience. A speakeasy a...   \n",
       "24259  WooD?, Water only on Demand, is a hands-free r...   \n",
       "23951  London Burlesque Festival needs your support N...   \n",
       "27881  \"Everything You Need Is Inside You\" is a enlig...   \n",
       "\n",
       "                                    db_description_short  \n",
       "1713   This free tech program will teach young coders...  \n",
       "7296   An immersive theatre experience. A speakeasy a...  \n",
       "24259  WooD?, Water only on Demand, is a hands-free r...  \n",
       "23951  London Burlesque Festival needs your support N...  \n",
       "27881  &quot;Everything You Need Is Inside You&quot; ...  "
      ]
     },
     "execution_count": 234,
     "metadata": {},
     "output_type": "execute_result"
    }
   ],
   "source": [
    "df[df['blurb_end'] != df['db_description_short']][['blurb','db_description_short']].sample(5)"
   ]
  },
  {
   "cell_type": "code",
   "execution_count": 235,
   "metadata": {
    "collapsed": true
   },
   "outputs": [],
   "source": [
    "# redundant data\n",
    "useless_data.append('db_description_short')"
   ]
  },
  {
   "cell_type": "markdown",
   "metadata": {},
   "source": [
    "### 35. db_duration"
   ]
  },
  {
   "cell_type": "code",
   "execution_count": 236,
   "metadata": {
    "collapsed": true
   },
   "outputs": [],
   "source": [
    "# keep due to inconsistency with days_duration\n",
    "static_data.append('db_duration')"
   ]
  },
  {
   "cell_type": "markdown",
   "metadata": {},
   "source": [
    "### 36. db_end_time"
   ]
  },
  {
   "cell_type": "code",
   "execution_count": 237,
   "metadata": {
    "collapsed": true
   },
   "outputs": [],
   "source": [
    "# useless\n",
    "useless_data.append('db_end_time')"
   ]
  },
  {
   "cell_type": "markdown",
   "metadata": {},
   "source": [
    "### 37. db_faq_count"
   ]
  },
  {
   "cell_type": "code",
   "execution_count": 238,
   "metadata": {
    "collapsed": true
   },
   "outputs": [],
   "source": [
    "# future data\n",
    "useless_data.append('db_faq_count')"
   ]
  },
  {
   "cell_type": "markdown",
   "metadata": {},
   "source": [
    "### 38. db_fb_comments_count"
   ]
  },
  {
   "cell_type": "code",
   "execution_count": 239,
   "metadata": {},
   "outputs": [
    {
     "data": {
      "text/plain": [
       "count    30702.0\n",
       "mean         0.0\n",
       "std          0.0\n",
       "min          0.0\n",
       "25%          0.0\n",
       "50%          0.0\n",
       "75%          0.0\n",
       "max          0.0\n",
       "Name: db_fb_comments_count, dtype: float64"
      ]
     },
     "execution_count": 239,
     "metadata": {},
     "output_type": "execute_result"
    }
   ],
   "source": [
    "df['db_fb_comments_count'].describe()"
   ]
  },
  {
   "cell_type": "code",
   "execution_count": 240,
   "metadata": {
    "collapsed": true
   },
   "outputs": [],
   "source": [
    "# always 0\n",
    "useless_data.append('db_fb_comments_count')"
   ]
  },
  {
   "cell_type": "markdown",
   "metadata": {},
   "source": [
    "### 39. db_fb_shares_count TODO estimate"
   ]
  },
  {
   "cell_type": "code",
   "execution_count": 241,
   "metadata": {
    "collapsed": true
   },
   "outputs": [],
   "source": [
    "dynamic_data.append('db_fb_shares_count')"
   ]
  },
  {
   "cell_type": "markdown",
   "metadata": {},
   "source": [
    "### 40. db_goal"
   ]
  },
  {
   "cell_type": "code",
   "execution_count": 242,
   "metadata": {},
   "outputs": [
    {
     "data": {
      "text/plain": [
       "0"
      ]
     },
     "execution_count": 242,
     "metadata": {},
     "output_type": "execute_result"
    }
   ],
   "source": [
    "len(df[df['goal'] != df['db_goal']])"
   ]
  },
  {
   "cell_type": "code",
   "execution_count": 243,
   "metadata": {
    "collapsed": true
   },
   "outputs": [],
   "source": [
    "# redundant data\n",
    "useless_data.append('db_goal')"
   ]
  },
  {
   "cell_type": "markdown",
   "metadata": {},
   "source": [
    "### 41. db_hours_remaining"
   ]
  },
  {
   "cell_type": "code",
   "execution_count": 244,
   "metadata": {
    "collapsed": true
   },
   "outputs": [],
   "source": [
    "# useless data\n",
    "useless_data.append('db_hours_remaining')"
   ]
  },
  {
   "cell_type": "markdown",
   "metadata": {},
   "source": [
    "### 42. db_image_url TODO transform"
   ]
  },
  {
   "cell_type": "code",
   "execution_count": 245,
   "metadata": {
    "collapsed": true
   },
   "outputs": [],
   "source": [
    "static_data.append('db_image_url')"
   ]
  },
  {
   "cell_type": "markdown",
   "metadata": {},
   "source": [
    "### 43. db_location_id"
   ]
  },
  {
   "cell_type": "code",
   "execution_count": 246,
   "metadata": {},
   "outputs": [
    {
     "data": {
      "text/plain": [
       "5139"
      ]
     },
     "execution_count": 246,
     "metadata": {},
     "output_type": "execute_result"
    }
   ],
   "source": [
    "len(df['db_location_id'].value_counts())"
   ]
  },
  {
   "cell_type": "code",
   "execution_count": 247,
   "metadata": {
    "collapsed": true
   },
   "outputs": [],
   "source": [
    "# useless (ordinal representation of other columns)\n",
    "useless_data.append('db_location_id')"
   ]
  },
  {
   "cell_type": "markdown",
   "metadata": {},
   "source": [
    "### 44. db_name"
   ]
  },
  {
   "cell_type": "code",
   "execution_count": 248,
   "metadata": {
    "collapsed": true
   },
   "outputs": [],
   "source": [
    "# useless\n",
    "useless_data.append('db_name')"
   ]
  },
  {
   "cell_type": "markdown",
   "metadata": {},
   "source": [
    "### 45. db_pledged"
   ]
  },
  {
   "cell_type": "code",
   "execution_count": 249,
   "metadata": {
    "collapsed": true
   },
   "outputs": [],
   "source": [
    "# future data\n",
    "useless_data.append('db_pledged')"
   ]
  },
  {
   "cell_type": "markdown",
   "metadata": {},
   "source": [
    "### 46. db_project_data"
   ]
  },
  {
   "cell_type": "code",
   "execution_count": 250,
   "metadata": {
    "collapsed": true
   },
   "outputs": [],
   "source": [
    "# usefull data already extracted\n",
    "useless_data.append('db_project_data')"
   ]
  },
  {
   "cell_type": "markdown",
   "metadata": {},
   "source": [
    "### 47. db_project_id"
   ]
  },
  {
   "cell_type": "code",
   "execution_count": 251,
   "metadata": {
    "collapsed": true
   },
   "outputs": [],
   "source": [
    "# useless\n",
    "useless_data.append('db_project_id')"
   ]
  },
  {
   "cell_type": "markdown",
   "metadata": {},
   "source": [
    "### 48. db_project_we_love"
   ]
  },
  {
   "cell_type": "code",
   "execution_count": 252,
   "metadata": {
    "collapsed": true
   },
   "outputs": [],
   "source": [
    "# future data\n",
    "useless_data.append('db_project_we_love')"
   ]
  },
  {
   "cell_type": "markdown",
   "metadata": {},
   "source": [
    "### 49. db_start_time"
   ]
  },
  {
   "cell_type": "code",
   "execution_count": 253,
   "metadata": {
    "collapsed": true
   },
   "outputs": [],
   "source": [
    "# useless\n",
    "useless_data.append('db_start_time')"
   ]
  },
  {
   "cell_type": "markdown",
   "metadata": {},
   "source": [
    "### 50. db_status"
   ]
  },
  {
   "cell_type": "code",
   "execution_count": 254,
   "metadata": {
    "collapsed": true
   },
   "outputs": [],
   "source": [
    "# useless, we use our own classes\n",
    "useless_data.append('db_status')"
   ]
  },
  {
   "cell_type": "markdown",
   "metadata": {},
   "source": [
    "### 51. db_subcategory_id"
   ]
  },
  {
   "cell_type": "code",
   "execution_count": 255,
   "metadata": {
    "collapsed": true
   },
   "outputs": [],
   "source": [
    "# ordinal representation of category_name\n",
    "useless_data.append('db_subcategory_id')"
   ]
  },
  {
   "cell_type": "markdown",
   "metadata": {},
   "source": [
    "### 52. db_updates_count"
   ]
  },
  {
   "cell_type": "code",
   "execution_count": 256,
   "metadata": {
    "collapsed": true
   },
   "outputs": [],
   "source": [
    "# future data\n",
    "useless_data.append('db_updates_count')"
   ]
  },
  {
   "cell_type": "markdown",
   "metadata": {},
   "source": [
    "### 53. db_url"
   ]
  },
  {
   "cell_type": "code",
   "execution_count": 257,
   "metadata": {
    "collapsed": true
   },
   "outputs": [],
   "source": [
    "# useless\n",
    "useless_data.append('db_url')"
   ]
  },
  {
   "cell_type": "markdown",
   "metadata": {},
   "source": [
    "### 54. db_video_url TODO transform"
   ]
  },
  {
   "cell_type": "code",
   "execution_count": 258,
   "metadata": {
    "collapsed": true
   },
   "outputs": [],
   "source": [
    "static_data.append('db_video_url')"
   ]
  },
  {
   "cell_type": "markdown",
   "metadata": {},
   "source": [
    "### 55. deadline_end  TODO extract features (+ add analysis)"
   ]
  },
  {
   "cell_type": "code",
   "execution_count": 259,
   "metadata": {
    "collapsed": true
   },
   "outputs": [],
   "source": [
    "# already used to extract days_duration and days_remaining\n",
    "static_data.append('deadline_end')"
   ]
  },
  {
   "cell_type": "markdown",
   "metadata": {},
   "source": [
    "### 56. disable_communication"
   ]
  },
  {
   "cell_type": "code",
   "execution_count": 260,
   "metadata": {},
   "outputs": [
    {
     "data": {
      "text/plain": [
       "count     30702\n",
       "unique        1\n",
       "top       False\n",
       "freq      30702\n",
       "Name: disable_communication, dtype: object"
      ]
     },
     "execution_count": 260,
     "metadata": {},
     "output_type": "execute_result"
    }
   ],
   "source": [
    "df['disable_communication'].describe()"
   ]
  },
  {
   "cell_type": "code",
   "execution_count": 261,
   "metadata": {
    "collapsed": true
   },
   "outputs": [],
   "source": [
    "# always False\n",
    "useless_data.append('disable_communication')"
   ]
  },
  {
   "cell_type": "markdown",
   "metadata": {},
   "source": [
    "### 57. disable_communication_end"
   ]
  },
  {
   "cell_type": "code",
   "execution_count": 262,
   "metadata": {
    "collapsed": true
   },
   "outputs": [],
   "source": [
    "# future data\n",
    "useless_data.append('disable_communication_end')"
   ]
  },
  {
   "cell_type": "markdown",
   "metadata": {},
   "source": [
    "### 58. goal"
   ]
  },
  {
   "cell_type": "code",
   "execution_count": 263,
   "metadata": {
    "collapsed": true
   },
   "outputs": [],
   "source": [
    "static_data.append('goal')"
   ]
  },
  {
   "cell_type": "markdown",
   "metadata": {},
   "source": [
    "### 59. id"
   ]
  },
  {
   "cell_type": "code",
   "execution_count": 264,
   "metadata": {
    "collapsed": true
   },
   "outputs": [],
   "source": [
    "# useless\n",
    "useless_data.append('id')"
   ]
  },
  {
   "cell_type": "markdown",
   "metadata": {},
   "source": [
    "### 60. launched_at  TODO extract features (+ add analysis)"
   ]
  },
  {
   "cell_type": "code",
   "execution_count": 265,
   "metadata": {
    "collapsed": true
   },
   "outputs": [],
   "source": [
    "# already used to extract days_preparation and days_running\n",
    "static_data.append('launched_at')"
   ]
  },
  {
   "cell_type": "markdown",
   "metadata": {},
   "source": [
    "### 61. location"
   ]
  },
  {
   "cell_type": "code",
   "execution_count": 266,
   "metadata": {
    "collapsed": true
   },
   "outputs": [],
   "source": [
    "# already used to extract data\n",
    "useless_data.append('location')"
   ]
  },
  {
   "cell_type": "markdown",
   "metadata": {},
   "source": [
    "### 62. location_end"
   ]
  },
  {
   "cell_type": "code",
   "execution_count": 267,
   "metadata": {
    "collapsed": true
   },
   "outputs": [],
   "source": [
    "# future data\n",
    "useless_data.append('location_end')"
   ]
  },
  {
   "cell_type": "markdown",
   "metadata": {},
   "source": [
    "### 63. location_is_root"
   ]
  },
  {
   "cell_type": "code",
   "execution_count": 268,
   "metadata": {},
   "outputs": [
    {
     "data": {
      "text/plain": [
       "count     30702\n",
       "unique        1\n",
       "top       False\n",
       "freq      30702\n",
       "Name: location_is_root, dtype: object"
      ]
     },
     "execution_count": 268,
     "metadata": {},
     "output_type": "execute_result"
    }
   ],
   "source": [
    "df.location_is_root.describe()"
   ]
  },
  {
   "cell_type": "code",
   "execution_count": 269,
   "metadata": {
    "collapsed": true
   },
   "outputs": [],
   "source": [
    "# always False\n",
    "useless_data.append('location_is_root')"
   ]
  },
  {
   "cell_type": "markdown",
   "metadata": {},
   "source": [
    "### 64. location_name"
   ]
  },
  {
   "cell_type": "code",
   "execution_count": 270,
   "metadata": {
    "collapsed": true
   },
   "outputs": [],
   "source": [
    "static_data.append('location_name')"
   ]
  },
  {
   "cell_type": "markdown",
   "metadata": {},
   "source": [
    "### 65. location_name_end"
   ]
  },
  {
   "cell_type": "code",
   "execution_count": 271,
   "metadata": {
    "collapsed": true
   },
   "outputs": [],
   "source": [
    "# future data\n",
    "useless_data.append('location_name_end')"
   ]
  },
  {
   "cell_type": "markdown",
   "metadata": {},
   "source": [
    "### 66. location_state"
   ]
  },
  {
   "cell_type": "code",
   "execution_count": 272,
   "metadata": {
    "collapsed": true
   },
   "outputs": [],
   "source": [
    "static_data.append('location_state')"
   ]
  },
  {
   "cell_type": "markdown",
   "metadata": {},
   "source": [
    "### 67. location_state_end"
   ]
  },
  {
   "cell_type": "code",
   "execution_count": 273,
   "metadata": {
    "collapsed": true
   },
   "outputs": [],
   "source": [
    "# future data\n",
    "useless_data.append('location_state_end')"
   ]
  },
  {
   "cell_type": "markdown",
   "metadata": {},
   "source": [
    "### 68. location_type"
   ]
  },
  {
   "cell_type": "code",
   "execution_count": 274,
   "metadata": {
    "collapsed": true
   },
   "outputs": [],
   "source": [
    "static_data.append('location_type')"
   ]
  },
  {
   "cell_type": "markdown",
   "metadata": {},
   "source": [
    "### 69. location_type_end"
   ]
  },
  {
   "cell_type": "code",
   "execution_count": 275,
   "metadata": {
    "collapsed": true
   },
   "outputs": [],
   "source": [
    "# future data\n",
    "useless_data.append('location_type_end')"
   ]
  },
  {
   "cell_type": "markdown",
   "metadata": {},
   "source": [
    "### 70. name"
   ]
  },
  {
   "cell_type": "code",
   "execution_count": 276,
   "metadata": {
    "collapsed": true
   },
   "outputs": [],
   "source": [
    "# useless\n",
    "useless_data.append('name')"
   ]
  },
  {
   "cell_type": "markdown",
   "metadata": {},
   "source": [
    "### 71. name_end"
   ]
  },
  {
   "cell_type": "code",
   "execution_count": 277,
   "metadata": {
    "collapsed": true
   },
   "outputs": [],
   "source": [
    "# useless\n",
    "useless_data.append('name_end')"
   ]
  },
  {
   "cell_type": "markdown",
   "metadata": {},
   "source": [
    "### 72. photo"
   ]
  },
  {
   "cell_type": "code",
   "execution_count": 278,
   "metadata": {},
   "outputs": [
    {
     "data": {
      "text/plain": [
       "'{\"small\":\"https://ksr-ugc.imgix.net/projects/2137299/photo-original.jpg?v=1444938200&w=160&h=120&fit=crop&auto=format&q=92&s=024364bb83f379e11d0ef29eafd2bb3a\",\"1536x1152\":\"https://ksr-ugc.imgix.net/projects/2137299/photo-original.jpg?v=1444938200&w=1536&h=1152&fit=crop&auto=format&q=92&s=30664a3df037a1672f4cd849f298ed5a\",\"thumb\":\"https://ksr-ugc.imgix.net/projects/2137299/photo-original.jpg?v=1444938200&w=40&h=30&fit=crop&auto=format&q=92&s=5556d33ffad29a3ff8f0e676a0ebeaeb\",\"1024x768\":\"https://ksr-ugc.imgix.net/projects/2137299/photo-original.jpg?v=1444938200&w=1024&h=768&fit=crop&auto=format&q=92&s=0baef5145af0d44caaebdffcecad8709\",\"med\":\"https://ksr-ugc.imgix.net/projects/2137299/photo-original.jpg?v=1444938200&w=266&h=200&fit=crop&auto=format&q=92&s=0e6f16d2bc45ce1925bc6661c340ced2\",\"key\":\"projects/2137299/photo-original.jpg\",\"ed\":\"https://ksr-ugc.imgix.net/projects/2137299/photo-original.jpg?v=1444938200&w=338&h=250&fit=crop&auto=format&q=92&s=f323d7eb379b5b563b9ef7e262fda6cd\",\"full\":\"https://ksr-ugc.imgix.net/projects/2137299/photo-original.jpg?v=1444938200&w=560&h=420&fit=crop&auto=format&q=92&s=825f4c82ac5c90198cfec30dbd490b68\",\"little\":\"https://ksr-ugc.imgix.net/projects/2137299/photo-original.jpg?v=1444938200&w=200&h=150&fit=crop&auto=format&q=92&s=a2d4d20a7acf175ab3b43c32901bf824\"}'"
      ]
     },
     "execution_count": 278,
     "metadata": {},
     "output_type": "execute_result"
    }
   ],
   "source": [
    "df.loc[1,'photo']"
   ]
  },
  {
   "cell_type": "code",
   "execution_count": 279,
   "metadata": {
    "collapsed": true
   },
   "outputs": [],
   "source": [
    "# wrong format, describes only 1 photo - redundant data\n",
    "useless_data.append('photo')"
   ]
  },
  {
   "cell_type": "markdown",
   "metadata": {},
   "source": [
    "### 73. photo_end"
   ]
  },
  {
   "cell_type": "code",
   "execution_count": 280,
   "metadata": {
    "collapsed": true
   },
   "outputs": [],
   "source": [
    "# useless, redundant\n",
    "useless_data.append('photo_end')"
   ]
  },
  {
   "cell_type": "markdown",
   "metadata": {},
   "source": [
    "### 74. pledged"
   ]
  },
  {
   "cell_type": "code",
   "execution_count": 281,
   "metadata": {
    "collapsed": true
   },
   "outputs": [],
   "source": [
    "dynamic_data.append('pledged')"
   ]
  },
  {
   "cell_type": "markdown",
   "metadata": {},
   "source": [
    "### 75. pledged_end"
   ]
  },
  {
   "cell_type": "code",
   "execution_count": 282,
   "metadata": {
    "collapsed": true
   },
   "outputs": [],
   "source": [
    "# future data\n",
    "useless_data.append('pledged_end')"
   ]
  },
  {
   "cell_type": "markdown",
   "metadata": {},
   "source": [
    "### 76. profile"
   ]
  },
  {
   "cell_type": "code",
   "execution_count": 283,
   "metadata": {},
   "outputs": [
    {
     "data": {
      "text/plain": [
       "'{\"background_image_opacity\":0.8,\"link_text_color\":null,\"state_changed_at\":1444938006,\"should_show_feature_image\":true,\"blurb\":null,\"background_color\":null,\"project_id\":2176873,\"name\":null,\"feature_image_attributes\":{\"image_urls\":{\"default\":\"https://ksr-ugc.imgix.net/projects/2137299/photo-original.jpg?v=1444938200&w=1536&h=1152&fit=crop&auto=format&q=92&s=30664a3df037a1672f4cd849f298ed5a\",\"baseball_card\":\"https://ksr-ugc.imgix.net/projects/2137299/photo-original.jpg?v=1444938200&w=1536&h=1152&fit=crop&auto=format&q=92&s=30664a3df037a1672f4cd849f298ed5a\"}},\"link_url\":null,\"show_feature_image\":false,\"id\":2176873,\"state\":\"inactive\",\"text_color\":null,\"link_text\":null,\"link_background_color\":null}'"
      ]
     },
     "execution_count": 283,
     "metadata": {},
     "output_type": "execute_result"
    }
   ],
   "source": [
    "df.loc[1, 'profile']"
   ]
  },
  {
   "cell_type": "code",
   "execution_count": 284,
   "metadata": {
    "collapsed": true
   },
   "outputs": [],
   "source": [
    "# wrong format, useless\n",
    "useless_data.append('profile')"
   ]
  },
  {
   "cell_type": "markdown",
   "metadata": {},
   "source": [
    "### 77. profile_end"
   ]
  },
  {
   "cell_type": "code",
   "execution_count": 285,
   "metadata": {
    "collapsed": true
   },
   "outputs": [],
   "source": [
    "# future data\n",
    "useless_data.append('profile_end')"
   ]
  },
  {
   "cell_type": "markdown",
   "metadata": {},
   "source": [
    "### 78. ratio_pledged_end_goal"
   ]
  },
  {
   "cell_type": "code",
   "execution_count": 286,
   "metadata": {
    "collapsed": true
   },
   "outputs": [],
   "source": [
    "# already used to extract class\n",
    "useless_data.append('ratio_pledged_end_goal')"
   ]
  },
  {
   "cell_type": "markdown",
   "metadata": {},
   "source": [
    "### 79. ratio_pledged_goal"
   ]
  },
  {
   "cell_type": "code",
   "execution_count": 287,
   "metadata": {
    "collapsed": true
   },
   "outputs": [],
   "source": [
    "dynamic_data.append('ratio_pledged_goal')"
   ]
  },
  {
   "cell_type": "markdown",
   "metadata": {},
   "source": [
    "### 80. ratio_running_duration"
   ]
  },
  {
   "cell_type": "code",
   "execution_count": 288,
   "metadata": {
    "collapsed": true
   },
   "outputs": [],
   "source": [
    "dynamic_data.append('ratio_running_duration')"
   ]
  },
  {
   "cell_type": "markdown",
   "metadata": {},
   "source": [
    "### 81. scraped_at"
   ]
  },
  {
   "cell_type": "code",
   "execution_count": 289,
   "metadata": {
    "collapsed": true
   },
   "outputs": [],
   "source": [
    "# already used to extract many features\n",
    "useless_data.append('scraped_at')"
   ]
  },
  {
   "cell_type": "markdown",
   "metadata": {},
   "source": [
    "### 82. slug"
   ]
  },
  {
   "cell_type": "code",
   "execution_count": 290,
   "metadata": {
    "collapsed": true
   },
   "outputs": [],
   "source": [
    "# useless\n",
    "useless_data.append('slug')"
   ]
  },
  {
   "cell_type": "markdown",
   "metadata": {},
   "source": [
    "### 83. source_url"
   ]
  },
  {
   "cell_type": "code",
   "execution_count": 291,
   "metadata": {
    "collapsed": true
   },
   "outputs": [],
   "source": [
    "# useless\n",
    "useless_data.append('source_url')"
   ]
  },
  {
   "cell_type": "markdown",
   "metadata": {},
   "source": [
    "### 84. source_url_end"
   ]
  },
  {
   "cell_type": "code",
   "execution_count": 292,
   "metadata": {
    "collapsed": true
   },
   "outputs": [],
   "source": [
    "# useless\n",
    "useless_data.append('source_url_end')"
   ]
  },
  {
   "cell_type": "markdown",
   "metadata": {},
   "source": [
    "### 85. spotlight"
   ]
  },
  {
   "cell_type": "code",
   "execution_count": 293,
   "metadata": {},
   "outputs": [
    {
     "data": {
      "text/plain": [
       "count     30702\n",
       "unique        1\n",
       "top       False\n",
       "freq      30702\n",
       "Name: spotlight, dtype: object"
      ]
     },
     "execution_count": 293,
     "metadata": {},
     "output_type": "execute_result"
    }
   ],
   "source": [
    "df.spotlight.describe()"
   ]
  },
  {
   "cell_type": "code",
   "execution_count": 294,
   "metadata": {
    "collapsed": true
   },
   "outputs": [],
   "source": [
    "# always False\n",
    "useless_data.append('spotlight')"
   ]
  },
  {
   "cell_type": "markdown",
   "metadata": {},
   "source": [
    "### 86. spotlight_end"
   ]
  },
  {
   "cell_type": "code",
   "execution_count": 295,
   "metadata": {
    "collapsed": true
   },
   "outputs": [],
   "source": [
    "# future data\n",
    "useless_data.append('spotlight_end')"
   ]
  },
  {
   "cell_type": "markdown",
   "metadata": {},
   "source": [
    "### 87. staff_pick"
   ]
  },
  {
   "cell_type": "code",
   "execution_count": 296,
   "metadata": {
    "collapsed": true
   },
   "outputs": [],
   "source": [
    "dynamic_data.append('staff_pick')"
   ]
  },
  {
   "cell_type": "markdown",
   "metadata": {},
   "source": [
    "### 88. staff_pick_end"
   ]
  },
  {
   "cell_type": "code",
   "execution_count": 297,
   "metadata": {
    "collapsed": true
   },
   "outputs": [],
   "source": [
    "# future data\n",
    "useless_data.append('staff_pick_end')"
   ]
  },
  {
   "cell_type": "markdown",
   "metadata": {},
   "source": [
    "### 89. state"
   ]
  },
  {
   "cell_type": "code",
   "execution_count": 298,
   "metadata": {},
   "outputs": [
    {
     "data": {
      "text/plain": [
       "count     30702\n",
       "unique        1\n",
       "top        live\n",
       "freq      30702\n",
       "Name: state, dtype: object"
      ]
     },
     "execution_count": 298,
     "metadata": {},
     "output_type": "execute_result"
    }
   ],
   "source": [
    "df.state.describe()"
   ]
  },
  {
   "cell_type": "code",
   "execution_count": 299,
   "metadata": {
    "collapsed": true
   },
   "outputs": [],
   "source": [
    "# always live\n",
    "useless_data.append('state')"
   ]
  },
  {
   "cell_type": "markdown",
   "metadata": {},
   "source": [
    "### 90. state_changed_at"
   ]
  },
  {
   "cell_type": "code",
   "execution_count": 300,
   "metadata": {
    "collapsed": true
   },
   "outputs": [],
   "source": [
    "# useless\n",
    "useless_data.append('state_changed_at')"
   ]
  },
  {
   "cell_type": "markdown",
   "metadata": {},
   "source": [
    "### 91. state_changed_at_end"
   ]
  },
  {
   "cell_type": "code",
   "execution_count": 301,
   "metadata": {
    "collapsed": true
   },
   "outputs": [],
   "source": [
    "# useless, future data\n",
    "useless_data.append('state_changed_at_end')"
   ]
  },
  {
   "cell_type": "markdown",
   "metadata": {},
   "source": [
    "### 92. state_end"
   ]
  },
  {
   "cell_type": "code",
   "execution_count": 302,
   "metadata": {
    "collapsed": true
   },
   "outputs": [],
   "source": [
    "# future data, we have our own prediction class\n",
    "useless_data.append('state_end')"
   ]
  },
  {
   "cell_type": "markdown",
   "metadata": {},
   "source": [
    "### 93. static_usd_rate"
   ]
  },
  {
   "cell_type": "code",
   "execution_count": 303,
   "metadata": {
    "collapsed": true
   },
   "outputs": [],
   "source": [
    "# already used for currency conversion to USD\n",
    "useless_data.append('static_usd_rate')"
   ]
  },
  {
   "cell_type": "markdown",
   "metadata": {},
   "source": [
    "### 94. static_usd_rate_end"
   ]
  },
  {
   "cell_type": "code",
   "execution_count": 304,
   "metadata": {
    "collapsed": true
   },
   "outputs": [],
   "source": [
    "# useless, future data\n",
    "useless_data.append('static_usd_rate_end')"
   ]
  },
  {
   "cell_type": "markdown",
   "metadata": {},
   "source": [
    "### 95. url_name"
   ]
  },
  {
   "cell_type": "code",
   "execution_count": 305,
   "metadata": {
    "collapsed": true
   },
   "outputs": [],
   "source": [
    "# useless\n",
    "useless_data.append('url_name')"
   ]
  },
  {
   "cell_type": "markdown",
   "metadata": {},
   "source": [
    "### 96. urls"
   ]
  },
  {
   "cell_type": "code",
   "execution_count": 306,
   "metadata": {},
   "outputs": [
    {
     "data": {
      "text/plain": [
       "'{\"web\":{\"project\":\"https://www.kickstarter.com/projects/1221271849/all-style-dance-battle-the-streak?ref=category\",\"rewards\":\"https://www.kickstarter.com/projects/1221271849/all-style-dance-battle-the-streak/rewards\"}}'"
      ]
     },
     "execution_count": 306,
     "metadata": {},
     "output_type": "execute_result"
    }
   ],
   "source": [
    "df.loc[1, 'urls']"
   ]
  },
  {
   "cell_type": "code",
   "execution_count": 307,
   "metadata": {
    "collapsed": true
   },
   "outputs": [],
   "source": [
    "# useless\n",
    "useless_data.append('urls')"
   ]
  },
  {
   "cell_type": "markdown",
   "metadata": {},
   "source": [
    "### 97. urls_end"
   ]
  },
  {
   "cell_type": "code",
   "execution_count": 308,
   "metadata": {
    "collapsed": true
   },
   "outputs": [],
   "source": [
    "# useless\n",
    "useless_data.append('urls_end')"
   ]
  },
  {
   "cell_type": "markdown",
   "metadata": {},
   "source": [
    "### 98. urls_url"
   ]
  },
  {
   "cell_type": "code",
   "execution_count": 309,
   "metadata": {
    "collapsed": true
   },
   "outputs": [],
   "source": [
    "# useless\n",
    "useless_data.append('urls_url')"
   ]
  },
  {
   "cell_type": "markdown",
   "metadata": {},
   "source": [
    "### 99. urls_url_end"
   ]
  },
  {
   "cell_type": "code",
   "execution_count": 310,
   "metadata": {
    "collapsed": true
   },
   "outputs": [],
   "source": [
    "# useless\n",
    "useless_data.append('urls_url_end')"
   ]
  },
  {
   "cell_type": "markdown",
   "metadata": {},
   "source": [
    "### 100. usd_goal"
   ]
  },
  {
   "cell_type": "code",
   "execution_count": 311,
   "metadata": {
    "collapsed": true
   },
   "outputs": [],
   "source": [
    "static_data.append('usd_goal')"
   ]
  },
  {
   "cell_type": "markdown",
   "metadata": {},
   "source": [
    "### 101. usd_pledged"
   ]
  },
  {
   "cell_type": "code",
   "execution_count": 312,
   "metadata": {
    "collapsed": true
   },
   "outputs": [],
   "source": [
    "dynamic_data.append('usd_pledged')"
   ]
  },
  {
   "cell_type": "markdown",
   "metadata": {},
   "source": [
    "### 102. usd_pledged_end"
   ]
  },
  {
   "cell_type": "code",
   "execution_count": 313,
   "metadata": {
    "collapsed": true
   },
   "outputs": [],
   "source": [
    "# future data\n",
    "useless_data.append('usd_pledged_end')"
   ]
  },
  {
   "cell_type": "markdown",
   "metadata": {},
   "source": [
    "### 103. class"
   ]
  },
  {
   "cell_type": "code",
   "execution_count": 314,
   "metadata": {
    "collapsed": true
   },
   "outputs": [],
   "source": [
    "# predicted class\n",
    "static_data.append('class')"
   ]
  },
  {
   "cell_type": "markdown",
   "metadata": {},
   "source": [
    "### 104. ID"
   ]
  },
  {
   "cell_type": "code",
   "execution_count": 315,
   "metadata": {
    "collapsed": true
   },
   "outputs": [],
   "source": [
    "# useless\n",
    "useless_data.append('ID')"
   ]
  },
  {
   "cell_type": "markdown",
   "metadata": {},
   "source": [
    "### 105. faq_count_while_scraping"
   ]
  },
  {
   "cell_type": "code",
   "execution_count": 316,
   "metadata": {
    "collapsed": true
   },
   "outputs": [],
   "source": [
    "dynamic_data.append('faq_count_while_scraping')"
   ]
  },
  {
   "cell_type": "markdown",
   "metadata": {},
   "source": [
    "### 106. comments_count_creator_while_scraping"
   ]
  },
  {
   "cell_type": "code",
   "execution_count": 317,
   "metadata": {
    "collapsed": true
   },
   "outputs": [],
   "source": [
    "dynamic_data.append('comments_count_creator_while_scraping')"
   ]
  },
  {
   "cell_type": "markdown",
   "metadata": {},
   "source": [
    "### 107. comments_count_public_while_scraping"
   ]
  },
  {
   "cell_type": "code",
   "execution_count": 318,
   "metadata": {
    "collapsed": true
   },
   "outputs": [],
   "source": [
    "dynamic_data.append('comments_count_public_while_scraping')"
   ]
  },
  {
   "cell_type": "markdown",
   "metadata": {},
   "source": [
    "### 108. updates_count_while_scraping"
   ]
  },
  {
   "cell_type": "code",
   "execution_count": 319,
   "metadata": {
    "collapsed": true
   },
   "outputs": [],
   "source": [
    "dynamic_data.append('updates_count_while_scraping')"
   ]
  },
  {
   "cell_type": "markdown",
   "metadata": {},
   "source": [
    "### 109. updates_likes_sum_while_scraping"
   ]
  },
  {
   "cell_type": "code",
   "execution_count": 320,
   "metadata": {
    "collapsed": true
   },
   "outputs": [],
   "source": [
    "dynamic_data.append('updates_likes_sum_while_scraping')"
   ]
  },
  {
   "cell_type": "markdown",
   "metadata": {},
   "source": [
    "### 110. updates_likes_mean_while_scraping"
   ]
  },
  {
   "cell_type": "code",
   "execution_count": 321,
   "metadata": {
    "collapsed": true
   },
   "outputs": [],
   "source": [
    "dynamic_data.append('updates_likes_mean_while_scraping')"
   ]
  },
  {
   "cell_type": "markdown",
   "metadata": {},
   "source": [
    "### 111. updates_likes_min_while_scraping"
   ]
  },
  {
   "cell_type": "code",
   "execution_count": 322,
   "metadata": {
    "collapsed": true
   },
   "outputs": [],
   "source": [
    "dynamic_data.append('updates_likes_min_while_scraping')"
   ]
  },
  {
   "cell_type": "markdown",
   "metadata": {},
   "source": [
    "### 112. updates_likes_max_while_scraping"
   ]
  },
  {
   "cell_type": "code",
   "execution_count": 323,
   "metadata": {
    "collapsed": true
   },
   "outputs": [],
   "source": [
    "dynamic_data.append('updates_likes_max_while_scraping')"
   ]
  },
  {
   "cell_type": "markdown",
   "metadata": {},
   "source": [
    "### 113. updates_likes_median_while_scraping"
   ]
  },
  {
   "cell_type": "code",
   "execution_count": 324,
   "metadata": {
    "collapsed": true
   },
   "outputs": [],
   "source": [
    "dynamic_data.append('updates_likes_median_while_scraping')"
   ]
  },
  {
   "cell_type": "code",
   "execution_count": 325,
   "metadata": {},
   "outputs": [
    {
     "data": {
      "text/plain": [
       "20"
      ]
     },
     "execution_count": 325,
     "metadata": {},
     "output_type": "execute_result"
    }
   ],
   "source": [
    "len(static_data)"
   ]
  },
  {
   "cell_type": "code",
   "execution_count": 326,
   "metadata": {},
   "outputs": [
    {
     "data": {
      "text/plain": [
       "19"
      ]
     },
     "execution_count": 326,
     "metadata": {},
     "output_type": "execute_result"
    }
   ],
   "source": [
    "len(dynamic_data)"
   ]
  },
  {
   "cell_type": "code",
   "execution_count": 327,
   "metadata": {},
   "outputs": [
    {
     "data": {
      "text/plain": [
       "74"
      ]
     },
     "execution_count": 327,
     "metadata": {},
     "output_type": "execute_result"
    }
   ],
   "source": [
    "len(useless_data)"
   ]
  },
  {
   "cell_type": "code",
   "execution_count": 328,
   "metadata": {},
   "outputs": [
    {
     "data": {
      "text/plain": [
       "['blurb',\n",
       " 'category_name',\n",
       " 'category_parent',\n",
       " 'category_position',\n",
       " 'country',\n",
       " 'currency',\n",
       " 'days_duration',\n",
       " 'days_preparation',\n",
       " 'db_description_full',\n",
       " 'db_duration',\n",
       " 'db_image_url',\n",
       " 'db_video_url',\n",
       " 'deadline_end',\n",
       " 'goal',\n",
       " 'launched_at',\n",
       " 'location_name',\n",
       " 'location_state',\n",
       " 'location_type',\n",
       " 'usd_goal',\n",
       " 'class']"
      ]
     },
     "execution_count": 328,
     "metadata": {},
     "output_type": "execute_result"
    }
   ],
   "source": [
    "static_data"
   ]
  },
  {
   "cell_type": "code",
   "execution_count": 329,
   "metadata": {},
   "outputs": [
    {
     "data": {
      "text/plain": [
       "['average_pledge',\n",
       " 'backers_count',\n",
       " 'days_remaining',\n",
       " 'days_running',\n",
       " 'db_fb_shares_count',\n",
       " 'pledged',\n",
       " 'ratio_pledged_goal',\n",
       " 'ratio_running_duration',\n",
       " 'staff_pick',\n",
       " 'usd_pledged',\n",
       " 'faq_count_while_scraping',\n",
       " 'comments_count_creator_while_scraping',\n",
       " 'comments_count_public_while_scraping',\n",
       " 'updates_count_while_scraping',\n",
       " 'updates_likes_sum_while_scraping',\n",
       " 'updates_likes_mean_while_scraping',\n",
       " 'updates_likes_min_while_scraping',\n",
       " 'updates_likes_max_while_scraping',\n",
       " 'updates_likes_median_while_scraping']"
      ]
     },
     "execution_count": 329,
     "metadata": {},
     "output_type": "execute_result"
    }
   ],
   "source": [
    "dynamic_data"
   ]
  },
  {
   "cell_type": "code",
   "execution_count": 330,
   "metadata": {
    "collapsed": true
   },
   "outputs": [],
   "source": [
    "df_selected = df.drop(useless_data, axis=1)"
   ]
  },
  {
   "cell_type": "code",
   "execution_count": 331,
   "metadata": {},
   "outputs": [
    {
     "name": "stdout",
     "output_type": "stream",
     "text": [
      "<class 'pandas.core.frame.DataFrame'>\n",
      "Int64Index: 30702 entries, 0 to 30701\n",
      "Data columns (total 39 columns):\n",
      "average_pledge                           30702 non-null float64\n",
      "backers_count                            30702 non-null int64\n",
      "blurb                                    30702 non-null object\n",
      "category_name                            30702 non-null object\n",
      "category_parent                          30702 non-null object\n",
      "category_position                        30702 non-null int64\n",
      "country                                  30702 non-null object\n",
      "currency                                 30702 non-null object\n",
      "days_duration                            30702 non-null int64\n",
      "days_preparation                         30702 non-null int64\n",
      "days_remaining                           30702 non-null int64\n",
      "days_running                             30702 non-null int64\n",
      "db_description_full                      30691 non-null object\n",
      "db_duration                              30702 non-null int64\n",
      "db_fb_shares_count                       30702 non-null int64\n",
      "db_image_url                             21414 non-null object\n",
      "db_video_url                             20443 non-null object\n",
      "deadline_end                             30702 non-null int64\n",
      "goal                                     30702 non-null float64\n",
      "launched_at                              30702 non-null int64\n",
      "location_name                            30702 non-null object\n",
      "location_state                           30695 non-null object\n",
      "location_type                            30702 non-null object\n",
      "pledged                                  30702 non-null float64\n",
      "ratio_pledged_goal                       30702 non-null float64\n",
      "ratio_running_duration                   30702 non-null float64\n",
      "staff_pick                               30702 non-null object\n",
      "usd_goal                                 30702 non-null int64\n",
      "usd_pledged                              30702 non-null float64\n",
      "class                                    30702 non-null int64\n",
      "faq_count_while_scraping                 30702 non-null float64\n",
      "comments_count_creator_while_scraping    30702 non-null float64\n",
      "comments_count_public_while_scraping     30702 non-null float64\n",
      "updates_count_while_scraping             30702 non-null float64\n",
      "updates_likes_sum_while_scraping         30702 non-null float64\n",
      "updates_likes_mean_while_scraping        30702 non-null float64\n",
      "updates_likes_min_while_scraping         30702 non-null float64\n",
      "updates_likes_max_while_scraping         30702 non-null float64\n",
      "updates_likes_median_while_scraping      30702 non-null float64\n",
      "dtypes: float64(15), int64(12), object(12)\n",
      "memory usage: 10.6+ MB\n"
     ]
    }
   ],
   "source": [
    "df_selected.info()"
   ]
  },
  {
   "cell_type": "code",
   "execution_count": 332,
   "metadata": {
    "collapsed": true
   },
   "outputs": [],
   "source": [
    "df_selected.to_csv('data/selected_data.csv')"
   ]
  },
  {
   "cell_type": "markdown",
   "metadata": {},
   "source": [
    "# Data pre-processing"
   ]
  },
  {
   "cell_type": "markdown",
   "metadata": {},
   "source": [
    "## Sampling"
   ]
  },
  {
   "cell_type": "markdown",
   "metadata": {},
   "source": [
    "## Outlier detection"
   ]
  },
  {
   "cell_type": "markdown",
   "metadata": {},
   "source": [
    "## Missing values resolution"
   ]
  },
  {
   "cell_type": "code",
   "execution_count": 333,
   "metadata": {},
   "outputs": [
    {
     "name": "stdout",
     "output_type": "stream",
     "text": [
      "<class 'pandas.core.frame.DataFrame'>\n",
      "Int64Index: 30702 entries, 0 to 30701\n",
      "Data columns (total 20 columns):\n",
      "blurb                  30702 non-null object\n",
      "category_name          30702 non-null object\n",
      "category_parent        30702 non-null object\n",
      "category_position      30702 non-null int64\n",
      "country                30702 non-null object\n",
      "currency               30702 non-null object\n",
      "days_duration          30702 non-null int64\n",
      "days_preparation       30702 non-null int64\n",
      "db_description_full    30691 non-null object\n",
      "db_duration            30702 non-null int64\n",
      "db_image_url           21414 non-null object\n",
      "db_video_url           20443 non-null object\n",
      "deadline_end           30702 non-null int64\n",
      "goal                   30702 non-null float64\n",
      "launched_at            30702 non-null int64\n",
      "location_name          30702 non-null object\n",
      "location_state         30695 non-null object\n",
      "location_type          30702 non-null object\n",
      "usd_goal               30702 non-null int64\n",
      "class                  30702 non-null int64\n",
      "dtypes: float64(1), int64(8), object(11)\n",
      "memory usage: 6.2+ MB\n"
     ]
    }
   ],
   "source": [
    "df[static_data].info()"
   ]
  },
  {
   "cell_type": "code",
   "execution_count": 334,
   "metadata": {},
   "outputs": [
    {
     "data": {
      "text/html": [
       "<div>\n",
       "<style>\n",
       "    .dataframe thead tr:only-child th {\n",
       "        text-align: right;\n",
       "    }\n",
       "\n",
       "    .dataframe thead th {\n",
       "        text-align: left;\n",
       "    }\n",
       "\n",
       "    .dataframe tbody tr th {\n",
       "        vertical-align: top;\n",
       "    }\n",
       "</style>\n",
       "<table border=\"1\" class=\"dataframe\">\n",
       "  <thead>\n",
       "    <tr style=\"text-align: right;\">\n",
       "      <th></th>\n",
       "      <th>url_name</th>\n",
       "      <th>location_name</th>\n",
       "      <th>location_state</th>\n",
       "      <th>location_type</th>\n",
       "      <th>country</th>\n",
       "    </tr>\n",
       "  </thead>\n",
       "  <tbody>\n",
       "    <tr>\n",
       "      <th>3054</th>\n",
       "      <td>the-white-desert-wildlife-and-antarctica-photo...</td>\n",
       "      <td>Antarctica</td>\n",
       "      <td>NaN</td>\n",
       "      <td>Country</td>\n",
       "      <td>US</td>\n",
       "    </tr>\n",
       "    <tr>\n",
       "      <th>7903</th>\n",
       "      <td>music-video-makedonsko-devojce-jazz-version</td>\n",
       "      <td>Skopje</td>\n",
       "      <td>NaN</td>\n",
       "      <td>Town</td>\n",
       "      <td>DE</td>\n",
       "    </tr>\n",
       "    <tr>\n",
       "      <th>16683</th>\n",
       "      <td>oualichi-gold-caribbean-erotica</td>\n",
       "      <td>Philipsburg</td>\n",
       "      <td>NaN</td>\n",
       "      <td>Town</td>\n",
       "      <td>US</td>\n",
       "    </tr>\n",
       "    <tr>\n",
       "      <th>21286</th>\n",
       "      <td>new-album-kickstarter</td>\n",
       "      <td>Road Town</td>\n",
       "      <td>NaN</td>\n",
       "      <td>Town</td>\n",
       "      <td>US</td>\n",
       "    </tr>\n",
       "    <tr>\n",
       "      <th>30232</th>\n",
       "      <td>baby-chef-cookbook-and-app-with-healthy-recipe...</td>\n",
       "      <td>Skopje</td>\n",
       "      <td>NaN</td>\n",
       "      <td>Town</td>\n",
       "      <td>AU</td>\n",
       "    </tr>\n",
       "    <tr>\n",
       "      <th>30347</th>\n",
       "      <td>ninos-otomies-le-cantan-al-papa-francisco</td>\n",
       "      <td>Vatican City</td>\n",
       "      <td>NaN</td>\n",
       "      <td>Town</td>\n",
       "      <td>MX</td>\n",
       "    </tr>\n",
       "    <tr>\n",
       "      <th>30389</th>\n",
       "      <td>portraits-of-place-in-antarctica-ii</td>\n",
       "      <td>Antarctica</td>\n",
       "      <td>NaN</td>\n",
       "      <td>Country</td>\n",
       "      <td>US</td>\n",
       "    </tr>\n",
       "  </tbody>\n",
       "</table>\n",
       "</div>"
      ],
      "text/plain": [
       "                                                url_name location_name  \\\n",
       "3054   the-white-desert-wildlife-and-antarctica-photo...    Antarctica   \n",
       "7903         music-video-makedonsko-devojce-jazz-version        Skopje   \n",
       "16683                    oualichi-gold-caribbean-erotica   Philipsburg   \n",
       "21286                              new-album-kickstarter     Road Town   \n",
       "30232  baby-chef-cookbook-and-app-with-healthy-recipe...        Skopje   \n",
       "30347          ninos-otomies-le-cantan-al-papa-francisco  Vatican City   \n",
       "30389                portraits-of-place-in-antarctica-ii    Antarctica   \n",
       "\n",
       "      location_state location_type country  \n",
       "3054             NaN       Country      US  \n",
       "7903             NaN          Town      DE  \n",
       "16683            NaN          Town      US  \n",
       "21286            NaN          Town      US  \n",
       "30232            NaN          Town      AU  \n",
       "30347            NaN          Town      MX  \n",
       "30389            NaN       Country      US  "
      ]
     },
     "execution_count": 334,
     "metadata": {},
     "output_type": "execute_result"
    }
   ],
   "source": [
    "df[df['location_state'].isnull()][['url_name', 'location_name', 'location_state', 'location_type', 'country']]"
   ]
  },
  {
   "cell_type": "code",
   "execution_count": 335,
   "metadata": {},
   "outputs": [],
   "source": [
    "df.loc[3054, 'location_state'] = 'None'\n",
    "df.loc[7903, 'location_state'] = 'Macedonia'\n",
    "df.loc[16683, 'location_state'] = 'Sint Maarten (Dutch part)'\n",
    "df.loc[21286, 'location_state'] = 'Virgin Islands, U.S. '\n",
    "df.loc[30232, 'location_state'] = 'Macedonia'\n",
    "df.loc[30347, 'location_state'] = 'Vatican City'\n",
    "df.loc[30389, 'location_state'] = 'None'"
   ]
  },
  {
   "cell_type": "code",
   "execution_count": 336,
   "metadata": {},
   "outputs": [
    {
     "data": {
      "text/html": [
       "<div>\n",
       "<style>\n",
       "    .dataframe thead tr:only-child th {\n",
       "        text-align: right;\n",
       "    }\n",
       "\n",
       "    .dataframe thead th {\n",
       "        text-align: left;\n",
       "    }\n",
       "\n",
       "    .dataframe tbody tr th {\n",
       "        vertical-align: top;\n",
       "    }\n",
       "</style>\n",
       "<table border=\"1\" class=\"dataframe\">\n",
       "  <thead>\n",
       "    <tr style=\"text-align: right;\">\n",
       "      <th></th>\n",
       "      <th>url_name</th>\n",
       "      <th>location_name</th>\n",
       "      <th>location_state</th>\n",
       "      <th>location_type</th>\n",
       "      <th>country</th>\n",
       "    </tr>\n",
       "  </thead>\n",
       "  <tbody>\n",
       "  </tbody>\n",
       "</table>\n",
       "</div>"
      ],
      "text/plain": [
       "Empty DataFrame\n",
       "Columns: [url_name, location_name, location_state, location_type, country]\n",
       "Index: []"
      ]
     },
     "execution_count": 336,
     "metadata": {},
     "output_type": "execute_result"
    }
   ],
   "source": [
    "df[df['location_state'].isnull()][['url_name', 'location_name', 'location_state', 'location_type', 'country']]"
   ]
  },
  {
   "cell_type": "markdown",
   "metadata": {},
   "source": [
    "# Feature engineering"
   ]
  },
  {
   "cell_type": "markdown",
   "metadata": {},
   "source": [
    "## Feature extraction"
   ]
  },
  {
   "cell_type": "markdown",
   "metadata": {},
   "source": [
    "### 1. deadline"
   ]
  },
  {
   "cell_type": "code",
   "execution_count": 337,
   "metadata": {},
   "outputs": [
    {
     "data": {
      "text/html": [
       "<div>\n",
       "<style>\n",
       "    .dataframe thead tr:only-child th {\n",
       "        text-align: right;\n",
       "    }\n",
       "\n",
       "    .dataframe thead th {\n",
       "        text-align: left;\n",
       "    }\n",
       "\n",
       "    .dataframe tbody tr th {\n",
       "        vertical-align: top;\n",
       "    }\n",
       "</style>\n",
       "<table border=\"1\" class=\"dataframe\">\n",
       "  <thead>\n",
       "    <tr style=\"text-align: right;\">\n",
       "      <th></th>\n",
       "      <th>url_name</th>\n",
       "      <th>deadline_end</th>\n",
       "      <th>deadline_datetime</th>\n",
       "      <th>db_end_time</th>\n",
       "    </tr>\n",
       "  </thead>\n",
       "  <tbody>\n",
       "    <tr>\n",
       "      <th>8138</th>\n",
       "      <td>pizza-one</td>\n",
       "      <td>1465033928</td>\n",
       "      <td>2016-06-04 09:52:08</td>\n",
       "      <td>2016-06-04</td>\n",
       "    </tr>\n",
       "    <tr>\n",
       "      <th>25523</th>\n",
       "      <td>disappearing-trees-of-roath-photography-zine</td>\n",
       "      <td>1495234740</td>\n",
       "      <td>2017-05-19 22:59:00</td>\n",
       "      <td>2017-05-19</td>\n",
       "    </tr>\n",
       "    <tr>\n",
       "      <th>25988</th>\n",
       "      <td>oni-x-fox-volume-1-soldier-daze-printed-edition</td>\n",
       "      <td>1495726895</td>\n",
       "      <td>2017-05-25 15:41:35</td>\n",
       "      <td>2017-05-25</td>\n",
       "    </tr>\n",
       "    <tr>\n",
       "      <th>3798</th>\n",
       "      <td>chrissys-cruisin-creations</td>\n",
       "      <td>1458584717</td>\n",
       "      <td>2016-03-21 18:25:17</td>\n",
       "      <td>2016-03-21</td>\n",
       "    </tr>\n",
       "    <tr>\n",
       "      <th>5476</th>\n",
       "      <td>flintlock-book-1</td>\n",
       "      <td>1459495329</td>\n",
       "      <td>2016-04-01 07:22:09</td>\n",
       "      <td>2016-04-01</td>\n",
       "    </tr>\n",
       "  </tbody>\n",
       "</table>\n",
       "</div>"
      ],
      "text/plain": [
       "                                              url_name  deadline_end  \\\n",
       "8138                                         pizza-one    1465033928   \n",
       "25523     disappearing-trees-of-roath-photography-zine    1495234740   \n",
       "25988  oni-x-fox-volume-1-soldier-daze-printed-edition    1495726895   \n",
       "3798                        chrissys-cruisin-creations    1458584717   \n",
       "5476                                  flintlock-book-1    1459495329   \n",
       "\n",
       "        deadline_datetime db_end_time  \n",
       "8138  2016-06-04 09:52:08  2016-06-04  \n",
       "25523 2017-05-19 22:59:00  2017-05-19  \n",
       "25988 2017-05-25 15:41:35  2017-05-25  \n",
       "3798  2016-03-21 18:25:17  2016-03-21  \n",
       "5476  2016-04-01 07:22:09  2016-04-01  "
      ]
     },
     "execution_count": 337,
     "metadata": {},
     "output_type": "execute_result"
    }
   ],
   "source": [
    "# convert unix timestamp to datetime of scraping\n",
    "df['deadline_datetime'] = pd.to_datetime(df['deadline_end'], unit='s')\n",
    "df[['url_name','deadline_end','deadline_datetime', 'db_end_time']].sample(5)"
   ]
  },
  {
   "cell_type": "markdown",
   "metadata": {},
   "source": [
    "#### 1.1 year"
   ]
  },
  {
   "cell_type": "code",
   "execution_count": 338,
   "metadata": {
    "collapsed": true
   },
   "outputs": [],
   "source": [
    "df['deadline_year'] = df['deadline_datetime'].dt.year"
   ]
  },
  {
   "cell_type": "code",
   "execution_count": 339,
   "metadata": {},
   "outputs": [
    {
     "data": {
      "text/plain": [
       "<matplotlib.axes._subplots.AxesSubplot at 0x21e0b804630>"
      ]
     },
     "execution_count": 339,
     "metadata": {},
     "output_type": "execute_result"
    },
    {
     "data": {
      "image/png": "[encoded data removed]",
      "text/plain": [
       "<matplotlib.figure.Figure at 0x21e0f7405c0>"
      ]
     },
     "metadata": {},
     "output_type": "display_data"
    }
   ],
   "source": [
    "pd.crosstab(index=df['deadline_year'], columns=df['state_end']).plot.bar(stacked=False, color=['orange', 'royalblue'], figsize=(20,10))"
   ]
  },
  {
   "cell_type": "markdown",
   "metadata": {},
   "source": [
    "#### 1.2 month"
   ]
  },
  {
   "cell_type": "code",
   "execution_count": 340,
   "metadata": {
    "collapsed": true
   },
   "outputs": [],
   "source": [
    "df['deadline_month'] = df['deadline_datetime'].dt.month"
   ]
  },
  {
   "cell_type": "code",
   "execution_count": 341,
   "metadata": {},
   "outputs": [
    {
     "data": {
      "text/plain": [
       "<matplotlib.axes._subplots.AxesSubplot at 0x21e002480b8>"
      ]
     },
     "execution_count": 341,
     "metadata": {},
     "output_type": "execute_result"
    },
    {
     "data": {
      "image/png": "[encoded data removed]",
      "text/plain": [
       "<matplotlib.figure.Figure at 0x21e7a7d7470>"
      ]
     },
     "metadata": {},
     "output_type": "display_data"
    }
   ],
   "source": [
    "pd.crosstab(index=df['deadline_month'], columns=df['state_end']).plot.bar(stacked=False, color=['orange', 'royalblue'], figsize=(20,10))"
   ]
  },
  {
   "cell_type": "markdown",
   "metadata": {},
   "source": [
    "#### 1.3 day"
   ]
  },
  {
   "cell_type": "code",
   "execution_count": 342,
   "metadata": {
    "collapsed": true
   },
   "outputs": [],
   "source": [
    "df['deadline_day'] = df['deadline_datetime'].dt.day"
   ]
  },
  {
   "cell_type": "code",
   "execution_count": 343,
   "metadata": {},
   "outputs": [
    {
     "data": {
      "text/plain": [
       "<matplotlib.axes._subplots.AxesSubplot at 0x21e6b80ffd0>"
      ]
     },
     "execution_count": 343,
     "metadata": {},
     "output_type": "execute_result"
    },
    {
     "data": {
      "image/png": "[encoded data removed]",
      "text/plain": [
       "<matplotlib.figure.Figure at 0x21e14054ef0>"
      ]
     },
     "metadata": {},
     "output_type": "display_data"
    }
   ],
   "source": [
    "pd.crosstab(index=df['deadline_day'], columns=df['state_end']).plot.bar(stacked=False, color=['orange', 'royalblue'], figsize=(20,10))"
   ]
  },
  {
   "cell_type": "markdown",
   "metadata": {},
   "source": [
    "#### 1.4 day of week"
   ]
  },
  {
   "cell_type": "code",
   "execution_count": 344,
   "metadata": {
    "collapsed": true
   },
   "outputs": [],
   "source": [
    "df['deadline_dayofweek'] = df['deadline_datetime'].dt.dayofweek"
   ]
  },
  {
   "cell_type": "code",
   "execution_count": 345,
   "metadata": {},
   "outputs": [
    {
     "data": {
      "text/plain": [
       "<matplotlib.axes._subplots.AxesSubplot at 0x21e00274c18>"
      ]
     },
     "execution_count": 345,
     "metadata": {},
     "output_type": "execute_result"
    },
    {
     "data": {
      "image/png": "[encoded data removed]",
      "text/plain": [
       "<matplotlib.figure.Figure at 0x21e6ea09278>"
      ]
     },
     "metadata": {},
     "output_type": "display_data"
    }
   ],
   "source": [
    "pd.crosstab(index=df['deadline_dayofweek'], columns=df['state_end']).plot.bar(stacked=False, color=['orange', 'royalblue'], figsize=(20,10))"
   ]
  },
  {
   "cell_type": "markdown",
   "metadata": {},
   "source": [
    "#### 1.5 hour"
   ]
  },
  {
   "cell_type": "code",
   "execution_count": 346,
   "metadata": {
    "collapsed": true
   },
   "outputs": [],
   "source": [
    "df['deadline_hour'] = df['deadline_datetime'].dt.hour"
   ]
  },
  {
   "cell_type": "code",
   "execution_count": 347,
   "metadata": {},
   "outputs": [
    {
     "data": {
      "text/plain": [
       "<matplotlib.axes._subplots.AxesSubplot at 0x21e0f69ac18>"
      ]
     },
     "execution_count": 347,
     "metadata": {},
     "output_type": "execute_result"
    },
    {
     "data": {
      "image/png": "[encoded data removed]",
      "text/plain": [
       "<matplotlib.figure.Figure at 0x21e045ead68>"
      ]
     },
     "metadata": {},
     "output_type": "display_data"
    }
   ],
   "source": [
    "pd.crosstab(index=df['deadline_hour'], columns=df['state_end']).plot.bar(stacked=False, color=['orange', 'royalblue'], figsize=(20,10))"
   ]
  },
  {
   "cell_type": "markdown",
   "metadata": {},
   "source": [
    "### 2. start"
   ]
  },
  {
   "cell_type": "code",
   "execution_count": 348,
   "metadata": {},
   "outputs": [
    {
     "data": {
      "text/html": [
       "<div>\n",
       "<style>\n",
       "    .dataframe thead tr:only-child th {\n",
       "        text-align: right;\n",
       "    }\n",
       "\n",
       "    .dataframe thead th {\n",
       "        text-align: left;\n",
       "    }\n",
       "\n",
       "    .dataframe tbody tr th {\n",
       "        vertical-align: top;\n",
       "    }\n",
       "</style>\n",
       "<table border=\"1\" class=\"dataframe\">\n",
       "  <thead>\n",
       "    <tr style=\"text-align: right;\">\n",
       "      <th></th>\n",
       "      <th>url_name</th>\n",
       "      <th>launched_at</th>\n",
       "      <th>launch_datetime</th>\n",
       "      <th>db_start_time</th>\n",
       "    </tr>\n",
       "  </thead>\n",
       "  <tbody>\n",
       "    <tr>\n",
       "      <th>21832</th>\n",
       "      <td>resist-10-piece-sticker-pack</td>\n",
       "      <td>1486162654</td>\n",
       "      <td>2017-02-03 22:57:34</td>\n",
       "      <td>NaN</td>\n",
       "    </tr>\n",
       "    <tr>\n",
       "      <th>8179</th>\n",
       "      <td>jay-and-pluto</td>\n",
       "      <td>1460652807</td>\n",
       "      <td>2016-04-14 16:53:27</td>\n",
       "      <td>2016-04-14</td>\n",
       "    </tr>\n",
       "    <tr>\n",
       "      <th>6220</th>\n",
       "      <td>redneck-outback-organic-smoking-wood</td>\n",
       "      <td>1456961664</td>\n",
       "      <td>2016-03-02 23:34:24</td>\n",
       "      <td>NaN</td>\n",
       "    </tr>\n",
       "    <tr>\n",
       "      <th>5452</th>\n",
       "      <td>cuddlybuddie</td>\n",
       "      <td>1456199879</td>\n",
       "      <td>2016-02-23 03:57:59</td>\n",
       "      <td>NaN</td>\n",
       "    </tr>\n",
       "    <tr>\n",
       "      <th>17211</th>\n",
       "      <td>the-float-lodge-duluths-first-premiere-float-c...</td>\n",
       "      <td>1475760567</td>\n",
       "      <td>2016-10-06 13:29:27</td>\n",
       "      <td>NaN</td>\n",
       "    </tr>\n",
       "  </tbody>\n",
       "</table>\n",
       "</div>"
      ],
      "text/plain": [
       "                                                url_name  launched_at  \\\n",
       "21832                       resist-10-piece-sticker-pack   1486162654   \n",
       "8179                                       jay-and-pluto   1460652807   \n",
       "6220                redneck-outback-organic-smoking-wood   1456961664   \n",
       "5452                                        cuddlybuddie   1456199879   \n",
       "17211  the-float-lodge-duluths-first-premiere-float-c...   1475760567   \n",
       "\n",
       "          launch_datetime db_start_time  \n",
       "21832 2017-02-03 22:57:34           NaN  \n",
       "8179  2016-04-14 16:53:27    2016-04-14  \n",
       "6220  2016-03-02 23:34:24           NaN  \n",
       "5452  2016-02-23 03:57:59           NaN  \n",
       "17211 2016-10-06 13:29:27           NaN  "
      ]
     },
     "execution_count": 348,
     "metadata": {},
     "output_type": "execute_result"
    }
   ],
   "source": [
    "# convert unix timestamp to datetime\n",
    "df['launch_datetime'] = pd.to_datetime(df['launched_at'], unit='s')\n",
    "df[['url_name','launched_at','launch_datetime', 'db_start_time']].sample(5)"
   ]
  },
  {
   "cell_type": "markdown",
   "metadata": {},
   "source": [
    "#### 2.1 year"
   ]
  },
  {
   "cell_type": "code",
   "execution_count": 349,
   "metadata": {
    "collapsed": true
   },
   "outputs": [],
   "source": [
    "df['launch_year'] = df['launch_datetime'].dt.year"
   ]
  },
  {
   "cell_type": "code",
   "execution_count": 350,
   "metadata": {},
   "outputs": [
    {
     "data": {
      "text/plain": [
       "<matplotlib.axes._subplots.AxesSubplot at 0x21e0f6f4da0>"
      ]
     },
     "execution_count": 350,
     "metadata": {},
     "output_type": "execute_result"
    },
    {
     "data": {
      "image/png": "[encoded data removed]",
      "text/plain": [
       "<matplotlib.figure.Figure at 0x21e0f3adeb8>"
      ]
     },
     "metadata": {},
     "output_type": "display_data"
    }
   ],
   "source": [
    "pd.crosstab(index=df['launch_year'], columns=df['state_end']).plot.bar(stacked=False, color=['orange', 'royalblue'], figsize=(20,10))"
   ]
  },
  {
   "cell_type": "markdown",
   "metadata": {},
   "source": [
    "#### 2.2 month"
   ]
  },
  {
   "cell_type": "code",
   "execution_count": 351,
   "metadata": {
    "collapsed": true
   },
   "outputs": [],
   "source": [
    "df['launch_month'] = df['launch_datetime'].dt.month"
   ]
  },
  {
   "cell_type": "code",
   "execution_count": 352,
   "metadata": {},
   "outputs": [
    {
     "data": {
      "text/plain": [
       "<matplotlib.axes._subplots.AxesSubplot at 0x21e0f307780>"
      ]
     },
     "execution_count": 352,
     "metadata": {},
     "output_type": "execute_result"
    },
    {
     "data": {
      "image/png": "[encoded data removed]",
      "text/plain": [
       "<matplotlib.figure.Figure at 0x21e7a843c50>"
      ]
     },
     "metadata": {},
     "output_type": "display_data"
    }
   ],
   "source": [
    "pd.crosstab(index=df['deadline_month'], columns=df['state_end']).plot.bar(stacked=False, color=['orange', 'royalblue'], figsize=(20,10))"
   ]
  },
  {
   "cell_type": "markdown",
   "metadata": {},
   "source": [
    "#### 2.3 day"
   ]
  },
  {
   "cell_type": "code",
   "execution_count": 353,
   "metadata": {
    "collapsed": true
   },
   "outputs": [],
   "source": [
    "df['launch_day'] = df['launch_datetime'].dt.day"
   ]
  },
  {
   "cell_type": "code",
   "execution_count": 354,
   "metadata": {},
   "outputs": [
    {
     "data": {
      "text/plain": [
       "<matplotlib.axes._subplots.AxesSubplot at 0x21e0f92ab00>"
      ]
     },
     "execution_count": 354,
     "metadata": {},
     "output_type": "execute_result"
    },
    {
     "data": {
      "image/png": "[encoded data removed]",
      "text/plain": [
       "<matplotlib.figure.Figure at 0x21e13fcca90>"
      ]
     },
     "metadata": {},
     "output_type": "display_data"
    }
   ],
   "source": [
    "pd.crosstab(index=df['deadline_day'], columns=df['state_end']).plot.bar(stacked=False, color=['orange', 'royalblue'], figsize=(20,10))"
   ]
  },
  {
   "cell_type": "markdown",
   "metadata": {},
   "source": [
    "#### 2.4 day of week"
   ]
  },
  {
   "cell_type": "code",
   "execution_count": 355,
   "metadata": {
    "collapsed": true
   },
   "outputs": [],
   "source": [
    "df['launch_dayofweek'] = df['launch_datetime'].dt.dayofweek"
   ]
  },
  {
   "cell_type": "code",
   "execution_count": 356,
   "metadata": {},
   "outputs": [
    {
     "data": {
      "text/plain": [
       "<matplotlib.axes._subplots.AxesSubplot at 0x21e7ca016a0>"
      ]
     },
     "execution_count": 356,
     "metadata": {},
     "output_type": "execute_result"
    },
    {
     "data": {
      "image/png": "[encoded data removed]",
      "text/plain": [
       "<matplotlib.figure.Figure at 0x21e6547dc18>"
      ]
     },
     "metadata": {},
     "output_type": "display_data"
    }
   ],
   "source": [
    "pd.crosstab(index=df['deadline_dayofweek'], columns=df['state_end']).plot.bar(stacked=False, color=['orange', 'royalblue'], figsize=(20,10))"
   ]
  },
  {
   "cell_type": "markdown",
   "metadata": {},
   "source": [
    "#### 2.5 hour"
   ]
  },
  {
   "cell_type": "code",
   "execution_count": 357,
   "metadata": {
    "collapsed": true
   },
   "outputs": [],
   "source": [
    "df['launch_hour'] = df['launch_datetime'].dt.hour"
   ]
  },
  {
   "cell_type": "code",
   "execution_count": 358,
   "metadata": {},
   "outputs": [
    {
     "data": {
      "text/plain": [
       "<matplotlib.axes._subplots.AxesSubplot at 0x21e65687be0>"
      ]
     },
     "execution_count": 358,
     "metadata": {},
     "output_type": "execute_result"
    },
    {
     "data": {
      "image/png": "[encoded data removed]",
      "text/plain": [
       "<matplotlib.figure.Figure at 0x21e0b6bacf8>"
      ]
     },
     "metadata": {},
     "output_type": "display_data"
    }
   ],
   "source": [
    "pd.crosstab(index=df['deadline_hour'], columns=df['state_end']).plot.bar(stacked=False, color=['orange', 'royalblue'], figsize=(20,10))"
   ]
  },
  {
   "cell_type": "code",
   "execution_count": null,
   "metadata": {
    "collapsed": true
   },
   "outputs": [],
   "source": []
  },
  {
   "cell_type": "code",
   "execution_count": null,
   "metadata": {
    "collapsed": true
   },
   "outputs": [],
   "source": []
  },
  {
   "cell_type": "markdown",
   "metadata": {},
   "source": [
    "### 3. facebook shares"
   ]
  },
  {
   "cell_type": "code",
   "execution_count": 359,
   "metadata": {
    "collapsed": true
   },
   "outputs": [],
   "source": [
    "plt.rcParams['figure.figsize'] = (20,10)"
   ]
  },
  {
   "cell_type": "code",
   "execution_count": 360,
   "metadata": {},
   "outputs": [
    {
     "data": {
      "text/plain": [
       "count     30702.000000\n",
       "mean        382.737411\n",
       "std        1825.706968\n",
       "min           0.000000\n",
       "25%           9.000000\n",
       "50%          77.000000\n",
       "75%         290.000000\n",
       "max      108071.000000\n",
       "Name: db_fb_shares_count, dtype: float64"
      ]
     },
     "execution_count": 360,
     "metadata": {},
     "output_type": "execute_result"
    }
   ],
   "source": [
    "df['db_fb_shares_count'].describe()"
   ]
  },
  {
   "cell_type": "code",
   "execution_count": 361,
   "metadata": {},
   "outputs": [
    {
     "data": {
      "text/plain": [
       "<matplotlib.axes._subplots.AxesSubplot at 0x21e0f8b7f28>"
      ]
     },
     "execution_count": 361,
     "metadata": {},
     "output_type": "execute_result"
    },
    {
     "data": {
      "image/png": "[encoded data removed]",
      "text/plain": [
       "<matplotlib.figure.Figure at 0x21e0f603a58>"
      ]
     },
     "metadata": {},
     "output_type": "display_data"
    }
   ],
   "source": [
    "sns.boxplot(data=df, y='db_fb_shares_count', x='class')"
   ]
  },
  {
   "cell_type": "code",
   "execution_count": 362,
   "metadata": {},
   "outputs": [
    {
     "data": {
      "text/plain": [
       "(-100, 1600)"
      ]
     },
     "execution_count": 362,
     "metadata": {},
     "output_type": "execute_result"
    },
    {
     "data": {
      "image/png": "[encoded data removed]",
      "text/plain": [
       "<matplotlib.figure.Figure at 0x21e6ea477b8>"
      ]
     },
     "metadata": {},
     "output_type": "display_data"
    }
   ],
   "source": [
    "sns.boxplot(data=df, y='db_fb_shares_count', x='class')\n",
    "plt.ylim((-100,1600))"
   ]
  },
  {
   "cell_type": "code",
   "execution_count": 363,
   "metadata": {},
   "outputs": [
    {
     "data": {
      "text/plain": [
       "db_fb_shares_count                       1.000000\n",
       "usd_pledged_end                          0.532433\n",
       "pledged_end                              0.476600\n",
       "db_pledged                               0.476600\n",
       "usd_pledged                              0.475299\n",
       "backers_count_end                        0.455001\n",
       "pledged                                  0.435585\n",
       "db_comments_count                        0.425622\n",
       "backers_count                            0.415224\n",
       "updates_likes_max_while_scraping         0.363069\n",
       "updates_likes_sum_while_scraping         0.359394\n",
       "updates_likes_mean_while_scraping        0.352924\n",
       "updates_likes_median_while_scraping      0.343648\n",
       "comments_count_public_while_scraping     0.336174\n",
       "comments_count_creator_while_scraping    0.316102\n",
       "updates_likes_min_while_scraping         0.286362\n",
       "db_faq_count                             0.263134\n",
       "ratio_pledged_end_goal                   0.239336\n",
       "db_updates_count                         0.236754\n",
       "faq_count_while_scraping                 0.232721\n",
       "ratio_pledged_goal                       0.205294\n",
       "db_project_we_love                       0.181728\n",
       "class                                    0.173188\n",
       "db_backers_count                         0.164343\n",
       "spotlight_end                            0.156468\n",
       "updates_count_while_scraping             0.154693\n",
       "average_pledge                           0.101872\n",
       "average_pledge_end                       0.087273\n",
       "launch_dayofweek                         0.037559\n",
       "days_preparation                         0.032268\n",
       "                                           ...   \n",
       "launch_hour                              0.011658\n",
       "deadline_day                             0.008830\n",
       "deadline_year                            0.008469\n",
       "launch_month                             0.006028\n",
       "launch_year                              0.005129\n",
       "days_remaining                           0.004887\n",
       "launch_day                               0.004534\n",
       "id                                       0.004148\n",
       "days_duration                            0.003892\n",
       "db_goal                                  0.003539\n",
       "goal                                     0.003539\n",
       "scraped_at                               0.003205\n",
       "launched_at                              0.003136\n",
       "state_changed_at                         0.003136\n",
       "usd_goal                                 0.003117\n",
       "state_changed_at_end                     0.002897\n",
       "deadline_end                             0.002897\n",
       "deadline_dayofweek                       0.002497\n",
       "db_duration                              0.002459\n",
       "ratio_running_duration                   0.002290\n",
       "days_running                             0.001043\n",
       "ID                                       0.000825\n",
       "static_usd_rate                          0.000796\n",
       "static_usd_rate_end                      0.000792\n",
       "db_fb_comments_count                          NaN\n",
       "db_hours_remaining                            NaN\n",
       "disable_communication                         NaN\n",
       "disable_communication_end                     NaN\n",
       "location_is_root                              NaN\n",
       "spotlight                                     NaN\n",
       "Name: db_fb_shares_count, Length: 70, dtype: float64"
      ]
     },
     "execution_count": 363,
     "metadata": {},
     "output_type": "execute_result"
    }
   ],
   "source": [
    "df.corr()['db_fb_shares_count'].abs().sort_values(ascending=False)"
   ]
  },
  {
   "cell_type": "code",
   "execution_count": 364,
   "metadata": {},
   "outputs": [
    {
     "name": "stdout",
     "output_type": "stream",
     "text": [
      "Pearson correlation: 0.532\n"
     ]
    },
    {
     "data": {
      "image/png": "[encoded data removed]",
      "text/plain": [
       "<matplotlib.figure.Figure at 0x21e0b7e5240>"
      ]
     },
     "metadata": {},
     "output_type": "display_data"
    }
   ],
   "source": [
    "attr = 'usd_pledged_end' \n",
    "sns.regplot(x=\"db_fb_shares_count\", y=attr, data=df)\n",
    "print(\"Pearson correlation: %.3f\" % df['db_fb_shares_count'].corr(df[attr]))"
   ]
  },
  {
   "cell_type": "code",
   "execution_count": 365,
   "metadata": {},
   "outputs": [
    {
     "data": {
      "text/plain": [
       "8859           udoo-x86-the-most-powerful-maker-board-ever\n",
       "8860           udoo-x86-the-most-powerful-maker-board-ever\n",
       "18063                      scream-a-new-beginning-fan-film\n",
       "19863          tenkiv-nexus-solving-the-clean-water-crisis\n",
       "23745    zetime-worlds-first-smartwatch-with-hands-over...\n",
       "Name: url_name, dtype: object"
      ]
     },
     "execution_count": 365,
     "metadata": {},
     "output_type": "execute_result"
    }
   ],
   "source": [
    "df[df.db_fb_shares_count > 60000]['url_name']"
   ]
  },
  {
   "cell_type": "markdown",
   "metadata": {},
   "source": [
    "## Feature transformation"
   ]
  },
  {
   "cell_type": "markdown",
   "metadata": {},
   "source": [
    "### 1. db_image_url"
   ]
  },
  {
   "cell_type": "markdown",
   "metadata": {},
   "source": [
    "Transform as follows:\n",
    "* 0 where url is missing\n",
    "* 1 otherwise"
   ]
  },
  {
   "cell_type": "code",
   "execution_count": 366,
   "metadata": {},
   "outputs": [
    {
     "data": {
      "text/plain": [
       "count                                                 21414\n",
       "unique                                                18820\n",
       "top       https://ksr-ugc.imgix.net/assets/011/222/877/1...\n",
       "freq                                                      3\n",
       "Name: db_image_url, dtype: object"
      ]
     },
     "execution_count": 366,
     "metadata": {},
     "output_type": "execute_result"
    }
   ],
   "source": [
    "df.db_image_url.describe()"
   ]
  },
  {
   "cell_type": "code",
   "execution_count": 367,
   "metadata": {
    "collapsed": true
   },
   "outputs": [],
   "source": [
    "df.db_image_url.fillna(0, inplace=True)"
   ]
  },
  {
   "cell_type": "code",
   "execution_count": 368,
   "metadata": {
    "collapsed": true
   },
   "outputs": [],
   "source": [
    "df.db_image_url = df.db_image_url.apply(lambda x: int(len(str(x)) > 1))"
   ]
  },
  {
   "cell_type": "code",
   "execution_count": 369,
   "metadata": {
    "collapsed": true
   },
   "outputs": [],
   "source": [
    "df.rename(index=str, columns={\"db_image_url\": \"db_image\"}, inplace=True)"
   ]
  },
  {
   "cell_type": "code",
   "execution_count": 370,
   "metadata": {},
   "outputs": [
    {
     "data": {
      "text/plain": [
       "1    21414\n",
       "0     9288\n",
       "Name: db_image, dtype: int64"
      ]
     },
     "execution_count": 370,
     "metadata": {},
     "output_type": "execute_result"
    }
   ],
   "source": [
    "df.db_image.value_counts()"
   ]
  },
  {
   "cell_type": "code",
   "execution_count": 371,
   "metadata": {
    "collapsed": true
   },
   "outputs": [],
   "source": [
    "static_data.remove('db_image_url')\n",
    "static_data.append('db_image')"
   ]
  },
  {
   "cell_type": "markdown",
   "metadata": {},
   "source": [
    "### 2. db_video_url"
   ]
  },
  {
   "cell_type": "markdown",
   "metadata": {},
   "source": [
    "Transform as follows:\n",
    "* 0 where url is missing\n",
    "* 1 otherwise"
   ]
  },
  {
   "cell_type": "code",
   "execution_count": 372,
   "metadata": {},
   "outputs": [
    {
     "data": {
      "text/plain": [
       "count                                                 20443\n",
       "unique                                                17985\n",
       "top       https://ksr-video.imgix.net/projects/2639323/v...\n",
       "freq                                                      3\n",
       "Name: db_video_url, dtype: object"
      ]
     },
     "execution_count": 372,
     "metadata": {},
     "output_type": "execute_result"
    }
   ],
   "source": [
    "df.db_video_url.describe()"
   ]
  },
  {
   "cell_type": "code",
   "execution_count": 373,
   "metadata": {
    "collapsed": true
   },
   "outputs": [],
   "source": [
    "df.db_video_url.fillna(0, inplace=True)"
   ]
  },
  {
   "cell_type": "code",
   "execution_count": 374,
   "metadata": {
    "collapsed": true
   },
   "outputs": [],
   "source": [
    "df.db_video_url = df.db_video_url.apply(lambda x: int(len(str(x)) > 1))"
   ]
  },
  {
   "cell_type": "code",
   "execution_count": 375,
   "metadata": {
    "collapsed": true
   },
   "outputs": [],
   "source": [
    "df.rename(index=str, columns={\"db_video_url\": \"db_video\"}, inplace=True)"
   ]
  },
  {
   "cell_type": "code",
   "execution_count": 376,
   "metadata": {},
   "outputs": [
    {
     "data": {
      "text/plain": [
       "1    20443\n",
       "0    10259\n",
       "Name: db_video, dtype: int64"
      ]
     },
     "execution_count": 376,
     "metadata": {},
     "output_type": "execute_result"
    }
   ],
   "source": [
    "df.db_video.value_counts()"
   ]
  },
  {
   "cell_type": "code",
   "execution_count": 377,
   "metadata": {
    "collapsed": true
   },
   "outputs": [],
   "source": [
    "static_data.remove('db_video_url')\n",
    "static_data.append('db_video')"
   ]
  },
  {
   "cell_type": "code",
   "execution_count": null,
   "metadata": {
    "collapsed": true
   },
   "outputs": [],
   "source": []
  },
  {
   "cell_type": "code",
   "execution_count": null,
   "metadata": {
    "collapsed": true
   },
   "outputs": [],
   "source": []
  },
  {
   "cell_type": "markdown",
   "metadata": {},
   "source": [
    "### 3. Categorical encoding"
   ]
  },
  {
   "cell_type": "code",
   "execution_count": null,
   "metadata": {
    "collapsed": true
   },
   "outputs": [],
   "source": []
  },
  {
   "cell_type": "code",
   "execution_count": 378,
   "metadata": {},
   "outputs": [
    {
     "name": "stdout",
     "output_type": "stream",
     "text": [
      "<class 'pandas.core.frame.DataFrame'>\n",
      "Index: 30702 entries, 0 to 30701\n",
      "Data columns (total 20 columns):\n",
      "blurb                  30702 non-null object\n",
      "category_name          30702 non-null object\n",
      "category_parent        30702 non-null object\n",
      "category_position      30702 non-null int64\n",
      "country                30702 non-null object\n",
      "currency               30702 non-null object\n",
      "days_duration          30702 non-null int64\n",
      "days_preparation       30702 non-null int64\n",
      "db_description_full    30691 non-null object\n",
      "db_duration            30702 non-null int64\n",
      "deadline_end           30702 non-null int64\n",
      "goal                   30702 non-null float64\n",
      "launched_at            30702 non-null int64\n",
      "location_name          30702 non-null object\n",
      "location_state         30702 non-null object\n",
      "location_type          30702 non-null object\n",
      "usd_goal               30702 non-null int64\n",
      "class                  30702 non-null int64\n",
      "db_image               30702 non-null int64\n",
      "db_video               30702 non-null int64\n",
      "dtypes: float64(1), int64(10), object(9)\n",
      "memory usage: 4.9+ MB\n"
     ]
    }
   ],
   "source": [
    "df[static_data].info()"
   ]
  },
  {
   "cell_type": "code",
   "execution_count": 385,
   "metadata": {
    "collapsed": true
   },
   "outputs": [],
   "source": [
    "data_to_encode = [\n",
    "    'category_name',\n",
    "    'category_parent',\n",
    "    'country',\n",
    "    'currency',\n",
    "    'location_name',\n",
    "    'location_state',\n",
    "    'location_type',\n",
    "]\n",
    "encoded = []"
   ]
  },
  {
   "cell_type": "code",
   "execution_count": 386,
   "metadata": {},
   "outputs": [],
   "source": [
    "for column in data_to_encode:\n",
    "    print(column, len(df[column].value_counts()), 'distinct values')\n",
    "    encoder = ce.OrdinalEncoder()\n",
    "    df[column+'_num'] = encoder.fit_transform(df[[column]])\n",
    "    encoded.append(column+'_num')"
   ]
  },
  {
   "cell_type": "code",
   "execution_count": null,
   "metadata": {
    "collapsed": true
   },
   "outputs": [],
   "source": []
  },
  {
   "cell_type": "code",
   "execution_count": 407,
   "metadata": {},
   "outputs": [
    {
     "data": {
      "text/plain": [
       "array([ 141,   15,   22,   14, 4705,  609,    9])"
      ]
     },
     "execution_count": 407,
     "metadata": {},
     "output_type": "execute_result"
    }
   ],
   "source": [
    "enc = preprocessing.OneHotEncoder()\n",
    "enc.fit(df[encoded])\n",
    "\n",
    "# count of distinct values per each column\n",
    "enc.n_values_"
   ]
  },
  {
   "cell_type": "code",
   "execution_count": 408,
   "metadata": {},
   "outputs": [
    {
     "data": {
      "text/plain": [
       "array([   0,  141,  156,  178,  192, 4897, 5506, 5515], dtype=int32)"
      ]
     },
     "execution_count": 408,
     "metadata": {},
     "output_type": "execute_result"
    }
   ],
   "source": [
    "# index borders\n",
    "enc.feature_indices_"
   ]
  },
  {
   "cell_type": "code",
   "execution_count": 419,
   "metadata": {},
   "outputs": [
    {
     "data": {
      "text/html": [
       "<div>\n",
       "<style>\n",
       "    .dataframe thead tr:only-child th {\n",
       "        text-align: right;\n",
       "    }\n",
       "\n",
       "    .dataframe thead th {\n",
       "        text-align: left;\n",
       "    }\n",
       "\n",
       "    .dataframe tbody tr th {\n",
       "        vertical-align: top;\n",
       "    }\n",
       "</style>\n",
       "<table border=\"1\" class=\"dataframe\">\n",
       "  <thead>\n",
       "    <tr style=\"text-align: right;\">\n",
       "      <th></th>\n",
       "      <th>0</th>\n",
       "      <th>1</th>\n",
       "      <th>2</th>\n",
       "      <th>3</th>\n",
       "      <th>4</th>\n",
       "      <th>5</th>\n",
       "      <th>6</th>\n",
       "      <th>7</th>\n",
       "      <th>8</th>\n",
       "      <th>9</th>\n",
       "      <th>...</th>\n",
       "      <th>5505</th>\n",
       "      <th>5506</th>\n",
       "      <th>5507</th>\n",
       "      <th>5508</th>\n",
       "      <th>5509</th>\n",
       "      <th>5510</th>\n",
       "      <th>5511</th>\n",
       "      <th>5512</th>\n",
       "      <th>5513</th>\n",
       "      <th>5514</th>\n",
       "    </tr>\n",
       "  </thead>\n",
       "  <tbody>\n",
       "    <tr>\n",
       "      <th>0</th>\n",
       "      <td>1.0</td>\n",
       "      <td>0.0</td>\n",
       "      <td>0.0</td>\n",
       "      <td>0.0</td>\n",
       "      <td>0.0</td>\n",
       "      <td>0.0</td>\n",
       "      <td>0.0</td>\n",
       "      <td>0.0</td>\n",
       "      <td>0.0</td>\n",
       "      <td>0.0</td>\n",
       "      <td>...</td>\n",
       "      <td>0.0</td>\n",
       "      <td>1.0</td>\n",
       "      <td>0.0</td>\n",
       "      <td>0.0</td>\n",
       "      <td>0.0</td>\n",
       "      <td>0.0</td>\n",
       "      <td>0.0</td>\n",
       "      <td>0.0</td>\n",
       "      <td>0.0</td>\n",
       "      <td>0.0</td>\n",
       "    </tr>\n",
       "    <tr>\n",
       "      <th>1</th>\n",
       "      <td>1.0</td>\n",
       "      <td>0.0</td>\n",
       "      <td>0.0</td>\n",
       "      <td>0.0</td>\n",
       "      <td>0.0</td>\n",
       "      <td>0.0</td>\n",
       "      <td>0.0</td>\n",
       "      <td>0.0</td>\n",
       "      <td>0.0</td>\n",
       "      <td>0.0</td>\n",
       "      <td>...</td>\n",
       "      <td>0.0</td>\n",
       "      <td>1.0</td>\n",
       "      <td>0.0</td>\n",
       "      <td>0.0</td>\n",
       "      <td>0.0</td>\n",
       "      <td>0.0</td>\n",
       "      <td>0.0</td>\n",
       "      <td>0.0</td>\n",
       "      <td>0.0</td>\n",
       "      <td>0.0</td>\n",
       "    </tr>\n",
       "    <tr>\n",
       "      <th>2</th>\n",
       "      <td>1.0</td>\n",
       "      <td>0.0</td>\n",
       "      <td>0.0</td>\n",
       "      <td>0.0</td>\n",
       "      <td>0.0</td>\n",
       "      <td>0.0</td>\n",
       "      <td>0.0</td>\n",
       "      <td>0.0</td>\n",
       "      <td>0.0</td>\n",
       "      <td>0.0</td>\n",
       "      <td>...</td>\n",
       "      <td>0.0</td>\n",
       "      <td>1.0</td>\n",
       "      <td>0.0</td>\n",
       "      <td>0.0</td>\n",
       "      <td>0.0</td>\n",
       "      <td>0.0</td>\n",
       "      <td>0.0</td>\n",
       "      <td>0.0</td>\n",
       "      <td>0.0</td>\n",
       "      <td>0.0</td>\n",
       "    </tr>\n",
       "    <tr>\n",
       "      <th>3</th>\n",
       "      <td>1.0</td>\n",
       "      <td>0.0</td>\n",
       "      <td>0.0</td>\n",
       "      <td>0.0</td>\n",
       "      <td>0.0</td>\n",
       "      <td>0.0</td>\n",
       "      <td>0.0</td>\n",
       "      <td>0.0</td>\n",
       "      <td>0.0</td>\n",
       "      <td>0.0</td>\n",
       "      <td>...</td>\n",
       "      <td>0.0</td>\n",
       "      <td>1.0</td>\n",
       "      <td>0.0</td>\n",
       "      <td>0.0</td>\n",
       "      <td>0.0</td>\n",
       "      <td>0.0</td>\n",
       "      <td>0.0</td>\n",
       "      <td>0.0</td>\n",
       "      <td>0.0</td>\n",
       "      <td>0.0</td>\n",
       "    </tr>\n",
       "    <tr>\n",
       "      <th>4</th>\n",
       "      <td>1.0</td>\n",
       "      <td>0.0</td>\n",
       "      <td>0.0</td>\n",
       "      <td>0.0</td>\n",
       "      <td>0.0</td>\n",
       "      <td>0.0</td>\n",
       "      <td>0.0</td>\n",
       "      <td>0.0</td>\n",
       "      <td>0.0</td>\n",
       "      <td>0.0</td>\n",
       "      <td>...</td>\n",
       "      <td>0.0</td>\n",
       "      <td>1.0</td>\n",
       "      <td>0.0</td>\n",
       "      <td>0.0</td>\n",
       "      <td>0.0</td>\n",
       "      <td>0.0</td>\n",
       "      <td>0.0</td>\n",
       "      <td>0.0</td>\n",
       "      <td>0.0</td>\n",
       "      <td>0.0</td>\n",
       "    </tr>\n",
       "  </tbody>\n",
       "</table>\n",
       "<p>5 rows × 5515 columns</p>\n",
       "</div>"
      ],
      "text/plain": [
       "   0     1     2     3     4     5     6     7     8     9     ...   5505  \\\n",
       "0   1.0   0.0   0.0   0.0   0.0   0.0   0.0   0.0   0.0   0.0  ...    0.0   \n",
       "1   1.0   0.0   0.0   0.0   0.0   0.0   0.0   0.0   0.0   0.0  ...    0.0   \n",
       "2   1.0   0.0   0.0   0.0   0.0   0.0   0.0   0.0   0.0   0.0  ...    0.0   \n",
       "3   1.0   0.0   0.0   0.0   0.0   0.0   0.0   0.0   0.0   0.0  ...    0.0   \n",
       "4   1.0   0.0   0.0   0.0   0.0   0.0   0.0   0.0   0.0   0.0  ...    0.0   \n",
       "\n",
       "   5506  5507  5508  5509  5510  5511  5512  5513  5514  \n",
       "0   1.0   0.0   0.0   0.0   0.0   0.0   0.0   0.0   0.0  \n",
       "1   1.0   0.0   0.0   0.0   0.0   0.0   0.0   0.0   0.0  \n",
       "2   1.0   0.0   0.0   0.0   0.0   0.0   0.0   0.0   0.0  \n",
       "3   1.0   0.0   0.0   0.0   0.0   0.0   0.0   0.0   0.0  \n",
       "4   1.0   0.0   0.0   0.0   0.0   0.0   0.0   0.0   0.0  \n",
       "\n",
       "[5 rows x 5515 columns]"
      ]
     },
     "execution_count": 419,
     "metadata": {},
     "output_type": "execute_result"
    }
   ],
   "source": [
    "df_encoded_categorical = pd.DataFrame(enc.transform(df[encoded]).toarray())\n",
    "df_encoded_categorical.head()"
   ]
  },
  {
   "cell_type": "markdown",
   "metadata": {},
   "source": [
    "## Feature selection"
   ]
  },
  {
   "cell_type": "markdown",
   "metadata": {
    "collapsed": true
   },
   "source": [
    "apply PCA to df_encoded_categorical or its subparts?\n",
    "\n",
    "vs. to whole feature vector?"
   ]
  },
  {
   "cell_type": "code",
   "execution_count": 403,
   "metadata": {},
   "outputs": [
    {
     "name": "stdout",
     "output_type": "stream",
     "text": [
      "<class 'pandas.core.frame.DataFrame'>\n",
      "Index: 30702 entries, 0 to 30701\n",
      "Data columns (total 20 columns):\n",
      "blurb                  30702 non-null object\n",
      "category_name          30702 non-null object\n",
      "category_parent        30702 non-null object\n",
      "category_position      30702 non-null int64\n",
      "country                30702 non-null object\n",
      "currency               30702 non-null object\n",
      "days_duration          30702 non-null int64\n",
      "days_preparation       30702 non-null int64\n",
      "db_description_full    30691 non-null object\n",
      "db_duration            30702 non-null int64\n",
      "deadline_end           30702 non-null int64\n",
      "goal                   30702 non-null float64\n",
      "launched_at            30702 non-null int64\n",
      "location_name          30702 non-null object\n",
      "location_state         30702 non-null object\n",
      "location_type          30702 non-null object\n",
      "usd_goal               30702 non-null int64\n",
      "class                  30702 non-null int64\n",
      "db_image               30702 non-null int64\n",
      "db_video               30702 non-null int64\n",
      "dtypes: float64(1), int64(10), object(9)\n",
      "memory usage: 6.2+ MB\n"
     ]
    }
   ],
   "source": [
    "df[static_data].info()"
   ]
  },
  {
   "cell_type": "code",
   "execution_count": 414,
   "metadata": {},
   "outputs": [],
   "source": [
    "df_static = df[static_data].select_dtypes(exclude=['object']).drop(['deadline_end', 'launched_at'], axis=1)"
   ]
  },
  {
   "cell_type": "code",
   "execution_count": 434,
   "metadata": {},
   "outputs": [],
   "source": [
    "# change index types\n",
    "df_encoded_categorical.index = df_encoded_categorical.index.astype('int64')\n",
    "df_static.index = df_static.index.astype('int64')"
   ]
  },
  {
   "cell_type": "code",
   "execution_count": 441,
   "metadata": {},
   "outputs": [],
   "source": [
    "df_static = df_static.join(df_encoded_categorical)"
   ]
  },
  {
   "cell_type": "code",
   "execution_count": 442,
   "metadata": {
    "collapsed": true
   },
   "outputs": [],
   "source": [
    "df_static.to_csv('data/static_01.csv')"
   ]
  },
  {
   "cell_type": "code",
   "execution_count": null,
   "metadata": {
    "collapsed": true
   },
   "outputs": [],
   "source": []
  }
 ],
 "metadata": {
  "kernelspec": {
   "display_name": "Python 3",
   "language": "python",
   "name": "python3"
  },
  "language_info": {
   "codemirror_mode": {
    "name": "ipython",
    "version": 3
   },
   "file_extension": ".py",
   "mimetype": "text/x-python",
   "name": "python",
   "nbconvert_exporter": "python",
   "pygments_lexer": "ipython3",
   "version": "3.6.1"
  }
 },
 "nbformat": 4,
 "nbformat_minor": 2
}
