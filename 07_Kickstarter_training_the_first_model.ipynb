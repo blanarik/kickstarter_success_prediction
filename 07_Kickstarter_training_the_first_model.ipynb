{
 "cells": [
  {
   "cell_type": "code",
   "execution_count": 1,
   "metadata": {},
   "outputs": [],
   "source": [
    "import pandas as pd"
   ]
  },
  {
   "cell_type": "code",
   "execution_count": 2,
   "metadata": {},
   "outputs": [
    {
     "name": "stderr",
     "output_type": "stream",
     "text": [
      "C:\\Users\\Patrik\\Anaconda3\\lib\\site-packages\\IPython\\core\\interactiveshell.py:2717: DtypeWarning: Columns (30,31) have mixed types. Specify dtype option on import or set low_memory=False.\n",
      "  interactivity=interactivity, compiler=compiler, result=result)\n"
     ]
    }
   ],
   "source": [
    "d = pd.read_csv('data/after_var_selection.csv', encoding='Latin1', index_col=0)"
   ]
  },
  {
   "cell_type": "code",
   "execution_count": 3,
   "metadata": {},
   "outputs": [
    {
     "name": "stdout",
     "output_type": "stream",
     "text": [
      "<class 'pandas.core.frame.DataFrame'>\n",
      "Int64Index: 31062 entries, 0 to 31061\n",
      "Data columns (total 40 columns):\n",
      "average_pledge                 31062 non-null float64\n",
      "backers_count_x                31062 non-null int64\n",
      "blurb                          31062 non-null object\n",
      "category_name                  31062 non-null object\n",
      "category_parent                31062 non-null object\n",
      "country                        31062 non-null object\n",
      "created_at                     31062 non-null int64\n",
      "currency_trailing_code         31062 non-null bool\n",
      "currency_x                     31062 non-null object\n",
      "days_duration                  31062 non-null int64\n",
      "days_preparation               31062 non-null int64\n",
      "days_remaining                 31062 non-null int64\n",
      "days_running                   31062 non-null int64\n",
      "deadline_end                   31062 non-null int64\n",
      "duration                       31062 non-null int64\n",
      "end_time                       31062 non-null object\n",
      "goal_x                         31062 non-null float64\n",
      "image_url                      21750 non-null object\n",
      "launched_at                    31062 non-null int64\n",
      "location_name                  31062 non-null object\n",
      "location_state                 31055 non-null object\n",
      "location_type                  31062 non-null object\n",
      "name_x                         31062 non-null object\n",
      "percentage_pledged_end_goal    31062 non-null float64\n",
      "percentage_pledged_goal        31062 non-null float64\n",
      "percentage_running_duration    31062 non-null int64\n",
      "pledged_x                      31062 non-null float64\n",
      "project_id                     31062 non-null int64\n",
      "scraped_at                     31062 non-null int64\n",
      "staff_pick                     27493 non-null object\n",
      "staff_pick_end                 29263 non-null object\n",
      "state_end                      31062 non-null object\n",
      "static_usd_rate                31062 non-null float64\n",
      "url                            31062 non-null object\n",
      "url_name                       31062 non-null object\n",
      "urls_url                       31062 non-null object\n",
      "urls_url_end                   31062 non-null object\n",
      "usd_goal                       31062 non-null int64\n",
      "usd_pledged                    31062 non-null float64\n",
      "video_url                      20608 non-null object\n",
      "dtypes: bool(1), float64(7), int64(13), object(19)\n",
      "memory usage: 9.5+ MB\n"
     ]
    }
   ],
   "source": [
    "d.info()"
   ]
  },
  {
   "cell_type": "code",
   "execution_count": 4,
   "metadata": {},
   "outputs": [
    {
     "data": {
      "text/html": [
       "<div>\n",
       "<style>\n",
       "    .dataframe thead tr:only-child th {\n",
       "        text-align: right;\n",
       "    }\n",
       "\n",
       "    .dataframe thead th {\n",
       "        text-align: left;\n",
       "    }\n",
       "\n",
       "    .dataframe tbody tr th {\n",
       "        vertical-align: top;\n",
       "    }\n",
       "</style>\n",
       "<table border=\"1\" class=\"dataframe\">\n",
       "  <thead>\n",
       "    <tr style=\"text-align: right;\">\n",
       "      <th></th>\n",
       "      <th>average_pledge</th>\n",
       "      <th>backers_count_x</th>\n",
       "      <th>blurb</th>\n",
       "      <th>category_name</th>\n",
       "      <th>category_parent</th>\n",
       "      <th>country</th>\n",
       "      <th>created_at</th>\n",
       "      <th>currency_trailing_code</th>\n",
       "      <th>currency_x</th>\n",
       "      <th>days_duration</th>\n",
       "      <th>...</th>\n",
       "      <th>staff_pick_end</th>\n",
       "      <th>state_end</th>\n",
       "      <th>static_usd_rate</th>\n",
       "      <th>url</th>\n",
       "      <th>url_name</th>\n",
       "      <th>urls_url</th>\n",
       "      <th>urls_url_end</th>\n",
       "      <th>usd_goal</th>\n",
       "      <th>usd_pledged</th>\n",
       "      <th>video_url</th>\n",
       "    </tr>\n",
       "  </thead>\n",
       "  <tbody>\n",
       "    <tr>\n",
       "      <th>0</th>\n",
       "      <td>57.818182</td>\n",
       "      <td>22</td>\n",
       "      <td>Help SCDT fund their inaugural performance in ...</td>\n",
       "      <td>Performances</td>\n",
       "      <td>dance</td>\n",
       "      <td>US</td>\n",
       "      <td>1444460998</td>\n",
       "      <td>True</td>\n",
       "      <td>USD</td>\n",
       "      <td>34</td>\n",
       "      <td>...</td>\n",
       "      <td>NaN</td>\n",
       "      <td>successful</td>\n",
       "      <td>1.000000</td>\n",
       "      <td>https://www.kickstarter.com/projects/911926086...</td>\n",
       "      <td>sac-contemporary-dance-theatres-performance-re...</td>\n",
       "      <td>https://www.kickstarter.com/projects/911926086...</td>\n",
       "      <td>https://www.kickstarter.com/projects/911926086...</td>\n",
       "      <td>8000</td>\n",
       "      <td>1272.0</td>\n",
       "      <td>https://ksr-video.imgix.net/projects/2127772/v...</td>\n",
       "    </tr>\n",
       "    <tr>\n",
       "      <th>1</th>\n",
       "      <td>0.000000</td>\n",
       "      <td>0</td>\n",
       "      <td>This is where inspired dancers from all ages g...</td>\n",
       "      <td>Performances</td>\n",
       "      <td>dance</td>\n",
       "      <td>NL</td>\n",
       "      <td>1444938006</td>\n",
       "      <td>False</td>\n",
       "      <td>EUR</td>\n",
       "      <td>30</td>\n",
       "      <td>...</td>\n",
       "      <td>NaN</td>\n",
       "      <td>failed</td>\n",
       "      <td>1.136392</td>\n",
       "      <td>https://www.kickstarter.com/projects/122127184...</td>\n",
       "      <td>all-style-dance-battle-the-streak</td>\n",
       "      <td>https://www.kickstarter.com/projects/122127184...</td>\n",
       "      <td>https://www.kickstarter.com/projects/122127184...</td>\n",
       "      <td>568</td>\n",
       "      <td>0.0</td>\n",
       "      <td>https://ksr-video.imgix.net/projects/2137299/v...</td>\n",
       "    </tr>\n",
       "    <tr>\n",
       "      <th>2</th>\n",
       "      <td>50.000000</td>\n",
       "      <td>1</td>\n",
       "      <td>In our 8th year of equipping students to give ...</td>\n",
       "      <td>Performances</td>\n",
       "      <td>dance</td>\n",
       "      <td>US</td>\n",
       "      <td>1444906983</td>\n",
       "      <td>True</td>\n",
       "      <td>USD</td>\n",
       "      <td>29</td>\n",
       "      <td>...</td>\n",
       "      <td>NaN</td>\n",
       "      <td>failed</td>\n",
       "      <td>1.000000</td>\n",
       "      <td>https://www.kickstarter.com/projects/941718644...</td>\n",
       "      <td>reverb-performing-arts-center-building-fund</td>\n",
       "      <td>https://www.kickstarter.com/projects/941718644...</td>\n",
       "      <td>https://www.kickstarter.com/projects/941718644...</td>\n",
       "      <td>25000</td>\n",
       "      <td>50.0</td>\n",
       "      <td>https://ksr-video.imgix.net/projects/2136543/v...</td>\n",
       "    </tr>\n",
       "    <tr>\n",
       "      <th>3</th>\n",
       "      <td>30.000000</td>\n",
       "      <td>1</td>\n",
       "      <td>Verve Collisionz is a hip hop group at the Uni...</td>\n",
       "      <td>Performances</td>\n",
       "      <td>dance</td>\n",
       "      <td>US</td>\n",
       "      <td>1444919408</td>\n",
       "      <td>True</td>\n",
       "      <td>USD</td>\n",
       "      <td>60</td>\n",
       "      <td>...</td>\n",
       "      <td>False</td>\n",
       "      <td>successful</td>\n",
       "      <td>1.000000</td>\n",
       "      <td>https://www.kickstarter.com/projects/64519019/...</td>\n",
       "      <td>verve-collisionz</td>\n",
       "      <td>https://www.kickstarter.com/projects/64519019/...</td>\n",
       "      <td>https://www.kickstarter.com/projects/64519019/...</td>\n",
       "      <td>600</td>\n",
       "      <td>30.0</td>\n",
       "      <td>https://ksr-video.imgix.net/projects/2136760/v...</td>\n",
       "    </tr>\n",
       "    <tr>\n",
       "      <th>4</th>\n",
       "      <td>61.200000</td>\n",
       "      <td>5</td>\n",
       "      <td>Verve Collisionz is a hip hop group at the Uni...</td>\n",
       "      <td>Performances</td>\n",
       "      <td>dance</td>\n",
       "      <td>US</td>\n",
       "      <td>1444919408</td>\n",
       "      <td>True</td>\n",
       "      <td>USD</td>\n",
       "      <td>60</td>\n",
       "      <td>...</td>\n",
       "      <td>False</td>\n",
       "      <td>successful</td>\n",
       "      <td>1.000000</td>\n",
       "      <td>https://www.kickstarter.com/projects/64519019/...</td>\n",
       "      <td>verve-collisionz</td>\n",
       "      <td>https://www.kickstarter.com/projects/64519019/...</td>\n",
       "      <td>https://www.kickstarter.com/projects/64519019/...</td>\n",
       "      <td>600</td>\n",
       "      <td>306.0</td>\n",
       "      <td>https://ksr-video.imgix.net/projects/2136760/v...</td>\n",
       "    </tr>\n",
       "  </tbody>\n",
       "</table>\n",
       "<p>5 rows × 40 columns</p>\n",
       "</div>"
      ],
      "text/plain": [
       "   average_pledge  backers_count_x  \\\n",
       "0       57.818182               22   \n",
       "1        0.000000                0   \n",
       "2       50.000000                1   \n",
       "3       30.000000                1   \n",
       "4       61.200000                5   \n",
       "\n",
       "                                               blurb category_name  \\\n",
       "0  Help SCDT fund their inaugural performance in ...  Performances   \n",
       "1  This is where inspired dancers from all ages g...  Performances   \n",
       "2  In our 8th year of equipping students to give ...  Performances   \n",
       "3  Verve Collisionz is a hip hop group at the Uni...  Performances   \n",
       "4  Verve Collisionz is a hip hop group at the Uni...  Performances   \n",
       "\n",
       "  category_parent country  created_at  currency_trailing_code currency_x  \\\n",
       "0           dance      US  1444460998                    True        USD   \n",
       "1           dance      NL  1444938006                   False        EUR   \n",
       "2           dance      US  1444906983                    True        USD   \n",
       "3           dance      US  1444919408                    True        USD   \n",
       "4           dance      US  1444919408                    True        USD   \n",
       "\n",
       "   days_duration                        ...                          \\\n",
       "0             34                        ...                           \n",
       "1             30                        ...                           \n",
       "2             29                        ...                           \n",
       "3             60                        ...                           \n",
       "4             60                        ...                           \n",
       "\n",
       "   staff_pick_end   state_end  static_usd_rate  \\\n",
       "0             NaN  successful         1.000000   \n",
       "1             NaN      failed         1.136392   \n",
       "2             NaN      failed         1.000000   \n",
       "3           False  successful         1.000000   \n",
       "4           False  successful         1.000000   \n",
       "\n",
       "                                                 url  \\\n",
       "0  https://www.kickstarter.com/projects/911926086...   \n",
       "1  https://www.kickstarter.com/projects/122127184...   \n",
       "2  https://www.kickstarter.com/projects/941718644...   \n",
       "3  https://www.kickstarter.com/projects/64519019/...   \n",
       "4  https://www.kickstarter.com/projects/64519019/...   \n",
       "\n",
       "                                            url_name  \\\n",
       "0  sac-contemporary-dance-theatres-performance-re...   \n",
       "1                  all-style-dance-battle-the-streak   \n",
       "2        reverb-performing-arts-center-building-fund   \n",
       "3                                   verve-collisionz   \n",
       "4                                   verve-collisionz   \n",
       "\n",
       "                                            urls_url  \\\n",
       "0  https://www.kickstarter.com/projects/911926086...   \n",
       "1  https://www.kickstarter.com/projects/122127184...   \n",
       "2  https://www.kickstarter.com/projects/941718644...   \n",
       "3  https://www.kickstarter.com/projects/64519019/...   \n",
       "4  https://www.kickstarter.com/projects/64519019/...   \n",
       "\n",
       "                                        urls_url_end usd_goal  usd_pledged  \\\n",
       "0  https://www.kickstarter.com/projects/911926086...     8000       1272.0   \n",
       "1  https://www.kickstarter.com/projects/122127184...      568          0.0   \n",
       "2  https://www.kickstarter.com/projects/941718644...    25000         50.0   \n",
       "3  https://www.kickstarter.com/projects/64519019/...      600         30.0   \n",
       "4  https://www.kickstarter.com/projects/64519019/...      600        306.0   \n",
       "\n",
       "                                           video_url  \n",
       "0  https://ksr-video.imgix.net/projects/2127772/v...  \n",
       "1  https://ksr-video.imgix.net/projects/2137299/v...  \n",
       "2  https://ksr-video.imgix.net/projects/2136543/v...  \n",
       "3  https://ksr-video.imgix.net/projects/2136760/v...  \n",
       "4  https://ksr-video.imgix.net/projects/2136760/v...  \n",
       "\n",
       "[5 rows x 40 columns]"
      ]
     },
     "execution_count": 4,
     "metadata": {},
     "output_type": "execute_result"
    }
   ],
   "source": [
    "d.head()"
   ]
  },
  {
   "cell_type": "code",
   "execution_count": 5,
   "metadata": {
    "collapsed": true
   },
   "outputs": [],
   "source": [
    "selected_cols = [\n",
    "    'category_name',\n",
    "    'category_parent',\n",
    "    'country',\n",
    "    'currency_x',\n",
    "    'days_duration', # some projects were stopped ?\n",
    "    'days_preparation',\n",
    "    'duration', # should use this ? - problem: days_running, days_remaining\n",
    "    'goal_x',\n",
    "    'location_name',\n",
    "    'location_state',\n",
    "    'location_type',\n",
    "    'name_x', # length ?\n",
    "    'percentage_pledged_end_goal', # for classes\n",
    "    'usd_goal'\n",
    "]"
   ]
  },
  {
   "cell_type": "code",
   "execution_count": 6,
   "metadata": {},
   "outputs": [
    {
     "data": {
      "text/html": [
       "<div>\n",
       "<style>\n",
       "    .dataframe thead tr:only-child th {\n",
       "        text-align: right;\n",
       "    }\n",
       "\n",
       "    .dataframe thead th {\n",
       "        text-align: left;\n",
       "    }\n",
       "\n",
       "    .dataframe tbody tr th {\n",
       "        vertical-align: top;\n",
       "    }\n",
       "</style>\n",
       "<table border=\"1\" class=\"dataframe\">\n",
       "  <thead>\n",
       "    <tr style=\"text-align: right;\">\n",
       "      <th></th>\n",
       "      <th>category_name</th>\n",
       "      <th>category_parent</th>\n",
       "      <th>country</th>\n",
       "      <th>currency_x</th>\n",
       "      <th>days_duration</th>\n",
       "      <th>days_preparation</th>\n",
       "      <th>duration</th>\n",
       "      <th>goal_x</th>\n",
       "      <th>location_name</th>\n",
       "      <th>location_state</th>\n",
       "      <th>location_type</th>\n",
       "      <th>name_x</th>\n",
       "      <th>percentage_pledged_end_goal</th>\n",
       "      <th>usd_goal</th>\n",
       "    </tr>\n",
       "  </thead>\n",
       "  <tbody>\n",
       "    <tr>\n",
       "      <th>0</th>\n",
       "      <td>Performances</td>\n",
       "      <td>dance</td>\n",
       "      <td>US</td>\n",
       "      <td>USD</td>\n",
       "      <td>34</td>\n",
       "      <td>7</td>\n",
       "      <td>34</td>\n",
       "      <td>8000.0</td>\n",
       "      <td>Folsom</td>\n",
       "      <td>CA</td>\n",
       "      <td>Town</td>\n",
       "      <td>Sacramento Contemporary Dance Theatre \"Resilie...</td>\n",
       "      <td>105.512500</td>\n",
       "      <td>8000</td>\n",
       "    </tr>\n",
       "    <tr>\n",
       "      <th>1</th>\n",
       "      <td>Performances</td>\n",
       "      <td>dance</td>\n",
       "      <td>NL</td>\n",
       "      <td>EUR</td>\n",
       "      <td>30</td>\n",
       "      <td>5</td>\n",
       "      <td>30</td>\n",
       "      <td>500.0</td>\n",
       "      <td>Maarssen</td>\n",
       "      <td>Utrecht</td>\n",
       "      <td>Town</td>\n",
       "      <td>Dance Battle The Streak</td>\n",
       "      <td>0.000000</td>\n",
       "      <td>568</td>\n",
       "    </tr>\n",
       "    <tr>\n",
       "      <th>2</th>\n",
       "      <td>Performances</td>\n",
       "      <td>dance</td>\n",
       "      <td>US</td>\n",
       "      <td>USD</td>\n",
       "      <td>29</td>\n",
       "      <td>9</td>\n",
       "      <td>29</td>\n",
       "      <td>25000.0</td>\n",
       "      <td>Smithfield</td>\n",
       "      <td>RI</td>\n",
       "      <td>Town</td>\n",
       "      <td>Reverb Performing Arts Center Building Fund</td>\n",
       "      <td>0.280000</td>\n",
       "      <td>25000</td>\n",
       "    </tr>\n",
       "    <tr>\n",
       "      <th>3</th>\n",
       "      <td>Performances</td>\n",
       "      <td>dance</td>\n",
       "      <td>US</td>\n",
       "      <td>USD</td>\n",
       "      <td>60</td>\n",
       "      <td>8</td>\n",
       "      <td>60</td>\n",
       "      <td>600.0</td>\n",
       "      <td>Boulder</td>\n",
       "      <td>CO</td>\n",
       "      <td>Town</td>\n",
       "      <td>VeRVE Collisionz</td>\n",
       "      <td>150.666667</td>\n",
       "      <td>600</td>\n",
       "    </tr>\n",
       "    <tr>\n",
       "      <th>4</th>\n",
       "      <td>Performances</td>\n",
       "      <td>dance</td>\n",
       "      <td>US</td>\n",
       "      <td>USD</td>\n",
       "      <td>60</td>\n",
       "      <td>8</td>\n",
       "      <td>60</td>\n",
       "      <td>600.0</td>\n",
       "      <td>Boulder</td>\n",
       "      <td>CO</td>\n",
       "      <td>Town</td>\n",
       "      <td>VeRVE Collisionz</td>\n",
       "      <td>150.666667</td>\n",
       "      <td>600</td>\n",
       "    </tr>\n",
       "  </tbody>\n",
       "</table>\n",
       "</div>"
      ],
      "text/plain": [
       "  category_name category_parent country currency_x  days_duration  \\\n",
       "0  Performances           dance      US        USD             34   \n",
       "1  Performances           dance      NL        EUR             30   \n",
       "2  Performances           dance      US        USD             29   \n",
       "3  Performances           dance      US        USD             60   \n",
       "4  Performances           dance      US        USD             60   \n",
       "\n",
       "   days_preparation  duration   goal_x location_name location_state  \\\n",
       "0                 7        34   8000.0        Folsom             CA   \n",
       "1                 5        30    500.0      Maarssen        Utrecht   \n",
       "2                 9        29  25000.0    Smithfield             RI   \n",
       "3                 8        60    600.0       Boulder             CO   \n",
       "4                 8        60    600.0       Boulder             CO   \n",
       "\n",
       "  location_type                                             name_x  \\\n",
       "0          Town  Sacramento Contemporary Dance Theatre \"Resilie...   \n",
       "1          Town                            Dance Battle The Streak   \n",
       "2          Town        Reverb Performing Arts Center Building Fund   \n",
       "3          Town                                   VeRVE Collisionz   \n",
       "4          Town                                   VeRVE Collisionz   \n",
       "\n",
       "   percentage_pledged_end_goal  usd_goal  \n",
       "0                   105.512500      8000  \n",
       "1                     0.000000       568  \n",
       "2                     0.280000     25000  \n",
       "3                   150.666667       600  \n",
       "4                   150.666667       600  "
      ]
     },
     "execution_count": 6,
     "metadata": {},
     "output_type": "execute_result"
    }
   ],
   "source": [
    "d[selected_cols].head()"
   ]
  },
  {
   "cell_type": "code",
   "execution_count": 7,
   "metadata": {},
   "outputs": [
    {
     "name": "stdout",
     "output_type": "stream",
     "text": [
      "<class 'pandas.core.frame.DataFrame'>\n",
      "Int64Index: 31062 entries, 0 to 31061\n",
      "Data columns (total 14 columns):\n",
      "category_name                  31062 non-null object\n",
      "category_parent                31062 non-null object\n",
      "country                        31062 non-null object\n",
      "currency_x                     31062 non-null object\n",
      "days_duration                  31062 non-null int64\n",
      "days_preparation               31062 non-null int64\n",
      "duration                       31062 non-null int64\n",
      "goal_x                         31062 non-null float64\n",
      "location_name                  31062 non-null object\n",
      "location_state                 31055 non-null object\n",
      "location_type                  31062 non-null object\n",
      "name_x                         31062 non-null object\n",
      "percentage_pledged_end_goal    31062 non-null float64\n",
      "usd_goal                       31062 non-null int64\n",
      "dtypes: float64(2), int64(4), object(8)\n",
      "memory usage: 3.6+ MB\n"
     ]
    }
   ],
   "source": [
    "d[selected_cols].info()"
   ]
  },
  {
   "cell_type": "markdown",
   "metadata": {},
   "source": [
    "# Data pre-processing"
   ]
  },
  {
   "cell_type": "markdown",
   "metadata": {},
   "source": [
    "## Sampling"
   ]
  },
  {
   "cell_type": "markdown",
   "metadata": {},
   "source": [
    "## Outlier detection"
   ]
  },
  {
   "cell_type": "markdown",
   "metadata": {},
   "source": [
    "## Missing values"
   ]
  },
  {
   "cell_type": "code",
   "execution_count": 8,
   "metadata": {},
   "outputs": [
    {
     "data": {
      "text/html": [
       "<div>\n",
       "<style>\n",
       "    .dataframe thead tr:only-child th {\n",
       "        text-align: right;\n",
       "    }\n",
       "\n",
       "    .dataframe thead th {\n",
       "        text-align: left;\n",
       "    }\n",
       "\n",
       "    .dataframe tbody tr th {\n",
       "        vertical-align: top;\n",
       "    }\n",
       "</style>\n",
       "<table border=\"1\" class=\"dataframe\">\n",
       "  <thead>\n",
       "    <tr style=\"text-align: right;\">\n",
       "      <th></th>\n",
       "      <th>category_name</th>\n",
       "      <th>category_parent</th>\n",
       "      <th>country</th>\n",
       "      <th>currency_x</th>\n",
       "      <th>days_duration</th>\n",
       "      <th>days_preparation</th>\n",
       "      <th>duration</th>\n",
       "      <th>goal_x</th>\n",
       "      <th>location_name</th>\n",
       "      <th>location_state</th>\n",
       "      <th>location_type</th>\n",
       "      <th>name_x</th>\n",
       "      <th>percentage_pledged_end_goal</th>\n",
       "      <th>usd_goal</th>\n",
       "    </tr>\n",
       "  </thead>\n",
       "  <tbody>\n",
       "    <tr>\n",
       "      <th>3088</th>\n",
       "      <td>Photobooks</td>\n",
       "      <td>photography</td>\n",
       "      <td>US</td>\n",
       "      <td>USD</td>\n",
       "      <td>35</td>\n",
       "      <td>296</td>\n",
       "      <td>35</td>\n",
       "      <td>3500.0</td>\n",
       "      <td>Antarctica</td>\n",
       "      <td>NaN</td>\n",
       "      <td>Country</td>\n",
       "      <td>The White Desert: Wildlife &amp; Antarctica photobook</td>\n",
       "      <td>260.600000</td>\n",
       "      <td>3500</td>\n",
       "    </tr>\n",
       "    <tr>\n",
       "      <th>7995</th>\n",
       "      <td>Music Videos</td>\n",
       "      <td>film &amp; video</td>\n",
       "      <td>DE</td>\n",
       "      <td>EUR</td>\n",
       "      <td>41</td>\n",
       "      <td>13</td>\n",
       "      <td>41</td>\n",
       "      <td>3100.0</td>\n",
       "      <td>Skopje</td>\n",
       "      <td>NaN</td>\n",
       "      <td>Town</td>\n",
       "      <td>Music Video Makedonsko Devojce (Jazz Version)</td>\n",
       "      <td>1.935484</td>\n",
       "      <td>3497</td>\n",
       "    </tr>\n",
       "    <tr>\n",
       "      <th>16857</th>\n",
       "      <td>Fine Art</td>\n",
       "      <td>photography</td>\n",
       "      <td>US</td>\n",
       "      <td>USD</td>\n",
       "      <td>30</td>\n",
       "      <td>200</td>\n",
       "      <td>30</td>\n",
       "      <td>15000.0</td>\n",
       "      <td>Philipsburg</td>\n",
       "      <td>NaN</td>\n",
       "      <td>Town</td>\n",
       "      <td>Oualichi Gold - Caribbean Erotica</td>\n",
       "      <td>0.840000</td>\n",
       "      <td>15000</td>\n",
       "    </tr>\n",
       "    <tr>\n",
       "      <th>21519</th>\n",
       "      <td>World Music</td>\n",
       "      <td>music</td>\n",
       "      <td>US</td>\n",
       "      <td>USD</td>\n",
       "      <td>59</td>\n",
       "      <td>0</td>\n",
       "      <td>60</td>\n",
       "      <td>10000.0</td>\n",
       "      <td>Road Town</td>\n",
       "      <td>NaN</td>\n",
       "      <td>Town</td>\n",
       "      <td>New Album Kickstarter</td>\n",
       "      <td>0.010000</td>\n",
       "      <td>10000</td>\n",
       "    </tr>\n",
       "    <tr>\n",
       "      <th>30589</th>\n",
       "      <td>Cookbooks</td>\n",
       "      <td>food</td>\n",
       "      <td>AU</td>\n",
       "      <td>AUD</td>\n",
       "      <td>30</td>\n",
       "      <td>277</td>\n",
       "      <td>30</td>\n",
       "      <td>25500.0</td>\n",
       "      <td>Skopje</td>\n",
       "      <td>NaN</td>\n",
       "      <td>Town</td>\n",
       "      <td>Baby Chef-cookbook and app. with healthy recip...</td>\n",
       "      <td>0.000000</td>\n",
       "      <td>20221</td>\n",
       "    </tr>\n",
       "    <tr>\n",
       "      <th>30704</th>\n",
       "      <td>Kids</td>\n",
       "      <td>music</td>\n",
       "      <td>MX</td>\n",
       "      <td>MXN</td>\n",
       "      <td>30</td>\n",
       "      <td>0</td>\n",
       "      <td>30</td>\n",
       "      <td>500000.0</td>\n",
       "      <td>Vatican City</td>\n",
       "      <td>NaN</td>\n",
       "      <td>Town</td>\n",
       "      <td>Ni?os otomíes le cantan al Papa Francisco</td>\n",
       "      <td>0.120000</td>\n",
       "      <td>27976</td>\n",
       "    </tr>\n",
       "    <tr>\n",
       "      <th>30746</th>\n",
       "      <td>Places</td>\n",
       "      <td>photography</td>\n",
       "      <td>US</td>\n",
       "      <td>USD</td>\n",
       "      <td>30</td>\n",
       "      <td>42</td>\n",
       "      <td>30</td>\n",
       "      <td>1500.0</td>\n",
       "      <td>Antarctica</td>\n",
       "      <td>NaN</td>\n",
       "      <td>Country</td>\n",
       "      <td>Portraits of Place in Antarctica II</td>\n",
       "      <td>213.333333</td>\n",
       "      <td>1500</td>\n",
       "    </tr>\n",
       "  </tbody>\n",
       "</table>\n",
       "</div>"
      ],
      "text/plain": [
       "      category_name category_parent country currency_x  days_duration  \\\n",
       "3088     Photobooks     photography      US        USD             35   \n",
       "7995   Music Videos    film & video      DE        EUR             41   \n",
       "16857      Fine Art     photography      US        USD             30   \n",
       "21519   World Music           music      US        USD             59   \n",
       "30589     Cookbooks            food      AU        AUD             30   \n",
       "30704          Kids           music      MX        MXN             30   \n",
       "30746        Places     photography      US        USD             30   \n",
       "\n",
       "       days_preparation  duration    goal_x location_name location_state  \\\n",
       "3088                296        35    3500.0    Antarctica            NaN   \n",
       "7995                 13        41    3100.0        Skopje            NaN   \n",
       "16857               200        30   15000.0   Philipsburg            NaN   \n",
       "21519                 0        60   10000.0     Road Town            NaN   \n",
       "30589               277        30   25500.0        Skopje            NaN   \n",
       "30704                 0        30  500000.0  Vatican City            NaN   \n",
       "30746                42        30    1500.0    Antarctica            NaN   \n",
       "\n",
       "      location_type                                             name_x  \\\n",
       "3088        Country  The White Desert: Wildlife & Antarctica photobook   \n",
       "7995           Town      Music Video Makedonsko Devojce (Jazz Version)   \n",
       "16857          Town                  Oualichi Gold - Caribbean Erotica   \n",
       "21519          Town                              New Album Kickstarter   \n",
       "30589          Town  Baby Chef-cookbook and app. with healthy recip...   \n",
       "30704          Town          Ni?os otomíes le cantan al Papa Francisco   \n",
       "30746       Country                Portraits of Place in Antarctica II   \n",
       "\n",
       "       percentage_pledged_end_goal  usd_goal  \n",
       "3088                    260.600000      3500  \n",
       "7995                      1.935484      3497  \n",
       "16857                     0.840000     15000  \n",
       "21519                     0.010000     10000  \n",
       "30589                     0.000000     20221  \n",
       "30704                     0.120000     27976  \n",
       "30746                   213.333333      1500  "
      ]
     },
     "execution_count": 8,
     "metadata": {},
     "output_type": "execute_result"
    }
   ],
   "source": [
    "d[selected_cols][d[selected_cols].isnull().any(axis=1)]"
   ]
  },
  {
   "cell_type": "code",
   "execution_count": 9,
   "metadata": {
    "collapsed": true
   },
   "outputs": [],
   "source": [
    "d.loc[3088, 'location_state'] = 'None'\n",
    "d.loc[7995, 'location_state'] = 'Macedonia'\n",
    "d.loc[16857, 'location_state'] = 'Sint Maarten (Dutch part)'\n",
    "d.loc[21519, 'location_state'] = 'Virgin Islands, U.S. '\n",
    "d.loc[30589, 'location_state'] = 'Macedonia'\n",
    "d.loc[30704, 'location_state'] = 'Vatican City'\n",
    "d.loc[30746, 'location_state'] = 'None'"
   ]
  },
  {
   "cell_type": "code",
   "execution_count": 10,
   "metadata": {},
   "outputs": [
    {
     "data": {
      "text/html": [
       "<div>\n",
       "<style>\n",
       "    .dataframe thead tr:only-child th {\n",
       "        text-align: right;\n",
       "    }\n",
       "\n",
       "    .dataframe thead th {\n",
       "        text-align: left;\n",
       "    }\n",
       "\n",
       "    .dataframe tbody tr th {\n",
       "        vertical-align: top;\n",
       "    }\n",
       "</style>\n",
       "<table border=\"1\" class=\"dataframe\">\n",
       "  <thead>\n",
       "    <tr style=\"text-align: right;\">\n",
       "      <th></th>\n",
       "      <th>category_name</th>\n",
       "      <th>category_parent</th>\n",
       "      <th>country</th>\n",
       "      <th>currency_x</th>\n",
       "      <th>days_duration</th>\n",
       "      <th>days_preparation</th>\n",
       "      <th>duration</th>\n",
       "      <th>goal_x</th>\n",
       "      <th>location_name</th>\n",
       "      <th>location_state</th>\n",
       "      <th>location_type</th>\n",
       "      <th>name_x</th>\n",
       "      <th>percentage_pledged_end_goal</th>\n",
       "      <th>usd_goal</th>\n",
       "    </tr>\n",
       "  </thead>\n",
       "  <tbody>\n",
       "  </tbody>\n",
       "</table>\n",
       "</div>"
      ],
      "text/plain": [
       "Empty DataFrame\n",
       "Columns: [category_name, category_parent, country, currency_x, days_duration, days_preparation, duration, goal_x, location_name, location_state, location_type, name_x, percentage_pledged_end_goal, usd_goal]\n",
       "Index: []"
      ]
     },
     "execution_count": 10,
     "metadata": {},
     "output_type": "execute_result"
    }
   ],
   "source": [
    "d[selected_cols][d[selected_cols].isnull().any(axis=1)]"
   ]
  },
  {
   "cell_type": "markdown",
   "metadata": {},
   "source": [
    "# Feature engineering"
   ]
  },
  {
   "cell_type": "markdown",
   "metadata": {},
   "source": [
    "## Feature extraction"
   ]
  },
  {
   "cell_type": "code",
   "execution_count": 11,
   "metadata": {},
   "outputs": [
    {
     "data": {
      "text/plain": [
       "60    1173\n",
       "59     930\n",
       "58     730\n",
       "20     706\n",
       "57     703\n",
       "25     667\n",
       "56     665\n",
       "17     658\n",
       "21     645\n",
       "18     635\n",
       "28     631\n",
       "16     628\n",
       "30     621\n",
       "27     621\n",
       "24     614\n",
       "23     613\n",
       "19     610\n",
       "31     610\n",
       "55     599\n",
       "29     594\n",
       "39     581\n",
       "35     581\n",
       "26     579\n",
       "54     573\n",
       "34     572\n",
       "15     571\n",
       "32     570\n",
       "14     570\n",
       "51     565\n",
       "33     564\n",
       "36     554\n",
       "52     554\n",
       "22     553\n",
       "53     553\n",
       "44     552\n",
       "38     542\n",
       "42     540\n",
       "13     528\n",
       "48     525\n",
       "37     518\n",
       "49     517\n",
       "47     515\n",
       "50     512\n",
       "45     501\n",
       "41     491\n",
       "40     487\n",
       "43     486\n",
       "46     468\n",
       "12     432\n",
       "11     375\n",
       "10     374\n",
       "9      342\n",
       "8      271\n",
       "7      156\n",
       "6      142\n",
       "5       96\n",
       "4       72\n",
       "3       25\n",
       "2        2\n",
       "Name: name_chars, dtype: int64"
      ]
     },
     "execution_count": 11,
     "metadata": {},
     "output_type": "execute_result"
    }
   ],
   "source": [
    "d['name_chars'] = d['name_x'].apply(lambda x: len(x))\n",
    "d['name_chars'].value_counts()"
   ]
  },
  {
   "cell_type": "code",
   "execution_count": 12,
   "metadata": {},
   "outputs": [
    {
     "data": {
      "text/plain": [
       "3     3957\n",
       "4     3955\n",
       "5     3686\n",
       "7     3409\n",
       "8     3320\n",
       "6     3315\n",
       "9     2679\n",
       "2     2657\n",
       "10    1719\n",
       "1     1306\n",
       "11     728\n",
       "12     265\n",
       "13      55\n",
       "14       9\n",
       "15       1\n",
       "17       1\n",
       "Name: name_words, dtype: int64"
      ]
     },
     "execution_count": 12,
     "metadata": {},
     "output_type": "execute_result"
    }
   ],
   "source": [
    "d['name_words'] = d['name_x'].apply(lambda x: len(x.split()))\n",
    "d['name_words'].value_counts()"
   ]
  },
  {
   "cell_type": "code",
   "execution_count": 13,
   "metadata": {
    "collapsed": true
   },
   "outputs": [],
   "source": [
    "selected_cols.remove('name_x')"
   ]
  },
  {
   "cell_type": "code",
   "execution_count": 14,
   "metadata": {},
   "outputs": [],
   "source": [
    "selected_cols.append('name_chars')\n",
    "selected_cols.append('name_words')"
   ]
  },
  {
   "cell_type": "markdown",
   "metadata": {},
   "source": [
    "## Feature transformation"
   ]
  },
  {
   "cell_type": "markdown",
   "metadata": {},
   "source": [
    "### Categorical variables encoding"
   ]
  },
  {
   "cell_type": "code",
   "execution_count": 15,
   "metadata": {},
   "outputs": [],
   "source": [
    "import category_encoders as ce"
   ]
  },
  {
   "cell_type": "code",
   "execution_count": 16,
   "metadata": {},
   "outputs": [
    {
     "name": "stdout",
     "output_type": "stream",
     "text": [
      "<class 'pandas.core.frame.DataFrame'>\n",
      "Int64Index: 31062 entries, 0 to 31061\n",
      "Data columns (total 15 columns):\n",
      "category_name                  31062 non-null object\n",
      "category_parent                31062 non-null object\n",
      "country                        31062 non-null object\n",
      "currency_x                     31062 non-null object\n",
      "days_duration                  31062 non-null int64\n",
      "days_preparation               31062 non-null int64\n",
      "duration                       31062 non-null int64\n",
      "goal_x                         31062 non-null float64\n",
      "location_name                  31062 non-null object\n",
      "location_state                 31062 non-null object\n",
      "location_type                  31062 non-null object\n",
      "percentage_pledged_end_goal    31062 non-null float64\n",
      "usd_goal                       31062 non-null int64\n",
      "name_chars                     31062 non-null int64\n",
      "name_words                     31062 non-null int64\n",
      "dtypes: float64(2), int64(6), object(7)\n",
      "memory usage: 5.0+ MB\n"
     ]
    }
   ],
   "source": [
    "d[selected_cols].info()"
   ]
  },
  {
   "cell_type": "code",
   "execution_count": 17,
   "metadata": {},
   "outputs": [
    {
     "name": "stdout",
     "output_type": "stream",
     "text": [
      "category_name 141 distinct values\n",
      "category_parent 15 distinct values\n",
      "country 22 distinct values\n",
      "currency_x 14 distinct values\n",
      "location_name 4726 distinct values\n",
      "location_state 609 distinct values\n",
      "location_type 9 distinct values\n"
     ]
    }
   ],
   "source": [
    "for column in d[selected_cols].select_dtypes(include=['object']):\n",
    "    print(column, len(d[column].value_counts()), 'distinct values')\n",
    "    encoder = ce.OrdinalEncoder()\n",
    "    d[column] = encoder.fit_transform(d[[column]])"
   ]
  },
  {
   "cell_type": "code",
   "execution_count": 18,
   "metadata": {},
   "outputs": [
    {
     "name": "stdout",
     "output_type": "stream",
     "text": [
      "<class 'pandas.core.frame.DataFrame'>\n",
      "Int64Index: 31062 entries, 0 to 31061\n",
      "Data columns (total 15 columns):\n",
      "category_name                  31062 non-null int32\n",
      "category_parent                31062 non-null int32\n",
      "country                        31062 non-null int32\n",
      "currency_x                     31062 non-null int32\n",
      "days_duration                  31062 non-null int64\n",
      "days_preparation               31062 non-null int64\n",
      "duration                       31062 non-null int64\n",
      "goal_x                         31062 non-null float64\n",
      "location_name                  31062 non-null int32\n",
      "location_state                 31062 non-null int32\n",
      "location_type                  31062 non-null int32\n",
      "percentage_pledged_end_goal    31062 non-null float64\n",
      "usd_goal                       31062 non-null int64\n",
      "name_chars                     31062 non-null int64\n",
      "name_words                     31062 non-null int64\n",
      "dtypes: float64(2), int32(7), int64(6)\n",
      "memory usage: 4.2 MB\n"
     ]
    }
   ],
   "source": [
    "d[selected_cols].info()"
   ]
  },
  {
   "cell_type": "markdown",
   "metadata": {},
   "source": [
    "### Discretization"
   ]
  },
  {
   "cell_type": "markdown",
   "metadata": {},
   "source": [
    "# TODO: decide which borders to use"
   ]
  },
  {
   "cell_type": "code",
   "execution_count": 19,
   "metadata": {
    "collapsed": true
   },
   "outputs": [],
   "source": [
    "def get_class(ratio):\n",
    "    if (ratio >= 120):\n",
    "        return 4\n",
    "    elif (ratio >= 100):\n",
    "        return 3\n",
    "    elif (ratio >= 10):\n",
    "        return 2\n",
    "    else:\n",
    "        return 1"
   ]
  },
  {
   "cell_type": "code",
   "execution_count": 20,
   "metadata": {
    "collapsed": true
   },
   "outputs": [],
   "source": [
    "d['class'] = d['percentage_pledged_end_goal'].apply(get_class)"
   ]
  },
  {
   "cell_type": "code",
   "execution_count": 21,
   "metadata": {},
   "outputs": [
    {
     "data": {
      "text/plain": [
       "1    12942\n",
       "4     7121\n",
       "3     7019\n",
       "2     3980\n",
       "Name: class, dtype: int64"
      ]
     },
     "execution_count": 21,
     "metadata": {},
     "output_type": "execute_result"
    }
   ],
   "source": [
    "d['class'].value_counts()"
   ]
  },
  {
   "cell_type": "code",
   "execution_count": 22,
   "metadata": {
    "collapsed": true
   },
   "outputs": [],
   "source": [
    "selected_cols.remove('percentage_pledged_end_goal')"
   ]
  },
  {
   "cell_type": "markdown",
   "metadata": {},
   "source": [
    "## Feature selection"
   ]
  },
  {
   "cell_type": "code",
   "execution_count": null,
   "metadata": {
    "collapsed": true
   },
   "outputs": [],
   "source": []
  },
  {
   "cell_type": "markdown",
   "metadata": {},
   "source": [
    "# Model training and evaluation"
   ]
  },
  {
   "cell_type": "code",
   "execution_count": 23,
   "metadata": {
    "collapsed": true
   },
   "outputs": [],
   "source": [
    "from sklearn.model_selection import train_test_split\n",
    "X_train, X_test, y_train, y_test = train_test_split(d[selected_cols], d['class'], test_size=0.30, random_state=16)"
   ]
  },
  {
   "cell_type": "code",
   "execution_count": 24,
   "metadata": {},
   "outputs": [
    {
     "name": "stdout",
     "output_type": "stream",
     "text": [
      "<class 'pandas.core.frame.DataFrame'>\n",
      "Int64Index: 21743 entries, 23477 to 6825\n",
      "Data columns (total 14 columns):\n",
      "category_name       21743 non-null int32\n",
      "category_parent     21743 non-null int32\n",
      "country             21743 non-null int32\n",
      "currency_x          21743 non-null int32\n",
      "days_duration       21743 non-null int64\n",
      "days_preparation    21743 non-null int64\n",
      "duration            21743 non-null int64\n",
      "goal_x              21743 non-null float64\n",
      "location_name       21743 non-null int32\n",
      "location_state      21743 non-null int32\n",
      "location_type       21743 non-null int32\n",
      "usd_goal            21743 non-null int64\n",
      "name_chars          21743 non-null int64\n",
      "name_words          21743 non-null int64\n",
      "dtypes: float64(1), int32(7), int64(6)\n",
      "memory usage: 1.9 MB\n"
     ]
    }
   ],
   "source": [
    "X_train.info()"
   ]
  },
  {
   "cell_type": "code",
   "execution_count": 25,
   "metadata": {},
   "outputs": [
    {
     "data": {
      "text/html": [
       "<div>\n",
       "<style>\n",
       "    .dataframe thead tr:only-child th {\n",
       "        text-align: right;\n",
       "    }\n",
       "\n",
       "    .dataframe thead th {\n",
       "        text-align: left;\n",
       "    }\n",
       "\n",
       "    .dataframe tbody tr th {\n",
       "        vertical-align: top;\n",
       "    }\n",
       "</style>\n",
       "<table border=\"1\" class=\"dataframe\">\n",
       "  <thead>\n",
       "    <tr style=\"text-align: right;\">\n",
       "      <th></th>\n",
       "      <th>category_name</th>\n",
       "      <th>category_parent</th>\n",
       "      <th>country</th>\n",
       "      <th>currency_x</th>\n",
       "      <th>days_duration</th>\n",
       "      <th>days_preparation</th>\n",
       "      <th>duration</th>\n",
       "      <th>goal_x</th>\n",
       "      <th>location_name</th>\n",
       "      <th>location_state</th>\n",
       "      <th>location_type</th>\n",
       "      <th>usd_goal</th>\n",
       "      <th>name_chars</th>\n",
       "      <th>name_words</th>\n",
       "    </tr>\n",
       "  </thead>\n",
       "  <tbody>\n",
       "    <tr>\n",
       "      <th>23477</th>\n",
       "      <td>51</td>\n",
       "      <td>7</td>\n",
       "      <td>20</td>\n",
       "      <td>12</td>\n",
       "      <td>59</td>\n",
       "      <td>0</td>\n",
       "      <td>60</td>\n",
       "      <td>80000.0</td>\n",
       "      <td>2467</td>\n",
       "      <td>163</td>\n",
       "      <td>4</td>\n",
       "      <td>3911</td>\n",
       "      <td>15</td>\n",
       "      <td>3</td>\n",
       "    </tr>\n",
       "    <tr>\n",
       "      <th>24378</th>\n",
       "      <td>65</td>\n",
       "      <td>8</td>\n",
       "      <td>0</td>\n",
       "      <td>0</td>\n",
       "      <td>45</td>\n",
       "      <td>0</td>\n",
       "      <td>45</td>\n",
       "      <td>20000.0</td>\n",
       "      <td>2729</td>\n",
       "      <td>0</td>\n",
       "      <td>0</td>\n",
       "      <td>20000</td>\n",
       "      <td>29</td>\n",
       "      <td>4</td>\n",
       "    </tr>\n",
       "    <tr>\n",
       "      <th>21091</th>\n",
       "      <td>99</td>\n",
       "      <td>12</td>\n",
       "      <td>0</td>\n",
       "      <td>0</td>\n",
       "      <td>30</td>\n",
       "      <td>3</td>\n",
       "      <td>30</td>\n",
       "      <td>50000.0</td>\n",
       "      <td>2029</td>\n",
       "      <td>28</td>\n",
       "      <td>0</td>\n",
       "      <td>50000</td>\n",
       "      <td>26</td>\n",
       "      <td>4</td>\n",
       "    </tr>\n",
       "    <tr>\n",
       "      <th>10779</th>\n",
       "      <td>0</td>\n",
       "      <td>0</td>\n",
       "      <td>0</td>\n",
       "      <td>0</td>\n",
       "      <td>22</td>\n",
       "      <td>11</td>\n",
       "      <td>22</td>\n",
       "      <td>25000.0</td>\n",
       "      <td>201</td>\n",
       "      <td>51</td>\n",
       "      <td>0</td>\n",
       "      <td>25000</td>\n",
       "      <td>29</td>\n",
       "      <td>4</td>\n",
       "    </tr>\n",
       "    <tr>\n",
       "      <th>9739</th>\n",
       "      <td>44</td>\n",
       "      <td>6</td>\n",
       "      <td>0</td>\n",
       "      <td>0</td>\n",
       "      <td>60</td>\n",
       "      <td>1</td>\n",
       "      <td>60</td>\n",
       "      <td>4000.0</td>\n",
       "      <td>2447</td>\n",
       "      <td>12</td>\n",
       "      <td>0</td>\n",
       "      <td>4000</td>\n",
       "      <td>8</td>\n",
       "      <td>2</td>\n",
       "    </tr>\n",
       "  </tbody>\n",
       "</table>\n",
       "</div>"
      ],
      "text/plain": [
       "       category_name  category_parent  country  currency_x  days_duration  \\\n",
       "23477             51                7       20          12             59   \n",
       "24378             65                8        0           0             45   \n",
       "21091             99               12        0           0             30   \n",
       "10779              0                0        0           0             22   \n",
       "9739              44                6        0           0             60   \n",
       "\n",
       "       days_preparation  duration   goal_x  location_name  location_state  \\\n",
       "23477                 0        60  80000.0           2467             163   \n",
       "24378                 0        45  20000.0           2729               0   \n",
       "21091                 3        30  50000.0           2029              28   \n",
       "10779                11        22  25000.0            201              51   \n",
       "9739                  1        60   4000.0           2447              12   \n",
       "\n",
       "       location_type  usd_goal  name_chars  name_words  \n",
       "23477              4      3911          15           3  \n",
       "24378              0     20000          29           4  \n",
       "21091              0     50000          26           4  \n",
       "10779              0     25000          29           4  \n",
       "9739               0      4000           8           2  "
      ]
     },
     "execution_count": 25,
     "metadata": {},
     "output_type": "execute_result"
    }
   ],
   "source": [
    "X_train.head()"
   ]
  },
  {
   "cell_type": "code",
   "execution_count": 26,
   "metadata": {
    "collapsed": true
   },
   "outputs": [],
   "source": [
    "from sklearn.metrics import confusion_matrix"
   ]
  },
  {
   "cell_type": "code",
   "execution_count": 27,
   "metadata": {
    "collapsed": true
   },
   "outputs": [],
   "source": [
    "from sklearn.svm import LinearSVC"
   ]
  },
  {
   "cell_type": "code",
   "execution_count": 28,
   "metadata": {},
   "outputs": [],
   "source": [
    "cls = LinearSVC()\n",
    "cls = cls.fit(X_train, y_train)"
   ]
  },
  {
   "cell_type": "code",
   "execution_count": 29,
   "metadata": {},
   "outputs": [
    {
     "data": {
      "text/plain": [
       "array([[2304,   27,  287, 1255],\n",
       "       [ 521,    7,   61,  596],\n",
       "       [ 840,   12,  117, 1127],\n",
       "       [ 670,    7,  110, 1378]])"
      ]
     },
     "execution_count": 29,
     "metadata": {},
     "output_type": "execute_result"
    }
   ],
   "source": [
    "confusion_matrix(y_test, cls.predict(X_test))"
   ]
  },
  {
   "cell_type": "code",
   "execution_count": 30,
   "metadata": {},
   "outputs": [
    {
     "data": {
      "text/plain": [
       "0.40449799935611463"
      ]
     },
     "execution_count": 30,
     "metadata": {},
     "output_type": "execute_result"
    }
   ],
   "source": [
    "cls.score(X_train, y_train)"
   ]
  },
  {
   "cell_type": "code",
   "execution_count": 31,
   "metadata": {},
   "outputs": [
    {
     "data": {
      "text/plain": [
       "0.40841291984118466"
      ]
     },
     "execution_count": 31,
     "metadata": {},
     "output_type": "execute_result"
    }
   ],
   "source": [
    "cls.score(X_test, y_test)"
   ]
  },
  {
   "cell_type": "code",
   "execution_count": 32,
   "metadata": {
    "collapsed": true
   },
   "outputs": [],
   "source": [
    "from sklearn.tree import DecisionTreeClassifier"
   ]
  },
  {
   "cell_type": "code",
   "execution_count": 33,
   "metadata": {
    "collapsed": true
   },
   "outputs": [],
   "source": [
    "cls = DecisionTreeClassifier(max_depth=5)"
   ]
  },
  {
   "cell_type": "code",
   "execution_count": 34,
   "metadata": {
    "collapsed": true
   },
   "outputs": [],
   "source": [
    "cls = cls.fit(X_train, y_train)"
   ]
  },
  {
   "cell_type": "code",
   "execution_count": 35,
   "metadata": {},
   "outputs": [
    {
     "data": {
      "text/plain": [
       "array([[2864,    0,  506,  503],\n",
       "       [ 551,    0,  275,  359],\n",
       "       [ 829,    0,  612,  655],\n",
       "       [ 604,    0,  454, 1107]])"
      ]
     },
     "execution_count": 35,
     "metadata": {},
     "output_type": "execute_result"
    }
   ],
   "source": [
    "confusion_matrix(y_test, cls.predict(X_test))"
   ]
  },
  {
   "cell_type": "code",
   "execution_count": 36,
   "metadata": {},
   "outputs": [
    {
     "data": {
      "text/plain": [
       "0.49988502046635697"
      ]
     },
     "execution_count": 36,
     "metadata": {},
     "output_type": "execute_result"
    }
   ],
   "source": [
    "cls.score(X_train, y_train)"
   ]
  },
  {
   "cell_type": "code",
   "execution_count": 37,
   "metadata": {},
   "outputs": [
    {
     "data": {
      "text/plain": [
       "0.49179096469578282"
      ]
     },
     "execution_count": 37,
     "metadata": {},
     "output_type": "execute_result"
    }
   ],
   "source": [
    "cls.score(X_test, y_test)"
   ]
  },
  {
   "cell_type": "code",
   "execution_count": 38,
   "metadata": {},
   "outputs": [],
   "source": [
    "from sklearn import tree\n",
    "import graphviz"
   ]
  },
  {
   "cell_type": "code",
   "execution_count": 39,
   "metadata": {},
   "outputs": [
    {
     "data": {
      "text/plain": [
       "'kickstarter.pdf'"
      ]
     },
     "execution_count": 39,
     "metadata": {},
     "output_type": "execute_result"
    }
   ],
   "source": [
    "dot_data = tree.export_graphviz(cls, out_file=None, feature_names=X_train.columns, class_names=['1','2','3','4'],filled=True, rounded=True, special_characters=True) \n",
    "graph = graphviz.Source(dot_data)\n",
    "graph.render(\"kickstarter\")"
   ]
  },
  {
   "cell_type": "code",
   "execution_count": null,
   "metadata": {
    "collapsed": true
   },
   "outputs": [],
   "source": []
  }
 ],
 "metadata": {
  "kernelspec": {
   "display_name": "Python 3",
   "language": "python",
   "name": "python3"
  },
  "language_info": {
   "codemirror_mode": {
    "name": "ipython",
    "version": 3
   },
   "file_extension": ".py",
   "mimetype": "text/x-python",
   "name": "python",
   "nbconvert_exporter": "python",
   "pygments_lexer": "ipython3",
   "version": "3.6.1"
  }
 },
 "nbformat": 4,
 "nbformat_minor": 2
}
