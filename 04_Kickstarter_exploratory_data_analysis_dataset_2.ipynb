{
 "cells": [
  {
   "cell_type": "markdown",
   "metadata": {},
   "source": [
    "# Exploratory data analysis of the second dataset\n",
    "\n",
    "We have been provided with the next dataset that contains additional information about Kickstarter projects (e.g. description, FAQ, rewards, comments, ...).\n",
    "\n",
    "In this notebook, we will explore this dataset similar way as we did in [Exploratory data analysis of the first dataset](https://github.com/blanarik/kickstarter_success_prediction/blob/master/03_Kickstarter_exploratory_data_analysis.ipynb)."
   ]
  },
  {
   "cell_type": "code",
   "execution_count": 1,
   "metadata": {
    "collapsed": true
   },
   "outputs": [],
   "source": [
    "%matplotlib inline\n",
    "import mysql.connector as sql\n",
    "import pandas as pd\n",
    "import matplotlib.pyplot as plt\n",
    "import numpy as np\n",
    "import seaborn as sns"
   ]
  },
  {
   "cell_type": "code",
   "execution_count": 2,
   "metadata": {
    "collapsed": true
   },
   "outputs": [],
   "source": [
    "con = sql.connect(database='kickstarter2017', user='kickstarter', password='kickstarter')"
   ]
  },
  {
   "cell_type": "code",
   "execution_count": 3,
   "metadata": {},
   "outputs": [
    {
     "data": {
      "text/html": [
       "<div>\n",
       "<style>\n",
       "    .dataframe thead tr:only-child th {\n",
       "        text-align: right;\n",
       "    }\n",
       "\n",
       "    .dataframe thead th {\n",
       "        text-align: left;\n",
       "    }\n",
       "\n",
       "    .dataframe tbody tr th {\n",
       "        vertical-align: top;\n",
       "    }\n",
       "</style>\n",
       "<table border=\"1\" class=\"dataframe\">\n",
       "  <thead>\n",
       "    <tr style=\"text-align: right;\">\n",
       "      <th></th>\n",
       "      <th>project_id</th>\n",
       "      <th>url</th>\n",
       "      <th>name</th>\n",
       "      <th>status</th>\n",
       "      <th>project_we_love</th>\n",
       "      <th>category_id</th>\n",
       "      <th>subcategory_id</th>\n",
       "      <th>creators_url</th>\n",
       "      <th>location_id</th>\n",
       "      <th>pledged</th>\n",
       "      <th>...</th>\n",
       "      <th>description_short</th>\n",
       "      <th>description_full</th>\n",
       "      <th>video_url</th>\n",
       "      <th>image_url</th>\n",
       "      <th>faq_count</th>\n",
       "      <th>updates_count</th>\n",
       "      <th>comments_count</th>\n",
       "      <th>fb_comments_count</th>\n",
       "      <th>fb_shares_count</th>\n",
       "      <th>project_data</th>\n",
       "    </tr>\n",
       "  </thead>\n",
       "  <tbody>\n",
       "    <tr>\n",
       "      <th>0</th>\n",
       "      <td>1</td>\n",
       "      <td>https://www.kickstarter.com/projects/tragoe/ke...</td>\n",
       "      <td>Kenophania: How A Song Is Created (Interactive...</td>\n",
       "      <td>live</td>\n",
       "      <td>0</td>\n",
       "      <td>1</td>\n",
       "      <td>1</td>\n",
       "      <td>https://www.kickstarter.com/projects/tragoe/ke...</td>\n",
       "      <td>1</td>\n",
       "      <td>38.57</td>\n",
       "      <td>...</td>\n",
       "      <td>A new music experience: be a part of writing a...</td>\n",
       "      <td>&lt;div class=\"template asset\" contenteditable=\"f...</td>\n",
       "      <td>https://ksr-video.imgix.net/projects/3097491/v...</td>\n",
       "      <td></td>\n",
       "      <td>0</td>\n",
       "      <td>0</td>\n",
       "      <td>0</td>\n",
       "      <td>0</td>\n",
       "      <td>0</td>\n",
       "      <td>{\"id\":1010207468,\"photo\":{\"key\":\"assets/018/75...</td>\n",
       "    </tr>\n",
       "    <tr>\n",
       "      <th>1</th>\n",
       "      <td>2</td>\n",
       "      <td>https://www.kickstarter.com/projects/270983716...</td>\n",
       "      <td>RABBITS Podcast</td>\n",
       "      <td>live</td>\n",
       "      <td>0</td>\n",
       "      <td>1</td>\n",
       "      <td>1</td>\n",
       "      <td>https://www.kickstarter.com/projects/270983716...</td>\n",
       "      <td>2</td>\n",
       "      <td>9113.00</td>\n",
       "      <td>...</td>\n",
       "      <td>Wanted: lovers of mystery, games, and intrigue...</td>\n",
       "      <td>&lt;div class=\"template oembed\" contenteditable=\"...</td>\n",
       "      <td></td>\n",
       "      <td>https://ksr-ugc.imgix.net/assets/017/200/961/c...</td>\n",
       "      <td>0</td>\n",
       "      <td>0</td>\n",
       "      <td>10</td>\n",
       "      <td>0</td>\n",
       "      <td>1198</td>\n",
       "      <td>{\"id\":1787738795,\"photo\":{\"key\":\"assets/017/20...</td>\n",
       "    </tr>\n",
       "    <tr>\n",
       "      <th>2</th>\n",
       "      <td>3</td>\n",
       "      <td>https://www.kickstarter.com/projects/myterochm...</td>\n",
       "      <td>Myter &amp;amp; Mysterier: Bibeln</td>\n",
       "      <td>live</td>\n",
       "      <td>0</td>\n",
       "      <td>1</td>\n",
       "      <td>1</td>\n",
       "      <td>https://www.kickstarter.com/projects/myterochm...</td>\n",
       "      <td>3</td>\n",
       "      <td>93190.00</td>\n",
       "      <td>...</td>\n",
       "      <td>The Bible as you&amp;#39;ve never met it before. A...</td>\n",
       "      <td>&lt;p&gt;&lt;i&gt;(For English translation of the Story an...</td>\n",
       "      <td>https://ksr-video.imgix.net/projects/3158094/v...</td>\n",
       "      <td></td>\n",
       "      <td>0</td>\n",
       "      <td>1</td>\n",
       "      <td>1</td>\n",
       "      <td>0</td>\n",
       "      <td>573</td>\n",
       "      <td>{\"id\":409994938,\"photo\":{\"key\":\"assets/018/925...</td>\n",
       "    </tr>\n",
       "    <tr>\n",
       "      <th>3</th>\n",
       "      <td>4</td>\n",
       "      <td>https://www.kickstarter.com/projects/eventraid...</td>\n",
       "      <td>Event Raiders Podcast Episode 1</td>\n",
       "      <td>live</td>\n",
       "      <td>0</td>\n",
       "      <td>1</td>\n",
       "      <td>1</td>\n",
       "      <td>https://www.kickstarter.com/projects/eventraid...</td>\n",
       "      <td>4</td>\n",
       "      <td>235.00</td>\n",
       "      <td>...</td>\n",
       "      <td>Looking to launch a podcast that provides in d...</td>\n",
       "      <td>&lt;p&gt;Our business, Event Raiders, specializes in...</td>\n",
       "      <td></td>\n",
       "      <td>https://ksr-ugc.imgix.net/assets/018/809/797/f...</td>\n",
       "      <td>0</td>\n",
       "      <td>0</td>\n",
       "      <td>0</td>\n",
       "      <td>0</td>\n",
       "      <td>4</td>\n",
       "      <td>{\"id\":1117812892,\"photo\":{\"key\":\"assets/018/80...</td>\n",
       "    </tr>\n",
       "    <tr>\n",
       "      <th>4</th>\n",
       "      <td>5</td>\n",
       "      <td>https://www.kickstarter.com/projects/102699665...</td>\n",
       "      <td>Culture Club (émission radio Dijon)</td>\n",
       "      <td>live</td>\n",
       "      <td>0</td>\n",
       "      <td>1</td>\n",
       "      <td>1</td>\n",
       "      <td>https://www.kickstarter.com/projects/102699665...</td>\n",
       "      <td>5</td>\n",
       "      <td>0.00</td>\n",
       "      <td>...</td>\n",
       "      <td>Après 3 saisons chez Radio Cultures Dijon notr...</td>\n",
       "      <td>&lt;p&gt;&lt;b&gt;Culture Club&lt;/b&gt; est une émission dédiée...</td>\n",
       "      <td></td>\n",
       "      <td>https://ksr-ugc.imgix.net/assets/018/620/234/e...</td>\n",
       "      <td>0</td>\n",
       "      <td>0</td>\n",
       "      <td>0</td>\n",
       "      <td>0</td>\n",
       "      <td>10</td>\n",
       "      <td>{\"id\":1770254002,\"photo\":{\"key\":\"assets/018/62...</td>\n",
       "    </tr>\n",
       "  </tbody>\n",
       "</table>\n",
       "<p>5 rows × 27 columns</p>\n",
       "</div>"
      ],
      "text/plain": [
       "   project_id                                                url  \\\n",
       "0           1  https://www.kickstarter.com/projects/tragoe/ke...   \n",
       "1           2  https://www.kickstarter.com/projects/270983716...   \n",
       "2           3  https://www.kickstarter.com/projects/myterochm...   \n",
       "3           4  https://www.kickstarter.com/projects/eventraid...   \n",
       "4           5  https://www.kickstarter.com/projects/102699665...   \n",
       "\n",
       "                                                name status  project_we_love  \\\n",
       "0  Kenophania: How A Song Is Created (Interactive...   live                0   \n",
       "1                                    RABBITS Podcast   live                0   \n",
       "2                      Myter &amp; Mysterier: Bibeln   live                0   \n",
       "3                    Event Raiders Podcast Episode 1   live                0   \n",
       "4                Culture Club (émission radio Dijon)   live                0   \n",
       "\n",
       "   category_id  subcategory_id  \\\n",
       "0            1               1   \n",
       "1            1               1   \n",
       "2            1               1   \n",
       "3            1               1   \n",
       "4            1               1   \n",
       "\n",
       "                                        creators_url  location_id   pledged  \\\n",
       "0  https://www.kickstarter.com/projects/tragoe/ke...            1     38.57   \n",
       "1  https://www.kickstarter.com/projects/270983716...            2   9113.00   \n",
       "2  https://www.kickstarter.com/projects/myterochm...            3  93190.00   \n",
       "3  https://www.kickstarter.com/projects/eventraid...            4    235.00   \n",
       "4  https://www.kickstarter.com/projects/102699665...            5      0.00   \n",
       "\n",
       "                         ...                          \\\n",
       "0                        ...                           \n",
       "1                        ...                           \n",
       "2                        ...                           \n",
       "3                        ...                           \n",
       "4                        ...                           \n",
       "\n",
       "                                   description_short  \\\n",
       "0  A new music experience: be a part of writing a...   \n",
       "1  Wanted: lovers of mystery, games, and intrigue...   \n",
       "2  The Bible as you&#39;ve never met it before. A...   \n",
       "3  Looking to launch a podcast that provides in d...   \n",
       "4  Après 3 saisons chez Radio Cultures Dijon notr...   \n",
       "\n",
       "                                    description_full  \\\n",
       "0  <div class=\"template asset\" contenteditable=\"f...   \n",
       "1  <div class=\"template oembed\" contenteditable=\"...   \n",
       "2  <p><i>(For English translation of the Story an...   \n",
       "3  <p>Our business, Event Raiders, specializes in...   \n",
       "4  <p><b>Culture Club</b> est une émission dédiée...   \n",
       "\n",
       "                                           video_url  \\\n",
       "0  https://ksr-video.imgix.net/projects/3097491/v...   \n",
       "1                                                      \n",
       "2  https://ksr-video.imgix.net/projects/3158094/v...   \n",
       "3                                                      \n",
       "4                                                      \n",
       "\n",
       "                                           image_url faq_count updates_count  \\\n",
       "0                                                            0             0   \n",
       "1  https://ksr-ugc.imgix.net/assets/017/200/961/c...         0             0   \n",
       "2                                                            0             1   \n",
       "3  https://ksr-ugc.imgix.net/assets/018/809/797/f...         0             0   \n",
       "4  https://ksr-ugc.imgix.net/assets/018/620/234/e...         0             0   \n",
       "\n",
       "   comments_count fb_comments_count fb_shares_count  \\\n",
       "0               0                 0               0   \n",
       "1              10                 0            1198   \n",
       "2               1                 0             573   \n",
       "3               0                 0               4   \n",
       "4               0                 0              10   \n",
       "\n",
       "                                        project_data  \n",
       "0  {\"id\":1010207468,\"photo\":{\"key\":\"assets/018/75...  \n",
       "1  {\"id\":1787738795,\"photo\":{\"key\":\"assets/017/20...  \n",
       "2  {\"id\":409994938,\"photo\":{\"key\":\"assets/018/925...  \n",
       "3  {\"id\":1117812892,\"photo\":{\"key\":\"assets/018/80...  \n",
       "4  {\"id\":1770254002,\"photo\":{\"key\":\"assets/018/62...  \n",
       "\n",
       "[5 rows x 27 columns]"
      ]
     },
     "execution_count": 3,
     "metadata": {},
     "output_type": "execute_result"
    }
   ],
   "source": [
    "pd.read_sql(\"\"\"\n",
    "SELECT * FROM kickstarter2017.kickstarter_project LIMIT 5;\n",
    "\"\"\", con)"
   ]
  },
  {
   "cell_type": "markdown",
   "metadata": {},
   "source": [
    "## total count of projects"
   ]
  },
  {
   "cell_type": "code",
   "execution_count": 4,
   "metadata": {},
   "outputs": [
    {
     "data": {
      "text/html": [
       "<div>\n",
       "<style>\n",
       "    .dataframe thead tr:only-child th {\n",
       "        text-align: right;\n",
       "    }\n",
       "\n",
       "    .dataframe thead th {\n",
       "        text-align: left;\n",
       "    }\n",
       "\n",
       "    .dataframe tbody tr th {\n",
       "        vertical-align: top;\n",
       "    }\n",
       "</style>\n",
       "<table border=\"1\" class=\"dataframe\">\n",
       "  <thead>\n",
       "    <tr style=\"text-align: right;\">\n",
       "      <th></th>\n",
       "      <th>projects_count</th>\n",
       "    </tr>\n",
       "  </thead>\n",
       "  <tbody>\n",
       "    <tr>\n",
       "      <th>0</th>\n",
       "      <td>117024</td>\n",
       "    </tr>\n",
       "  </tbody>\n",
       "</table>\n",
       "</div>"
      ],
      "text/plain": [
       "   projects_count\n",
       "0          117024"
      ]
     },
     "execution_count": 4,
     "metadata": {},
     "output_type": "execute_result"
    }
   ],
   "source": [
    "pd.read_sql(\"\"\"\n",
    "SELECT count(*) as projects_count FROM kickstarter2017.kickstarter_project;\n",
    "\"\"\", con)"
   ]
  },
  {
   "cell_type": "markdown",
   "metadata": {},
   "source": [
    "## count of projects by status"
   ]
  },
  {
   "cell_type": "code",
   "execution_count": 5,
   "metadata": {},
   "outputs": [
    {
     "data": {
      "text/html": [
       "<div>\n",
       "<style>\n",
       "    .dataframe thead tr:only-child th {\n",
       "        text-align: right;\n",
       "    }\n",
       "\n",
       "    .dataframe thead th {\n",
       "        text-align: left;\n",
       "    }\n",
       "\n",
       "    .dataframe tbody tr th {\n",
       "        vertical-align: top;\n",
       "    }\n",
       "</style>\n",
       "<table border=\"1\" class=\"dataframe\">\n",
       "  <thead>\n",
       "    <tr style=\"text-align: right;\">\n",
       "      <th></th>\n",
       "      <th>status</th>\n",
       "      <th>projects_count</th>\n",
       "    </tr>\n",
       "  </thead>\n",
       "  <tbody>\n",
       "    <tr>\n",
       "      <th>0</th>\n",
       "      <td></td>\n",
       "      <td>3</td>\n",
       "    </tr>\n",
       "    <tr>\n",
       "      <th>1</th>\n",
       "      <td>canceled</td>\n",
       "      <td>5633</td>\n",
       "    </tr>\n",
       "    <tr>\n",
       "      <th>2</th>\n",
       "      <td>failed</td>\n",
       "      <td>55016</td>\n",
       "    </tr>\n",
       "    <tr>\n",
       "      <th>3</th>\n",
       "      <td>live</td>\n",
       "      <td>2584</td>\n",
       "    </tr>\n",
       "    <tr>\n",
       "      <th>4</th>\n",
       "      <td>successful</td>\n",
       "      <td>53401</td>\n",
       "    </tr>\n",
       "    <tr>\n",
       "      <th>5</th>\n",
       "      <td>suspended</td>\n",
       "      <td>387</td>\n",
       "    </tr>\n",
       "  </tbody>\n",
       "</table>\n",
       "</div>"
      ],
      "text/plain": [
       "       status  projects_count\n",
       "0                           3\n",
       "1    canceled            5633\n",
       "2      failed           55016\n",
       "3        live            2584\n",
       "4  successful           53401\n",
       "5   suspended             387"
      ]
     },
     "execution_count": 5,
     "metadata": {},
     "output_type": "execute_result"
    }
   ],
   "source": [
    "pd.read_sql(\"\"\"\n",
    "SELECT status, count(*) as projects_count FROM kickstarter2017.kickstarter_project GROUP BY status;\n",
    "\"\"\", con)"
   ]
  },
  {
   "cell_type": "markdown",
   "metadata": {},
   "source": [
    "## count of projects by staff pick"
   ]
  },
  {
   "cell_type": "code",
   "execution_count": 6,
   "metadata": {},
   "outputs": [
    {
     "data": {
      "text/html": [
       "<div>\n",
       "<style>\n",
       "    .dataframe thead tr:only-child th {\n",
       "        text-align: right;\n",
       "    }\n",
       "\n",
       "    .dataframe thead th {\n",
       "        text-align: left;\n",
       "    }\n",
       "\n",
       "    .dataframe tbody tr th {\n",
       "        vertical-align: top;\n",
       "    }\n",
       "</style>\n",
       "<table border=\"1\" class=\"dataframe\">\n",
       "  <thead>\n",
       "    <tr style=\"text-align: right;\">\n",
       "      <th></th>\n",
       "      <th>project_we_love</th>\n",
       "      <th>projects_count</th>\n",
       "    </tr>\n",
       "  </thead>\n",
       "  <tbody>\n",
       "    <tr>\n",
       "      <th>0</th>\n",
       "      <td>0</td>\n",
       "      <td>103668</td>\n",
       "    </tr>\n",
       "    <tr>\n",
       "      <th>1</th>\n",
       "      <td>1</td>\n",
       "      <td>13356</td>\n",
       "    </tr>\n",
       "  </tbody>\n",
       "</table>\n",
       "</div>"
      ],
      "text/plain": [
       "   project_we_love  projects_count\n",
       "0                0          103668\n",
       "1                1           13356"
      ]
     },
     "execution_count": 6,
     "metadata": {},
     "output_type": "execute_result"
    }
   ],
   "source": [
    "pd.read_sql(\"\"\"\n",
    "select project_we_love, count(*) as projects_count FROM kickstarter2017.kickstarter_project GROUP BY project_we_love;\n",
    "\"\"\", con)"
   ]
  },
  {
   "cell_type": "markdown",
   "metadata": {},
   "source": [
    "## success by staff pick\n",
    "only 15% of picked fail "
   ]
  },
  {
   "cell_type": "code",
   "execution_count": 7,
   "metadata": {},
   "outputs": [
    {
     "data": {
      "text/html": [
       "<div>\n",
       "<style>\n",
       "    .dataframe thead tr:only-child th {\n",
       "        text-align: right;\n",
       "    }\n",
       "\n",
       "    .dataframe thead th {\n",
       "        text-align: left;\n",
       "    }\n",
       "\n",
       "    .dataframe tbody tr th {\n",
       "        vertical-align: top;\n",
       "    }\n",
       "</style>\n",
       "<table border=\"1\" class=\"dataframe\">\n",
       "  <thead>\n",
       "    <tr style=\"text-align: right;\">\n",
       "      <th></th>\n",
       "      <th>project_we_love</th>\n",
       "      <th>status</th>\n",
       "      <th>projects_count</th>\n",
       "    </tr>\n",
       "  </thead>\n",
       "  <tbody>\n",
       "    <tr>\n",
       "      <th>0</th>\n",
       "      <td>0</td>\n",
       "      <td>failed</td>\n",
       "      <td>53021</td>\n",
       "    </tr>\n",
       "    <tr>\n",
       "      <th>1</th>\n",
       "      <td>0</td>\n",
       "      <td>successful</td>\n",
       "      <td>42465</td>\n",
       "    </tr>\n",
       "    <tr>\n",
       "      <th>2</th>\n",
       "      <td>1</td>\n",
       "      <td>failed</td>\n",
       "      <td>1995</td>\n",
       "    </tr>\n",
       "    <tr>\n",
       "      <th>3</th>\n",
       "      <td>1</td>\n",
       "      <td>successful</td>\n",
       "      <td>10936</td>\n",
       "    </tr>\n",
       "  </tbody>\n",
       "</table>\n",
       "</div>"
      ],
      "text/plain": [
       "   project_we_love      status  projects_count\n",
       "0                0      failed           53021\n",
       "1                0  successful           42465\n",
       "2                1      failed            1995\n",
       "3                1  successful           10936"
      ]
     },
     "execution_count": 7,
     "metadata": {},
     "output_type": "execute_result"
    }
   ],
   "source": [
    "pd.read_sql(\"\"\"\n",
    "SELECT project_we_love, status, count(*) as projects_count FROM kickstarter2017.kickstarter_project \n",
    "where status like 'failed' or status like 'successful'\n",
    "GROUP BY project_we_love, status order by 1, 2;\n",
    "\"\"\", con)"
   ]
  },
  {
   "cell_type": "markdown",
   "metadata": {},
   "source": [
    "## count of projects by category\n",
    "category **games** is missing"
   ]
  },
  {
   "cell_type": "code",
   "execution_count": 8,
   "metadata": {},
   "outputs": [
    {
     "data": {
      "text/html": [
       "<div>\n",
       "<style>\n",
       "    .dataframe thead tr:only-child th {\n",
       "        text-align: right;\n",
       "    }\n",
       "\n",
       "    .dataframe thead th {\n",
       "        text-align: left;\n",
       "    }\n",
       "\n",
       "    .dataframe tbody tr th {\n",
       "        vertical-align: top;\n",
       "    }\n",
       "</style>\n",
       "<table border=\"1\" class=\"dataframe\">\n",
       "  <thead>\n",
       "    <tr style=\"text-align: right;\">\n",
       "      <th></th>\n",
       "      <th>name</th>\n",
       "      <th>projects_count</th>\n",
       "    </tr>\n",
       "  </thead>\n",
       "  <tbody>\n",
       "    <tr>\n",
       "      <th>0</th>\n",
       "      <td>Art</td>\n",
       "      <td>16170</td>\n",
       "    </tr>\n",
       "    <tr>\n",
       "      <th>1</th>\n",
       "      <td>Comics</td>\n",
       "      <td>5004</td>\n",
       "    </tr>\n",
       "    <tr>\n",
       "      <th>2</th>\n",
       "      <td>Crafts</td>\n",
       "      <td>3228</td>\n",
       "    </tr>\n",
       "    <tr>\n",
       "      <th>3</th>\n",
       "      <td>Dance</td>\n",
       "      <td>1324</td>\n",
       "    </tr>\n",
       "    <tr>\n",
       "      <th>4</th>\n",
       "      <td>Design</td>\n",
       "      <td>4952</td>\n",
       "    </tr>\n",
       "    <tr>\n",
       "      <th>5</th>\n",
       "      <td>Fashion</td>\n",
       "      <td>1672</td>\n",
       "    </tr>\n",
       "    <tr>\n",
       "      <th>6</th>\n",
       "      <td>Film &amp; Video</td>\n",
       "      <td>7146</td>\n",
       "    </tr>\n",
       "    <tr>\n",
       "      <th>7</th>\n",
       "      <td>Food</td>\n",
       "      <td>9994</td>\n",
       "    </tr>\n",
       "    <tr>\n",
       "      <th>8</th>\n",
       "      <td>Journalism</td>\n",
       "      <td>2549</td>\n",
       "    </tr>\n",
       "    <tr>\n",
       "      <th>9</th>\n",
       "      <td>Music</td>\n",
       "      <td>22660</td>\n",
       "    </tr>\n",
       "    <tr>\n",
       "      <th>10</th>\n",
       "      <td>Photography</td>\n",
       "      <td>4350</td>\n",
       "    </tr>\n",
       "    <tr>\n",
       "      <th>11</th>\n",
       "      <td>Publishing</td>\n",
       "      <td>9837</td>\n",
       "    </tr>\n",
       "    <tr>\n",
       "      <th>12</th>\n",
       "      <td>Technology</td>\n",
       "      <td>16281</td>\n",
       "    </tr>\n",
       "    <tr>\n",
       "      <th>13</th>\n",
       "      <td>Theater</td>\n",
       "      <td>3250</td>\n",
       "    </tr>\n",
       "  </tbody>\n",
       "</table>\n",
       "</div>"
      ],
      "text/plain": [
       "            name  projects_count\n",
       "0            Art           16170\n",
       "1         Comics            5004\n",
       "2         Crafts            3228\n",
       "3          Dance            1324\n",
       "4         Design            4952\n",
       "5        Fashion            1672\n",
       "6   Film & Video            7146\n",
       "7           Food            9994\n",
       "8     Journalism            2549\n",
       "9          Music           22660\n",
       "10   Photography            4350\n",
       "11    Publishing            9837\n",
       "12    Technology           16281\n",
       "13       Theater            3250"
      ]
     },
     "execution_count": 8,
     "metadata": {},
     "output_type": "execute_result"
    }
   ],
   "source": [
    "pd.read_sql(\"\"\"\n",
    "SELECT cat.name, count(*) as projects_count FROM kickstarter2017.kickstarter_project p\n",
    "join kickstarter_category cat on p.category_id = cat.category_id\n",
    "where status like 'failed' or status like 'successful'\n",
    "GROUP BY 1\n",
    "\"\"\", con)"
   ]
  },
  {
   "cell_type": "markdown",
   "metadata": {},
   "source": [
    "## success by category"
   ]
  },
  {
   "cell_type": "code",
   "execution_count": 9,
   "metadata": {},
   "outputs": [
    {
     "data": {
      "text/html": [
       "<div>\n",
       "<style>\n",
       "    .dataframe thead tr:only-child th {\n",
       "        text-align: right;\n",
       "    }\n",
       "\n",
       "    .dataframe thead th {\n",
       "        text-align: left;\n",
       "    }\n",
       "\n",
       "    .dataframe tbody tr th {\n",
       "        vertical-align: top;\n",
       "    }\n",
       "</style>\n",
       "<table border=\"1\" class=\"dataframe\">\n",
       "  <thead>\n",
       "    <tr style=\"text-align: right;\">\n",
       "      <th></th>\n",
       "      <th>name</th>\n",
       "      <th>status</th>\n",
       "      <th>projects_count</th>\n",
       "    </tr>\n",
       "  </thead>\n",
       "  <tbody>\n",
       "    <tr>\n",
       "      <th>0</th>\n",
       "      <td>Art</td>\n",
       "      <td>failed</td>\n",
       "      <td>8241</td>\n",
       "    </tr>\n",
       "    <tr>\n",
       "      <th>1</th>\n",
       "      <td>Art</td>\n",
       "      <td>successful</td>\n",
       "      <td>7929</td>\n",
       "    </tr>\n",
       "    <tr>\n",
       "      <th>2</th>\n",
       "      <td>Comics</td>\n",
       "      <td>failed</td>\n",
       "      <td>1810</td>\n",
       "    </tr>\n",
       "    <tr>\n",
       "      <th>3</th>\n",
       "      <td>Comics</td>\n",
       "      <td>successful</td>\n",
       "      <td>3194</td>\n",
       "    </tr>\n",
       "    <tr>\n",
       "      <th>4</th>\n",
       "      <td>Crafts</td>\n",
       "      <td>failed</td>\n",
       "      <td>2321</td>\n",
       "    </tr>\n",
       "    <tr>\n",
       "      <th>5</th>\n",
       "      <td>Crafts</td>\n",
       "      <td>successful</td>\n",
       "      <td>907</td>\n",
       "    </tr>\n",
       "    <tr>\n",
       "      <th>6</th>\n",
       "      <td>Dance</td>\n",
       "      <td>failed</td>\n",
       "      <td>550</td>\n",
       "    </tr>\n",
       "    <tr>\n",
       "      <th>7</th>\n",
       "      <td>Dance</td>\n",
       "      <td>successful</td>\n",
       "      <td>774</td>\n",
       "    </tr>\n",
       "    <tr>\n",
       "      <th>8</th>\n",
       "      <td>Design</td>\n",
       "      <td>failed</td>\n",
       "      <td>1914</td>\n",
       "    </tr>\n",
       "    <tr>\n",
       "      <th>9</th>\n",
       "      <td>Design</td>\n",
       "      <td>successful</td>\n",
       "      <td>3038</td>\n",
       "    </tr>\n",
       "    <tr>\n",
       "      <th>10</th>\n",
       "      <td>Fashion</td>\n",
       "      <td>failed</td>\n",
       "      <td>673</td>\n",
       "    </tr>\n",
       "    <tr>\n",
       "      <th>11</th>\n",
       "      <td>Fashion</td>\n",
       "      <td>successful</td>\n",
       "      <td>999</td>\n",
       "    </tr>\n",
       "    <tr>\n",
       "      <th>12</th>\n",
       "      <td>Film &amp; Video</td>\n",
       "      <td>failed</td>\n",
       "      <td>2480</td>\n",
       "    </tr>\n",
       "    <tr>\n",
       "      <th>13</th>\n",
       "      <td>Film &amp; Video</td>\n",
       "      <td>successful</td>\n",
       "      <td>4666</td>\n",
       "    </tr>\n",
       "    <tr>\n",
       "      <th>14</th>\n",
       "      <td>Food</td>\n",
       "      <td>failed</td>\n",
       "      <td>7629</td>\n",
       "    </tr>\n",
       "    <tr>\n",
       "      <th>15</th>\n",
       "      <td>Food</td>\n",
       "      <td>successful</td>\n",
       "      <td>2365</td>\n",
       "    </tr>\n",
       "    <tr>\n",
       "      <th>16</th>\n",
       "      <td>Journalism</td>\n",
       "      <td>failed</td>\n",
       "      <td>2020</td>\n",
       "    </tr>\n",
       "    <tr>\n",
       "      <th>17</th>\n",
       "      <td>Journalism</td>\n",
       "      <td>successful</td>\n",
       "      <td>529</td>\n",
       "    </tr>\n",
       "    <tr>\n",
       "      <th>18</th>\n",
       "      <td>Music</td>\n",
       "      <td>failed</td>\n",
       "      <td>7838</td>\n",
       "    </tr>\n",
       "    <tr>\n",
       "      <th>19</th>\n",
       "      <td>Music</td>\n",
       "      <td>successful</td>\n",
       "      <td>14822</td>\n",
       "    </tr>\n",
       "    <tr>\n",
       "      <th>20</th>\n",
       "      <td>Photography</td>\n",
       "      <td>failed</td>\n",
       "      <td>2962</td>\n",
       "    </tr>\n",
       "    <tr>\n",
       "      <th>21</th>\n",
       "      <td>Photography</td>\n",
       "      <td>successful</td>\n",
       "      <td>1388</td>\n",
       "    </tr>\n",
       "    <tr>\n",
       "      <th>22</th>\n",
       "      <td>Publishing</td>\n",
       "      <td>failed</td>\n",
       "      <td>4132</td>\n",
       "    </tr>\n",
       "    <tr>\n",
       "      <th>23</th>\n",
       "      <td>Publishing</td>\n",
       "      <td>successful</td>\n",
       "      <td>5705</td>\n",
       "    </tr>\n",
       "    <tr>\n",
       "      <th>24</th>\n",
       "      <td>Technology</td>\n",
       "      <td>failed</td>\n",
       "      <td>11285</td>\n",
       "    </tr>\n",
       "    <tr>\n",
       "      <th>25</th>\n",
       "      <td>Technology</td>\n",
       "      <td>successful</td>\n",
       "      <td>4996</td>\n",
       "    </tr>\n",
       "    <tr>\n",
       "      <th>26</th>\n",
       "      <td>Theater</td>\n",
       "      <td>failed</td>\n",
       "      <td>1161</td>\n",
       "    </tr>\n",
       "    <tr>\n",
       "      <th>27</th>\n",
       "      <td>Theater</td>\n",
       "      <td>successful</td>\n",
       "      <td>2089</td>\n",
       "    </tr>\n",
       "  </tbody>\n",
       "</table>\n",
       "</div>"
      ],
      "text/plain": [
       "            name      status  projects_count\n",
       "0            Art      failed            8241\n",
       "1            Art  successful            7929\n",
       "2         Comics      failed            1810\n",
       "3         Comics  successful            3194\n",
       "4         Crafts      failed            2321\n",
       "5         Crafts  successful             907\n",
       "6          Dance      failed             550\n",
       "7          Dance  successful             774\n",
       "8         Design      failed            1914\n",
       "9         Design  successful            3038\n",
       "10       Fashion      failed             673\n",
       "11       Fashion  successful             999\n",
       "12  Film & Video      failed            2480\n",
       "13  Film & Video  successful            4666\n",
       "14          Food      failed            7629\n",
       "15          Food  successful            2365\n",
       "16    Journalism      failed            2020\n",
       "17    Journalism  successful             529\n",
       "18         Music      failed            7838\n",
       "19         Music  successful           14822\n",
       "20   Photography      failed            2962\n",
       "21   Photography  successful            1388\n",
       "22    Publishing      failed            4132\n",
       "23    Publishing  successful            5705\n",
       "24    Technology      failed           11285\n",
       "25    Technology  successful            4996\n",
       "26       Theater      failed            1161\n",
       "27       Theater  successful            2089"
      ]
     },
     "execution_count": 9,
     "metadata": {},
     "output_type": "execute_result"
    }
   ],
   "source": [
    "pd.read_sql(\"\"\"\n",
    "select cat.name, p.status, p.projects_count from\n",
    "(SELECT category_id, status, count(*) as projects_count FROM kickstarter2017.kickstarter_project\n",
    "where status like 'failed' or status like 'successful'\n",
    "GROUP BY category_id, status) as p\n",
    "join kickstarter_category cat on p.category_id = cat.category_id\n",
    "order by 1,2;\n",
    "\"\"\", con)"
   ]
  },
  {
   "cell_type": "markdown",
   "metadata": {},
   "source": [
    "## count of projects by subcategory\n",
    "some subcategories are missing (154 - 115 = 39)"
   ]
  },
  {
   "cell_type": "code",
   "execution_count": 10,
   "metadata": {},
   "outputs": [
    {
     "data": {
      "text/html": [
       "<div>\n",
       "<style>\n",
       "    .dataframe thead tr:only-child th {\n",
       "        text-align: right;\n",
       "    }\n",
       "\n",
       "    .dataframe thead th {\n",
       "        text-align: left;\n",
       "    }\n",
       "\n",
       "    .dataframe tbody tr th {\n",
       "        vertical-align: top;\n",
       "    }\n",
       "</style>\n",
       "<table border=\"1\" class=\"dataframe\">\n",
       "  <thead>\n",
       "    <tr style=\"text-align: right;\">\n",
       "      <th></th>\n",
       "      <th>name</th>\n",
       "      <th>projects_count</th>\n",
       "    </tr>\n",
       "  </thead>\n",
       "  <tbody>\n",
       "    <tr>\n",
       "      <th>0</th>\n",
       "      <td>3D Printing</td>\n",
       "      <td>557</td>\n",
       "    </tr>\n",
       "    <tr>\n",
       "      <th>1</th>\n",
       "      <td>Academic</td>\n",
       "      <td>752</td>\n",
       "    </tr>\n",
       "    <tr>\n",
       "      <th>2</th>\n",
       "      <td>Accessories</td>\n",
       "      <td>1672</td>\n",
       "    </tr>\n",
       "    <tr>\n",
       "      <th>3</th>\n",
       "      <td>Animals</td>\n",
       "      <td>226</td>\n",
       "    </tr>\n",
       "    <tr>\n",
       "      <th>4</th>\n",
       "      <td>Anthologies</td>\n",
       "      <td>702</td>\n",
       "    </tr>\n",
       "    <tr>\n",
       "      <th>5</th>\n",
       "      <td>Apps</td>\n",
       "      <td>2269</td>\n",
       "    </tr>\n",
       "    <tr>\n",
       "      <th>6</th>\n",
       "      <td>Architecture</td>\n",
       "      <td>625</td>\n",
       "    </tr>\n",
       "    <tr>\n",
       "      <th>7</th>\n",
       "      <td>Art Books</td>\n",
       "      <td>2363</td>\n",
       "    </tr>\n",
       "    <tr>\n",
       "      <th>8</th>\n",
       "      <td>Audio</td>\n",
       "      <td>354</td>\n",
       "    </tr>\n",
       "    <tr>\n",
       "      <th>9</th>\n",
       "      <td>Bacon</td>\n",
       "      <td>178</td>\n",
       "    </tr>\n",
       "    <tr>\n",
       "      <th>10</th>\n",
       "      <td>Blues</td>\n",
       "      <td>231</td>\n",
       "    </tr>\n",
       "    <tr>\n",
       "      <th>11</th>\n",
       "      <td>Calendars</td>\n",
       "      <td>263</td>\n",
       "    </tr>\n",
       "    <tr>\n",
       "      <th>12</th>\n",
       "      <td>Camera Equipment</td>\n",
       "      <td>338</td>\n",
       "    </tr>\n",
       "    <tr>\n",
       "      <th>13</th>\n",
       "      <td>Candles</td>\n",
       "      <td>367</td>\n",
       "    </tr>\n",
       "    <tr>\n",
       "      <th>14</th>\n",
       "      <td>Ceramics</td>\n",
       "      <td>271</td>\n",
       "    </tr>\n",
       "    <tr>\n",
       "      <th>15</th>\n",
       "      <td>Chiptune</td>\n",
       "      <td>33</td>\n",
       "    </tr>\n",
       "    <tr>\n",
       "      <th>16</th>\n",
       "      <td>Civic Design</td>\n",
       "      <td>262</td>\n",
       "    </tr>\n",
       "    <tr>\n",
       "      <th>17</th>\n",
       "      <td>Classical Music</td>\n",
       "      <td>2381</td>\n",
       "    </tr>\n",
       "    <tr>\n",
       "      <th>18</th>\n",
       "      <td>Comedy</td>\n",
       "      <td>145</td>\n",
       "    </tr>\n",
       "    <tr>\n",
       "      <th>19</th>\n",
       "      <td>Comic Books</td>\n",
       "      <td>2311</td>\n",
       "    </tr>\n",
       "    <tr>\n",
       "      <th>20</th>\n",
       "      <td>Community Gardens</td>\n",
       "      <td>267</td>\n",
       "    </tr>\n",
       "    <tr>\n",
       "      <th>21</th>\n",
       "      <td>Conceptual Art</td>\n",
       "      <td>913</td>\n",
       "    </tr>\n",
       "    <tr>\n",
       "      <th>22</th>\n",
       "      <td>Cookbooks</td>\n",
       "      <td>450</td>\n",
       "    </tr>\n",
       "    <tr>\n",
       "      <th>23</th>\n",
       "      <td>Country &amp; Folk</td>\n",
       "      <td>2366</td>\n",
       "    </tr>\n",
       "    <tr>\n",
       "      <th>24</th>\n",
       "      <td>Crochet</td>\n",
       "      <td>152</td>\n",
       "    </tr>\n",
       "    <tr>\n",
       "      <th>25</th>\n",
       "      <td>Digital Art</td>\n",
       "      <td>1136</td>\n",
       "    </tr>\n",
       "    <tr>\n",
       "      <th>26</th>\n",
       "      <td>DIY</td>\n",
       "      <td>742</td>\n",
       "    </tr>\n",
       "    <tr>\n",
       "      <th>27</th>\n",
       "      <td>DIY Electronics</td>\n",
       "      <td>769</td>\n",
       "    </tr>\n",
       "    <tr>\n",
       "      <th>28</th>\n",
       "      <td>Drinks</td>\n",
       "      <td>2047</td>\n",
       "    </tr>\n",
       "    <tr>\n",
       "      <th>29</th>\n",
       "      <td>Electronic Music</td>\n",
       "      <td>1873</td>\n",
       "    </tr>\n",
       "    <tr>\n",
       "      <th>...</th>\n",
       "      <td>...</td>\n",
       "      <td>...</td>\n",
       "    </tr>\n",
       "    <tr>\n",
       "      <th>85</th>\n",
       "      <td>Quilts</td>\n",
       "      <td>75</td>\n",
       "    </tr>\n",
       "    <tr>\n",
       "      <th>86</th>\n",
       "      <td>R&amp;B</td>\n",
       "      <td>400</td>\n",
       "    </tr>\n",
       "    <tr>\n",
       "      <th>87</th>\n",
       "      <td>Radio &amp; Podcasts</td>\n",
       "      <td>831</td>\n",
       "    </tr>\n",
       "    <tr>\n",
       "      <th>88</th>\n",
       "      <td>Residencies</td>\n",
       "      <td>67</td>\n",
       "    </tr>\n",
       "    <tr>\n",
       "      <th>89</th>\n",
       "      <td>Restaurants</td>\n",
       "      <td>2347</td>\n",
       "    </tr>\n",
       "    <tr>\n",
       "      <th>90</th>\n",
       "      <td>Robots</td>\n",
       "      <td>480</td>\n",
       "    </tr>\n",
       "    <tr>\n",
       "      <th>91</th>\n",
       "      <td>Rock</td>\n",
       "      <td>2369</td>\n",
       "    </tr>\n",
       "    <tr>\n",
       "      <th>92</th>\n",
       "      <td>Sculpture</td>\n",
       "      <td>1638</td>\n",
       "    </tr>\n",
       "    <tr>\n",
       "      <th>93</th>\n",
       "      <td>Small Batch</td>\n",
       "      <td>1562</td>\n",
       "    </tr>\n",
       "    <tr>\n",
       "      <th>94</th>\n",
       "      <td>Software</td>\n",
       "      <td>2360</td>\n",
       "    </tr>\n",
       "    <tr>\n",
       "      <th>95</th>\n",
       "      <td>Sound</td>\n",
       "      <td>541</td>\n",
       "    </tr>\n",
       "    <tr>\n",
       "      <th>96</th>\n",
       "      <td>Space Exploration</td>\n",
       "      <td>273</td>\n",
       "    </tr>\n",
       "    <tr>\n",
       "      <th>97</th>\n",
       "      <td>Spaces</td>\n",
       "      <td>357</td>\n",
       "    </tr>\n",
       "    <tr>\n",
       "      <th>98</th>\n",
       "      <td>Stationery</td>\n",
       "      <td>143</td>\n",
       "    </tr>\n",
       "    <tr>\n",
       "      <th>99</th>\n",
       "      <td>Textiles</td>\n",
       "      <td>233</td>\n",
       "    </tr>\n",
       "    <tr>\n",
       "      <th>100</th>\n",
       "      <td>Thrillers</td>\n",
       "      <td>626</td>\n",
       "    </tr>\n",
       "    <tr>\n",
       "      <th>101</th>\n",
       "      <td>Translations</td>\n",
       "      <td>138</td>\n",
       "    </tr>\n",
       "    <tr>\n",
       "      <th>102</th>\n",
       "      <td>Typography</td>\n",
       "      <td>90</td>\n",
       "    </tr>\n",
       "    <tr>\n",
       "      <th>103</th>\n",
       "      <td>Video</td>\n",
       "      <td>375</td>\n",
       "    </tr>\n",
       "    <tr>\n",
       "      <th>104</th>\n",
       "      <td>Video Art</td>\n",
       "      <td>171</td>\n",
       "    </tr>\n",
       "    <tr>\n",
       "      <th>105</th>\n",
       "      <td>Wearables</td>\n",
       "      <td>928</td>\n",
       "    </tr>\n",
       "    <tr>\n",
       "      <th>106</th>\n",
       "      <td>Weaving</td>\n",
       "      <td>74</td>\n",
       "    </tr>\n",
       "    <tr>\n",
       "      <th>107</th>\n",
       "      <td>Web</td>\n",
       "      <td>3405</td>\n",
       "    </tr>\n",
       "    <tr>\n",
       "      <th>108</th>\n",
       "      <td>Webcomics</td>\n",
       "      <td>580</td>\n",
       "    </tr>\n",
       "    <tr>\n",
       "      <th>109</th>\n",
       "      <td>Webseries</td>\n",
       "      <td>2362</td>\n",
       "    </tr>\n",
       "    <tr>\n",
       "      <th>110</th>\n",
       "      <td>Woodworking</td>\n",
       "      <td>1025</td>\n",
       "    </tr>\n",
       "    <tr>\n",
       "      <th>111</th>\n",
       "      <td>Workshops</td>\n",
       "      <td>145</td>\n",
       "    </tr>\n",
       "    <tr>\n",
       "      <th>112</th>\n",
       "      <td>World Music</td>\n",
       "      <td>1907</td>\n",
       "    </tr>\n",
       "    <tr>\n",
       "      <th>113</th>\n",
       "      <td>Young Adult</td>\n",
       "      <td>692</td>\n",
       "    </tr>\n",
       "    <tr>\n",
       "      <th>114</th>\n",
       "      <td>Zines</td>\n",
       "      <td>346</td>\n",
       "    </tr>\n",
       "  </tbody>\n",
       "</table>\n",
       "<p>115 rows × 2 columns</p>\n",
       "</div>"
      ],
      "text/plain": [
       "                  name  projects_count\n",
       "0          3D Printing             557\n",
       "1             Academic             752\n",
       "2          Accessories            1672\n",
       "3              Animals             226\n",
       "4          Anthologies             702\n",
       "5                 Apps            2269\n",
       "6         Architecture             625\n",
       "7            Art Books            2363\n",
       "8                Audio             354\n",
       "9                Bacon             178\n",
       "10               Blues             231\n",
       "11           Calendars             263\n",
       "12    Camera Equipment             338\n",
       "13             Candles             367\n",
       "14            Ceramics             271\n",
       "15            Chiptune              33\n",
       "16        Civic Design             262\n",
       "17     Classical Music            2381\n",
       "18              Comedy             145\n",
       "19         Comic Books            2311\n",
       "20   Community Gardens             267\n",
       "21      Conceptual Art             913\n",
       "22           Cookbooks             450\n",
       "23      Country & Folk            2366\n",
       "24             Crochet             152\n",
       "25         Digital Art            1136\n",
       "26                 DIY             742\n",
       "27     DIY Electronics             769\n",
       "28              Drinks            2047\n",
       "29    Electronic Music            1873\n",
       "..                 ...             ...\n",
       "85              Quilts              75\n",
       "86                 R&B             400\n",
       "87    Radio & Podcasts             831\n",
       "88         Residencies              67\n",
       "89         Restaurants            2347\n",
       "90              Robots             480\n",
       "91                Rock            2369\n",
       "92           Sculpture            1638\n",
       "93         Small Batch            1562\n",
       "94            Software            2360\n",
       "95               Sound             541\n",
       "96   Space Exploration             273\n",
       "97              Spaces             357\n",
       "98          Stationery             143\n",
       "99            Textiles             233\n",
       "100          Thrillers             626\n",
       "101       Translations             138\n",
       "102         Typography              90\n",
       "103              Video             375\n",
       "104          Video Art             171\n",
       "105          Wearables             928\n",
       "106            Weaving              74\n",
       "107                Web            3405\n",
       "108          Webcomics             580\n",
       "109          Webseries            2362\n",
       "110        Woodworking            1025\n",
       "111          Workshops             145\n",
       "112        World Music            1907\n",
       "113        Young Adult             692\n",
       "114              Zines             346\n",
       "\n",
       "[115 rows x 2 columns]"
      ]
     },
     "execution_count": 10,
     "metadata": {},
     "output_type": "execute_result"
    }
   ],
   "source": [
    "pd.read_sql(\"\"\"\n",
    "SELECT subcat.name, count(*) as projects_count FROM kickstarter2017.kickstarter_project p\n",
    "join kickstarter_subcategory subcat on p.subcategory_id = subcat.subcategory_id\n",
    "where status like 'failed' or status like 'successful'\n",
    "GROUP BY 1\n",
    "\"\"\", con)"
   ]
  },
  {
   "cell_type": "markdown",
   "metadata": {},
   "source": [
    "## success by subcategory - relevant ? too much values\n",
    "some has 100% success rate"
   ]
  },
  {
   "cell_type": "code",
   "execution_count": null,
   "metadata": {
    "collapsed": true
   },
   "outputs": [],
   "source": []
  },
  {
   "cell_type": "markdown",
   "metadata": {},
   "source": [
    "## location\n",
    "many unique locations - group by country etc."
   ]
  },
  {
   "cell_type": "code",
   "execution_count": 11,
   "metadata": {},
   "outputs": [
    {
     "data": {
      "text/html": [
       "<div>\n",
       "<style>\n",
       "    .dataframe thead tr:only-child th {\n",
       "        text-align: right;\n",
       "    }\n",
       "\n",
       "    .dataframe thead th {\n",
       "        text-align: left;\n",
       "    }\n",
       "\n",
       "    .dataframe tbody tr th {\n",
       "        vertical-align: top;\n",
       "    }\n",
       "</style>\n",
       "<table border=\"1\" class=\"dataframe\">\n",
       "  <thead>\n",
       "    <tr style=\"text-align: right;\">\n",
       "      <th></th>\n",
       "      <th>unique_locations</th>\n",
       "    </tr>\n",
       "  </thead>\n",
       "  <tbody>\n",
       "    <tr>\n",
       "      <th>0</th>\n",
       "      <td>11356</td>\n",
       "    </tr>\n",
       "  </tbody>\n",
       "</table>\n",
       "</div>"
      ],
      "text/plain": [
       "   unique_locations\n",
       "0             11356"
      ]
     },
     "execution_count": 11,
     "metadata": {},
     "output_type": "execute_result"
    }
   ],
   "source": [
    "pd.read_sql(\"\"\"\n",
    "SELECT count(distinct location_id) as unique_locations FROM kickstarter2017.kickstarter_project \n",
    "where status like 'failed' or status like 'successful';\n",
    "\"\"\", con)"
   ]
  },
  {
   "cell_type": "markdown",
   "metadata": {},
   "source": [
    "## goal distribution"
   ]
  },
  {
   "cell_type": "code",
   "execution_count": 12,
   "metadata": {
    "collapsed": true
   },
   "outputs": [],
   "source": [
    "df = pd.read_sql(\"\"\"\n",
    "select goal, status FROM kickstarter2017.kickstarter_project where status like 'successful' or status like 'failed';\n",
    "\"\"\", con)"
   ]
  },
  {
   "cell_type": "code",
   "execution_count": 13,
   "metadata": {
    "scrolled": false
   },
   "outputs": [
    {
     "data": {
      "text/plain": [
       "<matplotlib.text.Text at 0x16a6b34bac8>"
      ]
     },
     "execution_count": 13,
     "metadata": {},
     "output_type": "execute_result"
    },
    {
     "data": {
      "image/png": "[encoded data removed]",
      "text/plain": [
       "<matplotlib.figure.Figure at 0x16a68a799b0>"
      ]
     },
     "metadata": {},
     "output_type": "display_data"
    }
   ],
   "source": [
    "df[df['status'] == 'failed'].hist(bins=20)\n",
    "plt.yscale('log')\n",
    "plt.ylabel('count of projects')\n",
    "plt.xlabel('goal')\n",
    "plt.title('Distribution of goal for failed projects')"
   ]
  },
  {
   "cell_type": "code",
   "execution_count": 14,
   "metadata": {},
   "outputs": [
    {
     "data": {
      "text/plain": [
       "<matplotlib.text.Text at 0x16a6be11160>"
      ]
     },
     "execution_count": 14,
     "metadata": {},
     "output_type": "execute_result"
    },
    {
     "data": {
      "image/png": "[encoded data removed]",
      "text/plain": [
       "<matplotlib.figure.Figure at 0x16a6b916e48>"
      ]
     },
     "metadata": {},
     "output_type": "display_data"
    }
   ],
   "source": [
    "df[df['status'] == 'successful'].hist(bins=20)\n",
    "plt.yscale('log')\n",
    "plt.ylabel('count of projects')\n",
    "plt.xlabel('goal')\n",
    "plt.title('Distribution of goal for successful projects')"
   ]
  },
  {
   "cell_type": "code",
   "execution_count": 15,
   "metadata": {},
   "outputs": [
    {
     "data": {
      "text/plain": [
       "<matplotlib.text.Text at 0x16a68e6b6d8>"
      ]
     },
     "execution_count": 15,
     "metadata": {},
     "output_type": "execute_result"
    },
    {
     "data": {
      "image/png": "[encoded data removed]",
      "text/plain": [
       "<matplotlib.figure.Figure at 0x16a6aec65f8>"
      ]
     },
     "metadata": {},
     "output_type": "display_data"
    }
   ],
   "source": [
    "sns.boxplot(data=df, x='status', y='goal')\n",
    "#plt.yscale('log')\n",
    "plt.ylim([-10, 50000])\n",
    "plt.title('Distribution of goal with respect to final state')"
   ]
  },
  {
   "cell_type": "markdown",
   "metadata": {},
   "source": [
    "## pledged distribution"
   ]
  },
  {
   "cell_type": "code",
   "execution_count": 16,
   "metadata": {
    "collapsed": true
   },
   "outputs": [],
   "source": [
    "df = pd.read_sql(\"\"\"\n",
    "select pledged, status FROM kickstarter2017.kickstarter_project where status like 'successful' or status like 'failed';\n",
    "\"\"\", con)"
   ]
  },
  {
   "cell_type": "code",
   "execution_count": 17,
   "metadata": {},
   "outputs": [
    {
     "data": {
      "text/plain": [
       "<matplotlib.text.Text at 0x16a6b221e10>"
      ]
     },
     "execution_count": 17,
     "metadata": {},
     "output_type": "execute_result"
    },
    {
     "data": {
      "image/png": "[encoded data removed]",
      "text/plain": [
       "<matplotlib.figure.Figure at 0x16a6be62358>"
      ]
     },
     "metadata": {},
     "output_type": "display_data"
    }
   ],
   "source": [
    "df[df['status'] == 'failed'].hist(bins=20)\n",
    "plt.yscale('log')\n",
    "plt.ylabel('count of projects')\n",
    "plt.xlabel('money pledged')\n",
    "plt.title('Distribution of money pledged for failed projects')"
   ]
  },
  {
   "cell_type": "code",
   "execution_count": 18,
   "metadata": {},
   "outputs": [
    {
     "data": {
      "text/plain": [
       "<matplotlib.text.Text at 0x16a6d82e7f0>"
      ]
     },
     "execution_count": 18,
     "metadata": {},
     "output_type": "execute_result"
    },
    {
     "data": {
      "image/png": "[encoded data removed]",
      "text/plain": [
       "<matplotlib.figure.Figure at 0x16a6b51f400>"
      ]
     },
     "metadata": {},
     "output_type": "display_data"
    }
   ],
   "source": [
    "df[df['status'] == 'successful'].hist(bins=20)\n",
    "plt.yscale('log')\n",
    "plt.ylabel('count of projects')\n",
    "plt.xlabel('money pledged')\n",
    "plt.title('Distribution of money pledged for successful projects')"
   ]
  },
  {
   "cell_type": "markdown",
   "metadata": {},
   "source": [
    "Compare to goal"
   ]
  },
  {
   "cell_type": "code",
   "execution_count": 19,
   "metadata": {},
   "outputs": [
    {
     "data": {
      "text/plain": [
       "<matplotlib.text.Text at 0x16a6e0d1be0>"
      ]
     },
     "execution_count": 19,
     "metadata": {},
     "output_type": "execute_result"
    },
    {
     "data": {
      "image/png": "[encoded data removed]",
      "text/plain": [
       "<matplotlib.figure.Figure at 0x16a6b036e10>"
      ]
     },
     "metadata": {},
     "output_type": "display_data"
    }
   ],
   "source": [
    "sns.boxplot(data=df, x='status', y='pledged')\n",
    "#plt.yscale('log')\n",
    "plt.ylim([-10, 50000])\n",
    "plt.title('Distribution of money pledged with respect to final state')"
   ]
  },
  {
   "cell_type": "markdown",
   "metadata": {},
   "source": [
    "## pledged/goal ratio\n",
    "* some projects have small goal (f.e. 1 USD) - therefore ratio can be extremely high\n",
    "\n",
    "* makes **keep-it-all** from **all-or-nothing**"
   ]
  },
  {
   "cell_type": "code",
   "execution_count": 20,
   "metadata": {
    "collapsed": true
   },
   "outputs": [],
   "source": [
    "df = pd.read_sql(\"\"\"\n",
    "select name, pledged/goal, pledged, goal, status FROM kickstarter2017.kickstarter_project where status like 'successful' or status like 'failed';\n",
    "\"\"\", con)"
   ]
  },
  {
   "cell_type": "code",
   "execution_count": 21,
   "metadata": {},
   "outputs": [
    {
     "data": {
      "text/html": [
       "<div>\n",
       "<style>\n",
       "    .dataframe thead tr:only-child th {\n",
       "        text-align: right;\n",
       "    }\n",
       "\n",
       "    .dataframe thead th {\n",
       "        text-align: left;\n",
       "    }\n",
       "\n",
       "    .dataframe tbody tr th {\n",
       "        vertical-align: top;\n",
       "    }\n",
       "</style>\n",
       "<table border=\"1\" class=\"dataframe\">\n",
       "  <thead>\n",
       "    <tr style=\"text-align: right;\">\n",
       "      <th></th>\n",
       "      <th>name</th>\n",
       "      <th>pledged/goal</th>\n",
       "      <th>pledged</th>\n",
       "      <th>goal</th>\n",
       "      <th>status</th>\n",
       "    </tr>\n",
       "  </thead>\n",
       "  <tbody>\n",
       "    <tr>\n",
       "      <th>73639</th>\n",
       "      <td>CLOCKWRIGHT: Large-Scale Analogue Time Machines</td>\n",
       "      <td>27588.0</td>\n",
       "      <td>27588.0</td>\n",
       "      <td>1.0</td>\n",
       "      <td>successful</td>\n",
       "    </tr>\n",
       "    <tr>\n",
       "      <th>37503</th>\n",
       "      <td>Penny Arcade&amp;#39;s Podcast, &amp;quot;Downloadable...</td>\n",
       "      <td>23036.0</td>\n",
       "      <td>230360.0</td>\n",
       "      <td>10.0</td>\n",
       "      <td>successful</td>\n",
       "    </tr>\n",
       "    <tr>\n",
       "      <th>47201</th>\n",
       "      <td>THE &amp;#39;mi8&amp;#39; RISES | The Best Wireless Du...</td>\n",
       "      <td>22603.0</td>\n",
       "      <td>22603.0</td>\n",
       "      <td>1.0</td>\n",
       "      <td>successful</td>\n",
       "    </tr>\n",
       "    <tr>\n",
       "      <th>81854</th>\n",
       "      <td>Multi-Purpose, All-Occasion Greeting Cards</td>\n",
       "      <td>12575.0</td>\n",
       "      <td>25150.0</td>\n",
       "      <td>2.0</td>\n",
       "      <td>successful</td>\n",
       "    </tr>\n",
       "    <tr>\n",
       "      <th>42802</th>\n",
       "      <td>Arduino IoT. Home automation, 3D printing, rob...</td>\n",
       "      <td>9605.0</td>\n",
       "      <td>9605.0</td>\n",
       "      <td>1.0</td>\n",
       "      <td>successful</td>\n",
       "    </tr>\n",
       "  </tbody>\n",
       "</table>\n",
       "</div>"
      ],
      "text/plain": [
       "                                                    name  pledged/goal  \\\n",
       "73639    CLOCKWRIGHT: Large-Scale Analogue Time Machines       27588.0   \n",
       "37503  Penny Arcade&#39;s Podcast, &quot;Downloadable...       23036.0   \n",
       "47201  THE &#39;mi8&#39; RISES | The Best Wireless Du...       22603.0   \n",
       "81854         Multi-Purpose, All-Occasion Greeting Cards       12575.0   \n",
       "42802  Arduino IoT. Home automation, 3D printing, rob...        9605.0   \n",
       "\n",
       "        pledged  goal      status  \n",
       "73639   27588.0   1.0  successful  \n",
       "37503  230360.0  10.0  successful  \n",
       "47201   22603.0   1.0  successful  \n",
       "81854   25150.0   2.0  successful  \n",
       "42802    9605.0   1.0  successful  "
      ]
     },
     "execution_count": 21,
     "metadata": {},
     "output_type": "execute_result"
    }
   ],
   "source": [
    "df.sort_values('pledged/goal', ascending=False).head()"
   ]
  },
  {
   "cell_type": "code",
   "execution_count": 22,
   "metadata": {},
   "outputs": [
    {
     "data": {
      "text/plain": [
       "<matplotlib.text.Text at 0x16a6e03ed68>"
      ]
     },
     "execution_count": 22,
     "metadata": {},
     "output_type": "execute_result"
    },
    {
     "data": {
      "image/png": "[encoded data removed]",
      "text/plain": [
       "<matplotlib.figure.Figure at 0x16a6d4a65c0>"
      ]
     },
     "metadata": {},
     "output_type": "display_data"
    }
   ],
   "source": [
    "df['pledged/goal'].hist(bins=20)\n",
    "plt.yscale('log')\n",
    "plt.ylabel('count of projects')\n",
    "plt.xlabel('pledged/goal')\n",
    "plt.title('Distribution of pledged/goal ratio')"
   ]
  },
  {
   "cell_type": "code",
   "execution_count": 23,
   "metadata": {},
   "outputs": [
    {
     "data": {
      "text/html": [
       "<div>\n",
       "<style>\n",
       "    .dataframe thead tr:only-child th {\n",
       "        text-align: right;\n",
       "    }\n",
       "\n",
       "    .dataframe thead th {\n",
       "        text-align: left;\n",
       "    }\n",
       "\n",
       "    .dataframe tbody tr th {\n",
       "        vertical-align: top;\n",
       "    }\n",
       "</style>\n",
       "<table border=\"1\" class=\"dataframe\">\n",
       "  <thead>\n",
       "    <tr style=\"text-align: right;\">\n",
       "      <th></th>\n",
       "      <th>name</th>\n",
       "      <th>pledged/goal</th>\n",
       "      <th>pledged</th>\n",
       "      <th>goal</th>\n",
       "      <th>status</th>\n",
       "    </tr>\n",
       "  </thead>\n",
       "  <tbody>\n",
       "    <tr>\n",
       "      <th>59202</th>\n",
       "      <td>LOVELAND Round 6: A Force More Powerful</td>\n",
       "      <td>NaN</td>\n",
       "      <td>100.0</td>\n",
       "      <td>0.0</td>\n",
       "      <td>successful</td>\n",
       "    </tr>\n",
       "  </tbody>\n",
       "</table>\n",
       "</div>"
      ],
      "text/plain": [
       "                                          name  pledged/goal  pledged  goal  \\\n",
       "59202  LOVELAND Round 6: A Force More Powerful           NaN    100.0   0.0   \n",
       "\n",
       "           status  \n",
       "59202  successful  "
      ]
     },
     "execution_count": 23,
     "metadata": {},
     "output_type": "execute_result"
    }
   ],
   "source": [
    "# only 1 NaN value => goal = 0\n",
    "df[df['goal'] == 0]"
   ]
  },
  {
   "cell_type": "code",
   "execution_count": 24,
   "metadata": {
    "collapsed": true
   },
   "outputs": [],
   "source": [
    "df.dropna(inplace=True)"
   ]
  },
  {
   "cell_type": "code",
   "execution_count": 25,
   "metadata": {},
   "outputs": [
    {
     "data": {
      "text/plain": [
       "<matplotlib.text.Text at 0x16a6d8326d8>"
      ]
     },
     "execution_count": 25,
     "metadata": {},
     "output_type": "execute_result"
    },
    {
     "data": {
      "image/png": "[encoded data removed]",
      "text/plain": [
       "<matplotlib.figure.Figure at 0x16a7034d6d8>"
      ]
     },
     "metadata": {},
     "output_type": "display_data"
    }
   ],
   "source": [
    "bins = np.arange(0,355,10)\n",
    "\n",
    "fig, ax = plt.subplots(figsize=(15,6))\n",
    "_, bins, patches = plt.hist(np.clip(df['pledged/goal']*100, bins[0], bins[-1]), bins=bins)\n",
    "\n",
    "labels = [str(x) for x in np.arange(0,355,10)]\n",
    "labels[-1] = labels[-1] + '+'\n",
    "\n",
    "plt.xticks(np.arange(0,355,10), labels, rotation='horizontal')\n",
    "plt.xlim([0, 355])\n",
    "#plt.yscale('log')\n",
    "plt.ylabel('count of projects')\n",
    "plt.xlabel('pledged/goal in %')\n",
    "plt.title('Distribution of money pledged/goal ratio')"
   ]
  },
  {
   "cell_type": "code",
   "execution_count": 26,
   "metadata": {},
   "outputs": [
    {
     "data": {
      "text/plain": [
       "<matplotlib.text.Text at 0x16a6ff66860>"
      ]
     },
     "execution_count": 26,
     "metadata": {},
     "output_type": "execute_result"
    },
    {
     "data": {
      "image/png": "[encoded data removed]",
      "text/plain": [
       "<matplotlib.figure.Figure at 0x16a6e03ec50>"
      ]
     },
     "metadata": {},
     "output_type": "display_data"
    }
   ],
   "source": [
    "sns.boxplot(data=df, x='status', y='pledged/goal')\n",
    "#plt.yscale('log')\n",
    "plt.ylim([-0.20, 2.50])\n",
    "plt.title('Distribution of money/pledged ratio with respect to final state')"
   ]
  },
  {
   "cell_type": "markdown",
   "metadata": {},
   "source": [
    "## count of projects by currency"
   ]
  },
  {
   "cell_type": "code",
   "execution_count": 27,
   "metadata": {},
   "outputs": [
    {
     "data": {
      "text/html": [
       "<div>\n",
       "<style>\n",
       "    .dataframe thead tr:only-child th {\n",
       "        text-align: right;\n",
       "    }\n",
       "\n",
       "    .dataframe thead th {\n",
       "        text-align: left;\n",
       "    }\n",
       "\n",
       "    .dataframe tbody tr th {\n",
       "        vertical-align: top;\n",
       "    }\n",
       "</style>\n",
       "<table border=\"1\" class=\"dataframe\">\n",
       "  <thead>\n",
       "    <tr style=\"text-align: right;\">\n",
       "      <th></th>\n",
       "      <th>currency</th>\n",
       "      <th>count(*)</th>\n",
       "    </tr>\n",
       "  </thead>\n",
       "  <tbody>\n",
       "    <tr>\n",
       "      <th>0</th>\n",
       "      <td></td>\n",
       "      <td>3</td>\n",
       "    </tr>\n",
       "    <tr>\n",
       "      <th>1</th>\n",
       "      <td>$</td>\n",
       "      <td>44136</td>\n",
       "    </tr>\n",
       "    <tr>\n",
       "      <th>2</th>\n",
       "      <td>AU$</td>\n",
       "      <td>729</td>\n",
       "    </tr>\n",
       "    <tr>\n",
       "      <th>3</th>\n",
       "      <td>aud</td>\n",
       "      <td>1655</td>\n",
       "    </tr>\n",
       "    <tr>\n",
       "      <th>4</th>\n",
       "      <td>CA$</td>\n",
       "      <td>1664</td>\n",
       "    </tr>\n",
       "    <tr>\n",
       "      <th>5</th>\n",
       "      <td>cad</td>\n",
       "      <td>3107</td>\n",
       "    </tr>\n",
       "    <tr>\n",
       "      <th>6</th>\n",
       "      <td>chf</td>\n",
       "      <td>235</td>\n",
       "    </tr>\n",
       "    <tr>\n",
       "      <th>7</th>\n",
       "      <td>DKK</td>\n",
       "      <td>393</td>\n",
       "    </tr>\n",
       "    <tr>\n",
       "      <th>8</th>\n",
       "      <td>eur</td>\n",
       "      <td>3940</td>\n",
       "    </tr>\n",
       "    <tr>\n",
       "      <th>9</th>\n",
       "      <td>gbp</td>\n",
       "      <td>5848</td>\n",
       "    </tr>\n",
       "    <tr>\n",
       "      <th>10</th>\n",
       "      <td>HK$</td>\n",
       "      <td>67</td>\n",
       "    </tr>\n",
       "    <tr>\n",
       "      <th>11</th>\n",
       "      <td>hkd</td>\n",
       "      <td>100</td>\n",
       "    </tr>\n",
       "    <tr>\n",
       "      <th>12</th>\n",
       "      <td>jpy</td>\n",
       "      <td>9</td>\n",
       "    </tr>\n",
       "    <tr>\n",
       "      <th>13</th>\n",
       "      <td>MX$</td>\n",
       "      <td>154</td>\n",
       "    </tr>\n",
       "    <tr>\n",
       "      <th>14</th>\n",
       "      <td>mxn</td>\n",
       "      <td>382</td>\n",
       "    </tr>\n",
       "    <tr>\n",
       "      <th>15</th>\n",
       "      <td>nok</td>\n",
       "      <td>259</td>\n",
       "    </tr>\n",
       "    <tr>\n",
       "      <th>16</th>\n",
       "      <td>NZ$</td>\n",
       "      <td>141</td>\n",
       "    </tr>\n",
       "    <tr>\n",
       "      <th>17</th>\n",
       "      <td>nzd</td>\n",
       "      <td>289</td>\n",
       "    </tr>\n",
       "    <tr>\n",
       "      <th>18</th>\n",
       "      <td>S$</td>\n",
       "      <td>46</td>\n",
       "    </tr>\n",
       "    <tr>\n",
       "      <th>19</th>\n",
       "      <td>sek</td>\n",
       "      <td>571</td>\n",
       "    </tr>\n",
       "    <tr>\n",
       "      <th>20</th>\n",
       "      <td>sgd</td>\n",
       "      <td>85</td>\n",
       "    </tr>\n",
       "    <tr>\n",
       "      <th>21</th>\n",
       "      <td>usd</td>\n",
       "      <td>47230</td>\n",
       "    </tr>\n",
       "    <tr>\n",
       "      <th>22</th>\n",
       "      <td>£</td>\n",
       "      <td>4608</td>\n",
       "    </tr>\n",
       "    <tr>\n",
       "      <th>23</th>\n",
       "      <td>¥</td>\n",
       "      <td>5</td>\n",
       "    </tr>\n",
       "    <tr>\n",
       "      <th>24</th>\n",
       "      <td>€</td>\n",
       "      <td>1368</td>\n",
       "    </tr>\n",
       "  </tbody>\n",
       "</table>\n",
       "</div>"
      ],
      "text/plain": [
       "   currency  count(*)\n",
       "0                   3\n",
       "1         $     44136\n",
       "2       AU$       729\n",
       "3       aud      1655\n",
       "4       CA$      1664\n",
       "5       cad      3107\n",
       "6       chf       235\n",
       "7       DKK       393\n",
       "8       eur      3940\n",
       "9       gbp      5848\n",
       "10      HK$        67\n",
       "11      hkd       100\n",
       "12      jpy         9\n",
       "13      MX$       154\n",
       "14      mxn       382\n",
       "15      nok       259\n",
       "16      NZ$       141\n",
       "17      nzd       289\n",
       "18       S$        46\n",
       "19      sek       571\n",
       "20      sgd        85\n",
       "21      usd     47230\n",
       "22        £      4608\n",
       "23        ¥         5\n",
       "24        €      1368"
      ]
     },
     "execution_count": 27,
     "metadata": {},
     "output_type": "execute_result"
    }
   ],
   "source": [
    "pd.read_sql(\"\"\"\n",
    "SELECT currency, count(*) FROM kickstarter2017.kickstarter_project group by 1;\n",
    "\"\"\", con)"
   ]
  },
  {
   "cell_type": "markdown",
   "metadata": {},
   "source": [
    "## success by currency\n",
    "same currency - different symbols"
   ]
  },
  {
   "cell_type": "code",
   "execution_count": 28,
   "metadata": {},
   "outputs": [
    {
     "data": {
      "text/html": [
       "<div>\n",
       "<style>\n",
       "    .dataframe thead tr:only-child th {\n",
       "        text-align: right;\n",
       "    }\n",
       "\n",
       "    .dataframe thead th {\n",
       "        text-align: left;\n",
       "    }\n",
       "\n",
       "    .dataframe tbody tr th {\n",
       "        vertical-align: top;\n",
       "    }\n",
       "</style>\n",
       "<table border=\"1\" class=\"dataframe\">\n",
       "  <thead>\n",
       "    <tr style=\"text-align: right;\">\n",
       "      <th></th>\n",
       "      <th>currency</th>\n",
       "      <th>status</th>\n",
       "      <th>projects_count</th>\n",
       "    </tr>\n",
       "  </thead>\n",
       "  <tbody>\n",
       "    <tr>\n",
       "      <th>0</th>\n",
       "      <td>$</td>\n",
       "      <td>successful</td>\n",
       "      <td>44136</td>\n",
       "    </tr>\n",
       "    <tr>\n",
       "      <th>1</th>\n",
       "      <td>AU$</td>\n",
       "      <td>successful</td>\n",
       "      <td>729</td>\n",
       "    </tr>\n",
       "    <tr>\n",
       "      <th>2</th>\n",
       "      <td>aud</td>\n",
       "      <td>failed</td>\n",
       "      <td>1408</td>\n",
       "    </tr>\n",
       "    <tr>\n",
       "      <th>3</th>\n",
       "      <td>CA$</td>\n",
       "      <td>successful</td>\n",
       "      <td>1664</td>\n",
       "    </tr>\n",
       "    <tr>\n",
       "      <th>4</th>\n",
       "      <td>cad</td>\n",
       "      <td>failed</td>\n",
       "      <td>2621</td>\n",
       "    </tr>\n",
       "    <tr>\n",
       "      <th>5</th>\n",
       "      <td>chf</td>\n",
       "      <td>failed</td>\n",
       "      <td>117</td>\n",
       "    </tr>\n",
       "    <tr>\n",
       "      <th>6</th>\n",
       "      <td>CHF</td>\n",
       "      <td>successful</td>\n",
       "      <td>73</td>\n",
       "    </tr>\n",
       "    <tr>\n",
       "      <th>7</th>\n",
       "      <td>dkk</td>\n",
       "      <td>failed</td>\n",
       "      <td>214</td>\n",
       "    </tr>\n",
       "    <tr>\n",
       "      <th>8</th>\n",
       "      <td>DKK</td>\n",
       "      <td>successful</td>\n",
       "      <td>137</td>\n",
       "    </tr>\n",
       "    <tr>\n",
       "      <th>9</th>\n",
       "      <td>eur</td>\n",
       "      <td>failed</td>\n",
       "      <td>3179</td>\n",
       "    </tr>\n",
       "    <tr>\n",
       "      <th>10</th>\n",
       "      <td>gbp</td>\n",
       "      <td>failed</td>\n",
       "      <td>4944</td>\n",
       "    </tr>\n",
       "    <tr>\n",
       "      <th>11</th>\n",
       "      <td>HK$</td>\n",
       "      <td>successful</td>\n",
       "      <td>67</td>\n",
       "    </tr>\n",
       "    <tr>\n",
       "      <th>12</th>\n",
       "      <td>hkd</td>\n",
       "      <td>failed</td>\n",
       "      <td>46</td>\n",
       "    </tr>\n",
       "    <tr>\n",
       "      <th>13</th>\n",
       "      <td>MX$</td>\n",
       "      <td>successful</td>\n",
       "      <td>154</td>\n",
       "    </tr>\n",
       "    <tr>\n",
       "      <th>14</th>\n",
       "      <td>mxn</td>\n",
       "      <td>failed</td>\n",
       "      <td>264</td>\n",
       "    </tr>\n",
       "    <tr>\n",
       "      <th>15</th>\n",
       "      <td>nok</td>\n",
       "      <td>failed</td>\n",
       "      <td>147</td>\n",
       "    </tr>\n",
       "    <tr>\n",
       "      <th>16</th>\n",
       "      <td>NOK</td>\n",
       "      <td>successful</td>\n",
       "      <td>78</td>\n",
       "    </tr>\n",
       "    <tr>\n",
       "      <th>17</th>\n",
       "      <td>NZ$</td>\n",
       "      <td>successful</td>\n",
       "      <td>141</td>\n",
       "    </tr>\n",
       "    <tr>\n",
       "      <th>18</th>\n",
       "      <td>nzd</td>\n",
       "      <td>failed</td>\n",
       "      <td>251</td>\n",
       "    </tr>\n",
       "    <tr>\n",
       "      <th>19</th>\n",
       "      <td>S$</td>\n",
       "      <td>successful</td>\n",
       "      <td>46</td>\n",
       "    </tr>\n",
       "    <tr>\n",
       "      <th>20</th>\n",
       "      <td>sek</td>\n",
       "      <td>failed</td>\n",
       "      <td>322</td>\n",
       "    </tr>\n",
       "    <tr>\n",
       "      <th>21</th>\n",
       "      <td>SEK</td>\n",
       "      <td>successful</td>\n",
       "      <td>195</td>\n",
       "    </tr>\n",
       "    <tr>\n",
       "      <th>22</th>\n",
       "      <td>sgd</td>\n",
       "      <td>failed</td>\n",
       "      <td>52</td>\n",
       "    </tr>\n",
       "    <tr>\n",
       "      <th>23</th>\n",
       "      <td>usd</td>\n",
       "      <td>failed</td>\n",
       "      <td>41451</td>\n",
       "    </tr>\n",
       "    <tr>\n",
       "      <th>24</th>\n",
       "      <td>£</td>\n",
       "      <td>successful</td>\n",
       "      <td>4608</td>\n",
       "    </tr>\n",
       "    <tr>\n",
       "      <th>25</th>\n",
       "      <td>¥</td>\n",
       "      <td>successful</td>\n",
       "      <td>5</td>\n",
       "    </tr>\n",
       "    <tr>\n",
       "      <th>26</th>\n",
       "      <td>€</td>\n",
       "      <td>successful</td>\n",
       "      <td>1368</td>\n",
       "    </tr>\n",
       "  </tbody>\n",
       "</table>\n",
       "</div>"
      ],
      "text/plain": [
       "   currency      status  projects_count\n",
       "0         $  successful           44136\n",
       "1       AU$  successful             729\n",
       "2       aud      failed            1408\n",
       "3       CA$  successful            1664\n",
       "4       cad      failed            2621\n",
       "5       chf      failed             117\n",
       "6       CHF  successful              73\n",
       "7       dkk      failed             214\n",
       "8       DKK  successful             137\n",
       "9       eur      failed            3179\n",
       "10      gbp      failed            4944\n",
       "11      HK$  successful              67\n",
       "12      hkd      failed              46\n",
       "13      MX$  successful             154\n",
       "14      mxn      failed             264\n",
       "15      nok      failed             147\n",
       "16      NOK  successful              78\n",
       "17      NZ$  successful             141\n",
       "18      nzd      failed             251\n",
       "19       S$  successful              46\n",
       "20      sek      failed             322\n",
       "21      SEK  successful             195\n",
       "22      sgd      failed              52\n",
       "23      usd      failed           41451\n",
       "24        £  successful            4608\n",
       "25        ¥  successful               5\n",
       "26        €  successful            1368"
      ]
     },
     "execution_count": 28,
     "metadata": {},
     "output_type": "execute_result"
    }
   ],
   "source": [
    "pd.read_sql(\"\"\"\n",
    "SELECT currency, status, count(*) as projects_count FROM kickstarter2017.kickstarter_project \n",
    "where status like 'failed' or status like 'successful'\n",
    "GROUP BY currency, status order by 1, 2;\n",
    "\"\"\", con)"
   ]
  },
  {
   "cell_type": "markdown",
   "metadata": {
    "collapsed": true
   },
   "source": [
    "## backers distribution"
   ]
  },
  {
   "cell_type": "code",
   "execution_count": 29,
   "metadata": {
    "collapsed": true
   },
   "outputs": [],
   "source": [
    "df = pd.read_sql(\"\"\"\n",
    "select backers_count, status, name FROM kickstarter2017.kickstarter_project where status like 'successful' or status like 'failed';\n",
    "\"\"\", con)"
   ]
  },
  {
   "cell_type": "code",
   "execution_count": 30,
   "metadata": {},
   "outputs": [
    {
     "data": {
      "text/plain": [
       "<matplotlib.text.Text at 0x16a6e921588>"
      ]
     },
     "execution_count": 30,
     "metadata": {},
     "output_type": "execute_result"
    },
    {
     "data": {
      "image/png": "[encoded data removed]",
      "text/plain": [
       "<matplotlib.figure.Figure at 0x16a70391240>"
      ]
     },
     "metadata": {},
     "output_type": "display_data"
    }
   ],
   "source": [
    "df.hist(bins=50)\n",
    "plt.yscale('log')\n",
    "plt.ylabel('count of projects')\n",
    "plt.xlabel('count of backers')\n",
    "plt.title('Distribution of backers')"
   ]
  },
  {
   "cell_type": "code",
   "execution_count": 31,
   "metadata": {},
   "outputs": [
    {
     "data": {
      "text/plain": [
       "<matplotlib.text.Text at 0x16a703d8320>"
      ]
     },
     "execution_count": 31,
     "metadata": {},
     "output_type": "execute_result"
    },
    {
     "data": {
      "image/png": "[encoded data removed]",
      "text/plain": [
       "<matplotlib.figure.Figure at 0x16a6f9b9470>"
      ]
     },
     "metadata": {},
     "output_type": "display_data"
    }
   ],
   "source": [
    "bins = np.arange(0,1100,50)\n",
    "\n",
    "fig, ax = plt.subplots(figsize=(15,6))\n",
    "_, bins, patches = plt.hist(np.clip(df['backers_count'], bins[0], bins[-1]), bins=bins)\n",
    "\n",
    "labels = [str(x) for x in np.arange(0,1100,50)]\n",
    "labels[-1] = labels[-1] + '+'\n",
    "\n",
    "plt.xticks(np.arange(0,1100,50), labels, rotation='horizontal')\n",
    "plt.xlim([0, 1050])\n",
    "plt.yscale('log')\n",
    "plt.ylabel('count of projects')\n",
    "plt.xlabel('count of backers')\n",
    "plt.title('Distribution of backers')"
   ]
  },
  {
   "cell_type": "code",
   "execution_count": 32,
   "metadata": {},
   "outputs": [
    {
     "data": {
      "text/plain": [
       "<matplotlib.text.Text at 0x16a6fc086a0>"
      ]
     },
     "execution_count": 32,
     "metadata": {},
     "output_type": "execute_result"
    },
    {
     "data": {
      "image/png": "[encoded data removed]",
      "text/plain": [
       "<matplotlib.figure.Figure at 0x16a6db89550>"
      ]
     },
     "metadata": {},
     "output_type": "display_data"
    }
   ],
   "source": [
    "sns.boxplot(data=df, x='status', y='backers_count')\n",
    "#plt.yscale('log')\n",
    "#plt.ylim([-10, 300])\n",
    "plt.title('Distribution of backers with respect to final state')"
   ]
  },
  {
   "cell_type": "code",
   "execution_count": 33,
   "metadata": {},
   "outputs": [
    {
     "data": {
      "text/html": [
       "<div>\n",
       "<style>\n",
       "    .dataframe thead tr:only-child th {\n",
       "        text-align: right;\n",
       "    }\n",
       "\n",
       "    .dataframe thead th {\n",
       "        text-align: left;\n",
       "    }\n",
       "\n",
       "    .dataframe tbody tr th {\n",
       "        vertical-align: top;\n",
       "    }\n",
       "</style>\n",
       "<table border=\"1\" class=\"dataframe\">\n",
       "  <thead>\n",
       "    <tr style=\"text-align: right;\">\n",
       "      <th></th>\n",
       "      <th>backers_count</th>\n",
       "      <th>status</th>\n",
       "      <th>name</th>\n",
       "    </tr>\n",
       "  </thead>\n",
       "  <tbody>\n",
       "    <tr>\n",
       "      <th>45113</th>\n",
       "      <td>2620</td>\n",
       "      <td>failed</td>\n",
       "      <td>Sideclick: Streamline Your Streaming Experience</td>\n",
       "    </tr>\n",
       "    <tr>\n",
       "      <th>51919</th>\n",
       "      <td>2391</td>\n",
       "      <td>failed</td>\n",
       "      <td>MAGZET: The Audio Jack Reinvented with the Pow...</td>\n",
       "    </tr>\n",
       "    <tr>\n",
       "      <th>47566</th>\n",
       "      <td>2388</td>\n",
       "      <td>failed</td>\n",
       "      <td>Kickstarter Open Source Death Star</td>\n",
       "    </tr>\n",
       "    <tr>\n",
       "      <th>42409</th>\n",
       "      <td>2062</td>\n",
       "      <td>failed</td>\n",
       "      <td>CENTR: Interactive Panoramic Video in the Palm...</td>\n",
       "    </tr>\n",
       "    <tr>\n",
       "      <th>2246</th>\n",
       "      <td>1792</td>\n",
       "      <td>failed</td>\n",
       "      <td>Support a 100% people-funded, nonpartisan onli...</td>\n",
       "    </tr>\n",
       "    <tr>\n",
       "      <th>47527</th>\n",
       "      <td>1601</td>\n",
       "      <td>failed</td>\n",
       "      <td>Spark: Upgrade your lights with Wi-Fi and apps</td>\n",
       "    </tr>\n",
       "    <tr>\n",
       "      <th>48340</th>\n",
       "      <td>1391</td>\n",
       "      <td>failed</td>\n",
       "      <td>Turn Your Phone Into Work Computer and Family ...</td>\n",
       "    </tr>\n",
       "    <tr>\n",
       "      <th>47715</th>\n",
       "      <td>1274</td>\n",
       "      <td>failed</td>\n",
       "      <td>CAT: A Thruster for Interplanetary CubeSats</td>\n",
       "    </tr>\n",
       "    <tr>\n",
       "      <th>47726</th>\n",
       "      <td>1188</td>\n",
       "      <td>failed</td>\n",
       "      <td>The Greatest Toy KIT in the Universe! Spider T...</td>\n",
       "    </tr>\n",
       "    <tr>\n",
       "      <th>52319</th>\n",
       "      <td>1045</td>\n",
       "      <td>failed</td>\n",
       "      <td>Moonspike | We&amp;#39;re Going Back to the Moon</td>\n",
       "    </tr>\n",
       "  </tbody>\n",
       "</table>\n",
       "</div>"
      ],
      "text/plain": [
       "       backers_count  status  \\\n",
       "45113           2620  failed   \n",
       "51919           2391  failed   \n",
       "47566           2388  failed   \n",
       "42409           2062  failed   \n",
       "2246            1792  failed   \n",
       "47527           1601  failed   \n",
       "48340           1391  failed   \n",
       "47715           1274  failed   \n",
       "47726           1188  failed   \n",
       "52319           1045  failed   \n",
       "\n",
       "                                                    name  \n",
       "45113    Sideclick: Streamline Your Streaming Experience  \n",
       "51919  MAGZET: The Audio Jack Reinvented with the Pow...  \n",
       "47566                 Kickstarter Open Source Death Star  \n",
       "42409  CENTR: Interactive Panoramic Video in the Palm...  \n",
       "2246   Support a 100% people-funded, nonpartisan onli...  \n",
       "47527     Spark: Upgrade your lights with Wi-Fi and apps  \n",
       "48340  Turn Your Phone Into Work Computer and Family ...  \n",
       "47715        CAT: A Thruster for Interplanetary CubeSats  \n",
       "47726  The Greatest Toy KIT in the Universe! Spider T...  \n",
       "52319       Moonspike | We&#39;re Going Back to the Moon  "
      ]
     },
     "execution_count": 33,
     "metadata": {},
     "output_type": "execute_result"
    }
   ],
   "source": [
    "df.sort_values(by='backers_count',ascending=False).head(10)"
   ]
  },
  {
   "cell_type": "markdown",
   "metadata": {},
   "source": [
    "## duration distribution\n",
    "* some old projects - duration > 60 (nowadays 60 is max.)"
   ]
  },
  {
   "cell_type": "code",
   "execution_count": 34,
   "metadata": {
    "collapsed": true
   },
   "outputs": [],
   "source": [
    "df = pd.read_sql(\"\"\"\n",
    "select duration, status, name FROM kickstarter2017.kickstarter_project where status like 'successful' or status like 'failed';\n",
    "\"\"\", con)"
   ]
  },
  {
   "cell_type": "code",
   "execution_count": 35,
   "metadata": {},
   "outputs": [
    {
     "data": {
      "text/plain": [
       "<matplotlib.text.Text at 0x16a700ba8d0>"
      ]
     },
     "execution_count": 35,
     "metadata": {},
     "output_type": "execute_result"
    },
    {
     "data": {
      "image/png": "[encoded data removed]",
      "text/plain": [
       "<matplotlib.figure.Figure at 0x16a70d6fa90>"
      ]
     },
     "metadata": {},
     "output_type": "display_data"
    }
   ],
   "source": [
    "df['duration'].hist(bins=90)\n",
    "plt.yscale('log')\n",
    "plt.ylabel('count of projects')\n",
    "plt.xlabel('duration in days')\n",
    "plt.title('Distribution of campaign duration')"
   ]
  },
  {
   "cell_type": "code",
   "execution_count": 36,
   "metadata": {},
   "outputs": [
    {
     "data": {
      "text/plain": [
       "<matplotlib.text.Text at 0x16a70e3dbe0>"
      ]
     },
     "execution_count": 36,
     "metadata": {},
     "output_type": "execute_result"
    },
    {
     "data": {
      "image/png": "[encoded data removed]",
      "text/plain": [
       "<matplotlib.figure.Figure at 0x16a70f63940>"
      ]
     },
     "metadata": {},
     "output_type": "display_data"
    }
   ],
   "source": [
    "plt.rcParams['figure.figsize'] = [20, 8]\n",
    "df['duration'].value_counts().plot(kind='bar')\n",
    "#plt.yscale('log')\n",
    "plt.ylabel('count of projects')\n",
    "plt.xlabel('duration in days')\n",
    "plt.title('Distribution of campaign duration')"
   ]
  },
  {
   "cell_type": "markdown",
   "metadata": {},
   "source": [
    "## goal/duration ratio ~ one day goal"
   ]
  },
  {
   "cell_type": "code",
   "execution_count": 37,
   "metadata": {
    "collapsed": true
   },
   "outputs": [],
   "source": [
    "df = pd.read_sql(\"\"\"\n",
    "select goal/duration, goal, duration, status, name FROM kickstarter2017.kickstarter_project where status like 'successful' or status like 'failed';\n",
    "\"\"\", con)"
   ]
  },
  {
   "cell_type": "code",
   "execution_count": 38,
   "metadata": {},
   "outputs": [
    {
     "data": {
      "text/plain": [
       "<matplotlib.text.Text at 0x16a70cd7828>"
      ]
     },
     "execution_count": 38,
     "metadata": {},
     "output_type": "execute_result"
    },
    {
     "data": {
      "image/png": "[encoded data removed]",
      "text/plain": [
       "<matplotlib.figure.Figure at 0x16a740202e8>"
      ]
     },
     "metadata": {},
     "output_type": "display_data"
    }
   ],
   "source": [
    "df['goal/duration'].hist(bins=20)\n",
    "plt.yscale('log')\n",
    "plt.ylabel('count of projects')\n",
    "plt.xlabel('goal/duration ~ 1 day goal')\n",
    "plt.title('Distribution of goal/duration ratio')"
   ]
  },
  {
   "cell_type": "code",
   "execution_count": 39,
   "metadata": {},
   "outputs": [
    {
     "data": {
      "text/plain": [
       "<matplotlib.text.Text at 0x16a6d726dd8>"
      ]
     },
     "execution_count": 39,
     "metadata": {},
     "output_type": "execute_result"
    },
    {
     "data": {
      "image/png": "[encoded data removed]",
      "text/plain": [
       "<matplotlib.figure.Figure at 0x16a75c40ac8>"
      ]
     },
     "metadata": {},
     "output_type": "display_data"
    }
   ],
   "source": [
    "sns.boxplot(data=df, x='status', y='goal/duration')\n",
    "#plt.yscale('log')\n",
    "plt.ylim([-10, 1600])\n",
    "plt.ylabel('goal/duration ~ 1 day goal')\n",
    "plt.title('Distribution of goal/duration ratio')"
   ]
  },
  {
   "cell_type": "markdown",
   "metadata": {},
   "source": [
    "## count of faq distribution\n",
    "bad predictor"
   ]
  },
  {
   "cell_type": "code",
   "execution_count": 49,
   "metadata": {
    "collapsed": true
   },
   "outputs": [],
   "source": [
    "df = pd.read_sql(\"\"\"\n",
    "select faq_count, status, name FROM kickstarter2017.kickstarter_project where status like 'successful' or status like 'failed';\n",
    "\"\"\", con)"
   ]
  },
  {
   "cell_type": "code",
   "execution_count": 41,
   "metadata": {},
   "outputs": [
    {
     "data": {
      "text/plain": [
       "<matplotlib.text.Text at 0x16a74e61be0>"
      ]
     },
     "execution_count": 41,
     "metadata": {},
     "output_type": "execute_result"
    },
    {
     "data": {
      "image/png": "[encoded data removed]",
      "text/plain": [
       "<matplotlib.figure.Figure at 0x16a76f13240>"
      ]
     },
     "metadata": {},
     "output_type": "display_data"
    }
   ],
   "source": [
    "plt.subplots(figsize=(15,6))\n",
    "df['faq_count'].value_counts().plot(kind='bar')\n",
    "plt.yscale('log')\n",
    "plt.ylabel('count of projects')\n",
    "plt.xlabel('count of FAQ')\n",
    "plt.title('Distribution of FAQ count')"
   ]
  },
  {
   "cell_type": "code",
   "execution_count": 52,
   "metadata": {},
   "outputs": [
    {
     "data": {
      "text/plain": [
       "<matplotlib.text.Text at 0x16a75adc208>"
      ]
     },
     "execution_count": 52,
     "metadata": {},
     "output_type": "execute_result"
    },
    {
     "data": {
      "image/png": "[encoded data removed]",
      "text/plain": [
       "<matplotlib.figure.Figure at 0x16a6b8d4b70>"
      ]
     },
     "metadata": {},
     "output_type": "display_data"
    }
   ],
   "source": [
    "pd.crosstab(index=df['faq_count'], columns=df['status']).plot.bar(stacked=True, figsize=(15, 8))\n",
    "#plt.yscale('log')\n",
    "#plt.ylim([0,50])\n",
    "plt.ylabel('count of projects')\n",
    "plt.xlabel('count of FAQ')\n",
    "plt.title('Distribution of FAQ count')"
   ]
  },
  {
   "cell_type": "markdown",
   "metadata": {},
   "source": [
    "## count of facebook shares distribution"
   ]
  },
  {
   "cell_type": "code",
   "execution_count": 43,
   "metadata": {
    "collapsed": true
   },
   "outputs": [],
   "source": [
    "df = pd.read_sql(\"\"\"\n",
    "select fb_shares_count, status, name FROM kickstarter2017.kickstarter_project where status like 'successful' or status like 'failed';\n",
    "\"\"\", con)"
   ]
  },
  {
   "cell_type": "code",
   "execution_count": 44,
   "metadata": {
    "scrolled": false
   },
   "outputs": [
    {
     "data": {
      "text/plain": [
       "<matplotlib.text.Text at 0x16a72cefba8>"
      ]
     },
     "execution_count": 44,
     "metadata": {},
     "output_type": "execute_result"
    },
    {
     "data": {
      "image/png": "[encoded data removed]",
      "text/plain": [
       "<matplotlib.figure.Figure at 0x16a6d1a8cc0>"
      ]
     },
     "metadata": {},
     "output_type": "display_data"
    }
   ],
   "source": [
    "df['fb_shares_count'].hist(bins=50)\n",
    "plt.yscale('log')\n",
    "plt.ylabel('count of projects')\n",
    "plt.xlabel('facebook shares count')\n",
    "plt.title('Distribution of Facebook shares')"
   ]
  },
  {
   "cell_type": "code",
   "execution_count": 45,
   "metadata": {},
   "outputs": [
    {
     "data": {
      "text/html": [
       "<div>\n",
       "<style>\n",
       "    .dataframe thead tr:only-child th {\n",
       "        text-align: right;\n",
       "    }\n",
       "\n",
       "    .dataframe thead th {\n",
       "        text-align: left;\n",
       "    }\n",
       "\n",
       "    .dataframe tbody tr th {\n",
       "        vertical-align: top;\n",
       "    }\n",
       "</style>\n",
       "<table border=\"1\" class=\"dataframe\">\n",
       "  <thead>\n",
       "    <tr style=\"text-align: right;\">\n",
       "      <th></th>\n",
       "      <th>fb_shares_count</th>\n",
       "      <th>status</th>\n",
       "      <th>name</th>\n",
       "    </tr>\n",
       "  </thead>\n",
       "  <tbody>\n",
       "    <tr>\n",
       "      <th>53336</th>\n",
       "      <td>868529</td>\n",
       "      <td>successful</td>\n",
       "      <td>Bring Reading Rainbow Back for Every Child, Ev...</td>\n",
       "    </tr>\n",
       "    <tr>\n",
       "      <th>62065</th>\n",
       "      <td>496594</td>\n",
       "      <td>successful</td>\n",
       "      <td>Sweary Colouring Book</td>\n",
       "    </tr>\n",
       "    <tr>\n",
       "      <th>94997</th>\n",
       "      <td>267817</td>\n",
       "      <td>successful</td>\n",
       "      <td>Blue Mountain State: The Movie</td>\n",
       "    </tr>\n",
       "  </tbody>\n",
       "</table>\n",
       "</div>"
      ],
      "text/plain": [
       "       fb_shares_count      status  \\\n",
       "53336           868529  successful   \n",
       "62065           496594  successful   \n",
       "94997           267817  successful   \n",
       "\n",
       "                                                    name  \n",
       "53336  Bring Reading Rainbow Back for Every Child, Ev...  \n",
       "62065                              Sweary Colouring Book  \n",
       "94997                     Blue Mountain State: The Movie  "
      ]
     },
     "execution_count": 45,
     "metadata": {},
     "output_type": "execute_result"
    }
   ],
   "source": [
    "df[df['fb_shares_count'] > 200000]"
   ]
  },
  {
   "cell_type": "code",
   "execution_count": 46,
   "metadata": {},
   "outputs": [
    {
     "data": {
      "text/plain": [
       "<matplotlib.legend.Legend at 0x16a72b54240>"
      ]
     },
     "execution_count": 46,
     "metadata": {},
     "output_type": "execute_result"
    },
    {
     "data": {
      "image/png": "[encoded data removed]",
      "text/plain": [
       "<matplotlib.figure.Figure at 0x16a72d41080>"
      ]
     },
     "metadata": {},
     "output_type": "display_data"
    }
   ],
   "source": [
    "bins = np.arange(0,800,20)\n",
    "\n",
    "fig, ax = plt.subplots(figsize=(15,6))\n",
    "_, bins, patches = plt.hist(np.clip(df[df['status'] == 'failed']['fb_shares_count'], bins[0], bins[-1]), bins=bins, alpha=0.5, label='failed')\n",
    "plt.hist(np.clip(df[df['status'] == 'successful']['fb_shares_count'], bins[0], bins[-1]), bins=bins, alpha=0.5, label='successful')\n",
    "\n",
    "labels = [str(x) for x in np.arange(0,800,20)]\n",
    "labels[-1] = labels[-1] + '+'\n",
    "\n",
    "plt.xticks(np.arange(0,800,20), labels, rotation='horizontal')\n",
    "plt.xlim([0, 780])\n",
    "plt.yscale('log')\n",
    "plt.ylabel('count of projects')\n",
    "plt.xlabel('count of facebook shares')\n",
    "plt.title('Distribution of Facebook shares')\n",
    "plt.legend(loc='upper right')"
   ]
  },
  {
   "cell_type": "code",
   "execution_count": 47,
   "metadata": {},
   "outputs": [
    {
     "data": {
      "text/plain": [
       "<matplotlib.text.Text at 0x16a72e2ca90>"
      ]
     },
     "execution_count": 47,
     "metadata": {},
     "output_type": "execute_result"
    },
    {
     "data": {
      "image/png": "[encoded data removed]",
      "text/plain": [
       "<matplotlib.figure.Figure at 0x16a6d606160>"
      ]
     },
     "metadata": {},
     "output_type": "display_data"
    }
   ],
   "source": [
    "sns.boxplot(data=df, x='status', y='fb_shares_count')\n",
    "#plt.yscale('log')\n",
    "plt.ylim([0, 800])\n",
    "plt.ylabel('facebook shares count')\n",
    "plt.title('Distribution of Facebook shares')"
   ]
  }
 ],
 "metadata": {
  "kernelspec": {
   "display_name": "Python 3",
   "language": "python",
   "name": "python3"
  },
  "language_info": {
   "codemirror_mode": {
    "name": "ipython",
    "version": 3
   },
   "file_extension": ".py",
   "mimetype": "text/x-python",
   "name": "python",
   "nbconvert_exporter": "python",
   "pygments_lexer": "ipython3",
   "version": "3.6.1"
  }
 },
 "nbformat": 4,
 "nbformat_minor": 2
}
