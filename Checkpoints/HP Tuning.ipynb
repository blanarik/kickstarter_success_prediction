{
 "cells": [
  {
   "cell_type": "code",
   "execution_count": null,
   "metadata": {
    "collapsed": true
   },
   "outputs": [],
   "source": [
    "from sklearn.tree import DecisionTreeClassifier\n",
    "\n",
    "from sklearn.ensemble import RandomForestClassifier \n",
    "from sklearn.ensemble import ExtraTreesClassifier\n",
    "from sklearn.linear_model import LogisticRegression \n",
    "\n",
    "from sklearn.model_selection import train_test_split\n",
    "from sklearn.model_selection import GridSearchCV\n",
    "from sklearn.grid_search import ParameterGrid\n",
    "\n",
    "from sklearn import metrics\n",
    "from sklearn.metrics import confusion_matrix\n",
    "\n",
    "import matplotlib.pyplot as plt\n",
    "import seaborn as sns\n",
    "import pandas as pd\n",
    "\n",
    "from sklearn import tree\n",
    "import graphviz\n",
    "\n",
    "%matplotlib inline"
   ]
  },
  {
   "cell_type": "code",
   "execution_count": 2,
   "metadata": {
    "collapsed": true
   },
   "outputs": [],
   "source": [
    "# metrics for each class + weighted average (- bad impact)\n",
    "# micro f1 = accuracy\n",
    "def print_metrics(cls, X_test, y_test):\n",
    "    sns.heatmap(confusion_matrix(y_test, cls.predict(X_test)), annot=True, fmt='g', annot_kws={\"size\": 16})\n",
    "    print('accuracy: ',metrics.accuracy_score(y_test, cls.predict(X_test)))\n",
    "    print()\n",
    "    print(metrics.classification_report(y_test, cls.predict(X_test)))\n",
    "    print('macro precision: ',metrics.precision_score(y_test, cls.predict(X_test), average='macro'))\n",
    "    print('micro precision: ',metrics.precision_score(y_test, cls.predict(X_test), average='micro'))\n",
    "    print()\n",
    "    print('micro recall: ',metrics.recall_score(y_test, cls.predict(X_test), average='micro'))\n",
    "    print('macro recall: ',metrics.recall_score(y_test, cls.predict(X_test), average='macro'))\n",
    "    print()\n",
    "    print('micro f1: ',metrics.f1_score(y_test, cls.predict(X_test), average='micro'))\n",
    "    print('macro f1: ',metrics.f1_score(y_test, cls.predict(X_test), average='macro'))\n",
    "    plt.show()"
   ]
  },
  {
   "cell_type": "code",
   "execution_count": null,
   "metadata": {
    "collapsed": true
   },
   "outputs": [],
   "source": []
  },
  {
   "cell_type": "code",
   "execution_count": 24,
   "metadata": {
    "collapsed": true
   },
   "outputs": [],
   "source": [
    "df = pd.read_csv('data/normalized/original.csv', index_col=0)"
   ]
  },
  {
   "cell_type": "code",
   "execution_count": 25,
   "metadata": {
    "collapsed": true
   },
   "outputs": [],
   "source": [
    "df = df[(df['ratio_running_duration'] >= 25) & (df['ratio_running_duration'] < 50)]"
   ]
  },
  {
   "cell_type": "code",
   "execution_count": 21,
   "metadata": {
    "collapsed": true
   },
   "outputs": [],
   "source": [
    "df['test'] = df['ratio_pledged_goal'] * df['ratio_running_duration'] / 100"
   ]
  },
  {
   "cell_type": "code",
   "execution_count": 36,
   "metadata": {
    "collapsed": true
   },
   "outputs": [],
   "source": [
    "df.drop('ratio_running_duration_original', axis=1, inplace=True)"
   ]
  },
  {
   "cell_type": "code",
   "execution_count": 26,
   "metadata": {
    "collapsed": true
   },
   "outputs": [],
   "source": [
    "# split to train and test sets\n",
    "features, featuresCV, labels, labelsCV = train_test_split(df.drop('class', axis=1), df['class'], test_size=0.30, random_state=16)"
   ]
  },
  {
   "cell_type": "code",
   "execution_count": 27,
   "metadata": {},
   "outputs": [
    {
     "data": {
      "text/plain": [
       "(5446, 40)"
      ]
     },
     "execution_count": 27,
     "metadata": {},
     "output_type": "execute_result"
    }
   ],
   "source": [
    "features.shape"
   ]
  },
  {
   "cell_type": "markdown",
   "metadata": {},
   "source": [
    "# DecisionTree"
   ]
  },
  {
   "cell_type": "code",
   "execution_count": 86,
   "metadata": {
    "collapsed": true
   },
   "outputs": [],
   "source": [
    "cls = DecisionTreeClassifier"
   ]
  },
  {
   "cell_type": "code",
   "execution_count": 169,
   "metadata": {
    "collapsed": true
   },
   "outputs": [],
   "source": [
    "params = {\n",
    "    'criterion': ['gini', 'entropy'],\n",
    "    'splitter': ['best', 'random'], # je vhodne skusat random?\n",
    "    'max_depth': range(1, 20),\n",
    "    'min_samples_split': range(1, 60, 10),\n",
    "    'min_samples_leaf': range(1, 20, 5),\n",
    "    #'min_weight_fraction_leaf': ,\n",
    "    'max_features': [5, 10, 20, 30, 40],\n",
    "    'random_state': [64],\n",
    "    #'max_leaf_nodes': ,\n",
    "    #'min_impurity_decrease': [0.0],\n",
    "    'class_weight': [None, 'balanced']\n",
    "}"
   ]
  },
  {
   "cell_type": "code",
   "execution_count": 7,
   "metadata": {
    "scrolled": false
   },
   "outputs": [
    {
     "name": "stderr",
     "output_type": "stream",
     "text": [
      "C:\\Users\\Patrik\\Anaconda3\\lib\\site-packages\\sklearn\\cross_validation.py:41: DeprecationWarning: This module was deprecated in version 0.18 in favor of the model_selection module into which all the refactored classes and functions are moved. Also note that the interface of the new CV iterators are different from that of this module. This module will be removed in 0.20.\n",
      "  \"This module will be removed in 0.20.\", DeprecationWarning)\n",
      "C:\\Users\\Patrik\\Anaconda3\\lib\\site-packages\\sklearn\\grid_search.py:42: DeprecationWarning: This module was deprecated in version 0.18 in favor of the model_selection module into which all the refactored classes and functions are moved. This module will be removed in 0.20.\n",
      "  DeprecationWarning)\n"
     ]
    },
    {
     "ename": "NameError",
     "evalue": "name 'params' is not defined",
     "output_type": "error",
     "traceback": [
      "\u001b[1;31m---------------------------------------------------------------------------\u001b[0m",
      "\u001b[1;31mNameError\u001b[0m                                 Traceback (most recent call last)",
      "\u001b[1;32m<ipython-input-7-0ca5b340f189>\u001b[0m in \u001b[0;36m<module>\u001b[1;34m()\u001b[0m\n\u001b[0;32m      1\u001b[0m \u001b[1;32mfrom\u001b[0m \u001b[0msklearn\u001b[0m\u001b[1;33m.\u001b[0m\u001b[0mgrid_search\u001b[0m \u001b[1;32mimport\u001b[0m \u001b[0mParameterGrid\u001b[0m\u001b[1;33m\u001b[0m\u001b[0m\n\u001b[1;32m----> 2\u001b[1;33m \u001b[0mlen\u001b[0m\u001b[1;33m(\u001b[0m\u001b[0mlist\u001b[0m\u001b[1;33m(\u001b[0m\u001b[0mParameterGrid\u001b[0m\u001b[1;33m(\u001b[0m\u001b[0mparams\u001b[0m\u001b[1;33m)\u001b[0m\u001b[1;33m)\u001b[0m\u001b[1;33m)\u001b[0m\u001b[1;33m\u001b[0m\u001b[0m\n\u001b[0m",
      "\u001b[1;31mNameError\u001b[0m: name 'params' is not defined"
     ]
    }
   ],
   "source": [
    "len(list(ParameterGrid(params)))"
   ]
  },
  {
   "cell_type": "code",
   "execution_count": 171,
   "metadata": {
    "collapsed": true
   },
   "outputs": [],
   "source": [
    "gs = GridSearchCV(cls(), params, scoring='accuracy', cv=10, n_jobs=-1, error_score=0)"
   ]
  },
  {
   "cell_type": "code",
   "execution_count": 172,
   "metadata": {},
   "outputs": [
    {
     "name": "stdout",
     "output_type": "stream",
     "text": [
      "Wall time: 45min 40s\n"
     ]
    },
    {
     "data": {
      "text/plain": [
       "GridSearchCV(cv=10, error_score=0,\n",
       "       estimator=DecisionTreeClassifier(class_weight=None, criterion='gini', max_depth=None,\n",
       "            max_features=None, max_leaf_nodes=None,\n",
       "            min_impurity_decrease=0.0, min_impurity_split=None,\n",
       "            min_samples_leaf=1, min_samples_split=2,\n",
       "            min_weight_fraction_leaf=0.0, presort=False, random_state=None,\n",
       "            splitter='best'),\n",
       "       fit_params=None, iid=True, n_jobs=-1,\n",
       "       param_grid={'criterion': ['gini', 'entropy'], 'splitter': ['best', 'random'], 'max_depth': range(1, 20), 'min_samples_split': range(1, 60, 10), 'min_samples_leaf': range(1, 20, 5), 'max_features': [5, 10, 20, 30, 40], 'random_state': [64], 'class_weight': [None, 'balanced']},\n",
       "       pre_dispatch='2*n_jobs', refit=True, return_train_score='warn',\n",
       "       scoring='accuracy', verbose=0)"
      ]
     },
     "execution_count": 172,
     "metadata": {},
     "output_type": "execute_result"
    }
   ],
   "source": [
    "%%time\n",
    "gs.fit(features, labels)"
   ]
  },
  {
   "cell_type": "code",
   "execution_count": 173,
   "metadata": {},
   "outputs": [
    {
     "name": "stderr",
     "output_type": "stream",
     "text": [
      "C:\\Users\\Patrik\\Anaconda3\\lib\\site-packages\\sklearn\\model_selection\\_search.py:761: DeprecationWarning: The grid_scores_ attribute was deprecated in version 0.18 in favor of the more elaborate cv_results_ attribute. The grid_scores_ attribute will not be available from 0.20\n",
      "  DeprecationWarning)\n"
     ]
    },
    {
     "data": {
      "text/plain": [
       "[mean: 0.80187, std: 0.01737, params: {'class_weight': None, 'criterion': 'entropy', 'max_depth': 4, 'max_features': 40, 'min_samples_leaf': 1, 'min_samples_split': 11, 'random_state': 64, 'splitter': 'best'},\n",
       " mean: 0.80187, std: 0.01737, params: {'class_weight': None, 'criterion': 'entropy', 'max_depth': 4, 'max_features': 40, 'min_samples_leaf': 1, 'min_samples_split': 21, 'random_state': 64, 'splitter': 'best'},\n",
       " mean: 0.80187, std: 0.01737, params: {'class_weight': None, 'criterion': 'entropy', 'max_depth': 4, 'max_features': 40, 'min_samples_leaf': 1, 'min_samples_split': 31, 'random_state': 64, 'splitter': 'best'},\n",
       " mean: 0.80187, std: 0.01737, params: {'class_weight': None, 'criterion': 'entropy', 'max_depth': 4, 'max_features': 40, 'min_samples_leaf': 1, 'min_samples_split': 41, 'random_state': 64, 'splitter': 'best'},\n",
       " mean: 0.80187, std: 0.01737, params: {'class_weight': None, 'criterion': 'entropy', 'max_depth': 4, 'max_features': 40, 'min_samples_leaf': 1, 'min_samples_split': 51, 'random_state': 64, 'splitter': 'best'}]"
      ]
     },
     "execution_count": 173,
     "metadata": {},
     "output_type": "execute_result"
    }
   ],
   "source": [
    "sorted(gs.grid_scores_, key=lambda x: x.mean_validation_score, reverse=True)[:5]"
   ]
  },
  {
   "cell_type": "code",
   "execution_count": 174,
   "metadata": {},
   "outputs": [
    {
     "data": {
      "text/plain": [
       "{'class_weight': None,\n",
       " 'criterion': 'entropy',\n",
       " 'max_depth': 4,\n",
       " 'max_features': 40,\n",
       " 'min_samples_leaf': 1,\n",
       " 'min_samples_split': 11,\n",
       " 'random_state': 64,\n",
       " 'splitter': 'best'}"
      ]
     },
     "execution_count": 174,
     "metadata": {},
     "output_type": "execute_result"
    }
   ],
   "source": [
    "gs.best_params_"
   ]
  },
  {
   "cell_type": "code",
   "execution_count": 175,
   "metadata": {},
   "outputs": [
    {
     "data": {
      "text/plain": [
       "DecisionTreeClassifier(class_weight=None, criterion='entropy', max_depth=4,\n",
       "            max_features=40, max_leaf_nodes=None,\n",
       "            min_impurity_decrease=0.0, min_impurity_split=None,\n",
       "            min_samples_leaf=1, min_samples_split=11,\n",
       "            min_weight_fraction_leaf=0.0, presort=False, random_state=64,\n",
       "            splitter='best')"
      ]
     },
     "execution_count": 175,
     "metadata": {},
     "output_type": "execute_result"
    }
   ],
   "source": [
    "gs.best_estimator_"
   ]
  },
  {
   "cell_type": "code",
   "execution_count": 176,
   "metadata": {},
   "outputs": [
    {
     "data": {
      "text/plain": [
       "'tree.gv.pdf'"
      ]
     },
     "execution_count": 176,
     "metadata": {},
     "output_type": "execute_result"
    }
   ],
   "source": [
    "dot_data = tree.export_graphviz(gs.best_estimator_, out_file=None, feature_names=X_train.columns, class_names=['1','2','3','4'],filled=True, rounded=True, special_characters=True) \n",
    "graph = graphviz.Source(dot_data)\n",
    "graph.render(\"tree.gv\", view=True)"
   ]
  },
  {
   "cell_type": "code",
   "execution_count": 177,
   "metadata": {},
   "outputs": [
    {
     "name": "stdout",
     "output_type": "stream",
     "text": [
      "accuracy:  0.797002141328\n",
      "\n",
      "             precision    recall  f1-score   support\n",
      "\n",
      "          1       0.94      0.97      0.96       954\n",
      "          2       0.53      0.64      0.58       275\n",
      "          3       0.66      0.59      0.63       546\n",
      "          4       0.82      0.78      0.80       560\n",
      "\n",
      "avg / total       0.80      0.80      0.80      2335\n",
      "\n",
      "macro precision:  0.738148010449\n",
      "micro precision:  0.797002141328\n",
      "\n",
      "micro recall:  0.797002141328\n",
      "macro recall:  0.744920815558\n",
      "\n",
      "micro f1:  0.797002141328\n",
      "macro f1:  0.739624822125\n"
     ]
    },
    {
     "data": {
      "image/png": "[encoded data removed]",
      "text/plain": [
       "<matplotlib.figure.Figure at 0x2635c1dc358>"
      ]
     },
     "metadata": {},
     "output_type": "display_data"
    }
   ],
   "source": [
    "print_metrics(gs.best_estimator_, featuresCV, labelsCV)"
   ]
  },
  {
   "cell_type": "markdown",
   "metadata": {},
   "source": [
    "## testing Feature importances"
   ]
  },
  {
   "cell_type": "code",
   "execution_count": 188,
   "metadata": {
    "collapsed": true
   },
   "outputs": [],
   "source": [
    "cls_best = RandomForestClassifier()"
   ]
  },
  {
   "cell_type": "code",
   "execution_count": 189,
   "metadata": {},
   "outputs": [
    {
     "data": {
      "text/plain": [
       "RandomForestClassifier(bootstrap=True, class_weight=None, criterion='gini',\n",
       "            max_depth=None, max_features='auto', max_leaf_nodes=None,\n",
       "            min_impurity_decrease=0.0, min_impurity_split=None,\n",
       "            min_samples_leaf=1, min_samples_split=2,\n",
       "            min_weight_fraction_leaf=0.0, n_estimators=10, n_jobs=1,\n",
       "            oob_score=False, random_state=None, verbose=0,\n",
       "            warm_start=False)"
      ]
     },
     "execution_count": 189,
     "metadata": {},
     "output_type": "execute_result"
    }
   ],
   "source": [
    "cls_best.fit(features, labels)"
   ]
  },
  {
   "cell_type": "code",
   "execution_count": 190,
   "metadata": {},
   "outputs": [
    {
     "name": "stdout",
     "output_type": "stream",
     "text": [
      "accuracy:  0.789721627409\n",
      "\n",
      "             precision    recall  f1-score   support\n",
      "\n",
      "          1       0.94      0.97      0.95       954\n",
      "          2       0.51      0.52      0.52       275\n",
      "          3       0.63      0.66      0.65       546\n",
      "          4       0.83      0.75      0.79       560\n",
      "\n",
      "avg / total       0.79      0.79      0.79      2335\n",
      "\n",
      "macro precision:  0.728669379461\n",
      "micro precision:  0.789721627409\n",
      "\n",
      "micro recall:  0.789721627409\n",
      "macro recall:  0.723502992029\n",
      "\n",
      "micro f1:  0.789721627409\n",
      "macro f1:  0.725389039777\n"
     ]
    },
    {
     "data": {
      "image/png": "[encoded data removed]",
      "text/plain": [
       "<matplotlib.figure.Figure at 0x1cad5c82780>"
      ]
     },
     "metadata": {},
     "output_type": "display_data"
    }
   ],
   "source": [
    "print_metrics(cls_best, featuresCV, labelsCV)"
   ]
  },
  {
   "cell_type": "code",
   "execution_count": 191,
   "metadata": {
    "collapsed": true
   },
   "outputs": [],
   "source": [
    "importances = pd.DataFrame()\n",
    "for i, name, importance in zip(range(len(features.columns)), features.columns, cls_best.feature_importances_):\n",
    "    importances.loc[i, 'feature'] = name\n",
    "    importances.loc[i, 'importance'] = importance"
   ]
  },
  {
   "cell_type": "code",
   "execution_count": 192,
   "metadata": {},
   "outputs": [
    {
     "data": {
      "text/html": [
       "<div>\n",
       "<style>\n",
       "    .dataframe thead tr:only-child th {\n",
       "        text-align: right;\n",
       "    }\n",
       "\n",
       "    .dataframe thead th {\n",
       "        text-align: left;\n",
       "    }\n",
       "\n",
       "    .dataframe tbody tr th {\n",
       "        vertical-align: top;\n",
       "    }\n",
       "</style>\n",
       "<table border=\"1\" class=\"dataframe\">\n",
       "  <thead>\n",
       "    <tr style=\"text-align: right;\">\n",
       "      <th></th>\n",
       "      <th>feature</th>\n",
       "      <th>importance</th>\n",
       "    </tr>\n",
       "  </thead>\n",
       "  <tbody>\n",
       "    <tr>\n",
       "      <th>28</th>\n",
       "      <td>ratio_pledged_goal</td>\n",
       "      <td>0.251307</td>\n",
       "    </tr>\n",
       "    <tr>\n",
       "      <th>40</th>\n",
       "      <td>test</td>\n",
       "      <td>0.162123</td>\n",
       "    </tr>\n",
       "    <tr>\n",
       "      <th>42</th>\n",
       "      <td>test3</td>\n",
       "      <td>0.093573</td>\n",
       "    </tr>\n",
       "    <tr>\n",
       "      <th>24</th>\n",
       "      <td>backers_count</td>\n",
       "      <td>0.076895</td>\n",
       "    </tr>\n",
       "    <tr>\n",
       "      <th>23</th>\n",
       "      <td>average_pledge</td>\n",
       "      <td>0.052014</td>\n",
       "    </tr>\n",
       "    <tr>\n",
       "      <th>30</th>\n",
       "      <td>usd_pledged</td>\n",
       "      <td>0.026328</td>\n",
       "    </tr>\n",
       "    <tr>\n",
       "      <th>5</th>\n",
       "      <td>usd_goal</td>\n",
       "      <td>0.025097</td>\n",
       "    </tr>\n",
       "    <tr>\n",
       "      <th>27</th>\n",
       "      <td>pledged</td>\n",
       "      <td>0.021978</td>\n",
       "    </tr>\n",
       "    <tr>\n",
       "      <th>4</th>\n",
       "      <td>goal</td>\n",
       "      <td>0.017953</td>\n",
       "    </tr>\n",
       "    <tr>\n",
       "      <th>41</th>\n",
       "      <td>test2</td>\n",
       "      <td>0.017741</td>\n",
       "    </tr>\n",
       "    <tr>\n",
       "      <th>29</th>\n",
       "      <td>ratio_running_duration</td>\n",
       "      <td>0.016896</td>\n",
       "    </tr>\n",
       "    <tr>\n",
       "      <th>2</th>\n",
       "      <td>days_preparation</td>\n",
       "      <td>0.015807</td>\n",
       "    </tr>\n",
       "    <tr>\n",
       "      <th>16</th>\n",
       "      <td>image_count</td>\n",
       "      <td>0.014552</td>\n",
       "    </tr>\n",
       "    <tr>\n",
       "      <th>38</th>\n",
       "      <td>updates_likes_max_while_scraping</td>\n",
       "      <td>0.011894</td>\n",
       "    </tr>\n",
       "    <tr>\n",
       "      <th>15</th>\n",
       "      <td>launch_hour</td>\n",
       "      <td>0.011425</td>\n",
       "    </tr>\n",
       "    <tr>\n",
       "      <th>22</th>\n",
       "      <td>blurb_words</td>\n",
       "      <td>0.011315</td>\n",
       "    </tr>\n",
       "    <tr>\n",
       "      <th>10</th>\n",
       "      <td>deadline_hour</td>\n",
       "      <td>0.011188</td>\n",
       "    </tr>\n",
       "    <tr>\n",
       "      <th>0</th>\n",
       "      <td>category_position</td>\n",
       "      <td>0.010787</td>\n",
       "    </tr>\n",
       "    <tr>\n",
       "      <th>12</th>\n",
       "      <td>launch_month</td>\n",
       "      <td>0.010356</td>\n",
       "    </tr>\n",
       "    <tr>\n",
       "      <th>13</th>\n",
       "      <td>launch_day</td>\n",
       "      <td>0.010311</td>\n",
       "    </tr>\n",
       "    <tr>\n",
       "      <th>7</th>\n",
       "      <td>deadline_month</td>\n",
       "      <td>0.010191</td>\n",
       "    </tr>\n",
       "    <tr>\n",
       "      <th>8</th>\n",
       "      <td>deadline_day</td>\n",
       "      <td>0.009867</td>\n",
       "    </tr>\n",
       "    <tr>\n",
       "      <th>1</th>\n",
       "      <td>days_duration</td>\n",
       "      <td>0.009597</td>\n",
       "    </tr>\n",
       "    <tr>\n",
       "      <th>25</th>\n",
       "      <td>days_remaining</td>\n",
       "      <td>0.009453</td>\n",
       "    </tr>\n",
       "    <tr>\n",
       "      <th>26</th>\n",
       "      <td>days_running</td>\n",
       "      <td>0.009439</td>\n",
       "    </tr>\n",
       "    <tr>\n",
       "      <th>34</th>\n",
       "      <td>updates_count_while_scraping</td>\n",
       "      <td>0.009369</td>\n",
       "    </tr>\n",
       "    <tr>\n",
       "      <th>9</th>\n",
       "      <td>deadline_dayofweek</td>\n",
       "      <td>0.007900</td>\n",
       "    </tr>\n",
       "    <tr>\n",
       "      <th>35</th>\n",
       "      <td>updates_likes_sum_while_scraping</td>\n",
       "      <td>0.007736</td>\n",
       "    </tr>\n",
       "    <tr>\n",
       "      <th>3</th>\n",
       "      <td>db_duration</td>\n",
       "      <td>0.007105</td>\n",
       "    </tr>\n",
       "    <tr>\n",
       "      <th>14</th>\n",
       "      <td>launch_dayofweek</td>\n",
       "      <td>0.006852</td>\n",
       "    </tr>\n",
       "    <tr>\n",
       "      <th>33</th>\n",
       "      <td>comments_count_public_while_scraping</td>\n",
       "      <td>0.006475</td>\n",
       "    </tr>\n",
       "    <tr>\n",
       "      <th>31</th>\n",
       "      <td>faq_count_while_scraping</td>\n",
       "      <td>0.005489</td>\n",
       "    </tr>\n",
       "    <tr>\n",
       "      <th>39</th>\n",
       "      <td>updates_likes_median_while_scraping</td>\n",
       "      <td>0.004708</td>\n",
       "    </tr>\n",
       "    <tr>\n",
       "      <th>36</th>\n",
       "      <td>updates_likes_mean_while_scraping</td>\n",
       "      <td>0.004518</td>\n",
       "    </tr>\n",
       "    <tr>\n",
       "      <th>32</th>\n",
       "      <td>comments_count_creator_while_scraping</td>\n",
       "      <td>0.003328</td>\n",
       "    </tr>\n",
       "    <tr>\n",
       "      <th>19</th>\n",
       "      <td>video_count</td>\n",
       "      <td>0.003291</td>\n",
       "    </tr>\n",
       "    <tr>\n",
       "      <th>11</th>\n",
       "      <td>launch_year</td>\n",
       "      <td>0.003131</td>\n",
       "    </tr>\n",
       "    <tr>\n",
       "      <th>17</th>\n",
       "      <td>video_kickstarter_count</td>\n",
       "      <td>0.002860</td>\n",
       "    </tr>\n",
       "    <tr>\n",
       "      <th>37</th>\n",
       "      <td>updates_likes_min_while_scraping</td>\n",
       "      <td>0.002763</td>\n",
       "    </tr>\n",
       "    <tr>\n",
       "      <th>6</th>\n",
       "      <td>deadline_year</td>\n",
       "      <td>0.002519</td>\n",
       "    </tr>\n",
       "    <tr>\n",
       "      <th>18</th>\n",
       "      <td>video_youtube_count</td>\n",
       "      <td>0.001623</td>\n",
       "    </tr>\n",
       "    <tr>\n",
       "      <th>21</th>\n",
       "      <td>other_embeded_count</td>\n",
       "      <td>0.001533</td>\n",
       "    </tr>\n",
       "    <tr>\n",
       "      <th>20</th>\n",
       "      <td>audio_count</td>\n",
       "      <td>0.000712</td>\n",
       "    </tr>\n",
       "  </tbody>\n",
       "</table>\n",
       "</div>"
      ],
      "text/plain": [
       "                                  feature  importance\n",
       "28                     ratio_pledged_goal    0.251307\n",
       "40                                   test    0.162123\n",
       "42                                  test3    0.093573\n",
       "24                          backers_count    0.076895\n",
       "23                         average_pledge    0.052014\n",
       "30                            usd_pledged    0.026328\n",
       "5                                usd_goal    0.025097\n",
       "27                                pledged    0.021978\n",
       "4                                    goal    0.017953\n",
       "41                                  test2    0.017741\n",
       "29                 ratio_running_duration    0.016896\n",
       "2                        days_preparation    0.015807\n",
       "16                            image_count    0.014552\n",
       "38       updates_likes_max_while_scraping    0.011894\n",
       "15                            launch_hour    0.011425\n",
       "22                            blurb_words    0.011315\n",
       "10                          deadline_hour    0.011188\n",
       "0                       category_position    0.010787\n",
       "12                           launch_month    0.010356\n",
       "13                             launch_day    0.010311\n",
       "7                          deadline_month    0.010191\n",
       "8                            deadline_day    0.009867\n",
       "1                           days_duration    0.009597\n",
       "25                         days_remaining    0.009453\n",
       "26                           days_running    0.009439\n",
       "34           updates_count_while_scraping    0.009369\n",
       "9                      deadline_dayofweek    0.007900\n",
       "35       updates_likes_sum_while_scraping    0.007736\n",
       "3                             db_duration    0.007105\n",
       "14                       launch_dayofweek    0.006852\n",
       "33   comments_count_public_while_scraping    0.006475\n",
       "31               faq_count_while_scraping    0.005489\n",
       "39    updates_likes_median_while_scraping    0.004708\n",
       "36      updates_likes_mean_while_scraping    0.004518\n",
       "32  comments_count_creator_while_scraping    0.003328\n",
       "19                            video_count    0.003291\n",
       "11                            launch_year    0.003131\n",
       "17                video_kickstarter_count    0.002860\n",
       "37       updates_likes_min_while_scraping    0.002763\n",
       "6                           deadline_year    0.002519\n",
       "18                    video_youtube_count    0.001623\n",
       "21                    other_embeded_count    0.001533\n",
       "20                            audio_count    0.000712"
      ]
     },
     "execution_count": 192,
     "metadata": {},
     "output_type": "execute_result"
    }
   ],
   "source": [
    "importances.sort_values(by='importance', ascending=False)"
   ]
  },
  {
   "cell_type": "code",
   "execution_count": 66,
   "metadata": {},
   "outputs": [
    {
     "data": {
      "text/plain": [
       "(0, 100)"
      ]
     },
     "execution_count": 66,
     "metadata": {},
     "output_type": "execute_result"
    },
    {
     "data": {
      "image/png": "[encoded data removed]",
      "text/plain": [
       "<matplotlib.figure.Figure at 0x1cad4bd4da0>"
      ]
     },
     "metadata": {},
     "output_type": "display_data"
    }
   ],
   "source": [
    "sns.boxplot(x=df['class'], y=df['test'])\n",
    "plt.ylim(0, 100)"
   ]
  },
  {
   "cell_type": "code",
   "execution_count": 81,
   "metadata": {},
   "outputs": [
    {
     "data": {
      "text/plain": [
       "(0, 200)"
      ]
     },
     "execution_count": 81,
     "metadata": {},
     "output_type": "execute_result"
    },
    {
     "data": {
      "image/png": "[encoded data removed]",
      "text/plain": [
       "<matplotlib.figure.Figure at 0x1cad50755c0>"
      ]
     },
     "metadata": {},
     "output_type": "display_data"
    }
   ],
   "source": [
    "sns.boxplot(x=df['class'], y=df['ratio_pledged_goal'])\n",
    "plt.ylim(0, 200)"
   ]
  },
  {
   "cell_type": "code",
   "execution_count": 82,
   "metadata": {},
   "outputs": [
    {
     "data": {
      "text/plain": [
       "<matplotlib.axes._subplots.AxesSubplot at 0x1cad5882588>"
      ]
     },
     "execution_count": 82,
     "metadata": {},
     "output_type": "execute_result"
    },
    {
     "data": {
      "image/png": "[encoded data removed]",
      "text/plain": [
       "<matplotlib.figure.Figure at 0x1cad507feb8>"
      ]
     },
     "metadata": {},
     "output_type": "display_data"
    }
   ],
   "source": [
    "sns.regplot(x=df['test'], y=df['ratio_pledged_goal'])"
   ]
  },
  {
   "cell_type": "code",
   "execution_count": 64,
   "metadata": {
    "collapsed": true
   },
   "outputs": [],
   "source": [
    "df['test2'] = df['usd_goal']/df['days_duration'] # daily goal"
   ]
  },
  {
   "cell_type": "code",
   "execution_count": 67,
   "metadata": {},
   "outputs": [
    {
     "data": {
      "text/plain": [
       "44"
      ]
     },
     "execution_count": 67,
     "metadata": {},
     "output_type": "execute_result"
    }
   ],
   "source": [
    "len(df.columns)"
   ]
  },
  {
   "cell_type": "code",
   "execution_count": 66,
   "metadata": {
    "collapsed": true
   },
   "outputs": [],
   "source": [
    "df['test3'] = df['usd_pledged'] - df['test2']*df['days_running'] # difference in pledged and daily goal * days running # also /usd_goal ?"
   ]
  },
  {
   "cell_type": "code",
   "execution_count": 117,
   "metadata": {},
   "outputs": [
    {
     "data": {
      "text/plain": [
       "(-10000.0, 10000.0)"
      ]
     },
     "execution_count": 117,
     "metadata": {},
     "output_type": "execute_result"
    },
    {
     "data": {
      "image/png": "[encoded data removed]",
      "text/plain": [
       "<matplotlib.figure.Figure at 0x1cad5eb83c8>"
      ]
     },
     "metadata": {},
     "output_type": "display_data"
    }
   ],
   "source": [
    "sns.boxplot(x=df['class'], y=df['test3'])\n",
    "plt.ylim(-10e3, 10e3)"
   ]
  },
  {
   "cell_type": "markdown",
   "metadata": {},
   "source": [
    "## GradientBoosting"
   ]
  },
  {
   "cell_type": "markdown",
   "metadata": {},
   "source": [
    "# "
   ]
  },
  {
   "cell_type": "code",
   "execution_count": null,
   "metadata": {
    "collapsed": true
   },
   "outputs": [],
   "source": []
  },
  {
   "cell_type": "code",
   "execution_count": 21,
   "metadata": {
    "collapsed": true
   },
   "outputs": [],
   "source": [
    "from sklearn.ensemble import GradientBoostingClassifier #top"
   ]
  },
  {
   "cell_type": "code",
   "execution_count": 77,
   "metadata": {
    "collapsed": true
   },
   "outputs": [],
   "source": [
    "cls = GradientBoostingClassifier"
   ]
  },
  {
   "cell_type": "code",
   "execution_count": 111,
   "metadata": {
    "collapsed": true
   },
   "outputs": [],
   "source": [
    "params = {\n",
    "    'learning_rate': [0.12, 0.1, 0.08, 0.01], # 0.1\n",
    "    'n_estimators': [150, 100, 50],\n",
    "    'max_depth': [1, 2, 3], # 2\n",
    "    #'criterion': ['friedman_mse', 'mse'],\n",
    "    #'min_samples_split': [2, 5, 10, 1.0, 3.0, 5.0, 10.0] # 2\n",
    "    #'min_samples_leaf': [1,2,3,4,5,6,7,8,9,10] # 1\n",
    "}"
   ]
  },
  {
   "cell_type": "code",
   "execution_count": 112,
   "metadata": {
    "collapsed": true
   },
   "outputs": [],
   "source": [
    "gs = GridSearchCV(cls(), params, scoring='accuracy', cv=5, n_jobs=-1, error_score=0)"
   ]
  },
  {
   "cell_type": "code",
   "execution_count": 113,
   "metadata": {},
   "outputs": [
    {
     "data": {
      "text/plain": [
       "36"
      ]
     },
     "execution_count": 113,
     "metadata": {},
     "output_type": "execute_result"
    }
   ],
   "source": [
    "from sklearn.grid_search import ParameterGrid\n",
    "len(list(ParameterGrid(params)))"
   ]
  },
  {
   "cell_type": "code",
   "execution_count": 114,
   "metadata": {
    "collapsed": true
   },
   "outputs": [],
   "source": [
    "# zhorsenie\n",
    "from sklearn.utils import class_weight\n",
    "labels_weights = class_weight.compute_sample_weight('balanced', labels)"
   ]
  },
  {
   "cell_type": "code",
   "execution_count": 115,
   "metadata": {
    "scrolled": false
   },
   "outputs": [
    {
     "name": "stdout",
     "output_type": "stream",
     "text": [
      "Wall time: 4min\n"
     ]
    },
    {
     "data": {
      "text/plain": [
       "GridSearchCV(cv=5, error_score=0,\n",
       "       estimator=GradientBoostingClassifier(criterion='friedman_mse', init=None,\n",
       "              learning_rate=0.1, loss='deviance', max_depth=3,\n",
       "              max_features=None, max_leaf_nodes=None,\n",
       "              min_impurity_decrease=0.0, min_impurity_split=None,\n",
       "              min_samples_leaf=1, min_samples_split=2,\n",
       "              min_weight_fraction_leaf=0.0, n_estimators=100,\n",
       "              presort='auto', random_state=None, subsample=1.0, verbose=0,\n",
       "              warm_start=False),\n",
       "       fit_params=None, iid=True, n_jobs=-1,\n",
       "       param_grid={'learning_rate': [0.12, 0.1, 0.08, 0.01], 'n_estimators': [150, 100, 50], 'max_depth': [1, 2, 3]},\n",
       "       pre_dispatch='2*n_jobs', refit=True, return_train_score='warn',\n",
       "       scoring='accuracy', verbose=0)"
      ]
     },
     "execution_count": 115,
     "metadata": {},
     "output_type": "execute_result"
    }
   ],
   "source": [
    "%%time\n",
    "gs.fit(features, labels)\n",
    "#gs.fit(features, labels, sample_weight=labels_weights)"
   ]
  },
  {
   "cell_type": "code",
   "execution_count": 116,
   "metadata": {},
   "outputs": [
    {
     "name": "stderr",
     "output_type": "stream",
     "text": [
      "C:\\Users\\Patrik\\Anaconda3\\lib\\site-packages\\sklearn\\model_selection\\_search.py:761: DeprecationWarning: The grid_scores_ attribute was deprecated in version 0.18 in favor of the more elaborate cv_results_ attribute. The grid_scores_ attribute will not be available from 0.20\n",
      "  DeprecationWarning)\n"
     ]
    },
    {
     "data": {
      "text/plain": [
       "[mean: 0.79949, std: 0.01386, params: {'learning_rate': 0.1, 'max_depth': 1, 'n_estimators': 50},\n",
       " mean: 0.79930, std: 0.01504, params: {'learning_rate': 0.12, 'max_depth': 1, 'n_estimators': 50},\n",
       " mean: 0.79930, std: 0.01651, params: {'learning_rate': 0.08, 'max_depth': 1, 'n_estimators': 100},\n",
       " mean: 0.79930, std: 0.01602, params: {'learning_rate': 0.01, 'max_depth': 3, 'n_estimators': 150},\n",
       " mean: 0.79875, std: 0.01811, params: {'learning_rate': 0.1, 'max_depth': 1, 'n_estimators': 100},\n",
       " mean: 0.79857, std: 0.01359, params: {'learning_rate': 0.12, 'max_depth': 3, 'n_estimators': 50},\n",
       " mean: 0.79838, std: 0.01731, params: {'learning_rate': 0.12, 'max_depth': 1, 'n_estimators': 100},\n",
       " mean: 0.79820, std: 0.01652, params: {'learning_rate': 0.12, 'max_depth': 2, 'n_estimators': 50},\n",
       " mean: 0.79820, std: 0.01556, params: {'learning_rate': 0.08, 'max_depth': 3, 'n_estimators': 50},\n",
       " mean: 0.79783, std: 0.01783, params: {'learning_rate': 0.08, 'max_depth': 1, 'n_estimators': 150},\n",
       " mean: 0.79783, std: 0.01637, params: {'learning_rate': 0.08, 'max_depth': 1, 'n_estimators': 50},\n",
       " mean: 0.79747, std: 0.01621, params: {'learning_rate': 0.1, 'max_depth': 2, 'n_estimators': 50},\n",
       " mean: 0.79728, std: 0.01554, params: {'learning_rate': 0.08, 'max_depth': 2, 'n_estimators': 50},\n",
       " mean: 0.79710, std: 0.01337, params: {'learning_rate': 0.08, 'max_depth': 2, 'n_estimators': 150},\n",
       " mean: 0.79692, std: 0.01282, params: {'learning_rate': 0.08, 'max_depth': 3, 'n_estimators': 100},\n",
       " mean: 0.79673, std: 0.01324, params: {'learning_rate': 0.1, 'max_depth': 2, 'n_estimators': 100},\n",
       " mean: 0.79673, std: 0.01434, params: {'learning_rate': 0.1, 'max_depth': 3, 'n_estimators': 50},\n",
       " mean: 0.79673, std: 0.01297, params: {'learning_rate': 0.08, 'max_depth': 2, 'n_estimators': 100},\n",
       " mean: 0.79600, std: 0.01860, params: {'learning_rate': 0.12, 'max_depth': 1, 'n_estimators': 150},\n",
       " mean: 0.79600, std: 0.00914, params: {'learning_rate': 0.08, 'max_depth': 3, 'n_estimators': 150},\n",
       " mean: 0.79581, std: 0.01800, params: {'learning_rate': 0.1, 'max_depth': 1, 'n_estimators': 150},\n",
       " mean: 0.79563, std: 0.01030, params: {'learning_rate': 0.12, 'max_depth': 3, 'n_estimators': 150},\n",
       " mean: 0.79545, std: 0.01017, params: {'learning_rate': 0.1, 'max_depth': 2, 'n_estimators': 150},\n",
       " mean: 0.79545, std: 0.01116, params: {'learning_rate': 0.1, 'max_depth': 3, 'n_estimators': 150},\n",
       " mean: 0.79526, std: 0.01358, params: {'learning_rate': 0.12, 'max_depth': 2, 'n_estimators': 100},\n",
       " mean: 0.79508, std: 0.01288, params: {'learning_rate': 0.12, 'max_depth': 3, 'n_estimators': 100},\n",
       " mean: 0.79490, std: 0.01854, params: {'learning_rate': 0.01, 'max_depth': 3, 'n_estimators': 100},\n",
       " mean: 0.79471, std: 0.01404, params: {'learning_rate': 0.01, 'max_depth': 2, 'n_estimators': 150},\n",
       " mean: 0.79434, std: 0.01034, params: {'learning_rate': 0.1, 'max_depth': 3, 'n_estimators': 100},\n",
       " mean: 0.79306, std: 0.01285, params: {'learning_rate': 0.12, 'max_depth': 2, 'n_estimators': 150},\n",
       " mean: 0.79214, std: 0.01846, params: {'learning_rate': 0.01, 'max_depth': 3, 'n_estimators': 50},\n",
       " mean: 0.79141, std: 0.01557, params: {'learning_rate': 0.01, 'max_depth': 1, 'n_estimators': 150},\n",
       " mean: 0.78920, std: 0.01458, params: {'learning_rate': 0.01, 'max_depth': 2, 'n_estimators': 100},\n",
       " mean: 0.78682, std: 0.01593, params: {'learning_rate': 0.01, 'max_depth': 1, 'n_estimators': 100},\n",
       " mean: 0.78204, std: 0.01306, params: {'learning_rate': 0.01, 'max_depth': 1, 'n_estimators': 50},\n",
       " mean: 0.77690, std: 0.01723, params: {'learning_rate': 0.01, 'max_depth': 2, 'n_estimators': 50}]"
      ]
     },
     "execution_count": 116,
     "metadata": {},
     "output_type": "execute_result"
    }
   ],
   "source": [
    "sorted(gs.grid_scores_, key=lambda x: x.mean_validation_score, reverse=True)"
   ]
  },
  {
   "cell_type": "code",
   "execution_count": 102,
   "metadata": {
    "collapsed": true
   },
   "outputs": [],
   "source": [
    "best = gs.best_estimator_"
   ]
  },
  {
   "cell_type": "code",
   "execution_count": null,
   "metadata": {
    "collapsed": true
   },
   "outputs": [],
   "source": [
    "best.fit(features, labels, sample_weight=)"
   ]
  },
  {
   "cell_type": "code",
   "execution_count": null,
   "metadata": {
    "collapsed": true
   },
   "outputs": [],
   "source": []
  },
  {
   "cell_type": "code",
   "execution_count": null,
   "metadata": {
    "collapsed": true
   },
   "outputs": [],
   "source": []
  },
  {
   "cell_type": "code",
   "execution_count": 71,
   "metadata": {},
   "outputs": [
    {
     "name": "stderr",
     "output_type": "stream",
     "text": [
      "C:\\Users\\Patrik\\Anaconda3\\lib\\site-packages\\sklearn\\utils\\optimize.py:203: ConvergenceWarning: newton-cg failed to converge. Increase the number of iterations.\n",
      "  \"number of iterations.\", ConvergenceWarning)\n"
     ]
    },
    {
     "data": {
      "text/plain": [
       "LogisticRegression(C=1.0, class_weight=None, dual=False, fit_intercept=True,\n",
       "          intercept_scaling=1, max_iter=100, multi_class='multinomial',\n",
       "          n_jobs=1, penalty='l2', random_state=None, solver='newton-cg',\n",
       "          tol=0.0001, verbose=0, warm_start=False)"
      ]
     },
     "execution_count": 71,
     "metadata": {},
     "output_type": "execute_result"
    }
   ],
   "source": [
    "from sklearn.linear_model import LogisticRegression #original?\n",
    "base_cls = LogisticRegression(multi_class='multinomial', solver='newton-cg')\n",
    "base_cls.fit(features, labels)"
   ]
  },
  {
   "cell_type": "code",
   "execution_count": 73,
   "metadata": {},
   "outputs": [
    {
     "name": "stdout",
     "output_type": "stream",
     "text": [
      "      Iter       Train Loss   Remaining Time \n"
     ]
    },
    {
     "name": "stderr",
     "output_type": "stream",
     "text": [
      "C:\\Users\\Patrik\\Anaconda3\\lib\\site-packages\\sklearn\\utils\\optimize.py:203: ConvergenceWarning: newton-cg failed to converge. Increase the number of iterations.\n",
      "  \"number of iterations.\", ConvergenceWarning)\n"
     ]
    },
    {
     "ename": "IndexError",
     "evalue": "too many indices for array",
     "output_type": "error",
     "traceback": [
      "\u001b[1;31m---------------------------------------------------------------------------\u001b[0m",
      "\u001b[1;31mIndexError\u001b[0m                                Traceback (most recent call last)",
      "\u001b[1;32m<ipython-input-73-d698a3c3e624>\u001b[0m in \u001b[0;36m<module>\u001b[1;34m()\u001b[0m\n\u001b[0;32m      1\u001b[0m \u001b[0mcls\u001b[0m \u001b[1;33m=\u001b[0m \u001b[0mGradientBoostingClassifier\u001b[0m\u001b[1;33m(\u001b[0m\u001b[0mcriterion\u001b[0m\u001b[1;33m=\u001b[0m\u001b[1;34m'mse'\u001b[0m\u001b[1;33m,\u001b[0m \u001b[0mverbose\u001b[0m\u001b[1;33m=\u001b[0m\u001b[1;36m1\u001b[0m\u001b[1;33m,\u001b[0m \u001b[0mn_estimators\u001b[0m\u001b[1;33m=\u001b[0m\u001b[1;36m200\u001b[0m\u001b[1;33m,\u001b[0m \u001b[0minit\u001b[0m\u001b[1;33m=\u001b[0m\u001b[0mbase_cls\u001b[0m\u001b[1;33m)\u001b[0m\u001b[1;33m\u001b[0m\u001b[0m\n\u001b[1;32m----> 2\u001b[1;33m \u001b[0mcls\u001b[0m\u001b[1;33m.\u001b[0m\u001b[0mfit\u001b[0m\u001b[1;33m(\u001b[0m\u001b[0mfeatures\u001b[0m\u001b[1;33m,\u001b[0m \u001b[0mlabels\u001b[0m\u001b[1;33m)\u001b[0m\u001b[1;33m\u001b[0m\u001b[0m\n\u001b[0m",
      "\u001b[1;32mC:\\Users\\Patrik\\Anaconda3\\lib\\site-packages\\sklearn\\ensemble\\gradient_boosting.py\u001b[0m in \u001b[0;36mfit\u001b[1;34m(self, X, y, sample_weight, monitor)\u001b[0m\n\u001b[0;32m   1032\u001b[0m         \u001b[1;31m# fit the boosting stages\u001b[0m\u001b[1;33m\u001b[0m\u001b[1;33m\u001b[0m\u001b[0m\n\u001b[0;32m   1033\u001b[0m         n_stages = self._fit_stages(X, y, y_pred, sample_weight, random_state,\n\u001b[1;32m-> 1034\u001b[1;33m                                     begin_at_stage, monitor, X_idx_sorted)\n\u001b[0m\u001b[0;32m   1035\u001b[0m         \u001b[1;31m# change shape of arrays after fit (early-stopping or additional ests)\u001b[0m\u001b[1;33m\u001b[0m\u001b[1;33m\u001b[0m\u001b[0m\n\u001b[0;32m   1036\u001b[0m         \u001b[1;32mif\u001b[0m \u001b[0mn_stages\u001b[0m \u001b[1;33m!=\u001b[0m \u001b[0mself\u001b[0m\u001b[1;33m.\u001b[0m\u001b[0mestimators_\u001b[0m\u001b[1;33m.\u001b[0m\u001b[0mshape\u001b[0m\u001b[1;33m[\u001b[0m\u001b[1;36m0\u001b[0m\u001b[1;33m]\u001b[0m\u001b[1;33m:\u001b[0m\u001b[1;33m\u001b[0m\u001b[0m\n",
      "\u001b[1;32mC:\\Users\\Patrik\\Anaconda3\\lib\\site-packages\\sklearn\\ensemble\\gradient_boosting.py\u001b[0m in \u001b[0;36m_fit_stages\u001b[1;34m(self, X, y, y_pred, sample_weight, random_state, begin_at_stage, monitor, X_idx_sorted)\u001b[0m\n\u001b[0;32m   1087\u001b[0m             y_pred = self._fit_stage(i, X, y, y_pred, sample_weight,\n\u001b[0;32m   1088\u001b[0m                                      \u001b[0msample_mask\u001b[0m\u001b[1;33m,\u001b[0m \u001b[0mrandom_state\u001b[0m\u001b[1;33m,\u001b[0m \u001b[0mX_idx_sorted\u001b[0m\u001b[1;33m,\u001b[0m\u001b[1;33m\u001b[0m\u001b[0m\n\u001b[1;32m-> 1089\u001b[1;33m                                      X_csc, X_csr)\n\u001b[0m\u001b[0;32m   1090\u001b[0m \u001b[1;33m\u001b[0m\u001b[0m\n\u001b[0;32m   1091\u001b[0m             \u001b[1;31m# track deviance (= loss)\u001b[0m\u001b[1;33m\u001b[0m\u001b[1;33m\u001b[0m\u001b[0m\n",
      "\u001b[1;32mC:\\Users\\Patrik\\Anaconda3\\lib\\site-packages\\sklearn\\ensemble\\gradient_boosting.py\u001b[0m in \u001b[0;36m_fit_stage\u001b[1;34m(self, i, X, y, y_pred, sample_weight, sample_mask, random_state, X_idx_sorted, X_csc, X_csr)\u001b[0m\n\u001b[0;32m    760\u001b[0m \u001b[1;33m\u001b[0m\u001b[0m\n\u001b[0;32m    761\u001b[0m             residual = loss.negative_gradient(y, y_pred, k=k,\n\u001b[1;32m--> 762\u001b[1;33m                                               sample_weight=sample_weight)\n\u001b[0m\u001b[0;32m    763\u001b[0m \u001b[1;33m\u001b[0m\u001b[0m\n\u001b[0;32m    764\u001b[0m             \u001b[1;31m# induce regression tree on residuals\u001b[0m\u001b[1;33m\u001b[0m\u001b[1;33m\u001b[0m\u001b[0m\n",
      "\u001b[1;32mC:\\Users\\Patrik\\Anaconda3\\lib\\site-packages\\sklearn\\ensemble\\gradient_boosting.py\u001b[0m in \u001b[0;36mnegative_gradient\u001b[1;34m(self, y, pred, k, **kwargs)\u001b[0m\n\u001b[0;32m    559\u001b[0m     \u001b[1;32mdef\u001b[0m \u001b[0mnegative_gradient\u001b[0m\u001b[1;33m(\u001b[0m\u001b[0mself\u001b[0m\u001b[1;33m,\u001b[0m \u001b[0my\u001b[0m\u001b[1;33m,\u001b[0m \u001b[0mpred\u001b[0m\u001b[1;33m,\u001b[0m \u001b[0mk\u001b[0m\u001b[1;33m=\u001b[0m\u001b[1;36m0\u001b[0m\u001b[1;33m,\u001b[0m \u001b[1;33m**\u001b[0m\u001b[0mkwargs\u001b[0m\u001b[1;33m)\u001b[0m\u001b[1;33m:\u001b[0m\u001b[1;33m\u001b[0m\u001b[0m\n\u001b[0;32m    560\u001b[0m         \u001b[1;34m\"\"\"Compute negative gradient for the ``k``-th class. \"\"\"\u001b[0m\u001b[1;33m\u001b[0m\u001b[0m\n\u001b[1;32m--> 561\u001b[1;33m         return y - np.nan_to_num(np.exp(pred[:, k] -\n\u001b[0m\u001b[0;32m    562\u001b[0m                                         logsumexp(pred, axis=1)))\n\u001b[0;32m    563\u001b[0m \u001b[1;33m\u001b[0m\u001b[0m\n",
      "\u001b[1;31mIndexError\u001b[0m: too many indices for array"
     ]
    }
   ],
   "source": [
    "cls = GradientBoostingClassifier(criterion='mse', verbose=1, n_estimators=200, init=base_cls)\n",
    "cls.fit(features, labels)"
   ]
  },
  {
   "cell_type": "code",
   "execution_count": 110,
   "metadata": {},
   "outputs": [
    {
     "name": "stdout",
     "output_type": "stream",
     "text": [
      "accuracy:  0.78886509636\n",
      "\n",
      "             precision    recall  f1-score   support\n",
      "\n",
      "          1       0.95      0.94      0.94       954\n",
      "          2       0.48      0.71      0.57       275\n",
      "          3       0.67      0.60      0.63       546\n",
      "          4       0.85      0.76      0.80       560\n",
      "\n",
      "avg / total       0.81      0.79      0.79      2335\n",
      "\n",
      "macro precision:  0.738278880772\n",
      "micro precision:  0.78886509636\n",
      "\n",
      "micro recall:  0.78886509636\n",
      "macro recall:  0.752296160339\n",
      "\n",
      "micro f1:  0.78886509636\n",
      "macro f1:  0.738377563968\n"
     ]
    },
    {
     "data": {
      "image/png": "[encoded data removed]",
      "text/plain": [
       "<matplotlib.figure.Figure at 0x22f4316d6d8>"
      ]
     },
     "metadata": {},
     "output_type": "display_data"
    }
   ],
   "source": [
    "print_metrics(gs.best_estimator_, featuresCV, labelsCV)"
   ]
  },
  {
   "cell_type": "code",
   "execution_count": null,
   "metadata": {
    "collapsed": true
   },
   "outputs": [],
   "source": []
  },
  {
   "cell_type": "code",
   "execution_count": null,
   "metadata": {
    "collapsed": true
   },
   "outputs": [],
   "source": []
  },
  {
   "cell_type": "code",
   "execution_count": 28,
   "metadata": {
    "collapsed": true
   },
   "outputs": [],
   "source": [
    "from sklearn.linear_model import LogisticRegression"
   ]
  },
  {
   "cell_type": "code",
   "execution_count": 29,
   "metadata": {
    "collapsed": true
   },
   "outputs": [],
   "source": [
    "cls = LogisticRegression"
   ]
  },
  {
   "cell_type": "code",
   "execution_count": 46,
   "metadata": {
    "collapsed": true
   },
   "outputs": [],
   "source": [
    "params = {\n",
    "    #'C': [0.1, 1.0, 10.0],\n",
    "    'class_weight': ['balanced'],\n",
    "    'solver': ['newton-cg', 'sag', 'saga', 'lbfgs'],\n",
    "    'multi_class': ['ovr', 'multinomial'],\n",
    "    #'max_iter': [10, 50, 100, 200, 500]\n",
    "}"
   ]
  },
  {
   "cell_type": "code",
   "execution_count": 47,
   "metadata": {},
   "outputs": [
    {
     "data": {
      "text/plain": [
       "8"
      ]
     },
     "execution_count": 47,
     "metadata": {},
     "output_type": "execute_result"
    }
   ],
   "source": [
    "gs = GridSearchCV(cls(), params, scoring='accuracy', cv=5, n_jobs=-1, error_score=0)\n",
    "len(list(ParameterGrid(params)))"
   ]
  },
  {
   "cell_type": "code",
   "execution_count": 48,
   "metadata": {},
   "outputs": [
    {
     "name": "stdout",
     "output_type": "stream",
     "text": [
      "Wall time: 40.7 s\n"
     ]
    },
    {
     "name": "stderr",
     "output_type": "stream",
     "text": [
      "C:\\Users\\Patrik\\Anaconda3\\lib\\site-packages\\sklearn\\utils\\optimize.py:203: ConvergenceWarning: newton-cg failed to converge. Increase the number of iterations.\n",
      "  \"number of iterations.\", ConvergenceWarning)\n"
     ]
    },
    {
     "data": {
      "text/plain": [
       "GridSearchCV(cv=5, error_score=0,\n",
       "       estimator=LogisticRegression(C=1.0, class_weight=None, dual=False, fit_intercept=True,\n",
       "          intercept_scaling=1, max_iter=100, multi_class='ovr', n_jobs=1,\n",
       "          penalty='l2', random_state=None, solver='liblinear', tol=0.0001,\n",
       "          verbose=0, warm_start=False),\n",
       "       fit_params=None, iid=True, n_jobs=-1,\n",
       "       param_grid={'class_weight': ['balanced'], 'solver': ['newton-cg', 'sag', 'saga', 'lbfgs'], 'multi_class': ['ovr', 'multinomial']},\n",
       "       pre_dispatch='2*n_jobs', refit=True, return_train_score='warn',\n",
       "       scoring='accuracy', verbose=0)"
      ]
     },
     "execution_count": 48,
     "metadata": {},
     "output_type": "execute_result"
    }
   ],
   "source": [
    "%%time\n",
    "gs.fit(features, labels)"
   ]
  },
  {
   "cell_type": "code",
   "execution_count": 49,
   "metadata": {},
   "outputs": [
    {
     "name": "stderr",
     "output_type": "stream",
     "text": [
      "C:\\Users\\Patrik\\Anaconda3\\lib\\site-packages\\sklearn\\model_selection\\_search.py:761: DeprecationWarning: The grid_scores_ attribute was deprecated in version 0.18 in favor of the more elaborate cv_results_ attribute. The grid_scores_ attribute will not be available from 0.20\n",
      "  DeprecationWarning)\n"
     ]
    },
    {
     "data": {
      "text/plain": [
       "[mean: 0.78975, std: 0.01405, params: {'class_weight': 'balanced', 'multi_class': 'multinomial', 'solver': 'newton-cg'},\n",
       " mean: 0.77782, std: 0.00717, params: {'class_weight': 'balanced', 'multi_class': 'multinomial', 'solver': 'lbfgs'},\n",
       " mean: 0.77598, std: 0.00506, params: {'class_weight': 'balanced', 'multi_class': 'ovr', 'solver': 'newton-cg'},\n",
       " mean: 0.76441, std: 0.01641, params: {'class_weight': 'balanced', 'multi_class': 'ovr', 'solver': 'lbfgs'},\n",
       " mean: 0.52075, std: 0.02921, params: {'class_weight': 'balanced', 'multi_class': 'multinomial', 'solver': 'sag'},\n",
       " mean: 0.51432, std: 0.02773, params: {'class_weight': 'balanced', 'multi_class': 'ovr', 'solver': 'sag'},\n",
       " mean: 0.50331, std: 0.03032, params: {'class_weight': 'balanced', 'multi_class': 'multinomial', 'solver': 'saga'},\n",
       " mean: 0.49688, std: 0.03023, params: {'class_weight': 'balanced', 'multi_class': 'ovr', 'solver': 'saga'}]"
      ]
     },
     "execution_count": 49,
     "metadata": {},
     "output_type": "execute_result"
    }
   ],
   "source": [
    "sorted(gs.grid_scores_, key=lambda x: x.mean_validation_score, reverse=True)"
   ]
  },
  {
   "cell_type": "code",
   "execution_count": 50,
   "metadata": {},
   "outputs": [
    {
     "name": "stdout",
     "output_type": "stream",
     "text": [
      "accuracy:  0.791862955032\n",
      "\n",
      "             precision    recall  f1-score   support\n",
      "\n",
      "          1       0.96      0.93      0.94       954\n",
      "          2       0.49      0.76      0.59       275\n",
      "          3       0.69      0.60      0.64       546\n",
      "          4       0.84      0.77      0.80       560\n",
      "\n",
      "avg / total       0.81      0.79      0.80      2335\n",
      "\n",
      "macro precision:  0.744281399581\n",
      "micro precision:  0.791862955032\n",
      "\n",
      "micro recall:  0.791862955032\n",
      "macro recall:  0.763095137305\n",
      "\n",
      "micro f1:  0.791862955032\n",
      "macro f1:  0.744882006699\n"
     ]
    },
    {
     "data": {
      "image/png": "[encoded data removed]",
      "text/plain": [
       "<matplotlib.figure.Figure at 0x1e745ecfbe0>"
      ]
     },
     "metadata": {},
     "output_type": "display_data"
    }
   ],
   "source": [
    "print_metrics(gs.best_estimator_, featuresCV, labelsCV)"
   ]
  },
  {
   "cell_type": "code",
   "execution_count": null,
   "metadata": {
    "collapsed": true
   },
   "outputs": [],
   "source": []
  },
  {
   "cell_type": "code",
   "execution_count": null,
   "metadata": {
    "collapsed": true
   },
   "outputs": [],
   "source": []
  },
  {
   "cell_type": "markdown",
   "metadata": {},
   "source": [
    "## KNN"
   ]
  },
  {
   "cell_type": "code",
   "execution_count": 9,
   "metadata": {
    "collapsed": true
   },
   "outputs": [],
   "source": [
    "from sklearn.neighbors import KNeighborsClassifier"
   ]
  },
  {
   "cell_type": "code",
   "execution_count": 10,
   "metadata": {
    "collapsed": true
   },
   "outputs": [],
   "source": [
    "cls = KNeighborsClassifier"
   ]
  },
  {
   "cell_type": "code",
   "execution_count": 87,
   "metadata": {
    "collapsed": true
   },
   "outputs": [],
   "source": [
    "params = {\n",
    "    'n_neighbors': [5, 10, 20, 50, 100, 200, 500, 1000],\n",
    "    'weights': ['uniform', 'distance'],\n",
    "    'algorithm': ['auto', 'ball_tree', 'kd_tree', 'brute'],\n",
    "}"
   ]
  },
  {
   "cell_type": "code",
   "execution_count": 88,
   "metadata": {
    "collapsed": true
   },
   "outputs": [],
   "source": [
    "gs = GridSearchCV(cls(), params, scoring='accuracy', cv=5, n_jobs=-1, error_score=0)"
   ]
  },
  {
   "cell_type": "code",
   "execution_count": 89,
   "metadata": {},
   "outputs": [
    {
     "data": {
      "text/plain": [
       "64"
      ]
     },
     "execution_count": 89,
     "metadata": {},
     "output_type": "execute_result"
    }
   ],
   "source": [
    "len(list(ParameterGrid(params)))"
   ]
  },
  {
   "cell_type": "code",
   "execution_count": 90,
   "metadata": {
    "scrolled": false
   },
   "outputs": [
    {
     "name": "stdout",
     "output_type": "stream",
     "text": [
      "Wall time: 3min 5s\n"
     ]
    },
    {
     "data": {
      "text/plain": [
       "GridSearchCV(cv=5, error_score=0,\n",
       "       estimator=KNeighborsClassifier(algorithm='auto', leaf_size=30, metric='minkowski',\n",
       "           metric_params=None, n_jobs=1, n_neighbors=5, p=2,\n",
       "           weights='uniform'),\n",
       "       fit_params=None, iid=True, n_jobs=-1,\n",
       "       param_grid={'n_neighbors': [5, 10, 20, 50, 100, 200, 500, 1000], 'weights': ['uniform', 'distance'], 'algorithm': ['auto', 'ball_tree', 'kd_tree', 'brute']},\n",
       "       pre_dispatch='2*n_jobs', refit=True, return_train_score='warn',\n",
       "       scoring='accuracy', verbose=0)"
      ]
     },
     "execution_count": 90,
     "metadata": {},
     "output_type": "execute_result"
    }
   ],
   "source": [
    "%%time\n",
    "gs.fit(features, labels)"
   ]
  },
  {
   "cell_type": "code",
   "execution_count": 91,
   "metadata": {},
   "outputs": [
    {
     "name": "stderr",
     "output_type": "stream",
     "text": [
      "C:\\Users\\Patrik\\Anaconda3\\lib\\site-packages\\sklearn\\model_selection\\_search.py:761: DeprecationWarning: The grid_scores_ attribute was deprecated in version 0.18 in favor of the more elaborate cv_results_ attribute. The grid_scores_ attribute will not be available from 0.20\n",
      "  DeprecationWarning)\n"
     ]
    },
    {
     "data": {
      "text/plain": [
       "[mean: 0.77892, std: 0.01434, params: {'algorithm': 'auto', 'n_neighbors': 20, 'weights': 'distance'},\n",
       " mean: 0.77892, std: 0.01434, params: {'algorithm': 'ball_tree', 'n_neighbors': 20, 'weights': 'distance'},\n",
       " mean: 0.77892, std: 0.01434, params: {'algorithm': 'kd_tree', 'n_neighbors': 20, 'weights': 'distance'},\n",
       " mean: 0.77892, std: 0.01434, params: {'algorithm': 'brute', 'n_neighbors': 20, 'weights': 'distance'},\n",
       " mean: 0.77525, std: 0.01514, params: {'algorithm': 'auto', 'n_neighbors': 10, 'weights': 'distance'},\n",
       " mean: 0.77525, std: 0.01514, params: {'algorithm': 'ball_tree', 'n_neighbors': 10, 'weights': 'distance'},\n",
       " mean: 0.77525, std: 0.01514, params: {'algorithm': 'kd_tree', 'n_neighbors': 10, 'weights': 'distance'},\n",
       " mean: 0.77525, std: 0.01514, params: {'algorithm': 'brute', 'n_neighbors': 10, 'weights': 'distance'},\n",
       " mean: 0.77176, std: 0.01882, params: {'algorithm': 'auto', 'n_neighbors': 10, 'weights': 'uniform'},\n",
       " mean: 0.77176, std: 0.01882, params: {'algorithm': 'ball_tree', 'n_neighbors': 10, 'weights': 'uniform'},\n",
       " mean: 0.77176, std: 0.01882, params: {'algorithm': 'kd_tree', 'n_neighbors': 10, 'weights': 'uniform'},\n",
       " mean: 0.77176, std: 0.01882, params: {'algorithm': 'brute', 'n_neighbors': 10, 'weights': 'uniform'},\n",
       " mean: 0.76772, std: 0.01165, params: {'algorithm': 'auto', 'n_neighbors': 5, 'weights': 'uniform'},\n",
       " mean: 0.76772, std: 0.01275, params: {'algorithm': 'auto', 'n_neighbors': 20, 'weights': 'uniform'},\n",
       " mean: 0.76772, std: 0.01165, params: {'algorithm': 'ball_tree', 'n_neighbors': 5, 'weights': 'uniform'},\n",
       " mean: 0.76772, std: 0.01275, params: {'algorithm': 'ball_tree', 'n_neighbors': 20, 'weights': 'uniform'},\n",
       " mean: 0.76772, std: 0.01165, params: {'algorithm': 'kd_tree', 'n_neighbors': 5, 'weights': 'uniform'},\n",
       " mean: 0.76772, std: 0.01275, params: {'algorithm': 'kd_tree', 'n_neighbors': 20, 'weights': 'uniform'},\n",
       " mean: 0.76772, std: 0.01165, params: {'algorithm': 'brute', 'n_neighbors': 5, 'weights': 'uniform'},\n",
       " mean: 0.76772, std: 0.01275, params: {'algorithm': 'brute', 'n_neighbors': 20, 'weights': 'uniform'},\n",
       " mean: 0.76680, std: 0.01005, params: {'algorithm': 'auto', 'n_neighbors': 50, 'weights': 'distance'},\n",
       " mean: 0.76680, std: 0.01005, params: {'algorithm': 'ball_tree', 'n_neighbors': 50, 'weights': 'distance'},\n",
       " mean: 0.76680, std: 0.01005, params: {'algorithm': 'kd_tree', 'n_neighbors': 50, 'weights': 'distance'},\n",
       " mean: 0.76680, std: 0.01005, params: {'algorithm': 'brute', 'n_neighbors': 50, 'weights': 'distance'},\n",
       " mean: 0.76643, std: 0.01222, params: {'algorithm': 'auto', 'n_neighbors': 5, 'weights': 'distance'},\n",
       " mean: 0.76643, std: 0.01222, params: {'algorithm': 'ball_tree', 'n_neighbors': 5, 'weights': 'distance'},\n",
       " mean: 0.76643, std: 0.01222, params: {'algorithm': 'kd_tree', 'n_neighbors': 5, 'weights': 'distance'},\n",
       " mean: 0.76643, std: 0.01222, params: {'algorithm': 'brute', 'n_neighbors': 5, 'weights': 'distance'},\n",
       " mean: 0.75744, std: 0.00994, params: {'algorithm': 'auto', 'n_neighbors': 50, 'weights': 'uniform'},\n",
       " mean: 0.75744, std: 0.00994, params: {'algorithm': 'ball_tree', 'n_neighbors': 50, 'weights': 'uniform'},\n",
       " mean: 0.75744, std: 0.00994, params: {'algorithm': 'kd_tree', 'n_neighbors': 50, 'weights': 'uniform'},\n",
       " mean: 0.75744, std: 0.00994, params: {'algorithm': 'brute', 'n_neighbors': 50, 'weights': 'uniform'},\n",
       " mean: 0.75340, std: 0.00598, params: {'algorithm': 'auto', 'n_neighbors': 100, 'weights': 'distance'},\n",
       " mean: 0.75340, std: 0.00598, params: {'algorithm': 'ball_tree', 'n_neighbors': 100, 'weights': 'distance'},\n",
       " mean: 0.75340, std: 0.00598, params: {'algorithm': 'kd_tree', 'n_neighbors': 100, 'weights': 'distance'},\n",
       " mean: 0.75340, std: 0.00598, params: {'algorithm': 'brute', 'n_neighbors': 100, 'weights': 'distance'},\n",
       " mean: 0.74165, std: 0.00743, params: {'algorithm': 'auto', 'n_neighbors': 100, 'weights': 'uniform'},\n",
       " mean: 0.74165, std: 0.00743, params: {'algorithm': 'ball_tree', 'n_neighbors': 100, 'weights': 'uniform'},\n",
       " mean: 0.74165, std: 0.00743, params: {'algorithm': 'kd_tree', 'n_neighbors': 100, 'weights': 'uniform'},\n",
       " mean: 0.74165, std: 0.00743, params: {'algorithm': 'brute', 'n_neighbors': 100, 'weights': 'uniform'},\n",
       " mean: 0.73705, std: 0.00601, params: {'algorithm': 'auto', 'n_neighbors': 200, 'weights': 'distance'},\n",
       " mean: 0.73705, std: 0.00601, params: {'algorithm': 'ball_tree', 'n_neighbors': 200, 'weights': 'distance'},\n",
       " mean: 0.73705, std: 0.00601, params: {'algorithm': 'kd_tree', 'n_neighbors': 200, 'weights': 'distance'},\n",
       " mean: 0.73705, std: 0.00601, params: {'algorithm': 'brute', 'n_neighbors': 200, 'weights': 'distance'},\n",
       " mean: 0.72438, std: 0.00882, params: {'algorithm': 'auto', 'n_neighbors': 200, 'weights': 'uniform'},\n",
       " mean: 0.72438, std: 0.00882, params: {'algorithm': 'ball_tree', 'n_neighbors': 200, 'weights': 'uniform'},\n",
       " mean: 0.72438, std: 0.00882, params: {'algorithm': 'kd_tree', 'n_neighbors': 200, 'weights': 'uniform'},\n",
       " mean: 0.72438, std: 0.00882, params: {'algorithm': 'brute', 'n_neighbors': 200, 'weights': 'uniform'},\n",
       " mean: 0.71135, std: 0.00688, params: {'algorithm': 'auto', 'n_neighbors': 500, 'weights': 'distance'},\n",
       " mean: 0.71135, std: 0.00688, params: {'algorithm': 'ball_tree', 'n_neighbors': 500, 'weights': 'distance'},\n",
       " mean: 0.71135, std: 0.00688, params: {'algorithm': 'kd_tree', 'n_neighbors': 500, 'weights': 'distance'},\n",
       " mean: 0.71135, std: 0.00688, params: {'algorithm': 'brute', 'n_neighbors': 500, 'weights': 'distance'},\n",
       " mean: 0.69666, std: 0.00702, params: {'algorithm': 'auto', 'n_neighbors': 1000, 'weights': 'distance'},\n",
       " mean: 0.69666, std: 0.00702, params: {'algorithm': 'ball_tree', 'n_neighbors': 1000, 'weights': 'distance'},\n",
       " mean: 0.69666, std: 0.00702, params: {'algorithm': 'kd_tree', 'n_neighbors': 1000, 'weights': 'distance'},\n",
       " mean: 0.69666, std: 0.00702, params: {'algorithm': 'brute', 'n_neighbors': 1000, 'weights': 'distance'},\n",
       " mean: 0.68380, std: 0.00683, params: {'algorithm': 'auto', 'n_neighbors': 500, 'weights': 'uniform'},\n",
       " mean: 0.68380, std: 0.00683, params: {'algorithm': 'ball_tree', 'n_neighbors': 500, 'weights': 'uniform'},\n",
       " mean: 0.68380, std: 0.00683, params: {'algorithm': 'kd_tree', 'n_neighbors': 500, 'weights': 'uniform'},\n",
       " mean: 0.68380, std: 0.00683, params: {'algorithm': 'brute', 'n_neighbors': 500, 'weights': 'uniform'},\n",
       " mean: 0.62725, std: 0.00883, params: {'algorithm': 'auto', 'n_neighbors': 1000, 'weights': 'uniform'},\n",
       " mean: 0.62725, std: 0.00883, params: {'algorithm': 'ball_tree', 'n_neighbors': 1000, 'weights': 'uniform'},\n",
       " mean: 0.62725, std: 0.00883, params: {'algorithm': 'kd_tree', 'n_neighbors': 1000, 'weights': 'uniform'},\n",
       " mean: 0.62725, std: 0.00883, params: {'algorithm': 'brute', 'n_neighbors': 1000, 'weights': 'uniform'}]"
      ]
     },
     "execution_count": 91,
     "metadata": {},
     "output_type": "execute_result"
    }
   ],
   "source": [
    "sorted(gs.grid_scores_, key=lambda x: x.mean_validation_score, reverse=True)"
   ]
  },
  {
   "cell_type": "code",
   "execution_count": 86,
   "metadata": {},
   "outputs": [
    {
     "name": "stdout",
     "output_type": "stream",
     "text": [
      "accuracy:  0.777301927195\n",
      "\n",
      "             precision    recall  f1-score   support\n",
      "\n",
      "          1       0.90      0.98      0.94       954\n",
      "          2       0.46      0.39      0.42       275\n",
      "          3       0.63      0.64      0.64       546\n",
      "          4       0.83      0.75      0.79       560\n",
      "\n",
      "avg / total       0.77      0.78      0.77      2335\n",
      "\n",
      "macro precision:  0.705761561387\n",
      "micro precision:  0.777301927195\n",
      "\n",
      "micro recall:  0.777301927195\n",
      "macro recall:  0.690212122783\n",
      "\n",
      "micro f1:  0.777301927195\n",
      "macro f1:  0.696046920462\n"
     ]
    },
    {
     "data": {
      "image/png": "[encoded data removed]",
      "text/plain": [
       "<matplotlib.figure.Figure at 0x146b1320358>"
      ]
     },
     "metadata": {},
     "output_type": "display_data"
    }
   ],
   "source": [
    "print_metrics(gs.best_estimator_, featuresCV, labelsCV)"
   ]
  },
  {
   "cell_type": "code",
   "execution_count": null,
   "metadata": {
    "collapsed": true
   },
   "outputs": [],
   "source": []
  },
  {
   "cell_type": "code",
   "execution_count": null,
   "metadata": {
    "collapsed": true
   },
   "outputs": [],
   "source": []
  },
  {
   "cell_type": "markdown",
   "metadata": {},
   "source": [
    "# Standardized data"
   ]
  },
  {
   "cell_type": "code",
   "execution_count": 3,
   "metadata": {
    "collapsed": true
   },
   "outputs": [],
   "source": [
    "df = pd.read_csv('data/normalized/robustscaler_boxcox.csv', index_col=0)"
   ]
  },
  {
   "cell_type": "code",
   "execution_count": 4,
   "metadata": {
    "collapsed": true
   },
   "outputs": [],
   "source": [
    "df = df[(df['ratio_running_duration_original'] >= 25) & (df['ratio_running_duration_original'] < 50)]"
   ]
  },
  {
   "cell_type": "code",
   "execution_count": 5,
   "metadata": {
    "collapsed": true
   },
   "outputs": [],
   "source": [
    "df.drop('ratio_running_duration_original', axis=1, inplace=True)"
   ]
  },
  {
   "cell_type": "code",
   "execution_count": 6,
   "metadata": {
    "collapsed": true
   },
   "outputs": [],
   "source": [
    "# split to train and test sets\n",
    "features, featuresCV, labels, labelsCV = train_test_split(df.drop('class', axis=1), df['class'], test_size=0.30, random_state=16)"
   ]
  },
  {
   "cell_type": "code",
   "execution_count": 7,
   "metadata": {},
   "outputs": [
    {
     "data": {
      "text/plain": [
       "(5446, 40)"
      ]
     },
     "execution_count": 7,
     "metadata": {},
     "output_type": "execute_result"
    }
   ],
   "source": [
    "features.shape"
   ]
  },
  {
   "cell_type": "code",
   "execution_count": null,
   "metadata": {
    "collapsed": true
   },
   "outputs": [],
   "source": []
  },
  {
   "cell_type": "markdown",
   "metadata": {},
   "source": [
    "# LDA"
   ]
  },
  {
   "cell_type": "code",
   "execution_count": 105,
   "metadata": {
    "collapsed": true
   },
   "outputs": [],
   "source": [
    "from sklearn.discriminant_analysis import LinearDiscriminantAnalysis"
   ]
  },
  {
   "cell_type": "code",
   "execution_count": 106,
   "metadata": {
    "collapsed": true
   },
   "outputs": [],
   "source": [
    "cls = LinearDiscriminantAnalysis"
   ]
  },
  {
   "cell_type": "code",
   "execution_count": 154,
   "metadata": {
    "collapsed": true
   },
   "outputs": [],
   "source": [
    "params = {\n",
    "    'solver': ['svd', 'lsqr', 'eigen'],\n",
    "    'shrinkage': [None, 'auto', 0.0001, 0.001, 0.01],\n",
    "    'tol': [1e-4, 1e-3, 1e-1, 1e-10]\n",
    "}"
   ]
  },
  {
   "cell_type": "code",
   "execution_count": 155,
   "metadata": {},
   "outputs": [
    {
     "data": {
      "text/plain": [
       "60"
      ]
     },
     "execution_count": 155,
     "metadata": {},
     "output_type": "execute_result"
    }
   ],
   "source": [
    "gs = GridSearchCV(cls(), params, scoring='accuracy', cv=5, n_jobs=-1, error_score=0)\n",
    "len(list(ParameterGrid(params)))"
   ]
  },
  {
   "cell_type": "code",
   "execution_count": 156,
   "metadata": {},
   "outputs": [
    {
     "name": "stdout",
     "output_type": "stream",
     "text": [
      "Wall time: 8.31 s\n"
     ]
    },
    {
     "data": {
      "text/plain": [
       "GridSearchCV(cv=5, error_score=0,\n",
       "       estimator=LinearDiscriminantAnalysis(n_components=None, priors=None, shrinkage=None,\n",
       "              solver='svd', store_covariance=False, tol=0.0001),\n",
       "       fit_params=None, iid=True, n_jobs=-1,\n",
       "       param_grid={'solver': ['svd', 'lsqr', 'eigen'], 'shrinkage': [None, 'auto', 0.0001, 0.001, 0.01], 'tol': [0.0001, 0.001, 0.1, 1e-10]},\n",
       "       pre_dispatch='2*n_jobs', refit=True, return_train_score='warn',\n",
       "       scoring='accuracy', verbose=0)"
      ]
     },
     "execution_count": 156,
     "metadata": {},
     "output_type": "execute_result"
    }
   ],
   "source": [
    "%%time\n",
    "gs.fit(features, labels)"
   ]
  },
  {
   "cell_type": "code",
   "execution_count": 157,
   "metadata": {
    "scrolled": true
   },
   "outputs": [
    {
     "name": "stderr",
     "output_type": "stream",
     "text": [
      "C:\\Users\\Patrik\\Anaconda3\\lib\\site-packages\\sklearn\\model_selection\\_search.py:761: DeprecationWarning: The grid_scores_ attribute was deprecated in version 0.18 in favor of the more elaborate cv_results_ attribute. The grid_scores_ attribute will not be available from 0.20\n",
      "  DeprecationWarning)\n"
     ]
    },
    {
     "data": {
      "text/plain": [
       "[mean: 0.79416, std: 0.01425, params: {'shrinkage': None, 'solver': 'svd', 'tol': 0.0001},\n",
       " mean: 0.79416, std: 0.01425, params: {'shrinkage': None, 'solver': 'svd', 'tol': 0.001},\n",
       " mean: 0.79416, std: 0.01425, params: {'shrinkage': None, 'solver': 'svd', 'tol': 1e-10},\n",
       " mean: 0.79416, std: 0.01425, params: {'shrinkage': None, 'solver': 'lsqr', 'tol': 0.0001},\n",
       " mean: 0.79416, std: 0.01425, params: {'shrinkage': None, 'solver': 'lsqr', 'tol': 0.001},\n",
       " mean: 0.79416, std: 0.01425, params: {'shrinkage': None, 'solver': 'lsqr', 'tol': 0.1},\n",
       " mean: 0.79416, std: 0.01425, params: {'shrinkage': None, 'solver': 'lsqr', 'tol': 1e-10},\n",
       " mean: 0.79361, std: 0.01341, params: {'shrinkage': 'auto', 'solver': 'lsqr', 'tol': 0.0001},\n",
       " mean: 0.79361, std: 0.01341, params: {'shrinkage': 'auto', 'solver': 'lsqr', 'tol': 0.001},\n",
       " mean: 0.79361, std: 0.01341, params: {'shrinkage': 'auto', 'solver': 'lsqr', 'tol': 0.1},\n",
       " mean: 0.79361, std: 0.01341, params: {'shrinkage': 'auto', 'solver': 'lsqr', 'tol': 1e-10},\n",
       " mean: 0.79343, std: 0.01253, params: {'shrinkage': 0.001, 'solver': 'lsqr', 'tol': 0.0001},\n",
       " mean: 0.79343, std: 0.01253, params: {'shrinkage': 0.001, 'solver': 'lsqr', 'tol': 0.001},\n",
       " mean: 0.79343, std: 0.01253, params: {'shrinkage': 0.001, 'solver': 'lsqr', 'tol': 0.1},\n",
       " mean: 0.79343, std: 0.01253, params: {'shrinkage': 0.001, 'solver': 'lsqr', 'tol': 1e-10},\n",
       " mean: 0.79324, std: 0.01357, params: {'shrinkage': 0.0001, 'solver': 'lsqr', 'tol': 0.0001},\n",
       " mean: 0.79324, std: 0.01357, params: {'shrinkage': 0.0001, 'solver': 'lsqr', 'tol': 0.001},\n",
       " mean: 0.79324, std: 0.01357, params: {'shrinkage': 0.0001, 'solver': 'lsqr', 'tol': 0.1},\n",
       " mean: 0.79324, std: 0.01357, params: {'shrinkage': 0.0001, 'solver': 'lsqr', 'tol': 1e-10},\n",
       " mean: 0.79177, std: 0.01417, params: {'shrinkage': None, 'solver': 'svd', 'tol': 0.1},\n",
       " mean: 0.78516, std: 0.00577, params: {'shrinkage': 0.01, 'solver': 'lsqr', 'tol': 0.0001},\n",
       " mean: 0.78516, std: 0.00577, params: {'shrinkage': 0.01, 'solver': 'lsqr', 'tol': 0.001},\n",
       " mean: 0.78516, std: 0.00577, params: {'shrinkage': 0.01, 'solver': 'lsqr', 'tol': 0.1},\n",
       " mean: 0.78516, std: 0.00577, params: {'shrinkage': 0.01, 'solver': 'lsqr', 'tol': 1e-10},\n",
       " mean: 0.40121, std: 0.00054, params: {'shrinkage': None, 'solver': 'eigen', 'tol': 0.0001},\n",
       " mean: 0.40121, std: 0.00054, params: {'shrinkage': None, 'solver': 'eigen', 'tol': 0.001},\n",
       " mean: 0.40121, std: 0.00054, params: {'shrinkage': None, 'solver': 'eigen', 'tol': 0.1},\n",
       " mean: 0.40121, std: 0.00054, params: {'shrinkage': None, 'solver': 'eigen', 'tol': 1e-10},\n",
       " mean: 0.40121, std: 0.00054, params: {'shrinkage': 'auto', 'solver': 'eigen', 'tol': 0.0001},\n",
       " mean: 0.40121, std: 0.00054, params: {'shrinkage': 'auto', 'solver': 'eigen', 'tol': 0.001},\n",
       " mean: 0.40121, std: 0.00054, params: {'shrinkage': 'auto', 'solver': 'eigen', 'tol': 0.1},\n",
       " mean: 0.40121, std: 0.00054, params: {'shrinkage': 'auto', 'solver': 'eigen', 'tol': 1e-10},\n",
       " mean: 0.40121, std: 0.00054, params: {'shrinkage': 0.0001, 'solver': 'eigen', 'tol': 0.0001},\n",
       " mean: 0.40121, std: 0.00054, params: {'shrinkage': 0.0001, 'solver': 'eigen', 'tol': 0.001},\n",
       " mean: 0.40121, std: 0.00054, params: {'shrinkage': 0.0001, 'solver': 'eigen', 'tol': 0.1},\n",
       " mean: 0.40121, std: 0.00054, params: {'shrinkage': 0.0001, 'solver': 'eigen', 'tol': 1e-10},\n",
       " mean: 0.40121, std: 0.00054, params: {'shrinkage': 0.001, 'solver': 'eigen', 'tol': 0.0001},\n",
       " mean: 0.40121, std: 0.00054, params: {'shrinkage': 0.001, 'solver': 'eigen', 'tol': 0.001},\n",
       " mean: 0.40121, std: 0.00054, params: {'shrinkage': 0.001, 'solver': 'eigen', 'tol': 0.1},\n",
       " mean: 0.40121, std: 0.00054, params: {'shrinkage': 0.001, 'solver': 'eigen', 'tol': 1e-10},\n",
       " mean: 0.40121, std: 0.00054, params: {'shrinkage': 0.01, 'solver': 'eigen', 'tol': 0.0001},\n",
       " mean: 0.40121, std: 0.00054, params: {'shrinkage': 0.01, 'solver': 'eigen', 'tol': 0.001},\n",
       " mean: 0.40121, std: 0.00054, params: {'shrinkage': 0.01, 'solver': 'eigen', 'tol': 0.1},\n",
       " mean: 0.40121, std: 0.00054, params: {'shrinkage': 0.01, 'solver': 'eigen', 'tol': 1e-10},\n",
       " mean: 0.00000, std: 0.00000, params: {'shrinkage': 'auto', 'solver': 'svd', 'tol': 0.0001},\n",
       " mean: 0.00000, std: 0.00000, params: {'shrinkage': 'auto', 'solver': 'svd', 'tol': 0.001},\n",
       " mean: 0.00000, std: 0.00000, params: {'shrinkage': 'auto', 'solver': 'svd', 'tol': 0.1},\n",
       " mean: 0.00000, std: 0.00000, params: {'shrinkage': 'auto', 'solver': 'svd', 'tol': 1e-10},\n",
       " mean: 0.00000, std: 0.00000, params: {'shrinkage': 0.0001, 'solver': 'svd', 'tol': 0.0001},\n",
       " mean: 0.00000, std: 0.00000, params: {'shrinkage': 0.0001, 'solver': 'svd', 'tol': 0.001},\n",
       " mean: 0.00000, std: 0.00000, params: {'shrinkage': 0.0001, 'solver': 'svd', 'tol': 0.1},\n",
       " mean: 0.00000, std: 0.00000, params: {'shrinkage': 0.0001, 'solver': 'svd', 'tol': 1e-10},\n",
       " mean: 0.00000, std: 0.00000, params: {'shrinkage': 0.001, 'solver': 'svd', 'tol': 0.0001},\n",
       " mean: 0.00000, std: 0.00000, params: {'shrinkage': 0.001, 'solver': 'svd', 'tol': 0.001},\n",
       " mean: 0.00000, std: 0.00000, params: {'shrinkage': 0.001, 'solver': 'svd', 'tol': 0.1},\n",
       " mean: 0.00000, std: 0.00000, params: {'shrinkage': 0.001, 'solver': 'svd', 'tol': 1e-10},\n",
       " mean: 0.00000, std: 0.00000, params: {'shrinkage': 0.01, 'solver': 'svd', 'tol': 0.0001},\n",
       " mean: 0.00000, std: 0.00000, params: {'shrinkage': 0.01, 'solver': 'svd', 'tol': 0.001},\n",
       " mean: 0.00000, std: 0.00000, params: {'shrinkage': 0.01, 'solver': 'svd', 'tol': 0.1},\n",
       " mean: 0.00000, std: 0.00000, params: {'shrinkage': 0.01, 'solver': 'svd', 'tol': 1e-10}]"
      ]
     },
     "execution_count": 157,
     "metadata": {},
     "output_type": "execute_result"
    }
   ],
   "source": [
    "sorted(gs.grid_scores_, key=lambda x: x.mean_validation_score, reverse=True)"
   ]
  },
  {
   "cell_type": "code",
   "execution_count": 158,
   "metadata": {},
   "outputs": [
    {
     "name": "stdout",
     "output_type": "stream",
     "text": [
      "accuracy:  0.796145610278\n",
      "\n",
      "             precision    recall  f1-score   support\n",
      "\n",
      "          1       0.95      0.93      0.94       954\n",
      "          2       0.52      0.60      0.56       275\n",
      "          3       0.69      0.62      0.65       546\n",
      "          4       0.79      0.83      0.81       560\n",
      "\n",
      "avg / total       0.80      0.80      0.80      2335\n",
      "\n",
      "macro precision:  0.737431731249\n",
      "micro precision:  0.796145610278\n",
      "\n",
      "micro recall:  0.796145610278\n",
      "macro recall:  0.7458532034\n",
      "\n",
      "micro f1:  0.796145610278\n",
      "macro f1:  0.740321583243\n"
     ]
    },
    {
     "data": {
      "image/png": "[encoded data removed]",
      "text/plain": [
       "<matplotlib.figure.Figure at 0x146b190ddd8>"
      ]
     },
     "metadata": {},
     "output_type": "display_data"
    }
   ],
   "source": [
    "print_metrics(gs.best_estimator_, featuresCV, labelsCV)"
   ]
  },
  {
   "cell_type": "code",
   "execution_count": null,
   "metadata": {
    "collapsed": true
   },
   "outputs": [],
   "source": []
  },
  {
   "cell_type": "markdown",
   "metadata": {},
   "source": [
    "# LinearSVC"
   ]
  },
  {
   "cell_type": "code",
   "execution_count": 159,
   "metadata": {
    "collapsed": true
   },
   "outputs": [],
   "source": [
    "from sklearn.svm import LinearSVC"
   ]
  },
  {
   "cell_type": "code",
   "execution_count": 160,
   "metadata": {
    "collapsed": true
   },
   "outputs": [],
   "source": [
    "cls = LinearSVC"
   ]
  },
  {
   "cell_type": "code",
   "execution_count": 181,
   "metadata": {
    "collapsed": true
   },
   "outputs": [],
   "source": [
    "params = {\n",
    "    #'penalty': ['l1', 'l2'],\n",
    "    #'loss': ['hinge', 'squared_hinge'],\n",
    "    #'dual': [False, True],\n",
    "    #'tol': [1e-4, 1e-3, 1e-1, 1e-10],\n",
    "    'C': [1, 10, 20], \n",
    "    'multi_class': ['crammer_singer'],\n",
    "    #'class_weight': [None, 'balanced'],\n",
    "    #'max_iter': [10, 100, 1000, 10000]\n",
    "}"
   ]
  },
  {
   "cell_type": "code",
   "execution_count": 182,
   "metadata": {},
   "outputs": [
    {
     "data": {
      "text/plain": [
       "3"
      ]
     },
     "execution_count": 182,
     "metadata": {},
     "output_type": "execute_result"
    }
   ],
   "source": [
    "gs = GridSearchCV(cls(), params, scoring='accuracy', cv=5, n_jobs=-1, error_score=0)\n",
    "len(list(ParameterGrid(params)))"
   ]
  },
  {
   "cell_type": "code",
   "execution_count": null,
   "metadata": {
    "collapsed": true
   },
   "outputs": [],
   "source": [
    "%%time\n",
    "gs.fit(features, labels)"
   ]
  },
  {
   "cell_type": "code",
   "execution_count": null,
   "metadata": {
    "collapsed": true
   },
   "outputs": [],
   "source": [
    "sorted(gs.grid_scores_, key=lambda x: x.mean_validation_score, reverse=True)"
   ]
  },
  {
   "cell_type": "code",
   "execution_count": null,
   "metadata": {
    "collapsed": true
   },
   "outputs": [],
   "source": [
    "# [mean: 0.79765, std: 0.01050, params: {'C': 10, 'class_weight': None, 'multi_class': 'crammer_singer'},"
   ]
  },
  {
   "cell_type": "code",
   "execution_count": null,
   "metadata": {
    "collapsed": true
   },
   "outputs": [],
   "source": []
  },
  {
   "cell_type": "markdown",
   "metadata": {},
   "source": [
    "# MLP"
   ]
  },
  {
   "cell_type": "code",
   "execution_count": 8,
   "metadata": {
    "collapsed": true
   },
   "outputs": [],
   "source": [
    "from sklearn.neural_network import MLPClassifier"
   ]
  },
  {
   "cell_type": "code",
   "execution_count": 9,
   "metadata": {
    "collapsed": true
   },
   "outputs": [],
   "source": [
    "cls = MLPClassifier"
   ]
  },
  {
   "cell_type": "code",
   "execution_count": 14,
   "metadata": {
    "collapsed": true
   },
   "outputs": [],
   "source": [
    "params = {\n",
    "    'hidden_layer_sizes': [(100,), (50,), (200,)],\n",
    "    'activation': ['identity', 'logistic', 'tanh', 'relu'],\n",
    "    'solver': ['lbfgs', 'sgd', 'adam'],\n",
    "    'alpha': [0.0001, 0.00001, 0.001],\n",
    "    'learning_rate': ['constant', 'invscaling', 'adaptive'],\n",
    "    'max_iter': [100, 200, 300],\n",
    "}"
   ]
  },
  {
   "cell_type": "code",
   "execution_count": 15,
   "metadata": {},
   "outputs": [
    {
     "data": {
      "text/plain": [
       "36"
      ]
     },
     "execution_count": 15,
     "metadata": {},
     "output_type": "execute_result"
    }
   ],
   "source": [
    "gs = GridSearchCV(cls(), params, scoring='accuracy', cv=5, n_jobs=-1, error_score=0)\n",
    "len(list(ParameterGrid(params)))"
   ]
  },
  {
   "cell_type": "code",
   "execution_count": 16,
   "metadata": {},
   "outputs": [
    {
     "name": "stdout",
     "output_type": "stream",
     "text": [
      "Wall time: 6min 5s\n"
     ]
    },
    {
     "data": {
      "text/plain": [
       "GridSearchCV(cv=5, error_score=0,\n",
       "       estimator=MLPClassifier(activation='relu', alpha=0.0001, batch_size='auto', beta_1=0.9,\n",
       "       beta_2=0.999, early_stopping=False, epsilon=1e-08,\n",
       "       hidden_layer_sizes=(100,), learning_rate='constant',\n",
       "       learning_rate_init=0.001, max_iter=200, momentum=0.9,\n",
       "       nesterovs_momentum=True, power_t=0.5, random_state=None,\n",
       "       shuffle=True, solver='adam', tol=0.0001, validation_fraction=0.1,\n",
       "       verbose=False, warm_start=False),\n",
       "       fit_params=None, iid=True, n_jobs=-1,\n",
       "       param_grid={'hidden_layer_sizes': [(100,), (50,), (200,)], 'activation': ['identity', 'logistic', 'tanh', 'relu'], 'solver': ['lbfgs', 'sgd', 'adam']},\n",
       "       pre_dispatch='2*n_jobs', refit=True, return_train_score='warn',\n",
       "       scoring='accuracy', verbose=0)"
      ]
     },
     "execution_count": 16,
     "metadata": {},
     "output_type": "execute_result"
    }
   ],
   "source": [
    "%%time\n",
    "gs.fit(features, labels)"
   ]
  },
  {
   "cell_type": "code",
   "execution_count": 17,
   "metadata": {},
   "outputs": [
    {
     "name": "stderr",
     "output_type": "stream",
     "text": [
      "C:\\Users\\Patrik\\Anaconda3\\lib\\site-packages\\sklearn\\model_selection\\_search.py:761: DeprecationWarning: The grid_scores_ attribute was deprecated in version 0.18 in favor of the more elaborate cv_results_ attribute. The grid_scores_ attribute will not be available from 0.20\n",
      "  DeprecationWarning)\n"
     ]
    },
    {
     "data": {
      "text/plain": [
       "[mean: 0.80095, std: 0.00863, params: {'activation': 'identity', 'hidden_layer_sizes': (200,), 'solver': 'lbfgs'},\n",
       " mean: 0.79893, std: 0.00665, params: {'activation': 'logistic', 'hidden_layer_sizes': (50,), 'solver': 'lbfgs'},\n",
       " mean: 0.79875, std: 0.00581, params: {'activation': 'identity', 'hidden_layer_sizes': (100,), 'solver': 'lbfgs'},\n",
       " mean: 0.79857, std: 0.00889, params: {'activation': 'identity', 'hidden_layer_sizes': (50,), 'solver': 'lbfgs'},\n",
       " mean: 0.79728, std: 0.00674, params: {'activation': 'logistic', 'hidden_layer_sizes': (100,), 'solver': 'lbfgs'},\n",
       " mean: 0.79692, std: 0.01016, params: {'activation': 'tanh', 'hidden_layer_sizes': (50,), 'solver': 'lbfgs'},\n",
       " mean: 0.79655, std: 0.01099, params: {'activation': 'logistic', 'hidden_layer_sizes': (200,), 'solver': 'lbfgs'},\n",
       " mean: 0.79563, std: 0.00580, params: {'activation': 'relu', 'hidden_layer_sizes': (100,), 'solver': 'lbfgs'},\n",
       " mean: 0.79471, std: 0.00702, params: {'activation': 'relu', 'hidden_layer_sizes': (200,), 'solver': 'lbfgs'},\n",
       " mean: 0.79434, std: 0.00193, params: {'activation': 'relu', 'hidden_layer_sizes': (50,), 'solver': 'lbfgs'},\n",
       " mean: 0.79306, std: 0.01249, params: {'activation': 'relu', 'hidden_layer_sizes': (100,), 'solver': 'adam'},\n",
       " mean: 0.79159, std: 0.00616, params: {'activation': 'logistic', 'hidden_layer_sizes': (50,), 'solver': 'adam'},\n",
       " mean: 0.79067, std: 0.00971, params: {'activation': 'tanh', 'hidden_layer_sizes': (200,), 'solver': 'lbfgs'},\n",
       " mean: 0.79067, std: 0.00497, params: {'activation': 'tanh', 'hidden_layer_sizes': (200,), 'solver': 'adam'},\n",
       " mean: 0.79012, std: 0.01054, params: {'activation': 'tanh', 'hidden_layer_sizes': (100,), 'solver': 'lbfgs'},\n",
       " mean: 0.78957, std: 0.00403, params: {'activation': 'tanh', 'hidden_layer_sizes': (50,), 'solver': 'adam'},\n",
       " mean: 0.78792, std: 0.00665, params: {'activation': 'relu', 'hidden_layer_sizes': (50,), 'solver': 'adam'},\n",
       " mean: 0.78718, std: 0.00600, params: {'activation': 'logistic', 'hidden_layer_sizes': (100,), 'solver': 'adam'},\n",
       " mean: 0.78700, std: 0.00960, params: {'activation': 'tanh', 'hidden_layer_sizes': (100,), 'solver': 'adam'},\n",
       " mean: 0.78645, std: 0.00758, params: {'activation': 'identity', 'hidden_layer_sizes': (50,), 'solver': 'adam'},\n",
       " mean: 0.78645, std: 0.00572, params: {'activation': 'identity', 'hidden_layer_sizes': (200,), 'solver': 'adam'},\n",
       " mean: 0.78608, std: 0.00491, params: {'activation': 'logistic', 'hidden_layer_sizes': (200,), 'solver': 'adam'},\n",
       " mean: 0.78076, std: 0.00839, params: {'activation': 'identity', 'hidden_layer_sizes': (100,), 'solver': 'adam'},\n",
       " mean: 0.78057, std: 0.00657, params: {'activation': 'relu', 'hidden_layer_sizes': (200,), 'solver': 'adam'},\n",
       " mean: 0.76643, std: 0.00585, params: {'activation': 'identity', 'hidden_layer_sizes': (50,), 'solver': 'sgd'},\n",
       " mean: 0.76533, std: 0.01010, params: {'activation': 'identity', 'hidden_layer_sizes': (100,), 'solver': 'sgd'},\n",
       " mean: 0.76478, std: 0.00774, params: {'activation': 'identity', 'hidden_layer_sizes': (200,), 'solver': 'sgd'},\n",
       " mean: 0.76239, std: 0.00901, params: {'activation': 'relu', 'hidden_layer_sizes': (200,), 'solver': 'sgd'},\n",
       " mean: 0.76221, std: 0.00738, params: {'activation': 'tanh', 'hidden_layer_sizes': (200,), 'solver': 'sgd'},\n",
       " mean: 0.76111, std: 0.01333, params: {'activation': 'relu', 'hidden_layer_sizes': (50,), 'solver': 'sgd'},\n",
       " mean: 0.75542, std: 0.00918, params: {'activation': 'tanh', 'hidden_layer_sizes': (100,), 'solver': 'sgd'},\n",
       " mean: 0.75358, std: 0.01252, params: {'activation': 'tanh', 'hidden_layer_sizes': (50,), 'solver': 'sgd'},\n",
       " mean: 0.75303, std: 0.00732, params: {'activation': 'relu', 'hidden_layer_sizes': (100,), 'solver': 'sgd'},\n",
       " mean: 0.64102, std: 0.00962, params: {'activation': 'logistic', 'hidden_layer_sizes': (200,), 'solver': 'sgd'},\n",
       " mean: 0.64047, std: 0.00675, params: {'activation': 'logistic', 'hidden_layer_sizes': (100,), 'solver': 'sgd'},\n",
       " mean: 0.63202, std: 0.00938, params: {'activation': 'logistic', 'hidden_layer_sizes': (50,), 'solver': 'sgd'}]"
      ]
     },
     "execution_count": 17,
     "metadata": {},
     "output_type": "execute_result"
    }
   ],
   "source": [
    "sorted(gs.grid_scores_, key=lambda x: x.mean_validation_score, reverse=True)"
   ]
  },
  {
   "cell_type": "code",
   "execution_count": 18,
   "metadata": {},
   "outputs": [
    {
     "name": "stdout",
     "output_type": "stream",
     "text": [
      "accuracy:  0.803854389722\n",
      "\n",
      "             precision    recall  f1-score   support\n",
      "\n",
      "          1       0.94      0.96      0.95       954\n",
      "          2       0.58      0.49      0.53       275\n",
      "          3       0.66      0.66      0.66       546\n",
      "          4       0.79      0.82      0.81       560\n",
      "\n",
      "avg / total       0.80      0.80      0.80      2335\n",
      "\n",
      "macro precision:  0.744792126513\n",
      "micro precision:  0.803854389722\n",
      "\n",
      "micro recall:  0.803854389722\n",
      "macro recall:  0.734658636699\n",
      "\n",
      "micro f1:  0.803854389722\n",
      "macro f1:  0.738620380683\n"
     ]
    },
    {
     "data": {
      "image/png": "[encoded data removed]",
      "text/plain": [
       "<matplotlib.figure.Figure at 0x1e745c7ecf8>"
      ]
     },
     "metadata": {},
     "output_type": "display_data"
    }
   ],
   "source": [
    "print_metrics(gs.best_estimator_, featuresCV, labelsCV)"
   ]
  },
  {
   "cell_type": "code",
   "execution_count": null,
   "metadata": {
    "collapsed": true
   },
   "outputs": [],
   "source": []
  }
 ],
 "metadata": {
  "kernelspec": {
   "display_name": "Python 3",
   "language": "python",
   "name": "python3"
  },
  "language_info": {
   "codemirror_mode": {
    "name": "ipython",
    "version": 3
   },
   "file_extension": ".py",
   "mimetype": "text/x-python",
   "name": "python",
   "nbconvert_exporter": "python",
   "pygments_lexer": "ipython3",
   "version": "3.6.1"
  }
 },
 "nbformat": 4,
 "nbformat_minor": 2
}
