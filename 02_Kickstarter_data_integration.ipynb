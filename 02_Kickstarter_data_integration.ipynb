{
 "cells": [
  {
   "cell_type": "markdown",
   "metadata": {},
   "source": [
    "# Selecting all live projects and fetching end state\n",
    "\n",
    "We will use monthly snapshots of projects to select following data:\n",
    "* **df_live**           will contain all projects that were live during scraping the web\n",
    "* **df_live_after_end** will contain projects stored in df_live but after their termination (scraped in the upcoming period)"
   ]
  },
  {
   "cell_type": "code",
   "execution_count": 1,
   "metadata": {
    "collapsed": true
   },
   "outputs": [],
   "source": [
    "import os\n",
    "import pandas as pd\n",
    "import json"
   ]
  },
  {
   "cell_type": "code",
   "execution_count": 2,
   "metadata": {},
   "outputs": [
    {
     "data": {
      "text/plain": [
       "['Kickstarter_2015-11-01T14_09_04_557Z',\n",
       " 'Kickstarter_2015-12-17T12_09_06_107Z',\n",
       " 'Kickstarter_2016-01-28T09_15_08_781Z',\n",
       " 'Kickstarter_2016-03-22T07_41_08_591Z',\n",
       " 'Kickstarter_2016-04-15T02_09_04_328Z',\n",
       " 'Kickstarter_2016-05-15T02_04_46_813Z',\n",
       " 'Kickstarter_2016-06-15T02_04_49_697Z',\n",
       " 'Kickstarter_2016-07-15T02_04_40_862Z',\n",
       " 'Kickstarter_2016-08-15T02_04_03_829Z',\n",
       " 'Kickstarter_2016-09-15T02_04_03_474Z',\n",
       " 'Kickstarter_2016-10-15T02_04_11_689Z',\n",
       " 'Kickstarter_2016-11-12T22_20_03_295Z',\n",
       " 'Kickstarter_2016-12-15T22_20_52_411Z',\n",
       " 'Kickstarter_2017-01-15T22_21_04_985Z',\n",
       " 'Kickstarter_2017-02-15T22_22_48_377Z',\n",
       " 'Kickstarter_2017-03-15T22_20_55_874Z',\n",
       " 'Kickstarter_2017-04-15T22_21_18_122Z',\n",
       " 'Kickstarter_2017-05-15T22_21_11_300Z',\n",
       " 'Kickstarter_2017-06-15T22_20_03_059Z',\n",
       " 'Kickstarter_2017-07-15T22_20_48_951Z',\n",
       " 'Kickstarter_2017-08-15T22_20_51_958Z',\n",
       " 'Kickstarter_2017-09-15T22_20_48_432Z',\n",
       " 'Kickstarter_2017-10-15T10_20_38_271Z']"
      ]
     },
     "execution_count": 2,
     "metadata": {},
     "output_type": "execute_result"
    }
   ],
   "source": [
    "# all kickstarter files from webrobots.io are stored in following path\n",
    "path = 'C:\\\\Users\\\\Patrik\\\\Downloads\\\\webrobots.iokickstarter-datasets\\\\'\n",
    "dir_list = os.listdir(path)\n",
    "\n",
    "# sort directories in chronological order\n",
    "# each directory contains up to 48 csv files\n",
    "dir_list.sort()\n",
    "dir_list"
   ]
  },
  {
   "cell_type": "code",
   "execution_count": 3,
   "metadata": {},
   "outputs": [
    {
     "data": {
      "text/plain": [
       "23"
      ]
     },
     "execution_count": 3,
     "metadata": {},
     "output_type": "execute_result"
    }
   ],
   "source": [
    "len(dir_list)"
   ]
  },
  {
   "cell_type": "code",
   "execution_count": 4,
   "metadata": {
    "collapsed": true
   },
   "outputs": [],
   "source": [
    "df_live = pd.DataFrame()\n",
    "df_live_after_end = pd.DataFrame()\n",
    "csv_count = 0"
   ]
  },
  {
   "cell_type": "code",
   "execution_count": 5,
   "metadata": {
    "scrolled": true
   },
   "outputs": [
    {
     "name": "stdout",
     "output_type": "stream",
     "text": [
      "\n",
      "\n",
      ">>> DIRECTORY: Kickstarter_2015-11-01T14_09_04_557Z\n",
      "Kickstarter.csv, Kickstarter001.csv, Kickstarter002.csv, Kickstarter003.csv, Kickstarter004.csv, Kickstarter005.csv, Kickstarter006.csv, Kickstarter007.csv, Kickstarter008.csv, Kickstarter009.csv, Kickstarter010.csv, Kickstarter011.csv, Kickstarter012.csv, \n",
      "\n",
      ">>> DIRECTORY: Kickstarter_2015-12-17T12_09_06_107Z\n",
      "Kickstarter.csv, Kickstarter001.csv, Kickstarter002.csv, Kickstarter003.csv, Kickstarter004.csv, Kickstarter005.csv, Kickstarter006.csv, Kickstarter007.csv, Kickstarter008.csv, Kickstarter009.csv, Kickstarter010.csv, Kickstarter011.csv, Kickstarter012.csv, Kickstarter013.csv, Kickstarter014.csv, Kickstarter015.csv, Kickstarter016.csv, Kickstarter017.csv, Kickstarter018.csv, Kickstarter019.csv, Kickstarter020.csv, Kickstarter021.csv, Kickstarter022.csv, Kickstarter023.csv, Kickstarter024.csv, Kickstarter025.csv, Kickstarter026.csv, Kickstarter027.csv, Kickstarter028.csv, Kickstarter029.csv, Kickstarter030.csv, Kickstarter031.csv, \n",
      "\n",
      ">>> DIRECTORY: Kickstarter_2016-01-28T09_15_08_781Z\n",
      "Kickstarter.csv, Kickstarter001.csv, Kickstarter002.csv, Kickstarter003.csv, Kickstarter004.csv, Kickstarter005.csv, Kickstarter006.csv, Kickstarter007.csv, Kickstarter008.csv, Kickstarter009.csv, Kickstarter010.csv, Kickstarter011.csv, Kickstarter012.csv, Kickstarter013.csv, Kickstarter014.csv, Kickstarter015.csv, Kickstarter016.csv, Kickstarter017.csv, Kickstarter018.csv, Kickstarter019.csv, Kickstarter020.csv, Kickstarter021.csv, Kickstarter022.csv, Kickstarter023.csv, Kickstarter024.csv, Kickstarter025.csv, Kickstarter026.csv, Kickstarter027.csv, Kickstarter028.csv, Kickstarter029.csv, Kickstarter030.csv, Kickstarter031.csv, \n",
      "\n",
      ">>> DIRECTORY: Kickstarter_2016-03-22T07_41_08_591Z\n",
      "Kickstarter.csv, Kickstarter001.csv, Kickstarter002.csv, Kickstarter003.csv, Kickstarter004.csv, Kickstarter005.csv, Kickstarter006.csv, Kickstarter007.csv, Kickstarter008.csv, Kickstarter009.csv, Kickstarter010.csv, Kickstarter011.csv, Kickstarter012.csv, Kickstarter013.csv, Kickstarter014.csv, Kickstarter015.csv, Kickstarter016.csv, Kickstarter017.csv, Kickstarter018.csv, Kickstarter019.csv, Kickstarter020.csv, Kickstarter021.csv, Kickstarter022.csv, Kickstarter023.csv, Kickstarter024.csv, Kickstarter025.csv, Kickstarter026.csv, Kickstarter027.csv, Kickstarter028.csv, Kickstarter029.csv, Kickstarter030.csv, Kickstarter031.csv, Kickstarter032.csv, Kickstarter033.csv, \n",
      "\n",
      ">>> DIRECTORY: Kickstarter_2016-04-15T02_09_04_328Z\n",
      "Kickstarter.csv, Kickstarter001.csv, Kickstarter002.csv, Kickstarter003.csv, Kickstarter004.csv, Kickstarter005.csv, Kickstarter006.csv, Kickstarter007.csv, Kickstarter008.csv, Kickstarter009.csv, Kickstarter010.csv, Kickstarter011.csv, Kickstarter012.csv, Kickstarter013.csv, Kickstarter014.csv, Kickstarter015.csv, Kickstarter016.csv, Kickstarter017.csv, Kickstarter018.csv, Kickstarter019.csv, Kickstarter020.csv, Kickstarter021.csv, Kickstarter022.csv, Kickstarter023.csv, Kickstarter024.csv, Kickstarter025.csv, Kickstarter026.csv, Kickstarter027.csv, Kickstarter028.csv, Kickstarter029.csv, Kickstarter030.csv, Kickstarter031.csv, Kickstarter032.csv, Kickstarter033.csv, Kickstarter034.csv, \n",
      "\n",
      ">>> DIRECTORY: Kickstarter_2016-05-15T02_04_46_813Z\n",
      "Kickstarter.csv, Kickstarter001.csv, Kickstarter002.csv, Kickstarter003.csv, Kickstarter004.csv, Kickstarter005.csv, Kickstarter006.csv, Kickstarter007.csv, Kickstarter008.csv, Kickstarter009.csv, Kickstarter010.csv, Kickstarter011.csv, Kickstarter012.csv, Kickstarter013.csv, Kickstarter014.csv, Kickstarter015.csv, Kickstarter016.csv, Kickstarter017.csv, Kickstarter018.csv, Kickstarter019.csv, Kickstarter020.csv, Kickstarter021.csv, Kickstarter022.csv, Kickstarter023.csv, Kickstarter024.csv, Kickstarter025.csv, Kickstarter026.csv, Kickstarter027.csv, Kickstarter028.csv, Kickstarter029.csv, Kickstarter030.csv, Kickstarter031.csv, Kickstarter032.csv, \n",
      "\n",
      ">>> DIRECTORY: Kickstarter_2016-06-15T02_04_49_697Z\n",
      "Kickstarter.csv, Kickstarter001.csv, Kickstarter002.csv, Kickstarter003.csv, Kickstarter004.csv, Kickstarter005.csv, Kickstarter006.csv, Kickstarter007.csv, Kickstarter008.csv, Kickstarter009.csv, Kickstarter010.csv, Kickstarter011.csv, Kickstarter012.csv, Kickstarter013.csv, Kickstarter014.csv, Kickstarter015.csv, Kickstarter016.csv, Kickstarter017.csv, Kickstarter018.csv, Kickstarter019.csv, Kickstarter020.csv, Kickstarter021.csv, Kickstarter022.csv, Kickstarter023.csv, Kickstarter024.csv, Kickstarter025.csv, Kickstarter026.csv, Kickstarter027.csv, Kickstarter028.csv, Kickstarter029.csv, Kickstarter030.csv, Kickstarter031.csv, Kickstarter032.csv, Kickstarter033.csv, Kickstarter034.csv, Kickstarter035.csv, Kickstarter036.csv, Kickstarter037.csv, Kickstarter038.csv, \n",
      "\n",
      ">>> DIRECTORY: Kickstarter_2016-07-15T02_04_40_862Z\n",
      "Kickstarter.csv, Kickstarter001.csv, Kickstarter002.csv, Kickstarter003.csv, Kickstarter004.csv, Kickstarter005.csv, Kickstarter006.csv, Kickstarter007.csv, Kickstarter008.csv, Kickstarter009.csv, Kickstarter010.csv, Kickstarter011.csv, Kickstarter012.csv, Kickstarter013.csv, Kickstarter014.csv, Kickstarter015.csv, Kickstarter016.csv, Kickstarter017.csv, Kickstarter018.csv, Kickstarter019.csv, Kickstarter020.csv, Kickstarter021.csv, Kickstarter022.csv, Kickstarter023.csv, Kickstarter024.csv, Kickstarter025.csv, Kickstarter026.csv, Kickstarter027.csv, Kickstarter028.csv, Kickstarter029.csv, Kickstarter030.csv, Kickstarter031.csv, Kickstarter032.csv, Kickstarter033.csv, Kickstarter034.csv, Kickstarter035.csv, Kickstarter036.csv, Kickstarter037.csv, Kickstarter038.csv, \n",
      "\n",
      ">>> DIRECTORY: Kickstarter_2016-08-15T02_04_03_829Z\n",
      "Kickstarter.csv, Kickstarter001.csv, Kickstarter002.csv, Kickstarter003.csv, Kickstarter004.csv, Kickstarter005.csv, Kickstarter006.csv, Kickstarter007.csv, Kickstarter008.csv, Kickstarter009.csv, Kickstarter010.csv, Kickstarter011.csv, Kickstarter012.csv, Kickstarter013.csv, Kickstarter014.csv, Kickstarter015.csv, Kickstarter016.csv, Kickstarter017.csv, Kickstarter018.csv, Kickstarter019.csv, Kickstarter020.csv, Kickstarter021.csv, Kickstarter022.csv, Kickstarter023.csv, Kickstarter024.csv, Kickstarter025.csv, Kickstarter026.csv, Kickstarter027.csv, Kickstarter028.csv, Kickstarter029.csv, Kickstarter030.csv, Kickstarter031.csv, Kickstarter032.csv, Kickstarter033.csv, Kickstarter034.csv, Kickstarter035.csv, Kickstarter036.csv, Kickstarter037.csv, Kickstarter038.csv, Kickstarter039.csv, \n",
      "\n",
      ">>> DIRECTORY: Kickstarter_2016-09-15T02_04_03_474Z\n",
      "Kickstarter.csv, Kickstarter001.csv, Kickstarter002.csv, Kickstarter003.csv, Kickstarter004.csv, Kickstarter005.csv, Kickstarter006.csv, Kickstarter007.csv, Kickstarter008.csv, Kickstarter009.csv, Kickstarter010.csv, Kickstarter011.csv, Kickstarter012.csv, Kickstarter013.csv, Kickstarter014.csv, Kickstarter015.csv, Kickstarter016.csv, Kickstarter017.csv, Kickstarter018.csv, Kickstarter019.csv, Kickstarter020.csv, Kickstarter021.csv, Kickstarter022.csv, Kickstarter023.csv, Kickstarter024.csv, Kickstarter025.csv, Kickstarter026.csv, Kickstarter027.csv, Kickstarter028.csv, Kickstarter029.csv, Kickstarter030.csv, Kickstarter031.csv, Kickstarter032.csv, Kickstarter033.csv, Kickstarter034.csv, Kickstarter035.csv, Kickstarter036.csv, Kickstarter037.csv, Kickstarter038.csv, Kickstarter039.csv, \n",
      "\n",
      ">>> DIRECTORY: Kickstarter_2016-10-15T02_04_11_689Z\n",
      "Kickstarter.csv, Kickstarter001.csv, Kickstarter002.csv, Kickstarter003.csv, Kickstarter004.csv, Kickstarter005.csv, Kickstarter006.csv, Kickstarter007.csv, Kickstarter008.csv, Kickstarter009.csv, Kickstarter010.csv, Kickstarter011.csv, Kickstarter012.csv, Kickstarter013.csv, Kickstarter014.csv, Kickstarter015.csv, Kickstarter016.csv, Kickstarter017.csv, Kickstarter018.csv, Kickstarter019.csv, Kickstarter020.csv, Kickstarter021.csv, Kickstarter022.csv, Kickstarter023.csv, Kickstarter024.csv, Kickstarter025.csv, Kickstarter026.csv, Kickstarter027.csv, Kickstarter028.csv, Kickstarter029.csv, Kickstarter030.csv, Kickstarter031.csv, Kickstarter032.csv, Kickstarter033.csv, Kickstarter034.csv, Kickstarter035.csv, Kickstarter036.csv, Kickstarter037.csv, Kickstarter038.csv, Kickstarter039.csv, Kickstarter040.csv, \n",
      "\n",
      ">>> DIRECTORY: Kickstarter_2016-11-12T22_20_03_295Z\n",
      "Kickstarter.csv, Kickstarter001.csv, Kickstarter002.csv, Kickstarter003.csv, Kickstarter004.csv, Kickstarter005.csv, Kickstarter006.csv, Kickstarter007.csv, Kickstarter008.csv, Kickstarter009.csv, Kickstarter010.csv, Kickstarter011.csv, Kickstarter012.csv, Kickstarter013.csv, Kickstarter014.csv, Kickstarter015.csv, Kickstarter016.csv, Kickstarter017.csv, Kickstarter018.csv, Kickstarter019.csv, Kickstarter020.csv, Kickstarter021.csv, Kickstarter022.csv, Kickstarter023.csv, Kickstarter024.csv, Kickstarter025.csv, Kickstarter026.csv, Kickstarter027.csv, Kickstarter028.csv, Kickstarter029.csv, Kickstarter030.csv, Kickstarter031.csv, Kickstarter032.csv, Kickstarter033.csv, Kickstarter034.csv, Kickstarter035.csv, Kickstarter036.csv, Kickstarter037.csv, Kickstarter038.csv, Kickstarter039.csv, Kickstarter040.csv, \n",
      "\n",
      ">>> DIRECTORY: Kickstarter_2016-12-15T22_20_52_411Z\n",
      "Kickstarter.csv, Kickstarter001.csv, Kickstarter002.csv, Kickstarter003.csv, Kickstarter004.csv, Kickstarter005.csv, Kickstarter006.csv, Kickstarter007.csv, Kickstarter008.csv, Kickstarter009.csv, Kickstarter010.csv, Kickstarter011.csv, Kickstarter012.csv, Kickstarter013.csv, Kickstarter014.csv, Kickstarter015.csv, Kickstarter016.csv, Kickstarter017.csv, Kickstarter018.csv, Kickstarter019.csv, Kickstarter020.csv, Kickstarter021.csv, Kickstarter022.csv, Kickstarter023.csv, Kickstarter024.csv, Kickstarter025.csv, Kickstarter026.csv, Kickstarter027.csv, Kickstarter028.csv, Kickstarter029.csv, Kickstarter030.csv, Kickstarter031.csv, Kickstarter032.csv, Kickstarter033.csv, Kickstarter034.csv, Kickstarter035.csv, Kickstarter036.csv, Kickstarter037.csv, Kickstarter038.csv, Kickstarter039.csv, Kickstarter040.csv, Kickstarter041.csv, \n",
      "\n",
      ">>> DIRECTORY: Kickstarter_2017-01-15T22_21_04_985Z\n",
      "Kickstarter.csv, Kickstarter001.csv, Kickstarter002.csv, Kickstarter003.csv, Kickstarter004.csv, Kickstarter005.csv, Kickstarter006.csv, Kickstarter007.csv, Kickstarter008.csv, Kickstarter009.csv, Kickstarter010.csv, Kickstarter011.csv, Kickstarter012.csv, Kickstarter013.csv, Kickstarter014.csv, Kickstarter015.csv, Kickstarter016.csv, Kickstarter017.csv, Kickstarter018.csv, Kickstarter019.csv, Kickstarter020.csv, Kickstarter021.csv, Kickstarter022.csv, Kickstarter023.csv, Kickstarter024.csv, Kickstarter025.csv, Kickstarter026.csv, Kickstarter027.csv, Kickstarter028.csv, Kickstarter029.csv, Kickstarter030.csv, Kickstarter031.csv, Kickstarter032.csv, Kickstarter033.csv, Kickstarter034.csv, Kickstarter035.csv, Kickstarter036.csv, Kickstarter037.csv, Kickstarter038.csv, Kickstarter039.csv, Kickstarter040.csv, Kickstarter041.csv, \n",
      "\n",
      ">>> DIRECTORY: Kickstarter_2017-02-15T22_22_48_377Z\n",
      "Kickstarter.csv, Kickstarter001.csv, Kickstarter002.csv, Kickstarter003.csv, Kickstarter004.csv, Kickstarter005.csv, Kickstarter006.csv, Kickstarter007.csv, Kickstarter008.csv, Kickstarter009.csv, Kickstarter010.csv, Kickstarter011.csv, Kickstarter012.csv, Kickstarter013.csv, Kickstarter014.csv, Kickstarter015.csv, Kickstarter016.csv, Kickstarter017.csv, Kickstarter018.csv, Kickstarter019.csv, Kickstarter020.csv, Kickstarter021.csv, Kickstarter022.csv, Kickstarter023.csv, Kickstarter024.csv, Kickstarter025.csv, Kickstarter026.csv, Kickstarter027.csv, Kickstarter028.csv, Kickstarter029.csv, Kickstarter030.csv, Kickstarter031.csv, Kickstarter032.csv, Kickstarter033.csv, Kickstarter034.csv, Kickstarter035.csv, Kickstarter036.csv, Kickstarter037.csv, Kickstarter038.csv, Kickstarter039.csv, Kickstarter040.csv, Kickstarter041.csv, Kickstarter042.csv, \n",
      "\n",
      ">>> DIRECTORY: Kickstarter_2017-03-15T22_20_55_874Z\n",
      "Kickstarter.csv, Kickstarter001.csv, Kickstarter002.csv, Kickstarter003.csv, Kickstarter004.csv, Kickstarter005.csv, Kickstarter006.csv, Kickstarter007.csv, Kickstarter008.csv, Kickstarter009.csv, Kickstarter010.csv, Kickstarter011.csv, Kickstarter012.csv, Kickstarter013.csv, Kickstarter014.csv, Kickstarter015.csv, Kickstarter016.csv, Kickstarter017.csv, Kickstarter018.csv, Kickstarter019.csv, Kickstarter020.csv, Kickstarter021.csv, Kickstarter022.csv, Kickstarter023.csv, Kickstarter024.csv, Kickstarter025.csv, Kickstarter026.csv, Kickstarter027.csv, Kickstarter028.csv, Kickstarter029.csv, Kickstarter030.csv, Kickstarter031.csv, Kickstarter032.csv, Kickstarter033.csv, Kickstarter034.csv, Kickstarter035.csv, Kickstarter036.csv, Kickstarter037.csv, Kickstarter038.csv, Kickstarter039.csv, Kickstarter040.csv, Kickstarter041.csv, Kickstarter042.csv, Kickstarter043.csv, \n",
      "\n",
      ">>> DIRECTORY: Kickstarter_2017-04-15T22_21_18_122Z\n",
      "Kickstarter.csv, Kickstarter001.csv, Kickstarter002.csv, Kickstarter003.csv, Kickstarter004.csv, Kickstarter005.csv, Kickstarter006.csv, Kickstarter007.csv, Kickstarter008.csv, Kickstarter009.csv, Kickstarter010.csv, Kickstarter011.csv, Kickstarter012.csv, Kickstarter013.csv, Kickstarter014.csv, Kickstarter015.csv, Kickstarter016.csv, Kickstarter017.csv, Kickstarter018.csv, Kickstarter019.csv, Kickstarter020.csv, Kickstarter021.csv, Kickstarter022.csv, Kickstarter023.csv, Kickstarter024.csv, Kickstarter025.csv, Kickstarter026.csv, Kickstarter027.csv, Kickstarter028.csv, Kickstarter029.csv, Kickstarter030.csv, Kickstarter031.csv, Kickstarter032.csv, Kickstarter033.csv, Kickstarter034.csv, Kickstarter035.csv, Kickstarter036.csv, Kickstarter037.csv, Kickstarter038.csv, Kickstarter039.csv, Kickstarter040.csv, Kickstarter041.csv, Kickstarter042.csv, Kickstarter043.csv, \n",
      "\n",
      ">>> DIRECTORY: Kickstarter_2017-05-15T22_21_11_300Z\n",
      "Kickstarter.csv, Kickstarter001.csv, Kickstarter002.csv, Kickstarter003.csv, Kickstarter004.csv, Kickstarter005.csv, Kickstarter006.csv, Kickstarter007.csv, Kickstarter008.csv, Kickstarter009.csv, Kickstarter010.csv, Kickstarter011.csv, Kickstarter012.csv, Kickstarter013.csv, Kickstarter014.csv, Kickstarter015.csv, Kickstarter016.csv, Kickstarter017.csv, Kickstarter018.csv, Kickstarter019.csv, Kickstarter020.csv, Kickstarter021.csv, Kickstarter022.csv, Kickstarter023.csv, Kickstarter024.csv, Kickstarter025.csv, Kickstarter026.csv, Kickstarter027.csv, Kickstarter028.csv, Kickstarter029.csv, Kickstarter030.csv, Kickstarter031.csv, Kickstarter032.csv, Kickstarter033.csv, Kickstarter034.csv, Kickstarter035.csv, Kickstarter036.csv, Kickstarter037.csv, Kickstarter038.csv, Kickstarter039.csv, Kickstarter040.csv, Kickstarter041.csv, Kickstarter042.csv, Kickstarter043.csv, Kickstarter044.csv, \n",
      "\n",
      ">>> DIRECTORY: Kickstarter_2017-06-15T22_20_03_059Z\n",
      "Kickstarter.csv, Kickstarter001.csv, Kickstarter002.csv, Kickstarter003.csv, Kickstarter004.csv, Kickstarter005.csv, Kickstarter006.csv, Kickstarter007.csv, Kickstarter008.csv, Kickstarter009.csv, Kickstarter010.csv, Kickstarter011.csv, Kickstarter012.csv, Kickstarter013.csv, Kickstarter014.csv, Kickstarter015.csv, Kickstarter016.csv, Kickstarter017.csv, Kickstarter018.csv, Kickstarter019.csv, Kickstarter020.csv, Kickstarter021.csv, Kickstarter022.csv, Kickstarter023.csv, Kickstarter024.csv, Kickstarter025.csv, Kickstarter026.csv, Kickstarter027.csv, Kickstarter028.csv, Kickstarter029.csv, Kickstarter030.csv, Kickstarter031.csv, Kickstarter032.csv, Kickstarter033.csv, Kickstarter034.csv, Kickstarter035.csv, Kickstarter036.csv, Kickstarter037.csv, Kickstarter038.csv, Kickstarter039.csv, Kickstarter040.csv, Kickstarter041.csv, Kickstarter042.csv, Kickstarter043.csv, Kickstarter044.csv, Kickstarter045.csv, Kickstarter046.csv, Kickstarter047.csv, \n",
      "\n",
      ">>> DIRECTORY: Kickstarter_2017-07-15T22_20_48_951Z\n"
     ]
    },
    {
     "name": "stdout",
     "output_type": "stream",
     "text": [
      "Kickstarter.csv, Kickstarter001.csv, Kickstarter002.csv, Kickstarter003.csv, Kickstarter004.csv, Kickstarter005.csv, Kickstarter006.csv, Kickstarter007.csv, Kickstarter008.csv, Kickstarter009.csv, Kickstarter010.csv, Kickstarter011.csv, Kickstarter012.csv, Kickstarter013.csv, Kickstarter014.csv, Kickstarter015.csv, Kickstarter016.csv, Kickstarter017.csv, Kickstarter018.csv, Kickstarter019.csv, Kickstarter020.csv, Kickstarter021.csv, Kickstarter022.csv, Kickstarter023.csv, Kickstarter024.csv, Kickstarter025.csv, Kickstarter026.csv, Kickstarter027.csv, Kickstarter028.csv, Kickstarter029.csv, Kickstarter030.csv, Kickstarter031.csv, Kickstarter032.csv, Kickstarter033.csv, Kickstarter034.csv, Kickstarter035.csv, Kickstarter036.csv, Kickstarter037.csv, Kickstarter038.csv, Kickstarter039.csv, Kickstarter040.csv, Kickstarter041.csv, Kickstarter042.csv, Kickstarter043.csv, Kickstarter044.csv, Kickstarter045.csv, Kickstarter046.csv, Kickstarter047.csv, \n",
      "\n",
      ">>> DIRECTORY: Kickstarter_2017-08-15T22_20_51_958Z\n",
      "Kickstarter.csv, Kickstarter001.csv, Kickstarter002.csv, Kickstarter003.csv, Kickstarter004.csv, Kickstarter005.csv, Kickstarter006.csv, Kickstarter007.csv, Kickstarter008.csv, Kickstarter009.csv, Kickstarter010.csv, Kickstarter011.csv, Kickstarter012.csv, Kickstarter013.csv, Kickstarter014.csv, Kickstarter015.csv, Kickstarter016.csv, Kickstarter017.csv, Kickstarter018.csv, Kickstarter019.csv, Kickstarter020.csv, Kickstarter021.csv, Kickstarter022.csv, Kickstarter023.csv, Kickstarter024.csv, Kickstarter025.csv, Kickstarter026.csv, Kickstarter027.csv, Kickstarter028.csv, Kickstarter029.csv, Kickstarter030.csv, Kickstarter031.csv, Kickstarter032.csv, Kickstarter033.csv, Kickstarter034.csv, Kickstarter035.csv, Kickstarter036.csv, Kickstarter037.csv, Kickstarter038.csv, Kickstarter039.csv, Kickstarter040.csv, Kickstarter041.csv, \n",
      "\n",
      ">>> DIRECTORY: Kickstarter_2017-09-15T22_20_48_432Z\n",
      "Kickstarter.csv, Kickstarter001.csv, Kickstarter002.csv, Kickstarter003.csv, Kickstarter004.csv, Kickstarter005.csv, Kickstarter006.csv, Kickstarter007.csv, Kickstarter008.csv, Kickstarter009.csv, Kickstarter010.csv, Kickstarter011.csv, Kickstarter012.csv, Kickstarter013.csv, Kickstarter014.csv, Kickstarter015.csv, Kickstarter016.csv, Kickstarter017.csv, Kickstarter018.csv, Kickstarter019.csv, Kickstarter020.csv, Kickstarter021.csv, Kickstarter022.csv, Kickstarter023.csv, Kickstarter024.csv, Kickstarter025.csv, Kickstarter026.csv, Kickstarter027.csv, Kickstarter028.csv, Kickstarter029.csv, Kickstarter030.csv, Kickstarter031.csv, Kickstarter032.csv, Kickstarter033.csv, Kickstarter034.csv, Kickstarter035.csv, Kickstarter036.csv, Kickstarter037.csv, Kickstarter038.csv, \n",
      "\n",
      ">>> DIRECTORY: Kickstarter_2017-10-15T10_20_38_271Z\n",
      "Kickstarter.csv, Kickstarter001.csv, Kickstarter002.csv, Kickstarter003.csv, Kickstarter004.csv, Kickstarter005.csv, Kickstarter006.csv, Kickstarter007.csv, Kickstarter008.csv, Kickstarter009.csv, Kickstarter010.csv, Kickstarter011.csv, Kickstarter012.csv, Kickstarter013.csv, Kickstarter014.csv, Kickstarter015.csv, Kickstarter016.csv, Kickstarter017.csv, Kickstarter018.csv, Kickstarter019.csv, Kickstarter020.csv, Kickstarter021.csv, Kickstarter022.csv, Kickstarter023.csv, Kickstarter024.csv, Kickstarter025.csv, Kickstarter026.csv, Kickstarter027.csv, Kickstarter028.csv, Kickstarter029.csv, Kickstarter030.csv, Kickstarter031.csv, Kickstarter032.csv, Kickstarter033.csv, Kickstarter034.csv, Kickstarter035.csv, Kickstarter036.csv, Kickstarter037.csv, Kickstarter038.csv, Kickstarter039.csv, \n",
      "\n",
      "Total: 896 csv files in 23 directories\n"
     ]
    }
   ],
   "source": [
    "# for each directory containing csv files\n",
    "for dir in dir_list:\n",
    "    print('\\n\\n>>> DIRECTORY: '+dir)\n",
    "    csv_list = os.listdir(path+dir)\n",
    "    csv_count += len(csv_list)\n",
    "    \n",
    "    # read every csv\n",
    "    for csv in csv_list:\n",
    "        print(csv, end=', ')\n",
    "        data = pd.read_csv(path+dir+'\\\\'+csv)\n",
    "        if (dir == 'Kickstarter_2015-11-01T14_09_04_557Z'):\n",
    "            data['scraped_at'] = 1446386944 # 11/01/2015 @ 2:09pm (UTC)\n",
    "        else:\n",
    "            data['scraped_at'] = os.path.getmtime(path+dir+'\\\\'+csv)\n",
    "            \n",
    "        # fetch data about live projects\n",
    "        df_live = df_live.append(data[data['state']=='live'], ignore_index=True)\n",
    "        \n",
    "        # fetch data about projects marked 'live' in previous periods after their end in following periods\n",
    "        df_live_after_end = df_live_after_end.append(data[data['state']!='live'], ignore_index=True)\n",
    "        df_live_after_end = df_live_after_end[df_live_after_end['id'].isin(df_live['id'])]\n",
    "        \n",
    "        # we only need the first state after the end of a project\n",
    "        # so remove all rows that capture chronologically later state of a project\n",
    "        df_live_after_end.drop_duplicates(subset='id', inplace=True)\n",
    "        \n",
    "print('\\n\\nTotal: ' + str(csv_count) + ' csv files in ' + str(len(dir_list)) + ' directories')"
   ]
  },
  {
   "cell_type": "code",
   "execution_count": 6,
   "metadata": {},
   "outputs": [
    {
     "name": "stdout",
     "output_type": "stream",
     "text": [
      "<class 'pandas.core.frame.DataFrame'>\n",
      "RangeIndex: 88384 entries, 0 to 88383\n",
      "Data columns (total 40 columns):\n",
      "backers_count               88384 non-null int64\n",
      "blurb                       88384 non-null object\n",
      "category                    88384 non-null object\n",
      "converted_pledged_amount    3591 non-null float64\n",
      "country                     88384 non-null object\n",
      "created_at                  88384 non-null int64\n",
      "creator                     88384 non-null object\n",
      "currency                    88384 non-null object\n",
      "currency_symbol             88384 non-null object\n",
      "currency_trailing_code      88384 non-null bool\n",
      "current_currency            3591 non-null object\n",
      "deadline                    88384 non-null int64\n",
      "disable_communication       88384 non-null bool\n",
      "friends                     1719 non-null object\n",
      "goal                        88384 non-null float64\n",
      "id                          88384 non-null int64\n",
      "is_backing                  1719 non-null object\n",
      "is_starrable                10652 non-null object\n",
      "is_starred                  1719 non-null object\n",
      "last_update_published_at    1 non-null float64\n",
      "launched_at                 88384 non-null int64\n",
      "location                    88384 non-null object\n",
      "name                        88384 non-null object\n",
      "permissions                 1719 non-null object\n",
      "photo                       88384 non-null object\n",
      "pledged                     88384 non-null float64\n",
      "profile                     88384 non-null object\n",
      "scraped_at                  88384 non-null float64\n",
      "slug                        88384 non-null object\n",
      "source_url                  88384 non-null object\n",
      "spotlight                   88384 non-null bool\n",
      "staff_pick                  78419 non-null object\n",
      "state                       88384 non-null object\n",
      "state_changed_at            88384 non-null int64\n",
      "static_usd_rate             88384 non-null float64\n",
      "unread_messages_count       1 non-null float64\n",
      "unseen_activity_count       1 non-null float64\n",
      "urls                        88384 non-null object\n",
      "usd_pledged                 88384 non-null float64\n",
      "usd_type                    3591 non-null object\n",
      "dtypes: bool(3), float64(9), int64(6), object(22)\n",
      "memory usage: 25.2+ MB\n"
     ]
    }
   ],
   "source": [
    "df_live.info()"
   ]
  },
  {
   "cell_type": "code",
   "execution_count": 7,
   "metadata": {
    "scrolled": false
   },
   "outputs": [
    {
     "name": "stdout",
     "output_type": "stream",
     "text": [
      "<class 'pandas.core.frame.DataFrame'>\n",
      "Int64Index: 56874 entries, 0 to 56873\n",
      "Data columns (total 40 columns):\n",
      "backers_count               56874 non-null int64\n",
      "blurb                       56872 non-null object\n",
      "category                    56874 non-null object\n",
      "converted_pledged_amount    1464 non-null float64\n",
      "country                     56874 non-null object\n",
      "created_at                  56874 non-null int64\n",
      "creator                     56874 non-null object\n",
      "currency                    56874 non-null object\n",
      "currency_symbol             56874 non-null object\n",
      "currency_trailing_code      56874 non-null bool\n",
      "current_currency            1464 non-null object\n",
      "deadline                    56874 non-null int64\n",
      "disable_communication       56874 non-null bool\n",
      "friends                     3 non-null object\n",
      "goal                        56874 non-null float64\n",
      "id                          56874 non-null int64\n",
      "is_backing                  3 non-null object\n",
      "is_starrable                4699 non-null object\n",
      "is_starred                  3 non-null object\n",
      "last_update_published_at    0 non-null float64\n",
      "launched_at                 56874 non-null int64\n",
      "location                    56874 non-null object\n",
      "name                        56874 non-null object\n",
      "permissions                 3 non-null object\n",
      "photo                       56874 non-null object\n",
      "pledged                     56874 non-null float64\n",
      "profile                     56874 non-null object\n",
      "scraped_at                  56874 non-null float64\n",
      "slug                        56874 non-null object\n",
      "source_url                  56874 non-null object\n",
      "spotlight                   56874 non-null bool\n",
      "staff_pick                  53187 non-null object\n",
      "state                       56874 non-null object\n",
      "state_changed_at            56874 non-null int64\n",
      "static_usd_rate             56874 non-null float64\n",
      "unread_messages_count       0 non-null float64\n",
      "unseen_activity_count       0 non-null float64\n",
      "urls                        56874 non-null object\n",
      "usd_pledged                 56874 non-null float64\n",
      "usd_type                    1464 non-null object\n",
      "dtypes: bool(3), float64(9), int64(6), object(22)\n",
      "memory usage: 16.7+ MB\n"
     ]
    }
   ],
   "source": [
    "df_live_after_end.info()"
   ]
  },
  {
   "cell_type": "markdown",
   "metadata": {},
   "source": [
    "## Adding chosen data from json columns to new columns\n",
    "\n",
    "During the [exploration](https://github.com/blanarik/kickstarter_success_prediction/blob/master/01_Kickstarter_exploring_data_from_webrobots.io.ipynb) of dataset we have found out that some json columns may contain interesting information. We will add this information into new columns. Remaining information is already in other columns or is not relevant for analysis (e.g. urls).\n",
    "\n",
    "* from creator:\n",
    "    * creator_name\n",
    "* from location:\n",
    "    * location_is_root\n",
    "    * location_name\n",
    "    * location_state\n",
    "    * location_type\n",
    "* from category:\n",
    "    * category_name\n",
    "    * category_position\n",
    "    * category_parent"
   ]
  },
  {
   "cell_type": "code",
   "execution_count": 14,
   "metadata": {
    "collapsed": true
   },
   "outputs": [],
   "source": [
    "def add_new_columns(df):\n",
    "    df['creator_name'] = df.apply(lambda x: json.loads(x['creator'])['name'], axis=1)\n",
    "    \n",
    "    df['location_is_root'] = df.apply(lambda x: json.loads(x['location'])['is_root'], axis=1)\n",
    "    df['location_name'] = df.apply(lambda x: json.loads(x['location'])['name'], axis=1)\n",
    "    df['location_state'] = df.apply(lambda x: json.loads(x['location'])['state'], axis=1)\n",
    "    df['location_type'] = df.apply(lambda x: json.loads(x['location'])['type'], axis=1)\n",
    "    \n",
    "    df['category_name'] = df.apply(lambda x: json.loads(x['category'])['name'], axis=1)\n",
    "    df['category_position'] = df.apply(lambda x: json.loads(x['category'])['position'], axis=1)\n",
    "    df['category_parent'] = df.apply(lambda x: json.loads(x['category'])['slug'].split('/')[0], axis=1)"
   ]
  },
  {
   "cell_type": "code",
   "execution_count": 28,
   "metadata": {
    "collapsed": true
   },
   "outputs": [],
   "source": [
    "add_new_columns(df_live)\n",
    "add_new_columns(df_live_after_end)"
   ]
  },
  {
   "cell_type": "code",
   "execution_count": 27,
   "metadata": {},
   "outputs": [
    {
     "data": {
      "text/plain": [
       "games           11475\n",
       "technology      11446\n",
       "film & video    11018\n",
       "design          10460\n",
       "publishing       9119\n",
       "music            7517\n",
       "fashion          6959\n",
       "food             5403\n",
       "art              4752\n",
       "comics           3148\n",
       "photography      1867\n",
       "crafts           1702\n",
       "theater          1624\n",
       "journalism       1290\n",
       "dance             604\n",
       "Name: category_parent, dtype: int64"
      ]
     },
     "execution_count": 27,
     "metadata": {},
     "output_type": "execute_result"
    }
   ],
   "source": [
    "df_live['category_parent'].value_counts()"
   ]
  },
  {
   "cell_type": "code",
   "execution_count": 29,
   "metadata": {},
   "outputs": [
    {
     "data": {
      "text/plain": [
       "Town             52762\n",
       "County            1994\n",
       "Suburb            1479\n",
       "LocalAdmin         401\n",
       "Zip                154\n",
       "Island              72\n",
       "Miscellaneous        6\n",
       "Estate               3\n",
       "Country              3\n",
       "Name: location_type, dtype: int64"
      ]
     },
     "execution_count": 29,
     "metadata": {},
     "output_type": "execute_result"
    }
   ],
   "source": [
    "df_live_after_end['location_type'].value_counts()"
   ]
  },
  {
   "cell_type": "code",
   "execution_count": 30,
   "metadata": {
    "collapsed": true
   },
   "outputs": [],
   "source": [
    "# save datasets\n",
    "df_live.to_csv('live.csv')\n",
    "df_live_after_end.to_csv('ended.csv')"
   ]
  },
  {
   "cell_type": "code",
   "execution_count": null,
   "metadata": {
    "collapsed": true
   },
   "outputs": [],
   "source": []
  },
  {
   "cell_type": "code",
   "execution_count": null,
   "metadata": {
    "collapsed": true
   },
   "outputs": [],
   "source": []
  },
  {
   "cell_type": "markdown",
   "metadata": {
    "collapsed": true
   },
   "source": [
    "# Merging live projects with ended projects"
   ]
  },
  {
   "cell_type": "code",
   "execution_count": 1,
   "metadata": {
    "collapsed": true
   },
   "outputs": [],
   "source": [
    "%matplotlib inline\n",
    "import pandas as pd\n",
    "import matplotlib.pyplot as plt"
   ]
  },
  {
   "cell_type": "code",
   "execution_count": 2,
   "metadata": {},
   "outputs": [
    {
     "name": "stderr",
     "output_type": "stream",
     "text": [
      "C:\\Users\\Patrik\\Anaconda3\\lib\\site-packages\\IPython\\core\\interactiveshell.py:2717: DtypeWarning: Columns (11,14,17,18,19,24,32,40) have mixed types. Specify dtype option on import or set low_memory=False.\n",
      "  interactivity=interactivity, compiler=compiler, result=result)\n"
     ]
    }
   ],
   "source": [
    "df_live = pd.read_csv('live.csv', encoding='cp1252', index_col=0)\n",
    "df_ended = pd.read_csv('ended.csv', encoding='cp1252', index_col=0)"
   ]
  },
  {
   "cell_type": "code",
   "execution_count": 3,
   "metadata": {
    "collapsed": true
   },
   "outputs": [],
   "source": [
    "# rename columns in df_ended\n",
    "df_ended.rename(columns=lambda name: name+'_end', inplace=True)"
   ]
  },
  {
   "cell_type": "code",
   "execution_count": 4,
   "metadata": {},
   "outputs": [
    {
     "name": "stdout",
     "output_type": "stream",
     "text": [
      "<class 'pandas.core.frame.DataFrame'>\n",
      "Int64Index: 65038 entries, 0 to 65037\n",
      "Data columns (total 96 columns):\n",
      "backers_count                   65038 non-null int64\n",
      "backers_count_end               65038 non-null int64\n",
      "blurb                           65038 non-null object\n",
      "blurb_end                       65036 non-null object\n",
      "category                        65038 non-null object\n",
      "category_end                    65038 non-null object\n",
      "category_name                   65038 non-null object\n",
      "category_name_end               65038 non-null object\n",
      "category_parent                 65038 non-null object\n",
      "category_parent_end             65038 non-null object\n",
      "category_position               65038 non-null int64\n",
      "category_position_end           65038 non-null int64\n",
      "converted_pledged_amount        0 non-null float64\n",
      "converted_pledged_amount_end    1701 non-null float64\n",
      "country                         65038 non-null object\n",
      "country_end                     65038 non-null object\n",
      "created_at                      65038 non-null int64\n",
      "created_at_end                  65038 non-null int64\n",
      "creator                         65038 non-null object\n",
      "creator_end                     65038 non-null object\n",
      "creator_name                    65037 non-null object\n",
      "creator_name_end                65037 non-null object\n",
      "currency                        65038 non-null object\n",
      "currency_end                    65038 non-null object\n",
      "currency_symbol                 65038 non-null object\n",
      "currency_symbol_end             65038 non-null object\n",
      "currency_trailing_code          65038 non-null bool\n",
      "currency_trailing_code_end      65038 non-null bool\n",
      "current_currency                0 non-null object\n",
      "current_currency_end            1701 non-null object\n",
      "deadline                        65038 non-null int64\n",
      "deadline_end                    65038 non-null int64\n",
      "disable_communication           65038 non-null bool\n",
      "disable_communication_end       65038 non-null bool\n",
      "friends                         904 non-null object\n",
      "friends_end                     4 non-null object\n",
      "goal                            65038 non-null float64\n",
      "goal_end                        65038 non-null float64\n",
      "id                              65038 non-null int64\n",
      "id_end                          65038 non-null int64\n",
      "is_backing                      904 non-null object\n",
      "is_backing_end                  4 non-null object\n",
      "is_starrable                    3169 non-null object\n",
      "is_starrable_end                5443 non-null object\n",
      "is_starred                      904 non-null object\n",
      "is_starred_end                  4 non-null object\n",
      "last_update_published_at        1 non-null float64\n",
      "last_update_published_at_end    0 non-null float64\n",
      "launched_at                     65038 non-null int64\n",
      "launched_at_end                 65038 non-null int64\n",
      "location                        65038 non-null object\n",
      "location_end                    65038 non-null object\n",
      "location_is_root                65038 non-null bool\n",
      "location_is_root_end            65038 non-null bool\n",
      "location_name                   65038 non-null object\n",
      "location_name_end               65038 non-null object\n",
      "location_state                  65021 non-null object\n",
      "location_state_end              65021 non-null object\n",
      "location_type                   65038 non-null object\n",
      "location_type_end               65038 non-null object\n",
      "name                            65038 non-null object\n",
      "name_end                        65038 non-null object\n",
      "permissions                     904 non-null object\n",
      "permissions_end                 4 non-null object\n",
      "photo                           65038 non-null object\n",
      "photo_end                       65038 non-null object\n",
      "pledged                         65038 non-null float64\n",
      "pledged_end                     65038 non-null float64\n",
      "profile                         65038 non-null object\n",
      "profile_end                     65038 non-null object\n",
      "scraped_at                      65038 non-null float64\n",
      "scraped_at_end                  65038 non-null float64\n",
      "slug                            65038 non-null object\n",
      "slug_end                        65038 non-null object\n",
      "source_url                      65038 non-null object\n",
      "source_url_end                  65038 non-null object\n",
      "spotlight                       65038 non-null bool\n",
      "spotlight_end                   65038 non-null bool\n",
      "staff_pick                      57503 non-null object\n",
      "staff_pick_end                  61349 non-null object\n",
      "state                           65038 non-null object\n",
      "state_changed_at                65038 non-null int64\n",
      "state_changed_at_end            65038 non-null int64\n",
      "state_end                       65038 non-null object\n",
      "static_usd_rate                 65038 non-null float64\n",
      "static_usd_rate_end             65038 non-null float64\n",
      "unread_messages_count           1 non-null float64\n",
      "unread_messages_count_end       0 non-null float64\n",
      "unseen_activity_count           1 non-null float64\n",
      "unseen_activity_count_end       0 non-null float64\n",
      "urls                            65038 non-null object\n",
      "urls_end                        65038 non-null object\n",
      "usd_pledged                     65038 non-null float64\n",
      "usd_pledged_end                 65038 non-null float64\n",
      "usd_type                        0 non-null object\n",
      "usd_type_end                    1701 non-null object\n",
      "dtypes: bool(8), float64(18), int64(14), object(56)\n",
      "memory usage: 44.7+ MB\n"
     ]
    }
   ],
   "source": [
    "# merge projects to single dataframe\n",
    "df_projects = df_live.merge(df_ended, left_on='id', right_on='id_end')\n",
    "df_projects.sort_index(axis=1, inplace=True)\n",
    "df_projects.info()"
   ]
  },
  {
   "cell_type": "markdown",
   "metadata": {
    "collapsed": true
   },
   "source": [
    "## Cleaning merged dataset"
   ]
  },
  {
   "cell_type": "code",
   "execution_count": 5,
   "metadata": {},
   "outputs": [
    {
     "name": "stdout",
     "output_type": "stream",
     "text": [
      "Following columns were dropped:\n",
      "['country_end', 'created_at_end', 'currency_end', 'currency_symbol_end', 'currency_trailing_code_end', 'goal_end', 'id_end', 'slug_end', 'location_is_root_end']\n"
     ]
    }
   ],
   "source": [
    "# drop duplicate columns\n",
    "cols_to_drop = []\n",
    "for col in df_live.columns:\n",
    "    try:\n",
    "        (df_projects[col] != df_projects[col+'_end']).value_counts()[True]\n",
    "    except KeyError:\n",
    "        cols_to_drop.append(col+'_end')\n",
    "print('Following columns were dropped:\\n' + str(cols_to_drop))\n",
    "df_projects.drop(cols_to_drop, axis=1, inplace=True)"
   ]
  },
  {
   "cell_type": "code",
   "execution_count": 6,
   "metadata": {
    "collapsed": true
   },
   "outputs": [],
   "source": [
    "# drop columns with less than 50% of values\n",
    "df_projects.dropna(axis=1, thresh=df_projects.shape[0]/2, inplace=True)"
   ]
  },
  {
   "cell_type": "code",
   "execution_count": 7,
   "metadata": {},
   "outputs": [
    {
     "name": "stdout",
     "output_type": "stream",
     "text": [
      "<class 'pandas.core.frame.DataFrame'>\n",
      "Int64Index: 65038 entries, 0 to 65037\n",
      "Data columns (total 65 columns):\n",
      "backers_count                65038 non-null int64\n",
      "backers_count_end            65038 non-null int64\n",
      "blurb                        65038 non-null object\n",
      "blurb_end                    65036 non-null object\n",
      "category                     65038 non-null object\n",
      "category_end                 65038 non-null object\n",
      "category_name                65038 non-null object\n",
      "category_name_end            65038 non-null object\n",
      "category_parent              65038 non-null object\n",
      "category_parent_end          65038 non-null object\n",
      "category_position            65038 non-null int64\n",
      "category_position_end        65038 non-null int64\n",
      "country                      65038 non-null object\n",
      "created_at                   65038 non-null int64\n",
      "creator                      65038 non-null object\n",
      "creator_end                  65038 non-null object\n",
      "creator_name                 65037 non-null object\n",
      "creator_name_end             65037 non-null object\n",
      "currency                     65038 non-null object\n",
      "currency_symbol              65038 non-null object\n",
      "currency_trailing_code       65038 non-null bool\n",
      "deadline                     65038 non-null int64\n",
      "deadline_end                 65038 non-null int64\n",
      "disable_communication        65038 non-null bool\n",
      "disable_communication_end    65038 non-null bool\n",
      "goal                         65038 non-null float64\n",
      "id                           65038 non-null int64\n",
      "launched_at                  65038 non-null int64\n",
      "launched_at_end              65038 non-null int64\n",
      "location                     65038 non-null object\n",
      "location_end                 65038 non-null object\n",
      "location_is_root             65038 non-null bool\n",
      "location_name                65038 non-null object\n",
      "location_name_end            65038 non-null object\n",
      "location_state               65021 non-null object\n",
      "location_state_end           65021 non-null object\n",
      "location_type                65038 non-null object\n",
      "location_type_end            65038 non-null object\n",
      "name                         65038 non-null object\n",
      "name_end                     65038 non-null object\n",
      "photo                        65038 non-null object\n",
      "photo_end                    65038 non-null object\n",
      "pledged                      65038 non-null float64\n",
      "pledged_end                  65038 non-null float64\n",
      "profile                      65038 non-null object\n",
      "profile_end                  65038 non-null object\n",
      "scraped_at                   65038 non-null float64\n",
      "scraped_at_end               65038 non-null float64\n",
      "slug                         65038 non-null object\n",
      "source_url                   65038 non-null object\n",
      "source_url_end               65038 non-null object\n",
      "spotlight                    65038 non-null bool\n",
      "spotlight_end                65038 non-null bool\n",
      "staff_pick                   57503 non-null object\n",
      "staff_pick_end               61349 non-null object\n",
      "state                        65038 non-null object\n",
      "state_changed_at             65038 non-null int64\n",
      "state_changed_at_end         65038 non-null int64\n",
      "state_end                    65038 non-null object\n",
      "static_usd_rate              65038 non-null float64\n",
      "static_usd_rate_end          65038 non-null float64\n",
      "urls                         65038 non-null object\n",
      "urls_end                     65038 non-null object\n",
      "usd_pledged                  65038 non-null float64\n",
      "usd_pledged_end              65038 non-null float64\n",
      "dtypes: bool(6), float64(9), int64(12), object(38)\n",
      "memory usage: 30.1+ MB\n"
     ]
    }
   ],
   "source": [
    "df_projects.info()"
   ]
  },
  {
   "cell_type": "markdown",
   "metadata": {
    "collapsed": true
   },
   "source": [
    "## Resolving inconsistency"
   ]
  },
  {
   "cell_type": "markdown",
   "metadata": {
    "collapsed": true
   },
   "source": [
    "#### launched_at"
   ]
  },
  {
   "cell_type": "code",
   "execution_count": 9,
   "metadata": {},
   "outputs": [
    {
     "data": {
      "text/plain": [
       "<matplotlib.axes._subplots.AxesSubplot at 0x25cc26e1080>"
      ]
     },
     "execution_count": 9,
     "metadata": {},
     "output_type": "execute_result"
    },
    {
     "data": {
      "image/png": "[encoded data removed]",
      "text/plain": [
       "<matplotlib.figure.Figure at 0x25cbe7180f0>"
      ]
     },
     "metadata": {},
     "output_type": "display_data"
    }
   ],
   "source": [
    "df_projects.plot(x='launched_at', y='launched_at_end', kind='scatter', figsize=(8,8))"
   ]
  },
  {
   "cell_type": "code",
   "execution_count": 10,
   "metadata": {},
   "outputs": [
    {
     "data": {
      "text/plain": [
       "False    65037\n",
       "True         1\n",
       "dtype: int64"
      ]
     },
     "execution_count": 10,
     "metadata": {},
     "output_type": "execute_result"
    }
   ],
   "source": [
    "# this should not contain True, but it does => inconsistency in dataset\n",
    "(df_projects['launched_at'] != df_projects['launched_at_end']).value_counts()"
   ]
  },
  {
   "cell_type": "code",
   "execution_count": 11,
   "metadata": {},
   "outputs": [
    {
     "data": {
      "text/html": [
       "<div>\n",
       "<style>\n",
       "    .dataframe thead tr:only-child th {\n",
       "        text-align: right;\n",
       "    }\n",
       "\n",
       "    .dataframe thead th {\n",
       "        text-align: left;\n",
       "    }\n",
       "\n",
       "    .dataframe tbody tr th {\n",
       "        vertical-align: top;\n",
       "    }\n",
       "</style>\n",
       "<table border=\"1\" class=\"dataframe\">\n",
       "  <thead>\n",
       "    <tr style=\"text-align: right;\">\n",
       "      <th></th>\n",
       "      <th>id</th>\n",
       "      <th>name</th>\n",
       "      <th>launched_at</th>\n",
       "      <th>launched_at_end</th>\n",
       "    </tr>\n",
       "  </thead>\n",
       "  <tbody>\n",
       "    <tr>\n",
       "      <th>9271</th>\n",
       "      <td>615482414</td>\n",
       "      <td>Instant Hydrator, Hydrates,All Natural, Digest...</td>\n",
       "      <td>1453784664</td>\n",
       "      <td>1454537838</td>\n",
       "    </tr>\n",
       "  </tbody>\n",
       "</table>\n",
       "</div>"
      ],
      "text/plain": [
       "             id                                               name  \\\n",
       "9271  615482414  Instant Hydrator, Hydrates,All Natural, Digest...   \n",
       "\n",
       "      launched_at  launched_at_end  \n",
       "9271   1453784664       1454537838  "
      ]
     },
     "execution_count": 11,
     "metadata": {},
     "output_type": "execute_result"
    }
   ],
   "source": [
    "# look at values\n",
    "df_projects[(df_projects['launched_at'] != df_projects['launched_at_end'])][['id','name','launched_at','launched_at_end']]"
   ]
  },
  {
   "cell_type": "code",
   "execution_count": 12,
   "metadata": {
    "collapsed": true
   },
   "outputs": [],
   "source": [
    "# first value is incorrect, drop first column\n",
    "# https://www.kickstarter.com/projects/1428469449/instant-hydrator-hydratesall-natural-digestive-ph\n",
    "df_projects.drop('launched_at', axis=1, inplace=True)"
   ]
  },
  {
   "cell_type": "markdown",
   "metadata": {
    "collapsed": true
   },
   "source": [
    "#### deadline"
   ]
  },
  {
   "cell_type": "code",
   "execution_count": 13,
   "metadata": {},
   "outputs": [
    {
     "data": {
      "text/plain": [
       "<matplotlib.axes._subplots.AxesSubplot at 0x25cf3e068d0>"
      ]
     },
     "execution_count": 13,
     "metadata": {},
     "output_type": "execute_result"
    },
    {
     "data": {
      "image/png": "[encoded data removed]",
      "text/plain": [
       "<matplotlib.figure.Figure at 0x25cbe680cf8>"
      ]
     },
     "metadata": {},
     "output_type": "display_data"
    }
   ],
   "source": [
    "df_projects.plot(x='deadline', y='deadline_end', kind='scatter', figsize=(8,8))"
   ]
  },
  {
   "cell_type": "code",
   "execution_count": 14,
   "metadata": {},
   "outputs": [
    {
     "data": {
      "text/plain": [
       "False    64980\n",
       "True        58\n",
       "dtype: int64"
      ]
     },
     "execution_count": 14,
     "metadata": {},
     "output_type": "execute_result"
    }
   ],
   "source": [
    "# this should not contain True, but it does => inconsistency in dataset\n",
    "(df_projects['deadline'] != df_projects['deadline_end']).value_counts()"
   ]
  },
  {
   "cell_type": "code",
   "execution_count": 15,
   "metadata": {},
   "outputs": [
    {
     "data": {
      "text/html": [
       "<div>\n",
       "<style>\n",
       "    .dataframe thead tr:only-child th {\n",
       "        text-align: right;\n",
       "    }\n",
       "\n",
       "    .dataframe thead th {\n",
       "        text-align: left;\n",
       "    }\n",
       "\n",
       "    .dataframe tbody tr th {\n",
       "        vertical-align: top;\n",
       "    }\n",
       "</style>\n",
       "<table border=\"1\" class=\"dataframe\">\n",
       "  <thead>\n",
       "    <tr style=\"text-align: right;\">\n",
       "      <th></th>\n",
       "      <th>id</th>\n",
       "      <th>name</th>\n",
       "      <th>deadline</th>\n",
       "      <th>deadline_end</th>\n",
       "    </tr>\n",
       "  </thead>\n",
       "  <tbody>\n",
       "    <tr>\n",
       "      <th>619</th>\n",
       "      <td>603503453</td>\n",
       "      <td>The Monsieur Barbier Box : Shaving &amp; Music, Ra...</td>\n",
       "      <td>1448922180</td>\n",
       "      <td>1449613380</td>\n",
       "    </tr>\n",
       "    <tr>\n",
       "      <th>633</th>\n",
       "      <td>1495917692</td>\n",
       "      <td>2016 Letterpress Calendar . The creative manif...</td>\n",
       "      <td>1449009780</td>\n",
       "      <td>1449441780</td>\n",
       "    </tr>\n",
       "    <tr>\n",
       "      <th>1345</th>\n",
       "      <td>1378352264</td>\n",
       "      <td>Casablancas | The Man Who Loved Women</td>\n",
       "      <td>1449164045</td>\n",
       "      <td>1450287245</td>\n",
       "    </tr>\n",
       "    <tr>\n",
       "      <th>1366</th>\n",
       "      <td>1866394158</td>\n",
       "      <td>I Love Therefore I Am - Documentary</td>\n",
       "      <td>1448866800</td>\n",
       "      <td>1449730800</td>\n",
       "    </tr>\n",
       "    <tr>\n",
       "      <th>1780</th>\n",
       "      <td>1020745465</td>\n",
       "      <td>SECOND CHANCE - DEUXI?ME CHANCE</td>\n",
       "      <td>1450016445</td>\n",
       "      <td>1451226045</td>\n",
       "    </tr>\n",
       "    <tr>\n",
       "      <th>2110</th>\n",
       "      <td>2044197681</td>\n",
       "      <td>Welcome to Another World!</td>\n",
       "      <td>1448018810</td>\n",
       "      <td>1448623610</td>\n",
       "    </tr>\n",
       "    <tr>\n",
       "      <th>2284</th>\n",
       "      <td>281156070</td>\n",
       "      <td>Würm : a prehistoric RPG</td>\n",
       "      <td>1449239761</td>\n",
       "      <td>1449671761</td>\n",
       "    </tr>\n",
       "    <tr>\n",
       "      <th>2381</th>\n",
       "      <td>174456433</td>\n",
       "      <td>Pur cashmere poncho Workshop</td>\n",
       "      <td>1448756490</td>\n",
       "      <td>1449966090</td>\n",
       "    </tr>\n",
       "    <tr>\n",
       "      <th>2415</th>\n",
       "      <td>382060495</td>\n",
       "      <td>Pankapu: the Dreamkeeper</td>\n",
       "      <td>1448621976</td>\n",
       "      <td>1449831576</td>\n",
       "    </tr>\n",
       "    <tr>\n",
       "      <th>2487</th>\n",
       "      <td>1401246575</td>\n",
       "      <td>#lanouvelleolympe</td>\n",
       "      <td>1448630040</td>\n",
       "      <td>1449839640</td>\n",
       "    </tr>\n",
       "  </tbody>\n",
       "</table>\n",
       "</div>"
      ],
      "text/plain": [
       "              id                                               name  \\\n",
       "619    603503453  The Monsieur Barbier Box : Shaving & Music, Ra...   \n",
       "633   1495917692  2016 Letterpress Calendar . The creative manif...   \n",
       "1345  1378352264              Casablancas | The Man Who Loved Women   \n",
       "1366  1866394158                I Love Therefore I Am - Documentary   \n",
       "1780  1020745465                    SECOND CHANCE - DEUXI?ME CHANCE   \n",
       "2110  2044197681                          Welcome to Another World!   \n",
       "2284   281156070                           Würm : a prehistoric RPG   \n",
       "2381   174456433                       Pur cashmere poncho Workshop   \n",
       "2415   382060495                           Pankapu: the Dreamkeeper   \n",
       "2487  1401246575                                  #lanouvelleolympe   \n",
       "\n",
       "        deadline  deadline_end  \n",
       "619   1448922180    1449613380  \n",
       "633   1449009780    1449441780  \n",
       "1345  1449164045    1450287245  \n",
       "1366  1448866800    1449730800  \n",
       "1780  1450016445    1451226045  \n",
       "2110  1448018810    1448623610  \n",
       "2284  1449239761    1449671761  \n",
       "2381  1448756490    1449966090  \n",
       "2415  1448621976    1449831576  \n",
       "2487  1448630040    1449839640  "
      ]
     },
     "execution_count": 15,
     "metadata": {},
     "output_type": "execute_result"
    }
   ],
   "source": [
    "# look at values\n",
    "df_projects[(df_projects['deadline'] != df_projects['deadline_end'])][['id','name','deadline','deadline_end']].head(10)"
   ]
  },
  {
   "cell_type": "code",
   "execution_count": 16,
   "metadata": {
    "collapsed": true
   },
   "outputs": [],
   "source": [
    "# first values are incorrect again, drop first column\n",
    "df_projects.drop('deadline', axis=1, inplace=True)"
   ]
  },
  {
   "cell_type": "code",
   "execution_count": 17,
   "metadata": {},
   "outputs": [
    {
     "data": {
      "text/html": [
       "<div>\n",
       "<style>\n",
       "    .dataframe thead tr:only-child th {\n",
       "        text-align: right;\n",
       "    }\n",
       "\n",
       "    .dataframe thead th {\n",
       "        text-align: left;\n",
       "    }\n",
       "\n",
       "    .dataframe tbody tr th {\n",
       "        vertical-align: top;\n",
       "    }\n",
       "</style>\n",
       "<table border=\"1\" class=\"dataframe\">\n",
       "  <thead>\n",
       "    <tr style=\"text-align: right;\">\n",
       "      <th></th>\n",
       "      <th>name</th>\n",
       "      <th>launched_at_end</th>\n",
       "    </tr>\n",
       "  </thead>\n",
       "  <tbody>\n",
       "    <tr>\n",
       "      <th>241</th>\n",
       "      <td>Totally Mentally Unstable: A Psychedelic Color...</td>\n",
       "      <td>1446388479</td>\n",
       "    </tr>\n",
       "    <tr>\n",
       "      <th>249</th>\n",
       "      <td>Waupecony River Studio: Modern Handmade Cerami...</td>\n",
       "      <td>1446389578</td>\n",
       "    </tr>\n",
       "    <tr>\n",
       "      <th>639</th>\n",
       "      <td>The Detroit Bikes C-Type: The American Single ...</td>\n",
       "      <td>1446391659</td>\n",
       "    </tr>\n",
       "    <tr>\n",
       "      <th>795</th>\n",
       "      <td>Fashion water-repellent clothes - A new standa...</td>\n",
       "      <td>1446388804</td>\n",
       "    </tr>\n",
       "    <tr>\n",
       "      <th>1028</th>\n",
       "      <td>Vertical Growth Inc.</td>\n",
       "      <td>1446391164</td>\n",
       "    </tr>\n",
       "    <tr>\n",
       "      <th>1173</th>\n",
       "      <td>SICK(er) - A Short Film by Lucy Brydon</td>\n",
       "      <td>1446389767</td>\n",
       "    </tr>\n",
       "    <tr>\n",
       "      <th>1237</th>\n",
       "      <td>SAVING BORSHIA</td>\n",
       "      <td>1446390555</td>\n",
       "    </tr>\n",
       "    <tr>\n",
       "      <th>1891</th>\n",
       "      <td>Cold November</td>\n",
       "      <td>1446390365</td>\n",
       "    </tr>\n",
       "    <tr>\n",
       "      <th>3788</th>\n",
       "      <td>HERO[3] Web Filter Suite - A New Way to Protec...</td>\n",
       "      <td>1446387612</td>\n",
       "    </tr>\n",
       "    <tr>\n",
       "      <th>5306</th>\n",
       "      <td>Short film in Japan</td>\n",
       "      <td>1450359213</td>\n",
       "    </tr>\n",
       "    <tr>\n",
       "      <th>7820</th>\n",
       "      <td>'Tangibility / Abstraction' exhibition</td>\n",
       "      <td>1453984321</td>\n",
       "    </tr>\n",
       "    <tr>\n",
       "      <th>9271</th>\n",
       "      <td>Instant Hydrator, Hydrates,All Natural, Digest...</td>\n",
       "      <td>1454537838</td>\n",
       "    </tr>\n",
       "    <tr>\n",
       "      <th>16240</th>\n",
       "      <td>Cee Raymond's Crime &amp; Space #1</td>\n",
       "      <td>1460692786</td>\n",
       "    </tr>\n",
       "    <tr>\n",
       "      <th>16922</th>\n",
       "      <td>PROTOTYPE - STREET WEAR</td>\n",
       "      <td>1460691168</td>\n",
       "    </tr>\n",
       "    <tr>\n",
       "      <th>23638</th>\n",
       "      <td>Bubba's Alley Web Series</td>\n",
       "      <td>1465962335</td>\n",
       "    </tr>\n",
       "    <tr>\n",
       "      <th>23651</th>\n",
       "      <td>GENDER BENDER</td>\n",
       "      <td>1465962880</td>\n",
       "    </tr>\n",
       "    <tr>\n",
       "      <th>23916</th>\n",
       "      <td>Dearly Departed</td>\n",
       "      <td>1465962334</td>\n",
       "    </tr>\n",
       "    <tr>\n",
       "      <th>32013</th>\n",
       "      <td>Home Art Home</td>\n",
       "      <td>1473916130</td>\n",
       "    </tr>\n",
       "    <tr>\n",
       "      <th>32062</th>\n",
       "      <td>Samurai Trooper Stickers</td>\n",
       "      <td>1473918523</td>\n",
       "    </tr>\n",
       "    <tr>\n",
       "      <th>32648</th>\n",
       "      <td>Ghanto Shoe - everyday lifestyle &amp; leisure tra...</td>\n",
       "      <td>1473917468</td>\n",
       "    </tr>\n",
       "    <tr>\n",
       "      <th>53263</th>\n",
       "      <td>Mat Roff X Blue Deer Illustration Shirts</td>\n",
       "      <td>1492300637</td>\n",
       "    </tr>\n",
       "    <tr>\n",
       "      <th>55145</th>\n",
       "      <td>Almighty Pen Stand</td>\n",
       "      <td>1492299114</td>\n",
       "    </tr>\n",
       "    <tr>\n",
       "      <th>56864</th>\n",
       "      <td>Help Caiken Open a Cookie Bakery</td>\n",
       "      <td>1494891951</td>\n",
       "    </tr>\n",
       "    <tr>\n",
       "      <th>57041</th>\n",
       "      <td>The Seventh Commandment - Short Film</td>\n",
       "      <td>1494891072</td>\n",
       "    </tr>\n",
       "    <tr>\n",
       "      <th>57147</th>\n",
       "      <td>Cyko KO: A Comic Book Adventure You Can Color!</td>\n",
       "      <td>1494896358</td>\n",
       "    </tr>\n",
       "    <tr>\n",
       "      <th>60343</th>\n",
       "      <td>Gritt vs. Unstoppable: For The Glory (One Shot...</td>\n",
       "      <td>1500170328</td>\n",
       "    </tr>\n",
       "    <tr>\n",
       "      <th>60483</th>\n",
       "      <td>PERSEPHONE: an honest mental health performanc...</td>\n",
       "      <td>1500173739</td>\n",
       "    </tr>\n",
       "  </tbody>\n",
       "</table>\n",
       "</div>"
      ],
      "text/plain": [
       "                                                    name  launched_at_end\n",
       "241    Totally Mentally Unstable: A Psychedelic Color...       1446388479\n",
       "249    Waupecony River Studio: Modern Handmade Cerami...       1446389578\n",
       "639    The Detroit Bikes C-Type: The American Single ...       1446391659\n",
       "795    Fashion water-repellent clothes - A new standa...       1446388804\n",
       "1028                                Vertical Growth Inc.       1446391164\n",
       "1173              SICK(er) - A Short Film by Lucy Brydon       1446389767\n",
       "1237                                      SAVING BORSHIA       1446390555\n",
       "1891                                       Cold November       1446390365\n",
       "3788   HERO[3] Web Filter Suite - A New Way to Protec...       1446387612\n",
       "5306                                 Short film in Japan       1450359213\n",
       "7820              'Tangibility / Abstraction' exhibition       1453984321\n",
       "9271   Instant Hydrator, Hydrates,All Natural, Digest...       1454537838\n",
       "16240                     Cee Raymond's Crime & Space #1       1460692786\n",
       "16922                            PROTOTYPE - STREET WEAR       1460691168\n",
       "23638                           Bubba's Alley Web Series       1465962335\n",
       "23651                                      GENDER BENDER       1465962880\n",
       "23916                                    Dearly Departed       1465962334\n",
       "32013                                      Home Art Home       1473916130\n",
       "32062                           Samurai Trooper Stickers       1473918523\n",
       "32648  Ghanto Shoe - everyday lifestyle & leisure tra...       1473917468\n",
       "53263           Mat Roff X Blue Deer Illustration Shirts       1492300637\n",
       "55145                                 Almighty Pen Stand       1492299114\n",
       "56864                   Help Caiken Open a Cookie Bakery       1494891951\n",
       "57041               The Seventh Commandment - Short Film       1494891072\n",
       "57147     Cyko KO: A Comic Book Adventure You Can Color!       1494896358\n",
       "60343  Gritt vs. Unstoppable: For The Glory (One Shot...       1500170328\n",
       "60483  PERSEPHONE: an honest mental health performanc...       1500173739"
      ]
     },
     "execution_count": 17,
     "metadata": {},
     "output_type": "execute_result"
    }
   ],
   "source": [
    "df_projects[df_projects['launched_at_end'] > df_projects['scraped_at']][['name','launched_at_end']]"
   ]
  },
  {
   "cell_type": "code",
   "execution_count": 18,
   "metadata": {},
   "outputs": [
    {
     "data": {
      "text/plain": [
       "9271     -555640.0\n",
       "57147      -5724.0\n",
       "639        -4715.0\n",
       "1028       -4220.0\n",
       "32062      -4047.0\n",
       "60483      -3853.0\n",
       "1237       -3611.0\n",
       "16240      -3496.0\n",
       "1891       -3421.0\n",
       "32648      -2988.0\n",
       "1173       -2823.0\n",
       "249        -2634.0\n",
       "53263      -2287.0\n",
       "23651      -2140.0\n",
       "7820       -2121.0\n",
       "16922      -1874.0\n",
       "795        -1860.0\n",
       "32013      -1644.0\n",
       "23916      -1600.0\n",
       "23638      -1595.0\n",
       "241        -1535.0\n",
       "56864      -1331.0\n",
       "55145       -758.0\n",
       "3788        -668.0\n",
       "60343       -456.0\n",
       "57041       -448.0\n",
       "5306        -403.0\n",
       "17000         81.0\n",
       "30761        136.0\n",
       "4598         246.0\n",
       "           ...    \n",
       "24888    5822114.0\n",
       "22996    5832820.0\n",
       "23274    5837829.0\n",
       "25580    5841351.0\n",
       "25152    5843580.0\n",
       "23578    5844847.0\n",
       "25498    5845477.0\n",
       "24926    5856802.0\n",
       "24957    5868127.0\n",
       "48879    5872488.0\n",
       "24063    5878145.0\n",
       "26098    5882407.0\n",
       "25033    5887761.0\n",
       "23146    5916576.0\n",
       "23826    5922224.0\n",
       "23118    5929893.0\n",
       "25875    5933903.0\n",
       "24742    5940167.0\n",
       "22969    5944628.0\n",
       "25493    5946414.0\n",
       "23325    5953561.0\n",
       "22753    5960633.0\n",
       "23901    5976944.0\n",
       "24573    5994238.0\n",
       "23635    5995911.0\n",
       "25513    6012600.0\n",
       "25057    6016114.0\n",
       "25598    6017688.0\n",
       "24084    6026641.0\n",
       "25776    6060193.0\n",
       "Length: 65038, dtype: float64"
      ]
     },
     "execution_count": 18,
     "metadata": {},
     "output_type": "execute_result"
    }
   ],
   "source": [
    "x = df_projects['scraped_at'] - df_projects['launched_at_end']\n",
    "x.sort_values()"
   ]
  },
  {
   "cell_type": "code",
   "execution_count": 19,
   "metadata": {
    "collapsed": true
   },
   "outputs": [],
   "source": [
    "df_projects.to_csv('projects.csv')"
   ]
  },
  {
   "cell_type": "code",
   "execution_count": 30,
   "metadata": {},
   "outputs": [
    {
     "data": {
      "text/plain": [
       "1469427554.0"
      ]
     },
     "execution_count": 30,
     "metadata": {},
     "output_type": "execute_result"
    }
   ],
   "source": [
    "os.path.getmtime(r'C:\\Users\\Patrik\\Downloads\\webrobots.iokickstarter-datasets\\Kickstarter_2016-07-15T02_04_40_862Z\\Kickstarter.csv')"
   ]
  },
  {
   "cell_type": "code",
   "execution_count": 20,
   "metadata": {},
   "outputs": [
    {
     "name": "stderr",
     "output_type": "stream",
     "text": [
      "C:\\Users\\Patrik\\Anaconda3\\lib\\site-packages\\IPython\\core\\interactiveshell.py:2717: DtypeWarning: Columns (52,53) have mixed types. Specify dtype option on import or set low_memory=False.\n",
      "  interactivity=interactivity, compiler=compiler, result=result)\n"
     ]
    },
    {
     "name": "stdout",
     "output_type": "stream",
     "text": [
      "<class 'pandas.core.frame.DataFrame'>\n",
      "Int64Index: 65038 entries, 0 to 65037\n",
      "Data columns (total 63 columns):\n",
      "backers_count                65038 non-null int64\n",
      "backers_count_end            65038 non-null int64\n",
      "blurb                        65038 non-null object\n",
      "blurb_end                    65036 non-null object\n",
      "category                     65038 non-null object\n",
      "category_end                 65038 non-null object\n",
      "category_name                65038 non-null object\n",
      "category_name_end            65038 non-null object\n",
      "category_parent              65038 non-null object\n",
      "category_parent_end          65038 non-null object\n",
      "category_position            65038 non-null int64\n",
      "category_position_end        65038 non-null int64\n",
      "country                      65038 non-null object\n",
      "created_at                   65038 non-null int64\n",
      "creator                      65038 non-null object\n",
      "creator_end                  65038 non-null object\n",
      "creator_name                 65037 non-null object\n",
      "creator_name_end             65037 non-null object\n",
      "currency                     65038 non-null object\n",
      "currency_symbol              65038 non-null object\n",
      "currency_trailing_code       65038 non-null bool\n",
      "deadline_end                 65038 non-null int64\n",
      "disable_communication        65038 non-null bool\n",
      "disable_communication_end    65038 non-null bool\n",
      "goal                         65038 non-null float64\n",
      "id                           65038 non-null int64\n",
      "launched_at_end              65038 non-null int64\n",
      "location                     65038 non-null object\n",
      "location_end                 65038 non-null object\n",
      "location_is_root             65038 non-null bool\n",
      "location_name                65038 non-null object\n",
      "location_name_end            65038 non-null object\n",
      "location_state               65021 non-null object\n",
      "location_state_end           65021 non-null object\n",
      "location_type                65038 non-null object\n",
      "location_type_end            65038 non-null object\n",
      "name                         65038 non-null object\n",
      "name_end                     65038 non-null object\n",
      "photo                        65038 non-null object\n",
      "photo_end                    65038 non-null object\n",
      "pledged                      65038 non-null float64\n",
      "pledged_end                  65038 non-null float64\n",
      "profile                      65038 non-null object\n",
      "profile_end                  65038 non-null object\n",
      "scraped_at                   65038 non-null float64\n",
      "scraped_at_end               65038 non-null float64\n",
      "slug                         65038 non-null object\n",
      "source_url                   65038 non-null object\n",
      "source_url_end               65038 non-null object\n",
      "spotlight                    65038 non-null bool\n",
      "spotlight_end                65038 non-null bool\n",
      "staff_pick                   57503 non-null object\n",
      "staff_pick_end               61349 non-null object\n",
      "state                        65038 non-null object\n",
      "state_changed_at             65038 non-null int64\n",
      "state_changed_at_end         65038 non-null int64\n",
      "state_end                    65038 non-null object\n",
      "static_usd_rate              65038 non-null float64\n",
      "static_usd_rate_end          65038 non-null float64\n",
      "urls                         65038 non-null object\n",
      "urls_end                     65038 non-null object\n",
      "usd_pledged                  65038 non-null float64\n",
      "usd_pledged_end              65038 non-null float64\n",
      "dtypes: bool(6), float64(9), int64(10), object(38)\n",
      "memory usage: 29.2+ MB\n"
     ]
    }
   ],
   "source": [
    "df_projects = pd.read_csv('projects.csv', encoding='cp1252', index_col=0)\n",
    "df_projects.info()"
   ]
  },
  {
   "cell_type": "code",
   "execution_count": null,
   "metadata": {
    "collapsed": true
   },
   "outputs": [],
   "source": []
  }
 ],
 "metadata": {
  "kernelspec": {
   "display_name": "Python 3",
   "language": "python",
   "name": "python3"
  },
  "language_info": {
   "codemirror_mode": {
    "name": "ipython",
    "version": 3
   },
   "file_extension": ".py",
   "mimetype": "text/x-python",
   "name": "python",
   "nbconvert_exporter": "python",
   "pygments_lexer": "ipython3",
   "version": "3.6.1"
  }
 },
 "nbformat": 4,
 "nbformat_minor": 2
}
