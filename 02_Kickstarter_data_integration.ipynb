{
 "cells": [
  {
   "cell_type": "markdown",
   "metadata": {},
   "source": [
    "# Selecting all live projects and fetching end state\n",
    "\n",
    "We will use monthly snapshots of projects to select following data:\n",
    "* **df_live**           will contain all projects that were live during scraping the web\n",
    "* **df_ended** will contain projects stored in df_live but after their termination (scraped in the upcoming period)"
   ]
  },
  {
   "cell_type": "code",
   "execution_count": 1,
   "metadata": {
    "collapsed": true
   },
   "outputs": [],
   "source": [
    "import os\n",
    "import pandas as pd\n",
    "import json\n",
    "import datetime"
   ]
  },
  {
   "cell_type": "code",
   "execution_count": 2,
   "metadata": {
    "collapsed": true
   },
   "outputs": [
    {
     "data": {
      "text/plain": [
       "['Kickstarter_2015-11-01T14_09_04_557Z',\n",
       " 'Kickstarter_2015-12-17T12_09_06_107Z',\n",
       " 'Kickstarter_2016-01-28T09_15_08_781Z',\n",
       " 'Kickstarter_2016-03-22T07_41_08_591Z',\n",
       " 'Kickstarter_2016-04-15T02_09_04_328Z',\n",
       " 'Kickstarter_2016-05-15T02_04_46_813Z',\n",
       " 'Kickstarter_2016-06-15T02_04_49_697Z',\n",
       " 'Kickstarter_2016-07-15T02_04_40_862Z',\n",
       " 'Kickstarter_2016-08-15T02_04_03_829Z',\n",
       " 'Kickstarter_2016-09-15T02_04_03_474Z',\n",
       " 'Kickstarter_2016-10-15T02_04_11_689Z',\n",
       " 'Kickstarter_2016-11-12T22_20_03_295Z',\n",
       " 'Kickstarter_2016-12-15T22_20_52_411Z',\n",
       " 'Kickstarter_2017-01-15T22_21_04_985Z',\n",
       " 'Kickstarter_2017-02-15T22_22_48_377Z',\n",
       " 'Kickstarter_2017-03-15T22_20_55_874Z',\n",
       " 'Kickstarter_2017-04-15T22_21_18_122Z',\n",
       " 'Kickstarter_2017-05-15T22_21_11_300Z',\n",
       " 'Kickstarter_2017-06-15T22_20_03_059Z',\n",
       " 'Kickstarter_2017-07-15T22_20_48_951Z',\n",
       " 'Kickstarter_2017-08-15T22_20_51_958Z',\n",
       " 'Kickstarter_2017-09-15T22_20_48_432Z',\n",
       " 'Kickstarter_2017-10-15T10_20_38_271Z']"
      ]
     },
     "execution_count": 2,
     "metadata": {},
     "output_type": "execute_result"
    }
   ],
   "source": [
    "# all kickstarter files from webrobots.io are stored in following path\n",
    "path = 'C:\\\\Users\\\\Patrik\\\\Downloads\\\\webrobots.iokickstarter-datasets\\\\'\n",
    "dir_list = os.listdir(path)\n",
    "\n",
    "# sort directories in chronological order\n",
    "# each directory contains up to 48 csv files\n",
    "dir_list.sort()\n",
    "dir_list"
   ]
  },
  {
   "cell_type": "code",
   "execution_count": 3,
   "metadata": {},
   "outputs": [
    {
     "data": {
      "text/plain": [
       "23"
      ]
     },
     "execution_count": 3,
     "metadata": {},
     "output_type": "execute_result"
    }
   ],
   "source": [
    "len(dir_list)"
   ]
  },
  {
   "cell_type": "code",
   "execution_count": 4,
   "metadata": {
    "collapsed": true
   },
   "outputs": [],
   "source": [
    "df_live = pd.DataFrame()\n",
    "df_ended = pd.DataFrame()\n",
    "csv_count = 0"
   ]
  },
  {
   "cell_type": "code",
   "execution_count": 5,
   "metadata": {
    "collapsed": true
   },
   "outputs": [
    {
     "name": "stdout",
     "output_type": "stream",
     "text": [
      "\n",
      "\n",
      ">>> DIRECTORY: Kickstarter_2015-11-01T14_09_04_557Z\n",
      "Kickstarter.csv, Kickstarter001.csv, Kickstarter002.csv, Kickstarter003.csv, Kickstarter004.csv, Kickstarter005.csv, Kickstarter006.csv, Kickstarter007.csv, Kickstarter008.csv, Kickstarter009.csv, Kickstarter010.csv, Kickstarter011.csv, Kickstarter012.csv, \n",
      "\n",
      ">>> DIRECTORY: Kickstarter_2015-12-17T12_09_06_107Z\n",
      "Kickstarter.csv, Kickstarter001.csv, Kickstarter002.csv, Kickstarter003.csv, Kickstarter004.csv, Kickstarter005.csv, Kickstarter006.csv, Kickstarter007.csv, Kickstarter008.csv, Kickstarter009.csv, Kickstarter010.csv, Kickstarter011.csv, Kickstarter012.csv, Kickstarter013.csv, Kickstarter014.csv, Kickstarter015.csv, Kickstarter016.csv, Kickstarter017.csv, Kickstarter018.csv, Kickstarter019.csv, Kickstarter020.csv, Kickstarter021.csv, Kickstarter022.csv, Kickstarter023.csv, Kickstarter024.csv, Kickstarter025.csv, Kickstarter026.csv, Kickstarter027.csv, Kickstarter028.csv, Kickstarter029.csv, Kickstarter030.csv, Kickstarter031.csv, \n",
      "\n",
      ">>> DIRECTORY: Kickstarter_2016-01-28T09_15_08_781Z\n",
      "Kickstarter.csv, Kickstarter001.csv, Kickstarter002.csv, Kickstarter003.csv, Kickstarter004.csv, Kickstarter005.csv, Kickstarter006.csv, Kickstarter007.csv, Kickstarter008.csv, Kickstarter009.csv, Kickstarter010.csv, Kickstarter011.csv, Kickstarter012.csv, Kickstarter013.csv, Kickstarter014.csv, Kickstarter015.csv, Kickstarter016.csv, Kickstarter017.csv, Kickstarter018.csv, Kickstarter019.csv, Kickstarter020.csv, Kickstarter021.csv, Kickstarter022.csv, Kickstarter023.csv, Kickstarter024.csv, Kickstarter025.csv, Kickstarter026.csv, Kickstarter027.csv, Kickstarter028.csv, Kickstarter029.csv, Kickstarter030.csv, Kickstarter031.csv, \n",
      "\n",
      ">>> DIRECTORY: Kickstarter_2016-03-22T07_41_08_591Z\n",
      "Kickstarter.csv, Kickstarter001.csv, Kickstarter002.csv, Kickstarter003.csv, Kickstarter004.csv, Kickstarter005.csv, Kickstarter006.csv, Kickstarter007.csv, Kickstarter008.csv, Kickstarter009.csv, Kickstarter010.csv, Kickstarter011.csv, Kickstarter012.csv, Kickstarter013.csv, Kickstarter014.csv, Kickstarter015.csv, Kickstarter016.csv, Kickstarter017.csv, Kickstarter018.csv, Kickstarter019.csv, Kickstarter020.csv, Kickstarter021.csv, Kickstarter022.csv, Kickstarter023.csv, Kickstarter024.csv, Kickstarter025.csv, Kickstarter026.csv, Kickstarter027.csv, Kickstarter028.csv, Kickstarter029.csv, Kickstarter030.csv, Kickstarter031.csv, Kickstarter032.csv, Kickstarter033.csv, \n",
      "\n",
      ">>> DIRECTORY: Kickstarter_2016-04-15T02_09_04_328Z\n",
      "Kickstarter.csv, Kickstarter001.csv, Kickstarter002.csv, Kickstarter003.csv, Kickstarter004.csv, Kickstarter005.csv, Kickstarter006.csv, Kickstarter007.csv, Kickstarter008.csv, Kickstarter009.csv, Kickstarter010.csv, Kickstarter011.csv, Kickstarter012.csv, Kickstarter013.csv, Kickstarter014.csv, Kickstarter015.csv, Kickstarter016.csv, Kickstarter017.csv, Kickstarter018.csv, Kickstarter019.csv, Kickstarter020.csv, Kickstarter021.csv, Kickstarter022.csv, Kickstarter023.csv, Kickstarter024.csv, Kickstarter025.csv, Kickstarter026.csv, Kickstarter027.csv, Kickstarter028.csv, Kickstarter029.csv, Kickstarter030.csv, Kickstarter031.csv, Kickstarter032.csv, Kickstarter033.csv, Kickstarter034.csv, \n",
      "\n",
      ">>> DIRECTORY: Kickstarter_2016-05-15T02_04_46_813Z\n",
      "Kickstarter.csv, Kickstarter001.csv, Kickstarter002.csv, Kickstarter003.csv, Kickstarter004.csv, Kickstarter005.csv, Kickstarter006.csv, Kickstarter007.csv, Kickstarter008.csv, Kickstarter009.csv, Kickstarter010.csv, Kickstarter011.csv, Kickstarter012.csv, Kickstarter013.csv, Kickstarter014.csv, Kickstarter015.csv, Kickstarter016.csv, Kickstarter017.csv, Kickstarter018.csv, Kickstarter019.csv, Kickstarter020.csv, Kickstarter021.csv, Kickstarter022.csv, Kickstarter023.csv, Kickstarter024.csv, Kickstarter025.csv, Kickstarter026.csv, Kickstarter027.csv, Kickstarter028.csv, Kickstarter029.csv, Kickstarter030.csv, Kickstarter031.csv, Kickstarter032.csv, \n",
      "\n",
      ">>> DIRECTORY: Kickstarter_2016-06-15T02_04_49_697Z\n",
      "Kickstarter.csv, Kickstarter001.csv, Kickstarter002.csv, Kickstarter003.csv, Kickstarter004.csv, Kickstarter005.csv, Kickstarter006.csv, Kickstarter007.csv, Kickstarter008.csv, Kickstarter009.csv, Kickstarter010.csv, Kickstarter011.csv, Kickstarter012.csv, Kickstarter013.csv, Kickstarter014.csv, Kickstarter015.csv, Kickstarter016.csv, Kickstarter017.csv, Kickstarter018.csv, Kickstarter019.csv, Kickstarter020.csv, Kickstarter021.csv, Kickstarter022.csv, Kickstarter023.csv, Kickstarter024.csv, Kickstarter025.csv, Kickstarter026.csv, Kickstarter027.csv, Kickstarter028.csv, Kickstarter029.csv, Kickstarter030.csv, Kickstarter031.csv, Kickstarter032.csv, Kickstarter033.csv, Kickstarter034.csv, Kickstarter035.csv, Kickstarter036.csv, Kickstarter037.csv, Kickstarter038.csv, \n",
      "\n",
      ">>> DIRECTORY: Kickstarter_2016-07-15T02_04_40_862Z\n",
      "Kickstarter.csv, Kickstarter001.csv, Kickstarter002.csv, Kickstarter003.csv, Kickstarter004.csv, Kickstarter005.csv, Kickstarter006.csv, Kickstarter007.csv, Kickstarter008.csv, Kickstarter009.csv, Kickstarter010.csv, Kickstarter011.csv, Kickstarter012.csv, Kickstarter013.csv, Kickstarter014.csv, Kickstarter015.csv, Kickstarter016.csv, Kickstarter017.csv, Kickstarter018.csv, Kickstarter019.csv, Kickstarter020.csv, Kickstarter021.csv, Kickstarter022.csv, Kickstarter023.csv, Kickstarter024.csv, Kickstarter025.csv, Kickstarter026.csv, Kickstarter027.csv, Kickstarter028.csv, Kickstarter029.csv, Kickstarter030.csv, Kickstarter031.csv, Kickstarter032.csv, Kickstarter033.csv, Kickstarter034.csv, Kickstarter035.csv, Kickstarter036.csv, Kickstarter037.csv, Kickstarter038.csv, \n",
      "\n",
      ">>> DIRECTORY: Kickstarter_2016-08-15T02_04_03_829Z\n",
      "Kickstarter.csv, Kickstarter001.csv, Kickstarter002.csv, Kickstarter003.csv, Kickstarter004.csv, Kickstarter005.csv, Kickstarter006.csv, Kickstarter007.csv, Kickstarter008.csv, Kickstarter009.csv, Kickstarter010.csv, Kickstarter011.csv, Kickstarter012.csv, Kickstarter013.csv, Kickstarter014.csv, Kickstarter015.csv, Kickstarter016.csv, Kickstarter017.csv, Kickstarter018.csv, Kickstarter019.csv, Kickstarter020.csv, Kickstarter021.csv, Kickstarter022.csv, Kickstarter023.csv, Kickstarter024.csv, Kickstarter025.csv, Kickstarter026.csv, Kickstarter027.csv, Kickstarter028.csv, Kickstarter029.csv, Kickstarter030.csv, Kickstarter031.csv, Kickstarter032.csv, Kickstarter033.csv, Kickstarter034.csv, Kickstarter035.csv, Kickstarter036.csv, Kickstarter037.csv, Kickstarter038.csv, Kickstarter039.csv, \n",
      "\n",
      ">>> DIRECTORY: Kickstarter_2016-09-15T02_04_03_474Z\n",
      "Kickstarter.csv, Kickstarter001.csv, Kickstarter002.csv, Kickstarter003.csv, Kickstarter004.csv, Kickstarter005.csv, Kickstarter006.csv, Kickstarter007.csv, Kickstarter008.csv, Kickstarter009.csv, Kickstarter010.csv, Kickstarter011.csv, Kickstarter012.csv, Kickstarter013.csv, Kickstarter014.csv, Kickstarter015.csv, Kickstarter016.csv, Kickstarter017.csv, Kickstarter018.csv, Kickstarter019.csv, Kickstarter020.csv, Kickstarter021.csv, Kickstarter022.csv, Kickstarter023.csv, Kickstarter024.csv, Kickstarter025.csv, Kickstarter026.csv, Kickstarter027.csv, Kickstarter028.csv, Kickstarter029.csv, Kickstarter030.csv, Kickstarter031.csv, Kickstarter032.csv, Kickstarter033.csv, Kickstarter034.csv, Kickstarter035.csv, Kickstarter036.csv, Kickstarter037.csv, Kickstarter038.csv, Kickstarter039.csv, \n",
      "\n",
      ">>> DIRECTORY: Kickstarter_2016-10-15T02_04_11_689Z\n",
      "Kickstarter.csv, Kickstarter001.csv, Kickstarter002.csv, Kickstarter003.csv, Kickstarter004.csv, Kickstarter005.csv, Kickstarter006.csv, Kickstarter007.csv, Kickstarter008.csv, Kickstarter009.csv, Kickstarter010.csv, Kickstarter011.csv, Kickstarter012.csv, Kickstarter013.csv, Kickstarter014.csv, Kickstarter015.csv, Kickstarter016.csv, Kickstarter017.csv, Kickstarter018.csv, Kickstarter019.csv, Kickstarter020.csv, Kickstarter021.csv, Kickstarter022.csv, Kickstarter023.csv, Kickstarter024.csv, Kickstarter025.csv, Kickstarter026.csv, Kickstarter027.csv, Kickstarter028.csv, Kickstarter029.csv, Kickstarter030.csv, Kickstarter031.csv, Kickstarter032.csv, Kickstarter033.csv, Kickstarter034.csv, Kickstarter035.csv, Kickstarter036.csv, Kickstarter037.csv, Kickstarter038.csv, Kickstarter039.csv, Kickstarter040.csv, \n",
      "\n",
      ">>> DIRECTORY: Kickstarter_2016-11-12T22_20_03_295Z\n",
      "Kickstarter.csv, Kickstarter001.csv, Kickstarter002.csv, Kickstarter003.csv, Kickstarter004.csv, Kickstarter005.csv, Kickstarter006.csv, Kickstarter007.csv, Kickstarter008.csv, Kickstarter009.csv, Kickstarter010.csv, Kickstarter011.csv, Kickstarter012.csv, Kickstarter013.csv, Kickstarter014.csv, Kickstarter015.csv, Kickstarter016.csv, Kickstarter017.csv, Kickstarter018.csv, Kickstarter019.csv, Kickstarter020.csv, Kickstarter021.csv, Kickstarter022.csv, Kickstarter023.csv, Kickstarter024.csv, Kickstarter025.csv, Kickstarter026.csv, Kickstarter027.csv, Kickstarter028.csv, Kickstarter029.csv, Kickstarter030.csv, Kickstarter031.csv, Kickstarter032.csv, Kickstarter033.csv, Kickstarter034.csv, Kickstarter035.csv, Kickstarter036.csv, Kickstarter037.csv, Kickstarter038.csv, Kickstarter039.csv, Kickstarter040.csv, \n",
      "\n",
      ">>> DIRECTORY: Kickstarter_2016-12-15T22_20_52_411Z\n",
      "Kickstarter.csv, Kickstarter001.csv, Kickstarter002.csv, Kickstarter003.csv, Kickstarter004.csv, Kickstarter005.csv, Kickstarter006.csv, Kickstarter007.csv, Kickstarter008.csv, Kickstarter009.csv, Kickstarter010.csv, Kickstarter011.csv, Kickstarter012.csv, Kickstarter013.csv, Kickstarter014.csv, Kickstarter015.csv, Kickstarter016.csv, Kickstarter017.csv, Kickstarter018.csv, Kickstarter019.csv, Kickstarter020.csv, Kickstarter021.csv, Kickstarter022.csv, Kickstarter023.csv, Kickstarter024.csv, Kickstarter025.csv, Kickstarter026.csv, Kickstarter027.csv, Kickstarter028.csv, Kickstarter029.csv, Kickstarter030.csv, Kickstarter031.csv, Kickstarter032.csv, Kickstarter033.csv, Kickstarter034.csv, Kickstarter035.csv, Kickstarter036.csv, Kickstarter037.csv, Kickstarter038.csv, Kickstarter039.csv, Kickstarter040.csv, Kickstarter041.csv, \n",
      "\n",
      ">>> DIRECTORY: Kickstarter_2017-01-15T22_21_04_985Z\n",
      "Kickstarter.csv, Kickstarter001.csv, Kickstarter002.csv, Kickstarter003.csv, Kickstarter004.csv, Kickstarter005.csv, Kickstarter006.csv, Kickstarter007.csv, Kickstarter008.csv, Kickstarter009.csv, Kickstarter010.csv, Kickstarter011.csv, Kickstarter012.csv, Kickstarter013.csv, Kickstarter014.csv, Kickstarter015.csv, Kickstarter016.csv, Kickstarter017.csv, Kickstarter018.csv, Kickstarter019.csv, Kickstarter020.csv, Kickstarter021.csv, Kickstarter022.csv, Kickstarter023.csv, Kickstarter024.csv, Kickstarter025.csv, Kickstarter026.csv, Kickstarter027.csv, Kickstarter028.csv, Kickstarter029.csv, Kickstarter030.csv, Kickstarter031.csv, Kickstarter032.csv, Kickstarter033.csv, Kickstarter034.csv, Kickstarter035.csv, Kickstarter036.csv, Kickstarter037.csv, Kickstarter038.csv, Kickstarter039.csv, Kickstarter040.csv, Kickstarter041.csv, \n",
      "\n",
      ">>> DIRECTORY: Kickstarter_2017-02-15T22_22_48_377Z\n",
      "Kickstarter.csv, Kickstarter001.csv, Kickstarter002.csv, Kickstarter003.csv, Kickstarter004.csv, Kickstarter005.csv, Kickstarter006.csv, Kickstarter007.csv, Kickstarter008.csv, Kickstarter009.csv, Kickstarter010.csv, Kickstarter011.csv, Kickstarter012.csv, Kickstarter013.csv, Kickstarter014.csv, Kickstarter015.csv, Kickstarter016.csv, Kickstarter017.csv, Kickstarter018.csv, Kickstarter019.csv, Kickstarter020.csv, Kickstarter021.csv, Kickstarter022.csv, Kickstarter023.csv, Kickstarter024.csv, Kickstarter025.csv, Kickstarter026.csv, Kickstarter027.csv, Kickstarter028.csv, Kickstarter029.csv, Kickstarter030.csv, Kickstarter031.csv, Kickstarter032.csv, Kickstarter033.csv, Kickstarter034.csv, Kickstarter035.csv, Kickstarter036.csv, Kickstarter037.csv, Kickstarter038.csv, Kickstarter039.csv, Kickstarter040.csv, Kickstarter041.csv, Kickstarter042.csv, \n",
      "\n",
      ">>> DIRECTORY: Kickstarter_2017-03-15T22_20_55_874Z\n",
      "Kickstarter.csv, Kickstarter001.csv, Kickstarter002.csv, Kickstarter003.csv, Kickstarter004.csv, Kickstarter005.csv, Kickstarter006.csv, Kickstarter007.csv, Kickstarter008.csv, Kickstarter009.csv, Kickstarter010.csv, Kickstarter011.csv, Kickstarter012.csv, Kickstarter013.csv, Kickstarter014.csv, Kickstarter015.csv, Kickstarter016.csv, Kickstarter017.csv, Kickstarter018.csv, Kickstarter019.csv, Kickstarter020.csv, Kickstarter021.csv, Kickstarter022.csv, Kickstarter023.csv, Kickstarter024.csv, Kickstarter025.csv, Kickstarter026.csv, Kickstarter027.csv, Kickstarter028.csv, Kickstarter029.csv, Kickstarter030.csv, Kickstarter031.csv, Kickstarter032.csv, Kickstarter033.csv, Kickstarter034.csv, Kickstarter035.csv, Kickstarter036.csv, Kickstarter037.csv, Kickstarter038.csv, Kickstarter039.csv, Kickstarter040.csv, Kickstarter041.csv, Kickstarter042.csv, Kickstarter043.csv, \n",
      "\n",
      ">>> DIRECTORY: Kickstarter_2017-04-15T22_21_18_122Z\n",
      "Kickstarter.csv, Kickstarter001.csv, Kickstarter002.csv, Kickstarter003.csv, Kickstarter004.csv, Kickstarter005.csv, Kickstarter006.csv, Kickstarter007.csv, Kickstarter008.csv, Kickstarter009.csv, Kickstarter010.csv, Kickstarter011.csv, Kickstarter012.csv, Kickstarter013.csv, Kickstarter014.csv, Kickstarter015.csv, Kickstarter016.csv, Kickstarter017.csv, Kickstarter018.csv, Kickstarter019.csv, Kickstarter020.csv, Kickstarter021.csv, Kickstarter022.csv, Kickstarter023.csv, Kickstarter024.csv, Kickstarter025.csv, Kickstarter026.csv, Kickstarter027.csv, Kickstarter028.csv, Kickstarter029.csv, Kickstarter030.csv, Kickstarter031.csv, Kickstarter032.csv, Kickstarter033.csv, Kickstarter034.csv, Kickstarter035.csv, Kickstarter036.csv, Kickstarter037.csv, Kickstarter038.csv, Kickstarter039.csv, Kickstarter040.csv, Kickstarter041.csv, Kickstarter042.csv, Kickstarter043.csv, \n",
      "\n",
      ">>> DIRECTORY: Kickstarter_2017-05-15T22_21_11_300Z\n",
      "Kickstarter.csv, Kickstarter001.csv, Kickstarter002.csv, Kickstarter003.csv, Kickstarter004.csv, Kickstarter005.csv, Kickstarter006.csv, Kickstarter007.csv, Kickstarter008.csv, Kickstarter009.csv, Kickstarter010.csv, Kickstarter011.csv, Kickstarter012.csv, Kickstarter013.csv, Kickstarter014.csv, Kickstarter015.csv, Kickstarter016.csv, Kickstarter017.csv, Kickstarter018.csv, Kickstarter019.csv, Kickstarter020.csv, Kickstarter021.csv, Kickstarter022.csv, Kickstarter023.csv, Kickstarter024.csv, Kickstarter025.csv, Kickstarter026.csv, Kickstarter027.csv, Kickstarter028.csv, Kickstarter029.csv, Kickstarter030.csv, Kickstarter031.csv, Kickstarter032.csv, Kickstarter033.csv, Kickstarter034.csv, Kickstarter035.csv, Kickstarter036.csv, Kickstarter037.csv, Kickstarter038.csv, Kickstarter039.csv, Kickstarter040.csv, Kickstarter041.csv, Kickstarter042.csv, Kickstarter043.csv, Kickstarter044.csv, \n",
      "\n",
      ">>> DIRECTORY: Kickstarter_2017-06-15T22_20_03_059Z\n",
      "Kickstarter.csv, Kickstarter001.csv, Kickstarter002.csv, Kickstarter003.csv, Kickstarter004.csv, Kickstarter005.csv, Kickstarter006.csv, Kickstarter007.csv, Kickstarter008.csv, Kickstarter009.csv, Kickstarter010.csv, Kickstarter011.csv, Kickstarter012.csv, Kickstarter013.csv, Kickstarter014.csv, Kickstarter015.csv, Kickstarter016.csv, Kickstarter017.csv, Kickstarter018.csv, Kickstarter019.csv, Kickstarter020.csv, Kickstarter021.csv, Kickstarter022.csv, Kickstarter023.csv, Kickstarter024.csv, Kickstarter025.csv, Kickstarter026.csv, Kickstarter027.csv, Kickstarter028.csv, Kickstarter029.csv, Kickstarter030.csv, Kickstarter031.csv, Kickstarter032.csv, Kickstarter033.csv, Kickstarter034.csv, Kickstarter035.csv, Kickstarter036.csv, Kickstarter037.csv, Kickstarter038.csv, Kickstarter039.csv, Kickstarter040.csv, Kickstarter041.csv, Kickstarter042.csv, Kickstarter043.csv, Kickstarter044.csv, Kickstarter045.csv, Kickstarter046.csv, Kickstarter047.csv, \n",
      "\n",
      ">>> DIRECTORY: Kickstarter_2017-07-15T22_20_48_951Z\n"
     ]
    },
    {
     "name": "stdout",
     "output_type": "stream",
     "text": [
      "Kickstarter.csv, Kickstarter001.csv, Kickstarter002.csv, Kickstarter003.csv, Kickstarter004.csv, Kickstarter005.csv, Kickstarter006.csv, Kickstarter007.csv, Kickstarter008.csv, Kickstarter009.csv, Kickstarter010.csv, Kickstarter011.csv, Kickstarter012.csv, Kickstarter013.csv, Kickstarter014.csv, Kickstarter015.csv, Kickstarter016.csv, Kickstarter017.csv, Kickstarter018.csv, Kickstarter019.csv, Kickstarter020.csv, Kickstarter021.csv, Kickstarter022.csv, Kickstarter023.csv, Kickstarter024.csv, Kickstarter025.csv, Kickstarter026.csv, Kickstarter027.csv, Kickstarter028.csv, Kickstarter029.csv, Kickstarter030.csv, Kickstarter031.csv, Kickstarter032.csv, Kickstarter033.csv, Kickstarter034.csv, Kickstarter035.csv, Kickstarter036.csv, Kickstarter037.csv, Kickstarter038.csv, Kickstarter039.csv, Kickstarter040.csv, Kickstarter041.csv, Kickstarter042.csv, Kickstarter043.csv, Kickstarter044.csv, Kickstarter045.csv, Kickstarter046.csv, Kickstarter047.csv, \n",
      "\n",
      ">>> DIRECTORY: Kickstarter_2017-08-15T22_20_51_958Z\n",
      "Kickstarter.csv, Kickstarter001.csv, Kickstarter002.csv, Kickstarter003.csv, Kickstarter004.csv, Kickstarter005.csv, Kickstarter006.csv, Kickstarter007.csv, Kickstarter008.csv, Kickstarter009.csv, Kickstarter010.csv, Kickstarter011.csv, Kickstarter012.csv, Kickstarter013.csv, Kickstarter014.csv, Kickstarter015.csv, Kickstarter016.csv, Kickstarter017.csv, Kickstarter018.csv, Kickstarter019.csv, Kickstarter020.csv, Kickstarter021.csv, Kickstarter022.csv, Kickstarter023.csv, Kickstarter024.csv, Kickstarter025.csv, Kickstarter026.csv, Kickstarter027.csv, Kickstarter028.csv, Kickstarter029.csv, Kickstarter030.csv, Kickstarter031.csv, Kickstarter032.csv, Kickstarter033.csv, Kickstarter034.csv, Kickstarter035.csv, Kickstarter036.csv, Kickstarter037.csv, Kickstarter038.csv, Kickstarter039.csv, Kickstarter040.csv, Kickstarter041.csv, \n",
      "\n",
      ">>> DIRECTORY: Kickstarter_2017-09-15T22_20_48_432Z\n",
      "Kickstarter.csv, Kickstarter001.csv, Kickstarter002.csv, Kickstarter003.csv, Kickstarter004.csv, Kickstarter005.csv, Kickstarter006.csv, Kickstarter007.csv, Kickstarter008.csv, Kickstarter009.csv, Kickstarter010.csv, Kickstarter011.csv, Kickstarter012.csv, Kickstarter013.csv, Kickstarter014.csv, Kickstarter015.csv, Kickstarter016.csv, Kickstarter017.csv, Kickstarter018.csv, Kickstarter019.csv, Kickstarter020.csv, Kickstarter021.csv, Kickstarter022.csv, Kickstarter023.csv, Kickstarter024.csv, Kickstarter025.csv, Kickstarter026.csv, Kickstarter027.csv, Kickstarter028.csv, Kickstarter029.csv, Kickstarter030.csv, Kickstarter031.csv, Kickstarter032.csv, Kickstarter033.csv, Kickstarter034.csv, Kickstarter035.csv, Kickstarter036.csv, Kickstarter037.csv, Kickstarter038.csv, \n",
      "\n",
      ">>> DIRECTORY: Kickstarter_2017-10-15T10_20_38_271Z\n",
      "Kickstarter.csv, Kickstarter001.csv, Kickstarter002.csv, Kickstarter003.csv, Kickstarter004.csv, Kickstarter005.csv, Kickstarter006.csv, Kickstarter007.csv, Kickstarter008.csv, Kickstarter009.csv, Kickstarter010.csv, Kickstarter011.csv, Kickstarter012.csv, Kickstarter013.csv, Kickstarter014.csv, Kickstarter015.csv, Kickstarter016.csv, Kickstarter017.csv, Kickstarter018.csv, Kickstarter019.csv, Kickstarter020.csv, Kickstarter021.csv, Kickstarter022.csv, Kickstarter023.csv, Kickstarter024.csv, Kickstarter025.csv, Kickstarter026.csv, Kickstarter027.csv, Kickstarter028.csv, Kickstarter029.csv, Kickstarter030.csv, Kickstarter031.csv, Kickstarter032.csv, Kickstarter033.csv, Kickstarter034.csv, Kickstarter035.csv, Kickstarter036.csv, Kickstarter037.csv, Kickstarter038.csv, Kickstarter039.csv, \n",
      "\n",
      "Total: 896 csv files in 23 directories\n"
     ]
    }
   ],
   "source": [
    "# for each directory containing csv files\n",
    "for dir in dir_list:\n",
    "    print('\\n\\n>>> DIRECTORY: '+dir)\n",
    "    csv_list = os.listdir(path+dir)\n",
    "    csv_count += len(csv_list)\n",
    "    \n",
    "    name_split = dir.split('_')\n",
    "    date = name_split[1].split('-')\n",
    "    year = date[0]\n",
    "    month = date[1]\n",
    "    day = date[2].split('T')[0]\n",
    "    hour = date[2].split('T')[1]\n",
    "    minute = name_split[2]\n",
    "    second = name_split[3]\n",
    "    \n",
    "    timestamp = int(datetime.datetime(int(year), int(month), int(day), int(hour), int(minute), int(second)).timestamp() + 7200)\n",
    "    \n",
    "    # read every csv\n",
    "    for csv in csv_list:\n",
    "        print(csv, end=', ')\n",
    "        data = pd.read_csv(path+dir+'\\\\'+csv)\n",
    "        \n",
    "        data['scraped_at'] = timestamp\n",
    "        #if (dir == 'Kickstarter_2015-11-01T14_09_04_557Z'):\n",
    "        #    data['scraped_at'] = 1446386944 # 11/01/2015 @ 2:09pm (UTC)\n",
    "        #else:\n",
    "        #    data['scraped_at'] = os.path.getmtime(path+dir+'\\\\'+csv)\n",
    "            \n",
    "        # fetch data about live projects\n",
    "        df_live = df_live.append(data[data['state']=='live'], ignore_index=True)\n",
    "        \n",
    "        # fetch data about projects marked 'live' in previous periods after their end in following periods\n",
    "        df_ended = df_ended.append(data[data['state']!='live'], ignore_index=True)\n",
    "        df_ended = df_ended[df_ended['id'].isin(df_live['id'])]\n",
    "        \n",
    "        # we only need the first state after the end of a project\n",
    "        # so remove all rows that capture chronologically later state of a project\n",
    "        df_ended.drop_duplicates(subset='id', inplace=True)\n",
    "        \n",
    "print('\\n\\nTotal: ' + str(csv_count) + ' csv files in ' + str(len(dir_list)) + ' directories')"
   ]
  },
  {
   "cell_type": "code",
   "execution_count": 6,
   "metadata": {
    "collapsed": true
   },
   "outputs": [
    {
     "name": "stdout",
     "output_type": "stream",
     "text": [
      "<class 'pandas.core.frame.DataFrame'>\n",
      "RangeIndex: 88384 entries, 0 to 88383\n",
      "Data columns (total 40 columns):\n",
      "backers_count               88384 non-null int64\n",
      "blurb                       88384 non-null object\n",
      "category                    88384 non-null object\n",
      "converted_pledged_amount    3591 non-null float64\n",
      "country                     88384 non-null object\n",
      "created_at                  88384 non-null int64\n",
      "creator                     88384 non-null object\n",
      "currency                    88384 non-null object\n",
      "currency_symbol             88384 non-null object\n",
      "currency_trailing_code      88384 non-null bool\n",
      "current_currency            3591 non-null object\n",
      "deadline                    88384 non-null int64\n",
      "disable_communication       88384 non-null bool\n",
      "friends                     1719 non-null object\n",
      "goal                        88384 non-null float64\n",
      "id                          88384 non-null int64\n",
      "is_backing                  1719 non-null object\n",
      "is_starrable                10652 non-null object\n",
      "is_starred                  1719 non-null object\n",
      "last_update_published_at    1 non-null float64\n",
      "launched_at                 88384 non-null int64\n",
      "location                    88384 non-null object\n",
      "name                        88384 non-null object\n",
      "permissions                 1719 non-null object\n",
      "photo                       88384 non-null object\n",
      "pledged                     88384 non-null float64\n",
      "profile                     88384 non-null object\n",
      "scraped_at                  88384 non-null int64\n",
      "slug                        88384 non-null object\n",
      "source_url                  88384 non-null object\n",
      "spotlight                   88384 non-null bool\n",
      "staff_pick                  78419 non-null object\n",
      "state                       88384 non-null object\n",
      "state_changed_at            88384 non-null int64\n",
      "static_usd_rate             88384 non-null float64\n",
      "unread_messages_count       1 non-null float64\n",
      "unseen_activity_count       1 non-null float64\n",
      "urls                        88384 non-null object\n",
      "usd_pledged                 88384 non-null float64\n",
      "usd_type                    3591 non-null object\n",
      "dtypes: bool(3), float64(8), int64(7), object(22)\n",
      "memory usage: 25.2+ MB\n"
     ]
    }
   ],
   "source": [
    "df_live.info()"
   ]
  },
  {
   "cell_type": "code",
   "execution_count": 7,
   "metadata": {
    "collapsed": true
   },
   "outputs": [
    {
     "name": "stdout",
     "output_type": "stream",
     "text": [
      "<class 'pandas.core.frame.DataFrame'>\n",
      "Int64Index: 56874 entries, 0 to 56873\n",
      "Data columns (total 40 columns):\n",
      "backers_count               56874 non-null int64\n",
      "blurb                       56872 non-null object\n",
      "category                    56874 non-null object\n",
      "converted_pledged_amount    1464 non-null float64\n",
      "country                     56874 non-null object\n",
      "created_at                  56874 non-null int64\n",
      "creator                     56874 non-null object\n",
      "currency                    56874 non-null object\n",
      "currency_symbol             56874 non-null object\n",
      "currency_trailing_code      56874 non-null bool\n",
      "current_currency            1464 non-null object\n",
      "deadline                    56874 non-null int64\n",
      "disable_communication       56874 non-null bool\n",
      "friends                     3 non-null object\n",
      "goal                        56874 non-null float64\n",
      "id                          56874 non-null int64\n",
      "is_backing                  3 non-null object\n",
      "is_starrable                4699 non-null object\n",
      "is_starred                  3 non-null object\n",
      "last_update_published_at    0 non-null float64\n",
      "launched_at                 56874 non-null int64\n",
      "location                    56874 non-null object\n",
      "name                        56874 non-null object\n",
      "permissions                 3 non-null object\n",
      "photo                       56874 non-null object\n",
      "pledged                     56874 non-null float64\n",
      "profile                     56874 non-null object\n",
      "scraped_at                  56874 non-null int64\n",
      "slug                        56874 non-null object\n",
      "source_url                  56874 non-null object\n",
      "spotlight                   56874 non-null bool\n",
      "staff_pick                  53187 non-null object\n",
      "state                       56874 non-null object\n",
      "state_changed_at            56874 non-null int64\n",
      "static_usd_rate             56874 non-null float64\n",
      "unread_messages_count       0 non-null float64\n",
      "unseen_activity_count       0 non-null float64\n",
      "urls                        56874 non-null object\n",
      "usd_pledged                 56874 non-null float64\n",
      "usd_type                    1464 non-null object\n",
      "dtypes: bool(3), float64(8), int64(7), object(22)\n",
      "memory usage: 16.7+ MB\n"
     ]
    }
   ],
   "source": [
    "df_ended.info()"
   ]
  },
  {
   "cell_type": "code",
   "execution_count": 8,
   "metadata": {
    "collapsed": true
   },
   "outputs": [],
   "source": [
    "df_live.to_csv('data/live_backup.csv')\n",
    "df_ended.to_csv('data/ended_backup.csv')"
   ]
  },
  {
   "cell_type": "markdown",
   "metadata": {},
   "source": [
    "# Adding chosen data from json columns to new columns\n",
    "\n",
    "During the [exploration](https://github.com/blanarik/kickstarter_success_prediction/blob/master/01_Kickstarter_exploring_data_from_webrobots.io.ipynb) of dataset we have found out that some json columns may contain interesting information. We will add this information into new columns. Remaining information is already in other columns or is not relevant for analysis (e.g. urls).\n",
    "\n",
    "* from creator:\n",
    "    * creator_name\n",
    "* from location:\n",
    "    * location_is_root\n",
    "    * location_name\n",
    "    * location_state\n",
    "    * location_type\n",
    "* from category:\n",
    "    * category_name\n",
    "    * category_position\n",
    "    * category_parent"
   ]
  },
  {
   "cell_type": "code",
   "execution_count": 2,
   "metadata": {},
   "outputs": [
    {
     "name": "stderr",
     "output_type": "stream",
     "text": [
      "C:\\Users\\Patrik\\Anaconda3\\lib\\site-packages\\IPython\\core\\interactiveshell.py:2717: DtypeWarning: Columns (11,14,17,18,19,24,32,40) have mixed types. Specify dtype option on import or set low_memory=False.\n",
      "  interactivity=interactivity, compiler=compiler, result=result)\n"
     ]
    }
   ],
   "source": [
    "df_live = pd.read_csv('data/live_backup.csv', encoding='cp1252', index_col=0)\n",
    "df_ended = pd.read_csv('data/ended_backup.csv', encoding='cp1252', index_col=0)"
   ]
  },
  {
   "cell_type": "code",
   "execution_count": 3,
   "metadata": {
    "collapsed": true
   },
   "outputs": [],
   "source": [
    "def add_new_columns(df):\n",
    "    df['creator_name'] = df.apply(lambda x: json.loads(x['creator'])['name'], axis=1)\n",
    "    \n",
    "    df['location_is_root'] = df.apply(lambda x: json.loads(x['location'])['is_root'], axis=1)\n",
    "    df['location_name'] = df.apply(lambda x: json.loads(x['location'])['name'], axis=1)\n",
    "    df['location_state'] = df.apply(lambda x: json.loads(x['location'])['state'], axis=1)\n",
    "    df['location_type'] = df.apply(lambda x: json.loads(x['location'])['type'], axis=1)\n",
    "    \n",
    "    df['category_name'] = df.apply(lambda x: json.loads(x['category'])['name'], axis=1)\n",
    "    df['category_position'] = df.apply(lambda x: json.loads(x['category'])['position'], axis=1)\n",
    "    df['category_parent'] = df.apply(lambda x: json.loads(x['category'])['slug'].split('/')[0], axis=1)\n",
    "    \n",
    "    df['urls_url'] = df.apply(lambda x: json.loads(x['urls'])['web']['project'].split('?')[0], axis=1)"
   ]
  },
  {
   "cell_type": "code",
   "execution_count": 4,
   "metadata": {},
   "outputs": [],
   "source": [
    "add_new_columns(df_live)\n",
    "add_new_columns(df_ended)"
   ]
  },
  {
   "cell_type": "code",
   "execution_count": 5,
   "metadata": {},
   "outputs": [
    {
     "data": {
      "text/plain": [
       "games           11475\n",
       "technology      11446\n",
       "film & video    11018\n",
       "design          10460\n",
       "publishing       9119\n",
       "music            7517\n",
       "fashion          6959\n",
       "food             5403\n",
       "art              4752\n",
       "comics           3148\n",
       "photography      1867\n",
       "crafts           1702\n",
       "theater          1624\n",
       "journalism       1290\n",
       "dance             604\n",
       "Name: category_parent, dtype: int64"
      ]
     },
     "execution_count": 5,
     "metadata": {},
     "output_type": "execute_result"
    }
   ],
   "source": [
    "df_live['category_parent'].value_counts()"
   ]
  },
  {
   "cell_type": "code",
   "execution_count": 6,
   "metadata": {},
   "outputs": [
    {
     "data": {
      "text/plain": [
       "Town             52762\n",
       "County            1994\n",
       "Suburb            1479\n",
       "LocalAdmin         401\n",
       "Zip                154\n",
       "Island              72\n",
       "Miscellaneous        6\n",
       "Estate               3\n",
       "Country              3\n",
       "Name: location_type, dtype: int64"
      ]
     },
     "execution_count": 6,
     "metadata": {},
     "output_type": "execute_result"
    }
   ],
   "source": [
    "df_ended['location_type'].value_counts()"
   ]
  },
  {
   "cell_type": "code",
   "execution_count": 7,
   "metadata": {
    "collapsed": true
   },
   "outputs": [],
   "source": [
    "# save datasets\n",
    "df_live.to_csv('data/live.csv')\n",
    "df_ended.to_csv('data/ended.csv')"
   ]
  },
  {
   "cell_type": "code",
   "execution_count": null,
   "metadata": {
    "collapsed": true
   },
   "outputs": [],
   "source": []
  },
  {
   "cell_type": "code",
   "execution_count": null,
   "metadata": {
    "collapsed": true
   },
   "outputs": [],
   "source": []
  },
  {
   "cell_type": "markdown",
   "metadata": {
    "collapsed": true
   },
   "source": [
    "# Merging live projects with ended projects"
   ]
  },
  {
   "cell_type": "code",
   "execution_count": 8,
   "metadata": {
    "collapsed": true
   },
   "outputs": [],
   "source": [
    "%matplotlib inline\n",
    "import pandas as pd\n",
    "import matplotlib.pyplot as plt"
   ]
  },
  {
   "cell_type": "code",
   "execution_count": 2,
   "metadata": {},
   "outputs": [
    {
     "name": "stderr",
     "output_type": "stream",
     "text": [
      "C:\\Users\\Patrik\\Anaconda3\\lib\\site-packages\\IPython\\core\\interactiveshell.py:2717: DtypeWarning: Columns (11,14,17,18,19,24,32,40) have mixed types. Specify dtype option on import or set low_memory=False.\n",
      "  interactivity=interactivity, compiler=compiler, result=result)\n"
     ]
    }
   ],
   "source": [
    "df_live = pd.read_csv('data/live.csv', encoding='cp1252', index_col=0)\n",
    "df_ended = pd.read_csv('data/ended.csv', encoding='cp1252', index_col=0)"
   ]
  },
  {
   "cell_type": "code",
   "execution_count": 9,
   "metadata": {
    "collapsed": true
   },
   "outputs": [],
   "source": [
    "# rename columns in df_ended\n",
    "df_ended.rename(columns=lambda name: name+'_end', inplace=True)"
   ]
  },
  {
   "cell_type": "code",
   "execution_count": 10,
   "metadata": {
    "scrolled": true
   },
   "outputs": [
    {
     "name": "stdout",
     "output_type": "stream",
     "text": [
      "<class 'pandas.core.frame.DataFrame'>\n",
      "Int64Index: 65038 entries, 0 to 65037\n",
      "Data columns (total 98 columns):\n",
      "backers_count                   65038 non-null int64\n",
      "backers_count_end               65038 non-null int64\n",
      "blurb                           65038 non-null object\n",
      "blurb_end                       65036 non-null object\n",
      "category                        65038 non-null object\n",
      "category_end                    65038 non-null object\n",
      "category_name                   65038 non-null object\n",
      "category_name_end               65038 non-null object\n",
      "category_parent                 65038 non-null object\n",
      "category_parent_end             65038 non-null object\n",
      "category_position               65038 non-null int64\n",
      "category_position_end           65038 non-null int64\n",
      "converted_pledged_amount        0 non-null float64\n",
      "converted_pledged_amount_end    1701 non-null float64\n",
      "country                         65038 non-null object\n",
      "country_end                     65038 non-null object\n",
      "created_at                      65038 non-null int64\n",
      "created_at_end                  65038 non-null int64\n",
      "creator                         65038 non-null object\n",
      "creator_end                     65038 non-null object\n",
      "creator_name                    65038 non-null object\n",
      "creator_name_end                65038 non-null object\n",
      "currency                        65038 non-null object\n",
      "currency_end                    65038 non-null object\n",
      "currency_symbol                 65038 non-null object\n",
      "currency_symbol_end             65038 non-null object\n",
      "currency_trailing_code          65038 non-null bool\n",
      "currency_trailing_code_end      65038 non-null bool\n",
      "current_currency                0 non-null object\n",
      "current_currency_end            1701 non-null object\n",
      "deadline                        65038 non-null int64\n",
      "deadline_end                    65038 non-null int64\n",
      "disable_communication           65038 non-null bool\n",
      "disable_communication_end       65038 non-null bool\n",
      "friends                         904 non-null object\n",
      "friends_end                     4 non-null object\n",
      "goal                            65038 non-null float64\n",
      "goal_end                        65038 non-null float64\n",
      "id                              65038 non-null int64\n",
      "id_end                          65038 non-null int64\n",
      "is_backing                      904 non-null object\n",
      "is_backing_end                  4 non-null object\n",
      "is_starrable                    3169 non-null object\n",
      "is_starrable_end                5443 non-null object\n",
      "is_starred                      904 non-null object\n",
      "is_starred_end                  4 non-null object\n",
      "last_update_published_at        1 non-null float64\n",
      "last_update_published_at_end    0 non-null float64\n",
      "launched_at                     65038 non-null int64\n",
      "launched_at_end                 65038 non-null int64\n",
      "location                        65038 non-null object\n",
      "location_end                    65038 non-null object\n",
      "location_is_root                65038 non-null bool\n",
      "location_is_root_end            65038 non-null bool\n",
      "location_name                   65038 non-null object\n",
      "location_name_end               65038 non-null object\n",
      "location_state                  65021 non-null object\n",
      "location_state_end              65021 non-null object\n",
      "location_type                   65038 non-null object\n",
      "location_type_end               65038 non-null object\n",
      "name                            65038 non-null object\n",
      "name_end                        65038 non-null object\n",
      "permissions                     904 non-null object\n",
      "permissions_end                 4 non-null object\n",
      "photo                           65038 non-null object\n",
      "photo_end                       65038 non-null object\n",
      "pledged                         65038 non-null float64\n",
      "pledged_end                     65038 non-null float64\n",
      "profile                         65038 non-null object\n",
      "profile_end                     65038 non-null object\n",
      "scraped_at                      65038 non-null int64\n",
      "scraped_at_end                  65038 non-null int64\n",
      "slug                            65038 non-null object\n",
      "slug_end                        65038 non-null object\n",
      "source_url                      65038 non-null object\n",
      "source_url_end                  65038 non-null object\n",
      "spotlight                       65038 non-null bool\n",
      "spotlight_end                   65038 non-null bool\n",
      "staff_pick                      57503 non-null object\n",
      "staff_pick_end                  61349 non-null object\n",
      "state                           65038 non-null object\n",
      "state_changed_at                65038 non-null int64\n",
      "state_changed_at_end            65038 non-null int64\n",
      "state_end                       65038 non-null object\n",
      "static_usd_rate                 65038 non-null float64\n",
      "static_usd_rate_end             65038 non-null float64\n",
      "unread_messages_count           1 non-null float64\n",
      "unread_messages_count_end       0 non-null float64\n",
      "unseen_activity_count           1 non-null float64\n",
      "unseen_activity_count_end       0 non-null float64\n",
      "urls                            65038 non-null object\n",
      "urls_end                        65038 non-null object\n",
      "urls_url                        65038 non-null object\n",
      "urls_url_end                    65038 non-null object\n",
      "usd_pledged                     65038 non-null float64\n",
      "usd_pledged_end                 65038 non-null float64\n",
      "usd_type                        0 non-null object\n",
      "usd_type_end                    1701 non-null object\n",
      "dtypes: bool(8), float64(16), int64(16), object(58)\n",
      "memory usage: 45.7+ MB\n"
     ]
    }
   ],
   "source": [
    "# merge projects to single dataframe\n",
    "df_projects = df_live.merge(df_ended, left_on='id', right_on='id_end')\n",
    "df_projects.sort_index(axis=1, inplace=True)\n",
    "df_projects.info()"
   ]
  },
  {
   "cell_type": "markdown",
   "metadata": {
    "collapsed": true
   },
   "source": [
    "# Cleaning merged dataset"
   ]
  },
  {
   "cell_type": "code",
   "execution_count": 11,
   "metadata": {},
   "outputs": [
    {
     "name": "stdout",
     "output_type": "stream",
     "text": [
      "Following columns were dropped:\n",
      "['country_end', 'created_at_end', 'currency_end', 'currency_symbol_end', 'currency_trailing_code_end', 'goal_end', 'id_end', 'slug_end', 'location_is_root_end']\n"
     ]
    }
   ],
   "source": [
    "# drop duplicate columns\n",
    "cols_to_drop = []\n",
    "for col in df_live.columns:\n",
    "    try:\n",
    "        (df_projects[col] != df_projects[col+'_end']).value_counts()[True]\n",
    "    except KeyError:\n",
    "        cols_to_drop.append(col+'_end')\n",
    "print('Following columns were dropped:\\n' + str(cols_to_drop))\n",
    "df_projects.drop(cols_to_drop, axis=1, inplace=True)"
   ]
  },
  {
   "cell_type": "code",
   "execution_count": 12,
   "metadata": {
    "collapsed": true
   },
   "outputs": [],
   "source": [
    "# drop columns with less than 50% of values\n",
    "df_projects.dropna(axis=1, thresh=df_projects.shape[0]/2, inplace=True)"
   ]
  },
  {
   "cell_type": "code",
   "execution_count": 13,
   "metadata": {},
   "outputs": [
    {
     "name": "stdout",
     "output_type": "stream",
     "text": [
      "<class 'pandas.core.frame.DataFrame'>\n",
      "Int64Index: 65038 entries, 0 to 65037\n",
      "Data columns (total 67 columns):\n",
      "backers_count                65038 non-null int64\n",
      "backers_count_end            65038 non-null int64\n",
      "blurb                        65038 non-null object\n",
      "blurb_end                    65036 non-null object\n",
      "category                     65038 non-null object\n",
      "category_end                 65038 non-null object\n",
      "category_name                65038 non-null object\n",
      "category_name_end            65038 non-null object\n",
      "category_parent              65038 non-null object\n",
      "category_parent_end          65038 non-null object\n",
      "category_position            65038 non-null int64\n",
      "category_position_end        65038 non-null int64\n",
      "country                      65038 non-null object\n",
      "created_at                   65038 non-null int64\n",
      "creator                      65038 non-null object\n",
      "creator_end                  65038 non-null object\n",
      "creator_name                 65038 non-null object\n",
      "creator_name_end             65038 non-null object\n",
      "currency                     65038 non-null object\n",
      "currency_symbol              65038 non-null object\n",
      "currency_trailing_code       65038 non-null bool\n",
      "deadline                     65038 non-null int64\n",
      "deadline_end                 65038 non-null int64\n",
      "disable_communication        65038 non-null bool\n",
      "disable_communication_end    65038 non-null bool\n",
      "goal                         65038 non-null float64\n",
      "id                           65038 non-null int64\n",
      "launched_at                  65038 non-null int64\n",
      "launched_at_end              65038 non-null int64\n",
      "location                     65038 non-null object\n",
      "location_end                 65038 non-null object\n",
      "location_is_root             65038 non-null bool\n",
      "location_name                65038 non-null object\n",
      "location_name_end            65038 non-null object\n",
      "location_state               65021 non-null object\n",
      "location_state_end           65021 non-null object\n",
      "location_type                65038 non-null object\n",
      "location_type_end            65038 non-null object\n",
      "name                         65038 non-null object\n",
      "name_end                     65038 non-null object\n",
      "photo                        65038 non-null object\n",
      "photo_end                    65038 non-null object\n",
      "pledged                      65038 non-null float64\n",
      "pledged_end                  65038 non-null float64\n",
      "profile                      65038 non-null object\n",
      "profile_end                  65038 non-null object\n",
      "scraped_at                   65038 non-null int64\n",
      "scraped_at_end               65038 non-null int64\n",
      "slug                         65038 non-null object\n",
      "source_url                   65038 non-null object\n",
      "source_url_end               65038 non-null object\n",
      "spotlight                    65038 non-null bool\n",
      "spotlight_end                65038 non-null bool\n",
      "staff_pick                   57503 non-null object\n",
      "staff_pick_end               61349 non-null object\n",
      "state                        65038 non-null object\n",
      "state_changed_at             65038 non-null int64\n",
      "state_changed_at_end         65038 non-null int64\n",
      "state_end                    65038 non-null object\n",
      "static_usd_rate              65038 non-null float64\n",
      "static_usd_rate_end          65038 non-null float64\n",
      "urls                         65038 non-null object\n",
      "urls_end                     65038 non-null object\n",
      "urls_url                     65038 non-null object\n",
      "urls_url_end                 65038 non-null object\n",
      "usd_pledged                  65038 non-null float64\n",
      "usd_pledged_end              65038 non-null float64\n",
      "dtypes: bool(6), float64(7), int64(14), object(40)\n",
      "memory usage: 31.1+ MB\n"
     ]
    }
   ],
   "source": [
    "df_projects.info()"
   ]
  },
  {
   "cell_type": "markdown",
   "metadata": {
    "collapsed": true
   },
   "source": [
    "# Resolving inconsistency"
   ]
  },
  {
   "cell_type": "markdown",
   "metadata": {},
   "source": [
    "#### urls_url"
   ]
  },
  {
   "cell_type": "code",
   "execution_count": 14,
   "metadata": {},
   "outputs": [
    {
     "data": {
      "text/plain": [
       "False    64726\n",
       "True       312\n",
       "dtype: int64"
      ]
     },
     "execution_count": 14,
     "metadata": {},
     "output_type": "execute_result"
    }
   ],
   "source": [
    "(df_projects['urls_url'] != df_projects['urls_url_end']).value_counts()"
   ]
  },
  {
   "cell_type": "code",
   "execution_count": 15,
   "metadata": {},
   "outputs": [
    {
     "data": {
      "text/html": [
       "<div>\n",
       "<style>\n",
       "    .dataframe thead tr:only-child th {\n",
       "        text-align: right;\n",
       "    }\n",
       "\n",
       "    .dataframe thead th {\n",
       "        text-align: left;\n",
       "    }\n",
       "\n",
       "    .dataframe tbody tr th {\n",
       "        vertical-align: top;\n",
       "    }\n",
       "</style>\n",
       "<table border=\"1\" class=\"dataframe\">\n",
       "  <thead>\n",
       "    <tr style=\"text-align: right;\">\n",
       "      <th></th>\n",
       "      <th>urls_url</th>\n",
       "      <th>urls_url_end</th>\n",
       "    </tr>\n",
       "  </thead>\n",
       "  <tbody>\n",
       "    <tr>\n",
       "      <th>251</th>\n",
       "      <td>https://www.kickstarter.com/projects/329420790...</td>\n",
       "      <td>https://www.kickstarter.com/projects/michellet...</td>\n",
       "    </tr>\n",
       "    <tr>\n",
       "      <th>347</th>\n",
       "      <td>https://www.kickstarter.com/projects/760709259...</td>\n",
       "      <td>https://www.kickstarter.com/projects/magically...</td>\n",
       "    </tr>\n",
       "    <tr>\n",
       "      <th>349</th>\n",
       "      <td>https://www.kickstarter.com/projects/187568839...</td>\n",
       "      <td>https://www.kickstarter.com/projects/squand/th...</td>\n",
       "    </tr>\n",
       "    <tr>\n",
       "      <th>551</th>\n",
       "      <td>https://www.kickstarter.com/projects/119031164...</td>\n",
       "      <td>https://www.kickstarter.com/projects/garrystew...</td>\n",
       "    </tr>\n",
       "    <tr>\n",
       "      <th>665</th>\n",
       "      <td>https://www.kickstarter.com/projects/132598978...</td>\n",
       "      <td>https://www.kickstarter.com/projects/thirteen5...</td>\n",
       "    </tr>\n",
       "    <tr>\n",
       "      <th>739</th>\n",
       "      <td>https://www.kickstarter.com/projects/633370258...</td>\n",
       "      <td>https://www.kickstarter.com/projects/leedbicyc...</td>\n",
       "    </tr>\n",
       "    <tr>\n",
       "      <th>752</th>\n",
       "      <td>https://www.kickstarter.com/projects/404136324...</td>\n",
       "      <td>https://www.kickstarter.com/projects/nopocamer...</td>\n",
       "    </tr>\n",
       "    <tr>\n",
       "      <th>799</th>\n",
       "      <td>https://www.kickstarter.com/projects/175579555...</td>\n",
       "      <td>https://www.kickstarter.com/projects/healthyve...</td>\n",
       "    </tr>\n",
       "    <tr>\n",
       "      <th>829</th>\n",
       "      <td>https://www.kickstarter.com/projects/118431931...</td>\n",
       "      <td>https://www.kickstarter.com/projects/comfortab...</td>\n",
       "    </tr>\n",
       "    <tr>\n",
       "      <th>1097</th>\n",
       "      <td>https://www.kickstarter.com/projects/286769827...</td>\n",
       "      <td>https://www.kickstarter.com/projects/potatospo...</td>\n",
       "    </tr>\n",
       "  </tbody>\n",
       "</table>\n",
       "</div>"
      ],
      "text/plain": [
       "                                               urls_url  \\\n",
       "251   https://www.kickstarter.com/projects/329420790...   \n",
       "347   https://www.kickstarter.com/projects/760709259...   \n",
       "349   https://www.kickstarter.com/projects/187568839...   \n",
       "551   https://www.kickstarter.com/projects/119031164...   \n",
       "665   https://www.kickstarter.com/projects/132598978...   \n",
       "739   https://www.kickstarter.com/projects/633370258...   \n",
       "752   https://www.kickstarter.com/projects/404136324...   \n",
       "799   https://www.kickstarter.com/projects/175579555...   \n",
       "829   https://www.kickstarter.com/projects/118431931...   \n",
       "1097  https://www.kickstarter.com/projects/286769827...   \n",
       "\n",
       "                                           urls_url_end  \n",
       "251   https://www.kickstarter.com/projects/michellet...  \n",
       "347   https://www.kickstarter.com/projects/magically...  \n",
       "349   https://www.kickstarter.com/projects/squand/th...  \n",
       "551   https://www.kickstarter.com/projects/garrystew...  \n",
       "665   https://www.kickstarter.com/projects/thirteen5...  \n",
       "739   https://www.kickstarter.com/projects/leedbicyc...  \n",
       "752   https://www.kickstarter.com/projects/nopocamer...  \n",
       "799   https://www.kickstarter.com/projects/healthyve...  \n",
       "829   https://www.kickstarter.com/projects/comfortab...  \n",
       "1097  https://www.kickstarter.com/projects/potatospo...  "
      ]
     },
     "execution_count": 15,
     "metadata": {},
     "output_type": "execute_result"
    }
   ],
   "source": [
    "df_projects[(df_projects['urls_url'] != df_projects['urls_url_end'])][['urls_url', 'urls_url_end']].head(10)"
   ]
  },
  {
   "cell_type": "code",
   "execution_count": 16,
   "metadata": {},
   "outputs": [
    {
     "data": {
      "text/plain": [
       "'https://www.kickstarter.com/projects/329420790/youtube-childrens-educational-stories-your-portrai'"
      ]
     },
     "execution_count": 16,
     "metadata": {},
     "output_type": "execute_result"
    }
   ],
   "source": [
    "df_projects[(df_projects['urls_url'] != df_projects['urls_url_end'])].loc[251, 'urls_url']"
   ]
  },
  {
   "cell_type": "code",
   "execution_count": 17,
   "metadata": {},
   "outputs": [
    {
     "data": {
      "text/plain": [
       "'https://www.kickstarter.com/projects/michelleteaguesmith/youtube-childrens-educational-stories-your-portrai'"
      ]
     },
     "execution_count": 17,
     "metadata": {},
     "output_type": "execute_result"
    }
   ],
   "source": [
    "df_projects[(df_projects['urls_url'] != df_projects['urls_url_end'])].loc[251, 'urls_url_end']"
   ]
  },
  {
   "cell_type": "code",
   "execution_count": 18,
   "metadata": {},
   "outputs": [
    {
     "data": {
      "text/plain": [
       "True    65038\n",
       "dtype: int64"
      ]
     },
     "execution_count": 18,
     "metadata": {},
     "output_type": "execute_result"
    }
   ],
   "source": [
    "# ok there are more possibilities for project url, but last part should be same for both - live and ended\n",
    "url1 = df_projects.apply(lambda x: x['urls_url'].split('/')[5], axis=1)\n",
    "url2 = df_projects.apply(lambda x: x['urls_url_end'].split('/')[5], axis=1)\n",
    "\n",
    "(url1 == url2).value_counts()"
   ]
  },
  {
   "cell_type": "code",
   "execution_count": 19,
   "metadata": {},
   "outputs": [
    {
     "data": {
      "text/plain": [
       "le-passioni-dellanima             3\n",
       "tap-room-and-art-gallery-build    3\n",
       "thewinepress                      3\n",
       "runaways-tv-pilot                 3\n",
       "universal-eurpe-expo              3\n",
       "dtype: int64"
      ]
     },
     "execution_count": 19,
     "metadata": {},
     "output_type": "execute_result"
    }
   ],
   "source": [
    "# same project can appear more times in dataset\n",
    "# e.g. snapshot after 3 days and 33 days after project launch, even after 3 days again due to webrobots.io policy of web scraping\n",
    "url1.value_counts().head()"
   ]
  },
  {
   "cell_type": "code",
   "execution_count": 20,
   "metadata": {},
   "outputs": [
    {
     "name": "stdout",
     "output_type": "stream",
     "text": [
      "False\n",
      "False\n"
     ]
    }
   ],
   "source": [
    "# same for name and id\n",
    "print(df_projects['name'].is_unique)\n",
    "print(df_projects['id'].is_unique)"
   ]
  },
  {
   "cell_type": "code",
   "execution_count": 21,
   "metadata": {},
   "outputs": [
    {
     "data": {
      "text/html": [
       "<div>\n",
       "<style>\n",
       "    .dataframe thead tr:only-child th {\n",
       "        text-align: right;\n",
       "    }\n",
       "\n",
       "    .dataframe thead th {\n",
       "        text-align: left;\n",
       "    }\n",
       "\n",
       "    .dataframe tbody tr th {\n",
       "        vertical-align: top;\n",
       "    }\n",
       "</style>\n",
       "<table border=\"1\" class=\"dataframe\">\n",
       "  <thead>\n",
       "    <tr style=\"text-align: right;\">\n",
       "      <th></th>\n",
       "      <th>id</th>\n",
       "      <th>name</th>\n",
       "      <th>urls_url</th>\n",
       "      <th>url_name</th>\n",
       "    </tr>\n",
       "  </thead>\n",
       "  <tbody>\n",
       "    <tr>\n",
       "      <th>0</th>\n",
       "      <td>1857493693</td>\n",
       "      <td>Sacramento Contemporary Dance Theatre \"Resilie...</td>\n",
       "      <td>https://www.kickstarter.com/projects/911926086...</td>\n",
       "      <td>sac-contemporary-dance-theatres-performance-re...</td>\n",
       "    </tr>\n",
       "    <tr>\n",
       "      <th>1</th>\n",
       "      <td>899273969</td>\n",
       "      <td>Dance Battle The Streak</td>\n",
       "      <td>https://www.kickstarter.com/projects/122127184...</td>\n",
       "      <td>all-style-dance-battle-the-streak</td>\n",
       "    </tr>\n",
       "    <tr>\n",
       "      <th>2</th>\n",
       "      <td>847102110</td>\n",
       "      <td>Reverb Performing Arts Center Building Fund</td>\n",
       "      <td>https://www.kickstarter.com/projects/941718644...</td>\n",
       "      <td>reverb-performing-arts-center-building-fund</td>\n",
       "    </tr>\n",
       "    <tr>\n",
       "      <th>3</th>\n",
       "      <td>1684830451</td>\n",
       "      <td>VeRVE Collisionz</td>\n",
       "      <td>https://www.kickstarter.com/projects/64519019/...</td>\n",
       "      <td>verve-collisionz</td>\n",
       "    </tr>\n",
       "    <tr>\n",
       "      <th>5</th>\n",
       "      <td>501585731</td>\n",
       "      <td>Relaunch into a Social Center!</td>\n",
       "      <td>https://www.kickstarter.com/projects/326716038...</td>\n",
       "      <td>relaunch-into-a-social-center</td>\n",
       "    </tr>\n",
       "  </tbody>\n",
       "</table>\n",
       "</div>"
      ],
      "text/plain": [
       "           id                                               name  \\\n",
       "0  1857493693  Sacramento Contemporary Dance Theatre \"Resilie...   \n",
       "1   899273969                            Dance Battle The Streak   \n",
       "2   847102110        Reverb Performing Arts Center Building Fund   \n",
       "3  1684830451                                   VeRVE Collisionz   \n",
       "5   501585731                     Relaunch into a Social Center!   \n",
       "\n",
       "                                            urls_url  \\\n",
       "0  https://www.kickstarter.com/projects/911926086...   \n",
       "1  https://www.kickstarter.com/projects/122127184...   \n",
       "2  https://www.kickstarter.com/projects/941718644...   \n",
       "3  https://www.kickstarter.com/projects/64519019/...   \n",
       "5  https://www.kickstarter.com/projects/326716038...   \n",
       "\n",
       "                                            url_name  \n",
       "0  sac-contemporary-dance-theatres-performance-re...  \n",
       "1                  all-style-dance-battle-the-streak  \n",
       "2        reverb-performing-arts-center-building-fund  \n",
       "3                                   verve-collisionz  \n",
       "5                      relaunch-into-a-social-center  "
      ]
     },
     "execution_count": 21,
     "metadata": {},
     "output_type": "execute_result"
    }
   ],
   "source": [
    "# we need proof that last part of 'urls_url' (= 'url_name') is unique for projects as it is the only option to be able to merge with other datasets\n",
    "# if we drop id duplicates, we should have unique 'id' and 'url_name', but not 'name' as project names can be repeated\n",
    "df_tmp = df_projects[['id','name','urls_url']].drop_duplicates(subset='id')\n",
    "df_tmp['url_name'] = df_tmp.apply(lambda x: x['urls_url'].split('/')[5], axis=1)\n",
    "df_tmp.head()"
   ]
  },
  {
   "cell_type": "code",
   "execution_count": 22,
   "metadata": {},
   "outputs": [
    {
     "name": "stdout",
     "output_type": "stream",
     "text": [
      "True\n",
      "True\n",
      "False\n"
     ]
    }
   ],
   "source": [
    "print(df_tmp['id'].is_unique)\n",
    "print(df_tmp['url_name'].is_unique)\n",
    "print(df_tmp['name'].is_unique)"
   ]
  },
  {
   "cell_type": "code",
   "execution_count": 23,
   "metadata": {
    "collapsed": true
   },
   "outputs": [],
   "source": [
    "# we can now store 'url_name' as new column and use it as unique identifier of project for further merging\n",
    "df_projects['url_name'] = df_projects.apply(lambda x: x['urls_url'].split('/')[5], axis=1)"
   ]
  },
  {
   "cell_type": "markdown",
   "metadata": {
    "collapsed": true
   },
   "source": [
    "#### launched_at"
   ]
  },
  {
   "cell_type": "code",
   "execution_count": 24,
   "metadata": {},
   "outputs": [
    {
     "data": {
      "text/plain": [
       "<matplotlib.text.Text at 0x1f259bdb940>"
      ]
     },
     "execution_count": 24,
     "metadata": {},
     "output_type": "execute_result"
    },
    {
     "data": {
      "image/png": "[encoded data removed]",
      "text/plain": [
       "<matplotlib.figure.Figure at 0x1f2275d4390>"
      ]
     },
     "metadata": {},
     "output_type": "display_data"
    }
   ],
   "source": [
    "df_projects.plot(x='launched_at', y='launched_at_end', kind='scatter', figsize=(8,8))\n",
    "plt.title('Comparison of \"lauched_at\" and \"launched_at_end\"')"
   ]
  },
  {
   "cell_type": "code",
   "execution_count": 25,
   "metadata": {},
   "outputs": [
    {
     "data": {
      "text/plain": [
       "False    65037\n",
       "True         1\n",
       "dtype: int64"
      ]
     },
     "execution_count": 25,
     "metadata": {},
     "output_type": "execute_result"
    }
   ],
   "source": [
    "# this should not contain True, but it does => inconsistency in dataset\n",
    "(df_projects['launched_at'] != df_projects['launched_at_end']).value_counts()"
   ]
  },
  {
   "cell_type": "code",
   "execution_count": 26,
   "metadata": {},
   "outputs": [
    {
     "data": {
      "text/html": [
       "<div>\n",
       "<style>\n",
       "    .dataframe thead tr:only-child th {\n",
       "        text-align: right;\n",
       "    }\n",
       "\n",
       "    .dataframe thead th {\n",
       "        text-align: left;\n",
       "    }\n",
       "\n",
       "    .dataframe tbody tr th {\n",
       "        vertical-align: top;\n",
       "    }\n",
       "</style>\n",
       "<table border=\"1\" class=\"dataframe\">\n",
       "  <thead>\n",
       "    <tr style=\"text-align: right;\">\n",
       "      <th></th>\n",
       "      <th>id</th>\n",
       "      <th>name</th>\n",
       "      <th>launched_at</th>\n",
       "      <th>launched_at_end</th>\n",
       "    </tr>\n",
       "  </thead>\n",
       "  <tbody>\n",
       "    <tr>\n",
       "      <th>9271</th>\n",
       "      <td>615482414</td>\n",
       "      <td>Instant Hydrator, Hydrates,All Natural, Digest...</td>\n",
       "      <td>1453784664</td>\n",
       "      <td>1454537838</td>\n",
       "    </tr>\n",
       "  </tbody>\n",
       "</table>\n",
       "</div>"
      ],
      "text/plain": [
       "             id                                               name  \\\n",
       "9271  615482414  Instant Hydrator, Hydrates,All Natural, Digest...   \n",
       "\n",
       "      launched_at  launched_at_end  \n",
       "9271   1453784664       1454537838  "
      ]
     },
     "execution_count": 26,
     "metadata": {},
     "output_type": "execute_result"
    }
   ],
   "source": [
    "# look at values\n",
    "df_projects[(df_projects['launched_at'] != df_projects['launched_at_end'])][['id','name','launched_at','launched_at_end']]"
   ]
  },
  {
   "cell_type": "code",
   "execution_count": 27,
   "metadata": {
    "collapsed": true
   },
   "outputs": [],
   "source": [
    "# keep only original datetime\n",
    "df_projects.drop('launched_at_end', axis=1, inplace=True)"
   ]
  },
  {
   "cell_type": "markdown",
   "metadata": {
    "collapsed": true
   },
   "source": [
    "#### deadline"
   ]
  },
  {
   "cell_type": "code",
   "execution_count": 28,
   "metadata": {},
   "outputs": [
    {
     "data": {
      "text/plain": [
       "<matplotlib.text.Text at 0x1f24be20978>"
      ]
     },
     "execution_count": 28,
     "metadata": {},
     "output_type": "execute_result"
    },
    {
     "data": {
      "image/png": "[encoded data removed]",
      "text/plain": [
       "<matplotlib.figure.Figure at 0x1f24b9190b8>"
      ]
     },
     "metadata": {},
     "output_type": "display_data"
    }
   ],
   "source": [
    "df_projects.plot(x='deadline', y='deadline_end', kind='scatter', figsize=(8,8))\n",
    "plt.title('Comparison of \"deadline\" and \"deadline_end\"')"
   ]
  },
  {
   "cell_type": "code",
   "execution_count": 29,
   "metadata": {},
   "outputs": [
    {
     "data": {
      "text/plain": [
       "False    64980\n",
       "True        58\n",
       "dtype: int64"
      ]
     },
     "execution_count": 29,
     "metadata": {},
     "output_type": "execute_result"
    }
   ],
   "source": [
    "# this should not contain True, but it does => inconsistency in dataset\n",
    "(df_projects['deadline'] != df_projects['deadline_end']).value_counts()"
   ]
  },
  {
   "cell_type": "code",
   "execution_count": 30,
   "metadata": {},
   "outputs": [
    {
     "data": {
      "text/html": [
       "<div>\n",
       "<style>\n",
       "    .dataframe thead tr:only-child th {\n",
       "        text-align: right;\n",
       "    }\n",
       "\n",
       "    .dataframe thead th {\n",
       "        text-align: left;\n",
       "    }\n",
       "\n",
       "    .dataframe tbody tr th {\n",
       "        vertical-align: top;\n",
       "    }\n",
       "</style>\n",
       "<table border=\"1\" class=\"dataframe\">\n",
       "  <thead>\n",
       "    <tr style=\"text-align: right;\">\n",
       "      <th></th>\n",
       "      <th>id</th>\n",
       "      <th>name</th>\n",
       "      <th>deadline</th>\n",
       "      <th>deadline_end</th>\n",
       "    </tr>\n",
       "  </thead>\n",
       "  <tbody>\n",
       "    <tr>\n",
       "      <th>619</th>\n",
       "      <td>603503453</td>\n",
       "      <td>The Monsieur Barbier Box : Shaving &amp; Music, Ra...</td>\n",
       "      <td>1448922180</td>\n",
       "      <td>1449613380</td>\n",
       "    </tr>\n",
       "    <tr>\n",
       "      <th>633</th>\n",
       "      <td>1495917692</td>\n",
       "      <td>2016 Letterpress Calendar . The creative manif...</td>\n",
       "      <td>1449009780</td>\n",
       "      <td>1449441780</td>\n",
       "    </tr>\n",
       "    <tr>\n",
       "      <th>1345</th>\n",
       "      <td>1378352264</td>\n",
       "      <td>Casablancas | The Man Who Loved Women</td>\n",
       "      <td>1449164045</td>\n",
       "      <td>1450287245</td>\n",
       "    </tr>\n",
       "    <tr>\n",
       "      <th>1366</th>\n",
       "      <td>1866394158</td>\n",
       "      <td>I Love Therefore I Am - Documentary</td>\n",
       "      <td>1448866800</td>\n",
       "      <td>1449730800</td>\n",
       "    </tr>\n",
       "    <tr>\n",
       "      <th>1780</th>\n",
       "      <td>1020745465</td>\n",
       "      <td>SECOND CHANCE - DEUXI?ME CHANCE</td>\n",
       "      <td>1450016445</td>\n",
       "      <td>1451226045</td>\n",
       "    </tr>\n",
       "    <tr>\n",
       "      <th>2110</th>\n",
       "      <td>2044197681</td>\n",
       "      <td>Welcome to Another World!</td>\n",
       "      <td>1448018810</td>\n",
       "      <td>1448623610</td>\n",
       "    </tr>\n",
       "    <tr>\n",
       "      <th>2284</th>\n",
       "      <td>281156070</td>\n",
       "      <td>Würm : a prehistoric RPG</td>\n",
       "      <td>1449239761</td>\n",
       "      <td>1449671761</td>\n",
       "    </tr>\n",
       "    <tr>\n",
       "      <th>2381</th>\n",
       "      <td>174456433</td>\n",
       "      <td>Pur cashmere poncho Workshop</td>\n",
       "      <td>1448756490</td>\n",
       "      <td>1449966090</td>\n",
       "    </tr>\n",
       "    <tr>\n",
       "      <th>2415</th>\n",
       "      <td>382060495</td>\n",
       "      <td>Pankapu: the Dreamkeeper</td>\n",
       "      <td>1448621976</td>\n",
       "      <td>1449831576</td>\n",
       "    </tr>\n",
       "    <tr>\n",
       "      <th>2487</th>\n",
       "      <td>1401246575</td>\n",
       "      <td>#lanouvelleolympe</td>\n",
       "      <td>1448630040</td>\n",
       "      <td>1449839640</td>\n",
       "    </tr>\n",
       "  </tbody>\n",
       "</table>\n",
       "</div>"
      ],
      "text/plain": [
       "              id                                               name  \\\n",
       "619    603503453  The Monsieur Barbier Box : Shaving & Music, Ra...   \n",
       "633   1495917692  2016 Letterpress Calendar . The creative manif...   \n",
       "1345  1378352264              Casablancas | The Man Who Loved Women   \n",
       "1366  1866394158                I Love Therefore I Am - Documentary   \n",
       "1780  1020745465                    SECOND CHANCE - DEUXI?ME CHANCE   \n",
       "2110  2044197681                          Welcome to Another World!   \n",
       "2284   281156070                           Würm : a prehistoric RPG   \n",
       "2381   174456433                       Pur cashmere poncho Workshop   \n",
       "2415   382060495                           Pankapu: the Dreamkeeper   \n",
       "2487  1401246575                                  #lanouvelleolympe   \n",
       "\n",
       "        deadline  deadline_end  \n",
       "619   1448922180    1449613380  \n",
       "633   1449009780    1449441780  \n",
       "1345  1449164045    1450287245  \n",
       "1366  1448866800    1449730800  \n",
       "1780  1450016445    1451226045  \n",
       "2110  1448018810    1448623610  \n",
       "2284  1449239761    1449671761  \n",
       "2381  1448756490    1449966090  \n",
       "2415  1448621976    1449831576  \n",
       "2487  1448630040    1449839640  "
      ]
     },
     "execution_count": 30,
     "metadata": {},
     "output_type": "execute_result"
    }
   ],
   "source": [
    "# look at values\n",
    "df_projects[(df_projects['deadline'] != df_projects['deadline_end'])][['id','name','deadline','deadline_end']].head(10)"
   ]
  },
  {
   "cell_type": "code",
   "execution_count": 31,
   "metadata": {
    "collapsed": true
   },
   "outputs": [],
   "source": [
    "# keep only last datetime\n",
    "df_projects.drop('deadline', axis=1, inplace=True)"
   ]
  },
  {
   "cell_type": "markdown",
   "metadata": {},
   "source": [
    "#### scraped_at vs launched_at"
   ]
  },
  {
   "cell_type": "code",
   "execution_count": 32,
   "metadata": {},
   "outputs": [
    {
     "data": {
      "text/html": [
       "<div>\n",
       "<style>\n",
       "    .dataframe thead tr:only-child th {\n",
       "        text-align: right;\n",
       "    }\n",
       "\n",
       "    .dataframe thead th {\n",
       "        text-align: left;\n",
       "    }\n",
       "\n",
       "    .dataframe tbody tr th {\n",
       "        vertical-align: top;\n",
       "    }\n",
       "</style>\n",
       "<table border=\"1\" class=\"dataframe\">\n",
       "  <thead>\n",
       "    <tr style=\"text-align: right;\">\n",
       "      <th></th>\n",
       "      <th>name</th>\n",
       "      <th>launched_at</th>\n",
       "      <th>scraped_at</th>\n",
       "    </tr>\n",
       "  </thead>\n",
       "  <tbody>\n",
       "    <tr>\n",
       "      <th>639</th>\n",
       "      <td>The Detroit Bikes C-Type: The American Single ...</td>\n",
       "      <td>1446391659</td>\n",
       "      <td>1446390544</td>\n",
       "    </tr>\n",
       "    <tr>\n",
       "      <th>1028</th>\n",
       "      <td>Vertical Growth Inc.</td>\n",
       "      <td>1446391164</td>\n",
       "      <td>1446390544</td>\n",
       "    </tr>\n",
       "    <tr>\n",
       "      <th>1237</th>\n",
       "      <td>SAVING BORSHIA</td>\n",
       "      <td>1446390555</td>\n",
       "      <td>1446390544</td>\n",
       "    </tr>\n",
       "    <tr>\n",
       "      <th>4598</th>\n",
       "      <td>When Santa becomes a Hero | FJ Show Project</td>\n",
       "      <td>1450358562</td>\n",
       "      <td>1450357746</td>\n",
       "    </tr>\n",
       "    <tr>\n",
       "      <th>5306</th>\n",
       "      <td>Short film in Japan</td>\n",
       "      <td>1450359213</td>\n",
       "      <td>1450357746</td>\n",
       "    </tr>\n",
       "  </tbody>\n",
       "</table>\n",
       "</div>"
      ],
      "text/plain": [
       "                                                   name  launched_at  \\\n",
       "639   The Detroit Bikes C-Type: The American Single ...   1446391659   \n",
       "1028                               Vertical Growth Inc.   1446391164   \n",
       "1237                                     SAVING BORSHIA   1446390555   \n",
       "4598        When Santa becomes a Hero | FJ Show Project   1450358562   \n",
       "5306                                Short film in Japan   1450359213   \n",
       "\n",
       "      scraped_at  \n",
       "639   1446390544  \n",
       "1028  1446390544  \n",
       "1237  1446390544  \n",
       "4598  1450357746  \n",
       "5306  1450357746  "
      ]
     },
     "execution_count": 32,
     "metadata": {},
     "output_type": "execute_result"
    }
   ],
   "source": [
    "df_projects[df_projects['launched_at'] > df_projects['scraped_at']][['name','launched_at','scraped_at']].head()"
   ]
  },
  {
   "cell_type": "code",
   "execution_count": 33,
   "metadata": {
    "scrolled": true
   },
   "outputs": [
    {
     "data": {
      "text/plain": [
       "60483   -16491\n",
       "62797   -16190\n",
       "32062   -13480\n",
       "60343   -13080\n",
       "32648   -12425\n",
       "32013   -11087\n",
       "57147    -9487\n",
       "64307    -9295\n",
       "7820     -8213\n",
       "19273    -7926\n",
       "62671    -7905\n",
       "26255    -7337\n",
       "60272    -7247\n",
       "33222    -7062\n",
       "58811    -7060\n",
       "26116    -6882\n",
       "60889    -6725\n",
       "16240    -6642\n",
       "23651    -6591\n",
       "33485    -6064\n",
       "23638    -6046\n",
       "23916    -6045\n",
       "53263    -5759\n",
       "43171    -5415\n",
       "56864    -5080\n",
       "16922    -5024\n",
       "20607    -4972\n",
       "45898    -4831\n",
       "62502    -4689\n",
       "55145    -4236\n",
       "         ...  \n",
       "58994    -1673\n",
       "36253    -1654\n",
       "51628    -1630\n",
       "62263    -1614\n",
       "45575    -1575\n",
       "56625    -1475\n",
       "5306     -1467\n",
       "34547    -1463\n",
       "39818    -1427\n",
       "12777    -1294\n",
       "33513    -1223\n",
       "33144    -1215\n",
       "11424    -1170\n",
       "639      -1115\n",
       "21284    -1038\n",
       "16422    -1029\n",
       "23536     -903\n",
       "4598      -816\n",
       "1028      -620\n",
       "59936     -571\n",
       "33517     -553\n",
       "27518     -471\n",
       "27482     -430\n",
       "48497     -266\n",
       "21050     -222\n",
       "17875     -145\n",
       "33519     -140\n",
       "43336      -81\n",
       "48475      -78\n",
       "1237       -11\n",
       "Length: 89, dtype: int64"
      ]
     },
     "execution_count": 33,
     "metadata": {},
     "output_type": "execute_result"
    }
   ],
   "source": [
    "x = df_projects['scraped_at'] - df_projects['launched_at']\n",
    "x[x<0].sort_values()"
   ]
  },
  {
   "cell_type": "code",
   "execution_count": 34,
   "metadata": {},
   "outputs": [
    {
     "data": {
      "text/plain": [
       "<matplotlib.text.Text at 0x1f24be6cb70>"
      ]
     },
     "execution_count": 34,
     "metadata": {},
     "output_type": "execute_result"
    },
    {
     "data": {
      "image/png": "[encoded data removed]",
      "text/plain": [
       "<matplotlib.figure.Figure at 0x1f24d81d9e8>"
      ]
     },
     "metadata": {},
     "output_type": "display_data"
    }
   ],
   "source": [
    "(x / (60*60)).hist(bins=100, figsize=(15,5))\n",
    "plt.title('Hours since launched_at to scraped_at')\n",
    "plt.xlabel('hours')\n",
    "plt.ylabel('count')"
   ]
  },
  {
   "cell_type": "code",
   "execution_count": 30,
   "metadata": {
    "collapsed": true
   },
   "outputs": [],
   "source": [
    "# add 5800 seconds to scraped_at to fix timezone issues\n",
    "#df_projects['scraped_at'] = df_projects['scraped_at'] - 5800"
   ]
  },
  {
   "cell_type": "code",
   "execution_count": 35,
   "metadata": {},
   "outputs": [
    {
     "data": {
      "text/plain": [
       "60483   -16491\n",
       "62797   -16190\n",
       "32062   -13480\n",
       "60343   -13080\n",
       "32648   -12425\n",
       "32013   -11087\n",
       "57147    -9487\n",
       "64307    -9295\n",
       "7820     -8213\n",
       "19273    -7926\n",
       "62671    -7905\n",
       "26255    -7337\n",
       "60272    -7247\n",
       "33222    -7062\n",
       "58811    -7060\n",
       "26116    -6882\n",
       "60889    -6725\n",
       "16240    -6642\n",
       "23651    -6591\n",
       "33485    -6064\n",
       "23638    -6046\n",
       "23916    -6045\n",
       "53263    -5759\n",
       "43171    -5415\n",
       "56864    -5080\n",
       "16922    -5024\n",
       "20607    -4972\n",
       "45898    -4831\n",
       "62502    -4689\n",
       "55145    -4236\n",
       "         ...  \n",
       "58994    -1673\n",
       "36253    -1654\n",
       "51628    -1630\n",
       "62263    -1614\n",
       "45575    -1575\n",
       "56625    -1475\n",
       "5306     -1467\n",
       "34547    -1463\n",
       "39818    -1427\n",
       "12777    -1294\n",
       "33513    -1223\n",
       "33144    -1215\n",
       "11424    -1170\n",
       "639      -1115\n",
       "21284    -1038\n",
       "16422    -1029\n",
       "23536     -903\n",
       "4598      -816\n",
       "1028      -620\n",
       "59936     -571\n",
       "33517     -553\n",
       "27518     -471\n",
       "27482     -430\n",
       "48497     -266\n",
       "21050     -222\n",
       "17875     -145\n",
       "33519     -140\n",
       "43336      -81\n",
       "48475      -78\n",
       "1237       -11\n",
       "Length: 89, dtype: int64"
      ]
     },
     "execution_count": 35,
     "metadata": {},
     "output_type": "execute_result"
    }
   ],
   "source": [
    "x = df_projects['scraped_at'] - df_projects['launched_at']\n",
    "x[x<0].sort_values()"
   ]
  },
  {
   "cell_type": "markdown",
   "metadata": {},
   "source": [
    "#### scraped_at vs deadline_end"
   ]
  },
  {
   "cell_type": "code",
   "execution_count": 36,
   "metadata": {},
   "outputs": [
    {
     "data": {
      "text/html": [
       "<div>\n",
       "<style>\n",
       "    .dataframe thead tr:only-child th {\n",
       "        text-align: right;\n",
       "    }\n",
       "\n",
       "    .dataframe thead th {\n",
       "        text-align: left;\n",
       "    }\n",
       "\n",
       "    .dataframe tbody tr th {\n",
       "        vertical-align: top;\n",
       "    }\n",
       "</style>\n",
       "<table border=\"1\" class=\"dataframe\">\n",
       "  <thead>\n",
       "    <tr style=\"text-align: right;\">\n",
       "      <th></th>\n",
       "      <th>name</th>\n",
       "      <th>deadline_end</th>\n",
       "      <th>scraped_at</th>\n",
       "    </tr>\n",
       "  </thead>\n",
       "  <tbody>\n",
       "    <tr>\n",
       "      <th>7566</th>\n",
       "      <td>Cloud-Based ERP</td>\n",
       "      <td>1450357140</td>\n",
       "      <td>1450357746</td>\n",
       "    </tr>\n",
       "    <tr>\n",
       "      <th>10372</th>\n",
       "      <td>Introspectus: entre el pincel y la pluma</td>\n",
       "      <td>1453974515</td>\n",
       "      <td>1453976108</td>\n",
       "    </tr>\n",
       "    <tr>\n",
       "      <th>41611</th>\n",
       "      <td>New Android Mobile Messaging App</td>\n",
       "      <td>1481842426</td>\n",
       "      <td>1481844052</td>\n",
       "    </tr>\n",
       "    <tr>\n",
       "      <th>41922</th>\n",
       "      <td>Surviving '16</td>\n",
       "      <td>1484521547</td>\n",
       "      <td>1484522464</td>\n",
       "    </tr>\n",
       "    <tr>\n",
       "      <th>44050</th>\n",
       "      <td>JZ Lace Custom Bracelet Online Store Relaunch</td>\n",
       "      <td>1484521746</td>\n",
       "      <td>1484522464</td>\n",
       "    </tr>\n",
       "  </tbody>\n",
       "</table>\n",
       "</div>"
      ],
      "text/plain": [
       "                                                name  deadline_end  scraped_at\n",
       "7566                                 Cloud-Based ERP    1450357140  1450357746\n",
       "10372       Introspectus: entre el pincel y la pluma    1453974515  1453976108\n",
       "41611               New Android Mobile Messaging App    1481842426  1481844052\n",
       "41922                                  Surviving '16    1484521547  1484522464\n",
       "44050  JZ Lace Custom Bracelet Online Store Relaunch    1484521746  1484522464"
      ]
     },
     "execution_count": 36,
     "metadata": {},
     "output_type": "execute_result"
    }
   ],
   "source": [
    "df_projects[df_projects['deadline_end'] < df_projects['scraped_at']][['name','deadline_end','scraped_at']].head()"
   ]
  },
  {
   "cell_type": "code",
   "execution_count": 37,
   "metadata": {
    "scrolled": true
   },
   "outputs": [
    {
     "data": {
      "text/plain": [
       "41611   -1626\n",
       "10372   -1593\n",
       "50224   -1195\n",
       "41922    -917\n",
       "44050    -718\n",
       "7566     -606\n",
       "46763    -422\n",
       "dtype: int64"
      ]
     },
     "execution_count": 37,
     "metadata": {},
     "output_type": "execute_result"
    }
   ],
   "source": [
    "x = df_projects['deadline_end'] - df_projects['scraped_at']\n",
    "x[x<0].sort_values()"
   ]
  },
  {
   "cell_type": "code",
   "execution_count": 38,
   "metadata": {},
   "outputs": [
    {
     "data": {
      "text/plain": [
       "<matplotlib.text.Text at 0x1f24be550f0>"
      ]
     },
     "execution_count": 38,
     "metadata": {},
     "output_type": "execute_result"
    },
    {
     "data": {
      "image/png": "[encoded data removed]",
      "text/plain": [
       "<matplotlib.figure.Figure at 0x1f24b7f9ac8>"
      ]
     },
     "metadata": {},
     "output_type": "display_data"
    }
   ],
   "source": [
    "(x / (60*60)).hist(bins=100, figsize=(15,5))\n",
    "plt.title('Hours since scraped_at to deadline_end')\n",
    "plt.xlabel('hours')\n",
    "plt.ylabel('count')"
   ]
  },
  {
   "cell_type": "code",
   "execution_count": 39,
   "metadata": {},
   "outputs": [
    {
     "data": {
      "text/plain": [
       "1489620055    2\n",
       "1484522464    2\n",
       "1481844052    1\n",
       "1453976108    1\n",
       "1450357746    1\n",
       "Name: scraped_at, dtype: int64"
      ]
     },
     "execution_count": 39,
     "metadata": {},
     "output_type": "execute_result"
    }
   ],
   "source": [
    "df_projects[df_projects['deadline_end'] - df_projects['scraped_at'] < 0]['scraped_at'].value_counts()"
   ]
  },
  {
   "cell_type": "code",
   "execution_count": null,
   "metadata": {
    "collapsed": true
   },
   "outputs": [],
   "source": []
  },
  {
   "cell_type": "code",
   "execution_count": null,
   "metadata": {
    "collapsed": true
   },
   "outputs": [],
   "source": []
  },
  {
   "cell_type": "code",
   "execution_count": null,
   "metadata": {
    "collapsed": true
   },
   "outputs": [],
   "source": []
  },
  {
   "cell_type": "code",
   "execution_count": 50,
   "metadata": {
    "collapsed": true
   },
   "outputs": [],
   "source": [
    "df_projects.to_csv('data/projects_merged.csv')"
   ]
  },
  {
   "cell_type": "markdown",
   "metadata": {},
   "source": [
    "# TODO:"
   ]
  },
  {
   "cell_type": "code",
   "execution_count": null,
   "metadata": {
    "collapsed": true
   },
   "outputs": [],
   "source": [
    "os.path.getmtime(r'C:\\Users\\Patrik\\Downloads\\webrobots.iokickstarter-datasets\\Kickstarter_2016-07-15T02_04_40_862Z\\Kickstarter.csv')"
   ]
  },
  {
   "cell_type": "code",
   "execution_count": null,
   "metadata": {
    "collapsed": true
   },
   "outputs": [],
   "source": [
    "df_projects = pd.read_csv('data/projects_merged.csv', encoding='cp1252', index_col=0)\n",
    "df_projects.info()"
   ]
  },
  {
   "cell_type": "code",
   "execution_count": 39,
   "metadata": {
    "collapsed": true
   },
   "outputs": [],
   "source": [
    "import datetime\n",
    "x = datetime.datetime(2017, 11, 15)"
   ]
  },
  {
   "cell_type": "code",
   "execution_count": 43,
   "metadata": {},
   "outputs": [
    {
     "data": {
      "text/plain": [
       "1510700400"
      ]
     },
     "execution_count": 43,
     "metadata": {},
     "output_type": "execute_result"
    }
   ],
   "source": [
    "int(x.timestamp())"
   ]
  },
  {
   "cell_type": "code",
   "execution_count": 58,
   "metadata": {},
   "outputs": [
    {
     "data": {
      "text/plain": [
       "1468548280"
      ]
     },
     "execution_count": 58,
     "metadata": {},
     "output_type": "execute_result"
    }
   ],
   "source": [
    "name = 'Kickstarter_2016-07-15T02_04_40_862Z'\n",
    "name_split =  name.split('_')\n",
    "date = name_split[1].split('-')\n",
    "year = date[0]\n",
    "month = date[1]\n",
    "day = date[2].split('T')[0]\n",
    "hour = date[2].split('T')[1]\n",
    "minute = name_split[2]\n",
    "second = name_split[3]\n",
    "\n",
    "int(datetime.datetime(int(year), int(month), int(day), int(hour), int(minute), int(second)).timestamp() + 7200)"
   ]
  },
  {
   "cell_type": "code",
   "execution_count": 50,
   "metadata": {},
   "outputs": [
    {
     "data": {
      "text/plain": [
       "'2016'"
      ]
     },
     "execution_count": 50,
     "metadata": {},
     "output_type": "execute_result"
    }
   ],
   "source": [
    "year"
   ]
  },
  {
   "cell_type": "code",
   "execution_count": 51,
   "metadata": {},
   "outputs": [
    {
     "data": {
      "text/plain": [
       "'07'"
      ]
     },
     "execution_count": 51,
     "metadata": {},
     "output_type": "execute_result"
    }
   ],
   "source": [
    "month"
   ]
  },
  {
   "cell_type": "code",
   "execution_count": 52,
   "metadata": {},
   "outputs": [
    {
     "data": {
      "text/plain": [
       "'15'"
      ]
     },
     "execution_count": 52,
     "metadata": {},
     "output_type": "execute_result"
    }
   ],
   "source": [
    "day"
   ]
  },
  {
   "cell_type": "code",
   "execution_count": 53,
   "metadata": {},
   "outputs": [
    {
     "data": {
      "text/plain": [
       "'02'"
      ]
     },
     "execution_count": 53,
     "metadata": {},
     "output_type": "execute_result"
    }
   ],
   "source": [
    "hour"
   ]
  },
  {
   "cell_type": "code",
   "execution_count": 54,
   "metadata": {},
   "outputs": [
    {
     "data": {
      "text/plain": [
       "'04'"
      ]
     },
     "execution_count": 54,
     "metadata": {},
     "output_type": "execute_result"
    }
   ],
   "source": [
    "minute"
   ]
  },
  {
   "cell_type": "code",
   "execution_count": 55,
   "metadata": {},
   "outputs": [
    {
     "data": {
      "text/plain": [
       "'40'"
      ]
     },
     "execution_count": 55,
     "metadata": {},
     "output_type": "execute_result"
    }
   ],
   "source": [
    "second"
   ]
  },
  {
   "cell_type": "code",
   "execution_count": null,
   "metadata": {
    "collapsed": true
   },
   "outputs": [],
   "source": []
  }
 ],
 "metadata": {
  "kernelspec": {
   "display_name": "Python 3",
   "language": "python",
   "name": "python3"
  },
  "language_info": {
   "codemirror_mode": {
    "name": "ipython",
    "version": 3
   },
   "file_extension": ".py",
   "mimetype": "text/x-python",
   "name": "python",
   "nbconvert_exporter": "python",
   "pygments_lexer": "ipython3",
   "version": "3.6.1"
  }
 },
 "nbformat": 4,
 "nbformat_minor": 2
}
