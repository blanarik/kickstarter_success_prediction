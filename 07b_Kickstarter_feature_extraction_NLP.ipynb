{
 "cells": [
  {
   "cell_type": "code",
   "execution_count": 404,
   "metadata": {
    "collapsed": true
   },
   "outputs": [],
   "source": [
    "%matplotlib inline\n",
    "import pandas as pd\n",
    "import matplotlib.pyplot as plt\n",
    "import seaborn as sns\n",
    "import numpy as np\n",
    "\n",
    "from ast import literal_eval\n",
    "\n",
    "from nltk.tokenize import RegexpTokenizer\n",
    "from nltk.corpus import stopwords\n",
    "from nltk.stem import WordNetLemmatizer\n",
    "\n",
    "from collections import defaultdict\n",
    "\n",
    "from sklearn.feature_extraction.text import TfidfVectorizer\n",
    "from sklearn.feature_extraction.text import CountVectorizer\n",
    "\n",
    "from sklearn.decomposition import LatentDirichletAllocation\n",
    "\n",
    "from sklearn.ensemble import GradientBoostingClassifier\n",
    "\n",
    "from sklearn import metrics\n",
    "from sklearn.metrics import confusion_matrix"
   ]
  },
  {
   "cell_type": "code",
   "execution_count": null,
   "metadata": {
    "collapsed": true
   },
   "outputs": [],
   "source": [
    "# metrics for each class + weighted average (- bad impact)\n",
    "# micro f1 = accuracy\n",
    "def print_metrics(cls, X_test, y_test):\n",
    "    sns.heatmap(confusion_matrix(y_test, cls.predict(X_test)), annot=True, fmt='g', annot_kws={\"size\": 16})\n",
    "    print('accuracy: ',metrics.accuracy_score(y_test, cls.predict(X_test)))\n",
    "    print()\n",
    "    print(metrics.classification_report(y_test, cls.predict(X_test)))\n",
    "    print('macro precision: ',metrics.precision_score(y_test, cls.predict(X_test), average='macro'))\n",
    "    print('micro precision: ',metrics.precision_score(y_test, cls.predict(X_test), average='micro'))\n",
    "    print()\n",
    "    print('micro recall: ',metrics.recall_score(y_test, cls.predict(X_test), average='micro'))\n",
    "    print('macro recall: ',metrics.recall_score(y_test, cls.predict(X_test), average='macro'))\n",
    "    print()\n",
    "    print('micro f1: ',metrics.f1_score(y_test, cls.predict(X_test), average='micro'))\n",
    "    print('macro f1: ',metrics.f1_score(y_test, cls.predict(X_test), average='macro'))\n",
    "    plt.show()"
   ]
  },
  {
   "cell_type": "markdown",
   "metadata": {},
   "source": [
    "# Natural language processing (NLP)\n",
    "\n",
    "Dataset contains descriptions of projects. These are in HTML format as they were obtained by web scraping. Projects are from different countries and therefore their descriptions can be written in different languages.\n",
    "\n",
    "We wrote a module for text extraction from HTML using BeautifulSoup and for language detection using Google Translate API based on first and last 100 characters of each description (as we are sure that some projects are written in more languages).\n",
    "\n",
    "Module can only be run with Python 2 version as version 3 is not supported by Google API yet. We run scripts in CLI multiple times to detect languages of all projects in train, test and validation sets (as daily limit is 2 000 000 characters).\n",
    "\n",
    "Resulting datasets are stored on path: data/split/nlp/"
   ]
  },
  {
   "cell_type": "code",
   "execution_count": 502,
   "metadata": {
    "collapsed": true
   },
   "outputs": [],
   "source": [
    "x = pd.read_csv('data/split/nlp/train.csv', index_col=0)"
   ]
  },
  {
   "cell_type": "code",
   "execution_count": 505,
   "metadata": {},
   "outputs": [
    {
     "data": {
      "text/plain": [
       "(18296, 56)"
      ]
     },
     "execution_count": 505,
     "metadata": {},
     "output_type": "execute_result"
    }
   ],
   "source": [
    "x.shape"
   ]
  },
  {
   "cell_type": "markdown",
   "metadata": {},
   "source": [
    "## Analysis"
   ]
  },
  {
   "cell_type": "markdown",
   "metadata": {},
   "source": [
    "Firstly we will analyze how many descriptions are written in non-english so we can translate them into english using Google API if necessary. We will also analyze how language affects project success."
   ]
  },
  {
   "cell_type": "code",
   "execution_count": 6,
   "metadata": {
    "collapsed": true
   },
   "outputs": [],
   "source": [
    "# plots 4 barplots\n",
    "# from them we can find answers to the following questions:\n",
    "\n",
    "def barplot_with_percentages(df, column, x=10, y=6):\n",
    "    fig, ax = plt.subplots(2, 2)\n",
    "    \n",
    "    # --- first row -- \n",
    "    \n",
    "    # how many people with different 'column' are negative and how many are discordant?\n",
    "    pd.crosstab(df[column], df['class']).plot.bar(ax=ax[0, 0], figsize=(20, 10))\n",
    "    \n",
    "    # what portion of people with different 'column' is negative and what portion is discordant?\n",
    "    pd.crosstab(df[column], df['class']).apply(lambda x: x/x.sum(), axis=1).plot.bar(ax=ax[0, 1])\n",
    "    for p in ax[0, 1].patches:\n",
    "        ax[0, 1].annotate(str(round(p.get_height(), 2)), (p.get_x(), p.get_height()))\n",
    "    \n",
    "    # --- second row --\n",
    "    \n",
    "    # how many negative belongs to different 'column'?\n",
    "    # how many discordant belongs to different 'column'?\n",
    "    pd.crosstab(df['class'], df[column]).plot.bar(ax=ax[1, 0])\n",
    "    \n",
    "    # what portion of negative belongs to different 'column'\n",
    "    # what portion of discordant belongs to different 'column'\n",
    "    pd.crosstab(df['class'], df[column]).apply(lambda x: x/x.sum(), axis=1).plot.bar(ax=ax[1, 1])\n",
    "    for p in ax[1, 1].patches:\n",
    "        ax[1, 1].annotate(str(round(p.get_height(), 2)), (p.get_x(), p.get_height()))"
   ]
  },
  {
   "cell_type": "code",
   "execution_count": 4,
   "metadata": {},
   "outputs": [
    {
     "data": {
      "text/html": [
       "<div>\n",
       "<style>\n",
       "    .dataframe thead tr:only-child th {\n",
       "        text-align: right;\n",
       "    }\n",
       "\n",
       "    .dataframe thead th {\n",
       "        text-align: left;\n",
       "    }\n",
       "\n",
       "    .dataframe tbody tr th {\n",
       "        vertical-align: top;\n",
       "    }\n",
       "</style>\n",
       "<table border=\"1\" class=\"dataframe\">\n",
       "  <thead>\n",
       "    <tr style=\"text-align: right;\">\n",
       "      <th></th>\n",
       "      <th>text</th>\n",
       "      <th>lang_1</th>\n",
       "      <th>conf_1</th>\n",
       "      <th>lang_2</th>\n",
       "      <th>conf_2</th>\n",
       "    </tr>\n",
       "  </thead>\n",
       "  <tbody>\n",
       "    <tr>\n",
       "      <th>14021</th>\n",
       "      <td>\"BOTTOMS UP! True Tales of Hitting Rock-Bottom...</td>\n",
       "      <td>en</td>\n",
       "      <td>1.000000</td>\n",
       "      <td>en</td>\n",
       "      <td>1.000000</td>\n",
       "    </tr>\n",
       "    <tr>\n",
       "      <th>15961</th>\n",
       "      <td>FAMILY MAN is a 288 page graphic novel writte...</td>\n",
       "      <td>en</td>\n",
       "      <td>1.000000</td>\n",
       "      <td>en</td>\n",
       "      <td>1.000000</td>\n",
       "    </tr>\n",
       "    <tr>\n",
       "      <th>7533</th>\n",
       "      <td>Hi there!This campaign has 1 REWARD TIER with ...</td>\n",
       "      <td>en</td>\n",
       "      <td>1.000000</td>\n",
       "      <td>en</td>\n",
       "      <td>1.000000</td>\n",
       "    </tr>\n",
       "    <tr>\n",
       "      <th>6844</th>\n",
       "      <td>The descendant of the goddess Athena with the...</td>\n",
       "      <td>en</td>\n",
       "      <td>1.000000</td>\n",
       "      <td>en</td>\n",
       "      <td>1.000000</td>\n",
       "    </tr>\n",
       "    <tr>\n",
       "      <th>2053</th>\n",
       "      <td>I want to create a label that will give musica...</td>\n",
       "      <td>en</td>\n",
       "      <td>1.000000</td>\n",
       "      <td>en</td>\n",
       "      <td>1.000000</td>\n",
       "    </tr>\n",
       "    <tr>\n",
       "      <th>5771</th>\n",
       "      <td>Hello ! My name is Stanislav Benkov and I am 2...</td>\n",
       "      <td>en</td>\n",
       "      <td>1.000000</td>\n",
       "      <td>en</td>\n",
       "      <td>1.000000</td>\n",
       "    </tr>\n",
       "    <tr>\n",
       "      <th>18088</th>\n",
       "      <td>The artists:Kirrilee Bailey (AU)Zoe Bastin (AU...</td>\n",
       "      <td>en</td>\n",
       "      <td>0.700550</td>\n",
       "      <td>en</td>\n",
       "      <td>1.000000</td>\n",
       "    </tr>\n",
       "    <tr>\n",
       "      <th>16512</th>\n",
       "      <td>(FRANÃÂAIS CI-DESSOUS)Blockchain Wordwide : ...</td>\n",
       "      <td>en</td>\n",
       "      <td>0.923652</td>\n",
       "      <td>lb</td>\n",
       "      <td>0.751452</td>\n",
       "    </tr>\n",
       "    <tr>\n",
       "      <th>11473</th>\n",
       "      <td>Stretch DY5TOPIA - $55,555 unlocks the Monochr...</td>\n",
       "      <td>en</td>\n",
       "      <td>1.000000</td>\n",
       "      <td>en</td>\n",
       "      <td>1.000000</td>\n",
       "    </tr>\n",
       "    <tr>\n",
       "      <th>6951</th>\n",
       "      <td>A Public Servant with a VisionIn the Summer of...</td>\n",
       "      <td>en</td>\n",
       "      <td>1.000000</td>\n",
       "      <td>en</td>\n",
       "      <td>1.000000</td>\n",
       "    </tr>\n",
       "  </tbody>\n",
       "</table>\n",
       "</div>"
      ],
      "text/plain": [
       "                                                    text lang_1    conf_1  \\\n",
       "14021  \"BOTTOMS UP! True Tales of Hitting Rock-Bottom...     en  1.000000   \n",
       "15961   FAMILY MAN is a 288 page graphic novel writte...     en  1.000000   \n",
       "7533   Hi there!This campaign has 1 REWARD TIER with ...     en  1.000000   \n",
       "6844    The descendant of the goddess Athena with the...     en  1.000000   \n",
       "2053   I want to create a label that will give musica...     en  1.000000   \n",
       "5771   Hello ! My name is Stanislav Benkov and I am 2...     en  1.000000   \n",
       "18088  The artists:Kirrilee Bailey (AU)Zoe Bastin (AU...     en  0.700550   \n",
       "16512  (FRANÃÂAIS CI-DESSOUS)Blockchain Wordwide : ...     en  0.923652   \n",
       "11473  Stretch DY5TOPIA - $55,555 unlocks the Monochr...     en  1.000000   \n",
       "6951   A Public Servant with a VisionIn the Summer of...     en  1.000000   \n",
       "\n",
       "      lang_2    conf_2  \n",
       "14021     en  1.000000  \n",
       "15961     en  1.000000  \n",
       "7533      en  1.000000  \n",
       "6844      en  1.000000  \n",
       "2053      en  1.000000  \n",
       "5771      en  1.000000  \n",
       "18088     en  1.000000  \n",
       "16512     lb  0.751452  \n",
       "11473     en  1.000000  \n",
       "6951      en  1.000000  "
      ]
     },
     "execution_count": 4,
     "metadata": {},
     "output_type": "execute_result"
    }
   ],
   "source": [
    "df[['text', 'lang_1', 'conf_1', 'lang_2', 'conf_2']].sample(10)"
   ]
  },
  {
   "cell_type": "markdown",
   "metadata": {},
   "source": [
    "### Language detected using first 100 characters of description"
   ]
  },
  {
   "cell_type": "code",
   "execution_count": 5,
   "metadata": {},
   "outputs": [
    {
     "data": {
      "text/plain": [
       "en     17316\n",
       "es       342\n",
       "fr       204\n",
       "de       176\n",
       "und      104\n",
       "it        59\n",
       "sv        33\n",
       "nl        15\n",
       "no        13\n",
       "da        11\n",
       "hu         2\n",
       "co         2\n",
       "id         2\n",
       "fy         2\n",
       "haw        2\n",
       "ja         2\n",
       "ca         2\n",
       "ro         1\n",
       "pt         1\n",
       "jw         1\n",
       "is         1\n",
       "hi         1\n",
       "la         1\n",
       "el         1\n",
       "cy         1\n",
       "gl         1\n",
       "Name: lang_1, dtype: int64"
      ]
     },
     "execution_count": 5,
     "metadata": {},
     "output_type": "execute_result"
    }
   ],
   "source": [
    "df['lang_1'].value_counts()"
   ]
  },
  {
   "cell_type": "code",
   "execution_count": 21,
   "metadata": {},
   "outputs": [
    {
     "data": {
      "text/plain": [
       "en       17316\n",
       "other      980\n",
       "Name: lang_1_new, dtype: int64"
      ]
     },
     "execution_count": 21,
     "metadata": {},
     "output_type": "execute_result"
    }
   ],
   "source": [
    "# distinguish only english and other\n",
    "df['lang_1_new'] = df['lang_1'].apply(lambda x: 'en' if x == 'en' else 'other')\n",
    "df['lang_1_new'].value_counts()"
   ]
  },
  {
   "cell_type": "code",
   "execution_count": 11,
   "metadata": {},
   "outputs": [
    {
     "data": {
      "image/png": "[encoded data removed]",
      "text/plain": [
       "<matplotlib.figure.Figure at 0x1ea172e7c88>"
      ]
     },
     "metadata": {},
     "output_type": "display_data"
    }
   ],
   "source": [
    "barplot_with_percentages(df, 'lang_1_new')"
   ]
  },
  {
   "cell_type": "markdown",
   "metadata": {},
   "source": [
    "### Language detected using last 100 characters of description"
   ]
  },
  {
   "cell_type": "code",
   "execution_count": 12,
   "metadata": {},
   "outputs": [
    {
     "data": {
      "text/plain": [
       "en       17152\n",
       "es         309\n",
       "fr         225\n",
       "de         196\n",
       "und        167\n",
       "it          71\n",
       "sv          35\n",
       "nl          23\n",
       "da          17\n",
       "no          13\n",
       "pt           8\n",
       "ca           6\n",
       "fy           4\n",
       "pl           4\n",
       "eu           3\n",
       "gl           3\n",
       "ru           3\n",
       "cy           3\n",
       "tr           3\n",
       "mg           3\n",
       "ro           3\n",
       "sk           3\n",
       "ht           3\n",
       "lb           3\n",
       "hi           3\n",
       "hr           2\n",
       "hu           2\n",
       "so           2\n",
       "et           2\n",
       "zu           2\n",
       "co           2\n",
       "ms           2\n",
       "id           2\n",
       "fi           2\n",
       "tl           2\n",
       "jw           1\n",
       "sn           1\n",
       "zh-CN        1\n",
       "bg           1\n",
       "ar           1\n",
       "ig           1\n",
       "el           1\n",
       "la           1\n",
       "vi           1\n",
       "lt           1\n",
       "ga           1\n",
       "af           1\n",
       "ja           1\n",
       "Name: lang_2, dtype: int64"
      ]
     },
     "execution_count": 12,
     "metadata": {},
     "output_type": "execute_result"
    }
   ],
   "source": [
    "df['lang_2'].value_counts()"
   ]
  },
  {
   "cell_type": "code",
   "execution_count": 20,
   "metadata": {},
   "outputs": [
    {
     "data": {
      "text/plain": [
       "en       17152\n",
       "other     1144\n",
       "Name: lang_2_new, dtype: int64"
      ]
     },
     "execution_count": 20,
     "metadata": {},
     "output_type": "execute_result"
    }
   ],
   "source": [
    "# distinguish only english and other\n",
    "df['lang_2_new'] = df['lang_2'].apply(lambda x: 'en' if x == 'en' else 'other')\n",
    "df['lang_2_new'].value_counts()"
   ]
  },
  {
   "cell_type": "code",
   "execution_count": 14,
   "metadata": {},
   "outputs": [
    {
     "data": {
      "image/png": "[encoded data removed]",
      "text/plain": [
       "<matplotlib.figure.Figure at 0x1ea185d4a58>"
      ]
     },
     "metadata": {},
     "output_type": "display_data"
    }
   ],
   "source": [
    "barplot_with_percentages(df, 'lang_2_new')"
   ]
  },
  {
   "cell_type": "markdown",
   "metadata": {},
   "source": [
    "### Is at least one of the languages english?"
   ]
  },
  {
   "cell_type": "code",
   "execution_count": 19,
   "metadata": {},
   "outputs": [
    {
     "data": {
      "text/plain": [
       "en       17541\n",
       "other      755\n",
       "Name: lang_new, dtype: int64"
      ]
     },
     "execution_count": 19,
     "metadata": {},
     "output_type": "execute_result"
    }
   ],
   "source": [
    "df['lang_new'] = df.apply(lambda x: 'en' if (x['lang_1'] == 'en' or x['lang_2'] == 'en') else 'other', axis=1)\n",
    "df['lang_new'].value_counts()"
   ]
  },
  {
   "cell_type": "code",
   "execution_count": 28,
   "metadata": {},
   "outputs": [
    {
     "data": {
      "text/plain": [
       "148      Decidimos emprender un restaurante de Helados ...\n",
       "2996                                                      \n",
       "13915    Salut Tous! 12 ans dÃÂ©j que je me suis lancÃ...\n",
       "8062     ACHTUNG! Gestern funktionierte die Kickstarter...\n",
       "8456     Cuando alguien se acerca a Scrum, el marco ÃÂ...\n",
       "8525                                                      \n",
       "4605     El Proyecto esta destinado para las nuevas gen...\n",
       "7504     COMO NACE CAFÃÂ CANELA?Es una proyecto famil...\n",
       "15955    alter schwarzmarkthier kÃÂ¶nnte eine typische...\n",
       "11038    Nous Voulons CrÃÂ©er Une SÃÂ©rie Horreur , S...\n",
       "13062    Team DJSTeam DJS esta lanzando una campa?a de ...\n",
       "3891     Giunti alla settima edizione abbiamo deciso di...\n",
       "1784     Sehr geehrte Damen und Herren,Ich mÃÂ¶chte Ih...\n",
       "1065                                                      \n",
       "12314    Hallo, Mein Name ist Stephan P. Ich bin gelern...\n",
       "10721    Wir haben unser bestehendes grafisches Symbol ...\n",
       "5804     Bonjour/Bonsoir, et tout d'abord merci vous de...\n",
       "6342     FÃÂ¼r die deutsche Version bitte nach unten s...\n",
       "6021     Subtropisch zwemparadijs Tropicana, wie uit Ro...\n",
       "12824    Zwei Sonderhefte fÃÂ¼r eines der beliebtesten...\n",
       "Name: text, dtype: object"
      ]
     },
     "execution_count": 28,
     "metadata": {},
     "output_type": "execute_result"
    }
   ],
   "source": [
    "# non-english descriptions sample\n",
    "df[df['lang_new'] == 'other']['text'].sample(20)"
   ]
  },
  {
   "cell_type": "code",
   "execution_count": 26,
   "metadata": {},
   "outputs": [
    {
     "data": {
      "image/png": "[encoded data removed]",
      "text/plain": [
       "<matplotlib.figure.Figure at 0x1ea18018860>"
      ]
     },
     "metadata": {},
     "output_type": "display_data"
    }
   ],
   "source": [
    "barplot_with_percentages(df, 'lang_new')"
   ]
  },
  {
   "cell_type": "markdown",
   "metadata": {},
   "source": [
    "As we can see from the above figure, non-english descriptions tend to be less successful:\n",
    "* 41% of projects with descriptions containing english part fail completely\n",
    "* 23% of projects with descriptions containing english part are very successful\n",
    "\n",
    "While\n",
    "\n",
    "* 56% of projects with descriptions written only in other languages fail completely\n",
    "* 13% of projects with descriptions written only in other languages are very successful\n",
    "\n",
    "Only about 4% of descriptions do not contain english parts."
   ]
  },
  {
   "cell_type": "markdown",
   "metadata": {
    "collapsed": true
   },
   "source": [
    "## Feature extraction\n",
    "\n",
    "We will use methods of NLP to extract features from descriptions (Bag of words model). Approach:\n",
    "\n",
    "1. tokenization\n",
    "2. stopwords removal\n",
    "3. lemmatization\n",
    "4. tf-idf calculation\n",
    "5. dimensionality reducion with LSA"
   ]
  },
  {
   "cell_type": "code",
   "execution_count": 123,
   "metadata": {
    "collapsed": true
   },
   "outputs": [],
   "source": [
    "sns.set(style='whitegrid')\n",
    "plt.rcParams['figure.figsize'] = [16, 6]"
   ]
  },
  {
   "cell_type": "code",
   "execution_count": 20,
   "metadata": {
    "collapsed": true
   },
   "outputs": [],
   "source": [
    "# use only letter-like tokens\n",
    "tokenizer = RegexpTokenizer(r'\\w+')\n",
    "lemmatizer = WordNetLemmatizer()"
   ]
  },
  {
   "cell_type": "code",
   "execution_count": 34,
   "metadata": {
    "collapsed": true
   },
   "outputs": [],
   "source": [
    "df['tokens'] = df['text'].apply(lambda document: tokenizer.tokenize(document.lower()))\n",
    "df['tokens'] = df['tokens'].apply(lambda tokens: [token for token in tokens if token not in stopwords.words('english')])\n",
    "df['tokens'] = df['tokens'].apply(lambda tokens: [lemmatizer.lemmatize(token) for token in tokens])\n",
    "df.to_csv('data/split/nlp/train_tokens.csv')"
   ]
  },
  {
   "cell_type": "code",
   "execution_count": 46,
   "metadata": {
    "collapsed": true
   },
   "outputs": [],
   "source": [
    "# test set\n",
    "df_test = pd.read_csv('data/split/nlp/test.csv', index_col=0)\n",
    "\n",
    "df_test['tokens'] = df_test['text'].apply(lambda document: tokenizer.tokenize(document.lower()))\n",
    "df_test['tokens'] = df_test['tokens'].apply(lambda tokens: [token for token in tokens if token not in stopwords.words('english')])\n",
    "df_test['tokens'] = df_test['tokens'].apply(lambda tokens: [lemmatizer.lemmatize(token) for token in tokens])\n",
    "\n",
    "df_test.to_csv('data/split/nlp/test_tokens.csv')"
   ]
  },
  {
   "cell_type": "code",
   "execution_count": null,
   "metadata": {
    "collapsed": true
   },
   "outputs": [],
   "source": [
    "# validation set\n",
    "df_cv = pd.read_csv('data/split/nlp/cv.csv', index_col=0)\n",
    "\n",
    "df_cv['tokens'] = df_cv['text'].fillna('').apply(lambda document: tokenizer.tokenize(document.lower()))\n",
    "df_cv['tokens'] = df_cv['tokens'].apply(lambda tokens: [token for token in tokens if token not in stopwords.words('english')])\n",
    "df_cv['tokens'] = df_cv['tokens'].apply(lambda tokens: [lemmatizer.lemmatize(token) for token in tokens])\n",
    "\n",
    "df_cv.to_csv('data/split/nlp/cv_tokens.csv')"
   ]
  },
  {
   "cell_type": "code",
   "execution_count": null,
   "metadata": {
    "collapsed": true
   },
   "outputs": [],
   "source": []
  },
  {
   "cell_type": "markdown",
   "metadata": {},
   "source": [
    "### Let's see how many tokens do projects have."
   ]
  },
  {
   "cell_type": "code",
   "execution_count": 2,
   "metadata": {
    "collapsed": true
   },
   "outputs": [],
   "source": [
    "df = pd.read_csv('data/split/nlp/train_tokens.csv', index_col=0, encoding='latin1')"
   ]
  },
  {
   "cell_type": "code",
   "execution_count": 3,
   "metadata": {
    "collapsed": true
   },
   "outputs": [],
   "source": [
    "# tokens column is treated as string\n",
    "df['tokens'] = df['tokens'].apply(lambda x: literal_eval(x))"
   ]
  },
  {
   "cell_type": "code",
   "execution_count": 4,
   "metadata": {
    "collapsed": true
   },
   "outputs": [],
   "source": [
    "tokens_len = df['tokens'].apply(lambda x: len(x))"
   ]
  },
  {
   "cell_type": "code",
   "execution_count": 5,
   "metadata": {},
   "outputs": [
    {
     "data": {
      "text/plain": [
       "count    18296.000000\n",
       "mean       334.147081\n",
       "std        350.508884\n",
       "min          0.000000\n",
       "25%        112.000000\n",
       "50%        223.000000\n",
       "75%        430.000000\n",
       "max       5120.000000\n",
       "Name: tokens, dtype: float64"
      ]
     },
     "execution_count": 5,
     "metadata": {},
     "output_type": "execute_result"
    }
   ],
   "source": [
    "tokens_len.describe()"
   ]
  },
  {
   "cell_type": "code",
   "execution_count": 6,
   "metadata": {},
   "outputs": [
    {
     "data": {
      "text/plain": [
       "808      5120\n",
       "5372     4496\n",
       "15161    4496\n",
       "6942     3990\n",
       "15534    3990\n",
       "Name: tokens, dtype: int64"
      ]
     },
     "execution_count": 6,
     "metadata": {},
     "output_type": "execute_result"
    }
   ],
   "source": [
    "tokens_len.sort_values(ascending=False).head()"
   ]
  },
  {
   "cell_type": "code",
   "execution_count": 7,
   "metadata": {},
   "outputs": [
    {
     "data": {
      "text/plain": [
       "url_name    postcard-from-paradise\n",
       "lang_new                     other\n",
       "Name: 808, dtype: object"
      ]
     },
     "execution_count": 7,
     "metadata": {},
     "output_type": "execute_result"
    }
   ],
   "source": [
    "# many tokens due to language\n",
    "df.loc[808, ['url_name', 'lang_new']]"
   ]
  },
  {
   "cell_type": "code",
   "execution_count": 97,
   "metadata": {},
   "outputs": [
    {
     "data": {
      "text/plain": [
       "<matplotlib.axes._subplots.AxesSubplot at 0x1c0c61cee48>"
      ]
     },
     "execution_count": 97,
     "metadata": {},
     "output_type": "execute_result"
    },
    {
     "data": {
      "image/png": "[encoded data removed]",
      "text/plain": [
       "<matplotlib.figure.Figure at 0x1c0c60b07f0>"
      ]
     },
     "metadata": {},
     "output_type": "display_data"
    }
   ],
   "source": [
    "tokens_len.hist(bins=200)"
   ]
  },
  {
   "cell_type": "code",
   "execution_count": 84,
   "metadata": {},
   "outputs": [
    {
     "data": {
      "text/plain": [
       "<matplotlib.axes._subplots.AxesSubplot at 0x1c0bafb9748>"
      ]
     },
     "execution_count": 84,
     "metadata": {},
     "output_type": "execute_result"
    },
    {
     "data": {
      "image/png": "[encoded data removed]",
      "text/plain": [
       "<matplotlib.figure.Figure at 0x1c0bf1bce80>"
      ]
     },
     "metadata": {},
     "output_type": "display_data"
    }
   ],
   "source": [
    "tokens_len[tokens_len<100].hist(bins=100)"
   ]
  },
  {
   "cell_type": "code",
   "execution_count": 85,
   "metadata": {},
   "outputs": [
    {
     "data": {
      "text/plain": [
       "<matplotlib.axes._subplots.AxesSubplot at 0x1c0c0573dd8>"
      ]
     },
     "execution_count": 85,
     "metadata": {},
     "output_type": "execute_result"
    },
    {
     "data": {
      "image/png": "[encoded data removed]",
      "text/plain": [
       "<matplotlib.figure.Figure at 0x1c0ba8a7588>"
      ]
     },
     "metadata": {},
     "output_type": "display_data"
    }
   ],
   "source": [
    "sns.boxplot(tokens_len)"
   ]
  },
  {
   "cell_type": "markdown",
   "metadata": {},
   "source": [
    "### Document frequency"
   ]
  },
  {
   "cell_type": "code",
   "execution_count": 11,
   "metadata": {
    "collapsed": true
   },
   "outputs": [],
   "source": [
    "doc_freq = defaultdict(int)\n",
    "\n",
    "for tokens in df['tokens']:\n",
    "    for unique_token in set(tokens):\n",
    "        doc_freq[unique_token] += 1"
   ]
  },
  {
   "cell_type": "code",
   "execution_count": 12,
   "metadata": {},
   "outputs": [
    {
     "data": {
      "text/plain": [
       "235081"
      ]
     },
     "execution_count": 12,
     "metadata": {},
     "output_type": "execute_result"
    }
   ],
   "source": [
    "# number of unique tokens in all documents\n",
    "len(doc_freq)"
   ]
  },
  {
   "cell_type": "code",
   "execution_count": 14,
   "metadata": {
    "collapsed": true
   },
   "outputs": [],
   "source": [
    "doc_freq_series = pd.Series(doc_freq)"
   ]
  },
  {
   "cell_type": "code",
   "execution_count": 16,
   "metadata": {},
   "outputs": [
    {
     "data": {
      "text/plain": [
       "one                9839\n",
       "make               9579\n",
       "help               9478\n",
       "time               9392\n",
       "also               8984\n",
       "year               8894\n",
       "project            8818\n",
       "need               8798\n",
       "like               8310\n",
       "get                8251\n",
       "new                8225\n",
       "u                  8127\n",
       "work               8075\n",
       "first              7868\n",
       "want               7392\n",
       "people             7141\n",
       "world              6986\n",
       "life               6596\n",
       "way                6585\n",
       "many               6507\n",
       "see                6441\n",
       "well               6429\n",
       "would              6413\n",
       "go                 6318\n",
       "support            6254\n",
       "goal               6210\n",
       "kickstarter        6184\n",
       "take               6111\n",
       "come               6005\n",
       "love               5781\n",
       "                   ... \n",
       "momona                1\n",
       "momokahachi           1\n",
       "momofuku              1\n",
       "momoe                 1\n",
       "mommos                1\n",
       "mommo?                1\n",
       "mommo                 1\n",
       "monaghan              1\n",
       "monaki                1\n",
       "mondaines             1\n",
       "monatliche            1\n",
       "mondadori             1\n",
       "mondaca               1\n",
       "monda                 1\n",
       "mond                  1\n",
       "moncrieff             1\n",
       "moncloaabout          1\n",
       "moncla                1\n",
       "moncalvo              1\n",
       "monastiraki           1\n",
       "monara                1\n",
       "monasticretreat       1\n",
       "monasterystar         1\n",
       "monasterios           1\n",
       "monaro                1\n",
       "monark                1\n",
       "monarhcs              1\n",
       "monarchtrue           1\n",
       "monarchi              1\n",
       "kessi                 1\n",
       "Length: 235081, dtype: int64"
      ]
     },
     "execution_count": 16,
     "metadata": {},
     "output_type": "execute_result"
    }
   ],
   "source": [
    "doc_freq_series.sort_values(ascending=False)"
   ]
  },
  {
   "cell_type": "code",
   "execution_count": 92,
   "metadata": {},
   "outputs": [
    {
     "data": {
      "text/plain": [
       "<matplotlib.text.Text at 0x1c0c2748908>"
      ]
     },
     "execution_count": 92,
     "metadata": {},
     "output_type": "execute_result"
    },
    {
     "data": {
      "image/png": "[encoded data removed]",
      "text/plain": [
       "<matplotlib.figure.Figure at 0x1c0c21e9f98>"
      ]
     },
     "metadata": {},
     "output_type": "display_data"
    }
   ],
   "source": [
    "doc_freq_series.sort_values(ascending=False).plot()\n",
    "plt.yscale('log')\n",
    "plt.title('Document frequencies (log scale all)')\n",
    "plt.xlabel('words')\n",
    "plt.ylabel('log of document frequency')"
   ]
  },
  {
   "cell_type": "code",
   "execution_count": 129,
   "metadata": {},
   "outputs": [
    {
     "data": {
      "text/plain": [
       "count    235081.000000\n",
       "mean          0.000881\n",
       "std           0.008581\n",
       "min           0.000055\n",
       "25%           0.000055\n",
       "50%           0.000055\n",
       "75%           0.000109\n",
       "max           0.537768\n",
       "dtype: float64"
      ]
     },
     "execution_count": 129,
     "metadata": {},
     "output_type": "execute_result"
    }
   ],
   "source": [
    "(doc_freq_series / len(df)).describe()"
   ]
  },
  {
   "cell_type": "code",
   "execution_count": 197,
   "metadata": {},
   "outputs": [
    {
     "data": {
      "text/plain": [
       "(0, 10000)"
      ]
     },
     "execution_count": 197,
     "metadata": {},
     "output_type": "execute_result"
    },
    {
     "data": {
      "image/png": "[encoded data removed]",
      "text/plain": [
       "<matplotlib.figure.Figure at 0x1c0e53a3160>"
      ]
     },
     "metadata": {},
     "output_type": "display_data"
    }
   ],
   "source": [
    "doc_freq_series.plot(kind='hist', bins=np.arange(0, 10000, 100), ec='black')\n",
    "plt.yscale('log')\n",
    "plt.title('Distribution of document frequencies (log scale)')\n",
    "plt.xlabel('Document frequency')\n",
    "plt.ylabel('Number of tokens (log)')\n",
    "plt.xticks(np.arange(0, 10000, 500))\n",
    "plt.xlim(0, 10000)"
   ]
  },
  {
   "cell_type": "markdown",
   "metadata": {},
   "source": [
    "### Find interval of document frequency for tf-idf"
   ]
  },
  {
   "cell_type": "code",
   "execution_count": 418,
   "metadata": {},
   "outputs": [
    {
     "data": {
      "text/plain": [
       "(20, 500)"
      ]
     },
     "execution_count": 418,
     "metadata": {},
     "output_type": "execute_result"
    },
    {
     "data": {
      "image/png": "[encoded data removed]",
      "text/plain": [
       "<matplotlib.figure.Figure at 0x1c0eb12b550>"
      ]
     },
     "metadata": {},
     "output_type": "display_data"
    }
   ],
   "source": [
    "min_df = 20 # at least 20 documents must contain term\n",
    "max_df = 500 # maximum of 500 documents must contain term\n",
    "step = 10 # plot step\n",
    "doc_freq_series[(doc_freq_series >= min_df) & (doc_freq_series <= max_df)].plot(kind='hist', bins=np.arange(min_df, max_df + step, step), ec='black')\n",
    "#plt.yscale('log')\n",
    "plt.title('Distribution of document frequencies (log scale)')\n",
    "plt.xlabel('Document frequency')\n",
    "plt.ylabel('Number of tokens')\n",
    "plt.xticks(np.arange(min_df, max_df + step, step))\n",
    "plt.xlim(min_df, max_df)"
   ]
  },
  {
   "cell_type": "code",
   "execution_count": 419,
   "metadata": {},
   "outputs": [
    {
     "data": {
      "text/plain": [
       "13051"
      ]
     },
     "execution_count": 419,
     "metadata": {},
     "output_type": "execute_result"
    }
   ],
   "source": [
    "# how many tokens are in the interval\n",
    "len(doc_freq_series[(doc_freq_series >= min_df) & (doc_freq_series <= max_df)])"
   ]
  },
  {
   "cell_type": "code",
   "execution_count": 420,
   "metadata": {},
   "outputs": [
    {
     "data": {
      "text/plain": [
       "0.0010931351114997813"
      ]
     },
     "execution_count": 420,
     "metadata": {},
     "output_type": "execute_result"
    }
   ],
   "source": [
    "# calculate percentage of projects\n",
    "min_df = min_df / len(df)\n",
    "min_df"
   ]
  },
  {
   "cell_type": "code",
   "execution_count": 421,
   "metadata": {},
   "outputs": [
    {
     "data": {
      "text/plain": [
       "0.027328377787494536"
      ]
     },
     "execution_count": 421,
     "metadata": {},
     "output_type": "execute_result"
    }
   ],
   "source": [
    "# calculate percentage of projects\n",
    "max_df = max_df / len(df)\n",
    "max_df"
   ]
  },
  {
   "cell_type": "markdown",
   "metadata": {},
   "source": [
    "### Calculate tf-idf\n",
    "\n",
    "We used two configurations of tf-idf:\n",
    "1. length = 14 411\n",
    "    1. min_df = 0.0010931351114997813 which equals to 20 documents at least\n",
    "    2. max_df = 1.0 which equals to 18 296 documents at most\n",
    "    \n",
    "    \n",
    "2. length = 13 007\n",
    "    1. min_df = 0.0010931351114997813 which equals to 20 documents at least\n",
    "    2. max_df = 1.0 which equals to 18 296 documents at most"
   ]
  },
  {
   "cell_type": "code",
   "execution_count": 306,
   "metadata": {
    "collapsed": true
   },
   "outputs": [],
   "source": [
    "df = pd.read_csv('data/split/nlp/train_tokens.csv', index_col=0, encoding='latin1')\n",
    "df['tokens'] = df['tokens'].apply(lambda x: literal_eval(x))"
   ]
  },
  {
   "cell_type": "code",
   "execution_count": 307,
   "metadata": {
    "collapsed": true
   },
   "outputs": [],
   "source": [
    "vectorizer = TfidfVectorizer(preprocessor=' '.join, ngram_range=(1,1), min_df=min_df)\n",
    "\n",
    "df['tf-idf'] = list(vectorizer.fit_transform(df['tokens']).toarray())"
   ]
  },
  {
   "cell_type": "code",
   "execution_count": 308,
   "metadata": {},
   "outputs": [
    {
     "data": {
      "text/plain": [
       "14411"
      ]
     },
     "execution_count": 308,
     "metadata": {},
     "output_type": "execute_result"
    }
   ],
   "source": [
    "len(vectorizer.vocabulary_)"
   ]
  },
  {
   "cell_type": "code",
   "execution_count": 309,
   "metadata": {
    "collapsed": true
   },
   "outputs": [],
   "source": [
    "# create new columns of tf-idf\n",
    "for token, i in vectorizer.vocabulary_.items():\n",
    "    df['token_'+token] = df['tf-idf'].apply(lambda x: x[i])"
   ]
  },
  {
   "cell_type": "code",
   "execution_count": 310,
   "metadata": {
    "collapsed": true
   },
   "outputs": [],
   "source": [
    "df.to_csv('data/split/nlp/train_tfidf.csv')"
   ]
  },
  {
   "cell_type": "code",
   "execution_count": 311,
   "metadata": {
    "collapsed": true
   },
   "outputs": [],
   "source": [
    "# same for test set\n",
    "df_test = pd.read_csv('data/split/nlp/test_tokens.csv', index_col=0, encoding='latin1')\n",
    "df_test['tokens'] = df_test['tokens'].apply(lambda x: literal_eval(x))\n",
    "\n",
    "df_test['tf-idf'] = list(vectorizer.transform(df_test['tokens']).toarray())\n",
    "for token, i in vectorizer.vocabulary_.items():\n",
    "    df_test['token_'+token] = df_test['tf-idf'].apply(lambda x: x[i])\n",
    "    \n",
    "df_test.to_csv('data/split/nlp/test_tfidf.csv')"
   ]
  },
  {
   "cell_type": "code",
   "execution_count": 312,
   "metadata": {
    "collapsed": true
   },
   "outputs": [],
   "source": [
    "# same for validation set\n",
    "df_cv = pd.read_csv('data/split/nlp/cv_tokens.csv', index_col=0, encoding='latin1')\n",
    "df_cv['tokens'] = df_cv['tokens'].apply(lambda x: literal_eval(x))\n",
    "\n",
    "df_cv['tf-idf'] = list(vectorizer.transform(df_cv['tokens']).toarray())\n",
    "for token, i in vectorizer.vocabulary_.items():\n",
    "    df_cv['token_'+token] = df_cv['tf-idf'].apply(lambda x: x[i])\n",
    "\n",
    "df_cv.to_csv('data/split/nlp/cv_tfidf.csv')"
   ]
  },
  {
   "cell_type": "markdown",
   "metadata": {},
   "source": [
    "#### Try prediction with only using tf-idf (all projects - not only 25% of them)"
   ]
  },
  {
   "cell_type": "code",
   "execution_count": 313,
   "metadata": {},
   "outputs": [
    {
     "data": {
      "text/plain": [
       "tf-idf          [0.0426064608008, 0.0, 0.0404340938688, 0.0, 0...\n",
       "token_taken                                                     0\n",
       "token_iphone                                                    0\n",
       "token_folk                                                      0\n",
       "token_thank                                             0.0422603\n",
       "Name: 1, dtype: object"
      ]
     },
     "execution_count": 313,
     "metadata": {},
     "output_type": "execute_result"
    }
   ],
   "source": [
    "df.iloc[1, 61:].head()"
   ]
  },
  {
   "cell_type": "code",
   "execution_count": 314,
   "metadata": {},
   "outputs": [
    {
     "data": {
      "text/plain": [
       "tf-idf          [0.0, 0.0, 0.0, 0.0, 0.0, 0.0, 0.0, 0.0, 0.0, ...\n",
       "token_taken                                                     0\n",
       "token_iphone                                                    0\n",
       "token_folk                                                      0\n",
       "token_thank                                             0.0598735\n",
       "Name: 1, dtype: object"
      ]
     },
     "execution_count": 314,
     "metadata": {},
     "output_type": "execute_result"
    }
   ],
   "source": [
    "df_test.iloc[1, 57:].head()"
   ]
  },
  {
   "cell_type": "code",
   "execution_count": 372,
   "metadata": {},
   "outputs": [
    {
     "data": {
      "text/plain": [
       "(18296, 14411)"
      ]
     },
     "execution_count": 372,
     "metadata": {},
     "output_type": "execute_result"
    }
   ],
   "source": [
    "features = df.iloc[:, 62:]\n",
    "labels = df['class']\n",
    "features.shape"
   ]
  },
  {
   "cell_type": "code",
   "execution_count": 373,
   "metadata": {},
   "outputs": [
    {
     "data": {
      "text/plain": [
       "(6099, 14411)"
      ]
     },
     "execution_count": 373,
     "metadata": {},
     "output_type": "execute_result"
    }
   ],
   "source": [
    "features_test = df_test.iloc[:, 58:]\n",
    "labels_test = df_test['class']\n",
    "features_test.shape"
   ]
  },
  {
   "cell_type": "code",
   "execution_count": 318,
   "metadata": {
    "collapsed": true
   },
   "outputs": [],
   "source": [
    "cls = GradientBoostingClassifier(random_state=64)"
   ]
  },
  {
   "cell_type": "code",
   "execution_count": 319,
   "metadata": {},
   "outputs": [
    {
     "data": {
      "text/plain": [
       "GradientBoostingClassifier(criterion='friedman_mse', init=None,\n",
       "              learning_rate=0.1, loss='deviance', max_depth=3,\n",
       "              max_features=None, max_leaf_nodes=None,\n",
       "              min_impurity_decrease=0.0, min_impurity_split=None,\n",
       "              min_samples_leaf=1, min_samples_split=2,\n",
       "              min_weight_fraction_leaf=0.0, n_estimators=100,\n",
       "              presort='auto', random_state=64, subsample=1.0, verbose=0,\n",
       "              warm_start=False)"
      ]
     },
     "execution_count": 319,
     "metadata": {},
     "output_type": "execute_result"
    }
   ],
   "source": [
    "cls.fit(features, labels)"
   ]
  },
  {
   "cell_type": "code",
   "execution_count": 320,
   "metadata": {},
   "outputs": [
    {
     "name": "stdout",
     "output_type": "stream",
     "text": [
      "accuracy:  0.63265194578\n",
      "\n",
      "             precision    recall  f1-score   support\n",
      "\n",
      "          1       0.63      0.92      0.75      7665\n",
      "          2       0.99      0.09      0.16      2370\n",
      "          3       0.61      0.45      0.52      4184\n",
      "          4       0.63      0.59      0.61      4077\n",
      "\n",
      "avg / total       0.67      0.63      0.59     18296\n",
      "\n",
      "macro precision:  0.715529378308\n",
      "micro precision:  0.63265194578\n",
      "\n",
      "micro recall:  0.63265194578\n",
      "macro recall:  0.513271398343\n",
      "\n",
      "micro f1:  0.63265194578\n",
      "macro f1:  0.510255238993\n"
     ]
    },
    {
     "data": {
      "image/png": "[encoded data removed]",
      "text/plain": [
       "<matplotlib.figure.Figure at 0x2d9d4c9f278>"
      ]
     },
     "metadata": {},
     "output_type": "display_data"
    }
   ],
   "source": [
    "print_metrics(cls, features, labels)"
   ]
  },
  {
   "cell_type": "code",
   "execution_count": 321,
   "metadata": {},
   "outputs": [
    {
     "name": "stdout",
     "output_type": "stream",
     "text": [
      "accuracy:  0.579767174947\n",
      "\n",
      "             precision    recall  f1-score   support\n",
      "\n",
      "          1       0.61      0.90      0.73      2580\n",
      "          2       0.31      0.01      0.03       772\n",
      "          3       0.50      0.35      0.41      1385\n",
      "          4       0.56      0.52      0.54      1362\n",
      "\n",
      "avg / total       0.54      0.58      0.53      6099\n",
      "\n",
      "macro precision:  0.496166636441\n",
      "micro precision:  0.579767174947\n",
      "\n",
      "micro recall:  0.579767174947\n",
      "macro recall:  0.447202502467\n",
      "\n",
      "micro f1:  0.579767174947\n",
      "macro f1:  0.426789857045\n"
     ]
    },
    {
     "data": {
      "image/png": "[encoded data removed]",
      "text/plain": [
       "<matplotlib.figure.Figure at 0x2d905bead30>"
      ]
     },
     "metadata": {},
     "output_type": "display_data"
    }
   ],
   "source": [
    "print_metrics(cls, features_test, labels_test)"
   ]
  },
  {
   "cell_type": "code",
   "execution_count": 322,
   "metadata": {
    "collapsed": true
   },
   "outputs": [],
   "source": [
    "importances = pd.DataFrame()\n",
    "for i, name, importance in zip(range(len(features.columns)), features.columns, cls.feature_importances_):\n",
    "    importances.loc[i, 'feature'] = name\n",
    "    importances.loc[i, 'importance'] = importance"
   ]
  },
  {
   "cell_type": "code",
   "execution_count": 323,
   "metadata": {
    "scrolled": true
   },
   "outputs": [
    {
     "data": {
      "text/html": [
       "<div>\n",
       "<style>\n",
       "    .dataframe thead tr:only-child th {\n",
       "        text-align: right;\n",
       "    }\n",
       "\n",
       "    .dataframe thead th {\n",
       "        text-align: left;\n",
       "    }\n",
       "\n",
       "    .dataframe tbody tr th {\n",
       "        vertical-align: top;\n",
       "    }\n",
       "</style>\n",
       "<table border=\"1\" class=\"dataframe\">\n",
       "  <thead>\n",
       "    <tr style=\"text-align: right;\">\n",
       "      <th></th>\n",
       "      <th>feature</th>\n",
       "      <th>importance</th>\n",
       "    </tr>\n",
       "  </thead>\n",
       "  <tbody>\n",
       "    <tr>\n",
       "      <th>327</th>\n",
       "      <td>token_stretch</td>\n",
       "      <td>2.406882e-02</td>\n",
       "    </tr>\n",
       "    <tr>\n",
       "      <th>52</th>\n",
       "      <td>token_kickstarter</td>\n",
       "      <td>1.311483e-02</td>\n",
       "    </tr>\n",
       "    <tr>\n",
       "      <th>160</th>\n",
       "      <td>token_artist</td>\n",
       "      <td>7.799656e-03</td>\n",
       "    </tr>\n",
       "    <tr>\n",
       "      <th>371</th>\n",
       "      <td>token_would</td>\n",
       "      <td>7.419790e-03</td>\n",
       "    </tr>\n",
       "    <tr>\n",
       "      <th>695</th>\n",
       "      <td>token_business</td>\n",
       "      <td>6.705669e-03</td>\n",
       "    </tr>\n",
       "    <tr>\n",
       "      <th>445</th>\n",
       "      <td>token_excited</td>\n",
       "      <td>5.834722e-03</td>\n",
       "    </tr>\n",
       "    <tr>\n",
       "      <th>1001</th>\n",
       "      <td>token_start</td>\n",
       "      <td>5.829709e-03</td>\n",
       "    </tr>\n",
       "    <tr>\n",
       "      <th>3812</th>\n",
       "      <td>token_pin</td>\n",
       "      <td>5.802106e-03</td>\n",
       "    </tr>\n",
       "    <tr>\n",
       "      <th>285</th>\n",
       "      <td>token_printed</td>\n",
       "      <td>5.717628e-03</td>\n",
       "    </tr>\n",
       "    <tr>\n",
       "      <th>880</th>\n",
       "      <td>token_album</td>\n",
       "      <td>5.358391e-03</td>\n",
       "    </tr>\n",
       "    <tr>\n",
       "      <th>455</th>\n",
       "      <td>token_last</td>\n",
       "      <td>5.164068e-03</td>\n",
       "    </tr>\n",
       "    <tr>\n",
       "      <th>298</th>\n",
       "      <td>token_reward</td>\n",
       "      <td>5.132903e-03</td>\n",
       "    </tr>\n",
       "    <tr>\n",
       "      <th>2307</th>\n",
       "      <td>token_site</td>\n",
       "      <td>5.012812e-03</td>\n",
       "    </tr>\n",
       "    <tr>\n",
       "      <th>2122</th>\n",
       "      <td>token_food</td>\n",
       "      <td>4.974852e-03</td>\n",
       "    </tr>\n",
       "    <tr>\n",
       "      <th>710</th>\n",
       "      <td>token_idea</td>\n",
       "      <td>4.934805e-03</td>\n",
       "    </tr>\n",
       "    <tr>\n",
       "      <th>40</th>\n",
       "      <td>token_print</td>\n",
       "      <td>4.717802e-03</td>\n",
       "    </tr>\n",
       "    <tr>\n",
       "      <th>1003</th>\n",
       "      <td>token_campaign</td>\n",
       "      <td>4.715782e-03</td>\n",
       "    </tr>\n",
       "    <tr>\n",
       "      <th>200</th>\n",
       "      <td>token_cover</td>\n",
       "      <td>4.690571e-03</td>\n",
       "    </tr>\n",
       "    <tr>\n",
       "      <th>130</th>\n",
       "      <td>token_new</td>\n",
       "      <td>4.584764e-03</td>\n",
       "    </tr>\n",
       "    <tr>\n",
       "      <th>581</th>\n",
       "      <td>token_theatre</td>\n",
       "      <td>4.520149e-03</td>\n",
       "    </tr>\n",
       "    <tr>\n",
       "      <th>67</th>\n",
       "      <td>token_support</td>\n",
       "      <td>4.364966e-03</td>\n",
       "    </tr>\n",
       "    <tr>\n",
       "      <th>1076</th>\n",
       "      <td>token_original</td>\n",
       "      <td>4.083080e-03</td>\n",
       "    </tr>\n",
       "    <tr>\n",
       "      <th>37</th>\n",
       "      <td>token_service</td>\n",
       "      <td>4.067880e-03</td>\n",
       "    </tr>\n",
       "    <tr>\n",
       "      <th>1936</th>\n",
       "      <td>token_update</td>\n",
       "      <td>3.853406e-03</td>\n",
       "    </tr>\n",
       "    <tr>\n",
       "      <th>1632</th>\n",
       "      <td>token_extra</td>\n",
       "      <td>3.816489e-03</td>\n",
       "    </tr>\n",
       "    <tr>\n",
       "      <th>6039</th>\n",
       "      <td>token_chilling</td>\n",
       "      <td>3.816096e-03</td>\n",
       "    </tr>\n",
       "    <tr>\n",
       "      <th>630</th>\n",
       "      <td>token_space</td>\n",
       "      <td>3.764648e-03</td>\n",
       "    </tr>\n",
       "    <tr>\n",
       "      <th>3179</th>\n",
       "      <td>token_instagram</td>\n",
       "      <td>3.709593e-03</td>\n",
       "    </tr>\n",
       "    <tr>\n",
       "      <th>89</th>\n",
       "      <td>token_need</td>\n",
       "      <td>3.691203e-03</td>\n",
       "    </tr>\n",
       "    <tr>\n",
       "      <th>1013</th>\n",
       "      <td>token_website</td>\n",
       "      <td>3.645677e-03</td>\n",
       "    </tr>\n",
       "    <tr>\n",
       "      <th>...</th>\n",
       "      <td>...</td>\n",
       "      <td>...</td>\n",
       "    </tr>\n",
       "    <tr>\n",
       "      <th>7</th>\n",
       "      <td>token_photo</td>\n",
       "      <td>8.851405e-08</td>\n",
       "    </tr>\n",
       "    <tr>\n",
       "      <th>1911</th>\n",
       "      <td>token_contribute</td>\n",
       "      <td>8.508648e-08</td>\n",
       "    </tr>\n",
       "    <tr>\n",
       "      <th>912</th>\n",
       "      <td>token_nerdy</td>\n",
       "      <td>8.151047e-08</td>\n",
       "    </tr>\n",
       "    <tr>\n",
       "      <th>9209</th>\n",
       "      <td>token_ritual</td>\n",
       "      <td>7.865454e-08</td>\n",
       "    </tr>\n",
       "    <tr>\n",
       "      <th>133</th>\n",
       "      <td>token_sent</td>\n",
       "      <td>7.471432e-08</td>\n",
       "    </tr>\n",
       "    <tr>\n",
       "      <th>3073</th>\n",
       "      <td>token_toy</td>\n",
       "      <td>5.352103e-08</td>\n",
       "    </tr>\n",
       "    <tr>\n",
       "      <th>798</th>\n",
       "      <td>token_traditional</td>\n",
       "      <td>3.760288e-08</td>\n",
       "    </tr>\n",
       "    <tr>\n",
       "      <th>9661</th>\n",
       "      <td>token_veggie</td>\n",
       "      <td>3.336900e-08</td>\n",
       "    </tr>\n",
       "    <tr>\n",
       "      <th>849</th>\n",
       "      <td>token_simply</td>\n",
       "      <td>3.323569e-08</td>\n",
       "    </tr>\n",
       "    <tr>\n",
       "      <th>866</th>\n",
       "      <td>token_aim</td>\n",
       "      <td>3.202764e-08</td>\n",
       "    </tr>\n",
       "    <tr>\n",
       "      <th>755</th>\n",
       "      <td>token_spread</td>\n",
       "      <td>2.256139e-08</td>\n",
       "    </tr>\n",
       "    <tr>\n",
       "      <th>2028</th>\n",
       "      <td>token_pre</td>\n",
       "      <td>2.060405e-08</td>\n",
       "    </tr>\n",
       "    <tr>\n",
       "      <th>2110</th>\n",
       "      <td>token_freedom</td>\n",
       "      <td>1.908467e-08</td>\n",
       "    </tr>\n",
       "    <tr>\n",
       "      <th>441</th>\n",
       "      <td>token_im</td>\n",
       "      <td>1.677925e-08</td>\n",
       "    </tr>\n",
       "    <tr>\n",
       "      <th>6842</th>\n",
       "      <td>token_mega</td>\n",
       "      <td>1.575194e-08</td>\n",
       "    </tr>\n",
       "    <tr>\n",
       "      <th>146</th>\n",
       "      <td>token_quality</td>\n",
       "      <td>1.465829e-08</td>\n",
       "    </tr>\n",
       "    <tr>\n",
       "      <th>9173</th>\n",
       "      <td>token_speech</td>\n",
       "      <td>1.223705e-08</td>\n",
       "    </tr>\n",
       "    <tr>\n",
       "      <th>1647</th>\n",
       "      <td>token_addition</td>\n",
       "      <td>1.149367e-08</td>\n",
       "    </tr>\n",
       "    <tr>\n",
       "      <th>1006</th>\n",
       "      <td>token_initial</td>\n",
       "      <td>7.712584e-09</td>\n",
       "    </tr>\n",
       "    <tr>\n",
       "      <th>5303</th>\n",
       "      <td>token_football</td>\n",
       "      <td>7.050420e-09</td>\n",
       "    </tr>\n",
       "    <tr>\n",
       "      <th>3736</th>\n",
       "      <td>token_al</td>\n",
       "      <td>5.604737e-09</td>\n",
       "    </tr>\n",
       "    <tr>\n",
       "      <th>1186</th>\n",
       "      <td>token_fellow</td>\n",
       "      <td>4.813775e-09</td>\n",
       "    </tr>\n",
       "    <tr>\n",
       "      <th>1066</th>\n",
       "      <td>token_heard</td>\n",
       "      <td>4.435916e-09</td>\n",
       "    </tr>\n",
       "    <tr>\n",
       "      <th>9522</th>\n",
       "      <td>token_enabled</td>\n",
       "      <td>3.442403e-09</td>\n",
       "    </tr>\n",
       "    <tr>\n",
       "      <th>1770</th>\n",
       "      <td>token_named</td>\n",
       "      <td>2.855412e-09</td>\n",
       "    </tr>\n",
       "    <tr>\n",
       "      <th>8399</th>\n",
       "      <td>token_documenting</td>\n",
       "      <td>2.698510e-09</td>\n",
       "    </tr>\n",
       "    <tr>\n",
       "      <th>3618</th>\n",
       "      <td>token_como</td>\n",
       "      <td>2.228008e-09</td>\n",
       "    </tr>\n",
       "    <tr>\n",
       "      <th>247</th>\n",
       "      <td>token_hard</td>\n",
       "      <td>1.869790e-09</td>\n",
       "    </tr>\n",
       "    <tr>\n",
       "      <th>4341</th>\n",
       "      <td>token_healing</td>\n",
       "      <td>6.102525e-10</td>\n",
       "    </tr>\n",
       "    <tr>\n",
       "      <th>4462</th>\n",
       "      <td>token_specie</td>\n",
       "      <td>6.079874e-10</td>\n",
       "    </tr>\n",
       "  </tbody>\n",
       "</table>\n",
       "<p>1188 rows × 2 columns</p>\n",
       "</div>"
      ],
      "text/plain": [
       "                feature    importance\n",
       "327       token_stretch  2.406882e-02\n",
       "52    token_kickstarter  1.311483e-02\n",
       "160        token_artist  7.799656e-03\n",
       "371         token_would  7.419790e-03\n",
       "695      token_business  6.705669e-03\n",
       "445       token_excited  5.834722e-03\n",
       "1001        token_start  5.829709e-03\n",
       "3812          token_pin  5.802106e-03\n",
       "285       token_printed  5.717628e-03\n",
       "880         token_album  5.358391e-03\n",
       "455          token_last  5.164068e-03\n",
       "298        token_reward  5.132903e-03\n",
       "2307         token_site  5.012812e-03\n",
       "2122         token_food  4.974852e-03\n",
       "710          token_idea  4.934805e-03\n",
       "40          token_print  4.717802e-03\n",
       "1003     token_campaign  4.715782e-03\n",
       "200         token_cover  4.690571e-03\n",
       "130           token_new  4.584764e-03\n",
       "581       token_theatre  4.520149e-03\n",
       "67        token_support  4.364966e-03\n",
       "1076     token_original  4.083080e-03\n",
       "37        token_service  4.067880e-03\n",
       "1936       token_update  3.853406e-03\n",
       "1632        token_extra  3.816489e-03\n",
       "6039     token_chilling  3.816096e-03\n",
       "630         token_space  3.764648e-03\n",
       "3179    token_instagram  3.709593e-03\n",
       "89           token_need  3.691203e-03\n",
       "1013      token_website  3.645677e-03\n",
       "...                 ...           ...\n",
       "7           token_photo  8.851405e-08\n",
       "1911   token_contribute  8.508648e-08\n",
       "912         token_nerdy  8.151047e-08\n",
       "9209       token_ritual  7.865454e-08\n",
       "133          token_sent  7.471432e-08\n",
       "3073          token_toy  5.352103e-08\n",
       "798   token_traditional  3.760288e-08\n",
       "9661       token_veggie  3.336900e-08\n",
       "849        token_simply  3.323569e-08\n",
       "866           token_aim  3.202764e-08\n",
       "755        token_spread  2.256139e-08\n",
       "2028          token_pre  2.060405e-08\n",
       "2110      token_freedom  1.908467e-08\n",
       "441            token_im  1.677925e-08\n",
       "6842         token_mega  1.575194e-08\n",
       "146       token_quality  1.465829e-08\n",
       "9173       token_speech  1.223705e-08\n",
       "1647     token_addition  1.149367e-08\n",
       "1006      token_initial  7.712584e-09\n",
       "5303     token_football  7.050420e-09\n",
       "3736           token_al  5.604737e-09\n",
       "1186       token_fellow  4.813775e-09\n",
       "1066        token_heard  4.435916e-09\n",
       "9522      token_enabled  3.442403e-09\n",
       "1770        token_named  2.855412e-09\n",
       "8399  token_documenting  2.698510e-09\n",
       "3618         token_como  2.228008e-09\n",
       "247          token_hard  1.869790e-09\n",
       "4341      token_healing  6.102525e-10\n",
       "4462       token_specie  6.079874e-10\n",
       "\n",
       "[1188 rows x 2 columns]"
      ]
     },
     "execution_count": 323,
     "metadata": {},
     "output_type": "execute_result"
    }
   ],
   "source": [
    "importances[importances['importance'] > 0].sort_values(by='importance', ascending=False)"
   ]
  },
  {
   "cell_type": "markdown",
   "metadata": {
    "collapsed": true
   },
   "source": [
    "Also, we combine tf-idf with other features (see HP tuning notebook)."
   ]
  },
  {
   "cell_type": "code",
   "execution_count": null,
   "metadata": {
    "collapsed": true
   },
   "outputs": [],
   "source": []
  },
  {
   "cell_type": "code",
   "execution_count": null,
   "metadata": {
    "collapsed": true
   },
   "outputs": [],
   "source": []
  },
  {
   "cell_type": "markdown",
   "metadata": {
    "collapsed": true
   },
   "source": [
    "### LSA\n",
    "\n",
    "For both of the above configurations of tf-idf, we use TruncatedSVD (with the use of tf-idf also known as LSA).\n",
    "\n",
    "We reduce dimensionality of tf-idf to:\n",
    "1. 10 components\n",
    "2. 25 components\n",
    "3. 50 components\n",
    "4. 75 components\n",
    "5. 100 components\n",
    "6. 200 components\n",
    "\n",
    "These components are then combined with other features (see HP tuning notebook) and the best option is selected.\n",
    "\n",
    "After trying all configurations, we found out that LSA improves overal accuracy by approximately 2%. Also there is a problem that TruncatedSVD uses randomized algorithm. Therefore we get different results after using the same configuration.\n",
    "However, we got best results with 25 components from tf-idf vectors length of 13 007  (improving accuracy to 74.93%, 74.93% and 75.25% after running TruncatedSVD 3 times)."
   ]
  },
  {
   "cell_type": "code",
   "execution_count": 324,
   "metadata": {},
   "outputs": [],
   "source": [
    "df = pd.read_csv('data/split/nlp/train_tfidf.csv', index_col=0, encoding='latin1')"
   ]
  },
  {
   "cell_type": "code",
   "execution_count": 325,
   "metadata": {
    "collapsed": true
   },
   "outputs": [],
   "source": [
    "from sklearn.decomposition import TruncatedSVD"
   ]
  },
  {
   "cell_type": "code",
   "execution_count": 377,
   "metadata": {
    "collapsed": true
   },
   "outputs": [],
   "source": [
    "lsa = TruncatedSVD(n_components=25, random_state=64)"
   ]
  },
  {
   "cell_type": "code",
   "execution_count": 378,
   "metadata": {},
   "outputs": [
    {
     "data": {
      "text/plain": [
       "(18296, 25)"
      ]
     },
     "execution_count": 378,
     "metadata": {},
     "output_type": "execute_result"
    }
   ],
   "source": [
    "features = pd.DataFrame(lsa.fit_transform(df.iloc[:, 62:]))\n",
    "features.shape"
   ]
  },
  {
   "cell_type": "code",
   "execution_count": 328,
   "metadata": {
    "collapsed": true
   },
   "outputs": [],
   "source": [
    "labels = df['class']"
   ]
  },
  {
   "cell_type": "code",
   "execution_count": 117,
   "metadata": {
    "collapsed": true
   },
   "outputs": [],
   "source": [
    "df_test = pd.read_csv('data/split/nlp/test_tfidf.csv', index_col=0, encoding='latin1')"
   ]
  },
  {
   "cell_type": "code",
   "execution_count": 379,
   "metadata": {},
   "outputs": [
    {
     "data": {
      "text/plain": [
       "(6099, 25)"
      ]
     },
     "execution_count": 379,
     "metadata": {},
     "output_type": "execute_result"
    }
   ],
   "source": [
    "features_test = pd.DataFrame(lsa.transform(df_test.iloc[:, 58:]))\n",
    "features_test.shape"
   ]
  },
  {
   "cell_type": "code",
   "execution_count": 330,
   "metadata": {
    "collapsed": true
   },
   "outputs": [],
   "source": [
    "labels_test = df_test['class']"
   ]
  },
  {
   "cell_type": "code",
   "execution_count": 120,
   "metadata": {
    "collapsed": true
   },
   "outputs": [],
   "source": [
    "df_cv = pd.read_csv('data/split/nlp/cv_tfidf.csv', index_col=0, encoding='latin1')"
   ]
  },
  {
   "cell_type": "code",
   "execution_count": 380,
   "metadata": {},
   "outputs": [
    {
     "data": {
      "text/plain": [
       "(6100, 25)"
      ]
     },
     "execution_count": 380,
     "metadata": {},
     "output_type": "execute_result"
    }
   ],
   "source": [
    "features_cv = pd.DataFrame(lsa.transform(df_cv.iloc[:, 58:]))\n",
    "features_cv.shape"
   ]
  },
  {
   "cell_type": "code",
   "execution_count": null,
   "metadata": {
    "collapsed": true
   },
   "outputs": [],
   "source": []
  },
  {
   "cell_type": "markdown",
   "metadata": {},
   "source": [
    "#### Try prediction with only using LSA components (all projects - not only 25% of them)"
   ]
  },
  {
   "cell_type": "code",
   "execution_count": 381,
   "metadata": {},
   "outputs": [],
   "source": [
    "cls = GradientBoostingClassifier(random_state=64)"
   ]
  },
  {
   "cell_type": "code",
   "execution_count": 382,
   "metadata": {},
   "outputs": [
    {
     "data": {
      "text/plain": [
       "GradientBoostingClassifier(criterion='friedman_mse', init=None,\n",
       "              learning_rate=0.1, loss='deviance', max_depth=3,\n",
       "              max_features=None, max_leaf_nodes=None,\n",
       "              min_impurity_decrease=0.0, min_impurity_split=None,\n",
       "              min_samples_leaf=1, min_samples_split=2,\n",
       "              min_weight_fraction_leaf=0.0, n_estimators=100,\n",
       "              presort='auto', random_state=64, subsample=1.0, verbose=0,\n",
       "              warm_start=False)"
      ]
     },
     "execution_count": 382,
     "metadata": {},
     "output_type": "execute_result"
    }
   ],
   "source": [
    "cls.fit(features, labels)"
   ]
  },
  {
   "cell_type": "code",
   "execution_count": 383,
   "metadata": {},
   "outputs": [
    {
     "name": "stdout",
     "output_type": "stream",
     "text": [
      "accuracy:  0.588216003498\n",
      "\n",
      "             precision    recall  f1-score   support\n",
      "\n",
      "          1       0.61      0.87      0.72      7665\n",
      "          2       0.97      0.04      0.07      2370\n",
      "          3       0.54      0.43      0.48      4184\n",
      "          4       0.56      0.54      0.55      4077\n",
      "\n",
      "avg / total       0.63      0.59      0.54     18296\n",
      "\n",
      "macro precision:  0.669032353522\n",
      "micro precision:  0.588216003498\n",
      "\n",
      "micro recall:  0.588216003498\n",
      "macro recall:  0.469769567847\n",
      "\n",
      "micro f1:  0.588216003498\n",
      "macro f1:  0.454871739884\n"
     ]
    },
    {
     "data": {
      "image/png": "[encoded data removed]",
      "text/plain": [
       "<matplotlib.figure.Figure at 0x2d9c2881240>"
      ]
     },
     "metadata": {},
     "output_type": "display_data"
    }
   ],
   "source": [
    "print_metrics(cls, features, labels)"
   ]
  },
  {
   "cell_type": "code",
   "execution_count": 384,
   "metadata": {},
   "outputs": [
    {
     "name": "stdout",
     "output_type": "stream",
     "text": [
      "accuracy:  0.554517133956\n",
      "\n",
      "             precision    recall  f1-score   support\n",
      "\n",
      "          1       0.60      0.85      0.70      2580\n",
      "          2       0.52      0.02      0.03       772\n",
      "          3       0.46      0.36      0.40      1385\n",
      "          4       0.52      0.49      0.50      1362\n",
      "\n",
      "avg / total       0.54      0.55      0.51      6099\n",
      "\n",
      "macro precision:  0.523261284089\n",
      "micro precision:  0.554517133956\n",
      "\n",
      "micro recall:  0.554517133956\n",
      "macro recall:  0.430554837879\n",
      "\n",
      "micro f1:  0.554517133956\n",
      "macro f1:  0.410227326757\n"
     ]
    },
    {
     "data": {
      "image/png": "[encoded data removed]",
      "text/plain": [
       "<matplotlib.figure.Figure at 0x2d8c60e3a20>"
      ]
     },
     "metadata": {},
     "output_type": "display_data"
    }
   ],
   "source": [
    "print_metrics(cls, features_test, labels_test)"
   ]
  },
  {
   "cell_type": "code",
   "execution_count": 385,
   "metadata": {
    "collapsed": true
   },
   "outputs": [],
   "source": [
    "importances = pd.DataFrame()\n",
    "for i, name, importance in zip(range(len(features.columns)), features.columns, cls.feature_importances_):\n",
    "    importances.loc[i, 'feature'] = name\n",
    "    importances.loc[i, 'importance'] = importance"
   ]
  },
  {
   "cell_type": "code",
   "execution_count": 386,
   "metadata": {
    "scrolled": true
   },
   "outputs": [
    {
     "data": {
      "text/html": [
       "<div>\n",
       "<style>\n",
       "    .dataframe thead tr:only-child th {\n",
       "        text-align: right;\n",
       "    }\n",
       "\n",
       "    .dataframe thead th {\n",
       "        text-align: left;\n",
       "    }\n",
       "\n",
       "    .dataframe tbody tr th {\n",
       "        vertical-align: top;\n",
       "    }\n",
       "</style>\n",
       "<table border=\"1\" class=\"dataframe\">\n",
       "  <thead>\n",
       "    <tr style=\"text-align: right;\">\n",
       "      <th></th>\n",
       "      <th>feature</th>\n",
       "      <th>importance</th>\n",
       "    </tr>\n",
       "  </thead>\n",
       "  <tbody>\n",
       "    <tr>\n",
       "      <th>0</th>\n",
       "      <td>0.0</td>\n",
       "      <td>0.076642</td>\n",
       "    </tr>\n",
       "    <tr>\n",
       "      <th>11</th>\n",
       "      <td>11.0</td>\n",
       "      <td>0.069233</td>\n",
       "    </tr>\n",
       "    <tr>\n",
       "      <th>3</th>\n",
       "      <td>3.0</td>\n",
       "      <td>0.054570</td>\n",
       "    </tr>\n",
       "    <tr>\n",
       "      <th>9</th>\n",
       "      <td>9.0</td>\n",
       "      <td>0.053394</td>\n",
       "    </tr>\n",
       "    <tr>\n",
       "      <th>2</th>\n",
       "      <td>2.0</td>\n",
       "      <td>0.051269</td>\n",
       "    </tr>\n",
       "    <tr>\n",
       "      <th>19</th>\n",
       "      <td>19.0</td>\n",
       "      <td>0.050621</td>\n",
       "    </tr>\n",
       "    <tr>\n",
       "      <th>23</th>\n",
       "      <td>23.0</td>\n",
       "      <td>0.045505</td>\n",
       "    </tr>\n",
       "    <tr>\n",
       "      <th>24</th>\n",
       "      <td>24.0</td>\n",
       "      <td>0.042118</td>\n",
       "    </tr>\n",
       "    <tr>\n",
       "      <th>8</th>\n",
       "      <td>8.0</td>\n",
       "      <td>0.041156</td>\n",
       "    </tr>\n",
       "    <tr>\n",
       "      <th>4</th>\n",
       "      <td>4.0</td>\n",
       "      <td>0.040314</td>\n",
       "    </tr>\n",
       "    <tr>\n",
       "      <th>20</th>\n",
       "      <td>20.0</td>\n",
       "      <td>0.039471</td>\n",
       "    </tr>\n",
       "    <tr>\n",
       "      <th>5</th>\n",
       "      <td>5.0</td>\n",
       "      <td>0.037895</td>\n",
       "    </tr>\n",
       "    <tr>\n",
       "      <th>21</th>\n",
       "      <td>21.0</td>\n",
       "      <td>0.035132</td>\n",
       "    </tr>\n",
       "    <tr>\n",
       "      <th>12</th>\n",
       "      <td>12.0</td>\n",
       "      <td>0.034341</td>\n",
       "    </tr>\n",
       "    <tr>\n",
       "      <th>17</th>\n",
       "      <td>17.0</td>\n",
       "      <td>0.033338</td>\n",
       "    </tr>\n",
       "    <tr>\n",
       "      <th>10</th>\n",
       "      <td>10.0</td>\n",
       "      <td>0.032313</td>\n",
       "    </tr>\n",
       "    <tr>\n",
       "      <th>1</th>\n",
       "      <td>1.0</td>\n",
       "      <td>0.032023</td>\n",
       "    </tr>\n",
       "    <tr>\n",
       "      <th>18</th>\n",
       "      <td>18.0</td>\n",
       "      <td>0.031853</td>\n",
       "    </tr>\n",
       "    <tr>\n",
       "      <th>14</th>\n",
       "      <td>14.0</td>\n",
       "      <td>0.031716</td>\n",
       "    </tr>\n",
       "    <tr>\n",
       "      <th>6</th>\n",
       "      <td>6.0</td>\n",
       "      <td>0.031301</td>\n",
       "    </tr>\n",
       "    <tr>\n",
       "      <th>16</th>\n",
       "      <td>16.0</td>\n",
       "      <td>0.031277</td>\n",
       "    </tr>\n",
       "    <tr>\n",
       "      <th>22</th>\n",
       "      <td>22.0</td>\n",
       "      <td>0.030578</td>\n",
       "    </tr>\n",
       "    <tr>\n",
       "      <th>7</th>\n",
       "      <td>7.0</td>\n",
       "      <td>0.026396</td>\n",
       "    </tr>\n",
       "    <tr>\n",
       "      <th>15</th>\n",
       "      <td>15.0</td>\n",
       "      <td>0.025250</td>\n",
       "    </tr>\n",
       "    <tr>\n",
       "      <th>13</th>\n",
       "      <td>13.0</td>\n",
       "      <td>0.022293</td>\n",
       "    </tr>\n",
       "  </tbody>\n",
       "</table>\n",
       "</div>"
      ],
      "text/plain": [
       "    feature  importance\n",
       "0       0.0    0.076642\n",
       "11     11.0    0.069233\n",
       "3       3.0    0.054570\n",
       "9       9.0    0.053394\n",
       "2       2.0    0.051269\n",
       "19     19.0    0.050621\n",
       "23     23.0    0.045505\n",
       "24     24.0    0.042118\n",
       "8       8.0    0.041156\n",
       "4       4.0    0.040314\n",
       "20     20.0    0.039471\n",
       "5       5.0    0.037895\n",
       "21     21.0    0.035132\n",
       "12     12.0    0.034341\n",
       "17     17.0    0.033338\n",
       "10     10.0    0.032313\n",
       "1       1.0    0.032023\n",
       "18     18.0    0.031853\n",
       "14     14.0    0.031716\n",
       "6       6.0    0.031301\n",
       "16     16.0    0.031277\n",
       "22     22.0    0.030578\n",
       "7       7.0    0.026396\n",
       "15     15.0    0.025250\n",
       "13     13.0    0.022293"
      ]
     },
     "execution_count": 386,
     "metadata": {},
     "output_type": "execute_result"
    }
   ],
   "source": [
    "importances[importances['importance'] > 0].sort_values(by='importance', ascending=False)"
   ]
  },
  {
   "cell_type": "code",
   "execution_count": 387,
   "metadata": {
    "collapsed": true
   },
   "outputs": [],
   "source": [
    "features['ratio_running_duration'] = df['ratio_running_duration']\n",
    "features_test['ratio_running_duration'] = df_test['ratio_running_duration']\n",
    "features_cv['ratio_running_duration'] = df_cv['ratio_running_duration']"
   ]
  },
  {
   "cell_type": "code",
   "execution_count": 388,
   "metadata": {
    "collapsed": true
   },
   "outputs": [],
   "source": [
    "features.to_csv('data/split/nlp/train_lsa.csv')\n",
    "features_test.to_csv('data/split/nlp/test_lsa.csv')\n",
    "features_cv.to_csv('data/split/nlp/cv_lsa.csv')"
   ]
  },
  {
   "cell_type": "code",
   "execution_count": null,
   "metadata": {
    "collapsed": true
   },
   "outputs": [],
   "source": []
  },
  {
   "cell_type": "markdown",
   "metadata": {},
   "source": [
    "### LDA (Latent Dirichlet Allocation)"
   ]
  },
  {
   "cell_type": "code",
   "execution_count": 479,
   "metadata": {
    "collapsed": true
   },
   "outputs": [],
   "source": [
    "# source: http://scikit-learn.org/stable/auto_examples/applications/plot_topics_extraction_with_nmf_lda.html\n",
    "\n",
    "def print_top_words(model, feature_names, n_top_words):\n",
    "    for topic_idx, topic in enumerate(model.components_):\n",
    "        message = \"Topic #%d: \" % topic_idx\n",
    "        message += \" \".join([feature_names[i]\n",
    "                             for i in topic.argsort()[:-n_top_words - 1:-1]])\n",
    "        print(message)"
   ]
  },
  {
   "cell_type": "code",
   "execution_count": 483,
   "metadata": {},
   "outputs": [
    {
     "data": {
      "text/plain": [
       "'taken'"
      ]
     },
     "execution_count": 483,
     "metadata": {},
     "output_type": "execute_result"
    }
   ],
   "source": [
    "df['tokens'][0][0]"
   ]
  },
  {
   "cell_type": "code",
   "execution_count": 395,
   "metadata": {
    "collapsed": true
   },
   "outputs": [],
   "source": [
    "# tokens column is treated as string\n",
    "df['tokens'] = df['tokens'].apply(lambda x: literal_eval(x))"
   ]
  },
  {
   "cell_type": "markdown",
   "metadata": {},
   "source": [
    "#### Calculate tf\n",
    "\n",
    "We will not store tf in datasets."
   ]
  },
  {
   "cell_type": "code",
   "execution_count": 484,
   "metadata": {},
   "outputs": [],
   "source": [
    "tf_vectorizer = CountVectorizer(preprocessor=' '.join, min_df=0.05)\n",
    "tf = tf_vectorizer.fit_transform(df['tokens'])\n",
    "tf_feature_names = tf_vectorizer.get_feature_names()"
   ]
  },
  {
   "cell_type": "code",
   "execution_count": 485,
   "metadata": {
    "collapsed": true
   },
   "outputs": [],
   "source": [
    "# test set\n",
    "tf_test = tf_vectorizer.transform(df_test['tokens'])"
   ]
  },
  {
   "cell_type": "code",
   "execution_count": 486,
   "metadata": {
    "collapsed": true
   },
   "outputs": [],
   "source": [
    "# validation set\n",
    "tf_cv = tf_vectorizer.transform(df_cv['tokens'])"
   ]
  },
  {
   "cell_type": "markdown",
   "metadata": {},
   "source": [
    "#### Use LDA"
   ]
  },
  {
   "cell_type": "code",
   "execution_count": 487,
   "metadata": {
    "collapsed": true
   },
   "outputs": [],
   "source": [
    "lda = LatentDirichletAllocation(random_state=64, n_jobs=-1, n_components=25)"
   ]
  },
  {
   "cell_type": "code",
   "execution_count": 488,
   "metadata": {},
   "outputs": [
    {
     "name": "stderr",
     "output_type": "stream",
     "text": [
      "C:\\Users\\Patrik\\Anaconda3\\lib\\site-packages\\sklearn\\decomposition\\online_lda.py:536: DeprecationWarning: The default value for 'learning_method' will be changed from 'online' to 'batch' in the release 0.20. This warning was introduced in 0.18.\n",
      "  DeprecationWarning)\n"
     ]
    },
    {
     "data": {
      "text/plain": [
       "LatentDirichletAllocation(batch_size=128, doc_topic_prior=None,\n",
       "             evaluate_every=-1, learning_decay=0.7, learning_method=None,\n",
       "             learning_offset=10.0, max_doc_update_iter=100, max_iter=10,\n",
       "             mean_change_tol=0.001, n_components=25, n_jobs=-1,\n",
       "             n_topics=None, perp_tol=0.1, random_state=64,\n",
       "             topic_word_prior=None, total_samples=1000000.0, verbose=0)"
      ]
     },
     "execution_count": 488,
     "metadata": {},
     "output_type": "execute_result"
    }
   ],
   "source": [
    "lda.fit(tf)"
   ]
  },
  {
   "cell_type": "code",
   "execution_count": 489,
   "metadata": {},
   "outputs": [
    {
     "name": "stdout",
     "output_type": "stream",
     "text": [
      "Topic #0: issue black digital color shirt white copy level physical hand\n",
      "Topic #1: new show city performance york work production 2016 audience stage\n",
      "Topic #2: product design use quality made high one make also material\n",
      "Topic #3: film production festival movie director short producer story feature award\n",
      "Topic #4: get like make want one would time people thing know\n",
      "Topic #5: service plus 00 100 word 50 reader receive offer post\n",
      "Topic #6: de la en le un per plus non 000 2016\n",
      "Topic #7: light camera led blue red night eye color body time\n",
      "Topic #8: book print reward pledge edition one card add kickstarter backer\n",
      "Topic #9: art artist work studio piece project create artwork drawing creative\n",
      "Topic #10: music album song recording record band video sound musician studio\n",
      "Topic #11: app device phone mobile user use time feature technology home\n",
      "Topic #12: software system platform user technology application development tool build project\n",
      "Topic #13: food child kid family fresh grow growing fun table school\n",
      "Topic #14: goal project 000 cost kickstarter help fund campaign funding money\n",
      "Topic #15: book comic story page cover character series first novel writer\n",
      "Topic #16: photo image project video photography medium magazine picture website social\n",
      "Topic #17: life story coffee world woman people one way love time\n",
      "Topic #18: com www http facebook watch youtube twitter instagram link website\n",
      "Topic #19: business local community space need building shop equipment area small\n",
      "Topic #20: year love time friend new make dream help one great\n",
      "Topic #21: people help event place year world country community one live\n",
      "Topic #22: content capable browser see need html5 0000 soundplay playreplay sound00\n",
      "Topic #23: power board game sound control play use also system video\n",
      "Topic #24: student community school space project program university class year work\n"
     ]
    }
   ],
   "source": [
    "print_top_words(lda, tf_feature_names, 10)"
   ]
  },
  {
   "cell_type": "code",
   "execution_count": 490,
   "metadata": {
    "collapsed": true
   },
   "outputs": [],
   "source": [
    "features = pd.DataFrame(lda.transform(tf))"
   ]
  },
  {
   "cell_type": "code",
   "execution_count": 491,
   "metadata": {},
   "outputs": [],
   "source": [
    "features_test = pd.DataFrame(lda.transform(tf_test))"
   ]
  },
  {
   "cell_type": "code",
   "execution_count": 492,
   "metadata": {
    "collapsed": true
   },
   "outputs": [],
   "source": [
    "features_cv = pd.DataFrame(lda.transform(tf_cv))"
   ]
  },
  {
   "cell_type": "markdown",
   "metadata": {},
   "source": [
    "#### Predict class using only LDA topics (all projects - not only 25% of them)"
   ]
  },
  {
   "cell_type": "code",
   "execution_count": 493,
   "metadata": {
    "collapsed": true
   },
   "outputs": [],
   "source": [
    "labels = df['class']\n",
    "labels_test = df_test['class']"
   ]
  },
  {
   "cell_type": "code",
   "execution_count": 494,
   "metadata": {
    "collapsed": true
   },
   "outputs": [],
   "source": [
    "cls = GradientBoostingClassifier(random_state=64)"
   ]
  },
  {
   "cell_type": "code",
   "execution_count": 495,
   "metadata": {},
   "outputs": [
    {
     "data": {
      "text/plain": [
       "GradientBoostingClassifier(criterion='friedman_mse', init=None,\n",
       "              learning_rate=0.1, loss='deviance', max_depth=3,\n",
       "              max_features=None, max_leaf_nodes=None,\n",
       "              min_impurity_decrease=0.0, min_impurity_split=None,\n",
       "              min_samples_leaf=1, min_samples_split=2,\n",
       "              min_weight_fraction_leaf=0.0, n_estimators=100,\n",
       "              presort='auto', random_state=64, subsample=1.0, verbose=0,\n",
       "              warm_start=False)"
      ]
     },
     "execution_count": 495,
     "metadata": {},
     "output_type": "execute_result"
    }
   ],
   "source": [
    "cls.fit(features, labels)"
   ]
  },
  {
   "cell_type": "code",
   "execution_count": 496,
   "metadata": {},
   "outputs": [
    {
     "name": "stdout",
     "output_type": "stream",
     "text": [
      "accuracy:  0.586521644075\n",
      "\n",
      "             precision    recall  f1-score   support\n",
      "\n",
      "          1       0.62      0.86      0.72      7665\n",
      "          2       0.97      0.04      0.08      2370\n",
      "          3       0.52      0.42      0.46      4184\n",
      "          4       0.53      0.56      0.55      4077\n",
      "\n",
      "avg / total       0.63      0.59      0.54     18296\n",
      "\n",
      "macro precision:  0.662649716819\n",
      "micro precision:  0.586521644075\n",
      "\n",
      "micro recall:  0.586521644075\n",
      "macro recall:  0.470094363191\n",
      "\n",
      "micro f1:  0.586521644075\n",
      "macro f1:  0.453328956703\n"
     ]
    },
    {
     "data": {
      "image/png": "[encoded data removed]",
      "text/plain": [
       "<matplotlib.figure.Figure at 0x2d93e45b3c8>"
      ]
     },
     "metadata": {},
     "output_type": "display_data"
    }
   ],
   "source": [
    "print_metrics(cls, features, labels)"
   ]
  },
  {
   "cell_type": "code",
   "execution_count": 497,
   "metadata": {},
   "outputs": [
    {
     "name": "stdout",
     "output_type": "stream",
     "text": [
      "accuracy:  0.557632398754\n",
      "\n",
      "             precision    recall  f1-score   support\n",
      "\n",
      "          1       0.61      0.84      0.71      2580\n",
      "          2       0.37      0.01      0.02       772\n",
      "          3       0.47      0.37      0.42      1385\n",
      "          4       0.50      0.51      0.51      1362\n",
      "\n",
      "avg / total       0.52      0.56      0.51      6099\n",
      "\n",
      "macro precision:  0.486122384172\n",
      "micro precision:  0.557632398754\n",
      "\n",
      "micro recall:  0.557632398754\n",
      "macro recall:  0.435111924149\n",
      "\n",
      "micro f1:  0.557632398754\n",
      "macro f1:  0.411755827208\n"
     ]
    },
    {
     "data": {
      "image/png": "[encoded data removed]",
      "text/plain": [
       "<matplotlib.figure.Figure at 0x2d8e9dac588>"
      ]
     },
     "metadata": {},
     "output_type": "display_data"
    }
   ],
   "source": [
    "print_metrics(cls, features_test, labels_test)"
   ]
  },
  {
   "cell_type": "code",
   "execution_count": 498,
   "metadata": {},
   "outputs": [],
   "source": [
    "importances = pd.DataFrame()\n",
    "for i, name, importance in zip(range(len(features.columns)), features.columns, cls.feature_importances_):\n",
    "    importances.loc[i, 'feature'] = name\n",
    "    importances.loc[i, 'importance'] = importance"
   ]
  },
  {
   "cell_type": "code",
   "execution_count": 499,
   "metadata": {
    "scrolled": true
   },
   "outputs": [
    {
     "data": {
      "text/html": [
       "<div>\n",
       "<style>\n",
       "    .dataframe thead tr:only-child th {\n",
       "        text-align: right;\n",
       "    }\n",
       "\n",
       "    .dataframe thead th {\n",
       "        text-align: left;\n",
       "    }\n",
       "\n",
       "    .dataframe tbody tr th {\n",
       "        vertical-align: top;\n",
       "    }\n",
       "</style>\n",
       "<table border=\"1\" class=\"dataframe\">\n",
       "  <thead>\n",
       "    <tr style=\"text-align: right;\">\n",
       "      <th></th>\n",
       "      <th>feature</th>\n",
       "      <th>importance</th>\n",
       "    </tr>\n",
       "  </thead>\n",
       "  <tbody>\n",
       "    <tr>\n",
       "      <th>1</th>\n",
       "      <td>1.0</td>\n",
       "      <td>0.060870</td>\n",
       "    </tr>\n",
       "    <tr>\n",
       "      <th>8</th>\n",
       "      <td>8.0</td>\n",
       "      <td>0.055920</td>\n",
       "    </tr>\n",
       "    <tr>\n",
       "      <th>16</th>\n",
       "      <td>16.0</td>\n",
       "      <td>0.046896</td>\n",
       "    </tr>\n",
       "    <tr>\n",
       "      <th>23</th>\n",
       "      <td>23.0</td>\n",
       "      <td>0.046883</td>\n",
       "    </tr>\n",
       "    <tr>\n",
       "      <th>12</th>\n",
       "      <td>12.0</td>\n",
       "      <td>0.046714</td>\n",
       "    </tr>\n",
       "    <tr>\n",
       "      <th>21</th>\n",
       "      <td>21.0</td>\n",
       "      <td>0.046693</td>\n",
       "    </tr>\n",
       "    <tr>\n",
       "      <th>4</th>\n",
       "      <td>4.0</td>\n",
       "      <td>0.046455</td>\n",
       "    </tr>\n",
       "    <tr>\n",
       "      <th>19</th>\n",
       "      <td>19.0</td>\n",
       "      <td>0.044557</td>\n",
       "    </tr>\n",
       "    <tr>\n",
       "      <th>2</th>\n",
       "      <td>2.0</td>\n",
       "      <td>0.044128</td>\n",
       "    </tr>\n",
       "    <tr>\n",
       "      <th>9</th>\n",
       "      <td>9.0</td>\n",
       "      <td>0.041650</td>\n",
       "    </tr>\n",
       "    <tr>\n",
       "      <th>20</th>\n",
       "      <td>20.0</td>\n",
       "      <td>0.040704</td>\n",
       "    </tr>\n",
       "    <tr>\n",
       "      <th>24</th>\n",
       "      <td>24.0</td>\n",
       "      <td>0.040380</td>\n",
       "    </tr>\n",
       "    <tr>\n",
       "      <th>22</th>\n",
       "      <td>22.0</td>\n",
       "      <td>0.039916</td>\n",
       "    </tr>\n",
       "    <tr>\n",
       "      <th>17</th>\n",
       "      <td>17.0</td>\n",
       "      <td>0.039624</td>\n",
       "    </tr>\n",
       "    <tr>\n",
       "      <th>15</th>\n",
       "      <td>15.0</td>\n",
       "      <td>0.039087</td>\n",
       "    </tr>\n",
       "    <tr>\n",
       "      <th>13</th>\n",
       "      <td>13.0</td>\n",
       "      <td>0.037651</td>\n",
       "    </tr>\n",
       "    <tr>\n",
       "      <th>10</th>\n",
       "      <td>10.0</td>\n",
       "      <td>0.036784</td>\n",
       "    </tr>\n",
       "    <tr>\n",
       "      <th>14</th>\n",
       "      <td>14.0</td>\n",
       "      <td>0.036494</td>\n",
       "    </tr>\n",
       "    <tr>\n",
       "      <th>0</th>\n",
       "      <td>0.0</td>\n",
       "      <td>0.036419</td>\n",
       "    </tr>\n",
       "    <tr>\n",
       "      <th>18</th>\n",
       "      <td>18.0</td>\n",
       "      <td>0.035267</td>\n",
       "    </tr>\n",
       "    <tr>\n",
       "      <th>6</th>\n",
       "      <td>6.0</td>\n",
       "      <td>0.032169</td>\n",
       "    </tr>\n",
       "    <tr>\n",
       "      <th>5</th>\n",
       "      <td>5.0</td>\n",
       "      <td>0.029978</td>\n",
       "    </tr>\n",
       "    <tr>\n",
       "      <th>11</th>\n",
       "      <td>11.0</td>\n",
       "      <td>0.028344</td>\n",
       "    </tr>\n",
       "    <tr>\n",
       "      <th>3</th>\n",
       "      <td>3.0</td>\n",
       "      <td>0.025969</td>\n",
       "    </tr>\n",
       "    <tr>\n",
       "      <th>7</th>\n",
       "      <td>7.0</td>\n",
       "      <td>0.020448</td>\n",
       "    </tr>\n",
       "  </tbody>\n",
       "</table>\n",
       "</div>"
      ],
      "text/plain": [
       "    feature  importance\n",
       "1       1.0    0.060870\n",
       "8       8.0    0.055920\n",
       "16     16.0    0.046896\n",
       "23     23.0    0.046883\n",
       "12     12.0    0.046714\n",
       "21     21.0    0.046693\n",
       "4       4.0    0.046455\n",
       "19     19.0    0.044557\n",
       "2       2.0    0.044128\n",
       "9       9.0    0.041650\n",
       "20     20.0    0.040704\n",
       "24     24.0    0.040380\n",
       "22     22.0    0.039916\n",
       "17     17.0    0.039624\n",
       "15     15.0    0.039087\n",
       "13     13.0    0.037651\n",
       "10     10.0    0.036784\n",
       "14     14.0    0.036494\n",
       "0       0.0    0.036419\n",
       "18     18.0    0.035267\n",
       "6       6.0    0.032169\n",
       "5       5.0    0.029978\n",
       "11     11.0    0.028344\n",
       "3       3.0    0.025969\n",
       "7       7.0    0.020448"
      ]
     },
     "execution_count": 499,
     "metadata": {},
     "output_type": "execute_result"
    }
   ],
   "source": [
    "importances[importances['importance'] > 0].sort_values(by='importance', ascending=False)"
   ]
  },
  {
   "cell_type": "code",
   "execution_count": 500,
   "metadata": {
    "collapsed": true
   },
   "outputs": [],
   "source": [
    "features['ratio_running_duration'] = df['ratio_running_duration']\n",
    "features_test['ratio_running_duration'] = df_test['ratio_running_duration']\n",
    "features_cv['ratio_running_duration'] = df_cv['ratio_running_duration']"
   ]
  },
  {
   "cell_type": "code",
   "execution_count": 501,
   "metadata": {
    "collapsed": true
   },
   "outputs": [],
   "source": [
    "features.to_csv('data/split/nlp/train_lda25.csv')\n",
    "features_test.to_csv('data/split/nlp/test_lda25.csv')\n",
    "features_cv.to_csv('data/split/nlp/cv_lda25.csv')"
   ]
  },
  {
   "cell_type": "markdown",
   "metadata": {},
   "source": []
  },
  {
   "cell_type": "markdown",
   "metadata": {},
   "source": [
    "We tested 10 and 25 topics and found out that LDA performs similarly to LSA."
   ]
  },
  {
   "cell_type": "markdown",
   "metadata": {},
   "source": [
    "# Problems encountered\n",
    "\n",
    "As we can see, LDA uses non-english words for topic modeling, which may have bad impact on it's accuracy. This can also be problem for LSA.\n",
    "\n",
    "For that reason we will repeat most of the steps in this notebook but only using documents fully written in english."
   ]
  },
  {
   "cell_type": "code",
   "execution_count": 507,
   "metadata": {},
   "outputs": [
    {
     "name": "stdout",
     "output_type": "stream",
     "text": [
      "16927 out of 18296 projects are fully written in english.\n"
     ]
    }
   ],
   "source": [
    "print(str(len(df[(df['lang_1'] == 'en') & (df['lang_2'] == 'en')])) + ' out of ' + str(len(df)) + ' projects are fully written in english.')"
   ]
  },
  {
   "cell_type": "code",
   "execution_count": null,
   "metadata": {
    "collapsed": true
   },
   "outputs": [],
   "source": []
  }
 ],
 "metadata": {
  "kernelspec": {
   "display_name": "Python 3",
   "language": "python",
   "name": "python3"
  },
  "language_info": {
   "codemirror_mode": {
    "name": "ipython",
    "version": 3
   },
   "file_extension": ".py",
   "mimetype": "text/x-python",
   "name": "python",
   "nbconvert_exporter": "python",
   "pygments_lexer": "ipython3",
   "version": "3.6.1"
  }
 },
 "nbformat": 4,
 "nbformat_minor": 2
}
