{
 "cells": [
  {
   "cell_type": "markdown",
   "metadata": {},
   "source": [
    "In this notebook we will apply LDA again, but we will remove any project descriptions that were detected as non-english."
   ]
  },
  {
   "cell_type": "code",
   "execution_count": 2,
   "metadata": {
    "collapsed": true
   },
   "outputs": [],
   "source": [
    "%matplotlib inline\n",
    "import pandas as pd\n",
    "import matplotlib.pyplot as plt\n",
    "import seaborn as sns\n",
    "import numpy as np\n",
    "\n",
    "from ast import literal_eval\n",
    "\n",
    "from collections import defaultdict\n",
    "\n",
    "from sklearn.feature_extraction.text import CountVectorizer\n",
    "\n",
    "from sklearn.decomposition import LatentDirichletAllocation\n",
    "\n",
    "from sklearn.ensemble import GradientBoostingClassifier\n",
    "\n",
    "from sklearn import metrics\n",
    "from sklearn.metrics import confusion_matrix"
   ]
  },
  {
   "cell_type": "code",
   "execution_count": 42,
   "metadata": {
    "collapsed": true
   },
   "outputs": [],
   "source": [
    "# metrics for each class + weighted average (- bad impact)\n",
    "# micro f1 = accuracy\n",
    "def print_metrics(cls, X_test, y_test):\n",
    "    sns.heatmap(confusion_matrix(y_test, cls.predict(X_test)), annot=True, fmt='g', annot_kws={\"size\": 16})\n",
    "    print('accuracy: ',metrics.accuracy_score(y_test, cls.predict(X_test)))\n",
    "    print()\n",
    "    print(metrics.classification_report(y_test, cls.predict(X_test)))\n",
    "    print('macro precision: ',metrics.precision_score(y_test, cls.predict(X_test), average='macro'))\n",
    "    print('micro precision: ',metrics.precision_score(y_test, cls.predict(X_test), average='micro'))\n",
    "    print()\n",
    "    print('micro recall: ',metrics.recall_score(y_test, cls.predict(X_test), average='micro'))\n",
    "    print('macro recall: ',metrics.recall_score(y_test, cls.predict(X_test), average='macro'))\n",
    "    print()\n",
    "    print('micro f1: ',metrics.f1_score(y_test, cls.predict(X_test), average='micro'))\n",
    "    print('macro f1: ',metrics.f1_score(y_test, cls.predict(X_test), average='macro'))\n",
    "    plt.show()"
   ]
  },
  {
   "cell_type": "code",
   "execution_count": 44,
   "metadata": {},
   "outputs": [],
   "source": [
    "df = pd.read_csv('data/split/nlp/train_tokens.csv', index_col=0, encoding='latin1')\n",
    "df_test = pd.read_csv('data/split/nlp/test_tokens.csv', index_col=0, encoding='latin1')\n",
    "df_cv = pd.read_csv('data/split/nlp/cv_tokens.csv', index_col=0, encoding='latin1')"
   ]
  },
  {
   "cell_type": "code",
   "execution_count": 45,
   "metadata": {
    "collapsed": true
   },
   "outputs": [],
   "source": [
    "# tokens column is treated as string\n",
    "df['tokens'] = df['tokens'].apply(lambda x: literal_eval(x))\n",
    "df_test['tokens'] = df_test['tokens'].apply(lambda x: literal_eval(x))\n",
    "df_cv['tokens'] = df_cv['tokens'].apply(lambda x: literal_eval(x))"
   ]
  },
  {
   "cell_type": "code",
   "execution_count": 46,
   "metadata": {},
   "outputs": [
    {
     "data": {
      "text/plain": [
       "'taken'"
      ]
     },
     "execution_count": 46,
     "metadata": {},
     "output_type": "execute_result"
    }
   ],
   "source": [
    "df.tokens[0][0]"
   ]
  },
  {
   "cell_type": "code",
   "execution_count": 47,
   "metadata": {},
   "outputs": [
    {
     "name": "stdout",
     "output_type": "stream",
     "text": [
      "18296 6099 6100\n"
     ]
    }
   ],
   "source": [
    "print(len(df), len(df_test), len(df_cv))"
   ]
  },
  {
   "cell_type": "code",
   "execution_count": 48,
   "metadata": {
    "collapsed": true
   },
   "outputs": [],
   "source": [
    "df = df[(df['lang_1'] == 'en') & (df['lang_2'] == 'en')]\n",
    "df_test = df_test[(df_test['lang_1'] == 'en') & (df_test['lang_2'] == 'en')]\n",
    "df_cv = df_cv[(df_cv['lang_1'] == 'en') & (df_cv['lang_2'] == 'en')]"
   ]
  },
  {
   "cell_type": "code",
   "execution_count": 49,
   "metadata": {},
   "outputs": [
    {
     "name": "stdout",
     "output_type": "stream",
     "text": [
      "16927 5653 5605\n"
     ]
    }
   ],
   "source": [
    "print(len(df), len(df_test), len(df_cv))"
   ]
  },
  {
   "cell_type": "code",
   "execution_count": 14,
   "metadata": {
    "collapsed": true
   },
   "outputs": [],
   "source": [
    "tokens_len = df['tokens'].apply(lambda x: len(x))"
   ]
  },
  {
   "cell_type": "code",
   "execution_count": 15,
   "metadata": {},
   "outputs": [
    {
     "data": {
      "text/plain": [
       "count    16927.000000\n",
       "mean       319.168784\n",
       "std        321.578732\n",
       "min          1.000000\n",
       "25%        109.000000\n",
       "50%        216.000000\n",
       "75%        415.000000\n",
       "max       3990.000000\n",
       "Name: tokens, dtype: float64"
      ]
     },
     "execution_count": 15,
     "metadata": {},
     "output_type": "execute_result"
    }
   ],
   "source": [
    "tokens_len.describe()"
   ]
  },
  {
   "cell_type": "code",
   "execution_count": 16,
   "metadata": {},
   "outputs": [
    {
     "data": {
      "text/plain": [
       "6942     3990\n",
       "15534    3990\n",
       "10232    3539\n",
       "3867     3314\n",
       "12993    2960\n",
       "Name: tokens, dtype: int64"
      ]
     },
     "execution_count": 16,
     "metadata": {},
     "output_type": "execute_result"
    }
   ],
   "source": [
    "tokens_len.sort_values(ascending=False).head()"
   ]
  },
  {
   "cell_type": "code",
   "execution_count": 17,
   "metadata": {},
   "outputs": [
    {
     "data": {
      "text/plain": [
       "<matplotlib.axes._subplots.AxesSubplot at 0x1d9aa14e358>"
      ]
     },
     "execution_count": 17,
     "metadata": {},
     "output_type": "execute_result"
    },
    {
     "data": {
      "image/png": "[encoded data removed]",
      "text/plain": [
       "<matplotlib.figure.Figure at 0x1d9aa14e9e8>"
      ]
     },
     "metadata": {},
     "output_type": "display_data"
    }
   ],
   "source": [
    "tokens_len.hist(bins=200)"
   ]
  },
  {
   "cell_type": "code",
   "execution_count": 18,
   "metadata": {},
   "outputs": [
    {
     "data": {
      "text/plain": [
       "<matplotlib.axes._subplots.AxesSubplot at 0x1d9aa0ae940>"
      ]
     },
     "execution_count": 18,
     "metadata": {},
     "output_type": "execute_result"
    },
    {
     "data": {
      "image/png": "[encoded data removed]",
      "text/plain": [
       "<matplotlib.figure.Figure at 0x1d9aa0a1400>"
      ]
     },
     "metadata": {},
     "output_type": "display_data"
    }
   ],
   "source": [
    "tokens_len[tokens_len<100].hist(bins=100)"
   ]
  },
  {
   "cell_type": "code",
   "execution_count": 19,
   "metadata": {},
   "outputs": [
    {
     "data": {
      "text/plain": [
       "<matplotlib.axes._subplots.AxesSubplot at 0x1d9d2fe4c18>"
      ]
     },
     "execution_count": 19,
     "metadata": {},
     "output_type": "execute_result"
    },
    {
     "data": {
      "image/png": "[encoded data removed]",
      "text/plain": [
       "<matplotlib.figure.Figure at 0x1d9d3183c88>"
      ]
     },
     "metadata": {},
     "output_type": "display_data"
    }
   ],
   "source": [
    "sns.boxplot(tokens_len)"
   ]
  },
  {
   "cell_type": "markdown",
   "metadata": {},
   "source": [
    "### Document frequency"
   ]
  },
  {
   "cell_type": "code",
   "execution_count": 20,
   "metadata": {
    "collapsed": true
   },
   "outputs": [],
   "source": [
    "doc_freq = defaultdict(int)\n",
    "\n",
    "for tokens in df['tokens']:\n",
    "    for unique_token in set(tokens):\n",
    "        doc_freq[unique_token] += 1"
   ]
  },
  {
   "cell_type": "code",
   "execution_count": 21,
   "metadata": {},
   "outputs": [
    {
     "data": {
      "text/plain": [
       "186373"
      ]
     },
     "execution_count": 21,
     "metadata": {},
     "output_type": "execute_result"
    }
   ],
   "source": [
    "# number of unique tokens in all documents\n",
    "len(doc_freq)"
   ]
  },
  {
   "cell_type": "code",
   "execution_count": 22,
   "metadata": {
    "collapsed": true
   },
   "outputs": [],
   "source": [
    "doc_freq_series = pd.Series(doc_freq)"
   ]
  },
  {
   "cell_type": "code",
   "execution_count": 23,
   "metadata": {},
   "outputs": [
    {
     "data": {
      "text/plain": [
       "one             9460\n",
       "make            9246\n",
       "help            9134\n",
       "time            9037\n",
       "also            8618\n",
       "year            8530\n",
       "need            8425\n",
       "project         8402\n",
       "like            7994\n",
       "get             7984\n",
       "new             7864\n",
       "work            7749\n",
       "u               7737\n",
       "first           7535\n",
       "want            7111\n",
       "people          6838\n",
       "world           6662\n",
       "way             6344\n",
       "life            6343\n",
       "many            6284\n",
       "see             6197\n",
       "well            6194\n",
       "would           6187\n",
       "go              6089\n",
       "goal            5986\n",
       "support         5941\n",
       "take            5903\n",
       "kickstarter     5875\n",
       "come            5749\n",
       "love            5574\n",
       "                ... \n",
       "kharagpur          1\n",
       "khalezin           1\n",
       "khalid             1\n",
       "khalik             1\n",
       "tagvial            1\n",
       "khalils            1\n",
       "khaluagrappa       1\n",
       "tagthe             1\n",
       "khanacademy        1\n",
       "khangtsen          1\n",
       "khanh              1\n",
       "khanom             1\n",
       "khao               1\n",
       "khar               1\n",
       "kharit             1\n",
       "khin               1\n",
       "kharkov            1\n",
       "khasan             1\n",
       "khat               1\n",
       "khaw               1\n",
       "khayim             1\n",
       "khecari            1\n",
       "khenan             1\n",
       "khensani           1\n",
       "khepera            1\n",
       "khere              1\n",
       "khert              1\n",
       "kheswa             1\n",
       "khim               1\n",
       "âµsv               1\n",
       "Length: 186373, dtype: int64"
      ]
     },
     "execution_count": 23,
     "metadata": {},
     "output_type": "execute_result"
    }
   ],
   "source": [
    "doc_freq_series.sort_values(ascending=False)"
   ]
  },
  {
   "cell_type": "code",
   "execution_count": 24,
   "metadata": {},
   "outputs": [
    {
     "data": {
      "text/plain": [
       "<matplotlib.text.Text at 0x1d9d326f278>"
      ]
     },
     "execution_count": 24,
     "metadata": {},
     "output_type": "execute_result"
    },
    {
     "data": {
      "image/png": "[encoded data removed]",
      "text/plain": [
       "<matplotlib.figure.Figure at 0x1d9d31a6ba8>"
      ]
     },
     "metadata": {},
     "output_type": "display_data"
    }
   ],
   "source": [
    "doc_freq_series.sort_values(ascending=False).plot()\n",
    "plt.yscale('log')\n",
    "plt.title('Document frequencies (log scale all)')\n",
    "plt.xlabel('words')\n",
    "plt.ylabel('log of document frequency')"
   ]
  },
  {
   "cell_type": "code",
   "execution_count": 25,
   "metadata": {},
   "outputs": [
    {
     "data": {
      "text/plain": [
       "count    186373.000000\n",
       "mean          0.001085\n",
       "std           0.009948\n",
       "min           0.000059\n",
       "25%           0.000059\n",
       "50%           0.000059\n",
       "75%           0.000118\n",
       "max           0.558870\n",
       "dtype: float64"
      ]
     },
     "execution_count": 25,
     "metadata": {},
     "output_type": "execute_result"
    }
   ],
   "source": [
    "(doc_freq_series / len(df)).describe()"
   ]
  },
  {
   "cell_type": "code",
   "execution_count": 26,
   "metadata": {},
   "outputs": [
    {
     "data": {
      "text/plain": [
       "(0, 10000)"
      ]
     },
     "execution_count": 26,
     "metadata": {},
     "output_type": "execute_result"
    },
    {
     "data": {
      "image/png": "[encoded data removed]",
      "text/plain": [
       "<matplotlib.figure.Figure at 0x1d9d36c1f28>"
      ]
     },
     "metadata": {},
     "output_type": "display_data"
    }
   ],
   "source": [
    "doc_freq_series.plot(kind='hist', bins=np.arange(0, 10000, 100), ec='black')\n",
    "plt.yscale('log')\n",
    "plt.title('Distribution of document frequencies (log scale)')\n",
    "plt.xlabel('Document frequency')\n",
    "plt.ylabel('Number of tokens (log)')\n",
    "plt.xticks(np.arange(0, 10000, 500))\n",
    "plt.xlim(0, 10000)"
   ]
  },
  {
   "cell_type": "code",
   "execution_count": 27,
   "metadata": {},
   "outputs": [
    {
     "data": {
      "text/plain": [
       "64470"
      ]
     },
     "execution_count": 27,
     "metadata": {},
     "output_type": "execute_result"
    }
   ],
   "source": [
    "# how many tokens are in the interval\n",
    "len(doc_freq_series[doc_freq_series > 1])"
   ]
  },
  {
   "cell_type": "markdown",
   "metadata": {},
   "source": [
    "# LDA"
   ]
  },
  {
   "cell_type": "code",
   "execution_count": 28,
   "metadata": {
    "collapsed": true
   },
   "outputs": [],
   "source": [
    "# source: http://scikit-learn.org/stable/auto_examples/applications/plot_topics_extraction_with_nmf_lda.html\n",
    "\n",
    "def print_top_words(model, feature_names, n_top_words):\n",
    "    for topic_idx, topic in enumerate(model.components_):\n",
    "        message = \"Topic #%d: \" % topic_idx\n",
    "        message += \" \".join([feature_names[i]\n",
    "                             for i in topic.argsort()[:-n_top_words - 1:-1]])\n",
    "        print(message)"
   ]
  },
  {
   "cell_type": "markdown",
   "metadata": {},
   "source": [
    "#### Calculate tf\n",
    "\n",
    "We will not store tf in datasets."
   ]
  },
  {
   "cell_type": "code",
   "execution_count": 32,
   "metadata": {
    "collapsed": true
   },
   "outputs": [],
   "source": [
    "tf_vectorizer = CountVectorizer(preprocessor=' '.join)\n",
    "tf = tf_vectorizer.fit_transform(df['tokens'])\n",
    "tf_feature_names = tf_vectorizer.get_feature_names()"
   ]
  },
  {
   "cell_type": "code",
   "execution_count": 33,
   "metadata": {},
   "outputs": [
    {
     "data": {
      "text/plain": [
       "185352"
      ]
     },
     "execution_count": 33,
     "metadata": {},
     "output_type": "execute_result"
    }
   ],
   "source": [
    "len(tf_feature_names)"
   ]
  },
  {
   "cell_type": "code",
   "execution_count": 50,
   "metadata": {
    "collapsed": true
   },
   "outputs": [],
   "source": [
    "# test set\n",
    "tf_test = tf_vectorizer.transform(df_test['tokens'])"
   ]
  },
  {
   "cell_type": "code",
   "execution_count": 51,
   "metadata": {
    "collapsed": true
   },
   "outputs": [],
   "source": [
    "# validation set\n",
    "tf_cv = tf_vectorizer.transform(df_cv['tokens'])"
   ]
  },
  {
   "cell_type": "markdown",
   "metadata": {},
   "source": [
    "#### Use LDA"
   ]
  },
  {
   "cell_type": "code",
   "execution_count": 59,
   "metadata": {
    "collapsed": true
   },
   "outputs": [],
   "source": [
    "lda = LatentDirichletAllocation(random_state=64, n_jobs=-1, n_components=50)"
   ]
  },
  {
   "cell_type": "code",
   "execution_count": 60,
   "metadata": {},
   "outputs": [
    {
     "name": "stderr",
     "output_type": "stream",
     "text": [
      "C:\\Users\\Patrik\\Anaconda3\\lib\\site-packages\\sklearn\\decomposition\\online_lda.py:536: DeprecationWarning: The default value for 'learning_method' will be changed from 'online' to 'batch' in the release 0.20. This warning was introduced in 0.18.\n",
      "  DeprecationWarning)\n"
     ]
    },
    {
     "data": {
      "text/plain": [
       "LatentDirichletAllocation(batch_size=128, doc_topic_prior=None,\n",
       "             evaluate_every=-1, learning_decay=0.7, learning_method=None,\n",
       "             learning_offset=10.0, max_doc_update_iter=100, max_iter=10,\n",
       "             mean_change_tol=0.001, n_components=50, n_jobs=-1,\n",
       "             n_topics=None, perp_tol=0.1, random_state=64,\n",
       "             topic_word_prior=None, total_samples=1000000.0, verbose=0)"
      ]
     },
     "execution_count": 60,
     "metadata": {},
     "output_type": "execute_result"
    }
   ],
   "source": [
    "lda.fit(tf)"
   ]
  },
  {
   "cell_type": "code",
   "execution_count": 61,
   "metadata": {},
   "outputs": [
    {
     "name": "stdout",
     "output_type": "stream",
     "text": [
      "Topic #0: vr hair blade reality drill brush winding dexter commander bernie\n",
      "Topic #1: book reward print page one art comic story kickstarter get\n",
      "Topic #2: che calamita qutiger mu mirrocool folio emi hitter batter sergio\n",
      "Topic #3: art artist dance performance new work space theatre york theater\n",
      "Topic #4: flavor sauce hot sweet sugar pepper beef salt meat blend\n",
      "Topic #5: pendant playa spindle boson irregular electron lobby hammock silva physicist\n",
      "Topic #6: hop hip pyramid joey summit na nikon pinhole atlas fisher\n",
      "Topic #7: neural eeg licence openbci nurugo jib k2 sla forthe clarence\n",
      "Topic #8: chicken bacon rice tomato potato fry garlic homemade nacho pac\n",
      "Topic #9: zine sophie roberto cpc zeeq tablethookz zines pike condensed scalpel\n",
      "Topic #10: delta marc slave octopus liedtke moonlight universo jorge lopez omar\n",
      "Topic #11: fractal stax compass academia ferrofluid archaeologist abortion picasso whisky deception\n",
      "Topic #12: shervin robox cinera vignelli airjamz rumi nuprime fuzzbuquet debra massimo\n",
      "Topic #13: im er med aone recital railroad heavyweight injury revolt paleo\n",
      "Topic #14: mural ein zodiac powerverse panda hercules porous astronomical crate talbot\n",
      "Topic #15: swashbuckler bait predicted sx1 penchant infectious 321 snatch butch udoq\n",
      "Topic #16: calendar arcade vivi pickle fairytale frederick providence pinball frei headlocked\n",
      "Topic #17: einstein vicki interceptor baptiste megacube ia eastman qikvin flourishing metalsmithing\n",
      "Topic #18: poem donut ripplebuds haiku beaver nunome kashima hossain lydia obama\n",
      "Topic #19: lovecraft holmes creek comic orbit sherlock vie cow asteroid hex\n",
      "Topic #20: deck jacket nb aurora cereal prom findster polarized waveform upbeat\n",
      "Topic #21: need make product time one also food get use help\n",
      "Topic #22: war italy india refugee korean hollow korea arabic consume argentina\n",
      "Topic #23: ist eine ber marley sich auch wird slowhand deutschland wie\n",
      "Topic #24: wyman robbins yappy trainory trina scythe pow eugenia 1973 annapolis\n",
      "Topic #25: device power battery light phone use board control sound usb\n",
      "Topic #26: digger tec nanny acae inherited brightly flexy aplay lullaby glowry\n",
      "Topic #27: dynamo rochester spokane stimulation dusk freedman fattal zeroi gori libre\n",
      "Topic #28: watch steel strap stainless buckle crystal movement resistance case dial\n",
      "Topic #29: japanese yoga japan meditation temple healing therapy thailand porcelain sacred\n",
      "Topic #30: pattern yarn scarf wool knitting crochet knit colombia badge rama\n",
      "Topic #31: boat keelcrab hull robro pea blackbird organism cruiser factual 400dpi\n",
      "Topic #32: film production show festival story award director short movie writer\n",
      "Topic #33: dstorm dem ron bstorm raleigh waist pilate latency circuitsmaster flirt\n",
      "Topic #34: shield grove ditty cactus papercut orion lite rift stooge mortem\n",
      "Topic #35: project help people music year time life make world one\n",
      "Topic #36: cat kitty verse automate gutter hardened olympia parrot wholly youngster\n",
      "Topic #37: gaming collar beacon gamers traveller geek aquaponics youtu gamer aligng\n",
      "Topic #38: della headcase poertraits smobot meridian felipe freeform hidiot campagna ita\n",
      "Topic #39: dash teleprompter tc handwriting jacksonville chevy brandoshis pj billionaire accommodates\n",
      "Topic #40: augmented gl goo nixie trike nd tshirt skater lexi protractor\n",
      "Topic #41: paterson firebase charlie ane dispenser mare finclip 2020 kendrick anes\n",
      "Topic #42: wood pen cap gold barrel finish brass oak clip antique\n",
      "Topic #43: zyxz clement ws2812b beatbringer tru booze rained hackaday overcame spl\n",
      "Topic #44: island mar hawaii balloon hawaiian astronaut ar columbus pirate capsule\n",
      "Topic #45: coloring fine laminated crusher nom magnetism playstation hahnemuehle situ mmspecial\n",
      "Topic #46: la el que en con un del para una los\n",
      "Topic #47: de oil candle recipe sleep le chocolate die der cookbook\n",
      "Topic #48: bagel iran directory ali kube ukulele astronomer ostrich behringer ventop\n",
      "Topic #49: gauge sol rosa rapidsol pagan gentrification ballot smartuv incursion fuego\n"
     ]
    }
   ],
   "source": [
    "print_top_words(lda, tf_feature_names, 10)"
   ]
  },
  {
   "cell_type": "code",
   "execution_count": 62,
   "metadata": {
    "collapsed": true
   },
   "outputs": [],
   "source": [
    "features = pd.DataFrame(lda.transform(tf))"
   ]
  },
  {
   "cell_type": "code",
   "execution_count": 63,
   "metadata": {
    "collapsed": true
   },
   "outputs": [],
   "source": [
    "features_test = pd.DataFrame(lda.transform(tf_test))"
   ]
  },
  {
   "cell_type": "code",
   "execution_count": 64,
   "metadata": {
    "collapsed": true
   },
   "outputs": [],
   "source": [
    "features_cv = pd.DataFrame(lda.transform(tf_cv))"
   ]
  },
  {
   "cell_type": "markdown",
   "metadata": {},
   "source": [
    "#### Predict class using only LDA topics (all projects - not only 25% of them)"
   ]
  },
  {
   "cell_type": "code",
   "execution_count": 65,
   "metadata": {
    "collapsed": true
   },
   "outputs": [],
   "source": [
    "labels = df['class']\n",
    "labels_test = df_test['class']"
   ]
  },
  {
   "cell_type": "code",
   "execution_count": 66,
   "metadata": {
    "collapsed": true
   },
   "outputs": [],
   "source": [
    "cls = GradientBoostingClassifier(random_state=64)"
   ]
  },
  {
   "cell_type": "code",
   "execution_count": 67,
   "metadata": {},
   "outputs": [
    {
     "data": {
      "text/plain": [
       "GradientBoostingClassifier(criterion='friedman_mse', init=None,\n",
       "              learning_rate=0.1, loss='deviance', max_depth=3,\n",
       "              max_features=None, max_leaf_nodes=None,\n",
       "              min_impurity_decrease=0.0, min_impurity_split=None,\n",
       "              min_samples_leaf=1, min_samples_split=2,\n",
       "              min_weight_fraction_leaf=0.0, n_estimators=100,\n",
       "              presort='auto', random_state=64, subsample=1.0, verbose=0,\n",
       "              warm_start=False)"
      ]
     },
     "execution_count": 67,
     "metadata": {},
     "output_type": "execute_result"
    }
   ],
   "source": [
    "cls.fit(features, labels)"
   ]
  },
  {
   "cell_type": "code",
   "execution_count": 68,
   "metadata": {},
   "outputs": [
    {
     "name": "stdout",
     "output_type": "stream",
     "text": [
      "accuracy:  0.588468127843\n",
      "\n",
      "             precision    recall  f1-score   support\n",
      "\n",
      "          1       0.63      0.85      0.72      7021\n",
      "          2       0.92      0.05      0.10      2217\n",
      "          3       0.51      0.44      0.47      3833\n",
      "          4       0.55      0.57      0.56      3856\n",
      "\n",
      "avg / total       0.62      0.59      0.55     16927\n",
      "\n",
      "macro precision:  0.651421718632\n",
      "micro precision:  0.588468127843\n",
      "\n",
      "micro recall:  0.588468127843\n",
      "macro recall:  0.477906697019\n",
      "\n",
      "micro f1:  0.588468127843\n",
      "macro f1:  0.46383187851\n"
     ]
    },
    {
     "data": {
      "image/png": "[encoded data removed]",
      "text/plain": [
       "<matplotlib.figure.Figure at 0x1d999a53160>"
      ]
     },
     "metadata": {},
     "output_type": "display_data"
    }
   ],
   "source": [
    "print_metrics(cls, features, labels)"
   ]
  },
  {
   "cell_type": "code",
   "execution_count": 69,
   "metadata": {},
   "outputs": [
    {
     "name": "stdout",
     "output_type": "stream",
     "text": [
      "accuracy:  0.555634176543\n",
      "\n",
      "             precision    recall  f1-score   support\n",
      "\n",
      "          1       0.61      0.84      0.70      2387\n",
      "          2       0.53      0.01      0.03       718\n",
      "          3       0.44      0.38      0.41      1259\n",
      "          4       0.52      0.50      0.51      1289\n",
      "\n",
      "avg / total       0.54      0.56      0.51      5653\n",
      "\n",
      "macro precision:  0.523870477694\n",
      "micro precision:  0.555634176543\n",
      "\n",
      "micro recall:  0.555634176543\n",
      "macro recall:  0.433970478886\n",
      "\n",
      "micro f1:  0.555634176543\n",
      "macro f1:  0.412741696146\n"
     ]
    },
    {
     "data": {
      "image/png": "[encoded data removed]",
      "text/plain": [
       "<matplotlib.figure.Figure at 0x1d99913d3c8>"
      ]
     },
     "metadata": {},
     "output_type": "display_data"
    }
   ],
   "source": [
    "print_metrics(cls, features_test, labels_test)"
   ]
  },
  {
   "cell_type": "code",
   "execution_count": 57,
   "metadata": {
    "collapsed": true
   },
   "outputs": [],
   "source": [
    "importances = pd.DataFrame()\n",
    "for i, name, importance in zip(range(len(features.columns)), features.columns, cls.feature_importances_):\n",
    "    importances.loc[i, 'feature'] = name\n",
    "    importances.loc[i, 'importance'] = importance"
   ]
  },
  {
   "cell_type": "code",
   "execution_count": 58,
   "metadata": {
    "scrolled": true
   },
   "outputs": [
    {
     "data": {
      "text/html": [
       "<div>\n",
       "<style>\n",
       "    .dataframe thead tr:only-child th {\n",
       "        text-align: right;\n",
       "    }\n",
       "\n",
       "    .dataframe thead th {\n",
       "        text-align: left;\n",
       "    }\n",
       "\n",
       "    .dataframe tbody tr th {\n",
       "        vertical-align: top;\n",
       "    }\n",
       "</style>\n",
       "<table border=\"1\" class=\"dataframe\">\n",
       "  <thead>\n",
       "    <tr style=\"text-align: right;\">\n",
       "      <th></th>\n",
       "      <th>feature</th>\n",
       "      <th>importance</th>\n",
       "    </tr>\n",
       "  </thead>\n",
       "  <tbody>\n",
       "    <tr>\n",
       "      <th>3</th>\n",
       "      <td>3.0</td>\n",
       "      <td>0.145754</td>\n",
       "    </tr>\n",
       "    <tr>\n",
       "      <th>6</th>\n",
       "      <td>6.0</td>\n",
       "      <td>0.127132</td>\n",
       "    </tr>\n",
       "    <tr>\n",
       "      <th>0</th>\n",
       "      <td>0.0</td>\n",
       "      <td>0.114460</td>\n",
       "    </tr>\n",
       "    <tr>\n",
       "      <th>5</th>\n",
       "      <td>5.0</td>\n",
       "      <td>0.098987</td>\n",
       "    </tr>\n",
       "    <tr>\n",
       "      <th>4</th>\n",
       "      <td>4.0</td>\n",
       "      <td>0.098514</td>\n",
       "    </tr>\n",
       "    <tr>\n",
       "      <th>9</th>\n",
       "      <td>9.0</td>\n",
       "      <td>0.092390</td>\n",
       "    </tr>\n",
       "    <tr>\n",
       "      <th>1</th>\n",
       "      <td>1.0</td>\n",
       "      <td>0.085158</td>\n",
       "    </tr>\n",
       "    <tr>\n",
       "      <th>8</th>\n",
       "      <td>8.0</td>\n",
       "      <td>0.084216</td>\n",
       "    </tr>\n",
       "    <tr>\n",
       "      <th>7</th>\n",
       "      <td>7.0</td>\n",
       "      <td>0.078726</td>\n",
       "    </tr>\n",
       "    <tr>\n",
       "      <th>2</th>\n",
       "      <td>2.0</td>\n",
       "      <td>0.074663</td>\n",
       "    </tr>\n",
       "  </tbody>\n",
       "</table>\n",
       "</div>"
      ],
      "text/plain": [
       "   feature  importance\n",
       "3      3.0    0.145754\n",
       "6      6.0    0.127132\n",
       "0      0.0    0.114460\n",
       "5      5.0    0.098987\n",
       "4      4.0    0.098514\n",
       "9      9.0    0.092390\n",
       "1      1.0    0.085158\n",
       "8      8.0    0.084216\n",
       "7      7.0    0.078726\n",
       "2      2.0    0.074663"
      ]
     },
     "execution_count": 58,
     "metadata": {},
     "output_type": "execute_result"
    }
   ],
   "source": [
    "importances[importances['importance'] > 0].sort_values(by='importance', ascending=False)"
   ]
  },
  {
   "cell_type": "markdown",
   "metadata": {},
   "source": [
    "# Summary"
   ]
  },
  {
   "cell_type": "markdown",
   "metadata": {},
   "source": [
    "Unfortunately, we can see that topics still contain non-english words. Even after we included only descriptions that were detected as english using both first and last 100 characters. Therefore we have to admit that language detection process was unsuccessful."
   ]
  }
 ],
 "metadata": {
  "kernelspec": {
   "display_name": "Python 3",
   "language": "python",
   "name": "python3"
  },
  "language_info": {
   "codemirror_mode": {
    "name": "ipython",
    "version": 3
   },
   "file_extension": ".py",
   "mimetype": "text/x-python",
   "name": "python",
   "nbconvert_exporter": "python",
   "pygments_lexer": "ipython3",
   "version": "3.6.1"
  }
 },
 "nbformat": 4,
 "nbformat_minor": 2
}
