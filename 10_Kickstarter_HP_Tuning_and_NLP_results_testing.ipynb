{
 "cells": [
  {
   "cell_type": "markdown",
   "metadata": {},
   "source": [
    "# HP Tuning (static + dynamic - categorical)"
   ]
  },
  {
   "cell_type": "code",
   "execution_count": 32,
   "metadata": {},
   "outputs": [],
   "source": [
    "from sklearn.tree import DecisionTreeClassifier\n",
    "\n",
    "from sklearn.ensemble import RandomForestClassifier \n",
    "from sklearn.ensemble import ExtraTreesClassifier\n",
    "from sklearn.linear_model import LogisticRegression \n",
    "\n",
    "from sklearn.model_selection import train_test_split\n",
    "from sklearn.model_selection import GridSearchCV\n",
    "from sklearn.grid_search import ParameterGrid\n",
    "\n",
    "from sklearn import metrics\n",
    "from sklearn.metrics import confusion_matrix\n",
    "from sklearn.metrics import recall_score\n",
    "from sklearn.metrics import precision_score\n",
    "\n",
    "import matplotlib.pyplot as plt\n",
    "import seaborn as sns\n",
    "import pandas as pd\n",
    "\n",
    "from sklearn import tree\n",
    "import graphviz\n",
    "\n",
    "%matplotlib inline"
   ]
  },
  {
   "cell_type": "code",
   "execution_count": 33,
   "metadata": {
    "collapsed": true
   },
   "outputs": [],
   "source": [
    "df_results = pd.DataFrame()"
   ]
  },
  {
   "cell_type": "code",
   "execution_count": 34,
   "metadata": {
    "collapsed": true
   },
   "outputs": [],
   "source": [
    "# metrics for each class + weighted average (- bad impact)\n",
    "# micro f1 = accuracy\n",
    "def print_metrics(cls, X_test, y_test):\n",
    "    global df_results\n",
    "    \n",
    "    predicted = cls.predict(X_test)\n",
    "    sns.heatmap(metrics.confusion_matrix(y_test, predicted), annot=True, fmt='g', annot_kws={\"size\": 16})\n",
    "    print('accuracy: ',metrics.accuracy_score(y_test, predicted))\n",
    "    print()\n",
    "    print(metrics.classification_report(y_test, predicted))\n",
    "    print('macro precision: ',metrics.precision_score(y_test, predicted, average='macro'))\n",
    "    print('micro precision: ',metrics.precision_score(y_test, predicted, average='micro'))\n",
    "    print()\n",
    "    print('micro recall: ',metrics.recall_score(y_test, predicted, average='micro'))\n",
    "    print('macro recall: ',metrics.recall_score(y_test, predicted, average='macro'))\n",
    "    print()\n",
    "    print('micro f1: ',metrics.f1_score(y_test, predicted, average='micro'))\n",
    "    print('macro f1: ',metrics.f1_score(y_test, predicted, average='macro'))\n",
    "    \n",
    "    df_result = pd.DataFrame({\n",
    "        'Algoritmus': [str(cls).split('(')[0]],\n",
    "        \n",
    "        'Transformácia': ['áno' if transformed else 'nie'],\n",
    "        \n",
    "        'S': [round(metrics.accuracy_score(y_test, predicted), 2)],\n",
    "        \n",
    "        'P_0': [round(precision_score(y_test, cls.predict(X_test), average=None)[0], 2)],\n",
    "        'P_1': [round(precision_score(y_test, cls.predict(X_test), average=None)[1], 2)],\n",
    "        'P_2': [round(precision_score(y_test, cls.predict(X_test), average=None)[2], 2)],\n",
    "        'P_3': [round(precision_score(y_test, cls.predict(X_test), average=None)[3], 2)],\n",
    "        \n",
    "        'Ú_0': [round(recall_score(y_test, cls.predict(X_test), average=None)[0], 2)],\n",
    "        'Ú_1': [round(recall_score(y_test, cls.predict(X_test), average=None)[1], 2)],\n",
    "        'Ú_2': [round(recall_score(y_test, cls.predict(X_test), average=None)[2], 2)],\n",
    "        'Ú_3': [round(recall_score(y_test, cls.predict(X_test), average=None)[3], 2)],\n",
    "        \n",
    "        'F1_makro': [round(metrics.f1_score(y_test, predicted, average='macro'), 2)],\n",
    "    })\n",
    "        \n",
    "    df_results = df_results.append(df_result, ignore_index=True)\n",
    "    \n",
    "    plt.show()"
   ]
  },
  {
   "cell_type": "markdown",
   "metadata": {
    "collapsed": true
   },
   "source": [
    "# Original data"
   ]
  },
  {
   "cell_type": "code",
   "execution_count": 35,
   "metadata": {
    "collapsed": true
   },
   "outputs": [],
   "source": [
    "transformed = False"
   ]
  },
  {
   "cell_type": "code",
   "execution_count": 36,
   "metadata": {},
   "outputs": [
    {
     "data": {
      "text/plain": [
       "(6284, 41)"
      ]
     },
     "execution_count": 36,
     "metadata": {},
     "output_type": "execute_result"
    }
   ],
   "source": [
    "features = pd.read_csv('data/split/transformed/train_original.csv', index_col=0)\n",
    "df = pd.read_csv('data/split/transformed/test_original.csv', index_col=0)\n",
    "features = features.append(df, ignore_index=True)\n",
    "\n",
    "features = features[features['ratio_running_duration'] < 25]\n",
    "\n",
    "labels = features['class']\n",
    "features = features.drop('class', axis=1)\n",
    "\n",
    "features.shape"
   ]
  },
  {
   "cell_type": "code",
   "execution_count": 37,
   "metadata": {},
   "outputs": [
    {
     "data": {
      "text/plain": [
       "(1572, 41)"
      ]
     },
     "execution_count": 37,
     "metadata": {},
     "output_type": "execute_result"
    }
   ],
   "source": [
    "featuresCV = pd.read_csv('data/split/transformed/cv_original.csv', index_col=0)\n",
    "\n",
    "featuresCV = featuresCV[featuresCV['ratio_running_duration'] < 25]\n",
    "\n",
    "labelsCV = featuresCV['class']\n",
    "featuresCV = featuresCV.drop('class', axis=1)\n",
    "\n",
    "featuresCV.shape"
   ]
  },
  {
   "cell_type": "markdown",
   "metadata": {},
   "source": [
    "## Decision Tree"
   ]
  },
  {
   "cell_type": "code",
   "execution_count": 38,
   "metadata": {
    "collapsed": true
   },
   "outputs": [],
   "source": [
    "cls = DecisionTreeClassifier"
   ]
  },
  {
   "cell_type": "code",
   "execution_count": 39,
   "metadata": {
    "collapsed": true
   },
   "outputs": [],
   "source": [
    "params = {\n",
    "    'criterion': ['gini', 'entropy'],\n",
    "    # 'splitter': ['best', 'random'],\n",
    "    'max_depth': range(1, 20),\n",
    "    'min_samples_split': range(1, 60, 10),\n",
    "    'min_samples_leaf': range(1, 20, 5),\n",
    "    #'min_weight_fraction_leaf': ,\n",
    "    #'max_features': [5, 10, 20, 30, 40],\n",
    "    'random_state': [64],\n",
    "    #'max_leaf_nodes': ,\n",
    "    #'min_impurity_decrease': [0.0],\n",
    "    'class_weight': [None, 'balanced']\n",
    "}"
   ]
  },
  {
   "cell_type": "code",
   "execution_count": 40,
   "metadata": {
    "scrolled": false
   },
   "outputs": [
    {
     "data": {
      "text/plain": [
       "1824"
      ]
     },
     "execution_count": 40,
     "metadata": {},
     "output_type": "execute_result"
    }
   ],
   "source": [
    "len(list(ParameterGrid(params)))"
   ]
  },
  {
   "cell_type": "code",
   "execution_count": 41,
   "metadata": {
    "collapsed": true
   },
   "outputs": [],
   "source": [
    "gs = GridSearchCV(cls(), params, scoring='accuracy', cv=5, n_jobs=-1, error_score=0)"
   ]
  },
  {
   "cell_type": "code",
   "execution_count": 42,
   "metadata": {},
   "outputs": [
    {
     "name": "stdout",
     "output_type": "stream",
     "text": [
      "Wall time: 4min 21s\n"
     ]
    },
    {
     "data": {
      "text/plain": [
       "GridSearchCV(cv=5, error_score=0,\n",
       "       estimator=DecisionTreeClassifier(class_weight=None, criterion='gini', max_depth=None,\n",
       "            max_features=None, max_leaf_nodes=None,\n",
       "            min_impurity_decrease=0.0, min_impurity_split=None,\n",
       "            min_samples_leaf=1, min_samples_split=2,\n",
       "            min_weight_fraction_leaf=0.0, presort=False, random_state=None,\n",
       "            splitter='best'),\n",
       "       fit_params=None, iid=True, n_jobs=-1,\n",
       "       param_grid={'criterion': ['gini', 'entropy'], 'max_depth': range(1, 20), 'min_samples_split': range(1, 60, 10), 'min_samples_leaf': range(1, 20, 5), 'random_state': [64], 'class_weight': [None, 'balanced']},\n",
       "       pre_dispatch='2*n_jobs', refit=True, return_train_score='warn',\n",
       "       scoring='accuracy', verbose=0)"
      ]
     },
     "execution_count": 42,
     "metadata": {},
     "output_type": "execute_result"
    }
   ],
   "source": [
    "%%time\n",
    "gs.fit(features, labels)"
   ]
  },
  {
   "cell_type": "code",
   "execution_count": 43,
   "metadata": {},
   "outputs": [
    {
     "name": "stderr",
     "output_type": "stream",
     "text": [
      "C:\\Users\\Patrik\\Anaconda3\\lib\\site-packages\\sklearn\\model_selection\\_search.py:761: DeprecationWarning: The grid_scores_ attribute was deprecated in version 0.18 in favor of the more elaborate cv_results_ attribute. The grid_scores_ attribute will not be available from 0.20\n",
      "  DeprecationWarning)\n"
     ]
    },
    {
     "data": {
      "text/plain": [
       "[mean: 0.71579, std: 0.00574, params: {'class_weight': None, 'criterion': 'entropy', 'max_depth': 4, 'min_samples_leaf': 6, 'min_samples_split': 11, 'random_state': 64},\n",
       " mean: 0.71579, std: 0.00574, params: {'class_weight': None, 'criterion': 'entropy', 'max_depth': 4, 'min_samples_leaf': 6, 'min_samples_split': 21, 'random_state': 64},\n",
       " mean: 0.71579, std: 0.00574, params: {'class_weight': None, 'criterion': 'entropy', 'max_depth': 4, 'min_samples_leaf': 6, 'min_samples_split': 31, 'random_state': 64},\n",
       " mean: 0.71579, std: 0.00574, params: {'class_weight': None, 'criterion': 'entropy', 'max_depth': 4, 'min_samples_leaf': 6, 'min_samples_split': 41, 'random_state': 64},\n",
       " mean: 0.71579, std: 0.00574, params: {'class_weight': None, 'criterion': 'entropy', 'max_depth': 4, 'min_samples_leaf': 6, 'min_samples_split': 51, 'random_state': 64}]"
      ]
     },
     "execution_count": 43,
     "metadata": {},
     "output_type": "execute_result"
    }
   ],
   "source": [
    "sorted(gs.grid_scores_, key=lambda x: x.mean_validation_score, reverse=True)[:5]"
   ]
  },
  {
   "cell_type": "code",
   "execution_count": 44,
   "metadata": {},
   "outputs": [
    {
     "data": {
      "text/plain": [
       "{'class_weight': None,\n",
       " 'criterion': 'entropy',\n",
       " 'max_depth': 4,\n",
       " 'min_samples_leaf': 6,\n",
       " 'min_samples_split': 11,\n",
       " 'random_state': 64}"
      ]
     },
     "execution_count": 44,
     "metadata": {},
     "output_type": "execute_result"
    }
   ],
   "source": [
    "gs.best_params_"
   ]
  },
  {
   "cell_type": "code",
   "execution_count": 45,
   "metadata": {},
   "outputs": [
    {
     "data": {
      "text/plain": [
       "DecisionTreeClassifier(class_weight=None, criterion='entropy', max_depth=4,\n",
       "            max_features=None, max_leaf_nodes=None,\n",
       "            min_impurity_decrease=0.0, min_impurity_split=None,\n",
       "            min_samples_leaf=6, min_samples_split=11,\n",
       "            min_weight_fraction_leaf=0.0, presort=False, random_state=64,\n",
       "            splitter='best')"
      ]
     },
     "execution_count": 45,
     "metadata": {},
     "output_type": "execute_result"
    }
   ],
   "source": [
    "gs.best_estimator_"
   ]
  },
  {
   "cell_type": "code",
   "execution_count": 46,
   "metadata": {},
   "outputs": [
    {
     "data": {
      "image/svg+xml": [
       "<?xml version=\"1.0\" encoding=\"UTF-8\" standalone=\"no\"?>\r\n",
       "<!DOCTYPE svg PUBLIC \"-//W3C//DTD SVG 1.1//EN\"\r\n",
       " \"http://www.w3.org/Graphics/SVG/1.1/DTD/svg11.dtd\">\r\n",
       "<!-- Generated by graphviz version 2.38.0 (20140413.2041)\r\n",
       " -->\r\n",
       "<!-- Title: Tree Pages: 1 -->\r\n",
       "<svg width=\"2532pt\" height=\"552pt\"\r\n",
       " viewBox=\"0.00 0.00 2532.00 552.00\" xmlns=\"http://www.w3.org/2000/svg\" xmlns:xlink=\"http://www.w3.org/1999/xlink\">\r\n",
       "<g id=\"graph0\" class=\"graph\" transform=\"scale(1 1) rotate(0) translate(4 548)\">\r\n",
       "<title>Tree</title>\r\n",
       "<polygon fill=\"white\" stroke=\"none\" points=\"-4,4 -4,-548 2528,-548 2528,4 -4,4\"/>\r\n",
       "<!-- 0 -->\r\n",
       "<g id=\"node1\" class=\"node\"><title>0</title>\r\n",
       "<path fill=\"#e58139\" fill-opacity=\"0.243137\" stroke=\"black\" d=\"M1509,-544C1509,-544 1314,-544 1314,-544 1308,-544 1302,-538 1302,-532 1302,-532 1302,-473 1302,-473 1302,-467 1308,-461 1314,-461 1314,-461 1509,-461 1509,-461 1515,-461 1521,-467 1521,-473 1521,-473 1521,-532 1521,-532 1521,-538 1515,-544 1509,-544\"/>\r\n",
       "<text text-anchor=\"start\" x=\"1324\" y=\"-528.8\" font-family=\"Helvetica,sans-Serif\" font-size=\"14.00\">ratio_pledged_goal ≤ 6.254</text>\r\n",
       "<text text-anchor=\"start\" x=\"1361.5\" y=\"-513.8\" font-family=\"Helvetica,sans-Serif\" font-size=\"14.00\">entropy = 1.882</text>\r\n",
       "<text text-anchor=\"start\" x=\"1360\" y=\"-498.8\" font-family=\"Helvetica,sans-Serif\" font-size=\"14.00\">samples = 6284</text>\r\n",
       "<text text-anchor=\"start\" x=\"1310\" y=\"-483.8\" font-family=\"Helvetica,sans-Serif\" font-size=\"14.00\">value = [2617, 832, 1439, 1396]</text>\r\n",
       "<text text-anchor=\"start\" x=\"1382.5\" y=\"-468.8\" font-family=\"Helvetica,sans-Serif\" font-size=\"14.00\">class = 1</text>\r\n",
       "</g>\r\n",
       "<!-- 1 -->\r\n",
       "<g id=\"node2\" class=\"node\"><title>1</title>\r\n",
       "<path fill=\"#e58139\" fill-opacity=\"0.776471\" stroke=\"black\" d=\"M1152.5,-425C1152.5,-425 982.5,-425 982.5,-425 976.5,-425 970.5,-419 970.5,-413 970.5,-413 970.5,-354 970.5,-354 970.5,-348 976.5,-342 982.5,-342 982.5,-342 1152.5,-342 1152.5,-342 1158.5,-342 1164.5,-348 1164.5,-354 1164.5,-354 1164.5,-413 1164.5,-413 1164.5,-419 1158.5,-425 1152.5,-425\"/>\r\n",
       "<text text-anchor=\"start\" x=\"980\" y=\"-409.8\" font-family=\"Helvetica,sans-Serif\" font-size=\"14.00\">ratio_pledged_goal ≤ 1.571</text>\r\n",
       "<text text-anchor=\"start\" x=\"1017.5\" y=\"-394.8\" font-family=\"Helvetica,sans-Serif\" font-size=\"14.00\">entropy = 0.991</text>\r\n",
       "<text text-anchor=\"start\" x=\"1016\" y=\"-379.8\" font-family=\"Helvetica,sans-Serif\" font-size=\"14.00\">samples = 3229</text>\r\n",
       "<text text-anchor=\"start\" x=\"978.5\" y=\"-364.8\" font-family=\"Helvetica,sans-Serif\" font-size=\"14.00\">value = [2581, 325, 266, 57]</text>\r\n",
       "<text text-anchor=\"start\" x=\"1038.5\" y=\"-349.8\" font-family=\"Helvetica,sans-Serif\" font-size=\"14.00\">class = 1</text>\r\n",
       "</g>\r\n",
       "<!-- 0&#45;&gt;1 -->\r\n",
       "<g id=\"edge1\" class=\"edge\"><title>0&#45;&gt;1</title>\r\n",
       "<path fill=\"none\" stroke=\"black\" d=\"M1301.71,-464.159C1260.93,-450.29 1214.77,-434.588 1174.27,-420.813\"/>\r\n",
       "<polygon fill=\"black\" stroke=\"black\" points=\"1175.23,-417.445 1164.64,-417.539 1172.98,-424.073 1175.23,-417.445\"/>\r\n",
       "<text text-anchor=\"middle\" x=\"1175.68\" y=\"-436.267\" font-family=\"Helvetica,sans-Serif\" font-size=\"14.00\">True</text>\r\n",
       "</g>\r\n",
       "<!-- 16 -->\r\n",
       "<g id=\"node17\" class=\"node\"><title>16</title>\r\n",
       "<path fill=\"#d739e5\" fill-opacity=\"0.086275\" stroke=\"black\" d=\"M1880,-425C1880,-425 1701,-425 1701,-425 1695,-425 1689,-419 1689,-413 1689,-413 1689,-354 1689,-354 1689,-348 1695,-342 1701,-342 1701,-342 1880,-342 1880,-342 1886,-342 1892,-348 1892,-354 1892,-354 1892,-413 1892,-413 1892,-419 1886,-425 1880,-425\"/>\r\n",
       "<text text-anchor=\"start\" x=\"1698.5\" y=\"-409.8\" font-family=\"Helvetica,sans-Serif\" font-size=\"14.00\">ratio_pledged_goal ≤ 43.386</text>\r\n",
       "<text text-anchor=\"start\" x=\"1740.5\" y=\"-394.8\" font-family=\"Helvetica,sans-Serif\" font-size=\"14.00\">entropy = 1.557</text>\r\n",
       "<text text-anchor=\"start\" x=\"1739\" y=\"-379.8\" font-family=\"Helvetica,sans-Serif\" font-size=\"14.00\">samples = 3055</text>\r\n",
       "<text text-anchor=\"start\" x=\"1697\" y=\"-364.8\" font-family=\"Helvetica,sans-Serif\" font-size=\"14.00\">value = [36, 507, 1173, 1339]</text>\r\n",
       "<text text-anchor=\"start\" x=\"1761.5\" y=\"-349.8\" font-family=\"Helvetica,sans-Serif\" font-size=\"14.00\">class = 4</text>\r\n",
       "</g>\r\n",
       "<!-- 0&#45;&gt;16 -->\r\n",
       "<g id=\"edge16\" class=\"edge\"><title>0&#45;&gt;16</title>\r\n",
       "<path fill=\"none\" stroke=\"black\" d=\"M1521.12,-467.659C1570.72,-452.347 1629.26,-434.277 1679.07,-418.899\"/>\r\n",
       "<polygon fill=\"black\" stroke=\"black\" points=\"1680.39,-422.155 1688.91,-415.861 1678.32,-415.467 1680.39,-422.155\"/>\r\n",
       "<text text-anchor=\"middle\" x=\"1677.23\" y=\"-434.267\" font-family=\"Helvetica,sans-Serif\" font-size=\"14.00\">False</text>\r\n",
       "</g>\r\n",
       "<!-- 2 -->\r\n",
       "<g id=\"node3\" class=\"node\"><title>2</title>\r\n",
       "<path fill=\"#e58139\" fill-opacity=\"0.886275\" stroke=\"black\" d=\"M630.5,-306C630.5,-306 454.5,-306 454.5,-306 448.5,-306 442.5,-300 442.5,-294 442.5,-294 442.5,-235 442.5,-235 442.5,-229 448.5,-223 454.5,-223 454.5,-223 630.5,-223 630.5,-223 636.5,-223 642.5,-229 642.5,-235 642.5,-235 642.5,-294 642.5,-294 642.5,-300 636.5,-306 630.5,-306\"/>\r\n",
       "<text text-anchor=\"start\" x=\"450.5\" y=\"-290.8\" font-family=\"Helvetica,sans-Serif\" font-size=\"14.00\">ratio_running_duration ≤ 3.28</text>\r\n",
       "<text text-anchor=\"start\" x=\"492.5\" y=\"-275.8\" font-family=\"Helvetica,sans-Serif\" font-size=\"14.00\">entropy = 0.639</text>\r\n",
       "<text text-anchor=\"start\" x=\"491\" y=\"-260.8\" font-family=\"Helvetica,sans-Serif\" font-size=\"14.00\">samples = 2482</text>\r\n",
       "<text text-anchor=\"start\" x=\"453.5\" y=\"-245.8\" font-family=\"Helvetica,sans-Serif\" font-size=\"14.00\">value = [2217, 128, 107, 30]</text>\r\n",
       "<text text-anchor=\"start\" x=\"513.5\" y=\"-230.8\" font-family=\"Helvetica,sans-Serif\" font-size=\"14.00\">class = 1</text>\r\n",
       "</g>\r\n",
       "<!-- 1&#45;&gt;2 -->\r\n",
       "<g id=\"edge2\" class=\"edge\"><title>1&#45;&gt;2</title>\r\n",
       "<path fill=\"none\" stroke=\"black\" d=\"M970.289,-360.836C880.254,-340.771 746.483,-310.959 652.559,-290.027\"/>\r\n",
       "<polygon fill=\"black\" stroke=\"black\" points=\"653.262,-286.598 642.74,-287.839 651.74,-293.431 653.262,-286.598\"/>\r\n",
       "</g>\r\n",
       "<!-- 9 -->\r\n",
       "<g id=\"node10\" class=\"node\"><title>9</title>\r\n",
       "<path fill=\"#e58139\" fill-opacity=\"0.301961\" stroke=\"black\" d=\"M1159.5,-306C1159.5,-306 975.5,-306 975.5,-306 969.5,-306 963.5,-300 963.5,-294 963.5,-294 963.5,-235 963.5,-235 963.5,-229 969.5,-223 975.5,-223 975.5,-223 1159.5,-223 1159.5,-223 1165.5,-223 1171.5,-229 1171.5,-235 1171.5,-235 1171.5,-294 1171.5,-294 1171.5,-300 1165.5,-306 1159.5,-306\"/>\r\n",
       "<text text-anchor=\"start\" x=\"971.5\" y=\"-290.8\" font-family=\"Helvetica,sans-Serif\" font-size=\"14.00\">ratio_running_duration ≤ 5.489</text>\r\n",
       "<text text-anchor=\"start\" x=\"1017.5\" y=\"-275.8\" font-family=\"Helvetica,sans-Serif\" font-size=\"14.00\">entropy = 1.661</text>\r\n",
       "<text text-anchor=\"start\" x=\"1020\" y=\"-260.8\" font-family=\"Helvetica,sans-Serif\" font-size=\"14.00\">samples = 747</text>\r\n",
       "<text text-anchor=\"start\" x=\"982.5\" y=\"-245.8\" font-family=\"Helvetica,sans-Serif\" font-size=\"14.00\">value = [364, 197, 159, 27]</text>\r\n",
       "<text text-anchor=\"start\" x=\"1038.5\" y=\"-230.8\" font-family=\"Helvetica,sans-Serif\" font-size=\"14.00\">class = 1</text>\r\n",
       "</g>\r\n",
       "<!-- 1&#45;&gt;9 -->\r\n",
       "<g id=\"edge9\" class=\"edge\"><title>1&#45;&gt;9</title>\r\n",
       "<path fill=\"none\" stroke=\"black\" d=\"M1067.5,-341.907C1067.5,-333.649 1067.5,-324.864 1067.5,-316.302\"/>\r\n",
       "<polygon fill=\"black\" stroke=\"black\" points=\"1071,-316.021 1067.5,-306.021 1064,-316.021 1071,-316.021\"/>\r\n",
       "</g>\r\n",
       "<!-- 3 -->\r\n",
       "<g id=\"node4\" class=\"node\"><title>3</title>\r\n",
       "<path fill=\"#e58139\" fill-opacity=\"0.678431\" stroke=\"black\" d=\"M337.5,-187C337.5,-187 191.5,-187 191.5,-187 185.5,-187 179.5,-181 179.5,-175 179.5,-175 179.5,-116 179.5,-116 179.5,-110 185.5,-104 191.5,-104 191.5,-104 337.5,-104 337.5,-104 343.5,-104 349.5,-110 349.5,-116 349.5,-116 349.5,-175 349.5,-175 349.5,-181 343.5,-187 337.5,-187\"/>\r\n",
       "<text text-anchor=\"start\" x=\"205.5\" y=\"-171.8\" font-family=\"Helvetica,sans-Serif\" font-size=\"14.00\">image_count ≤ 0.5</text>\r\n",
       "<text text-anchor=\"start\" x=\"214.5\" y=\"-156.8\" font-family=\"Helvetica,sans-Serif\" font-size=\"14.00\">entropy = 1.271</text>\r\n",
       "<text text-anchor=\"start\" x=\"217\" y=\"-141.8\" font-family=\"Helvetica,sans-Serif\" font-size=\"14.00\">samples = 486</text>\r\n",
       "<text text-anchor=\"start\" x=\"187.5\" y=\"-126.8\" font-family=\"Helvetica,sans-Serif\" font-size=\"14.00\">value = [349, 57, 59, 21]</text>\r\n",
       "<text text-anchor=\"start\" x=\"235.5\" y=\"-111.8\" font-family=\"Helvetica,sans-Serif\" font-size=\"14.00\">class = 1</text>\r\n",
       "</g>\r\n",
       "<!-- 2&#45;&gt;3 -->\r\n",
       "<g id=\"edge3\" class=\"edge\"><title>2&#45;&gt;3</title>\r\n",
       "<path fill=\"none\" stroke=\"black\" d=\"M446.049,-222.907C417.87,-211.048 387.109,-198.102 359.049,-186.292\"/>\r\n",
       "<polygon fill=\"black\" stroke=\"black\" points=\"360.219,-182.987 349.645,-182.334 357.504,-189.439 360.219,-182.987\"/>\r\n",
       "</g>\r\n",
       "<!-- 6 -->\r\n",
       "<g id=\"node7\" class=\"node\"><title>6</title>\r\n",
       "<path fill=\"#e58139\" fill-opacity=\"0.933333\" stroke=\"black\" d=\"M615.5,-187C615.5,-187 469.5,-187 469.5,-187 463.5,-187 457.5,-181 457.5,-175 457.5,-175 457.5,-116 457.5,-116 457.5,-110 463.5,-104 469.5,-104 469.5,-104 615.5,-104 615.5,-104 621.5,-104 627.5,-110 627.5,-116 627.5,-116 627.5,-175 627.5,-175 627.5,-181 621.5,-187 615.5,-187\"/>\r\n",
       "<text text-anchor=\"start\" x=\"498.5\" y=\"-171.8\" font-family=\"Helvetica,sans-Serif\" font-size=\"14.00\">goal ≤ 7638.5</text>\r\n",
       "<text text-anchor=\"start\" x=\"492.5\" y=\"-156.8\" font-family=\"Helvetica,sans-Serif\" font-size=\"14.00\">entropy = 0.425</text>\r\n",
       "<text text-anchor=\"start\" x=\"491\" y=\"-141.8\" font-family=\"Helvetica,sans-Serif\" font-size=\"14.00\">samples = 1996</text>\r\n",
       "<text text-anchor=\"start\" x=\"465.5\" y=\"-126.8\" font-family=\"Helvetica,sans-Serif\" font-size=\"14.00\">value = [1868, 71, 48, 9]</text>\r\n",
       "<text text-anchor=\"start\" x=\"513.5\" y=\"-111.8\" font-family=\"Helvetica,sans-Serif\" font-size=\"14.00\">class = 1</text>\r\n",
       "</g>\r\n",
       "<!-- 2&#45;&gt;6 -->\r\n",
       "<g id=\"edge6\" class=\"edge\"><title>2&#45;&gt;6</title>\r\n",
       "<path fill=\"none\" stroke=\"black\" d=\"M542.5,-222.907C542.5,-214.649 542.5,-205.864 542.5,-197.302\"/>\r\n",
       "<polygon fill=\"black\" stroke=\"black\" points=\"546,-197.021 542.5,-187.021 539,-197.021 546,-197.021\"/>\r\n",
       "</g>\r\n",
       "<!-- 4 -->\r\n",
       "<g id=\"node5\" class=\"node\"><title>4</title>\r\n",
       "<path fill=\"#e58139\" fill-opacity=\"0.827451\" stroke=\"black\" d=\"M149,-68C149,-68 12,-68 12,-68 6,-68 0,-62 0,-56 0,-56 0,-12 0,-12 0,-6 6,-0 12,-0 12,-0 149,-0 149,-0 155,-0 161,-6 161,-12 161,-12 161,-56 161,-56 161,-62 155,-68 149,-68\"/>\r\n",
       "<text text-anchor=\"start\" x=\"30.5\" y=\"-52.8\" font-family=\"Helvetica,sans-Serif\" font-size=\"14.00\">entropy = 0.843</text>\r\n",
       "<text text-anchor=\"start\" x=\"33\" y=\"-37.8\" font-family=\"Helvetica,sans-Serif\" font-size=\"14.00\">samples = 284</text>\r\n",
       "<text text-anchor=\"start\" x=\"8\" y=\"-22.8\" font-family=\"Helvetica,sans-Serif\" font-size=\"14.00\">value = [239, 20, 21, 4]</text>\r\n",
       "<text text-anchor=\"start\" x=\"51.5\" y=\"-7.8\" font-family=\"Helvetica,sans-Serif\" font-size=\"14.00\">class = 1</text>\r\n",
       "</g>\r\n",
       "<!-- 3&#45;&gt;4 -->\r\n",
       "<g id=\"edge4\" class=\"edge\"><title>3&#45;&gt;4</title>\r\n",
       "<path fill=\"none\" stroke=\"black\" d=\"M196.247,-103.882C179.506,-93.9191 161.638,-83.2862 145.076,-73.4299\"/>\r\n",
       "<polygon fill=\"black\" stroke=\"black\" points=\"146.408,-70.1497 136.025,-68.0433 142.828,-76.1651 146.408,-70.1497\"/>\r\n",
       "</g>\r\n",
       "<!-- 5 -->\r\n",
       "<g id=\"node6\" class=\"node\"><title>5</title>\r\n",
       "<path fill=\"#e58139\" fill-opacity=\"0.439216\" stroke=\"black\" d=\"M337.5,-68C337.5,-68 191.5,-68 191.5,-68 185.5,-68 179.5,-62 179.5,-56 179.5,-56 179.5,-12 179.5,-12 179.5,-6 185.5,-0 191.5,-0 191.5,-0 337.5,-0 337.5,-0 343.5,-0 349.5,-6 349.5,-12 349.5,-12 349.5,-56 349.5,-56 349.5,-62 343.5,-68 337.5,-68\"/>\r\n",
       "<text text-anchor=\"start\" x=\"218.5\" y=\"-52.8\" font-family=\"Helvetica,sans-Serif\" font-size=\"14.00\">entropy = 1.68</text>\r\n",
       "<text text-anchor=\"start\" x=\"217\" y=\"-37.8\" font-family=\"Helvetica,sans-Serif\" font-size=\"14.00\">samples = 202</text>\r\n",
       "<text text-anchor=\"start\" x=\"187.5\" y=\"-22.8\" font-family=\"Helvetica,sans-Serif\" font-size=\"14.00\">value = [110, 37, 38, 17]</text>\r\n",
       "<text text-anchor=\"start\" x=\"235.5\" y=\"-7.8\" font-family=\"Helvetica,sans-Serif\" font-size=\"14.00\">class = 1</text>\r\n",
       "</g>\r\n",
       "<!-- 3&#45;&gt;5 -->\r\n",
       "<g id=\"edge5\" class=\"edge\"><title>3&#45;&gt;5</title>\r\n",
       "<path fill=\"none\" stroke=\"black\" d=\"M264.5,-103.726C264.5,-95.5175 264.5,-86.8595 264.5,-78.56\"/>\r\n",
       "<polygon fill=\"black\" stroke=\"black\" points=\"268,-78.2996 264.5,-68.2996 261,-78.2996 268,-78.2996\"/>\r\n",
       "</g>\r\n",
       "<!-- 7 -->\r\n",
       "<g id=\"node8\" class=\"node\"><title>7</title>\r\n",
       "<path fill=\"#e58139\" fill-opacity=\"0.870588\" stroke=\"black\" d=\"M517,-68C517,-68 380,-68 380,-68 374,-68 368,-62 368,-56 368,-56 368,-12 368,-12 368,-6 374,-0 380,-0 380,-0 517,-0 517,-0 523,-0 529,-6 529,-12 529,-12 529,-56 529,-56 529,-62 523,-68 517,-68\"/>\r\n",
       "<text text-anchor=\"start\" x=\"398.5\" y=\"-52.8\" font-family=\"Helvetica,sans-Serif\" font-size=\"14.00\">entropy = 0.691</text>\r\n",
       "<text text-anchor=\"start\" x=\"401\" y=\"-37.8\" font-family=\"Helvetica,sans-Serif\" font-size=\"14.00\">samples = 816</text>\r\n",
       "<text text-anchor=\"start\" x=\"376\" y=\"-22.8\" font-family=\"Helvetica,sans-Serif\" font-size=\"14.00\">value = [717, 57, 33, 9]</text>\r\n",
       "<text text-anchor=\"start\" x=\"419.5\" y=\"-7.8\" font-family=\"Helvetica,sans-Serif\" font-size=\"14.00\">class = 1</text>\r\n",
       "</g>\r\n",
       "<!-- 6&#45;&gt;7 -->\r\n",
       "<g id=\"edge7\" class=\"edge\"><title>6&#45;&gt;7</title>\r\n",
       "<path fill=\"none\" stroke=\"black\" d=\"M507.498,-103.726C499.746,-94.6966 491.528,-85.1235 483.766,-76.0816\"/>\r\n",
       "<polygon fill=\"black\" stroke=\"black\" points=\"486.255,-73.6075 477.086,-68.2996 480.944,-78.1671 486.255,-73.6075\"/>\r\n",
       "</g>\r\n",
       "<!-- 8 -->\r\n",
       "<g id=\"node9\" class=\"node\"><title>8</title>\r\n",
       "<path fill=\"#e58139\" fill-opacity=\"0.976471\" stroke=\"black\" d=\"M705.5,-68C705.5,-68 559.5,-68 559.5,-68 553.5,-68 547.5,-62 547.5,-56 547.5,-56 547.5,-12 547.5,-12 547.5,-6 553.5,-0 559.5,-0 559.5,-0 705.5,-0 705.5,-0 711.5,-0 717.5,-6 717.5,-12 717.5,-12 717.5,-56 717.5,-56 717.5,-62 711.5,-68 705.5,-68\"/>\r\n",
       "<text text-anchor=\"start\" x=\"582.5\" y=\"-52.8\" font-family=\"Helvetica,sans-Serif\" font-size=\"14.00\">entropy = 0.191</text>\r\n",
       "<text text-anchor=\"start\" x=\"581\" y=\"-37.8\" font-family=\"Helvetica,sans-Serif\" font-size=\"14.00\">samples = 1180</text>\r\n",
       "<text text-anchor=\"start\" x=\"555.5\" y=\"-22.8\" font-family=\"Helvetica,sans-Serif\" font-size=\"14.00\">value = [1151, 14, 15, 0]</text>\r\n",
       "<text text-anchor=\"start\" x=\"603.5\" y=\"-7.8\" font-family=\"Helvetica,sans-Serif\" font-size=\"14.00\">class = 1</text>\r\n",
       "</g>\r\n",
       "<!-- 6&#45;&gt;8 -->\r\n",
       "<g id=\"edge8\" class=\"edge\"><title>6&#45;&gt;8</title>\r\n",
       "<path fill=\"none\" stroke=\"black\" d=\"M576.013,-103.726C583.434,-94.6966 591.303,-85.1235 598.734,-76.0816\"/>\r\n",
       "<polygon fill=\"black\" stroke=\"black\" points=\"601.485,-78.2474 605.13,-68.2996 596.077,-73.8026 601.485,-78.2474\"/>\r\n",
       "</g>\r\n",
       "<!-- 10 -->\r\n",
       "<g id=\"node11\" class=\"node\"><title>10</title>\r\n",
       "<path fill=\"#399de5\" fill-opacity=\"0.078431\" stroke=\"black\" d=\"M1042,-187C1042,-187 893,-187 893,-187 887,-187 881,-181 881,-175 881,-175 881,-116 881,-116 881,-110 887,-104 893,-104 893,-104 1042,-104 1042,-104 1048,-104 1054,-110 1054,-116 1054,-116 1054,-175 1054,-175 1054,-181 1048,-187 1042,-187\"/>\r\n",
       "<text text-anchor=\"start\" x=\"889\" y=\"-171.8\" font-family=\"Helvetica,sans-Serif\" font-size=\"14.00\">category_position ≤ 16.0</text>\r\n",
       "<text text-anchor=\"start\" x=\"921.5\" y=\"-156.8\" font-family=\"Helvetica,sans-Serif\" font-size=\"14.00\">entropy = 1.84</text>\r\n",
       "<text text-anchor=\"start\" x=\"920\" y=\"-141.8\" font-family=\"Helvetica,sans-Serif\" font-size=\"14.00\">samples = 254</text>\r\n",
       "<text text-anchor=\"start\" x=\"895\" y=\"-126.8\" font-family=\"Helvetica,sans-Serif\" font-size=\"14.00\">value = [62, 79, 93, 20]</text>\r\n",
       "<text text-anchor=\"start\" x=\"938.5\" y=\"-111.8\" font-family=\"Helvetica,sans-Serif\" font-size=\"14.00\">class = 3</text>\r\n",
       "</g>\r\n",
       "<!-- 9&#45;&gt;10 -->\r\n",
       "<g id=\"edge10\" class=\"edge\"><title>9&#45;&gt;10</title>\r\n",
       "<path fill=\"none\" stroke=\"black\" d=\"M1032.81,-222.907C1025.05,-213.832 1016.75,-204.121 1008.76,-194.769\"/>\r\n",
       "<polygon fill=\"black\" stroke=\"black\" points=\"1011.29,-192.349 1002.13,-187.021 1005.97,-196.897 1011.29,-192.349\"/>\r\n",
       "</g>\r\n",
       "<!-- 13 -->\r\n",
       "<g id=\"node14\" class=\"node\"><title>13</title>\r\n",
       "<path fill=\"#e58139\" fill-opacity=\"0.490196\" stroke=\"black\" d=\"M1251,-187C1251,-187 1084,-187 1084,-187 1078,-187 1072,-181 1072,-175 1072,-175 1072,-116 1072,-116 1072,-110 1078,-104 1084,-104 1084,-104 1251,-104 1251,-104 1257,-104 1263,-110 1263,-116 1263,-116 1263,-175 1263,-175 1263,-181 1257,-187 1251,-187\"/>\r\n",
       "<text text-anchor=\"start\" x=\"1080\" y=\"-171.8\" font-family=\"Helvetica,sans-Serif\" font-size=\"14.00\">ratio_pledged_goal ≤ 3.307</text>\r\n",
       "<text text-anchor=\"start\" x=\"1117.5\" y=\"-156.8\" font-family=\"Helvetica,sans-Serif\" font-size=\"14.00\">entropy = 1.402</text>\r\n",
       "<text text-anchor=\"start\" x=\"1120\" y=\"-141.8\" font-family=\"Helvetica,sans-Serif\" font-size=\"14.00\">samples = 493</text>\r\n",
       "<text text-anchor=\"start\" x=\"1090.5\" y=\"-126.8\" font-family=\"Helvetica,sans-Serif\" font-size=\"14.00\">value = [302, 118, 66, 7]</text>\r\n",
       "<text text-anchor=\"start\" x=\"1138.5\" y=\"-111.8\" font-family=\"Helvetica,sans-Serif\" font-size=\"14.00\">class = 1</text>\r\n",
       "</g>\r\n",
       "<!-- 9&#45;&gt;13 -->\r\n",
       "<g id=\"edge13\" class=\"edge\"><title>9&#45;&gt;13</title>\r\n",
       "<path fill=\"none\" stroke=\"black\" d=\"M1102.19,-222.907C1109.95,-213.832 1118.25,-204.121 1126.24,-194.769\"/>\r\n",
       "<polygon fill=\"black\" stroke=\"black\" points=\"1129.03,-196.897 1132.87,-187.021 1123.71,-192.349 1129.03,-196.897\"/>\r\n",
       "</g>\r\n",
       "<!-- 11 -->\r\n",
       "<g id=\"node12\" class=\"node\"><title>11</title>\r\n",
       "<path fill=\"#399de5\" fill-opacity=\"0.019608\" stroke=\"black\" d=\"M885,-68C885,-68 748,-68 748,-68 742,-68 736,-62 736,-56 736,-56 736,-12 736,-12 736,-6 742,-0 748,-0 748,-0 885,-0 885,-0 891,-0 897,-6 897,-12 897,-12 897,-56 897,-56 897,-62 891,-68 885,-68\"/>\r\n",
       "<text text-anchor=\"start\" x=\"766.5\" y=\"-52.8\" font-family=\"Helvetica,sans-Serif\" font-size=\"14.00\">entropy = 1.857</text>\r\n",
       "<text text-anchor=\"start\" x=\"769\" y=\"-37.8\" font-family=\"Helvetica,sans-Serif\" font-size=\"14.00\">samples = 241</text>\r\n",
       "<text text-anchor=\"start\" x=\"744\" y=\"-22.8\" font-family=\"Helvetica,sans-Serif\" font-size=\"14.00\">value = [62, 78, 81, 20]</text>\r\n",
       "<text text-anchor=\"start\" x=\"787.5\" y=\"-7.8\" font-family=\"Helvetica,sans-Serif\" font-size=\"14.00\">class = 3</text>\r\n",
       "</g>\r\n",
       "<!-- 10&#45;&gt;11 -->\r\n",
       "<g id=\"edge11\" class=\"edge\"><title>10&#45;&gt;11</title>\r\n",
       "<path fill=\"none\" stroke=\"black\" d=\"M911.273,-103.726C897.941,-94.0582 883.749,-83.767 870.518,-74.172\"/>\r\n",
       "<polygon fill=\"black\" stroke=\"black\" points=\"872.57,-71.3368 862.42,-68.2996 868.461,-77.0036 872.57,-71.3368\"/>\r\n",
       "</g>\r\n",
       "<!-- 12 -->\r\n",
       "<g id=\"node13\" class=\"node\"><title>12</title>\r\n",
       "<path fill=\"#399de5\" fill-opacity=\"0.917647\" stroke=\"black\" d=\"M1040,-68C1040,-68 927,-68 927,-68 921,-68 915,-62 915,-56 915,-56 915,-12 915,-12 915,-6 921,-0 927,-0 927,-0 1040,-0 1040,-0 1046,-0 1052,-6 1052,-12 1052,-12 1052,-56 1052,-56 1052,-62 1046,-68 1040,-68\"/>\r\n",
       "<text text-anchor=\"start\" x=\"933.5\" y=\"-52.8\" font-family=\"Helvetica,sans-Serif\" font-size=\"14.00\">entropy = 0.391</text>\r\n",
       "<text text-anchor=\"start\" x=\"940\" y=\"-37.8\" font-family=\"Helvetica,sans-Serif\" font-size=\"14.00\">samples = 13</text>\r\n",
       "<text text-anchor=\"start\" x=\"923\" y=\"-22.8\" font-family=\"Helvetica,sans-Serif\" font-size=\"14.00\">value = [0, 1, 12, 0]</text>\r\n",
       "<text text-anchor=\"start\" x=\"954.5\" y=\"-7.8\" font-family=\"Helvetica,sans-Serif\" font-size=\"14.00\">class = 3</text>\r\n",
       "</g>\r\n",
       "<!-- 10&#45;&gt;12 -->\r\n",
       "<g id=\"edge12\" class=\"edge\"><title>10&#45;&gt;12</title>\r\n",
       "<path fill=\"none\" stroke=\"black\" d=\"M973.458,-103.726C974.671,-95.4263 975.95,-86.6671 977.175,-78.2834\"/>\r\n",
       "<polygon fill=\"black\" stroke=\"black\" points=\"980.652,-78.7006 978.634,-68.2996 973.725,-77.6885 980.652,-78.7006\"/>\r\n",
       "</g>\r\n",
       "<!-- 14 -->\r\n",
       "<g id=\"node15\" class=\"node\"><title>14</title>\r\n",
       "<path fill=\"#e58139\" fill-opacity=\"0.701961\" stroke=\"black\" d=\"M1219,-68C1219,-68 1082,-68 1082,-68 1076,-68 1070,-62 1070,-56 1070,-56 1070,-12 1070,-12 1070,-6 1076,-0 1082,-0 1082,-0 1219,-0 1219,-0 1225,-0 1231,-6 1231,-12 1231,-12 1231,-56 1231,-56 1231,-62 1225,-68 1219,-68\"/>\r\n",
       "<text text-anchor=\"start\" x=\"1100.5\" y=\"-52.8\" font-family=\"Helvetica,sans-Serif\" font-size=\"14.00\">entropy = 1.098</text>\r\n",
       "<text text-anchor=\"start\" x=\"1103\" y=\"-37.8\" font-family=\"Helvetica,sans-Serif\" font-size=\"14.00\">samples = 228</text>\r\n",
       "<text text-anchor=\"start\" x=\"1078\" y=\"-22.8\" font-family=\"Helvetica,sans-Serif\" font-size=\"14.00\">value = [171, 37, 17, 3]</text>\r\n",
       "<text text-anchor=\"start\" x=\"1121.5\" y=\"-7.8\" font-family=\"Helvetica,sans-Serif\" font-size=\"14.00\">class = 1</text>\r\n",
       "</g>\r\n",
       "<!-- 13&#45;&gt;14 -->\r\n",
       "<g id=\"edge14\" class=\"edge\"><title>13&#45;&gt;14</title>\r\n",
       "<path fill=\"none\" stroke=\"black\" d=\"M1161.17,-103.726C1159.88,-95.4263 1158.52,-86.6671 1157.22,-78.2834\"/>\r\n",
       "<polygon fill=\"black\" stroke=\"black\" points=\"1160.66,-77.6442 1155.67,-68.2996 1153.75,-78.7182 1160.66,-77.6442\"/>\r\n",
       "</g>\r\n",
       "<!-- 15 -->\r\n",
       "<g id=\"node16\" class=\"node\"><title>15</title>\r\n",
       "<path fill=\"#e58139\" fill-opacity=\"0.270588\" stroke=\"black\" d=\"M1398,-68C1398,-68 1261,-68 1261,-68 1255,-68 1249,-62 1249,-56 1249,-56 1249,-12 1249,-12 1249,-6 1255,-0 1261,-0 1261,-0 1398,-0 1398,-0 1404,-0 1410,-6 1410,-12 1410,-12 1410,-56 1410,-56 1410,-62 1404,-68 1398,-68\"/>\r\n",
       "<text text-anchor=\"start\" x=\"1279.5\" y=\"-52.8\" font-family=\"Helvetica,sans-Serif\" font-size=\"14.00\">entropy = 1.567</text>\r\n",
       "<text text-anchor=\"start\" x=\"1282\" y=\"-37.8\" font-family=\"Helvetica,sans-Serif\" font-size=\"14.00\">samples = 265</text>\r\n",
       "<text text-anchor=\"start\" x=\"1257\" y=\"-22.8\" font-family=\"Helvetica,sans-Serif\" font-size=\"14.00\">value = [131, 81, 49, 4]</text>\r\n",
       "<text text-anchor=\"start\" x=\"1300.5\" y=\"-7.8\" font-family=\"Helvetica,sans-Serif\" font-size=\"14.00\">class = 1</text>\r\n",
       "</g>\r\n",
       "<!-- 13&#45;&gt;15 -->\r\n",
       "<g id=\"edge15\" class=\"edge\"><title>13&#45;&gt;15</title>\r\n",
       "<path fill=\"none\" stroke=\"black\" d=\"M1227.82,-103.726C1242.34,-93.9161 1257.8,-83.4644 1272.17,-73.7496\"/>\r\n",
       "<polygon fill=\"black\" stroke=\"black\" points=\"1274.17,-76.625 1280.49,-68.1252 1270.25,-70.8255 1274.17,-76.625\"/>\r\n",
       "</g>\r\n",
       "<!-- 17 -->\r\n",
       "<g id=\"node18\" class=\"node\"><title>17</title>\r\n",
       "<path fill=\"#399de5\" fill-opacity=\"0.313725\" stroke=\"black\" d=\"M1878.5,-306C1878.5,-306 1702.5,-306 1702.5,-306 1696.5,-306 1690.5,-300 1690.5,-294 1690.5,-294 1690.5,-235 1690.5,-235 1690.5,-229 1696.5,-223 1702.5,-223 1702.5,-223 1878.5,-223 1878.5,-223 1884.5,-223 1890.5,-229 1890.5,-235 1890.5,-235 1890.5,-294 1890.5,-294 1890.5,-300 1884.5,-306 1878.5,-306\"/>\r\n",
       "<text text-anchor=\"start\" x=\"1698.5\" y=\"-290.8\" font-family=\"Helvetica,sans-Serif\" font-size=\"14.00\">ratio_pledged_goal ≤ 17.194</text>\r\n",
       "<text text-anchor=\"start\" x=\"1740.5\" y=\"-275.8\" font-family=\"Helvetica,sans-Serif\" font-size=\"14.00\">entropy = 1.599</text>\r\n",
       "<text text-anchor=\"start\" x=\"1739\" y=\"-260.8\" font-family=\"Helvetica,sans-Serif\" font-size=\"14.00\">samples = 1883</text>\r\n",
       "<text text-anchor=\"start\" x=\"1705.5\" y=\"-245.8\" font-family=\"Helvetica,sans-Serif\" font-size=\"14.00\">value = [36, 498, 934, 415]</text>\r\n",
       "<text text-anchor=\"start\" x=\"1761.5\" y=\"-230.8\" font-family=\"Helvetica,sans-Serif\" font-size=\"14.00\">class = 3</text>\r\n",
       "</g>\r\n",
       "<!-- 16&#45;&gt;17 -->\r\n",
       "<g id=\"edge17\" class=\"edge\"><title>16&#45;&gt;17</title>\r\n",
       "<path fill=\"none\" stroke=\"black\" d=\"M1790.5,-341.907C1790.5,-333.649 1790.5,-324.864 1790.5,-316.302\"/>\r\n",
       "<polygon fill=\"black\" stroke=\"black\" points=\"1794,-316.021 1790.5,-306.021 1787,-316.021 1794,-316.021\"/>\r\n",
       "</g>\r\n",
       "<!-- 24 -->\r\n",
       "<g id=\"node25\" class=\"node\"><title>24</title>\r\n",
       "<path fill=\"#d739e5\" fill-opacity=\"0.733333\" stroke=\"black\" d=\"M2352.5,-306C2352.5,-306 2168.5,-306 2168.5,-306 2162.5,-306 2156.5,-300 2156.5,-294 2156.5,-294 2156.5,-235 2156.5,-235 2156.5,-229 2162.5,-223 2168.5,-223 2168.5,-223 2352.5,-223 2352.5,-223 2358.5,-223 2364.5,-229 2364.5,-235 2364.5,-235 2364.5,-294 2364.5,-294 2364.5,-300 2358.5,-306 2352.5,-306\"/>\r\n",
       "<text text-anchor=\"start\" x=\"2164.5\" y=\"-290.8\" font-family=\"Helvetica,sans-Serif\" font-size=\"14.00\">ratio_pledged_goal ≤ 119.012</text>\r\n",
       "<text text-anchor=\"start\" x=\"2210.5\" y=\"-275.8\" font-family=\"Helvetica,sans-Serif\" font-size=\"14.00\">entropy = 0.792</text>\r\n",
       "<text text-anchor=\"start\" x=\"2209\" y=\"-260.8\" font-family=\"Helvetica,sans-Serif\" font-size=\"14.00\">samples = 1172</text>\r\n",
       "<text text-anchor=\"start\" x=\"2188\" y=\"-245.8\" font-family=\"Helvetica,sans-Serif\" font-size=\"14.00\">value = [0, 9, 239, 924]</text>\r\n",
       "<text text-anchor=\"start\" x=\"2231.5\" y=\"-230.8\" font-family=\"Helvetica,sans-Serif\" font-size=\"14.00\">class = 4</text>\r\n",
       "</g>\r\n",
       "<!-- 16&#45;&gt;24 -->\r\n",
       "<g id=\"edge24\" class=\"edge\"><title>16&#45;&gt;24</title>\r\n",
       "<path fill=\"none\" stroke=\"black\" d=\"M1892.19,-357.185C1967,-338.563 2068.74,-313.236 2146.33,-293.921\"/>\r\n",
       "<polygon fill=\"black\" stroke=\"black\" points=\"2147.29,-297.288 2156.15,-291.476 2145.6,-290.496 2147.29,-297.288\"/>\r\n",
       "</g>\r\n",
       "<!-- 18 -->\r\n",
       "<g id=\"node19\" class=\"node\"><title>18</title>\r\n",
       "<path fill=\"#399de5\" fill-opacity=\"0.011765\" stroke=\"black\" d=\"M1769.5,-187C1769.5,-187 1585.5,-187 1585.5,-187 1579.5,-187 1573.5,-181 1573.5,-175 1573.5,-175 1573.5,-116 1573.5,-116 1573.5,-110 1579.5,-104 1585.5,-104 1585.5,-104 1769.5,-104 1769.5,-104 1775.5,-104 1781.5,-110 1781.5,-116 1781.5,-116 1781.5,-175 1781.5,-175 1781.5,-181 1775.5,-187 1769.5,-187\"/>\r\n",
       "<text text-anchor=\"start\" x=\"1581.5\" y=\"-171.8\" font-family=\"Helvetica,sans-Serif\" font-size=\"14.00\">ratio_running_duration ≤ 8.167</text>\r\n",
       "<text text-anchor=\"start\" x=\"1627.5\" y=\"-156.8\" font-family=\"Helvetica,sans-Serif\" font-size=\"14.00\">entropy = 1.586</text>\r\n",
       "<text text-anchor=\"start\" x=\"1630\" y=\"-141.8\" font-family=\"Helvetica,sans-Serif\" font-size=\"14.00\">samples = 835</text>\r\n",
       "<text text-anchor=\"start\" x=\"1596.5\" y=\"-126.8\" font-family=\"Helvetica,sans-Serif\" font-size=\"14.00\">value = [34, 352, 358, 91]</text>\r\n",
       "<text text-anchor=\"start\" x=\"1648.5\" y=\"-111.8\" font-family=\"Helvetica,sans-Serif\" font-size=\"14.00\">class = 3</text>\r\n",
       "</g>\r\n",
       "<!-- 17&#45;&gt;18 -->\r\n",
       "<g id=\"edge18\" class=\"edge\"><title>17&#45;&gt;18</title>\r\n",
       "<path fill=\"none\" stroke=\"black\" d=\"M1751.3,-222.907C1742.44,-213.742 1732.96,-203.927 1723.85,-194.489\"/>\r\n",
       "<polygon fill=\"black\" stroke=\"black\" points=\"1726.1,-191.782 1716.64,-187.021 1721.07,-196.645 1726.1,-191.782\"/>\r\n",
       "</g>\r\n",
       "<!-- 21 -->\r\n",
       "<g id=\"node22\" class=\"node\"><title>21</title>\r\n",
       "<path fill=\"#399de5\" fill-opacity=\"0.349020\" stroke=\"black\" d=\"M1995.5,-187C1995.5,-187 1811.5,-187 1811.5,-187 1805.5,-187 1799.5,-181 1799.5,-175 1799.5,-175 1799.5,-116 1799.5,-116 1799.5,-110 1805.5,-104 1811.5,-104 1811.5,-104 1995.5,-104 1995.5,-104 2001.5,-104 2007.5,-110 2007.5,-116 2007.5,-116 2007.5,-175 2007.5,-175 2007.5,-181 2001.5,-187 1995.5,-187\"/>\r\n",
       "<text text-anchor=\"start\" x=\"1807.5\" y=\"-171.8\" font-family=\"Helvetica,sans-Serif\" font-size=\"14.00\">ratio_running_duration ≤ 6.092</text>\r\n",
       "<text text-anchor=\"start\" x=\"1853.5\" y=\"-156.8\" font-family=\"Helvetica,sans-Serif\" font-size=\"14.00\">entropy = 1.412</text>\r\n",
       "<text text-anchor=\"start\" x=\"1852\" y=\"-141.8\" font-family=\"Helvetica,sans-Serif\" font-size=\"14.00\">samples = 1048</text>\r\n",
       "<text text-anchor=\"start\" x=\"1822.5\" y=\"-126.8\" font-family=\"Helvetica,sans-Serif\" font-size=\"14.00\">value = [2, 146, 576, 324]</text>\r\n",
       "<text text-anchor=\"start\" x=\"1874.5\" y=\"-111.8\" font-family=\"Helvetica,sans-Serif\" font-size=\"14.00\">class = 3</text>\r\n",
       "</g>\r\n",
       "<!-- 17&#45;&gt;21 -->\r\n",
       "<g id=\"edge21\" class=\"edge\"><title>17&#45;&gt;21</title>\r\n",
       "<path fill=\"none\" stroke=\"black\" d=\"M1829.7,-222.907C1838.56,-213.742 1848.04,-203.927 1857.15,-194.489\"/>\r\n",
       "<polygon fill=\"black\" stroke=\"black\" points=\"1859.93,-196.645 1864.36,-187.021 1854.9,-191.782 1859.93,-196.645\"/>\r\n",
       "</g>\r\n",
       "<!-- 19 -->\r\n",
       "<g id=\"node20\" class=\"node\"><title>19</title>\r\n",
       "<path fill=\"#399de5\" fill-opacity=\"0.290196\" stroke=\"black\" d=\"M1577,-68C1577,-68 1440,-68 1440,-68 1434,-68 1428,-62 1428,-56 1428,-56 1428,-12 1428,-12 1428,-6 1434,-0 1440,-0 1440,-0 1577,-0 1577,-0 1583,-0 1589,-6 1589,-12 1589,-12 1589,-56 1589,-56 1589,-62 1583,-68 1577,-68\"/>\r\n",
       "<text text-anchor=\"start\" x=\"1462.5\" y=\"-52.8\" font-family=\"Helvetica,sans-Serif\" font-size=\"14.00\">entropy = 1.57</text>\r\n",
       "<text text-anchor=\"start\" x=\"1461\" y=\"-37.8\" font-family=\"Helvetica,sans-Serif\" font-size=\"14.00\">samples = 304</text>\r\n",
       "<text text-anchor=\"start\" x=\"1436\" y=\"-22.8\" font-family=\"Helvetica,sans-Serif\" font-size=\"14.00\">value = [5, 90, 152, 57]</text>\r\n",
       "<text text-anchor=\"start\" x=\"1479.5\" y=\"-7.8\" font-family=\"Helvetica,sans-Serif\" font-size=\"14.00\">class = 3</text>\r\n",
       "</g>\r\n",
       "<!-- 18&#45;&gt;19 -->\r\n",
       "<g id=\"edge19\" class=\"edge\"><title>18&#45;&gt;19</title>\r\n",
       "<path fill=\"none\" stroke=\"black\" d=\"M1614.57,-103.726C1599.43,-93.9161 1583.3,-83.4644 1568.31,-73.7496\"/>\r\n",
       "<polygon fill=\"black\" stroke=\"black\" points=\"1569.92,-70.6256 1559.62,-68.1252 1566.11,-76.5002 1569.92,-70.6256\"/>\r\n",
       "</g>\r\n",
       "<!-- 20 -->\r\n",
       "<g id=\"node21\" class=\"node\"><title>20</title>\r\n",
       "<path fill=\"#47e539\" fill-opacity=\"0.172549\" stroke=\"black\" d=\"M1773.5,-68C1773.5,-68 1619.5,-68 1619.5,-68 1613.5,-68 1607.5,-62 1607.5,-56 1607.5,-56 1607.5,-12 1607.5,-12 1607.5,-6 1613.5,-0 1619.5,-0 1619.5,-0 1773.5,-0 1773.5,-0 1779.5,-0 1785.5,-6 1785.5,-12 1785.5,-12 1785.5,-56 1785.5,-56 1785.5,-62 1779.5,-68 1773.5,-68\"/>\r\n",
       "<text text-anchor=\"start\" x=\"1646.5\" y=\"-52.8\" font-family=\"Helvetica,sans-Serif\" font-size=\"14.00\">entropy = 1.516</text>\r\n",
       "<text text-anchor=\"start\" x=\"1649\" y=\"-37.8\" font-family=\"Helvetica,sans-Serif\" font-size=\"14.00\">samples = 531</text>\r\n",
       "<text text-anchor=\"start\" x=\"1615.5\" y=\"-22.8\" font-family=\"Helvetica,sans-Serif\" font-size=\"14.00\">value = [29, 262, 206, 34]</text>\r\n",
       "<text text-anchor=\"start\" x=\"1667.5\" y=\"-7.8\" font-family=\"Helvetica,sans-Serif\" font-size=\"14.00\">class = 2</text>\r\n",
       "</g>\r\n",
       "<!-- 18&#45;&gt;20 -->\r\n",
       "<g id=\"edge20\" class=\"edge\"><title>18&#45;&gt;20</title>\r\n",
       "<path fill=\"none\" stroke=\"black\" d=\"M1684.57,-103.726C1686.02,-95.4263 1687.53,-86.6671 1688.99,-78.2834\"/>\r\n",
       "<polygon fill=\"black\" stroke=\"black\" points=\"1692.46,-78.7508 1690.72,-68.2996 1685.56,-77.554 1692.46,-78.7508\"/>\r\n",
       "</g>\r\n",
       "<!-- 22 -->\r\n",
       "<g id=\"node23\" class=\"node\"><title>22</title>\r\n",
       "<path fill=\"#d739e5\" fill-opacity=\"0.203922\" stroke=\"black\" d=\"M1953,-68C1953,-68 1816,-68 1816,-68 1810,-68 1804,-62 1804,-56 1804,-56 1804,-12 1804,-12 1804,-6 1810,-0 1816,-0 1816,-0 1953,-0 1953,-0 1959,-0 1965,-6 1965,-12 1965,-12 1965,-56 1965,-56 1965,-62 1959,-68 1953,-68\"/>\r\n",
       "<text text-anchor=\"start\" x=\"1838.5\" y=\"-52.8\" font-family=\"Helvetica,sans-Serif\" font-size=\"14.00\">entropy = 1.27</text>\r\n",
       "<text text-anchor=\"start\" x=\"1837\" y=\"-37.8\" font-family=\"Helvetica,sans-Serif\" font-size=\"14.00\">samples = 231</text>\r\n",
       "<text text-anchor=\"start\" x=\"1812\" y=\"-22.8\" font-family=\"Helvetica,sans-Serif\" font-size=\"14.00\">value = [0, 15, 94, 122]</text>\r\n",
       "<text text-anchor=\"start\" x=\"1855.5\" y=\"-7.8\" font-family=\"Helvetica,sans-Serif\" font-size=\"14.00\">class = 4</text>\r\n",
       "</g>\r\n",
       "<!-- 21&#45;&gt;22 -->\r\n",
       "<g id=\"edge22\" class=\"edge\"><title>21&#45;&gt;22</title>\r\n",
       "<path fill=\"none\" stroke=\"black\" d=\"M1896.43,-103.726C1894.98,-95.4263 1893.47,-86.6671 1892.01,-78.2834\"/>\r\n",
       "<polygon fill=\"black\" stroke=\"black\" points=\"1895.44,-77.554 1890.28,-68.2996 1888.54,-78.7508 1895.44,-77.554\"/>\r\n",
       "</g>\r\n",
       "<!-- 23 -->\r\n",
       "<g id=\"node24\" class=\"node\"><title>23</title>\r\n",
       "<path fill=\"#399de5\" fill-opacity=\"0.454902\" stroke=\"black\" d=\"M2149.5,-68C2149.5,-68 1995.5,-68 1995.5,-68 1989.5,-68 1983.5,-62 1983.5,-56 1983.5,-56 1983.5,-12 1983.5,-12 1983.5,-6 1989.5,-0 1995.5,-0 1995.5,-0 2149.5,-0 2149.5,-0 2155.5,-0 2161.5,-6 2161.5,-12 2161.5,-12 2161.5,-56 2161.5,-56 2161.5,-62 2155.5,-68 2149.5,-68\"/>\r\n",
       "<text text-anchor=\"start\" x=\"2022.5\" y=\"-52.8\" font-family=\"Helvetica,sans-Serif\" font-size=\"14.00\">entropy = 1.392</text>\r\n",
       "<text text-anchor=\"start\" x=\"2025\" y=\"-37.8\" font-family=\"Helvetica,sans-Serif\" font-size=\"14.00\">samples = 817</text>\r\n",
       "<text text-anchor=\"start\" x=\"1991.5\" y=\"-22.8\" font-family=\"Helvetica,sans-Serif\" font-size=\"14.00\">value = [2, 131, 482, 202]</text>\r\n",
       "<text text-anchor=\"start\" x=\"2043.5\" y=\"-7.8\" font-family=\"Helvetica,sans-Serif\" font-size=\"14.00\">class = 3</text>\r\n",
       "</g>\r\n",
       "<!-- 21&#45;&gt;23 -->\r\n",
       "<g id=\"edge23\" class=\"edge\"><title>21&#45;&gt;23</title>\r\n",
       "<path fill=\"none\" stroke=\"black\" d=\"M1966.43,-103.726C1981.57,-93.9161 1997.7,-83.4644 2012.69,-73.7496\"/>\r\n",
       "<polygon fill=\"black\" stroke=\"black\" points=\"2014.89,-76.5002 2021.38,-68.1252 2011.08,-70.6256 2014.89,-76.5002\"/>\r\n",
       "</g>\r\n",
       "<!-- 25 -->\r\n",
       "<g id=\"node26\" class=\"node\"><title>25</title>\r\n",
       "<path fill=\"#d739e5\" fill-opacity=\"0.564706\" stroke=\"black\" d=\"M2348.5,-187C2348.5,-187 2172.5,-187 2172.5,-187 2166.5,-187 2160.5,-181 2160.5,-175 2160.5,-175 2160.5,-116 2160.5,-116 2160.5,-110 2166.5,-104 2172.5,-104 2172.5,-104 2348.5,-104 2348.5,-104 2354.5,-104 2360.5,-110 2360.5,-116 2360.5,-116 2360.5,-175 2360.5,-175 2360.5,-181 2354.5,-187 2348.5,-187\"/>\r\n",
       "<text text-anchor=\"start\" x=\"2168.5\" y=\"-171.8\" font-family=\"Helvetica,sans-Serif\" font-size=\"14.00\">ratio_pledged_goal ≤ 66.173</text>\r\n",
       "<text text-anchor=\"start\" x=\"2210.5\" y=\"-156.8\" font-family=\"Helvetica,sans-Serif\" font-size=\"14.00\">entropy = 0.958</text>\r\n",
       "<text text-anchor=\"start\" x=\"2213\" y=\"-141.8\" font-family=\"Helvetica,sans-Serif\" font-size=\"14.00\">samples = 810</text>\r\n",
       "<text text-anchor=\"start\" x=\"2188\" y=\"-126.8\" font-family=\"Helvetica,sans-Serif\" font-size=\"14.00\">value = [0, 9, 239, 562]</text>\r\n",
       "<text text-anchor=\"start\" x=\"2231.5\" y=\"-111.8\" font-family=\"Helvetica,sans-Serif\" font-size=\"14.00\">class = 4</text>\r\n",
       "</g>\r\n",
       "<!-- 24&#45;&gt;25 -->\r\n",
       "<g id=\"edge25\" class=\"edge\"><title>24&#45;&gt;25</title>\r\n",
       "<path fill=\"none\" stroke=\"black\" d=\"M2260.5,-222.907C2260.5,-214.649 2260.5,-205.864 2260.5,-197.302\"/>\r\n",
       "<polygon fill=\"black\" stroke=\"black\" points=\"2264,-197.021 2260.5,-187.021 2257,-197.021 2264,-197.021\"/>\r\n",
       "</g>\r\n",
       "<!-- 28 -->\r\n",
       "<g id=\"node29\" class=\"node\"><title>28</title>\r\n",
       "<path fill=\"#d739e5\" stroke=\"black\" d=\"M2512,-179.5C2512,-179.5 2391,-179.5 2391,-179.5 2385,-179.5 2379,-173.5 2379,-167.5 2379,-167.5 2379,-123.5 2379,-123.5 2379,-117.5 2385,-111.5 2391,-111.5 2391,-111.5 2512,-111.5 2512,-111.5 2518,-111.5 2524,-117.5 2524,-123.5 2524,-123.5 2524,-167.5 2524,-167.5 2524,-173.5 2518,-179.5 2512,-179.5\"/>\r\n",
       "<text text-anchor=\"start\" x=\"2409.5\" y=\"-164.3\" font-family=\"Helvetica,sans-Serif\" font-size=\"14.00\">entropy = 0.0</text>\r\n",
       "<text text-anchor=\"start\" x=\"2404\" y=\"-149.3\" font-family=\"Helvetica,sans-Serif\" font-size=\"14.00\">samples = 362</text>\r\n",
       "<text text-anchor=\"start\" x=\"2387\" y=\"-134.3\" font-family=\"Helvetica,sans-Serif\" font-size=\"14.00\">value = [0, 0, 0, 362]</text>\r\n",
       "<text text-anchor=\"start\" x=\"2422.5\" y=\"-119.3\" font-family=\"Helvetica,sans-Serif\" font-size=\"14.00\">class = 4</text>\r\n",
       "</g>\r\n",
       "<!-- 24&#45;&gt;28 -->\r\n",
       "<g id=\"edge28\" class=\"edge\"><title>24&#45;&gt;28</title>\r\n",
       "<path fill=\"none\" stroke=\"black\" d=\"M2326.77,-222.907C2346.85,-210.604 2368.85,-197.131 2388.7,-184.971\"/>\r\n",
       "<polygon fill=\"black\" stroke=\"black\" points=\"2390.66,-187.875 2397.36,-179.667 2387,-181.906 2390.66,-187.875\"/>\r\n",
       "</g>\r\n",
       "<!-- 26 -->\r\n",
       "<g id=\"node27\" class=\"node\"><title>26</title>\r\n",
       "<path fill=\"#d739e5\" fill-opacity=\"0.274510\" stroke=\"black\" d=\"M2329,-68C2329,-68 2192,-68 2192,-68 2186,-68 2180,-62 2180,-56 2180,-56 2180,-12 2180,-12 2180,-6 2186,-0 2192,-0 2192,-0 2329,-0 2329,-0 2335,-0 2341,-6 2341,-12 2341,-12 2341,-56 2341,-56 2341,-62 2335,-68 2329,-68\"/>\r\n",
       "<text text-anchor=\"start\" x=\"2210.5\" y=\"-52.8\" font-family=\"Helvetica,sans-Serif\" font-size=\"14.00\">entropy = 1.112</text>\r\n",
       "<text text-anchor=\"start\" x=\"2213\" y=\"-37.8\" font-family=\"Helvetica,sans-Serif\" font-size=\"14.00\">samples = 405</text>\r\n",
       "<text text-anchor=\"start\" x=\"2188\" y=\"-22.8\" font-family=\"Helvetica,sans-Serif\" font-size=\"14.00\">value = [0, 9, 165, 231]</text>\r\n",
       "<text text-anchor=\"start\" x=\"2231.5\" y=\"-7.8\" font-family=\"Helvetica,sans-Serif\" font-size=\"14.00\">class = 4</text>\r\n",
       "</g>\r\n",
       "<!-- 25&#45;&gt;26 -->\r\n",
       "<g id=\"edge26\" class=\"edge\"><title>25&#45;&gt;26</title>\r\n",
       "<path fill=\"none\" stroke=\"black\" d=\"M2260.5,-103.726C2260.5,-95.5175 2260.5,-86.8595 2260.5,-78.56\"/>\r\n",
       "<polygon fill=\"black\" stroke=\"black\" points=\"2264,-78.2996 2260.5,-68.2996 2257,-78.2996 2264,-78.2996\"/>\r\n",
       "</g>\r\n",
       "<!-- 27 -->\r\n",
       "<g id=\"node28\" class=\"node\"><title>27</title>\r\n",
       "<path fill=\"#d739e5\" fill-opacity=\"0.776471\" stroke=\"black\" d=\"M2500,-68C2500,-68 2371,-68 2371,-68 2365,-68 2359,-62 2359,-56 2359,-56 2359,-12 2359,-12 2359,-6 2365,-0 2371,-0 2371,-0 2500,-0 2500,-0 2506,-0 2512,-6 2512,-12 2512,-12 2512,-56 2512,-56 2512,-62 2506,-68 2500,-68\"/>\r\n",
       "<text text-anchor=\"start\" x=\"2385.5\" y=\"-52.8\" font-family=\"Helvetica,sans-Serif\" font-size=\"14.00\">entropy = 0.686</text>\r\n",
       "<text text-anchor=\"start\" x=\"2388\" y=\"-37.8\" font-family=\"Helvetica,sans-Serif\" font-size=\"14.00\">samples = 405</text>\r\n",
       "<text text-anchor=\"start\" x=\"2367\" y=\"-22.8\" font-family=\"Helvetica,sans-Serif\" font-size=\"14.00\">value = [0, 0, 74, 331]</text>\r\n",
       "<text text-anchor=\"start\" x=\"2406.5\" y=\"-7.8\" font-family=\"Helvetica,sans-Serif\" font-size=\"14.00\">class = 4</text>\r\n",
       "</g>\r\n",
       "<!-- 25&#45;&gt;27 -->\r\n",
       "<g id=\"edge27\" class=\"edge\"><title>25&#45;&gt;27</title>\r\n",
       "<path fill=\"none\" stroke=\"black\" d=\"M2325.66,-103.726C2341.49,-93.8245 2358.36,-83.269 2374.01,-73.4774\"/>\r\n",
       "<polygon fill=\"black\" stroke=\"black\" points=\"2375.94,-76.3966 2382.56,-68.1252 2372.23,-70.4625 2375.94,-76.3966\"/>\r\n",
       "</g>\r\n",
       "</g>\r\n",
       "</svg>\r\n"
      ],
      "text/plain": [
       "<graphviz.files.Source at 0x2b6e7df4198>"
      ]
     },
     "execution_count": 46,
     "metadata": {},
     "output_type": "execute_result"
    }
   ],
   "source": [
    "dot_data = tree.export_graphviz(gs.best_estimator_, out_file=None, feature_names=features.columns, class_names=['1','2','3','4'],filled=True, rounded=True, special_characters=True) \n",
    "graph = graphviz.Source(dot_data)\n",
    "graph.render(\"tree\", view=True)\n",
    "graph"
   ]
  },
  {
   "cell_type": "code",
   "execution_count": 47,
   "metadata": {},
   "outputs": [
    {
     "name": "stdout",
     "output_type": "stream",
     "text": [
      "accuracy:  0.716921119593\n",
      "\n",
      "             precision    recall  f1-score   support\n",
      "\n",
      "          1       0.84      0.96      0.90       659\n",
      "          2       0.49      0.28      0.36       209\n",
      "          3       0.49      0.48      0.48       336\n",
      "          4       0.75      0.74      0.75       368\n",
      "\n",
      "avg / total       0.70      0.72      0.70      1572\n",
      "\n",
      "macro precision:  0.641137514005\n",
      "micro precision:  0.716921119593\n",
      "\n",
      "micro recall:  0.716921119593\n",
      "macro recall:  0.616643704255\n",
      "\n",
      "micro f1:  0.716921119593\n",
      "macro f1:  0.620764179785\n"
     ]
    },
    {
     "data": {
      "image/png": "[encoded data removed]",
      "text/plain": [
       "<matplotlib.figure.Figure at 0x2b6e7df4278>"
      ]
     },
     "metadata": {},
     "output_type": "display_data"
    }
   ],
   "source": [
    "print_metrics(gs.best_estimator_, featuresCV, labelsCV)"
   ]
  },
  {
   "cell_type": "markdown",
   "metadata": {},
   "source": [
    "## Gradient Boosting"
   ]
  },
  {
   "cell_type": "code",
   "execution_count": 48,
   "metadata": {
    "collapsed": true
   },
   "outputs": [],
   "source": [
    "from sklearn.ensemble import GradientBoostingClassifier"
   ]
  },
  {
   "cell_type": "code",
   "execution_count": 49,
   "metadata": {
    "collapsed": true
   },
   "outputs": [],
   "source": [
    "cls = GradientBoostingClassifier"
   ]
  },
  {
   "cell_type": "code",
   "execution_count": 50,
   "metadata": {
    "collapsed": true
   },
   "outputs": [],
   "source": [
    "params = {\n",
    "    'learning_rate': [0.12, 0.1, 0.08, 0.01, 0.2],\n",
    "    'n_estimators': [150, 100, 50],\n",
    "    'max_depth': [1, 2, 3, 4, 5],\n",
    "    'random_state': [64],\n",
    "    #'criterion': ['friedman_mse', 'mse'],\n",
    "    #'min_samples_split': [2, 5, 10, 1.0, 3.0, 5.0, 10.0] # 2\n",
    "    #'min_samples_leaf': [1,2,3,4,5,6,7,8,9,10] # 1\n",
    "}"
   ]
  },
  {
   "cell_type": "code",
   "execution_count": 51,
   "metadata": {
    "collapsed": true
   },
   "outputs": [],
   "source": [
    "gs = GridSearchCV(cls(), params, scoring='accuracy', cv=5, n_jobs=-1, error_score=0)"
   ]
  },
  {
   "cell_type": "code",
   "execution_count": 52,
   "metadata": {},
   "outputs": [
    {
     "data": {
      "text/plain": [
       "75"
      ]
     },
     "execution_count": 52,
     "metadata": {},
     "output_type": "execute_result"
    }
   ],
   "source": [
    "len(list(ParameterGrid(params)))"
   ]
  },
  {
   "cell_type": "code",
   "execution_count": 53,
   "metadata": {
    "scrolled": false
   },
   "outputs": [
    {
     "name": "stdout",
     "output_type": "stream",
     "text": [
      "Wall time: 14min 33s\n"
     ]
    },
    {
     "data": {
      "text/plain": [
       "GridSearchCV(cv=5, error_score=0,\n",
       "       estimator=GradientBoostingClassifier(criterion='friedman_mse', init=None,\n",
       "              learning_rate=0.1, loss='deviance', max_depth=3,\n",
       "              max_features=None, max_leaf_nodes=None,\n",
       "              min_impurity_decrease=0.0, min_impurity_split=None,\n",
       "              min_samples_leaf=1, min_samples_split=2,\n",
       "              min_weight_fraction_leaf=0.0, n_estimators=100,\n",
       "              presort='auto', random_state=None, subsample=1.0, verbose=0,\n",
       "              warm_start=False),\n",
       "       fit_params=None, iid=True, n_jobs=-1,\n",
       "       param_grid={'learning_rate': [0.12, 0.1, 0.08, 0.01, 0.2], 'n_estimators': [150, 100, 50], 'max_depth': [1, 2, 3, 4, 5], 'random_state': [64]},\n",
       "       pre_dispatch='2*n_jobs', refit=True, return_train_score='warn',\n",
       "       scoring='accuracy', verbose=0)"
      ]
     },
     "execution_count": 53,
     "metadata": {},
     "output_type": "execute_result"
    }
   ],
   "source": [
    "%%time\n",
    "gs.fit(features, labels)"
   ]
  },
  {
   "cell_type": "code",
   "execution_count": 54,
   "metadata": {},
   "outputs": [
    {
     "name": "stderr",
     "output_type": "stream",
     "text": [
      "C:\\Users\\Patrik\\Anaconda3\\lib\\site-packages\\sklearn\\model_selection\\_search.py:761: DeprecationWarning: The grid_scores_ attribute was deprecated in version 0.18 in favor of the more elaborate cv_results_ attribute. The grid_scores_ attribute will not be available from 0.20\n",
      "  DeprecationWarning)\n"
     ]
    },
    {
     "data": {
      "text/plain": [
       "[mean: 0.73409, std: 0.00815, params: {'learning_rate': 0.12, 'max_depth': 3, 'n_estimators': 50, 'random_state': 64},\n",
       " mean: 0.73377, std: 0.00958, params: {'learning_rate': 0.1, 'max_depth': 3, 'n_estimators': 50, 'random_state': 64},\n",
       " mean: 0.73361, std: 0.00970, params: {'learning_rate': 0.08, 'max_depth': 3, 'n_estimators': 50, 'random_state': 64},\n",
       " mean: 0.73313, std: 0.00677, params: {'learning_rate': 0.2, 'max_depth': 1, 'n_estimators': 150, 'random_state': 64},\n",
       " mean: 0.73297, std: 0.01038, params: {'learning_rate': 0.08, 'max_depth': 4, 'n_estimators': 50, 'random_state': 64},\n",
       " mean: 0.73234, std: 0.01070, params: {'learning_rate': 0.08, 'max_depth': 3, 'n_estimators': 100, 'random_state': 64},\n",
       " mean: 0.73154, std: 0.00898, params: {'learning_rate': 0.08, 'max_depth': 2, 'n_estimators': 150, 'random_state': 64},\n",
       " mean: 0.73138, std: 0.00998, params: {'learning_rate': 0.2, 'max_depth': 2, 'n_estimators': 50, 'random_state': 64},\n",
       " mean: 0.73106, std: 0.00884, params: {'learning_rate': 0.1, 'max_depth': 2, 'n_estimators': 100, 'random_state': 64},\n",
       " mean: 0.73074, std: 0.01076, params: {'learning_rate': 0.12, 'max_depth': 2, 'n_estimators': 50, 'random_state': 64},\n",
       " mean: 0.73074, std: 0.01184, params: {'learning_rate': 0.1, 'max_depth': 3, 'n_estimators': 100, 'random_state': 64},\n",
       " mean: 0.73027, std: 0.00901, params: {'learning_rate': 0.08, 'max_depth': 2, 'n_estimators': 50, 'random_state': 64},\n",
       " mean: 0.73011, std: 0.01020, params: {'learning_rate': 0.12, 'max_depth': 2, 'n_estimators': 100, 'random_state': 64},\n",
       " mean: 0.73011, std: 0.00989, params: {'learning_rate': 0.1, 'max_depth': 2, 'n_estimators': 150, 'random_state': 64},\n",
       " mean: 0.73011, std: 0.01180, params: {'learning_rate': 0.01, 'max_depth': 5, 'n_estimators': 150, 'random_state': 64},\n",
       " mean: 0.72979, std: 0.01067, params: {'learning_rate': 0.12, 'max_depth': 5, 'n_estimators': 50, 'random_state': 64},\n",
       " mean: 0.72979, std: 0.00980, params: {'learning_rate': 0.08, 'max_depth': 2, 'n_estimators': 100, 'random_state': 64},\n",
       " mean: 0.72915, std: 0.01017, params: {'learning_rate': 0.12, 'max_depth': 2, 'n_estimators': 150, 'random_state': 64},\n",
       " mean: 0.72915, std: 0.00767, params: {'learning_rate': 0.2, 'max_depth': 1, 'n_estimators': 100, 'random_state': 64},\n",
       " mean: 0.72899, std: 0.01178, params: {'learning_rate': 0.1, 'max_depth': 2, 'n_estimators': 50, 'random_state': 64},\n",
       " mean: 0.72899, std: 0.01106, params: {'learning_rate': 0.08, 'max_depth': 4, 'n_estimators': 100, 'random_state': 64},\n",
       " mean: 0.72884, std: 0.01084, params: {'learning_rate': 0.12, 'max_depth': 3, 'n_estimators': 150, 'random_state': 64},\n",
       " mean: 0.72884, std: 0.01353, params: {'learning_rate': 0.1, 'max_depth': 3, 'n_estimators': 150, 'random_state': 64},\n",
       " mean: 0.72852, std: 0.01189, params: {'learning_rate': 0.1, 'max_depth': 4, 'n_estimators': 100, 'random_state': 64},\n",
       " mean: 0.72852, std: 0.01467, params: {'learning_rate': 0.08, 'max_depth': 5, 'n_estimators': 50, 'random_state': 64},\n",
       " mean: 0.72852, std: 0.01231, params: {'learning_rate': 0.2, 'max_depth': 4, 'n_estimators': 50, 'random_state': 64},\n",
       " mean: 0.72836, std: 0.00856, params: {'learning_rate': 0.08, 'max_depth': 1, 'n_estimators': 150, 'random_state': 64},\n",
       " mean: 0.72804, std: 0.00846, params: {'learning_rate': 0.12, 'max_depth': 4, 'n_estimators': 50, 'random_state': 64},\n",
       " mean: 0.72804, std: 0.01148, params: {'learning_rate': 0.08, 'max_depth': 3, 'n_estimators': 150, 'random_state': 64},\n",
       " mean: 0.72772, std: 0.01099, params: {'learning_rate': 0.01, 'max_depth': 3, 'n_estimators': 150, 'random_state': 64},\n",
       " mean: 0.72756, std: 0.00745, params: {'learning_rate': 0.1, 'max_depth': 4, 'n_estimators': 50, 'random_state': 64},\n",
       " mean: 0.72756, std: 0.00975, params: {'learning_rate': 0.01, 'max_depth': 4, 'n_estimators': 150, 'random_state': 64},\n",
       " mean: 0.72708, std: 0.01132, params: {'learning_rate': 0.12, 'max_depth': 3, 'n_estimators': 100, 'random_state': 64},\n",
       " mean: 0.72708, std: 0.01374, params: {'learning_rate': 0.1, 'max_depth': 5, 'n_estimators': 50, 'random_state': 64},\n",
       " mean: 0.72708, std: 0.01391, params: {'learning_rate': 0.08, 'max_depth': 4, 'n_estimators': 150, 'random_state': 64},\n",
       " mean: 0.72677, std: 0.00903, params: {'learning_rate': 0.12, 'max_depth': 1, 'n_estimators': 100, 'random_state': 64},\n",
       " mean: 0.72677, std: 0.00985, params: {'learning_rate': 0.01, 'max_depth': 4, 'n_estimators': 100, 'random_state': 64},\n",
       " mean: 0.72661, std: 0.00951, params: {'learning_rate': 0.12, 'max_depth': 1, 'n_estimators': 150, 'random_state': 64},\n",
       " mean: 0.72661, std: 0.01013, params: {'learning_rate': 0.2, 'max_depth': 3, 'n_estimators': 100, 'random_state': 64},\n",
       " mean: 0.72645, std: 0.01612, params: {'learning_rate': 0.12, 'max_depth': 4, 'n_estimators': 100, 'random_state': 64},\n",
       " mean: 0.72629, std: 0.00892, params: {'learning_rate': 0.1, 'max_depth': 1, 'n_estimators': 150, 'random_state': 64},\n",
       " mean: 0.72629, std: 0.01009, params: {'learning_rate': 0.2, 'max_depth': 2, 'n_estimators': 150, 'random_state': 64},\n",
       " mean: 0.72613, std: 0.01104, params: {'learning_rate': 0.2, 'max_depth': 3, 'n_estimators': 50, 'random_state': 64},\n",
       " mean: 0.72581, std: 0.01003, params: {'learning_rate': 0.2, 'max_depth': 2, 'n_estimators': 100, 'random_state': 64},\n",
       " mean: 0.72549, std: 0.01342, params: {'learning_rate': 0.1, 'max_depth': 4, 'n_estimators': 150, 'random_state': 64},\n",
       " mean: 0.72533, std: 0.01193, params: {'learning_rate': 0.1, 'max_depth': 1, 'n_estimators': 100, 'random_state': 64},\n",
       " mean: 0.72518, std: 0.01020, params: {'learning_rate': 0.2, 'max_depth': 1, 'n_estimators': 50, 'random_state': 64},\n",
       " mean: 0.72422, std: 0.01422, params: {'learning_rate': 0.12, 'max_depth': 4, 'n_estimators': 150, 'random_state': 64},\n",
       " mean: 0.72422, std: 0.01411, params: {'learning_rate': 0.12, 'max_depth': 5, 'n_estimators': 100, 'random_state': 64},\n",
       " mean: 0.72374, std: 0.00920, params: {'learning_rate': 0.08, 'max_depth': 5, 'n_estimators': 100, 'random_state': 64}]"
      ]
     },
     "execution_count": 54,
     "metadata": {},
     "output_type": "execute_result"
    }
   ],
   "source": [
    "sorted(gs.grid_scores_, key=lambda x: x.mean_validation_score, reverse=True)[:50]"
   ]
  },
  {
   "cell_type": "code",
   "execution_count": 55,
   "metadata": {},
   "outputs": [
    {
     "name": "stdout",
     "output_type": "stream",
     "text": [
      "accuracy:  0.736005089059\n",
      "\n",
      "             precision    recall  f1-score   support\n",
      "\n",
      "          1       0.85      0.97      0.90       659\n",
      "          2       0.46      0.28      0.35       209\n",
      "          3       0.55      0.59      0.57       336\n",
      "          4       0.80      0.72      0.76       368\n",
      "\n",
      "avg / total       0.72      0.74      0.72      1572\n",
      "\n",
      "macro precision:  0.662566762243\n",
      "micro precision:  0.736005089059\n",
      "\n",
      "micro recall:  0.736005089059\n",
      "macro recall:  0.638065951282\n",
      "\n",
      "micro f1:  0.736005089059\n",
      "macro f1:  0.643096043697\n"
     ]
    },
    {
     "data": {
      "image/png": "[encoded data removed]",
      "text/plain": [
       "<matplotlib.figure.Figure at 0x2b6e7d37a20>"
      ]
     },
     "metadata": {},
     "output_type": "display_data"
    }
   ],
   "source": [
    "print_metrics(gs.best_estimator_, featuresCV, labelsCV)"
   ]
  },
  {
   "cell_type": "markdown",
   "metadata": {},
   "source": [
    "### Try balanced class"
   ]
  },
  {
   "cell_type": "code",
   "execution_count": null,
   "metadata": {
    "collapsed": true
   },
   "outputs": [],
   "source": [
    "from sklearn.utils import class_weight\n",
    "labels_weights = class_weight.compute_sample_weight('balanced', labels)"
   ]
  },
  {
   "cell_type": "code",
   "execution_count": null,
   "metadata": {},
   "outputs": [],
   "source": [
    "%%time\n",
    "gs.fit(features, labels, sample_weight=labels_weights)"
   ]
  },
  {
   "cell_type": "code",
   "execution_count": null,
   "metadata": {},
   "outputs": [],
   "source": [
    "sorted(gs.grid_scores_, key=lambda x: x.mean_validation_score, reverse=True)"
   ]
  },
  {
   "cell_type": "code",
   "execution_count": null,
   "metadata": {
    "scrolled": false
   },
   "outputs": [],
   "source": [
    "print_metrics(gs.best_estimator_, featuresCV, labelsCV)"
   ]
  },
  {
   "cell_type": "markdown",
   "metadata": {},
   "source": [
    "## KNN"
   ]
  },
  {
   "cell_type": "code",
   "execution_count": 56,
   "metadata": {
    "collapsed": true
   },
   "outputs": [],
   "source": [
    "from sklearn.neighbors import KNeighborsClassifier"
   ]
  },
  {
   "cell_type": "code",
   "execution_count": 57,
   "metadata": {
    "collapsed": true
   },
   "outputs": [],
   "source": [
    "cls = KNeighborsClassifier"
   ]
  },
  {
   "cell_type": "code",
   "execution_count": 58,
   "metadata": {
    "collapsed": true
   },
   "outputs": [],
   "source": [
    "params = {\n",
    "    'n_neighbors': [5, 10, 20, 50, 100, 200, 500, 1000],\n",
    "    'weights': ['uniform', 'distance'],\n",
    "    'algorithm': ['auto', 'ball_tree', 'kd_tree', 'brute'],\n",
    "}"
   ]
  },
  {
   "cell_type": "code",
   "execution_count": 59,
   "metadata": {
    "collapsed": true
   },
   "outputs": [],
   "source": [
    "gs = GridSearchCV(cls(), params, scoring='accuracy', cv=5, n_jobs=-1, error_score=0)"
   ]
  },
  {
   "cell_type": "code",
   "execution_count": 60,
   "metadata": {},
   "outputs": [
    {
     "data": {
      "text/plain": [
       "64"
      ]
     },
     "execution_count": 60,
     "metadata": {},
     "output_type": "execute_result"
    }
   ],
   "source": [
    "len(list(ParameterGrid(params)))"
   ]
  },
  {
   "cell_type": "code",
   "execution_count": 61,
   "metadata": {
    "scrolled": false
   },
   "outputs": [
    {
     "name": "stdout",
     "output_type": "stream",
     "text": [
      "Wall time: 3min 12s\n"
     ]
    },
    {
     "data": {
      "text/plain": [
       "GridSearchCV(cv=5, error_score=0,\n",
       "       estimator=KNeighborsClassifier(algorithm='auto', leaf_size=30, metric='minkowski',\n",
       "           metric_params=None, n_jobs=1, n_neighbors=5, p=2,\n",
       "           weights='uniform'),\n",
       "       fit_params=None, iid=True, n_jobs=-1,\n",
       "       param_grid={'n_neighbors': [5, 10, 20, 50, 100, 200, 500, 1000], 'weights': ['uniform', 'distance'], 'algorithm': ['auto', 'ball_tree', 'kd_tree', 'brute']},\n",
       "       pre_dispatch='2*n_jobs', refit=True, return_train_score='warn',\n",
       "       scoring='accuracy', verbose=0)"
      ]
     },
     "execution_count": 61,
     "metadata": {},
     "output_type": "execute_result"
    }
   ],
   "source": [
    "%%time\n",
    "gs.fit(features, labels)"
   ]
  },
  {
   "cell_type": "code",
   "execution_count": 62,
   "metadata": {},
   "outputs": [
    {
     "name": "stderr",
     "output_type": "stream",
     "text": [
      "C:\\Users\\Patrik\\Anaconda3\\lib\\site-packages\\sklearn\\model_selection\\_search.py:761: DeprecationWarning: The grid_scores_ attribute was deprecated in version 0.18 in favor of the more elaborate cv_results_ attribute. The grid_scores_ attribute will not be available from 0.20\n",
      "  DeprecationWarning)\n"
     ]
    },
    {
     "data": {
      "text/plain": [
       "[mean: 0.69096, std: 0.00989, params: {'algorithm': 'auto', 'n_neighbors': 20, 'weights': 'distance'},\n",
       " mean: 0.69096, std: 0.00989, params: {'algorithm': 'ball_tree', 'n_neighbors': 20, 'weights': 'distance'},\n",
       " mean: 0.69096, std: 0.00989, params: {'algorithm': 'kd_tree', 'n_neighbors': 20, 'weights': 'distance'},\n",
       " mean: 0.69096, std: 0.00989, params: {'algorithm': 'brute', 'n_neighbors': 20, 'weights': 'distance'},\n",
       " mean: 0.68619, std: 0.00543, params: {'algorithm': 'auto', 'n_neighbors': 50, 'weights': 'distance'},\n",
       " mean: 0.68619, std: 0.00543, params: {'algorithm': 'ball_tree', 'n_neighbors': 50, 'weights': 'distance'},\n",
       " mean: 0.68619, std: 0.00543, params: {'algorithm': 'kd_tree', 'n_neighbors': 50, 'weights': 'distance'},\n",
       " mean: 0.68619, std: 0.00543, params: {'algorithm': 'brute', 'n_neighbors': 50, 'weights': 'distance'},\n",
       " mean: 0.68316, std: 0.00687, params: {'algorithm': 'auto', 'n_neighbors': 20, 'weights': 'uniform'},\n",
       " mean: 0.68316, std: 0.00687, params: {'algorithm': 'ball_tree', 'n_neighbors': 20, 'weights': 'uniform'},\n",
       " mean: 0.68316, std: 0.00687, params: {'algorithm': 'kd_tree', 'n_neighbors': 20, 'weights': 'uniform'},\n",
       " mean: 0.68316, std: 0.00687, params: {'algorithm': 'brute', 'n_neighbors': 20, 'weights': 'uniform'},\n",
       " mean: 0.67998, std: 0.00634, params: {'algorithm': 'auto', 'n_neighbors': 50, 'weights': 'uniform'},\n",
       " mean: 0.67998, std: 0.00634, params: {'algorithm': 'ball_tree', 'n_neighbors': 50, 'weights': 'uniform'},\n",
       " mean: 0.67998, std: 0.00634, params: {'algorithm': 'kd_tree', 'n_neighbors': 50, 'weights': 'uniform'},\n",
       " mean: 0.67998, std: 0.00634, params: {'algorithm': 'brute', 'n_neighbors': 50, 'weights': 'uniform'},\n",
       " mean: 0.67950, std: 0.00822, params: {'algorithm': 'auto', 'n_neighbors': 10, 'weights': 'distance'},\n",
       " mean: 0.67950, std: 0.00822, params: {'algorithm': 'ball_tree', 'n_neighbors': 10, 'weights': 'distance'},\n",
       " mean: 0.67950, std: 0.00822, params: {'algorithm': 'kd_tree', 'n_neighbors': 10, 'weights': 'distance'},\n",
       " mean: 0.67950, std: 0.00822, params: {'algorithm': 'brute', 'n_neighbors': 10, 'weights': 'distance'},\n",
       " mean: 0.67568, std: 0.01168, params: {'algorithm': 'auto', 'n_neighbors': 10, 'weights': 'uniform'},\n",
       " mean: 0.67568, std: 0.01168, params: {'algorithm': 'ball_tree', 'n_neighbors': 10, 'weights': 'uniform'},\n",
       " mean: 0.67568, std: 0.01168, params: {'algorithm': 'kd_tree', 'n_neighbors': 10, 'weights': 'uniform'},\n",
       " mean: 0.67568, std: 0.01168, params: {'algorithm': 'brute', 'n_neighbors': 10, 'weights': 'uniform'},\n",
       " mean: 0.67298, std: 0.00508, params: {'algorithm': 'auto', 'n_neighbors': 100, 'weights': 'distance'},\n",
       " mean: 0.67298, std: 0.00508, params: {'algorithm': 'ball_tree', 'n_neighbors': 100, 'weights': 'distance'},\n",
       " mean: 0.67298, std: 0.00508, params: {'algorithm': 'kd_tree', 'n_neighbors': 100, 'weights': 'distance'},\n",
       " mean: 0.67298, std: 0.00508, params: {'algorithm': 'brute', 'n_neighbors': 100, 'weights': 'distance'},\n",
       " mean: 0.67171, std: 0.01098, params: {'algorithm': 'auto', 'n_neighbors': 5, 'weights': 'uniform'},\n",
       " mean: 0.67171, std: 0.01098, params: {'algorithm': 'ball_tree', 'n_neighbors': 5, 'weights': 'uniform'},\n",
       " mean: 0.67171, std: 0.01098, params: {'algorithm': 'kd_tree', 'n_neighbors': 5, 'weights': 'uniform'},\n",
       " mean: 0.67171, std: 0.01098, params: {'algorithm': 'brute', 'n_neighbors': 5, 'weights': 'uniform'},\n",
       " mean: 0.66645, std: 0.00876, params: {'algorithm': 'auto', 'n_neighbors': 5, 'weights': 'distance'},\n",
       " mean: 0.66645, std: 0.00876, params: {'algorithm': 'ball_tree', 'n_neighbors': 5, 'weights': 'distance'},\n",
       " mean: 0.66645, std: 0.00876, params: {'algorithm': 'kd_tree', 'n_neighbors': 5, 'weights': 'distance'},\n",
       " mean: 0.66645, std: 0.00876, params: {'algorithm': 'brute', 'n_neighbors': 5, 'weights': 'distance'},\n",
       " mean: 0.66136, std: 0.00679, params: {'algorithm': 'auto', 'n_neighbors': 100, 'weights': 'uniform'},\n",
       " mean: 0.66136, std: 0.00679, params: {'algorithm': 'ball_tree', 'n_neighbors': 100, 'weights': 'uniform'},\n",
       " mean: 0.66136, std: 0.00679, params: {'algorithm': 'kd_tree', 'n_neighbors': 100, 'weights': 'uniform'},\n",
       " mean: 0.66136, std: 0.00679, params: {'algorithm': 'brute', 'n_neighbors': 100, 'weights': 'uniform'},\n",
       " mean: 0.65898, std: 0.00646, params: {'algorithm': 'auto', 'n_neighbors': 200, 'weights': 'distance'},\n",
       " mean: 0.65898, std: 0.00646, params: {'algorithm': 'ball_tree', 'n_neighbors': 200, 'weights': 'distance'},\n",
       " mean: 0.65898, std: 0.00646, params: {'algorithm': 'kd_tree', 'n_neighbors': 200, 'weights': 'distance'},\n",
       " mean: 0.65898, std: 0.00646, params: {'algorithm': 'brute', 'n_neighbors': 200, 'weights': 'distance'},\n",
       " mean: 0.63335, std: 0.00823, params: {'algorithm': 'auto', 'n_neighbors': 200, 'weights': 'uniform'},\n",
       " mean: 0.63335, std: 0.00823, params: {'algorithm': 'ball_tree', 'n_neighbors': 200, 'weights': 'uniform'},\n",
       " mean: 0.63335, std: 0.00823, params: {'algorithm': 'kd_tree', 'n_neighbors': 200, 'weights': 'uniform'},\n",
       " mean: 0.63335, std: 0.00823, params: {'algorithm': 'brute', 'n_neighbors': 200, 'weights': 'uniform'},\n",
       " mean: 0.62540, std: 0.00846, params: {'algorithm': 'auto', 'n_neighbors': 500, 'weights': 'distance'},\n",
       " mean: 0.62540, std: 0.00846, params: {'algorithm': 'ball_tree', 'n_neighbors': 500, 'weights': 'distance'}]"
      ]
     },
     "execution_count": 62,
     "metadata": {},
     "output_type": "execute_result"
    }
   ],
   "source": [
    "sorted(gs.grid_scores_, key=lambda x: x.mean_validation_score, reverse=True)[:50]"
   ]
  },
  {
   "cell_type": "code",
   "execution_count": 63,
   "metadata": {
    "scrolled": false
   },
   "outputs": [
    {
     "name": "stdout",
     "output_type": "stream",
     "text": [
      "accuracy:  0.69465648855\n",
      "\n",
      "             precision    recall  f1-score   support\n",
      "\n",
      "          1       0.78      0.98      0.87       659\n",
      "          2       0.38      0.15      0.21       209\n",
      "          3       0.49      0.52      0.51       336\n",
      "          4       0.78      0.66      0.71       368\n",
      "\n",
      "avg / total       0.67      0.69      0.67      1572\n",
      "\n",
      "macro precision:  0.608994993525\n",
      "micro precision:  0.69465648855\n",
      "\n",
      "micro recall:  0.69465648855\n",
      "macro recall:  0.576001406899\n",
      "\n",
      "micro f1:  0.69465648855\n",
      "macro f1:  0.575377444647\n"
     ]
    },
    {
     "data": {
      "image/png": "[encoded data removed]",
      "text/plain": [
       "<matplotlib.figure.Figure at 0x2b6e7de2c88>"
      ]
     },
     "metadata": {},
     "output_type": "display_data"
    }
   ],
   "source": [
    "print_metrics(gs.best_estimator_, featuresCV, labelsCV)"
   ]
  },
  {
   "cell_type": "markdown",
   "metadata": {},
   "source": [
    "## LogisticRegression"
   ]
  },
  {
   "cell_type": "code",
   "execution_count": 64,
   "metadata": {
    "collapsed": true
   },
   "outputs": [],
   "source": [
    "from sklearn.linear_model import LogisticRegression"
   ]
  },
  {
   "cell_type": "code",
   "execution_count": 65,
   "metadata": {
    "collapsed": true
   },
   "outputs": [],
   "source": [
    "cls = LogisticRegression"
   ]
  },
  {
   "cell_type": "code",
   "execution_count": 66,
   "metadata": {
    "collapsed": true
   },
   "outputs": [],
   "source": [
    "params = {\n",
    "    'C': [0.1, 1.0, 10.0],\n",
    "    'class_weight': ['balanced', None],\n",
    "    'random_state': [64],\n",
    "    'solver': ['newton-cg', 'sag', 'saga', 'lbfgs'],\n",
    "    'multi_class': ['ovr', 'multinomial'],\n",
    "    'max_iter': [10, 50, 100, 200, 500]\n",
    "}"
   ]
  },
  {
   "cell_type": "code",
   "execution_count": 67,
   "metadata": {
    "collapsed": true
   },
   "outputs": [],
   "source": [
    "gs = GridSearchCV(cls(), params, scoring='accuracy', cv=5, n_jobs=-1, error_score=0)"
   ]
  },
  {
   "cell_type": "code",
   "execution_count": 68,
   "metadata": {},
   "outputs": [
    {
     "data": {
      "text/plain": [
       "240"
      ]
     },
     "execution_count": 68,
     "metadata": {},
     "output_type": "execute_result"
    }
   ],
   "source": [
    "len(list(ParameterGrid(params)))"
   ]
  },
  {
   "cell_type": "code",
   "execution_count": 69,
   "metadata": {
    "scrolled": false
   },
   "outputs": [
    {
     "name": "stdout",
     "output_type": "stream",
     "text": [
      "Wall time: 47min 40s\n"
     ]
    },
    {
     "name": "stderr",
     "output_type": "stream",
     "text": [
      "C:\\Users\\Patrik\\Anaconda3\\lib\\site-packages\\sklearn\\utils\\optimize.py:203: ConvergenceWarning: newton-cg failed to converge. Increase the number of iterations.\n",
      "  \"number of iterations.\", ConvergenceWarning)\n"
     ]
    },
    {
     "data": {
      "text/plain": [
       "GridSearchCV(cv=5, error_score=0,\n",
       "       estimator=LogisticRegression(C=1.0, class_weight=None, dual=False, fit_intercept=True,\n",
       "          intercept_scaling=1, max_iter=100, multi_class='ovr', n_jobs=1,\n",
       "          penalty='l2', random_state=None, solver='liblinear', tol=0.0001,\n",
       "          verbose=0, warm_start=False),\n",
       "       fit_params=None, iid=True, n_jobs=-1,\n",
       "       param_grid={'C': [0.1, 1.0, 10.0], 'class_weight': ['balanced', None], 'random_state': [64], 'solver': ['newton-cg', 'sag', 'saga', 'lbfgs'], 'multi_class': ['ovr', 'multinomial'], 'max_iter': [10, 50, 100, 200, 500]},\n",
       "       pre_dispatch='2*n_jobs', refit=True, return_train_score='warn',\n",
       "       scoring='accuracy', verbose=0)"
      ]
     },
     "execution_count": 69,
     "metadata": {},
     "output_type": "execute_result"
    }
   ],
   "source": [
    "%%time\n",
    "gs.fit(features, labels)"
   ]
  },
  {
   "cell_type": "code",
   "execution_count": 71,
   "metadata": {},
   "outputs": [
    {
     "name": "stderr",
     "output_type": "stream",
     "text": [
      "C:\\Users\\Patrik\\Anaconda3\\lib\\site-packages\\sklearn\\model_selection\\_search.py:761: DeprecationWarning: The grid_scores_ attribute was deprecated in version 0.18 in favor of the more elaborate cv_results_ attribute. The grid_scores_ attribute will not be available from 0.20\n",
      "  DeprecationWarning)\n"
     ]
    },
    {
     "data": {
      "text/plain": [
       "[mean: 0.73074, std: 0.01069, params: {'C': 0.1, 'class_weight': None, 'max_iter': 200, 'multi_class': 'multinomial', 'random_state': 64, 'solver': 'newton-cg'},\n",
       " mean: 0.73027, std: 0.01071, params: {'C': 10.0, 'class_weight': None, 'max_iter': 100, 'multi_class': 'multinomial', 'random_state': 64, 'solver': 'newton-cg'},\n",
       " mean: 0.72979, std: 0.01088, params: {'C': 0.1, 'class_weight': None, 'max_iter': 500, 'multi_class': 'multinomial', 'random_state': 64, 'solver': 'newton-cg'},\n",
       " mean: 0.72979, std: 0.01042, params: {'C': 1.0, 'class_weight': None, 'max_iter': 100, 'multi_class': 'multinomial', 'random_state': 64, 'solver': 'newton-cg'},\n",
       " mean: 0.72963, std: 0.01029, params: {'C': 0.1, 'class_weight': None, 'max_iter': 100, 'multi_class': 'multinomial', 'random_state': 64, 'solver': 'newton-cg'},\n",
       " mean: 0.72963, std: 0.01207, params: {'C': 1.0, 'class_weight': None, 'max_iter': 200, 'multi_class': 'multinomial', 'random_state': 64, 'solver': 'newton-cg'},\n",
       " mean: 0.72915, std: 0.01149, params: {'C': 10.0, 'class_weight': None, 'max_iter': 200, 'multi_class': 'multinomial', 'random_state': 64, 'solver': 'newton-cg'},\n",
       " mean: 0.72852, std: 0.01210, params: {'C': 10.0, 'class_weight': None, 'max_iter': 500, 'multi_class': 'multinomial', 'random_state': 64, 'solver': 'newton-cg'},\n",
       " mean: 0.72820, std: 0.01194, params: {'C': 1.0, 'class_weight': None, 'max_iter': 500, 'multi_class': 'multinomial', 'random_state': 64, 'solver': 'newton-cg'},\n",
       " mean: 0.72486, std: 0.01052, params: {'C': 0.1, 'class_weight': None, 'max_iter': 50, 'multi_class': 'multinomial', 'random_state': 64, 'solver': 'newton-cg'},\n",
       " mean: 0.72327, std: 0.01140, params: {'C': 1.0, 'class_weight': None, 'max_iter': 50, 'multi_class': 'multinomial', 'random_state': 64, 'solver': 'newton-cg'},\n",
       " mean: 0.72279, std: 0.01315, params: {'C': 10.0, 'class_weight': None, 'max_iter': 50, 'multi_class': 'multinomial', 'random_state': 64, 'solver': 'newton-cg'},\n",
       " mean: 0.71626, std: 0.00890, params: {'C': 10.0, 'class_weight': None, 'max_iter': 100, 'multi_class': 'ovr', 'random_state': 64, 'solver': 'newton-cg'},\n",
       " mean: 0.71499, std: 0.00916, params: {'C': 1.0, 'class_weight': None, 'max_iter': 100, 'multi_class': 'ovr', 'random_state': 64, 'solver': 'newton-cg'},\n",
       " mean: 0.71483, std: 0.00953, params: {'C': 0.1, 'class_weight': None, 'max_iter': 200, 'multi_class': 'ovr', 'random_state': 64, 'solver': 'newton-cg'},\n",
       " mean: 0.71483, std: 0.00953, params: {'C': 0.1, 'class_weight': None, 'max_iter': 500, 'multi_class': 'ovr', 'random_state': 64, 'solver': 'newton-cg'},\n",
       " mean: 0.71419, std: 0.00925, params: {'C': 0.1, 'class_weight': None, 'max_iter': 100, 'multi_class': 'ovr', 'random_state': 64, 'solver': 'newton-cg'},\n",
       " mean: 0.71419, std: 0.01083, params: {'C': 1.0, 'class_weight': None, 'max_iter': 200, 'multi_class': 'ovr', 'random_state': 64, 'solver': 'newton-cg'},\n",
       " mean: 0.71419, std: 0.01083, params: {'C': 1.0, 'class_weight': None, 'max_iter': 500, 'multi_class': 'ovr', 'random_state': 64, 'solver': 'newton-cg'},\n",
       " mean: 0.71324, std: 0.01026, params: {'C': 10.0, 'class_weight': None, 'max_iter': 200, 'multi_class': 'ovr', 'random_state': 64, 'solver': 'newton-cg'},\n",
       " mean: 0.71324, std: 0.01026, params: {'C': 10.0, 'class_weight': None, 'max_iter': 500, 'multi_class': 'ovr', 'random_state': 64, 'solver': 'newton-cg'},\n",
       " mean: 0.71133, std: 0.00241, params: {'C': 10.0, 'class_weight': 'balanced', 'max_iter': 500, 'multi_class': 'multinomial', 'random_state': 64, 'solver': 'newton-cg'},\n",
       " mean: 0.71117, std: 0.00287, params: {'C': 0.1, 'class_weight': 'balanced', 'max_iter': 100, 'multi_class': 'multinomial', 'random_state': 64, 'solver': 'newton-cg'},\n",
       " mean: 0.71117, std: 0.00261, params: {'C': 0.1, 'class_weight': 'balanced', 'max_iter': 200, 'multi_class': 'multinomial', 'random_state': 64, 'solver': 'newton-cg'},\n",
       " mean: 0.71117, std: 0.00235, params: {'C': 1.0, 'class_weight': 'balanced', 'max_iter': 500, 'multi_class': 'multinomial', 'random_state': 64, 'solver': 'newton-cg'},\n",
       " mean: 0.71101, std: 0.00503, params: {'C': 1.0, 'class_weight': 'balanced', 'max_iter': 50, 'multi_class': 'multinomial', 'random_state': 64, 'solver': 'newton-cg'},\n",
       " mean: 0.71085, std: 0.00299, params: {'C': 10.0, 'class_weight': 'balanced', 'max_iter': 200, 'multi_class': 'multinomial', 'random_state': 64, 'solver': 'newton-cg'},\n",
       " mean: 0.71069, std: 0.00259, params: {'C': 0.1, 'class_weight': 'balanced', 'max_iter': 500, 'multi_class': 'multinomial', 'random_state': 64, 'solver': 'newton-cg'},\n",
       " mean: 0.71069, std: 0.00382, params: {'C': 10.0, 'class_weight': 'balanced', 'max_iter': 100, 'multi_class': 'multinomial', 'random_state': 64, 'solver': 'newton-cg'},\n",
       " mean: 0.71053, std: 0.00305, params: {'C': 1.0, 'class_weight': 'balanced', 'max_iter': 200, 'multi_class': 'multinomial', 'random_state': 64, 'solver': 'newton-cg'},\n",
       " mean: 0.71038, std: 0.00396, params: {'C': 1.0, 'class_weight': 'balanced', 'max_iter': 100, 'multi_class': 'multinomial', 'random_state': 64, 'solver': 'newton-cg'},\n",
       " mean: 0.71038, std: 0.00580, params: {'C': 10.0, 'class_weight': 'balanced', 'max_iter': 50, 'multi_class': 'multinomial', 'random_state': 64, 'solver': 'newton-cg'},\n",
       " mean: 0.71006, std: 0.00973, params: {'C': 1.0, 'class_weight': None, 'max_iter': 500, 'multi_class': 'ovr', 'random_state': 64, 'solver': 'lbfgs'},\n",
       " mean: 0.70990, std: 0.00911, params: {'C': 0.1, 'class_weight': None, 'max_iter': 500, 'multi_class': 'ovr', 'random_state': 64, 'solver': 'lbfgs'},\n",
       " mean: 0.70974, std: 0.00542, params: {'C': 0.1, 'class_weight': 'balanced', 'max_iter': 50, 'multi_class': 'multinomial', 'random_state': 64, 'solver': 'newton-cg'},\n",
       " mean: 0.70942, std: 0.01007, params: {'C': 10.0, 'class_weight': None, 'max_iter': 500, 'multi_class': 'ovr', 'random_state': 64, 'solver': 'lbfgs'},\n",
       " mean: 0.70703, std: 0.00799, params: {'C': 1.0, 'class_weight': 'balanced', 'max_iter': 50, 'multi_class': 'ovr', 'random_state': 64, 'solver': 'newton-cg'},\n",
       " mean: 0.70687, std: 0.01074, params: {'C': 10.0, 'class_weight': None, 'max_iter': 50, 'multi_class': 'ovr', 'random_state': 64, 'solver': 'newton-cg'},\n",
       " mean: 0.70640, std: 0.01118, params: {'C': 1.0, 'class_weight': None, 'max_iter': 50, 'multi_class': 'ovr', 'random_state': 64, 'solver': 'newton-cg'},\n",
       " mean: 0.70624, std: 0.00908, params: {'C': 10.0, 'class_weight': 'balanced', 'max_iter': 50, 'multi_class': 'ovr', 'random_state': 64, 'solver': 'newton-cg'},\n",
       " mean: 0.70608, std: 0.00574, params: {'C': 0.1, 'class_weight': 'balanced', 'max_iter': 50, 'multi_class': 'ovr', 'random_state': 64, 'solver': 'newton-cg'},\n",
       " mean: 0.70560, std: 0.01081, params: {'C': 0.1, 'class_weight': None, 'max_iter': 50, 'multi_class': 'ovr', 'random_state': 64, 'solver': 'newton-cg'},\n",
       " mean: 0.70544, std: 0.00950, params: {'C': 10.0, 'class_weight': 'balanced', 'max_iter': 500, 'multi_class': 'ovr', 'random_state': 64, 'solver': 'lbfgs'},\n",
       " mean: 0.70481, std: 0.00350, params: {'C': 0.1, 'class_weight': None, 'max_iter': 200, 'multi_class': 'ovr', 'random_state': 64, 'solver': 'lbfgs'},\n",
       " mean: 0.70449, std: 0.00872, params: {'C': 1.0, 'class_weight': 'balanced', 'max_iter': 500, 'multi_class': 'ovr', 'random_state': 64, 'solver': 'lbfgs'},\n",
       " mean: 0.70449, std: 0.00557, params: {'C': 10.0, 'class_weight': None, 'max_iter': 200, 'multi_class': 'ovr', 'random_state': 64, 'solver': 'lbfgs'},\n",
       " mean: 0.70353, std: 0.00858, params: {'C': 0.1, 'class_weight': 'balanced', 'max_iter': 500, 'multi_class': 'ovr', 'random_state': 64, 'solver': 'lbfgs'},\n",
       " mean: 0.70306, std: 0.00858, params: {'C': 0.1, 'class_weight': 'balanced', 'max_iter': 500, 'multi_class': 'ovr', 'random_state': 64, 'solver': 'newton-cg'},\n",
       " mean: 0.70290, std: 0.00835, params: {'C': 0.1, 'class_weight': 'balanced', 'max_iter': 100, 'multi_class': 'ovr', 'random_state': 64, 'solver': 'newton-cg'},\n",
       " mean: 0.70290, std: 0.00855, params: {'C': 1.0, 'class_weight': 'balanced', 'max_iter': 100, 'multi_class': 'ovr', 'random_state': 64, 'solver': 'newton-cg'}]"
      ]
     },
     "execution_count": 71,
     "metadata": {},
     "output_type": "execute_result"
    }
   ],
   "source": [
    "sorted(gs.grid_scores_, key=lambda x: x.mean_validation_score, reverse=True)[:50]"
   ]
  },
  {
   "cell_type": "code",
   "execution_count": 72,
   "metadata": {},
   "outputs": [
    {
     "name": "stdout",
     "output_type": "stream",
     "text": [
      "accuracy:  0.732824427481\n",
      "\n",
      "             precision    recall  f1-score   support\n",
      "\n",
      "          1       0.84      0.97      0.90       659\n",
      "          2       0.48      0.30      0.37       209\n",
      "          3       0.53      0.59      0.56       336\n",
      "          4       0.81      0.68      0.74       368\n",
      "\n",
      "avg / total       0.72      0.73      0.72      1572\n",
      "\n",
      "macro precision:  0.667084742825\n",
      "micro precision:  0.732824427481\n",
      "\n",
      "micro recall:  0.732824427481\n",
      "macro recall:  0.635836554376\n",
      "\n",
      "micro f1:  0.732824427481\n",
      "macro f1:  0.642975240587\n"
     ]
    },
    {
     "data": {
      "image/png": "[encoded data removed]",
      "text/plain": [
       "<matplotlib.figure.Figure at 0x2b6e77d0a90>"
      ]
     },
     "metadata": {},
     "output_type": "display_data"
    }
   ],
   "source": [
    "print_metrics(gs.best_estimator_, featuresCV, labelsCV)"
   ]
  },
  {
   "cell_type": "code",
   "execution_count": null,
   "metadata": {
    "collapsed": true
   },
   "outputs": [],
   "source": []
  },
  {
   "cell_type": "code",
   "execution_count": 73,
   "metadata": {},
   "outputs": [
    {
     "data": {
      "text/html": [
       "<div>\n",
       "<style>\n",
       "    .dataframe thead tr:only-child th {\n",
       "        text-align: right;\n",
       "    }\n",
       "\n",
       "    .dataframe thead th {\n",
       "        text-align: left;\n",
       "    }\n",
       "\n",
       "    .dataframe tbody tr th {\n",
       "        vertical-align: top;\n",
       "    }\n",
       "</style>\n",
       "<table border=\"1\" class=\"dataframe\">\n",
       "  <thead>\n",
       "    <tr style=\"text-align: right;\">\n",
       "      <th></th>\n",
       "      <th>Algoritmus</th>\n",
       "      <th>F1_makro</th>\n",
       "      <th>P_0</th>\n",
       "      <th>P_1</th>\n",
       "      <th>P_2</th>\n",
       "      <th>P_3</th>\n",
       "      <th>S</th>\n",
       "      <th>Transformácia</th>\n",
       "      <th>Ú_0</th>\n",
       "      <th>Ú_1</th>\n",
       "      <th>Ú_2</th>\n",
       "      <th>Ú_3</th>\n",
       "    </tr>\n",
       "  </thead>\n",
       "  <tbody>\n",
       "    <tr>\n",
       "      <th>0</th>\n",
       "      <td>DecisionTreeClassifier</td>\n",
       "      <td>0.62</td>\n",
       "      <td>0.84</td>\n",
       "      <td>0.49</td>\n",
       "      <td>0.49</td>\n",
       "      <td>0.75</td>\n",
       "      <td>0.72</td>\n",
       "      <td>nie</td>\n",
       "      <td>0.96</td>\n",
       "      <td>0.28</td>\n",
       "      <td>0.48</td>\n",
       "      <td>0.74</td>\n",
       "    </tr>\n",
       "    <tr>\n",
       "      <th>1</th>\n",
       "      <td>GradientBoostingClassifier</td>\n",
       "      <td>0.64</td>\n",
       "      <td>0.85</td>\n",
       "      <td>0.46</td>\n",
       "      <td>0.55</td>\n",
       "      <td>0.80</td>\n",
       "      <td>0.74</td>\n",
       "      <td>nie</td>\n",
       "      <td>0.97</td>\n",
       "      <td>0.28</td>\n",
       "      <td>0.59</td>\n",
       "      <td>0.72</td>\n",
       "    </tr>\n",
       "    <tr>\n",
       "      <th>2</th>\n",
       "      <td>KNeighborsClassifier</td>\n",
       "      <td>0.58</td>\n",
       "      <td>0.78</td>\n",
       "      <td>0.38</td>\n",
       "      <td>0.49</td>\n",
       "      <td>0.78</td>\n",
       "      <td>0.69</td>\n",
       "      <td>nie</td>\n",
       "      <td>0.98</td>\n",
       "      <td>0.15</td>\n",
       "      <td>0.52</td>\n",
       "      <td>0.66</td>\n",
       "    </tr>\n",
       "    <tr>\n",
       "      <th>3</th>\n",
       "      <td>LogisticRegression</td>\n",
       "      <td>0.64</td>\n",
       "      <td>0.84</td>\n",
       "      <td>0.48</td>\n",
       "      <td>0.53</td>\n",
       "      <td>0.81</td>\n",
       "      <td>0.73</td>\n",
       "      <td>nie</td>\n",
       "      <td>0.97</td>\n",
       "      <td>0.30</td>\n",
       "      <td>0.59</td>\n",
       "      <td>0.68</td>\n",
       "    </tr>\n",
       "  </tbody>\n",
       "</table>\n",
       "</div>"
      ],
      "text/plain": [
       "                   Algoritmus  F1_makro   P_0   P_1   P_2   P_3     S  \\\n",
       "0      DecisionTreeClassifier      0.62  0.84  0.49  0.49  0.75  0.72   \n",
       "1  GradientBoostingClassifier      0.64  0.85  0.46  0.55  0.80  0.74   \n",
       "2        KNeighborsClassifier      0.58  0.78  0.38  0.49  0.78  0.69   \n",
       "3          LogisticRegression      0.64  0.84  0.48  0.53  0.81  0.73   \n",
       "\n",
       "  Transformácia   Ú_0   Ú_1   Ú_2   Ú_3  \n",
       "0           nie  0.96  0.28  0.48  0.74  \n",
       "1           nie  0.97  0.28  0.59  0.72  \n",
       "2           nie  0.98  0.15  0.52  0.66  \n",
       "3           nie  0.97  0.30  0.59  0.68  "
      ]
     },
     "execution_count": 73,
     "metadata": {},
     "output_type": "execute_result"
    }
   ],
   "source": [
    "df_results"
   ]
  },
  {
   "cell_type": "markdown",
   "metadata": {},
   "source": [
    "# Transformed features (Robust Scaler + Box-Cox)"
   ]
  },
  {
   "cell_type": "code",
   "execution_count": 74,
   "metadata": {
    "collapsed": true
   },
   "outputs": [],
   "source": [
    "transformed = True"
   ]
  },
  {
   "cell_type": "code",
   "execution_count": 75,
   "metadata": {},
   "outputs": [
    {
     "data": {
      "text/plain": [
       "(6284, 41)"
      ]
     },
     "execution_count": 75,
     "metadata": {},
     "output_type": "execute_result"
    }
   ],
   "source": [
    "features = pd.read_csv('data/split/transformed/train.csv', index_col=0)\n",
    "df = pd.read_csv('data/split/transformed/test.csv', index_col=0)\n",
    "features = features.append(df, ignore_index=True)\n",
    "\n",
    "features = features[features['ratio_running_duration_original'] < 25]\n",
    "features.drop('ratio_running_duration_original', axis=1, inplace=True)\n",
    "\n",
    "labels = features['class']\n",
    "features = features.drop('class', axis=1)\n",
    "\n",
    "features.shape"
   ]
  },
  {
   "cell_type": "code",
   "execution_count": 76,
   "metadata": {},
   "outputs": [
    {
     "data": {
      "text/plain": [
       "(1572, 41)"
      ]
     },
     "execution_count": 76,
     "metadata": {},
     "output_type": "execute_result"
    }
   ],
   "source": [
    "featuresCV = pd.read_csv('data/split/transformed/cv.csv', index_col=0)\n",
    "\n",
    "featuresCV = featuresCV[featuresCV['ratio_running_duration_original'] < 25]\n",
    "featuresCV.drop('ratio_running_duration_original', axis=1, inplace=True)\n",
    "\n",
    "labelsCV = featuresCV['class']\n",
    "featuresCV = featuresCV.drop('class', axis=1)\n",
    "\n",
    "featuresCV.shape"
   ]
  },
  {
   "cell_type": "markdown",
   "metadata": {},
   "source": [
    "## Gradient Boosting"
   ]
  },
  {
   "cell_type": "code",
   "execution_count": 77,
   "metadata": {
    "collapsed": true
   },
   "outputs": [],
   "source": [
    "from sklearn.ensemble import GradientBoostingClassifier"
   ]
  },
  {
   "cell_type": "code",
   "execution_count": 78,
   "metadata": {
    "collapsed": true
   },
   "outputs": [],
   "source": [
    "cls = GradientBoostingClassifier"
   ]
  },
  {
   "cell_type": "code",
   "execution_count": 79,
   "metadata": {
    "collapsed": true
   },
   "outputs": [],
   "source": [
    "params = {\n",
    "    'learning_rate': [0.12, 0.1, 0.08, 0.01, 0.2],\n",
    "    'n_estimators': [150, 100, 50],\n",
    "    'max_depth': [1, 2, 3, 4, 5],\n",
    "    'random_state': [64],\n",
    "    #'criterion': ['friedman_mse', 'mse'],\n",
    "    #'min_samples_split': [2, 5, 10, 1.0, 3.0, 5.0, 10.0] # 2\n",
    "    #'min_samples_leaf': [1,2,3,4,5,6,7,8,9,10] # 1\n",
    "}"
   ]
  },
  {
   "cell_type": "code",
   "execution_count": 80,
   "metadata": {
    "collapsed": true
   },
   "outputs": [],
   "source": [
    "gs = GridSearchCV(cls(), params, scoring='accuracy', cv=5, n_jobs=-1, error_score=0)"
   ]
  },
  {
   "cell_type": "code",
   "execution_count": 81,
   "metadata": {},
   "outputs": [
    {
     "data": {
      "text/plain": [
       "75"
      ]
     },
     "execution_count": 81,
     "metadata": {},
     "output_type": "execute_result"
    }
   ],
   "source": [
    "len(list(ParameterGrid(params)))"
   ]
  },
  {
   "cell_type": "code",
   "execution_count": 82,
   "metadata": {
    "scrolled": false
   },
   "outputs": [
    {
     "name": "stdout",
     "output_type": "stream",
     "text": [
      "Wall time: 13min 32s\n"
     ]
    },
    {
     "data": {
      "text/plain": [
       "GridSearchCV(cv=5, error_score=0,\n",
       "       estimator=GradientBoostingClassifier(criterion='friedman_mse', init=None,\n",
       "              learning_rate=0.1, loss='deviance', max_depth=3,\n",
       "              max_features=None, max_leaf_nodes=None,\n",
       "              min_impurity_decrease=0.0, min_impurity_split=None,\n",
       "              min_samples_leaf=1, min_samples_split=2,\n",
       "              min_weight_fraction_leaf=0.0, n_estimators=100,\n",
       "              presort='auto', random_state=None, subsample=1.0, verbose=0,\n",
       "              warm_start=False),\n",
       "       fit_params=None, iid=True, n_jobs=-1,\n",
       "       param_grid={'learning_rate': [0.12, 0.1, 0.08, 0.01, 0.2], 'n_estimators': [150, 100, 50], 'max_depth': [1, 2, 3, 4, 5], 'random_state': [64]},\n",
       "       pre_dispatch='2*n_jobs', refit=True, return_train_score='warn',\n",
       "       scoring='accuracy', verbose=0)"
      ]
     },
     "execution_count": 82,
     "metadata": {},
     "output_type": "execute_result"
    }
   ],
   "source": [
    "%%time\n",
    "gs.fit(features, labels)"
   ]
  },
  {
   "cell_type": "code",
   "execution_count": 83,
   "metadata": {},
   "outputs": [
    {
     "name": "stderr",
     "output_type": "stream",
     "text": [
      "C:\\Users\\Patrik\\Anaconda3\\lib\\site-packages\\sklearn\\model_selection\\_search.py:761: DeprecationWarning: The grid_scores_ attribute was deprecated in version 0.18 in favor of the more elaborate cv_results_ attribute. The grid_scores_ attribute will not be available from 0.20\n",
      "  DeprecationWarning)\n"
     ]
    },
    {
     "data": {
      "text/plain": [
       "[mean: 0.73313, std: 0.00917, params: {'learning_rate': 0.12, 'max_depth': 3, 'n_estimators': 50, 'random_state': 64},\n",
       " mean: 0.73281, std: 0.00959, params: {'learning_rate': 0.1, 'max_depth': 3, 'n_estimators': 50, 'random_state': 64},\n",
       " mean: 0.73250, std: 0.01024, params: {'learning_rate': 0.08, 'max_depth': 3, 'n_estimators': 50, 'random_state': 64},\n",
       " mean: 0.73186, std: 0.01103, params: {'learning_rate': 0.08, 'max_depth': 4, 'n_estimators': 100, 'random_state': 64},\n",
       " mean: 0.73186, std: 0.01288, params: {'learning_rate': 0.08, 'max_depth': 5, 'n_estimators': 50, 'random_state': 64},\n",
       " mean: 0.73138, std: 0.01147, params: {'learning_rate': 0.1, 'max_depth': 4, 'n_estimators': 50, 'random_state': 64},\n",
       " mean: 0.73138, std: 0.00952, params: {'learning_rate': 0.2, 'max_depth': 3, 'n_estimators': 50, 'random_state': 64},\n",
       " mean: 0.73106, std: 0.01064, params: {'learning_rate': 0.08, 'max_depth': 4, 'n_estimators': 50, 'random_state': 64},\n",
       " mean: 0.73106, std: 0.00706, params: {'learning_rate': 0.2, 'max_depth': 1, 'n_estimators': 150, 'random_state': 64},\n",
       " mean: 0.73074, std: 0.00971, params: {'learning_rate': 0.12, 'max_depth': 2, 'n_estimators': 50, 'random_state': 64},\n",
       " mean: 0.73074, std: 0.00912, params: {'learning_rate': 0.1, 'max_depth': 2, 'n_estimators': 50, 'random_state': 64},\n",
       " mean: 0.73043, std: 0.01247, params: {'learning_rate': 0.08, 'max_depth': 5, 'n_estimators': 100, 'random_state': 64},\n",
       " mean: 0.73027, std: 0.00840, params: {'learning_rate': 0.12, 'max_depth': 2, 'n_estimators': 100, 'random_state': 64},\n",
       " mean: 0.72979, std: 0.00860, params: {'learning_rate': 0.2, 'max_depth': 2, 'n_estimators': 50, 'random_state': 64},\n",
       " mean: 0.72915, std: 0.00948, params: {'learning_rate': 0.1, 'max_depth': 2, 'n_estimators': 100, 'random_state': 64},\n",
       " mean: 0.72899, std: 0.01032, params: {'learning_rate': 0.08, 'max_depth': 2, 'n_estimators': 100, 'random_state': 64},\n",
       " mean: 0.72868, std: 0.00825, params: {'learning_rate': 0.08, 'max_depth': 3, 'n_estimators': 100, 'random_state': 64},\n",
       " mean: 0.72868, std: 0.00942, params: {'learning_rate': 0.01, 'max_depth': 4, 'n_estimators': 150, 'random_state': 64},\n",
       " mean: 0.72772, std: 0.01303, params: {'learning_rate': 0.1, 'max_depth': 4, 'n_estimators': 100, 'random_state': 64},\n",
       " mean: 0.72772, std: 0.00677, params: {'learning_rate': 0.2, 'max_depth': 1, 'n_estimators': 100, 'random_state': 64},\n",
       " mean: 0.72756, std: 0.01166, params: {'learning_rate': 0.08, 'max_depth': 2, 'n_estimators': 150, 'random_state': 64},\n",
       " mean: 0.72740, std: 0.00827, params: {'learning_rate': 0.12, 'max_depth': 1, 'n_estimators': 150, 'random_state': 64},\n",
       " mean: 0.72740, std: 0.00943, params: {'learning_rate': 0.12, 'max_depth': 4, 'n_estimators': 50, 'random_state': 64},\n",
       " mean: 0.72740, std: 0.00786, params: {'learning_rate': 0.08, 'max_depth': 2, 'n_estimators': 50, 'random_state': 64},\n",
       " mean: 0.72740, std: 0.01345, params: {'learning_rate': 0.08, 'max_depth': 4, 'n_estimators': 150, 'random_state': 64},\n",
       " mean: 0.72724, std: 0.00782, params: {'learning_rate': 0.12, 'max_depth': 1, 'n_estimators': 100, 'random_state': 64},\n",
       " mean: 0.72708, std: 0.00825, params: {'learning_rate': 0.08, 'max_depth': 1, 'n_estimators': 150, 'random_state': 64},\n",
       " mean: 0.72693, std: 0.00807, params: {'learning_rate': 0.1, 'max_depth': 1, 'n_estimators': 150, 'random_state': 64},\n",
       " mean: 0.72693, std: 0.01445, params: {'learning_rate': 0.01, 'max_depth': 5, 'n_estimators': 150, 'random_state': 64},\n",
       " mean: 0.72693, std: 0.01175, params: {'learning_rate': 0.2, 'max_depth': 2, 'n_estimators': 100, 'random_state': 64},\n",
       " mean: 0.72677, std: 0.00916, params: {'learning_rate': 0.1, 'max_depth': 2, 'n_estimators': 150, 'random_state': 64},\n",
       " mean: 0.72677, std: 0.01228, params: {'learning_rate': 0.1, 'max_depth': 3, 'n_estimators': 100, 'random_state': 64},\n",
       " mean: 0.72677, std: 0.01293, params: {'learning_rate': 0.1, 'max_depth': 5, 'n_estimators': 50, 'random_state': 64},\n",
       " mean: 0.72677, std: 0.01341, params: {'learning_rate': 0.08, 'max_depth': 5, 'n_estimators': 150, 'random_state': 64},\n",
       " mean: 0.72629, std: 0.00862, params: {'learning_rate': 0.12, 'max_depth': 2, 'n_estimators': 150, 'random_state': 64},\n",
       " mean: 0.72629, std: 0.00980, params: {'learning_rate': 0.01, 'max_depth': 3, 'n_estimators': 150, 'random_state': 64},\n",
       " mean: 0.72613, std: 0.01325, params: {'learning_rate': 0.12, 'max_depth': 5, 'n_estimators': 50, 'random_state': 64},\n",
       " mean: 0.72613, std: 0.01423, params: {'learning_rate': 0.1, 'max_depth': 4, 'n_estimators': 150, 'random_state': 64},\n",
       " mean: 0.72597, std: 0.00860, params: {'learning_rate': 0.01, 'max_depth': 4, 'n_estimators': 100, 'random_state': 64},\n",
       " mean: 0.72597, std: 0.01122, params: {'learning_rate': 0.2, 'max_depth': 3, 'n_estimators': 150, 'random_state': 64},\n",
       " mean: 0.72597, std: 0.01000, params: {'learning_rate': 0.2, 'max_depth': 3, 'n_estimators': 100, 'random_state': 64},\n",
       " mean: 0.72581, std: 0.01297, params: {'learning_rate': 0.12, 'max_depth': 3, 'n_estimators': 100, 'random_state': 64},\n",
       " mean: 0.72565, std: 0.01078, params: {'learning_rate': 0.12, 'max_depth': 5, 'n_estimators': 150, 'random_state': 64},\n",
       " mean: 0.72565, std: 0.01182, params: {'learning_rate': 0.08, 'max_depth': 3, 'n_estimators': 150, 'random_state': 64},\n",
       " mean: 0.72549, std: 0.00913, params: {'learning_rate': 0.2, 'max_depth': 1, 'n_estimators': 50, 'random_state': 64},\n",
       " mean: 0.72518, std: 0.01135, params: {'learning_rate': 0.2, 'max_depth': 2, 'n_estimators': 150, 'random_state': 64},\n",
       " mean: 0.72502, std: 0.01333, params: {'learning_rate': 0.12, 'max_depth': 5, 'n_estimators': 100, 'random_state': 64},\n",
       " mean: 0.72470, std: 0.01434, params: {'learning_rate': 0.12, 'max_depth': 3, 'n_estimators': 150, 'random_state': 64},\n",
       " mean: 0.72470, std: 0.01100, params: {'learning_rate': 0.1, 'max_depth': 1, 'n_estimators': 100, 'random_state': 64},\n",
       " mean: 0.72390, std: 0.01531, params: {'learning_rate': 0.01, 'max_depth': 5, 'n_estimators': 100, 'random_state': 64}]"
      ]
     },
     "execution_count": 83,
     "metadata": {},
     "output_type": "execute_result"
    }
   ],
   "source": [
    "sorted(gs.grid_scores_, key=lambda x: x.mean_validation_score, reverse=True)[:50]"
   ]
  },
  {
   "cell_type": "code",
   "execution_count": 84,
   "metadata": {},
   "outputs": [
    {
     "name": "stdout",
     "output_type": "stream",
     "text": [
      "accuracy:  0.736005089059\n",
      "\n",
      "             precision    recall  f1-score   support\n",
      "\n",
      "          1       0.85      0.96      0.90       659\n",
      "          2       0.43      0.27      0.33       209\n",
      "          3       0.54      0.60      0.57       336\n",
      "          4       0.82      0.72      0.77       368\n",
      "\n",
      "avg / total       0.72      0.74      0.72      1572\n",
      "\n",
      "macro precision:  0.660769321913\n",
      "micro precision:  0.736005089059\n",
      "\n",
      "micro recall:  0.736005089059\n",
      "macro recall:  0.637761672333\n",
      "\n",
      "micro f1:  0.736005089059\n",
      "macro f1:  0.642371662294\n"
     ]
    },
    {
     "data": {
      "image/png": "[encoded data removed]",
      "text/plain": [
       "<matplotlib.figure.Figure at 0x2b6e7c9b7b8>"
      ]
     },
     "metadata": {},
     "output_type": "display_data"
    }
   ],
   "source": [
    "print_metrics(gs.best_estimator_, featuresCV, labelsCV)"
   ]
  },
  {
   "cell_type": "code",
   "execution_count": null,
   "metadata": {
    "collapsed": true
   },
   "outputs": [],
   "source": []
  },
  {
   "cell_type": "markdown",
   "metadata": {},
   "source": [
    "## LogisticRegression"
   ]
  },
  {
   "cell_type": "code",
   "execution_count": 85,
   "metadata": {
    "collapsed": true
   },
   "outputs": [],
   "source": [
    "from sklearn.linear_model import LogisticRegression"
   ]
  },
  {
   "cell_type": "code",
   "execution_count": 86,
   "metadata": {
    "collapsed": true
   },
   "outputs": [],
   "source": [
    "cls = LogisticRegression"
   ]
  },
  {
   "cell_type": "code",
   "execution_count": 87,
   "metadata": {
    "collapsed": true
   },
   "outputs": [],
   "source": [
    "params = {\n",
    "    'C': [0.1, 1.0, 10.0],\n",
    "    #'class_weight': ['balanced', None],\n",
    "    'random_state': [64],\n",
    "    'solver': ['newton-cg'], #, 'sag', 'saga', 'lbfgs'\n",
    "    'multi_class': ['multinomial'], #'ovr', \n",
    "    'max_iter': [10, 50, 100, 200, 500]\n",
    "}"
   ]
  },
  {
   "cell_type": "code",
   "execution_count": 88,
   "metadata": {
    "collapsed": true
   },
   "outputs": [],
   "source": [
    "gs = GridSearchCV(cls(), params, scoring='accuracy', cv=5, n_jobs=-1, error_score=0)"
   ]
  },
  {
   "cell_type": "code",
   "execution_count": 89,
   "metadata": {},
   "outputs": [
    {
     "data": {
      "text/plain": [
       "15"
      ]
     },
     "execution_count": 89,
     "metadata": {},
     "output_type": "execute_result"
    }
   ],
   "source": [
    "len(list(ParameterGrid(params)))"
   ]
  },
  {
   "cell_type": "code",
   "execution_count": 90,
   "metadata": {
    "scrolled": false
   },
   "outputs": [
    {
     "name": "stdout",
     "output_type": "stream",
     "text": [
      "Wall time: 33.9 s\n"
     ]
    },
    {
     "data": {
      "text/plain": [
       "GridSearchCV(cv=5, error_score=0,\n",
       "       estimator=LogisticRegression(C=1.0, class_weight=None, dual=False, fit_intercept=True,\n",
       "          intercept_scaling=1, max_iter=100, multi_class='ovr', n_jobs=1,\n",
       "          penalty='l2', random_state=None, solver='liblinear', tol=0.0001,\n",
       "          verbose=0, warm_start=False),\n",
       "       fit_params=None, iid=True, n_jobs=-1,\n",
       "       param_grid={'C': [0.1, 1.0, 10.0], 'random_state': [64], 'solver': ['newton-cg'], 'multi_class': ['multinomial'], 'max_iter': [10, 50, 100, 200, 500]},\n",
       "       pre_dispatch='2*n_jobs', refit=True, return_train_score='warn',\n",
       "       scoring='accuracy', verbose=0)"
      ]
     },
     "execution_count": 90,
     "metadata": {},
     "output_type": "execute_result"
    }
   ],
   "source": [
    "%%time\n",
    "gs.fit(features, labels)"
   ]
  },
  {
   "cell_type": "code",
   "execution_count": 91,
   "metadata": {},
   "outputs": [
    {
     "name": "stderr",
     "output_type": "stream",
     "text": [
      "C:\\Users\\Patrik\\Anaconda3\\lib\\site-packages\\sklearn\\model_selection\\_search.py:761: DeprecationWarning: The grid_scores_ attribute was deprecated in version 0.18 in favor of the more elaborate cv_results_ attribute. The grid_scores_ attribute will not be available from 0.20\n",
      "  DeprecationWarning)\n"
     ]
    },
    {
     "data": {
      "text/plain": [
       "[mean: 0.72613, std: 0.01281, params: {'C': 10.0, 'max_iter': 50, 'multi_class': 'multinomial', 'random_state': 64, 'solver': 'newton-cg'},\n",
       " mean: 0.72613, std: 0.01281, params: {'C': 10.0, 'max_iter': 100, 'multi_class': 'multinomial', 'random_state': 64, 'solver': 'newton-cg'},\n",
       " mean: 0.72613, std: 0.01281, params: {'C': 10.0, 'max_iter': 200, 'multi_class': 'multinomial', 'random_state': 64, 'solver': 'newton-cg'},\n",
       " mean: 0.72613, std: 0.01281, params: {'C': 10.0, 'max_iter': 500, 'multi_class': 'multinomial', 'random_state': 64, 'solver': 'newton-cg'},\n",
       " mean: 0.72406, std: 0.01385, params: {'C': 1.0, 'max_iter': 50, 'multi_class': 'multinomial', 'random_state': 64, 'solver': 'newton-cg'},\n",
       " mean: 0.72406, std: 0.01385, params: {'C': 1.0, 'max_iter': 100, 'multi_class': 'multinomial', 'random_state': 64, 'solver': 'newton-cg'},\n",
       " mean: 0.72406, std: 0.01385, params: {'C': 1.0, 'max_iter': 200, 'multi_class': 'multinomial', 'random_state': 64, 'solver': 'newton-cg'},\n",
       " mean: 0.72406, std: 0.01385, params: {'C': 1.0, 'max_iter': 500, 'multi_class': 'multinomial', 'random_state': 64, 'solver': 'newton-cg'},\n",
       " mean: 0.72215, std: 0.01103, params: {'C': 1.0, 'max_iter': 10, 'multi_class': 'multinomial', 'random_state': 64, 'solver': 'newton-cg'},\n",
       " mean: 0.72104, std: 0.01524, params: {'C': 10.0, 'max_iter': 10, 'multi_class': 'multinomial', 'random_state': 64, 'solver': 'newton-cg'},\n",
       " mean: 0.70624, std: 0.01332, params: {'C': 0.1, 'max_iter': 10, 'multi_class': 'multinomial', 'random_state': 64, 'solver': 'newton-cg'},\n",
       " mean: 0.70560, std: 0.01276, params: {'C': 0.1, 'max_iter': 50, 'multi_class': 'multinomial', 'random_state': 64, 'solver': 'newton-cg'},\n",
       " mean: 0.70560, std: 0.01276, params: {'C': 0.1, 'max_iter': 100, 'multi_class': 'multinomial', 'random_state': 64, 'solver': 'newton-cg'},\n",
       " mean: 0.70560, std: 0.01276, params: {'C': 0.1, 'max_iter': 200, 'multi_class': 'multinomial', 'random_state': 64, 'solver': 'newton-cg'},\n",
       " mean: 0.70560, std: 0.01276, params: {'C': 0.1, 'max_iter': 500, 'multi_class': 'multinomial', 'random_state': 64, 'solver': 'newton-cg'}]"
      ]
     },
     "execution_count": 91,
     "metadata": {},
     "output_type": "execute_result"
    }
   ],
   "source": [
    "sorted(gs.grid_scores_, key=lambda x: x.mean_validation_score, reverse=True)[:50]"
   ]
  },
  {
   "cell_type": "code",
   "execution_count": 92,
   "metadata": {},
   "outputs": [
    {
     "name": "stdout",
     "output_type": "stream",
     "text": [
      "accuracy:  0.721374045802\n",
      "\n",
      "             precision    recall  f1-score   support\n",
      "\n",
      "          1       0.85      0.95      0.90       659\n",
      "          2       0.41      0.23      0.30       209\n",
      "          3       0.52      0.56      0.54       336\n",
      "          4       0.77      0.74      0.75       368\n",
      "\n",
      "avg / total       0.70      0.72      0.71      1572\n",
      "\n",
      "macro precision:  0.635520699035\n",
      "micro precision:  0.721374045802\n",
      "\n",
      "micro recall:  0.721374045802\n",
      "macro recall:  0.61971300036\n",
      "\n",
      "micro f1:  0.721374045802\n",
      "macro f1:  0.620796129166\n"
     ]
    },
    {
     "data": {
      "image/png": "[encoded data removed]",
      "text/plain": [
       "<matplotlib.figure.Figure at 0x2b6e7cca9e8>"
      ]
     },
     "metadata": {},
     "output_type": "display_data"
    }
   ],
   "source": [
    "print_metrics(gs.best_estimator_, featuresCV, labelsCV)"
   ]
  },
  {
   "cell_type": "markdown",
   "metadata": {},
   "source": [
    "## LDA"
   ]
  },
  {
   "cell_type": "code",
   "execution_count": 93,
   "metadata": {
    "collapsed": true
   },
   "outputs": [],
   "source": [
    "from sklearn.discriminant_analysis import LinearDiscriminantAnalysis"
   ]
  },
  {
   "cell_type": "code",
   "execution_count": 94,
   "metadata": {
    "collapsed": true
   },
   "outputs": [],
   "source": [
    "cls = LinearDiscriminantAnalysis"
   ]
  },
  {
   "cell_type": "code",
   "execution_count": 95,
   "metadata": {
    "collapsed": true
   },
   "outputs": [],
   "source": [
    "params = {\n",
    "    'solver': ['svd', 'lsqr', 'eigen'],\n",
    "    'shrinkage': [None, 'auto', 0.0001, 0.001, 0.01],\n",
    "    'tol': [1e-4, 1e-3, 1e-1, 1e-10]\n",
    "}"
   ]
  },
  {
   "cell_type": "code",
   "execution_count": 96,
   "metadata": {},
   "outputs": [
    {
     "data": {
      "text/plain": [
       "60"
      ]
     },
     "execution_count": 96,
     "metadata": {},
     "output_type": "execute_result"
    }
   ],
   "source": [
    "gs = GridSearchCV(cls(), params, scoring='accuracy', cv=5, n_jobs=-1, error_score=0)\n",
    "len(list(ParameterGrid(params)))"
   ]
  },
  {
   "cell_type": "code",
   "execution_count": 97,
   "metadata": {},
   "outputs": [
    {
     "name": "stdout",
     "output_type": "stream",
     "text": [
      "Wall time: 9.72 s\n"
     ]
    },
    {
     "data": {
      "text/plain": [
       "GridSearchCV(cv=5, error_score=0,\n",
       "       estimator=LinearDiscriminantAnalysis(n_components=None, priors=None, shrinkage=None,\n",
       "              solver='svd', store_covariance=False, tol=0.0001),\n",
       "       fit_params=None, iid=True, n_jobs=-1,\n",
       "       param_grid={'solver': ['svd', 'lsqr', 'eigen'], 'shrinkage': [None, 'auto', 0.0001, 0.001, 0.01], 'tol': [0.0001, 0.001, 0.1, 1e-10]},\n",
       "       pre_dispatch='2*n_jobs', refit=True, return_train_score='warn',\n",
       "       scoring='accuracy', verbose=0)"
      ]
     },
     "execution_count": 97,
     "metadata": {},
     "output_type": "execute_result"
    }
   ],
   "source": [
    "%%time\n",
    "gs.fit(features, labels)"
   ]
  },
  {
   "cell_type": "code",
   "execution_count": 98,
   "metadata": {
    "scrolled": true
   },
   "outputs": [
    {
     "name": "stderr",
     "output_type": "stream",
     "text": [
      "C:\\Users\\Patrik\\Anaconda3\\lib\\site-packages\\sklearn\\model_selection\\_search.py:761: DeprecationWarning: The grid_scores_ attribute was deprecated in version 0.18 in favor of the more elaborate cv_results_ attribute. The grid_scores_ attribute will not be available from 0.20\n",
      "  DeprecationWarning)\n"
     ]
    },
    {
     "data": {
      "text/plain": [
       "[mean: 0.70910, std: 0.00770, params: {'shrinkage': 'auto', 'solver': 'lsqr', 'tol': 0.0001},\n",
       " mean: 0.70910, std: 0.00770, params: {'shrinkage': 'auto', 'solver': 'lsqr', 'tol': 0.001},\n",
       " mean: 0.70910, std: 0.00770, params: {'shrinkage': 'auto', 'solver': 'lsqr', 'tol': 0.1},\n",
       " mean: 0.70910, std: 0.00770, params: {'shrinkage': 'auto', 'solver': 'lsqr', 'tol': 1e-10},\n",
       " mean: 0.70878, std: 0.00784, params: {'shrinkage': 0.001, 'solver': 'lsqr', 'tol': 0.0001},\n",
       " mean: 0.70878, std: 0.00784, params: {'shrinkage': 0.001, 'solver': 'lsqr', 'tol': 0.001},\n",
       " mean: 0.70878, std: 0.00784, params: {'shrinkage': 0.001, 'solver': 'lsqr', 'tol': 0.1},\n",
       " mean: 0.70878, std: 0.00784, params: {'shrinkage': 0.001, 'solver': 'lsqr', 'tol': 1e-10},\n",
       " mean: 0.70735, std: 0.00805, params: {'shrinkage': 0.0001, 'solver': 'lsqr', 'tol': 0.0001},\n",
       " mean: 0.70735, std: 0.00805, params: {'shrinkage': 0.0001, 'solver': 'lsqr', 'tol': 0.001}]"
      ]
     },
     "execution_count": 98,
     "metadata": {},
     "output_type": "execute_result"
    }
   ],
   "source": [
    "sorted(gs.grid_scores_, key=lambda x: x.mean_validation_score, reverse=True)[:10]"
   ]
  },
  {
   "cell_type": "code",
   "execution_count": 99,
   "metadata": {},
   "outputs": [
    {
     "name": "stdout",
     "output_type": "stream",
     "text": [
      "accuracy:  0.700381679389\n",
      "\n",
      "             precision    recall  f1-score   support\n",
      "\n",
      "          1       0.86      0.92      0.89       659\n",
      "          2       0.35      0.33      0.34       209\n",
      "          3       0.50      0.49      0.49       336\n",
      "          4       0.76      0.72      0.74       368\n",
      "\n",
      "avg / total       0.69      0.70      0.70      1572\n",
      "\n",
      "macro precision:  0.619125207552\n",
      "micro precision:  0.700381679389\n",
      "\n",
      "micro recall:  0.700381679389\n",
      "macro recall:  0.613407258837\n",
      "\n",
      "micro f1:  0.700381679389\n",
      "macro f1:  0.615790656244\n"
     ]
    },
    {
     "data": {
      "image/png": "[encoded data removed]",
      "text/plain": [
       "<matplotlib.figure.Figure at 0x2b6e7eb3780>"
      ]
     },
     "metadata": {},
     "output_type": "display_data"
    }
   ],
   "source": [
    "print_metrics(gs.best_estimator_, featuresCV, labelsCV)"
   ]
  },
  {
   "cell_type": "code",
   "execution_count": 104,
   "metadata": {},
   "outputs": [
    {
     "data": {
      "text/html": [
       "<div>\n",
       "<style>\n",
       "    .dataframe thead tr:only-child th {\n",
       "        text-align: right;\n",
       "    }\n",
       "\n",
       "    .dataframe thead th {\n",
       "        text-align: left;\n",
       "    }\n",
       "\n",
       "    .dataframe tbody tr th {\n",
       "        vertical-align: top;\n",
       "    }\n",
       "</style>\n",
       "<table border=\"1\" class=\"dataframe\">\n",
       "  <thead>\n",
       "    <tr style=\"text-align: right;\">\n",
       "      <th></th>\n",
       "      <th>Algoritmus</th>\n",
       "      <th>F1_makro</th>\n",
       "      <th>P_0</th>\n",
       "      <th>P_1</th>\n",
       "      <th>P_2</th>\n",
       "      <th>P_3</th>\n",
       "      <th>S</th>\n",
       "      <th>Transformácia</th>\n",
       "      <th>Ú_0</th>\n",
       "      <th>Ú_1</th>\n",
       "      <th>Ú_2</th>\n",
       "      <th>Ú_3</th>\n",
       "    </tr>\n",
       "  </thead>\n",
       "  <tbody>\n",
       "    <tr>\n",
       "      <th>0</th>\n",
       "      <td>DecisionTreeClassifier</td>\n",
       "      <td>0.62</td>\n",
       "      <td>0.84</td>\n",
       "      <td>0.49</td>\n",
       "      <td>0.49</td>\n",
       "      <td>0.75</td>\n",
       "      <td>0.72</td>\n",
       "      <td>nie</td>\n",
       "      <td>0.96</td>\n",
       "      <td>0.28</td>\n",
       "      <td>0.48</td>\n",
       "      <td>0.74</td>\n",
       "    </tr>\n",
       "    <tr>\n",
       "      <th>1</th>\n",
       "      <td>GradientBoostingClassifier</td>\n",
       "      <td>0.64</td>\n",
       "      <td>0.85</td>\n",
       "      <td>0.46</td>\n",
       "      <td>0.55</td>\n",
       "      <td>0.80</td>\n",
       "      <td>0.74</td>\n",
       "      <td>nie</td>\n",
       "      <td>0.97</td>\n",
       "      <td>0.28</td>\n",
       "      <td>0.59</td>\n",
       "      <td>0.72</td>\n",
       "    </tr>\n",
       "    <tr>\n",
       "      <th>2</th>\n",
       "      <td>KNeighborsClassifier</td>\n",
       "      <td>0.58</td>\n",
       "      <td>0.78</td>\n",
       "      <td>0.38</td>\n",
       "      <td>0.49</td>\n",
       "      <td>0.78</td>\n",
       "      <td>0.69</td>\n",
       "      <td>nie</td>\n",
       "      <td>0.98</td>\n",
       "      <td>0.15</td>\n",
       "      <td>0.52</td>\n",
       "      <td>0.66</td>\n",
       "    </tr>\n",
       "    <tr>\n",
       "      <th>3</th>\n",
       "      <td>LogisticRegression</td>\n",
       "      <td>0.64</td>\n",
       "      <td>0.84</td>\n",
       "      <td>0.48</td>\n",
       "      <td>0.53</td>\n",
       "      <td>0.81</td>\n",
       "      <td>0.73</td>\n",
       "      <td>nie</td>\n",
       "      <td>0.97</td>\n",
       "      <td>0.30</td>\n",
       "      <td>0.59</td>\n",
       "      <td>0.68</td>\n",
       "    </tr>\n",
       "    <tr>\n",
       "      <th>4</th>\n",
       "      <td>GradientBoostingClassifier</td>\n",
       "      <td>0.64</td>\n",
       "      <td>0.85</td>\n",
       "      <td>0.43</td>\n",
       "      <td>0.54</td>\n",
       "      <td>0.82</td>\n",
       "      <td>0.74</td>\n",
       "      <td>áno</td>\n",
       "      <td>0.96</td>\n",
       "      <td>0.27</td>\n",
       "      <td>0.60</td>\n",
       "      <td>0.72</td>\n",
       "    </tr>\n",
       "    <tr>\n",
       "      <th>5</th>\n",
       "      <td>LogisticRegression</td>\n",
       "      <td>0.62</td>\n",
       "      <td>0.85</td>\n",
       "      <td>0.41</td>\n",
       "      <td>0.52</td>\n",
       "      <td>0.77</td>\n",
       "      <td>0.72</td>\n",
       "      <td>áno</td>\n",
       "      <td>0.95</td>\n",
       "      <td>0.23</td>\n",
       "      <td>0.56</td>\n",
       "      <td>0.74</td>\n",
       "    </tr>\n",
       "    <tr>\n",
       "      <th>6</th>\n",
       "      <td>LinearDiscriminantAnalysis</td>\n",
       "      <td>0.62</td>\n",
       "      <td>0.86</td>\n",
       "      <td>0.35</td>\n",
       "      <td>0.50</td>\n",
       "      <td>0.76</td>\n",
       "      <td>0.70</td>\n",
       "      <td>áno</td>\n",
       "      <td>0.92</td>\n",
       "      <td>0.33</td>\n",
       "      <td>0.49</td>\n",
       "      <td>0.72</td>\n",
       "    </tr>\n",
       "  </tbody>\n",
       "</table>\n",
       "</div>"
      ],
      "text/plain": [
       "                   Algoritmus  F1_makro   P_0   P_1   P_2   P_3     S  \\\n",
       "0      DecisionTreeClassifier      0.62  0.84  0.49  0.49  0.75  0.72   \n",
       "1  GradientBoostingClassifier      0.64  0.85  0.46  0.55  0.80  0.74   \n",
       "2        KNeighborsClassifier      0.58  0.78  0.38  0.49  0.78  0.69   \n",
       "3          LogisticRegression      0.64  0.84  0.48  0.53  0.81  0.73   \n",
       "4  GradientBoostingClassifier      0.64  0.85  0.43  0.54  0.82  0.74   \n",
       "5          LogisticRegression      0.62  0.85  0.41  0.52  0.77  0.72   \n",
       "6  LinearDiscriminantAnalysis      0.62  0.86  0.35  0.50  0.76  0.70   \n",
       "\n",
       "  Transformácia   Ú_0   Ú_1   Ú_2   Ú_3  \n",
       "0           nie  0.96  0.28  0.48  0.74  \n",
       "1           nie  0.97  0.28  0.59  0.72  \n",
       "2           nie  0.98  0.15  0.52  0.66  \n",
       "3           nie  0.97  0.30  0.59  0.68  \n",
       "4           áno  0.96  0.27  0.60  0.72  \n",
       "5           áno  0.95  0.23  0.56  0.74  \n",
       "6           áno  0.92  0.33  0.49  0.72  "
      ]
     },
     "execution_count": 104,
     "metadata": {},
     "output_type": "execute_result"
    }
   ],
   "source": [
    "df_results"
   ]
  },
  {
   "cell_type": "markdown",
   "metadata": {},
   "source": [
    "# LinearSVC"
   ]
  },
  {
   "cell_type": "code",
   "execution_count": 100,
   "metadata": {
    "collapsed": true
   },
   "outputs": [],
   "source": [
    "from sklearn.svm import LinearSVC"
   ]
  },
  {
   "cell_type": "code",
   "execution_count": 101,
   "metadata": {
    "collapsed": true
   },
   "outputs": [],
   "source": [
    "cls = LinearSVC"
   ]
  },
  {
   "cell_type": "code",
   "execution_count": 102,
   "metadata": {
    "collapsed": true
   },
   "outputs": [],
   "source": [
    "params = {\n",
    "    'penalty': ['l1', 'l2'],\n",
    "    'loss': ['hinge', 'squared_hinge'],\n",
    "    #'tol': [1e-4, 1e-3, 1e-1, 1e-10],\n",
    "    'C': [0.5, 1, 10, 20, 50], \n",
    "    'multi_class': ['crammer_singer'], #, 'ovr' \n",
    "    #'class_weight': [None, 'balanced'],\n",
    "    'max_iter': [100, 500, 1000, 5000]\n",
    "}"
   ]
  },
  {
   "cell_type": "code",
   "execution_count": 103,
   "metadata": {},
   "outputs": [
    {
     "data": {
      "text/plain": [
       "80"
      ]
     },
     "execution_count": 103,
     "metadata": {},
     "output_type": "execute_result"
    }
   ],
   "source": [
    "gs = GridSearchCV(cls(), params, scoring='accuracy', cv=5, n_jobs=-1, error_score=0)\n",
    "len(list(ParameterGrid(params)))"
   ]
  },
  {
   "cell_type": "code",
   "execution_count": 105,
   "metadata": {},
   "outputs": [
    {
     "name": "stdout",
     "output_type": "stream",
     "text": [
      "Wall time: 2h 20min 19s\n"
     ]
    },
    {
     "data": {
      "text/plain": [
       "GridSearchCV(cv=5, error_score=0,\n",
       "       estimator=LinearSVC(C=1.0, class_weight=None, dual=True, fit_intercept=True,\n",
       "     intercept_scaling=1, loss='squared_hinge', max_iter=1000,\n",
       "     multi_class='ovr', penalty='l2', random_state=None, tol=0.0001,\n",
       "     verbose=0),\n",
       "       fit_params=None, iid=True, n_jobs=-1,\n",
       "       param_grid={'penalty': ['l1', 'l2'], 'loss': ['hinge', 'squared_hinge'], 'C': [0.5, 1, 10, 20, 50], 'multi_class': ['crammer_singer'], 'max_iter': [100, 500, 1000, 5000]},\n",
       "       pre_dispatch='2*n_jobs', refit=True, return_train_score='warn',\n",
       "       scoring='accuracy', verbose=0)"
      ]
     },
     "execution_count": 105,
     "metadata": {},
     "output_type": "execute_result"
    }
   ],
   "source": [
    "%%time\n",
    "gs.fit(features, labels)"
   ]
  },
  {
   "cell_type": "code",
   "execution_count": 106,
   "metadata": {},
   "outputs": [
    {
     "name": "stderr",
     "output_type": "stream",
     "text": [
      "C:\\Users\\Patrik\\Anaconda3\\lib\\site-packages\\sklearn\\model_selection\\_search.py:761: DeprecationWarning: The grid_scores_ attribute was deprecated in version 0.18 in favor of the more elaborate cv_results_ attribute. The grid_scores_ attribute will not be available from 0.20\n",
      "  DeprecationWarning)\n"
     ]
    },
    {
     "data": {
      "text/plain": [
       "[mean: 0.72088, std: 0.01379, params: {'C': 20, 'loss': 'squared_hinge', 'max_iter': 500, 'multi_class': 'crammer_singer', 'penalty': 'l1'},\n",
       " mean: 0.72024, std: 0.00924, params: {'C': 20, 'loss': 'squared_hinge', 'max_iter': 500, 'multi_class': 'crammer_singer', 'penalty': 'l2'},\n",
       " mean: 0.72024, std: 0.00986, params: {'C': 20, 'loss': 'squared_hinge', 'max_iter': 5000, 'multi_class': 'crammer_singer', 'penalty': 'l1'},\n",
       " mean: 0.71992, std: 0.01094, params: {'C': 20, 'loss': 'hinge', 'max_iter': 500, 'multi_class': 'crammer_singer', 'penalty': 'l2'},\n",
       " mean: 0.71961, std: 0.00966, params: {'C': 20, 'loss': 'hinge', 'max_iter': 1000, 'multi_class': 'crammer_singer', 'penalty': 'l2'},\n",
       " mean: 0.71961, std: 0.00650, params: {'C': 20, 'loss': 'squared_hinge', 'max_iter': 1000, 'multi_class': 'crammer_singer', 'penalty': 'l1'},\n",
       " mean: 0.71945, std: 0.00708, params: {'C': 20, 'loss': 'squared_hinge', 'max_iter': 100, 'multi_class': 'crammer_singer', 'penalty': 'l2'},\n",
       " mean: 0.71929, std: 0.00736, params: {'C': 20, 'loss': 'hinge', 'max_iter': 5000, 'multi_class': 'crammer_singer', 'penalty': 'l2'},\n",
       " mean: 0.71913, std: 0.01101, params: {'C': 20, 'loss': 'squared_hinge', 'max_iter': 5000, 'multi_class': 'crammer_singer', 'penalty': 'l2'},\n",
       " mean: 0.71897, std: 0.00990, params: {'C': 20, 'loss': 'hinge', 'max_iter': 100, 'multi_class': 'crammer_singer', 'penalty': 'l1'},\n",
       " mean: 0.71865, std: 0.00909, params: {'C': 10, 'loss': 'hinge', 'max_iter': 100, 'multi_class': 'crammer_singer', 'penalty': 'l1'},\n",
       " mean: 0.71849, std: 0.00956, params: {'C': 10, 'loss': 'squared_hinge', 'max_iter': 5000, 'multi_class': 'crammer_singer', 'penalty': 'l2'},\n",
       " mean: 0.71833, std: 0.01086, params: {'C': 10, 'loss': 'hinge', 'max_iter': 1000, 'multi_class': 'crammer_singer', 'penalty': 'l2'},\n",
       " mean: 0.71833, std: 0.01396, params: {'C': 50, 'loss': 'hinge', 'max_iter': 5000, 'multi_class': 'crammer_singer', 'penalty': 'l1'},\n",
       " mean: 0.71817, std: 0.01158, params: {'C': 10, 'loss': 'squared_hinge', 'max_iter': 100, 'multi_class': 'crammer_singer', 'penalty': 'l1'},\n",
       " mean: 0.71817, std: 0.00943, params: {'C': 20, 'loss': 'hinge', 'max_iter': 5000, 'multi_class': 'crammer_singer', 'penalty': 'l1'},\n",
       " mean: 0.71801, std: 0.00724, params: {'C': 20, 'loss': 'squared_hinge', 'max_iter': 100, 'multi_class': 'crammer_singer', 'penalty': 'l1'},\n",
       " mean: 0.71785, std: 0.00935, params: {'C': 10, 'loss': 'hinge', 'max_iter': 5000, 'multi_class': 'crammer_singer', 'penalty': 'l1'},\n",
       " mean: 0.71785, std: 0.01078, params: {'C': 10, 'loss': 'hinge', 'max_iter': 5000, 'multi_class': 'crammer_singer', 'penalty': 'l2'},\n",
       " mean: 0.71770, std: 0.00946, params: {'C': 10, 'loss': 'squared_hinge', 'max_iter': 100, 'multi_class': 'crammer_singer', 'penalty': 'l2'},\n",
       " mean: 0.71770, std: 0.01066, params: {'C': 20, 'loss': 'hinge', 'max_iter': 100, 'multi_class': 'crammer_singer', 'penalty': 'l2'},\n",
       " mean: 0.71770, std: 0.00800, params: {'C': 20, 'loss': 'hinge', 'max_iter': 500, 'multi_class': 'crammer_singer', 'penalty': 'l1'},\n",
       " mean: 0.71754, std: 0.00965, params: {'C': 10, 'loss': 'squared_hinge', 'max_iter': 500, 'multi_class': 'crammer_singer', 'penalty': 'l2'},\n",
       " mean: 0.71754, std: 0.00963, params: {'C': 20, 'loss': 'hinge', 'max_iter': 1000, 'multi_class': 'crammer_singer', 'penalty': 'l1'},\n",
       " mean: 0.71706, std: 0.00661, params: {'C': 20, 'loss': 'squared_hinge', 'max_iter': 1000, 'multi_class': 'crammer_singer', 'penalty': 'l2'},\n",
       " mean: 0.71690, std: 0.00907, params: {'C': 10, 'loss': 'hinge', 'max_iter': 500, 'multi_class': 'crammer_singer', 'penalty': 'l2'},\n",
       " mean: 0.71690, std: 0.01004, params: {'C': 10, 'loss': 'squared_hinge', 'max_iter': 1000, 'multi_class': 'crammer_singer', 'penalty': 'l1'},\n",
       " mean: 0.71642, std: 0.01073, params: {'C': 10, 'loss': 'hinge', 'max_iter': 1000, 'multi_class': 'crammer_singer', 'penalty': 'l1'},\n",
       " mean: 0.71642, std: 0.01061, params: {'C': 10, 'loss': 'squared_hinge', 'max_iter': 1000, 'multi_class': 'crammer_singer', 'penalty': 'l2'},\n",
       " mean: 0.71642, std: 0.00945, params: {'C': 50, 'loss': 'squared_hinge', 'max_iter': 5000, 'multi_class': 'crammer_singer', 'penalty': 'l1'},\n",
       " mean: 0.71626, std: 0.00909, params: {'C': 10, 'loss': 'squared_hinge', 'max_iter': 5000, 'multi_class': 'crammer_singer', 'penalty': 'l1'},\n",
       " mean: 0.71610, std: 0.01051, params: {'C': 10, 'loss': 'squared_hinge', 'max_iter': 500, 'multi_class': 'crammer_singer', 'penalty': 'l1'},\n",
       " mean: 0.71610, std: 0.01281, params: {'C': 50, 'loss': 'hinge', 'max_iter': 1000, 'multi_class': 'crammer_singer', 'penalty': 'l1'},\n",
       " mean: 0.71595, std: 0.00910, params: {'C': 10, 'loss': 'hinge', 'max_iter': 500, 'multi_class': 'crammer_singer', 'penalty': 'l1'},\n",
       " mean: 0.71515, std: 0.00785, params: {'C': 50, 'loss': 'squared_hinge', 'max_iter': 5000, 'multi_class': 'crammer_singer', 'penalty': 'l2'},\n",
       " mean: 0.71499, std: 0.00678, params: {'C': 50, 'loss': 'hinge', 'max_iter': 5000, 'multi_class': 'crammer_singer', 'penalty': 'l2'},\n",
       " mean: 0.71483, std: 0.00801, params: {'C': 10, 'loss': 'hinge', 'max_iter': 100, 'multi_class': 'crammer_singer', 'penalty': 'l2'},\n",
       " mean: 0.71483, std: 0.01066, params: {'C': 50, 'loss': 'squared_hinge', 'max_iter': 100, 'multi_class': 'crammer_singer', 'penalty': 'l1'},\n",
       " mean: 0.71483, std: 0.01088, params: {'C': 50, 'loss': 'squared_hinge', 'max_iter': 500, 'multi_class': 'crammer_singer', 'penalty': 'l1'},\n",
       " mean: 0.71451, std: 0.01033, params: {'C': 50, 'loss': 'hinge', 'max_iter': 500, 'multi_class': 'crammer_singer', 'penalty': 'l1'},\n",
       " mean: 0.71435, std: 0.00858, params: {'C': 50, 'loss': 'hinge', 'max_iter': 500, 'multi_class': 'crammer_singer', 'penalty': 'l2'},\n",
       " mean: 0.71419, std: 0.00820, params: {'C': 50, 'loss': 'squared_hinge', 'max_iter': 500, 'multi_class': 'crammer_singer', 'penalty': 'l2'},\n",
       " mean: 0.71419, std: 0.00901, params: {'C': 50, 'loss': 'squared_hinge', 'max_iter': 1000, 'multi_class': 'crammer_singer', 'penalty': 'l1'},\n",
       " mean: 0.71388, std: 0.00978, params: {'C': 50, 'loss': 'hinge', 'max_iter': 100, 'multi_class': 'crammer_singer', 'penalty': 'l1'},\n",
       " mean: 0.71372, std: 0.01299, params: {'C': 50, 'loss': 'squared_hinge', 'max_iter': 100, 'multi_class': 'crammer_singer', 'penalty': 'l2'},\n",
       " mean: 0.71356, std: 0.01224, params: {'C': 50, 'loss': 'hinge', 'max_iter': 100, 'multi_class': 'crammer_singer', 'penalty': 'l2'},\n",
       " mean: 0.71276, std: 0.01052, params: {'C': 50, 'loss': 'hinge', 'max_iter': 1000, 'multi_class': 'crammer_singer', 'penalty': 'l2'},\n",
       " mean: 0.70958, std: 0.01265, params: {'C': 50, 'loss': 'squared_hinge', 'max_iter': 1000, 'multi_class': 'crammer_singer', 'penalty': 'l2'},\n",
       " mean: 0.70767, std: 0.00894, params: {'C': 1, 'loss': 'hinge', 'max_iter': 100, 'multi_class': 'crammer_singer', 'penalty': 'l1'},\n",
       " mean: 0.70767, std: 0.00909, params: {'C': 1, 'loss': 'hinge', 'max_iter': 100, 'multi_class': 'crammer_singer', 'penalty': 'l2'},\n",
       " mean: 0.70767, std: 0.00831, params: {'C': 1, 'loss': 'hinge', 'max_iter': 500, 'multi_class': 'crammer_singer', 'penalty': 'l1'},\n",
       " mean: 0.70767, std: 0.00852, params: {'C': 1, 'loss': 'squared_hinge', 'max_iter': 100, 'multi_class': 'crammer_singer', 'penalty': 'l1'},\n",
       " mean: 0.70767, std: 0.00890, params: {'C': 1, 'loss': 'squared_hinge', 'max_iter': 1000, 'multi_class': 'crammer_singer', 'penalty': 'l2'},\n",
       " mean: 0.70767, std: 0.00890, params: {'C': 1, 'loss': 'squared_hinge', 'max_iter': 5000, 'multi_class': 'crammer_singer', 'penalty': 'l2'},\n",
       " mean: 0.70751, std: 0.00841, params: {'C': 1, 'loss': 'hinge', 'max_iter': 500, 'multi_class': 'crammer_singer', 'penalty': 'l2'},\n",
       " mean: 0.70751, std: 0.00820, params: {'C': 1, 'loss': 'hinge', 'max_iter': 1000, 'multi_class': 'crammer_singer', 'penalty': 'l1'},\n",
       " mean: 0.70751, std: 0.00878, params: {'C': 1, 'loss': 'hinge', 'max_iter': 1000, 'multi_class': 'crammer_singer', 'penalty': 'l2'},\n",
       " mean: 0.70751, std: 0.00882, params: {'C': 1, 'loss': 'squared_hinge', 'max_iter': 500, 'multi_class': 'crammer_singer', 'penalty': 'l2'},\n",
       " mean: 0.70751, std: 0.00878, params: {'C': 1, 'loss': 'squared_hinge', 'max_iter': 1000, 'multi_class': 'crammer_singer', 'penalty': 'l1'},\n",
       " mean: 0.70735, std: 0.00827, params: {'C': 1, 'loss': 'squared_hinge', 'max_iter': 500, 'multi_class': 'crammer_singer', 'penalty': 'l1'},\n",
       " mean: 0.70735, std: 0.00867, params: {'C': 1, 'loss': 'squared_hinge', 'max_iter': 5000, 'multi_class': 'crammer_singer', 'penalty': 'l1'},\n",
       " mean: 0.70719, std: 0.00933, params: {'C': 1, 'loss': 'hinge', 'max_iter': 5000, 'multi_class': 'crammer_singer', 'penalty': 'l1'},\n",
       " mean: 0.70719, std: 0.00858, params: {'C': 1, 'loss': 'hinge', 'max_iter': 5000, 'multi_class': 'crammer_singer', 'penalty': 'l2'},\n",
       " mean: 0.70719, std: 0.00854, params: {'C': 1, 'loss': 'squared_hinge', 'max_iter': 100, 'multi_class': 'crammer_singer', 'penalty': 'l2'},\n",
       " mean: 0.69924, std: 0.00863, params: {'C': 0.5, 'loss': 'squared_hinge', 'max_iter': 5000, 'multi_class': 'crammer_singer', 'penalty': 'l2'},\n",
       " mean: 0.69908, std: 0.00873, params: {'C': 0.5, 'loss': 'hinge', 'max_iter': 5000, 'multi_class': 'crammer_singer', 'penalty': 'l2'},\n",
       " mean: 0.69908, std: 0.00856, params: {'C': 0.5, 'loss': 'squared_hinge', 'max_iter': 100, 'multi_class': 'crammer_singer', 'penalty': 'l1'},\n",
       " mean: 0.69908, std: 0.00898, params: {'C': 0.5, 'loss': 'squared_hinge', 'max_iter': 1000, 'multi_class': 'crammer_singer', 'penalty': 'l1'},\n",
       " mean: 0.69908, std: 0.00821, params: {'C': 0.5, 'loss': 'squared_hinge', 'max_iter': 5000, 'multi_class': 'crammer_singer', 'penalty': 'l1'},\n",
       " mean: 0.69892, std: 0.00898, params: {'C': 0.5, 'loss': 'hinge', 'max_iter': 100, 'multi_class': 'crammer_singer', 'penalty': 'l2'},\n",
       " mean: 0.69892, std: 0.00898, params: {'C': 0.5, 'loss': 'hinge', 'max_iter': 5000, 'multi_class': 'crammer_singer', 'penalty': 'l1'},\n",
       " mean: 0.69876, std: 0.00858, params: {'C': 0.5, 'loss': 'hinge', 'max_iter': 1000, 'multi_class': 'crammer_singer', 'penalty': 'l1'},\n",
       " mean: 0.69876, std: 0.00858, params: {'C': 0.5, 'loss': 'hinge', 'max_iter': 1000, 'multi_class': 'crammer_singer', 'penalty': 'l2'},\n",
       " mean: 0.69876, std: 0.00891, params: {'C': 0.5, 'loss': 'squared_hinge', 'max_iter': 100, 'multi_class': 'crammer_singer', 'penalty': 'l2'},\n",
       " mean: 0.69876, std: 0.00854, params: {'C': 0.5, 'loss': 'squared_hinge', 'max_iter': 500, 'multi_class': 'crammer_singer', 'penalty': 'l1'},\n",
       " mean: 0.69876, std: 0.00918, params: {'C': 0.5, 'loss': 'squared_hinge', 'max_iter': 1000, 'multi_class': 'crammer_singer', 'penalty': 'l2'},\n",
       " mean: 0.69860, std: 0.00874, params: {'C': 0.5, 'loss': 'hinge', 'max_iter': 100, 'multi_class': 'crammer_singer', 'penalty': 'l1'},\n",
       " mean: 0.69860, std: 0.00874, params: {'C': 0.5, 'loss': 'hinge', 'max_iter': 500, 'multi_class': 'crammer_singer', 'penalty': 'l1'},\n",
       " mean: 0.69860, std: 0.00874, params: {'C': 0.5, 'loss': 'hinge', 'max_iter': 500, 'multi_class': 'crammer_singer', 'penalty': 'l2'},\n",
       " mean: 0.69860, std: 0.00909, params: {'C': 0.5, 'loss': 'squared_hinge', 'max_iter': 500, 'multi_class': 'crammer_singer', 'penalty': 'l2'}]"
      ]
     },
     "execution_count": 106,
     "metadata": {},
     "output_type": "execute_result"
    }
   ],
   "source": [
    "sorted(gs.grid_scores_, key=lambda x: x.mean_validation_score, reverse=True)"
   ]
  },
  {
   "cell_type": "code",
   "execution_count": 107,
   "metadata": {},
   "outputs": [
    {
     "name": "stdout",
     "output_type": "stream",
     "text": [
      "accuracy:  0.729007633588\n",
      "\n",
      "             precision    recall  f1-score   support\n",
      "\n",
      "          1       0.84      0.98      0.90       659\n",
      "          2       0.49      0.17      0.25       209\n",
      "          3       0.52      0.56      0.54       336\n",
      "          4       0.76      0.74      0.75       368\n",
      "\n",
      "avg / total       0.70      0.73      0.70      1572\n",
      "\n",
      "macro precision:  0.650402502276\n",
      "micro precision:  0.729007633588\n",
      "\n",
      "micro recall:  0.729007633588\n",
      "macro recall:  0.614976168101\n",
      "\n",
      "micro f1:  0.729007633588\n",
      "macro f1:  0.612238795924\n"
     ]
    },
    {
     "data": {
      "image/png": "[encoded data removed]",
      "text/plain": [
       "<matplotlib.figure.Figure at 0x2b6e7c9b4e0>"
      ]
     },
     "metadata": {},
     "output_type": "display_data"
    }
   ],
   "source": [
    "print_metrics(gs.best_estimator_, featuresCV, labelsCV)"
   ]
  },
  {
   "cell_type": "markdown",
   "metadata": {},
   "source": [
    "# MLP"
   ]
  },
  {
   "cell_type": "code",
   "execution_count": 108,
   "metadata": {
    "collapsed": true
   },
   "outputs": [],
   "source": [
    "from sklearn.neural_network import MLPClassifier"
   ]
  },
  {
   "cell_type": "code",
   "execution_count": 109,
   "metadata": {
    "collapsed": true
   },
   "outputs": [],
   "source": [
    "cls = MLPClassifier"
   ]
  },
  {
   "cell_type": "code",
   "execution_count": 110,
   "metadata": {
    "collapsed": true
   },
   "outputs": [],
   "source": [
    "params = {\n",
    "    'hidden_layer_sizes': [(100,), (50,), (200,)],\n",
    "    'activation': ['identity'], #, 'logistic', 'tanh', 'relu'\n",
    "    'solver': ['lbfgs'], #, 'sgd', 'adam'\n",
    "    'alpha': [0.0001, 0.00001, 0.001],\n",
    "    'learning_rate': ['constant', 'invscaling', 'adaptive'],\n",
    "    'max_iter': [100, 200, 300],\n",
    "}"
   ]
  },
  {
   "cell_type": "code",
   "execution_count": 111,
   "metadata": {},
   "outputs": [
    {
     "data": {
      "text/plain": [
       "81"
      ]
     },
     "execution_count": 111,
     "metadata": {},
     "output_type": "execute_result"
    }
   ],
   "source": [
    "gs = GridSearchCV(cls(), params, scoring='accuracy', cv=5, n_jobs=-1, error_score=0)\n",
    "len(list(ParameterGrid(params)))"
   ]
  },
  {
   "cell_type": "code",
   "execution_count": 112,
   "metadata": {},
   "outputs": [
    {
     "name": "stdout",
     "output_type": "stream",
     "text": [
      "Wall time: 12min 14s\n"
     ]
    },
    {
     "data": {
      "text/plain": [
       "GridSearchCV(cv=5, error_score=0,\n",
       "       estimator=MLPClassifier(activation='relu', alpha=0.0001, batch_size='auto', beta_1=0.9,\n",
       "       beta_2=0.999, early_stopping=False, epsilon=1e-08,\n",
       "       hidden_layer_sizes=(100,), learning_rate='constant',\n",
       "       learning_rate_init=0.001, max_iter=200, momentum=0.9,\n",
       "       nesterovs_momentum=True, power_t=0.5, random_state=None,\n",
       "       shuffle=True, solver='adam', tol=0.0001, validation_fraction=0.1,\n",
       "       verbose=False, warm_start=False),\n",
       "       fit_params=None, iid=True, n_jobs=-1,\n",
       "       param_grid={'hidden_layer_sizes': [(100,), (50,), (200,)], 'activation': ['identity'], 'solver': ['lbfgs'], 'alpha': [0.0001, 1e-05, 0.001], 'learning_rate': ['constant', 'invscaling', 'adaptive'], 'max_iter': [100, 200, 300]},\n",
       "       pre_dispatch='2*n_jobs', refit=True, return_train_score='warn',\n",
       "       scoring='accuracy', verbose=0)"
      ]
     },
     "execution_count": 112,
     "metadata": {},
     "output_type": "execute_result"
    }
   ],
   "source": [
    "%%time\n",
    "gs.fit(features, labels)"
   ]
  },
  {
   "cell_type": "code",
   "execution_count": 113,
   "metadata": {},
   "outputs": [
    {
     "name": "stderr",
     "output_type": "stream",
     "text": [
      "C:\\Users\\Patrik\\Anaconda3\\lib\\site-packages\\sklearn\\model_selection\\_search.py:761: DeprecationWarning: The grid_scores_ attribute was deprecated in version 0.18 in favor of the more elaborate cv_results_ attribute. The grid_scores_ attribute will not be available from 0.20\n",
      "  DeprecationWarning)\n"
     ]
    },
    {
     "data": {
      "text/plain": [
       "[mean: 0.73138, std: 0.01300, params: {'activation': 'identity', 'alpha': 0.0001, 'hidden_layer_sizes': (100,), 'learning_rate': 'adaptive', 'max_iter': 300, 'solver': 'lbfgs'},\n",
       " mean: 0.72884, std: 0.01635, params: {'activation': 'identity', 'alpha': 0.001, 'hidden_layer_sizes': (50,), 'learning_rate': 'adaptive', 'max_iter': 300, 'solver': 'lbfgs'},\n",
       " mean: 0.72868, std: 0.01496, params: {'activation': 'identity', 'alpha': 1e-05, 'hidden_layer_sizes': (200,), 'learning_rate': 'invscaling', 'max_iter': 200, 'solver': 'lbfgs'},\n",
       " mean: 0.72836, std: 0.01856, params: {'activation': 'identity', 'alpha': 0.0001, 'hidden_layer_sizes': (50,), 'learning_rate': 'constant', 'max_iter': 300, 'solver': 'lbfgs'},\n",
       " mean: 0.72836, std: 0.01413, params: {'activation': 'identity', 'alpha': 0.0001, 'hidden_layer_sizes': (200,), 'learning_rate': 'constant', 'max_iter': 200, 'solver': 'lbfgs'},\n",
       " mean: 0.72836, std: 0.01392, params: {'activation': 'identity', 'alpha': 0.001, 'hidden_layer_sizes': (100,), 'learning_rate': 'constant', 'max_iter': 200, 'solver': 'lbfgs'},\n",
       " mean: 0.72804, std: 0.01401, params: {'activation': 'identity', 'alpha': 0.0001, 'hidden_layer_sizes': (200,), 'learning_rate': 'invscaling', 'max_iter': 200, 'solver': 'lbfgs'},\n",
       " mean: 0.72804, std: 0.01381, params: {'activation': 'identity', 'alpha': 1e-05, 'hidden_layer_sizes': (50,), 'learning_rate': 'constant', 'max_iter': 300, 'solver': 'lbfgs'},\n",
       " mean: 0.72804, std: 0.01734, params: {'activation': 'identity', 'alpha': 1e-05, 'hidden_layer_sizes': (50,), 'learning_rate': 'adaptive', 'max_iter': 300, 'solver': 'lbfgs'},\n",
       " mean: 0.72788, std: 0.01615, params: {'activation': 'identity', 'alpha': 0.0001, 'hidden_layer_sizes': (50,), 'learning_rate': 'adaptive', 'max_iter': 300, 'solver': 'lbfgs'},\n",
       " mean: 0.72788, std: 0.01492, params: {'activation': 'identity', 'alpha': 0.001, 'hidden_layer_sizes': (100,), 'learning_rate': 'constant', 'max_iter': 300, 'solver': 'lbfgs'},\n",
       " mean: 0.72772, std: 0.01596, params: {'activation': 'identity', 'alpha': 0.001, 'hidden_layer_sizes': (200,), 'learning_rate': 'constant', 'max_iter': 300, 'solver': 'lbfgs'},\n",
       " mean: 0.72756, std: 0.01049, params: {'activation': 'identity', 'alpha': 1e-05, 'hidden_layer_sizes': (50,), 'learning_rate': 'invscaling', 'max_iter': 200, 'solver': 'lbfgs'},\n",
       " mean: 0.72724, std: 0.01419, params: {'activation': 'identity', 'alpha': 1e-05, 'hidden_layer_sizes': (200,), 'learning_rate': 'invscaling', 'max_iter': 300, 'solver': 'lbfgs'},\n",
       " mean: 0.72708, std: 0.01528, params: {'activation': 'identity', 'alpha': 0.0001, 'hidden_layer_sizes': (50,), 'learning_rate': 'invscaling', 'max_iter': 300, 'solver': 'lbfgs'},\n",
       " mean: 0.72693, std: 0.01392, params: {'activation': 'identity', 'alpha': 1e-05, 'hidden_layer_sizes': (100,), 'learning_rate': 'adaptive', 'max_iter': 300, 'solver': 'lbfgs'},\n",
       " mean: 0.72693, std: 0.01511, params: {'activation': 'identity', 'alpha': 0.001, 'hidden_layer_sizes': (200,), 'learning_rate': 'invscaling', 'max_iter': 300, 'solver': 'lbfgs'},\n",
       " mean: 0.72677, std: 0.01327, params: {'activation': 'identity', 'alpha': 0.0001, 'hidden_layer_sizes': (100,), 'learning_rate': 'constant', 'max_iter': 200, 'solver': 'lbfgs'},\n",
       " mean: 0.72677, std: 0.01337, params: {'activation': 'identity', 'alpha': 0.0001, 'hidden_layer_sizes': (200,), 'learning_rate': 'invscaling', 'max_iter': 300, 'solver': 'lbfgs'},\n",
       " mean: 0.72645, std: 0.01462, params: {'activation': 'identity', 'alpha': 0.0001, 'hidden_layer_sizes': (200,), 'learning_rate': 'constant', 'max_iter': 300, 'solver': 'lbfgs'}]"
      ]
     },
     "execution_count": 113,
     "metadata": {},
     "output_type": "execute_result"
    }
   ],
   "source": [
    "sorted(gs.grid_scores_, key=lambda x: x.mean_validation_score, reverse=True)[:20]"
   ]
  },
  {
   "cell_type": "code",
   "execution_count": 114,
   "metadata": {},
   "outputs": [
    {
     "name": "stdout",
     "output_type": "stream",
     "text": [
      "accuracy:  0.712468193384\n",
      "\n",
      "             precision    recall  f1-score   support\n",
      "\n",
      "          1       0.86      0.95      0.90       659\n",
      "          2       0.40      0.23      0.29       209\n",
      "          3       0.49      0.54      0.52       336\n",
      "          4       0.75      0.73      0.74       368\n",
      "\n",
      "avg / total       0.69      0.71      0.70      1572\n",
      "\n",
      "macro precision:  0.62517074317\n",
      "micro precision:  0.712468193384\n",
      "\n",
      "micro recall:  0.712468193384\n",
      "macro recall:  0.610561748029\n",
      "\n",
      "micro f1:  0.712468193384\n",
      "macro f1:  0.611063867612\n"
     ]
    },
    {
     "data": {
      "image/png": "[encoded data removed]",
      "text/plain": [
       "<matplotlib.figure.Figure at 0x2b6e77d0e80>"
      ]
     },
     "metadata": {},
     "output_type": "display_data"
    }
   ],
   "source": [
    "print_metrics(gs.best_estimator_, featuresCV, labelsCV)"
   ]
  },
  {
   "cell_type": "code",
   "execution_count": null,
   "metadata": {
    "collapsed": true
   },
   "outputs": [],
   "source": []
  },
  {
   "cell_type": "markdown",
   "metadata": {},
   "source": [
    "# Results"
   ]
  },
  {
   "cell_type": "code",
   "execution_count": 118,
   "metadata": {},
   "outputs": [
    {
     "data": {
      "text/html": [
       "<div>\n",
       "<style>\n",
       "    .dataframe thead tr:only-child th {\n",
       "        text-align: right;\n",
       "    }\n",
       "\n",
       "    .dataframe thead th {\n",
       "        text-align: left;\n",
       "    }\n",
       "\n",
       "    .dataframe tbody tr th {\n",
       "        vertical-align: top;\n",
       "    }\n",
       "</style>\n",
       "<table border=\"1\" class=\"dataframe\">\n",
       "  <thead>\n",
       "    <tr style=\"text-align: right;\">\n",
       "      <th></th>\n",
       "      <th>Algoritmus</th>\n",
       "      <th>Transformácia</th>\n",
       "      <th>S</th>\n",
       "      <th>P_0</th>\n",
       "      <th>P_1</th>\n",
       "      <th>P_2</th>\n",
       "      <th>P_3</th>\n",
       "      <th>Ú_0</th>\n",
       "      <th>Ú_1</th>\n",
       "      <th>Ú_2</th>\n",
       "      <th>Ú_3</th>\n",
       "      <th>F1_makro</th>\n",
       "    </tr>\n",
       "  </thead>\n",
       "  <tbody>\n",
       "    <tr>\n",
       "      <th>1</th>\n",
       "      <td>GradientBoostingClassifier</td>\n",
       "      <td>nie</td>\n",
       "      <td>0.74</td>\n",
       "      <td>0.85</td>\n",
       "      <td>0.46</td>\n",
       "      <td>0.55</td>\n",
       "      <td>0.80</td>\n",
       "      <td>0.97</td>\n",
       "      <td>0.28</td>\n",
       "      <td>0.59</td>\n",
       "      <td>0.72</td>\n",
       "      <td>0.64</td>\n",
       "    </tr>\n",
       "    <tr>\n",
       "      <th>4</th>\n",
       "      <td>GradientBoostingClassifier</td>\n",
       "      <td>áno</td>\n",
       "      <td>0.74</td>\n",
       "      <td>0.85</td>\n",
       "      <td>0.43</td>\n",
       "      <td>0.54</td>\n",
       "      <td>0.82</td>\n",
       "      <td>0.96</td>\n",
       "      <td>0.27</td>\n",
       "      <td>0.60</td>\n",
       "      <td>0.72</td>\n",
       "      <td>0.64</td>\n",
       "    </tr>\n",
       "    <tr>\n",
       "      <th>3</th>\n",
       "      <td>LogisticRegression</td>\n",
       "      <td>nie</td>\n",
       "      <td>0.73</td>\n",
       "      <td>0.84</td>\n",
       "      <td>0.48</td>\n",
       "      <td>0.53</td>\n",
       "      <td>0.81</td>\n",
       "      <td>0.97</td>\n",
       "      <td>0.30</td>\n",
       "      <td>0.59</td>\n",
       "      <td>0.68</td>\n",
       "      <td>0.64</td>\n",
       "    </tr>\n",
       "    <tr>\n",
       "      <th>7</th>\n",
       "      <td>LinearSVC</td>\n",
       "      <td>áno</td>\n",
       "      <td>0.73</td>\n",
       "      <td>0.84</td>\n",
       "      <td>0.49</td>\n",
       "      <td>0.52</td>\n",
       "      <td>0.76</td>\n",
       "      <td>0.98</td>\n",
       "      <td>0.17</td>\n",
       "      <td>0.56</td>\n",
       "      <td>0.74</td>\n",
       "      <td>0.61</td>\n",
       "    </tr>\n",
       "    <tr>\n",
       "      <th>0</th>\n",
       "      <td>DecisionTreeClassifier</td>\n",
       "      <td>nie</td>\n",
       "      <td>0.72</td>\n",
       "      <td>0.84</td>\n",
       "      <td>0.49</td>\n",
       "      <td>0.49</td>\n",
       "      <td>0.75</td>\n",
       "      <td>0.96</td>\n",
       "      <td>0.28</td>\n",
       "      <td>0.48</td>\n",
       "      <td>0.74</td>\n",
       "      <td>0.62</td>\n",
       "    </tr>\n",
       "    <tr>\n",
       "      <th>5</th>\n",
       "      <td>LogisticRegression</td>\n",
       "      <td>áno</td>\n",
       "      <td>0.72</td>\n",
       "      <td>0.85</td>\n",
       "      <td>0.41</td>\n",
       "      <td>0.52</td>\n",
       "      <td>0.77</td>\n",
       "      <td>0.95</td>\n",
       "      <td>0.23</td>\n",
       "      <td>0.56</td>\n",
       "      <td>0.74</td>\n",
       "      <td>0.62</td>\n",
       "    </tr>\n",
       "    <tr>\n",
       "      <th>8</th>\n",
       "      <td>MLPClassifier</td>\n",
       "      <td>áno</td>\n",
       "      <td>0.71</td>\n",
       "      <td>0.86</td>\n",
       "      <td>0.40</td>\n",
       "      <td>0.49</td>\n",
       "      <td>0.75</td>\n",
       "      <td>0.95</td>\n",
       "      <td>0.23</td>\n",
       "      <td>0.54</td>\n",
       "      <td>0.73</td>\n",
       "      <td>0.61</td>\n",
       "    </tr>\n",
       "    <tr>\n",
       "      <th>6</th>\n",
       "      <td>LinearDiscriminantAnalysis</td>\n",
       "      <td>áno</td>\n",
       "      <td>0.70</td>\n",
       "      <td>0.86</td>\n",
       "      <td>0.35</td>\n",
       "      <td>0.50</td>\n",
       "      <td>0.76</td>\n",
       "      <td>0.92</td>\n",
       "      <td>0.33</td>\n",
       "      <td>0.49</td>\n",
       "      <td>0.72</td>\n",
       "      <td>0.62</td>\n",
       "    </tr>\n",
       "    <tr>\n",
       "      <th>2</th>\n",
       "      <td>KNeighborsClassifier</td>\n",
       "      <td>nie</td>\n",
       "      <td>0.69</td>\n",
       "      <td>0.78</td>\n",
       "      <td>0.38</td>\n",
       "      <td>0.49</td>\n",
       "      <td>0.78</td>\n",
       "      <td>0.98</td>\n",
       "      <td>0.15</td>\n",
       "      <td>0.52</td>\n",
       "      <td>0.66</td>\n",
       "      <td>0.58</td>\n",
       "    </tr>\n",
       "  </tbody>\n",
       "</table>\n",
       "</div>"
      ],
      "text/plain": [
       "                   Algoritmus Transformácia     S   P_0   P_1   P_2   P_3  \\\n",
       "1  GradientBoostingClassifier           nie  0.74  0.85  0.46  0.55  0.80   \n",
       "4  GradientBoostingClassifier           áno  0.74  0.85  0.43  0.54  0.82   \n",
       "3          LogisticRegression           nie  0.73  0.84  0.48  0.53  0.81   \n",
       "7                   LinearSVC           áno  0.73  0.84  0.49  0.52  0.76   \n",
       "0      DecisionTreeClassifier           nie  0.72  0.84  0.49  0.49  0.75   \n",
       "5          LogisticRegression           áno  0.72  0.85  0.41  0.52  0.77   \n",
       "8               MLPClassifier           áno  0.71  0.86  0.40  0.49  0.75   \n",
       "6  LinearDiscriminantAnalysis           áno  0.70  0.86  0.35  0.50  0.76   \n",
       "2        KNeighborsClassifier           nie  0.69  0.78  0.38  0.49  0.78   \n",
       "\n",
       "    Ú_0   Ú_1   Ú_2   Ú_3  F1_makro  \n",
       "1  0.97  0.28  0.59  0.72      0.64  \n",
       "4  0.96  0.27  0.60  0.72      0.64  \n",
       "3  0.97  0.30  0.59  0.68      0.64  \n",
       "7  0.98  0.17  0.56  0.74      0.61  \n",
       "0  0.96  0.28  0.48  0.74      0.62  \n",
       "5  0.95  0.23  0.56  0.74      0.62  \n",
       "8  0.95  0.23  0.54  0.73      0.61  \n",
       "6  0.92  0.33  0.49  0.72      0.62  \n",
       "2  0.98  0.15  0.52  0.66      0.58  "
      ]
     },
     "execution_count": 118,
     "metadata": {},
     "output_type": "execute_result"
    }
   ],
   "source": [
    "df_results[['Algoritmus','Transformácia','S','P_0','P_1','P_2','P_3','Ú_0','Ú_1','Ú_2','Ú_3', 'F1_makro']]\\\n",
    ".sort_values(by=['S'], ascending=False)"
   ]
  },
  {
   "cell_type": "code",
   "execution_count": 119,
   "metadata": {
    "collapsed": true
   },
   "outputs": [],
   "source": [
    "df_results[['Algoritmus','Transformácia','S','P_0','P_1','P_2','P_3','Ú_0','Ú_1','Ú_2','Ú_3', 'F1_makro']]\\\n",
    ".sort_values(by=['S'], ascending=False).to_csv('results/tuning_static_dynamic_no_categories.csv')"
   ]
  },
  {
   "cell_type": "code",
   "execution_count": null,
   "metadata": {
    "collapsed": true
   },
   "outputs": [],
   "source": []
  },
  {
   "cell_type": "markdown",
   "metadata": {
    "collapsed": true
   },
   "source": [
    "# NO TUNING - EXPERIMENTS TESTING NLP FEATURES IMPACT\n",
    "see notebook Checkpoints/HP tuning + NLP"
   ]
  }
 ],
 "metadata": {
  "kernelspec": {
   "display_name": "Python 3",
   "language": "python",
   "name": "python3"
  },
  "language_info": {
   "codemirror_mode": {
    "name": "ipython",
    "version": 3
   },
   "file_extension": ".py",
   "mimetype": "text/x-python",
   "name": "python",
   "nbconvert_exporter": "python",
   "pygments_lexer": "ipython3",
   "version": "3.6.1"
  }
 },
 "nbformat": 4,
 "nbformat_minor": 2
}
