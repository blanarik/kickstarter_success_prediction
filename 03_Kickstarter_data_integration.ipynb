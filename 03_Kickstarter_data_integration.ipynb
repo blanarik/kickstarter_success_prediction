{
 "cells": [
  {
   "cell_type": "code",
   "execution_count": 1,
   "metadata": {
    "collapsed": true
   },
   "outputs": [],
   "source": [
    "%matplotlib inline\n",
    "import pandas as pd"
   ]
  },
  {
   "cell_type": "markdown",
   "metadata": {},
   "source": [
    "## Live projects"
   ]
  },
  {
   "cell_type": "code",
   "execution_count": 2,
   "metadata": {},
   "outputs": [
    {
     "name": "stderr",
     "output_type": "stream",
     "text": [
      "C:\\Users\\Patrik\\Anaconda3\\lib\\site-packages\\IPython\\core\\interactiveshell.py:2717: DtypeWarning: Columns (11,14,17,18,19,24,32,40) have mixed types. Specify dtype option on import or set low_memory=False.\n",
      "  interactivity=interactivity, compiler=compiler, result=result)\n"
     ]
    },
    {
     "name": "stdout",
     "output_type": "stream",
     "text": [
      "<class 'pandas.core.frame.DataFrame'>\n",
      "Int64Index: 88384 entries, 0 to 88383\n",
      "Data columns (total 40 columns):\n",
      "backers_count               88384 non-null int64\n",
      "blurb                       88384 non-null object\n",
      "category                    88384 non-null object\n",
      "converted_pledged_amount    3591 non-null float64\n",
      "country                     88384 non-null object\n",
      "created_at                  88384 non-null int64\n",
      "creator                     88384 non-null object\n",
      "currency                    88384 non-null object\n",
      "currency_symbol             88384 non-null object\n",
      "currency_trailing_code      88384 non-null bool\n",
      "current_currency            3591 non-null object\n",
      "deadline                    88384 non-null int64\n",
      "disable_communication       88384 non-null bool\n",
      "friends                     1719 non-null object\n",
      "goal                        88384 non-null float64\n",
      "id                          88384 non-null int64\n",
      "is_backing                  1719 non-null object\n",
      "is_starrable                10652 non-null object\n",
      "is_starred                  1719 non-null object\n",
      "last_update_published_at    1 non-null float64\n",
      "launched_at                 88384 non-null int64\n",
      "location                    88384 non-null object\n",
      "name                        88384 non-null object\n",
      "permissions                 1719 non-null object\n",
      "photo                       88384 non-null object\n",
      "pledged                     88384 non-null float64\n",
      "profile                     88384 non-null object\n",
      "scraped_at                  88384 non-null float64\n",
      "slug                        88384 non-null object\n",
      "source_url                  88384 non-null object\n",
      "spotlight                   88384 non-null bool\n",
      "staff_pick                  78419 non-null object\n",
      "state                       88384 non-null object\n",
      "state_changed_at            88384 non-null int64\n",
      "static_usd_rate             88384 non-null float64\n",
      "unread_messages_count       1 non-null float64\n",
      "unseen_activity_count       1 non-null float64\n",
      "urls                        88384 non-null object\n",
      "usd_pledged                 88384 non-null float64\n",
      "usd_type                    3591 non-null object\n",
      "dtypes: bool(3), float64(9), int64(6), object(22)\n",
      "memory usage: 25.9+ MB\n"
     ]
    }
   ],
   "source": [
    "df_live = pd.read_csv('live.csv', encoding='cp1252', index_col=0)\n",
    "df_live.info()"
   ]
  },
  {
   "cell_type": "markdown",
   "metadata": {},
   "source": [
    "## Ended projects"
   ]
  },
  {
   "cell_type": "code",
   "execution_count": 3,
   "metadata": {},
   "outputs": [
    {
     "name": "stdout",
     "output_type": "stream",
     "text": [
      "<class 'pandas.core.frame.DataFrame'>\n",
      "Int64Index: 56874 entries, 0 to 56873\n",
      "Data columns (total 40 columns):\n",
      "backers_count               56874 non-null int64\n",
      "blurb                       56872 non-null object\n",
      "category                    56874 non-null object\n",
      "converted_pledged_amount    1464 non-null float64\n",
      "country                     56874 non-null object\n",
      "created_at                  56874 non-null int64\n",
      "creator                     56874 non-null object\n",
      "currency                    56874 non-null object\n",
      "currency_symbol             56874 non-null object\n",
      "currency_trailing_code      56874 non-null bool\n",
      "current_currency            1464 non-null object\n",
      "deadline                    56874 non-null int64\n",
      "disable_communication       56874 non-null bool\n",
      "friends                     3 non-null object\n",
      "goal                        56874 non-null float64\n",
      "id                          56874 non-null int64\n",
      "is_backing                  3 non-null object\n",
      "is_starrable                4699 non-null object\n",
      "is_starred                  3 non-null object\n",
      "last_update_published_at    0 non-null float64\n",
      "launched_at                 56874 non-null int64\n",
      "location                    56874 non-null object\n",
      "name                        56874 non-null object\n",
      "permissions                 3 non-null object\n",
      "photo                       56874 non-null object\n",
      "pledged                     56874 non-null float64\n",
      "profile                     56874 non-null object\n",
      "scraped_at                  56874 non-null float64\n",
      "slug                        56874 non-null object\n",
      "source_url                  56874 non-null object\n",
      "spotlight                   56874 non-null bool\n",
      "staff_pick                  53187 non-null object\n",
      "state                       56874 non-null object\n",
      "state_changed_at            56874 non-null int64\n",
      "static_usd_rate             56874 non-null float64\n",
      "unread_messages_count       0 non-null float64\n",
      "unseen_activity_count       0 non-null float64\n",
      "urls                        56874 non-null object\n",
      "usd_pledged                 56874 non-null float64\n",
      "usd_type                    1464 non-null object\n",
      "dtypes: bool(3), float64(9), int64(6), object(22)\n",
      "memory usage: 16.7+ MB\n"
     ]
    },
    {
     "name": "stderr",
     "output_type": "stream",
     "text": [
      "C:\\Users\\Patrik\\Anaconda3\\lib\\site-packages\\IPython\\core\\interactiveshell.py:2717: DtypeWarning: Columns (11,14,17,18,19,24,32,40) have mixed types. Specify dtype option on import or set low_memory=False.\n",
      "  interactivity=interactivity, compiler=compiler, result=result)\n"
     ]
    }
   ],
   "source": [
    "df_ended = pd.read_csv('ended.csv', encoding='cp1252', index_col=0)\n",
    "df_ended.info()"
   ]
  },
  {
   "cell_type": "markdown",
   "metadata": {},
   "source": [
    "## Merging live with ended"
   ]
  },
  {
   "cell_type": "code",
   "execution_count": 4,
   "metadata": {},
   "outputs": [
    {
     "name": "stdout",
     "output_type": "stream",
     "text": [
      "<class 'pandas.core.frame.DataFrame'>\n",
      "Int64Index: 56874 entries, 0 to 56873\n",
      "Data columns (total 40 columns):\n",
      "backers_count_end               56874 non-null int64\n",
      "blurb_end                       56872 non-null object\n",
      "category_end                    56874 non-null object\n",
      "converted_pledged_amount_end    1464 non-null float64\n",
      "country_end                     56874 non-null object\n",
      "created_at_end                  56874 non-null int64\n",
      "creator_end                     56874 non-null object\n",
      "currency_end                    56874 non-null object\n",
      "currency_symbol_end             56874 non-null object\n",
      "currency_trailing_code_end      56874 non-null bool\n",
      "current_currency_end            1464 non-null object\n",
      "deadline_end                    56874 non-null int64\n",
      "disable_communication_end       56874 non-null bool\n",
      "friends_end                     3 non-null object\n",
      "goal_end                        56874 non-null float64\n",
      "id_end                          56874 non-null int64\n",
      "is_backing_end                  3 non-null object\n",
      "is_starrable_end                4699 non-null object\n",
      "is_starred_end                  3 non-null object\n",
      "last_update_published_at_end    0 non-null float64\n",
      "launched_at_end                 56874 non-null int64\n",
      "location_end                    56874 non-null object\n",
      "name_end                        56874 non-null object\n",
      "permissions_end                 3 non-null object\n",
      "photo_end                       56874 non-null object\n",
      "pledged_end                     56874 non-null float64\n",
      "profile_end                     56874 non-null object\n",
      "scraped_at_end                  56874 non-null float64\n",
      "slug_end                        56874 non-null object\n",
      "source_url_end                  56874 non-null object\n",
      "spotlight_end                   56874 non-null bool\n",
      "staff_pick_end                  53187 non-null object\n",
      "state_end                       56874 non-null object\n",
      "state_changed_at_end            56874 non-null int64\n",
      "static_usd_rate_end             56874 non-null float64\n",
      "unread_messages_count_end       0 non-null float64\n",
      "unseen_activity_count_end       0 non-null float64\n",
      "urls_end                        56874 non-null object\n",
      "usd_pledged_end                 56874 non-null float64\n",
      "usd_type_end                    1464 non-null object\n",
      "dtypes: bool(3), float64(9), int64(6), object(22)\n",
      "memory usage: 16.7+ MB\n"
     ]
    }
   ],
   "source": [
    "# rename columns\n",
    "df_ended.rename(columns=lambda name: name+'_end', inplace=True)"
   ]
  },
  {
   "cell_type": "code",
   "execution_count": 5,
   "metadata": {},
   "outputs": [
    {
     "name": "stdout",
     "output_type": "stream",
     "text": [
      "<class 'pandas.core.frame.DataFrame'>\n",
      "Int64Index: 65038 entries, 0 to 65037\n",
      "Data columns (total 80 columns):\n",
      "backers_count                   65038 non-null int64\n",
      "blurb                           65038 non-null object\n",
      "category                        65038 non-null object\n",
      "converted_pledged_amount        0 non-null float64\n",
      "country                         65038 non-null object\n",
      "created_at                      65038 non-null int64\n",
      "creator                         65038 non-null object\n",
      "currency                        65038 non-null object\n",
      "currency_symbol                 65038 non-null object\n",
      "currency_trailing_code          65038 non-null bool\n",
      "current_currency                0 non-null object\n",
      "deadline                        65038 non-null int64\n",
      "disable_communication           65038 non-null bool\n",
      "friends                         904 non-null object\n",
      "goal                            65038 non-null float64\n",
      "id                              65038 non-null int64\n",
      "is_backing                      904 non-null object\n",
      "is_starrable                    3169 non-null object\n",
      "is_starred                      904 non-null object\n",
      "last_update_published_at        1 non-null float64\n",
      "launched_at                     65038 non-null int64\n",
      "location                        65038 non-null object\n",
      "name                            65038 non-null object\n",
      "permissions                     904 non-null object\n",
      "photo                           65038 non-null object\n",
      "pledged                         65038 non-null float64\n",
      "profile                         65038 non-null object\n",
      "scraped_at                      65038 non-null float64\n",
      "slug                            65038 non-null object\n",
      "source_url                      65038 non-null object\n",
      "spotlight                       65038 non-null bool\n",
      "staff_pick                      57503 non-null object\n",
      "state                           65038 non-null object\n",
      "state_changed_at                65038 non-null int64\n",
      "static_usd_rate                 65038 non-null float64\n",
      "unread_messages_count           1 non-null float64\n",
      "unseen_activity_count           1 non-null float64\n",
      "urls                            65038 non-null object\n",
      "usd_pledged                     65038 non-null float64\n",
      "usd_type                        0 non-null object\n",
      "backers_count_end               65038 non-null int64\n",
      "blurb_end                       65036 non-null object\n",
      "category_end                    65038 non-null object\n",
      "converted_pledged_amount_end    1701 non-null float64\n",
      "country_end                     65038 non-null object\n",
      "created_at_end                  65038 non-null int64\n",
      "creator_end                     65038 non-null object\n",
      "currency_end                    65038 non-null object\n",
      "currency_symbol_end             65038 non-null object\n",
      "currency_trailing_code_end      65038 non-null bool\n",
      "current_currency_end            1701 non-null object\n",
      "deadline_end                    65038 non-null int64\n",
      "disable_communication_end       65038 non-null bool\n",
      "friends_end                     4 non-null object\n",
      "goal_end                        65038 non-null float64\n",
      "id_end                          65038 non-null int64\n",
      "is_backing_end                  4 non-null object\n",
      "is_starrable_end                5443 non-null object\n",
      "is_starred_end                  4 non-null object\n",
      "last_update_published_at_end    0 non-null float64\n",
      "launched_at_end                 65038 non-null int64\n",
      "location_end                    65038 non-null object\n",
      "name_end                        65038 non-null object\n",
      "permissions_end                 4 non-null object\n",
      "photo_end                       65038 non-null object\n",
      "pledged_end                     65038 non-null float64\n",
      "profile_end                     65038 non-null object\n",
      "scraped_at_end                  65038 non-null float64\n",
      "slug_end                        65038 non-null object\n",
      "source_url_end                  65038 non-null object\n",
      "spotlight_end                   65038 non-null bool\n",
      "staff_pick_end                  61349 non-null object\n",
      "state_end                       65038 non-null object\n",
      "state_changed_at_end            65038 non-null int64\n",
      "static_usd_rate_end             65038 non-null float64\n",
      "unread_messages_count_end       0 non-null float64\n",
      "unseen_activity_count_end       0 non-null float64\n",
      "urls_end                        65038 non-null object\n",
      "usd_pledged_end                 65038 non-null float64\n",
      "usd_type_end                    1701 non-null object\n",
      "dtypes: bool(6), float64(18), int64(12), object(44)\n",
      "memory usage: 37.6+ MB\n"
     ]
    }
   ],
   "source": [
    "# merge projects to single dataframe\n",
    "df_projects = df_live.merge(df_ended, left_on='id', right_on='id_end')\n",
    "df_projects.info()"
   ]
  },
  {
   "cell_type": "markdown",
   "metadata": {},
   "source": [
    "### Cleaning merged dataset"
   ]
  },
  {
   "cell_type": "code",
   "execution_count": 6,
   "metadata": {},
   "outputs": [
    {
     "name": "stdout",
     "output_type": "stream",
     "text": [
      "['country_end', 'created_at_end', 'currency_end', 'currency_symbol_end', 'currency_trailing_code_end', 'goal_end', 'id_end', 'slug_end']\n"
     ]
    }
   ],
   "source": [
    "# drop duplicate columns\n",
    "cols_to_drop = []\n",
    "for col in df_live.columns:\n",
    "    try:\n",
    "        (df_projects[col] != df_projects[col+'_end']).value_counts()[True]\n",
    "    except KeyError:\n",
    "        cols_to_drop.append(col+'_end')\n",
    "print(cols_to_drop)\n",
    "df_projects.drop(cols_to_drop, axis=1, inplace=True)"
   ]
  },
  {
   "cell_type": "code",
   "execution_count": 7,
   "metadata": {
    "collapsed": true
   },
   "outputs": [],
   "source": [
    "# drop columns with less than 50% of values\n",
    "df_projects.dropna(axis=1, thresh=df_projects.shape[0]/2, inplace=True)"
   ]
  },
  {
   "cell_type": "code",
   "execution_count": 8,
   "metadata": {},
   "outputs": [
    {
     "name": "stdout",
     "output_type": "stream",
     "text": [
      "<class 'pandas.core.frame.DataFrame'>\n",
      "Int64Index: 65038 entries, 0 to 65037\n",
      "Data columns (total 50 columns):\n",
      "backers_count                65038 non-null int64\n",
      "blurb                        65038 non-null object\n",
      "category                     65038 non-null object\n",
      "country                      65038 non-null object\n",
      "created_at                   65038 non-null int64\n",
      "creator                      65038 non-null object\n",
      "currency                     65038 non-null object\n",
      "currency_symbol              65038 non-null object\n",
      "currency_trailing_code       65038 non-null bool\n",
      "deadline                     65038 non-null int64\n",
      "disable_communication        65038 non-null bool\n",
      "goal                         65038 non-null float64\n",
      "id                           65038 non-null int64\n",
      "launched_at                  65038 non-null int64\n",
      "location                     65038 non-null object\n",
      "name                         65038 non-null object\n",
      "photo                        65038 non-null object\n",
      "pledged                      65038 non-null float64\n",
      "profile                      65038 non-null object\n",
      "scraped_at                   65038 non-null float64\n",
      "slug                         65038 non-null object\n",
      "source_url                   65038 non-null object\n",
      "spotlight                    65038 non-null bool\n",
      "staff_pick                   57503 non-null object\n",
      "state                        65038 non-null object\n",
      "state_changed_at             65038 non-null int64\n",
      "static_usd_rate              65038 non-null float64\n",
      "urls                         65038 non-null object\n",
      "usd_pledged                  65038 non-null float64\n",
      "backers_count_end            65038 non-null int64\n",
      "blurb_end                    65036 non-null object\n",
      "category_end                 65038 non-null object\n",
      "creator_end                  65038 non-null object\n",
      "deadline_end                 65038 non-null int64\n",
      "disable_communication_end    65038 non-null bool\n",
      "launched_at_end              65038 non-null int64\n",
      "location_end                 65038 non-null object\n",
      "name_end                     65038 non-null object\n",
      "photo_end                    65038 non-null object\n",
      "pledged_end                  65038 non-null float64\n",
      "profile_end                  65038 non-null object\n",
      "scraped_at_end               65038 non-null float64\n",
      "source_url_end               65038 non-null object\n",
      "spotlight_end                65038 non-null bool\n",
      "staff_pick_end               61349 non-null object\n",
      "state_end                    65038 non-null object\n",
      "state_changed_at_end         65038 non-null int64\n",
      "static_usd_rate_end          65038 non-null float64\n",
      "urls_end                     65038 non-null object\n",
      "usd_pledged_end              65038 non-null float64\n",
      "dtypes: bool(5), float64(9), int64(10), object(26)\n",
      "memory usage: 23.1+ MB\n"
     ]
    }
   ],
   "source": [
    "df_projects.info()"
   ]
  },
  {
   "cell_type": "markdown",
   "metadata": {},
   "source": [
    "### Resolving inconsistency"
   ]
  },
  {
   "cell_type": "markdown",
   "metadata": {},
   "source": [
    "#### launched_at"
   ]
  },
  {
   "cell_type": "code",
   "execution_count": 9,
   "metadata": {},
   "outputs": [
    {
     "data": {
      "text/plain": [
       "<matplotlib.axes._subplots.AxesSubplot at 0x23f2cb9a6a0>"
      ]
     },
     "execution_count": 9,
     "metadata": {},
     "output_type": "execute_result"
    },
    {
     "data": {
      "image/png": "[encoded data removed]",
      "text/plain": [
       "<matplotlib.figure.Figure at 0x23f5db38470>"
      ]
     },
     "metadata": {},
     "output_type": "display_data"
    }
   ],
   "source": [
    "df_projects.plot(x='launched_at', y='launched_at_end', kind='scatter', figsize=(8,8))"
   ]
  },
  {
   "cell_type": "code",
   "execution_count": 10,
   "metadata": {},
   "outputs": [
    {
     "data": {
      "text/plain": [
       "False    65037\n",
       "True         1\n",
       "dtype: int64"
      ]
     },
     "execution_count": 10,
     "metadata": {},
     "output_type": "execute_result"
    }
   ],
   "source": [
    "# this should not contain True, but it does => inconsistency in dataset\n",
    "(df_projects['launched_at'] != df_projects['launched_at_end']).value_counts()"
   ]
  },
  {
   "cell_type": "code",
   "execution_count": 11,
   "metadata": {},
   "outputs": [
    {
     "data": {
      "text/html": [
       "<div>\n",
       "<style>\n",
       "    .dataframe thead tr:only-child th {\n",
       "        text-align: right;\n",
       "    }\n",
       "\n",
       "    .dataframe thead th {\n",
       "        text-align: left;\n",
       "    }\n",
       "\n",
       "    .dataframe tbody tr th {\n",
       "        vertical-align: top;\n",
       "    }\n",
       "</style>\n",
       "<table border=\"1\" class=\"dataframe\">\n",
       "  <thead>\n",
       "    <tr style=\"text-align: right;\">\n",
       "      <th></th>\n",
       "      <th>id</th>\n",
       "      <th>name</th>\n",
       "      <th>launched_at</th>\n",
       "      <th>launched_at_end</th>\n",
       "    </tr>\n",
       "  </thead>\n",
       "  <tbody>\n",
       "    <tr>\n",
       "      <th>9271</th>\n",
       "      <td>615482414</td>\n",
       "      <td>Instant Hydrator, Hydrates,All Natural, Digest...</td>\n",
       "      <td>1453784664</td>\n",
       "      <td>1454537838</td>\n",
       "    </tr>\n",
       "  </tbody>\n",
       "</table>\n",
       "</div>"
      ],
      "text/plain": [
       "             id                                               name  \\\n",
       "9271  615482414  Instant Hydrator, Hydrates,All Natural, Digest...   \n",
       "\n",
       "      launched_at  launched_at_end  \n",
       "9271   1453784664       1454537838  "
      ]
     },
     "execution_count": 11,
     "metadata": {},
     "output_type": "execute_result"
    }
   ],
   "source": [
    "# look at values\n",
    "df_projects[(df_projects['launched_at'] != df_projects['launched_at_end'])][['id','name','launched_at','launched_at_end']]"
   ]
  },
  {
   "cell_type": "code",
   "execution_count": 12,
   "metadata": {
    "collapsed": true
   },
   "outputs": [],
   "source": [
    "# first value is incorrect, drop first column\n",
    "# https://www.kickstarter.com/projects/1428469449/instant-hydrator-hydratesall-natural-digestive-ph\n",
    "df_projects.drop('launched_at', axis=1, inplace=True)"
   ]
  },
  {
   "cell_type": "markdown",
   "metadata": {},
   "source": [
    "#### deadline"
   ]
  },
  {
   "cell_type": "code",
   "execution_count": 13,
   "metadata": {},
   "outputs": [
    {
     "data": {
      "text/plain": [
       "<matplotlib.axes._subplots.AxesSubplot at 0x23f51422e48>"
      ]
     },
     "execution_count": 13,
     "metadata": {},
     "output_type": "execute_result"
    },
    {
     "data": {
      "image/png": "[encoded data removed]",
      "text/plain": [
       "<matplotlib.figure.Figure at 0x23f5c337f28>"
      ]
     },
     "metadata": {},
     "output_type": "display_data"
    }
   ],
   "source": [
    "df_projects.plot(x='deadline', y='deadline_end', kind='scatter', figsize=(8,8))"
   ]
  },
  {
   "cell_type": "code",
   "execution_count": 14,
   "metadata": {},
   "outputs": [
    {
     "data": {
      "text/plain": [
       "False    64980\n",
       "True        58\n",
       "dtype: int64"
      ]
     },
     "execution_count": 14,
     "metadata": {},
     "output_type": "execute_result"
    }
   ],
   "source": [
    "# this should not contain True, but it does => inconsistency in dataset\n",
    "(df_projects['deadline'] != df_projects['deadline_end']).value_counts()"
   ]
  },
  {
   "cell_type": "code",
   "execution_count": 15,
   "metadata": {},
   "outputs": [
    {
     "data": {
      "text/html": [
       "<div>\n",
       "<style>\n",
       "    .dataframe thead tr:only-child th {\n",
       "        text-align: right;\n",
       "    }\n",
       "\n",
       "    .dataframe thead th {\n",
       "        text-align: left;\n",
       "    }\n",
       "\n",
       "    .dataframe tbody tr th {\n",
       "        vertical-align: top;\n",
       "    }\n",
       "</style>\n",
       "<table border=\"1\" class=\"dataframe\">\n",
       "  <thead>\n",
       "    <tr style=\"text-align: right;\">\n",
       "      <th></th>\n",
       "      <th>id</th>\n",
       "      <th>name</th>\n",
       "      <th>deadline</th>\n",
       "      <th>deadline_end</th>\n",
       "    </tr>\n",
       "  </thead>\n",
       "  <tbody>\n",
       "    <tr>\n",
       "      <th>619</th>\n",
       "      <td>603503453</td>\n",
       "      <td>The Monsieur Barbier Box : Shaving &amp; Music, Ra...</td>\n",
       "      <td>1448922180</td>\n",
       "      <td>1449613380</td>\n",
       "    </tr>\n",
       "    <tr>\n",
       "      <th>633</th>\n",
       "      <td>1495917692</td>\n",
       "      <td>2016 Letterpress Calendar . The creative manif...</td>\n",
       "      <td>1449009780</td>\n",
       "      <td>1449441780</td>\n",
       "    </tr>\n",
       "    <tr>\n",
       "      <th>1345</th>\n",
       "      <td>1378352264</td>\n",
       "      <td>Casablancas | The Man Who Loved Women</td>\n",
       "      <td>1449164045</td>\n",
       "      <td>1450287245</td>\n",
       "    </tr>\n",
       "    <tr>\n",
       "      <th>1366</th>\n",
       "      <td>1866394158</td>\n",
       "      <td>I Love Therefore I Am - Documentary</td>\n",
       "      <td>1448866800</td>\n",
       "      <td>1449730800</td>\n",
       "    </tr>\n",
       "    <tr>\n",
       "      <th>1780</th>\n",
       "      <td>1020745465</td>\n",
       "      <td>SECOND CHANCE - DEUXI?ME CHANCE</td>\n",
       "      <td>1450016445</td>\n",
       "      <td>1451226045</td>\n",
       "    </tr>\n",
       "    <tr>\n",
       "      <th>2110</th>\n",
       "      <td>2044197681</td>\n",
       "      <td>Welcome to Another World!</td>\n",
       "      <td>1448018810</td>\n",
       "      <td>1448623610</td>\n",
       "    </tr>\n",
       "    <tr>\n",
       "      <th>2284</th>\n",
       "      <td>281156070</td>\n",
       "      <td>Würm : a prehistoric RPG</td>\n",
       "      <td>1449239761</td>\n",
       "      <td>1449671761</td>\n",
       "    </tr>\n",
       "    <tr>\n",
       "      <th>2381</th>\n",
       "      <td>174456433</td>\n",
       "      <td>Pur cashmere poncho Workshop</td>\n",
       "      <td>1448756490</td>\n",
       "      <td>1449966090</td>\n",
       "    </tr>\n",
       "    <tr>\n",
       "      <th>2415</th>\n",
       "      <td>382060495</td>\n",
       "      <td>Pankapu: the Dreamkeeper</td>\n",
       "      <td>1448621976</td>\n",
       "      <td>1449831576</td>\n",
       "    </tr>\n",
       "    <tr>\n",
       "      <th>2487</th>\n",
       "      <td>1401246575</td>\n",
       "      <td>#lanouvelleolympe</td>\n",
       "      <td>1448630040</td>\n",
       "      <td>1449839640</td>\n",
       "    </tr>\n",
       "  </tbody>\n",
       "</table>\n",
       "</div>"
      ],
      "text/plain": [
       "              id                                               name  \\\n",
       "619    603503453  The Monsieur Barbier Box : Shaving & Music, Ra...   \n",
       "633   1495917692  2016 Letterpress Calendar . The creative manif...   \n",
       "1345  1378352264              Casablancas | The Man Who Loved Women   \n",
       "1366  1866394158                I Love Therefore I Am - Documentary   \n",
       "1780  1020745465                    SECOND CHANCE - DEUXI?ME CHANCE   \n",
       "2110  2044197681                          Welcome to Another World!   \n",
       "2284   281156070                           Würm : a prehistoric RPG   \n",
       "2381   174456433                       Pur cashmere poncho Workshop   \n",
       "2415   382060495                           Pankapu: the Dreamkeeper   \n",
       "2487  1401246575                                  #lanouvelleolympe   \n",
       "\n",
       "        deadline  deadline_end  \n",
       "619   1448922180    1449613380  \n",
       "633   1449009780    1449441780  \n",
       "1345  1449164045    1450287245  \n",
       "1366  1448866800    1449730800  \n",
       "1780  1450016445    1451226045  \n",
       "2110  1448018810    1448623610  \n",
       "2284  1449239761    1449671761  \n",
       "2381  1448756490    1449966090  \n",
       "2415  1448621976    1449831576  \n",
       "2487  1448630040    1449839640  "
      ]
     },
     "execution_count": 15,
     "metadata": {},
     "output_type": "execute_result"
    }
   ],
   "source": [
    "# look at values\n",
    "df_projects[(df_projects['deadline'] != df_projects['deadline_end'])][['id','name','deadline','deadline_end']].head(10)"
   ]
  },
  {
   "cell_type": "code",
   "execution_count": 16,
   "metadata": {},
   "outputs": [],
   "source": [
    "# first values are incorrect again, drop first column\n",
    "df_projects.drop('deadline', axis=1, inplace=True)"
   ]
  },
  {
   "cell_type": "code",
   "execution_count": 17,
   "metadata": {
    "collapsed": true
   },
   "outputs": [],
   "source": [
    "df_projects.to_csv('projects.csv')"
   ]
  },
  {
   "cell_type": "markdown",
   "metadata": {},
   "source": [
    "## Analysing dataset"
   ]
  },
  {
   "cell_type": "code",
   "execution_count": 18,
   "metadata": {},
   "outputs": [
    {
     "data": {
      "text/html": [
       "<div>\n",
       "<style>\n",
       "    .dataframe thead tr:only-child th {\n",
       "        text-align: right;\n",
       "    }\n",
       "\n",
       "    .dataframe thead th {\n",
       "        text-align: left;\n",
       "    }\n",
       "\n",
       "    .dataframe tbody tr th {\n",
       "        vertical-align: top;\n",
       "    }\n",
       "</style>\n",
       "<table border=\"1\" class=\"dataframe\">\n",
       "  <thead>\n",
       "    <tr style=\"text-align: right;\">\n",
       "      <th></th>\n",
       "      <th>backers_count</th>\n",
       "      <th>created_at</th>\n",
       "      <th>goal</th>\n",
       "      <th>id</th>\n",
       "      <th>pledged</th>\n",
       "      <th>scraped_at</th>\n",
       "      <th>state_changed_at</th>\n",
       "      <th>static_usd_rate</th>\n",
       "      <th>usd_pledged</th>\n",
       "      <th>backers_count_end</th>\n",
       "      <th>deadline_end</th>\n",
       "      <th>launched_at_end</th>\n",
       "      <th>pledged_end</th>\n",
       "      <th>scraped_at_end</th>\n",
       "      <th>state_changed_at_end</th>\n",
       "      <th>static_usd_rate_end</th>\n",
       "      <th>usd_pledged_end</th>\n",
       "    </tr>\n",
       "  </thead>\n",
       "  <tbody>\n",
       "    <tr>\n",
       "      <th>count</th>\n",
       "      <td>65038.000000</td>\n",
       "      <td>6.503800e+04</td>\n",
       "      <td>6.503800e+04</td>\n",
       "      <td>6.503800e+04</td>\n",
       "      <td>6.503800e+04</td>\n",
       "      <td>6.503800e+04</td>\n",
       "      <td>6.503800e+04</td>\n",
       "      <td>65038.000000</td>\n",
       "      <td>6.503800e+04</td>\n",
       "      <td>65038.000000</td>\n",
       "      <td>6.503800e+04</td>\n",
       "      <td>6.503800e+04</td>\n",
       "      <td>6.503800e+04</td>\n",
       "      <td>6.503800e+04</td>\n",
       "      <td>6.503800e+04</td>\n",
       "      <td>65038.000000</td>\n",
       "      <td>6.503800e+04</td>\n",
       "    </tr>\n",
       "    <tr>\n",
       "      <th>mean</th>\n",
       "      <td>93.181801</td>\n",
       "      <td>1.467838e+09</td>\n",
       "      <td>7.045290e+04</td>\n",
       "      <td>1.073002e+09</td>\n",
       "      <td>9.706526e+03</td>\n",
       "      <td>1.474094e+09</td>\n",
       "      <td>1.472475e+09</td>\n",
       "      <td>0.994714</td>\n",
       "      <td>8.547335e+03</td>\n",
       "      <td>159.475753</td>\n",
       "      <td>1.475652e+09</td>\n",
       "      <td>1.472475e+09</td>\n",
       "      <td>1.708096e+04</td>\n",
       "      <td>1.477562e+09</td>\n",
       "      <td>1.475610e+09</td>\n",
       "      <td>0.994716</td>\n",
       "      <td>1.502729e+04</td>\n",
       "    </tr>\n",
       "    <tr>\n",
       "      <th>std</th>\n",
       "      <td>924.687360</td>\n",
       "      <td>2.076627e+07</td>\n",
       "      <td>1.474647e+06</td>\n",
       "      <td>6.193397e+08</td>\n",
       "      <td>8.741706e+04</td>\n",
       "      <td>1.669881e+07</td>\n",
       "      <td>1.677239e+07</td>\n",
       "      <td>0.220278</td>\n",
       "      <td>8.302131e+04</td>\n",
       "      <td>1272.604621</td>\n",
       "      <td>1.672703e+07</td>\n",
       "      <td>1.677237e+07</td>\n",
       "      <td>1.353804e+05</td>\n",
       "      <td>1.639163e+07</td>\n",
       "      <td>1.672708e+07</td>\n",
       "      <td>0.220277</td>\n",
       "      <td>1.264395e+05</td>\n",
       "    </tr>\n",
       "    <tr>\n",
       "      <th>min</th>\n",
       "      <td>0.000000</td>\n",
       "      <td>1.266343e+09</td>\n",
       "      <td>1.000000e+00</td>\n",
       "      <td>1.852000e+04</td>\n",
       "      <td>0.000000e+00</td>\n",
       "      <td>1.446387e+09</td>\n",
       "      <td>1.441143e+09</td>\n",
       "      <td>0.009143</td>\n",
       "      <td>0.000000e+00</td>\n",
       "      <td>0.000000</td>\n",
       "      <td>1.446392e+09</td>\n",
       "      <td>1.441143e+09</td>\n",
       "      <td>0.000000e+00</td>\n",
       "      <td>1.450359e+09</td>\n",
       "      <td>1.446392e+09</td>\n",
       "      <td>0.009143</td>\n",
       "      <td>0.000000e+00</td>\n",
       "    </tr>\n",
       "    <tr>\n",
       "      <th>25%</th>\n",
       "      <td>1.000000</td>\n",
       "      <td>1.455334e+09</td>\n",
       "      <td>2.400000e+03</td>\n",
       "      <td>5.376639e+08</td>\n",
       "      <td>1.200000e+01</td>\n",
       "      <td>1.460689e+09</td>\n",
       "      <td>1.458759e+09</td>\n",
       "      <td>1.000000</td>\n",
       "      <td>1.200000e+01</td>\n",
       "      <td>2.000000</td>\n",
       "      <td>1.462058e+09</td>\n",
       "      <td>1.458759e+09</td>\n",
       "      <td>3.100000e+01</td>\n",
       "      <td>1.463290e+09</td>\n",
       "      <td>1.462036e+09</td>\n",
       "      <td>1.000000</td>\n",
       "      <td>3.093878e+01</td>\n",
       "    </tr>\n",
       "    <tr>\n",
       "      <th>50%</th>\n",
       "      <td>7.000000</td>\n",
       "      <td>1.467867e+09</td>\n",
       "      <td>7.000000e+03</td>\n",
       "      <td>1.072097e+09</td>\n",
       "      <td>3.860000e+02</td>\n",
       "      <td>1.473914e+09</td>\n",
       "      <td>1.471891e+09</td>\n",
       "      <td>1.000000</td>\n",
       "      <td>3.700000e+02</td>\n",
       "      <td>13.000000</td>\n",
       "      <td>1.475073e+09</td>\n",
       "      <td>1.471891e+09</td>\n",
       "      <td>7.510000e+02</td>\n",
       "      <td>1.476502e+09</td>\n",
       "      <td>1.474991e+09</td>\n",
       "      <td>1.000000</td>\n",
       "      <td>7.187814e+02</td>\n",
       "    </tr>\n",
       "    <tr>\n",
       "      <th>75%</th>\n",
       "      <td>41.000000</td>\n",
       "      <td>1.483904e+09</td>\n",
       "      <td>2.000000e+04</td>\n",
       "      <td>1.606240e+09</td>\n",
       "      <td>2.982000e+03</td>\n",
       "      <td>1.487227e+09</td>\n",
       "      <td>1.486687e+09</td>\n",
       "      <td>1.000000</td>\n",
       "      <td>2.778168e+03</td>\n",
       "      <td>75.000000</td>\n",
       "      <td>1.489795e+09</td>\n",
       "      <td>1.486687e+09</td>\n",
       "      <td>5.891750e+03</td>\n",
       "      <td>1.492298e+09</td>\n",
       "      <td>1.489787e+09</td>\n",
       "      <td>1.000000</td>\n",
       "      <td>5.563885e+03</td>\n",
       "    </tr>\n",
       "    <tr>\n",
       "      <th>max</th>\n",
       "      <td>145232.000000</td>\n",
       "      <td>1.505473e+09</td>\n",
       "      <td>1.000000e+08</td>\n",
       "      <td>2.147422e+09</td>\n",
       "      <td>1.102400e+07</td>\n",
       "      <td>1.505539e+09</td>\n",
       "      <td>1.505523e+09</td>\n",
       "      <td>1.557361</td>\n",
       "      <td>1.102400e+07</td>\n",
       "      <td>154926.000000</td>\n",
       "      <td>1.511283e+09</td>\n",
       "      <td>1.505523e+09</td>\n",
       "      <td>1.277984e+07</td>\n",
       "      <td>1.508088e+09</td>\n",
       "      <td>1.508084e+09</td>\n",
       "      <td>1.557361</td>\n",
       "      <td>1.277984e+07</td>\n",
       "    </tr>\n",
       "  </tbody>\n",
       "</table>\n",
       "</div>"
      ],
      "text/plain": [
       "       backers_count    created_at          goal            id       pledged  \\\n",
       "count   65038.000000  6.503800e+04  6.503800e+04  6.503800e+04  6.503800e+04   \n",
       "mean       93.181801  1.467838e+09  7.045290e+04  1.073002e+09  9.706526e+03   \n",
       "std       924.687360  2.076627e+07  1.474647e+06  6.193397e+08  8.741706e+04   \n",
       "min         0.000000  1.266343e+09  1.000000e+00  1.852000e+04  0.000000e+00   \n",
       "25%         1.000000  1.455334e+09  2.400000e+03  5.376639e+08  1.200000e+01   \n",
       "50%         7.000000  1.467867e+09  7.000000e+03  1.072097e+09  3.860000e+02   \n",
       "75%        41.000000  1.483904e+09  2.000000e+04  1.606240e+09  2.982000e+03   \n",
       "max    145232.000000  1.505473e+09  1.000000e+08  2.147422e+09  1.102400e+07   \n",
       "\n",
       "         scraped_at  state_changed_at  static_usd_rate   usd_pledged  \\\n",
       "count  6.503800e+04      6.503800e+04     65038.000000  6.503800e+04   \n",
       "mean   1.474094e+09      1.472475e+09         0.994714  8.547335e+03   \n",
       "std    1.669881e+07      1.677239e+07         0.220278  8.302131e+04   \n",
       "min    1.446387e+09      1.441143e+09         0.009143  0.000000e+00   \n",
       "25%    1.460689e+09      1.458759e+09         1.000000  1.200000e+01   \n",
       "50%    1.473914e+09      1.471891e+09         1.000000  3.700000e+02   \n",
       "75%    1.487227e+09      1.486687e+09         1.000000  2.778168e+03   \n",
       "max    1.505539e+09      1.505523e+09         1.557361  1.102400e+07   \n",
       "\n",
       "       backers_count_end  deadline_end  launched_at_end   pledged_end  \\\n",
       "count       65038.000000  6.503800e+04     6.503800e+04  6.503800e+04   \n",
       "mean          159.475753  1.475652e+09     1.472475e+09  1.708096e+04   \n",
       "std          1272.604621  1.672703e+07     1.677237e+07  1.353804e+05   \n",
       "min             0.000000  1.446392e+09     1.441143e+09  0.000000e+00   \n",
       "25%             2.000000  1.462058e+09     1.458759e+09  3.100000e+01   \n",
       "50%            13.000000  1.475073e+09     1.471891e+09  7.510000e+02   \n",
       "75%            75.000000  1.489795e+09     1.486687e+09  5.891750e+03   \n",
       "max        154926.000000  1.511283e+09     1.505523e+09  1.277984e+07   \n",
       "\n",
       "       scraped_at_end  state_changed_at_end  static_usd_rate_end  \\\n",
       "count    6.503800e+04          6.503800e+04         65038.000000   \n",
       "mean     1.477562e+09          1.475610e+09             0.994716   \n",
       "std      1.639163e+07          1.672708e+07             0.220277   \n",
       "min      1.450359e+09          1.446392e+09             0.009143   \n",
       "25%      1.463290e+09          1.462036e+09             1.000000   \n",
       "50%      1.476502e+09          1.474991e+09             1.000000   \n",
       "75%      1.492298e+09          1.489787e+09             1.000000   \n",
       "max      1.508088e+09          1.508084e+09             1.557361   \n",
       "\n",
       "       usd_pledged_end  \n",
       "count     6.503800e+04  \n",
       "mean      1.502729e+04  \n",
       "std       1.264395e+05  \n",
       "min       0.000000e+00  \n",
       "25%       3.093878e+01  \n",
       "50%       7.187814e+02  \n",
       "75%       5.563885e+03  \n",
       "max       1.277984e+07  "
      ]
     },
     "execution_count": 18,
     "metadata": {},
     "output_type": "execute_result"
    }
   ],
   "source": [
    "df_projects.describe()"
   ]
  },
  {
   "cell_type": "code",
   "execution_count": 19,
   "metadata": {},
   "outputs": [
    {
     "data": {
      "text/plain": [
       "failed        36190\n",
       "successful    26342\n",
       "canceled       2380\n",
       "suspended       126\n",
       "Name: state_end, dtype: int64"
      ]
     },
     "execution_count": 19,
     "metadata": {},
     "output_type": "execute_result"
    }
   ],
   "source": [
    "df_projects['state_end'].value_counts()"
   ]
  },
  {
   "cell_type": "code",
   "execution_count": 92,
   "metadata": {},
   "outputs": [
    {
     "data": {
      "text/plain": [
       "<matplotlib.axes._subplots.AxesSubplot at 0x23f761de208>"
      ]
     },
     "execution_count": 92,
     "metadata": {},
     "output_type": "execute_result"
    },
    {
     "data": {
      "image/png": "[encoded data removed]",
      "text/plain": [
       "<matplotlib.figure.Figure at 0x23f7b06a860>"
      ]
     },
     "metadata": {},
     "output_type": "display_data"
    }
   ],
   "source": [
    "df_projects['deadline_end'].plot(kind='hist', bins=100, title='Distribution of project deadlines')"
   ]
  },
  {
   "cell_type": "code",
   "execution_count": 96,
   "metadata": {},
   "outputs": [
    {
     "data": {
      "text/plain": [
       "<matplotlib.axes._subplots.AxesSubplot at 0x23f2247a630>"
      ]
     },
     "execution_count": 96,
     "metadata": {},
     "output_type": "execute_result"
    },
    {
     "data": {
      "image/png": "[encoded data removed]",
      "text/plain": [
       "<matplotlib.figure.Figure at 0x23f224bfa58>"
      ]
     },
     "metadata": {},
     "output_type": "display_data"
    }
   ],
   "source": [
    "df_projects['deadline_end'].plot(kind='box', title='Distribution of project deadlines')"
   ]
  },
  {
   "cell_type": "code",
   "execution_count": 99,
   "metadata": {},
   "outputs": [
    {
     "data": {
      "text/plain": [
       "<matplotlib.axes._subplots.AxesSubplot at 0x23f224838d0>"
      ]
     },
     "execution_count": 99,
     "metadata": {},
     "output_type": "execute_result"
    },
    {
     "data": {
      "image/png": "[encoded data removed]",
      "text/plain": [
       "<matplotlib.figure.Figure at 0x23f1a938390>"
      ]
     },
     "metadata": {},
     "output_type": "display_data"
    }
   ],
   "source": [
    "df_projects.boxplot(column='deadline_end', by='state_end')"
   ]
  },
  {
   "cell_type": "code",
   "execution_count": 32,
   "metadata": {
    "collapsed": true
   },
   "outputs": [],
   "source": [
    "from datetime import datetime"
   ]
  },
  {
   "cell_type": "code",
   "execution_count": 103,
   "metadata": {},
   "outputs": [
    {
     "data": {
      "text/plain": [
       "<matplotlib.axes._subplots.AxesSubplot at 0x23f962e9b38>"
      ]
     },
     "execution_count": 103,
     "metadata": {},
     "output_type": "execute_result"
    },
    {
     "data": {
      "image/png": "[encoded data removed]",
      "text/plain": [
       "<matplotlib.figure.Figure at 0x23f23cfbd68>"
      ]
     },
     "metadata": {},
     "output_type": "display_data"
    }
   ],
   "source": [
    "df = df_projects.apply(lambda x: datetime.fromtimestamp(x['scraped_at']), axis=1)\n",
    "df.hist(bins=23, figsize=(15,6))"
   ]
  },
  {
   "cell_type": "code",
   "execution_count": 111,
   "metadata": {},
   "outputs": [
    {
     "data": {
      "text/plain": [
       "0        14\n",
       "1        11\n",
       "2         7\n",
       "3         8\n",
       "4        54\n",
       "5        25\n",
       "6        30\n",
       "7        21\n",
       "8        11\n",
       "9         6\n",
       "10       28\n",
       "11       26\n",
       "12       12\n",
       "13       16\n",
       "14       32\n",
       "15        3\n",
       "16        9\n",
       "17        5\n",
       "18       15\n",
       "19       15\n",
       "20       37\n",
       "21        9\n",
       "22       55\n",
       "23       26\n",
       "24       38\n",
       "25       40\n",
       "26       16\n",
       "27       32\n",
       "28       16\n",
       "29        2\n",
       "         ..\n",
       "65008     3\n",
       "65009    10\n",
       "65010    14\n",
       "65011    16\n",
       "65012    17\n",
       "65013    18\n",
       "65014    25\n",
       "65015    26\n",
       "65016    28\n",
       "65017     1\n",
       "65018    28\n",
       "65019    12\n",
       "65020    21\n",
       "65021     4\n",
       "65022     8\n",
       "65023    14\n",
       "65024    16\n",
       "65025    23\n",
       "65026    25\n",
       "65027    26\n",
       "65028     6\n",
       "65029    10\n",
       "65030    10\n",
       "65031    12\n",
       "65032    14\n",
       "65033    15\n",
       "65034    16\n",
       "65035    21\n",
       "65036    21\n",
       "65037    28\n",
       "Length: 65038, dtype: int64"
      ]
     },
     "execution_count": 111,
     "metadata": {},
     "output_type": "execute_result"
    }
   ],
   "source": [
    "df = df_projects.apply(lambda x: (datetime.fromtimestamp(x['scraped_at']) - datetime.fromtimestamp(x['launched_at_end'])).days, axis=1)\n",
    "df"
   ]
  },
  {
   "cell_type": "code",
   "execution_count": 105,
   "metadata": {},
   "outputs": [
    {
     "ename": "TypeError",
     "evalue": "Cannot cast ufunc less input from dtype('float64') to dtype('<m8[ns]') with casting rule 'same_kind'",
     "output_type": "error",
     "traceback": [
      "\u001b[1;31m---------------------------------------------------------------------------\u001b[0m",
      "\u001b[1;31mTypeError\u001b[0m                                 Traceback (most recent call last)",
      "\u001b[1;32m<ipython-input-105-f9f654416234>\u001b[0m in \u001b[0;36m<module>\u001b[1;34m()\u001b[0m\n\u001b[1;32m----> 1\u001b[1;33m \u001b[0mdf\u001b[0m\u001b[1;33m.\u001b[0m\u001b[0mhist\u001b[0m\u001b[1;33m(\u001b[0m\u001b[0mbins\u001b[0m\u001b[1;33m=\u001b[0m\u001b[1;36m30\u001b[0m\u001b[1;33m)\u001b[0m\u001b[1;33m\u001b[0m\u001b[0m\n\u001b[0m",
      "\u001b[1;32mC:\\Users\\Patrik\\Anaconda3\\lib\\site-packages\\pandas\\plotting\\_core.py\u001b[0m in \u001b[0;36mhist_series\u001b[1;34m(self, by, ax, grid, xlabelsize, xrot, ylabelsize, yrot, figsize, bins, **kwds)\u001b[0m\n\u001b[0;32m   2191\u001b[0m         \u001b[0mvalues\u001b[0m \u001b[1;33m=\u001b[0m \u001b[0mself\u001b[0m\u001b[1;33m.\u001b[0m\u001b[0mdropna\u001b[0m\u001b[1;33m(\u001b[0m\u001b[1;33m)\u001b[0m\u001b[1;33m.\u001b[0m\u001b[0mvalues\u001b[0m\u001b[1;33m\u001b[0m\u001b[0m\n\u001b[0;32m   2192\u001b[0m \u001b[1;33m\u001b[0m\u001b[0m\n\u001b[1;32m-> 2193\u001b[1;33m         \u001b[0max\u001b[0m\u001b[1;33m.\u001b[0m\u001b[0mhist\u001b[0m\u001b[1;33m(\u001b[0m\u001b[0mvalues\u001b[0m\u001b[1;33m,\u001b[0m \u001b[0mbins\u001b[0m\u001b[1;33m=\u001b[0m\u001b[0mbins\u001b[0m\u001b[1;33m,\u001b[0m \u001b[1;33m**\u001b[0m\u001b[0mkwds\u001b[0m\u001b[1;33m)\u001b[0m\u001b[1;33m\u001b[0m\u001b[0m\n\u001b[0m\u001b[0;32m   2194\u001b[0m         \u001b[0max\u001b[0m\u001b[1;33m.\u001b[0m\u001b[0mgrid\u001b[0m\u001b[1;33m(\u001b[0m\u001b[0mgrid\u001b[0m\u001b[1;33m)\u001b[0m\u001b[1;33m\u001b[0m\u001b[0m\n\u001b[0;32m   2195\u001b[0m         \u001b[0maxes\u001b[0m \u001b[1;33m=\u001b[0m \u001b[0mnp\u001b[0m\u001b[1;33m.\u001b[0m\u001b[0marray\u001b[0m\u001b[1;33m(\u001b[0m\u001b[1;33m[\u001b[0m\u001b[0max\u001b[0m\u001b[1;33m]\u001b[0m\u001b[1;33m)\u001b[0m\u001b[1;33m\u001b[0m\u001b[0m\n",
      "\u001b[1;32mC:\\Users\\Patrik\\Anaconda3\\lib\\site-packages\\matplotlib\\__init__.py\u001b[0m in \u001b[0;36minner\u001b[1;34m(ax, *args, **kwargs)\u001b[0m\n\u001b[0;32m   1895\u001b[0m                     warnings.warn(msg % (label_namer, func.__name__),\n\u001b[0;32m   1896\u001b[0m                                   RuntimeWarning, stacklevel=2)\n\u001b[1;32m-> 1897\u001b[1;33m             \u001b[1;32mreturn\u001b[0m \u001b[0mfunc\u001b[0m\u001b[1;33m(\u001b[0m\u001b[0max\u001b[0m\u001b[1;33m,\u001b[0m \u001b[1;33m*\u001b[0m\u001b[0margs\u001b[0m\u001b[1;33m,\u001b[0m \u001b[1;33m**\u001b[0m\u001b[0mkwargs\u001b[0m\u001b[1;33m)\u001b[0m\u001b[1;33m\u001b[0m\u001b[0m\n\u001b[0m\u001b[0;32m   1898\u001b[0m         \u001b[0mpre_doc\u001b[0m \u001b[1;33m=\u001b[0m \u001b[0minner\u001b[0m\u001b[1;33m.\u001b[0m\u001b[0m__doc__\u001b[0m\u001b[1;33m\u001b[0m\u001b[0m\n\u001b[0;32m   1899\u001b[0m         \u001b[1;32mif\u001b[0m \u001b[0mpre_doc\u001b[0m \u001b[1;32mis\u001b[0m \u001b[1;32mNone\u001b[0m\u001b[1;33m:\u001b[0m\u001b[1;33m\u001b[0m\u001b[0m\n",
      "\u001b[1;32mC:\\Users\\Patrik\\Anaconda3\\lib\\site-packages\\matplotlib\\axes\\_axes.py\u001b[0m in \u001b[0;36mhist\u001b[1;34m(***failed resolving arguments***)\u001b[0m\n\u001b[0;32m   6179\u001b[0m             \u001b[1;32mfor\u001b[0m \u001b[0mxi\u001b[0m \u001b[1;32min\u001b[0m \u001b[0mx\u001b[0m\u001b[1;33m:\u001b[0m\u001b[1;33m\u001b[0m\u001b[0m\n\u001b[0;32m   6180\u001b[0m                 \u001b[1;32mif\u001b[0m \u001b[0mlen\u001b[0m\u001b[1;33m(\u001b[0m\u001b[0mxi\u001b[0m\u001b[1;33m)\u001b[0m \u001b[1;33m>\u001b[0m \u001b[1;36m0\u001b[0m\u001b[1;33m:\u001b[0m\u001b[1;33m\u001b[0m\u001b[0m\n\u001b[1;32m-> 6181\u001b[1;33m                     \u001b[0mxmin\u001b[0m \u001b[1;33m=\u001b[0m \u001b[0mmin\u001b[0m\u001b[1;33m(\u001b[0m\u001b[0mxmin\u001b[0m\u001b[1;33m,\u001b[0m \u001b[0mxi\u001b[0m\u001b[1;33m.\u001b[0m\u001b[0mmin\u001b[0m\u001b[1;33m(\u001b[0m\u001b[1;33m)\u001b[0m\u001b[1;33m)\u001b[0m\u001b[1;33m\u001b[0m\u001b[0m\n\u001b[0m\u001b[0;32m   6182\u001b[0m                     \u001b[0mxmax\u001b[0m \u001b[1;33m=\u001b[0m \u001b[0mmax\u001b[0m\u001b[1;33m(\u001b[0m\u001b[0mxmax\u001b[0m\u001b[1;33m,\u001b[0m \u001b[0mxi\u001b[0m\u001b[1;33m.\u001b[0m\u001b[0mmax\u001b[0m\u001b[1;33m(\u001b[0m\u001b[1;33m)\u001b[0m\u001b[1;33m)\u001b[0m\u001b[1;33m\u001b[0m\u001b[0m\n\u001b[0;32m   6183\u001b[0m             \u001b[0mbin_range\u001b[0m \u001b[1;33m=\u001b[0m \u001b[1;33m(\u001b[0m\u001b[0mxmin\u001b[0m\u001b[1;33m,\u001b[0m \u001b[0mxmax\u001b[0m\u001b[1;33m)\u001b[0m\u001b[1;33m\u001b[0m\u001b[0m\n",
      "\u001b[1;31mTypeError\u001b[0m: Cannot cast ufunc less input from dtype('float64') to dtype('<m8[ns]') with casting rule 'same_kind'"
     ]
    },
    {
     "data": {
      "image/png": "[encoded data removed]",
      "text/plain": [
       "<matplotlib.figure.Figure at 0x23f23ff7b70>"
      ]
     },
     "metadata": {},
     "output_type": "display_data"
    }
   ],
   "source": [
    "df.hist(bins=30)"
   ]
  },
  {
   "cell_type": "code",
   "execution_count": 58,
   "metadata": {},
   "outputs": [],
   "source": [
    "df = df_projects.apply(lambda x: (datetime.fromtimestamp(x['deadline_end']) - datetime.fromtimestamp(x['scraped_at'])).days, axis=1)"
   ]
  },
  {
   "cell_type": "code",
   "execution_count": 60,
   "metadata": {},
   "outputs": [
    {
     "data": {
      "text/plain": [
       "<matplotlib.axes._subplots.AxesSubplot at 0x23f55b17a90>"
      ]
     },
     "execution_count": 60,
     "metadata": {},
     "output_type": "execute_result"
    },
    {
     "data": {
      "image/png": "[encoded data removed]",
      "text/plain": [
       "<matplotlib.figure.Figure at 0x23f52843ba8>"
      ]
     },
     "metadata": {},
     "output_type": "display_data"
    }
   ],
   "source": [
    "df.hist(bins=30, figsize=(15,10))"
   ]
  },
  {
   "cell_type": "code",
   "execution_count": 52,
   "metadata": {
    "collapsed": true
   },
   "outputs": [],
   "source": [
    "df = df_projects.apply(lambda x: (datetime.fromtimestamp(x['scraped_at_end']) - datetime.fromtimestamp(x['deadline_end'])).days, axis=1)"
   ]
  },
  {
   "cell_type": "code",
   "execution_count": 56,
   "metadata": {
    "scrolled": true
   },
   "outputs": [
    {
     "data": {
      "text/plain": [
       "<matplotlib.axes._subplots.AxesSubplot at 0x23f52377470>"
      ]
     },
     "execution_count": 56,
     "metadata": {},
     "output_type": "execute_result"
    },
    {
     "data": {
      "image/png": "[encoded data removed]",
      "text/plain": [
       "<matplotlib.figure.Figure at 0x23f523eb908>"
      ]
     },
     "metadata": {},
     "output_type": "display_data"
    }
   ],
   "source": [
    "df.hist(bins=10)"
   ]
  },
  {
   "cell_type": "code",
   "execution_count": 90,
   "metadata": {
    "collapsed": true
   },
   "outputs": [],
   "source": [
    "import seaborn"
   ]
  },
  {
   "cell_type": "code",
   "execution_count": 91,
   "metadata": {
    "scrolled": false
   },
   "outputs": [
    {
     "data": {
      "text/plain": [
       "<seaborn.axisgrid.PairGrid at 0x23f67307320>"
      ]
     },
     "execution_count": 91,
     "metadata": {},
     "output_type": "execute_result"
    },
    {
     "name": "stderr",
     "output_type": "stream",
     "text": [
      "IOPub data rate exceeded.\n",
      "The notebook server will temporarily stop sending output\n",
      "to the client in order to avoid crashing it.\n",
      "To change this limit, set the config variable\n",
      "`--NotebookApp.iopub_data_rate_limit`.\n"
     ]
    }
   ],
   "source": [
    "seaborn.pairplot(df_projects.dropna(), hue='state')"
   ]
  },
  {
   "cell_type": "code",
   "execution_count": null,
   "metadata": {
    "collapsed": true
   },
   "outputs": [],
   "source": []
  },
  {
   "cell_type": "code",
   "execution_count": null,
   "metadata": {
    "collapsed": true
   },
   "outputs": [],
   "source": []
  },
  {
   "cell_type": "code",
   "execution_count": null,
   "metadata": {
    "collapsed": true
   },
   "outputs": [],
   "source": []
  },
  {
   "cell_type": "code",
   "execution_count": null,
   "metadata": {
    "collapsed": true
   },
   "outputs": [],
   "source": []
  },
  {
   "cell_type": "code",
   "execution_count": null,
   "metadata": {
    "collapsed": true
   },
   "outputs": [],
   "source": []
  },
  {
   "cell_type": "code",
   "execution_count": null,
   "metadata": {
    "collapsed": true
   },
   "outputs": [],
   "source": []
  },
  {
   "cell_type": "code",
   "execution_count": null,
   "metadata": {
    "collapsed": true
   },
   "outputs": [],
   "source": []
  },
  {
   "cell_type": "code",
   "execution_count": null,
   "metadata": {
    "collapsed": true
   },
   "outputs": [],
   "source": []
  },
  {
   "cell_type": "code",
   "execution_count": null,
   "metadata": {
    "collapsed": true
   },
   "outputs": [],
   "source": []
  },
  {
   "cell_type": "code",
   "execution_count": null,
   "metadata": {
    "collapsed": true
   },
   "outputs": [],
   "source": []
  },
  {
   "cell_type": "code",
   "execution_count": null,
   "metadata": {
    "collapsed": true
   },
   "outputs": [],
   "source": []
  },
  {
   "cell_type": "code",
   "execution_count": null,
   "metadata": {
    "collapsed": true
   },
   "outputs": [],
   "source": []
  },
  {
   "cell_type": "markdown",
   "metadata": {},
   "source": [
    "# Second dataset"
   ]
  },
  {
   "cell_type": "code",
   "execution_count": null,
   "metadata": {
    "collapsed": true
   },
   "outputs": [],
   "source": [
    "import mysql.connector as sql"
   ]
  },
  {
   "cell_type": "code",
   "execution_count": null,
   "metadata": {
    "collapsed": true
   },
   "outputs": [],
   "source": [
    "con = sql.connect(database='kickstarter', user='kickstarter', password='kickstarter')"
   ]
  },
  {
   "cell_type": "code",
   "execution_count": null,
   "metadata": {},
   "outputs": [],
   "source": [
    "df_db = pd.read_sql('SELECT * FROM kickstarter.kickstarter_project', con, index_col='project_id')\n",
    "df_db.head()"
   ]
  },
  {
   "cell_type": "code",
   "execution_count": null,
   "metadata": {},
   "outputs": [],
   "source": [
    "df_db.tail()"
   ]
  },
  {
   "cell_type": "code",
   "execution_count": null,
   "metadata": {},
   "outputs": [],
   "source": [
    "df_db.info()"
   ]
  },
  {
   "cell_type": "code",
   "execution_count": null,
   "metadata": {},
   "outputs": [],
   "source": [
    "# project_id is sequence but we could use url for merging with first dataset\n",
    "df_db.loc[1, 'url']"
   ]
  },
  {
   "cell_type": "code",
   "execution_count": null,
   "metadata": {},
   "outputs": [],
   "source": [
    "df_projects.loc[1, 'urls']"
   ]
  },
  {
   "cell_type": "code",
   "execution_count": null,
   "metadata": {
    "collapsed": true
   },
   "outputs": [],
   "source": [
    "import ast"
   ]
  },
  {
   "cell_type": "code",
   "execution_count": null,
   "metadata": {
    "scrolled": false
   },
   "outputs": [],
   "source": [
    "# get project_url\n",
    "df_projects['project_url'] = df_projects.apply(lambda x: ast.literal_eval(x['urls'])['web']['project'].split('?')[0], axis=1)"
   ]
  },
  {
   "cell_type": "code",
   "execution_count": null,
   "metadata": {},
   "outputs": [],
   "source": [
    "# merge first and second dataset\n",
    "df_projects.info()"
   ]
  },
  {
   "cell_type": "code",
   "execution_count": null,
   "metadata": {
    "collapsed": true
   },
   "outputs": [],
   "source": [
    "df_merged = df_projects.merge(df_db, left_on='project_url', right_on='url')"
   ]
  },
  {
   "cell_type": "code",
   "execution_count": null,
   "metadata": {},
   "outputs": [],
   "source": [
    "df_merged.info()"
   ]
  },
  {
   "cell_type": "code",
   "execution_count": null,
   "metadata": {
    "collapsed": true
   },
   "outputs": [],
   "source": [
    "df_merged.to_csv('merged.csv')"
   ]
  },
  {
   "cell_type": "code",
   "execution_count": null,
   "metadata": {},
   "outputs": [],
   "source": [
    "x = df_projects[~df_projects['id'].isin(df_merged['id'])]\n",
    "x.loc[380, 'project_url']"
   ]
  },
  {
   "cell_type": "code",
   "execution_count": null,
   "metadata": {},
   "outputs": [],
   "source": [
    "x"
   ]
  },
  {
   "cell_type": "code",
   "execution_count": null,
   "metadata": {},
   "outputs": [],
   "source": [
    "x = x.drop_duplicates(subset='id')\n",
    "x"
   ]
  },
  {
   "cell_type": "code",
   "execution_count": null,
   "metadata": {},
   "outputs": [],
   "source": [
    "x = x.drop_duplicates(subset='project_url')\n",
    "x"
   ]
  },
  {
   "cell_type": "code",
   "execution_count": null,
   "metadata": {},
   "outputs": [],
   "source": [
    "x['project_url'].value_counts().sort_values(ascending=False)"
   ]
  },
  {
   "cell_type": "code",
   "execution_count": null,
   "metadata": {},
   "outputs": [],
   "source": [
    "x[x['id']==6186729].loc[14136, 'project_url']"
   ]
  },
  {
   "cell_type": "code",
   "execution_count": null,
   "metadata": {},
   "outputs": [],
   "source": [
    "x[x['id']==6186729].loc[14137, 'project_url']"
   ]
  },
  {
   "cell_type": "code",
   "execution_count": null,
   "metadata": {},
   "outputs": [],
   "source": [
    "x['project_url'].to_csv('urls.csv', index=False)"
   ]
  },
  {
   "cell_type": "code",
   "execution_count": null,
   "metadata": {},
   "outputs": [],
   "source": [
    "pd.read_csv('urls.txt')"
   ]
  },
  {
   "cell_type": "code",
   "execution_count": null,
   "metadata": {
    "collapsed": true
   },
   "outputs": [],
   "source": [
    "df_projects['state']"
   ]
  }
 ],
 "metadata": {
  "kernelspec": {
   "display_name": "Python 3",
   "language": "python",
   "name": "python3"
  },
  "language_info": {
   "codemirror_mode": {
    "name": "ipython",
    "version": 3
   },
   "file_extension": ".py",
   "mimetype": "text/x-python",
   "name": "python",
   "nbconvert_exporter": "python",
   "pygments_lexer": "ipython3",
   "version": "3.6.1"
  }
 },
 "nbformat": 4,
 "nbformat_minor": 2
}
