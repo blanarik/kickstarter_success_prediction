{
 "cells": [
  {
   "cell_type": "code",
   "execution_count": 62,
   "metadata": {},
   "outputs": [],
   "source": [
    "from sklearn.tree import DecisionTreeClassifier\n",
    "\n",
    "from sklearn.ensemble import RandomForestClassifier \n",
    "from sklearn.ensemble import ExtraTreesClassifier\n",
    "from sklearn.linear_model import LogisticRegression \n",
    "\n",
    "from sklearn.model_selection import train_test_split\n",
    "from sklearn.model_selection import GridSearchCV\n",
    "from sklearn.grid_search import ParameterGrid\n",
    "\n",
    "from sklearn import metrics\n",
    "from sklearn.metrics import confusion_matrix\n",
    "\n",
    "import matplotlib.pyplot as plt\n",
    "import seaborn as sns\n",
    "import pandas as pd\n",
    "\n",
    "from sklearn import tree\n",
    "import graphviz\n",
    "\n",
    "%matplotlib inline"
   ]
  },
  {
   "cell_type": "code",
   "execution_count": 2,
   "metadata": {
    "collapsed": true
   },
   "outputs": [],
   "source": [
    "# metrics for each class + weighted average (- bad impact)\n",
    "# micro f1 = accuracy\n",
    "def print_metrics(cls, X_test, y_test):\n",
    "    sns.heatmap(confusion_matrix(y_test, cls.predict(X_test)), annot=True, fmt='g', annot_kws={\"size\": 16})\n",
    "    print('accuracy: ',metrics.accuracy_score(y_test, cls.predict(X_test)))\n",
    "    print()\n",
    "    print(metrics.classification_report(y_test, cls.predict(X_test)))\n",
    "    print('macro precision: ',metrics.precision_score(y_test, cls.predict(X_test), average='macro'))\n",
    "    print('micro precision: ',metrics.precision_score(y_test, cls.predict(X_test), average='micro'))\n",
    "    print()\n",
    "    print('micro recall: ',metrics.recall_score(y_test, cls.predict(X_test), average='micro'))\n",
    "    print('macro recall: ',metrics.recall_score(y_test, cls.predict(X_test), average='macro'))\n",
    "    print()\n",
    "    print('micro f1: ',metrics.f1_score(y_test, cls.predict(X_test), average='micro'))\n",
    "    print('macro f1: ',metrics.f1_score(y_test, cls.predict(X_test), average='macro'))\n",
    "    plt.show()"
   ]
  },
  {
   "cell_type": "markdown",
   "metadata": {
    "collapsed": true
   },
   "source": [
    "# Original data"
   ]
  },
  {
   "cell_type": "code",
   "execution_count": 94,
   "metadata": {},
   "outputs": [
    {
     "data": {
      "text/plain": [
       "(4713, 41)"
      ]
     },
     "execution_count": 94,
     "metadata": {},
     "output_type": "execute_result"
    }
   ],
   "source": [
    "features = pd.read_csv('data/split/transformed/train_original.csv', index_col=0)\n",
    "df = pd.read_csv('data/split/transformed/train_original.csv', index_col=0)\n",
    "features.append(df, ignore_index=True)\n",
    "\n",
    "features = features[features['ratio_running_duration'] < 25]\n",
    "\n",
    "labels = features['class']\n",
    "features = features.drop('class', axis=1)\n",
    "\n",
    "features.shape"
   ]
  },
  {
   "cell_type": "code",
   "execution_count": 95,
   "metadata": {},
   "outputs": [
    {
     "data": {
      "text/plain": [
       "(1572, 41)"
      ]
     },
     "execution_count": 95,
     "metadata": {},
     "output_type": "execute_result"
    }
   ],
   "source": [
    "featuresCV = pd.read_csv('data/split/transformed/cv_original.csv', index_col=0)\n",
    "\n",
    "featuresCV = featuresCV[featuresCV['ratio_running_duration'] < 25]\n",
    "\n",
    "labelsCV = featuresCV['class']\n",
    "featuresCV = featuresCV.drop('class', axis=1)\n",
    "\n",
    "featuresCV.shape"
   ]
  },
  {
   "cell_type": "markdown",
   "metadata": {},
   "source": [
    "## Decision Tree"
   ]
  },
  {
   "cell_type": "code",
   "execution_count": 5,
   "metadata": {
    "collapsed": true
   },
   "outputs": [],
   "source": [
    "cls = DecisionTreeClassifier"
   ]
  },
  {
   "cell_type": "code",
   "execution_count": 6,
   "metadata": {
    "collapsed": true
   },
   "outputs": [],
   "source": [
    "params = {\n",
    "    'criterion': ['gini', 'entropy'],\n",
    "    # 'splitter': ['best', 'random'], # je vhodne skusat random?\n",
    "    'max_depth': range(1, 20),\n",
    "    'min_samples_split': range(1, 60, 10),\n",
    "    'min_samples_leaf': range(1, 20, 5),\n",
    "    #'min_weight_fraction_leaf': ,\n",
    "    #'max_features': [5, 10, 20, 30, 40],\n",
    "    'random_state': [64],\n",
    "    #'max_leaf_nodes': ,\n",
    "    #'min_impurity_decrease': [0.0],\n",
    "    'class_weight': [None, 'balanced']\n",
    "}"
   ]
  },
  {
   "cell_type": "code",
   "execution_count": 7,
   "metadata": {
    "scrolled": false
   },
   "outputs": [
    {
     "data": {
      "text/plain": [
       "1824"
      ]
     },
     "execution_count": 7,
     "metadata": {},
     "output_type": "execute_result"
    }
   ],
   "source": [
    "len(list(ParameterGrid(params)))"
   ]
  },
  {
   "cell_type": "code",
   "execution_count": 8,
   "metadata": {
    "collapsed": true
   },
   "outputs": [],
   "source": [
    "gs = GridSearchCV(cls(), params, scoring='accuracy', cv=5, n_jobs=-1, error_score=0)"
   ]
  },
  {
   "cell_type": "code",
   "execution_count": 9,
   "metadata": {},
   "outputs": [
    {
     "name": "stdout",
     "output_type": "stream",
     "text": [
      "Wall time: 3min 22s\n"
     ]
    },
    {
     "data": {
      "text/plain": [
       "GridSearchCV(cv=5, error_score=0,\n",
       "       estimator=DecisionTreeClassifier(class_weight=None, criterion='gini', max_depth=None,\n",
       "            max_features=None, max_leaf_nodes=None,\n",
       "            min_impurity_decrease=0.0, min_impurity_split=None,\n",
       "            min_samples_leaf=1, min_samples_split=2,\n",
       "            min_weight_fraction_leaf=0.0, presort=False, random_state=None,\n",
       "            splitter='best'),\n",
       "       fit_params=None, iid=True, n_jobs=-1,\n",
       "       param_grid={'criterion': ['gini', 'entropy'], 'max_depth': range(1, 20), 'min_samples_split': range(1, 60, 10), 'min_samples_leaf': range(1, 20, 5), 'random_state': [64], 'class_weight': [None, 'balanced']},\n",
       "       pre_dispatch='2*n_jobs', refit=True, return_train_score='warn',\n",
       "       scoring='accuracy', verbose=0)"
      ]
     },
     "execution_count": 9,
     "metadata": {},
     "output_type": "execute_result"
    }
   ],
   "source": [
    "%%time\n",
    "gs.fit(features, labels)"
   ]
  },
  {
   "cell_type": "code",
   "execution_count": 10,
   "metadata": {},
   "outputs": [
    {
     "name": "stderr",
     "output_type": "stream",
     "text": [
      "C:\\Users\\Patrik\\Anaconda3\\lib\\site-packages\\sklearn\\model_selection\\_search.py:761: DeprecationWarning: The grid_scores_ attribute was deprecated in version 0.18 in favor of the more elaborate cv_results_ attribute. The grid_scores_ attribute will not be available from 0.20\n",
      "  DeprecationWarning)\n"
     ]
    },
    {
     "data": {
      "text/plain": [
       "[mean: 0.71759, std: 0.01387, params: {'class_weight': None, 'criterion': 'gini', 'max_depth': 4, 'min_samples_leaf': 16, 'min_samples_split': 11, 'random_state': 64},\n",
       " mean: 0.71759, std: 0.01387, params: {'class_weight': None, 'criterion': 'gini', 'max_depth': 4, 'min_samples_leaf': 16, 'min_samples_split': 21, 'random_state': 64},\n",
       " mean: 0.71759, std: 0.01387, params: {'class_weight': None, 'criterion': 'gini', 'max_depth': 4, 'min_samples_leaf': 16, 'min_samples_split': 31, 'random_state': 64},\n",
       " mean: 0.71759, std: 0.01387, params: {'class_weight': None, 'criterion': 'gini', 'max_depth': 4, 'min_samples_leaf': 16, 'min_samples_split': 41, 'random_state': 64},\n",
       " mean: 0.71759, std: 0.01387, params: {'class_weight': None, 'criterion': 'gini', 'max_depth': 4, 'min_samples_leaf': 16, 'min_samples_split': 51, 'random_state': 64}]"
      ]
     },
     "execution_count": 10,
     "metadata": {},
     "output_type": "execute_result"
    }
   ],
   "source": [
    "sorted(gs.grid_scores_, key=lambda x: x.mean_validation_score, reverse=True)[:5]"
   ]
  },
  {
   "cell_type": "code",
   "execution_count": 11,
   "metadata": {},
   "outputs": [
    {
     "data": {
      "text/plain": [
       "{'class_weight': None,\n",
       " 'criterion': 'gini',\n",
       " 'max_depth': 4,\n",
       " 'min_samples_leaf': 16,\n",
       " 'min_samples_split': 11,\n",
       " 'random_state': 64}"
      ]
     },
     "execution_count": 11,
     "metadata": {},
     "output_type": "execute_result"
    }
   ],
   "source": [
    "gs.best_params_"
   ]
  },
  {
   "cell_type": "code",
   "execution_count": 12,
   "metadata": {},
   "outputs": [
    {
     "data": {
      "text/plain": [
       "DecisionTreeClassifier(class_weight=None, criterion='gini', max_depth=4,\n",
       "            max_features=None, max_leaf_nodes=None,\n",
       "            min_impurity_decrease=0.0, min_impurity_split=None,\n",
       "            min_samples_leaf=16, min_samples_split=11,\n",
       "            min_weight_fraction_leaf=0.0, presort=False, random_state=64,\n",
       "            splitter='best')"
      ]
     },
     "execution_count": 12,
     "metadata": {},
     "output_type": "execute_result"
    }
   ],
   "source": [
    "gs.best_estimator_"
   ]
  },
  {
   "cell_type": "code",
   "execution_count": 14,
   "metadata": {},
   "outputs": [
    {
     "data": {
      "text/plain": [
       "'tree.pdf'"
      ]
     },
     "execution_count": 14,
     "metadata": {},
     "output_type": "execute_result"
    }
   ],
   "source": [
    "dot_data = tree.export_graphviz(gs.best_estimator_, out_file=None, feature_names=features.columns, class_names=['1','2','3','4'],filled=True, rounded=True, special_characters=True) \n",
    "graph = graphviz.Source(dot_data)\n",
    "graph.render(\"tree\", view=True)"
   ]
  },
  {
   "cell_type": "code",
   "execution_count": 15,
   "metadata": {},
   "outputs": [
    {
     "name": "stdout",
     "output_type": "stream",
     "text": [
      "accuracy:  0.698473282443\n",
      "\n",
      "             precision    recall  f1-score   support\n",
      "\n",
      "          1       0.83      0.96      0.89       659\n",
      "          2       0.39      0.40      0.39       209\n",
      "          3       0.47      0.38      0.42       336\n",
      "          4       0.79      0.69      0.74       368\n",
      "\n",
      "avg / total       0.68      0.70      0.69      1572\n",
      "\n",
      "macro precision:  0.618463959392\n",
      "micro precision:  0.698473282443\n",
      "\n",
      "micro recall:  0.698473282443\n",
      "macro recall:  0.607146610483\n",
      "\n",
      "micro f1:  0.698473282443\n",
      "macro f1:  0.60963857155\n"
     ]
    },
    {
     "data": {
      "image/png": "[encoded data removed]",
      "text/plain": [
       "<matplotlib.figure.Figure at 0x17dd8f6dfd0>"
      ]
     },
     "metadata": {},
     "output_type": "display_data"
    }
   ],
   "source": [
    "print_metrics(gs.best_estimator_, featuresCV, labelsCV)"
   ]
  },
  {
   "cell_type": "markdown",
   "metadata": {},
   "source": [
    "## Gradient Boosting"
   ]
  },
  {
   "cell_type": "code",
   "execution_count": 16,
   "metadata": {
    "collapsed": true
   },
   "outputs": [],
   "source": [
    "from sklearn.ensemble import GradientBoostingClassifier"
   ]
  },
  {
   "cell_type": "code",
   "execution_count": 17,
   "metadata": {
    "collapsed": true
   },
   "outputs": [],
   "source": [
    "cls = GradientBoostingClassifier"
   ]
  },
  {
   "cell_type": "code",
   "execution_count": 18,
   "metadata": {
    "collapsed": true
   },
   "outputs": [],
   "source": [
    "params = {\n",
    "    'learning_rate': [0.12, 0.1, 0.08, 0.01], # 0.1\n",
    "    'n_estimators': [150, 100, 50],\n",
    "    'max_depth': [1, 2, 3], # 2\n",
    "    'random_state': [64],\n",
    "    #'criterion': ['friedman_mse', 'mse'],\n",
    "    #'min_samples_split': [2, 5, 10, 1.0, 3.0, 5.0, 10.0] # 2\n",
    "    #'min_samples_leaf': [1,2,3,4,5,6,7,8,9,10] # 1\n",
    "}"
   ]
  },
  {
   "cell_type": "code",
   "execution_count": 19,
   "metadata": {
    "collapsed": true
   },
   "outputs": [],
   "source": [
    "gs = GridSearchCV(cls(), params, scoring='accuracy', cv=5, n_jobs=-1, error_score=0)"
   ]
  },
  {
   "cell_type": "code",
   "execution_count": 20,
   "metadata": {},
   "outputs": [
    {
     "data": {
      "text/plain": [
       "36"
      ]
     },
     "execution_count": 20,
     "metadata": {},
     "output_type": "execute_result"
    }
   ],
   "source": [
    "len(list(ParameterGrid(params)))"
   ]
  },
  {
   "cell_type": "code",
   "execution_count": 21,
   "metadata": {
    "scrolled": false
   },
   "outputs": [
    {
     "name": "stdout",
     "output_type": "stream",
     "text": [
      "Wall time: 3min 21s\n"
     ]
    },
    {
     "data": {
      "text/plain": [
       "GridSearchCV(cv=5, error_score=0,\n",
       "       estimator=GradientBoostingClassifier(criterion='friedman_mse', init=None,\n",
       "              learning_rate=0.1, loss='deviance', max_depth=3,\n",
       "              max_features=None, max_leaf_nodes=None,\n",
       "              min_impurity_decrease=0.0, min_impurity_split=None,\n",
       "              min_samples_leaf=1, min_samples_split=2,\n",
       "              min_weight_fraction_leaf=0.0, n_estimators=100,\n",
       "              presort='auto', random_state=None, subsample=1.0, verbose=0,\n",
       "              warm_start=False),\n",
       "       fit_params=None, iid=True, n_jobs=-1,\n",
       "       param_grid={'learning_rate': [0.12, 0.1, 0.08, 0.01], 'n_estimators': [150, 100, 50], 'max_depth': [1, 2, 3]},\n",
       "       pre_dispatch='2*n_jobs', refit=True, return_train_score='warn',\n",
       "       scoring='accuracy', verbose=0)"
      ]
     },
     "execution_count": 21,
     "metadata": {},
     "output_type": "execute_result"
    }
   ],
   "source": [
    "%%time\n",
    "gs.fit(features, labels)"
   ]
  },
  {
   "cell_type": "code",
   "execution_count": 22,
   "metadata": {},
   "outputs": [
    {
     "name": "stderr",
     "output_type": "stream",
     "text": [
      "C:\\Users\\Patrik\\Anaconda3\\lib\\site-packages\\sklearn\\model_selection\\_search.py:761: DeprecationWarning: The grid_scores_ attribute was deprecated in version 0.18 in favor of the more elaborate cv_results_ attribute. The grid_scores_ attribute will not be available from 0.20\n",
      "  DeprecationWarning)\n"
     ]
    },
    {
     "data": {
      "text/plain": [
       "[mean: 0.73329, std: 0.01331, params: {'learning_rate': 0.08, 'max_depth': 3, 'n_estimators': 50},\n",
       " mean: 0.73074, std: 0.01152, params: {'learning_rate': 0.08, 'max_depth': 3, 'n_estimators': 100},\n",
       " mean: 0.73032, std: 0.01210, params: {'learning_rate': 0.1, 'max_depth': 3, 'n_estimators': 50},\n",
       " mean: 0.73011, std: 0.00966, params: {'learning_rate': 0.08, 'max_depth': 2, 'n_estimators': 150},\n",
       " mean: 0.72968, std: 0.00783, params: {'learning_rate': 0.1, 'max_depth': 2, 'n_estimators': 100},\n",
       " mean: 0.72968, std: 0.01110, params: {'learning_rate': 0.08, 'max_depth': 2, 'n_estimators': 100},\n",
       " mean: 0.72947, std: 0.01012, params: {'learning_rate': 0.12, 'max_depth': 3, 'n_estimators': 50},\n",
       " mean: 0.72926, std: 0.01228, params: {'learning_rate': 0.08, 'max_depth': 3, 'n_estimators': 150},\n",
       " mean: 0.72905, std: 0.01126, params: {'learning_rate': 0.12, 'max_depth': 2, 'n_estimators': 50},\n",
       " mean: 0.72841, std: 0.01040, params: {'learning_rate': 0.1, 'max_depth': 2, 'n_estimators': 150},\n",
       " mean: 0.72841, std: 0.01334, params: {'learning_rate': 0.1, 'max_depth': 2, 'n_estimators': 50},\n",
       " mean: 0.72799, std: 0.00756, params: {'learning_rate': 0.12, 'max_depth': 2, 'n_estimators': 100},\n",
       " mean: 0.72799, std: 0.01074, params: {'learning_rate': 0.1, 'max_depth': 1, 'n_estimators': 150},\n",
       " mean: 0.72756, std: 0.01185, params: {'learning_rate': 0.12, 'max_depth': 3, 'n_estimators': 100},\n",
       " mean: 0.72693, std: 0.01459, params: {'learning_rate': 0.12, 'max_depth': 3, 'n_estimators': 150},\n",
       " mean: 0.72671, std: 0.00891, params: {'learning_rate': 0.12, 'max_depth': 2, 'n_estimators': 150},\n",
       " mean: 0.72671, std: 0.01486, params: {'learning_rate': 0.08, 'max_depth': 2, 'n_estimators': 50},\n",
       " mean: 0.72608, std: 0.01211, params: {'learning_rate': 0.08, 'max_depth': 1, 'n_estimators': 150},\n",
       " mean: 0.72586, std: 0.01203, params: {'learning_rate': 0.12, 'max_depth': 1, 'n_estimators': 150},\n",
       " mean: 0.72586, std: 0.01370, params: {'learning_rate': 0.1, 'max_depth': 3, 'n_estimators': 100},\n",
       " mean: 0.72565, std: 0.01303, params: {'learning_rate': 0.12, 'max_depth': 1, 'n_estimators': 100},\n",
       " mean: 0.72544, std: 0.01244, params: {'learning_rate': 0.01, 'max_depth': 3, 'n_estimators': 150},\n",
       " mean: 0.72311, std: 0.01168, params: {'learning_rate': 0.1, 'max_depth': 1, 'n_estimators': 100},\n",
       " mean: 0.72289, std: 0.00915, params: {'learning_rate': 0.1, 'max_depth': 3, 'n_estimators': 150},\n",
       " mean: 0.72141, std: 0.01252, params: {'learning_rate': 0.01, 'max_depth': 3, 'n_estimators': 100},\n",
       " mean: 0.71886, std: 0.01100, params: {'learning_rate': 0.08, 'max_depth': 1, 'n_estimators': 100},\n",
       " mean: 0.71568, std: 0.00871, params: {'learning_rate': 0.01, 'max_depth': 3, 'n_estimators': 50},\n",
       " mean: 0.71483, std: 0.01364, params: {'learning_rate': 0.01, 'max_depth': 2, 'n_estimators': 150},\n",
       " mean: 0.71462, std: 0.01596, params: {'learning_rate': 0.12, 'max_depth': 1, 'n_estimators': 50},\n",
       " mean: 0.71186, std: 0.01280, params: {'learning_rate': 0.1, 'max_depth': 1, 'n_estimators': 50},\n",
       " mean: 0.70868, std: 0.01304, params: {'learning_rate': 0.08, 'max_depth': 1, 'n_estimators': 50},\n",
       " mean: 0.70762, std: 0.01216, params: {'learning_rate': 0.01, 'max_depth': 2, 'n_estimators': 100},\n",
       " mean: 0.70401, std: 0.01121, params: {'learning_rate': 0.01, 'max_depth': 1, 'n_estimators': 100},\n",
       " mean: 0.70380, std: 0.01124, params: {'learning_rate': 0.01, 'max_depth': 1, 'n_estimators': 150},\n",
       " mean: 0.70146, std: 0.01083, params: {'learning_rate': 0.01, 'max_depth': 2, 'n_estimators': 50},\n",
       " mean: 0.70104, std: 0.01295, params: {'learning_rate': 0.01, 'max_depth': 1, 'n_estimators': 50}]"
      ]
     },
     "execution_count": 22,
     "metadata": {},
     "output_type": "execute_result"
    }
   ],
   "source": [
    "sorted(gs.grid_scores_, key=lambda x: x.mean_validation_score, reverse=True)"
   ]
  },
  {
   "cell_type": "code",
   "execution_count": 23,
   "metadata": {},
   "outputs": [
    {
     "name": "stdout",
     "output_type": "stream",
     "text": [
      "accuracy:  0.730916030534\n",
      "\n",
      "             precision    recall  f1-score   support\n",
      "\n",
      "          1       0.84      0.97      0.90       659\n",
      "          2       0.46      0.31      0.37       209\n",
      "          3       0.53      0.54      0.54       336\n",
      "          4       0.80      0.71      0.75       368\n",
      "\n",
      "avg / total       0.71      0.73      0.72      1572\n",
      "\n",
      "macro precision:  0.657640945069\n",
      "micro precision:  0.730916030534\n",
      "\n",
      "micro recall:  0.730916030534\n",
      "macro recall:  0.633432278107\n",
      "\n",
      "micro f1:  0.730916030534\n",
      "macro f1:  0.639919840223\n"
     ]
    },
    {
     "data": {
      "image/png": "[encoded data removed]",
      "text/plain": [
       "<matplotlib.figure.Figure at 0x17dd96a1c50>"
      ]
     },
     "metadata": {},
     "output_type": "display_data"
    }
   ],
   "source": [
    "print_metrics(gs.best_estimator_, featuresCV, labelsCV)"
   ]
  },
  {
   "cell_type": "markdown",
   "metadata": {},
   "source": [
    "### Try balanced class"
   ]
  },
  {
   "cell_type": "code",
   "execution_count": 24,
   "metadata": {
    "collapsed": true
   },
   "outputs": [],
   "source": [
    "from sklearn.utils import class_weight\n",
    "labels_weights = class_weight.compute_sample_weight('balanced', labels)"
   ]
  },
  {
   "cell_type": "code",
   "execution_count": 25,
   "metadata": {},
   "outputs": [
    {
     "name": "stdout",
     "output_type": "stream",
     "text": [
      "Wall time: 3min 19s\n"
     ]
    },
    {
     "data": {
      "text/plain": [
       "GridSearchCV(cv=5, error_score=0,\n",
       "       estimator=GradientBoostingClassifier(criterion='friedman_mse', init=None,\n",
       "              learning_rate=0.1, loss='deviance', max_depth=3,\n",
       "              max_features=None, max_leaf_nodes=None,\n",
       "              min_impurity_decrease=0.0, min_impurity_split=None,\n",
       "              min_samples_leaf=1, min_samples_split=2,\n",
       "              min_weight_fraction_leaf=0.0, n_estimators=100,\n",
       "              presort='auto', random_state=None, subsample=1.0, verbose=0,\n",
       "              warm_start=False),\n",
       "       fit_params=None, iid=True, n_jobs=-1,\n",
       "       param_grid={'learning_rate': [0.12, 0.1, 0.08, 0.01], 'n_estimators': [150, 100, 50], 'max_depth': [1, 2, 3]},\n",
       "       pre_dispatch='2*n_jobs', refit=True, return_train_score='warn',\n",
       "       scoring='accuracy', verbose=0)"
      ]
     },
     "execution_count": 25,
     "metadata": {},
     "output_type": "execute_result"
    }
   ],
   "source": [
    "%%time\n",
    "gs.fit(features, labels, sample_weight=labels_weights)"
   ]
  },
  {
   "cell_type": "code",
   "execution_count": 26,
   "metadata": {},
   "outputs": [
    {
     "name": "stderr",
     "output_type": "stream",
     "text": [
      "C:\\Users\\Patrik\\Anaconda3\\lib\\site-packages\\sklearn\\model_selection\\_search.py:761: DeprecationWarning: The grid_scores_ attribute was deprecated in version 0.18 in favor of the more elaborate cv_results_ attribute. The grid_scores_ attribute will not be available from 0.20\n",
      "  DeprecationWarning)\n"
     ]
    },
    {
     "data": {
      "text/plain": [
       "[mean: 0.71780, std: 0.00550, params: {'learning_rate': 0.08, 'max_depth': 3, 'n_estimators': 150},\n",
       " mean: 0.71717, std: 0.00955, params: {'learning_rate': 0.12, 'max_depth': 2, 'n_estimators': 150},\n",
       " mean: 0.71717, std: 0.01376, params: {'learning_rate': 0.12, 'max_depth': 2, 'n_estimators': 100},\n",
       " mean: 0.71695, std: 0.00887, params: {'learning_rate': 0.1, 'max_depth': 2, 'n_estimators': 150},\n",
       " mean: 0.71674, std: 0.00940, params: {'learning_rate': 0.12, 'max_depth': 3, 'n_estimators': 50},\n",
       " mean: 0.71632, std: 0.01043, params: {'learning_rate': 0.1, 'max_depth': 2, 'n_estimators': 100},\n",
       " mean: 0.71568, std: 0.01355, params: {'learning_rate': 0.08, 'max_depth': 2, 'n_estimators': 150},\n",
       " mean: 0.71504, std: 0.01239, params: {'learning_rate': 0.12, 'max_depth': 2, 'n_estimators': 50},\n",
       " mean: 0.71504, std: 0.00611, params: {'learning_rate': 0.1, 'max_depth': 3, 'n_estimators': 150},\n",
       " mean: 0.71462, std: 0.01154, params: {'learning_rate': 0.08, 'max_depth': 2, 'n_estimators': 100},\n",
       " mean: 0.71419, std: 0.01126, params: {'learning_rate': 0.1, 'max_depth': 3, 'n_estimators': 50},\n",
       " mean: 0.71419, std: 0.00854, params: {'learning_rate': 0.08, 'max_depth': 3, 'n_estimators': 100},\n",
       " mean: 0.71419, std: 0.01164, params: {'learning_rate': 0.08, 'max_depth': 3, 'n_estimators': 50},\n",
       " mean: 0.71356, std: 0.00969, params: {'learning_rate': 0.12, 'max_depth': 3, 'n_estimators': 100},\n",
       " mean: 0.71271, std: 0.01257, params: {'learning_rate': 0.12, 'max_depth': 1, 'n_estimators': 150},\n",
       " mean: 0.71229, std: 0.00735, params: {'learning_rate': 0.12, 'max_depth': 3, 'n_estimators': 150},\n",
       " mean: 0.71229, std: 0.01438, params: {'learning_rate': 0.1, 'max_depth': 2, 'n_estimators': 50},\n",
       " mean: 0.71165, std: 0.00543, params: {'learning_rate': 0.1, 'max_depth': 3, 'n_estimators': 100},\n",
       " mean: 0.71165, std: 0.01748, params: {'learning_rate': 0.08, 'max_depth': 1, 'n_estimators': 150},\n",
       " mean: 0.71144, std: 0.01652, params: {'learning_rate': 0.12, 'max_depth': 1, 'n_estimators': 100},\n",
       " mean: 0.71144, std: 0.01529, params: {'learning_rate': 0.1, 'max_depth': 1, 'n_estimators': 150},\n",
       " mean: 0.71122, std: 0.01532, params: {'learning_rate': 0.08, 'max_depth': 2, 'n_estimators': 50},\n",
       " mean: 0.70974, std: 0.01584, params: {'learning_rate': 0.08, 'max_depth': 1, 'n_estimators': 100},\n",
       " mean: 0.70847, std: 0.01681, params: {'learning_rate': 0.1, 'max_depth': 1, 'n_estimators': 100},\n",
       " mean: 0.70656, std: 0.01937, params: {'learning_rate': 0.12, 'max_depth': 1, 'n_estimators': 50},\n",
       " mean: 0.70337, std: 0.01020, params: {'learning_rate': 0.01, 'max_depth': 3, 'n_estimators': 150},\n",
       " mean: 0.70274, std: 0.01697, params: {'learning_rate': 0.1, 'max_depth': 1, 'n_estimators': 50},\n",
       " mean: 0.70146, std: 0.01933, params: {'learning_rate': 0.08, 'max_depth': 1, 'n_estimators': 50},\n",
       " mean: 0.70083, std: 0.01332, params: {'learning_rate': 0.01, 'max_depth': 3, 'n_estimators': 100},\n",
       " mean: 0.69658, std: 0.01405, params: {'learning_rate': 0.01, 'max_depth': 3, 'n_estimators': 50},\n",
       " mean: 0.69574, std: 0.01398, params: {'learning_rate': 0.01, 'max_depth': 2, 'n_estimators': 150},\n",
       " mean: 0.69192, std: 0.01710, params: {'learning_rate': 0.01, 'max_depth': 1, 'n_estimators': 150},\n",
       " mean: 0.69128, std: 0.01682, params: {'learning_rate': 0.01, 'max_depth': 1, 'n_estimators': 100},\n",
       " mean: 0.69128, std: 0.01764, params: {'learning_rate': 0.01, 'max_depth': 2, 'n_estimators': 100},\n",
       " mean: 0.67027, std: 0.02549, params: {'learning_rate': 0.01, 'max_depth': 2, 'n_estimators': 50},\n",
       " mean: 0.66921, std: 0.02553, params: {'learning_rate': 0.01, 'max_depth': 1, 'n_estimators': 50}]"
      ]
     },
     "execution_count": 26,
     "metadata": {},
     "output_type": "execute_result"
    }
   ],
   "source": [
    "sorted(gs.grid_scores_, key=lambda x: x.mean_validation_score, reverse=True)"
   ]
  },
  {
   "cell_type": "code",
   "execution_count": 27,
   "metadata": {
    "scrolled": false
   },
   "outputs": [
    {
     "name": "stdout",
     "output_type": "stream",
     "text": [
      "accuracy:  0.712468193384\n",
      "\n",
      "             precision    recall  f1-score   support\n",
      "\n",
      "          1       0.89      0.90      0.90       659\n",
      "          2       0.36      0.49      0.42       209\n",
      "          3       0.56      0.46      0.51       336\n",
      "          4       0.78      0.73      0.75       368\n",
      "\n",
      "avg / total       0.72      0.71      0.72      1572\n",
      "\n",
      "macro precision:  0.64855132786\n",
      "micro precision:  0.712468193384\n",
      "\n",
      "micro recall:  0.712468193384\n",
      "macro recall:  0.64527509627\n",
      "\n",
      "micro f1:  0.712468193384\n",
      "macro f1:  0.642620948091\n"
     ]
    },
    {
     "data": {
      "image/png": "[encoded data removed]",
      "text/plain": [
       "<matplotlib.figure.Figure at 0x17dd9761d68>"
      ]
     },
     "metadata": {},
     "output_type": "display_data"
    }
   ],
   "source": [
    "print_metrics(gs.best_estimator_, featuresCV, labelsCV)"
   ]
  },
  {
   "cell_type": "markdown",
   "metadata": {},
   "source": [
    "## KNN"
   ]
  },
  {
   "cell_type": "code",
   "execution_count": 53,
   "metadata": {
    "collapsed": true
   },
   "outputs": [],
   "source": [
    "from sklearn.neighbors import KNeighborsClassifier"
   ]
  },
  {
   "cell_type": "code",
   "execution_count": 54,
   "metadata": {},
   "outputs": [],
   "source": [
    "cls = KNeighborsClassifier"
   ]
  },
  {
   "cell_type": "code",
   "execution_count": 30,
   "metadata": {
    "collapsed": true
   },
   "outputs": [],
   "source": [
    "params = {\n",
    "    'n_neighbors': [5, 10, 20, 50, 100, 200, 500, 1000],\n",
    "    'weights': ['uniform', 'distance'],\n",
    "    'algorithm': ['auto', 'ball_tree', 'kd_tree', 'brute'],\n",
    "}"
   ]
  },
  {
   "cell_type": "code",
   "execution_count": 31,
   "metadata": {
    "collapsed": true
   },
   "outputs": [],
   "source": [
    "gs = GridSearchCV(cls(), params, scoring='accuracy', cv=5, n_jobs=-1, error_score=0)"
   ]
  },
  {
   "cell_type": "code",
   "execution_count": 32,
   "metadata": {},
   "outputs": [
    {
     "data": {
      "text/plain": [
       "64"
      ]
     },
     "execution_count": 32,
     "metadata": {},
     "output_type": "execute_result"
    }
   ],
   "source": [
    "len(list(ParameterGrid(params)))"
   ]
  },
  {
   "cell_type": "code",
   "execution_count": 33,
   "metadata": {
    "scrolled": false
   },
   "outputs": [
    {
     "name": "stdout",
     "output_type": "stream",
     "text": [
      "Wall time: 2min 9s\n"
     ]
    },
    {
     "data": {
      "text/plain": [
       "GridSearchCV(cv=5, error_score=0,\n",
       "       estimator=KNeighborsClassifier(algorithm='auto', leaf_size=30, metric='minkowski',\n",
       "           metric_params=None, n_jobs=1, n_neighbors=5, p=2,\n",
       "           weights='uniform'),\n",
       "       fit_params=None, iid=True, n_jobs=-1,\n",
       "       param_grid={'n_neighbors': [5, 10, 20, 50, 100, 200, 500, 1000], 'weights': ['uniform', 'distance'], 'algorithm': ['auto', 'ball_tree', 'kd_tree', 'brute']},\n",
       "       pre_dispatch='2*n_jobs', refit=True, return_train_score='warn',\n",
       "       scoring='accuracy', verbose=0)"
      ]
     },
     "execution_count": 33,
     "metadata": {},
     "output_type": "execute_result"
    }
   ],
   "source": [
    "%%time\n",
    "gs.fit(features, labels)"
   ]
  },
  {
   "cell_type": "code",
   "execution_count": 34,
   "metadata": {},
   "outputs": [
    {
     "name": "stderr",
     "output_type": "stream",
     "text": [
      "C:\\Users\\Patrik\\Anaconda3\\lib\\site-packages\\sklearn\\model_selection\\_search.py:761: DeprecationWarning: The grid_scores_ attribute was deprecated in version 0.18 in favor of the more elaborate cv_results_ attribute. The grid_scores_ attribute will not be available from 0.20\n",
      "  DeprecationWarning)\n"
     ]
    },
    {
     "data": {
      "text/plain": [
       "[mean: 0.68364, std: 0.00975, params: {'algorithm': 'auto', 'n_neighbors': 20, 'weights': 'uniform'},\n",
       " mean: 0.68364, std: 0.01193, params: {'algorithm': 'auto', 'n_neighbors': 20, 'weights': 'distance'},\n",
       " mean: 0.68364, std: 0.00975, params: {'algorithm': 'ball_tree', 'n_neighbors': 20, 'weights': 'uniform'},\n",
       " mean: 0.68364, std: 0.01193, params: {'algorithm': 'ball_tree', 'n_neighbors': 20, 'weights': 'distance'},\n",
       " mean: 0.68364, std: 0.00975, params: {'algorithm': 'kd_tree', 'n_neighbors': 20, 'weights': 'uniform'},\n",
       " mean: 0.68364, std: 0.01193, params: {'algorithm': 'kd_tree', 'n_neighbors': 20, 'weights': 'distance'},\n",
       " mean: 0.68364, std: 0.00975, params: {'algorithm': 'brute', 'n_neighbors': 20, 'weights': 'uniform'},\n",
       " mean: 0.68364, std: 0.01193, params: {'algorithm': 'brute', 'n_neighbors': 20, 'weights': 'distance'},\n",
       " mean: 0.67982, std: 0.01154, params: {'algorithm': 'auto', 'n_neighbors': 50, 'weights': 'distance'},\n",
       " mean: 0.67982, std: 0.01154, params: {'algorithm': 'ball_tree', 'n_neighbors': 50, 'weights': 'distance'}]"
      ]
     },
     "execution_count": 34,
     "metadata": {},
     "output_type": "execute_result"
    }
   ],
   "source": [
    "sorted(gs.grid_scores_, key=lambda x: x.mean_validation_score, reverse=True)[:10]"
   ]
  },
  {
   "cell_type": "code",
   "execution_count": 35,
   "metadata": {
    "scrolled": false
   },
   "outputs": [
    {
     "name": "stdout",
     "output_type": "stream",
     "text": [
      "accuracy:  0.686386768448\n",
      "\n",
      "             precision    recall  f1-score   support\n",
      "\n",
      "          1       0.76      0.98      0.85       659\n",
      "          2       0.35      0.17      0.23       209\n",
      "          3       0.51      0.48      0.49       336\n",
      "          4       0.79      0.65      0.71       368\n",
      "\n",
      "avg / total       0.66      0.69      0.66      1572\n",
      "\n",
      "macro precision:  0.601027829178\n",
      "micro precision:  0.686386768448\n",
      "\n",
      "micro recall:  0.686386768448\n",
      "macro recall:  0.568696070697\n",
      "\n",
      "micro f1:  0.686386768448\n",
      "macro f1:  0.571523126232\n"
     ]
    },
    {
     "data": {
      "image/png": "[encoded data removed]",
      "text/plain": [
       "<matplotlib.figure.Figure at 0x17dd9741208>"
      ]
     },
     "metadata": {},
     "output_type": "display_data"
    }
   ],
   "source": [
    "print_metrics(gs.best_estimator_, featuresCV, labelsCV)"
   ]
  },
  {
   "cell_type": "code",
   "execution_count": null,
   "metadata": {
    "collapsed": true
   },
   "outputs": [],
   "source": []
  },
  {
   "cell_type": "markdown",
   "metadata": {},
   "source": [
    "# Transformed features (Robust Scaler + Box-Cox)"
   ]
  },
  {
   "cell_type": "code",
   "execution_count": 63,
   "metadata": {},
   "outputs": [
    {
     "data": {
      "text/plain": [
       "(4713, 41)"
      ]
     },
     "execution_count": 63,
     "metadata": {},
     "output_type": "execute_result"
    }
   ],
   "source": [
    "features = pd.read_csv('data/split/transformed/train.csv', index_col=0)\n",
    "df = pd.read_csv('data/split/transformed/train.csv', index_col=0)\n",
    "features.append(df, ignore_index=True)\n",
    "\n",
    "features = features[features['ratio_running_duration_original'] < 25]\n",
    "features.drop('ratio_running_duration_original', axis=1, inplace=True)\n",
    "\n",
    "labels = features['class']\n",
    "features = features.drop('class', axis=1)\n",
    "\n",
    "features.shape"
   ]
  },
  {
   "cell_type": "code",
   "execution_count": 64,
   "metadata": {},
   "outputs": [
    {
     "data": {
      "text/plain": [
       "(1572, 41)"
      ]
     },
     "execution_count": 64,
     "metadata": {},
     "output_type": "execute_result"
    }
   ],
   "source": [
    "featuresCV = pd.read_csv('data/split/transformed/cv.csv', index_col=0)\n",
    "\n",
    "featuresCV = featuresCV[featuresCV['ratio_running_duration_original'] < 25]\n",
    "featuresCV.drop('ratio_running_duration_original', axis=1, inplace=True)\n",
    "\n",
    "labelsCV = featuresCV['class']\n",
    "featuresCV = featuresCV.drop('class', axis=1)\n",
    "\n",
    "featuresCV.shape"
   ]
  },
  {
   "cell_type": "markdown",
   "metadata": {},
   "source": [
    "## LogisticRegression"
   ]
  },
  {
   "cell_type": "code",
   "execution_count": 42,
   "metadata": {
    "collapsed": true
   },
   "outputs": [],
   "source": [
    "from sklearn.linear_model import LogisticRegression"
   ]
  },
  {
   "cell_type": "code",
   "execution_count": 43,
   "metadata": {
    "collapsed": true
   },
   "outputs": [],
   "source": [
    "cls = LogisticRegression"
   ]
  },
  {
   "cell_type": "code",
   "execution_count": 44,
   "metadata": {
    "collapsed": true
   },
   "outputs": [],
   "source": [
    "params = {\n",
    "    'C': [0.1, 1.0, 10.0],\n",
    "    'class_weight': ['balanced', None],\n",
    "    'random_state': [64],\n",
    "    'solver': ['newton-cg', 'sag', 'saga', 'lbfgs'],\n",
    "    'multi_class': ['ovr', 'multinomial'],\n",
    "    'max_iter': [10, 50, 100, 200, 500]\n",
    "}"
   ]
  },
  {
   "cell_type": "code",
   "execution_count": 45,
   "metadata": {
    "collapsed": true
   },
   "outputs": [],
   "source": [
    "gs = GridSearchCV(cls(), params, scoring='accuracy', cv=5, n_jobs=-1, error_score=0)"
   ]
  },
  {
   "cell_type": "code",
   "execution_count": 46,
   "metadata": {},
   "outputs": [
    {
     "data": {
      "text/plain": [
       "240"
      ]
     },
     "execution_count": 46,
     "metadata": {},
     "output_type": "execute_result"
    }
   ],
   "source": [
    "len(list(ParameterGrid(params)))"
   ]
  },
  {
   "cell_type": "code",
   "execution_count": 47,
   "metadata": {
    "scrolled": false
   },
   "outputs": [
    {
     "name": "stdout",
     "output_type": "stream",
     "text": [
      "Wall time: 11min 5s\n"
     ]
    },
    {
     "name": "stderr",
     "output_type": "stream",
     "text": [
      "C:\\Users\\Patrik\\Anaconda3\\lib\\site-packages\\sklearn\\utils\\optimize.py:203: ConvergenceWarning: newton-cg failed to converge. Increase the number of iterations.\n",
      "  \"number of iterations.\", ConvergenceWarning)\n"
     ]
    },
    {
     "data": {
      "text/plain": [
       "GridSearchCV(cv=5, error_score=0,\n",
       "       estimator=LogisticRegression(C=1.0, class_weight=None, dual=False, fit_intercept=True,\n",
       "          intercept_scaling=1, max_iter=100, multi_class='ovr', n_jobs=1,\n",
       "          penalty='l2', random_state=None, solver='liblinear', tol=0.0001,\n",
       "          verbose=0, warm_start=False),\n",
       "       fit_params=None, iid=True, n_jobs=-1,\n",
       "       param_grid={'C': [0.1, 1.0, 10.0], 'class_weight': ['balanced', None], 'random_state': [64], 'solver': ['newton-cg', 'sag', 'saga', 'lbfgs'], 'multi_class': ['ovr', 'multinomial'], 'max_iter': [10, 50, 100, 200, 500]},\n",
       "       pre_dispatch='2*n_jobs', refit=True, return_train_score='warn',\n",
       "       scoring='accuracy', verbose=0)"
      ]
     },
     "execution_count": 47,
     "metadata": {},
     "output_type": "execute_result"
    }
   ],
   "source": [
    "%%time\n",
    "gs.fit(features, labels)"
   ]
  },
  {
   "cell_type": "code",
   "execution_count": 48,
   "metadata": {},
   "outputs": [
    {
     "name": "stderr",
     "output_type": "stream",
     "text": [
      "C:\\Users\\Patrik\\Anaconda3\\lib\\site-packages\\sklearn\\model_selection\\_search.py:761: DeprecationWarning: The grid_scores_ attribute was deprecated in version 0.18 in favor of the more elaborate cv_results_ attribute. The grid_scores_ attribute will not be available from 0.20\n",
      "  DeprecationWarning)\n"
     ]
    },
    {
     "data": {
      "text/plain": [
       "[mean: 0.72035, std: 0.01689, params: {'C': 10.0, 'class_weight': None, 'max_iter': 10, 'multi_class': 'multinomial', 'random_state': 64, 'solver': 'newton-cg'},\n",
       " mean: 0.71886, std: 0.01345, params: {'C': 10.0, 'class_weight': None, 'max_iter': 500, 'multi_class': 'multinomial', 'random_state': 64, 'solver': 'sag'},\n",
       " mean: 0.71801, std: 0.01086, params: {'C': 1.0, 'class_weight': None, 'max_iter': 200, 'multi_class': 'multinomial', 'random_state': 64, 'solver': 'lbfgs'},\n",
       " mean: 0.71801, std: 0.01513, params: {'C': 10.0, 'class_weight': None, 'max_iter': 500, 'multi_class': 'multinomial', 'random_state': 64, 'solver': 'lbfgs'},\n",
       " mean: 0.71780, std: 0.00902, params: {'C': 1.0, 'class_weight': None, 'max_iter': 10, 'multi_class': 'multinomial', 'random_state': 64, 'solver': 'newton-cg'},\n",
       " mean: 0.71780, std: 0.01067, params: {'C': 1.0, 'class_weight': None, 'max_iter': 50, 'multi_class': 'multinomial', 'random_state': 64, 'solver': 'newton-cg'},\n",
       " mean: 0.71780, std: 0.01067, params: {'C': 1.0, 'class_weight': None, 'max_iter': 100, 'multi_class': 'multinomial', 'random_state': 64, 'solver': 'newton-cg'},\n",
       " mean: 0.71780, std: 0.01067, params: {'C': 1.0, 'class_weight': None, 'max_iter': 200, 'multi_class': 'multinomial', 'random_state': 64, 'solver': 'newton-cg'},\n",
       " mean: 0.71780, std: 0.01067, params: {'C': 1.0, 'class_weight': None, 'max_iter': 500, 'multi_class': 'multinomial', 'random_state': 64, 'solver': 'newton-cg'},\n",
       " mean: 0.71780, std: 0.01127, params: {'C': 1.0, 'class_weight': None, 'max_iter': 500, 'multi_class': 'multinomial', 'random_state': 64, 'solver': 'lbfgs'}]"
      ]
     },
     "execution_count": 48,
     "metadata": {},
     "output_type": "execute_result"
    }
   ],
   "source": [
    "sorted(gs.grid_scores_, key=lambda x: x.mean_validation_score, reverse=True)[:10]"
   ]
  },
  {
   "cell_type": "code",
   "execution_count": 49,
   "metadata": {},
   "outputs": [
    {
     "name": "stdout",
     "output_type": "stream",
     "text": [
      "accuracy:  0.712468193384\n",
      "\n",
      "             precision    recall  f1-score   support\n",
      "\n",
      "          1       0.84      0.95      0.89       659\n",
      "          2       0.36      0.21      0.26       209\n",
      "          3       0.51      0.53      0.52       336\n",
      "          4       0.76      0.74      0.75       368\n",
      "\n",
      "avg / total       0.69      0.71      0.70      1572\n",
      "\n",
      "macro precision:  0.617343479219\n",
      "micro precision:  0.712468193384\n",
      "\n",
      "micro recall:  0.712468193384\n",
      "macro recall:  0.607483541381\n",
      "\n",
      "micro f1:  0.712468193384\n",
      "macro f1:  0.606594261725\n"
     ]
    },
    {
     "data": {
      "image/png": "[encoded data removed]",
      "text/plain": [
       "<matplotlib.figure.Figure at 0x17dd97fdd30>"
      ]
     },
     "metadata": {},
     "output_type": "display_data"
    }
   ],
   "source": [
    "print_metrics(gs.best_estimator_, featuresCV, labelsCV)"
   ]
  },
  {
   "cell_type": "markdown",
   "metadata": {},
   "source": [
    "## LDA"
   ]
  },
  {
   "cell_type": "code",
   "execution_count": 58,
   "metadata": {
    "collapsed": true
   },
   "outputs": [],
   "source": [
    "from sklearn.discriminant_analysis import LinearDiscriminantAnalysis"
   ]
  },
  {
   "cell_type": "code",
   "execution_count": 59,
   "metadata": {
    "collapsed": true
   },
   "outputs": [],
   "source": [
    "cls = LinearDiscriminantAnalysis"
   ]
  },
  {
   "cell_type": "code",
   "execution_count": 60,
   "metadata": {
    "collapsed": true
   },
   "outputs": [],
   "source": [
    "params = {\n",
    "    'solver': ['svd', 'lsqr', 'eigen'],\n",
    "    'shrinkage': [None, 'auto', 0.0001, 0.001, 0.01],\n",
    "    'tol': [1e-4, 1e-3, 1e-1, 1e-10]\n",
    "}"
   ]
  },
  {
   "cell_type": "code",
   "execution_count": 61,
   "metadata": {},
   "outputs": [
    {
     "data": {
      "text/plain": [
       "60"
      ]
     },
     "execution_count": 61,
     "metadata": {},
     "output_type": "execute_result"
    }
   ],
   "source": [
    "gs = GridSearchCV(cls(), params, scoring='accuracy', cv=5, n_jobs=-1, error_score=0)\n",
    "len(list(ParameterGrid(params)))"
   ]
  },
  {
   "cell_type": "code",
   "execution_count": 62,
   "metadata": {},
   "outputs": [
    {
     "name": "stdout",
     "output_type": "stream",
     "text": [
      "Wall time: 9.11 s\n"
     ]
    },
    {
     "name": "stderr",
     "output_type": "stream",
     "text": [
      "C:\\Users\\Patrik\\Anaconda3\\lib\\site-packages\\sklearn\\discriminant_analysis.py:442: UserWarning: The priors do not sum to 1. Renormalizing\n",
      "  UserWarning)\n"
     ]
    },
    {
     "data": {
      "text/plain": [
       "GridSearchCV(cv=5, error_score=0,\n",
       "       estimator=LinearDiscriminantAnalysis(n_components=None, priors=None, shrinkage=None,\n",
       "              solver='svd', store_covariance=False, tol=0.0001),\n",
       "       fit_params=None, iid=True, n_jobs=-1,\n",
       "       param_grid={'solver': ['svd', 'lsqr', 'eigen'], 'shrinkage': [None, 'auto', 0.0001, 0.001, 0.01], 'tol': [0.0001, 0.001, 0.1, 1e-10]},\n",
       "       pre_dispatch='2*n_jobs', refit=True, return_train_score='warn',\n",
       "       scoring='accuracy', verbose=0)"
      ]
     },
     "execution_count": 62,
     "metadata": {},
     "output_type": "execute_result"
    }
   ],
   "source": [
    "%%time\n",
    "gs.fit(features, labels)"
   ]
  },
  {
   "cell_type": "code",
   "execution_count": 65,
   "metadata": {
    "scrolled": true
   },
   "outputs": [
    {
     "name": "stderr",
     "output_type": "stream",
     "text": [
      "C:\\Users\\Patrik\\Anaconda3\\lib\\site-packages\\sklearn\\model_selection\\_search.py:761: DeprecationWarning: The grid_scores_ attribute was deprecated in version 0.18 in favor of the more elaborate cv_results_ attribute. The grid_scores_ attribute will not be available from 0.20\n",
      "  DeprecationWarning)\n"
     ]
    },
    {
     "data": {
      "text/plain": [
       "[mean: 0.70762, std: 0.01020, params: {'shrinkage': 'auto', 'solver': 'lsqr', 'tol': 0.0001},\n",
       " mean: 0.70762, std: 0.01020, params: {'shrinkage': 'auto', 'solver': 'lsqr', 'tol': 0.001},\n",
       " mean: 0.70762, std: 0.01020, params: {'shrinkage': 'auto', 'solver': 'lsqr', 'tol': 0.1},\n",
       " mean: 0.70762, std: 0.01020, params: {'shrinkage': 'auto', 'solver': 'lsqr', 'tol': 1e-10},\n",
       " mean: 0.70741, std: 0.01312, params: {'shrinkage': 0.001, 'solver': 'lsqr', 'tol': 0.0001},\n",
       " mean: 0.70741, std: 0.01312, params: {'shrinkage': 0.001, 'solver': 'lsqr', 'tol': 0.001},\n",
       " mean: 0.70741, std: 0.01312, params: {'shrinkage': 0.001, 'solver': 'lsqr', 'tol': 0.1},\n",
       " mean: 0.70741, std: 0.01312, params: {'shrinkage': 0.001, 'solver': 'lsqr', 'tol': 1e-10},\n",
       " mean: 0.70719, std: 0.01283, params: {'shrinkage': 0.01, 'solver': 'lsqr', 'tol': 0.0001},\n",
       " mean: 0.70719, std: 0.01283, params: {'shrinkage': 0.01, 'solver': 'lsqr', 'tol': 0.001}]"
      ]
     },
     "execution_count": 65,
     "metadata": {},
     "output_type": "execute_result"
    }
   ],
   "source": [
    "sorted(gs.grid_scores_, key=lambda x: x.mean_validation_score, reverse=True)[:10]"
   ]
  },
  {
   "cell_type": "code",
   "execution_count": 64,
   "metadata": {},
   "outputs": [
    {
     "name": "stdout",
     "output_type": "stream",
     "text": [
      "accuracy:  0.693384223919\n",
      "\n",
      "             precision    recall  f1-score   support\n",
      "\n",
      "          1       0.85      0.91      0.88       659\n",
      "          2       0.35      0.34      0.34       209\n",
      "          3       0.49      0.46      0.47       336\n",
      "          4       0.76      0.71      0.73       368\n",
      "\n",
      "avg / total       0.69      0.69      0.69      1572\n",
      "\n",
      "macro precision:  0.612515707991\n",
      "micro precision:  0.693384223919\n",
      "\n",
      "micro recall:  0.693384223919\n",
      "macro recall:  0.60698575377\n",
      "\n",
      "micro f1:  0.693384223919\n",
      "macro f1:  0.609248649394\n"
     ]
    },
    {
     "data": {
      "image/png": "[encoded data removed]",
      "text/plain": [
       "<matplotlib.figure.Figure at 0x17dd59585f8>"
      ]
     },
     "metadata": {},
     "output_type": "display_data"
    }
   ],
   "source": [
    "print_metrics(gs.best_estimator_, featuresCV, labelsCV)"
   ]
  },
  {
   "cell_type": "markdown",
   "metadata": {},
   "source": [
    "# LinearSVC"
   ]
  },
  {
   "cell_type": "code",
   "execution_count": 36,
   "metadata": {
    "collapsed": true
   },
   "outputs": [],
   "source": [
    "from sklearn.svm import LinearSVC"
   ]
  },
  {
   "cell_type": "code",
   "execution_count": 67,
   "metadata": {
    "collapsed": true
   },
   "outputs": [],
   "source": [
    "cls = LinearSVC"
   ]
  },
  {
   "cell_type": "code",
   "execution_count": 68,
   "metadata": {
    "collapsed": true
   },
   "outputs": [],
   "source": [
    "params = {\n",
    "    'penalty': ['l1', 'l2'],\n",
    "    'loss': ['hinge', 'squared_hinge'],\n",
    "    #'tol': [1e-4, 1e-3, 1e-1, 1e-10],\n",
    "    'C': [0.5, 1, 10, 20, 50], \n",
    "    'multi_class': ['crammer_singer', 'ovr'],\n",
    "    'class_weight': [None, 'balanced'],\n",
    "    'max_iter': [10, 100, 1000, 10000]\n",
    "}"
   ]
  },
  {
   "cell_type": "code",
   "execution_count": 69,
   "metadata": {},
   "outputs": [
    {
     "data": {
      "text/plain": [
       "320"
      ]
     },
     "execution_count": 69,
     "metadata": {},
     "output_type": "execute_result"
    }
   ],
   "source": [
    "gs = GridSearchCV(cls(), params, scoring='accuracy', cv=5, n_jobs=-1, error_score=0)\n",
    "len(list(ParameterGrid(params)))"
   ]
  },
  {
   "cell_type": "code",
   "execution_count": 70,
   "metadata": {},
   "outputs": [
    {
     "name": "stdout",
     "output_type": "stream",
     "text": [
      "Wall time: 3h 22min 20s\n"
     ]
    },
    {
     "data": {
      "text/plain": [
       "GridSearchCV(cv=5, error_score=0,\n",
       "       estimator=LinearSVC(C=1.0, class_weight=None, dual=True, fit_intercept=True,\n",
       "     intercept_scaling=1, loss='squared_hinge', max_iter=1000,\n",
       "     multi_class='ovr', penalty='l2', random_state=None, tol=0.0001,\n",
       "     verbose=0),\n",
       "       fit_params=None, iid=True, n_jobs=-1,\n",
       "       param_grid={'penalty': ['l1', 'l2'], 'loss': ['hinge', 'squared_hinge'], 'C': [0.5, 1, 10, 20, 50], 'multi_class': ['crammer_singer', 'ovr'], 'class_weight': [None, 'balanced'], 'max_iter': [10, 100, 1000, 10000]},\n",
       "       pre_dispatch='2*n_jobs', refit=True, return_train_score='warn',\n",
       "       scoring='accuracy', verbose=0)"
      ]
     },
     "execution_count": 70,
     "metadata": {},
     "output_type": "execute_result"
    }
   ],
   "source": [
    "%%time\n",
    "gs.fit(features, labels)"
   ]
  },
  {
   "cell_type": "code",
   "execution_count": 71,
   "metadata": {},
   "outputs": [
    {
     "name": "stderr",
     "output_type": "stream",
     "text": [
      "C:\\Users\\Patrik\\Anaconda3\\lib\\site-packages\\sklearn\\model_selection\\_search.py:761: DeprecationWarning: The grid_scores_ attribute was deprecated in version 0.18 in favor of the more elaborate cv_results_ attribute. The grid_scores_ attribute will not be available from 0.20\n",
      "  DeprecationWarning)\n"
     ]
    },
    {
     "data": {
      "text/plain": [
       "[mean: 0.71865, std: 0.00890, params: {'C': 20, 'class_weight': None, 'loss': 'hinge', 'max_iter': 100, 'multi_class': 'crammer_singer', 'penalty': 'l2'},\n",
       " mean: 0.71823, std: 0.00982, params: {'C': 20, 'class_weight': None, 'loss': 'hinge', 'max_iter': 100, 'multi_class': 'crammer_singer', 'penalty': 'l1'},\n",
       " mean: 0.71738, std: 0.01051, params: {'C': 20, 'class_weight': None, 'loss': 'squared_hinge', 'max_iter': 1000, 'multi_class': 'crammer_singer', 'penalty': 'l2'},\n",
       " mean: 0.71717, std: 0.00985, params: {'C': 20, 'class_weight': None, 'loss': 'hinge', 'max_iter': 10000, 'multi_class': 'crammer_singer', 'penalty': 'l1'},\n",
       " mean: 0.71695, std: 0.01254, params: {'C': 50, 'class_weight': None, 'loss': 'squared_hinge', 'max_iter': 10000, 'multi_class': 'crammer_singer', 'penalty': 'l1'},\n",
       " mean: 0.71632, std: 0.00745, params: {'C': 20, 'class_weight': None, 'loss': 'squared_hinge', 'max_iter': 100, 'multi_class': 'crammer_singer', 'penalty': 'l1'},\n",
       " mean: 0.71610, std: 0.00644, params: {'C': 20, 'class_weight': None, 'loss': 'hinge', 'max_iter': 1000, 'multi_class': 'crammer_singer', 'penalty': 'l2'},\n",
       " mean: 0.71568, std: 0.00770, params: {'C': 20, 'class_weight': None, 'loss': 'squared_hinge', 'max_iter': 10000, 'multi_class': 'crammer_singer', 'penalty': 'l2'},\n",
       " mean: 0.71547, std: 0.01040, params: {'C': 50, 'class_weight': None, 'loss': 'squared_hinge', 'max_iter': 10, 'multi_class': 'crammer_singer', 'penalty': 'l2'},\n",
       " mean: 0.71526, std: 0.01085, params: {'C': 10, 'class_weight': None, 'loss': 'hinge', 'max_iter': 1000, 'multi_class': 'crammer_singer', 'penalty': 'l2'},\n",
       " mean: 0.71526, std: 0.00935, params: {'C': 20, 'class_weight': None, 'loss': 'squared_hinge', 'max_iter': 10000, 'multi_class': 'crammer_singer', 'penalty': 'l1'},\n",
       " mean: 0.71526, std: 0.01184, params: {'C': 50, 'class_weight': None, 'loss': 'hinge', 'max_iter': 100, 'multi_class': 'crammer_singer', 'penalty': 'l1'},\n",
       " mean: 0.71504, std: 0.01047, params: {'C': 10, 'class_weight': None, 'loss': 'hinge', 'max_iter': 100, 'multi_class': 'crammer_singer', 'penalty': 'l1'},\n",
       " mean: 0.71504, std: 0.01715, params: {'C': 50, 'class_weight': None, 'loss': 'hinge', 'max_iter': 1000, 'multi_class': 'crammer_singer', 'penalty': 'l2'},\n",
       " mean: 0.71483, std: 0.00817, params: {'C': 10, 'class_weight': None, 'loss': 'hinge', 'max_iter': 10, 'multi_class': 'crammer_singer', 'penalty': 'l2'},\n",
       " mean: 0.71483, std: 0.01204, params: {'C': 20, 'class_weight': None, 'loss': 'hinge', 'max_iter': 10, 'multi_class': 'crammer_singer', 'penalty': 'l2'},\n",
       " mean: 0.71483, std: 0.00610, params: {'C': 20, 'class_weight': None, 'loss': 'hinge', 'max_iter': 10000, 'multi_class': 'crammer_singer', 'penalty': 'l2'},\n",
       " mean: 0.71483, std: 0.00823, params: {'C': 20, 'class_weight': None, 'loss': 'squared_hinge', 'max_iter': 10, 'multi_class': 'crammer_singer', 'penalty': 'l1'},\n",
       " mean: 0.71441, std: 0.00856, params: {'C': 10, 'class_weight': None, 'loss': 'hinge', 'max_iter': 10, 'multi_class': 'crammer_singer', 'penalty': 'l1'},\n",
       " mean: 0.71419, std: 0.00933, params: {'C': 10, 'class_weight': None, 'loss': 'squared_hinge', 'max_iter': 10, 'multi_class': 'crammer_singer', 'penalty': 'l1'},\n",
       " mean: 0.71419, std: 0.00990, params: {'C': 10, 'class_weight': None, 'loss': 'squared_hinge', 'max_iter': 1000, 'multi_class': 'crammer_singer', 'penalty': 'l2'},\n",
       " mean: 0.71419, std: 0.01004, params: {'C': 20, 'class_weight': None, 'loss': 'squared_hinge', 'max_iter': 1000, 'multi_class': 'crammer_singer', 'penalty': 'l1'},\n",
       " mean: 0.71398, std: 0.00722, params: {'C': 10, 'class_weight': None, 'loss': 'squared_hinge', 'max_iter': 100, 'multi_class': 'crammer_singer', 'penalty': 'l2'},\n",
       " mean: 0.71356, std: 0.00834, params: {'C': 10, 'class_weight': None, 'loss': 'squared_hinge', 'max_iter': 10, 'multi_class': 'crammer_singer', 'penalty': 'l2'},\n",
       " mean: 0.71356, std: 0.00810, params: {'C': 10, 'class_weight': None, 'loss': 'squared_hinge', 'max_iter': 1000, 'multi_class': 'crammer_singer', 'penalty': 'l1'},\n",
       " mean: 0.71356, std: 0.00995, params: {'C': 10, 'class_weight': None, 'loss': 'squared_hinge', 'max_iter': 10000, 'multi_class': 'crammer_singer', 'penalty': 'l2'},\n",
       " mean: 0.71356, std: 0.00998, params: {'C': 20, 'class_weight': None, 'loss': 'hinge', 'max_iter': 10, 'multi_class': 'crammer_singer', 'penalty': 'l1'},\n",
       " mean: 0.71356, std: 0.01339, params: {'C': 50, 'class_weight': None, 'loss': 'squared_hinge', 'max_iter': 100, 'multi_class': 'crammer_singer', 'penalty': 'l2'},\n",
       " mean: 0.71335, std: 0.01035, params: {'C': 10, 'class_weight': None, 'loss': 'hinge', 'max_iter': 1000, 'multi_class': 'crammer_singer', 'penalty': 'l1'},\n",
       " mean: 0.71335, std: 0.00757, params: {'C': 10, 'class_weight': None, 'loss': 'squared_hinge', 'max_iter': 10000, 'multi_class': 'crammer_singer', 'penalty': 'l1'},\n",
       " mean: 0.71313, std: 0.01018, params: {'C': 10, 'class_weight': None, 'loss': 'squared_hinge', 'max_iter': 100, 'multi_class': 'crammer_singer', 'penalty': 'l1'},\n",
       " mean: 0.71313, std: 0.01036, params: {'C': 20, 'class_weight': None, 'loss': 'hinge', 'max_iter': 1000, 'multi_class': 'crammer_singer', 'penalty': 'l1'},\n",
       " mean: 0.71250, std: 0.00991, params: {'C': 10, 'class_weight': None, 'loss': 'hinge', 'max_iter': 100, 'multi_class': 'crammer_singer', 'penalty': 'l2'},\n",
       " mean: 0.71250, std: 0.00817, params: {'C': 10, 'class_weight': None, 'loss': 'hinge', 'max_iter': 10000, 'multi_class': 'crammer_singer', 'penalty': 'l2'},\n",
       " mean: 0.71250, std: 0.01003, params: {'C': 20, 'class_weight': None, 'loss': 'squared_hinge', 'max_iter': 100, 'multi_class': 'crammer_singer', 'penalty': 'l2'},\n",
       " mean: 0.71207, std: 0.00699, params: {'C': 20, 'class_weight': None, 'loss': 'squared_hinge', 'max_iter': 10, 'multi_class': 'crammer_singer', 'penalty': 'l2'},\n",
       " mean: 0.71165, std: 0.00881, params: {'C': 10, 'class_weight': None, 'loss': 'hinge', 'max_iter': 10000, 'multi_class': 'crammer_singer', 'penalty': 'l1'},\n",
       " mean: 0.71122, std: 0.01138, params: {'C': 50, 'class_weight': None, 'loss': 'hinge', 'max_iter': 1000, 'multi_class': 'crammer_singer', 'penalty': 'l1'},\n",
       " mean: 0.71080, std: 0.01306, params: {'C': 50, 'class_weight': None, 'loss': 'hinge', 'max_iter': 10000, 'multi_class': 'crammer_singer', 'penalty': 'l2'},\n",
       " mean: 0.71059, std: 0.01641, params: {'C': 50, 'class_weight': None, 'loss': 'squared_hinge', 'max_iter': 100, 'multi_class': 'crammer_singer', 'penalty': 'l1'},\n",
       " mean: 0.71059, std: 0.01636, params: {'C': 50, 'class_weight': None, 'loss': 'squared_hinge', 'max_iter': 1000, 'multi_class': 'crammer_singer', 'penalty': 'l2'},\n",
       " mean: 0.70974, std: 0.01228, params: {'C': 50, 'class_weight': None, 'loss': 'squared_hinge', 'max_iter': 10, 'multi_class': 'crammer_singer', 'penalty': 'l1'},\n",
       " mean: 0.70953, std: 0.00778, params: {'C': 50, 'class_weight': None, 'loss': 'hinge', 'max_iter': 10000, 'multi_class': 'crammer_singer', 'penalty': 'l1'},\n",
       " mean: 0.70931, std: 0.00952, params: {'C': 10, 'class_weight': None, 'loss': 'squared_hinge', 'max_iter': 10000, 'multi_class': 'ovr', 'penalty': 'l2'},\n",
       " mean: 0.70825, std: 0.01097, params: {'C': 20, 'class_weight': 'balanced', 'loss': 'squared_hinge', 'max_iter': 10000, 'multi_class': 'ovr', 'penalty': 'l2'},\n",
       " mean: 0.70825, std: 0.00778, params: {'C': 50, 'class_weight': None, 'loss': 'hinge', 'max_iter': 10, 'multi_class': 'crammer_singer', 'penalty': 'l2'},\n",
       " mean: 0.70804, std: 0.01048, params: {'C': 1, 'class_weight': None, 'loss': 'squared_hinge', 'max_iter': 10000, 'multi_class': 'ovr', 'penalty': 'l2'},\n",
       " mean: 0.70783, std: 0.00764, params: {'C': 50, 'class_weight': None, 'loss': 'squared_hinge', 'max_iter': 1000, 'multi_class': 'crammer_singer', 'penalty': 'l1'},\n",
       " mean: 0.70762, std: 0.01071, params: {'C': 50, 'class_weight': None, 'loss': 'hinge', 'max_iter': 10, 'multi_class': 'crammer_singer', 'penalty': 'l1'},\n",
       " mean: 0.70698, std: 0.01498, params: {'C': 50, 'class_weight': 'balanced', 'loss': 'hinge', 'max_iter': 10000, 'multi_class': 'ovr', 'penalty': 'l2'},\n",
       " mean: 0.70656, std: 0.00977, params: {'C': 0.5, 'class_weight': None, 'loss': 'squared_hinge', 'max_iter': 1000, 'multi_class': 'ovr', 'penalty': 'l2'},\n",
       " mean: 0.70613, std: 0.01094, params: {'C': 0.5, 'class_weight': None, 'loss': 'squared_hinge', 'max_iter': 10000, 'multi_class': 'ovr', 'penalty': 'l2'},\n",
       " mean: 0.70486, std: 0.01089, params: {'C': 50, 'class_weight': None, 'loss': 'hinge', 'max_iter': 100, 'multi_class': 'crammer_singer', 'penalty': 'l2'},\n",
       " mean: 0.70465, std: 0.01536, params: {'C': 1, 'class_weight': None, 'loss': 'squared_hinge', 'max_iter': 1000, 'multi_class': 'ovr', 'penalty': 'l2'},\n",
       " mean: 0.70380, std: 0.01284, params: {'C': 50, 'class_weight': None, 'loss': 'squared_hinge', 'max_iter': 10000, 'multi_class': 'crammer_singer', 'penalty': 'l2'},\n",
       " mean: 0.70252, std: 0.01437, params: {'C': 0.5, 'class_weight': 'balanced', 'loss': 'squared_hinge', 'max_iter': 10000, 'multi_class': 'ovr', 'penalty': 'l2'},\n",
       " mean: 0.70210, std: 0.01581, params: {'C': 0.5, 'class_weight': 'balanced', 'loss': 'squared_hinge', 'max_iter': 1000, 'multi_class': 'ovr', 'penalty': 'l2'},\n",
       " mean: 0.70210, std: 0.01602, params: {'C': 1, 'class_weight': 'balanced', 'loss': 'squared_hinge', 'max_iter': 10000, 'multi_class': 'ovr', 'penalty': 'l2'},\n",
       " mean: 0.70189, std: 0.01439, params: {'C': 1, 'class_weight': 'balanced', 'loss': 'squared_hinge', 'max_iter': 1000, 'multi_class': 'ovr', 'penalty': 'l2'},\n",
       " mean: 0.70146, std: 0.02367, params: {'C': 20, 'class_weight': None, 'loss': 'squared_hinge', 'max_iter': 10000, 'multi_class': 'ovr', 'penalty': 'l2'},\n",
       " mean: 0.69977, std: 0.00924, params: {'C': 1, 'class_weight': None, 'loss': 'hinge', 'max_iter': 10, 'multi_class': 'crammer_singer', 'penalty': 'l2'},\n",
       " mean: 0.69977, std: 0.00931, params: {'C': 1, 'class_weight': None, 'loss': 'hinge', 'max_iter': 100, 'multi_class': 'crammer_singer', 'penalty': 'l1'},\n",
       " mean: 0.69977, std: 0.00941, params: {'C': 1, 'class_weight': None, 'loss': 'hinge', 'max_iter': 1000, 'multi_class': 'crammer_singer', 'penalty': 'l1'},\n",
       " mean: 0.69977, std: 0.00896, params: {'C': 1, 'class_weight': None, 'loss': 'hinge', 'max_iter': 10000, 'multi_class': 'crammer_singer', 'penalty': 'l2'},\n",
       " mean: 0.69955, std: 0.00945, params: {'C': 1, 'class_weight': None, 'loss': 'hinge', 'max_iter': 100, 'multi_class': 'crammer_singer', 'penalty': 'l2'},\n",
       " mean: 0.69955, std: 0.00907, params: {'C': 1, 'class_weight': None, 'loss': 'hinge', 'max_iter': 1000, 'multi_class': 'crammer_singer', 'penalty': 'l2'},\n",
       " mean: 0.69955, std: 0.00897, params: {'C': 1, 'class_weight': None, 'loss': 'hinge', 'max_iter': 10000, 'multi_class': 'crammer_singer', 'penalty': 'l1'},\n",
       " mean: 0.69955, std: 0.00876, params: {'C': 1, 'class_weight': None, 'loss': 'squared_hinge', 'max_iter': 1000, 'multi_class': 'crammer_singer', 'penalty': 'l1'},\n",
       " mean: 0.69955, std: 0.01532, params: {'C': 10, 'class_weight': 'balanced', 'loss': 'squared_hinge', 'max_iter': 10000, 'multi_class': 'ovr', 'penalty': 'l2'},\n",
       " mean: 0.69934, std: 0.00893, params: {'C': 1, 'class_weight': None, 'loss': 'squared_hinge', 'max_iter': 10, 'multi_class': 'crammer_singer', 'penalty': 'l2'},\n",
       " mean: 0.69934, std: 0.00884, params: {'C': 1, 'class_weight': None, 'loss': 'squared_hinge', 'max_iter': 10000, 'multi_class': 'crammer_singer', 'penalty': 'l1'},\n",
       " mean: 0.69934, std: 0.00921, params: {'C': 1, 'class_weight': None, 'loss': 'squared_hinge', 'max_iter': 10000, 'multi_class': 'crammer_singer', 'penalty': 'l2'},\n",
       " mean: 0.69913, std: 0.00874, params: {'C': 1, 'class_weight': None, 'loss': 'hinge', 'max_iter': 10, 'multi_class': 'crammer_singer', 'penalty': 'l1'},\n",
       " mean: 0.69913, std: 0.00918, params: {'C': 1, 'class_weight': None, 'loss': 'squared_hinge', 'max_iter': 10, 'multi_class': 'crammer_singer', 'penalty': 'l1'},\n",
       " mean: 0.69913, std: 0.00906, params: {'C': 1, 'class_weight': None, 'loss': 'squared_hinge', 'max_iter': 1000, 'multi_class': 'crammer_singer', 'penalty': 'l2'},\n",
       " mean: 0.69892, std: 0.00892, params: {'C': 1, 'class_weight': None, 'loss': 'squared_hinge', 'max_iter': 100, 'multi_class': 'crammer_singer', 'penalty': 'l1'},\n",
       " mean: 0.69892, std: 0.00912, params: {'C': 1, 'class_weight': None, 'loss': 'squared_hinge', 'max_iter': 100, 'multi_class': 'crammer_singer', 'penalty': 'l2'},\n",
       " mean: 0.69319, std: 0.01687, params: {'C': 20, 'class_weight': 'balanced', 'loss': 'hinge', 'max_iter': 10000, 'multi_class': 'crammer_singer', 'penalty': 'l2'},\n",
       " mean: 0.69234, std: 0.01341, params: {'C': 10, 'class_weight': 'balanced', 'loss': 'squared_hinge', 'max_iter': 10000, 'multi_class': 'crammer_singer', 'penalty': 'l1'},\n",
       " mean: 0.69234, std: 0.01372, params: {'C': 20, 'class_weight': 'balanced', 'loss': 'squared_hinge', 'max_iter': 10, 'multi_class': 'crammer_singer', 'penalty': 'l2'},\n",
       " mean: 0.69149, std: 0.02140, params: {'C': 20, 'class_weight': 'balanced', 'loss': 'hinge', 'max_iter': 10, 'multi_class': 'crammer_singer', 'penalty': 'l1'},\n",
       " mean: 0.69128, std: 0.00893, params: {'C': 0.5, 'class_weight': None, 'loss': 'squared_hinge', 'max_iter': 1000, 'multi_class': 'crammer_singer', 'penalty': 'l2'},\n",
       " mean: 0.69107, std: 0.00879, params: {'C': 0.5, 'class_weight': None, 'loss': 'squared_hinge', 'max_iter': 10, 'multi_class': 'crammer_singer', 'penalty': 'l1'},\n",
       " mean: 0.69107, std: 0.00879, params: {'C': 0.5, 'class_weight': None, 'loss': 'squared_hinge', 'max_iter': 10, 'multi_class': 'crammer_singer', 'penalty': 'l2'},\n",
       " mean: 0.69107, std: 0.01359, params: {'C': 20, 'class_weight': 'balanced', 'loss': 'squared_hinge', 'max_iter': 10000, 'multi_class': 'crammer_singer', 'penalty': 'l2'},\n",
       " mean: 0.69086, std: 0.00875, params: {'C': 0.5, 'class_weight': None, 'loss': 'squared_hinge', 'max_iter': 1000, 'multi_class': 'crammer_singer', 'penalty': 'l1'},\n",
       " mean: 0.69086, std: 0.00872, params: {'C': 0.5, 'class_weight': None, 'loss': 'squared_hinge', 'max_iter': 10000, 'multi_class': 'crammer_singer', 'penalty': 'l2'},\n",
       " mean: 0.69064, std: 0.00909, params: {'C': 0.5, 'class_weight': None, 'loss': 'hinge', 'max_iter': 10, 'multi_class': 'crammer_singer', 'penalty': 'l1'},\n",
       " mean: 0.69064, std: 0.00914, params: {'C': 0.5, 'class_weight': None, 'loss': 'hinge', 'max_iter': 100, 'multi_class': 'crammer_singer', 'penalty': 'l1'},\n",
       " mean: 0.69064, std: 0.00914, params: {'C': 0.5, 'class_weight': None, 'loss': 'hinge', 'max_iter': 100, 'multi_class': 'crammer_singer', 'penalty': 'l2'},\n",
       " mean: 0.69064, std: 0.00926, params: {'C': 0.5, 'class_weight': None, 'loss': 'hinge', 'max_iter': 1000, 'multi_class': 'crammer_singer', 'penalty': 'l1'},\n",
       " mean: 0.69064, std: 0.00867, params: {'C': 0.5, 'class_weight': None, 'loss': 'hinge', 'max_iter': 10000, 'multi_class': 'crammer_singer', 'penalty': 'l1'},\n",
       " mean: 0.69064, std: 0.00917, params: {'C': 0.5, 'class_weight': None, 'loss': 'hinge', 'max_iter': 10000, 'multi_class': 'crammer_singer', 'penalty': 'l2'},\n",
       " mean: 0.69064, std: 0.00867, params: {'C': 0.5, 'class_weight': None, 'loss': 'squared_hinge', 'max_iter': 100, 'multi_class': 'crammer_singer', 'penalty': 'l1'},\n",
       " mean: 0.69064, std: 0.00917, params: {'C': 0.5, 'class_weight': None, 'loss': 'squared_hinge', 'max_iter': 10000, 'multi_class': 'crammer_singer', 'penalty': 'l1'},\n",
       " mean: 0.69064, std: 0.01143, params: {'C': 10, 'class_weight': 'balanced', 'loss': 'squared_hinge', 'max_iter': 10, 'multi_class': 'crammer_singer', 'penalty': 'l1'},\n",
       " mean: 0.69064, std: 0.02106, params: {'C': 20, 'class_weight': 'balanced', 'loss': 'squared_hinge', 'max_iter': 100, 'multi_class': 'crammer_singer', 'penalty': 'l2'},\n",
       " mean: 0.69043, std: 0.00909, params: {'C': 0.5, 'class_weight': None, 'loss': 'hinge', 'max_iter': 10, 'multi_class': 'crammer_singer', 'penalty': 'l2'},\n",
       " mean: 0.69043, std: 0.00955, params: {'C': 0.5, 'class_weight': None, 'loss': 'hinge', 'max_iter': 1000, 'multi_class': 'crammer_singer', 'penalty': 'l2'},\n",
       " mean: 0.69043, std: 0.00852, params: {'C': 0.5, 'class_weight': None, 'loss': 'squared_hinge', 'max_iter': 100, 'multi_class': 'crammer_singer', 'penalty': 'l2'},\n",
       " mean: 0.69043, std: 0.01584, params: {'C': 10, 'class_weight': 'balanced', 'loss': 'hinge', 'max_iter': 10, 'multi_class': 'crammer_singer', 'penalty': 'l2'},\n",
       " mean: 0.69022, std: 0.01631, params: {'C': 10, 'class_weight': 'balanced', 'loss': 'squared_hinge', 'max_iter': 10, 'multi_class': 'crammer_singer', 'penalty': 'l2'},\n",
       " mean: 0.69022, std: 0.01343, params: {'C': 10, 'class_weight': 'balanced', 'loss': 'squared_hinge', 'max_iter': 100, 'multi_class': 'crammer_singer', 'penalty': 'l1'},\n",
       " mean: 0.69022, std: 0.01555, params: {'C': 10, 'class_weight': 'balanced', 'loss': 'squared_hinge', 'max_iter': 1000, 'multi_class': 'crammer_singer', 'penalty': 'l1'},\n",
       " mean: 0.69022, std: 0.01643, params: {'C': 20, 'class_weight': 'balanced', 'loss': 'squared_hinge', 'max_iter': 100, 'multi_class': 'crammer_singer', 'penalty': 'l1'},\n",
       " mean: 0.68979, std: 0.01290, params: {'C': 10, 'class_weight': 'balanced', 'loss': 'hinge', 'max_iter': 100, 'multi_class': 'crammer_singer', 'penalty': 'l1'},\n",
       " mean: 0.68979, std: 0.01097, params: {'C': 10, 'class_weight': 'balanced', 'loss': 'squared_hinge', 'max_iter': 100, 'multi_class': 'crammer_singer', 'penalty': 'l2'},\n",
       " mean: 0.68958, std: 0.01366, params: {'C': 50, 'class_weight': 'balanced', 'loss': 'squared_hinge', 'max_iter': 100, 'multi_class': 'crammer_singer', 'penalty': 'l2'},\n",
       " mean: 0.68937, std: 0.01368, params: {'C': 10, 'class_weight': 'balanced', 'loss': 'hinge', 'max_iter': 1000, 'multi_class': 'crammer_singer', 'penalty': 'l2'},\n",
       " mean: 0.68937, std: 0.01761, params: {'C': 20, 'class_weight': 'balanced', 'loss': 'hinge', 'max_iter': 1000, 'multi_class': 'crammer_singer', 'penalty': 'l1'},\n",
       " mean: 0.68937, std: 0.01964, params: {'C': 20, 'class_weight': 'balanced', 'loss': 'hinge', 'max_iter': 1000, 'multi_class': 'crammer_singer', 'penalty': 'l2'},\n",
       " mean: 0.68916, std: 0.01406, params: {'C': 10, 'class_weight': 'balanced', 'loss': 'hinge', 'max_iter': 1000, 'multi_class': 'crammer_singer', 'penalty': 'l1'},\n",
       " mean: 0.68895, std: 0.01197, params: {'C': 20, 'class_weight': 'balanced', 'loss': 'hinge', 'max_iter': 100, 'multi_class': 'crammer_singer', 'penalty': 'l2'},\n",
       " mean: 0.68895, std: 0.01301, params: {'C': 20, 'class_weight': 'balanced', 'loss': 'hinge', 'max_iter': 10000, 'multi_class': 'crammer_singer', 'penalty': 'l1'},\n",
       " mean: 0.68852, std: 0.01580, params: {'C': 10, 'class_weight': 'balanced', 'loss': 'hinge', 'max_iter': 100, 'multi_class': 'crammer_singer', 'penalty': 'l2'},\n",
       " mean: 0.68831, std: 0.01023, params: {'C': 10, 'class_weight': None, 'loss': 'squared_hinge', 'max_iter': 1000, 'multi_class': 'ovr', 'penalty': 'l2'},\n",
       " mean: 0.68725, std: 0.01544, params: {'C': 10, 'class_weight': 'balanced', 'loss': 'hinge', 'max_iter': 10000, 'multi_class': 'crammer_singer', 'penalty': 'l2'},\n",
       " mean: 0.68725, std: 0.01937, params: {'C': 20, 'class_weight': 'balanced', 'loss': 'hinge', 'max_iter': 10, 'multi_class': 'crammer_singer', 'penalty': 'l2'},\n",
       " mean: 0.68704, std: 0.01294, params: {'C': 50, 'class_weight': 'balanced', 'loss': 'hinge', 'max_iter': 100, 'multi_class': 'crammer_singer', 'penalty': 'l1'},\n",
       " mean: 0.68682, std: 0.01274, params: {'C': 0.5, 'class_weight': None, 'loss': 'squared_hinge', 'max_iter': 100, 'multi_class': 'ovr', 'penalty': 'l2'},\n",
       " mean: 0.68661, std: 0.01093, params: {'C': 10, 'class_weight': 'balanced', 'loss': 'squared_hinge', 'max_iter': 1000, 'multi_class': 'crammer_singer', 'penalty': 'l2'},\n",
       " mean: 0.68661, std: 0.01502, params: {'C': 20, 'class_weight': 'balanced', 'loss': 'hinge', 'max_iter': 100, 'multi_class': 'crammer_singer', 'penalty': 'l1'},\n",
       " mean: 0.68619, std: 0.01500, params: {'C': 50, 'class_weight': 'balanced', 'loss': 'hinge', 'max_iter': 1000, 'multi_class': 'crammer_singer', 'penalty': 'l2'},\n",
       " mean: 0.68597, std: 0.01125, params: {'C': 20, 'class_weight': 'balanced', 'loss': 'squared_hinge', 'max_iter': 10, 'multi_class': 'crammer_singer', 'penalty': 'l1'},\n",
       " mean: 0.68555, std: 0.01289, params: {'C': 10, 'class_weight': 'balanced', 'loss': 'hinge', 'max_iter': 10, 'multi_class': 'crammer_singer', 'penalty': 'l1'},\n",
       " mean: 0.68534, std: 0.01254, params: {'C': 10, 'class_weight': 'balanced', 'loss': 'squared_hinge', 'max_iter': 10000, 'multi_class': 'crammer_singer', 'penalty': 'l2'},\n",
       " mean: 0.68513, std: 0.01179, params: {'C': 20, 'class_weight': 'balanced', 'loss': 'squared_hinge', 'max_iter': 1000, 'multi_class': 'crammer_singer', 'penalty': 'l1'},\n",
       " mean: 0.68491, std: 0.01590, params: {'C': 10, 'class_weight': 'balanced', 'loss': 'hinge', 'max_iter': 10000, 'multi_class': 'crammer_singer', 'penalty': 'l1'},\n",
       " mean: 0.68491, std: 0.01587, params: {'C': 20, 'class_weight': 'balanced', 'loss': 'hinge', 'max_iter': 10000, 'multi_class': 'ovr', 'penalty': 'l2'},\n",
       " mean: 0.68449, std: 0.01680, params: {'C': 20, 'class_weight': 'balanced', 'loss': 'squared_hinge', 'max_iter': 1000, 'multi_class': 'crammer_singer', 'penalty': 'l2'},\n",
       " mean: 0.68428, std: 0.02513, params: {'C': 50, 'class_weight': 'balanced', 'loss': 'squared_hinge', 'max_iter': 10000, 'multi_class': 'crammer_singer', 'penalty': 'l2'},\n",
       " mean: 0.68364, std: 0.00630, params: {'C': 20, 'class_weight': None, 'loss': 'hinge', 'max_iter': 10000, 'multi_class': 'ovr', 'penalty': 'l2'},\n",
       " mean: 0.68322, std: 0.01489, params: {'C': 1, 'class_weight': 'balanced', 'loss': 'hinge', 'max_iter': 10, 'multi_class': 'crammer_singer', 'penalty': 'l1'},\n",
       " mean: 0.68322, std: 0.01414, params: {'C': 1, 'class_weight': 'balanced', 'loss': 'hinge', 'max_iter': 100, 'multi_class': 'crammer_singer', 'penalty': 'l2'},\n",
       " mean: 0.68322, std: 0.01509, params: {'C': 1, 'class_weight': 'balanced', 'loss': 'hinge', 'max_iter': 1000, 'multi_class': 'crammer_singer', 'penalty': 'l1'},\n",
       " mean: 0.68300, std: 0.01479, params: {'C': 1, 'class_weight': 'balanced', 'loss': 'squared_hinge', 'max_iter': 100, 'multi_class': 'crammer_singer', 'penalty': 'l1'},\n",
       " mean: 0.68279, std: 0.01437, params: {'C': 1, 'class_weight': 'balanced', 'loss': 'hinge', 'max_iter': 1000, 'multi_class': 'crammer_singer', 'penalty': 'l2'},\n",
       " mean: 0.68279, std: 0.01404, params: {'C': 1, 'class_weight': 'balanced', 'loss': 'hinge', 'max_iter': 10000, 'multi_class': 'crammer_singer', 'penalty': 'l2'},\n",
       " mean: 0.68279, std: 0.01478, params: {'C': 1, 'class_weight': 'balanced', 'loss': 'squared_hinge', 'max_iter': 100, 'multi_class': 'crammer_singer', 'penalty': 'l2'},\n",
       " mean: 0.68279, std: 0.01237, params: {'C': 20, 'class_weight': 'balanced', 'loss': 'squared_hinge', 'max_iter': 10000, 'multi_class': 'crammer_singer', 'penalty': 'l1'},\n",
       " mean: 0.68258, std: 0.01501, params: {'C': 1, 'class_weight': 'balanced', 'loss': 'hinge', 'max_iter': 10, 'multi_class': 'crammer_singer', 'penalty': 'l2'},\n",
       " mean: 0.68258, std: 0.01410, params: {'C': 1, 'class_weight': 'balanced', 'loss': 'squared_hinge', 'max_iter': 10, 'multi_class': 'crammer_singer', 'penalty': 'l1'},\n",
       " mean: 0.68258, std: 0.01497, params: {'C': 1, 'class_weight': 'balanced', 'loss': 'squared_hinge', 'max_iter': 1000, 'multi_class': 'crammer_singer', 'penalty': 'l1'},\n",
       " mean: 0.68237, std: 0.01454, params: {'C': 1, 'class_weight': 'balanced', 'loss': 'hinge', 'max_iter': 100, 'multi_class': 'crammer_singer', 'penalty': 'l1'},\n",
       " mean: 0.68237, std: 0.01566, params: {'C': 1, 'class_weight': 'balanced', 'loss': 'squared_hinge', 'max_iter': 10000, 'multi_class': 'crammer_singer', 'penalty': 'l1'},\n",
       " mean: 0.68237, std: 0.01492, params: {'C': 50, 'class_weight': 'balanced', 'loss': 'hinge', 'max_iter': 10000, 'multi_class': 'crammer_singer', 'penalty': 'l1'},\n",
       " mean: 0.68216, std: 0.01461, params: {'C': 1, 'class_weight': 'balanced', 'loss': 'squared_hinge', 'max_iter': 10, 'multi_class': 'crammer_singer', 'penalty': 'l2'},\n",
       " mean: 0.68216, std: 0.01521, params: {'C': 1, 'class_weight': 'balanced', 'loss': 'squared_hinge', 'max_iter': 10000, 'multi_class': 'crammer_singer', 'penalty': 'l2'},\n",
       " mean: 0.68194, std: 0.01526, params: {'C': 1, 'class_weight': 'balanced', 'loss': 'hinge', 'max_iter': 10000, 'multi_class': 'crammer_singer', 'penalty': 'l1'},\n",
       " mean: 0.68194, std: 0.01472, params: {'C': 1, 'class_weight': 'balanced', 'loss': 'squared_hinge', 'max_iter': 1000, 'multi_class': 'crammer_singer', 'penalty': 'l2'},\n",
       " mean: 0.68109, std: 0.01965, params: {'C': 10, 'class_weight': None, 'loss': 'hinge', 'max_iter': 1000, 'multi_class': 'ovr', 'penalty': 'l2'},\n",
       " mean: 0.67961, std: 0.00829, params: {'C': 1, 'class_weight': None, 'loss': 'hinge', 'max_iter': 1000, 'multi_class': 'ovr', 'penalty': 'l2'},\n",
       " mean: 0.67961, std: 0.02150, params: {'C': 50, 'class_weight': 'balanced', 'loss': 'squared_hinge', 'max_iter': 1000, 'multi_class': 'crammer_singer', 'penalty': 'l1'},\n",
       " mean: 0.67940, std: 0.02943, params: {'C': 50, 'class_weight': 'balanced', 'loss': 'squared_hinge', 'max_iter': 100, 'multi_class': 'crammer_singer', 'penalty': 'l1'},\n",
       " mean: 0.67919, std: 0.01393, params: {'C': 0.5, 'class_weight': 'balanced', 'loss': 'hinge', 'max_iter': 100, 'multi_class': 'crammer_singer', 'penalty': 'l1'},\n",
       " mean: 0.67919, std: 0.01397, params: {'C': 0.5, 'class_weight': 'balanced', 'loss': 'hinge', 'max_iter': 100, 'multi_class': 'ovr', 'penalty': 'l2'},\n",
       " mean: 0.67919, std: 0.01415, params: {'C': 0.5, 'class_weight': 'balanced', 'loss': 'hinge', 'max_iter': 1000, 'multi_class': 'crammer_singer', 'penalty': 'l1'},\n",
       " mean: 0.67919, std: 0.01415, params: {'C': 0.5, 'class_weight': 'balanced', 'loss': 'hinge', 'max_iter': 10000, 'multi_class': 'crammer_singer', 'penalty': 'l2'},\n",
       " mean: 0.67897, std: 0.01419, params: {'C': 0.5, 'class_weight': 'balanced', 'loss': 'squared_hinge', 'max_iter': 1000, 'multi_class': 'crammer_singer', 'penalty': 'l2'},\n",
       " mean: 0.67897, std: 0.01451, params: {'C': 0.5, 'class_weight': 'balanced', 'loss': 'squared_hinge', 'max_iter': 10000, 'multi_class': 'crammer_singer', 'penalty': 'l1'},\n",
       " mean: 0.67897, std: 0.01402, params: {'C': 0.5, 'class_weight': 'balanced', 'loss': 'squared_hinge', 'max_iter': 10000, 'multi_class': 'crammer_singer', 'penalty': 'l2'},\n",
       " mean: 0.67876, std: 0.01417, params: {'C': 0.5, 'class_weight': 'balanced', 'loss': 'hinge', 'max_iter': 10, 'multi_class': 'crammer_singer', 'penalty': 'l1'},\n",
       " mean: 0.67876, std: 0.01444, params: {'C': 0.5, 'class_weight': 'balanced', 'loss': 'hinge', 'max_iter': 10, 'multi_class': 'crammer_singer', 'penalty': 'l2'},\n",
       " mean: 0.67876, std: 0.01428, params: {'C': 0.5, 'class_weight': 'balanced', 'loss': 'hinge', 'max_iter': 100, 'multi_class': 'crammer_singer', 'penalty': 'l2'},\n",
       " mean: 0.67876, std: 0.01383, params: {'C': 0.5, 'class_weight': 'balanced', 'loss': 'squared_hinge', 'max_iter': 10, 'multi_class': 'crammer_singer', 'penalty': 'l1'},\n",
       " mean: 0.67876, std: 0.01401, params: {'C': 0.5, 'class_weight': 'balanced', 'loss': 'squared_hinge', 'max_iter': 100, 'multi_class': 'crammer_singer', 'penalty': 'l2'},\n",
       " mean: 0.67876, std: 0.01461, params: {'C': 0.5, 'class_weight': 'balanced', 'loss': 'squared_hinge', 'max_iter': 1000, 'multi_class': 'crammer_singer', 'penalty': 'l1'},\n",
       " mean: 0.67855, std: 0.01398, params: {'C': 0.5, 'class_weight': 'balanced', 'loss': 'hinge', 'max_iter': 1000, 'multi_class': 'crammer_singer', 'penalty': 'l2'},\n",
       " mean: 0.67855, std: 0.01420, params: {'C': 0.5, 'class_weight': 'balanced', 'loss': 'hinge', 'max_iter': 10000, 'multi_class': 'crammer_singer', 'penalty': 'l1'},\n",
       " mean: 0.67855, std: 0.01453, params: {'C': 0.5, 'class_weight': 'balanced', 'loss': 'squared_hinge', 'max_iter': 100, 'multi_class': 'crammer_singer', 'penalty': 'l1'},\n",
       " mean: 0.67855, std: 0.02657, params: {'C': 50, 'class_weight': 'balanced', 'loss': 'squared_hinge', 'max_iter': 1000, 'multi_class': 'crammer_singer', 'penalty': 'l2'},\n",
       " mean: 0.67812, std: 0.01432, params: {'C': 0.5, 'class_weight': 'balanced', 'loss': 'squared_hinge', 'max_iter': 10, 'multi_class': 'crammer_singer', 'penalty': 'l2'},\n",
       " mean: 0.67770, std: 0.00874, params: {'C': 1, 'class_weight': 'balanced', 'loss': 'hinge', 'max_iter': 10000, 'multi_class': 'ovr', 'penalty': 'l2'},\n",
       " mean: 0.67706, std: 0.00929, params: {'C': 10, 'class_weight': 'balanced', 'loss': 'hinge', 'max_iter': 10000, 'multi_class': 'ovr', 'penalty': 'l2'},\n",
       " mean: 0.67706, std: 0.02110, params: {'C': 50, 'class_weight': None, 'loss': 'hinge', 'max_iter': 10000, 'multi_class': 'ovr', 'penalty': 'l2'},\n",
       " mean: 0.67558, std: 0.01052, params: {'C': 0.5, 'class_weight': 'balanced', 'loss': 'hinge', 'max_iter': 1000, 'multi_class': 'ovr', 'penalty': 'l2'},\n",
       " mean: 0.67515, std: 0.02844, params: {'C': 50, 'class_weight': 'balanced', 'loss': 'squared_hinge', 'max_iter': 10, 'multi_class': 'crammer_singer', 'penalty': 'l2'},\n",
       " mean: 0.67494, std: 0.01945, params: {'C': 50, 'class_weight': 'balanced', 'loss': 'hinge', 'max_iter': 10000, 'multi_class': 'crammer_singer', 'penalty': 'l2'},\n",
       " mean: 0.67409, std: 0.01168, params: {'C': 50, 'class_weight': 'balanced', 'loss': 'squared_hinge', 'max_iter': 10000, 'multi_class': 'crammer_singer', 'penalty': 'l1'},\n",
       " mean: 0.67346, std: 0.01592, params: {'C': 1, 'class_weight': None, 'loss': 'squared_hinge', 'max_iter': 100, 'multi_class': 'ovr', 'penalty': 'l2'},\n",
       " mean: 0.67261, std: 0.00939, params: {'C': 10, 'class_weight': None, 'loss': 'hinge', 'max_iter': 10000, 'multi_class': 'ovr', 'penalty': 'l2'},\n",
       " mean: 0.67240, std: 0.01260, params: {'C': 1, 'class_weight': None, 'loss': 'hinge', 'max_iter': 10000, 'multi_class': 'ovr', 'penalty': 'l2'},\n",
       " mean: 0.67197, std: 0.00421, params: {'C': 0.5, 'class_weight': None, 'loss': 'hinge', 'max_iter': 1000, 'multi_class': 'ovr', 'penalty': 'l2'},\n",
       " mean: 0.67133, std: 0.01098, params: {'C': 1, 'class_weight': 'balanced', 'loss': 'hinge', 'max_iter': 1000, 'multi_class': 'ovr', 'penalty': 'l2'},\n",
       " mean: 0.67027, std: 0.00524, params: {'C': 1, 'class_weight': None, 'loss': 'hinge', 'max_iter': 100, 'multi_class': 'ovr', 'penalty': 'l2'},\n",
       " mean: 0.66964, std: 0.01898, params: {'C': 1, 'class_weight': 'balanced', 'loss': 'hinge', 'max_iter': 100, 'multi_class': 'ovr', 'penalty': 'l2'},\n",
       " mean: 0.66964, std: 0.00650, params: {'C': 50, 'class_weight': 'balanced', 'loss': 'squared_hinge', 'max_iter': 10, 'multi_class': 'crammer_singer', 'penalty': 'l1'},\n",
       " mean: 0.66879, std: 0.00570, params: {'C': 0.5, 'class_weight': 'balanced', 'loss': 'hinge', 'max_iter': 10000, 'multi_class': 'ovr', 'penalty': 'l2'},\n",
       " mean: 0.66667, std: 0.00552, params: {'C': 0.5, 'class_weight': None, 'loss': 'hinge', 'max_iter': 10000, 'multi_class': 'ovr', 'penalty': 'l2'},\n",
       " mean: 0.66624, std: 0.05066, params: {'C': 0.5, 'class_weight': 'balanced', 'loss': 'squared_hinge', 'max_iter': 100, 'multi_class': 'ovr', 'penalty': 'l2'},\n",
       " mean: 0.66603, std: 0.04292, params: {'C': 20, 'class_weight': None, 'loss': 'hinge', 'max_iter': 1000, 'multi_class': 'ovr', 'penalty': 'l2'},\n",
       " mean: 0.66582, std: 0.02404, params: {'C': 50, 'class_weight': 'balanced', 'loss': 'hinge', 'max_iter': 1000, 'multi_class': 'crammer_singer', 'penalty': 'l1'},\n",
       " mean: 0.66264, std: 0.02411, params: {'C': 50, 'class_weight': 'balanced', 'loss': 'hinge', 'max_iter': 10, 'multi_class': 'crammer_singer', 'penalty': 'l2'},\n",
       " mean: 0.66221, std: 0.02058, params: {'C': 50, 'class_weight': 'balanced', 'loss': 'hinge', 'max_iter': 100, 'multi_class': 'crammer_singer', 'penalty': 'l2'},\n",
       " mean: 0.66200, std: 0.01184, params: {'C': 0.5, 'class_weight': None, 'loss': 'hinge', 'max_iter': 100, 'multi_class': 'ovr', 'penalty': 'l2'},\n",
       " mean: 0.66136, std: 0.03798, params: {'C': 50, 'class_weight': None, 'loss': 'squared_hinge', 'max_iter': 10000, 'multi_class': 'ovr', 'penalty': 'l2'},\n",
       " mean: 0.66030, std: 0.01377, params: {'C': 50, 'class_weight': 'balanced', 'loss': 'hinge', 'max_iter': 10, 'multi_class': 'crammer_singer', 'penalty': 'l1'},\n",
       " mean: 0.65669, std: 0.03469, params: {'C': 20, 'class_weight': 'balanced', 'loss': 'squared_hinge', 'max_iter': 100, 'multi_class': 'ovr', 'penalty': 'l2'},\n",
       " mean: 0.65436, std: 0.02340, params: {'C': 1, 'class_weight': None, 'loss': 'squared_hinge', 'max_iter': 10, 'multi_class': 'ovr', 'penalty': 'l2'},\n",
       " mean: 0.65351, std: 0.04317, params: {'C': 1, 'class_weight': 'balanced', 'loss': 'squared_hinge', 'max_iter': 100, 'multi_class': 'ovr', 'penalty': 'l2'},\n",
       " mean: 0.64990, std: 0.02395, params: {'C': 10, 'class_weight': 'balanced', 'loss': 'hinge', 'max_iter': 100, 'multi_class': 'ovr', 'penalty': 'l2'},\n",
       " mean: 0.64142, std: 0.04860, params: {'C': 10, 'class_weight': None, 'loss': 'hinge', 'max_iter': 100, 'multi_class': 'ovr', 'penalty': 'l2'},\n",
       " mean: 0.63993, std: 0.07910, params: {'C': 10, 'class_weight': 'balanced', 'loss': 'hinge', 'max_iter': 1000, 'multi_class': 'ovr', 'penalty': 'l2'},\n",
       " mean: 0.63781, std: 0.07222, params: {'C': 20, 'class_weight': 'balanced', 'loss': 'squared_hinge', 'max_iter': 1000, 'multi_class': 'ovr', 'penalty': 'l2'},\n",
       " mean: 0.63675, std: 0.03967, params: {'C': 10, 'class_weight': 'balanced', 'loss': 'squared_hinge', 'max_iter': 100, 'multi_class': 'ovr', 'penalty': 'l2'},\n",
       " mean: 0.63272, std: 0.04313, params: {'C': 0.5, 'class_weight': None, 'loss': 'hinge', 'max_iter': 10, 'multi_class': 'ovr', 'penalty': 'l2'},\n",
       " mean: 0.63229, std: 0.04787, params: {'C': 0.5, 'class_weight': 'balanced', 'loss': 'squared_hinge', 'max_iter': 10, 'multi_class': 'ovr', 'penalty': 'l2'},\n",
       " mean: 0.63229, std: 0.07276, params: {'C': 50, 'class_weight': None, 'loss': 'hinge', 'max_iter': 1000, 'multi_class': 'ovr', 'penalty': 'l2'},\n",
       " mean: 0.63060, std: 0.03758, params: {'C': 10, 'class_weight': None, 'loss': 'squared_hinge', 'max_iter': 100, 'multi_class': 'ovr', 'penalty': 'l2'},\n",
       " mean: 0.62550, std: 0.07663, params: {'C': 50, 'class_weight': 'balanced', 'loss': 'hinge', 'max_iter': 1000, 'multi_class': 'ovr', 'penalty': 'l2'},\n",
       " mean: 0.62296, std: 0.05693, params: {'C': 50, 'class_weight': 'balanced', 'loss': 'squared_hinge', 'max_iter': 1000, 'multi_class': 'ovr', 'penalty': 'l2'},\n",
       " mean: 0.62147, std: 0.05789, params: {'C': 50, 'class_weight': None, 'loss': 'squared_hinge', 'max_iter': 1000, 'multi_class': 'ovr', 'penalty': 'l2'},\n",
       " mean: 0.61765, std: 0.03404, params: {'C': 1, 'class_weight': 'balanced', 'loss': 'squared_hinge', 'max_iter': 10, 'multi_class': 'ovr', 'penalty': 'l2'},\n",
       " mean: 0.61362, std: 0.05143, params: {'C': 20, 'class_weight': None, 'loss': 'hinge', 'max_iter': 10, 'multi_class': 'ovr', 'penalty': 'l2'},\n",
       " mean: 0.61341, std: 0.06472, params: {'C': 20, 'class_weight': 'balanced', 'loss': 'hinge', 'max_iter': 100, 'multi_class': 'ovr', 'penalty': 'l2'},\n",
       " mean: 0.61299, std: 0.02737, params: {'C': 20, 'class_weight': 'balanced', 'loss': 'hinge', 'max_iter': 10, 'multi_class': 'ovr', 'penalty': 'l2'},\n",
       " mean: 0.61235, std: 0.10748, params: {'C': 20, 'class_weight': None, 'loss': 'squared_hinge', 'max_iter': 1000, 'multi_class': 'ovr', 'penalty': 'l2'},\n",
       " mean: 0.61023, std: 0.03548, params: {'C': 50, 'class_weight': 'balanced', 'loss': 'squared_hinge', 'max_iter': 100, 'multi_class': 'ovr', 'penalty': 'l2'},\n",
       " mean: 0.60938, std: 0.10121, params: {'C': 50, 'class_weight': 'balanced', 'loss': 'squared_hinge', 'max_iter': 10000, 'multi_class': 'ovr', 'penalty': 'l2'},\n",
       " mean: 0.60747, std: 0.04592, params: {'C': 10, 'class_weight': 'balanced', 'loss': 'squared_hinge', 'max_iter': 1000, 'multi_class': 'ovr', 'penalty': 'l2'},\n",
       " mean: 0.59728, std: 0.08833, params: {'C': 20, 'class_weight': 'balanced', 'loss': 'squared_hinge', 'max_iter': 10, 'multi_class': 'ovr', 'penalty': 'l2'},\n",
       " mean: 0.59686, std: 0.07415, params: {'C': 10, 'class_weight': None, 'loss': 'squared_hinge', 'max_iter': 10, 'multi_class': 'ovr', 'penalty': 'l2'},\n",
       " mean: 0.59474, std: 0.09997, params: {'C': 50, 'class_weight': 'balanced', 'loss': 'hinge', 'max_iter': 100, 'multi_class': 'ovr', 'penalty': 'l2'},\n",
       " mean: 0.59389, std: 0.09578, params: {'C': 20, 'class_weight': None, 'loss': 'hinge', 'max_iter': 100, 'multi_class': 'ovr', 'penalty': 'l2'},\n",
       " mean: 0.58689, std: 0.06773, params: {'C': 20, 'class_weight': 'balanced', 'loss': 'hinge', 'max_iter': 1000, 'multi_class': 'ovr', 'penalty': 'l2'},\n",
       " mean: 0.58668, std: 0.08342, params: {'C': 50, 'class_weight': None, 'loss': 'squared_hinge', 'max_iter': 100, 'multi_class': 'ovr', 'penalty': 'l2'},\n",
       " mean: 0.58264, std: 0.10995, params: {'C': 10, 'class_weight': None, 'loss': 'hinge', 'max_iter': 10, 'multi_class': 'ovr', 'penalty': 'l2'},\n",
       " mean: 0.58010, std: 0.09660, params: {'C': 50, 'class_weight': 'balanced', 'loss': 'hinge', 'max_iter': 10, 'multi_class': 'ovr', 'penalty': 'l2'},\n",
       " mean: 0.57437, std: 0.11542, params: {'C': 50, 'class_weight': None, 'loss': 'hinge', 'max_iter': 100, 'multi_class': 'ovr', 'penalty': 'l2'},\n",
       " mean: 0.57076, std: 0.06713, params: {'C': 10, 'class_weight': 'balanced', 'loss': 'squared_hinge', 'max_iter': 10, 'multi_class': 'ovr', 'penalty': 'l2'},\n",
       " mean: 0.56440, std: 0.13854, params: {'C': 20, 'class_weight': None, 'loss': 'squared_hinge', 'max_iter': 100, 'multi_class': 'ovr', 'penalty': 'l2'},\n",
       " mean: 0.56376, std: 0.08941, params: {'C': 0.5, 'class_weight': None, 'loss': 'squared_hinge', 'max_iter': 10, 'multi_class': 'ovr', 'penalty': 'l2'},\n",
       " mean: 0.56249, std: 0.07462, params: {'C': 50, 'class_weight': None, 'loss': 'hinge', 'max_iter': 10, 'multi_class': 'ovr', 'penalty': 'l2'},\n",
       " mean: 0.55612, std: 0.09643, params: {'C': 10, 'class_weight': 'balanced', 'loss': 'hinge', 'max_iter': 10, 'multi_class': 'ovr', 'penalty': 'l2'},\n",
       " mean: 0.54212, std: 0.15439, params: {'C': 50, 'class_weight': None, 'loss': 'squared_hinge', 'max_iter': 10, 'multi_class': 'ovr', 'penalty': 'l2'},\n",
       " mean: 0.53618, std: 0.15071, params: {'C': 0.5, 'class_weight': 'balanced', 'loss': 'hinge', 'max_iter': 10, 'multi_class': 'ovr', 'penalty': 'l2'},\n",
       " mean: 0.52175, std: 0.13782, params: {'C': 1, 'class_weight': None, 'loss': 'hinge', 'max_iter': 10, 'multi_class': 'ovr', 'penalty': 'l2'},\n",
       " mean: 0.52111, std: 0.15947, params: {'C': 20, 'class_weight': None, 'loss': 'squared_hinge', 'max_iter': 10, 'multi_class': 'ovr', 'penalty': 'l2'},\n",
       " mean: 0.51326, std: 0.12441, params: {'C': 1, 'class_weight': 'balanced', 'loss': 'hinge', 'max_iter': 10, 'multi_class': 'ovr', 'penalty': 'l2'},\n",
       " mean: 0.49841, std: 0.13847, params: {'C': 50, 'class_weight': 'balanced', 'loss': 'squared_hinge', 'max_iter': 10, 'multi_class': 'ovr', 'penalty': 'l2'},\n",
       " mean: 0.00000, std: 0.00000, params: {'C': 0.5, 'class_weight': None, 'loss': 'hinge', 'max_iter': 10, 'multi_class': 'ovr', 'penalty': 'l1'},\n",
       " mean: 0.00000, std: 0.00000, params: {'C': 0.5, 'class_weight': None, 'loss': 'hinge', 'max_iter': 100, 'multi_class': 'ovr', 'penalty': 'l1'},\n",
       " mean: 0.00000, std: 0.00000, params: {'C': 0.5, 'class_weight': None, 'loss': 'hinge', 'max_iter': 1000, 'multi_class': 'ovr', 'penalty': 'l1'},\n",
       " mean: 0.00000, std: 0.00000, params: {'C': 0.5, 'class_weight': None, 'loss': 'hinge', 'max_iter': 10000, 'multi_class': 'ovr', 'penalty': 'l1'},\n",
       " mean: 0.00000, std: 0.00000, params: {'C': 0.5, 'class_weight': None, 'loss': 'squared_hinge', 'max_iter': 10, 'multi_class': 'ovr', 'penalty': 'l1'},\n",
       " mean: 0.00000, std: 0.00000, params: {'C': 0.5, 'class_weight': None, 'loss': 'squared_hinge', 'max_iter': 100, 'multi_class': 'ovr', 'penalty': 'l1'},\n",
       " mean: 0.00000, std: 0.00000, params: {'C': 0.5, 'class_weight': None, 'loss': 'squared_hinge', 'max_iter': 1000, 'multi_class': 'ovr', 'penalty': 'l1'},\n",
       " mean: 0.00000, std: 0.00000, params: {'C': 0.5, 'class_weight': None, 'loss': 'squared_hinge', 'max_iter': 10000, 'multi_class': 'ovr', 'penalty': 'l1'},\n",
       " mean: 0.00000, std: 0.00000, params: {'C': 0.5, 'class_weight': 'balanced', 'loss': 'hinge', 'max_iter': 10, 'multi_class': 'ovr', 'penalty': 'l1'},\n",
       " mean: 0.00000, std: 0.00000, params: {'C': 0.5, 'class_weight': 'balanced', 'loss': 'hinge', 'max_iter': 100, 'multi_class': 'ovr', 'penalty': 'l1'},\n",
       " mean: 0.00000, std: 0.00000, params: {'C': 0.5, 'class_weight': 'balanced', 'loss': 'hinge', 'max_iter': 1000, 'multi_class': 'ovr', 'penalty': 'l1'},\n",
       " mean: 0.00000, std: 0.00000, params: {'C': 0.5, 'class_weight': 'balanced', 'loss': 'hinge', 'max_iter': 10000, 'multi_class': 'ovr', 'penalty': 'l1'},\n",
       " mean: 0.00000, std: 0.00000, params: {'C': 0.5, 'class_weight': 'balanced', 'loss': 'squared_hinge', 'max_iter': 10, 'multi_class': 'ovr', 'penalty': 'l1'},\n",
       " mean: 0.00000, std: 0.00000, params: {'C': 0.5, 'class_weight': 'balanced', 'loss': 'squared_hinge', 'max_iter': 100, 'multi_class': 'ovr', 'penalty': 'l1'},\n",
       " mean: 0.00000, std: 0.00000, params: {'C': 0.5, 'class_weight': 'balanced', 'loss': 'squared_hinge', 'max_iter': 1000, 'multi_class': 'ovr', 'penalty': 'l1'},\n",
       " mean: 0.00000, std: 0.00000, params: {'C': 0.5, 'class_weight': 'balanced', 'loss': 'squared_hinge', 'max_iter': 10000, 'multi_class': 'ovr', 'penalty': 'l1'},\n",
       " mean: 0.00000, std: 0.00000, params: {'C': 1, 'class_weight': None, 'loss': 'hinge', 'max_iter': 10, 'multi_class': 'ovr', 'penalty': 'l1'},\n",
       " mean: 0.00000, std: 0.00000, params: {'C': 1, 'class_weight': None, 'loss': 'hinge', 'max_iter': 100, 'multi_class': 'ovr', 'penalty': 'l1'},\n",
       " mean: 0.00000, std: 0.00000, params: {'C': 1, 'class_weight': None, 'loss': 'hinge', 'max_iter': 1000, 'multi_class': 'ovr', 'penalty': 'l1'},\n",
       " mean: 0.00000, std: 0.00000, params: {'C': 1, 'class_weight': None, 'loss': 'hinge', 'max_iter': 10000, 'multi_class': 'ovr', 'penalty': 'l1'},\n",
       " mean: 0.00000, std: 0.00000, params: {'C': 1, 'class_weight': None, 'loss': 'squared_hinge', 'max_iter': 10, 'multi_class': 'ovr', 'penalty': 'l1'},\n",
       " mean: 0.00000, std: 0.00000, params: {'C': 1, 'class_weight': None, 'loss': 'squared_hinge', 'max_iter': 100, 'multi_class': 'ovr', 'penalty': 'l1'},\n",
       " mean: 0.00000, std: 0.00000, params: {'C': 1, 'class_weight': None, 'loss': 'squared_hinge', 'max_iter': 1000, 'multi_class': 'ovr', 'penalty': 'l1'},\n",
       " mean: 0.00000, std: 0.00000, params: {'C': 1, 'class_weight': None, 'loss': 'squared_hinge', 'max_iter': 10000, 'multi_class': 'ovr', 'penalty': 'l1'},\n",
       " mean: 0.00000, std: 0.00000, params: {'C': 1, 'class_weight': 'balanced', 'loss': 'hinge', 'max_iter': 10, 'multi_class': 'ovr', 'penalty': 'l1'},\n",
       " mean: 0.00000, std: 0.00000, params: {'C': 1, 'class_weight': 'balanced', 'loss': 'hinge', 'max_iter': 100, 'multi_class': 'ovr', 'penalty': 'l1'},\n",
       " mean: 0.00000, std: 0.00000, params: {'C': 1, 'class_weight': 'balanced', 'loss': 'hinge', 'max_iter': 1000, 'multi_class': 'ovr', 'penalty': 'l1'},\n",
       " mean: 0.00000, std: 0.00000, params: {'C': 1, 'class_weight': 'balanced', 'loss': 'hinge', 'max_iter': 10000, 'multi_class': 'ovr', 'penalty': 'l1'},\n",
       " mean: 0.00000, std: 0.00000, params: {'C': 1, 'class_weight': 'balanced', 'loss': 'squared_hinge', 'max_iter': 10, 'multi_class': 'ovr', 'penalty': 'l1'},\n",
       " mean: 0.00000, std: 0.00000, params: {'C': 1, 'class_weight': 'balanced', 'loss': 'squared_hinge', 'max_iter': 100, 'multi_class': 'ovr', 'penalty': 'l1'},\n",
       " mean: 0.00000, std: 0.00000, params: {'C': 1, 'class_weight': 'balanced', 'loss': 'squared_hinge', 'max_iter': 1000, 'multi_class': 'ovr', 'penalty': 'l1'},\n",
       " mean: 0.00000, std: 0.00000, params: {'C': 1, 'class_weight': 'balanced', 'loss': 'squared_hinge', 'max_iter': 10000, 'multi_class': 'ovr', 'penalty': 'l1'},\n",
       " mean: 0.00000, std: 0.00000, params: {'C': 10, 'class_weight': None, 'loss': 'hinge', 'max_iter': 10, 'multi_class': 'ovr', 'penalty': 'l1'},\n",
       " mean: 0.00000, std: 0.00000, params: {'C': 10, 'class_weight': None, 'loss': 'hinge', 'max_iter': 100, 'multi_class': 'ovr', 'penalty': 'l1'},\n",
       " mean: 0.00000, std: 0.00000, params: {'C': 10, 'class_weight': None, 'loss': 'hinge', 'max_iter': 1000, 'multi_class': 'ovr', 'penalty': 'l1'},\n",
       " mean: 0.00000, std: 0.00000, params: {'C': 10, 'class_weight': None, 'loss': 'hinge', 'max_iter': 10000, 'multi_class': 'ovr', 'penalty': 'l1'},\n",
       " mean: 0.00000, std: 0.00000, params: {'C': 10, 'class_weight': None, 'loss': 'squared_hinge', 'max_iter': 10, 'multi_class': 'ovr', 'penalty': 'l1'},\n",
       " mean: 0.00000, std: 0.00000, params: {'C': 10, 'class_weight': None, 'loss': 'squared_hinge', 'max_iter': 100, 'multi_class': 'ovr', 'penalty': 'l1'},\n",
       " mean: 0.00000, std: 0.00000, params: {'C': 10, 'class_weight': None, 'loss': 'squared_hinge', 'max_iter': 1000, 'multi_class': 'ovr', 'penalty': 'l1'},\n",
       " mean: 0.00000, std: 0.00000, params: {'C': 10, 'class_weight': None, 'loss': 'squared_hinge', 'max_iter': 10000, 'multi_class': 'ovr', 'penalty': 'l1'},\n",
       " mean: 0.00000, std: 0.00000, params: {'C': 10, 'class_weight': 'balanced', 'loss': 'hinge', 'max_iter': 10, 'multi_class': 'ovr', 'penalty': 'l1'},\n",
       " mean: 0.00000, std: 0.00000, params: {'C': 10, 'class_weight': 'balanced', 'loss': 'hinge', 'max_iter': 100, 'multi_class': 'ovr', 'penalty': 'l1'},\n",
       " mean: 0.00000, std: 0.00000, params: {'C': 10, 'class_weight': 'balanced', 'loss': 'hinge', 'max_iter': 1000, 'multi_class': 'ovr', 'penalty': 'l1'},\n",
       " mean: 0.00000, std: 0.00000, params: {'C': 10, 'class_weight': 'balanced', 'loss': 'hinge', 'max_iter': 10000, 'multi_class': 'ovr', 'penalty': 'l1'},\n",
       " mean: 0.00000, std: 0.00000, params: {'C': 10, 'class_weight': 'balanced', 'loss': 'squared_hinge', 'max_iter': 10, 'multi_class': 'ovr', 'penalty': 'l1'},\n",
       " mean: 0.00000, std: 0.00000, params: {'C': 10, 'class_weight': 'balanced', 'loss': 'squared_hinge', 'max_iter': 100, 'multi_class': 'ovr', 'penalty': 'l1'},\n",
       " mean: 0.00000, std: 0.00000, params: {'C': 10, 'class_weight': 'balanced', 'loss': 'squared_hinge', 'max_iter': 1000, 'multi_class': 'ovr', 'penalty': 'l1'},\n",
       " mean: 0.00000, std: 0.00000, params: {'C': 10, 'class_weight': 'balanced', 'loss': 'squared_hinge', 'max_iter': 10000, 'multi_class': 'ovr', 'penalty': 'l1'},\n",
       " mean: 0.00000, std: 0.00000, params: {'C': 20, 'class_weight': None, 'loss': 'hinge', 'max_iter': 10, 'multi_class': 'ovr', 'penalty': 'l1'},\n",
       " mean: 0.00000, std: 0.00000, params: {'C': 20, 'class_weight': None, 'loss': 'hinge', 'max_iter': 100, 'multi_class': 'ovr', 'penalty': 'l1'},\n",
       " mean: 0.00000, std: 0.00000, params: {'C': 20, 'class_weight': None, 'loss': 'hinge', 'max_iter': 1000, 'multi_class': 'ovr', 'penalty': 'l1'},\n",
       " mean: 0.00000, std: 0.00000, params: {'C': 20, 'class_weight': None, 'loss': 'hinge', 'max_iter': 10000, 'multi_class': 'ovr', 'penalty': 'l1'},\n",
       " mean: 0.00000, std: 0.00000, params: {'C': 20, 'class_weight': None, 'loss': 'squared_hinge', 'max_iter': 10, 'multi_class': 'ovr', 'penalty': 'l1'},\n",
       " mean: 0.00000, std: 0.00000, params: {'C': 20, 'class_weight': None, 'loss': 'squared_hinge', 'max_iter': 100, 'multi_class': 'ovr', 'penalty': 'l1'},\n",
       " mean: 0.00000, std: 0.00000, params: {'C': 20, 'class_weight': None, 'loss': 'squared_hinge', 'max_iter': 1000, 'multi_class': 'ovr', 'penalty': 'l1'},\n",
       " mean: 0.00000, std: 0.00000, params: {'C': 20, 'class_weight': None, 'loss': 'squared_hinge', 'max_iter': 10000, 'multi_class': 'ovr', 'penalty': 'l1'},\n",
       " mean: 0.00000, std: 0.00000, params: {'C': 20, 'class_weight': 'balanced', 'loss': 'hinge', 'max_iter': 10, 'multi_class': 'ovr', 'penalty': 'l1'},\n",
       " mean: 0.00000, std: 0.00000, params: {'C': 20, 'class_weight': 'balanced', 'loss': 'hinge', 'max_iter': 100, 'multi_class': 'ovr', 'penalty': 'l1'},\n",
       " mean: 0.00000, std: 0.00000, params: {'C': 20, 'class_weight': 'balanced', 'loss': 'hinge', 'max_iter': 1000, 'multi_class': 'ovr', 'penalty': 'l1'},\n",
       " mean: 0.00000, std: 0.00000, params: {'C': 20, 'class_weight': 'balanced', 'loss': 'hinge', 'max_iter': 10000, 'multi_class': 'ovr', 'penalty': 'l1'},\n",
       " mean: 0.00000, std: 0.00000, params: {'C': 20, 'class_weight': 'balanced', 'loss': 'squared_hinge', 'max_iter': 10, 'multi_class': 'ovr', 'penalty': 'l1'},\n",
       " mean: 0.00000, std: 0.00000, params: {'C': 20, 'class_weight': 'balanced', 'loss': 'squared_hinge', 'max_iter': 100, 'multi_class': 'ovr', 'penalty': 'l1'},\n",
       " mean: 0.00000, std: 0.00000, params: {'C': 20, 'class_weight': 'balanced', 'loss': 'squared_hinge', 'max_iter': 1000, 'multi_class': 'ovr', 'penalty': 'l1'},\n",
       " mean: 0.00000, std: 0.00000, params: {'C': 20, 'class_weight': 'balanced', 'loss': 'squared_hinge', 'max_iter': 10000, 'multi_class': 'ovr', 'penalty': 'l1'},\n",
       " mean: 0.00000, std: 0.00000, params: {'C': 50, 'class_weight': None, 'loss': 'hinge', 'max_iter': 10, 'multi_class': 'ovr', 'penalty': 'l1'},\n",
       " mean: 0.00000, std: 0.00000, params: {'C': 50, 'class_weight': None, 'loss': 'hinge', 'max_iter': 100, 'multi_class': 'ovr', 'penalty': 'l1'},\n",
       " mean: 0.00000, std: 0.00000, params: {'C': 50, 'class_weight': None, 'loss': 'hinge', 'max_iter': 1000, 'multi_class': 'ovr', 'penalty': 'l1'},\n",
       " mean: 0.00000, std: 0.00000, params: {'C': 50, 'class_weight': None, 'loss': 'hinge', 'max_iter': 10000, 'multi_class': 'ovr', 'penalty': 'l1'},\n",
       " mean: 0.00000, std: 0.00000, params: {'C': 50, 'class_weight': None, 'loss': 'squared_hinge', 'max_iter': 10, 'multi_class': 'ovr', 'penalty': 'l1'},\n",
       " mean: 0.00000, std: 0.00000, params: {'C': 50, 'class_weight': None, 'loss': 'squared_hinge', 'max_iter': 100, 'multi_class': 'ovr', 'penalty': 'l1'},\n",
       " mean: 0.00000, std: 0.00000, params: {'C': 50, 'class_weight': None, 'loss': 'squared_hinge', 'max_iter': 1000, 'multi_class': 'ovr', 'penalty': 'l1'},\n",
       " mean: 0.00000, std: 0.00000, params: {'C': 50, 'class_weight': None, 'loss': 'squared_hinge', 'max_iter': 10000, 'multi_class': 'ovr', 'penalty': 'l1'},\n",
       " mean: 0.00000, std: 0.00000, params: {'C': 50, 'class_weight': 'balanced', 'loss': 'hinge', 'max_iter': 10, 'multi_class': 'ovr', 'penalty': 'l1'},\n",
       " mean: 0.00000, std: 0.00000, params: {'C': 50, 'class_weight': 'balanced', 'loss': 'hinge', 'max_iter': 100, 'multi_class': 'ovr', 'penalty': 'l1'},\n",
       " mean: 0.00000, std: 0.00000, params: {'C': 50, 'class_weight': 'balanced', 'loss': 'hinge', 'max_iter': 1000, 'multi_class': 'ovr', 'penalty': 'l1'},\n",
       " mean: 0.00000, std: 0.00000, params: {'C': 50, 'class_weight': 'balanced', 'loss': 'hinge', 'max_iter': 10000, 'multi_class': 'ovr', 'penalty': 'l1'},\n",
       " mean: 0.00000, std: 0.00000, params: {'C': 50, 'class_weight': 'balanced', 'loss': 'squared_hinge', 'max_iter': 10, 'multi_class': 'ovr', 'penalty': 'l1'},\n",
       " mean: 0.00000, std: 0.00000, params: {'C': 50, 'class_weight': 'balanced', 'loss': 'squared_hinge', 'max_iter': 100, 'multi_class': 'ovr', 'penalty': 'l1'},\n",
       " mean: 0.00000, std: 0.00000, params: {'C': 50, 'class_weight': 'balanced', 'loss': 'squared_hinge', 'max_iter': 1000, 'multi_class': 'ovr', 'penalty': 'l1'},\n",
       " mean: 0.00000, std: 0.00000, params: {'C': 50, 'class_weight': 'balanced', 'loss': 'squared_hinge', 'max_iter': 10000, 'multi_class': 'ovr', 'penalty': 'l1'}]"
      ]
     },
     "execution_count": 71,
     "metadata": {},
     "output_type": "execute_result"
    }
   ],
   "source": [
    "sorted(gs.grid_scores_, key=lambda x: x.mean_validation_score, reverse=True)"
   ]
  },
  {
   "cell_type": "code",
   "execution_count": 38,
   "metadata": {},
   "outputs": [
    {
     "data": {
      "text/plain": [
       "LinearSVC(C=20, class_weight=None, dual=True, fit_intercept=True,\n",
       "     intercept_scaling=1, loss='hinge', max_iter=100,\n",
       "     multi_class='crammer_singer', penalty='l2', random_state=None,\n",
       "     tol=0.0001, verbose=0)"
      ]
     },
     "execution_count": 38,
     "metadata": {},
     "output_type": "execute_result"
    }
   ],
   "source": [
    "cls = LinearSVC(C=20, class_weight=None, loss='hinge', max_iter=100, multi_class='crammer_singer', penalty='l2')\n",
    "cls.fit(features, labels)"
   ]
  },
  {
   "cell_type": "code",
   "execution_count": 39,
   "metadata": {},
   "outputs": [
    {
     "name": "stdout",
     "output_type": "stream",
     "text": [
      "accuracy:  0.712468193384\n",
      "\n",
      "             precision    recall  f1-score   support\n",
      "\n",
      "          1       0.84      0.94      0.89       659\n",
      "          2       0.41      0.22      0.28       209\n",
      "          3       0.50      0.53      0.52       336\n",
      "          4       0.75      0.75      0.75       368\n",
      "\n",
      "avg / total       0.69      0.71      0.70      1572\n",
      "\n",
      "macro precision:  0.62554708358\n",
      "micro precision:  0.712468193384\n",
      "\n",
      "micro recall:  0.712468193384\n",
      "macro recall:  0.609652431055\n",
      "\n",
      "micro f1:  0.712468193384\n",
      "macro f1:  0.609256455945\n"
     ]
    },
    {
     "data": {
      "image/png": "[encoded data removed]",
      "text/plain": [
       "<matplotlib.figure.Figure at 0x1f1427a7a90>"
      ]
     },
     "metadata": {},
     "output_type": "display_data"
    }
   ],
   "source": [
    "print_metrics(gs.best_estimator_, featuresCV, labelsCV)"
   ]
  },
  {
   "cell_type": "markdown",
   "metadata": {},
   "source": [
    "# MLP"
   ]
  },
  {
   "cell_type": "code",
   "execution_count": 25,
   "metadata": {
    "collapsed": true
   },
   "outputs": [],
   "source": [
    "from sklearn.neural_network import MLPClassifier"
   ]
  },
  {
   "cell_type": "code",
   "execution_count": 26,
   "metadata": {
    "collapsed": true
   },
   "outputs": [],
   "source": [
    "cls = MLPClassifier"
   ]
  },
  {
   "cell_type": "code",
   "execution_count": 27,
   "metadata": {
    "collapsed": true
   },
   "outputs": [],
   "source": [
    "params = {\n",
    "    'hidden_layer_sizes': [(100,), (50,), (200,)],\n",
    "    'activation': ['identity', 'logistic', 'tanh', 'relu'],\n",
    "    'solver': ['lbfgs', 'sgd', 'adam'],\n",
    "    'alpha': [0.0001, 0.00001, 0.001],\n",
    "    'learning_rate': ['constant', 'invscaling', 'adaptive'],\n",
    "    'max_iter': [100, 200, 300],\n",
    "}"
   ]
  },
  {
   "cell_type": "code",
   "execution_count": 28,
   "metadata": {},
   "outputs": [
    {
     "data": {
      "text/plain": [
       "972"
      ]
     },
     "execution_count": 28,
     "metadata": {},
     "output_type": "execute_result"
    }
   ],
   "source": [
    "gs = GridSearchCV(cls(), params, scoring='accuracy', cv=5, n_jobs=-1, error_score=0)\n",
    "len(list(ParameterGrid(params)))"
   ]
  },
  {
   "cell_type": "code",
   "execution_count": 29,
   "metadata": {},
   "outputs": [
    {
     "name": "stdout",
     "output_type": "stream",
     "text": [
      "Wall time: 1h 51min 31s\n"
     ]
    },
    {
     "data": {
      "text/plain": [
       "GridSearchCV(cv=5, error_score=0,\n",
       "       estimator=MLPClassifier(activation='relu', alpha=0.0001, batch_size='auto', beta_1=0.9,\n",
       "       beta_2=0.999, early_stopping=False, epsilon=1e-08,\n",
       "       hidden_layer_sizes=(100,), learning_rate='constant',\n",
       "       learning_rate_init=0.001, max_iter=200, momentum=0.9,\n",
       "       nesterovs_momentum=True, power_t=0.5, random_state=None,\n",
       "       shuffle=True, solver='adam', tol=0.0001, validation_fraction=0.1,\n",
       "       verbose=False, warm_start=False),\n",
       "       fit_params=None, iid=True, n_jobs=-1,\n",
       "       param_grid={'hidden_layer_sizes': [(100,), (50,), (200,)], 'activation': ['identity', 'logistic', 'tanh', 'relu'], 'solver': ['lbfgs', 'sgd', 'adam'], 'alpha': [0.0001, 1e-05, 0.001], 'learning_rate': ['constant', 'invscaling', 'adaptive'], 'max_iter': [100, 200, 300]},\n",
       "       pre_dispatch='2*n_jobs', refit=True, return_train_score='warn',\n",
       "       scoring='accuracy', verbose=0)"
      ]
     },
     "execution_count": 29,
     "metadata": {},
     "output_type": "execute_result"
    }
   ],
   "source": [
    "%%time\n",
    "gs.fit(features, labels)"
   ]
  },
  {
   "cell_type": "code",
   "execution_count": 30,
   "metadata": {},
   "outputs": [
    {
     "name": "stderr",
     "output_type": "stream",
     "text": [
      "C:\\Users\\Patrik\\Anaconda3\\lib\\site-packages\\sklearn\\model_selection\\_search.py:761: DeprecationWarning: The grid_scores_ attribute was deprecated in version 0.18 in favor of the more elaborate cv_results_ attribute. The grid_scores_ attribute will not be available from 0.20\n",
      "  DeprecationWarning)\n"
     ]
    },
    {
     "data": {
      "text/plain": [
       "[mean: 0.72586, std: 0.01635, params: {'activation': 'identity', 'alpha': 0.001, 'hidden_layer_sizes': (100,), 'learning_rate': 'constant', 'max_iter': 200, 'solver': 'lbfgs'},\n",
       " mean: 0.72438, std: 0.01408, params: {'activation': 'relu', 'alpha': 0.001, 'hidden_layer_sizes': (200,), 'learning_rate': 'adaptive', 'max_iter': 300, 'solver': 'lbfgs'},\n",
       " mean: 0.72417, std: 0.01712, params: {'activation': 'identity', 'alpha': 0.0001, 'hidden_layer_sizes': (50,), 'learning_rate': 'adaptive', 'max_iter': 300, 'solver': 'lbfgs'},\n",
       " mean: 0.72417, std: 0.01305, params: {'activation': 'identity', 'alpha': 1e-05, 'hidden_layer_sizes': (200,), 'learning_rate': 'invscaling', 'max_iter': 200, 'solver': 'lbfgs'},\n",
       " mean: 0.72417, std: 0.01683, params: {'activation': 'identity', 'alpha': 0.001, 'hidden_layer_sizes': (200,), 'learning_rate': 'constant', 'max_iter': 300, 'solver': 'lbfgs'},\n",
       " mean: 0.72374, std: 0.01408, params: {'activation': 'relu', 'alpha': 1e-05, 'hidden_layer_sizes': (200,), 'learning_rate': 'adaptive', 'max_iter': 300, 'solver': 'lbfgs'},\n",
       " mean: 0.72332, std: 0.01604, params: {'activation': 'identity', 'alpha': 0.0001, 'hidden_layer_sizes': (50,), 'learning_rate': 'constant', 'max_iter': 200, 'solver': 'lbfgs'},\n",
       " mean: 0.72332, std: 0.01639, params: {'activation': 'identity', 'alpha': 0.0001, 'hidden_layer_sizes': (50,), 'learning_rate': 'constant', 'max_iter': 300, 'solver': 'lbfgs'},\n",
       " mean: 0.72332, std: 0.01969, params: {'activation': 'identity', 'alpha': 1e-05, 'hidden_layer_sizes': (200,), 'learning_rate': 'constant', 'max_iter': 300, 'solver': 'lbfgs'},\n",
       " mean: 0.72268, std: 0.01602, params: {'activation': 'identity', 'alpha': 0.001, 'hidden_layer_sizes': (50,), 'learning_rate': 'constant', 'max_iter': 300, 'solver': 'lbfgs'}]"
      ]
     },
     "execution_count": 30,
     "metadata": {},
     "output_type": "execute_result"
    }
   ],
   "source": [
    "sorted(gs.grid_scores_, key=lambda x: x.mean_validation_score, reverse=True)[:10]"
   ]
  },
  {
   "cell_type": "code",
   "execution_count": 31,
   "metadata": {},
   "outputs": [
    {
     "name": "stdout",
     "output_type": "stream",
     "text": [
      "accuracy:  0.712468193384\n",
      "\n",
      "             precision    recall  f1-score   support\n",
      "\n",
      "          1       0.84      0.94      0.89       659\n",
      "          2       0.41      0.22      0.28       209\n",
      "          3       0.50      0.53      0.52       336\n",
      "          4       0.75      0.75      0.75       368\n",
      "\n",
      "avg / total       0.69      0.71      0.70      1572\n",
      "\n",
      "macro precision:  0.62554708358\n",
      "micro precision:  0.712468193384\n",
      "\n",
      "micro recall:  0.712468193384\n",
      "macro recall:  0.609652431055\n",
      "\n",
      "micro f1:  0.712468193384\n",
      "macro f1:  0.609256455945\n"
     ]
    },
    {
     "data": {
      "image/png": "[encoded data removed]",
      "text/plain": [
       "<matplotlib.figure.Figure at 0x1f14068e7b8>"
      ]
     },
     "metadata": {},
     "output_type": "display_data"
    }
   ],
   "source": [
    "print_metrics(gs.best_estimator_, featuresCV, labelsCV)"
   ]
  },
  {
   "cell_type": "code",
   "execution_count": null,
   "metadata": {
    "collapsed": true
   },
   "outputs": [],
   "source": []
  },
  {
   "cell_type": "code",
   "execution_count": null,
   "metadata": {
    "collapsed": true
   },
   "outputs": [],
   "source": []
  },
  {
   "cell_type": "code",
   "execution_count": null,
   "metadata": {
    "collapsed": true
   },
   "outputs": [],
   "source": []
  },
  {
   "cell_type": "markdown",
   "metadata": {},
   "source": [
    "# NO HP TUNING"
   ]
  },
  {
   "cell_type": "markdown",
   "metadata": {},
   "source": [
    "# Lr CV"
   ]
  },
  {
   "cell_type": "code",
   "execution_count": 65,
   "metadata": {},
   "outputs": [
    {
     "name": "stdout",
     "output_type": "stream",
     "text": [
      "accuracy:  0.730744748568\n",
      "\n",
      "             precision    recall  f1-score   support\n",
      "\n",
      "          1       0.85      0.96      0.90      1962\n",
      "          2       0.53      0.27      0.36       630\n",
      "          3       0.54      0.57      0.56      1060\n",
      "          4       0.75      0.74      0.74      1061\n",
      "\n",
      "avg / total       0.71      0.73      0.72      4713\n",
      "\n",
      "macro precision:  0.666846797097\n",
      "micro precision:  0.730744748568\n",
      "\n",
      "micro recall:  0.730744748568\n",
      "macro recall:  0.635394249442\n",
      "\n",
      "micro f1:  0.730744748568\n",
      "macro f1:  0.63947210539\n"
     ]
    },
    {
     "data": {
      "image/png": "[encoded data removed]",
      "text/plain": [
       "<matplotlib.figure.Figure at 0x29b17003f98>"
      ]
     },
     "metadata": {},
     "output_type": "display_data"
    }
   ],
   "source": [
    "from sklearn.linear_model import LogisticRegressionCV\n",
    "cls = LogisticRegressionCV(multi_class='multinomial')\n",
    "cls.fit(features, labels)\n",
    "print_metrics(cls, features, labels)"
   ]
  },
  {
   "cell_type": "code",
   "execution_count": 66,
   "metadata": {},
   "outputs": [
    {
     "name": "stdout",
     "output_type": "stream",
     "text": [
      "accuracy:  0.722646310433\n",
      "\n",
      "             precision    recall  f1-score   support\n",
      "\n",
      "          1       0.85      0.95      0.90       659\n",
      "          2       0.43      0.24      0.31       209\n",
      "          3       0.51      0.54      0.53       336\n",
      "          4       0.75      0.75      0.75       368\n",
      "\n",
      "avg / total       0.70      0.72      0.71      1572\n",
      "\n",
      "macro precision:  0.638231382623\n",
      "micro precision:  0.722646310433\n",
      "\n",
      "micro recall:  0.722646310433\n",
      "macro recall:  0.620900336522\n",
      "\n",
      "micro f1:  0.722646310433\n",
      "macro f1:  0.621714813519\n"
     ]
    },
    {
     "data": {
      "image/png": "[encoded data removed]",
      "text/plain": [
       "<matplotlib.figure.Figure at 0x29b17003c18>"
      ]
     },
     "metadata": {},
     "output_type": "display_data"
    }
   ],
   "source": [
    "print_metrics(cls, featuresCV, labelsCV)"
   ]
  },
  {
   "cell_type": "markdown",
   "metadata": {},
   "source": [
    "# GBC"
   ]
  },
  {
   "cell_type": "code",
   "execution_count": 33,
   "metadata": {},
   "outputs": [
    {
     "name": "stdout",
     "output_type": "stream",
     "text": [
      "accuracy:  0.824527901549\n",
      "\n",
      "             precision    recall  f1-score   support\n",
      "\n",
      "          1       0.89      0.98      0.93      1962\n",
      "          2       0.73      0.55      0.63       630\n",
      "          3       0.70      0.74      0.72      1060\n",
      "          4       0.87      0.79      0.83      1061\n",
      "\n",
      "avg / total       0.82      0.82      0.82      4713\n",
      "\n",
      "macro precision:  0.798005287973\n",
      "micro precision:  0.824527901549\n",
      "\n",
      "micro recall:  0.824527901549\n",
      "macro recall:  0.764377907318\n",
      "\n",
      "micro f1:  0.824527901549\n",
      "macro f1:  0.776881431491\n"
     ]
    },
    {
     "data": {
      "image/png": "[encoded data removed]",
      "text/plain": [
       "<matplotlib.figure.Figure at 0x29b168840b8>"
      ]
     },
     "metadata": {},
     "output_type": "display_data"
    }
   ],
   "source": [
    "from sklearn.ensemble import GradientBoostingClassifier\n",
    "cls = GradientBoostingClassifier(random_state=64)\n",
    "cls.fit(features, labels)\n",
    "print_metrics(cls, features, labels)"
   ]
  },
  {
   "cell_type": "code",
   "execution_count": 34,
   "metadata": {},
   "outputs": [
    {
     "name": "stdout",
     "output_type": "stream",
     "text": [
      "accuracy:  0.727735368957\n",
      "\n",
      "             precision    recall  f1-score   support\n",
      "\n",
      "          1       0.85      0.96      0.90       659\n",
      "          2       0.42      0.31      0.35       209\n",
      "          3       0.54      0.54      0.54       336\n",
      "          4       0.79      0.73      0.76       368\n",
      "\n",
      "avg / total       0.71      0.73      0.72      1572\n",
      "\n",
      "macro precision:  0.647743523978\n",
      "micro precision:  0.727735368957\n",
      "\n",
      "micro recall:  0.727735368957\n",
      "macro recall:  0.632905990945\n",
      "\n",
      "micro f1:  0.727735368957\n",
      "macro f1:  0.637278147535\n"
     ]
    },
    {
     "data": {
      "image/png": "[encoded data removed]",
      "text/plain": [
       "<matplotlib.figure.Figure at 0x29b16dd4668>"
      ]
     },
     "metadata": {},
     "output_type": "display_data"
    }
   ],
   "source": [
    "print_metrics(cls, featuresCV, labelsCV)"
   ]
  },
  {
   "cell_type": "code",
   "execution_count": 35,
   "metadata": {},
   "outputs": [
    {
     "data": {
      "text/html": [
       "<div>\n",
       "<style>\n",
       "    .dataframe thead tr:only-child th {\n",
       "        text-align: right;\n",
       "    }\n",
       "\n",
       "    .dataframe thead th {\n",
       "        text-align: left;\n",
       "    }\n",
       "\n",
       "    .dataframe tbody tr th {\n",
       "        vertical-align: top;\n",
       "    }\n",
       "</style>\n",
       "<table border=\"1\" class=\"dataframe\">\n",
       "  <thead>\n",
       "    <tr style=\"text-align: right;\">\n",
       "      <th></th>\n",
       "      <th>feature</th>\n",
       "      <th>importance</th>\n",
       "    </tr>\n",
       "  </thead>\n",
       "  <tbody>\n",
       "    <tr>\n",
       "      <th>10</th>\n",
       "      <td>ratio_pledged_goal</td>\n",
       "      <td>0.260361</td>\n",
       "    </tr>\n",
       "    <tr>\n",
       "      <th>13</th>\n",
       "      <td>usd_goal</td>\n",
       "      <td>0.073220</td>\n",
       "    </tr>\n",
       "    <tr>\n",
       "      <th>0</th>\n",
       "      <td>average_pledge</td>\n",
       "      <td>0.052129</td>\n",
       "    </tr>\n",
       "    <tr>\n",
       "      <th>4</th>\n",
       "      <td>days_preparation</td>\n",
       "      <td>0.044212</td>\n",
       "    </tr>\n",
       "    <tr>\n",
       "      <th>11</th>\n",
       "      <td>ratio_running_duration</td>\n",
       "      <td>0.043160</td>\n",
       "    </tr>\n",
       "    <tr>\n",
       "      <th>34</th>\n",
       "      <td>image_count</td>\n",
       "      <td>0.042164</td>\n",
       "    </tr>\n",
       "    <tr>\n",
       "      <th>2</th>\n",
       "      <td>category_position</td>\n",
       "      <td>0.040727</td>\n",
       "    </tr>\n",
       "    <tr>\n",
       "      <th>9</th>\n",
       "      <td>pledged</td>\n",
       "      <td>0.039319</td>\n",
       "    </tr>\n",
       "    <tr>\n",
       "      <th>14</th>\n",
       "      <td>usd_pledged</td>\n",
       "      <td>0.036183</td>\n",
       "    </tr>\n",
       "    <tr>\n",
       "      <th>1</th>\n",
       "      <td>backers_count</td>\n",
       "      <td>0.029698</td>\n",
       "    </tr>\n",
       "    <tr>\n",
       "      <th>31</th>\n",
       "      <td>launch_day</td>\n",
       "      <td>0.028448</td>\n",
       "    </tr>\n",
       "    <tr>\n",
       "      <th>28</th>\n",
       "      <td>deadline_hour</td>\n",
       "      <td>0.026804</td>\n",
       "    </tr>\n",
       "    <tr>\n",
       "      <th>8</th>\n",
       "      <td>goal</td>\n",
       "      <td>0.026728</td>\n",
       "    </tr>\n",
       "    <tr>\n",
       "      <th>40</th>\n",
       "      <td>blurb_words</td>\n",
       "      <td>0.024778</td>\n",
       "    </tr>\n",
       "    <tr>\n",
       "      <th>5</th>\n",
       "      <td>days_remaining</td>\n",
       "      <td>0.024575</td>\n",
       "    </tr>\n",
       "    <tr>\n",
       "      <th>26</th>\n",
       "      <td>deadline_day</td>\n",
       "      <td>0.022403</td>\n",
       "    </tr>\n",
       "    <tr>\n",
       "      <th>6</th>\n",
       "      <td>days_running</td>\n",
       "      <td>0.021294</td>\n",
       "    </tr>\n",
       "    <tr>\n",
       "      <th>33</th>\n",
       "      <td>launch_hour</td>\n",
       "      <td>0.018669</td>\n",
       "    </tr>\n",
       "    <tr>\n",
       "      <th>39</th>\n",
       "      <td>other_embeded_count</td>\n",
       "      <td>0.011484</td>\n",
       "    </tr>\n",
       "    <tr>\n",
       "      <th>17</th>\n",
       "      <td>comments_count_public_while_scraping</td>\n",
       "      <td>0.011372</td>\n",
       "    </tr>\n",
       "    <tr>\n",
       "      <th>32</th>\n",
       "      <td>launch_dayofweek</td>\n",
       "      <td>0.010501</td>\n",
       "    </tr>\n",
       "    <tr>\n",
       "      <th>27</th>\n",
       "      <td>deadline_dayofweek</td>\n",
       "      <td>0.010390</td>\n",
       "    </tr>\n",
       "    <tr>\n",
       "      <th>30</th>\n",
       "      <td>launch_month</td>\n",
       "      <td>0.010026</td>\n",
       "    </tr>\n",
       "    <tr>\n",
       "      <th>12</th>\n",
       "      <td>staff_pick</td>\n",
       "      <td>0.009158</td>\n",
       "    </tr>\n",
       "    <tr>\n",
       "      <th>3</th>\n",
       "      <td>days_duration</td>\n",
       "      <td>0.009026</td>\n",
       "    </tr>\n",
       "    <tr>\n",
       "      <th>7</th>\n",
       "      <td>db_duration</td>\n",
       "      <td>0.008700</td>\n",
       "    </tr>\n",
       "    <tr>\n",
       "      <th>15</th>\n",
       "      <td>faq_count_while_scraping</td>\n",
       "      <td>0.007441</td>\n",
       "    </tr>\n",
       "    <tr>\n",
       "      <th>38</th>\n",
       "      <td>audio_count</td>\n",
       "      <td>0.006946</td>\n",
       "    </tr>\n",
       "    <tr>\n",
       "      <th>25</th>\n",
       "      <td>deadline_month</td>\n",
       "      <td>0.006927</td>\n",
       "    </tr>\n",
       "    <tr>\n",
       "      <th>36</th>\n",
       "      <td>video_youtube_count</td>\n",
       "      <td>0.006209</td>\n",
       "    </tr>\n",
       "    <tr>\n",
       "      <th>16</th>\n",
       "      <td>comments_count_creator_while_scraping</td>\n",
       "      <td>0.005776</td>\n",
       "    </tr>\n",
       "    <tr>\n",
       "      <th>19</th>\n",
       "      <td>updates_likes_sum_while_scraping</td>\n",
       "      <td>0.005386</td>\n",
       "    </tr>\n",
       "    <tr>\n",
       "      <th>18</th>\n",
       "      <td>updates_count_while_scraping</td>\n",
       "      <td>0.005309</td>\n",
       "    </tr>\n",
       "    <tr>\n",
       "      <th>29</th>\n",
       "      <td>launch_year</td>\n",
       "      <td>0.005114</td>\n",
       "    </tr>\n",
       "    <tr>\n",
       "      <th>21</th>\n",
       "      <td>updates_likes_min_while_scraping</td>\n",
       "      <td>0.003988</td>\n",
       "    </tr>\n",
       "    <tr>\n",
       "      <th>35</th>\n",
       "      <td>video_kickstarter_count</td>\n",
       "      <td>0.003414</td>\n",
       "    </tr>\n",
       "    <tr>\n",
       "      <th>22</th>\n",
       "      <td>updates_likes_max_while_scraping</td>\n",
       "      <td>0.002925</td>\n",
       "    </tr>\n",
       "    <tr>\n",
       "      <th>37</th>\n",
       "      <td>video_count</td>\n",
       "      <td>0.002895</td>\n",
       "    </tr>\n",
       "    <tr>\n",
       "      <th>20</th>\n",
       "      <td>updates_likes_mean_while_scraping</td>\n",
       "      <td>0.001344</td>\n",
       "    </tr>\n",
       "    <tr>\n",
       "      <th>23</th>\n",
       "      <td>updates_likes_median_while_scraping</td>\n",
       "      <td>0.000640</td>\n",
       "    </tr>\n",
       "    <tr>\n",
       "      <th>24</th>\n",
       "      <td>deadline_year</td>\n",
       "      <td>0.000161</td>\n",
       "    </tr>\n",
       "  </tbody>\n",
       "</table>\n",
       "</div>"
      ],
      "text/plain": [
       "                                  feature  importance\n",
       "10                     ratio_pledged_goal    0.260361\n",
       "13                               usd_goal    0.073220\n",
       "0                          average_pledge    0.052129\n",
       "4                        days_preparation    0.044212\n",
       "11                 ratio_running_duration    0.043160\n",
       "34                            image_count    0.042164\n",
       "2                       category_position    0.040727\n",
       "9                                 pledged    0.039319\n",
       "14                            usd_pledged    0.036183\n",
       "1                           backers_count    0.029698\n",
       "31                             launch_day    0.028448\n",
       "28                          deadline_hour    0.026804\n",
       "8                                    goal    0.026728\n",
       "40                            blurb_words    0.024778\n",
       "5                          days_remaining    0.024575\n",
       "26                           deadline_day    0.022403\n",
       "6                            days_running    0.021294\n",
       "33                            launch_hour    0.018669\n",
       "39                    other_embeded_count    0.011484\n",
       "17   comments_count_public_while_scraping    0.011372\n",
       "32                       launch_dayofweek    0.010501\n",
       "27                     deadline_dayofweek    0.010390\n",
       "30                           launch_month    0.010026\n",
       "12                             staff_pick    0.009158\n",
       "3                           days_duration    0.009026\n",
       "7                             db_duration    0.008700\n",
       "15               faq_count_while_scraping    0.007441\n",
       "38                            audio_count    0.006946\n",
       "25                         deadline_month    0.006927\n",
       "36                    video_youtube_count    0.006209\n",
       "16  comments_count_creator_while_scraping    0.005776\n",
       "19       updates_likes_sum_while_scraping    0.005386\n",
       "18           updates_count_while_scraping    0.005309\n",
       "29                            launch_year    0.005114\n",
       "21       updates_likes_min_while_scraping    0.003988\n",
       "35                video_kickstarter_count    0.003414\n",
       "22       updates_likes_max_while_scraping    0.002925\n",
       "37                            video_count    0.002895\n",
       "20      updates_likes_mean_while_scraping    0.001344\n",
       "23    updates_likes_median_while_scraping    0.000640\n",
       "24                          deadline_year    0.000161"
      ]
     },
     "execution_count": 35,
     "metadata": {},
     "output_type": "execute_result"
    }
   ],
   "source": [
    "importances = pd.DataFrame()\n",
    "for i, name, importance in zip(range(len(features.columns)), features.columns, cls.feature_importances_):\n",
    "    importances.loc[i, 'feature'] = name\n",
    "    importances.loc[i, 'importance'] = importance\n",
    "    \n",
    "importances.sort_values(by='importance', ascending=False)"
   ]
  },
  {
   "cell_type": "markdown",
   "metadata": {},
   "source": [
    "# adding tf-idf"
   ]
  },
  {
   "cell_type": "code",
   "execution_count": 49,
   "metadata": {},
   "outputs": [
    {
     "data": {
      "text/plain": [
       "Index(['tf-idf', 'token_taken', 'token_iphone', 'token_folk', 'token_thank',\n",
       "       'token_much', 'token_time', 'token_added', 'token_photo', 'token_year',\n",
       "       ...\n",
       "       'token_freunden', 'token_skater', 'token_kickstater', 'token_kontakt',\n",
       "       'token_bisexual', 'token_disruption', 'token_dump', 'token_edison',\n",
       "       'token_volcano', 'token_so'],\n",
       "      dtype='object', length=14412)"
      ]
     },
     "execution_count": 49,
     "metadata": {},
     "output_type": "execute_result"
    }
   ],
   "source": [
    "text = pd.read_csv('data/split/nlp/train_tfidf.csv', index_col=0, encoding='latin1')\n",
    "text2 = pd.read_csv('data/split/nlp/test_tfidf.csv', index_col=0, encoding='latin1')\n",
    "\n",
    "text.append(text2, ignore_index=True)\n",
    "\n",
    "text = text[text['ratio_running_duration'] < 25]\n",
    "\n",
    "text.iloc[:,61:].columns"
   ]
  },
  {
   "cell_type": "code",
   "execution_count": 50,
   "metadata": {
    "collapsed": true
   },
   "outputs": [],
   "source": [
    "features = pd.concat([features, text.iloc[:,62:]], axis=1)"
   ]
  },
  {
   "cell_type": "code",
   "execution_count": 51,
   "metadata": {},
   "outputs": [
    {
     "data": {
      "text/plain": [
       "Index(['tf-idf', 'token_taken', 'token_iphone', 'token_folk', 'token_thank',\n",
       "       'token_much', 'token_time', 'token_added', 'token_photo', 'token_year',\n",
       "       ...\n",
       "       'token_freunden', 'token_skater', 'token_kickstater', 'token_kontakt',\n",
       "       'token_bisexual', 'token_disruption', 'token_dump', 'token_edison',\n",
       "       'token_volcano', 'token_so'],\n",
       "      dtype='object', length=14412)"
      ]
     },
     "execution_count": 51,
     "metadata": {},
     "output_type": "execute_result"
    }
   ],
   "source": [
    "text = pd.read_csv('data/split/nlp/cv_tfidf.csv', index_col=0, encoding='latin1')\n",
    "\n",
    "text = text[text['ratio_running_duration'] < 25]\n",
    "\n",
    "text.iloc[:,57:].columns"
   ]
  },
  {
   "cell_type": "code",
   "execution_count": 52,
   "metadata": {
    "collapsed": true
   },
   "outputs": [],
   "source": [
    "featuresCV = pd.concat([featuresCV, text.iloc[:,58:]], axis=1)"
   ]
  },
  {
   "cell_type": "code",
   "execution_count": 53,
   "metadata": {},
   "outputs": [
    {
     "data": {
      "text/plain": [
       "(4713, 14452)"
      ]
     },
     "execution_count": 53,
     "metadata": {},
     "output_type": "execute_result"
    }
   ],
   "source": [
    "features.shape"
   ]
  },
  {
   "cell_type": "code",
   "execution_count": 54,
   "metadata": {},
   "outputs": [
    {
     "data": {
      "text/plain": [
       "(1572, 14452)"
      ]
     },
     "execution_count": 54,
     "metadata": {},
     "output_type": "execute_result"
    }
   ],
   "source": [
    "featuresCV.shape"
   ]
  },
  {
   "cell_type": "code",
   "execution_count": 126,
   "metadata": {
    "collapsed": true
   },
   "outputs": [],
   "source": [
    "from sklearn.utils import class_weight\n",
    "labels_weights = class_weight.compute_sample_weight('balanced', labels)"
   ]
  },
  {
   "cell_type": "code",
   "execution_count": 55,
   "metadata": {},
   "outputs": [
    {
     "data": {
      "text/plain": [
       "GradientBoostingClassifier(criterion='friedman_mse', init=None,\n",
       "              learning_rate=0.1, loss='deviance', max_depth=3,\n",
       "              max_features=None, max_leaf_nodes=None,\n",
       "              min_impurity_decrease=0.0, min_impurity_split=None,\n",
       "              min_samples_leaf=1, min_samples_split=2,\n",
       "              min_weight_fraction_leaf=0.0, n_estimators=100,\n",
       "              presort='auto', random_state=64, subsample=1.0, verbose=0,\n",
       "              warm_start=False)"
      ]
     },
     "execution_count": 55,
     "metadata": {},
     "output_type": "execute_result"
    }
   ],
   "source": [
    "cls = GradientBoostingClassifier(random_state=64)\n",
    "cls.fit(features, labels) # , sample_weight=labels_weights"
   ]
  },
  {
   "cell_type": "code",
   "execution_count": 56,
   "metadata": {},
   "outputs": [
    {
     "name": "stdout",
     "output_type": "stream",
     "text": [
      "accuracy:  0.733460559796\n",
      "\n",
      "             precision    recall  f1-score   support\n",
      "\n",
      "          1       0.85      0.97      0.91       659\n",
      "          2       0.45      0.35      0.39       209\n",
      "          3       0.55      0.54      0.54       336\n",
      "          4       0.79      0.70      0.75       368\n",
      "\n",
      "avg / total       0.72      0.73      0.72      1572\n",
      "\n",
      "macro precision:  0.660722684141\n",
      "micro precision:  0.733460559796\n",
      "\n",
      "micro recall:  0.733460559796\n",
      "macro recall:  0.640371704475\n",
      "\n",
      "micro f1:  0.733460559796\n",
      "macro f1:  0.647088184929\n"
     ]
    },
    {
     "data": {
      "image/png": "[encoded data removed]",
      "text/plain": [
       "<matplotlib.figure.Figure at 0x16526870748>"
      ]
     },
     "metadata": {},
     "output_type": "display_data"
    }
   ],
   "source": [
    "print_metrics(cls, featuresCV, labelsCV)"
   ]
  },
  {
   "cell_type": "code",
   "execution_count": 57,
   "metadata": {},
   "outputs": [
    {
     "data": {
      "text/html": [
       "<div>\n",
       "<style>\n",
       "    .dataframe thead tr:only-child th {\n",
       "        text-align: right;\n",
       "    }\n",
       "\n",
       "    .dataframe thead th {\n",
       "        text-align: left;\n",
       "    }\n",
       "\n",
       "    .dataframe tbody tr th {\n",
       "        vertical-align: top;\n",
       "    }\n",
       "</style>\n",
       "<table border=\"1\" class=\"dataframe\">\n",
       "  <thead>\n",
       "    <tr style=\"text-align: right;\">\n",
       "      <th></th>\n",
       "      <th>feature</th>\n",
       "      <th>importance</th>\n",
       "    </tr>\n",
       "  </thead>\n",
       "  <tbody>\n",
       "    <tr>\n",
       "      <th>10</th>\n",
       "      <td>ratio_pledged_goal</td>\n",
       "      <td>0.165101</td>\n",
       "    </tr>\n",
       "    <tr>\n",
       "      <th>13</th>\n",
       "      <td>usd_goal</td>\n",
       "      <td>0.019041</td>\n",
       "    </tr>\n",
       "    <tr>\n",
       "      <th>11</th>\n",
       "      <td>ratio_running_duration</td>\n",
       "      <td>0.016352</td>\n",
       "    </tr>\n",
       "    <tr>\n",
       "      <th>6</th>\n",
       "      <td>days_running</td>\n",
       "      <td>0.007598</td>\n",
       "    </tr>\n",
       "    <tr>\n",
       "      <th>1</th>\n",
       "      <td>backers_count</td>\n",
       "      <td>0.007496</td>\n",
       "    </tr>\n",
       "    <tr>\n",
       "      <th>34</th>\n",
       "      <td>image_count</td>\n",
       "      <td>0.006301</td>\n",
       "    </tr>\n",
       "    <tr>\n",
       "      <th>1186</th>\n",
       "      <td>token_performance</td>\n",
       "      <td>0.005950</td>\n",
       "    </tr>\n",
       "    <tr>\n",
       "      <th>368</th>\n",
       "      <td>token_stretch</td>\n",
       "      <td>0.004866</td>\n",
       "    </tr>\n",
       "    <tr>\n",
       "      <th>9</th>\n",
       "      <td>pledged</td>\n",
       "      <td>0.004790</td>\n",
       "    </tr>\n",
       "    <tr>\n",
       "      <th>2</th>\n",
       "      <td>category_position</td>\n",
       "      <td>0.004659</td>\n",
       "    </tr>\n",
       "    <tr>\n",
       "      <th>11088</th>\n",
       "      <td>token_temple</td>\n",
       "      <td>0.004585</td>\n",
       "    </tr>\n",
       "    <tr>\n",
       "      <th>6863</th>\n",
       "      <td>token_adhesive</td>\n",
       "      <td>0.004293</td>\n",
       "    </tr>\n",
       "    <tr>\n",
       "      <th>10987</th>\n",
       "      <td>token_zeit</td>\n",
       "      <td>0.004092</td>\n",
       "    </tr>\n",
       "    <tr>\n",
       "      <th>5433</th>\n",
       "      <td>token_exotic</td>\n",
       "      <td>0.004084</td>\n",
       "    </tr>\n",
       "    <tr>\n",
       "      <th>3911</th>\n",
       "      <td>token_frankly</td>\n",
       "      <td>0.004059</td>\n",
       "    </tr>\n",
       "    <tr>\n",
       "      <th>11555</th>\n",
       "      <td>token_somos</td>\n",
       "      <td>0.004030</td>\n",
       "    </tr>\n",
       "    <tr>\n",
       "      <th>108</th>\n",
       "      <td>token_support</td>\n",
       "      <td>0.003761</td>\n",
       "    </tr>\n",
       "    <tr>\n",
       "      <th>2646</th>\n",
       "      <td>token_exhibition</td>\n",
       "      <td>0.003744</td>\n",
       "    </tr>\n",
       "    <tr>\n",
       "      <th>8</th>\n",
       "      <td>goal</td>\n",
       "      <td>0.003591</td>\n",
       "    </tr>\n",
       "    <tr>\n",
       "      <th>10393</th>\n",
       "      <td>token_1972</td>\n",
       "      <td>0.003562</td>\n",
       "    </tr>\n",
       "    <tr>\n",
       "      <th>345</th>\n",
       "      <td>token_shipping</td>\n",
       "      <td>0.003520</td>\n",
       "    </tr>\n",
       "    <tr>\n",
       "      <th>11837</th>\n",
       "      <td>token_absorbed</td>\n",
       "      <td>0.003506</td>\n",
       "    </tr>\n",
       "    <tr>\n",
       "      <th>10016</th>\n",
       "      <td>token_teamed</td>\n",
       "      <td>0.003345</td>\n",
       "    </tr>\n",
       "    <tr>\n",
       "      <th>3324</th>\n",
       "      <td>token_blind</td>\n",
       "      <td>0.003323</td>\n",
       "    </tr>\n",
       "    <tr>\n",
       "      <th>920</th>\n",
       "      <td>token_music</td>\n",
       "      <td>0.003296</td>\n",
       "    </tr>\n",
       "    <tr>\n",
       "      <th>1658</th>\n",
       "      <td>token_format</td>\n",
       "      <td>0.003201</td>\n",
       "    </tr>\n",
       "    <tr>\n",
       "      <th>344</th>\n",
       "      <td>token_creation</td>\n",
       "      <td>0.003095</td>\n",
       "    </tr>\n",
       "    <tr>\n",
       "      <th>454</th>\n",
       "      <td>token_share</td>\n",
       "      <td>0.003059</td>\n",
       "    </tr>\n",
       "    <tr>\n",
       "      <th>8863</th>\n",
       "      <td>token_recycle</td>\n",
       "      <td>0.002986</td>\n",
       "    </tr>\n",
       "    <tr>\n",
       "      <th>2867</th>\n",
       "      <td>token_bonus</td>\n",
       "      <td>0.002974</td>\n",
       "    </tr>\n",
       "    <tr>\n",
       "      <th>...</th>\n",
       "      <td>...</td>\n",
       "      <td>...</td>\n",
       "    </tr>\n",
       "    <tr>\n",
       "      <th>5309</th>\n",
       "      <td>token_suggestion</td>\n",
       "      <td>0.000000</td>\n",
       "    </tr>\n",
       "    <tr>\n",
       "      <th>5310</th>\n",
       "      <td>token_injured</td>\n",
       "      <td>0.000000</td>\n",
       "    </tr>\n",
       "    <tr>\n",
       "      <th>5311</th>\n",
       "      <td>token_followed</td>\n",
       "      <td>0.000000</td>\n",
       "    </tr>\n",
       "    <tr>\n",
       "      <th>5286</th>\n",
       "      <td>token_dried</td>\n",
       "      <td>0.000000</td>\n",
       "    </tr>\n",
       "    <tr>\n",
       "      <th>5285</th>\n",
       "      <td>token_air</td>\n",
       "      <td>0.000000</td>\n",
       "    </tr>\n",
       "    <tr>\n",
       "      <th>5284</th>\n",
       "      <td>token_grilled</td>\n",
       "      <td>0.000000</td>\n",
       "    </tr>\n",
       "    <tr>\n",
       "      <th>5271</th>\n",
       "      <td>token_arrives</td>\n",
       "      <td>0.000000</td>\n",
       "    </tr>\n",
       "    <tr>\n",
       "      <th>5261</th>\n",
       "      <td>token_sadly</td>\n",
       "      <td>0.000000</td>\n",
       "    </tr>\n",
       "    <tr>\n",
       "      <th>5262</th>\n",
       "      <td>token_geography</td>\n",
       "      <td>0.000000</td>\n",
       "    </tr>\n",
       "    <tr>\n",
       "      <th>5263</th>\n",
       "      <td>token_colorist</td>\n",
       "      <td>0.000000</td>\n",
       "    </tr>\n",
       "    <tr>\n",
       "      <th>5264</th>\n",
       "      <td>token_boarding</td>\n",
       "      <td>0.000000</td>\n",
       "    </tr>\n",
       "    <tr>\n",
       "      <th>5265</th>\n",
       "      <td>token_replaced</td>\n",
       "      <td>0.000000</td>\n",
       "    </tr>\n",
       "    <tr>\n",
       "      <th>5266</th>\n",
       "      <td>token_cardboard</td>\n",
       "      <td>0.000000</td>\n",
       "    </tr>\n",
       "    <tr>\n",
       "      <th>5267</th>\n",
       "      <td>token_mailer</td>\n",
       "      <td>0.000000</td>\n",
       "    </tr>\n",
       "    <tr>\n",
       "      <th>5268</th>\n",
       "      <td>token_disclaimer</td>\n",
       "      <td>0.000000</td>\n",
       "    </tr>\n",
       "    <tr>\n",
       "      <th>5269</th>\n",
       "      <td>token_distraction</td>\n",
       "      <td>0.000000</td>\n",
       "    </tr>\n",
       "    <tr>\n",
       "      <th>5270</th>\n",
       "      <td>token_assume</td>\n",
       "      <td>0.000000</td>\n",
       "    </tr>\n",
       "    <tr>\n",
       "      <th>5272</th>\n",
       "      <td>token_yield</td>\n",
       "      <td>0.000000</td>\n",
       "    </tr>\n",
       "    <tr>\n",
       "      <th>5283</th>\n",
       "      <td>token_specialize</td>\n",
       "      <td>0.000000</td>\n",
       "    </tr>\n",
       "    <tr>\n",
       "      <th>5273</th>\n",
       "      <td>token_3000</td>\n",
       "      <td>0.000000</td>\n",
       "    </tr>\n",
       "    <tr>\n",
       "      <th>5274</th>\n",
       "      <td>token_lettered</td>\n",
       "      <td>0.000000</td>\n",
       "    </tr>\n",
       "    <tr>\n",
       "      <th>5275</th>\n",
       "      <td>token_temperature</td>\n",
       "      <td>0.000000</td>\n",
       "    </tr>\n",
       "    <tr>\n",
       "      <th>5276</th>\n",
       "      <td>token_savannah</td>\n",
       "      <td>0.000000</td>\n",
       "    </tr>\n",
       "    <tr>\n",
       "      <th>5277</th>\n",
       "      <td>token_georgia</td>\n",
       "      <td>0.000000</td>\n",
       "    </tr>\n",
       "    <tr>\n",
       "      <th>5278</th>\n",
       "      <td>token_hemp</td>\n",
       "      <td>0.000000</td>\n",
       "    </tr>\n",
       "    <tr>\n",
       "      <th>5279</th>\n",
       "      <td>token_jerky</td>\n",
       "      <td>0.000000</td>\n",
       "    </tr>\n",
       "    <tr>\n",
       "      <th>5280</th>\n",
       "      <td>token_enlighten</td>\n",
       "      <td>0.000000</td>\n",
       "    </tr>\n",
       "    <tr>\n",
       "      <th>5281</th>\n",
       "      <td>token_sens</td>\n",
       "      <td>0.000000</td>\n",
       "    </tr>\n",
       "    <tr>\n",
       "      <th>5282</th>\n",
       "      <td>token_tropical</td>\n",
       "      <td>0.000000</td>\n",
       "    </tr>\n",
       "    <tr>\n",
       "      <th>14451</th>\n",
       "      <td>token_so</td>\n",
       "      <td>0.000000</td>\n",
       "    </tr>\n",
       "  </tbody>\n",
       "</table>\n",
       "<p>14452 rows × 2 columns</p>\n",
       "</div>"
      ],
      "text/plain": [
       "                      feature  importance\n",
       "10         ratio_pledged_goal    0.165101\n",
       "13                   usd_goal    0.019041\n",
       "11     ratio_running_duration    0.016352\n",
       "6                days_running    0.007598\n",
       "1               backers_count    0.007496\n",
       "34                image_count    0.006301\n",
       "1186        token_performance    0.005950\n",
       "368             token_stretch    0.004866\n",
       "9                     pledged    0.004790\n",
       "2           category_position    0.004659\n",
       "11088            token_temple    0.004585\n",
       "6863           token_adhesive    0.004293\n",
       "10987              token_zeit    0.004092\n",
       "5433             token_exotic    0.004084\n",
       "3911            token_frankly    0.004059\n",
       "11555             token_somos    0.004030\n",
       "108             token_support    0.003761\n",
       "2646         token_exhibition    0.003744\n",
       "8                        goal    0.003591\n",
       "10393              token_1972    0.003562\n",
       "345            token_shipping    0.003520\n",
       "11837          token_absorbed    0.003506\n",
       "10016            token_teamed    0.003345\n",
       "3324              token_blind    0.003323\n",
       "920               token_music    0.003296\n",
       "1658             token_format    0.003201\n",
       "344            token_creation    0.003095\n",
       "454               token_share    0.003059\n",
       "8863            token_recycle    0.002986\n",
       "2867              token_bonus    0.002974\n",
       "...                       ...         ...\n",
       "5309         token_suggestion    0.000000\n",
       "5310            token_injured    0.000000\n",
       "5311           token_followed    0.000000\n",
       "5286              token_dried    0.000000\n",
       "5285                token_air    0.000000\n",
       "5284            token_grilled    0.000000\n",
       "5271            token_arrives    0.000000\n",
       "5261              token_sadly    0.000000\n",
       "5262          token_geography    0.000000\n",
       "5263           token_colorist    0.000000\n",
       "5264           token_boarding    0.000000\n",
       "5265           token_replaced    0.000000\n",
       "5266          token_cardboard    0.000000\n",
       "5267             token_mailer    0.000000\n",
       "5268         token_disclaimer    0.000000\n",
       "5269        token_distraction    0.000000\n",
       "5270             token_assume    0.000000\n",
       "5272              token_yield    0.000000\n",
       "5283         token_specialize    0.000000\n",
       "5273               token_3000    0.000000\n",
       "5274           token_lettered    0.000000\n",
       "5275        token_temperature    0.000000\n",
       "5276           token_savannah    0.000000\n",
       "5277            token_georgia    0.000000\n",
       "5278               token_hemp    0.000000\n",
       "5279              token_jerky    0.000000\n",
       "5280          token_enlighten    0.000000\n",
       "5281               token_sens    0.000000\n",
       "5282           token_tropical    0.000000\n",
       "14451                token_so    0.000000\n",
       "\n",
       "[14452 rows x 2 columns]"
      ]
     },
     "execution_count": 57,
     "metadata": {},
     "output_type": "execute_result"
    }
   ],
   "source": [
    "importances = pd.DataFrame()\n",
    "for i, name, importance in zip(range(len(features.columns)), features.columns, cls.feature_importances_):\n",
    "    importances.loc[i, 'feature'] = name\n",
    "    importances.loc[i, 'importance'] = importance\n",
    "    \n",
    "importances.sort_values(by='importance', ascending=False)"
   ]
  },
  {
   "cell_type": "code",
   "execution_count": null,
   "metadata": {
    "collapsed": true
   },
   "outputs": [],
   "source": []
  },
  {
   "cell_type": "code",
   "execution_count": null,
   "metadata": {
    "collapsed": true
   },
   "outputs": [],
   "source": []
  },
  {
   "cell_type": "code",
   "execution_count": null,
   "metadata": {
    "collapsed": true
   },
   "outputs": [],
   "source": []
  },
  {
   "cell_type": "markdown",
   "metadata": {},
   "source": [
    "# adding LSA"
   ]
  },
  {
   "cell_type": "code",
   "execution_count": 67,
   "metadata": {},
   "outputs": [
    {
     "data": {
      "text/plain": [
       "Index(['0', '1', '2', '3', '4', '5', '6', '7', '8', '9', '10', '11', '12',\n",
       "       '13', '14', '15', '16', '17', '18', '19', '20', '21', '22', '23', '24',\n",
       "       'ratio_running_duration'],\n",
       "      dtype='object')"
      ]
     },
     "execution_count": 67,
     "metadata": {},
     "output_type": "execute_result"
    }
   ],
   "source": [
    "text = pd.read_csv('data/split/nlp/min_max_df/train_lsa.csv', index_col=0, encoding='latin1')\n",
    "text2 = pd.read_csv('data/split/nlp/min_max_df/test_lsa.csv', index_col=0, encoding='latin1')\n",
    "\n",
    "text.append(text2, ignore_index=True)\n",
    "\n",
    "text = text[text['ratio_running_duration'] < 25]\n",
    "\n",
    "text.iloc[:,:].columns"
   ]
  },
  {
   "cell_type": "code",
   "execution_count": 68,
   "metadata": {
    "collapsed": true
   },
   "outputs": [],
   "source": [
    "features = pd.concat([features, text.iloc[:,:-1]], axis=1)"
   ]
  },
  {
   "cell_type": "code",
   "execution_count": 69,
   "metadata": {},
   "outputs": [
    {
     "data": {
      "text/plain": [
       "Index(['0', '1', '2', '3', '4', '5', '6', '7', '8', '9', '10', '11', '12',\n",
       "       '13', '14', '15', '16', '17', '18', '19', '20', '21', '22', '23', '24',\n",
       "       'ratio_running_duration'],\n",
       "      dtype='object')"
      ]
     },
     "execution_count": 69,
     "metadata": {},
     "output_type": "execute_result"
    }
   ],
   "source": [
    "text = pd.read_csv('data/split/nlp/min_max_df/cv_lsa.csv', index_col=0, encoding='latin1')\n",
    "\n",
    "text = text[text['ratio_running_duration'] < 25]\n",
    "\n",
    "text.iloc[:,:].columns"
   ]
  },
  {
   "cell_type": "code",
   "execution_count": 70,
   "metadata": {
    "collapsed": true
   },
   "outputs": [],
   "source": [
    "featuresCV = pd.concat([featuresCV, text.iloc[:,:-1]], axis=1)"
   ]
  },
  {
   "cell_type": "code",
   "execution_count": 14,
   "metadata": {},
   "outputs": [
    {
     "data": {
      "text/plain": [
       "(4713, 66)"
      ]
     },
     "execution_count": 14,
     "metadata": {},
     "output_type": "execute_result"
    }
   ],
   "source": [
    "features.shape"
   ]
  },
  {
   "cell_type": "code",
   "execution_count": 15,
   "metadata": {},
   "outputs": [
    {
     "data": {
      "text/plain": [
       "(1572, 66)"
      ]
     },
     "execution_count": 15,
     "metadata": {},
     "output_type": "execute_result"
    }
   ],
   "source": [
    "featuresCV.shape"
   ]
  },
  {
   "cell_type": "markdown",
   "metadata": {
    "collapsed": true
   },
   "source": [
    "from sklearn.utils import class_weight\n",
    "labels_weights = class_weight.compute_sample_weight('balanced', labels)"
   ]
  },
  {
   "cell_type": "code",
   "execution_count": 16,
   "metadata": {},
   "outputs": [
    {
     "data": {
      "text/plain": [
       "GradientBoostingClassifier(criterion='friedman_mse', init=None,\n",
       "              learning_rate=0.1, loss='deviance', max_depth=3,\n",
       "              max_features=None, max_leaf_nodes=None,\n",
       "              min_impurity_decrease=0.0, min_impurity_split=None,\n",
       "              min_samples_leaf=1, min_samples_split=2,\n",
       "              min_weight_fraction_leaf=0.0, n_estimators=100,\n",
       "              presort='auto', random_state=64, subsample=1.0, verbose=0,\n",
       "              warm_start=False)"
      ]
     },
     "execution_count": 16,
     "metadata": {},
     "output_type": "execute_result"
    }
   ],
   "source": [
    "from sklearn.ensemble import GradientBoostingClassifier\n",
    "cls = GradientBoostingClassifier(random_state=64)\n",
    "cls.fit(features, labels)"
   ]
  },
  {
   "cell_type": "code",
   "execution_count": 17,
   "metadata": {},
   "outputs": [
    {
     "name": "stdout",
     "output_type": "stream",
     "text": [
      "accuracy:  0.74427480916\n",
      "\n",
      "             precision    recall  f1-score   support\n",
      "\n",
      "          1       0.86      0.97      0.91       659\n",
      "          2       0.52      0.39      0.45       209\n",
      "          3       0.56      0.56      0.56       336\n",
      "          4       0.78      0.71      0.75       368\n",
      "\n",
      "avg / total       0.73      0.74      0.73      1572\n",
      "\n",
      "macro precision:  0.680766335392\n",
      "micro precision:  0.74427480916\n",
      "\n",
      "micro recall:  0.74427480916\n",
      "macro recall:  0.658354276081\n",
      "\n",
      "micro f1:  0.74427480916\n",
      "macro f1:  0.666004639308\n"
     ]
    },
    {
     "data": {
      "image/png": "[encoded data removed]",
      "text/plain": [
       "<matplotlib.figure.Figure at 0x2b495d064a8>"
      ]
     },
     "metadata": {},
     "output_type": "display_data"
    }
   ],
   "source": [
    "print_metrics(cls, featuresCV, labelsCV)"
   ]
  },
  {
   "cell_type": "code",
   "execution_count": 78,
   "metadata": {},
   "outputs": [
    {
     "data": {
      "text/html": [
       "<div>\n",
       "<style>\n",
       "    .dataframe thead tr:only-child th {\n",
       "        text-align: right;\n",
       "    }\n",
       "\n",
       "    .dataframe thead th {\n",
       "        text-align: left;\n",
       "    }\n",
       "\n",
       "    .dataframe tbody tr th {\n",
       "        vertical-align: top;\n",
       "    }\n",
       "</style>\n",
       "<table border=\"1\" class=\"dataframe\">\n",
       "  <thead>\n",
       "    <tr style=\"text-align: right;\">\n",
       "      <th></th>\n",
       "      <th>feature</th>\n",
       "      <th>importance</th>\n",
       "    </tr>\n",
       "  </thead>\n",
       "  <tbody>\n",
       "    <tr>\n",
       "      <th>10</th>\n",
       "      <td>ratio_pledged_goal</td>\n",
       "      <td>0.230152</td>\n",
       "    </tr>\n",
       "    <tr>\n",
       "      <th>13</th>\n",
       "      <td>usd_goal</td>\n",
       "      <td>0.040467</td>\n",
       "    </tr>\n",
       "    <tr>\n",
       "      <th>9</th>\n",
       "      <td>pledged</td>\n",
       "      <td>0.031140</td>\n",
       "    </tr>\n",
       "    <tr>\n",
       "      <th>11</th>\n",
       "      <td>ratio_running_duration</td>\n",
       "      <td>0.029371</td>\n",
       "    </tr>\n",
       "    <tr>\n",
       "      <th>50</th>\n",
       "      <td>9</td>\n",
       "      <td>0.025234</td>\n",
       "    </tr>\n",
       "    <tr>\n",
       "      <th>43</th>\n",
       "      <td>2</td>\n",
       "      <td>0.025202</td>\n",
       "    </tr>\n",
       "    <tr>\n",
       "      <th>42</th>\n",
       "      <td>1</td>\n",
       "      <td>0.024283</td>\n",
       "    </tr>\n",
       "    <tr>\n",
       "      <th>47</th>\n",
       "      <td>6</td>\n",
       "      <td>0.023803</td>\n",
       "    </tr>\n",
       "    <tr>\n",
       "      <th>52</th>\n",
       "      <td>11</td>\n",
       "      <td>0.023683</td>\n",
       "    </tr>\n",
       "    <tr>\n",
       "      <th>57</th>\n",
       "      <td>16</td>\n",
       "      <td>0.021945</td>\n",
       "    </tr>\n",
       "    <tr>\n",
       "      <th>0</th>\n",
       "      <td>average_pledge</td>\n",
       "      <td>0.021526</td>\n",
       "    </tr>\n",
       "    <tr>\n",
       "      <th>46</th>\n",
       "      <td>5</td>\n",
       "      <td>0.020917</td>\n",
       "    </tr>\n",
       "    <tr>\n",
       "      <th>4</th>\n",
       "      <td>days_preparation</td>\n",
       "      <td>0.019554</td>\n",
       "    </tr>\n",
       "    <tr>\n",
       "      <th>59</th>\n",
       "      <td>18</td>\n",
       "      <td>0.019078</td>\n",
       "    </tr>\n",
       "    <tr>\n",
       "      <th>34</th>\n",
       "      <td>image_count</td>\n",
       "      <td>0.018301</td>\n",
       "    </tr>\n",
       "    <tr>\n",
       "      <th>44</th>\n",
       "      <td>3</td>\n",
       "      <td>0.017714</td>\n",
       "    </tr>\n",
       "    <tr>\n",
       "      <th>2</th>\n",
       "      <td>category_position</td>\n",
       "      <td>0.017456</td>\n",
       "    </tr>\n",
       "    <tr>\n",
       "      <th>51</th>\n",
       "      <td>10</td>\n",
       "      <td>0.017278</td>\n",
       "    </tr>\n",
       "    <tr>\n",
       "      <th>54</th>\n",
       "      <td>13</td>\n",
       "      <td>0.015872</td>\n",
       "    </tr>\n",
       "    <tr>\n",
       "      <th>14</th>\n",
       "      <td>usd_pledged</td>\n",
       "      <td>0.015610</td>\n",
       "    </tr>\n",
       "    <tr>\n",
       "      <th>61</th>\n",
       "      <td>20</td>\n",
       "      <td>0.014814</td>\n",
       "    </tr>\n",
       "    <tr>\n",
       "      <th>41</th>\n",
       "      <td>0</td>\n",
       "      <td>0.014655</td>\n",
       "    </tr>\n",
       "    <tr>\n",
       "      <th>1</th>\n",
       "      <td>backers_count</td>\n",
       "      <td>0.014520</td>\n",
       "    </tr>\n",
       "    <tr>\n",
       "      <th>62</th>\n",
       "      <td>21</td>\n",
       "      <td>0.014505</td>\n",
       "    </tr>\n",
       "    <tr>\n",
       "      <th>55</th>\n",
       "      <td>14</td>\n",
       "      <td>0.014334</td>\n",
       "    </tr>\n",
       "    <tr>\n",
       "      <th>6</th>\n",
       "      <td>days_running</td>\n",
       "      <td>0.014210</td>\n",
       "    </tr>\n",
       "    <tr>\n",
       "      <th>58</th>\n",
       "      <td>17</td>\n",
       "      <td>0.013820</td>\n",
       "    </tr>\n",
       "    <tr>\n",
       "      <th>45</th>\n",
       "      <td>4</td>\n",
       "      <td>0.013523</td>\n",
       "    </tr>\n",
       "    <tr>\n",
       "      <th>56</th>\n",
       "      <td>15</td>\n",
       "      <td>0.013477</td>\n",
       "    </tr>\n",
       "    <tr>\n",
       "      <th>60</th>\n",
       "      <td>19</td>\n",
       "      <td>0.013152</td>\n",
       "    </tr>\n",
       "    <tr>\n",
       "      <th>...</th>\n",
       "      <td>...</td>\n",
       "      <td>...</td>\n",
       "    </tr>\n",
       "    <tr>\n",
       "      <th>48</th>\n",
       "      <td>7</td>\n",
       "      <td>0.010434</td>\n",
       "    </tr>\n",
       "    <tr>\n",
       "      <th>63</th>\n",
       "      <td>22</td>\n",
       "      <td>0.010334</td>\n",
       "    </tr>\n",
       "    <tr>\n",
       "      <th>17</th>\n",
       "      <td>comments_count_public_while_scraping</td>\n",
       "      <td>0.009164</td>\n",
       "    </tr>\n",
       "    <tr>\n",
       "      <th>31</th>\n",
       "      <td>launch_day</td>\n",
       "      <td>0.008463</td>\n",
       "    </tr>\n",
       "    <tr>\n",
       "      <th>3</th>\n",
       "      <td>days_duration</td>\n",
       "      <td>0.008015</td>\n",
       "    </tr>\n",
       "    <tr>\n",
       "      <th>53</th>\n",
       "      <td>12</td>\n",
       "      <td>0.007870</td>\n",
       "    </tr>\n",
       "    <tr>\n",
       "      <th>25</th>\n",
       "      <td>deadline_month</td>\n",
       "      <td>0.006650</td>\n",
       "    </tr>\n",
       "    <tr>\n",
       "      <th>26</th>\n",
       "      <td>deadline_day</td>\n",
       "      <td>0.006413</td>\n",
       "    </tr>\n",
       "    <tr>\n",
       "      <th>28</th>\n",
       "      <td>deadline_hour</td>\n",
       "      <td>0.006209</td>\n",
       "    </tr>\n",
       "    <tr>\n",
       "      <th>12</th>\n",
       "      <td>staff_pick</td>\n",
       "      <td>0.005476</td>\n",
       "    </tr>\n",
       "    <tr>\n",
       "      <th>7</th>\n",
       "      <td>db_duration</td>\n",
       "      <td>0.004231</td>\n",
       "    </tr>\n",
       "    <tr>\n",
       "      <th>33</th>\n",
       "      <td>launch_hour</td>\n",
       "      <td>0.004137</td>\n",
       "    </tr>\n",
       "    <tr>\n",
       "      <th>36</th>\n",
       "      <td>video_youtube_count</td>\n",
       "      <td>0.003994</td>\n",
       "    </tr>\n",
       "    <tr>\n",
       "      <th>32</th>\n",
       "      <td>launch_dayofweek</td>\n",
       "      <td>0.003969</td>\n",
       "    </tr>\n",
       "    <tr>\n",
       "      <th>27</th>\n",
       "      <td>deadline_dayofweek</td>\n",
       "      <td>0.003409</td>\n",
       "    </tr>\n",
       "    <tr>\n",
       "      <th>39</th>\n",
       "      <td>other_embeded_count</td>\n",
       "      <td>0.003232</td>\n",
       "    </tr>\n",
       "    <tr>\n",
       "      <th>30</th>\n",
       "      <td>launch_month</td>\n",
       "      <td>0.003102</td>\n",
       "    </tr>\n",
       "    <tr>\n",
       "      <th>29</th>\n",
       "      <td>launch_year</td>\n",
       "      <td>0.003044</td>\n",
       "    </tr>\n",
       "    <tr>\n",
       "      <th>19</th>\n",
       "      <td>updates_likes_sum_while_scraping</td>\n",
       "      <td>0.002801</td>\n",
       "    </tr>\n",
       "    <tr>\n",
       "      <th>35</th>\n",
       "      <td>video_kickstarter_count</td>\n",
       "      <td>0.002302</td>\n",
       "    </tr>\n",
       "    <tr>\n",
       "      <th>15</th>\n",
       "      <td>faq_count_while_scraping</td>\n",
       "      <td>0.002293</td>\n",
       "    </tr>\n",
       "    <tr>\n",
       "      <th>20</th>\n",
       "      <td>updates_likes_mean_while_scraping</td>\n",
       "      <td>0.001920</td>\n",
       "    </tr>\n",
       "    <tr>\n",
       "      <th>16</th>\n",
       "      <td>comments_count_creator_while_scraping</td>\n",
       "      <td>0.001873</td>\n",
       "    </tr>\n",
       "    <tr>\n",
       "      <th>21</th>\n",
       "      <td>updates_likes_min_while_scraping</td>\n",
       "      <td>0.001442</td>\n",
       "    </tr>\n",
       "    <tr>\n",
       "      <th>38</th>\n",
       "      <td>audio_count</td>\n",
       "      <td>0.001419</td>\n",
       "    </tr>\n",
       "    <tr>\n",
       "      <th>22</th>\n",
       "      <td>updates_likes_max_while_scraping</td>\n",
       "      <td>0.001315</td>\n",
       "    </tr>\n",
       "    <tr>\n",
       "      <th>18</th>\n",
       "      <td>updates_count_while_scraping</td>\n",
       "      <td>0.001121</td>\n",
       "    </tr>\n",
       "    <tr>\n",
       "      <th>24</th>\n",
       "      <td>deadline_year</td>\n",
       "      <td>0.001077</td>\n",
       "    </tr>\n",
       "    <tr>\n",
       "      <th>37</th>\n",
       "      <td>video_count</td>\n",
       "      <td>0.000817</td>\n",
       "    </tr>\n",
       "    <tr>\n",
       "      <th>23</th>\n",
       "      <td>updates_likes_median_while_scraping</td>\n",
       "      <td>0.000034</td>\n",
       "    </tr>\n",
       "  </tbody>\n",
       "</table>\n",
       "<p>66 rows × 2 columns</p>\n",
       "</div>"
      ],
      "text/plain": [
       "                                  feature  importance\n",
       "10                     ratio_pledged_goal    0.230152\n",
       "13                               usd_goal    0.040467\n",
       "9                                 pledged    0.031140\n",
       "11                 ratio_running_duration    0.029371\n",
       "50                                      9    0.025234\n",
       "43                                      2    0.025202\n",
       "42                                      1    0.024283\n",
       "47                                      6    0.023803\n",
       "52                                     11    0.023683\n",
       "57                                     16    0.021945\n",
       "0                          average_pledge    0.021526\n",
       "46                                      5    0.020917\n",
       "4                        days_preparation    0.019554\n",
       "59                                     18    0.019078\n",
       "34                            image_count    0.018301\n",
       "44                                      3    0.017714\n",
       "2                       category_position    0.017456\n",
       "51                                     10    0.017278\n",
       "54                                     13    0.015872\n",
       "14                            usd_pledged    0.015610\n",
       "61                                     20    0.014814\n",
       "41                                      0    0.014655\n",
       "1                           backers_count    0.014520\n",
       "62                                     21    0.014505\n",
       "55                                     14    0.014334\n",
       "6                            days_running    0.014210\n",
       "58                                     17    0.013820\n",
       "45                                      4    0.013523\n",
       "56                                     15    0.013477\n",
       "60                                     19    0.013152\n",
       "..                                    ...         ...\n",
       "48                                      7    0.010434\n",
       "63                                     22    0.010334\n",
       "17   comments_count_public_while_scraping    0.009164\n",
       "31                             launch_day    0.008463\n",
       "3                           days_duration    0.008015\n",
       "53                                     12    0.007870\n",
       "25                         deadline_month    0.006650\n",
       "26                           deadline_day    0.006413\n",
       "28                          deadline_hour    0.006209\n",
       "12                             staff_pick    0.005476\n",
       "7                             db_duration    0.004231\n",
       "33                            launch_hour    0.004137\n",
       "36                    video_youtube_count    0.003994\n",
       "32                       launch_dayofweek    0.003969\n",
       "27                     deadline_dayofweek    0.003409\n",
       "39                    other_embeded_count    0.003232\n",
       "30                           launch_month    0.003102\n",
       "29                            launch_year    0.003044\n",
       "19       updates_likes_sum_while_scraping    0.002801\n",
       "35                video_kickstarter_count    0.002302\n",
       "15               faq_count_while_scraping    0.002293\n",
       "20      updates_likes_mean_while_scraping    0.001920\n",
       "16  comments_count_creator_while_scraping    0.001873\n",
       "21       updates_likes_min_while_scraping    0.001442\n",
       "38                            audio_count    0.001419\n",
       "22       updates_likes_max_while_scraping    0.001315\n",
       "18           updates_count_while_scraping    0.001121\n",
       "24                          deadline_year    0.001077\n",
       "37                            video_count    0.000817\n",
       "23    updates_likes_median_while_scraping    0.000034\n",
       "\n",
       "[66 rows x 2 columns]"
      ]
     },
     "execution_count": 78,
     "metadata": {},
     "output_type": "execute_result"
    }
   ],
   "source": [
    "importances = pd.DataFrame()\n",
    "for i, name, importance in zip(range(len(features.columns)), features.columns, cls.feature_importances_):\n",
    "    importances.loc[i, 'feature'] = name\n",
    "    importances.loc[i, 'importance'] = importance\n",
    "    \n",
    "importances.sort_values(by='importance', ascending=False)"
   ]
  },
  {
   "cell_type": "code",
   "execution_count": null,
   "metadata": {
    "collapsed": true
   },
   "outputs": [],
   "source": []
  },
  {
   "cell_type": "markdown",
   "metadata": {},
   "source": [
    "# adding LDA"
   ]
  },
  {
   "cell_type": "code",
   "execution_count": 96,
   "metadata": {},
   "outputs": [
    {
     "data": {
      "text/plain": [
       "Index(['0', '1', '2', '3', '4', '5', '6', '7', '8', '9', '10', '11', '12',\n",
       "       '13', '14', '15', '16', '17', '18', '19', '20', '21', '22', '23', '24',\n",
       "       'ratio_running_duration'],\n",
       "      dtype='object')"
      ]
     },
     "execution_count": 96,
     "metadata": {},
     "output_type": "execute_result"
    }
   ],
   "source": [
    "text = pd.read_csv('data/split/nlp/train_lda25.csv', index_col=0, encoding='latin1')\n",
    "text2 = pd.read_csv('data/split/nlp/test_lda25.csv', index_col=0, encoding='latin1')\n",
    "\n",
    "text.append(text2, ignore_index=True)\n",
    "\n",
    "text = text[text['ratio_running_duration'] < 25]\n",
    "\n",
    "text.iloc[:,:].columns"
   ]
  },
  {
   "cell_type": "code",
   "execution_count": 97,
   "metadata": {
    "collapsed": true
   },
   "outputs": [],
   "source": [
    "features = pd.concat([features, text.iloc[:,:-1]], axis=1)"
   ]
  },
  {
   "cell_type": "code",
   "execution_count": 98,
   "metadata": {},
   "outputs": [
    {
     "data": {
      "text/plain": [
       "Index(['0', '1', '2', '3', '4', '5', '6', '7', '8', '9', '10', '11', '12',\n",
       "       '13', '14', '15', '16', '17', '18', '19', '20', '21', '22', '23', '24',\n",
       "       'ratio_running_duration'],\n",
       "      dtype='object')"
      ]
     },
     "execution_count": 98,
     "metadata": {},
     "output_type": "execute_result"
    }
   ],
   "source": [
    "text = pd.read_csv('data/split/nlp/cv_lda25.csv', index_col=0, encoding='latin1')\n",
    "\n",
    "text = text[text['ratio_running_duration'] < 25]\n",
    "\n",
    "text.iloc[:,:].columns"
   ]
  },
  {
   "cell_type": "code",
   "execution_count": 99,
   "metadata": {
    "collapsed": true
   },
   "outputs": [],
   "source": [
    "featuresCV = pd.concat([featuresCV, text.iloc[:,:-1]], axis=1)"
   ]
  },
  {
   "cell_type": "code",
   "execution_count": 100,
   "metadata": {},
   "outputs": [
    {
     "data": {
      "text/plain": [
       "(4713, 66)"
      ]
     },
     "execution_count": 100,
     "metadata": {},
     "output_type": "execute_result"
    }
   ],
   "source": [
    "features.shape"
   ]
  },
  {
   "cell_type": "code",
   "execution_count": 101,
   "metadata": {},
   "outputs": [
    {
     "data": {
      "text/plain": [
       "(1572, 66)"
      ]
     },
     "execution_count": 101,
     "metadata": {},
     "output_type": "execute_result"
    }
   ],
   "source": [
    "featuresCV.shape"
   ]
  },
  {
   "cell_type": "markdown",
   "metadata": {
    "collapsed": true
   },
   "source": [
    "from sklearn.utils import class_weight\n",
    "labels_weights = class_weight.compute_sample_weight('balanced', labels)"
   ]
  },
  {
   "cell_type": "code",
   "execution_count": 102,
   "metadata": {},
   "outputs": [
    {
     "data": {
      "text/plain": [
       "GradientBoostingClassifier(criterion='friedman_mse', init=None,\n",
       "              learning_rate=0.1, loss='deviance', max_depth=3,\n",
       "              max_features=None, max_leaf_nodes=None,\n",
       "              min_impurity_decrease=0.0, min_impurity_split=None,\n",
       "              min_samples_leaf=1, min_samples_split=2,\n",
       "              min_weight_fraction_leaf=0.0, n_estimators=100,\n",
       "              presort='auto', random_state=64, subsample=1.0, verbose=0,\n",
       "              warm_start=False)"
      ]
     },
     "execution_count": 102,
     "metadata": {},
     "output_type": "execute_result"
    }
   ],
   "source": [
    "from sklearn.ensemble import GradientBoostingClassifier\n",
    "cls = GradientBoostingClassifier(random_state=64)\n",
    "cls.fit(features, labels)"
   ]
  },
  {
   "cell_type": "code",
   "execution_count": 103,
   "metadata": {},
   "outputs": [
    {
     "name": "stdout",
     "output_type": "stream",
     "text": [
      "accuracy:  0.858052196053\n",
      "\n",
      "             precision    recall  f1-score   support\n",
      "\n",
      "          1       0.90      0.98      0.94      1962\n",
      "          2       0.80      0.65      0.71       630\n",
      "          3       0.77      0.79      0.78      1060\n",
      "          4       0.89      0.82      0.86      1061\n",
      "\n",
      "avg / total       0.86      0.86      0.85      4713\n",
      "\n",
      "macro precision:  0.840208767013\n",
      "micro precision:  0.858052196053\n",
      "\n",
      "micro recall:  0.858052196053\n",
      "macro recall:  0.809830523225\n",
      "\n",
      "micro f1:  0.858052196053\n",
      "macro f1:  0.822239724936\n"
     ]
    },
    {
     "data": {
      "image/png": "[encoded data removed]",
      "text/plain": [
       "<matplotlib.figure.Figure at 0x29b16789c50>"
      ]
     },
     "metadata": {},
     "output_type": "display_data"
    }
   ],
   "source": [
    "print_metrics(cls, features, labels)"
   ]
  },
  {
   "cell_type": "code",
   "execution_count": 104,
   "metadata": {},
   "outputs": [
    {
     "name": "stdout",
     "output_type": "stream",
     "text": [
      "accuracy:  0.740458015267\n",
      "\n",
      "             precision    recall  f1-score   support\n",
      "\n",
      "          1       0.84      0.95      0.89       659\n",
      "          2       0.48      0.38      0.43       209\n",
      "          3       0.58      0.57      0.58       336\n",
      "          4       0.80      0.72      0.76       368\n",
      "\n",
      "avg / total       0.73      0.74      0.73      1572\n",
      "\n",
      "macro precision:  0.675572224152\n",
      "micro precision:  0.740458015267\n",
      "\n",
      "micro recall:  0.740458015267\n",
      "macro recall:  0.656373791419\n",
      "\n",
      "micro f1:  0.740458015267\n",
      "macro f1:  0.663333650994\n"
     ]
    },
    {
     "data": {
      "image/png": "[encoded data removed]",
      "text/plain": [
       "<matplotlib.figure.Figure at 0x29b16d35b38>"
      ]
     },
     "metadata": {},
     "output_type": "display_data"
    }
   ],
   "source": [
    "print_metrics(cls, featuresCV, labelsCV)"
   ]
  },
  {
   "cell_type": "code",
   "execution_count": 105,
   "metadata": {},
   "outputs": [
    {
     "data": {
      "text/html": [
       "<div>\n",
       "<style>\n",
       "    .dataframe thead tr:only-child th {\n",
       "        text-align: right;\n",
       "    }\n",
       "\n",
       "    .dataframe thead th {\n",
       "        text-align: left;\n",
       "    }\n",
       "\n",
       "    .dataframe tbody tr th {\n",
       "        vertical-align: top;\n",
       "    }\n",
       "</style>\n",
       "<table border=\"1\" class=\"dataframe\">\n",
       "  <thead>\n",
       "    <tr style=\"text-align: right;\">\n",
       "      <th></th>\n",
       "      <th>feature</th>\n",
       "      <th>importance</th>\n",
       "    </tr>\n",
       "  </thead>\n",
       "  <tbody>\n",
       "    <tr>\n",
       "      <th>10</th>\n",
       "      <td>ratio_pledged_goal</td>\n",
       "      <td>0.214611</td>\n",
       "    </tr>\n",
       "    <tr>\n",
       "      <th>13</th>\n",
       "      <td>usd_goal</td>\n",
       "      <td>0.037574</td>\n",
       "    </tr>\n",
       "    <tr>\n",
       "      <th>42</th>\n",
       "      <td>1</td>\n",
       "      <td>0.035786</td>\n",
       "    </tr>\n",
       "    <tr>\n",
       "      <th>11</th>\n",
       "      <td>ratio_running_duration</td>\n",
       "      <td>0.028478</td>\n",
       "    </tr>\n",
       "    <tr>\n",
       "      <th>0</th>\n",
       "      <td>average_pledge</td>\n",
       "      <td>0.027398</td>\n",
       "    </tr>\n",
       "    <tr>\n",
       "      <th>55</th>\n",
       "      <td>14</td>\n",
       "      <td>0.026260</td>\n",
       "    </tr>\n",
       "    <tr>\n",
       "      <th>51</th>\n",
       "      <td>10</td>\n",
       "      <td>0.024977</td>\n",
       "    </tr>\n",
       "    <tr>\n",
       "      <th>62</th>\n",
       "      <td>21</td>\n",
       "      <td>0.024255</td>\n",
       "    </tr>\n",
       "    <tr>\n",
       "      <th>50</th>\n",
       "      <td>9</td>\n",
       "      <td>0.022190</td>\n",
       "    </tr>\n",
       "    <tr>\n",
       "      <th>49</th>\n",
       "      <td>8</td>\n",
       "      <td>0.021532</td>\n",
       "    </tr>\n",
       "    <tr>\n",
       "      <th>45</th>\n",
       "      <td>4</td>\n",
       "      <td>0.021356</td>\n",
       "    </tr>\n",
       "    <tr>\n",
       "      <th>1</th>\n",
       "      <td>backers_count</td>\n",
       "      <td>0.021281</td>\n",
       "    </tr>\n",
       "    <tr>\n",
       "      <th>60</th>\n",
       "      <td>19</td>\n",
       "      <td>0.021223</td>\n",
       "    </tr>\n",
       "    <tr>\n",
       "      <th>9</th>\n",
       "      <td>pledged</td>\n",
       "      <td>0.020800</td>\n",
       "    </tr>\n",
       "    <tr>\n",
       "      <th>61</th>\n",
       "      <td>20</td>\n",
       "      <td>0.020711</td>\n",
       "    </tr>\n",
       "    <tr>\n",
       "      <th>43</th>\n",
       "      <td>2</td>\n",
       "      <td>0.020225</td>\n",
       "    </tr>\n",
       "    <tr>\n",
       "      <th>44</th>\n",
       "      <td>3</td>\n",
       "      <td>0.019072</td>\n",
       "    </tr>\n",
       "    <tr>\n",
       "      <th>58</th>\n",
       "      <td>17</td>\n",
       "      <td>0.018923</td>\n",
       "    </tr>\n",
       "    <tr>\n",
       "      <th>47</th>\n",
       "      <td>6</td>\n",
       "      <td>0.018093</td>\n",
       "    </tr>\n",
       "    <tr>\n",
       "      <th>4</th>\n",
       "      <td>days_preparation</td>\n",
       "      <td>0.017497</td>\n",
       "    </tr>\n",
       "    <tr>\n",
       "      <th>59</th>\n",
       "      <td>18</td>\n",
       "      <td>0.017411</td>\n",
       "    </tr>\n",
       "    <tr>\n",
       "      <th>53</th>\n",
       "      <td>12</td>\n",
       "      <td>0.017272</td>\n",
       "    </tr>\n",
       "    <tr>\n",
       "      <th>6</th>\n",
       "      <td>days_running</td>\n",
       "      <td>0.016174</td>\n",
       "    </tr>\n",
       "    <tr>\n",
       "      <th>56</th>\n",
       "      <td>15</td>\n",
       "      <td>0.016047</td>\n",
       "    </tr>\n",
       "    <tr>\n",
       "      <th>2</th>\n",
       "      <td>category_position</td>\n",
       "      <td>0.014543</td>\n",
       "    </tr>\n",
       "    <tr>\n",
       "      <th>41</th>\n",
       "      <td>0</td>\n",
       "      <td>0.014036</td>\n",
       "    </tr>\n",
       "    <tr>\n",
       "      <th>64</th>\n",
       "      <td>23</td>\n",
       "      <td>0.014035</td>\n",
       "    </tr>\n",
       "    <tr>\n",
       "      <th>52</th>\n",
       "      <td>11</td>\n",
       "      <td>0.013311</td>\n",
       "    </tr>\n",
       "    <tr>\n",
       "      <th>54</th>\n",
       "      <td>13</td>\n",
       "      <td>0.013218</td>\n",
       "    </tr>\n",
       "    <tr>\n",
       "      <th>8</th>\n",
       "      <td>goal</td>\n",
       "      <td>0.012611</td>\n",
       "    </tr>\n",
       "    <tr>\n",
       "      <th>...</th>\n",
       "      <td>...</td>\n",
       "      <td>...</td>\n",
       "    </tr>\n",
       "    <tr>\n",
       "      <th>26</th>\n",
       "      <td>deadline_day</td>\n",
       "      <td>0.010252</td>\n",
       "    </tr>\n",
       "    <tr>\n",
       "      <th>48</th>\n",
       "      <td>7</td>\n",
       "      <td>0.009780</td>\n",
       "    </tr>\n",
       "    <tr>\n",
       "      <th>32</th>\n",
       "      <td>launch_dayofweek</td>\n",
       "      <td>0.008854</td>\n",
       "    </tr>\n",
       "    <tr>\n",
       "      <th>46</th>\n",
       "      <td>5</td>\n",
       "      <td>0.008837</td>\n",
       "    </tr>\n",
       "    <tr>\n",
       "      <th>31</th>\n",
       "      <td>launch_day</td>\n",
       "      <td>0.008825</td>\n",
       "    </tr>\n",
       "    <tr>\n",
       "      <th>63</th>\n",
       "      <td>22</td>\n",
       "      <td>0.008752</td>\n",
       "    </tr>\n",
       "    <tr>\n",
       "      <th>33</th>\n",
       "      <td>launch_hour</td>\n",
       "      <td>0.006387</td>\n",
       "    </tr>\n",
       "    <tr>\n",
       "      <th>57</th>\n",
       "      <td>16</td>\n",
       "      <td>0.005798</td>\n",
       "    </tr>\n",
       "    <tr>\n",
       "      <th>27</th>\n",
       "      <td>deadline_dayofweek</td>\n",
       "      <td>0.005603</td>\n",
       "    </tr>\n",
       "    <tr>\n",
       "      <th>17</th>\n",
       "      <td>comments_count_public_while_scraping</td>\n",
       "      <td>0.005472</td>\n",
       "    </tr>\n",
       "    <tr>\n",
       "      <th>12</th>\n",
       "      <td>staff_pick</td>\n",
       "      <td>0.005169</td>\n",
       "    </tr>\n",
       "    <tr>\n",
       "      <th>3</th>\n",
       "      <td>days_duration</td>\n",
       "      <td>0.005153</td>\n",
       "    </tr>\n",
       "    <tr>\n",
       "      <th>39</th>\n",
       "      <td>other_embeded_count</td>\n",
       "      <td>0.004573</td>\n",
       "    </tr>\n",
       "    <tr>\n",
       "      <th>22</th>\n",
       "      <td>updates_likes_max_while_scraping</td>\n",
       "      <td>0.004140</td>\n",
       "    </tr>\n",
       "    <tr>\n",
       "      <th>19</th>\n",
       "      <td>updates_likes_sum_while_scraping</td>\n",
       "      <td>0.003850</td>\n",
       "    </tr>\n",
       "    <tr>\n",
       "      <th>25</th>\n",
       "      <td>deadline_month</td>\n",
       "      <td>0.003628</td>\n",
       "    </tr>\n",
       "    <tr>\n",
       "      <th>29</th>\n",
       "      <td>launch_year</td>\n",
       "      <td>0.002804</td>\n",
       "    </tr>\n",
       "    <tr>\n",
       "      <th>36</th>\n",
       "      <td>video_youtube_count</td>\n",
       "      <td>0.002264</td>\n",
       "    </tr>\n",
       "    <tr>\n",
       "      <th>30</th>\n",
       "      <td>launch_month</td>\n",
       "      <td>0.002154</td>\n",
       "    </tr>\n",
       "    <tr>\n",
       "      <th>15</th>\n",
       "      <td>faq_count_while_scraping</td>\n",
       "      <td>0.002000</td>\n",
       "    </tr>\n",
       "    <tr>\n",
       "      <th>16</th>\n",
       "      <td>comments_count_creator_while_scraping</td>\n",
       "      <td>0.001348</td>\n",
       "    </tr>\n",
       "    <tr>\n",
       "      <th>18</th>\n",
       "      <td>updates_count_while_scraping</td>\n",
       "      <td>0.001037</td>\n",
       "    </tr>\n",
       "    <tr>\n",
       "      <th>24</th>\n",
       "      <td>deadline_year</td>\n",
       "      <td>0.000859</td>\n",
       "    </tr>\n",
       "    <tr>\n",
       "      <th>7</th>\n",
       "      <td>db_duration</td>\n",
       "      <td>0.000847</td>\n",
       "    </tr>\n",
       "    <tr>\n",
       "      <th>37</th>\n",
       "      <td>video_count</td>\n",
       "      <td>0.000564</td>\n",
       "    </tr>\n",
       "    <tr>\n",
       "      <th>38</th>\n",
       "      <td>audio_count</td>\n",
       "      <td>0.000394</td>\n",
       "    </tr>\n",
       "    <tr>\n",
       "      <th>20</th>\n",
       "      <td>updates_likes_mean_while_scraping</td>\n",
       "      <td>0.000265</td>\n",
       "    </tr>\n",
       "    <tr>\n",
       "      <th>21</th>\n",
       "      <td>updates_likes_min_while_scraping</td>\n",
       "      <td>0.000035</td>\n",
       "    </tr>\n",
       "    <tr>\n",
       "      <th>35</th>\n",
       "      <td>video_kickstarter_count</td>\n",
       "      <td>0.000000</td>\n",
       "    </tr>\n",
       "    <tr>\n",
       "      <th>23</th>\n",
       "      <td>updates_likes_median_while_scraping</td>\n",
       "      <td>0.000000</td>\n",
       "    </tr>\n",
       "  </tbody>\n",
       "</table>\n",
       "<p>66 rows × 2 columns</p>\n",
       "</div>"
      ],
      "text/plain": [
       "                                  feature  importance\n",
       "10                     ratio_pledged_goal    0.214611\n",
       "13                               usd_goal    0.037574\n",
       "42                                      1    0.035786\n",
       "11                 ratio_running_duration    0.028478\n",
       "0                          average_pledge    0.027398\n",
       "55                                     14    0.026260\n",
       "51                                     10    0.024977\n",
       "62                                     21    0.024255\n",
       "50                                      9    0.022190\n",
       "49                                      8    0.021532\n",
       "45                                      4    0.021356\n",
       "1                           backers_count    0.021281\n",
       "60                                     19    0.021223\n",
       "9                                 pledged    0.020800\n",
       "61                                     20    0.020711\n",
       "43                                      2    0.020225\n",
       "44                                      3    0.019072\n",
       "58                                     17    0.018923\n",
       "47                                      6    0.018093\n",
       "4                        days_preparation    0.017497\n",
       "59                                     18    0.017411\n",
       "53                                     12    0.017272\n",
       "6                            days_running    0.016174\n",
       "56                                     15    0.016047\n",
       "2                       category_position    0.014543\n",
       "41                                      0    0.014036\n",
       "64                                     23    0.014035\n",
       "52                                     11    0.013311\n",
       "54                                     13    0.013218\n",
       "8                                    goal    0.012611\n",
       "..                                    ...         ...\n",
       "26                           deadline_day    0.010252\n",
       "48                                      7    0.009780\n",
       "32                       launch_dayofweek    0.008854\n",
       "46                                      5    0.008837\n",
       "31                             launch_day    0.008825\n",
       "63                                     22    0.008752\n",
       "33                            launch_hour    0.006387\n",
       "57                                     16    0.005798\n",
       "27                     deadline_dayofweek    0.005603\n",
       "17   comments_count_public_while_scraping    0.005472\n",
       "12                             staff_pick    0.005169\n",
       "3                           days_duration    0.005153\n",
       "39                    other_embeded_count    0.004573\n",
       "22       updates_likes_max_while_scraping    0.004140\n",
       "19       updates_likes_sum_while_scraping    0.003850\n",
       "25                         deadline_month    0.003628\n",
       "29                            launch_year    0.002804\n",
       "36                    video_youtube_count    0.002264\n",
       "30                           launch_month    0.002154\n",
       "15               faq_count_while_scraping    0.002000\n",
       "16  comments_count_creator_while_scraping    0.001348\n",
       "18           updates_count_while_scraping    0.001037\n",
       "24                          deadline_year    0.000859\n",
       "7                             db_duration    0.000847\n",
       "37                            video_count    0.000564\n",
       "38                            audio_count    0.000394\n",
       "20      updates_likes_mean_while_scraping    0.000265\n",
       "21       updates_likes_min_while_scraping    0.000035\n",
       "35                video_kickstarter_count    0.000000\n",
       "23    updates_likes_median_while_scraping    0.000000\n",
       "\n",
       "[66 rows x 2 columns]"
      ]
     },
     "execution_count": 105,
     "metadata": {},
     "output_type": "execute_result"
    }
   ],
   "source": [
    "importances = pd.DataFrame()\n",
    "for i, name, importance in zip(range(len(features.columns)), features.columns, cls.feature_importances_):\n",
    "    importances.loc[i, 'feature'] = name\n",
    "    importances.loc[i, 'importance'] = importance\n",
    "    \n",
    "importances.sort_values(by='importance', ascending=False)"
   ]
  },
  {
   "cell_type": "code",
   "execution_count": null,
   "metadata": {
    "collapsed": true
   },
   "outputs": [],
   "source": []
  },
  {
   "cell_type": "code",
   "execution_count": null,
   "metadata": {
    "collapsed": true
   },
   "outputs": [],
   "source": []
  }
 ],
 "metadata": {
  "kernelspec": {
   "display_name": "Python 3",
   "language": "python",
   "name": "python3"
  },
  "language_info": {
   "codemirror_mode": {
    "name": "ipython",
    "version": 3
   },
   "file_extension": ".py",
   "mimetype": "text/x-python",
   "name": "python",
   "nbconvert_exporter": "python",
   "pygments_lexer": "ipython3",
   "version": "3.6.1"
  }
 },
 "nbformat": 4,
 "nbformat_minor": 2
}
