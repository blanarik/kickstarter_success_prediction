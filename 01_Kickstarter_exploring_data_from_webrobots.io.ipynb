{
 "cells": [
  {
   "cell_type": "markdown",
   "metadata": {},
   "source": [
    "# Exploring data from https://webrobots.io/kickstarter-datasets/\n",
    "\n",
    "We downloaded files in csv format from webrobots. All files since '2015-11-01' till now  ('2017-10-15') have similar structure (minor differences can be found in column indexes - newer files have a bit more columns). Older files are available only in json format and are not supposed to be very helpful for our approach as they are scraped in large time intervals. \n",
    "\n",
    "Our first goal is to find how project features (e.g. pledged amount, backers count) evolve in time. Therefore we need data that are collected at least about every 30 days, because 30 days is the basic duration of project proposed by kickstarter (60 days is maximum).\n",
    "\n",
    "Webrobots store their monthly scraped data in zip files. Each zip file contains about 13 to 48 csv files.\n",
    "\n",
    "In this notebook we will explore what kind of data are stored in csv files (no plots or analysis yet), concretely in files scraped on  2015-11-01."
   ]
  },
  {
   "cell_type": "code",
   "execution_count": 1,
   "metadata": {
    "collapsed": true
   },
   "outputs": [],
   "source": [
    "import pandas as pd\n",
    "import os\n",
    "import ast"
   ]
  },
  {
   "cell_type": "code",
   "execution_count": 2,
   "metadata": {},
   "outputs": [
    {
     "data": {
      "text/html": [
       "<div>\n",
       "<style>\n",
       "    .dataframe thead tr:only-child th {\n",
       "        text-align: right;\n",
       "    }\n",
       "\n",
       "    .dataframe thead th {\n",
       "        text-align: left;\n",
       "    }\n",
       "\n",
       "    .dataframe tbody tr th {\n",
       "        vertical-align: top;\n",
       "    }\n",
       "</style>\n",
       "<table border=\"1\" class=\"dataframe\">\n",
       "  <thead>\n",
       "    <tr style=\"text-align: right;\">\n",
       "      <th></th>\n",
       "      <th>id</th>\n",
       "      <th>name</th>\n",
       "      <th>blurb</th>\n",
       "      <th>goal</th>\n",
       "      <th>pledged</th>\n",
       "      <th>state</th>\n",
       "      <th>slug</th>\n",
       "      <th>disable_communication</th>\n",
       "      <th>country</th>\n",
       "      <th>currency</th>\n",
       "      <th>...</th>\n",
       "      <th>static_usd_rate</th>\n",
       "      <th>usd_pledged</th>\n",
       "      <th>photo</th>\n",
       "      <th>creator</th>\n",
       "      <th>location</th>\n",
       "      <th>category</th>\n",
       "      <th>profile</th>\n",
       "      <th>spotlight</th>\n",
       "      <th>urls</th>\n",
       "      <th>source_url</th>\n",
       "    </tr>\n",
       "  </thead>\n",
       "  <tbody>\n",
       "    <tr>\n",
       "      <th>0</th>\n",
       "      <td>1838469271</td>\n",
       "      <td>MechRunner</td>\n",
       "      <td>An endless arcade action game that casts you a...</td>\n",
       "      <td>25000.0</td>\n",
       "      <td>28434.00</td>\n",
       "      <td>successful</td>\n",
       "      <td>mechrunner</td>\n",
       "      <td>False</td>\n",
       "      <td>US</td>\n",
       "      <td>USD</td>\n",
       "      <td>...</td>\n",
       "      <td>1.000000</td>\n",
       "      <td>2.843400e+04</td>\n",
       "      <td>{\"small\":\"https://ksr-ugc.imgix.net/projects/8...</td>\n",
       "      <td>{\"urls\":{\"web\":{\"user\":\"https://www.kickstarte...</td>\n",
       "      <td>{\"country\":\"US\",\"urls\":{\"web\":{\"discover\":\"htt...</td>\n",
       "      <td>{\"urls\":{\"web\":{\"discover\":\"http://www.kicksta...</td>\n",
       "      <td>{\"background_image_opacity\":0.8,\"link_text_col...</td>\n",
       "      <td>True</td>\n",
       "      <td>{\"web\":{\"project\":\"https://www.kickstarter.com...</td>\n",
       "      <td>https://www.kickstarter.com/discover/categorie...</td>\n",
       "    </tr>\n",
       "    <tr>\n",
       "      <th>1</th>\n",
       "      <td>496736434</td>\n",
       "      <td>Kingdom Death : Monster</td>\n",
       "      <td>Cooperative board game set in a nightmare-horr...</td>\n",
       "      <td>35000.0</td>\n",
       "      <td>2049721.07</td>\n",
       "      <td>successful</td>\n",
       "      <td>kingdom-death-monster</td>\n",
       "      <td>False</td>\n",
       "      <td>US</td>\n",
       "      <td>USD</td>\n",
       "      <td>...</td>\n",
       "      <td>1.000000</td>\n",
       "      <td>2.049721e+06</td>\n",
       "      <td>{\"small\":\"https://ksr-ugc.imgix.net/projects/2...</td>\n",
       "      <td>{\"urls\":{\"web\":{\"user\":\"https://www.kickstarte...</td>\n",
       "      <td>{\"country\":\"US\",\"urls\":{\"web\":{\"discover\":\"htt...</td>\n",
       "      <td>{\"urls\":{\"web\":{\"discover\":\"http://www.kicksta...</td>\n",
       "      <td>{\"background_image_opacity\":0.8,\"link_text_col...</td>\n",
       "      <td>True</td>\n",
       "      <td>{\"web\":{\"project\":\"https://www.kickstarter.com...</td>\n",
       "      <td>https://www.kickstarter.com/discover/categorie...</td>\n",
       "    </tr>\n",
       "    <tr>\n",
       "      <th>2</th>\n",
       "      <td>1757011463</td>\n",
       "      <td>The X-Cube</td>\n",
       "      <td>The neXt generation, shape-shifting, 3D logic ...</td>\n",
       "      <td>30000.0</td>\n",
       "      <td>53854.73</td>\n",
       "      <td>successful</td>\n",
       "      <td>the-x-cube</td>\n",
       "      <td>False</td>\n",
       "      <td>US</td>\n",
       "      <td>USD</td>\n",
       "      <td>...</td>\n",
       "      <td>1.000000</td>\n",
       "      <td>5.385473e+04</td>\n",
       "      <td>{\"small\":\"https://ksr-ugc.imgix.net/projects/5...</td>\n",
       "      <td>{\"urls\":{\"web\":{\"user\":\"https://www.kickstarte...</td>\n",
       "      <td>{\"country\":\"US\",\"urls\":{\"web\":{\"discover\":\"htt...</td>\n",
       "      <td>{\"urls\":{\"web\":{\"discover\":\"http://www.kicksta...</td>\n",
       "      <td>{\"background_image_opacity\":0.8,\"link_text_col...</td>\n",
       "      <td>True</td>\n",
       "      <td>{\"web\":{\"project\":\"https://www.kickstarter.com...</td>\n",
       "      <td>https://www.kickstarter.com/discover/categorie...</td>\n",
       "    </tr>\n",
       "    <tr>\n",
       "      <th>3</th>\n",
       "      <td>1453716748</td>\n",
       "      <td>Thunderbeam! for the iPad</td>\n",
       "      <td>Thunderbeam is a retro-futuristic adventure ga...</td>\n",
       "      <td>20000.0</td>\n",
       "      <td>24221.78</td>\n",
       "      <td>successful</td>\n",
       "      <td>thunderbeam-for-the-ipad</td>\n",
       "      <td>False</td>\n",
       "      <td>US</td>\n",
       "      <td>USD</td>\n",
       "      <td>...</td>\n",
       "      <td>1.000000</td>\n",
       "      <td>2.422178e+04</td>\n",
       "      <td>{\"small\":\"https://ksr-ugc.imgix.net/projects/3...</td>\n",
       "      <td>{\"urls\":{\"web\":{\"user\":\"https://www.kickstarte...</td>\n",
       "      <td>{\"country\":\"US\",\"urls\":{\"web\":{\"discover\":\"htt...</td>\n",
       "      <td>{\"urls\":{\"web\":{\"discover\":\"http://www.kicksta...</td>\n",
       "      <td>{\"background_image_opacity\":0.8,\"link_text_col...</td>\n",
       "      <td>True</td>\n",
       "      <td>{\"web\":{\"project\":\"https://www.kickstarter.com...</td>\n",
       "      <td>https://www.kickstarter.com/discover/categorie...</td>\n",
       "    </tr>\n",
       "    <tr>\n",
       "      <th>4</th>\n",
       "      <td>1700479977</td>\n",
       "      <td>Super World Karts - Indie Kart AllStars! - PC ...</td>\n",
       "      <td>SNES style retro mode 7 kart racer fun for 1-4...</td>\n",
       "      <td>16000.0</td>\n",
       "      <td>17816.35</td>\n",
       "      <td>successful</td>\n",
       "      <td>super-world-karts-indie-kart-racer</td>\n",
       "      <td>False</td>\n",
       "      <td>AU</td>\n",
       "      <td>AUD</td>\n",
       "      <td>...</td>\n",
       "      <td>0.928942</td>\n",
       "      <td>1.655036e+04</td>\n",
       "      <td>{\"small\":\"https://ksr-ugc.imgix.net/projects/1...</td>\n",
       "      <td>{\"urls\":{\"web\":{\"user\":\"https://www.kickstarte...</td>\n",
       "      <td>{\"country\":\"AU\",\"urls\":{\"web\":{\"discover\":\"htt...</td>\n",
       "      <td>{\"urls\":{\"web\":{\"discover\":\"http://www.kicksta...</td>\n",
       "      <td>{\"background_image_opacity\":1,\"link_text_color...</td>\n",
       "      <td>True</td>\n",
       "      <td>{\"web\":{\"project\":\"https://www.kickstarter.com...</td>\n",
       "      <td>https://www.kickstarter.com/discover/categorie...</td>\n",
       "    </tr>\n",
       "  </tbody>\n",
       "</table>\n",
       "<p>5 rows × 27 columns</p>\n",
       "</div>"
      ],
      "text/plain": [
       "           id                                               name  \\\n",
       "0  1838469271                                         MechRunner   \n",
       "1   496736434                            Kingdom Death : Monster   \n",
       "2  1757011463                                         The X-Cube   \n",
       "3  1453716748                          Thunderbeam! for the iPad   \n",
       "4  1700479977  Super World Karts - Indie Kart AllStars! - PC ...   \n",
       "\n",
       "                                               blurb     goal     pledged  \\\n",
       "0  An endless arcade action game that casts you a...  25000.0    28434.00   \n",
       "1  Cooperative board game set in a nightmare-horr...  35000.0  2049721.07   \n",
       "2  The neXt generation, shape-shifting, 3D logic ...  30000.0    53854.73   \n",
       "3  Thunderbeam is a retro-futuristic adventure ga...  20000.0    24221.78   \n",
       "4  SNES style retro mode 7 kart racer fun for 1-4...  16000.0    17816.35   \n",
       "\n",
       "        state                                slug  disable_communication  \\\n",
       "0  successful                          mechrunner                  False   \n",
       "1  successful               kingdom-death-monster                  False   \n",
       "2  successful                          the-x-cube                  False   \n",
       "3  successful            thunderbeam-for-the-ipad                  False   \n",
       "4  successful  super-world-karts-indie-kart-racer                  False   \n",
       "\n",
       "  country currency                        ...                          \\\n",
       "0      US      USD                        ...                           \n",
       "1      US      USD                        ...                           \n",
       "2      US      USD                        ...                           \n",
       "3      US      USD                        ...                           \n",
       "4      AU      AUD                        ...                           \n",
       "\n",
       "  static_usd_rate   usd_pledged  \\\n",
       "0        1.000000  2.843400e+04   \n",
       "1        1.000000  2.049721e+06   \n",
       "2        1.000000  5.385473e+04   \n",
       "3        1.000000  2.422178e+04   \n",
       "4        0.928942  1.655036e+04   \n",
       "\n",
       "                                               photo  \\\n",
       "0  {\"small\":\"https://ksr-ugc.imgix.net/projects/8...   \n",
       "1  {\"small\":\"https://ksr-ugc.imgix.net/projects/2...   \n",
       "2  {\"small\":\"https://ksr-ugc.imgix.net/projects/5...   \n",
       "3  {\"small\":\"https://ksr-ugc.imgix.net/projects/3...   \n",
       "4  {\"small\":\"https://ksr-ugc.imgix.net/projects/1...   \n",
       "\n",
       "                                             creator  \\\n",
       "0  {\"urls\":{\"web\":{\"user\":\"https://www.kickstarte...   \n",
       "1  {\"urls\":{\"web\":{\"user\":\"https://www.kickstarte...   \n",
       "2  {\"urls\":{\"web\":{\"user\":\"https://www.kickstarte...   \n",
       "3  {\"urls\":{\"web\":{\"user\":\"https://www.kickstarte...   \n",
       "4  {\"urls\":{\"web\":{\"user\":\"https://www.kickstarte...   \n",
       "\n",
       "                                            location  \\\n",
       "0  {\"country\":\"US\",\"urls\":{\"web\":{\"discover\":\"htt...   \n",
       "1  {\"country\":\"US\",\"urls\":{\"web\":{\"discover\":\"htt...   \n",
       "2  {\"country\":\"US\",\"urls\":{\"web\":{\"discover\":\"htt...   \n",
       "3  {\"country\":\"US\",\"urls\":{\"web\":{\"discover\":\"htt...   \n",
       "4  {\"country\":\"AU\",\"urls\":{\"web\":{\"discover\":\"htt...   \n",
       "\n",
       "                                            category  \\\n",
       "0  {\"urls\":{\"web\":{\"discover\":\"http://www.kicksta...   \n",
       "1  {\"urls\":{\"web\":{\"discover\":\"http://www.kicksta...   \n",
       "2  {\"urls\":{\"web\":{\"discover\":\"http://www.kicksta...   \n",
       "3  {\"urls\":{\"web\":{\"discover\":\"http://www.kicksta...   \n",
       "4  {\"urls\":{\"web\":{\"discover\":\"http://www.kicksta...   \n",
       "\n",
       "                                             profile  spotlight  \\\n",
       "0  {\"background_image_opacity\":0.8,\"link_text_col...       True   \n",
       "1  {\"background_image_opacity\":0.8,\"link_text_col...       True   \n",
       "2  {\"background_image_opacity\":0.8,\"link_text_col...       True   \n",
       "3  {\"background_image_opacity\":0.8,\"link_text_col...       True   \n",
       "4  {\"background_image_opacity\":1,\"link_text_color...       True   \n",
       "\n",
       "                                                urls  \\\n",
       "0  {\"web\":{\"project\":\"https://www.kickstarter.com...   \n",
       "1  {\"web\":{\"project\":\"https://www.kickstarter.com...   \n",
       "2  {\"web\":{\"project\":\"https://www.kickstarter.com...   \n",
       "3  {\"web\":{\"project\":\"https://www.kickstarter.com...   \n",
       "4  {\"web\":{\"project\":\"https://www.kickstarter.com...   \n",
       "\n",
       "                                          source_url  \n",
       "0  https://www.kickstarter.com/discover/categorie...  \n",
       "1  https://www.kickstarter.com/discover/categorie...  \n",
       "2  https://www.kickstarter.com/discover/categorie...  \n",
       "3  https://www.kickstarter.com/discover/categorie...  \n",
       "4  https://www.kickstarter.com/discover/categorie...  \n",
       "\n",
       "[5 rows x 27 columns]"
      ]
     },
     "execution_count": 2,
     "metadata": {},
     "output_type": "execute_result"
    }
   ],
   "source": [
    "df = pd.read_csv(r'C:\\Users\\Patrik\\Downloads\\webrobots.iokickstarter-datasets\\Kickstarter_2015-11-01T14_09_04_557Z\\Kickstarter007.csv')\n",
    "df.head()"
   ]
  },
  {
   "cell_type": "code",
   "execution_count": 3,
   "metadata": {},
   "outputs": [
    {
     "data": {
      "text/html": [
       "<div>\n",
       "<style>\n",
       "    .dataframe thead tr:only-child th {\n",
       "        text-align: right;\n",
       "    }\n",
       "\n",
       "    .dataframe thead th {\n",
       "        text-align: left;\n",
       "    }\n",
       "\n",
       "    .dataframe tbody tr th {\n",
       "        vertical-align: top;\n",
       "    }\n",
       "</style>\n",
       "<table border=\"1\" class=\"dataframe\">\n",
       "  <thead>\n",
       "    <tr style=\"text-align: right;\">\n",
       "      <th></th>\n",
       "      <th>id</th>\n",
       "      <th>goal</th>\n",
       "      <th>pledged</th>\n",
       "      <th>deadline</th>\n",
       "      <th>state_changed_at</th>\n",
       "      <th>created_at</th>\n",
       "      <th>launched_at</th>\n",
       "      <th>backers_count</th>\n",
       "      <th>static_usd_rate</th>\n",
       "      <th>usd_pledged</th>\n",
       "    </tr>\n",
       "  </thead>\n",
       "  <tbody>\n",
       "    <tr>\n",
       "      <th>count</th>\n",
       "      <td>4.610000e+03</td>\n",
       "      <td>4.610000e+03</td>\n",
       "      <td>4.610000e+03</td>\n",
       "      <td>4.610000e+03</td>\n",
       "      <td>4.610000e+03</td>\n",
       "      <td>4.610000e+03</td>\n",
       "      <td>4.610000e+03</td>\n",
       "      <td>4610.000000</td>\n",
       "      <td>4610.000000</td>\n",
       "      <td>4.610000e+03</td>\n",
       "    </tr>\n",
       "    <tr>\n",
       "      <th>mean</th>\n",
       "      <td>1.070710e+09</td>\n",
       "      <td>3.613007e+04</td>\n",
       "      <td>3.381214e+04</td>\n",
       "      <td>1.403824e+09</td>\n",
       "      <td>1.403275e+09</td>\n",
       "      <td>1.396709e+09</td>\n",
       "      <td>1.400907e+09</td>\n",
       "      <td>519.428633</td>\n",
       "      <td>1.032326</td>\n",
       "      <td>3.376796e+04</td>\n",
       "    </tr>\n",
       "    <tr>\n",
       "      <th>std</th>\n",
       "      <td>6.086296e+08</td>\n",
       "      <td>5.457090e+05</td>\n",
       "      <td>2.167682e+05</td>\n",
       "      <td>4.627403e+07</td>\n",
       "      <td>4.581133e+07</td>\n",
       "      <td>4.660815e+07</td>\n",
       "      <td>4.648196e+07</td>\n",
       "      <td>2760.109742</td>\n",
       "      <td>0.198005</td>\n",
       "      <td>2.177446e+05</td>\n",
       "    </tr>\n",
       "    <tr>\n",
       "      <th>min</th>\n",
       "      <td>6.230400e+04</td>\n",
       "      <td>1.000000e+00</td>\n",
       "      <td>0.000000e+00</td>\n",
       "      <td>1.244833e+09</td>\n",
       "      <td>1.244833e+09</td>\n",
       "      <td>1.241317e+09</td>\n",
       "      <td>1.241500e+09</td>\n",
       "      <td>0.000000</td>\n",
       "      <td>0.114865</td>\n",
       "      <td>0.000000e+00</td>\n",
       "    </tr>\n",
       "    <tr>\n",
       "      <th>25%</th>\n",
       "      <td>5.438354e+08</td>\n",
       "      <td>2.500000e+03</td>\n",
       "      <td>2.600000e+01</td>\n",
       "      <td>1.384575e+09</td>\n",
       "      <td>1.384575e+09</td>\n",
       "      <td>1.374009e+09</td>\n",
       "      <td>1.381944e+09</td>\n",
       "      <td>2.000000</td>\n",
       "      <td>1.000000</td>\n",
       "      <td>2.739911e+01</td>\n",
       "    </tr>\n",
       "    <tr>\n",
       "      <th>50%</th>\n",
       "      <td>1.084258e+09</td>\n",
       "      <td>6.050000e+03</td>\n",
       "      <td>2.128500e+03</td>\n",
       "      <td>1.418941e+09</td>\n",
       "      <td>1.418914e+09</td>\n",
       "      <td>1.411760e+09</td>\n",
       "      <td>1.416249e+09</td>\n",
       "      <td>45.000000</td>\n",
       "      <td>1.000000</td>\n",
       "      <td>2.162107e+03</td>\n",
       "    </tr>\n",
       "    <tr>\n",
       "      <th>75%</th>\n",
       "      <td>1.574755e+09</td>\n",
       "      <td>1.500000e+04</td>\n",
       "      <td>1.371300e+04</td>\n",
       "      <td>1.438098e+09</td>\n",
       "      <td>1.438087e+09</td>\n",
       "      <td>1.431492e+09</td>\n",
       "      <td>1.435357e+09</td>\n",
       "      <td>249.750000</td>\n",
       "      <td>1.000000</td>\n",
       "      <td>1.383800e+04</td>\n",
       "    </tr>\n",
       "    <tr>\n",
       "      <th>max</th>\n",
       "      <td>2.146878e+09</td>\n",
       "      <td>3.500000e+07</td>\n",
       "      <td>8.596475e+06</td>\n",
       "      <td>1.451499e+09</td>\n",
       "      <td>1.446379e+09</td>\n",
       "      <td>1.446297e+09</td>\n",
       "      <td>1.446379e+09</td>\n",
       "      <td>74405.000000</td>\n",
       "      <td>1.715913</td>\n",
       "      <td>8.596475e+06</td>\n",
       "    </tr>\n",
       "  </tbody>\n",
       "</table>\n",
       "</div>"
      ],
      "text/plain": [
       "                 id          goal       pledged      deadline  \\\n",
       "count  4.610000e+03  4.610000e+03  4.610000e+03  4.610000e+03   \n",
       "mean   1.070710e+09  3.613007e+04  3.381214e+04  1.403824e+09   \n",
       "std    6.086296e+08  5.457090e+05  2.167682e+05  4.627403e+07   \n",
       "min    6.230400e+04  1.000000e+00  0.000000e+00  1.244833e+09   \n",
       "25%    5.438354e+08  2.500000e+03  2.600000e+01  1.384575e+09   \n",
       "50%    1.084258e+09  6.050000e+03  2.128500e+03  1.418941e+09   \n",
       "75%    1.574755e+09  1.500000e+04  1.371300e+04  1.438098e+09   \n",
       "max    2.146878e+09  3.500000e+07  8.596475e+06  1.451499e+09   \n",
       "\n",
       "       state_changed_at    created_at   launched_at  backers_count  \\\n",
       "count      4.610000e+03  4.610000e+03  4.610000e+03    4610.000000   \n",
       "mean       1.403275e+09  1.396709e+09  1.400907e+09     519.428633   \n",
       "std        4.581133e+07  4.660815e+07  4.648196e+07    2760.109742   \n",
       "min        1.244833e+09  1.241317e+09  1.241500e+09       0.000000   \n",
       "25%        1.384575e+09  1.374009e+09  1.381944e+09       2.000000   \n",
       "50%        1.418914e+09  1.411760e+09  1.416249e+09      45.000000   \n",
       "75%        1.438087e+09  1.431492e+09  1.435357e+09     249.750000   \n",
       "max        1.446379e+09  1.446297e+09  1.446379e+09   74405.000000   \n",
       "\n",
       "       static_usd_rate   usd_pledged  \n",
       "count      4610.000000  4.610000e+03  \n",
       "mean          1.032326  3.376796e+04  \n",
       "std           0.198005  2.177446e+05  \n",
       "min           0.114865  0.000000e+00  \n",
       "25%           1.000000  2.739911e+01  \n",
       "50%           1.000000  2.162107e+03  \n",
       "75%           1.000000  1.383800e+04  \n",
       "max           1.715913  8.596475e+06  "
      ]
     },
     "execution_count": 3,
     "metadata": {},
     "output_type": "execute_result"
    }
   ],
   "source": [
    "df.describe()"
   ]
  },
  {
   "cell_type": "code",
   "execution_count": 4,
   "metadata": {},
   "outputs": [
    {
     "data": {
      "text/plain": [
       "successful    2213\n",
       "failed        1554\n",
       "live           757\n",
       "canceled        86\n",
       "Name: state, dtype: int64"
      ]
     },
     "execution_count": 4,
     "metadata": {},
     "output_type": "execute_result"
    }
   ],
   "source": [
    "df['state'].value_counts()"
   ]
  },
  {
   "cell_type": "markdown",
   "metadata": {},
   "source": [
    "## Exploring columns and determining which information could be usefull for our purposes\n",
    "\n",
    "As we can see, some columns contain data in json format. We can use dictionaries and other Python essentials to parse these data.\n",
    "\n",
    "We choose one row to find out what kind of problems we may face and how to deal with them. It is obvious that this method does not guarantee that we came across all kinds of problems, but is sufficient for now."
   ]
  },
  {
   "cell_type": "code",
   "execution_count": 5,
   "metadata": {},
   "outputs": [
    {
     "data": {
      "text/plain": [
       "id                                                               1838469271\n",
       "name                                                             MechRunner\n",
       "blurb                     An endless arcade action game that casts you a...\n",
       "goal                                                                  25000\n",
       "pledged                                                               28434\n",
       "state                                                            successful\n",
       "slug                                                             mechrunner\n",
       "disable_communication                                                 False\n",
       "country                                                                  US\n",
       "currency                                                                USD\n",
       "currency_symbol                                                           $\n",
       "currency_trailing_code                                                 True\n",
       "deadline                                                         1400295600\n",
       "state_changed_at                                                 1400295610\n",
       "created_at                                                       1392914361\n",
       "launched_at                                                      1397415450\n",
       "backers_count                                                           574\n",
       "static_usd_rate                                                           1\n",
       "usd_pledged                                                           28434\n",
       "photo                     {\"small\":\"https://ksr-ugc.imgix.net/projects/8...\n",
       "creator                   {\"urls\":{\"web\":{\"user\":\"https://www.kickstarte...\n",
       "location                  {\"country\":\"US\",\"urls\":{\"web\":{\"discover\":\"htt...\n",
       "category                  {\"urls\":{\"web\":{\"discover\":\"http://www.kicksta...\n",
       "profile                   {\"background_image_opacity\":0.8,\"link_text_col...\n",
       "spotlight                                                              True\n",
       "urls                      {\"web\":{\"project\":\"https://www.kickstarter.com...\n",
       "source_url                https://www.kickstarter.com/discover/categorie...\n",
       "Name: 0, dtype: object"
      ]
     },
     "execution_count": 5,
     "metadata": {},
     "output_type": "execute_result"
    }
   ],
   "source": [
    "row = 0\n",
    "df.loc[row,:]"
   ]
  },
  {
   "cell_type": "code",
   "execution_count": 6,
   "metadata": {},
   "outputs": [
    {
     "data": {
      "text/plain": [
       "'An endless arcade action game that casts you as a powerful mech in stunning cinematic battles against a relentless robotic army.'"
      ]
     },
     "execution_count": 6,
     "metadata": {},
     "output_type": "execute_result"
    }
   ],
   "source": [
    "df.loc[row,'blurb']"
   ]
  },
  {
   "cell_type": "markdown",
   "metadata": {},
   "source": [
    "### photo"
   ]
  },
  {
   "cell_type": "code",
   "execution_count": 7,
   "metadata": {},
   "outputs": [
    {
     "data": {
      "text/plain": [
       "{'1024x768': 'https://ksr-ugc.imgix.net/projects/878320/photo-original.jpg?v=1400295449&w=1024&h=768&fit=crop&auto=format&q=92&s=a5ec63c73668e03ba83058188b5872c1',\n",
       " '1536x1152': 'https://ksr-ugc.imgix.net/projects/878320/photo-original.jpg?v=1400295449&w=1536&h=1152&fit=crop&auto=format&q=92&s=f8fb270a57f4fdef7b092aa065e02b11',\n",
       " 'ed': 'https://ksr-ugc.imgix.net/projects/878320/photo-original.jpg?v=1400295449&w=338&h=250&fit=crop&auto=format&q=92&s=14b860031e30da7f9c55c973f7591b7d',\n",
       " 'full': 'https://ksr-ugc.imgix.net/projects/878320/photo-original.jpg?v=1400295449&w=560&h=420&fit=crop&auto=format&q=92&s=aff53a0945947e5ac54a1d15ab327ecd',\n",
       " 'key': 'projects/878320/photo-original.jpg',\n",
       " 'little': 'https://ksr-ugc.imgix.net/projects/878320/photo-original.jpg?v=1400295449&w=200&h=150&fit=crop&auto=format&q=92&s=3fcc8e7c5afb15235d6af45d16cc2d6c',\n",
       " 'med': 'https://ksr-ugc.imgix.net/projects/878320/photo-original.jpg?v=1400295449&w=266&h=200&fit=crop&auto=format&q=92&s=5527e1ffe1f80592ffaeeab141f6d5a1',\n",
       " 'small': 'https://ksr-ugc.imgix.net/projects/878320/photo-original.jpg?v=1400295449&w=160&h=120&fit=crop&auto=format&q=92&s=8304c2084e5dcaca8a46deecfcd4667e',\n",
       " 'thumb': 'https://ksr-ugc.imgix.net/projects/878320/photo-original.jpg?v=1400295449&w=40&h=30&fit=crop&auto=format&q=92&s=72ef5a6137e43df95a575c40f8d07fa3'}"
      ]
     },
     "execution_count": 7,
     "metadata": {},
     "output_type": "execute_result"
    }
   ],
   "source": [
    "dict_photo = ast.literal_eval(df.loc[row,'photo'])\n",
    "dict_photo"
   ]
  },
  {
   "cell_type": "markdown",
   "metadata": {},
   "source": [
    "#### what may be handy:"
   ]
  },
  {
   "cell_type": "code",
   "execution_count": 8,
   "metadata": {},
   "outputs": [
    {
     "data": {
      "text/plain": [
       "9"
      ]
     },
     "execution_count": 8,
     "metadata": {},
     "output_type": "execute_result"
    }
   ],
   "source": [
    "len(dict_photo)"
   ]
  },
  {
   "cell_type": "markdown",
   "metadata": {},
   "source": [
    "### creator"
   ]
  },
  {
   "cell_type": "code",
   "execution_count": 9,
   "metadata": {},
   "outputs": [
    {
     "data": {
      "text/plain": [
       "{'avatar': {'medium': 'https://ksr-ugc.imgix.net/avatars/1812653/logo.original.jpg?v=1392916085&w=160&h=160&fit=crop&auto=format&q=92&s=e49ad51f2fb80bdb31a249493a54e152',\n",
       "  'small': 'https://ksr-ugc.imgix.net/avatars/1812653/logo.original.jpg?v=1392916085&w=80&h=80&fit=crop&auto=format&q=92&s=bae1a74ca8ffb384fa6f5e316d40cf82',\n",
       "  'thumb': 'https://ksr-ugc.imgix.net/avatars/1812653/logo.original.jpg?v=1392916085&w=40&h=40&fit=crop&auto=format&q=92&s=eabea1abd42568e29cb6dd63c724ac69'},\n",
       " 'id': 375569972,\n",
       " 'name': 'Spark Plug Games',\n",
       " 'slug': 'sparkpluggames',\n",
       " 'urls': {'api': {'user': 'https://api.kickstarter.com/v1/users/375569972?signature=1446477215.36602b5966bc0fdb16f5f8708e7c1cfbb91afffc'},\n",
       "  'web': {'user': 'https://www.kickstarter.com/profile/sparkpluggames'}}}"
      ]
     },
     "execution_count": 9,
     "metadata": {},
     "output_type": "execute_result"
    }
   ],
   "source": [
    "dict_creator = ast.literal_eval(df.loc[row,'creator'])\n",
    "dict_creator"
   ]
  },
  {
   "cell_type": "markdown",
   "metadata": {},
   "source": [
    "#### what may be handy:"
   ]
  },
  {
   "cell_type": "code",
   "execution_count": 10,
   "metadata": {},
   "outputs": [
    {
     "data": {
      "text/plain": [
       "'https://www.kickstarter.com/profile/sparkpluggames'"
      ]
     },
     "execution_count": 10,
     "metadata": {},
     "output_type": "execute_result"
    }
   ],
   "source": [
    "dict_creator['urls']['web']['user']"
   ]
  },
  {
   "cell_type": "markdown",
   "metadata": {},
   "source": [
    "### location"
   ]
  },
  {
   "cell_type": "code",
   "execution_count": 11,
   "metadata": {},
   "outputs": [
    {
     "ename": "ValueError",
     "evalue": "malformed node or string: <_ast.Name object at 0x000002DB3C4B1208>",
     "output_type": "error",
     "traceback": [
      "\u001b[1;31m---------------------------------------------------------------------------\u001b[0m",
      "\u001b[1;31mValueError\u001b[0m                                Traceback (most recent call last)",
      "\u001b[1;32m<ipython-input-11-bce2c7b0718c>\u001b[0m in \u001b[0;36m<module>\u001b[1;34m()\u001b[0m\n\u001b[1;32m----> 1\u001b[1;33m \u001b[0mdict_location\u001b[0m \u001b[1;33m=\u001b[0m \u001b[0mast\u001b[0m\u001b[1;33m.\u001b[0m\u001b[0mliteral_eval\u001b[0m\u001b[1;33m(\u001b[0m\u001b[0mdf\u001b[0m\u001b[1;33m.\u001b[0m\u001b[0mloc\u001b[0m\u001b[1;33m[\u001b[0m\u001b[0mrow\u001b[0m\u001b[1;33m,\u001b[0m\u001b[1;34m'location'\u001b[0m\u001b[1;33m]\u001b[0m\u001b[1;33m)\u001b[0m\u001b[1;33m\u001b[0m\u001b[0m\n\u001b[0m\u001b[0;32m      2\u001b[0m \u001b[0mdict_location\u001b[0m\u001b[1;33m\u001b[0m\u001b[0m\n",
      "\u001b[1;32mC:\\Users\\Patrik\\Anaconda3\\lib\\ast.py\u001b[0m in \u001b[0;36mliteral_eval\u001b[1;34m(node_or_string)\u001b[0m\n\u001b[0;32m     83\u001b[0m                     \u001b[1;32mreturn\u001b[0m \u001b[0mleft\u001b[0m \u001b[1;33m-\u001b[0m \u001b[0mright\u001b[0m\u001b[1;33m\u001b[0m\u001b[0m\n\u001b[0;32m     84\u001b[0m         \u001b[1;32mraise\u001b[0m \u001b[0mValueError\u001b[0m\u001b[1;33m(\u001b[0m\u001b[1;34m'malformed node or string: '\u001b[0m \u001b[1;33m+\u001b[0m \u001b[0mrepr\u001b[0m\u001b[1;33m(\u001b[0m\u001b[0mnode\u001b[0m\u001b[1;33m)\u001b[0m\u001b[1;33m)\u001b[0m\u001b[1;33m\u001b[0m\u001b[0m\n\u001b[1;32m---> 85\u001b[1;33m     \u001b[1;32mreturn\u001b[0m \u001b[0m_convert\u001b[0m\u001b[1;33m(\u001b[0m\u001b[0mnode_or_string\u001b[0m\u001b[1;33m)\u001b[0m\u001b[1;33m\u001b[0m\u001b[0m\n\u001b[0m\u001b[0;32m     86\u001b[0m \u001b[1;33m\u001b[0m\u001b[0m\n\u001b[0;32m     87\u001b[0m \u001b[1;33m\u001b[0m\u001b[0m\n",
      "\u001b[1;32mC:\\Users\\Patrik\\Anaconda3\\lib\\ast.py\u001b[0m in \u001b[0;36m_convert\u001b[1;34m(node)\u001b[0m\n\u001b[0;32m     64\u001b[0m         \u001b[1;32melif\u001b[0m \u001b[0misinstance\u001b[0m\u001b[1;33m(\u001b[0m\u001b[0mnode\u001b[0m\u001b[1;33m,\u001b[0m \u001b[0mDict\u001b[0m\u001b[1;33m)\u001b[0m\u001b[1;33m:\u001b[0m\u001b[1;33m\u001b[0m\u001b[0m\n\u001b[0;32m     65\u001b[0m             return dict((_convert(k), _convert(v)) for k, v\n\u001b[1;32m---> 66\u001b[1;33m                         in zip(node.keys, node.values))\n\u001b[0m\u001b[0;32m     67\u001b[0m         \u001b[1;32melif\u001b[0m \u001b[0misinstance\u001b[0m\u001b[1;33m(\u001b[0m\u001b[0mnode\u001b[0m\u001b[1;33m,\u001b[0m \u001b[0mNameConstant\u001b[0m\u001b[1;33m)\u001b[0m\u001b[1;33m:\u001b[0m\u001b[1;33m\u001b[0m\u001b[0m\n\u001b[0;32m     68\u001b[0m             \u001b[1;32mreturn\u001b[0m \u001b[0mnode\u001b[0m\u001b[1;33m.\u001b[0m\u001b[0mvalue\u001b[0m\u001b[1;33m\u001b[0m\u001b[0m\n",
      "\u001b[1;32mC:\\Users\\Patrik\\Anaconda3\\lib\\ast.py\u001b[0m in \u001b[0;36m<genexpr>\u001b[1;34m(.0)\u001b[0m\n\u001b[0;32m     63\u001b[0m             \u001b[1;32mreturn\u001b[0m \u001b[0mset\u001b[0m\u001b[1;33m(\u001b[0m\u001b[0mmap\u001b[0m\u001b[1;33m(\u001b[0m\u001b[0m_convert\u001b[0m\u001b[1;33m,\u001b[0m \u001b[0mnode\u001b[0m\u001b[1;33m.\u001b[0m\u001b[0melts\u001b[0m\u001b[1;33m)\u001b[0m\u001b[1;33m)\u001b[0m\u001b[1;33m\u001b[0m\u001b[0m\n\u001b[0;32m     64\u001b[0m         \u001b[1;32melif\u001b[0m \u001b[0misinstance\u001b[0m\u001b[1;33m(\u001b[0m\u001b[0mnode\u001b[0m\u001b[1;33m,\u001b[0m \u001b[0mDict\u001b[0m\u001b[1;33m)\u001b[0m\u001b[1;33m:\u001b[0m\u001b[1;33m\u001b[0m\u001b[0m\n\u001b[1;32m---> 65\u001b[1;33m             return dict((_convert(k), _convert(v)) for k, v\n\u001b[0m\u001b[0;32m     66\u001b[0m                         in zip(node.keys, node.values))\n\u001b[0;32m     67\u001b[0m         \u001b[1;32melif\u001b[0m \u001b[0misinstance\u001b[0m\u001b[1;33m(\u001b[0m\u001b[0mnode\u001b[0m\u001b[1;33m,\u001b[0m \u001b[0mNameConstant\u001b[0m\u001b[1;33m)\u001b[0m\u001b[1;33m:\u001b[0m\u001b[1;33m\u001b[0m\u001b[0m\n",
      "\u001b[1;32mC:\\Users\\Patrik\\Anaconda3\\lib\\ast.py\u001b[0m in \u001b[0;36m_convert\u001b[1;34m(node)\u001b[0m\n\u001b[0;32m     82\u001b[0m                 \u001b[1;32melse\u001b[0m\u001b[1;33m:\u001b[0m\u001b[1;33m\u001b[0m\u001b[0m\n\u001b[0;32m     83\u001b[0m                     \u001b[1;32mreturn\u001b[0m \u001b[0mleft\u001b[0m \u001b[1;33m-\u001b[0m \u001b[0mright\u001b[0m\u001b[1;33m\u001b[0m\u001b[0m\n\u001b[1;32m---> 84\u001b[1;33m         \u001b[1;32mraise\u001b[0m \u001b[0mValueError\u001b[0m\u001b[1;33m(\u001b[0m\u001b[1;34m'malformed node or string: '\u001b[0m \u001b[1;33m+\u001b[0m \u001b[0mrepr\u001b[0m\u001b[1;33m(\u001b[0m\u001b[0mnode\u001b[0m\u001b[1;33m)\u001b[0m\u001b[1;33m)\u001b[0m\u001b[1;33m\u001b[0m\u001b[0m\n\u001b[0m\u001b[0;32m     85\u001b[0m     \u001b[1;32mreturn\u001b[0m \u001b[0m_convert\u001b[0m\u001b[1;33m(\u001b[0m\u001b[0mnode_or_string\u001b[0m\u001b[1;33m)\u001b[0m\u001b[1;33m\u001b[0m\u001b[0m\n\u001b[0;32m     86\u001b[0m \u001b[1;33m\u001b[0m\u001b[0m\n",
      "\u001b[1;31mValueError\u001b[0m: malformed node or string: <_ast.Name object at 0x000002DB3C4B1208>"
     ]
    }
   ],
   "source": [
    "dict_location = ast.literal_eval(df.loc[row,'location'])\n",
    "dict_location"
   ]
  },
  {
   "cell_type": "code",
   "execution_count": 12,
   "metadata": {},
   "outputs": [
    {
     "data": {
      "text/plain": [
       "'{\"country\":\"US\",\"urls\":{\"web\":{\"discover\":\"https://www.kickstarter.com/discover/places/cary-nc\",\"location\":\"https://www.kickstarter.com/locations/cary-nc\"},\"api\":{\"nearby_projects\":\"https://api.kickstarter.com/v1/discover?signature=1446458433.d4e6ccc44854b2a0d5581b5b69ea425bbc2ccf4e&woe_id=2375810\"}},\"name\":\"Cary\",\"displayable_name\":\"Cary, NC\",\"short_name\":\"Cary, NC\",\"id\":2375810,\"state\":\"NC\",\"type\":\"Town\",\"is_root\":false,\"slug\":\"cary-nc\"}'"
      ]
     },
     "execution_count": 12,
     "metadata": {},
     "output_type": "execute_result"
    }
   ],
   "source": [
    "# let's find out what caused ValueError\n",
    "df.loc[row,'location']"
   ]
  },
  {
   "cell_type": "code",
   "execution_count": 13,
   "metadata": {},
   "outputs": [
    {
     "data": {
      "text/plain": [
       "'{\"country\":\"US\",\"urls\":{\"web\":{\"discover\":\"https://www.kickstarter.com/discover/places/cary-nc\",\"location\":\"https://www.kickstarter.com/locations/cary-nc\"},\"api\":{\"nearby_projects\":\"https://api.kickstarter.com/v1/discover?signature=1446458433.d4e6ccc44854b2a0d5581b5b69ea425bbc2ccf4e&woe_id=2375810\"}},\"name\":\"Cary\",\"displayable_name\":\"Cary, NC\",\"short_name\":\"Cary, NC\",\"id\":2375810,\"state\":\"NC\",\"type\":\"Town\",\"is_root\":False,\"slug\":\"cary-nc\"}'"
      ]
     },
     "execution_count": 13,
     "metadata": {},
     "output_type": "execute_result"
    }
   ],
   "source": [
    "# \"is_root\":false - in Python false is unknown term, let's convert it to False\n",
    "df.loc[row,'location'].replace('false', 'False')"
   ]
  },
  {
   "cell_type": "code",
   "execution_count": 14,
   "metadata": {},
   "outputs": [
    {
     "data": {
      "text/plain": [
       "{'country': 'US',\n",
       " 'displayable_name': 'Cary, NC',\n",
       " 'id': 2375810,\n",
       " 'is_root': False,\n",
       " 'name': 'Cary',\n",
       " 'short_name': 'Cary, NC',\n",
       " 'slug': 'cary-nc',\n",
       " 'state': 'NC',\n",
       " 'type': 'Town',\n",
       " 'urls': {'api': {'nearby_projects': 'https://api.kickstarter.com/v1/discover?signature=1446458433.d4e6ccc44854b2a0d5581b5b69ea425bbc2ccf4e&woe_id=2375810'},\n",
       "  'web': {'discover': 'https://www.kickstarter.com/discover/places/cary-nc',\n",
       "   'location': 'https://www.kickstarter.com/locations/cary-nc'}}}"
      ]
     },
     "execution_count": 14,
     "metadata": {},
     "output_type": "execute_result"
    }
   ],
   "source": [
    "dict_location = ast.literal_eval(df.loc[row,'location'].replace('true', 'True').replace('false', 'False'))\n",
    "dict_location"
   ]
  },
  {
   "cell_type": "markdown",
   "metadata": {},
   "source": [
    "#### what may be handy:"
   ]
  },
  {
   "cell_type": "code",
   "execution_count": 15,
   "metadata": {},
   "outputs": [
    {
     "data": {
      "text/plain": [
       "False"
      ]
     },
     "execution_count": 15,
     "metadata": {},
     "output_type": "execute_result"
    }
   ],
   "source": [
    "dict_location['is_root']"
   ]
  },
  {
   "cell_type": "code",
   "execution_count": 16,
   "metadata": {},
   "outputs": [
    {
     "data": {
      "text/plain": [
       "'Cary'"
      ]
     },
     "execution_count": 16,
     "metadata": {},
     "output_type": "execute_result"
    }
   ],
   "source": [
    "dict_location['name']"
   ]
  },
  {
   "cell_type": "code",
   "execution_count": 17,
   "metadata": {},
   "outputs": [
    {
     "data": {
      "text/plain": [
       "'NC'"
      ]
     },
     "execution_count": 17,
     "metadata": {},
     "output_type": "execute_result"
    }
   ],
   "source": [
    "dict_location['state']"
   ]
  },
  {
   "cell_type": "code",
   "execution_count": 18,
   "metadata": {},
   "outputs": [
    {
     "data": {
      "text/plain": [
       "'Town'"
      ]
     },
     "execution_count": 18,
     "metadata": {},
     "output_type": "execute_result"
    }
   ],
   "source": [
    "dict_location['type']"
   ]
  },
  {
   "cell_type": "code",
   "execution_count": 19,
   "metadata": {},
   "outputs": [
    {
     "data": {
      "text/plain": [
       "'https://www.kickstarter.com/discover/places/cary-nc'"
      ]
     },
     "execution_count": 19,
     "metadata": {},
     "output_type": "execute_result"
    }
   ],
   "source": [
    "dict_location['urls']['web']['discover']"
   ]
  },
  {
   "cell_type": "markdown",
   "metadata": {},
   "source": [
    "### category"
   ]
  },
  {
   "cell_type": "code",
   "execution_count": 20,
   "metadata": {},
   "outputs": [
    {
     "data": {
      "text/plain": [
       "{'color': 51627,\n",
       " 'id': 35,\n",
       " 'name': 'Video Games',\n",
       " 'parent_id': 12,\n",
       " 'position': 7,\n",
       " 'slug': 'games/video games',\n",
       " 'urls': {'web': {'discover': 'http://www.kickstarter.com/discover/categories/games/video%20games'}}}"
      ]
     },
     "execution_count": 20,
     "metadata": {},
     "output_type": "execute_result"
    }
   ],
   "source": [
    "dict_category = ast.literal_eval(df.loc[row,'category'])\n",
    "dict_category"
   ]
  },
  {
   "cell_type": "markdown",
   "metadata": {},
   "source": [
    "#### what may be handy:"
   ]
  },
  {
   "cell_type": "code",
   "execution_count": 21,
   "metadata": {},
   "outputs": [
    {
     "data": {
      "text/plain": [
       "35"
      ]
     },
     "execution_count": 21,
     "metadata": {},
     "output_type": "execute_result"
    }
   ],
   "source": [
    "dict_category['id']"
   ]
  },
  {
   "cell_type": "code",
   "execution_count": 22,
   "metadata": {},
   "outputs": [
    {
     "data": {
      "text/plain": [
       "'Video Games'"
      ]
     },
     "execution_count": 22,
     "metadata": {},
     "output_type": "execute_result"
    }
   ],
   "source": [
    "dict_category['name']"
   ]
  },
  {
   "cell_type": "code",
   "execution_count": 23,
   "metadata": {},
   "outputs": [
    {
     "data": {
      "text/plain": [
       "12"
      ]
     },
     "execution_count": 23,
     "metadata": {},
     "output_type": "execute_result"
    }
   ],
   "source": [
    "dict_category['parent_id']"
   ]
  },
  {
   "cell_type": "code",
   "execution_count": 24,
   "metadata": {},
   "outputs": [
    {
     "data": {
      "text/plain": [
       "7"
      ]
     },
     "execution_count": 24,
     "metadata": {},
     "output_type": "execute_result"
    }
   ],
   "source": [
    "dict_category['position']"
   ]
  },
  {
   "cell_type": "code",
   "execution_count": 25,
   "metadata": {},
   "outputs": [
    {
     "data": {
      "text/plain": [
       "'games'"
      ]
     },
     "execution_count": 25,
     "metadata": {},
     "output_type": "execute_result"
    }
   ],
   "source": [
    "dict_category['slug'].split('/')[0]"
   ]
  },
  {
   "cell_type": "markdown",
   "metadata": {},
   "source": [
    "### profile"
   ]
  },
  {
   "cell_type": "code",
   "execution_count": 26,
   "metadata": {},
   "outputs": [
    {
     "ename": "ValueError",
     "evalue": "malformed node or string: <_ast.Name object at 0x000002DB3C5246D8>",
     "output_type": "error",
     "traceback": [
      "\u001b[1;31m---------------------------------------------------------------------------\u001b[0m",
      "\u001b[1;31mValueError\u001b[0m                                Traceback (most recent call last)",
      "\u001b[1;32m<ipython-input-26-08e2f6e4955c>\u001b[0m in \u001b[0;36m<module>\u001b[1;34m()\u001b[0m\n\u001b[1;32m----> 1\u001b[1;33m \u001b[0mdict_profile\u001b[0m \u001b[1;33m=\u001b[0m \u001b[0mast\u001b[0m\u001b[1;33m.\u001b[0m\u001b[0mliteral_eval\u001b[0m\u001b[1;33m(\u001b[0m\u001b[0mdf\u001b[0m\u001b[1;33m.\u001b[0m\u001b[0mloc\u001b[0m\u001b[1;33m[\u001b[0m\u001b[0mrow\u001b[0m\u001b[1;33m,\u001b[0m\u001b[1;34m'profile'\u001b[0m\u001b[1;33m]\u001b[0m\u001b[1;33m)\u001b[0m\u001b[1;33m\u001b[0m\u001b[0m\n\u001b[0m\u001b[0;32m      2\u001b[0m \u001b[0mdict_profile\u001b[0m\u001b[1;33m\u001b[0m\u001b[0m\n",
      "\u001b[1;32mC:\\Users\\Patrik\\Anaconda3\\lib\\ast.py\u001b[0m in \u001b[0;36mliteral_eval\u001b[1;34m(node_or_string)\u001b[0m\n\u001b[0;32m     83\u001b[0m                     \u001b[1;32mreturn\u001b[0m \u001b[0mleft\u001b[0m \u001b[1;33m-\u001b[0m \u001b[0mright\u001b[0m\u001b[1;33m\u001b[0m\u001b[0m\n\u001b[0;32m     84\u001b[0m         \u001b[1;32mraise\u001b[0m \u001b[0mValueError\u001b[0m\u001b[1;33m(\u001b[0m\u001b[1;34m'malformed node or string: '\u001b[0m \u001b[1;33m+\u001b[0m \u001b[0mrepr\u001b[0m\u001b[1;33m(\u001b[0m\u001b[0mnode\u001b[0m\u001b[1;33m)\u001b[0m\u001b[1;33m)\u001b[0m\u001b[1;33m\u001b[0m\u001b[0m\n\u001b[1;32m---> 85\u001b[1;33m     \u001b[1;32mreturn\u001b[0m \u001b[0m_convert\u001b[0m\u001b[1;33m(\u001b[0m\u001b[0mnode_or_string\u001b[0m\u001b[1;33m)\u001b[0m\u001b[1;33m\u001b[0m\u001b[0m\n\u001b[0m\u001b[0;32m     86\u001b[0m \u001b[1;33m\u001b[0m\u001b[0m\n\u001b[0;32m     87\u001b[0m \u001b[1;33m\u001b[0m\u001b[0m\n",
      "\u001b[1;32mC:\\Users\\Patrik\\Anaconda3\\lib\\ast.py\u001b[0m in \u001b[0;36m_convert\u001b[1;34m(node)\u001b[0m\n\u001b[0;32m     64\u001b[0m         \u001b[1;32melif\u001b[0m \u001b[0misinstance\u001b[0m\u001b[1;33m(\u001b[0m\u001b[0mnode\u001b[0m\u001b[1;33m,\u001b[0m \u001b[0mDict\u001b[0m\u001b[1;33m)\u001b[0m\u001b[1;33m:\u001b[0m\u001b[1;33m\u001b[0m\u001b[0m\n\u001b[0;32m     65\u001b[0m             return dict((_convert(k), _convert(v)) for k, v\n\u001b[1;32m---> 66\u001b[1;33m                         in zip(node.keys, node.values))\n\u001b[0m\u001b[0;32m     67\u001b[0m         \u001b[1;32melif\u001b[0m \u001b[0misinstance\u001b[0m\u001b[1;33m(\u001b[0m\u001b[0mnode\u001b[0m\u001b[1;33m,\u001b[0m \u001b[0mNameConstant\u001b[0m\u001b[1;33m)\u001b[0m\u001b[1;33m:\u001b[0m\u001b[1;33m\u001b[0m\u001b[0m\n\u001b[0;32m     68\u001b[0m             \u001b[1;32mreturn\u001b[0m \u001b[0mnode\u001b[0m\u001b[1;33m.\u001b[0m\u001b[0mvalue\u001b[0m\u001b[1;33m\u001b[0m\u001b[0m\n",
      "\u001b[1;32mC:\\Users\\Patrik\\Anaconda3\\lib\\ast.py\u001b[0m in \u001b[0;36m<genexpr>\u001b[1;34m(.0)\u001b[0m\n\u001b[0;32m     63\u001b[0m             \u001b[1;32mreturn\u001b[0m \u001b[0mset\u001b[0m\u001b[1;33m(\u001b[0m\u001b[0mmap\u001b[0m\u001b[1;33m(\u001b[0m\u001b[0m_convert\u001b[0m\u001b[1;33m,\u001b[0m \u001b[0mnode\u001b[0m\u001b[1;33m.\u001b[0m\u001b[0melts\u001b[0m\u001b[1;33m)\u001b[0m\u001b[1;33m)\u001b[0m\u001b[1;33m\u001b[0m\u001b[0m\n\u001b[0;32m     64\u001b[0m         \u001b[1;32melif\u001b[0m \u001b[0misinstance\u001b[0m\u001b[1;33m(\u001b[0m\u001b[0mnode\u001b[0m\u001b[1;33m,\u001b[0m \u001b[0mDict\u001b[0m\u001b[1;33m)\u001b[0m\u001b[1;33m:\u001b[0m\u001b[1;33m\u001b[0m\u001b[0m\n\u001b[1;32m---> 65\u001b[1;33m             return dict((_convert(k), _convert(v)) for k, v\n\u001b[0m\u001b[0;32m     66\u001b[0m                         in zip(node.keys, node.values))\n\u001b[0;32m     67\u001b[0m         \u001b[1;32melif\u001b[0m \u001b[0misinstance\u001b[0m\u001b[1;33m(\u001b[0m\u001b[0mnode\u001b[0m\u001b[1;33m,\u001b[0m \u001b[0mNameConstant\u001b[0m\u001b[1;33m)\u001b[0m\u001b[1;33m:\u001b[0m\u001b[1;33m\u001b[0m\u001b[0m\n",
      "\u001b[1;32mC:\\Users\\Patrik\\Anaconda3\\lib\\ast.py\u001b[0m in \u001b[0;36m_convert\u001b[1;34m(node)\u001b[0m\n\u001b[0;32m     82\u001b[0m                 \u001b[1;32melse\u001b[0m\u001b[1;33m:\u001b[0m\u001b[1;33m\u001b[0m\u001b[0m\n\u001b[0;32m     83\u001b[0m                     \u001b[1;32mreturn\u001b[0m \u001b[0mleft\u001b[0m \u001b[1;33m-\u001b[0m \u001b[0mright\u001b[0m\u001b[1;33m\u001b[0m\u001b[0m\n\u001b[1;32m---> 84\u001b[1;33m         \u001b[1;32mraise\u001b[0m \u001b[0mValueError\u001b[0m\u001b[1;33m(\u001b[0m\u001b[1;34m'malformed node or string: '\u001b[0m \u001b[1;33m+\u001b[0m \u001b[0mrepr\u001b[0m\u001b[1;33m(\u001b[0m\u001b[0mnode\u001b[0m\u001b[1;33m)\u001b[0m\u001b[1;33m)\u001b[0m\u001b[1;33m\u001b[0m\u001b[0m\n\u001b[0m\u001b[0;32m     85\u001b[0m     \u001b[1;32mreturn\u001b[0m \u001b[0m_convert\u001b[0m\u001b[1;33m(\u001b[0m\u001b[0mnode_or_string\u001b[0m\u001b[1;33m)\u001b[0m\u001b[1;33m\u001b[0m\u001b[0m\n\u001b[0;32m     86\u001b[0m \u001b[1;33m\u001b[0m\u001b[0m\n",
      "\u001b[1;31mValueError\u001b[0m: malformed node or string: <_ast.Name object at 0x000002DB3C5246D8>"
     ]
    }
   ],
   "source": [
    "dict_profile = ast.literal_eval(df.loc[row,'profile'])\n",
    "dict_profile"
   ]
  },
  {
   "cell_type": "code",
   "execution_count": 27,
   "metadata": {},
   "outputs": [
    {
     "data": {
      "text/plain": [
       "'{\"background_image_opacity\":0.8,\"link_text_color\":\"\",\"state_changed_at\":1427207526,\"should_show_feature_image\":true,\"blurb\":\"An endless arcade action game that casts you as a powerful mech in stunning cinematic battles against a relentless robotic army.\",\"background_color\":\"191d1d\",\"project_id\":898572,\"name\":\"MechRunner\",\"feature_image_attributes\":{\"image_urls\":{\"default\":\"https://ksr-ugc.imgix.net/projects/878320/photo-original.jpg?v=1400295449&w=1536&h=1152&fit=crop&auto=format&q=92&s=f8fb270a57f4fdef7b092aa065e02b11\",\"baseball_card\":\"https://ksr-ugc.imgix.net/projects/878320/photo-original.jpg?v=1400295449&w=1536&h=1152&fit=crop&auto=format&q=92&s=f8fb270a57f4fdef7b092aa065e02b11\"}},\"link_url\":\"\",\"show_feature_image\":false,\"id\":898572,\"state\":\"active\",\"text_color\":\"ffffff\",\"link_text\":\"Follow along!\",\"link_background_color\":\"\"}'"
      ]
     },
     "execution_count": 27,
     "metadata": {},
     "output_type": "execute_result"
    }
   ],
   "source": [
    "# let's find out what caused ValueError\n",
    "df.loc[row,'profile']"
   ]
  },
  {
   "cell_type": "code",
   "execution_count": 28,
   "metadata": {},
   "outputs": [
    {
     "data": {
      "text/plain": [
       "{'background_color': '191d1d',\n",
       " 'background_image_opacity': 0.8,\n",
       " 'blurb': 'An endless arcade action game that casts you as a powerful mech in stunning cinematic battles against a relentless robotic army.',\n",
       " 'feature_image_attributes': {'image_urls': {'baseball_card': 'https://ksr-ugc.imgix.net/projects/878320/photo-original.jpg?v=1400295449&w=1536&h=1152&fit=crop&auto=format&q=92&s=f8fb270a57f4fdef7b092aa065e02b11',\n",
       "   'default': 'https://ksr-ugc.imgix.net/projects/878320/photo-original.jpg?v=1400295449&w=1536&h=1152&fit=crop&auto=format&q=92&s=f8fb270a57f4fdef7b092aa065e02b11'}},\n",
       " 'id': 898572,\n",
       " 'link_background_color': '',\n",
       " 'link_text': 'Follow along!',\n",
       " 'link_text_color': '',\n",
       " 'link_url': '',\n",
       " 'name': 'MechRunner',\n",
       " 'project_id': 898572,\n",
       " 'should_show_feature_image': True,\n",
       " 'show_feature_image': False,\n",
       " 'state': 'active',\n",
       " 'state_changed_at': 1427207526,\n",
       " 'text_color': 'ffffff'}"
      ]
     },
     "execution_count": 28,
     "metadata": {},
     "output_type": "execute_result"
    }
   ],
   "source": [
    "# there are problems with boolean values again and null also causes problem\n",
    "# however, it looks like we already have important information from this column contained in other columns\n",
    "dict_profile = ast.literal_eval(df.loc[row,'profile'].replace('true', 'True').replace('false', 'False').replace('null', 'None'))\n",
    "dict_profile"
   ]
  },
  {
   "cell_type": "markdown",
   "metadata": {},
   "source": [
    "### urls"
   ]
  },
  {
   "cell_type": "code",
   "execution_count": 29,
   "metadata": {},
   "outputs": [
    {
     "data": {
      "text/plain": [
       "{'web': {'project': 'https://www.kickstarter.com/projects/sparkpluggames/mechrunner?ref=category',\n",
       "  'rewards': 'https://www.kickstarter.com/projects/sparkpluggames/mechrunner/rewards'}}"
      ]
     },
     "execution_count": 29,
     "metadata": {},
     "output_type": "execute_result"
    }
   ],
   "source": [
    "dict_urls = ast.literal_eval(df.loc[row,'urls'])\n",
    "dict_urls"
   ]
  },
  {
   "cell_type": "markdown",
   "metadata": {},
   "source": [
    "#### what may be handy:"
   ]
  },
  {
   "cell_type": "code",
   "execution_count": 30,
   "metadata": {},
   "outputs": [
    {
     "data": {
      "text/plain": [
       "'https://www.kickstarter.com/projects/sparkpluggames/mechrunner/rewards'"
      ]
     },
     "execution_count": 30,
     "metadata": {},
     "output_type": "execute_result"
    }
   ],
   "source": [
    "dict_urls['web']['rewards']"
   ]
  },
  {
   "cell_type": "markdown",
   "metadata": {},
   "source": [
    "## What next\n",
    "\n",
    "* data integration:\n",
    "    * read all csv files and store information about all live projects\n",
    "    * fetch information about end state (success/failure) for every live project"
   ]
  }
 ],
 "metadata": {
  "kernelspec": {
   "display_name": "Python 3",
   "language": "python",
   "name": "python3"
  },
  "language_info": {
   "codemirror_mode": {
    "name": "ipython",
    "version": 3
   },
   "file_extension": ".py",
   "mimetype": "text/x-python",
   "name": "python",
   "nbconvert_exporter": "python",
   "pygments_lexer": "ipython3",
   "version": "3.6.1"
  }
 },
 "nbformat": 4,
 "nbformat_minor": 2
}
